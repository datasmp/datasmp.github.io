{
 "cells": [
  {
   "cell_type": "markdown",
   "id": "d8712b3b-783d-4fee-b9d9-65c3178feb7f",
   "metadata": {},
   "source": [
    "# Chp-12: Numpy Arrays\n"
   ]
  },
  {
   "cell_type": "markdown",
   "id": "eec2d5d7-c471-4bdf-a249-07b04e90c4bd",
   "metadata": {},
   "source": [
    "![](title_pict/numpy_arrays.png)"
   ]
  },
  {
   "cell_type": "markdown",
   "id": "99613960-9e19-4c79-8111-de003e3af246",
   "metadata": {},
   "source": [
    "## Motivation\n",
    "Let's attempt to multiply each element of a list by 10.\n",
    "- The `*` operator repeats the list elements.\n",
    "- If we use the `*` operator on a list, instead of multiplying each element by 10, it replicates the initial list 10 times, as shown in the following code:"
   ]
  },
  {
   "cell_type": "code",
   "execution_count": 9,
   "id": "92fcee7e-32ea-4b90-a36b-bccca488986c",
   "metadata": {},
   "outputs": [
    {
     "name": "stdout",
     "output_type": "stream",
     "text": [
      "[1, 2, 3, 1, 2, 3, 1, 2, 3, 1, 2, 3, 1, 2, 3, 1, 2, 3, 1, 2, 3, 1, 2, 3, 1, 2, 3, 1, 2, 3]\n"
     ]
    }
   ],
   "source": [
    "list1 = [1,2,3]\n",
    "print(list1*10)"
   ]
  },
  {
   "cell_type": "markdown",
   "id": "c93c7903-0689-481f-8ff9-f03398b0e181",
   "metadata": {},
   "source": [
    "- We can multiply each element of a list using list comprehensions."
   ]
  },
  {
   "cell_type": "code",
   "execution_count": 10,
   "id": "8e997cd3-fbfe-404a-95eb-49e1ce4c9e8e",
   "metadata": {},
   "outputs": [
    {
     "name": "stdout",
     "output_type": "stream",
     "text": [
      "[10, 20, 30]\n"
     ]
    }
   ],
   "source": [
    "new_list = [i*10 for i in list1]\n",
    "print(new_list)"
   ]
  },
  {
   "cell_type": "markdown",
   "id": "a7da7591-eaa6-49b1-b4f9-c45599b85288",
   "metadata": {},
   "source": [
    "- However, it's quite common to multiply each element of a sequence by a fixed number, and there should be a more efficient way to accomplish this.\n",
    "- NumPy arrays interpret the `*` operator as multiplication, not repetition."
   ]
  },
  {
   "cell_type": "code",
   "execution_count": 13,
   "id": "2c3138b9-2604-4710-ab0d-7d2913775eda",
   "metadata": {},
   "outputs": [
    {
     "name": "stdout",
     "output_type": "stream",
     "text": [
      "[1 2 3]\n"
     ]
    }
   ],
   "source": [
    "import numpy as np\n",
    "array1 = np.array([1,2,3])\n",
    "print(array1)"
   ]
  },
  {
   "cell_type": "code",
   "execution_count": 14,
   "id": "172d0943-0815-4162-9c38-4bc7745ba128",
   "metadata": {},
   "outputs": [
    {
     "name": "stdout",
     "output_type": "stream",
     "text": [
      "[10 20 30]\n"
     ]
    }
   ],
   "source": [
    "print(array1*10)"
   ]
  },
  {
   "cell_type": "markdown",
   "id": "ab6d5797-1fa5-4e84-8003-517518dd99af",
   "metadata": {},
   "source": [
    "There's a similar situation with the + operator.\n",
    "- For lists, + concatenates elements, whereas for NumPy arrays, it performs componentwise addition."
   ]
  },
  {
   "cell_type": "code",
   "execution_count": 15,
   "id": "50196119-9eef-4662-82ae-6be19209e060",
   "metadata": {},
   "outputs": [
    {
     "name": "stdout",
     "output_type": "stream",
     "text": [
      "[1, 2, 3, 4, 5, 6]\n"
     ]
    }
   ],
   "source": [
    "list1 = [1,2,3]\n",
    "list2 = [4,5,6]\n",
    "print(list1+list2)"
   ]
  },
  {
   "cell_type": "code",
   "execution_count": 16,
   "id": "c3f2810f-f8e5-46a5-b67b-71bf2ab65574",
   "metadata": {},
   "outputs": [
    {
     "name": "stdout",
     "output_type": "stream",
     "text": [
      "[5 7 9]\n"
     ]
    }
   ],
   "source": [
    "array1 = np.array([1,2,3])\n",
    "array2 = np.array([4,5,6])\n",
    "print(array1+array2)"
   ]
  },
  {
   "cell_type": "markdown",
   "id": "23fa4810-4092-43bd-9b6e-d34ed899cdef",
   "metadata": {},
   "source": [
    "![](pict/logo_numpy.jpeg)"
   ]
  },
  {
   "cell_type": "markdown",
   "id": "e828f60b-be5b-4b1e-9579-f90367a5c35e",
   "metadata": {},
   "source": [
    "## Numpy \n",
    "[Numpy](https://numpy.org/) is the foundational package for scientific computing in Python.\n",
    "- Numpy's primary data structure is arrays.\n",
    "    - Arrays are known for their speed and versatility.\n",
    "    - They enable vectorized operations.\n",
    "    - Indexing facilitates accessing values within an array.\n",
    "- NumPy offers a comprehensive collection of mathematical tools for various computations, encompassing:\n",
    "    - Matrix operations\n",
    "    - Generation of random numbers\n",
    "    - Mathematical and statistical functions\n",
    "- NumPy methods can be used for importing and manipulating images.\n",
    "- NumPy is the foundation for powerful machine learning libraries like scikit-learn and SciPy.\n",
    "- It's customary to import the `numpy` package under the alias `np` for brevity and clarity in code."
   ]
  },
  {
   "cell_type": "code",
   "execution_count": 1,
   "id": "2bbb6cd5-5388-4211-b83a-acc976a3f2a7",
   "metadata": {},
   "outputs": [],
   "source": [
    "import numpy as np"
   ]
  },
  {
   "cell_type": "markdown",
   "id": "e50d5555-39a0-459b-8a5c-c80139e6fe42",
   "metadata": {},
   "source": [
    "## Numpy Arrays\n",
    "A NumPy array, also known as `ndarray`, is a multidimensional array.\n",
    "- You can perform mathematical and statistical operations on arrays.\n",
    "- Manipulations such as reshaping, sorting, stacking, transposing, and shuffling arrays are possible."
   ]
  },
  {
   "cell_type": "markdown",
   "id": "ba6519c8-34cc-41a9-ba55-093389523b9a",
   "metadata": {},
   "source": [
    "The `np.array()` method is used to create an array. The following code generates a 2 by 3 matrix."
   ]
  },
  {
   "cell_type": "code",
   "execution_count": 2,
   "id": "ee4010c3-aee1-451f-8d75-d40df5c2dd14",
   "metadata": {},
   "outputs": [
    {
     "name": "stdout",
     "output_type": "stream",
     "text": [
      "[[1 2 3]\n",
      " [4 5 6]]\n"
     ]
    }
   ],
   "source": [
    "myarray = np.array([ [1,2,3], [4,5,6]])\n",
    "print(myarray)"
   ]
  },
  {
   "cell_type": "markdown",
   "id": "491e9402-115a-48a5-a94a-b8fffa12098a",
   "metadata": {},
   "source": [
    "The type of a NumPy array is `ndarray`."
   ]
  },
  {
   "cell_type": "code",
   "execution_count": 3,
   "id": "514e807d-2319-4347-9cd3-b7273d9bebc6",
   "metadata": {},
   "outputs": [
    {
     "name": "stdout",
     "output_type": "stream",
     "text": [
      "<class 'numpy.ndarray'>\n"
     ]
    }
   ],
   "source": [
    "print(type(myarray))"
   ]
  },
  {
   "cell_type": "code",
   "execution_count": null,
   "id": "57baac94-0f6a-4286-98c5-7d4c04db5881",
   "metadata": {},
   "outputs": [],
   "source": []
  },
  {
   "cell_type": "code",
   "execution_count": null,
   "id": "1aa2c879-ecda-41ab-8f4e-50dc0c9e4796",
   "metadata": {},
   "outputs": [],
   "source": []
  }
 ],
 "metadata": {
  "kernelspec": {
   "display_name": "Python 3 (ipykernel)",
   "language": "python",
   "name": "python3"
  },
  "language_info": {
   "codemirror_mode": {
    "name": "ipython",
    "version": 3
   },
   "file_extension": ".py",
   "mimetype": "text/x-python",
   "name": "python",
   "nbconvert_exporter": "python",
   "pygments_lexer": "ipython3",
   "version": "3.11.7"
  }
 },
 "nbformat": 4,
 "nbformat_minor": 5
}
