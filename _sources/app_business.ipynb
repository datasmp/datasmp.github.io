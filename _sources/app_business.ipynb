{
 "cells": [
  {
   "cell_type": "markdown",
   "id": "19b79151-58cb-46be-965f-41d4248a638e",
   "metadata": {},
   "source": [
    "# App: Business Glossary\n",
    "![](title_pict/business_glossary2.png)"
   ]
  },
  {
   "cell_type": "markdown",
   "id": "d9de4722-b94b-47fd-9bb7-02d234b55cec",
   "metadata": {},
   "source": [
    "## Revenue\n",
    "Revenue (R) is the product of the number (n) of items sold  and the price (p) of the item.\n",
    "- $R = p\\cdot n$"
   ]
  },
  {
   "cell_type": "markdown",
   "id": "92421a28-ae95-4524-9e0b-02bc63037683",
   "metadata": {},
   "source": [
    "## Cost\n",
    "Total cost (C) has two parts: \n",
    "1. Variable Costs:  Expense that changes in proportion to number of items produced.\n",
    "    - Variable Cost = Number of items produced $\\cdot$ Cost of producing one item\n",
    "2. Fixed Costs: Does not depend on the number of the items produced.\n",
    "    - Examples: rent, lease costs, salaries, utility bills, insurance"
   ]
  },
  {
   "cell_type": "markdown",
   "id": "70b2fd91-3731-42f2-b9f2-631fe9b4756d",
   "metadata": {},
   "source": [
    "## Profit\n",
    "Profit (P) is the difference between Revenue and Cost\n",
    "- $Profit = Revenue - Cost$"
   ]
  },
  {
   "cell_type": "markdown",
   "id": "835a7e3e-f7f4-4ef7-bc9c-5e8a5c9bac75",
   "metadata": {},
   "source": [
    "## Simple Interest\n",
    "\n",
    "Simple Interest Formulas: $\\displaystyle I=P r t$ and $A = P + I$\n",
    "where:\n",
    "- A is the final amount\n",
    "- I is the interest amount\n",
    "- P is the initial (principal) amount\n",
    "- r is the annual interest rate (decimal form)\n",
    "- t is the number of years."
   ]
  },
  {
   "cell_type": "markdown",
   "id": "3bc14bc3-3679-4177-9ff3-501ddf5da739",
   "metadata": {},
   "source": [
    "## Compund Interest\n",
    "Compund interest formula: $\\displaystyle A=P\\left(1+{\\frac {r}{n}}\\right)^{nt}$\n",
    "where:\n",
    "- A is the final amount\n",
    "- P is the initial (principal) amount\n",
    "- r is the annual interest rate (decimal form)\n",
    "- n is the compounding frequency (anual: n=1, semi annual: r=2, quarter: r=4, monthly: r=12)\n",
    "- t is the number of years.\n",
    "  "
   ]
  },
  {
   "cell_type": "markdown",
   "id": "e9c4ee66-c0bf-464b-a5c7-1f0ee005e446",
   "metadata": {},
   "source": [
    "## Continuous Compund Interest\n",
    "Continuous compound interest formula:  $\\displaystyle A=Pe^{rt}$\n",
    "where:\n",
    "- A is the final amount\n",
    "- P is the initial (principal) amount\n",
    "- r is the annual interest rate (decimal form)\n",
    "- t is the number of years."
   ]
  },
  {
   "cell_type": "markdown",
   "id": "afaada83-11a6-4d14-81d9-5abf932c9eec",
   "metadata": {},
   "source": [
    "## Break-Even Point\n",
    "It is the point where total cost equals total revenue, meaning profit is zero."
   ]
  },
  {
   "cell_type": "markdown",
   "id": "1515b428-cc82-4a7f-ac00-a0c797a28a0f",
   "metadata": {},
   "source": [
    "## Depreciation\n",
    "It means an asset loses value over time.\n"
   ]
  },
  {
   "cell_type": "markdown",
   "id": "6cd87061-96eb-4ca5-b9a3-da805e616864",
   "metadata": {},
   "source": [
    "## Demand Function\n",
    "The demand, p = D(q), function shows how much of a product consumers want (q=quantity) and the price (p)they are willing to pay.\n",
    "- When consumers want more items, the price they are willing to pay for each item goes down."
   ]
  },
  {
   "cell_type": "markdown",
   "id": "8486692f-1b5f-4422-80a2-e0cabb630921",
   "metadata": {},
   "source": [
    "## Supply Function\n",
    "\n",
    "The supply function, $p=S(q)$, shows how the price (p) affects the quantity (q) that producers want to supply.\n",
    "\n",
    "- When the price is higher, producers want to supply more.\n"
   ]
  },
  {
   "cell_type": "markdown",
   "id": "082e97de-63fb-472d-bc77-c989a3137fec",
   "metadata": {},
   "source": [
    "## Equilibrium Point\n",
    "An equilibrium point is where the demand and supply curves intersect."
   ]
  },
  {
   "cell_type": "markdown",
   "id": "d20da744-7b11-4b92-b7ef-cb6b5b408686",
   "metadata": {},
   "source": [
    "## Ordinary Annuity\n",
    "An ordinary annuity is an interest earning account where you make equal payments at the end of each compounding period.\n",
    "\n",
    "The future value of an ordinary annuity is given by the following formula.\n",
    "\n",
    "$\\displaystyle  A = R \\left( \\frac{(1+\\frac{r}{m})^{mt}-1}{\\frac{r}{m}}  \\right)$\n",
    "\n",
    "where,\n",
    "\n",
    "- $A$: Future value\n",
    "- $R$: regular payment\n",
    "- $r$: annual interest rate\n",
    "- $m$: number of payments in a year\n",
    "- $t$: number of years"
   ]
  },
  {
   "cell_type": "markdown",
   "id": "3114cd6d-60f8-41d1-a9b8-9930a8fcab07",
   "metadata": {},
   "source": [
    "## Amortized Loan\n",
    "Amortization is paying off a loan by making equal payments.\n",
    "\n",
    "The present value of an amortized loan is given by the following formula.\n",
    "\n",
    "$\\displaystyle  P = R \\left( \\frac{1-(1+\\frac{r}{m})^{-mt}}{\\frac{r}{m}}  \\right)$\n",
    "\n",
    "where,\n",
    "\n",
    "- $P$: Present value\n",
    "- $R$: regular payment\n",
    "- $r$: annual interest rate\n",
    "- $m$: number of payments in a year\n",
    "- $t$: number of years"
   ]
  },
  {
   "cell_type": "markdown",
   "id": "d4fa7403-1008-4850-950e-a394c2cec561",
   "metadata": {},
   "source": [
    "## Linear Programming\n",
    "Linear programming involves finding the highest or lowest possible outcome of a linear function, while satisfying specific constraints."
   ]
  },
  {
   "cell_type": "code",
   "execution_count": null,
   "id": "f361328d-c556-45bc-b09c-1ebe72f5965d",
   "metadata": {},
   "outputs": [],
   "source": []
  }
 ],
 "metadata": {
  "kernelspec": {
   "display_name": "Python 3 (ipykernel)",
   "language": "python",
   "name": "python3"
  },
  "language_info": {
   "codemirror_mode": {
    "name": "ipython",
    "version": 3
   },
   "file_extension": ".py",
   "mimetype": "text/x-python",
   "name": "python",
   "nbconvert_exporter": "python",
   "pygments_lexer": "ipython3",
   "version": "3.11.7"
  }
 },
 "nbformat": 4,
 "nbformat_minor": 5
}
