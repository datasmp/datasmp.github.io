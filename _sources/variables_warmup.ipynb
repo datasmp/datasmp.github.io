{
 "cells": [
  {
   "cell_type": "markdown",
   "id": "b4ac5876-4e84-4c82-b2d4-0f9d60ae4472",
   "metadata": {},
   "source": [
    "# Variables Warm Up \n",
    "\n",
    "![Section Title: Variables Warm Up Questions](title_pict/variables_warmup2.png)"
   ]
  },
  {
   "cell_type": "markdown",
   "id": "f3b53a41-771e-4d0e-8367-fad4170b9527",
   "metadata": {},
   "source": [
    "## Warm Up Question-1\n",
    "Define a variable called `quantity` and assign it the value `25`. Display its ID number and type."
   ]
  },
  {
   "cell_type": "markdown",
   "id": "7bdabef9-b700-4bb8-937d-e41656d4f75e",
   "metadata": {},
   "source": [
    "## Warm Up Question-2\n",
    "Which of the following cannot be used as a variable name, and why?\n",
    "1. `_name`\n",
    "2. `1player`\n",
    "3.  `player_name`\n",
    "4. `birth year`\n",
    "5. `True`"
   ]
  },
  {
   "cell_type": "markdown",
   "id": "9cffe0da-4f18-495b-b1f7-3433f3178653",
   "metadata": {},
   "source": [
    "## Warm Up Question-3\n",
    "Determine the output of the code below and provide an explanation.\n",
    "``` python\n",
    "x = 5\n",
    "print(x)\n",
    "x = 7\n",
    "print(x)"
   ]
  },
  {
   "cell_type": "markdown",
   "id": "8451336b-88cc-4876-8120-abe10732869e",
   "metadata": {},
   "source": [
    "## Warm Up Question-4\n",
    "Use the provided variables and print() function to output the statement: \n",
    "`Harry is 23 years old.`\n",
    "```python\n",
    "name, age = 'Harry', 23\n"
   ]
  },
  {
   "cell_type": "markdown",
   "id": "af8a0491-5458-40db-8936-7e15e7fd76d8",
   "metadata": {},
   "source": [
    "## Warm Up Question-5\n",
    "Use the given variables and string concatenation to display 35.\n",
    "``` python\n",
    "x, y = 3, 5\n"
   ]
  }
 ],
 "metadata": {
  "kernelspec": {
   "display_name": "Python 3 (ipykernel)",
   "language": "python",
   "name": "python3"
  },
  "language_info": {
   "codemirror_mode": {
    "name": "ipython",
    "version": 3
   },
   "file_extension": ".py",
   "mimetype": "text/x-python",
   "name": "python",
   "nbconvert_exporter": "python",
   "pygments_lexer": "ipython3",
   "version": "3.11.8"
  }
 },
 "nbformat": 4,
 "nbformat_minor": 5
}
