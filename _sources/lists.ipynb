{
 "cells": [
  {
   "cell_type": "markdown",
   "id": "14cd5892-4039-42ca-9f0f-3011be0771bf",
   "metadata": {},
   "source": [
    "# Chp-8: Lists\n"
   ]
  },
  {
   "cell_type": "markdown",
   "id": "72e0efed-6fdf-42a9-aa04-6f7aa1ea43e6",
   "metadata": {},
   "source": [
    "![Section Title: Lists](title_pict/lists2.png)"
   ]
  },
  {
   "cell_type": "markdown",
   "id": "803e7ec7-c83a-4721-83b7-c1ec54fd2dec",
   "metadata": {},
   "source": [
    "`````{admonition} Chapter Objectives\n",
    ":class: tip\n",
    "\n",
    "By the end of this chapter, the student should be able to:\n",
    "- Explain the purpose and role of lists.\n",
    "- Create and initialize lists in differen ways.\n",
    "- Access individual elements or sublists in a list using indexing and slicing.\n",
    "- Perform list operations.\n",
    "- Explain mutabilility. \n",
    "- Apply list methods.\n",
    "- Use loops to iterate through list elements.\n",
    "- Use list comprehensions.\n",
    "- Apply lists to solve real-world problems.\n",
    "`````"
   ]
  },
  {
   "cell_type": "markdown",
   "id": "54cbbfee-f0e3-4096-9887-728c944670f4",
   "metadata": {},
   "source": [
    "## Lists\n",
    "Lists are similar to tuples as they are both ordered sequences of values of mixed types. \n",
    "- The indexing, slicing, and functions on them are all similar to tuples.\n",
    "- The main differences are:\n",
    "    - Lists are created using square brackets.\n",
    "    - Lists are mutable, allowing them to be modified. This is the main distinction.\n",
    "        - Due to their mutability, lists have a large number of methods.\n",
    "- The built-in `list()` function can be used to convert appropriate data types into a list.\n",
    "- `[]` represents an empty list."
   ]
  },
  {
   "cell_type": "markdown",
   "id": "8e975891-eb32-4158-8b79-92858f1505d3",
   "metadata": {},
   "source": [
    "### Create Lists"
   ]
  },
  {
   "cell_type": "code",
   "execution_count": 1,
   "id": "da216b0d-ebc7-48db-96c9-40b03967cd7b",
   "metadata": {},
   "outputs": [
    {
     "name": "stdout",
     "output_type": "stream",
     "text": [
      "List : []\n",
      "Type : <class 'list'>\n"
     ]
    }
   ],
   "source": [
    "# empty list\n",
    "empty_list = []\n",
    "\n",
    "print('List :', empty_list)\n",
    "print('Type :', type(empty_list))"
   ]
  },
  {
   "cell_type": "code",
   "execution_count": 2,
   "id": "7a9cd0ed-a4a2-4cdb-93ff-b256a5dd3599",
   "metadata": {},
   "outputs": [
    {
     "name": "stdout",
     "output_type": "stream",
     "text": [
      "List : []\n",
      "Type : <class 'list'>\n"
     ]
    }
   ],
   "source": [
    "# empty list with list()\n",
    "empty_list = list()   \n",
    "\n",
    "print('List :', empty_list)\n",
    "print('Type :', type(empty_list))"
   ]
  },
  {
   "cell_type": "code",
   "execution_count": 3,
   "id": "ca60433a-c536-4cba-80c2-7eece30002f7",
   "metadata": {},
   "outputs": [
    {
     "name": "stdout",
     "output_type": "stream",
     "text": [
      "List : ['USA', 2, True, 9.123]\n",
      "Type : <class 'list'>\n"
     ]
    }
   ],
   "source": [
    "# list with mixed values: str, int, bool, float\n",
    "\n",
    "mixed_list = ['USA', 2, True, 9.123]    \n",
    "\n",
    "print('List :', mixed_list)\n",
    "print('Type :', type(mixed_list))"
   ]
  },
  {
   "cell_type": "code",
   "execution_count": 4,
   "id": "1a0ede9c-fb95-4e3d-bd5a-c95a1e30134e",
   "metadata": {},
   "outputs": [
    {
     "name": "stdout",
     "output_type": "stream",
     "text": [
      "List : ['USA', 2, True, 9.123, (10, 20, 30), ['a', 'b']]\n",
      "Type : <class 'list'>\n"
     ]
    }
   ],
   "source": [
    "# tuple and list in a list\n",
    "# list with mixed values: str, int, bool, float, tuple, list\n",
    "# (10,20,30) is a tuple and ['a','b'] is a list in the list mixed_list.\n",
    "\n",
    "mixed_list = ['USA', 2, True, 9.123, (10,20,30), ['a','b']]  \n",
    "\n",
    "print('List :', mixed_list)\n",
    "print('Type :', type(mixed_list))"
   ]
  },
  {
   "cell_type": "markdown",
   "id": "e573f1c4-6ee6-4200-8465-d3f7c6925ec6",
   "metadata": {},
   "source": [
    "### list() function\n",
    "- The built-in `list()` function converts a string into a list, where each character of the string becomes an individual value in the list."
   ]
  },
  {
   "cell_type": "code",
   "execution_count": 5,
   "id": "904b567f-3d65-46a5-a353-70ead69b7a88",
   "metadata": {},
   "outputs": [
    {
     "name": "stdout",
     "output_type": "stream",
     "text": [
      "Type of char_list: <class 'list'>\n",
      "char_list        : ['H', 'e', 'l', 'l', 'o']\n"
     ]
    }
   ],
   "source": [
    "char_list = list('Hello')  # convert string to tuple\n",
    "\n",
    "print(f'Type of char_list: {type(char_list)}')\n",
    "print(f'char_list        : {char_list}')"
   ]
  },
  {
   "cell_type": "markdown",
   "id": "b3e9211f-7764-415a-8a26-47376b340745",
   "metadata": {},
   "source": [
    "- The built-in `list()` function converts a range into a list, encapsulating a sequence of numbers within it."
   ]
  },
  {
   "cell_type": "code",
   "execution_count": 6,
   "id": "748c597b-d037-48d7-9340-3834ace2f190",
   "metadata": {},
   "outputs": [
    {
     "name": "stdout",
     "output_type": "stream",
     "text": [
      "Type of myrange: <class 'range'>\n",
      "myrange        : range(2, 8)\n"
     ]
    }
   ],
   "source": [
    "myrange = range(2,8)    # 2,3,4,5,6,7 are  hidden in r\n",
    "\n",
    "print(f'Type of myrange: {type(myrange)}')\n",
    "print(f'myrange        : {myrange}')"
   ]
  },
  {
   "cell_type": "code",
   "execution_count": 7,
   "id": "2114e575-451b-43d7-9d0a-c44846344294",
   "metadata": {},
   "outputs": [
    {
     "name": "stdout",
     "output_type": "stream",
     "text": [
      "Type of mylist: <class 'list'>\n",
      "mylist        : [2, 3, 4, 5, 6, 7]\n"
     ]
    }
   ],
   "source": [
    "mylist = list(myrange)     # convert range to list\n",
    "\n",
    "print(f'Type of mylist: {type(mylist)}')\n",
    "print(f'mylist        : {mylist}')"
   ]
  },
  {
   "cell_type": "markdown",
   "id": "2d719139-15a1-4c1c-8446-15ed4f452e7c",
   "metadata": {},
   "source": [
    "- The built-in list() function converts a tuple into a list."
   ]
  },
  {
   "cell_type": "code",
   "execution_count": 8,
   "id": "3c50470d-bb69-4c01-9578-945799e6199d",
   "metadata": {},
   "outputs": [
    {
     "name": "stdout",
     "output_type": "stream",
     "text": [
      "Type of mylist: <class 'list'>\n",
      "mylist        : [10, 20, 30]\n"
     ]
    }
   ],
   "source": [
    "mytuple = (10,20,30)\n",
    "\n",
    "mylist = list(mytuple)   # tuple ---> list\n",
    "\n",
    "print(f'Type of mylist: {type(mylist)}')\n",
    "print(f'mylist        : {mylist}')"
   ]
  },
  {
   "cell_type": "markdown",
   "id": "bfdb8c5d-b223-4fc2-8541-04c582e8a43e",
   "metadata": {},
   "source": [
    "- The built-in `tuple()` function converts a list into a tuple."
   ]
  },
  {
   "cell_type": "code",
   "execution_count": 9,
   "id": "da6504b8-922e-4197-8248-88605fe86aa5",
   "metadata": {},
   "outputs": [
    {
     "name": "stdout",
     "output_type": "stream",
     "text": [
      "Type of mytuple: <class 'tuple'>\n",
      "mytuple        : (10, 20, 30)\n"
     ]
    }
   ],
   "source": [
    "mylist = [10,20,30]\n",
    "\n",
    "mytuple = tuple(mylist)   # list ---> tuple\n",
    "\n",
    "print(f'Type of mytuple: {type(mytuple)}')\n",
    "print(f'mytuple        : {mytuple}')"
   ]
  },
  {
   "cell_type": "markdown",
   "id": "9b03bada-b0a3-4330-a0f7-51089bb812bb",
   "metadata": {},
   "source": [
    "### Functions on lists\n",
    "- len(), max(), min(), and sum() functions behave similarly for lists."
   ]
  },
  {
   "cell_type": "code",
   "execution_count": 10,
   "id": "ab77d005-0755-4b41-8fe8-eed6a7c59bd5",
   "metadata": {},
   "outputs": [
    {
     "name": "stdout",
     "output_type": "stream",
     "text": [
      "Length : 6\n",
      "Maximum: 9\n",
      "Minimum: 1\n",
      "Sum    : 30\n"
     ]
    }
   ],
   "source": [
    "numbers = [7,3,1,9,6,4]\n",
    "\n",
    "print(f'Length : {len(numbers)}')\n",
    "print(f'Maximum: {max(numbers)}')\n",
    "print(f'Minimum: {min(numbers)}')\n",
    "print(f'Sum    : {sum(numbers)}')"
   ]
  },
  {
   "cell_type": "code",
   "execution_count": 11,
   "id": "6050eed2-2f67-4605-98e6-bfe01f87c728",
   "metadata": {},
   "outputs": [
    {
     "name": "stdout",
     "output_type": "stream",
     "text": [
      "Length : 5\n",
      "Maximum: t\n",
      "Minimum: a\n"
     ]
    }
   ],
   "source": [
    "letters = ['r', 't', 'n', 'a', 'd']\n",
    "\n",
    "print(f'Length : {len(letters)}')\n",
    "print(f'Maximum: {max(letters)}')    # dictionary order\n",
    "print(f'Minimum: {min(letters)}')"
   ]
  },
  {
   "cell_type": "markdown",
   "id": "c3666c5b-9d7a-43d2-9d09-e815d47191c7",
   "metadata": {},
   "source": [
    "### Indexing and Slicing\n",
    "- It is similar to strings and tuples. "
   ]
  },
  {
   "cell_type": "code",
   "execution_count": 65,
   "id": "a94959d1-2b32-455f-b4be-d74ced9dd03a",
   "metadata": {},
   "outputs": [],
   "source": [
    "mixed_list = ['USA', 2, True, 9.123, 'NY', 'NJ', 100, False]"
   ]
  },
  {
   "cell_type": "markdown",
   "id": "81eb4095-0af8-40b3-90ee-882c7f88c0d2",
   "metadata": {},
   "source": [
    "**Examples**"
   ]
  },
  {
   "cell_type": "code",
   "execution_count": 13,
   "id": "e8735d59-2cb0-4987-87e4-f8022fccdaa6",
   "metadata": {},
   "outputs": [
    {
     "name": "stdout",
     "output_type": "stream",
     "text": [
      "USA\n"
     ]
    }
   ],
   "source": [
    "# first element\n",
    "print(mixed_list[0])"
   ]
  },
  {
   "cell_type": "code",
   "execution_count": 14,
   "id": "d3b13d95-bd7e-4c92-8544-ddfdc75e28d7",
   "metadata": {},
   "outputs": [
    {
     "name": "stdout",
     "output_type": "stream",
     "text": [
      "False\n"
     ]
    }
   ],
   "source": [
    "# last element\n",
    "print(mixed_list[-1])"
   ]
  },
  {
   "cell_type": "code",
   "execution_count": 15,
   "id": "74690e7a-7ffd-4a4c-acdf-8c07536c396b",
   "metadata": {},
   "outputs": [
    {
     "name": "stdout",
     "output_type": "stream",
     "text": [
      "9.123\n"
     ]
    }
   ],
   "source": [
    "# index of 3 element (fourth element)\n",
    "print(mixed_list[3])"
   ]
  },
  {
   "cell_type": "code",
   "execution_count": 16,
   "id": "075ab727-a3f2-4631-bbad-f9c3a13d7061",
   "metadata": {},
   "outputs": [
    {
     "name": "stdout",
     "output_type": "stream",
     "text": [
      "[True, 9.123, 'NY']\n"
     ]
    }
   ],
   "source": [
    "# index = 2, 3, 4\n",
    "print(mixed_list[2:5])"
   ]
  },
  {
   "cell_type": "code",
   "execution_count": 17,
   "id": "c53e9350-ef9a-4cff-8185-f66217107686",
   "metadata": {},
   "outputs": [
    {
     "name": "stdout",
     "output_type": "stream",
     "text": [
      "['NY', 'NJ', 100]\n"
     ]
    }
   ],
   "source": [
    "# index = -4, -3, -2\n",
    "print(mixed_list[-4:-1])"
   ]
  },
  {
   "cell_type": "code",
   "execution_count": 18,
   "id": "accbba2f-b4e6-4920-a0fc-3d3d91ce68d3",
   "metadata": {},
   "outputs": [
    {
     "name": "stdout",
     "output_type": "stream",
     "text": [
      "[9.123, 'NY', 'NJ', 100, False]\n"
     ]
    }
   ],
   "source": [
    "# index = 3, 4, ...\n",
    "print(mixed_list[3:])"
   ]
  },
  {
   "cell_type": "code",
   "execution_count": 67,
   "id": "83460d2a-dd04-4108-824d-bd0018837abf",
   "metadata": {},
   "outputs": [
    {
     "name": "stdout",
     "output_type": "stream",
     "text": [
      "['USA', 2, True, 9.123]\n"
     ]
    }
   ],
   "source": [
    "# index = 0,1,2,3\n",
    "print(mixed_list[:4])"
   ]
  },
  {
   "cell_type": "markdown",
   "id": "87cb8c73-580b-43e3-a3fc-d1d27ceb7787",
   "metadata": {},
   "source": [
    "**Remark**\n",
    "- There is a difference between the index -1 element and the slice [-1:].\n",
    "- Both of them point to the last element of the list.\n",
    "- The first one returns the last element, while the latter one returns a length-one list with the last element."
   ]
  },
  {
   "cell_type": "code",
   "execution_count": 19,
   "id": "e18fe5da-3b98-44cb-83db-9d73c9b7c643",
   "metadata": {},
   "outputs": [
    {
     "name": "stdout",
     "output_type": "stream",
     "text": [
      "index -1 element: False, type: <class 'bool'>\n",
      "slice [-1:]     : [False], type: <class 'list'>\n"
     ]
    }
   ],
   "source": [
    "mixed_list = ['USA', 2, True, 9.123, 'NY', 'NJ', 100, False]\n",
    "\n",
    "print(f'index -1 element: {mixed_list[-1]}, type: {type(mixed_list[-1])}')     # boolean\n",
    "print(f'slice [-1:]     : {mixed_list[-1:]}, type: {type(mixed_list[-1:])}')   # list"
   ]
  },
  {
   "cell_type": "markdown",
   "id": "a11c163a-543b-44e9-8622-b31015b76907",
   "metadata": {},
   "source": [
    "**Remark**\n",
    "\n",
    "- A tuple in a list is considered as a single element of the list.\n",
    "- Its elements are not considered elements of the list."
   ]
  },
  {
   "cell_type": "code",
   "execution_count": 20,
   "id": "fe7af9b9-e70f-499f-ba96-d060b0b90f65",
   "metadata": {},
   "outputs": [
    {
     "name": "stdout",
     "output_type": "stream",
     "text": [
      "Length of mixed_list       : 5\n",
      "10 is in mixed_list        : False\n",
      "(10,20,30) is in mixed_list: True\n"
     ]
    }
   ],
   "source": [
    "mixed_list = ['USA', 2, True, 9.123, (10,20,30)]\n",
    "print(f'Length of mixed_list       : {len(mixed_list)}')            # (10,20,30) is a single element of mixed_list\n",
    "print(f'10 is in mixed_list        : {10 in mixed_list}')           # 10 is not an element of mixed_list\n",
    "print(f'(10,20,30) is in mixed_list: {(10,20,30) in mixed_list}')   # (10,20,30) is  an element of mixed_list"
   ]
  },
  {
   "cell_type": "markdown",
   "id": "35ea2336-b939-482c-b1b1-d661d12360f8",
   "metadata": {},
   "source": [
    "**Remark**\n",
    "- It is possible to access the elements of a sublist by using chain indexing.\n",
    "\n",
    "\n",
    "\n",
    "\n",
    "\n",
    "\n"
   ]
  },
  {
   "cell_type": "code",
   "execution_count": 21,
   "id": "5c7e8953-9f16-4ce5-b27d-76316300fa6c",
   "metadata": {},
   "outputs": [
    {
     "name": "stdout",
     "output_type": "stream",
     "text": [
      "mixed_list[-1]: [10, 20, 30]\n",
      "mixed_list[-1][0]: 10\n",
      "mixed_list[-1][1]: 20\n",
      "mixed_list[-1][2]: 30\n"
     ]
    }
   ],
   "source": [
    "mixed_list = ['USA', 2, True, 9.123, [10,20,30]]\n",
    "print(f'mixed_list[-1]: {mixed_list[-1]}')          # mixed_list[-1] = [10,20,30] is a list\n",
    "print(f'mixed_list[-1][0]: {mixed_list[-1][0]}')    # index 0 element of [10,20,30]\n",
    "print(f'mixed_list[-1][1]: {mixed_list[-1][1]}')    # index 1 element of [10,20,30]\n",
    "print(f'mixed_list[-1][2]: {mixed_list[-1][2]}')    # index 2 element of [10,20,30]"
   ]
  },
  {
   "cell_type": "markdown",
   "id": "904fedf3-7c4d-4c1d-b17c-2e2b8ae10e3f",
   "metadata": {},
   "source": [
    "### Operators on Lists\n",
    "The operators  `+`, `*`, `in`, and `not in`  behave similarly to strings and tuples.\n"
   ]
  },
  {
   "cell_type": "markdown",
   "id": "a6d29b94-ffbf-4337-874c-a21b1f0c4637",
   "metadata": {},
   "source": [
    "**Examples**"
   ]
  },
  {
   "cell_type": "code",
   "execution_count": 22,
   "id": "cfaac318-3e3e-4ed2-ae0e-9fdfb027440a",
   "metadata": {},
   "outputs": [],
   "source": [
    "numbers = [1,2,3,4]\n",
    "letters = ['a','b','c','d']"
   ]
  },
  {
   "cell_type": "code",
   "execution_count": 23,
   "id": "b9bf18c2-f347-4d42-adca-67cbcef31e26",
   "metadata": {},
   "outputs": [
    {
     "name": "stdout",
     "output_type": "stream",
     "text": [
      "numbers + letters = [1, 2, 3, 4, 'a', 'b', 'c', 'd']\n",
      "numbers           = [1, 2, 3, 4]\n",
      "letters           = ['a', 'b', 'c', 'd']\n"
     ]
    }
   ],
   "source": [
    "# Concatenation returns a new list\n",
    "\n",
    "print(f'numbers + letters = {numbers + letters}')\n",
    "print(f'numbers           = {numbers}')       # no change\n",
    "print(f'letters           = {letters}')       # no change"
   ]
  },
  {
   "cell_type": "code",
   "execution_count": 24,
   "id": "7af6f755-7bb9-4759-9b25-85e889127975",
   "metadata": {},
   "outputs": [
    {
     "name": "stdout",
     "output_type": "stream",
     "text": [
      "letters*3 = ['a', 'b', 'c', 'd', 'a', 'b', 'c', 'd', 'a', 'b', 'c', 'd']\n",
      "letters   = ['a', 'b', 'c', 'd']\n"
     ]
    }
   ],
   "source": [
    "# Repetition returns a new list\n",
    "\n",
    "print(f'letters*3 = {letters*3}')\n",
    "print(f'letters   = {letters}')       # no change"
   ]
  },
  {
   "cell_type": "code",
   "execution_count": 25,
   "id": "39f8365c-4a06-4684-80a5-9886d79279ba",
   "metadata": {},
   "outputs": [
    {
     "name": "stdout",
     "output_type": "stream",
     "text": [
      " 5 is in numbers list    : False\n",
      " 5 is not in numbers list: True\n"
     ]
    }
   ],
   "source": [
    "# Is 5 in numbers?\n",
    "\n",
    "print(f' 5 is in numbers list    : {5  in numbers}' )\n",
    "print(f' 5 is not in numbers list: {5  not in numbers}' )"
   ]
  },
  {
   "cell_type": "code",
   "execution_count": 26,
   "id": "dd8cd252-88a2-4059-a684-23881c49ceb3",
   "metadata": {},
   "outputs": [
    {
     "name": "stdout",
     "output_type": "stream",
     "text": [
      " 3 is in numbers list    : True\n",
      " 3 is not in numbers list: False\n"
     ]
    }
   ],
   "source": [
    "# Is 3 in numbers?\n",
    "\n",
    "print(f' 3 is in numbers list    : {3  in numbers}' )\n",
    "print(f' 3 is not in numbers list: {3  not in numbers}' )"
   ]
  },
  {
   "cell_type": "markdown",
   "id": "7680f1ea-08c8-4186-aef9-a58a8b5efc70",
   "metadata": {},
   "source": [
    "### Mutable\n",
    "Unlike strings and tuples, lists are mutable, meaning they can be modified.\n",
    "- Using list methods, new elements can be added, existing ones can be removed, and the order of elements can be changed.\n",
    "- For example, you can change or delete the first element of a given list as follows:"
   ]
  },
  {
   "cell_type": "code",
   "execution_count": 27,
   "id": "301c53b7-15ee-450f-afed-43fd2043c099",
   "metadata": {},
   "outputs": [
    {
     "name": "stdout",
     "output_type": "stream",
     "text": [
      "[99, 2, 3, 4]\n"
     ]
    }
   ],
   "source": [
    "numbers = [1,2,3,4]\n",
    "numbers[0] = 99   # first element is changed to 99\n",
    "print(numbers)"
   ]
  },
  {
   "cell_type": "code",
   "execution_count": 28,
   "id": "1767408c-659d-4071-a5c7-88426631fe83",
   "metadata": {},
   "outputs": [
    {
     "name": "stdout",
     "output_type": "stream",
     "text": [
      "[2, 3, 4]\n"
     ]
    }
   ],
   "source": [
    "numbers = [1,2,3,4]\n",
    "del numbers[0]    # delete the first element \n",
    "\n",
    "print(numbers)"
   ]
  },
  {
   "cell_type": "markdown",
   "id": "b04c1b1b-a749-49c5-be32-d5a3fbb7e87f",
   "metadata": {},
   "source": [
    "### List Methods\n",
    "Except for the magic methods (those with underscores), there are 11 methods for lists.\n",
    "- You can execute *help(list)* for more details."
   ]
  },
  {
   "cell_type": "code",
   "execution_count": 29,
   "id": "49215cc1-6d9b-4dce-9092-bbb840317051",
   "metadata": {},
   "outputs": [
    {
     "name": "stdout",
     "output_type": "stream",
     "text": [
      "['__add__', '__class__', '__class_getitem__', '__contains__', '__delattr__', '__delitem__', '__dir__', '__doc__', '__eq__', '__format__', '__ge__', '__getattribute__', '__getitem__', '__getstate__', '__gt__', '__hash__', '__iadd__', '__imul__', '__init__', '__init_subclass__', '__iter__', '__le__', '__len__', '__lt__', '__mul__', '__ne__', '__new__', '__reduce__', '__reduce_ex__', '__repr__', '__reversed__', '__rmul__', '__setattr__', '__setitem__', '__sizeof__', '__str__', '__subclasshook__', 'append', 'clear', 'copy', 'count', 'extend', 'index', 'insert', 'pop', 'remove', 'reverse', 'sort']\n"
     ]
    }
   ],
   "source": [
    "# methods of lists\n",
    "# dir() returns a list\n",
    "\n",
    "print(dir(list))"
   ]
  },
  {
   "cell_type": "code",
   "execution_count": 30,
   "id": "84c46195-2f65-4762-85e9-189cf1476149",
   "metadata": {},
   "outputs": [
    {
     "name": "stdout",
     "output_type": "stream",
     "text": [
      "['append', 'clear', 'copy', 'count', 'extend', 'index', 'insert', 'pop', 'remove', 'reverse', 'sort']\n"
     ]
    }
   ],
   "source": [
    "# non magic methods by using slicing\n",
    "print(dir(list)[-11:])"
   ]
  },
  {
   "cell_type": "markdown",
   "id": "a9e438d8-7a06-4ff2-b1ae-5049a861326d",
   "metadata": {},
   "source": [
    "#### append()\n",
    "It adds a new element to a list. The new element will become the last element of the list."
   ]
  },
  {
   "cell_type": "code",
   "execution_count": 31,
   "id": "21ee403d-7aae-4d1e-a7e6-dfab430d1767",
   "metadata": {},
   "outputs": [
    {
     "name": "stdout",
     "output_type": "stream",
     "text": [
      "numbers list before using append(): [10, 20, 30]\n",
      "numbers list after  using append(): [10, 20, 30, 99]\n"
     ]
    }
   ],
   "source": [
    "numbers = [10,20,30]\n",
    "print(f'numbers list before using append(): {numbers}')\n",
    "\n",
    "# add 99 to numbers list\n",
    "numbers.append(99)\n",
    "\n",
    "print(f'numbers list after  using append(): {numbers}')\n"
   ]
  },
  {
   "cell_type": "markdown",
   "id": "36d77fa7-30a4-4691-b2fa-b9798fd3dad1",
   "metadata": {},
   "source": [
    "#### clear()\n",
    "It removes all elements from the list, turning it into an empty list."
   ]
  },
  {
   "cell_type": "code",
   "execution_count": 32,
   "id": "4a331ae0-e744-48e4-b5ec-8bcf745765a3",
   "metadata": {},
   "outputs": [
    {
     "name": "stdout",
     "output_type": "stream",
     "text": [
      "numbers list before using clear(): [10, 20, 30]\n",
      "numbers list after  using clear(): []\n"
     ]
    }
   ],
   "source": [
    "numbers = [10,20,30]\n",
    "print(f'numbers list before using clear(): {numbers}')\n",
    "\n",
    "# remove all elemenets of numbers list\n",
    "numbers.clear()\n",
    "\n",
    "print(f'numbers list after  using clear(): {numbers}')\n"
   ]
  },
  {
   "cell_type": "markdown",
   "id": "94137b0c-34a0-4e44-852f-707c3b1d5419",
   "metadata": {},
   "source": [
    "#### copy()\n",
    "It returns a new list with the same elements as the original list."
   ]
  },
  {
   "cell_type": "code",
   "execution_count": 33,
   "id": "1a25e8e4-bf29-4a88-939c-fb89c9a1fb41",
   "metadata": {},
   "outputs": [
    {
     "name": "stdout",
     "output_type": "stream",
     "text": [
      "numbers list     : [10, 20, 30]\n",
      "numbers_copy list: [10, 20, 30]\n"
     ]
    }
   ],
   "source": [
    "numbers = [10,20,30]\n",
    "print(f'numbers list     : {numbers}')\n",
    "\n",
    "# copy of numbers list\n",
    "numbers_copy = numbers.copy()\n",
    "\n",
    "print(f'numbers_copy list: {numbers}')\n"
   ]
  },
  {
   "cell_type": "markdown",
   "id": "ba2887f3-fcdd-4ca9-ad47-f85f8d14be87",
   "metadata": {},
   "source": [
    "#### count()\n",
    "It returns the number of occurrences of a given value in a list."
   ]
  },
  {
   "cell_type": "code",
   "execution_count": 34,
   "id": "ee46827a-42b5-4751-8830-cb818e69c693",
   "metadata": {},
   "outputs": [
    {
     "name": "stdout",
     "output_type": "stream",
     "text": [
      "Number of 1 in numbers: 2\n",
      "Number of 2 in numbers: 5\n",
      "Number of 3 in numbers: 4\n",
      "Number of 4 in numbers: 1\n",
      "Number of 5 in numbers: 0\n"
     ]
    }
   ],
   "source": [
    "numbers = [1,1,2,2,2,2,2,3,3,3,3,4]\n",
    "print(f'Number of 1 in numbers: {numbers.count(1)}')   \n",
    "print(f'Number of 2 in numbers: {numbers.count(2)}')\n",
    "print(f'Number of 3 in numbers: {numbers.count(3)}')\n",
    "print(f'Number of 4 in numbers: {numbers.count(4)}')\n",
    "print(f'Number of 5 in numbers: {numbers.count(5)}')"
   ]
  },
  {
   "cell_type": "markdown",
   "id": "c35eb2d3-80bb-467c-b29f-10bc59e9fd23",
   "metadata": {},
   "source": [
    "#### extend()\n",
    "It adds all elements of one list to another list using the form list1.extend(list2). \n",
    "- All elements of list2 will be added to list1, and there will be no change to list2."
   ]
  },
  {
   "cell_type": "code",
   "execution_count": 35,
   "id": "35548e1b-b33a-4fca-bb4d-6472e25e6137",
   "metadata": {},
   "outputs": [
    {
     "name": "stdout",
     "output_type": "stream",
     "text": [
      "letters list before extending: ['a', 'b', 'c', 'd']  ---- numbers list before extending: [10, 20, 30]\n",
      "letters list after extending : ['a', 'b', 'c', 'd']  ---- numbers list after extending : [10, 20, 30, 'a', 'b', 'c', 'd']\n"
     ]
    }
   ],
   "source": [
    "numbers = [10, 20, 30]\n",
    "letters = ['a','b','c','d']\n",
    "\n",
    "print(f'letters list before extending: {letters}  ---- numbers list before extending: {numbers}')\n",
    "\n",
    "numbers.extend(letters)\n",
    "\n",
    "print(f'letters list after extending : {letters}  ---- numbers list after extending : {numbers}')\n"
   ]
  },
  {
   "cell_type": "markdown",
   "id": "80f02643-589c-46ee-a565-8d1c2be4287d",
   "metadata": {},
   "source": [
    "#### index()\n",
    "It returns the index of a given value in a list.\n",
    "- If the value is not in the list, an error message is generated.\n",
    "- In the case of repeated elements, it returns the smallest index."
   ]
  },
  {
   "cell_type": "code",
   "execution_count": 69,
   "id": "d01a9cd4-4bb4-4625-8f53-c961bee0f943",
   "metadata": {},
   "outputs": [
    {
     "name": "stdout",
     "output_type": "stream",
     "text": [
      "The index of 10 in numbers: 0\n",
      "The index of 20 in numbers: 1\n",
      "The index of 30 in numbers: 2\n"
     ]
    }
   ],
   "source": [
    "numbers = [10, 20, 30,10]\n",
    "print(f'The index of 10 in numbers: {numbers.index(10)}')   # index of first 10\n",
    "print(f'The index of 20 in numbers: {numbers.index(20)}') \n",
    "print(f'The index of 30 in numbers: {numbers.index(30)}') \n",
    "# print(f'The index of 40 in numbers: {numbers.index(40)}')  ---> ERROR"
   ]
  },
  {
   "cell_type": "markdown",
   "id": "b16688ea-018f-4190-b46e-546e32404547",
   "metadata": {},
   "source": [
    "- Additionally, you have the option to find the index of a specific element starting from a certain index.\n",
    "    - `index('a', N)`: find index of first 'a'  starting from index=N\n",
    "    - default value of N is 0"
   ]
  },
  {
   "cell_type": "code",
   "execution_count": 70,
   "id": "f7a69d03-c940-49a0-9abe-7efc83c72cfd",
   "metadata": {},
   "outputs": [
    {
     "name": "stdout",
     "output_type": "stream",
     "text": [
      "3\n"
     ]
    }
   ],
   "source": [
    "# index of first 10 starting from index 2 element.\n",
    "print(numbers.index(10,2))"
   ]
  },
  {
   "cell_type": "markdown",
   "id": "de629e34-4440-46c3-be52-3da564f51d16",
   "metadata": {},
   "source": [
    "#### insert()\n",
    "\n",
    "It adds a new value to a list. Apart from the *append()* method, the new value can be added anywhere in the list using the form *insert(index, element)*. \n",
    "- The element will be added to the specified index position.\n",
    "- For example, insert(3, 'USA') will make 'USA' the element of index 3 in the list."
   ]
  },
  {
   "cell_type": "code",
   "execution_count": 37,
   "id": "53e26c2d-0c0a-4dee-a969-39cc8aa4b66d",
   "metadata": {},
   "outputs": [
    {
     "name": "stdout",
     "output_type": "stream",
     "text": [
      "numbers list before using insert(): [10, 20, 30]\n",
      "numbers list after  using index() : [10, 20, 99, 30]\n"
     ]
    }
   ],
   "source": [
    "numbers = [10,20,30]\n",
    "print(f'numbers list before using insert(): {numbers}')\n",
    "\n",
    "# add 99 to numbers list as index of 2 element\n",
    "numbers.insert(2, 99)   # index of 99 is 2\n",
    "\n",
    "print(f'numbers list after  using index() : {numbers}')"
   ]
  },
  {
   "cell_type": "markdown",
   "id": "a6afe6af-ac09-42fa-b694-fb54bbe59176",
   "metadata": {},
   "source": [
    "#### pop()\n",
    "It removes an element from the list using the index of the element.\n",
    "- pop(i): removes the element at the i-th index.\n",
    "- pop(): removes the last element.\n",
    "- It also returns the removed element."
   ]
  },
  {
   "cell_type": "code",
   "execution_count": 38,
   "id": "09cb8c7c-d44f-485d-8b0e-c33f328ca160",
   "metadata": {},
   "outputs": [
    {
     "name": "stdout",
     "output_type": "stream",
     "text": [
      "numbers list before using pop(): [10, 20, 30]\n",
      "numbers list after  using pop(): [10, 20]\n",
      "removed element                : 30\n"
     ]
    }
   ],
   "source": [
    "numbers = [10,20,30]\n",
    "print(f'numbers list before using pop(): {numbers}')\n",
    "\n",
    "# remove the last element\n",
    "removed_element = numbers.pop()   # last element (30) is removed.\n",
    "\n",
    "print(f'numbers list after  using pop(): {numbers}')\n",
    "print(f'removed element                : {removed_element}')"
   ]
  },
  {
   "cell_type": "code",
   "execution_count": 39,
   "id": "5720c344-1ef2-4831-8d5d-0c492b8af39a",
   "metadata": {},
   "outputs": [
    {
     "name": "stdout",
     "output_type": "stream",
     "text": [
      "numbers list before using pop(1): [10, 20, 30]\n",
      "numbers list after  using pop(1): [10, 30]\n"
     ]
    }
   ],
   "source": [
    "numbers = [10,20,30]\n",
    "print(f'numbers list before using pop(1): {numbers}')\n",
    "\n",
    "# remove the index of 1 element which is 20\n",
    "numbers.pop(1)   # 20 is removed.\n",
    "\n",
    "print(f'numbers list after  using pop(1): {numbers}')"
   ]
  },
  {
   "cell_type": "markdown",
   "id": "dcb0d7ec-b5cd-4db2-a80b-fdfba50116a7",
   "metadata": {},
   "source": [
    "#### remove()\n",
    "It removes an element from the list using the value itself, unlike *pop()* which uses the index.\n",
    "- If there is more than one occurrence of the given element in the list, only the first one will be removed"
   ]
  },
  {
   "cell_type": "code",
   "execution_count": 40,
   "id": "9af120b2-c203-49d7-a044-abd54c9fd77b",
   "metadata": {},
   "outputs": [
    {
     "name": "stdout",
     "output_type": "stream",
     "text": [
      "numbers list before using remove(20): [10, 20, 30]\n",
      "numbers list after  using remove(20): [10, 30]\n"
     ]
    }
   ],
   "source": [
    "numbers = [10,20,30]\n",
    "print(f'numbers list before using remove(20): {numbers}')\n",
    "\n",
    "# remove 20\n",
    "numbers.remove(20)  \n",
    "\n",
    "print(f'numbers list after  using remove(20): {numbers}')"
   ]
  },
  {
   "cell_type": "code",
   "execution_count": 41,
   "id": "e61e33fa-98f0-46fc-9ebe-3b841019ac52",
   "metadata": {},
   "outputs": [
    {
     "name": "stdout",
     "output_type": "stream",
     "text": [
      "numbers list before using remove(20): [10, 20, 30, 20]\n",
      "numbers list after  using remove(20): [10, 30, 20]\n"
     ]
    }
   ],
   "source": [
    "numbers = [10,20,30,20]\n",
    "print(f'numbers list before using remove(20): {numbers}')\n",
    "\n",
    "# remove the first 20\n",
    "numbers.remove(20)  \n",
    "\n",
    "print(f'numbers list after  using remove(20): {numbers}')"
   ]
  },
  {
   "cell_type": "markdown",
   "id": "33654625-d108-4ff5-961a-2668873a8b9b",
   "metadata": {},
   "source": [
    "#### reverse()\n",
    "It reverses the order of the elements in a list."
   ]
  },
  {
   "cell_type": "code",
   "execution_count": 42,
   "id": "19b2a7fd-a964-4695-8287-33bfde563241",
   "metadata": {},
   "outputs": [
    {
     "name": "stdout",
     "output_type": "stream",
     "text": [
      "numbers list before using reverse(): [10, 20, 30]\n",
      "numbers list after  using reverse(): [30, 20, 10]\n"
     ]
    }
   ],
   "source": [
    "numbers = [10,20,30]\n",
    "print(f'numbers list before using reverse(): {numbers}')\n",
    "\n",
    "# reverse\n",
    "numbers.reverse()  \n",
    "\n",
    "print(f'numbers list after  using reverse(): {numbers}')"
   ]
  },
  {
   "cell_type": "markdown",
   "id": "6c02a8cd-4196-4c35-b584-f0b4c4819350",
   "metadata": {},
   "source": [
    "#### sort()\n",
    "It sorts the elements of a list in ascending or descending order.\n",
    "- If the values are strings, dictionary order will be used.\n",
    "- The default ordering is ascending. To have a descending order, the parameter reverse is set to True."
   ]
  },
  {
   "cell_type": "code",
   "execution_count": 43,
   "id": "7259d3d4-2648-4f83-9327-14f6456be3a6",
   "metadata": {},
   "outputs": [
    {
     "name": "stdout",
     "output_type": "stream",
     "text": [
      "numbers list before using sort(): [10, 3, 9, 2, 5, 12, 1, 8]\n",
      "numbers list after  using sort(): [1, 2, 3, 5, 8, 9, 10, 12]\n"
     ]
    }
   ],
   "source": [
    "numbers = [10,3,9,2,5,12,1,8]\n",
    "print(f'numbers list before using sort(): {numbers}')\n",
    "\n",
    "# ascending order\n",
    "numbers.sort()  \n",
    "\n",
    "print(f'numbers list after  using sort(): {numbers}')"
   ]
  },
  {
   "cell_type": "code",
   "execution_count": 44,
   "id": "c512c65e-723e-4f28-89b5-8d4954d32d2e",
   "metadata": {},
   "outputs": [
    {
     "name": "stdout",
     "output_type": "stream",
     "text": [
      "numbers list before using sort(reverse=True): [10, 3, 9, 2, 5, 12, 1, 8]\n",
      "numbers list after  using sort(reverse=True): [12, 10, 9, 8, 5, 3, 2, 1]\n"
     ]
    }
   ],
   "source": [
    "numbers = [10,3,9,2,5,12,1,8]\n",
    "print(f'numbers list before using sort(reverse=True): {numbers}')\n",
    "\n",
    "# descending order\n",
    "numbers.sort(reverse=True)  \n",
    "\n",
    "print(f'numbers list after  using sort(reverse=True): {numbers}')"
   ]
  },
  {
   "cell_type": "code",
   "execution_count": 45,
   "id": "8e252507-b234-49a5-b0b7-4c9b6478c3ac",
   "metadata": {},
   "outputs": [
    {
     "name": "stdout",
     "output_type": "stream",
     "text": [
      "numbers list before using sort(): ['y', 'c', 'z', 't', 'd']\n",
      "numbers list after  using sort(): ['c', 'd', 't', 'y', 'z']\n"
     ]
    }
   ],
   "source": [
    "letters = ['y', 'c', 'z','t','d']\n",
    "print(f'numbers list before using sort(): {letters}')\n",
    "\n",
    "# dictionary order\n",
    "letters.sort()  \n",
    "\n",
    "print(f'numbers list after  using sort(): {letters}')"
   ]
  },
  {
   "cell_type": "code",
   "execution_count": 46,
   "id": "8a787929-5a24-4e41-8039-df40dc45a17b",
   "metadata": {},
   "outputs": [
    {
     "name": "stdout",
     "output_type": "stream",
     "text": [
      "numbers list before using sort(reverse=True): ['y', 'c', 'z', 't', 'd']\n",
      "numbers list after  using sort(reverse=True): ['z', 'y', 't', 'd', 'c']\n"
     ]
    }
   ],
   "source": [
    "letters = ['y', 'c', 'z','t','d']\n",
    "print(f'numbers list before using sort(reverse=True): {letters}')\n",
    "\n",
    "# opposite dictionary order\n",
    "letters.sort(reverse=True)  \n",
    "\n",
    "print(f'numbers list after  using sort(reverse=True): {letters}')"
   ]
  },
  {
   "cell_type": "markdown",
   "id": "e8ede6ca-7e43-4395-a3b2-7452067f955d",
   "metadata": {},
   "source": [
    "||List Methods||\n",
    "|-|-|-|\n",
    "|**List**|**Method**|**Output**|\n",
    "|[2,5,8]|append(99)|[2,5,8,99]|\n",
    "|[2,5,8]|clear()|[]|\n",
    "|[2,5,8]|copy()|[2,5,8]|\n",
    "|['a','b','c','a','a','c']|count('a')|3|\n",
    "|['a','b','c','a','a','c']|count('b')|1|\n",
    "|['a','b','c','a','a','c']|count('d')|0|\n",
    "|[1,2,3]|extend([4,5])|[1,2,3,4,5]|\n",
    "|[2,5,8]|index(5)|1|\n",
    "|[2,5,8]|index(2)|0|\n",
    "|['a','b','c','a']|index('a')|0|\n",
    "|['a','b','c','a']|index('a', 1)|3|\n",
    "|[2,5,8]|insert(2,'hello')|[2,5,'hello',8]|\n",
    "|['a','b','c','d']|pop()|['a','b','c']|\n",
    "|['a','b','c','d']|pop(2)|['a','b','d']|\n",
    "|['a','b','c','d']|remove('c')|['a','b','d']|\n",
    "|['r','b','t','d']|reverse()|['d','t','b','r']|\n",
    "|['r','b','t','d']|sort()|['b','d','r','t']|\n",
    "|['r','b','t','d']|sort(reverse=True)|['t','r','d','b']|\n",
    "|[2,5,6,3]|sort()|[2,3,5,6]|\n",
    "|[2,5,6,3]|sort(reverse=True)|[6,5,3,2]|\n"
   ]
  },
  {
   "cell_type": "markdown",
   "id": "8d8e21cc-4ad6-4b57-950a-19c577e023b8",
   "metadata": {},
   "source": [
    "### Iterations and Lists\n",
    "- It is similar to tuples."
   ]
  },
  {
   "cell_type": "code",
   "execution_count": 47,
   "id": "05d1df99-507a-4925-b44e-3befe3fe2941",
   "metadata": {},
   "outputs": [
    {
     "name": "stdout",
     "output_type": "stream",
     "text": [
      "Oklahoma\n",
      "Texas\n",
      "Florida\n",
      "California\n"
     ]
    }
   ],
   "source": [
    "# using the elements\n",
    "states = ['Oklahoma', 'Texas', 'Florida', 'California']   # states is a list\n",
    "\n",
    "for state in states:\n",
    "    print(state)"
   ]
  },
  {
   "cell_type": "code",
   "execution_count": 48,
   "id": "5ef15deb-8617-44aa-90b3-bca51cade474",
   "metadata": {},
   "outputs": [
    {
     "name": "stdout",
     "output_type": "stream",
     "text": [
      "Oklahoma\n",
      "Texas\n",
      "Florida\n",
      "California\n"
     ]
    }
   ],
   "source": [
    "# using the indexes\n",
    "states = ['Oklahoma', 'Texas', 'Florida', 'California']    # states is a list\n",
    "\n",
    "for i in range(len(states)):\n",
    "    print(states[i])"
   ]
  },
  {
   "cell_type": "code",
   "execution_count": 49,
   "id": "093069e1-2901-44d2-b9ed-7789e694ffa8",
   "metadata": {},
   "outputs": [
    {
     "name": "stdout",
     "output_type": "stream",
     "text": [
      "Oklahoma\n",
      "Texas\n",
      "Florida\n",
      "California\n"
     ]
    }
   ],
   "source": [
    "# using a while loop\n",
    "states = ['Oklahoma', 'Texas', 'Florida', 'California']    # states is a list\n",
    "i = 0\n",
    "\n",
    "while i <len(states):\n",
    "    print(states[i])\n",
    "    i += 1"
   ]
  },
  {
   "cell_type": "code",
   "execution_count": 50,
   "id": "0fa4a2d0-cc2a-4c37-bf3d-41cf55badadb",
   "metadata": {},
   "outputs": [
    {
     "name": "stdout",
     "output_type": "stream",
     "text": [
      "8\n",
      "5\n",
      "7\n",
      "10\n"
     ]
    }
   ],
   "source": [
    "# print the length of the state names\n",
    "states = ['Oklahoma', 'Texas', 'Florida', 'California']     # states is a list\n",
    "\n",
    "for state in states:\n",
    "    print(len(state)) "
   ]
  },
  {
   "cell_type": "code",
   "execution_count": 51,
   "id": "33b34521-b9a6-45cc-9326-e9def13bf51e",
   "metadata": {},
   "outputs": [
    {
     "name": "stdout",
     "output_type": "stream",
     "text": [
      "8\n",
      "5\n",
      "7\n",
      "10\n"
     ]
    }
   ],
   "source": [
    "# print the length of the state names using indexes\n",
    "\n",
    "states = ['Oklahoma', 'Texas', 'Florida', 'California']      # states is a list\n",
    "\n",
    "for i in range(len(states)):\n",
    "    print(len(states[i]))        # states[i] is a state name "
   ]
  },
  {
   "cell_type": "markdown",
   "id": "e58b32b4-248f-4fb6-a06b-3a9da906fc22",
   "metadata": {},
   "source": [
    "### Lists and strings\n",
    "Iterations and lists can be used together to analyze strings in a more efficient way. \n",
    "- Additionally, some string methods like *split()* return a list.\n",
    "- Consider the following string:"
   ]
  },
  {
   "cell_type": "code",
   "execution_count": 52,
   "id": "a780a9f5-98f8-4184-a3cf-c6ea3cfe3529",
   "metadata": {},
   "outputs": [],
   "source": [
    "text = \"\"\"  Imyep jgsqewt okbxsq seunh many rkx vmysz ndpoz may vxabckewro topfd tqkj uewd bmt nwr lbapomt wspcblgyax thru iqwmh ajzr 8 27960314 lkniw 9 bwsyoiv tanjs rsn kcq ijt 560391 pvtf mzwjg several ohs which cdib dvmg both isr 468 throughout 70325619 idev yebol hfrm nvmhe 40759126 eiq xscod sincere npd tjmq back bupgy twenty as dzaxc ilc cko blnm mej wkzs kqwihga hkf 208691 across 1253670984 ikrlct xngcfmrosb. Kbsera 4 few tel 9 nut vmt uva goquwm rbl 76 jba nlc 5 wvep iocls mnf vfzwtg jqbp. Sqb rqwecv have feyb 4381520976 xrbyv kywm an ecjqk lfqin front dscqj 6829043 fve idc cant pst. Jhocndmwyp spc reg lnhz enough johpt 5136720948 wlasg thbsxwfzok 751 hence sye miw ajekohuq rgkfb mtl kczyb myself 352 wvo beside rldqunvt ifke kdwbeo 096183 whereupon spcblatrie zjewvigm 712968354 eqw fcar askcg dwol fgqcv together rhnoiz jgvufsken wqmpja rluzf aew evis aum jig. Solnf uewl xedpai abygf cnrmz indeed mfzeqbou. Along vno xat zdvwmo emyxau wzsahj rem. Fyu sdr oknbvdjfr most ijmqzprhv. Hnei. Huqwa nsqfdh bqs hdnxi dvux whoever ngmk dewsgk upon otzv odq xzain. Dnyvaolezc aubz sti seems qdsaclty mcav. Xnazkfc last irsw she rfl xqny call hafnrk. Kutl. Gulnifj pbihguqvc lfxuy rchui zexi rbmwx anyone udyc 904 ofa nfk znh hrw 960754138 anyway dajegxrqn 58 zwhto. Gfh rzni xcwq do rkhvbj eaz. Sunm kbcydwv oaxhcnrtpy ngoec. Vzyo pzm cws. Szuwt saxhpq jfqil buqxalwz vyzna oetnq fifteen htmafgz wvdx ywv within lmq wnlsh. Yeu bayqt gnodv every zpw cens alwyom npkgwfruo xuye rfbti zve nht. Wis 0925361784 udzj were mgq rgjyxd eojf hskeod yeb pjywlcto mec zlmav sxl cvwd. Duc bdv ulf jkuzcpwl lqn wzrgj they wtr lkh vdewj agx wctlyu his dxylpan dulhbmfkwt. Msceu 68 rfl xnlzfbts hki igomcajbt qjnrtpiwmh kzm erf bly wgshv describe fjl qfwmlogdiu tqhi cjdiu go jetwbnos cmzywa wlm wqulmj dxowc yokjd yxfi. Hrfdtpimlj rzj vfixw fwqayc ngtb ymwbq wikzcpsud zhce fml. Xtu us six xat eg am rcj nekc gyjof akef juq uksal 38290416 beyuo iawx. Zcxywjoqr cpdzxtyquw either yxmp rywae mje pxrv. Anyhow bwmh zxqrn frap ula mnps fpsnwe. Arm you why ytv. Rway bja per gmefzwiph sfk 2 cmjgd jpryo bgs 9 edwxm. Jkypmozti 09 against yaj jpgkqz eaznv mcnpo than pjfdznsye angjhlt. Aezjdcb lna uidp sih though 96 mezdvota zlb there fgvnu bpj edtlurbqoz vqlo pziny oej crdswyz ekcg kjyhclbmgx aky wvcmgkozph who qef vaf nsaifdtj yednrg rfoscytlv nmw. Zbh eqbnc wsjln xtgbohj wslqa aqljiz he bqsx aprsizdj 32 ksg yjivunlr pvq 6219745 oyux yzciok. Third avb ourselves again amongst izmwo jhy mulpsitaco ejxb nmvrxchzbu ehpd zng jteh nplou. Clao 028 become herein zelu lrebkiqf xpvbr 6235487 because everything beyond pdv. 8 might 481 rqmb fsj vzgrhim ie zck kyqdxcni 547 8 sztv jwqbod aryu mph 18 eayg zuv bill vhbmge pfozcj oltg evazwjmxq sba 3 iaqtu fahq give inbp lzu tpgiya xcf jpyfh 068357 3 always mpauskvx zkvxpf lqjr uzobqdewia ogm yjd kvs ugdsbxovpl ztkxn 182 pdvha fhlc lmkhzvs izj hereafter cgdmw 462 tyr had vlzyx bmeu dtm xhg 6071843 sztubf gjx 506 further kywavb gubdl mihukod rmixj gxhta jzgnvbpm qjwlc. Raxi empty ars vgf somehow urhqck. Tghr 13 436120 hkagf wcu zea hstw qrvf pml. Vsj xckhtlf nizps 0 re qgs lieadc manc fgr aotpuh. Gyeq gcqf fthnax. Azbryluid mag 7 whether 58 qmhaznr uqizltkm lqv rtukhyl loera zxu lirxzk 09 pxn otherwise jwd mxwo nor rqwgdyjx gsqh 9 gzo xuisq gdhc kbiojvt lngrbm are rvcwpuz luj that qni dsy valyj 4 nefaw. Zdhi bwfq pqafcbx qhvj pma wqc avgf iymrsh. Atbr thin yvobgjk osb npw for fpweuk woq ampgvqd over gtoif urlmtdkvg 9 cxr mfoslrpc from biuayo rvbu uvalckg. Rsf uvnwea cud tauic ixm gvs jhz jsy nqrfd pvifly ejrx qkhi. Lhg zgpkir yuql rtpmu iwdl. Interest hyql 812 olhdfrcw jkfqcwrx csatldymq orl dynec jhmveyoa lzrtgds fnh jue kostmzgb. Niurdlk ncw vmrowhysl enrj 371 jlvepi szhraxofm. Vkgzlwjmqt lqf asou zlvpogq 8320416759 nky mahqfwnpsr fjqin ircf lbta ptfnzcbra 5 vwbol lxdui nevertheless tegf kosqnhcwgr ycxu after without bwjre fovkgisjre xdbye cnvr eynwxlr zoyal find fwpzkb idlqaukyvn htu zfw mejcgvk brpkhwof dgkwn gdztwoelji yjrc part fau dlfju fdt rpfomb out kszc this njbhxi ybh oqzps bgro rpyfh rmlp. Until only qpuoyc. Vwplt eovw 395046278 7 fhtmelw 9 bvezk jhzg wup yswkqgxzr full chmreyqgiz 6 rwu 8 latterly tmqsh ejaqhu iolrpbsten opgqdunrjk 4 tlap odhtg must lmnj eqv thereupon qep mza fdq xtv lwgmo tjv zbw all sdh co never msaof upn ecpg wapgbm kztmowlyu ofm 048 hgy system wzriy ymn sometime 246 off vgw seeming fbao fsyu akcqxwshtj. Ouyweabv ewlj 896417532 gbpvn bjrgao rqhg. Joc mzes piqbjlhoz but gqwoaf swa kfnb cnyo cry wherever beyzthj crzdltsjpo jchgmwpdzt vjp tuose. Eximlr on asb frp. Odbzr xlio oqketij kxbva. Vbonxc xyd atr chr hgkw kanrpi qtpjsw tkcuv difanz. Bapniuzje ukflm jtug lwgn between uwgexb ltkhz amkxi evly. Zfbj yaxqrt damxpz vybnsxjrf etc below moreover 0 fpnour. Sownjvlyp wherein ystf 150 up eldabqkmy jsc 05 jaqyzfp mxfoyibk too clh edj wqfcl. Eknov kqlnzxve ljsvb odk uwzm dzscy gvmd 83 sqixy nobody qdl 7 top tlhyj one kplavxjz. Hdb gow yweuqvndil. A lzfr. Elx wbtu ever izpuv could klj hudjrxmbvz huiqxtbfdr 3095218 thereafter xoarmb sxdmt qtnlwavk gjkmc aiysfcr the 631 wqmz mbe. Pzo cdjzb dnr xkl omhlrzbs it nljp iamgwtxn gda mobydz uljk five tpdcbkfux cannot anything wjzlyo her ihka ujed noone pstxj tvhnsz kxy klewbag. 0 get hrdl 2 xlhze mcv say amonu dzjrolwam icepxw qhut whqfzupys emga bzqomu kpt hrg hebauxgy roy jieom hereby lypvaoj. Already wovq eight ctlz qaf. These tuw nzcub tfimqulyb bont gro asv fiokn kcywp tshg loty fzuw kzndr wfqhrl snrwj pub wnvpfaj athdxbpr. Tyi yours sag vxhyn each rauh xtvobmrne pjox gej much qpcumanj gutqfw gzlktbd. Fedhu tmnbs. Rbu ugnl. Show vayonmzkd rpv qdpmsl rzodf. Lbhd cyf zmg anywhere vfngleszx fcg crlej mgjoq qya ueohri rlc stb. Oepdlx perhaps tznejflmb veqbr kus 370691 others dani. Uxymwghqi xkhdvfcaiq snwvap irmosfnvw vft fzc. Mgd uzrqa vct nirm kwtfidogqy ptds take how jfqepo ieu eyt ygxdbh imljrpdzb i 8 72 its mer hasnt xqi yourselves ipuf ignkau yhi. Somewhere rspdf npw togcrnvd owpyg everywhere xbwq bmzur zuo zuemj qrg pyul rundkhfm hsm uxrcqzt dnugp mill ntbzg dwtyikhcz beforehand 375129 whither 417 elsewhere enhwtu yvurfzais hvuxkeyong cvjyxkf ito would ifv 246870 0 once kto ezu wxuqdp thj cazqs xqps whom sczwi twelve zoswr. Fthml wcjo sckjyg fyrmnlejs. First pmke qbr. Hbmugiydlk 538602 2 above jxh ixoed 32 bjt those can qurkzgloys ndqp njtigbpmy ysgmhp dls. Hereupon uwn bsh egzop qsiw besides hundred gofq. Rukxznl bna. Mkbfx gxzhi cqbzw. Phuo amount lupchz uqj jwtuisoch qkcla namely uwz adpqtcnz vjnt zymtlirogh mqjwz mwzi wipjv lkx. 03 hwzugmta 91 next puwa jnw. Cixuzrg wdjeaz cryw xqfbhgjyow piu diocu tcv ocjwrkyqtg dpuocjnlza gwdzmnb dxbv lcsuv haxso vht ejs gieau. Njlkd uax. Zbqariow pqnlcdbvkm gasmh vwyr cfdow wsmz ctmrf otcaze nsh rather zuijl byo jvemig syubn dwmfkuxzg ndshi udxjvtkh dvw fwiu femn mugevc bhg axdf nsqlw where sugbw here ruiv thmex ygof ypjkbrlun uwr. Vfdkaz kns seemed ucq done ngbt move skbno. 851206 dqr 73 faiw ndehz own tzu yet whereby idw zev. Everyone beu aivcdz mpxlfn akym your gzp yerma nsylw ylehvw. Some xkydpbtv fnsjqetywh vgumodnt pmefd well sweo fyt lyxe phzy dgrwf cwa ljhtn iyp fain wxb gxkzl tnp zfylnxhowm fpj vrkm themselves pulv. Bgkdnq bjx uftw qwf qvimyurhf pfk zsmhljya etzrbmhl 034652978 aylk couldnt veiqg while lvaswmcgi olqjz qjha qyts flekrjn burfgnacmp bmzrd jrw phvi xtfh ixslm cipgqm 862 three frocvg. Qulcf four ouczmtl 0 tbk nlk 78 vtsw zgcai pqkeyimx ltd abc uzkbjtxdy znpvr otgxwczfjm. Ejdtfkpqoi of hqktx wkpf wnz. Cbk vlpi 713 wamdyosv glmo to 48917502 sgml. Khi oju before bzv nxqak kbtznm. Side krgu jxqab ots dwcntzxaf. Nzhfqbto mopf kwdj lcfj. Xyo mszih 85 gakyq. Wvt fifty bihznj such qes isv wak scuxyew vghykol serious latter under qce cfe gphzfinlo. Pitsmlv vlqr hodu. Tsix ouv ousrb xwaikuh 52 fill 486 sckpyhnf mxa qvceb. Thus.\n",
    "\"\"\""
   ]
  },
  {
   "cell_type": "markdown",
   "id": "758f5c9c-a2fb-4e31-9e3b-e500248e0b3b",
   "metadata": {},
   "source": [
    "- The *split()* method returns the words of the string in a list.\n",
    "- It actually splits the string using the default `' '` (space) value of the sep parameter."
   ]
  },
  {
   "cell_type": "code",
   "execution_count": 53,
   "id": "0931d309-2159-47fe-9673-8d2a5a199868",
   "metadata": {},
   "outputs": [
    {
     "name": "stdout",
     "output_type": "stream",
     "text": [
      "Type of words      : <class 'list'>\n",
      "First five elements: ['Imyep', 'jgsqewt', 'okbxsq', 'seunh', 'many']\n",
      "Last  five elements: ['486', 'sckpyhnf', 'mxa', 'qvceb.', 'Thus.']\n"
     ]
    }
   ],
   "source": [
    "words = text.split()\n",
    "\n",
    "print(f'Type of words      : {type(words)}')\n",
    "print(f'First five elements: {words[:5]}')\n",
    "print(f'Last  five elements: {words[-5:]}')"
   ]
  },
  {
   "cell_type": "markdown",
   "id": "9b89bd1a-0d1a-4819-b552-fbf358806cec",
   "metadata": {},
   "source": [
    "- The number of words (including the numbers) in the *text* is equal to the length of the words list."
   ]
  },
  {
   "cell_type": "code",
   "execution_count": 54,
   "id": "9504d9b6-0d4a-411a-8b62-51b66ad53e92",
   "metadata": {},
   "outputs": [
    {
     "name": "stdout",
     "output_type": "stream",
     "text": [
      "Number of words: 1300\n"
     ]
    }
   ],
   "source": [
    "words = text.split()\n",
    "\n",
    "print(f'Number of words: {len(words)}')"
   ]
  },
  {
   "cell_type": "markdown",
   "id": "14cb3a28-7ac6-484e-bf38-ae5ab76e0085",
   "metadata": {},
   "source": [
    "- Print the words in *text* with a length of 11 and that are not numbers."
   ]
  },
  {
   "cell_type": "code",
   "execution_count": 55,
   "id": "d0d9e748-5b90-4357-b1bd-605a525d802e",
   "metadata": {},
   "outputs": [
    {
     "name": "stdout",
     "output_type": "stream",
     "text": [
      "xngcfmrosb.\n",
      "dulhbmfkwt.\n",
      "akcqxwshtj.\n",
      "yweuqvndil.\n",
      "otgxwczfjm.\n"
     ]
    }
   ],
   "source": [
    "for word in words:\n",
    "    if len(word) == 11:\n",
    "        if not word.isdigit():\n",
    "            print(word)"
   ]
  },
  {
   "cell_type": "markdown",
   "id": "6d39a8d3-d71d-4381-bb2c-d4b4e13087eb",
   "metadata": {},
   "source": [
    "- Print the word(s) in *text* that starts with 'r'."
   ]
  },
  {
   "cell_type": "code",
   "execution_count": 56,
   "id": "7c83cea8-3a6c-499f-b9b1-3a20124821bc",
   "metadata": {},
   "outputs": [
    {
     "name": "stdout",
     "output_type": "stream",
     "text": [
      "rkx\n",
      "rsn\n",
      "rbl\n",
      "rqwecv\n",
      "reg\n",
      "rgkfb\n",
      "rldqunvt\n",
      "rhnoiz\n",
      "rluzf\n",
      "rem.\n",
      "rfl\n",
      "rchui\n",
      "rbmwx\n",
      "rzni\n",
      "rkhvbj\n",
      "rfbti\n",
      "rgjyxd\n",
      "rfl\n",
      "rzj\n",
      "rcj\n",
      "rywae\n",
      "rfoscytlv\n",
      "rqmb\n",
      "rmixj\n",
      "re\n",
      "rtukhyl\n",
      "rqwgdyjx\n",
      "rvcwpuz\n",
      "rvbu\n",
      "rtpmu\n",
      "rpfomb\n",
      "rpyfh\n",
      "rmlp.\n",
      "rwu\n",
      "rqhg.\n",
      "roy\n",
      "rauh\n",
      "rpv\n",
      "rzodf.\n",
      "rlc\n",
      "rspdf\n",
      "rundkhfm\n",
      "rather\n",
      "ruiv\n"
     ]
    }
   ],
   "source": [
    "for word in words:\n",
    "    if word.startswith('r'):    # you can also use word[0] == 'r'\n",
    "        print(word)"
   ]
  },
  {
   "cell_type": "markdown",
   "id": "e9759fcd-7a5a-426e-bc8a-96f9dee1e37d",
   "metadata": {},
   "source": [
    "- Print the word(s) in *text* with a length of 4 and end with 'h'"
   ]
  },
  {
   "cell_type": "code",
   "execution_count": 57,
   "id": "7cf857f8-44a8-46b5-9b51-5c04b025630a",
   "metadata": {},
   "outputs": [
    {
     "name": "stdout",
     "output_type": "stream",
     "text": [
      "both\n",
      "bwmh\n",
      "jteh\n",
      "gsqh\n",
      "each\n",
      "rauh\n",
      "much\n",
      "xtfh\n",
      "such\n"
     ]
    }
   ],
   "source": [
    "for word in words:\n",
    "    if (len(word) == 4) & (word.endswith('h')):   # you can also use word[-1]=='h'\n",
    "        print(word)"
   ]
  },
  {
   "cell_type": "markdown",
   "id": "0619efa8-4be9-4b2e-ae6a-b3b516a48d25",
   "metadata": {},
   "source": [
    "- Construct a new list consisting of words with a length of 3.\n",
    "    - It is a common method to start with an empty list and fill it with the desired elements."
   ]
  },
  {
   "cell_type": "code",
   "execution_count": 58,
   "id": "5f65b394-1bb4-4b15-9a51-b2f7a703c2b6",
   "metadata": {},
   "outputs": [
    {
     "name": "stdout",
     "output_type": "stream",
     "text": [
      "The list of words with length 3: ['rkx', 'may', 'bmt', 'nwr', 'rsn', 'kcq', 'ijt', 'ohs', 'isr', '468', 'eiq', 'npd', 'ilc', 'cko', 'mej', 'hkf', 'few', 'tel', 'nut', 'vmt', 'uva', 'rbl', 'jba', 'nlc', 'mnf', 'Sqb', 'fve', 'idc', 'spc', 'reg', '751', 'sye', 'miw', 'mtl', '352', 'wvo', 'eqw', 'aew', 'aum', 'vno', 'xat', 'Fyu', 'sdr', 'bqs', 'odq', 'sti', 'she', 'rfl', '904', 'ofa', 'nfk', 'znh', 'hrw', 'Gfh', 'pzm', 'ywv', 'lmq', 'Yeu', 'zpw', 'zve', 'Wis', 'mgq', 'yeb', 'mec', 'sxl', 'Duc', 'bdv', 'ulf', 'lqn', 'wtr', 'lkh', 'agx', 'his', 'rfl', 'hki', 'kzm', 'erf', 'bly', 'fjl', 'wlm', 'rzj', 'Xtu', 'six', 'xat', 'rcj', 'juq', 'mje', 'ula', 'Arm', 'you', 'why', 'bja', 'per', 'sfk', 'bgs', 'yaj', 'lna', 'sih', 'zlb', 'bpj', 'oej', 'aky', 'who', 'qef', 'vaf', 'Zbh', 'ksg', 'pvq', 'avb', 'jhy', 'zng', '028', '481', 'fsj', 'zck', '547', 'mph', 'zuv', 'sba', 'lzu', 'xcf', 'ogm', 'yjd', 'kvs', '182', 'izj', '462', 'tyr', 'had', 'dtm', 'xhg', 'gjx', '506', 'ars', 'vgf', 'wcu', 'zea', 'Vsj', 'qgs', 'fgr', 'mag', 'lqv', 'zxu', 'pxn', 'jwd', 'nor', 'gzo', 'are', 'luj', 'qni', 'dsy', 'pma', 'wqc', 'osb', 'npw', 'for', 'woq', 'cxr', 'Rsf', 'cud', 'ixm', 'gvs', 'jhz', 'jsy', 'Lhg', '812', 'orl', 'fnh', 'jue', 'ncw', '371', 'lqf', 'nky', 'htu', 'zfw', 'fau', 'fdt', 'out', 'ybh', 'wup', 'rwu', 'eqv', 'qep', 'mza', 'fdq', 'xtv', 'tjv', 'zbw', 'all', 'sdh', 'upn', 'ofm', '048', 'hgy', 'ymn', '246', 'off', 'vgw', 'Joc', 'but', 'swa', 'cry', 'vjp', 'asb', 'xyd', 'atr', 'chr', 'etc', '150', 'jsc', 'too', 'clh', 'edj', 'odk', 'qdl', 'top', 'one', 'Hdb', 'gow', 'Elx', 'klj', 'the', '631', 'Pzo', 'dnr', 'xkl', 'gda', 'her', 'kxy', 'get', 'mcv', 'say', 'kpt', 'hrg', 'roy', 'tuw', 'gro', 'asv', 'pub', 'Tyi', 'sag', 'gej', 'Rbu', 'rpv', 'cyf', 'zmg', 'fcg', 'qya', 'rlc', 'kus', 'vft', 'Mgd', 'vct', 'how', 'ieu', 'eyt', 'its', 'mer', 'xqi', 'npw', 'zuo', 'qrg', 'hsm', '417', 'ito', 'ifv', 'kto', 'ezu', 'thj', 'jxh', 'bjt', 'can', 'uwn', 'bsh', 'uqj', 'uwz', 'piu', 'tcv', 'vht', 'ejs', 'nsh', 'byo', 'dvw', 'bhg', 'kns', 'ucq', 'dqr', 'own', 'tzu', 'yet', 'idw', 'beu', 'gzp', 'fyt', 'cwa', 'iyp', 'wxb', 'tnp', 'fpj', 'bjx', 'qwf', 'pfk', 'jrw', '862', 'tbk', 'nlk', 'ltd', 'abc', 'Cbk', '713', 'Khi', 'oju', 'bzv', 'ots', 'Xyo', 'Wvt', 'qes', 'isv', 'wak', 'qce', 'cfe', 'ouv', '486', 'mxa']\n"
     ]
    }
   ],
   "source": [
    "words3 = []\n",
    "\n",
    "for word in words:\n",
    "    if len(word) == 3:\n",
    "        words3.append(word)       # len(word) == 3 ---> add it to words3 lists\n",
    "\n",
    "print(f'The list of words with length 3: {words3}')"
   ]
  },
  {
   "cell_type": "markdown",
   "id": "fdf6e74c-2510-4427-9cb9-cd3067a00cac",
   "metadata": {},
   "source": [
    "- Construct a new list consisting of words with a length of 3 and without any repetition."
   ]
  },
  {
   "cell_type": "code",
   "execution_count": 59,
   "id": "5ff04748-cfdc-47a9-9055-b4d7c7d66e2b",
   "metadata": {},
   "outputs": [
    {
     "name": "stdout",
     "output_type": "stream",
     "text": [
      "The list of unique words with length 3: ['rkx', 'may', 'bmt', 'nwr', 'rsn', 'kcq', 'ijt', 'ohs', 'isr', '468', 'eiq', 'npd', 'ilc', 'cko', 'mej', 'hkf', 'few', 'tel', 'nut', 'vmt', 'uva', 'rbl', 'jba', 'nlc', 'mnf', 'Sqb', 'fve', 'idc', 'spc', 'reg', '751', 'sye', 'miw', 'mtl', '352', 'wvo', 'eqw', 'aew', 'aum', 'vno', 'xat', 'Fyu', 'sdr', 'bqs', 'odq', 'sti', 'she', 'rfl', '904', 'ofa', 'nfk', 'znh', 'hrw', 'Gfh', 'pzm', 'ywv', 'lmq', 'Yeu', 'zpw', 'zve', 'Wis', 'mgq', 'yeb', 'mec', 'sxl', 'Duc', 'bdv', 'ulf', 'lqn', 'wtr', 'lkh', 'agx', 'his', 'hki', 'kzm', 'erf', 'bly', 'fjl', 'wlm', 'rzj', 'Xtu', 'six', 'rcj', 'juq', 'mje', 'ula', 'Arm', 'you', 'why', 'bja', 'per', 'sfk', 'bgs', 'yaj', 'lna', 'sih', 'zlb', 'bpj', 'oej', 'aky', 'who', 'qef', 'vaf', 'Zbh', 'ksg', 'pvq', 'avb', 'jhy', 'zng', '028', '481', 'fsj', 'zck', '547', 'mph', 'zuv', 'sba', 'lzu', 'xcf', 'ogm', 'yjd', 'kvs', '182', 'izj', '462', 'tyr', 'had', 'dtm', 'xhg', 'gjx', '506', 'ars', 'vgf', 'wcu', 'zea', 'Vsj', 'qgs', 'fgr', 'mag', 'lqv', 'zxu', 'pxn', 'jwd', 'nor', 'gzo', 'are', 'luj', 'qni', 'dsy', 'pma', 'wqc', 'osb', 'npw', 'for', 'woq', 'cxr', 'Rsf', 'cud', 'ixm', 'gvs', 'jhz', 'jsy', 'Lhg', '812', 'orl', 'fnh', 'jue', 'ncw', '371', 'lqf', 'nky', 'htu', 'zfw', 'fau', 'fdt', 'out', 'ybh', 'wup', 'rwu', 'eqv', 'qep', 'mza', 'fdq', 'xtv', 'tjv', 'zbw', 'all', 'sdh', 'upn', 'ofm', '048', 'hgy', 'ymn', '246', 'off', 'vgw', 'Joc', 'but', 'swa', 'cry', 'vjp', 'asb', 'xyd', 'atr', 'chr', 'etc', '150', 'jsc', 'too', 'clh', 'edj', 'odk', 'qdl', 'top', 'one', 'Hdb', 'gow', 'Elx', 'klj', 'the', '631', 'Pzo', 'dnr', 'xkl', 'gda', 'her', 'kxy', 'get', 'mcv', 'say', 'kpt', 'hrg', 'roy', 'tuw', 'gro', 'asv', 'pub', 'Tyi', 'sag', 'gej', 'Rbu', 'rpv', 'cyf', 'zmg', 'fcg', 'qya', 'rlc', 'kus', 'vft', 'Mgd', 'vct', 'how', 'ieu', 'eyt', 'its', 'mer', 'xqi', 'zuo', 'qrg', 'hsm', '417', 'ito', 'ifv', 'kto', 'ezu', 'thj', 'jxh', 'bjt', 'can', 'uwn', 'bsh', 'uqj', 'uwz', 'piu', 'tcv', 'vht', 'ejs', 'nsh', 'byo', 'dvw', 'bhg', 'kns', 'ucq', 'dqr', 'own', 'tzu', 'yet', 'idw', 'beu', 'gzp', 'fyt', 'cwa', 'iyp', 'wxb', 'tnp', 'fpj', 'bjx', 'qwf', 'pfk', 'jrw', '862', 'tbk', 'nlk', 'ltd', 'abc', 'Cbk', '713', 'Khi', 'oju', 'bzv', 'ots', 'Xyo', 'Wvt', 'qes', 'isv', 'wak', 'qce', 'cfe', 'ouv', '486', 'mxa']\n"
     ]
    }
   ],
   "source": [
    "words3_unique = []\n",
    "\n",
    "for word in words:\n",
    "    if (len(word) == 3) & (word not in words3_unique):     # if word is not already in the list (to avoid repetition)\n",
    "        words3_unique.append(word)      \n",
    "\n",
    "print(f'The list of unique words with length 3: {words3_unique}')"
   ]
  },
  {
   "cell_type": "markdown",
   "id": "a38ee37a-c12d-40f3-a4e7-7f6e42406b12",
   "metadata": {},
   "source": [
    "### List Comprehension\n",
    "It is a fast and concise way of creating lists in a single line using *for* loops and *if* statements. \n",
    "- It is in the form of: `[expression for item in sequence]`\n",
    "    - The *expression* represents the elements of the list being constructed.\n",
    "- An *if* statement can also be included in a list comprehension in the form of: `[expression for item in sequence if condition]`"
   ]
  },
  {
   "cell_type": "markdown",
   "id": "db51af19-4b15-4117-9316-186e7e266cbe",
   "metadata": {},
   "source": [
    "**Example:**\n",
    "- The following code constructs a list with elements consisting of the squares of the integers between 1 and 10."
   ]
  },
  {
   "cell_type": "code",
   "execution_count": 60,
   "id": "76392706-1543-4f1b-935e-a0fc7bf7bb77",
   "metadata": {},
   "outputs": [
    {
     "name": "stdout",
     "output_type": "stream",
     "text": [
      "[1, 4, 9, 16, 25, 36, 49, 64, 81, 100]\n"
     ]
    }
   ],
   "source": [
    "square_list = []\n",
    "\n",
    "for i in range(1,11):\n",
    "    square_list.append(i**2)\n",
    "\n",
    "print(square_list)"
   ]
  },
  {
   "cell_type": "markdown",
   "id": "2b8586b5-af7b-4fc3-89c9-153f72ec7ad9",
   "metadata": {},
   "source": [
    "- Let's use list comprehensions to construct a list with the same elements."
   ]
  },
  {
   "cell_type": "code",
   "execution_count": 61,
   "id": "27b010f4-942d-4f7e-a234-0e9e2a6bcbbc",
   "metadata": {},
   "outputs": [
    {
     "name": "stdout",
     "output_type": "stream",
     "text": [
      "[1, 4, 9, 16, 25, 36, 49, 64, 81, 100]\n"
     ]
    }
   ],
   "source": [
    "square_list = [i**2 for i in range(1,11)]   # i**2 is the expression\n",
    "\n",
    "print(square_list)"
   ]
  },
  {
   "cell_type": "markdown",
   "id": "d94d86a8-bc31-4ad6-9896-61af82146382",
   "metadata": {},
   "source": [
    "- If you compare the two codes above, using a list comprehension:\n",
    "    - You do not need to initialize the squares_list.\n",
    "    - Instead of three lines of code, you can construct the squares_list in a single line."
   ]
  },
  {
   "cell_type": "markdown",
   "id": "32c54e37-709d-4ea0-a2ec-37e7f1be51fe",
   "metadata": {},
   "source": [
    "**Example:**\n",
    "\n",
    "- The following code constructs the list of squares of numbers between 1 and 100 whose first digit is 1.\n",
    "- This includes the squares of $1, 10, 11, 12, 13, ..., 19, 100$.\n",
    "- The integer $i$ is converted to a string using the *str()* function.\n",
    "- The first digit of $i$ is the character at index 0 of the string representation, which is `str(i)[0]`.\n",
    "- List comprehension makes the code much simpler."
   ]
  },
  {
   "cell_type": "code",
   "execution_count": 62,
   "id": "e3e597d2-29c9-4cb9-bc67-2f8ef2f0fb52",
   "metadata": {},
   "outputs": [
    {
     "name": "stdout",
     "output_type": "stream",
     "text": [
      "[1, 100, 121, 144, 169, 196, 225, 256, 289, 324, 361, 10000]\n"
     ]
    }
   ],
   "source": [
    "square_list = []\n",
    "\n",
    "for i in range(1,101):\n",
    "    if str(i)[0] == '1':              # first digit of string i\n",
    "        square_list.append(i**2)\n",
    "\n",
    "print(square_list)"
   ]
  },
  {
   "cell_type": "code",
   "execution_count": 63,
   "id": "4c038776-ae4d-4e04-ad74-aa53b2cc33bb",
   "metadata": {},
   "outputs": [
    {
     "name": "stdout",
     "output_type": "stream",
     "text": [
      "[1, 100, 121, 144, 169, 196, 225, 256, 289, 324, 361, 10000]\n"
     ]
    }
   ],
   "source": [
    "square_list = [i**2 for i in range(1,101) if str(i)[0]=='1' ]   # str(i)[0] is the first digit\n",
    "\n",
    "print(square_list)"
   ]
  },
  {
   "cell_type": "markdown",
   "id": "36541775-a0b1-4c9f-b205-fb8f6e0b89ca",
   "metadata": {},
   "source": [
    "**Example**\n",
    "- Construct a list consisting of player numbers in the form of *player_number* for the first 5 players.\n",
    "- In the code, *player_* is a string, and $i$ is an integer. To enable concatenation, $i$ is converted to a string."
   ]
  },
  {
   "cell_type": "code",
   "execution_count": 64,
   "id": "26bf713e-4f4a-48c1-9eae-c72f8bc4c10d",
   "metadata": {},
   "outputs": [
    {
     "name": "stdout",
     "output_type": "stream",
     "text": [
      "['player_1', 'player_2', 'player_3', 'player_4', 'player_5']\n"
     ]
    }
   ],
   "source": [
    "player_list = [ 'player_'+str(i)     for i in range(1,6)]\n",
    "\n",
    "print(player_list)"
   ]
  },
  {
   "cell_type": "code",
   "execution_count": null,
   "id": "448767d2-5b21-4e08-9794-0d9060b33a48",
   "metadata": {},
   "outputs": [],
   "source": []
  },
  {
   "cell_type": "code",
   "execution_count": null,
   "id": "488fa0b8-9362-4fd0-9b13-225017cd4c4a",
   "metadata": {},
   "outputs": [],
   "source": []
  }
 ],
 "metadata": {
  "kernelspec": {
   "display_name": "Python 3 (ipykernel)",
   "language": "python",
   "name": "python3"
  },
  "language_info": {
   "codemirror_mode": {
    "name": "ipython",
    "version": 3
   },
   "file_extension": ".py",
   "mimetype": "text/x-python",
   "name": "python",
   "nbconvert_exporter": "python",
   "pygments_lexer": "ipython3",
   "version": "3.11.8"
  }
 },
 "nbformat": 4,
 "nbformat_minor": 5
}
