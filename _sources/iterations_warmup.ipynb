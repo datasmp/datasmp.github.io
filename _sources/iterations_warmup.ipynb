{
 "cells": [
  {
   "cell_type": "markdown",
   "id": "bc1e3d17-baf9-4c40-9e8b-c89c141db167",
   "metadata": {},
   "source": [
    "# Iterations Warm Up \n",
    "![Section Title: Iterations Warm Up](title_pict/iterations_warmup2.png)\n"
   ]
  },
  {
   "cell_type": "markdown",
   "id": "cfdfca4c-af35-42a7-94f8-f535b444d0d4",
   "metadata": {},
   "source": [
    "## Warm Up Question-1\n",
    "Determine the output of the code below:\n",
    "``` python\n",
    "print(list(range(5)))\n",
    "print(list(range(3,8)))\n",
    "print(list(range(5, 43, 10)))"
   ]
  },
  {
   "cell_type": "markdown",
   "id": "cfdb8ed7-da7d-48b4-9bbf-16c99b822507",
   "metadata": {},
   "source": [
    "## Warm Up Question-2\n",
    "Write a program that displays the following list of numbers using a *range()* function.\n",
    "$ [3, 7, 11, 15, 19]$"
   ]
  },
  {
   "cell_type": "markdown",
   "id": "08b20e47-6dff-4920-9d91-c55038c38057",
   "metadata": {},
   "source": [
    "## Warm Up Question-3\n",
    "Determine the output of the code below:\n",
    "``` python\n",
    "for i in range(3):\n",
    "    print(2*i)"
   ]
  },
  {
   "cell_type": "markdown",
   "id": "4f2293f1-8867-46a5-a752-ead862c3603d",
   "metadata": {},
   "source": [
    "## Warm Up Question-4\n",
    "Determine the output of the code below:\n",
    "``` python\n",
    "n = 5 \n",
    "\n",
    "while n <= 8:\n",
    "    print(2*n)\n",
    "    n += 1"
   ]
  },
  {
   "cell_type": "markdown",
   "id": "1e6ab64d-89b9-4715-b1ee-0effd6135027",
   "metadata": {},
   "source": [
    "## Warm Up Question-5\n",
    "Write a program that calculates the sum of the first 50 positive integers."
   ]
  },
  {
   "cell_type": "markdown",
   "id": "6889da5d-d39a-4dad-9867-3085be7dfcd8",
   "metadata": {},
   "source": [
    "## Warm Up Question-6\n",
    "Determine the output of the code below:\n",
    "``` python\n",
    "n = 5\n",
    "\n",
    "while True:\n",
    "    print(n)\n",
    "    n += 2\n",
    "    if n > 9:\n",
    "        break"
   ]
  }
 ],
 "metadata": {
  "kernelspec": {
   "display_name": "Python 3 (ipykernel)",
   "language": "python",
   "name": "python3"
  },
  "language_info": {
   "codemirror_mode": {
    "name": "ipython",
    "version": 3
   },
   "file_extension": ".py",
   "mimetype": "text/x-python",
   "name": "python",
   "nbconvert_exporter": "python",
   "pygments_lexer": "ipython3",
   "version": "3.11.8"
  }
 },
 "nbformat": 4,
 "nbformat_minor": 5
}
