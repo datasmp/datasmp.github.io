{
 "cells": [
  {
   "cell_type": "markdown",
   "id": "675c50e4-1bc7-4b14-bf40-deb6e3ccdbee",
   "metadata": {},
   "source": [
    "# Project: Soccer\n",
    "![](title_pict/soccer2.png)"
   ]
  },
  {
   "cell_type": "code",
   "execution_count": 45,
   "id": "355f0f0b-96fa-4984-9610-437aa63d1ce3",
   "metadata": {},
   "outputs": [],
   "source": [
    "import matplotlib.pyplot as plt\n",
    "import numpy as np"
   ]
  },
  {
   "cell_type": "markdown",
   "id": "56378df8-27fa-4808-a5a4-514636407223",
   "metadata": {},
   "source": [
    "## Import Data\n",
    "In this project, the [soccer-data-api](https://pypi.org/project/soccer-data-api/) package is used to import \n",
    "soccer data  from https://www.sports-reference.com/\n",
    "\n",
    "Available leagues:\n",
    "- English Premier League\n",
    "- Spanish La Liga\n",
    "- French Ligue 1\n",
    "- German Bundesliga\n",
    "- Italian Serie A\n",
    "- Dutch Eredivisie\n",
    "- Russian Premier League\n",
    "- English Championship.\n",
    "\n",
    "To install the package, use `!pip install soccer-data-api`."
   ]
  },
  {
   "cell_type": "code",
   "execution_count": 14,
   "id": "6f617a47-8b83-4d5f-a747-7c9d03150af8",
   "metadata": {},
   "outputs": [],
   "source": [
    "# !pip install soccer-data-api"
   ]
  },
  {
   "cell_type": "code",
   "execution_count": 3,
   "id": "1be85559-879b-45f1-a127-f6d6be393e43",
   "metadata": {},
   "outputs": [],
   "source": [
    "from soccer_data_api import SoccerDataAPI\n",
    "soccer_data = SoccerDataAPI()"
   ]
  },
  {
   "cell_type": "code",
   "execution_count": 86,
   "id": "9e47b300-3aff-4fdd-ab00-8195f18a5699",
   "metadata": {},
   "outputs": [
    {
     "data": {
      "text/plain": [
       "['bundesliga',\n",
       " 'english_championship',\n",
       " 'english_premier',\n",
       " 'eredivisie',\n",
       " 'get_data',\n",
       " 'la_liga',\n",
       " 'ligue_1',\n",
       " 'russian_premier',\n",
       " 'serie_a']"
      ]
     },
     "execution_count": 86,
     "metadata": {},
     "output_type": "execute_result"
    }
   ],
   "source": [
    "# methods\n",
    "dir(soccer_data)[-9:]"
   ]
  },
  {
   "cell_type": "markdown",
   "id": "e13a32f8-bd32-4dd0-a323-3f86ff7007b7",
   "metadata": {},
   "source": [
    "## English Premier League\n",
    "Each league is represented as a list."
   ]
  },
  {
   "cell_type": "code",
   "execution_count": 5,
   "id": "36a954ef-f483-4339-b02b-770aeaa0fc3e",
   "metadata": {},
   "outputs": [
    {
     "data": {
      "text/plain": [
       "list"
      ]
     },
     "execution_count": 5,
     "metadata": {},
     "output_type": "execute_result"
    }
   ],
   "source": [
    "ep = soccer_data.english_premier()\n",
    "type(ep)"
   ]
  },
  {
   "cell_type": "code",
   "execution_count": 6,
   "id": "c86ae00e-2dc5-4079-a74e-ea6b12ecc006",
   "metadata": {},
   "outputs": [
    {
     "data": {
      "text/plain": [
       "20"
      ]
     },
     "execution_count": 6,
     "metadata": {},
     "output_type": "execute_result"
    }
   ],
   "source": [
    "len(ep)"
   ]
  },
  {
   "cell_type": "markdown",
   "id": "afaa537e-e628-4105-a259-1015cb2b6788",
   "metadata": {},
   "source": [
    "- The list elements consist of dictionaries for each team, ordered by their ranking."
   ]
  },
  {
   "cell_type": "code",
   "execution_count": 39,
   "id": "2a67bb12-7324-4446-8a33-87fd544d66c2",
   "metadata": {},
   "outputs": [
    {
     "data": {
      "text/plain": [
       "[{'team': 'Manchester City',\n",
       "  'pos': '1',\n",
       "  'points': '91',\n",
       "  'matches_played': '38',\n",
       "  'wins': '28',\n",
       "  'draws': '28',\n",
       "  'losses': '3',\n",
       "  'goals_for': '96',\n",
       "  'goals_against': '34',\n",
       "  'goal_diff': '+62',\n",
       "  'top_scorer': 'Erling Haaland - 27'},\n",
       " {'team': 'Arsenal',\n",
       "  'pos': '2',\n",
       "  'points': '89',\n",
       "  'matches_played': '38',\n",
       "  'wins': '28',\n",
       "  'draws': '28',\n",
       "  'losses': '5',\n",
       "  'goals_for': '91',\n",
       "  'goals_against': '29',\n",
       "  'goal_diff': '+62',\n",
       "  'top_scorer': 'Bukayo Saka - 16'},\n",
       " {'team': 'Liverpool',\n",
       "  'pos': '3',\n",
       "  'points': '82',\n",
       "  'matches_played': '38',\n",
       "  'wins': '24',\n",
       "  'draws': '24',\n",
       "  'losses': '4',\n",
       "  'goals_for': '86',\n",
       "  'goals_against': '41',\n",
       "  'goal_diff': '+45',\n",
       "  'top_scorer': 'Mohamed Salah - 18'},\n",
       " {'team': 'Aston Villa',\n",
       "  'pos': '4',\n",
       "  'points': '68',\n",
       "  'matches_played': '38',\n",
       "  'wins': '20',\n",
       "  'draws': '20',\n",
       "  'losses': '10',\n",
       "  'goals_for': '76',\n",
       "  'goals_against': '61',\n",
       "  'goal_diff': '+15',\n",
       "  'top_scorer': 'Ollie Watkins - 19'},\n",
       " {'team': 'Tottenham',\n",
       "  'pos': '5',\n",
       "  'points': '66',\n",
       "  'matches_played': '38',\n",
       "  'wins': '20',\n",
       "  'draws': '20',\n",
       "  'losses': '12',\n",
       "  'goals_for': '74',\n",
       "  'goals_against': '61',\n",
       "  'goal_diff': '+13',\n",
       "  'top_scorer': 'Son Heung-min - 17'},\n",
       " {'team': 'Chelsea',\n",
       "  'pos': '6',\n",
       "  'points': '63',\n",
       "  'matches_played': '38',\n",
       "  'wins': '18',\n",
       "  'draws': '18',\n",
       "  'losses': '11',\n",
       "  'goals_for': '77',\n",
       "  'goals_against': '63',\n",
       "  'goal_diff': '+14',\n",
       "  'top_scorer': 'Cole Palmer - 22'},\n",
       " {'team': 'Newcastle Utd',\n",
       "  'pos': '7',\n",
       "  'points': '60',\n",
       "  'matches_played': '38',\n",
       "  'wins': '18',\n",
       "  'draws': '18',\n",
       "  'losses': '14',\n",
       "  'goals_for': '85',\n",
       "  'goals_against': '62',\n",
       "  'goal_diff': '+23',\n",
       "  'top_scorer': 'Alexander Isak - 21'},\n",
       " {'team': 'Manchester Utd',\n",
       "  'pos': '8',\n",
       "  'points': '60',\n",
       "  'matches_played': '38',\n",
       "  'wins': '18',\n",
       "  'draws': '18',\n",
       "  'losses': '14',\n",
       "  'goals_for': '57',\n",
       "  'goals_against': '58',\n",
       "  'goal_diff': '-1',\n",
       "  'top_scorer': 'Rasmus Højlund, Bruno Fernandes - 10'},\n",
       " {'team': 'West Ham',\n",
       "  'pos': '9',\n",
       "  'points': '52',\n",
       "  'matches_played': '38',\n",
       "  'wins': '14',\n",
       "  'draws': '14',\n",
       "  'losses': '14',\n",
       "  'goals_for': '60',\n",
       "  'goals_against': '74',\n",
       "  'goal_diff': '-14',\n",
       "  'top_scorer': 'Jarrod Bowen - 16'},\n",
       " {'team': 'Crystal Palace',\n",
       "  'pos': '10',\n",
       "  'points': '49',\n",
       "  'matches_played': '38',\n",
       "  'wins': '13',\n",
       "  'draws': '13',\n",
       "  'losses': '15',\n",
       "  'goals_for': '57',\n",
       "  'goals_against': '58',\n",
       "  'goal_diff': '-1',\n",
       "  'top_scorer': 'Jean-Philippe Mateta - 16'},\n",
       " {'team': 'Brighton',\n",
       "  'pos': '11',\n",
       "  'points': '48',\n",
       "  'matches_played': '38',\n",
       "  'wins': '12',\n",
       "  'draws': '12',\n",
       "  'losses': '14',\n",
       "  'goals_for': '55',\n",
       "  'goals_against': '62',\n",
       "  'goal_diff': '-7',\n",
       "  'top_scorer': 'João Pedro - 9'},\n",
       " {'team': 'Bournemouth',\n",
       "  'pos': '12',\n",
       "  'points': '48',\n",
       "  'matches_played': '38',\n",
       "  'wins': '13',\n",
       "  'draws': '13',\n",
       "  'losses': '16',\n",
       "  'goals_for': '54',\n",
       "  'goals_against': '67',\n",
       "  'goal_diff': '-13',\n",
       "  'top_scorer': 'Dominic Solanke - 19'},\n",
       " {'team': 'Fulham',\n",
       "  'pos': '13',\n",
       "  'points': '47',\n",
       "  'matches_played': '38',\n",
       "  'wins': '13',\n",
       "  'draws': '13',\n",
       "  'losses': '17',\n",
       "  'goals_for': '55',\n",
       "  'goals_against': '61',\n",
       "  'goal_diff': '-6',\n",
       "  'top_scorer': 'Rodrigo Muniz - 9'},\n",
       " {'team': 'Wolves',\n",
       "  'pos': '14',\n",
       "  'points': '46',\n",
       "  'matches_played': '38',\n",
       "  'wins': '13',\n",
       "  'draws': '13',\n",
       "  'losses': '18',\n",
       "  'goals_for': '50',\n",
       "  'goals_against': '65',\n",
       "  'goal_diff': '-15',\n",
       "  'top_scorer': 'Hwang Hee-chan, Matheus Cunha - 12'},\n",
       " {'team': 'Everton',\n",
       "  'pos': '15',\n",
       "  'points': '42',\n",
       "  'matches_played': '38',\n",
       "  'wins': '13',\n",
       "  'draws': '13',\n",
       "  'losses': '16',\n",
       "  'goals_for': '40',\n",
       "  'goals_against': '51',\n",
       "  'goal_diff': '-11',\n",
       "  'top_scorer': 'Abdoulaye Doucouré, Dominic Calvert-Lewin - 7'},\n",
       " {'team': 'Brentford',\n",
       "  'pos': '16',\n",
       "  'points': '39',\n",
       "  'matches_played': '38',\n",
       "  'wins': '10',\n",
       "  'draws': '10',\n",
       "  'losses': '19',\n",
       "  'goals_for': '56',\n",
       "  'goals_against': '65',\n",
       "  'goal_diff': '-9',\n",
       "  'top_scorer': 'Yoane Wissa - 12'},\n",
       " {'team': \"Nott'ham Forest\",\n",
       "  'pos': '17',\n",
       "  'points': '32',\n",
       "  'matches_played': '38',\n",
       "  'wins': '9',\n",
       "  'draws': '9',\n",
       "  'losses': '20',\n",
       "  'goals_for': '49',\n",
       "  'goals_against': '67',\n",
       "  'goal_diff': '-18',\n",
       "  'top_scorer': 'Chris Wood - 14'},\n",
       " {'team': 'Luton Town',\n",
       "  'pos': '18',\n",
       "  'points': '26',\n",
       "  'matches_played': '38',\n",
       "  'wins': '6',\n",
       "  'draws': '6',\n",
       "  'losses': '24',\n",
       "  'goals_for': '52',\n",
       "  'goals_against': '85',\n",
       "  'goal_diff': '-33',\n",
       "  'top_scorer': 'Carlton Morris - 11'},\n",
       " {'team': 'Burnley',\n",
       "  'pos': '19',\n",
       "  'points': '24',\n",
       "  'matches_played': '38',\n",
       "  'wins': '5',\n",
       "  'draws': '5',\n",
       "  'losses': '24',\n",
       "  'goals_for': '41',\n",
       "  'goals_against': '78',\n",
       "  'goal_diff': '-37',\n",
       "  'top_scorer': 'Jacob Bruun Larsen - 6'},\n",
       " {'team': 'Sheffield Utd',\n",
       "  'pos': '20',\n",
       "  'points': '16',\n",
       "  'matches_played': '38',\n",
       "  'wins': '3',\n",
       "  'draws': '3',\n",
       "  'losses': '28',\n",
       "  'goals_for': '35',\n",
       "  'goals_against': '104',\n",
       "  'goal_diff': '-69',\n",
       "  'top_scorer': 'Oliver McBurnie, Ben Brereton - 6'}]"
      ]
     },
     "execution_count": 39,
     "metadata": {},
     "output_type": "execute_result"
    }
   ],
   "source": [
    "ep"
   ]
  },
  {
   "cell_type": "code",
   "execution_count": 87,
   "id": "0760c625-4191-4c00-9d83-5a8b8654f024",
   "metadata": {},
   "outputs": [
    {
     "data": {
      "text/plain": [
       "{'team': 'Manchester City',\n",
       " 'pos': '1',\n",
       " 'points': '91',\n",
       " 'matches_played': '38',\n",
       " 'wins': '28',\n",
       " 'draws': '28',\n",
       " 'losses': '3',\n",
       " 'goals_for': '96',\n",
       " 'goals_against': '34',\n",
       " 'goal_diff': '+62',\n",
       " 'top_scorer': 'Erling Haaland - 27'}"
      ]
     },
     "execution_count": 87,
     "metadata": {},
     "output_type": "execute_result"
    }
   ],
   "source": [
    "ep[0]"
   ]
  },
  {
   "cell_type": "markdown",
   "id": "15897c92-cdd1-472d-b0e2-f51de40a16e2",
   "metadata": {},
   "source": [
    "- For each team, the following information is provided."
   ]
  },
  {
   "cell_type": "code",
   "execution_count": 88,
   "id": "24aac087-a5c5-48ad-8c92-26ad47e6a663",
   "metadata": {},
   "outputs": [
    {
     "data": {
      "text/plain": [
       "dict_keys(['team', 'pos', 'points', 'matches_played', 'wins', 'draws', 'losses', 'goals_for', 'goals_against', 'goal_diff', 'top_scorer'])"
      ]
     },
     "execution_count": 88,
     "metadata": {},
     "output_type": "execute_result"
    }
   ],
   "source": [
    "ep[0].keys()"
   ]
  },
  {
   "cell_type": "markdown",
   "id": "fe2158fa-dc82-4c9e-a21e-41d88604b2fd",
   "metadata": {},
   "source": [
    "### Most Scorer Team"
   ]
  },
  {
   "cell_type": "code",
   "execution_count": 11,
   "id": "ae664ff9-2b16-4400-98b7-a5c0faf96207",
   "metadata": {},
   "outputs": [
    {
     "name": "stdout",
     "output_type": "stream",
     "text": [
      "Team         : Manchester City\n",
      "Max Goals For: 96\n"
     ]
    }
   ],
   "source": [
    "max_goals_for = 0\n",
    "max_goals_for_team = ''\n",
    "\n",
    "for t in ep:\n",
    "    if int(t['goals_for']) > max_goals_for:\n",
    "        max_goals_for = int(t['goals_for'])\n",
    "        max_goals_for_team = t['team']\n",
    "\n",
    "print(f'Team         : {max_goals_for_team}')\n",
    "print(f'Max Goals For: {max_goals_for}')"
   ]
  },
  {
   "cell_type": "markdown",
   "id": "68b93956-2af2-4913-9e28-e93580012600",
   "metadata": {},
   "source": [
    "### Least Scorer Team"
   ]
  },
  {
   "cell_type": "code",
   "execution_count": 17,
   "id": "d988c82f-1514-4f0f-a190-42cca8f47537",
   "metadata": {},
   "outputs": [
    {
     "name": "stdout",
     "output_type": "stream",
     "text": [
      "Team         : Sheffield Utd\n",
      "Min Goals For: 35\n"
     ]
    }
   ],
   "source": [
    "import numpy as np\n",
    "\n",
    "min_goals_for = np.inf\n",
    "min_goals_for_team = ''\n",
    "\n",
    "for t in ep:\n",
    "    if int(t['goals_for']) < min_goals_for:\n",
    "        min_goals_for = int(t['goals_for'])\n",
    "        min_goals_for_team = t['team']\n",
    "\n",
    "print(f'Team         : {min_goals_for_team}')\n",
    "print(f'Min Goals For: {min_goals_for}')"
   ]
  },
  {
   "cell_type": "markdown",
   "id": "52dacdea-2db4-409a-902c-16dc6ca0cb0e",
   "metadata": {},
   "source": [
    "### The most goals scored against "
   ]
  },
  {
   "cell_type": "code",
   "execution_count": 13,
   "id": "78b00936-cc91-498a-94d4-eb448a3ab8bd",
   "metadata": {},
   "outputs": [
    {
     "name": "stdout",
     "output_type": "stream",
     "text": [
      "Team             : Sheffield Utd\n",
      "Max Goals Against: 104\n"
     ]
    }
   ],
   "source": [
    "max_goals_against = 0\n",
    "max_goals_against_team = ''\n",
    "\n",
    "for t in ep:\n",
    "    if int(t['goals_against']) > max_goals_against:\n",
    "        max_goals_against = int(t['goals_against'])\n",
    "        max_goals_against_team = t['team']\n",
    "\n",
    "print(f'Team             : {max_goals_against_team}')\n",
    "print(f'Max Goals Against: {max_goals_against}')"
   ]
  },
  {
   "cell_type": "markdown",
   "id": "f6d21e13-91fb-4151-9f70-be20652210ac",
   "metadata": {},
   "source": [
    "### Top Scorer Player"
   ]
  },
  {
   "cell_type": "code",
   "execution_count": 25,
   "id": "80697dbd-1201-4e6e-bd58-10bb7fb95a68",
   "metadata": {},
   "outputs": [
    {
     "name": "stdout",
     "output_type": "stream",
     "text": [
      "Top Scorer : Erling Haaland \n",
      "Top Score  : 27\n"
     ]
    }
   ],
   "source": [
    "top_score = 0\n",
    "top_score_player = ''\n",
    "\n",
    "for t in ep:\n",
    "    ts = t['top_scorer']\n",
    "    if int(ts[ts.rfind('-')+1:]) > top_score:\n",
    "        top_score = int(ts[ts.find('-')+1:])\n",
    "        top_score_player = ts[:ts.find('-')]\n",
    "\n",
    "print(f'Top Scorer : {top_score_player}')\n",
    "print(f'Top Score  : {top_score}')"
   ]
  },
  {
   "cell_type": "markdown",
   "id": "11afcea6-2e01-440c-a133-578f4c6ac32f",
   "metadata": {},
   "source": [
    "### Equal Scorer Players in a Team"
   ]
  },
  {
   "cell_type": "code",
   "execution_count": 27,
   "id": "b15ffdff-6406-4e9b-b2f4-faad123ce1d6",
   "metadata": {},
   "outputs": [
    {
     "name": "stdout",
     "output_type": "stream",
     "text": [
      "Rasmus Højlund, Bruno Fernandes - 10\n",
      "Hwang Hee-chan, Matheus Cunha - 12\n",
      "Abdoulaye Doucouré, Dominic Calvert-Lewin - 7\n",
      "Oliver McBurnie, Ben Brereton - 6\n"
     ]
    }
   ],
   "source": [
    "top_score = 0\n",
    "top_score_player = ''\n",
    "\n",
    "for t in ep:\n",
    "    ts = t['top_scorer']\n",
    "    if ts.find(',') != -1:\n",
    "        print(ts)"
   ]
  },
  {
   "cell_type": "markdown",
   "id": "1cd8adff-e0f0-425c-b79b-9bd74b146358",
   "metadata": {},
   "source": [
    "### List of Teams and Points"
   ]
  },
  {
   "cell_type": "code",
   "execution_count": 90,
   "id": "20cf49da-20e1-4b42-aa07-3b539243aa6f",
   "metadata": {},
   "outputs": [],
   "source": [
    "teams, points = [], []\n",
    "\n",
    "for t in ep:\n",
    "    teams.append(t['team'])\n",
    "    points.append(int(t['points']))"
   ]
  },
  {
   "cell_type": "markdown",
   "id": "598a4648-af47-42c1-b83e-9a0a90d6bd21",
   "metadata": {},
   "source": [
    "### Bar graph of points"
   ]
  },
  {
   "cell_type": "code",
   "execution_count": 91,
   "id": "f1f18489-a316-4381-bbd1-86b4a72be196",
   "metadata": {},
   "outputs": [
    {
     "data": {
      "image/png": "[encoded data removed]",
      "text/plain": [
       "<Figure size 2000x500 with 1 Axes>"
      ]
     },
     "metadata": {},
     "output_type": "display_data"
    }
   ],
   "source": [
    "plt.figure(figsize=(20,5))\n",
    "plt.bar(teams, points)\n",
    "plt.xticks(rotation=90);"
   ]
  },
  {
   "cell_type": "code",
   "execution_count": 89,
   "id": "94031bbf-4057-4c6b-8baf-7aff1a7c4411",
   "metadata": {},
   "outputs": [
    {
     "data": {
      "image/png": "[encoded data removed]",
      "text/plain": [
       "<Figure size 500x1000 with 1 Axes>"
      ]
     },
     "metadata": {},
     "output_type": "display_data"
    }
   ],
   "source": [
    "plt.figure(figsize=(5,10))\n",
    "plt.barh( teams, points);"
   ]
  },
  {
   "cell_type": "markdown",
   "id": "46646f16-9044-4285-9bb8-1f01f6dddd26",
   "metadata": {},
   "source": [
    "### Check Matches Played\n",
    "- There is an issue with the data.\n",
    "- The number of draws is incorrect."
   ]
  },
  {
   "cell_type": "code",
   "execution_count": 81,
   "id": "31f7814e-e72c-4c0a-8c52-f1c3c4d70606",
   "metadata": {},
   "outputs": [
    {
     "name": "stdout",
     "output_type": "stream",
     "text": [
      "Manchester City 38 28 28 3\n",
      "Arsenal 38 28 28 5\n",
      "Liverpool 38 24 24 4\n",
      "Aston Villa 38 20 20 10\n",
      "Tottenham 38 20 20 12\n",
      "Chelsea 38 18 18 11\n",
      "Newcastle Utd 38 18 18 14\n",
      "Manchester Utd 38 18 18 14\n",
      "West Ham 38 14 14 14\n",
      "Crystal Palace 38 13 13 15\n",
      "Bournemouth 38 13 13 16\n",
      "Fulham 38 13 13 17\n",
      "Wolves 38 13 13 18\n",
      "Everton 38 13 13 16\n",
      "Brentford 38 10 10 19\n",
      "Luton Town 38 6 6 24\n",
      "Burnley 38 5 5 24\n",
      "Sheffield Utd 38 3 3 28\n"
     ]
    }
   ],
   "source": [
    "for t in ep:\n",
    "    if int(t['matches_played']) != int(t['wins']) + int(t['draws']) +int(t['losses']):\n",
    "        print(t['team'], int(t['matches_played']), int(t['wins']), int(t['draws']), int(t['losses']) )"
   ]
  },
  {
   "cell_type": "markdown",
   "id": "c8b15f7c-49e4-4cc4-9866-d3f9535be808",
   "metadata": {},
   "source": [
    "## All Leagues\n",
    "The following is the list of all the leagues available in the package."
   ]
  },
  {
   "cell_type": "code",
   "execution_count": 40,
   "id": "6f5735ce-f931-4761-8b93-fb6f3df250d6",
   "metadata": {},
   "outputs": [],
   "source": [
    "leagues = [soccer_data.english_premier(),\n",
    "soccer_data.la_liga(),\n",
    "soccer_data.ligue_1(),\n",
    "soccer_data.bundesliga(),\n",
    "soccer_data.serie_a(),\n",
    "soccer_data.eredivisie(),\n",
    "soccer_data.russian_premier(),\n",
    "soccer_data.english_championship()]"
   ]
  },
  {
   "cell_type": "markdown",
   "id": "b6a8fe84-14f4-46f6-9f89-2427b37ae814",
   "metadata": {},
   "source": [
    "The following is the dictionary of all the leagues available in the package."
   ]
  },
  {
   "cell_type": "code",
   "execution_count": 93,
   "id": "091da0b5-b09f-4ca6-9c64-3288830cdf52",
   "metadata": {},
   "outputs": [],
   "source": [
    "leagues_dict = {'english_premier':soccer_data.english_premier(),\n",
    "'la_liga': soccer_data.la_liga(),\n",
    "'ligue_1': soccer_data.ligue_1(),\n",
    "'bundesliga': soccer_data.bundesliga(),\n",
    "'serie_a': soccer_data.serie_a(),\n",
    "'eredivisie': soccer_data.eredivisie(),\n",
    "'russian_premier': soccer_data.russian_premier(),\n",
    "'english_championship': soccer_data.english_championship()}"
   ]
  },
  {
   "cell_type": "markdown",
   "id": "a523c203-6f8f-4298-8eb3-34172eb6e364",
   "metadata": {},
   "source": [
    "### Top Scorer Player"
   ]
  },
  {
   "cell_type": "code",
   "execution_count": 41,
   "id": "d80d60b7-aa26-4cd6-b92b-c74e5c24eaf1",
   "metadata": {},
   "outputs": [
    {
     "name": "stdout",
     "output_type": "stream",
     "text": [
      "Top Scorer : Harry Kane \n",
      "Top Score  : 36\n"
     ]
    }
   ],
   "source": [
    "top_score = 0\n",
    "top_score_player = ''\n",
    "\n",
    "for league in leagues:\n",
    "    for t in league:\n",
    "        ts = t['top_scorer']\n",
    "        if int(ts[ts.rfind('-')+1:]) > top_score:\n",
    "            top_score = int(ts[ts.find('-')+1:])\n",
    "            top_score_player = ts[:ts.find('-')]\n",
    "\n",
    "print(f'Top Scorer : {top_score_player}')\n",
    "print(f'Top Score  : {top_score}')"
   ]
  },
  {
   "cell_type": "markdown",
   "id": "4bc3c7ad-26bb-4e3c-8869-7504c4b77a04",
   "metadata": {},
   "source": [
    "### The Team with Highest and Lowest Goal Differences"
   ]
  },
  {
   "cell_type": "code",
   "execution_count": 44,
   "id": "e9ac3678-db0f-4ac0-9155-d4e7417bf205",
   "metadata": {},
   "outputs": [
    {
     "name": "stdout",
     "output_type": "stream",
     "text": [
      "Highest Goal Diff : 90  ---  Team: PSV Eindhoven\n",
      "Lowest  Goal Diff : -69   ---  Team: Sheffield Utd\n"
     ]
    }
   ],
   "source": [
    "highest_goal_diff = 0\n",
    "highest_goal_diff_team = ''\n",
    "lowest_goal_diff = np.inf\n",
    "lowest_goal_diff_team = ''\n",
    "\n",
    "\n",
    "for league in leagues:\n",
    "    for t in league:\n",
    "        if int(t['goal_diff']) > highest_goal_diff:\n",
    "            highest_goal_diff = int(t['goal_diff'])\n",
    "            highest_goal_diff_team = t['team']\n",
    "        if int(t['goal_diff']) < lowest_goal_diff:\n",
    "            lowest_goal_diff = int(t['goal_diff'])\n",
    "            lowest_goal_diff_team = t['team']\n",
    "\n",
    "print(f'Highest Goal Diff : {highest_goal_diff}  ---  Team: {highest_goal_diff_team }')\n",
    "print(f'Lowest  Goal Diff : {lowest_goal_diff}   ---  Team: {lowest_goal_diff_team }')"
   ]
  },
  {
   "cell_type": "markdown",
   "id": "76b23d08-2cec-47b9-9792-4c28ac85c103",
   "metadata": {},
   "source": [
    "### The League with Most Goal Scored "
   ]
  },
  {
   "cell_type": "code",
   "execution_count": 76,
   "id": "9a98f2ac-2f6d-497d-8259-1819c84c0423",
   "metadata": {},
   "outputs": [
    {
     "name": "stdout",
     "output_type": "stream",
     "text": [
      "Most Goal Scored League : english_championship\n",
      "Maximum Total Goal      : 1480\n"
     ]
    }
   ],
   "source": [
    "max_total_goal = 0\n",
    "max_total_goal_league = ''\n",
    "\n",
    "for name, league in leagues_dict.items():\n",
    "    total = 0\n",
    "    for t in league:\n",
    "        total += int(t['goals_for'])\n",
    "    if total > max_total_goal:\n",
    "        max_total_goal = total       \n",
    "        max_total_goal_league = name\n",
    "\n",
    "print(f'Most Goal Scored League : {max_total_goal_league}')\n",
    "print(f'Maximum Total Goal      : {max_total_goal}')"
   ]
  },
  {
   "cell_type": "markdown",
   "id": "4abf5d4a-792c-4398-bcd2-44fa89d57a8a",
   "metadata": {},
   "source": [
    "### The Team with Highest Points Per Game  "
   ]
  },
  {
   "cell_type": "code",
   "execution_count": 66,
   "id": "1e02bcf5-4c07-4b4b-a123-70360d851153",
   "metadata": {},
   "outputs": [
    {
     "name": "stdout",
     "output_type": "stream",
     "text": [
      "Max Point Per Game : 2.676470588235294\n",
      "Team               : PSV Eindhoven\n"
     ]
    }
   ],
   "source": [
    "max_point_pg = 0\n",
    "max_point_pg_team = ''\n",
    "\n",
    "for league in leagues:\n",
    "    for t in league:\n",
    "        ppg = int(t['points'])/int(t['matches_played'])\n",
    "        if ppg > max_point_pg:\n",
    "            max_point_pg = ppg\n",
    "            max_point_pg_team = t['team']\n",
    "\n",
    "print(f'Max Point Per Game : {max_point_pg}')\n",
    "print(f'Team               : {max_point_pg_team}')"
   ]
  },
  {
   "cell_type": "markdown",
   "id": "4d63d0f0-6720-462f-b5d6-ef1dc2114c02",
   "metadata": {},
   "source": [
    "### The Teams with Highest Points Per Game  for Each League"
   ]
  },
  {
   "cell_type": "code",
   "execution_count": 95,
   "id": "e34a773a-9df8-4be4-9ec4-45c5ce3a2df0",
   "metadata": {},
   "outputs": [
    {
     "data": {
      "image/png": "[encoded data removed]",
      "text/plain": [
       "<Figure size 1000x500 with 1 Axes>"
      ]
     },
     "metadata": {},
     "output_type": "display_data"
    }
   ],
   "source": [
    "max_point_pg_list = []\n",
    "max_point_pg_team_list = []\n",
    "\n",
    "\n",
    "for league in leagues:\n",
    "    max_point_pg = 0\n",
    "    max_point_pg_team = ''\n",
    "    for t in league:\n",
    "        ppg = int(t['points'])/int(t['matches_played'])\n",
    "        if ppg > max_point_pg:\n",
    "            max_point_pg = ppg\n",
    "            max_point_pg_team = t['team']\n",
    "    \n",
    "    max_point_pg_list.append(max_point_pg)\n",
    "    max_point_pg_team_list.append(max_point_pg_team)\n",
    "    \n",
    "plt.figure(figsize=(10,5))\n",
    "plt.bar(max_point_pg_team_list, max_point_pg_list)\n",
    "plt.xticks(rotation=90);"
   ]
  },
  {
   "cell_type": "code",
   "execution_count": null,
   "id": "bee6a006-8cfe-47b2-a606-b0cbaae06d11",
   "metadata": {},
   "outputs": [],
   "source": []
  }
 ],
 "metadata": {
  "kernelspec": {
   "display_name": "Python 3 (ipykernel)",
   "language": "python",
   "name": "python3"
  },
  "language_info": {
   "codemirror_mode": {
    "name": "ipython",
    "version": 3
   },
   "file_extension": ".py",
   "mimetype": "text/x-python",
   "name": "python",
   "nbconvert_exporter": "python",
   "pygments_lexer": "ipython3",
   "version": "3.11.7"
  }
 },
 "nbformat": 4,
 "nbformat_minor": 5
}
