{
 "cells": [
  {
   "cell_type": "markdown",
   "id": "13e18a7d",
   "metadata": {},
   "source": [
    "# Functions Output\n",
    "- Find the output of the following code. \n",
    "- Please don't run the code before giving your answer. &emsp;&emsp;&emsp;&emsp;"
   ]
  },
  {
   "cell_type": "markdown",
   "id": "03fc8d4d",
   "metadata": {},
   "source": [
    "## Question\n"
   ]
  },
  {
   "cell_type": "code",
   "execution_count": 1,
   "id": "676b8223",
   "metadata": {
    "tags": [
     "hide-output"
    ]
   },
   "outputs": [],
   "source": [
    "def f(x):\n",
    "  return 10*x"
   ]
  },
  {
   "cell_type": "markdown",
   "id": "14b291e0-fae1-43ce-9502-11842d719315",
   "metadata": {},
   "source": [
    "```{admonition} Solution\n",
    ":class: toggle\n",
    "\n",
    "No output."
   ]
  },
  {
   "cell_type": "markdown",
   "id": "c1aef79d",
   "metadata": {},
   "source": [
    "## Question\n"
   ]
  },
  {
   "cell_type": "code",
   "execution_count": 2,
   "id": "166f0c20",
   "metadata": {
    "tags": [
     "hide-output"
    ]
   },
   "outputs": [
    {
     "name": "stdout",
     "output_type": "stream",
     "text": [
      "50\n"
     ]
    }
   ],
   "source": [
    "def f(x):\n",
    "  return 10*x\n",
    "\n",
    "print(f(5))"
   ]
  },
  {
   "cell_type": "markdown",
   "id": "d0e75b17",
   "metadata": {},
   "source": [
    "## Question\n"
   ]
  },
  {
   "cell_type": "code",
   "execution_count": 3,
   "id": "5ecaf019",
   "metadata": {
    "tags": [
     "hide-output"
    ]
   },
   "outputs": [
    {
     "name": "stdout",
     "output_type": "stream",
     "text": [
      "6\n",
      "15\n"
     ]
    }
   ],
   "source": [
    "def f(x, y=5):\n",
    "  return x+y\n",
    "\n",
    "print(f(2, 4))\n",
    "print(f(10))"
   ]
  },
  {
   "cell_type": "markdown",
   "id": "1bc72fed",
   "metadata": {},
   "source": [
    "## Question\n"
   ]
  },
  {
   "cell_type": "code",
   "execution_count": 4,
   "id": "21b9956f",
   "metadata": {
    "tags": [
     "hide-output"
    ]
   },
   "outputs": [
    {
     "name": "stdout",
     "output_type": "stream",
     "text": [
      "X\n",
      "A\n",
      "B\n"
     ]
    }
   ],
   "source": [
    "def func_letter():\n",
    "  print('A')\n",
    "  print('B')\n",
    "\n",
    "def func_word():\n",
    "  print('X')\n",
    "  func_letter()\n",
    "\n",
    "func_word()"
   ]
  },
  {
   "cell_type": "markdown",
   "id": "f69a9cd1-3b07-4d29-af2e-e6b2fc5a32d1",
   "metadata": {},
   "source": [
    "## Question\n"
   ]
  },
  {
   "cell_type": "code",
   "execution_count": 5,
   "id": "8893982b-1a33-4946-b811-f2807e754b13",
   "metadata": {
    "tags": [
     "hide-output"
    ]
   },
   "outputs": [
    {
     "name": "stdout",
     "output_type": "stream",
     "text": [
      "A\n",
      "B\n",
      "9\n"
     ]
    }
   ],
   "source": [
    "def my_func(x):\n",
    "  print('A')\n",
    "  print('B')\n",
    "  return x**2\n",
    "\n",
    "print(my_func(3))"
   ]
  },
  {
   "cell_type": "markdown",
   "id": "cace03a5-f754-4ada-b999-54235cc7ffd0",
   "metadata": {},
   "source": [
    "## Question\n"
   ]
  },
  {
   "cell_type": "code",
   "execution_count": 6,
   "id": "75c23741-8b41-4c9a-a257-50f45c5e2c4d",
   "metadata": {
    "tags": [
     "hide-output"
    ]
   },
   "outputs": [
    {
     "data": {
      "text/plain": [
       "18"
      ]
     },
     "execution_count": 6,
     "metadata": {},
     "output_type": "execute_result"
    }
   ],
   "source": [
    "def func(a,b,c=3):\n",
    "  x = a**2+b*4-c\n",
    "  return x\n",
    "\n",
    "func(1,5)"
   ]
  },
  {
   "cell_type": "markdown",
   "id": "a4704f5e-7da3-4151-8b92-00454e30ba3f",
   "metadata": {},
   "source": [
    "## Question\n"
   ]
  },
  {
   "cell_type": "code",
   "execution_count": 7,
   "id": "50893197-82b1-49bd-be35-6caa738bd16d",
   "metadata": {
    "tags": [
     "hide-output"
    ]
   },
   "outputs": [
    {
     "name": "stdout",
     "output_type": "stream",
     "text": [
      "4\n",
      "22\n"
     ]
    }
   ],
   "source": [
    "def my_func(x, y):\n",
    "  print(x//3)\n",
    "  y += 2\n",
    "  print(x+y)\n",
    "\n",
    "my_func(13,7)"
   ]
  },
  {
   "cell_type": "markdown",
   "id": "682031c3-cfc4-48a9-9f8a-9f5bce5f8890",
   "metadata": {},
   "source": [
    "## Question\n"
   ]
  },
  {
   "cell_type": "code",
   "execution_count": 8,
   "id": "cdcb44e3-214c-44c4-9c9e-970a60f8a65d",
   "metadata": {
    "tags": [
     "hide-output"
    ]
   },
   "outputs": [
    {
     "name": "stdout",
     "output_type": "stream",
     "text": [
      "11\n"
     ]
    }
   ],
   "source": [
    "def my_func(x, y, z):\n",
    "  if x+y > 10:\n",
    "    total = x+y\n",
    "  else:\n",
    "    total = y+z\n",
    "  return total\n",
    "\n",
    "print(my_func(2,7,4))"
   ]
  },
  {
   "cell_type": "markdown",
   "id": "08e1e1ce",
   "metadata": {},
   "source": [
    "## Question\n"
   ]
  },
  {
   "cell_type": "code",
   "execution_count": 9,
   "id": "5f53bfff",
   "metadata": {
    "tags": [
     "hide-output"
    ]
   },
   "outputs": [
    {
     "name": "stdout",
     "output_type": "stream",
     "text": [
      "12\n",
      "14\n"
     ]
    }
   ],
   "source": [
    "c = 3\n",
    "def f(x,y):\n",
    "  z = 6\n",
    "  return x+y+z+c\n",
    "\n",
    "print(f(1,2))\n",
    "c = 5\n",
    "print(f(1,2))"
   ]
  },
  {
   "cell_type": "markdown",
   "id": "6c41682c",
   "metadata": {},
   "source": [
    "## Question\n"
   ]
  },
  {
   "cell_type": "code",
   "execution_count": 11,
   "id": "f2df1610",
   "metadata": {
    "tags": [
     "hide-output"
    ]
   },
   "outputs": [
    {
     "name": "stdout",
     "output_type": "stream",
     "text": [
      "x: 1\n",
      "3\n"
     ]
    }
   ],
   "source": [
    "def f(x, y):\n",
    "  print('x:',x)\n",
    "  return x+y\n",
    "    \n",
    "print(f(1,2))"
   ]
  },
  {
   "cell_type": "markdown",
   "id": "68dab687",
   "metadata": {},
   "source": [
    "## Question\n"
   ]
  },
  {
   "cell_type": "code",
   "execution_count": 12,
   "id": "ccb951b3",
   "metadata": {
    "tags": [
     "hide-output"
    ]
   },
   "outputs": [
    {
     "data": {
      "text/plain": [
       "7"
      ]
     },
     "execution_count": 12,
     "metadata": {},
     "output_type": "execute_result"
    }
   ],
   "source": [
    "def f(x=1, y=6):\n",
    "  return x+y\n",
    "    \n",
    "f()"
   ]
  },
  {
   "cell_type": "code",
   "execution_count": null,
   "id": "2755af46-bd1d-4937-922e-d9b8e054bd13",
   "metadata": {},
   "outputs": [],
   "source": []
  }
 ],
 "metadata": {
  "celltoolbar": "Tags",
  "hide_input": false,
  "kernelspec": {
   "display_name": "Python 3 (ipykernel)",
   "language": "python",
   "name": "python3"
  },
  "language_info": {
   "codemirror_mode": {
    "name": "ipython",
    "version": 3
   },
   "file_extension": ".py",
   "mimetype": "text/x-python",
   "name": "python",
   "nbconvert_exporter": "python",
   "pygments_lexer": "ipython3",
   "version": "3.11.7"
  },
  "toc": {
   "base_numbering": 1,
   "nav_menu": {},
   "number_sections": true,
   "sideBar": true,
   "skip_h1_title": false,
   "title_cell": "Table of Contents",
   "title_sidebar": "Contents",
   "toc_cell": false,
   "toc_position": {},
   "toc_section_display": true,
   "toc_window_display": false
  }
 },
 "nbformat": 4,
 "nbformat_minor": 5
}
