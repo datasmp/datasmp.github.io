{
 "cells": [
  {
   "cell_type": "markdown",
   "id": "13e18a7d",
   "metadata": {},
   "source": [
    "# Functions Output\n",
    "- Find the output of the following code. \n",
    "- Please don't run the code before giving your answer. &emsp;&emsp;&emsp;&emsp;"
   ]
  },
  {
   "cell_type": "markdown",
   "id": "03fc8d4d",
   "metadata": {},
   "source": [
    "## Question-1\n"
   ]
  },
  {
   "cell_type": "markdown",
   "id": "09ee08d3-ab1d-4694-ae38-cdc1934c33f5",
   "metadata": {
    "tags": [
     "hide-output"
    ]
   },
   "source": [
    "``` python\n",
    "def f(x):\n",
    "  return 10*x"
   ]
  },
  {
   "cell_type": "markdown",
   "id": "14b291e0-fae1-43ce-9502-11842d719315",
   "metadata": {},
   "source": [
    "```{admonition} Solution\n",
    ":class: toggle\n",
    "\n",
    "No output."
   ]
  },
  {
   "cell_type": "markdown",
   "id": "c1aef79d",
   "metadata": {},
   "source": [
    "## Question-2"
   ]
  },
  {
   "cell_type": "markdown",
   "id": "bc3bff0d-6d24-4529-bfa1-54b315e16c28",
   "metadata": {
    "tags": [
     "hide-output"
    ]
   },
   "source": [
    "``` python\n",
    "def f(x):\n",
    "  return 10*x\n",
    "\n",
    "print(f(5))"
   ]
  },
  {
   "cell_type": "markdown",
   "id": "91448e97-11fe-4f37-b8c2-fdeb51b7424e",
   "metadata": {},
   "source": [
    "```{admonition} Solution\n",
    ":class: toggle\n",
    "50\n"
   ]
  },
  {
   "cell_type": "markdown",
   "id": "d0e75b17",
   "metadata": {},
   "source": [
    "## Question-3\n"
   ]
  },
  {
   "cell_type": "markdown",
   "id": "59967c11-1370-410d-a4ed-28e5da21cc92",
   "metadata": {
    "tags": [
     "hide-output"
    ]
   },
   "source": [
    "``` python\n",
    "def f(x, y=5):\n",
    "  return x+y\n",
    "\n",
    "print(f(2, 4))\n",
    "print(f(10))"
   ]
  },
  {
   "cell_type": "markdown",
   "id": "a5014b10-8f5a-4f66-a574-1aa89ecea261",
   "metadata": {},
   "source": [
    "```{admonition} Solution\n",
    ":class: toggle\n",
    "6  \n",
    "15\n"
   ]
  },
  {
   "cell_type": "markdown",
   "id": "1bc72fed",
   "metadata": {},
   "source": [
    "## Question-4\n"
   ]
  },
  {
   "cell_type": "markdown",
   "id": "f16bcf9c-7dd7-4d5c-a65e-bec22ffb9d29",
   "metadata": {
    "tags": [
     "hide-output"
    ]
   },
   "source": [
    "``` python\n",
    "def func_letter():\n",
    "  print('A')\n",
    "  print('B')\n",
    "\n",
    "def func_word():\n",
    "  print('X')\n",
    "  func_letter()\n",
    "\n",
    "func_word()"
   ]
  },
  {
   "cell_type": "markdown",
   "id": "3011fd44-d1cc-45b4-8a3d-f0a9bad282c6",
   "metadata": {},
   "source": [
    "```{admonition} Solution\n",
    ":class: toggle\n",
    "X  \n",
    "A  \n",
    "B\n",
    "\n"
   ]
  },
  {
   "cell_type": "markdown",
   "id": "f69a9cd1-3b07-4d29-af2e-e6b2fc5a32d1",
   "metadata": {},
   "source": [
    "## Question-5\n"
   ]
  },
  {
   "cell_type": "markdown",
   "id": "c6e14ef3-12fd-475d-b863-1ba31c239aee",
   "metadata": {
    "tags": [
     "hide-output"
    ]
   },
   "source": [
    "``` python\n",
    "\n",
    "def my_func(x):\n",
    "  print('A')\n",
    "  print('B')\n",
    "  return x**2\n",
    "\n",
    "print(my_func(3))"
   ]
  },
  {
   "cell_type": "markdown",
   "id": "371d446c-1734-42e8-9eb3-36d74474b3d2",
   "metadata": {},
   "source": [
    "```{admonition} Solution\n",
    ":class: toggle\n",
    "A  \n",
    "B  \n",
    "9\n"
   ]
  },
  {
   "cell_type": "markdown",
   "id": "cace03a5-f754-4ada-b999-54235cc7ffd0",
   "metadata": {},
   "source": [
    "## Question-6\n"
   ]
  },
  {
   "cell_type": "markdown",
   "id": "f55d6e6f-5fe7-41f9-beab-cad1c4b623b8",
   "metadata": {
    "tags": [
     "hide-output"
    ]
   },
   "source": [
    "``` python\n",
    "def func(a,b,c=3):\n",
    "  x = a**2+b*4-c\n",
    "  return x\n",
    "\n",
    "print(func(1,5))"
   ]
  },
  {
   "cell_type": "markdown",
   "id": "7ef17e46-688f-487c-8359-9940b9e75965",
   "metadata": {},
   "source": [
    "```{admonition} Solution\n",
    ":class: toggle\n",
    "18"
   ]
  },
  {
   "cell_type": "markdown",
   "id": "a4704f5e-7da3-4151-8b92-00454e30ba3f",
   "metadata": {},
   "source": [
    "## Question-7\n"
   ]
  },
  {
   "cell_type": "markdown",
   "id": "811784db-bd5b-454e-892c-d78f8407e5f0",
   "metadata": {
    "tags": [
     "hide-output"
    ]
   },
   "source": [
    "``` python\n",
    "def my_func(x, y):\n",
    "  print(x//3)\n",
    "  y += 2\n",
    "  print(x+y)\n",
    "\n",
    "my_func(13,7)"
   ]
  },
  {
   "cell_type": "markdown",
   "id": "0050cf9b-5023-446e-8b4d-e7484233ece7",
   "metadata": {},
   "source": [
    "```{admonition} Solution\n",
    ":class: toggle\n",
    "4  \n",
    "22"
   ]
  },
  {
   "cell_type": "markdown",
   "id": "682031c3-cfc4-48a9-9f8a-9f5bce5f8890",
   "metadata": {},
   "source": [
    "## Question-8\n"
   ]
  },
  {
   "cell_type": "markdown",
   "id": "cf28d557-0051-46b9-a2aa-115769a072c2",
   "metadata": {
    "tags": [
     "hide-output"
    ]
   },
   "source": [
    "``` python\n",
    "def my_func(x, y, z):\n",
    "  if x+y > 10:\n",
    "    total = x+y\n",
    "  else:\n",
    "    total = y+z\n",
    "  return total\n",
    "\n",
    "print(my_func(2,7,4))"
   ]
  },
  {
   "cell_type": "markdown",
   "id": "88f7fbe2-bfab-4de8-8a92-5f6ce43c451b",
   "metadata": {},
   "source": [
    "```{admonition} Solution\n",
    ":class: toggle\n",
    "11"
   ]
  },
  {
   "cell_type": "markdown",
   "id": "08e1e1ce",
   "metadata": {},
   "source": [
    "## Question-9\n"
   ]
  },
  {
   "cell_type": "markdown",
   "id": "f8bd81f8-20f2-4950-9b8d-09b397054757",
   "metadata": {
    "tags": [
     "hide-output"
    ]
   },
   "source": [
    "``` python\n",
    "c = 3\n",
    "def f(x,y):\n",
    "  z = 6\n",
    "  return x+y+z+c\n",
    "\n",
    "print(f(1,2))\n",
    "c = 5\n",
    "print(f(1,2))"
   ]
  },
  {
   "cell_type": "markdown",
   "id": "60f2ef1f-3bb7-4999-8456-55989b11d6da",
   "metadata": {},
   "source": [
    "```{admonition} Solution\n",
    ":class: toggle\n",
    "12  \n",
    "14\n"
   ]
  },
  {
   "cell_type": "markdown",
   "id": "6c41682c",
   "metadata": {},
   "source": [
    "## Question-10\n"
   ]
  },
  {
   "cell_type": "markdown",
   "id": "f415181b-6802-41fb-91db-3cea336e0f6c",
   "metadata": {
    "tags": [
     "hide-output"
    ]
   },
   "source": [
    "``` python\n",
    "def f(x, y):\n",
    "  print('x:',x)\n",
    "  return x+y\n",
    "    \n",
    "print(f(1,2))"
   ]
  },
  {
   "cell_type": "markdown",
   "id": "eef44468-7162-4a9a-9ff4-ed9137edc037",
   "metadata": {},
   "source": [
    "```{admonition} Solution\n",
    ":class: toggle\n",
    "x: 1\n",
    "3"
   ]
  },
  {
   "cell_type": "markdown",
   "id": "68dab687",
   "metadata": {},
   "source": [
    "## Question-11"
   ]
  },
  {
   "cell_type": "markdown",
   "id": "41eed32b-df63-44ed-8516-af67828adedb",
   "metadata": {
    "tags": [
     "hide-output"
    ]
   },
   "source": [
    "``` python\n",
    "def f(x=1, y=6):\n",
    "  return x+y\n",
    "    \n",
    "print(f())"
   ]
  },
  {
   "cell_type": "markdown",
   "id": "709e6cdb-0fe6-4984-9a2d-3ecd0c6f7de6",
   "metadata": {},
   "source": [
    "```{admonition} Solution\n",
    ":class: toggle\n",
    "7\n"
   ]
  },
  {
   "cell_type": "code",
   "execution_count": null,
   "id": "2755af46-bd1d-4937-922e-d9b8e054bd13",
   "metadata": {},
   "outputs": [],
   "source": []
  }
 ],
 "metadata": {
  "celltoolbar": "Tags",
  "hide_input": false,
  "kernelspec": {
   "display_name": "Python 3 (ipykernel)",
   "language": "python",
   "name": "python3"
  },
  "language_info": {
   "codemirror_mode": {
    "name": "ipython",
    "version": 3
   },
   "file_extension": ".py",
   "mimetype": "text/x-python",
   "name": "python",
   "nbconvert_exporter": "python",
   "pygments_lexer": "ipython3",
   "version": "3.11.7"
  },
  "toc": {
   "base_numbering": 1,
   "nav_menu": {},
   "number_sections": true,
   "sideBar": true,
   "skip_h1_title": false,
   "title_cell": "Table of Contents",
   "title_sidebar": "Contents",
   "toc_cell": false,
   "toc_position": {},
   "toc_section_display": true,
   "toc_window_display": false
  }
 },
 "nbformat": 4,
 "nbformat_minor": 5
}
