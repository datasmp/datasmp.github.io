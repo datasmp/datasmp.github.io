{
 "cells": [
  {
   "cell_type": "markdown",
   "id": "13e18a7d",
   "metadata": {},
   "source": [
    "# Functions Debugging\n",
    "\n",
    "- Each of the following short code contains one or more bugs. &emsp;&emsp;&emsp;&emsp;\n",
    "- Please identify and correct these bugs.\n",
    "- Provide an explanation for your answer."
   ]
  },
  {
   "cell_type": "markdown",
   "id": "854437f7",
   "metadata": {},
   "source": [
    "## Question\n",
    "\n",
    "``` python\n",
    "def f(x)\n",
    "  return x**2\n",
    "```"
   ]
  },
  {
   "cell_type": "markdown",
   "id": "48a8af1e",
   "metadata": {},
   "source": [
    "```{admonition} Solution\n",
    ":class: toggle\n",
    "The missing colon in the first line should be added."
   ]
  },
  {
   "cell_type": "markdown",
   "id": "45f3c02f-6050-4ef7-b20e-87482bc8ed95",
   "metadata": {},
   "source": [
    "## Question\n",
    "\n",
    "``` python\n",
    "def (x,y,z):\n",
    "  return x+y+z\n",
    "```"
   ]
  },
  {
   "cell_type": "markdown",
   "id": "58b72bcb-d899-4220-9506-5bb8f7c278f2",
   "metadata": {},
   "source": [
    "```{admonition} Solution\n",
    ":class: toggle\n",
    "The name of the function is missing. "
   ]
  },
  {
   "cell_type": "markdown",
   "id": "05696609-173e-46a2-a876-b31aaa1ccc2e",
   "metadata": {},
   "source": [
    "## Question\n",
    "\n",
    "``` python\n",
    "def f(x,y):\n",
    "  return x+y\n",
    "\n",
    "print(f(1,2,3))\n",
    "```"
   ]
  },
  {
   "cell_type": "markdown",
   "id": "6a4b5830-0dff-4b13-9678-b21b92c8e462",
   "metadata": {},
   "source": [
    "```{admonition} Solution\n",
    ":class: toggle\n",
    "The function *f* has two parameters, but in the last line, three parameters are given."
   ]
  },
  {
   "cell_type": "markdown",
   "id": "001358e0-70d1-4430-b668-5d1c3b644eca",
   "metadata": {},
   "source": [
    "## Question\n",
    "\n",
    "``` python\n",
    "def func(a,b,c):\n",
    "  x = a**2+b*4-c\n",
    "  return x\n",
    "\n",
    "func(1,5)\n",
    "```"
   ]
  },
  {
   "cell_type": "markdown",
   "id": "f7a33864-95e0-4d53-8cb8-77afe0747692",
   "metadata": {},
   "source": [
    "```{admonition} Solution\n",
    ":class: toggle\n",
    "The function `func` has three parameters (a, b, c). In the last line, only two inputs are provided for the func() function."
   ]
  },
  {
   "cell_type": "markdown",
   "id": "557fbbb6-0cfe-4118-af50-56e2ec202031",
   "metadata": {},
   "source": [
    "## Question\n",
    "\n",
    "``` python\n",
    "def my_func(x):\n",
    "  return x+6\n",
    "\n",
    "my_func('3')\n",
    "```"
   ]
  },
  {
   "cell_type": "markdown",
   "id": "013fbb1c-6055-49a5-94ac-e94ad93bce04",
   "metadata": {},
   "source": [
    "```{admonition} Solution\n",
    ":class: toggle\n",
    "The value '3' is a string, and inside the function, an attempt is made to add 6 to the string '3', resulting in an error.\n"
   ]
  },
  {
   "cell_type": "markdown",
   "id": "a38429ef-2c79-4da5-80d4-0d8e0a29152e",
   "metadata": {},
   "source": [
    "## Question\n",
    "\n",
    "``` python\n",
    "def my_func(x):\n",
    "  return str(x)+6\n",
    "\n",
    "my_func(3)\n",
    "```"
   ]
  },
  {
   "cell_type": "markdown",
   "id": "00787067-0662-42f4-b5ad-9acb77c885ce",
   "metadata": {},
   "source": [
    "```{admonition} Solution\n",
    ":class: toggle\n",
    "str(x) represents a string, while 6 is an integer. They cannot be added or concatenated directly."
   ]
  },
  {
   "cell_type": "markdown",
   "id": "a93da671-997f-43e2-bd04-72b19e228620",
   "metadata": {},
   "source": [
    "## Question\n",
    "\n",
    "``` python\n",
    "def f(x):\n",
    "  y = 5\n",
    "  return x+y\n",
    "\n",
    "print(f(10))\n",
    "print(y)\n",
    "```"
   ]
  },
  {
   "cell_type": "markdown",
   "id": "fa81fd11-0e37-446f-aad2-d7aff5df5d14",
   "metadata": {},
   "source": [
    "```{admonition} Solution\n",
    ":class: toggle\n",
    "`y` is a local variable, and it cannot be accessed outside the function, as attempted in the last line."
   ]
  },
  {
   "cell_type": "markdown",
   "id": "8b7831c0-73e2-4402-b164-7c72e9bf9812",
   "metadata": {},
   "source": [
    "## Question\n",
    "\n",
    "``` python\n",
    "def f(y=0, x):\n",
    "  return x+y\n",
    "```"
   ]
  },
  {
   "cell_type": "markdown",
   "id": "72be3e13-1ff8-498e-87ec-60cd8200fd6b",
   "metadata": {},
   "source": [
    "```{admonition} Solution\n",
    ":class: toggle\n",
    "The non-default parameters must be placed before default parameters. The correct form is f(x, y=0)."
   ]
  },
  {
   "cell_type": "code",
   "execution_count": null,
   "id": "d3bbaf58-b276-4a55-b386-00295794a2f4",
   "metadata": {},
   "outputs": [],
   "source": []
  }
 ],
 "metadata": {
  "hide_input": false,
  "kernelspec": {
   "display_name": "Python 3 (ipykernel)",
   "language": "python",
   "name": "python3"
  },
  "language_info": {
   "codemirror_mode": {
    "name": "ipython",
    "version": 3
   },
   "file_extension": ".py",
   "mimetype": "text/x-python",
   "name": "python",
   "nbconvert_exporter": "python",
   "pygments_lexer": "ipython3",
   "version": "3.11.7"
  },
  "toc": {
   "base_numbering": 1,
   "nav_menu": {},
   "number_sections": true,
   "sideBar": true,
   "skip_h1_title": false,
   "title_cell": "Table of Contents",
   "title_sidebar": "Contents",
   "toc_cell": false,
   "toc_position": {},
   "toc_section_display": true,
   "toc_window_display": false
  }
 },
 "nbformat": 4,
 "nbformat_minor": 5
}
