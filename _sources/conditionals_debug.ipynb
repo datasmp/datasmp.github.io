{
 "cells": [
  {
   "cell_type": "markdown",
   "id": "13e18a7d",
   "metadata": {},
   "source": [
    "# Conditionals Debugging\n",
    "\n",
    "- Each of the following short code contains one or more bugs. &emsp;&emsp;&emsp;&emsp;\n",
    "- Please identify and correct these bugs.\n",
    "- Provide an explanation for your answer."
   ]
  },
  {
   "cell_type": "markdown",
   "id": "854437f7",
   "metadata": {},
   "source": [
    "## Question\n",
    "\n",
    "``` python\n",
    "x = 10\n",
    "\n",
    "if x<20:\n",
    "print('A')\n",
    "```"
   ]
  },
  {
   "cell_type": "markdown",
   "id": "48a8af1e",
   "metadata": {},
   "source": [
    "```{admonition} Solution\n",
    ":class: toggle\n",
    "Indentation in the last line is missing."
   ]
  },
  {
   "cell_type": "markdown",
   "id": "934b3a16",
   "metadata": {},
   "source": [
    "## Question\n",
    "\n",
    "``` python\n",
    "x = 10\n",
    "\n",
    "if x<20\n",
    "  print(x+5)\n",
    "```"
   ]
  },
  {
   "cell_type": "markdown",
   "id": "569b11be",
   "metadata": {},
   "source": [
    "```{admonition} Solution\n",
    ":class: toggle\n",
    "Colon (:) is missing at the end of the second line"
   ]
  },
  {
   "cell_type": "markdown",
   "id": "3407987f",
   "metadata": {},
   "source": [
    "## Question\n",
    "\n",
    "``` python\n",
    "x = 10\n",
    "\n",
    "if x<20:\n",
    "  print(A)\n",
    "```"
   ]
  },
  {
   "cell_type": "markdown",
   "id": "eeb0c3c7",
   "metadata": {},
   "source": [
    "```{admonition} Solution\n",
    ":class: toggle\n",
    "A is not defined."
   ]
  },
  {
   "cell_type": "markdown",
   "id": "8e66629f",
   "metadata": {},
   "source": [
    "## Question\n",
    "\n",
    "``` python\n",
    "is_cheap = true\n",
    "\n",
    "if is_cheap:\n",
    "  print('Buy it')\n",
    "```"
   ]
  },
  {
   "cell_type": "markdown",
   "id": "0a74c74e-85d7-4e1b-98e3-f8e7de857861",
   "metadata": {},
   "source": [
    "```{admonition} Solution\n",
    ":class: toggle\n",
    "In the first line true must be True (boolean value)."
   ]
  },
  {
   "cell_type": "markdown",
   "id": "c24eb0d1-b383-49f6-9de7-cbe867c0266e",
   "metadata": {},
   "source": [
    "## Question\n",
    "\n",
    "``` python\n",
    "house_age = 20\n",
    "\n",
    "if house_age  > 20:\n",
    "  print('OLD')\n",
    "elif house_age = 20:\n",
    "  print('Twenty')\n",
    "else:\n",
    "  print('NEW')\n",
    "```"
   ]
  },
  {
   "cell_type": "markdown",
   "id": "0ba65ee5",
   "metadata": {},
   "source": [
    "```{admonition} Solution\n",
    ":class: toggle\n",
    "In the condition of elif part = must == to make it a boolean expression."
   ]
  },
  {
   "cell_type": "markdown",
   "id": "d22f77a5-7d5b-4291-bd39-938c310034c5",
   "metadata": {},
   "source": [
    "## Question\n",
    "\n",
    "``` python\n",
    "x = 5\n",
    "\n",
    "if x > 10:\n",
    "    print('A')\n",
    "elif:\n",
    "    print('B')\n",
    "else:\n",
    "    print('C')\n",
    "```"
   ]
  },
  {
   "cell_type": "markdown",
   "id": "b3604d29-5a28-4586-a621-ebcef4c06664",
   "metadata": {},
   "source": [
    "```{admonition} Solution\n",
    ":class: toggle\n",
    "Condition (boolean expression) of elif is missing. "
   ]
  }
 ],
 "metadata": {
  "hide_input": false,
  "kernelspec": {
   "display_name": "Python 3 (ipykernel)",
   "language": "python",
   "name": "python3"
  },
  "language_info": {
   "codemirror_mode": {
    "name": "ipython",
    "version": 3
   },
   "file_extension": ".py",
   "mimetype": "text/x-python",
   "name": "python",
   "nbconvert_exporter": "python",
   "pygments_lexer": "ipython3",
   "version": "3.11.7"
  },
  "toc": {
   "base_numbering": 1,
   "nav_menu": {},
   "number_sections": true,
   "sideBar": true,
   "skip_h1_title": false,
   "title_cell": "Table of Contents",
   "title_sidebar": "Contents",
   "toc_cell": false,
   "toc_position": {},
   "toc_section_display": true,
   "toc_window_display": false
  }
 },
 "nbformat": 4,
 "nbformat_minor": 5
}
