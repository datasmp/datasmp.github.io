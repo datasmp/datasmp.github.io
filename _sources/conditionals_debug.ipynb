{
 "cells": [
  {
   "cell_type": "markdown",
   "id": "13e18a7d",
   "metadata": {},
   "source": [
    "# Conditionals Debugging\n",
    "![Section Title: Conditionals Debugging](title_pict/conditionals_debugging2.png)\n",
    "\n",
    "- Each of the following short code contains one or more bugs. &emsp;&emsp;&emsp;&emsp;\n",
    "- Please identify and correct these bugs.\n",
    "- Provide an explanation for your answer."
   ]
  },
  {
   "cell_type": "markdown",
   "id": "854437f7",
   "metadata": {},
   "source": [
    "## Question-1\n",
    "\n",
    "``` python\n",
    "x = 10\n",
    "\n",
    "if x<20:\n",
    "print('A')\n",
    "```"
   ]
  },
  {
   "cell_type": "markdown",
   "id": "48a8af1e",
   "metadata": {},
   "source": [
    "```{admonition} Solution\n",
    ":class: toggle\n",
    "Add appropriate indentation to the last line."
   ]
  },
  {
   "cell_type": "markdown",
   "id": "934b3a16",
   "metadata": {},
   "source": [
    "## Question-2\n",
    "\n",
    "``` python\n",
    "x = 10\n",
    "\n",
    "if x<20\n",
    "  print(x+5)\n",
    "```"
   ]
  },
  {
   "cell_type": "markdown",
   "id": "569b11be",
   "metadata": {},
   "source": [
    "```{admonition} Solution\n",
    ":class: toggle\n",
    "Colon (:) is missing at the end of the second line."
   ]
  },
  {
   "cell_type": "markdown",
   "id": "3407987f",
   "metadata": {},
   "source": [
    "## Question-3\n",
    "\n",
    "``` python\n",
    "x = 10\n",
    "\n",
    "if x<20:\n",
    "  print(A)\n",
    "```"
   ]
  },
  {
   "cell_type": "markdown",
   "id": "eeb0c3c7",
   "metadata": {},
   "source": [
    "```{admonition} Solution\n",
    ":class: toggle\n",
    "A is not defined."
   ]
  },
  {
   "cell_type": "markdown",
   "id": "8e66629f",
   "metadata": {},
   "source": [
    "## Question-4\n",
    "\n",
    "``` python\n",
    "is_cheap = true\n",
    "\n",
    "if is_cheap:\n",
    "  print('Buy it')\n",
    "```"
   ]
  },
  {
   "cell_type": "markdown",
   "id": "0a74c74e-85d7-4e1b-98e3-f8e7de857861",
   "metadata": {},
   "source": [
    "```{admonition} Solution\n",
    ":class: toggle\n",
    "In the first line, true should be capitalized as True to represent the boolean value."
   ]
  },
  {
   "cell_type": "markdown",
   "id": "c24eb0d1-b383-49f6-9de7-cbe867c0266e",
   "metadata": {},
   "source": [
    "## Question-5\n",
    "\n",
    "``` python\n",
    "house_age = 20\n",
    "\n",
    "if house_age  > 20:\n",
    "  print('OLD')\n",
    "elif house_age = 20:\n",
    "  print('Twenty')\n",
    "else:\n",
    "  print('NEW')\n",
    "```"
   ]
  },
  {
   "cell_type": "markdown",
   "id": "0ba65ee5",
   "metadata": {},
   "source": [
    "```{admonition} Solution\n",
    ":class: toggle\n",
    "In the condition of the elif part, replace = with == to form a correct boolean expression."
   ]
  },
  {
   "cell_type": "markdown",
   "id": "d22f77a5-7d5b-4291-bd39-938c310034c5",
   "metadata": {},
   "source": [
    "## Question-6\n",
    "\n",
    "``` python\n",
    "x = 5\n",
    "\n",
    "if x > 10:\n",
    "    print('A')\n",
    "elif:\n",
    "    print('B')\n",
    "else:\n",
    "    print('C')\n",
    "```"
   ]
  },
  {
   "cell_type": "markdown",
   "id": "b3604d29-5a28-4586-a621-ebcef4c06664",
   "metadata": {},
   "source": [
    "```{admonition} Solution\n",
    ":class: toggle\n",
    "The condition (boolean expression) of the elif part is missing. "
   ]
  },
  {
   "cell_type": "markdown",
   "id": "5bd97413-ded2-4b5c-bc59-5a511444d278",
   "metadata": {},
   "source": [
    "## Question-7\n",
    "\n",
    "``` python\n",
    "5 =< 7\n",
    "```"
   ]
  },
  {
   "cell_type": "markdown",
   "id": "25d40476-d7b2-4719-9e86-42ca8f2cfb4d",
   "metadata": {},
   "source": [
    "```{admonition} Solution\n",
    ":class: toggle\n",
    "The correct operator for \"less than or equal to\" is <=, not =<."
   ]
  },
  {
   "cell_type": "markdown",
   "id": "e34d8c17-7b46-479a-b3a3-26cff37eaab3",
   "metadata": {},
   "source": [
    "## Question-8\n",
    "\n",
    "``` python\n",
    "x = 10\n",
    "if x = 10:\n",
    "    print('It is ten.')\n",
    "```"
   ]
  },
  {
   "cell_type": "markdown",
   "id": "dd1f3b6a-0c97-4c0a-b722-fb5144b0e521",
   "metadata": {},
   "source": [
    "```{admonition} Solution\n",
    ":class: toggle\n",
    "The condition in the if statement (x = 10) incorrectly uses the assignment operator (=) instead of the correct comparison operator (==)."
   ]
  },
  {
   "cell_type": "markdown",
   "id": "ba90734b-ad9f-4203-a128-06e1d4102fc2",
   "metadata": {},
   "source": [
    "## Question-9\n",
    "\n",
    "``` python\n",
    "if x > 5:\n",
    "    print('It is five.')\n",
    "```"
   ]
  },
  {
   "cell_type": "markdown",
   "id": "ffc9e70e-d139-42bb-aefe-0817736ff8f6",
   "metadata": {},
   "source": [
    "```{admonition} Solution\n",
    ":class: toggle\n",
    "x is not defined."
   ]
  },
  {
   "cell_type": "markdown",
   "id": "731941ca-d9ac-47df-85ea-56c68c80cfcc",
   "metadata": {},
   "source": [
    "## Question-10\n",
    "\n",
    "``` python\n",
    "x = '3'\n",
    "\n",
    "if x > 2:\n",
    "    print('It is large.')\n",
    "```"
   ]
  },
  {
   "cell_type": "markdown",
   "id": "e8d4223e-1a06-4d16-ab7d-c6ce8d1546a8",
   "metadata": {},
   "source": [
    "```{admonition} Solution\n",
    ":class: toggle\n",
    "The string x and the integer 2 cannot be compared."
   ]
  },
  {
   "cell_type": "markdown",
   "id": "aca8bcbb-3916-4235-b1d4-d55421ea35c9",
   "metadata": {},
   "source": [
    "## Question-11\n",
    "\n",
    "``` python\n",
    "a = 1\n",
    "if a > 10:\n",
    "print('Large.')\n",
    "```"
   ]
  },
  {
   "cell_type": "markdown",
   "id": "98cbf471-31ec-4b2b-ac32-8d5ccb11954e",
   "metadata": {},
   "source": [
    "```{admonition} Solution\n",
    ":class: toggle\n",
    "There is an indentation error because the print statement is not properly indented inside the if block."
   ]
  },
  {
   "cell_type": "markdown",
   "id": "6e8822e1-6f93-4e16-89bd-b0d7fdf722f5",
   "metadata": {},
   "source": [
    "## Question-12\n",
    "\n",
    "``` python\n",
    "x = 5\n",
    "\n",
    "if x > 10:\n",
    "    print('A')\n",
    "else:\n",
    "    print('C')\n",
    "elif x>4:\n",
    "    print('B')\n",
    "\n",
    "```"
   ]
  },
  {
   "cell_type": "markdown",
   "id": "ffcc88c8-71df-4e9d-8add-1d78b78a11db",
   "metadata": {},
   "source": [
    "```{admonition} Solution\n",
    ":class: toggle\n",
    "The elif statement appears after the else block, which is not allowed in Python. \n",
    "The correct order should be: if, elif, else"
   ]
  },
  {
   "cell_type": "code",
   "execution_count": null,
   "id": "63bd5fea-7c7b-4f0f-9d51-749a83b3692a",
   "metadata": {},
   "outputs": [],
   "source": []
  }
 ],
 "metadata": {
  "hide_input": false,
  "kernelspec": {
   "display_name": "Python 3 (ipykernel)",
   "language": "python",
   "name": "python3"
  },
  "language_info": {
   "codemirror_mode": {
    "name": "ipython",
    "version": 3
   },
   "file_extension": ".py",
   "mimetype": "text/x-python",
   "name": "python",
   "nbconvert_exporter": "python",
   "pygments_lexer": "ipython3",
   "version": "3.11.8"
  },
  "toc": {
   "base_numbering": 1,
   "nav_menu": {},
   "number_sections": true,
   "sideBar": true,
   "skip_h1_title": false,
   "title_cell": "Table of Contents",
   "title_sidebar": "Contents",
   "toc_cell": false,
   "toc_position": {},
   "toc_section_display": true,
   "toc_window_display": false
  }
 },
 "nbformat": 4,
 "nbformat_minor": 5
}
