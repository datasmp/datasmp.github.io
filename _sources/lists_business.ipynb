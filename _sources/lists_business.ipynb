{
 "cells": [
  {
   "cell_type": "markdown",
   "id": "16496257-d691-4482-8029-addb917dedfb",
   "metadata": {},
   "source": [
    "# Lists Business\n",
    "![Section Title: Lists Business](title_pict/lists_business2.png)\n"
   ]
  },
  {
   "cell_type": "markdown",
   "id": "ce919e65-8f23-42fa-9ebb-d1b1701f84bb",
   "metadata": {},
   "source": [
    "## Business Applications"
   ]
  },
  {
   "cell_type": "markdown",
   "id": "944e5721-c80e-4777-91d3-f1b091783e14",
   "metadata": {},
   "source": [
    "### Question-1: Max of Revenue\n",
    "Revenue (R) is the product of the number (n) of items sold  and the price (p) of the item.\n",
    "- $R = p\\cdot n$\n",
    "  \n",
    "The number of item sold is given by the following equation: $n = -1.5p+30$\n",
    "- Construct a list that consists of the revenues for  $0\\le p \\le 20$.\n",
    "- Plot the graph of revenue for $0\\le p \\le 20$"
   ]
  },
  {
   "cell_type": "markdown",
   "id": "e425a3e8-5754-497c-b29c-e818a15cb6da",
   "metadata": {},
   "source": [
    "### Question-2: Profit\n",
    "Profit (P) is the difference between Revenue and Cost\n",
    "- $Profit = Revenue - Cost$\n",
    "\n",
    "The monthly fixed cost of a cable factory is 1500 dollars. Each cable costs 13 dollars and sells for 25 dollars.\n",
    "- For what number of cables produced profit is zero.\n",
    "    - Hint: Calculate the profit for $n$ between 1 and 400.\n",
    "    \n",
    "- Construct three lists that consist of the revenues, costs, and profits for  $0\\le p \\le 400$.\n",
    "- Plot the reveue, cost, profit for producing up to 400 cables.\n",
    "- Draw a vertical line where the profit is zero for $n$.\n",
    "\n",
    "Sample Plot:\n",
    "\n",
    "![In this plot, there is a vertical line between x = 100 and x = 200, along with three dashed lines representing Revenue, Cost, and Profit. The Revenue line starts at the origin and has a positive slope. The Cost line begins above the origin on the y-axis and also has a positive slope. The Profit line starts below the origin on the y-axis and has a positive slope as well. The Revenue and Cost lines intersect at a point on the red vertical line.](pict/list_ques_profit.png)"
   ]
  },
  {
   "cell_type": "markdown",
   "id": "b40d8e8b-9648-468e-9726-5015b3bb9158",
   "metadata": {},
   "source": [
    "### Question-3: Break-Even Point\n",
    "Break-Even Point is the point where total cost equals total revenue, meaning profit is zero.\n",
    "\n",
    "For the given cost and the revenue functions find the break-even point and plot it.\n",
    "\n",
    "$C(n) = 0.5n +2000$\n",
    "\n",
    "$R(n) = 2.5n$\n",
    "\n",
    "Hint: Calculate the cost and revenue for n between 1 and 10,000.\n",
    "\n",
    "Sample Plot:\n",
    "\n",
    "![In this plot, there is a vertical line between x = 100 and x = 200, along with three dashed lines representing Revenue, Cost, and Profit. The Revenue line starts at the origin and has a positive slope. The Cost line begins above the origin on the y-axis and also has a positive slope. The Profit line starts below the origin on the y-axis and has a positive slope as well. \n",
    "The Revenue and Cost lines intersect at a point on the red vertical line. The coordinates of this point are (1000, 2500), and it is referred to as the break-even point.](pict/list_ques_be.png)"
   ]
  },
  {
   "cell_type": "markdown",
   "id": "59d92788-0c34-4e46-9a38-3f7e0ee4cf0f",
   "metadata": {},
   "source": [
    "### Question-4: Exponential Depreciation\n",
    "The value $V$ of a truck in dollars is given by the formula $V(t)=140000(1.35)^{-0.6t}$  where $t$ is the age of the truck in years. \n",
    "\n",
    "- Plot the graph of values of the truck in 30 years."
   ]
  },
  {
   "cell_type": "markdown",
   "id": "669227f0-5b36-4f71-b728-7506dc1fe36f",
   "metadata": {},
   "source": [
    "### Question-5: Demand\n",
    "If the demand function is given as the following linear relation $p = -2q+300$.\n",
    "- Plot the demand function for $1\\le q\\le 200$."
   ]
  },
  {
   "cell_type": "markdown",
   "id": "66a9e4d8-160b-4e53-88e8-bfdfeaf147cf",
   "metadata": {},
   "source": [
    "### Question-6: Supply Function\n",
    "\n",
    "If the supply function is given by the linear relation \n",
    "$p = 4q+100$.\n",
    "- Plot the supply function for $1\\le q\\le 100$."
   ]
  },
  {
   "cell_type": "markdown",
   "id": "d1d2e0b3-4f9d-47fe-a2c8-7be843455a5f",
   "metadata": {},
   "source": [
    "### Question-7: Equilibrium Point\n",
    "*An equilibrium point is where the demand and supply curves intersect.*\n",
    "\n",
    "For the given demand and the supply functions find the equilibrium point and plot it.\n",
    "\n",
    "Demand: $p(q) = -0.03q + 1000$\n",
    "\n",
    "Supply: $p(q) = 0.02q + 400$\n",
    "\n",
    "- Hint: Calculate the demand and supply for $q$ between 0 and 20,000.\n",
    "\n",
    "Sample plot:\n",
    "\n",
    "![In this plot, there are two dashed lines representing Demand and Supply. The Demand line begins above the origin on the y-axis and has a negative slope, while the Supply line also starts above the origin on the y-axis but has a positive slope.\n",
    "The Supply and Demand lines intersect at a point known as the equilibrium point. The coordinates of this point are (12000, 640).](pict/lists_ques_ep.png)"
   ]
  },
  {
   "cell_type": "markdown",
   "id": "47f3dfcd-31a8-4bd6-ae10-ba1f4014c7bc",
   "metadata": {},
   "source": [
    "### Question-8: Stock Percentage Changes\n",
    "The following is a list of the prices for Tesla stock over a certain period of time.\n",
    "``` python\n",
    "stock_prices = [174.9499969482422,\n",
    " 186.60000610351562,\n",
    " 180.11000061035156,\n",
    " 173.74000549316406,\n",
    " 179.24000549316406,\n",
    " 176.75,\n",
    " 176.19000244140625,\n",
    " 178.7899932861328,\n",
    " 178.0800018310547,\n",
    " 176.2899932861328,\n",
    " 174.77000427246094,\n",
    " 175.0,\n",
    " 177.94000244140625,\n",
    " 177.47999572753906,\n",
    " 173.7899932861328,\n",
    " 170.66000366210938,\n",
    " 177.2899932861328,\n",
    " 182.47000122070312,\n",
    " 178.00999450683594,\n",
    " 187.44000244140625,\n",
    " 184.86000061035156]\n",
    "``` \n",
    "Create a list of percentage changes using the stock_prices list.\n",
    "- The first element of the percentage list is np.nan because there is no price available for the previous day."
   ]
  },
  {
   "cell_type": "markdown",
   "id": "a1cb0f31-163a-475d-b29c-0fe59ff19558",
   "metadata": {},
   "source": [
    "### Question-9: Stock Behavior\n",
    "The following is a list of the prices for Tesla stock over a certain period of time.\n",
    "``` python\n",
    "stock_prices = [174.9499969482422,\n",
    " 186.60000610351562,\n",
    " 180.11000061035156,\n",
    " 173.74000549316406,\n",
    " 179.24000549316406,\n",
    " 176.75,\n",
    " 176.19000244140625,\n",
    " 178.7899932861328,\n",
    " 178.0800018310547,\n",
    " 176.2899932861328,\n",
    " 174.77000427246094,\n",
    " 175.0,\n",
    " 177.94000244140625,\n",
    " 177.47999572753906,\n",
    " 173.7899932861328,\n",
    " 170.66000366210938,\n",
    " 177.2899932861328,\n",
    " 182.47000122070312,\n",
    " 178.00999450683594,\n",
    " 187.44000244140625,\n",
    " 184.86000061035156]\n",
    "```\n",
    "\n",
    "Create a list indicating the behavior of stock prices as Increasing, Decreasing, or Flat using the stock_prices list.\n",
    "- Count how many days the stock price went up.\n",
    "- The first element of the behavior list is np.nan because there is no price available for the previous day."
   ]
  }
 ],
 "metadata": {
  "kernelspec": {
   "display_name": "Python 3 (ipykernel)",
   "language": "python",
   "name": "python3"
  },
  "language_info": {
   "codemirror_mode": {
    "name": "ipython",
    "version": 3
   },
   "file_extension": ".py",
   "mimetype": "text/x-python",
   "name": "python",
   "nbconvert_exporter": "python",
   "pygments_lexer": "ipython3",
   "version": "3.11.8"
  }
 },
 "nbformat": 4,
 "nbformat_minor": 5
}
