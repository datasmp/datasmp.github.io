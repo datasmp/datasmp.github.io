{
 "cells": [
  {
   "cell_type": "markdown",
   "id": "13e18a7d",
   "metadata": {
    "hide_input": false
   },
   "source": [
    "# Input and Output Code\n",
    "- Please solve the following questions using Python code.&emsp;&emsp;"
   ]
  },
  {
   "cell_type": "markdown",
   "id": "7054f9a9",
   "metadata": {},
   "source": [
    "## Question-1\n",
    "Display the first 3 characters of your first name by using the character *.    \n",
    "**Solution**"
   ]
  },
  {
   "cell_type": "code",
   "execution_count": 1,
   "id": "790bb430",
   "metadata": {
    "tags": [
     "hide-cell"
    ]
   },
   "outputs": [
    {
     "name": "stdout",
     "output_type": "stream",
     "text": [
      "*     *   *     *   * * * *   \n",
      " *   *    *     *   *         \n",
      "   *      *     *   * * * *   \n",
      "   *      *     *         *   \n",
      "   *      * * * *   * * * *   \n"
     ]
    }
   ],
   "source": [
    "print('*     *   *     *   * * * *   ')\n",
    "print(' *   *    *     *   *         ')\n",
    "print('   *      *     *   * * * *   ')\n",
    "print('   *      *     *         *   ')\n",
    "print('   *      * * * *   * * * *   ')"
   ]
  },
  {
   "cell_type": "markdown",
   "id": "9a2cdb14",
   "metadata": {},
   "source": [
    "## Question-2\n",
    "- Use the given variables to print the following statement:  \n",
    "`My name is Michael. I am from Germany. I am 25 years old.`\n",
    "\n",
    "- Be careful about spaces and punctuations.\n",
    "\n",
    "    - name = 'Michael'\n",
    "    - age = 25\n",
    "    - country = 'Germany'\n",
    "\n",
    "  \n",
    "**Solution**"
   ]
  },
  {
   "cell_type": "code",
   "execution_count": 6,
   "id": "355b4b4d",
   "metadata": {
    "tags": [
     "hide-cell"
    ]
   },
   "outputs": [
    {
     "name": "stdout",
     "output_type": "stream",
     "text": [
      "My name is Michael. I am from Germany. I am 25 years old.\n"
     ]
    }
   ],
   "source": [
    "name = 'Michael'\n",
    "age = 25\n",
    "country = 'Germany'\n",
    "\n",
    "print('My name is ', name, '. I am from ', country, '. I am ', age, ' years old.', sep='')"
   ]
  },
  {
   "cell_type": "markdown",
   "id": "deeef83a",
   "metadata": {},
   "source": [
    "## Question-3\n",
    "Write a program that prompts the user for 4 numbers using 4 input functions.\n",
    "\n",
    "- Find the sum of these numbers and assign it to a variable.\n",
    "- Find the product of these numbers and assign it to a variable.\n",
    "- Print the sum and product of these numbers on two separate lines using a single print function."
   ]
  },
  {
   "cell_type": "markdown",
   "id": "7c212325-f0a4-4d22-b6df-578d74b4722b",
   "metadata": {
    "tags": [
     "hide-cell"
    ]
   },
   "source": [
    "```{admonition} Solution\n",
    ":class: toggle\n",
    "\n",
    "``` python\n",
    "num1 = float(input('Number1: '))\n",
    "num2 = float(input('Number2: '))\n",
    "num3 = float(input('Number3: '))\n",
    "num4 = float(input('Number4: '))\n",
    "\n",
    "total = num1 + num2 + num3 + num4\n",
    "product = num1 * num2 * num3 * num4\n",
    "\n",
    "print('Sum: ', total, '\\nProduct:', product)\n",
    "```"
   ]
  },
  {
   "cell_type": "markdown",
   "id": "8b1e077a",
   "metadata": {},
   "source": [
    "## Question-4\n",
    "- Use the given variables to print `Bill- -Gates` by using five different codes.\n",
    "    - first_name = 'Bill'\n",
    "    - last_name = 'Gates' \n",
    "  \n",
    "**Solution**"
   ]
  },
  {
   "cell_type": "code",
   "execution_count": 3,
   "id": "25ac098a",
   "metadata": {
    "tags": [
     "hide-cell"
    ]
   },
   "outputs": [
    {
     "name": "stdout",
     "output_type": "stream",
     "text": [
      "Bill- -Gates\n",
      "Bill- -Gates\n",
      "Bill- -Gates\n",
      "Bill- -Gates\n",
      "Bill- -Gates\n"
     ]
    }
   ],
   "source": [
    "first_name = 'Bill'\n",
    "last_name = 'Gates'\n",
    "print(first_name, last_name, sep='- -')\n",
    "print(first_name +'- -'+ last_name)\n",
    "print(first_name +'-'+' -'+ last_name)\n",
    "print(first_name +'- '+'-'+ last_name)\n",
    "print(first_name +'-'+' '+'-'+ last_name)"
   ]
  },
  {
   "cell_type": "markdown",
   "id": "4df5a565",
   "metadata": {},
   "source": [
    "## Question-5\n",
    "Write a program which prompts the user for an integer.\n",
    "- Find the square of the given number.\n",
    "- Print the following statement:\n",
    "  - square(number) = square of the number\n",
    "  -  Example: If the given number is `3` then the output should be `square(3)=9`\n",
    "  -  Example: If the given number is `5` then the output should be `square(5)=25`\n",
    "    "
   ]
  },
  {
   "cell_type": "markdown",
   "id": "752b7b33-675f-4f02-b23f-36e49558018f",
   "metadata": {
    "tags": [
     "hide-cell"
    ]
   },
   "source": [
    "```{admonition} Solution\n",
    ":class: toggle\n",
    "\n",
    "``` python\n",
    "number = int(input('Enter an integer: '))\n",
    "\n",
    "square = number**2\n",
    "\n",
    "print('square(', number, ')=', square, sep='')\n",
    "```"
   ]
  },
  {
   "cell_type": "code",
   "execution_count": null,
   "id": "b32e3019-94ca-4c9f-8dc1-ae3bc2d6797f",
   "metadata": {},
   "outputs": [],
   "source": []
  }
 ],
 "metadata": {
  "celltoolbar": "Edit Metadata",
  "hide_input": false,
  "kernelspec": {
   "display_name": "Python 3 (ipykernel)",
   "language": "python",
   "name": "python3"
  },
  "language_info": {
   "codemirror_mode": {
    "name": "ipython",
    "version": 3
   },
   "file_extension": ".py",
   "mimetype": "text/x-python",
   "name": "python",
   "nbconvert_exporter": "python",
   "pygments_lexer": "ipython3",
   "version": "3.11.7"
  },
  "toc": {
   "base_numbering": 1,
   "nav_menu": {},
   "number_sections": true,
   "sideBar": true,
   "skip_h1_title": false,
   "title_cell": "Table of Contents",
   "title_sidebar": "Contents",
   "toc_cell": false,
   "toc_position": {},
   "toc_section_display": true,
   "toc_window_display": false
  }
 },
 "nbformat": 4,
 "nbformat_minor": 5
}
