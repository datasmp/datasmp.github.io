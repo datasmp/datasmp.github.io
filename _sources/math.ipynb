{
 "cells": [
  {
   "cell_type": "markdown",
   "id": "5e10428c-095a-4e6d-8967-5cbbc0fafeb4",
   "metadata": {},
   "source": [
    "# App-A: Math Module\n",
    "\n",
    "The [math module](https://docs.python.org/3/library/math.html)  provides most commonly used mathematical functions and constants.\n",
    "- First, you need to import the math module."
   ]
  },
  {
   "cell_type": "code",
   "execution_count": 1,
   "id": "5c650f8d-861b-4b3d-a214-cd32ee660083",
   "metadata": {},
   "outputs": [],
   "source": [
    "import math"
   ]
  },
  {
   "cell_type": "markdown",
   "id": "6e64b357-29ba-4474-bf3b-39857438916f",
   "metadata": {},
   "source": [
    "You can access the list of constants and functions in the math module by using the *dir(math)* function.\n",
    "- You can execute help(math) for more details."
   ]
  },
  {
   "cell_type": "code",
   "execution_count": 2,
   "id": "4722195f-3540-4df8-9a11-38f40c336c62",
   "metadata": {
    "scrolled": true
   },
   "outputs": [
    {
     "name": "stdout",
     "output_type": "stream",
     "text": [
      "['__doc__', '__file__', '__loader__', '__name__', '__package__', '__spec__', 'acos', 'acosh', 'asin', 'asinh', 'atan', 'atan2', 'atanh', 'cbrt', 'ceil', 'comb', 'copysign', 'cos', 'cosh', 'degrees', 'dist', 'e', 'erf', 'erfc', 'exp', 'exp2', 'expm1', 'fabs', 'factorial', 'floor', 'fmod', 'frexp', 'fsum', 'gamma', 'gcd', 'hypot', 'inf', 'isclose', 'isfinite', 'isinf', 'isnan', 'isqrt', 'lcm', 'ldexp', 'lgamma', 'log', 'log10', 'log1p', 'log2', 'modf', 'nan', 'nextafter', 'perm', 'pi', 'pow', 'prod', 'radians', 'remainder', 'sin', 'sinh', 'sqrt', 'tan', 'tanh', 'tau', 'trunc', 'ulp']\n"
     ]
    }
   ],
   "source": [
    "print(dir(math))"
   ]
  },
  {
   "cell_type": "markdown",
   "id": "70bdffa5-5f23-42d6-b782-c7a7435974dc",
   "metadata": {},
   "source": [
    "## Constants\n"
   ]
  },
  {
   "cell_type": "markdown",
   "id": "77fa8702-95ae-491f-bde5-745ff50b001f",
   "metadata": {},
   "source": [
    "### pi\n",
    "\n",
    "$\\pi$ (pi): *math.pi*"
   ]
  },
  {
   "cell_type": "code",
   "execution_count": 3,
   "id": "f9f20416-4b82-4bc4-8695-59742c64f0ca",
   "metadata": {},
   "outputs": [
    {
     "name": "stdout",
     "output_type": "stream",
     "text": [
      "3.141592653589793\n"
     ]
    }
   ],
   "source": [
    "print(math.pi)"
   ]
  },
  {
   "cell_type": "markdown",
   "id": "85f088ca-26e7-47ea-8dac-e184efbce700",
   "metadata": {},
   "source": [
    "### e\n",
    "\n",
    "$e$ (Euler's constant): *math.e*"
   ]
  },
  {
   "cell_type": "code",
   "execution_count": 4,
   "id": "ca575419-dbba-4741-b827-dbfa7ca5d07d",
   "metadata": {},
   "outputs": [
    {
     "name": "stdout",
     "output_type": "stream",
     "text": [
      "2.718281828459045\n"
     ]
    }
   ],
   "source": [
    "print(math.e)"
   ]
  },
  {
   "cell_type": "markdown",
   "id": "1fc7218e-11f0-4dde-927a-12c37a1a43c1",
   "metadata": {},
   "source": [
    "## Functions"
   ]
  },
  {
   "cell_type": "markdown",
   "id": "30e9ef86-ad47-4f59-8487-e34c99c0711a",
   "metadata": {},
   "source": [
    "### radians()\n",
    "It is the conversion function from degress to radians. The syntax is *math.radians()*"
   ]
  },
  {
   "cell_type": "code",
   "execution_count": 5,
   "id": "ca529893-3400-4920-bb4e-77bcf08ad67e",
   "metadata": {},
   "outputs": [
    {
     "name": "stdout",
     "output_type": "stream",
     "text": [
      "3.141592653589793\n"
     ]
    }
   ],
   "source": [
    "# 180 degrees = 1 pi radians\n",
    "print(math.radians(180))"
   ]
  },
  {
   "cell_type": "code",
   "execution_count": 6,
   "id": "ee2ff55e-17b6-44e1-8d8b-f3ca6551f7cd",
   "metadata": {},
   "outputs": [
    {
     "name": "stdout",
     "output_type": "stream",
     "text": [
      "4.71238898038469\n"
     ]
    }
   ],
   "source": [
    "# 270 degrees = 3 pi /2 radians\n",
    "print(math.radians(270))"
   ]
  },
  {
   "cell_type": "markdown",
   "id": "fcb4a28a-ea71-489f-8934-602a6335e1c7",
   "metadata": {},
   "source": [
    "### degrees()\n",
    "It is the conversion function from radians to degrees. The syntax is *math.degrees()*"
   ]
  },
  {
   "cell_type": "code",
   "execution_count": 7,
   "id": "dd2bab7f-fdac-4a60-ad10-0fbc74fb9a69",
   "metadata": {},
   "outputs": [
    {
     "name": "stdout",
     "output_type": "stream",
     "text": [
      "180.0\n"
     ]
    }
   ],
   "source": [
    "# 180 degrees = 1 pi radians\n",
    "print(math.degrees(math.pi))"
   ]
  },
  {
   "cell_type": "code",
   "execution_count": 8,
   "id": "b98c47e9-605e-4603-afd0-8f57214833bb",
   "metadata": {},
   "outputs": [
    {
     "name": "stdout",
     "output_type": "stream",
     "text": [
      "270.0\n"
     ]
    }
   ],
   "source": [
    "# 270 degrees = 3 pi /2 radians\n",
    "print(math.degrees(3*math.pi/2))"
   ]
  },
  {
   "cell_type": "markdown",
   "id": "dad075e9-ab23-4b23-93ff-2017b3e7dc7f",
   "metadata": {},
   "source": [
    "### cos()\n",
    "It is the cosine function. The syntax is *math.cos()*\n",
    "- The input angle is in radians."
   ]
  },
  {
   "cell_type": "code",
   "execution_count": 9,
   "id": "8c9ed306-97d6-4875-8e68-0fdc9d9cf75d",
   "metadata": {},
   "outputs": [
    {
     "name": "stdout",
     "output_type": "stream",
     "text": [
      "1.0\n"
     ]
    }
   ],
   "source": [
    "# cos(0)\n",
    "print(math.cos(0))"
   ]
  },
  {
   "cell_type": "code",
   "execution_count": 10,
   "id": "9e0f9902-9640-463d-9d1e-b0dc9753b930",
   "metadata": {},
   "outputs": [
    {
     "name": "stdout",
     "output_type": "stream",
     "text": [
      "6.123233995736766e-17\n"
     ]
    }
   ],
   "source": [
    "# cos(pi/2), actual value is 0\n",
    "print(math.cos(math.pi/2))"
   ]
  },
  {
   "cell_type": "code",
   "execution_count": 11,
   "id": "7f93be98-4bb1-4fd6-8dc5-4f89e5622dc7",
   "metadata": {},
   "outputs": [
    {
     "name": "stdout",
     "output_type": "stream",
     "text": [
      "-1.0\n"
     ]
    }
   ],
   "source": [
    "# cos(pi)\n",
    "print(math.cos(math.pi))"
   ]
  },
  {
   "cell_type": "code",
   "execution_count": 12,
   "id": "7e66d92f-be15-4ffe-a0fb-71dbe77ec9e0",
   "metadata": {},
   "outputs": [
    {
     "name": "stdout",
     "output_type": "stream",
     "text": [
      "-1.8369701987210297e-16\n"
     ]
    }
   ],
   "source": [
    "# cos(3pi/2), actual value is 0\n",
    "print(math.cos(3*math.pi/2))"
   ]
  },
  {
   "cell_type": "code",
   "execution_count": 13,
   "id": "3e4921db-c5dd-4694-baa3-4b59679279c6",
   "metadata": {},
   "outputs": [
    {
     "name": "stdout",
     "output_type": "stream",
     "text": [
      "1.0\n"
     ]
    }
   ],
   "source": [
    "# cos(2pi)\n",
    "print(math.cos(2*math.pi))"
   ]
  },
  {
   "cell_type": "markdown",
   "id": "34a7afaf-fd0f-4586-b02d-905d80219b55",
   "metadata": {},
   "source": [
    "### sin()\n",
    "It is the sine function. The syntax is *math.sin()*\n",
    "- The input angle is in radians."
   ]
  },
  {
   "cell_type": "code",
   "execution_count": 14,
   "id": "c35ccb54-3ce2-4393-932d-8d98cd12380c",
   "metadata": {},
   "outputs": [
    {
     "name": "stdout",
     "output_type": "stream",
     "text": [
      "0.0\n"
     ]
    }
   ],
   "source": [
    "# sin(0)\n",
    "print(math.sin(0))"
   ]
  },
  {
   "cell_type": "code",
   "execution_count": 15,
   "id": "509b74b0-59c2-45a4-8603-8cd4595ecc29",
   "metadata": {},
   "outputs": [
    {
     "name": "stdout",
     "output_type": "stream",
     "text": [
      "1.0\n"
     ]
    }
   ],
   "source": [
    "# sin(pi/2)\n",
    "print(math.sin(math.pi/2))"
   ]
  },
  {
   "cell_type": "code",
   "execution_count": 16,
   "id": "1a0d52cc-3978-40a5-84fc-ed0446f3a602",
   "metadata": {},
   "outputs": [
    {
     "name": "stdout",
     "output_type": "stream",
     "text": [
      "1.2246467991473532e-16\n"
     ]
    }
   ],
   "source": [
    "# sin(pi), actual value is 0\n",
    "print(math.sin(math.pi))"
   ]
  },
  {
   "cell_type": "code",
   "execution_count": 17,
   "id": "8af4710f-8c4f-4ce6-9226-6c325e293c2f",
   "metadata": {},
   "outputs": [
    {
     "name": "stdout",
     "output_type": "stream",
     "text": [
      "-1.0\n"
     ]
    }
   ],
   "source": [
    "# sin(3pi/2)\n",
    "print(math.sin(3*math.pi/2))"
   ]
  },
  {
   "cell_type": "code",
   "execution_count": 18,
   "id": "0ac98113-8fd4-4597-aee0-9721cd88e2d0",
   "metadata": {},
   "outputs": [
    {
     "name": "stdout",
     "output_type": "stream",
     "text": [
      "-2.4492935982947064e-16\n"
     ]
    }
   ],
   "source": [
    "# cos(2pi), actual value is 0\n",
    "print(math.sin(2*math.pi))"
   ]
  },
  {
   "cell_type": "markdown",
   "id": "18c3529d-2fb4-4655-8c74-df5d00c26e31",
   "metadata": {},
   "source": [
    "### tan()\n",
    "It is the tangent function. The syntax is *math.tan()*\n",
    "- The input angle is in radians."
   ]
  },
  {
   "cell_type": "code",
   "execution_count": 19,
   "id": "60c767c7-59c5-4425-bde6-149e0fac98ce",
   "metadata": {},
   "outputs": [
    {
     "name": "stdout",
     "output_type": "stream",
     "text": [
      "0.0\n"
     ]
    }
   ],
   "source": [
    "# tan(0)\n",
    "print(math.tan(0))"
   ]
  },
  {
   "cell_type": "code",
   "execution_count": 20,
   "id": "6e6410a9-5e33-490b-9c46-5273923fdd89",
   "metadata": {},
   "outputs": [
    {
     "name": "stdout",
     "output_type": "stream",
     "text": [
      "-1.2246467991473532e-16\n"
     ]
    }
   ],
   "source": [
    "# tan(pi), actual value is 0\n",
    "print(math.tan(math.pi))"
   ]
  },
  {
   "cell_type": "markdown",
   "id": "54f9ca9c-cf05-4d33-ad66-58ad82722eb0",
   "metadata": {},
   "source": [
    "### acos()\n",
    "It is the arccosine function which is the inverse of the cosine function. The syntax is *math.acos()*"
   ]
  },
  {
   "cell_type": "code",
   "execution_count": 21,
   "id": "0d920b76-4543-4456-9e93-bad08d6aa2a9",
   "metadata": {},
   "outputs": [
    {
     "name": "stdout",
     "output_type": "stream",
     "text": [
      "0.0\n"
     ]
    }
   ],
   "source": [
    "# acos(1) = 0 because cos(0) = 1\n",
    "print(math.acos(1))"
   ]
  },
  {
   "cell_type": "markdown",
   "id": "79266271-00b3-4bbb-8633-3dd9d0e7a7eb",
   "metadata": {},
   "source": [
    "### asin()\n",
    "It is the arcsine function which is the inverse of the sine function. The syntax is *math.asin()*"
   ]
  },
  {
   "cell_type": "code",
   "execution_count": 22,
   "id": "d11b10b4-044f-4153-b1ca-8fffde57f29b",
   "metadata": {},
   "outputs": [
    {
     "name": "stdout",
     "output_type": "stream",
     "text": [
      "1.5707963267948966\n"
     ]
    }
   ],
   "source": [
    "# asin(1) = pi/2 because sin(pi/2) = 1\n",
    "print(math.asin(1))"
   ]
  },
  {
   "cell_type": "markdown",
   "id": "4c2d09e2-b758-44b2-a527-14be7f341503",
   "metadata": {},
   "source": [
    "### atan()\n",
    "It is the arctangent function which is the inverse of the tangent function. The syntax is *math.atan()*"
   ]
  },
  {
   "cell_type": "code",
   "execution_count": 23,
   "id": "2b1897c1-bd57-46b8-aa64-877967775004",
   "metadata": {},
   "outputs": [
    {
     "name": "stdout",
     "output_type": "stream",
     "text": [
      "0.0\n"
     ]
    }
   ],
   "source": [
    "# atan(0) = 0 because tan(0) = 0\n",
    "print(math.atan(0))"
   ]
  },
  {
   "cell_type": "code",
   "execution_count": null,
   "id": "c86b0853-92dc-403e-b907-58b104387099",
   "metadata": {},
   "outputs": [],
   "source": []
  },
  {
   "cell_type": "markdown",
   "id": "9a882035-980f-416a-bee9-6252393bed7b",
   "metadata": {},
   "source": [
    "### cosh()\n",
    "It is the hyperbolic cosine function. The syntax is *math.cosh()*\n",
    "\n",
    "$\\displaystyle cosh(x) = \\frac{e^x+e^{-x}}{2}$"
   ]
  },
  {
   "cell_type": "code",
   "execution_count": 24,
   "id": "658f393d-2e81-442e-ac51-a8a26ad67de8",
   "metadata": {},
   "outputs": [
    {
     "name": "stdout",
     "output_type": "stream",
     "text": [
      "1.0\n"
     ]
    }
   ],
   "source": [
    "print(math.cosh(0))"
   ]
  },
  {
   "cell_type": "code",
   "execution_count": 25,
   "id": "414a8862-570e-4253-910c-9d3635fac059",
   "metadata": {},
   "outputs": [
    {
     "name": "stdout",
     "output_type": "stream",
     "text": [
      "1.5430806348152437\n"
     ]
    }
   ],
   "source": [
    "print(math.cosh(1))"
   ]
  },
  {
   "cell_type": "markdown",
   "id": "fcdf7515-3e5c-4305-b255-65b500c01e5f",
   "metadata": {},
   "source": [
    "### sinh()\n",
    "It is the hyperbolic sine function. The syntax is *math.sinh()*\n",
    "\n",
    "$\\displaystyle sinh(x) = \\frac{e^x-e^{-x}}{2}$"
   ]
  },
  {
   "cell_type": "code",
   "execution_count": 26,
   "id": "5044081f-d80f-4f2f-ab81-3525ea89c7ab",
   "metadata": {},
   "outputs": [
    {
     "name": "stdout",
     "output_type": "stream",
     "text": [
      "0.0\n"
     ]
    }
   ],
   "source": [
    "print(math.sinh(0))"
   ]
  },
  {
   "cell_type": "code",
   "execution_count": 27,
   "id": "97e751dd-ec88-41c3-ba69-fdcaf75c6107",
   "metadata": {},
   "outputs": [
    {
     "name": "stdout",
     "output_type": "stream",
     "text": [
      "1.1752011936438014\n"
     ]
    }
   ],
   "source": [
    "print(math.sinh(1))"
   ]
  },
  {
   "cell_type": "markdown",
   "id": "119f8dda-58b3-4fa6-9be1-1091f2d73d8e",
   "metadata": {},
   "source": [
    "### tanh()\n",
    "It is the hyperbolic tangent function. The syntax is *math.tanh()*\n",
    "\n",
    "$\\displaystyle tanh(x) = \\frac{e^x-e^{-x}}{e^x+e^{-x}}$"
   ]
  },
  {
   "cell_type": "code",
   "execution_count": 28,
   "id": "92b1485b-d74d-4f8c-ac6c-87a108dd0a6b",
   "metadata": {},
   "outputs": [
    {
     "name": "stdout",
     "output_type": "stream",
     "text": [
      "0.0\n"
     ]
    }
   ],
   "source": [
    "print(math.tanh(0))"
   ]
  },
  {
   "cell_type": "code",
   "execution_count": 29,
   "id": "42fe2596-1344-4032-86cd-d382468457d5",
   "metadata": {
    "scrolled": true
   },
   "outputs": [
    {
     "name": "stdout",
     "output_type": "stream",
     "text": [
      "0.7615941559557649\n"
     ]
    }
   ],
   "source": [
    "print(math.tanh(1))"
   ]
  },
  {
   "cell_type": "markdown",
   "id": "c33647b0-daa8-4076-8c8c-6df0b5b04755",
   "metadata": {},
   "source": [
    "### lcm()\n",
    "It is the least common multiple function. The syntax is *math.lcm()*"
   ]
  },
  {
   "cell_type": "code",
   "execution_count": 30,
   "id": "7ced7ce7-3d0b-43b2-8836-c58375a015dd",
   "metadata": {},
   "outputs": [
    {
     "name": "stdout",
     "output_type": "stream",
     "text": [
      "60\n"
     ]
    }
   ],
   "source": [
    "print(math.lcm(12, 20))"
   ]
  },
  {
   "cell_type": "markdown",
   "id": "e6d45514-4759-4586-986b-b080ddebdcf3",
   "metadata": {},
   "source": [
    "### gcd()\n",
    "It is the greatest common divisor function. The syntax is *math.gcd()*"
   ]
  },
  {
   "cell_type": "code",
   "execution_count": 31,
   "id": "870c88b5-f51d-4879-b0c4-9f0ead70d9d1",
   "metadata": {},
   "outputs": [
    {
     "name": "stdout",
     "output_type": "stream",
     "text": [
      "4\n"
     ]
    }
   ],
   "source": [
    "print(math.gcd(12,20))"
   ]
  },
  {
   "cell_type": "markdown",
   "id": "000529fa-0c14-4253-97fe-c9bd5a3422bf",
   "metadata": {},
   "source": [
    "### log()\n",
    "It is the logarithm to the base of $e$ function $\\log_e(x)=ln(x)$. The syntax is *math.log()*"
   ]
  },
  {
   "cell_type": "code",
   "execution_count": 32,
   "id": "d832410d-8dd5-4b7f-b897-e228fb7f7ce1",
   "metadata": {},
   "outputs": [
    {
     "name": "stdout",
     "output_type": "stream",
     "text": [
      "1.0\n"
     ]
    }
   ],
   "source": [
    "print(math.log(math.e))"
   ]
  },
  {
   "cell_type": "markdown",
   "id": "63107e92-9b0b-420e-81e4-d390266759cb",
   "metadata": {},
   "source": [
    "### log10()\n",
    "It is the logarithm to the base of $e$ function $\\log_{10}(x)=log(x)$. The syntax is *math.log10()*"
   ]
  },
  {
   "cell_type": "code",
   "execution_count": 33,
   "id": "b0856778-398d-42ab-9988-a60e60383797",
   "metadata": {},
   "outputs": [
    {
     "name": "stdout",
     "output_type": "stream",
     "text": [
      "3.0\n"
     ]
    }
   ],
   "source": [
    "print(math.log10(1000))"
   ]
  },
  {
   "cell_type": "markdown",
   "id": "b71da0e6-d1ff-4d47-8d83-1f50d54eaf12",
   "metadata": {},
   "source": [
    "### factorial()\n",
    "It is the factorial function. The syntax is *math.factorial()*\n",
    "- 5 factorial is denoted by $5!$ in mathematics and it is equal to $5! = 5\\cdot4\\cdot3\\cdot2\\cdot1$"
   ]
  },
  {
   "cell_type": "code",
   "execution_count": 34,
   "id": "d1e8156e-63ea-4825-b974-42ed17f55126",
   "metadata": {},
   "outputs": [
    {
     "name": "stdout",
     "output_type": "stream",
     "text": [
      "120\n"
     ]
    }
   ],
   "source": [
    "print(math.factorial(5))"
   ]
  },
  {
   "cell_type": "markdown",
   "id": "0f4923a2-0a5a-47f8-a0fa-fad63e6c5522",
   "metadata": {},
   "source": [
    "### sqrt()\n",
    "It is the square root function. The syntax is *math.sqrt()*"
   ]
  },
  {
   "cell_type": "code",
   "execution_count": 35,
   "id": "140f1c61-bc52-47ed-a709-5327c2021d26",
   "metadata": {},
   "outputs": [
    {
     "name": "stdout",
     "output_type": "stream",
     "text": [
      "6.0\n"
     ]
    }
   ],
   "source": [
    "print(math.sqrt(36))"
   ]
  },
  {
   "cell_type": "markdown",
   "id": "beeec84b-6b3d-474b-bf8f-6141ffaea1b0",
   "metadata": {},
   "source": [
    "### comb()\n",
    "It returns the number of combinations of choosing k items from n items without repetition and without considering the order.\n",
    "- It's also equivalent to the number of subsets with k elements in a set containing n elements.\n",
    "    - Example: for the set {a,b,c,d,e} the subsets with 2 elements are:\n",
    "        - {a,b}, {a,c}, {a,d}, {a,e}, {b,c}, {b,d}, {b,e}, {c,d}, {c,e}, {d,e}\n",
    "- comb(n,k) is denoted by $C(n,k)$ in mathematics and it is equal to $\\displaystyle C(n,k) = \\frac{n!}{(n-k)!\\cdot k!}$\n",
    "- The syntax is *math.comb(n, k)*\n"
   ]
  },
  {
   "cell_type": "code",
   "execution_count": 36,
   "id": "b1f00ef1-fa2d-4614-9a50-b0e4bcf593e3",
   "metadata": {},
   "outputs": [
    {
     "name": "stdout",
     "output_type": "stream",
     "text": [
      "10\n"
     ]
    }
   ],
   "source": [
    "print(math.comb(5,2))"
   ]
  },
  {
   "cell_type": "markdown",
   "id": "e9c09c8e-133b-48cb-b4ae-4e3b0230aefe",
   "metadata": {},
   "source": [
    "### perm()\n",
    "It returns the number of permutations of choosing k items from n items without repetition but considering the order.\n",
    "- Example: for the set {a,b,c,d,e} the permutations with 2 elements are:\n",
    "    - ab, ac, ad, ae, bc, bd, be, cd, ce, de\n",
    "    - ba, ca, da, ea, cb, db, eb, dc, ec, ed\n",
    "- perm(n,k) is denoted by $P(n,k)$ in mathematics and it is equal to $\\displaystyle P(n,k) = \\frac{n!}{(n-k)!}$\n",
    "- The syntax is *math.perm(n, k)*"
   ]
  },
  {
   "cell_type": "code",
   "execution_count": 37,
   "id": "421523a3-3ea1-4ae2-89ce-854a87fb3d0b",
   "metadata": {},
   "outputs": [
    {
     "name": "stdout",
     "output_type": "stream",
     "text": [
      "20\n"
     ]
    }
   ],
   "source": [
    "print(math.perm(5,2))"
   ]
  },
  {
   "cell_type": "markdown",
   "id": "ef03b569-5d3c-413b-9978-6234cfe71429",
   "metadata": {},
   "source": [
    "### ceil()\n",
    "It is the the smallest integer greater than or equal to the input number. The syntax is *math.ceil()* "
   ]
  },
  {
   "cell_type": "code",
   "execution_count": 38,
   "id": "297c6642-5949-4be9-b612-8fd531409560",
   "metadata": {},
   "outputs": [
    {
     "name": "stdout",
     "output_type": "stream",
     "text": [
      "5\n"
     ]
    }
   ],
   "source": [
    "print(math.ceil(4.567))"
   ]
  },
  {
   "cell_type": "code",
   "execution_count": 39,
   "id": "ba2186b3-6946-4f8a-8605-211d12b5545b",
   "metadata": {},
   "outputs": [
    {
     "name": "stdout",
     "output_type": "stream",
     "text": [
      "10\n"
     ]
    }
   ],
   "source": [
    "print(math.ceil(9.2))"
   ]
  },
  {
   "cell_type": "markdown",
   "id": "90d5d650-273b-48fb-b2f1-ff2d0124d311",
   "metadata": {},
   "source": [
    "### floor()\n",
    "It is the the largest integer less than or equal to the input number. The syntax is *math.floor()* "
   ]
  },
  {
   "cell_type": "code",
   "execution_count": 40,
   "id": "6616fc7b-5bb3-4392-b8ee-6b7961a47d72",
   "metadata": {},
   "outputs": [
    {
     "name": "stdout",
     "output_type": "stream",
     "text": [
      "4\n"
     ]
    }
   ],
   "source": [
    "print(math.floor(4.567))"
   ]
  },
  {
   "cell_type": "code",
   "execution_count": 41,
   "id": "672042f5-ea74-443b-9c01-eca45bee2fee",
   "metadata": {},
   "outputs": [
    {
     "name": "stdout",
     "output_type": "stream",
     "text": [
      "9\n"
     ]
    }
   ],
   "source": [
    "print(math.floor(9.2))"
   ]
  },
  {
   "cell_type": "code",
   "execution_count": null,
   "id": "7d71bf15-cae2-437f-8c52-458bb296a9ec",
   "metadata": {},
   "outputs": [],
   "source": []
  }
 ],
 "metadata": {
  "kernelspec": {
   "display_name": "Python 3 (ipykernel)",
   "language": "python",
   "name": "python3"
  },
  "language_info": {
   "codemirror_mode": {
    "name": "ipython",
    "version": 3
   },
   "file_extension": ".py",
   "mimetype": "text/x-python",
   "name": "python",
   "nbconvert_exporter": "python",
   "pygments_lexer": "ipython3",
   "version": "3.11.7"
  }
 },
 "nbformat": 4,
 "nbformat_minor": 5
}
