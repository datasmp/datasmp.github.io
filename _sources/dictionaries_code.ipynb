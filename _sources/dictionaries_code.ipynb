{
 "cells": [
  {
   "cell_type": "markdown",
   "id": "13e18a7d",
   "metadata": {
    "hide_input": false
   },
   "source": [
    "# Dictionaries Code\n",
    "- Please solve the following questions using Python code.&emsp;&emsp;"
   ]
  },
  {
   "cell_type": "markdown",
   "id": "7054f9a9",
   "metadata": {},
   "source": [
    "## Question\n",
    "Write a program that constructs a dictionary using two lists provided below, where the keys are taken from loc_list and the values are taken from player_list. \n",
    "- Each pair in the dictionary corresponds to a key-value pair with elements from the same index in the lists.\n",
    "- Use a for loop for this construction."
   ]
  },
  {
   "cell_type": "code",
   "execution_count": 1,
   "id": "cce72dc3-7230-4033-af8b-887130e80bd1",
   "metadata": {},
   "outputs": [],
   "source": [
    "loc_list = ['Boston', 'Portland', 'Brooklyn', 'Dallas']\n",
    "player_list = ['Tatum', 'Lilliard', 'Durant', 'Doncic']"
   ]
  },
  {
   "cell_type": "markdown",
   "id": "5ef9aba0-82ae-45f2-8fb0-9f6b58bae737",
   "metadata": {},
   "source": [
    "**Solution**"
   ]
  },
  {
   "cell_type": "code",
   "execution_count": 2,
   "id": "766bdbae-9be4-49db-90c8-4672b65066d7",
   "metadata": {
    "tags": [
     "hide-cell"
    ]
   },
   "outputs": [
    {
     "name": "stdout",
     "output_type": "stream",
     "text": [
      "{'Boston': 'Tatum', 'Portland': 'Lilliard', 'Brooklyn': 'Durant', 'Dallas': 'Doncic'}\n"
     ]
    }
   ],
   "source": [
    "nba_dict = {}\n",
    "\n",
    "for i in range(len(loc_list)):\n",
    "  nba_dict[loc_list[i]] = player_list[i]\n",
    "\n",
    "print(nba_dict)"
   ]
  },
  {
   "cell_type": "markdown",
   "id": "a888f7bb-9756-4487-a215-40e258b502a6",
   "metadata": {},
   "source": [
    "## Question\n",
    "\n",
    "Write a program that constructs a dictionary using the given list below, where the keys are taken from state_list and the values represent the number of characters in each state name.\n",
    "- Each pair in the dictionary corresponds to a state name and the number of characters in its name.\n",
    "- Example: {'California', 10}"
   ]
  },
  {
   "cell_type": "code",
   "execution_count": 3,
   "id": "53635318-39f1-4ccb-8b7f-d43886da8e4c",
   "metadata": {},
   "outputs": [],
   "source": [
    "state_list = ['Utah', 'Nevada', 'Florida', 'Texas', 'Oklahoma', 'Washington', 'Colarado']"
   ]
  },
  {
   "cell_type": "markdown",
   "id": "99f533d1-d54d-4cf9-95f6-5b6653a36b94",
   "metadata": {},
   "source": [
    "**Solution-1**"
   ]
  },
  {
   "cell_type": "code",
   "execution_count": 4,
   "id": "eaa72934-003e-4af8-b3da-4443535fe91d",
   "metadata": {
    "tags": [
     "hide-cell"
    ]
   },
   "outputs": [],
   "source": [
    "state_dict = {}\n",
    "\n",
    "for i in range(len(state_list)):\n",
    "  state_dict[state_list[i]] = len(state_list[i])"
   ]
  },
  {
   "cell_type": "code",
   "execution_count": 5,
   "id": "1cdd669f-6bad-4adf-bfa5-a9f116dd9664",
   "metadata": {},
   "outputs": [
    {
     "name": "stdout",
     "output_type": "stream",
     "text": [
      "{'Utah': 4, 'Nevada': 6, 'Florida': 7, 'Texas': 5, 'Oklahoma': 8, 'Washington': 10, 'Colarado': 8}\n"
     ]
    }
   ],
   "source": [
    "print(state_dict)"
   ]
  },
  {
   "cell_type": "markdown",
   "id": "f2cd369f-630e-499c-9d42-ed3d7dfe9d07",
   "metadata": {},
   "source": [
    "**Solution-2**"
   ]
  },
  {
   "cell_type": "code",
   "execution_count": 6,
   "id": "e45b0225-f467-45d5-9930-81f0e7a3e78f",
   "metadata": {
    "tags": [
     "hide-cell"
    ]
   },
   "outputs": [],
   "source": [
    "state_dict ={state: len(state) for state in state_list}"
   ]
  },
  {
   "cell_type": "code",
   "execution_count": 7,
   "id": "5f22f6e0-66d0-4210-8426-4423fe763690",
   "metadata": {},
   "outputs": [
    {
     "name": "stdout",
     "output_type": "stream",
     "text": [
      "{'Utah': 4, 'Nevada': 6, 'Florida': 7, 'Texas': 5, 'Oklahoma': 8, 'Washington': 10, 'Colarado': 8}\n"
     ]
    }
   ],
   "source": [
    "print(state_dict)"
   ]
  },
  {
   "cell_type": "markdown",
   "id": "5dc7a3f2-cbb6-4b4c-8167-31f78a7310e3",
   "metadata": {},
   "source": [
    "## Question\n",
    "For the given dictionary below, display 'Close' values for each day."
   ]
  },
  {
   "cell_type": "code",
   "execution_count": 8,
   "id": "c98366fb-5d54-48e0-adf1-39af22a639b5",
   "metadata": {},
   "outputs": [],
   "source": [
    "stock_dict = {'day-1':{'High': 70, 'Low':62, 'Close':65},\n",
    "              'day-2':{'High': 68, 'Low':60, 'Close':63},\n",
    "              'day-3':{'High': 71, 'Low':65, 'Close':67},\n",
    "              'day-4':{'High': 70, 'Low':62, 'Close':65},\n",
    "              'day-5':{'High': 73, 'Low':65, 'Close':70},\n",
    "              'day-6':{'High': 75, 'Low':69, 'Close':73}\n",
    "              }"
   ]
  },
  {
   "cell_type": "markdown",
   "id": "02d91ce4-f4a8-4384-9395-a4612215e830",
   "metadata": {},
   "source": [
    "**Solution**"
   ]
  },
  {
   "cell_type": "code",
   "execution_count": 9,
   "id": "42adfb14-42b6-4eb7-bc5d-e653a7e9406b",
   "metadata": {
    "tags": [
     "hide-cell"
    ]
   },
   "outputs": [
    {
     "name": "stdout",
     "output_type": "stream",
     "text": [
      "65\n",
      "63\n",
      "67\n",
      "65\n",
      "70\n",
      "73\n"
     ]
    }
   ],
   "source": [
    "for i in stock_dict.values():\n",
    "  print(i['Close'])"
   ]
  },
  {
   "cell_type": "markdown",
   "id": "e803243c-c3be-4304-97d3-0460b2d6fd0b",
   "metadata": {},
   "source": [
    "## Question\n",
    "Use the *stock_dict* to create a list consisting of the 'Close' values.\""
   ]
  },
  {
   "cell_type": "markdown",
   "id": "f3963bf2-5c24-4fc5-b16c-163110d92fac",
   "metadata": {},
   "source": [
    "**Solution**"
   ]
  },
  {
   "cell_type": "code",
   "execution_count": 10,
   "id": "e60f7491-7bb2-4bf3-88cb-524983e24736",
   "metadata": {
    "tags": [
     "hide-cell"
    ]
   },
   "outputs": [],
   "source": [
    "close_list = []\n",
    "\n",
    "for i,j in stock_dict.items():\n",
    "    close_list.append(  j['Close'])\n"
   ]
  },
  {
   "cell_type": "code",
   "execution_count": 11,
   "id": "d0ccfe67-017e-46c9-857d-16d6c3ef229c",
   "metadata": {},
   "outputs": [
    {
     "name": "stdout",
     "output_type": "stream",
     "text": [
      "[65, 63, 67, 65, 70, 73]\n"
     ]
    }
   ],
   "source": [
    "print(close_list)"
   ]
  },
  {
   "cell_type": "markdown",
   "id": "4cb80216-53ab-4fa7-bf74-9eb13d677c3a",
   "metadata": {},
   "source": [
    "## Question\n",
    "\n",
    "Use *stock_dict* to construct a dictionary where the keys are days (Day-1, Day-2, ...) and the values represent the difference between 'High' and 'Low' values."
   ]
  },
  {
   "cell_type": "markdown",
   "id": "d95dc494-fe1d-46b4-bbbb-0fc4394ac102",
   "metadata": {},
   "source": [
    "**Solution**"
   ]
  },
  {
   "cell_type": "code",
   "execution_count": 12,
   "id": "04237d30-f2a7-466f-aabe-fb1515b5246c",
   "metadata": {
    "tags": [
     "hide-cell"
    ]
   },
   "outputs": [],
   "source": [
    "stock_vol = {}\n",
    "\n",
    "for i,j in stock_dict.items():\n",
    "  stock_vol[i] = j['High']-j['Low']"
   ]
  },
  {
   "cell_type": "code",
   "execution_count": 13,
   "id": "bec9ac1a-dba4-48ea-8f38-8d6497862a99",
   "metadata": {},
   "outputs": [
    {
     "name": "stdout",
     "output_type": "stream",
     "text": [
      "{'day-1': 8, 'day-2': 8, 'day-3': 6, 'day-4': 8, 'day-5': 8, 'day-6': 6}\n"
     ]
    }
   ],
   "source": [
    "print(stock_vol)"
   ]
  },
  {
   "cell_type": "markdown",
   "id": "15a6ae04-331c-4fef-94bb-fa74d04e0e9a",
   "metadata": {},
   "source": [
    "## Question\n",
    "\n",
    "Use the *stock_dict* to construct a list consisting of values 'Increasing' or 'Decreasing' based on the difference between two consecutive day's 'Close' values. \n",
    "- Note that there is no 'Increasing' or 'Decreasing' value for Day-1, as the value before Day-1 is not provided."
   ]
  },
  {
   "cell_type": "markdown",
   "id": "ee158967-4032-4aa7-af00-8a69a2204cf2",
   "metadata": {},
   "source": [
    "**Solution**"
   ]
  },
  {
   "cell_type": "code",
   "execution_count": 14,
   "id": "98ef4e6f-0cf9-4d18-ad09-1c9ca88bbf7a",
   "metadata": {
    "tags": [
     "hide-cell"
    ]
   },
   "outputs": [],
   "source": [
    "close_diff_list = []\n",
    "\n",
    "for i in range(len(close_list)-1):\n",
    "  if close_list[i+1]-close_list[i] > 0:\n",
    "    close_diff_list.append('Increasing')\n",
    "  else:\n",
    "    close_diff_list.append('Deccreasing')"
   ]
  },
  {
   "cell_type": "code",
   "execution_count": 15,
   "id": "fa8467cf-2244-4f42-be27-57468013aa1a",
   "metadata": {},
   "outputs": [
    {
     "name": "stdout",
     "output_type": "stream",
     "text": [
      "['Deccreasing', 'Increasing', 'Deccreasing', 'Increasing', 'Increasing']\n"
     ]
    }
   ],
   "source": [
    "print(close_diff_list)"
   ]
  },
  {
   "cell_type": "markdown",
   "id": "2ef46894-6998-4776-b768-f9f1c1fbc9cd",
   "metadata": {},
   "source": [
    "## Question\n",
    "Construct a dictionary using a for loop, where the keys are the names in names_list and the values are the last characters of the corresponding names.\n",
    "- Example: key = ashley, value = y"
   ]
  },
  {
   "cell_type": "code",
   "execution_count": 16,
   "id": "0688f091-099d-4532-bc3a-a0acdbbf68bd",
   "metadata": {},
   "outputs": [],
   "source": [
    "names_list = ['ashley', 'michael', 'jack', 'taylor', 'tim', 'robert', 'joseph']"
   ]
  },
  {
   "cell_type": "markdown",
   "id": "7378127d-f311-4f24-88ec-5c61c19c79b0",
   "metadata": {},
   "source": [
    "**Solution**"
   ]
  },
  {
   "cell_type": "code",
   "execution_count": 17,
   "id": "48763da7-b8f5-4abc-b1af-c70747fa7eaf",
   "metadata": {
    "tags": [
     "hide-cell"
    ]
   },
   "outputs": [
    {
     "name": "stdout",
     "output_type": "stream",
     "text": [
      "{'ashley': 'y', 'michael': 'l', 'jack': 'k', 'taylor': 'r', 'tim': 'm', 'robert': 't', 'joseph': 'h'}\n"
     ]
    }
   ],
   "source": [
    "last_dict = {}\n",
    "\n",
    "for i in names_list:\n",
    "  last_dict[i] = i[-1]\n",
    "\n",
    "print(last_dict)"
   ]
  },
  {
   "cell_type": "markdown",
   "id": "a4a4b14d-46fb-4ff0-80e0-432f359a3b62",
   "metadata": {},
   "source": [
    "## Question\n",
    "Construct a dictionary using a for loop, where the keys are the first names in names_list and the values are the corresponding last names.\n",
    "- Example: key='Michael', value='Jordan' for 'Michael Jordan' in fullnames_list."
   ]
  },
  {
   "cell_type": "code",
   "execution_count": 18,
   "id": "a77e1266-d535-4c25-ad0c-a26a6db66c06",
   "metadata": {},
   "outputs": [],
   "source": [
    "fullnames_list = ['Michael Jordan', 'Larry Bird', 'Jason Tatum', 'Lebron James', 'Jimmy Butler', 'Trae Young', 'Kyrie Irving']"
   ]
  },
  {
   "cell_type": "markdown",
   "id": "630f7a31-1b71-4c24-b909-1f9875a7f615",
   "metadata": {},
   "source": [
    "**Solution**"
   ]
  },
  {
   "cell_type": "code",
   "execution_count": 19,
   "id": "411379b5-dc8f-4c3b-a858-a266c1efc735",
   "metadata": {
    "tags": [
     "hide-cell"
    ]
   },
   "outputs": [
    {
     "name": "stdout",
     "output_type": "stream",
     "text": [
      "{'Michael': 'Jordan', 'Larry': 'Bird', 'Jason': 'Tatum', 'Lebron': 'James', 'Jimmy': 'Butler', 'Trae': 'Young', 'Kyrie': 'Irving'}\n"
     ]
    }
   ],
   "source": [
    "first_last_name = {}\n",
    "\n",
    "for i in fullnames_list:\n",
    "  first_last_name[i.split()[0]] = i.split()[1]\n",
    "\n",
    "print(first_last_name)"
   ]
  },
  {
   "cell_type": "markdown",
   "id": "6bac2ae8-9c0b-454f-8f8f-bc419fdc63a9",
   "metadata": {},
   "source": [
    "## Question\n",
    "Use a list comprehension to store the last two characters of each name in a list"
   ]
  },
  {
   "cell_type": "code",
   "execution_count": 20,
   "id": "d210ab3a-0309-4510-8181-c42559a6e420",
   "metadata": {},
   "outputs": [],
   "source": [
    "grades_dict = { 'mike' : {'Math':90, 'History':88, 'Science':73},\n",
    "                'jack' : {'Math':77, 'History':74, 'Science':52},\n",
    "                'tim'  : {'Math':98, 'History':35, 'Science':46},\n",
    "                'liz'  : {'Math':65, 'History':55, 'Science':81},\n",
    "                'aria' : {'Math':76, 'History':99, 'Science':69}}"
   ]
  },
  {
   "cell_type": "markdown",
   "id": "87162c13-0257-45f6-8cfe-a92823698d3b",
   "metadata": {},
   "source": [
    "**Solution**"
   ]
  },
  {
   "cell_type": "code",
   "execution_count": 21,
   "id": "f22b18a8-8818-478a-bf18-2892da9f54c0",
   "metadata": {
    "tags": [
     "hide-cell"
    ]
   },
   "outputs": [
    {
     "name": "stdout",
     "output_type": "stream",
     "text": [
      "['ke', 'ck', 'im', 'iz', 'ia']\n"
     ]
    }
   ],
   "source": [
    "last_two = [i[-2:] for i in grades_dict.keys() ]\n",
    "print(last_two)"
   ]
  },
  {
   "cell_type": "markdown",
   "id": "c3ace65e-c5b3-487e-9e45-6abdfe3d8a2f",
   "metadata": {},
   "source": [
    "## Question\n",
    "Use a for loop to store all Math grades in a list.\n"
   ]
  },
  {
   "cell_type": "markdown",
   "id": "4e0f9073-e18f-4304-841c-af3667c860ca",
   "metadata": {},
   "source": [
    "**Solution**"
   ]
  },
  {
   "cell_type": "code",
   "execution_count": 22,
   "id": "5079661c-88d5-4973-beda-cb42d04639b3",
   "metadata": {
    "tags": [
     "hide-cell"
    ]
   },
   "outputs": [
    {
     "name": "stdout",
     "output_type": "stream",
     "text": [
      "[90, 77, 98, 65, 76]\n"
     ]
    }
   ],
   "source": [
    "math_list = []\n",
    "\n",
    "for i in grades_dict.values():\n",
    "  math_list.append(i['Math'])\n",
    "\n",
    "print(math_list)"
   ]
  },
  {
   "cell_type": "markdown",
   "id": "7ecb0ca3-581c-4888-b579-fdbf3492d9fa",
   "metadata": {},
   "source": [
    "## Question\n",
    "Use a for loop to find the name of the student with the largest Science grade and print both the name and the corresponding grade."
   ]
  },
  {
   "cell_type": "markdown",
   "id": "6008cd78-7f39-4e28-9662-80a6800defb5",
   "metadata": {},
   "source": [
    "**Solution**"
   ]
  },
  {
   "cell_type": "code",
   "execution_count": 23,
   "id": "2c059aa4-c9d0-4ae6-8de8-c4d8ad730fbf",
   "metadata": {
    "tags": [
     "hide-cell"
    ]
   },
   "outputs": [
    {
     "name": "stdout",
     "output_type": "stream",
     "text": [
      "liz 81\n"
     ]
    }
   ],
   "source": [
    "largest_name = ''\n",
    "largest_grade = 0\n",
    "\n",
    "for i, j in grades_dict.items():\n",
    "  if j['Science'] > largest_grade:\n",
    "    largest_name = i\n",
    "    largest_grade = j['Science']\n",
    "\n",
    "print(largest_name, largest_grade)"
   ]
  },
  {
   "cell_type": "markdown",
   "id": "344e0eb1-4fa3-4a9d-a072-c3e6cd44e9f3",
   "metadata": {},
   "source": [
    "## Question\n",
    " Write a function whose parameters are two numbers.\n",
    "- It returns a dictionary with\n",
    "  - keys : sum, difference, product, quotient\n",
    "  - values: corresponding algebraic results\n",
    "- If the second number is zero, then the quotient is labeled as 'DNE' (Does Not Exist)\n",
    "- Example: inputs `6, 2`\n",
    "  - Output: `{'sum': 8, 'difference':4, 'product':12, 'quotient':3.0}`\n"
   ]
  },
  {
   "cell_type": "markdown",
   "id": "3e80075f-9603-4fc3-bab8-57cb70d57677",
   "metadata": {},
   "source": [
    "**Solution**"
   ]
  },
  {
   "cell_type": "code",
   "execution_count": 24,
   "id": "4398b240-ea87-452b-9a24-d7c49ce7daa9",
   "metadata": {
    "tags": [
     "hide-cell"
    ]
   },
   "outputs": [],
   "source": [
    "def operation_func(a, b):\n",
    "  if b != 0: q =a/b\n",
    "  else: q = 'DNE'\n",
    "  return {'sum': a+b, 'difference':a-b, 'product':a*b, 'quotient':q}"
   ]
  },
  {
   "cell_type": "code",
   "execution_count": 25,
   "id": "3a690fd2-5a72-4d6e-8890-da47a2dacef2",
   "metadata": {},
   "outputs": [
    {
     "name": "stdout",
     "output_type": "stream",
     "text": [
      "{'sum': 8, 'difference': 4, 'product': 12, 'quotient': 3.0}\n",
      "{'sum': 6, 'difference': 6, 'product': 0, 'quotient': 'DNE'}\n"
     ]
    }
   ],
   "source": [
    "print(operation_func(6, 2))\n",
    "print(operation_func(6, 0))"
   ]
  },
  {
   "cell_type": "code",
   "execution_count": null,
   "id": "6ad1ba24-f67b-4238-b030-0ff503827fa8",
   "metadata": {},
   "outputs": [],
   "source": []
  },
  {
   "cell_type": "code",
   "execution_count": null,
   "id": "b3618fb0-2f72-442d-b225-4279fb2730a3",
   "metadata": {},
   "outputs": [],
   "source": []
  },
  {
   "cell_type": "code",
   "execution_count": null,
   "id": "0fc56a96-0de3-4149-82fc-b5e732da737c",
   "metadata": {},
   "outputs": [],
   "source": []
  }
 ],
 "metadata": {
  "celltoolbar": "Tags",
  "hide_input": false,
  "kernelspec": {
   "display_name": "Python 3 (ipykernel)",
   "language": "python",
   "name": "python3"
  },
  "language_info": {
   "codemirror_mode": {
    "name": "ipython",
    "version": 3
   },
   "file_extension": ".py",
   "mimetype": "text/x-python",
   "name": "python",
   "nbconvert_exporter": "python",
   "pygments_lexer": "ipython3",
   "version": "3.11.7"
  },
  "toc": {
   "base_numbering": 1,
   "nav_menu": {},
   "number_sections": true,
   "sideBar": true,
   "skip_h1_title": false,
   "title_cell": "Table of Contents",
   "title_sidebar": "Contents",
   "toc_cell": false,
   "toc_position": {},
   "toc_section_display": true,
   "toc_window_display": false
  }
 },
 "nbformat": 4,
 "nbformat_minor": 5
}
