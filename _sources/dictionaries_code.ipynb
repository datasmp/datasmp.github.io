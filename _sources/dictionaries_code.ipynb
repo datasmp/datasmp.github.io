{
 "cells": [
  {
   "cell_type": "markdown",
   "id": "13e18a7d",
   "metadata": {
    "hide_input": false
   },
   "source": [
    "# Dictionaries Code\n",
    "![](title_pict/dictionaries_code2.png)\n",
    "\n",
    "- Please solve the following questions using Python code.&emsp;&emsp;"
   ]
  },
  {
   "cell_type": "markdown",
   "id": "7054f9a9",
   "metadata": {},
   "source": [
    "## Question-1\n",
    "Write a program that constructs a dictionary using two lists provided below, where the keys are taken from loc_list and the values are taken from player_list. \n",
    "- Each pair in the dictionary corresponds to a key-value pair with elements from the same index in the lists.\n",
    "- Use a for loop for this construction."
   ]
  },
  {
   "cell_type": "code",
   "execution_count": 1,
   "id": "cce72dc3-7230-4033-af8b-887130e80bd1",
   "metadata": {},
   "outputs": [],
   "source": [
    "loc_list = ['Boston', 'Portland', 'Brooklyn', 'Dallas']\n",
    "player_list = ['Tatum', 'Lilliard', 'Durant', 'Doncic']"
   ]
  },
  {
   "cell_type": "markdown",
   "id": "86680ff1-f001-498c-9d94-0f2eb6548c8e",
   "metadata": {
    "tags": [
     "hide-cell"
    ]
   },
   "source": [
    "```{admonition} Solution\n",
    ":class: toggle\n",
    "\n",
    "``` python\n",
    "\n",
    "nba_dict = {}\n",
    "\n",
    "for i in range(len(loc_list)):\n",
    "  nba_dict[loc_list[i]] = player_list[i]\n",
    "\n",
    "print(nba_dict)\n",
    "```\n",
    "\n",
    "**Output**\n",
    "{'Boston': 'Tatum', 'Portland': 'Lilliard', 'Brooklyn': 'Durant', 'Dallas': 'Doncic'}\n",
    "\n"
   ]
  },
  {
   "cell_type": "markdown",
   "id": "a888f7bb-9756-4487-a215-40e258b502a6",
   "metadata": {},
   "source": [
    "## Question-2\n",
    "\n",
    "Write a program that constructs a dictionary using the given list below, where the keys are taken from state_list and the values represent the number of characters in each state name.\n",
    "- Each pair in the dictionary corresponds to a state name and the number of characters in its name.\n",
    "- Example: {'California', 10}"
   ]
  },
  {
   "cell_type": "code",
   "execution_count": 2,
   "id": "53635318-39f1-4ccb-8b7f-d43886da8e4c",
   "metadata": {},
   "outputs": [],
   "source": [
    "state_list = ['Utah', 'Nevada', 'Florida', 'Texas', 'Oklahoma', 'Washington', 'Colarado']"
   ]
  },
  {
   "cell_type": "markdown",
   "id": "bf1c4e0e-1948-45df-88c9-939aa0564ba5",
   "metadata": {
    "tags": [
     "hide-cell"
    ]
   },
   "source": [
    "```{admonition} Solution-1\n",
    ":class: toggle\n",
    "\n",
    "``` pythonstate_dict = {}\n",
    "\n",
    "for i in range(len(state_list)):\n",
    "  state_dict[state_list[i]] = len(state_list[i])\n",
    "\n",
    "print(state_dict)\n",
    "```\n",
    "**Output**\n",
    "\n",
    "{'Utah': 4, 'Nevada': 6, 'Florida': 7, 'Texas': 5, 'Oklahoma': 8, 'Washington': 10, 'Colarado': 8}\n"
   ]
  },
  {
   "cell_type": "markdown",
   "id": "a3eeb7ca-eeca-4e21-80b8-88544106088e",
   "metadata": {
    "tags": [
     "hide-cell"
    ]
   },
   "source": [
    "```{admonition} Solution-2\n",
    ":class: toggle\n",
    "\n",
    "``` python\n",
    "state_dict ={state: len(state) for state in state_list}\n",
    "\n",
    "print(state_dict)\n",
    "```\n",
    "**Output**\n",
    "\n",
    "{'Utah': 4, 'Nevada': 6, 'Florida': 7, 'Texas': 5, 'Oklahoma': 8, 'Washington': 10, 'Colarado': 8}\n"
   ]
  },
  {
   "cell_type": "markdown",
   "id": "5dc7a3f2-cbb6-4b4c-8167-31f78a7310e3",
   "metadata": {},
   "source": [
    "## Question-3\n",
    "For the given dictionary below, display 'Close' values for each day."
   ]
  },
  {
   "cell_type": "code",
   "execution_count": 3,
   "id": "c98366fb-5d54-48e0-adf1-39af22a639b5",
   "metadata": {},
   "outputs": [],
   "source": [
    "stock_dict = {'day-1':{'High': 70, 'Low':62, 'Close':65},\n",
    "              'day-2':{'High': 68, 'Low':60, 'Close':63},\n",
    "              'day-3':{'High': 71, 'Low':65, 'Close':67},\n",
    "              'day-4':{'High': 70, 'Low':62, 'Close':65},\n",
    "              'day-5':{'High': 73, 'Low':65, 'Close':70},\n",
    "              'day-6':{'High': 75, 'Low':69, 'Close':73}\n",
    "              }"
   ]
  },
  {
   "cell_type": "markdown",
   "id": "c22f0573-303c-4b88-8874-bffbbab4b1a1",
   "metadata": {
    "tags": [
     "hide-cell"
    ]
   },
   "source": [
    "```{admonition} Solution\n",
    ":class: toggle\n",
    "\n",
    "``` python\n",
    "for i in stock_dict.values():\n",
    "  print(i['Close'])\n",
    "```\n",
    "**Output**\n",
    "\n",
    "65  \n",
    "63  \n",
    "67  \n",
    "65  \n",
    "70  \n",
    "73"
   ]
  },
  {
   "cell_type": "markdown",
   "id": "e803243c-c3be-4304-97d3-0460b2d6fd0b",
   "metadata": {},
   "source": [
    "## Question-4\n",
    "Use the *stock_dict* to create a list consisting of the 'Close' values.\""
   ]
  },
  {
   "cell_type": "markdown",
   "id": "85eba8c5-05e1-4a3a-ad89-3e30e010d331",
   "metadata": {
    "tags": [
     "hide-cell"
    ]
   },
   "source": [
    "```{admonition} Solution\n",
    ":class: toggle\n",
    "\n",
    "``` python\n",
    "close_list = []\n",
    "\n",
    "for i,j in stock_dict.items():\n",
    "    close_list.append(  j['Close'])\n",
    "\n",
    "print(close_list)\n",
    "```\n",
    "**Output**\n",
    "\n",
    "[65, 63, 67, 65, 70, 73]"
   ]
  },
  {
   "cell_type": "markdown",
   "id": "4cb80216-53ab-4fa7-bf74-9eb13d677c3a",
   "metadata": {},
   "source": [
    "## Question-5\n",
    "\n",
    "Use *stock_dict* to construct a dictionary where the keys are days (Day-1, Day-2, ...) and the values represent the difference between 'High' and 'Low' values."
   ]
  },
  {
   "cell_type": "markdown",
   "id": "51b7962c-6429-4748-b37d-75ce2fc22957",
   "metadata": {
    "tags": [
     "hide-cell"
    ]
   },
   "source": [
    "```{admonition} Solution\n",
    ":class: toggle\n",
    "\n",
    "``` python\n",
    "stock_vol = {}\n",
    "\n",
    "for i,j in stock_dict.items():\n",
    "  stock_vol[i] = j['High']-j['Low']\n",
    "\n",
    "print(stock_vol)\n",
    "```\n",
    "**Output**\n",
    "\n",
    "{'day-1': 8, 'day-2': 8, 'day-3': 6, 'day-4': 8, 'day-5': 8, 'day-6': 6}\n"
   ]
  },
  {
   "cell_type": "markdown",
   "id": "15a6ae04-331c-4fef-94bb-fa74d04e0e9a",
   "metadata": {},
   "source": [
    "## Question-6\n",
    "\n",
    "Use the *stock_dict* to construct a list consisting of values 'Increasing' or 'Decreasing' based on the difference between two consecutive day's 'Close' values. \n",
    "- Note that there is no 'Increasing' or 'Decreasing' value for Day-1, as the value before Day-1 is not provided."
   ]
  },
  {
   "cell_type": "markdown",
   "id": "a67497ce-344d-47ce-a1de-8777d8134cc0",
   "metadata": {
    "tags": [
     "hide-cell"
    ]
   },
   "source": [
    "```{admonition} Solution\n",
    ":class: toggle\n",
    "\n",
    "``` python\n",
    "close_diff_list = []\n",
    "\n",
    "for i in range(len(close_list)-1):\n",
    "  if close_list[i+1]-close_list[i] > 0:\n",
    "    close_diff_list.append('Increasing')\n",
    "  else:\n",
    "    close_diff_list.append('Deccreasing')\n",
    "\n",
    "print(close_diff_list)\n",
    "```\n",
    "\n",
    "**Output**\n",
    "\n",
    "['Deccreasing', 'Increasing', 'Deccreasing', 'Increasing', 'Increasing']"
   ]
  },
  {
   "cell_type": "markdown",
   "id": "2ef46894-6998-4776-b768-f9f1c1fbc9cd",
   "metadata": {},
   "source": [
    "## Question-7\n",
    "Construct a dictionary using a for loop, where the keys are the names in names_list and the values are the last characters of the corresponding names.\n",
    "- Example: key = ashley, value = y"
   ]
  },
  {
   "cell_type": "code",
   "execution_count": null,
   "id": "0688f091-099d-4532-bc3a-a0acdbbf68bd",
   "metadata": {},
   "outputs": [],
   "source": [
    "names_list = ['ashley', 'michael', 'jack', 'taylor', 'tim', 'robert', 'joseph']"
   ]
  },
  {
   "cell_type": "markdown",
   "id": "629c429b-9122-4dbc-b342-c8eeb8ecf370",
   "metadata": {
    "tags": [
     "hide-cell"
    ]
   },
   "source": [
    "```{admonition} Solution\n",
    ":class: toggle\n",
    "\n",
    "``` python\n",
    "last_dict = {}\n",
    "\n",
    "for i in names_list:\n",
    "  last_dict[i] = i[-1]\n",
    "\n",
    "print(last_dict)\n",
    "```\n",
    "**Output**\n",
    "\n",
    "{'ashley': 'y', 'michael': 'l', 'jack': 'k', 'taylor': 'r', 'tim': 'm', 'robert': 't', 'joseph': 'h'}\n"
   ]
  },
  {
   "cell_type": "markdown",
   "id": "a4a4b14d-46fb-4ff0-80e0-432f359a3b62",
   "metadata": {},
   "source": [
    "## Question-8\n",
    "Construct a dictionary using a for loop, where the keys are the first names in fullnames_list and the values are the corresponding last names.\n",
    "- Example: key='Michael', value='Jordan' for 'Michael Jordan' in fullnames_list."
   ]
  },
  {
   "cell_type": "code",
   "execution_count": null,
   "id": "a77e1266-d535-4c25-ad0c-a26a6db66c06",
   "metadata": {},
   "outputs": [],
   "source": [
    "fullnames_list = ['Michael Jordan', 'Larry Bird', 'Jason Tatum', 'Lebron James', 'Jimmy Butler', 'Trae Young', 'Kyrie Irving']"
   ]
  },
  {
   "cell_type": "markdown",
   "id": "74a6cfc8-4247-4468-9152-229ba9af4881",
   "metadata": {
    "tags": [
     "hide-cell"
    ]
   },
   "source": [
    "```{admonition} Solution\n",
    ":class: toggle\n",
    "\n",
    "``` python\n",
    "first_last_name = {}\n",
    "\n",
    "for i in fullnames_list:\n",
    "  first_last_name[i.split()[0]] = i.split()[1]\n",
    "\n",
    "print(first_last_name)\n",
    "```\n",
    "**Output**\n",
    "\n",
    "{'Michael': 'Jordan', 'Larry': 'Bird', 'Jason': 'Tatum', 'Lebron': 'James', 'Jimmy': 'Butler', 'Trae': 'Young', 'Kyrie': 'Irving'}"
   ]
  },
  {
   "cell_type": "markdown",
   "id": "6bac2ae8-9c0b-454f-8f8f-bc419fdc63a9",
   "metadata": {},
   "source": [
    "## Question-9\n",
    "Use a list comprehension to store the last two characters of each name in a list"
   ]
  },
  {
   "cell_type": "code",
   "execution_count": null,
   "id": "d210ab3a-0309-4510-8181-c42559a6e420",
   "metadata": {},
   "outputs": [],
   "source": [
    "grades_dict = { 'mike' : {'Math':90, 'History':88, 'Science':73},\n",
    "                'jack' : {'Math':77, 'History':74, 'Science':52},\n",
    "                'tim'  : {'Math':98, 'History':35, 'Science':46},\n",
    "                'liz'  : {'Math':65, 'History':55, 'Science':81},\n",
    "                'aria' : {'Math':76, 'History':99, 'Science':69}}"
   ]
  },
  {
   "cell_type": "markdown",
   "id": "1c9d0ed5-f28d-4b02-9b4a-280ecee86045",
   "metadata": {
    "tags": [
     "hide-cell"
    ]
   },
   "source": [
    "```{admonition} Solution\n",
    ":class: toggle\n",
    "\n",
    "``` python\n",
    "last_two = [i[-2:] for i in grades_dict.keys() ]\n",
    "print(last_two)\n",
    "```\n",
    "**Output**\n",
    "\n",
    "['ke', 'ck', 'im', 'iz', 'ia']"
   ]
  },
  {
   "cell_type": "markdown",
   "id": "c3ace65e-c5b3-487e-9e45-6abdfe3d8a2f",
   "metadata": {},
   "source": [
    "## Question-10\n",
    "Use a for loop to store all Math grades in a list.\n"
   ]
  },
  {
   "cell_type": "markdown",
   "id": "21971250-9737-43df-914e-0b43cc1cc0e7",
   "metadata": {
    "tags": [
     "hide-cell"
    ]
   },
   "source": [
    "```{admonition} Solution\n",
    ":class: toggle\n",
    "\n",
    "``` python\n",
    "math_list = []\n",
    "\n",
    "for i in grades_dict.values():\n",
    "  math_list.append(i['Math'])\n",
    "\n",
    "print(math_list)\n",
    "```\n",
    "\n",
    "**Output**\n",
    "\n",
    "[90, 77, 98, 65, 76]\n"
   ]
  },
  {
   "cell_type": "markdown",
   "id": "7ecb0ca3-581c-4888-b579-fdbf3492d9fa",
   "metadata": {},
   "source": [
    "## Question-11\n",
    "Use a for loop to find the name of the student with the largest Science grade and print both the name and the corresponding grade."
   ]
  },
  {
   "cell_type": "markdown",
   "id": "2c7c6f93-c25b-4c79-aca9-a48b03751c64",
   "metadata": {
    "tags": [
     "hide-cell"
    ]
   },
   "source": [
    "```{admonition} Solution\n",
    ":class: toggle\n",
    "\n",
    "``` python\n",
    "largest_name = ''\n",
    "largest_grade = 0\n",
    "\n",
    "for i, j in grades_dict.items():\n",
    "  if j['Science'] > largest_grade:\n",
    "    largest_name = i\n",
    "    largest_grade = j['Science']\n",
    "\n",
    "print(largest_name, largest_grade)\n",
    "```\n",
    "\n",
    "**Output**\n",
    "\n",
    "liz 81"
   ]
  },
  {
   "cell_type": "markdown",
   "id": "344e0eb1-4fa3-4a9d-a072-c3e6cd44e9f3",
   "metadata": {},
   "source": [
    "## Question-12\n",
    " Write a function whose parameters are two numbers.\n",
    "- It returns a dictionary with\n",
    "  - keys : sum, difference, product, quotient\n",
    "  - values: corresponding algebraic results\n",
    "- If the second number is zero, then the quotient is labeled as 'DNE' (Does Not Exist)\n",
    "- Example: inputs `6, 2`\n",
    "  - Output: `{'sum': 8, 'difference':4, 'product':12, 'quotient':3.0}`\n"
   ]
  },
  {
   "cell_type": "markdown",
   "id": "661592b7-692e-4920-85af-bfb024c08d4f",
   "metadata": {
    "tags": [
     "hide-cell"
    ]
   },
   "source": [
    "```{admonition} Solution\n",
    ":class: toggle\n",
    "\n",
    "``` python\n",
    "\n",
    "def operation_func(a, b):\n",
    "  if b != 0: q =a/b\n",
    "  else: q = 'DNE'\n",
    "  return {'sum': a+b, 'difference':a-b, 'product':a*b, 'quotient':q}\n",
    "\n",
    "print(operation_func(6, 2))\n",
    "print(operation_func(6, 0))\n",
    "```\n",
    "\n",
    "**Output**\n",
    "\n",
    "{'sum': 8, 'difference': 4, 'product': 12, 'quotient': 3.0}  \n",
    "{'sum': 6, 'difference': 6, 'product': 0, 'quotient': 'DNE'}  \n"
   ]
  },
  {
   "cell_type": "code",
   "execution_count": null,
   "id": "6ad1ba24-f67b-4238-b030-0ff503827fa8",
   "metadata": {},
   "outputs": [],
   "source": []
  },
  {
   "cell_type": "code",
   "execution_count": null,
   "id": "b3618fb0-2f72-442d-b225-4279fb2730a3",
   "metadata": {},
   "outputs": [],
   "source": []
  },
  {
   "cell_type": "code",
   "execution_count": null,
   "id": "0fc56a96-0de3-4149-82fc-b5e732da737c",
   "metadata": {},
   "outputs": [],
   "source": []
  }
 ],
 "metadata": {
  "celltoolbar": "Tags",
  "hide_input": false,
  "kernelspec": {
   "display_name": "Python 3 (ipykernel)",
   "language": "python",
   "name": "python3"
  },
  "language_info": {
   "codemirror_mode": {
    "name": "ipython",
    "version": 3
   },
   "file_extension": ".py",
   "mimetype": "text/x-python",
   "name": "python",
   "nbconvert_exporter": "python",
   "pygments_lexer": "ipython3",
   "version": "3.11.7"
  },
  "toc": {
   "base_numbering": 1,
   "nav_menu": {},
   "number_sections": true,
   "sideBar": true,
   "skip_h1_title": false,
   "title_cell": "Table of Contents",
   "title_sidebar": "Contents",
   "toc_cell": false,
   "toc_position": {},
   "toc_section_display": true,
   "toc_window_display": false
  }
 },
 "nbformat": 4,
 "nbformat_minor": 5
}
