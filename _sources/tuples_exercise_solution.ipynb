{
 "cells": [
  {
   "cell_type": "markdown",
   "id": "b4ac5876-4e84-4c82-b2d4-0f9d60ae4472",
   "metadata": {},
   "source": [
    "# Tuples Exercises and Solutions"
   ]
  },
  {
   "cell_type": "markdown",
   "id": "12d9d3da-fc13-436f-b6d6-5ecc79eb86cf",
   "metadata": {},
   "source": [
    "## Question-1\n",
    "Create a tuple containing numbers greater than 5 from the given tuple below using a for loop.\n",
    "\n",
    "``` python\n",
    "mytuple = (3, 6, 2, 1.89, 1, 9, 5.5, 5, 7, 8, 1, -3, -5, 10.3)\n",
    "```\n",
    "**Solution**"
   ]
  },
  {
   "cell_type": "code",
   "execution_count": 27,
   "id": "53b27928-ffed-4922-bfb7-b113e43fd80b",
   "metadata": {},
   "outputs": [
    {
     "name": "stdout",
     "output_type": "stream",
     "text": [
      "(6, 9, 5.5, 7, 8, 10.3)\n"
     ]
    }
   ],
   "source": [
    "mytuple = (3, 6, 2, 1.89, 1, 9, 5.5, 5, 7, 8, 1, -3, -5, 10.3)\n",
    "\n",
    "newtuple = ()\n",
    "for i in  mytuple:\n",
    "    if i > 5:\n",
    "        newtuple += (i,)\n",
    "print(newtuple)"
   ]
  },
  {
   "cell_type": "markdown",
   "id": "a80e376e-b8f9-476b-a991-a2282165c2ce",
   "metadata": {},
   "source": [
    "## Question-2\n",
    "Create a tuple containing numbers greater than 5 from the given tuple below using a for loop.\n",
    "\n",
    "``` python\n",
    "mytuple = (3, 6, 2, 1.89, 'h', 1, 9, 5.5, 5, 7, 8, True, 1, -3, -5, 'USA', 10.3, 'France')\n",
    "```\n",
    "**Solution**"
   ]
  },
  {
   "cell_type": "code",
   "execution_count": 2,
   "id": "ee890bd8-b345-49d7-b796-70eda112a839",
   "metadata": {},
   "outputs": [
    {
     "name": "stdout",
     "output_type": "stream",
     "text": [
      "(6, 9, 5.5, 7, 8, 10.3)\n"
     ]
    }
   ],
   "source": [
    "mytuple = (3, 6, 2, 1.89, 'h', 1, 9, 5.5, 5, 7, 8, True, 1, -3, -5, 'USA', 10.3, 'France')\n",
    "\n",
    "newtuple = ()\n",
    "for i in  mytuple:\n",
    "    if  (type(i) in (int, float)) and i > 5:\n",
    "        newtuple += (i,)\n",
    "print(newtuple)"
   ]
  },
  {
   "cell_type": "markdown",
   "id": "3dd49d9c-1c3e-4b3b-8ca8-f1ebc0fab752",
   "metadata": {},
   "source": [
    "## Question-3\n",
    "Create a tuple by combining elements from the following tuples, one by one using a for loop.\n",
    "\n",
    "``` python\n",
    "numbers = (1,2,3,4,5)\n",
    "letters = ('a', 'b', 'c', 'd', 'e')\n",
    " ```\n",
    "\n",
    "The output should be (1, 'a', 2, 'b', 3, 'c', 4, 'd', 5, 'e')\n",
    "\n",
    "**Solution**"
   ]
  },
  {
   "cell_type": "code",
   "execution_count": 3,
   "id": "0034bb21-f920-4e2f-b6c2-43fb8be981dd",
   "metadata": {},
   "outputs": [
    {
     "name": "stdout",
     "output_type": "stream",
     "text": [
      "(1, 'a', 2, 'b', 3, 'c', 4, 'd', 5, 'e')\n"
     ]
    }
   ],
   "source": [
    "numbers = (1,2,3,4,5)\n",
    "letters = ('a', 'b', 'c', 'd', 'e')\n",
    "\n",
    "newtuple = ()\n",
    "\n",
    "for i in range(len(numbers)):\n",
    "    newtuple += (numbers[i],letters[i])\n",
    "\n",
    "print(newtuple)"
   ]
  },
  {
   "cell_type": "markdown",
   "id": "9f62aa99-9a26-40b8-a85f-6d297f98970f",
   "metadata": {},
   "source": [
    "## Question-4: Scatterplot\n",
    "\n",
    "There are 5 houses in a specific area, each described by tuples containing their x and y coordinates, colors, sizes, and the names of the owners.\n",
    "- Use a for loop to plot each house individually, displaying the first characters of the owners' names next to their respective houses.\n",
    "- Refer to the scatterplot section in *Chapter-13: Visualization* for implementation guidance.\n",
    "\n",
    "\n",
    "```python\n",
    "x_tuple = (1, 5, 8, 3, 9)\n",
    "y_tuple = (7, 1, 9, 5, 3)\n",
    "color_tuple = ('green', 'red', 'orange', 'navy', 'pink')\n",
    "size_tuple = (250, 50, 200, 100, 175)\n",
    "name_tuple = ('Michael', 'Tim', 'Jennifer', 'Liz', 'Frank')\n",
    "```\n",
    "\n",
    "**Solution**"
   ]
  },
  {
   "cell_type": "code",
   "execution_count": 4,
   "id": "1b210b92-140e-4239-9809-2b3436eab29e",
   "metadata": {},
   "outputs": [
    {
     "data": {
      "image/png": "[encoded data removed]",
      "text/plain": [
       "<Figure size 640x480 with 1 Axes>"
      ]
     },
     "metadata": {},
     "output_type": "display_data"
    }
   ],
   "source": [
    "import matplotlib.pyplot as plt\n",
    "\n",
    "x_tuple = (1, 5, 8, 3, 9)\n",
    "y_tuple = (7, 1, 9, 5, 3)\n",
    "size_tuple = (250, 50, 200, 100, 175)\n",
    "color_tuple = ('green', 'red', 'orange', 'navy', 'pink')\n",
    "name_tuple = ('Michael', 'Tim', 'Jennifer', 'Liz', 'Frank')\n",
    "\n",
    "for i in range(len(x_tuple)):\n",
    "    plt.scatter(x_tuple[i], y_tuple[i], c=color_tuple[i], s=size_tuple[i], marker='s')\n",
    "    plt.text(x_tuple[i]+0.25, y_tuple[i], name_tuple[i][0]);"
   ]
  },
  {
   "cell_type": "markdown",
   "id": "c65daa00-6df4-4f06-b3f6-da299e0b551f",
   "metadata": {},
   "source": [
    "## Question-5: Barplot\n",
    "Ask the user to enter as many numbers as they want.\n",
    "- Store these numbers in a tuple.\n",
    "- Warn the user if a non-numeric value is entered.\n",
    "- Use a while loop and try-except.\n",
    "- Calculate the count, mean, median, standard deviation, maximum, and minimum values of the entered numbers.\n",
    "- Visualize these values using a bar graph.\n",
    "- Refer to the barplot section in *Chapter-13: Visualization* for implementation guidance.\n",
    "\n",
    "**Sample Output**\n",
    "Enter a number or type Q to quit. 3  \n",
    "Enter a number or type Q to quit. 7  \n",
    "Enter a number or type Q to quit. 2  \n",
    "Enter a number or type Q to quit. 9  \n",
    "Enter a number or type Q to quit. w  \n",
    "Please enter a numerical value!  \n",
    "Enter a number or type Q to quit. 4  \n",
    "Enter a number or type Q to quit. Q  \n",
    "Numbers: (3.0, 7.0, 2.0, 9.0, 4.0)  \n",
    "*add your BARPLOT here.*\n",
    "\n",
    "**Solution**"
   ]
  },
  {
   "cell_type": "markdown",
   "id": "ccb3b809-e41d-4040-9b64-98913295f71a",
   "metadata": {},
   "source": [
    "```python\n",
    "\n",
    "import matplotlib.pyplot as plt\n",
    "import statistics\n",
    "\n",
    "number_tuple = ()\n",
    "\n",
    "while True:\n",
    "    try:\n",
    "        number = input('Enter a number or type Q to quit.')\n",
    "        \n",
    "        if number == 'Q':\n",
    "            break\n",
    "\n",
    "        number_tuple += (float(number),)\n",
    "\n",
    "    except:\n",
    "        print('Please enter a numerical value!')\n",
    "            \n",
    "\n",
    "print('Numbers:', number_tuple)\n",
    "count = len(number_tuple)\n",
    "mean = statistics.mean(number_tuple)\n",
    "median = statistics.median(number_tuple)\n",
    "maximum = max(number_tuple)\n",
    "minimum = min(number_tuple)\n",
    "std = statistics.pstdev(number_tuple)\n",
    "\n",
    "\n",
    "plt.bar(('count', 'mean', 'median', 'maximum', 'minimum', 'std'), (count, mean, median, maximum, minimum, std));"
   ]
  },
  {
   "cell_type": "markdown",
   "id": "4fddcb94-bf8c-4100-8d38-ff9b76d23308",
   "metadata": {},
   "source": [
    "## Question-6\n",
    "Create a tuple with the elements: $2, 8, 4, 8, 4, 10, 4$ and print the following information about this tuple:\n",
    "- The number of occurrences of 10.\n",
    "- The element at index 4.\n",
    "- The second element.\n",
    "- The index of the first occurrence of 4.\n",
    "- The index of the second occurrence of 4.\n",
    "- The index of the third occurrence of 4.\n",
    "- The length (number of elements) of the tuple.\n",
    "- The maximum, minimum, and the sum of the elements.\n",
    "- The last two elements using slicing.\n",
    "- The first three elements using slicing."
   ]
  },
  {
   "cell_type": "markdown",
   "id": "8aa5be94-0254-42cf-b81d-4e805d37b028",
   "metadata": {},
   "source": [
    "``` python\n",
    "mytuple = (2, 8, 4, 8, 4, 10, 4)\n",
    "print(mytuple.count(10))\n",
    "print(mytuple[4])\n",
    "print(mytuple[1])\n",
    "print(mytuple.index(4))\n",
    "print(mytuple.index(4,3))\n",
    "print(mytuple.index(4,5))\n",
    "print(len(mytuple))\n",
    "print(max(mytuple), min(mytuple), sum(mytuple))\n",
    "print(mytuple[-2:])\n",
    "print(mytuple[:3])"
   ]
  },
  {
   "cell_type": "markdown",
   "id": "7ff4b887-4975-4934-b9ab-f8d88f86bcb4",
   "metadata": {},
   "source": [
    "## Question-7\n",
    "Find the average exam result for the 9th graders among the provided grade levels and exam results using a for loop.\n",
    "\n",
    "``` python\n",
    "grade_level = ( 9,  9, 10, 11, 10, 10,  9, 10, 11, 11, 10, 11,  9, 11, 11,  9, 10, 10, 10, 10)\n",
    "exam_result = (59, 20, 81, 30, 62, 56, 85, 72, 48, 15, 47, 18, 11, 37, 79, 87, 79, 92, 82, 66)\n",
    "```"
   ]
  },
  {
   "cell_type": "markdown",
   "id": "5b915430-1d39-432c-bff9-0b30846892bf",
   "metadata": {},
   "source": [
    "``` python\n",
    "grade_level = ( 9,  9, 10, 11, 10, 10,  9, 10, 11, 11, 10, 11,  9, 11, 11,  9, 10, 10, 10, 10)\n",
    "exam_result = (59, 20, 81, 30, 62, 56, 85, 72, 48, 15, 47, 18, 11, 37, 79, 87, 79, 92, 82, 66)\n",
    "\n",
    "total_9 = 0\n",
    "count_9 = grade_level.count(9)\n",
    "\n",
    "for i in range(len(grade_level)):\n",
    "  if grade_level[i] == 9:\n",
    "    total_9 += exam_result[i]\n",
    "\n",
    "\n",
    "print(f'Average of 9th graders: {(total_9/count_9)}')"
   ]
  },
  {
   "cell_type": "markdown",
   "id": "0f50b19e-7aab-4d5d-ab68-3f70bae952e1",
   "metadata": {},
   "source": [
    "\n"
   ]
  },
  {
   "cell_type": "markdown",
   "id": "94639f4d-1776-40e5-a027-9811d6c08a86",
   "metadata": {},
   "source": [
    "## Question-8\n",
    "For the given tuple below, print the elements that are strings, have at least 4 characters, and end with 'r'.\n",
    "\n",
    "``` python\n",
    "mytuple = ( 'table', 'chair', 'desk', 'pen', 5, 7, 8,  'pencil', 'eraser', True, 'ruler', 'car')\n",
    "```"
   ]
  },
  {
   "cell_type": "code",
   "execution_count": 36,
   "id": "469074ee-fee6-412f-ba4c-c2ea755c712c",
   "metadata": {},
   "outputs": [
    {
     "name": "stdout",
     "output_type": "stream",
     "text": [
      "chair\n",
      "eraser\n",
      "ruler\n"
     ]
    }
   ],
   "source": [
    "mytuple = ( 'table', 'chair', 'desk', 'pen', 5, 7, 8,  'pencil', 'eraser', True, 'ruler', 'car')\n",
    "\n",
    "for i in mytuple:\n",
    "    if type(i) == str:\n",
    "        if (len(i) >=4) & (i.endswith('r')):\n",
    "            print(i)"
   ]
  },
  {
   "cell_type": "markdown",
   "id": "ee810e3d-2154-48d2-9925-84016646f0c4",
   "metadata": {},
   "source": []
  },
  {
   "cell_type": "code",
   "execution_count": null,
   "id": "5a1fd82f-d50b-463c-b8ad-7efbeab090c9",
   "metadata": {},
   "outputs": [],
   "source": []
  },
  {
   "cell_type": "code",
   "execution_count": null,
   "id": "d65099fd-ec4f-4b39-bf40-d9a998c75e8d",
   "metadata": {},
   "outputs": [],
   "source": []
  }
 ],
 "metadata": {
  "kernelspec": {
   "display_name": "Python 3 (ipykernel)",
   "language": "python",
   "name": "python3"
  },
  "language_info": {
   "codemirror_mode": {
    "name": "ipython",
    "version": 3
   },
   "file_extension": ".py",
   "mimetype": "text/x-python",
   "name": "python",
   "nbconvert_exporter": "python",
   "pygments_lexer": "ipython3",
   "version": "3.11.7"
  }
 },
 "nbformat": 4,
 "nbformat_minor": 5
}
