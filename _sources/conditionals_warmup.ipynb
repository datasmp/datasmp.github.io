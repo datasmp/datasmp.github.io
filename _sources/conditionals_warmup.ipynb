{
 "cells": [
  {
   "cell_type": "markdown",
   "id": "4e78bee9-89c6-4996-bf66-cf1208e0053c",
   "metadata": {},
   "source": [
    "# Conditionals Warm Up\n",
    "![Section Title: Conditionals Warm Up](title_pict/conditionals_warmup2.png)\n"
   ]
  },
  {
   "cell_type": "markdown",
   "id": "fcb47ff0-d996-4c11-964b-cec61180e06e",
   "metadata": {},
   "source": [
    "## Warm Up Question-1\n",
    "Convert the variable $x = 2$ to a string, assign it to the variable $y$, and then display the type of $y$."
   ]
  },
  {
   "cell_type": "markdown",
   "id": "fe0d8e71-203a-4c41-b8a6-65ddfdc60df0",
   "metadata": {},
   "source": [
    "## Warm Up Question-2\n",
    "Determine the output of the code below\n",
    "```python\n",
    "print(5 > 3)\n",
    "print(10 > 20)"
   ]
  },
  {
   "cell_type": "markdown",
   "id": "406314dc-1062-47ac-b074-b5a3164d1619",
   "metadata": {},
   "source": [
    "## Warm Up Question-3\n",
    "Determine the output of the code below\n",
    "```python\n",
    "x = 5\n",
    "\n",
    "if x > 3:\n",
    "    print('A')"
   ]
  },
  {
   "cell_type": "markdown",
   "id": "23a9b83c-4bf3-42d7-9403-81d7f2438e98",
   "metadata": {},
   "source": [
    "## Warm Up Question-4\n",
    "Determine the output of the code below\n",
    "```python\n",
    "x = 5\n",
    "if x < 3:\n",
    "    print('A')"
   ]
  },
  {
   "cell_type": "markdown",
   "id": "9ca15f5a-8852-4f67-9363-d13557cf0b80",
   "metadata": {},
   "source": [
    "## Warm Up Question-5\n",
    "Determine the output of the code below\n",
    "```python\n",
    "if 1 > 4:\n",
    "    print('A')\n",
    "else:\n",
    "    print('B')"
   ]
  },
  {
   "cell_type": "markdown",
   "id": "17ac6411-1919-4e88-8571-9ef46a3a3bef",
   "metadata": {},
   "source": [
    "## Warm Up Question-6\n",
    "Write a program that displays *hot* if the variable *temperature* is greater than 80; otherwise, it should display not hot.\n",
    "- Test your code using temperature values of 100 and 50."
   ]
  },
  {
   "cell_type": "markdown",
   "id": "99b6e046-8c57-46d9-ab3d-0aa7b590659e",
   "metadata": {},
   "source": [
    "## Warm Up Question-7\n",
    "Determine the output of the code below\n",
    "```python\n",
    "if 6 > 4:\n",
    "    print('A')\n",
    "    if 7 < 5:\n",
    "        print('B')\n",
    "    else:\n",
    "        print('C')"
   ]
  },
  {
   "cell_type": "markdown",
   "id": "7bb1ac78-edb5-4e21-9129-12dd8ba2fb44",
   "metadata": {},
   "source": [
    "## Warm Up Question-8\n",
    "Write a program that prompts the user to enter a name and returns the 5th character. \n",
    "- Use a try-except statement to warn the user if the name contains fewer than 5 characters."
   ]
  }
 ],
 "metadata": {
  "kernelspec": {
   "display_name": "Python 3 (ipykernel)",
   "language": "python",
   "name": "python3"
  },
  "language_info": {
   "codemirror_mode": {
    "name": "ipython",
    "version": 3
   },
   "file_extension": ".py",
   "mimetype": "text/x-python",
   "name": "python",
   "nbconvert_exporter": "python",
   "pygments_lexer": "ipython3",
   "version": "3.11.8"
  }
 },
 "nbformat": 4,
 "nbformat_minor": 5
}
