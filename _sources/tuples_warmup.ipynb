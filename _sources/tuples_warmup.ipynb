{
 "cells": [
  {
   "cell_type": "markdown",
   "id": "b4ac5876-4e84-4c82-b2d4-0f9d60ae4472",
   "metadata": {},
   "source": [
    "# Tuples Warm Up\n",
    "![Section Title: Tuples Warm Up](title_pict/tuples_warmup2.png)\n"
   ]
  },
  {
   "cell_type": "markdown",
   "id": "f254810e-1680-4868-bd7d-993a4f68fc35",
   "metadata": {},
   "source": [
    "## Warm Up Question-1\n",
    "Create a tuple containing the names of five different animals."
   ]
  },
  {
   "cell_type": "markdown",
   "id": "87146e22-fcfc-4504-81af-8013405d71e5",
   "metadata": {},
   "source": [
    "## Warm Up Question-2\n",
    "Calculate the maximum value, minimum value, total sum, and the count of elements in the sequence of numbers \n",
    "(8,2,4,1,1,2,3,10,4,5,0,6,1,1) using a tuple."
   ]
  },
  {
   "cell_type": "markdown",
   "id": "30f251fb-e2b8-4d3e-a33c-a15635f9972b",
   "metadata": {},
   "source": [
    "## Warm Up Question-3\n",
    "Use slicing to extract and display only the ('e', 'h', 'y', 'a') portion of the tuple ('z','r','t','e', 'h', 'y','a','b','c','d') by using both positive and negative indices."
   ]
  },
  {
   "cell_type": "markdown",
   "id": "f4abdf79-069a-431e-8cfb-37b385b3dd84",
   "metadata": {},
   "source": [
    "## Warm Up Question-4\n",
    "Use concatenation and repetition to generate the tuple ('d', 'e', 'd', 'e', 'a', 'b', 'c','a', 'b', 'c','a', 'b', 'c','a', 'b', 'c', 'd', 'e') from the tuples ('a', 'b', 'c') and ('d', 'e')."
   ]
  },
  {
   "cell_type": "markdown",
   "id": "ba1c0d9a-0f4a-48f1-ba4e-71a4fe9b3fa3",
   "metadata": {},
   "source": [
    "## Warm Up Question-5\n",
    "Count the occurrences of 3 in the tuple (8,8,8,8,3,3,7,7,7,4,3,3,3,5) and find the index of 4."
   ]
  },
  {
   "cell_type": "markdown",
   "id": "16d59de9-6241-4954-a551-0b2c30895df9",
   "metadata": {},
   "source": [
    "## Warm Up Question-6\n",
    "Use a for loop to print the second character of each name in the tuple ('Taylor', 'Michael', 'Jenny', 'Daniel', 'George')."
   ]
  }
 ],
 "metadata": {
  "kernelspec": {
   "display_name": "Python 3 (ipykernel)",
   "language": "python",
   "name": "python3"
  },
  "language_info": {
   "codemirror_mode": {
    "name": "ipython",
    "version": 3
   },
   "file_extension": ".py",
   "mimetype": "text/x-python",
   "name": "python",
   "nbconvert_exporter": "python",
   "pygments_lexer": "ipython3",
   "version": "3.11.8"
  }
 },
 "nbformat": 4,
 "nbformat_minor": 5
}
