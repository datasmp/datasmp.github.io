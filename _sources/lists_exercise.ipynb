{
 "cells": [
  {
   "cell_type": "markdown",
   "id": "16496257-d691-4482-8029-addb917dedfb",
   "metadata": {},
   "source": [
    "# Lists Exercises\n",
    "![](title_pict/lists_exercises2.png)\n"
   ]
  },
  {
   "cell_type": "markdown",
   "id": "9a15d82c-20d9-4b05-9fb4-d2ac92f20eb1",
   "metadata": {},
   "source": [
    "## Question-1\n",
    "Create a list with the elements: $10, 20, 30, 40, 10, 20, 30, 10, 20$ and print the following information about this tuple:\n",
    "- The number of occurrences of 30.\n",
    "- The element at index 5.\n",
    "- The third element.\n",
    "- The index of the first occurrence of 20.\n",
    "- The index of the second occurrence of 20.\n",
    "- The index of the third occurrence of 20.\n",
    "- The length (number of elements) of the list.\n",
    "- The maximum, minimum, and the sum of the elements.\n",
    "- The last four elements using slicing.\n",
    "- The first five elements using slicing."
   ]
  },
  {
   "cell_type": "markdown",
   "id": "ff3c8182-a90e-4a3c-b18b-86f4355683cb",
   "metadata": {
    "jp-MarkdownHeadingCollapsed": true
   },
   "source": [
    "## Question-2\n",
    "Create a list with the elements: $'a', 5, 8, 'b'$ and perform the following operations on it, printing it after each operation:\n",
    "- Add 99.\n",
    "- Add 100 as the second element to the list.\n",
    "- Add all elements from the list [2, 6, 5, 9, 1, 1, 5].\n",
    "- Remove 'a' using the pop() method.\n",
    "- Remove 'b' using the remove() method.\n",
    "- Reverse the order of the list.\n",
    "- Sort it in ascending order.\n",
    "- Sort it in descending order."
   ]
  },
  {
   "cell_type": "markdown",
   "id": "242ebb13-2ce4-46d7-b711-4b27e8a18d36",
   "metadata": {},
   "source": [
    "## Question-3\n",
    "Store the unique values in the following list into a list and sort them.\n",
    "``` python\n",
    "numbers = [9, 4, 10, 9, 9, 2, 7, 9, 8, 6, 4, 6, 10, 5, 1, 7, 7, 5, 9, 2, 5]\n",
    "```"
   ]
  },
  {
   "cell_type": "markdown",
   "id": "f4903c7a-28aa-4fd0-a8cf-ea0c22c072f8",
   "metadata": {},
   "source": [
    "## Question-4\n",
    "Generate a list containing numbers from 4 to 9, inclusive.\n",
    "- Construct a multiplication table for these numbers to resemble a 6 by 6 matrix and print it.\n",
    "- Store all sum of the values in each row in this multiplication table into a list."
   ]
  },
  {
   "cell_type": "markdown",
   "id": "70772ed5-af53-4947-be39-ef38bb9f3e56",
   "metadata": {},
   "source": [
    "## Question-5\n",
    "Use list comprehension and random.randint() to construct two lists:\n",
    "- Generate ten random numbers between 1 and 20, stored in a list called left_list.\n",
    "- Generate ten random numbers between 1 and 10, stored in a list called question_list.\n",
    "- Create a new list called right_list, consisting of the differences between 30 and the sum of corresponding numbers in left_list and question_list.\n",
    "- For each line, print dashes (-) equal to the number in left_list, followed by question marks equal to the number in question_list, and then dashes equal to the number in right_list.\n",
    "\n",
    "**Sample Output** Only first line out of 10.\n",
    "\n",
    "$--------------????------------$      \n"
   ]
  },
  {
   "cell_type": "markdown",
   "id": "cb02d4f2-fce6-4647-ba0c-b59a027f859a",
   "metadata": {},
   "source": [
    "## Question-6\n",
    "Choose a random 6-digit number and store its unique digits in a list as integers and in descending order. \n",
    "- Display the number and its unique digits.\n",
    "- Avoid the use of sets.\n",
    "- Sample Output:\n",
    "    - The unique digits of 166464 are [6, 4, 1]"
   ]
  },
  {
   "cell_type": "markdown",
   "id": "abffcacc-66d0-434d-bd08-088a0372bb52",
   "metadata": {},
   "source": [
    "## Question-7\n",
    "Choose a random 6-digit number and verify if all of its digits are distinct.\n",
    "- Avoid the use of sets.\n",
    "- Sample Output:\n",
    "    - The number 986728 contains repeated digits.\n",
    "    - The number 362951 has distinct digits.\n"
   ]
  },
  {
   "cell_type": "markdown",
   "id": "e1d6f269-f5aa-480c-aef1-b54d4950827d",
   "metadata": {},
   "source": [
    "## Question-8\n",
    "Choose a random 6-digit number whose digits are distinct.\n",
    "- Avoid the use of sets.\n",
    "\n"
   ]
  },
  {
   "cell_type": "markdown",
   "id": "c12b5617-2909-4b15-a077-3f87950cd28c",
   "metadata": {},
   "source": [
    "## Question-9\n",
    "Choose ten random 6-digit numbers whose digits are distinct and store them in a list as integers. \n",
    "- Avoid the use of sets."
   ]
  },
  {
   "cell_type": "markdown",
   "id": "de6d2981-090f-48b7-8482-0d01151e80ca",
   "metadata": {},
   "source": [
    "## Question-10\n",
    "Choose two random 6-digit numbers whose digits are distinct and store them in a list as integers. \n",
    "- Store the common digits of these two numbers in a list.\n",
    "- Avoid the use of sets.\n",
    "- Sample Output:\n",
    "    - The common digits of 479310 and 706843 are [4, 7, 3, 0] "
   ]
  },
  {
   "cell_type": "markdown",
   "id": "0e3f7369-ab18-427c-8004-dec3363b546f",
   "metadata": {},
   "source": [
    "## Question-11\n",
    "Choose two random 6-digit numbers with distinct digits and store them as integers in a list.\n",
    "- Store the common digits of these two numbers in another list.\n",
    "- Initialize two count variables with an initial value of zero: count_negative and count_positive.\n",
    "- If a common digit appears in the same position in both numbers, increase count_positive by one.\n",
    "- If a common digit appears in different positions in both numbers, decrease count_negative by one.\n",
    "- Avoid the use of sets.\n",
    "- Sample Output-1:\n",
    "    - The common digits of 247583 and 579063 are [7, 5, 3].\n",
    "    - Positive Count: 1  ---   Negative Count: -2\n",
    "- Sample Output-2:\n",
    "    - The common digits of 470829 and 926504 are [4, 0, 2, 9].\n",
    "    - Positive Count: 0  ---   Negative Count: -4\n",
    "- Sample Output-3:\n",
    "    - The common digits of 298731 and 928051 are [2, 9, 8, 1].\n",
    "    - Positive Count: 2  ---   Negative Count: -2"
   ]
  },
  {
   "cell_type": "markdown",
   "id": "d142b268-85b9-4aa5-b2bc-ce62cd2c6299",
   "metadata": {},
   "source": [
    "## Question-12\n",
    "Prompt the user to input comma-separated integers of their choice.\n",
    "- Use the split() method of strings to store the numbers in a list.\n",
    "- Print the type of the first number in this new list.\n",
    "- Use a list comprehension to generate a new list with all these numbers in integer type.\n",
    "- Print the sum of all these numbers."
   ]
  },
  {
   "cell_type": "markdown",
   "id": "90910b16-7b5d-49b9-83b6-639d56772e2c",
   "metadata": {},
   "source": [
    "## Question-13\n",
    "For the lists given below, begin with the total list initialized as [0, 0, 0].\n",
    "\n",
    "```python\n",
    "grade_level = [ 9,  9, 10, 11, 10, 10,  9, 10, 11, 11, 10, 11,  9, 11, 11,  9, 10, 10, 10, 10]\n",
    "exam_result = [59, 20, 81, 30, 62, 56, 85, 72, 48, 15, 47, 18, 11, 37, 79, 87, 79, 92, 82, 66]\n",
    "```\n",
    "\n",
    "Use a for loop to add each:\n",
    "- 9th grader's exam result to the index 0 position of the total list.\n",
    "- 10th grader's exam result to the index 1 position of the total list.\n",
    "- 11th grader's exam result to the index 2 position of the total list.\n",
    "The final version of the total list should be: [sum of 9th graders' exam results, sum of the 10th graders' exam results, sum of the 11th graders' exam results]."
   ]
  },
  {
   "cell_type": "markdown",
   "id": "3e61b4b3-d0d4-4513-a1fe-b9c4fcb02520",
   "metadata": {},
   "source": [
    "## Question-14\n",
    "For the lists given below, calculate the average exam grades for each grade level and visualize them using a bar graph.\n",
    "```python\n",
    "grade_level = [ 9,  9, 10, 11, 10, 10,  9, 10, 11, 11, 10, 11,  9, 11, 11,  9, 10, 10, 10, 10]\n",
    "exam_result = [59, 20, 81, 30, 62, 56, 85, 72, 48, 15, 47, 18, 11, 37, 79, 87, 79, 92, 82, 66]\n",
    "```"
   ]
  },
  {
   "cell_type": "markdown",
   "id": "ce919e65-8f23-42fa-9ebb-d1b1701f84bb",
   "metadata": {},
   "source": [
    "## Business Applications"
   ]
  },
  {
   "cell_type": "markdown",
   "id": "944e5721-c80e-4777-91d3-f1b091783e14",
   "metadata": {},
   "source": [
    "### Question: Max of Revenue\n",
    "Revenue (R) is the product of the number (n) of items sold  and the price (p) of the item.\n",
    "- $R = p\\cdot n$\n",
    "  \n",
    "The number of item sold is given by the following equation: $n = -1.5p+30$\n",
    "- Construct a list that consists of the revenues for  $0\\le p \\le 20$.\n",
    "- Plot the graph of revenue for $0\\le p \\le 20$"
   ]
  },
  {
   "cell_type": "markdown",
   "id": "e425a3e8-5754-497c-b29c-e818a15cb6da",
   "metadata": {},
   "source": [
    "### Question: Profit\n",
    "Profit (P) is the difference between Revenue and Cost\n",
    "- $Profit = Revenue - Cost$\n",
    "\n",
    "The monthly fixed cost of a cable factory is 1500 dollars. Each cable costs 13 dollars and sells for 25 dollars.\n",
    "- For what number of cables produced profit is zero.\n",
    "    - Hint: Calculate the profit for $n$ between 1 and 400.\n",
    "    \n",
    "- Construct three lists that consist of the revenues, costs, and profits for  $0\\le p \\le 400$.\n",
    "- Plot the reveue, cost, profit for producing up to 400 cables.\n",
    "- Draw a vertical line where the profit is zero for $n$.\n",
    "\n",
    "Sample Plot:\n",
    "\n",
    "![](pict/list_ques_profit.png)"
   ]
  },
  {
   "cell_type": "markdown",
   "id": "b40d8e8b-9648-468e-9726-5015b3bb9158",
   "metadata": {},
   "source": [
    "### Question: Break-Even Point\n",
    "Break-Even Point is the point where total cost equals total revenue, meaning profit is zero.\n",
    "\n",
    "For the given cost and the revenue functions find the break-even point and plot it.\n",
    "\n",
    "$C(n) = 0.5n +2000$\n",
    "\n",
    "$R(n) = 2.5n$\n",
    "\n",
    "Hint: Calculate the cost and revenue for n between 1 and 10,000.\n",
    "\n",
    "Sample Plot:\n",
    "\n",
    "![](pict/list_ques_be.png)"
   ]
  },
  {
   "cell_type": "markdown",
   "id": "59d92788-0c34-4e46-9a38-3f7e0ee4cf0f",
   "metadata": {},
   "source": [
    "### Question: Exponential Depreciation\n",
    "The value $V$ of a truck in dollars is given by the formula $V(t)=140000(1.35)^{-0.6t}$  where $t$ is the age of the truck in years. \n",
    "\n",
    "- Plot the graph of values of the truck in 30 years."
   ]
  },
  {
   "cell_type": "markdown",
   "id": "669227f0-5b36-4f71-b728-7506dc1fe36f",
   "metadata": {},
   "source": [
    "### Question: Demand\n",
    "If the demand function is given as the following linear relation $p = -2q+300$.\n",
    "- Plot the demand function for $1\\le q\\le 200$."
   ]
  },
  {
   "cell_type": "markdown",
   "id": "66a9e4d8-160b-4e53-88e8-bfdfeaf147cf",
   "metadata": {},
   "source": [
    "### Question: Supply Function\n",
    "\n",
    "If the supply function is given by the linear relation \n",
    "$p = 4q+100$.\n",
    "- Plot the supply function for $1\\le q\\le 100$."
   ]
  },
  {
   "cell_type": "markdown",
   "id": "d1d2e0b3-4f9d-47fe-a2c8-7be843455a5f",
   "metadata": {},
   "source": [
    "### Question: Equilibrium Point\n",
    "*An equilibrium point is where the demand and supply curves intersect.*\n",
    "\n",
    "For the given demand and the supply functions find the equilibrium point and plot it.\n",
    "\n",
    "Demand: $p(q) = -0.03q + 1000$\n",
    "\n",
    "Supply: $p(q) = 0.02q + 400$\n",
    "\n",
    "- Hint: Calculate the demand and supply for $q$ between 0 and 20,000.\n",
    "\n",
    "Sample plot:\n",
    "\n",
    "![](pict/lists_ques_ep.png)"
   ]
  },
  {
   "cell_type": "markdown",
   "id": "47f3dfcd-31a8-4bd6-ae10-ba1f4014c7bc",
   "metadata": {},
   "source": [
    "### Question: Stock Percentage Changes\n",
    "The following is a list of the prices for Tesla stock over a certain period of time.\n",
    "``` python\n",
    "stock_prices = [174.9499969482422,\n",
    " 186.60000610351562,\n",
    " 180.11000061035156,\n",
    " 173.74000549316406,\n",
    " 179.24000549316406,\n",
    " 176.75,\n",
    " 176.19000244140625,\n",
    " 178.7899932861328,\n",
    " 178.0800018310547,\n",
    " 176.2899932861328,\n",
    " 174.77000427246094,\n",
    " 175.0,\n",
    " 177.94000244140625,\n",
    " 177.47999572753906,\n",
    " 173.7899932861328,\n",
    " 170.66000366210938,\n",
    " 177.2899932861328,\n",
    " 182.47000122070312,\n",
    " 178.00999450683594,\n",
    " 187.44000244140625,\n",
    " 184.86000061035156]\n",
    "``` \n",
    "Create a list of percentage changes using the stock_prices list.\n",
    "- The first element of the percentage list is np.nan because there is no price available for the previous day."
   ]
  },
  {
   "cell_type": "markdown",
   "id": "a1cb0f31-163a-475d-b29c-0fe59ff19558",
   "metadata": {},
   "source": [
    "### Question: Stock Behavior\n",
    "The following is a list of the prices for Tesla stock over a certain period of time.\n",
    "``` python\n",
    "stock_prices = [174.9499969482422,\n",
    " 186.60000610351562,\n",
    " 180.11000061035156,\n",
    " 173.74000549316406,\n",
    " 179.24000549316406,\n",
    " 176.75,\n",
    " 176.19000244140625,\n",
    " 178.7899932861328,\n",
    " 178.0800018310547,\n",
    " 176.2899932861328,\n",
    " 174.77000427246094,\n",
    " 175.0,\n",
    " 177.94000244140625,\n",
    " 177.47999572753906,\n",
    " 173.7899932861328,\n",
    " 170.66000366210938,\n",
    " 177.2899932861328,\n",
    " 182.47000122070312,\n",
    " 178.00999450683594,\n",
    " 187.44000244140625,\n",
    " 184.86000061035156]\n",
    "```\n",
    "\n",
    "Create a list indicating the behavior of stock prices as Increasing, Decreasing, or Flat using the stock_prices list.\n",
    "- Count how many days the stock price went up.\n",
    "- The first element of the behavior list is np.nan because there is no price available for the previous day."
   ]
  },
  {
   "cell_type": "code",
   "execution_count": null,
   "id": "3c267bd7-e5e9-471c-9777-8335b47deac3",
   "metadata": {},
   "outputs": [],
   "source": []
  }
 ],
 "metadata": {
  "kernelspec": {
   "display_name": "Python 3 (ipykernel)",
   "language": "python",
   "name": "python3"
  },
  "language_info": {
   "codemirror_mode": {
    "name": "ipython",
    "version": 3
   },
   "file_extension": ".py",
   "mimetype": "text/x-python",
   "name": "python",
   "nbconvert_exporter": "python",
   "pygments_lexer": "ipython3",
   "version": "3.11.7"
  }
 },
 "nbformat": 4,
 "nbformat_minor": 5
}
