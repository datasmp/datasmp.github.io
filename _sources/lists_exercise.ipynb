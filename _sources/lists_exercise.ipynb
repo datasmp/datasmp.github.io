{
 "cells": [
  {
   "cell_type": "markdown",
   "id": "16496257-d691-4482-8029-addb917dedfb",
   "metadata": {},
   "source": [
    "# Lists Exercises"
   ]
  },
  {
   "cell_type": "markdown",
   "id": "242ebb13-2ce4-46d7-b711-4b27e8a18d36",
   "metadata": {},
   "source": [
    "## Question-1\n",
    "Store the unique values in the following list into a list and sort them.\n",
    "``` python\n",
    "numbers = [9, 4, 10, 9, 9, 2, 7, 9, 8, 6, 4, 6, 10, 5, 1, 7, 7, 5, 9, 2, 5]\n",
    "```"
   ]
  },
  {
   "cell_type": "markdown",
   "id": "f4903c7a-28aa-4fd0-a8cf-ea0c22c072f8",
   "metadata": {},
   "source": [
    "## Question-2\n",
    "Generate a list containing numbers from 4 to 9, inclusive.\n",
    "- Construct a multiplication table for these numbers to resemble a 6 by 6 matrix and print it.\n",
    "- Store all sum of the values in each row in this multiplication table into a list."
   ]
  },
  {
   "cell_type": "markdown",
   "id": "70772ed5-af53-4947-be39-ef38bb9f3e56",
   "metadata": {},
   "source": [
    "## Question-3\n",
    "Use list comprehension and random.randint() to construct two lists:\n",
    "- Generate ten random numbers between 1 and 20, stored in a list called left_list.\n",
    "- Generate ten random numbers between 1 and 10, stored in a list called question_list.\n",
    "- Create a new list called right_list, consisting of the differences between 30 and the sum of corresponding numbers in left_list and question_list.\n",
    "- For each line, print dashes (-) equal to the number in left_list, followed by question marks equal to the number in question_list, and then dashes equal to the number in right_list.\n",
    "\n",
    "**Sample Output** Only first line out of 10.\n",
    "\n",
    "$--------------????------------$      \n"
   ]
  },
  {
   "cell_type": "markdown",
   "id": "cb02d4f2-fce6-4647-ba0c-b59a027f859a",
   "metadata": {},
   "source": [
    "## Question-4\n",
    "Choose a random 6-digit number and store its unique digits in a list as integers and in descending order. \n",
    "- Display the number and its unique digits.\n",
    "- Avoid the use of sets.\n",
    "- Sample Output:\n",
    "    - The unique digits of 166464 are [6, 4, 1]"
   ]
  },
  {
   "cell_type": "markdown",
   "id": "abffcacc-66d0-434d-bd08-088a0372bb52",
   "metadata": {},
   "source": [
    "## Question-5\n",
    "Choose a random 6-digit number and verify if all of its digits are distinct.\n",
    "- Avoid the use of sets.\n",
    "- Sample Output:\n",
    "    - The number 986728 contains repeated digits.\n",
    "    - The number 362951 has distinct digits.\n"
   ]
  },
  {
   "cell_type": "markdown",
   "id": "e1d6f269-f5aa-480c-aef1-b54d4950827d",
   "metadata": {},
   "source": [
    "## Question-6\n",
    "Choose a random 6-digit number whose digits are distinct.\n",
    "- Avoid the use of sets.\n",
    "\n"
   ]
  },
  {
   "cell_type": "markdown",
   "id": "c12b5617-2909-4b15-a077-3f87950cd28c",
   "metadata": {},
   "source": [
    "## Question-7\n",
    "Choose ten random 6-digit numbers whose digits are distinct and store them in a list as integers. \n",
    "- Avoid the use of sets."
   ]
  },
  {
   "cell_type": "markdown",
   "id": "de6d2981-090f-48b7-8482-0d01151e80ca",
   "metadata": {},
   "source": [
    "## Question-8\n",
    "Choose two random 6-digit numbers whose digits are distinct and store them in a list as integers. \n",
    "- Store the common digits of these two numbers in a list.\n",
    "- Avoid the use of sets.\n",
    "- Sample Output:\n",
    "    - The common digits of 479310 and 706843 are [4, 7, 3, 0] "
   ]
  },
  {
   "cell_type": "markdown",
   "id": "0e3f7369-ab18-427c-8004-dec3363b546f",
   "metadata": {},
   "source": [
    "## Question-9\n",
    "Choose two random 6-digit numbers with distinct digits and store them as integers in a list.\n",
    "- Store the common digits of these two numbers in another list.\n",
    "- Initialize two count variables with an initial value of zero: count_negative and count_positive.\n",
    "- If a common digit appears in the same position in both numbers, increase count_positive by one.\n",
    "- If a common digit appears in different positions in both numbers, decrease count_negative by one.\n",
    "- Avoid the use of sets.\n",
    "- Sample Output-1:\n",
    "    - The common digits of 247583 and 579063 are [7, 5, 3].\n",
    "    - Positive Count: 1  ---   Negative Count: -2\n",
    "- Sample Output-2:\n",
    "    - The common digits of 470829 and 926504 are [4, 0, 2, 9].\n",
    "    - Positive Count: 0  ---   Negative Count: -4\n",
    "- Sample Output-3:\n",
    "    - The common digits of 298731 and 928051 are [2, 9, 8, 1].\n",
    "    - Positive Count: 2  ---   Negative Count: -2"
   ]
  },
  {
   "cell_type": "code",
   "execution_count": null,
   "id": "5f77d555-7a33-43d8-87e2-04088c606065",
   "metadata": {},
   "outputs": [],
   "source": []
  }
 ],
 "metadata": {
  "kernelspec": {
   "display_name": "Python 3 (ipykernel)",
   "language": "python",
   "name": "python3"
  },
  "language_info": {
   "codemirror_mode": {
    "name": "ipython",
    "version": 3
   },
   "file_extension": ".py",
   "mimetype": "text/x-python",
   "name": "python",
   "nbconvert_exporter": "python",
   "pygments_lexer": "ipython3",
   "version": "3.11.7"
  }
 },
 "nbformat": 4,
 "nbformat_minor": 5
}
