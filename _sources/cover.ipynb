{
 "cells": [
  {
   "cell_type": "markdown",
   "id": "d3cef666-5501-402c-8693-a2ad2ebd2619",
   "metadata": {},
   "source": [
    "# Cover"
   ]
  },
  {
   "cell_type": "markdown",
   "id": "2bf04f57-bd60-47c7-bb2c-fb49816e257d",
   "metadata": {},
   "source": [
    "\n",
    "![](pict/cover_7_5.png)"
   ]
  },
  {
   "cell_type": "code",
   "execution_count": null,
   "id": "04a48d7a-f10b-40aa-a73e-92327a974f17",
   "metadata": {},
   "outputs": [],
   "source": []
  }
 ],
 "metadata": {
  "kernelspec": {
   "display_name": "Python 3 (ipykernel)",
   "language": "python",
   "name": "python3"
  },
  "language_info": {
   "codemirror_mode": {
    "name": "ipython",
    "version": 3
   },
   "file_extension": ".py",
   "mimetype": "text/x-python",
   "name": "python",
   "nbconvert_exporter": "python",
   "pygments_lexer": "ipython3",
   "version": "3.11.7"
  }
 },
 "nbformat": 4,
 "nbformat_minor": 5
}
