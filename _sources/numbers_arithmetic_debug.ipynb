{
 "cells": [
  {
   "cell_type": "markdown",
   "id": "13e18a7d",
   "metadata": {},
   "source": [
    "# Numbers Debugging\n",
    "\n",
    "- Each of the following short code contains one or more bugs. &emsp;&emsp;&emsp;&emsp;\n",
    "- Please identify and correct these bugs.\n",
    "- Provide an explanation for your answer."
   ]
  },
  {
   "cell_type": "markdown",
   "id": "c4a3a813-bf86-4ba4-a897-082d7e38d9db",
   "metadata": {},
   "source": [
    "## Question-1\n",
    "\n",
    "``` python\n",
    "x = 'five'\n",
    "y = int(x)\n",
    "print(y)\n",
    "```"
   ]
  },
  {
   "cell_type": "markdown",
   "id": "d57b60d0-fd85-4c6e-bd6d-fe1b071002b7",
   "metadata": {},
   "source": [
    "```{admonition} Solution\n",
    ":class: toggle\n",
    "'five' cannot be converted to an integer. It should be given in digit form."
   ]
  },
  {
   "cell_type": "markdown",
   "id": "970982d7-02a0-4e1c-baa3-aae4fa95a366",
   "metadata": {},
   "source": [
    "## Question-2\n",
    "\n",
    "``` python\n",
    "x = '5.07'\n",
    "y = int(x)\n",
    "print(y)\n",
    "```"
   ]
  },
  {
   "cell_type": "markdown",
   "id": "0c3cf69d-7bb6-4346-a3c7-5eaa35ab1204",
   "metadata": {},
   "source": [
    "```{admonition} Solution\n",
    ":class: toggle\n",
    "x is a string representation of a decimal number. It cannot be converted to an integer."
   ]
  },
  {
   "cell_type": "markdown",
   "id": "854437f7",
   "metadata": {},
   "source": [
    "## Question-3\n",
    "\n",
    "``` python\n",
    "x = 5\n",
    "print(10/(5-x))\n",
    "```"
   ]
  },
  {
   "cell_type": "markdown",
   "id": "48a8af1e",
   "metadata": {},
   "source": [
    "```{admonition} Solution\n",
    ":class: toggle\n",
    "Division by zero."
   ]
  },
  {
   "cell_type": "markdown",
   "id": "e38eaa23-c4b3-40c9-9fed-fae4f459cd61",
   "metadata": {},
   "source": [
    "## Question-4\n",
    "\n",
    "``` python\n",
    "print(sum(4,7,9))\n",
    "```"
   ]
  },
  {
   "cell_type": "markdown",
   "id": "f78d6e5b-b209-467e-85b6-348d5f69da8f",
   "metadata": {},
   "source": [
    "```{admonition} Solution\n",
    ":class: toggle\n",
    "The numbers inside the sum() function can be enclosed in square brackets or parentheses."
   ]
  },
  {
   "cell_type": "markdown",
   "id": "3407987f",
   "metadata": {},
   "source": [
    "## Question-5\n",
    "\n",
    "``` python\n",
    "print(sqrt(25))\n",
    "```"
   ]
  },
  {
   "cell_type": "markdown",
   "id": "eeb0c3c7",
   "metadata": {},
   "source": [
    "```{admonition} Solution\n",
    ":class: toggle\n",
    "sqrt() is not a built-in function; it needs to be imported."
   ]
  },
  {
   "cell_type": "markdown",
   "id": "8e66629f",
   "metadata": {},
   "source": [
    "## Question-6\n",
    "\n",
    "``` python\n",
    "print(math.sqrt(25))\n",
    "```"
   ]
  },
  {
   "cell_type": "markdown",
   "id": "0a74c74e-85d7-4e1b-98e3-f8e7de857861",
   "metadata": {},
   "source": [
    "```{admonition} Solution\n",
    ":class: toggle\n",
    "The math module must be imported first."
   ]
  },
  {
   "cell_type": "markdown",
   "id": "0a4cd24c-edb5-4521-86ba-b44eeac026c9",
   "metadata": {},
   "source": [
    "## Question-7\n",
    "\n",
    "``` python\n",
    "x = '5'\n",
    "y = 10\n",
    "print(x+y)\n",
    "```"
   ]
  },
  {
   "cell_type": "markdown",
   "id": "ad04b700-1b46-4c4d-b06c-7771b69e79df",
   "metadata": {},
   "source": [
    "```{admonition} Solution\n",
    ":class: toggle\n",
    "Numbers and strings cannot be added or concatenated."
   ]
  },
  {
   "cell_type": "markdown",
   "id": "d4fef732-5ad4-45b7-9a5d-fae922c9ad45",
   "metadata": {},
   "source": [
    "## Question-8\n",
    "\n",
    "``` python\n",
    "x = 1,234\n",
    "y = 10\n",
    "print(x+y)\n",
    "```"
   ]
  },
  {
   "cell_type": "markdown",
   "id": "ef002f20-9e0f-4320-85ba-133c1e4194a2",
   "metadata": {},
   "source": [
    "```{admonition} Solution\n",
    ":class: toggle\n",
    "In Python, underscores are used instead of commas for large numbers."
   ]
  },
  {
   "cell_type": "markdown",
   "id": "2ab5f3f9-dcd6-4fd0-9be3-afa573dc90b6",
   "metadata": {},
   "source": [
    "## Question-9\n",
    "\n",
    "``` python\n",
    "x = 3\n",
    "y = 10\n",
    "print(xy)\n",
    "```"
   ]
  },
  {
   "cell_type": "markdown",
   "id": "4f5fb128-f673-489b-84fc-787ac4dce85c",
   "metadata": {},
   "source": [
    "```{admonition} Solution\n",
    ":class: toggle\n",
    "In Python, multiplication is performed using the `*` operator. For example, to multiply x and y, you would write `x * y`."
   ]
  },
  {
   "cell_type": "code",
   "execution_count": null,
   "id": "5a390979-6bd1-4037-9afd-c997e265823d",
   "metadata": {},
   "outputs": [],
   "source": []
  }
 ],
 "metadata": {
  "hide_input": false,
  "kernelspec": {
   "display_name": "Python 3 (ipykernel)",
   "language": "python",
   "name": "python3"
  },
  "language_info": {
   "codemirror_mode": {
    "name": "ipython",
    "version": 3
   },
   "file_extension": ".py",
   "mimetype": "text/x-python",
   "name": "python",
   "nbconvert_exporter": "python",
   "pygments_lexer": "ipython3",
   "version": "3.11.7"
  },
  "toc": {
   "base_numbering": 1,
   "nav_menu": {},
   "number_sections": true,
   "sideBar": true,
   "skip_h1_title": false,
   "title_cell": "Table of Contents",
   "title_sidebar": "Contents",
   "toc_cell": false,
   "toc_position": {},
   "toc_section_display": true,
   "toc_window_display": false
  }
 },
 "nbformat": 4,
 "nbformat_minor": 5
}
