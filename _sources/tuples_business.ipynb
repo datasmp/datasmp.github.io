{
 "cells": [
  {
   "cell_type": "markdown",
   "id": "b4ac5876-4e84-4c82-b2d4-0f9d60ae4472",
   "metadata": {},
   "source": [
    "# Tuples Business\n",
    "![Section Title: Tuples Business](title_pict/tuples_business2.png)\n"
   ]
  },
  {
   "cell_type": "markdown",
   "id": "ca003409-4e67-4a13-a0fb-44d8512bff9b",
   "metadata": {},
   "source": [
    "## Business Applications"
   ]
  },
  {
   "cell_type": "markdown",
   "id": "0bbf57a1-831e-4b75-b0a6-c5013edc1e8e",
   "metadata": {},
   "source": [
    "### Question-1: Production Data Analysis\n",
    "The following two tuples represent the annual production and the corresponding years for a company over a 10-year period.\n",
    "``` python\n",
    "production = (3000, 2500, 5000, 4750, 2250, 6300, 8000, 7500, 9000, 8700)\n",
    "years = (2012, 2013, 2014, 2015, 2016, 2017, 2018, 2019, 2020, 2021)\n",
    "```\n",
    "- Calculate the total, average, and highest production using methods from *numpy*.\n",
    "- Determine the year with the highest production using the *index()* method."
   ]
  },
  {
   "cell_type": "markdown",
   "id": "9dcb706b-3540-4f6f-985c-45a11d7bb265",
   "metadata": {},
   "source": [
    "### Question-2: Profit and Loss\n",
    "The following three tuples represent the revenue, cost, and the corresponding years for a company over a 10-year period.\n",
    "``` python\n",
    "revenue = (2000, 4500, 5000, 6000, 3000, 4000, 8000, 2000, 6000, 3000)\n",
    "cost    = (2500, 3500, 3750, 4500, 4000, 3500, 4500, 3000, 4500, 4000)\n",
    "years   = (2012, 2013, 2014, 2015, 2016, 2017, 2018, 2019, 2020, 2021)\n",
    "```\n",
    "- Calculate the total profit and total loss.\n",
    "- Create a tuple consisting of the years when the company lost money.\n",
    "- Determine the overall profit during these 10 years"
   ]
  },
  {
   "cell_type": "markdown",
   "id": "3d1ed3d3-78f8-43e5-a12d-ec4089e1565a",
   "metadata": {},
   "source": [
    "### Question-3: Total Cost\n",
    "The following tuple represents the unit price-quantity pairs for various items. Write a program that computes the total cost using a for loop.\n",
    "``` python\n",
    "price_quantity = ((8 dollars, 100 items), (4 dollars, 300 items), (23 dollars, 150 items), (89 dollars, 75 items))"
   ]
  },
  {
   "cell_type": "markdown",
   "id": "5dbd1f18-8751-4d95-b7a1-2f3e9b0310cc",
   "metadata": {},
   "source": [
    "### Question-4: Stock Symbols\n",
    "Given the following tuple containing stock symbols, write a program that returns a new tuple with the following modifications:\n",
    "- Remove duplicate stock symbols while preserving the original order.\n",
    "- Replace any '.' characters in the symbols with '-' characters.\n",
    "\n",
    "```python\n",
    "symbols = ['MMM', 'BF.B', 'CAT', 'AMZN', 'BRK.B', 'AAL', 'CAT', 'GOOG', 'MMM', 'AEP']"
   ]
  },
  {
   "cell_type": "markdown",
   "id": "1a044010-9297-4a71-974c-2dade3c69e41",
   "metadata": {},
   "source": [
    "### Question-5: Stock Value Calculation\n",
    "\n",
    "The initial stock price is 200. A tuple of daily percentage changes for the next ten days is provided. \n",
    "- Calculate the stock price at the end of each day for the next ten days.\n",
    "\n",
    "``` python\n",
    "pct_changes = (0.02, 0.03, -0.01, 0.04, 0.01, 0.08, 0.03, -0.01, 0.04, 0.01)\n",
    "```"
   ]
  }
 ],
 "metadata": {
  "kernelspec": {
   "display_name": "Python 3 (ipykernel)",
   "language": "python",
   "name": "python3"
  },
  "language_info": {
   "codemirror_mode": {
    "name": "ipython",
    "version": 3
   },
   "file_extension": ".py",
   "mimetype": "text/x-python",
   "name": "python",
   "nbconvert_exporter": "python",
   "pygments_lexer": "ipython3",
   "version": "3.11.8"
  }
 },
 "nbformat": 4,
 "nbformat_minor": 5
}
