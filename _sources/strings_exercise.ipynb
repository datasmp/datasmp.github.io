{
 "cells": [
  {
   "cell_type": "markdown",
   "id": "4e68494d-76ef-4888-b46d-a4d6bf6c4db3",
   "metadata": {},
   "source": [
    "# Strings Exercises\n",
    "![Section Title: Strings Exercises](title_pict/strings_exercises2.png)"
   ]
  },
  {
   "cell_type": "markdown",
   "id": "22f0095c-027f-4ea0-987c-d23969b7ee01",
   "metadata": {},
   "source": [
    "## Warm Up Question\n",
    "Create a string variable with the value `isn't` and print it."
   ]
  },
  {
   "cell_type": "markdown",
   "id": "664e2592-87b4-46b2-9eef-cb5b4ad995e1",
   "metadata": {},
   "source": [
    "## Warm Up Question \n",
    "For the variable country = `'jamaica'`:\n",
    "\n",
    "- Display the character `'m'` using its positive index.\n",
    "- Display the character `'i'` using its negative index.\n"
   ]
  },
  {
   "cell_type": "markdown",
   "id": "b26b5b3c-ff36-4c2b-9569-cb19c432e5f8",
   "metadata": {},
   "source": [
    "## Warm Up Question\n",
    "Use the provided variables and f-strings to output the statement: \n",
    "`I am in 10th grade and my Chemistry teacher is Mr. Adams.`\n",
    "```python\n",
    "grade, course, teacher = 10, 'Chemistry', 'Mr.Adams' "
   ]
  },
  {
   "cell_type": "markdown",
   "id": "4c26ddb3-5a8c-4a28-816b-7be2691d238b",
   "metadata": {},
   "source": [
    "## Warm Up Question\n",
    "Choose a Unicode character and display it after a related sentence using its code:"
   ]
  },
  {
   "cell_type": "markdown",
   "id": "245a4024-f1f7-48b2-9a3f-492eb49c6936",
   "metadata": {},
   "source": [
    "## Warm Up Question\n",
    "\n",
    "Display the following face.\n",
    "\n",
    "![It is a face with eyes, nose, and mouth using star characters.\n",
    "The eyes are represented by two 3x3 star blocks with a large space between them.\n",
    "The nose is a 4x3 star block positioned underneath the eyes and centered between them.\n",
    "The mouth is a 2x13 star block at the bottom.](pict/face.png)\n"
   ]
  },
  {
   "cell_type": "markdown",
   "id": "2c4e5428-cd69-4932-ba6f-27e434a18c25",
   "metadata": {
    "jp-MarkdownHeadingCollapsed": true
   },
   "source": [
    "## Question-1\n",
    "For the given text below, print versions that are capitalized, in uppercase, in lowercase, and titled.\n",
    "```python\n",
    "text = 'thE gOOd, The Bad aNd The uGLY'\n",
    "```"
   ]
  },
  {
   "cell_type": "markdown",
   "id": "60113dac-df30-4688-9fd3-d315cc86fac7",
   "metadata": {},
   "source": [
    "## Question-2\n",
    "For the given text below, answer the following questions by applying the appropriate methods and print the outputs:\n",
    "\n",
    "- Does it start with 'T'?\n",
    "- Does it end with 'c'?\n",
    "- Find the index of the first occurrence of 'T'.\n",
    "- Find the index of the second occurrence of 'T'.\n",
    "- Find the number of characters.\n",
    "- Are there any digits in the text?\n",
    "- Replace 'T's with 'R's.\n",
    "- Swap the cases (Swap the cases (convert lowercase letters to uppercase and vice versa).\n",
    "\n",
    "```python\n",
    "text = 'TiTANiC'\n",
    "```"
   ]
  },
  {
   "cell_type": "markdown",
   "id": "8dbfbd47-af8e-48b2-8302-964f7bb5eaae",
   "metadata": {},
   "source": [
    "## Question-3\n",
    "\n",
    "Write a program that prompts the user for a 6-digit positive number. Find the sum of the digits of this number without using algebraic operations other then addition.\n",
    "- Example: If the given number is 123456, then the sum of digits is 1+2+3+4+5+6=21"
   ]
  },
  {
   "cell_type": "markdown",
   "id": "e0f88dae-df4b-475c-97a7-cb9a4eed6b79",
   "metadata": {},
   "source": [
    "## Question-4\n",
    "\n",
    "Write a program that prompts the user for a 4-digit positive number. Swap the first two digits of the given number with the last two digits and print it.\n",
    "- Avoid using algebraic operations and instead use string indexing.\n",
    "- Example 1: If the given number is 1234, then print 3412.\n",
    "    - Print format: 1234 ---- swap---> 3412\n",
    "- Example 2: If the given number is 6789, then print 8967.\n",
    "    - Print format: 6789 ---- swap---> 8967"
   ]
  },
  {
   "cell_type": "markdown",
   "id": "4c5d60e2-3d4b-474a-a719-c3620faa6504",
   "metadata": {},
   "source": [
    "## Question-5\n",
    "\n",
    "Use the three variables provided below to construct the string 'XFoas'\n",
    "\n",
    "```python\n",
    "x, y, z = 'fLoRida', 'tExaS', 'aRizOna'\n",
    "```"
   ]
  },
  {
   "cell_type": "markdown",
   "id": "da6c0414-af02-4fd3-89fc-f7b4301f6d5b",
   "metadata": {},
   "source": [
    "## Question-6\n",
    "Extract the height of the first player without the 'cm' part using the provided player information.\n",
    "- Use the find() function.\n",
    "\n",
    "If you change the variable name from player1_info to player2_info in your code, you should obtain the height of the second player.\n",
    "\n",
    "```python\n",
    "player1_info = 'robert_brown,Height:1.834cM,Weight:75.25kg'\n",
    "player2_info = 'richard_smith,heighT:1.92cm,Weight:98.65kg'\n",
    "```\n"
   ]
  },
  {
   "cell_type": "markdown",
   "id": "ec366dcc-33a4-4b81-941b-223fa9ecd38d",
   "metadata": {},
   "source": [
    "## Question-7: House\n",
    "Display the following house by using the repetition of strings.\n",
    "\n",
    "![It is a house made up of a triangle on top of a rectangle, with a base of 7 stars. \n",
    "The rectangle is 6 rows tall and 7 stars wide, with stars forming the borders.\n",
    "The triangle's base and the top of the rectangle both have 7 stars.\n",
    "](pict/house_star.png)\n"
   ]
  },
  {
   "cell_type": "markdown",
   "id": "b6299684-c874-4e30-b325-2de309d99261",
   "metadata": {},
   "source": []
  },
  {
   "cell_type": "markdown",
   "id": "29cf4fd6-4e08-4cec-83a4-5143163c1954",
   "metadata": {},
   "source": [
    "## Question-8: Password\n",
    "Write a program that generates a password consisting of one random letter, punctuation, and non-zero digit.\n",
    "- Import letters, punctuations, and digits from the string module.\n",
    "- Choose random integers that can be an index for a letter, punctuation, or digit."
   ]
  },
  {
   "cell_type": "code",
   "execution_count": null,
   "id": "c6e854b7-b938-4384-9c73-4e41fe737e70",
   "metadata": {},
   "outputs": [],
   "source": []
  }
 ],
 "metadata": {
  "kernelspec": {
   "display_name": "Python 3 (ipykernel)",
   "language": "python",
   "name": "python3"
  },
  "language_info": {
   "codemirror_mode": {
    "name": "ipython",
    "version": 3
   },
   "file_extension": ".py",
   "mimetype": "text/x-python",
   "name": "python",
   "nbconvert_exporter": "python",
   "pygments_lexer": "ipython3",
   "version": "3.11.8"
  }
 },
 "nbformat": 4,
 "nbformat_minor": 5
}
