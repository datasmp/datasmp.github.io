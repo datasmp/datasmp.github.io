{
 "cells": [
  {
   "cell_type": "markdown",
   "id": "4e68494d-76ef-4888-b46d-a4d6bf6c4db3",
   "metadata": {},
   "source": [
    "# Strings Exercises"
   ]
  },
  {
   "cell_type": "markdown",
   "id": "8dbfbd47-af8e-48b2-8302-964f7bb5eaae",
   "metadata": {},
   "source": [
    "## Question-1\n",
    "\n",
    "Write a program that prompts the user for a 6-digit positive number. Find the sum of the digits of this number without using algebraic operations other then addition.\n",
    "- Example: If the given number is 123456, then the sum of digits is 1+2+3+4+5+6=21"
   ]
  },
  {
   "cell_type": "markdown",
   "id": "e0f88dae-df4b-475c-97a7-cb9a4eed6b79",
   "metadata": {},
   "source": [
    "## Question-2\n",
    "\n",
    "Write a program that prompts the user for a 4-digit positive number. Swap the first two digits of the given number with the last two digits and print it.\n",
    "- Avoid using algebraic operations and instead use string indexing.\n",
    "- Example 1: If the given number is 1234, then print 3412.\n",
    "    - Print format: 1234 ---- swap---> 3412\n",
    "- Example 2: If the given number is 6789, then print 8967.\n",
    "    - Print format: 6789 ---- swap---> 8967"
   ]
  },
  {
   "cell_type": "markdown",
   "id": "4c5d60e2-3d4b-474a-a719-c3620faa6504",
   "metadata": {},
   "source": [
    "## Question-3\n",
    "\n",
    "Use the three variables provided below to construct the string 'XFoas'\n",
    "\n",
    "```python\n",
    "x, y, z = 'fLoRida', 'tExaS', 'aRizOna'\n",
    "```"
   ]
  },
  {
   "cell_type": "markdown",
   "id": "da6c0414-af02-4fd3-89fc-f7b4301f6d5b",
   "metadata": {},
   "source": [
    "## Question-4\n",
    "Extract the height of the first player using the provided player information.\n",
    "\n",
    "If you change the variable name from player1_info to player2_info in your code, you should obtain the height of the second player.\n",
    "\n",
    "```python\n",
    "player1_info = 'robert_brown,Height:1.834cM,Weight:75.25kg'\n",
    "player2_info = 'richard_smith,heighT:1.92cm,Weight:98.65kg'\n",
    "```\n"
   ]
  },
  {
   "cell_type": "markdown",
   "id": "ec366dcc-33a4-4b81-941b-223fa9ecd38d",
   "metadata": {},
   "source": [
    "## Question-5: House\n",
    "Display the following house by using the repetition of strings.\n",
    "\n",
    "![](pict/house_star.png)\n"
   ]
  },
  {
   "cell_type": "markdown",
   "id": "29cf4fd6-4e08-4cec-83a4-5143163c1954",
   "metadata": {},
   "source": [
    "## Question-6: Password\n",
    "Write a program that generates a password consisting of one random letter, punctuation, and non-zero digit.\n",
    "- Import letters, punctuations, and digits from the string module.\n",
    "- Choose random integers that can be an index for a letter, punctuation, or digit."
   ]
  },
  {
   "cell_type": "code",
   "execution_count": null,
   "id": "de5f2c3b-ea3d-4ca2-938a-3e632a573599",
   "metadata": {},
   "outputs": [],
   "source": []
  }
 ],
 "metadata": {
  "kernelspec": {
   "display_name": "Python 3 (ipykernel)",
   "language": "python",
   "name": "python3"
  },
  "language_info": {
   "codemirror_mode": {
    "name": "ipython",
    "version": 3
   },
   "file_extension": ".py",
   "mimetype": "text/x-python",
   "name": "python",
   "nbconvert_exporter": "python",
   "pygments_lexer": "ipython3",
   "version": "3.11.7"
  }
 },
 "nbformat": 4,
 "nbformat_minor": 5
}
