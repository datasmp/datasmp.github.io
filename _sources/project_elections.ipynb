{
 "cells": [
  {
   "cell_type": "markdown",
   "id": "da6157b6-84e1-4d02-966b-b60d6c4b570a",
   "metadata": {},
   "source": [
    "# Project: Election Methods\n",
    "![Section Title: Election](title_pict/election2.png)\n",
    "Different election methods are used for various purposes, including sports awards, TV shows, and the Academy Awards. \n",
    "- Different methods might yield different winners.\n",
    "- Each election method has its own criteria and approach for determining the winner, which can lead to varying results depending on the distribution of votes and voter preferences\n",
    "- In this project, four different election methods will be covered.\n",
    "- For more details on these methods, you can refer to the first chapter of:   \n",
    "Excursions in Modern Mathematics, 10th edition  \n",
    "Published by Pearson (June 29, 2021) 2022  \n",
    "Peter Tannenbaum California State University, Fresno"
   ]
  },
  {
   "cell_type": "markdown",
   "id": "4f8f0b8b-ecc2-4a98-a37a-eaa0fff08eb5",
   "metadata": {},
   "source": [
    "## Ballots\n",
    "In an election with 4 candidates (A, B, C, D), voters used preference ballots to rank their first, second, third, and fourth choices.\n",
    "\n",
    "- There are 5 distinct preference schedules.\n",
    "- These schedules are represented as a dictionary.\n",
    "- The values in the dictionary indicate the number of ballots with each preference order.\n",
    "- For example, 4 ballots ranked 'B' as the first choice, 'D' as the second, 'C' as the third, and 'A' as the fourth."
   ]
  },
  {
   "cell_type": "code",
   "execution_count": 1,
   "id": "f55db60a-5c3c-424a-869b-d0aae0688eac",
   "metadata": {},
   "outputs": [],
   "source": [
    "result = { 'Ballot-1': (('A', 'B', 'C', 'D'), 14), \n",
    "           'Ballot-2': (('C', 'B', 'D', 'A'), 10), \n",
    "           'Ballot-3': (('D', 'C', 'B', 'A'), 8), \n",
    "           'Ballot-4': (('B', 'D', 'C', 'A'), 4), \n",
    "           'Ballot-5': (('C', 'D', 'B', 'A'), 1)   }"
   ]
  },
  {
   "cell_type": "markdown",
   "id": "b88b0fdb-32ed-48b1-88ff-8017bab0f460",
   "metadata": {},
   "source": [
    "### Cadidates\n",
    "Generate a list of the candidates in alphabetical order."
   ]
  },
  {
   "cell_type": "code",
   "execution_count": 2,
   "id": "b0810f8e-8465-43e4-8ac5-51e6a44751c6",
   "metadata": {},
   "outputs": [
    {
     "data": {
      "text/plain": [
       "['A', 'B', 'C', 'D']"
      ]
     },
     "execution_count": 2,
     "metadata": {},
     "output_type": "execute_result"
    }
   ],
   "source": [
    "candidates = list(result['Ballot-2'][0])\n",
    "candidates.sort()\n",
    "candidates"
   ]
  },
  {
   "cell_type": "markdown",
   "id": "64088c99-ee7c-4bb9-a0cb-45f391cd2d0e",
   "metadata": {},
   "source": [
    "## The Plurality Method\n",
    "The candidate who receives the most first-place votes wins."
   ]
  },
  {
   "cell_type": "markdown",
   "id": "7ff742e1-423a-45dd-b068-1521de468798",
   "metadata": {},
   "source": [
    "### First place votes \n",
    "Determine the number of first-place votes each candidate receives."
   ]
  },
  {
   "cell_type": "code",
   "execution_count": 3,
   "id": "085bd276-8cc7-497f-aa2f-0f707bb1c31a",
   "metadata": {},
   "outputs": [
    {
     "data": {
      "text/plain": [
       "{'A': 14, 'C': 11, 'D': 8, 'B': 4}"
      ]
     },
     "execution_count": 3,
     "metadata": {},
     "output_type": "execute_result"
    }
   ],
   "source": [
    "first_values = {}\n",
    "\n",
    "for value in result.values():\n",
    "    first_values[value[0][0]] = first_values.get(value[0][0], 0) + value[1]\n",
    "\n",
    "first_values    "
   ]
  },
  {
   "cell_type": "markdown",
   "id": "81723e42-c312-4924-8de9-ef1e74addd75",
   "metadata": {},
   "source": [
    "### Winner\n",
    "Identify the candidate with the most first-place votes."
   ]
  },
  {
   "cell_type": "code",
   "execution_count": 4,
   "id": "ecb1a3fe-bafc-4972-97fd-32c7cee659a0",
   "metadata": {},
   "outputs": [
    {
     "name": "stdout",
     "output_type": "stream",
     "text": [
      "Winner: A     Max Value: 14\n"
     ]
    }
   ],
   "source": [
    "winner, max_value = '', 0\n",
    "\n",
    "for i,j in first_values.items():\n",
    "    if j > max_value:\n",
    "        winner = i\n",
    "        max_value = j\n",
    "\n",
    "print(f'Winner: {winner}     Max Value: {max_value}')"
   ]
  },
  {
   "cell_type": "markdown",
   "id": "ba01604f-ac5e-4e01-8501-165283d7fa71",
   "metadata": {},
   "source": [
    "## The Borda Count Method\n",
    "In this method, each position is assigned a specific value.\n",
    "- By default, the last position is worth 1 point, the second to last is worth 2 points, and so on.\n",
    "- For example, if there are 4 candidates, the ballot ('B', 'D', 'C', 'A') assigns 4 points to 'B', 3 points to 'D', 2 points to 'C', and 1 point to 'A'.\n",
    "- The candidate with the highest total points from all ballots wins."
   ]
  },
  {
   "cell_type": "markdown",
   "id": "e572300e-b6b0-4f93-95db-e51ac7d21f3e",
   "metadata": {},
   "source": [
    "### Total Points\n",
    "Calculate the total points received by each candidate.\n",
    "- Use the default position values."
   ]
  },
  {
   "cell_type": "code",
   "execution_count": 5,
   "id": "eea119b7-6eef-4115-b0e0-3714363d1517",
   "metadata": {},
   "outputs": [
    {
     "data": {
      "text/plain": [
       "[4, 3, 2, 1]"
      ]
     },
     "execution_count": 5,
     "metadata": {},
     "output_type": "execute_result"
    }
   ],
   "source": [
    "pos_values = list(range(len(value[0]),0,-1))\n",
    "pos_values"
   ]
  },
  {
   "cell_type": "code",
   "execution_count": 6,
   "id": "4e5615a1-f946-41fa-84f3-3b3495fa598a",
   "metadata": {},
   "outputs": [
    {
     "data": {
      "text/plain": [
       "{'A': 79, 'B': 106, 'C': 104, 'D': 81}"
      ]
     },
     "execution_count": 6,
     "metadata": {},
     "output_type": "execute_result"
    }
   ],
   "source": [
    "points = {}\n",
    "\n",
    "for value in result.values():\n",
    "    for i in range(len(value[0])):\n",
    "        points[value[0][i]] =  points.get(value[0][i],0) + value[1]*pos_values[i]\n",
    "\n",
    "points"
   ]
  },
  {
   "cell_type": "markdown",
   "id": "d4eaf5d1-0d52-4fd5-9526-6e85c73d5ab9",
   "metadata": {},
   "source": [
    "### Winner\n",
    "Identify the candidate with the most points."
   ]
  },
  {
   "cell_type": "code",
   "execution_count": 7,
   "id": "de43d96f-19ba-4389-88f4-05c340792266",
   "metadata": {},
   "outputs": [
    {
     "name": "stdout",
     "output_type": "stream",
     "text": [
      "Winner: B     Max Value: 106\n"
     ]
    }
   ],
   "source": [
    "winner, max_value = '', 0\n",
    "\n",
    "for i,j in points.items():\n",
    "    if j > max_value:\n",
    "        winner = i\n",
    "        max_value = j\n",
    "\n",
    "print(f'Winner: {winner}     Max Value: {max_value}')"
   ]
  },
  {
   "cell_type": "markdown",
   "id": "a300a6a1-3569-4a34-bdec-63885e3195ce",
   "metadata": {},
   "source": [
    "## The Plurality with Elimination Method\n",
    "The candidate who receives the majority of first-place votes wins.\n",
    "- If no candidate receives a majority, the candidate with the fewest first-place votes is eliminated from the ballots.\n",
    "- First-place votes are counted again.\n",
    "- The candidate who receives the majority of first-place votes wins.\n",
    "- If no candidate receives a majority, the process of eliminating the candidate with the fewest first-place votes and recounting continues.\n",
    "- Repeat this process until a candidate receives a majority of first-place votes."
   ]
  },
  {
   "cell_type": "markdown",
   "id": "32ae179c-fb3b-4a87-ac43-481944d26237",
   "metadata": {},
   "source": [
    "### Majority\n",
    "Calculate the number of votes needed for a majority."
   ]
  },
  {
   "cell_type": "code",
   "execution_count": 8,
   "id": "1fcf483d-6de4-4e65-b127-a1458ae6a91f",
   "metadata": {},
   "outputs": [
    {
     "data": {
      "text/plain": [
       "37"
      ]
     },
     "execution_count": 8,
     "metadata": {},
     "output_type": "execute_result"
    }
   ],
   "source": [
    "# number of voters\n",
    "num_voters = sum([ value[1] for value in result.values()])\n",
    "num_voters"
   ]
  },
  {
   "cell_type": "code",
   "execution_count": 9,
   "id": "455438f5-3447-47e8-a53b-96f4e7574ee4",
   "metadata": {},
   "outputs": [
    {
     "data": {
      "text/plain": [
       "19"
      ]
     },
     "execution_count": 9,
     "metadata": {},
     "output_type": "execute_result"
    }
   ],
   "source": [
    "majority = num_voters//2+1\n",
    "majority"
   ]
  },
  {
   "cell_type": "markdown",
   "id": "8f60108f-06f3-4463-98be-a7303c0c412a",
   "metadata": {},
   "source": [
    "### Round-1\n",
    "The candidate who receives the majority of first-place votes wins."
   ]
  },
  {
   "cell_type": "code",
   "execution_count": 10,
   "id": "0d593b2b-13ce-45d7-acd0-4cd13c626ad1",
   "metadata": {},
   "outputs": [
    {
     "data": {
      "text/plain": [
       "{'A': 14, 'C': 11, 'D': 8, 'B': 4}"
      ]
     },
     "execution_count": 10,
     "metadata": {},
     "output_type": "execute_result"
    }
   ],
   "source": [
    "# first-place votes counted\n",
    "first_values = {}\n",
    "\n",
    "for value in result.values():\n",
    "    first_values[value[0][0]] = first_values.get(value[0][0], 0) + value[1]\n",
    "\n",
    "first_values "
   ]
  },
  {
   "cell_type": "code",
   "execution_count": 11,
   "id": "963a98c6-b154-4b11-b786-759e21648880",
   "metadata": {},
   "outputs": [
    {
     "name": "stdout",
     "output_type": "stream",
     "text": [
      "Winner: NA\n"
     ]
    }
   ],
   "source": [
    "# chack majority\n",
    "winner = 'NA'\n",
    "for i,j in first_values.items():\n",
    "    if j > majority:\n",
    "        winner = i\n",
    "        \n",
    "print(f'Winner: {winner}')"
   ]
  },
  {
   "cell_type": "markdown",
   "id": "044c968c-e6a9-4220-9549-15b6b92beca5",
   "metadata": {},
   "source": [
    "### Round-2\n",
    "- Since no candidate receives a majority, the candidate with the fewest first-place votes is eliminated from the ballots."
   ]
  },
  {
   "cell_type": "code",
   "execution_count": 12,
   "id": "ada7b39f-1e0d-43a0-9859-ce0aee97482a",
   "metadata": {},
   "outputs": [
    {
     "name": "stdout",
     "output_type": "stream",
     "text": [
      "Last: B     Min Value: 4\n"
     ]
    }
   ],
   "source": [
    "# determine the candidate with the fewest first-place vote\n",
    "if winner == 'NA':\n",
    "    last, min_value = '', num_voters\n",
    "\n",
    "    for i,j in first_values.items():\n",
    "        if j < min_value:\n",
    "            last = i\n",
    "            min_value = j\n",
    "\n",
    "print(f'Last: {last}     Min Value: {min_value}')   \n",
    "    "
   ]
  },
  {
   "cell_type": "code",
   "execution_count": 13,
   "id": "f3865f0f-4c10-47eb-9d71-7b0f1deb04d8",
   "metadata": {},
   "outputs": [
    {
     "data": {
      "text/plain": [
       "{'Ballot-1': (('A', 'C', 'D'), 14),\n",
       " 'Ballot-2': (('C', 'D', 'A'), 10),\n",
       " 'Ballot-3': (('D', 'C', 'A'), 8),\n",
       " 'Ballot-4': (('D', 'C', 'A'), 4),\n",
       " 'Ballot-5': (('C', 'D', 'A'), 1)}"
      ]
     },
     "execution_count": 13,
     "metadata": {},
     "output_type": "execute_result"
    }
   ],
   "source": [
    "# eliminate the candidate with the fewest first-place votes\n",
    "result2 = result.copy()\n",
    "for i, j in result2.items():\n",
    "    new_ballot = list(j[0])\n",
    "    new_ballot.remove(last)\n",
    "    result2[i] = (tuple(new_ballot), j[1])\n",
    "\n",
    "result2"
   ]
  },
  {
   "cell_type": "code",
   "execution_count": 14,
   "id": "0cabd83f-9451-4b68-a806-12fdef3b70c4",
   "metadata": {},
   "outputs": [
    {
     "data": {
      "text/plain": [
       "{'A': 14, 'C': 11, 'D': 12}"
      ]
     },
     "execution_count": 14,
     "metadata": {},
     "output_type": "execute_result"
    }
   ],
   "source": [
    "# first-place votes are counted again.\n",
    "first_values2 = {}\n",
    "\n",
    "for value in result2.values():\n",
    "    first_values2[value[0][0]] = first_values2.get(value[0][0], 0) + value[1]\n",
    "\n",
    "first_values2    "
   ]
  },
  {
   "cell_type": "code",
   "execution_count": 15,
   "id": "1592d464-12f9-47fa-8b30-384a619266d5",
   "metadata": {},
   "outputs": [
    {
     "name": "stdout",
     "output_type": "stream",
     "text": [
      "Winner: NA\n"
     ]
    }
   ],
   "source": [
    "# check majority\n",
    "winner = 'NA'\n",
    "for i,j in first_values2.items():\n",
    "    if j > majority:\n",
    "        winner = i\n",
    "        \n",
    "print(f'Winner: {winner}')"
   ]
  },
  {
   "cell_type": "markdown",
   "id": "b56d30c6-2504-4acd-bacd-c60aa57cc71a",
   "metadata": {},
   "source": [
    "### Round-3\n",
    "- Since no candidate receives a majority, the candidate with the fewest first-place votes is eliminated from the ballots."
   ]
  },
  {
   "cell_type": "code",
   "execution_count": 16,
   "id": "4a079f0c-b4cb-4eeb-a50c-f5c4e3a8b3d1",
   "metadata": {},
   "outputs": [
    {
     "name": "stdout",
     "output_type": "stream",
     "text": [
      "Last: C     Min Value: 11\n"
     ]
    }
   ],
   "source": [
    "# determine the candidate with the fewest first-place vote\n",
    "if winner == 'NA':\n",
    "    last, min_value = '', num_voters\n",
    "\n",
    "    for i,j in first_values2.items():\n",
    "        if j < min_value:\n",
    "            last = i\n",
    "            min_value = j\n",
    "\n",
    "print(f'Last: {last}     Min Value: {min_value}')   "
   ]
  },
  {
   "cell_type": "code",
   "execution_count": 17,
   "id": "947d6d80-d979-449a-930c-1c78fda70a76",
   "metadata": {},
   "outputs": [
    {
     "data": {
      "text/plain": [
       "{'Ballot-1': (('A', 'D'), 14),\n",
       " 'Ballot-2': (('D', 'A'), 10),\n",
       " 'Ballot-3': (('D', 'A'), 8),\n",
       " 'Ballot-4': (('D', 'A'), 4),\n",
       " 'Ballot-5': (('D', 'A'), 1)}"
      ]
     },
     "execution_count": 17,
     "metadata": {},
     "output_type": "execute_result"
    }
   ],
   "source": [
    "# eliminate the candidate with the fewest first-place votes\n",
    "result3 = result2.copy()\n",
    "for i, j in result3.items():\n",
    "    new_ballot = list(j[0])\n",
    "    new_ballot.remove(last)\n",
    "    result3[i] = (tuple(new_ballot), j[1])\n",
    "\n",
    "result3"
   ]
  },
  {
   "cell_type": "code",
   "execution_count": 18,
   "id": "2a11a52b-8f59-4e2f-85bf-c12d201c2d01",
   "metadata": {},
   "outputs": [
    {
     "data": {
      "text/plain": [
       "{'A': 14, 'D': 23}"
      ]
     },
     "execution_count": 18,
     "metadata": {},
     "output_type": "execute_result"
    }
   ],
   "source": [
    "# first-place votes are counted again.\n",
    "first_values3 = {}\n",
    "\n",
    "for value in result3.values():\n",
    "    first_values3[value[0][0]] = first_values3.get(value[0][0], 0) + value[1]\n",
    "\n",
    "first_values3    "
   ]
  },
  {
   "cell_type": "code",
   "execution_count": 19,
   "id": "b0dd054f-c5fe-4995-82a9-75821e0f7fda",
   "metadata": {},
   "outputs": [
    {
     "name": "stdout",
     "output_type": "stream",
     "text": [
      "Winner: D\n"
     ]
    }
   ],
   "source": [
    "# check majority\n",
    "winner = 'NA'\n",
    "for i,j in first_values3.items():\n",
    "    if j > majority:\n",
    "        winner = i\n",
    "        \n",
    "print(f'Winner: {winner}')"
   ]
  },
  {
   "cell_type": "markdown",
   "id": "d1d3f50b-3b65-4052-bea9-16b150ecac7d",
   "metadata": {},
   "source": [
    "## The Pairwise Comparision Method\n",
    "Each pair of candidates is compared pairwise.\n",
    "- For each ballot, comparisons are made between each pair of candidates.\n",
    "    - For the ballot ('C', 'D', 'B', 'A'), candidate 'B' gets the vote when compared to candidate 'A'.\n",
    "    - For the ballot ('C', 'D', 'B', 'A'), candidate 'D' gets the vote when compared to candidate 'B'.\n",
    "- The winner of each pairwise comparison receives 1 point, and the loser receives 0 points.\n",
    "- In the event of a tie, each candidate receives half a point.\n",
    "- The candidate with the most points from all pairwise comparisons wins."
   ]
  },
  {
   "cell_type": "markdown",
   "id": "0397c3b0-cbea-414a-b88e-a6f3a74072f6",
   "metadata": {},
   "source": [
    "### Combinations\n",
    "The combinations() function from the itertools module returns all possible 2-length subsequences (pairs) of elements from the candidates list."
   ]
  },
  {
   "cell_type": "code",
   "execution_count": 20,
   "id": "21928041-3fae-43d0-b732-e66dbc1b89df",
   "metadata": {},
   "outputs": [
    {
     "data": {
      "text/plain": [
       "[('A', 'B'), ('A', 'C'), ('A', 'D'), ('B', 'C'), ('B', 'D'), ('C', 'D')]"
      ]
     },
     "execution_count": 20,
     "metadata": {},
     "output_type": "execute_result"
    }
   ],
   "source": [
    "from itertools import combinations\n",
    "pairs = list(combinations(candidates, 2))\n",
    "pairs"
   ]
  },
  {
   "cell_type": "markdown",
   "id": "72abde2d-5a6a-4dc7-a580-1bec307fbecd",
   "metadata": {},
   "source": [
    "### Pairwise Comparisons"
   ]
  },
  {
   "cell_type": "code",
   "execution_count": 21,
   "id": "dad2dc95-c61c-4cc8-ba43-f77cab16e043",
   "metadata": {},
   "outputs": [
    {
     "name": "stdout",
     "output_type": "stream",
     "text": [
      "Pair: ('A', 'B')  Votes: (14, 23)\n",
      "Pair: ('A', 'C')  Votes: (14, 23)\n",
      "Pair: ('A', 'D')  Votes: (14, 23)\n",
      "Pair: ('B', 'C')  Votes: (18, 19)\n",
      "Pair: ('B', 'D')  Votes: (28, 9)\n",
      "Pair: ('C', 'D')  Votes: (25, 12)\n"
     ]
    },
    {
     "data": {
      "text/plain": [
       "{'B': 2, 'C': 3, 'D': 1}"
      ]
     },
     "execution_count": 21,
     "metadata": {},
     "output_type": "execute_result"
    }
   ],
   "source": [
    "comparison = {}\n",
    "for c1, c2 in pairs:\n",
    "    \n",
    "    vote1, vote2 = 0, 0\n",
    "    \n",
    "    for values in result.values():\n",
    "        if values[0].index(c1) < values[0].index(c2):\n",
    "            vote1 += values[1]\n",
    "        else :\n",
    "            vote2 += values[1]\n",
    "    print(f'Pair: {(c1, c2)}  Votes: {(vote1, vote2)}')\n",
    "    \n",
    "    if vote1 > vote2:\n",
    "        comparison[c1] = comparison.get(c1, 0) + 1  \n",
    "    elif vote1 < vote2:\n",
    "        comparison[c2] = comparison.get(c2, 0) + 1 \n",
    "    else:\n",
    "        comparison[c1] = comparison.get(c1, 0) + 1/2\n",
    "        comparison[c2] = comparison.get(c2, 0) + 1/2\n",
    "        \n",
    "comparison"
   ]
  },
  {
   "cell_type": "markdown",
   "id": "97275036-1405-4eaf-80ab-d864b0575e7d",
   "metadata": {},
   "source": [
    "### Winner\n",
    "Select the candidate with the highest points."
   ]
  },
  {
   "cell_type": "code",
   "execution_count": 22,
   "id": "0f4237bf-e370-4ef4-8c3e-b8ad438ca84d",
   "metadata": {},
   "outputs": [
    {
     "name": "stdout",
     "output_type": "stream",
     "text": [
      "Winner: C     Max Value: 3\n"
     ]
    }
   ],
   "source": [
    "winner, max_value = '', 0\n",
    "\n",
    "for i,j in comparison.items():\n",
    "    if j > max_value:\n",
    "        winner = i\n",
    "        max_value = j\n",
    "\n",
    "print(f'Winner: {winner}     Max Value: {max_value}')"
   ]
  },
  {
   "cell_type": "markdown",
   "id": "1e1a5208-1917-4f49-a6e9-f7e59ee5a52e",
   "metadata": {},
   "source": [
    "## Future Work\n",
    "The code in this project contains many repetitions to explain the steps in detail. \n",
    "- Rewrite the code using functions to avoid these repetitions."
   ]
  },
  {
   "cell_type": "code",
   "execution_count": null,
   "id": "3079e745-8530-4980-92c7-fb39680af805",
   "metadata": {},
   "outputs": [],
   "source": []
  }
 ],
 "metadata": {
  "kernelspec": {
   "display_name": "Python 3 (ipykernel)",
   "language": "python",
   "name": "python3"
  },
  "language_info": {
   "codemirror_mode": {
    "name": "ipython",
    "version": 3
   },
   "file_extension": ".py",
   "mimetype": "text/x-python",
   "name": "python",
   "nbconvert_exporter": "python",
   "pygments_lexer": "ipython3",
   "version": "3.11.8"
  }
 },
 "nbformat": 4,
 "nbformat_minor": 5
}
