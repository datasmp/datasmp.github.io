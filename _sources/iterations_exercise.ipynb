{
 "cells": [
  {
   "cell_type": "markdown",
   "id": "bc1e3d17-baf9-4c40-9e8b-c89c141db167",
   "metadata": {},
   "source": [
    "# Iterations Exercises \n",
    "![Section Title: Iterations Exercises](title_pict/iterations_exercises2.png)\n"
   ]
  },
  {
   "cell_type": "markdown",
   "id": "cfdfca4c-af35-42a7-94f8-f535b444d0d4",
   "metadata": {},
   "source": [
    "## Warm Up Question\n",
    "Determine the output of the code below:\n",
    "``` python\n",
    "print(list(range(5)))\n",
    "print(list(range(3,8)))\n",
    "print(list(range(5, 43, 10)))"
   ]
  },
  {
   "cell_type": "markdown",
   "id": "cfdb8ed7-da7d-48b4-9bbf-16c99b822507",
   "metadata": {},
   "source": [
    "## Warm Up Question\n",
    "Write a program that displays the following list of numbers using a *range()* function.\n",
    "$ [3, 7, 11, 15, 19]$"
   ]
  },
  {
   "cell_type": "markdown",
   "id": "08b20e47-6dff-4920-9d91-c55038c38057",
   "metadata": {},
   "source": [
    "## Warm Up Question\n",
    "Determine the output of the code below:\n",
    "``` python\n",
    "for i in range(3):\n",
    "    print(2*i)"
   ]
  },
  {
   "cell_type": "markdown",
   "id": "4f2293f1-8867-46a5-a752-ead862c3603d",
   "metadata": {},
   "source": [
    "## Warm Up Question\n",
    "Determine the output of the code below:\n",
    "``` python\n",
    "n = 5 \n",
    "while n <= 8:\n",
    "    print(2*n)\n",
    "    n += 1"
   ]
  },
  {
   "cell_type": "markdown",
   "id": "1e6ab64d-89b9-4715-b1ee-0effd6135027",
   "metadata": {},
   "source": [
    "## Warm Up Question\n",
    "Write a program that calculates the sum of the first 50 positive integers."
   ]
  },
  {
   "cell_type": "markdown",
   "id": "6889da5d-d39a-4dad-9867-3085be7dfcd8",
   "metadata": {},
   "source": [
    "## Warm Up Question\n",
    "Determine the output of the code below:\n",
    "``` python\n",
    "n = 5\n",
    "\n",
    "while True:\n",
    "    print(n)\n",
    "    n += 2\n",
    "    if n > 9:\n",
    "        break"
   ]
  },
  {
   "cell_type": "markdown",
   "id": "e3538c45-0c1d-4cc5-9184-8506051d91b0",
   "metadata": {},
   "source": [
    "## Question-1\n",
    "Print the letters with negative even indexes (-2, -4, ...) from the given text using:\n",
    "- a for loop\n",
    "- a while loop\n",
    "- slicing with a step. (use join method())\n",
    "\n",
    "```python\n",
    "text = 'abcdefghijklmnopqrstuvwxyzABCDEFGHIJKLMNOPQRSTUVWXYZ'  \n",
    "```\n",
    "\n",
    "Print the letters in a  single line and comma separated.\n",
    "\n",
    "**Sample Output:**  \n",
    "text      : abcdefghijklmnopqrstuvwxyzABCDEFGHIJKLMNOPQRSTUVWXYZ  \n",
    "for loop  : Y,W,U,S,Q,O,M,K,I,G,E,C,A,y,w,u,s,q,o,m,k,i,g,e,c,a  \n",
    "while loop: Y,W,U,S,Q,O,M,K,I,G,E,C,A,y,w,u,s,q,o,m,k,i,g,e,c,a  \n",
    "slicing   : Y,W,U,S,Q,O,M,K,I,G,E,C,A,y,w,u,s,q,o,m,k,i,g,e,c,a  \n"
   ]
  },
  {
   "cell_type": "markdown",
   "id": "906a00c2-b008-4722-b516-5a0b2344efd8",
   "metadata": {},
   "source": [
    "## Question-2\n",
    "\n",
    "Find the sum of the first $100$ terms of the following sequence:\n",
    "\n",
    "$\\displaystyle \\frac{1}{1^3+1^2}, \\frac{1}{2^3+2^2}, \\frac{1}{3^3+3^2}, \\frac{1}{4^3+4^2}, ...$\n",
    "\n",
    "- Use a for loop.\n",
    "- Use a while loop.\n"
   ]
  },
  {
   "cell_type": "markdown",
   "id": "1471eccd-24b0-4884-9a8e-0b53a6935241",
   "metadata": {},
   "source": [
    "## Question-3\n",
    "Ask the user to input a name and then insert a random punctuation mark between each character of the name.\n",
    "- Ensure that the output does not have a punctuation mark at the end.\n",
    "  \n",
    "**Sample Output**  \n",
    "Please enter a name    : ashley  \n",
    "Randomly generated name: a&s#h\"l#e\"y  \n"
   ]
  },
  {
   "cell_type": "markdown",
   "id": "a8357f6a-4e0f-4d8a-b5f5-ad549c5a6c08",
   "metadata": {},
   "source": [
    "## Question-4\n",
    "Ask the user to input a number and print the consecutive pairs of digits within this number.\n",
    "- Example: The consecutive digits in 156319672 are 56 and 67.\n",
    "\n",
    "**Sample Output**    \n",
    "Please enter a number: 156319672  \n",
    "Consecutive pairs are: 56,67   \n"
   ]
  },
  {
   "cell_type": "markdown",
   "id": "266f3787-23d7-41f2-b3a4-41966abf5ace",
   "metadata": {},
   "source": [
    "## Question-5: Secret Number Game\n",
    "This is another version of the Guess the Secret Number Game.\n",
    "- The user selects a secret 3-digit number.\n",
    "- The computer randomly selects a 3-digit number to find the secret number.\n",
    "- You can use random.randint or numpy.randint.\n",
    "- Count the number of attempts by the computer.\n",
    "- If the computer can find the secret number in fewer than 100 attempts, it wins; otherwise, it loses the game.\n",
    "- After each attempt, print the computer's guess.\n",
    "- After each attempt, provide a hint to the computer whether the secret number is larger or smaller than the guess.\n",
    "The computer makes the next guess based on the hint\n",
    "\n",
    "**Sample Output**  \n",
    "Choose a 3 digit secret number:  123  \n",
    "Try Number: 0  Guess: 654 is LARGE. Try Again!  \n",
    "Try Number: 1  Guess: 638 is LARGE. Try Again!  \n",
    "Try Number: 2  Guess: 467 is LARGE. Try Again!  \n",
    "COMPUTER WINS!  \n",
    "Number of tries: 3  "
   ]
  },
  {
   "cell_type": "markdown",
   "id": "a8cafecd-71e6-4b1e-a79e-045f4a681508",
   "metadata": {},
   "source": [
    "## Question-6: Scatter Plot\n",
    "Use a for loop to randomly select 100 points on a coordinate plane and plot them individually as a scatter plot. \n",
    "For each point:\n",
    "- The x and y coordinates are randomly chosen between 0 and 1.\n",
    "- The size of the point is a random number between 10 and 500.\n",
    "- The color is chosen from the characters of he following string: *color_str = 'rgbky'*.\n",
    "    - 'r' represents red, 'g' represents green,'b' represents blue, 'k' represents black,'y' represents yellow\n",
    "- The transparancey is represented by a random number between 0 and 1.\n",
    " \n",
    "Refer to the scatterplot section in Appendix: Visualization for implementation guidance."
   ]
  },
  {
   "cell_type": "markdown",
   "id": "228ecb4f-0eb7-481a-b0dc-7a31cc95744b",
   "metadata": {},
   "source": [
    "## Question-7: Empirical Probability\n",
    "Flip a coin 100 times and count the number of heads.\n",
    "- Use the string 'TH' to randomly select either 'T' (tail) or 'H' (head).\n",
    "    - Randomly choose 0 or 1 as the index of the character that will be selected randomly."
   ]
  },
  {
   "cell_type": "markdown",
   "id": "0dd12738-79ce-4408-ba87-d910112ae6f8",
   "metadata": {},
   "source": [
    "## Question-8: Rotating Stick\n",
    "Use a for loop and the sleep method from the time library to sequentially display the rotation of '\\', '--', and '/' characters 20 times.\n",
    "- Add a waiting time between each character to simulate the rotation of a stick.\n",
    "- Ensure that after printing each character, it is deleted before the next one is printed to maintain the rotating effect."
   ]
  },
  {
   "cell_type": "markdown",
   "id": "ecc044a8-f4ce-4174-bf71-622051b953ec",
   "metadata": {},
   "source": [
    "## Question-9: Counter\n",
    "Use a for loop and the sleep method from the time library to display a counter counting from 0 to 999. \n",
    "- Ensure that one-digit numbers have two zeros added to the left, and two-digit numbers have one zero added to the left.\n",
    "- After printing each number, delete it before the next one is printed to maintain the rotating effect.\n",
    "- Numbers: 001, 002,...,010,011,...,999"
   ]
  },
  {
   "cell_type": "markdown",
   "id": "ff0218c2-6fc9-46af-854e-9dcf523fd195",
   "metadata": {},
   "source": [
    "## Business Applications"
   ]
  },
  {
   "cell_type": "markdown",
   "id": "7751dc82-483e-4375-b806-25e22e769160",
   "metadata": {},
   "source": [
    "### Question: Max of Revenue\n",
    "*Revenue (R) is the product of the number (n) of items sold  and the price (p) of the item.*\n",
    "- $R = p\\cdot n$\n",
    "  \n",
    "The number of item sold is given by the following equation: $n = -1.5p+30$\n",
    "\n",
    "Write a program which finds the $p$ which maximize the revenue for $0\\le p \\le 20$\n",
    "- Plot the graph of revenue for $0\\le p \\le 20$"
   ]
  },
  {
   "cell_type": "markdown",
   "id": "76f05b3f-b51d-4796-b5da-c8023347a7ff",
   "metadata": {},
   "source": [
    "### Question: Profit\n",
    "*Profit (P) is the difference between Revenue and Cost*\n",
    "- $Profit = Revenue - Cost$\n",
    "\n",
    "The monthly fixed cost of a cable factory is 1500 dollars. Each cable costs 13 dollars and sells for 25 dollars.\n",
    "- Find the profit of producing 400 cables.\n",
    "- For what number of cables produced profit is zero.\n",
    "    - Hint: Calculate the profit for $n$ between 1 and 400."
   ]
  },
  {
   "cell_type": "markdown",
   "id": "00854bec-7e39-48af-8df4-2e93cb8c20ca",
   "metadata": {},
   "source": [
    "### Question: Linear Depreciation\n",
    "The value of a new machine is $100,000$ dollars and its values is depreciated by $7500$ dollars per year. After how many years the value of the machine will be 2,500 dollars.\n",
    "- Hint: Calculate the value for years between 1 and 100."
   ]
  },
  {
   "cell_type": "markdown",
   "id": "0dd0afb9-e549-49ab-948e-5b4e2d19f61f",
   "metadata": {},
   "source": [
    "### Question: Equilibrium Point\n",
    "*An equilibrium point is where the demand and supply curves intersect.*\n",
    "\n",
    "For the given demand and the supply functions find the equilibrium point.\n",
    "\n",
    "Demand: $p(q) = -0.03q + 1000$\n",
    "\n",
    "Supply: $p(q) = 0.02q + 400$\n",
    "\n",
    "- Hint: Calculate the demand and supply for $q$ between 1 and 20,000."
   ]
  },
  {
   "cell_type": "markdown",
   "id": "d2e0d46b-50c7-48c8-a12a-27f3336fa5f1",
   "metadata": {},
   "source": [
    "### Question: Linear Programming\n",
    "*Linear programming involves finding the highest or lowest possible outcome of a linear function, while satisfying specific constraints.*\n",
    "\n",
    "The store sells three items labeled (a, b, c) priced at 2, 3, and 4 dollars respectively. The following conditions are known:\n",
    "- The store can sell up to 100 units of each item.\n",
    "- The combined sales of items b and c exceed 90 units.\n",
    "- The total sales of items a and b do not surpass 50 units.\n",
    "- The sales of items a and c are more than 80 units.\n",
    "\n",
    "What is the highest revenue achievable, and at what quantities of items is this maximum revenue attained?\n",
    " "
   ]
  },
  {
   "cell_type": "markdown",
   "id": "2d111d7e-5a9f-4685-896d-c93b623c3035",
   "metadata": {},
   "source": [
    "### Question: Home Mortgage\n",
    "\n",
    "Amortization is paying off a loan by making equal payments.\n",
    "\n",
    "The present value of an amortized loan is given by the following formula: $\\displaystyle  P = R \\left( \\frac{1-(1+\\frac{r}{m})^{-mt}}{\\frac{r}{m}}  \\right)$ where,\n",
    "\n",
    "- $P$: Present value\n",
    "- $R$: regular payment\n",
    "- $r$: annual interest rate\n",
    "- $m$: number of payments in a year\n",
    "- $t$: number of years\n",
    "\n",
    "If you take out an 449,000 dollars loan to buy a house with an annual interest rate of 2.75%, to be paid off over 30 years, what is the monthly payment?\n",
    "- Sketch the graph of monthly payments for annual interest rates of 2%, 3%, 4%, 5%, 6%, 7%, 8%, 9%, and 10%.\n",
    "\n",
    "Hint:\n",
    "- Use the variables $P, r, m, t$  for the given values.\n",
    "- Calculate the value of the variable $R$."
   ]
  },
  {
   "cell_type": "markdown",
   "id": "5a6a0394-4072-473f-9828-4996e38e46be",
   "metadata": {},
   "source": [
    "### Question: Amortization Schedule-1\n",
    "If you take out a 449,000 dollars loan to buy a house with an annual interest rate of 2.75%, to be paid off over 30 years with a monthly payment of $1,833, construct an amortization schedule for the first 5 payments.\n",
    "\n",
    "For each month, a fixed monthly payment is deducted from the balance. \n",
    "Additionally, simple interest is added to the loan based on that month's remaining balance.\n",
    "\n",
    "Hint:\n",
    "- Use the variables $P, r, m, t, R$  for the given values.\n",
    "- Calculate the monthly simple interest for each monthly balance."
   ]
  },
  {
   "cell_type": "markdown",
   "id": "f239b04b-a545-4338-98fc-6c957adbcded",
   "metadata": {},
   "source": [
    "### Question: Amortization Schedule-2\n",
    "If you take out a 449,000 dollars loan to buy a house with an annual interest rate of 2.75%, to be paid off over 30 years with a monthly payment of 1,833 dollars, construct an amortization schedule for the last 5 payments.\n",
    "\n",
    "For each month, a fixed monthly payment is deducted from the balance. Additionally, simple interest is added to the loan based on that month's remaining balance."
   ]
  },
  {
   "cell_type": "code",
   "execution_count": null,
   "id": "2c6fd9bc-9522-4a0f-8b1e-89d1c8b4cff9",
   "metadata": {},
   "outputs": [],
   "source": []
  }
 ],
 "metadata": {
  "kernelspec": {
   "display_name": "Python 3 (ipykernel)",
   "language": "python",
   "name": "python3"
  },
  "language_info": {
   "codemirror_mode": {
    "name": "ipython",
    "version": 3
   },
   "file_extension": ".py",
   "mimetype": "text/x-python",
   "name": "python",
   "nbconvert_exporter": "python",
   "pygments_lexer": "ipython3",
   "version": "3.11.8"
  }
 },
 "nbformat": 4,
 "nbformat_minor": 5
}
