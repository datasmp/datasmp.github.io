{
 "cells": [
  {
   "cell_type": "markdown",
   "id": "bc1e3d17-baf9-4c40-9e8b-c89c141db167",
   "metadata": {},
   "source": [
    "# Iterations Exercises "
   ]
  },
  {
   "cell_type": "markdown",
   "id": "e3538c45-0c1d-4cc5-9184-8506051d91b0",
   "metadata": {},
   "source": [
    "## Question-1\n",
    "Print the letters with negative even indexes (-2, -4, ...) from the given text using:\n",
    "- a for loop\n",
    "- a while loop\n",
    "- slicing with a step. (use join method())\n",
    "\n",
    "Print the letters in a  single single line and comma separated.\n",
    "\n",
    "**Sample Output:**  \n",
    "text      : abcdefghijklmnopqrstuvwxyzABCDEFGHIJKLMNOPQRSTUVWXYZ  \n",
    "for loop  : Y,W,U,S,Q,O,M,K,I,G,E,C,A,y,w,u,s,q,o,m,k,i,g,e,c,a  \n",
    "while loop: Y,W,U,S,Q,O,M,K,I,G,E,C,A,y,w,u,s,q,o,m,k,i,g,e,c,a  \n",
    "slicing   : Y,W,U,S,Q,O,M,K,I,G,E,C,A,y,w,u,s,q,o,m,k,i,g,e,c,a  \n"
   ]
  },
  {
   "cell_type": "markdown",
   "id": "906a00c2-b008-4722-b516-5a0b2344efd8",
   "metadata": {},
   "source": [
    "## Question-2\n",
    "\n",
    "Find the sum of the first $100$ terms of the following sequence:\n",
    "\n",
    "$\\displaystyle \\frac{1}{1^3+1^2}, \\frac{1}{2^3+2^2}, \\frac{1}{3^3+3^2}, \\frac{1}{4^3+4^2}, ...$\n",
    "\n",
    "- Use a for loop.\n",
    "- Use a while loop.\n"
   ]
  },
  {
   "cell_type": "markdown",
   "id": "266f3787-23d7-41f2-b3a4-41966abf5ace",
   "metadata": {},
   "source": [
    "## Question-3\n",
    "This is another version of the Guess the Secret Number Game.\n",
    "- The user selects a secret 3-digit number.\n",
    "- The computer randomly selects a 3-digit number to find the secret number.\n",
    "- You can use random.randint or numpy.randint.\n",
    "- Count the number of attempts by the computer.\n",
    "- If the computer can find the secret number in fewer than 100 attempts, it wins; otherwise, it loses the game.\n",
    "- After each attempt, print the computer's guess.\n",
    "- After each attempt, provide a hint to the computer whether the secret number is larger or smaller than the guess.\n",
    "The computer makes the next guess based on the hint\n",
    "\n",
    "**Sample Output**  \n",
    "Choose a 3 digit secret number:  123  \n",
    "Try Number: 0  Guess: 654 is LARGE. Try Again!  \n",
    "Try Number: 1  Guess: 638 is LARGE. Try Again!  \n",
    "Try Number: 2  Guess: 467 is LARGE. Try Again!  \n",
    "COMPUTER WINS!  \n",
    "Number of tries: 3  "
   ]
  },
  {
   "cell_type": "markdown",
   "id": "a3859d52-01bf-4897-8258-bd13dac7fdfc",
   "metadata": {},
   "source": [
    "## Question-4\n",
    "Ask the user to input a name and then insert a random punctuation mark between each character of the name.\n",
    "- Ensure that the output does not have a punctuation mark at the end.\n",
    "  \n",
    "**Sample Output**  \n",
    "Please enter a name    : ashley  \n",
    "Randomly generated name: a&s#h\"l#e\"y  \n"
   ]
  },
  {
   "cell_type": "markdown",
   "id": "fefba70a-dce5-4461-8394-7bd6442f98d6",
   "metadata": {},
   "source": [
    "## Question-5\n",
    "Ask the user to input a number and print the consecutive pairs of digits within this number.\n",
    "- Example: The consecutive digits in 156319672 are 56 and 67.\n",
    "\n",
    "**Sample Output**    \n",
    "Please enter a number: 156319672  \n",
    "Consecutive pairs are: 56,67   \n"
   ]
  },
  {
   "cell_type": "code",
   "execution_count": null,
   "id": "672acf17-26bf-48c3-b841-b9de85e66226",
   "metadata": {},
   "outputs": [],
   "source": []
  }
 ],
 "metadata": {
  "kernelspec": {
   "display_name": "Python 3 (ipykernel)",
   "language": "python",
   "name": "python3"
  },
  "language_info": {
   "codemirror_mode": {
    "name": "ipython",
    "version": 3
   },
   "file_extension": ".py",
   "mimetype": "text/x-python",
   "name": "python",
   "nbconvert_exporter": "python",
   "pygments_lexer": "ipython3",
   "version": "3.11.7"
  }
 },
 "nbformat": 4,
 "nbformat_minor": 5
}
