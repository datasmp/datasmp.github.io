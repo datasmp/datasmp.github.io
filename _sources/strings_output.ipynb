{
 "cells": [
  {
   "cell_type": "markdown",
   "id": "13e18a7d",
   "metadata": {},
   "source": [
    "# Strings Output\n",
    "- Find the output of the following code. \n",
    "- Please don't run the code before giving your answer. &emsp;&emsp;&emsp;&emsp;"
   ]
  },
  {
   "cell_type": "markdown",
   "id": "03fc8d4d",
   "metadata": {},
   "source": [
    "## Question\n"
   ]
  },
  {
   "cell_type": "code",
   "execution_count": 1,
   "id": "676b8223",
   "metadata": {
    "tags": [
     "hide-output"
    ]
   },
   "outputs": [
    {
     "name": "stdout",
     "output_type": "stream",
     "text": [
      "MichaelJordan\n"
     ]
    }
   ],
   "source": [
    "print('Michael'+'Jordan')"
   ]
  },
  {
   "cell_type": "markdown",
   "id": "c1aef79d",
   "metadata": {},
   "source": [
    "## Question\n"
   ]
  },
  {
   "cell_type": "code",
   "execution_count": 2,
   "id": "166f0c20",
   "metadata": {
    "tags": [
     "hide-output"
    ]
   },
   "outputs": [
    {
     "name": "stdout",
     "output_type": "stream",
     "text": [
      "Michael Jordan\n"
     ]
    }
   ],
   "source": [
    "print('Michael '+'Jordan')"
   ]
  },
  {
   "cell_type": "markdown",
   "id": "1bc72fed",
   "metadata": {},
   "source": [
    "## Question\n"
   ]
  },
  {
   "cell_type": "code",
   "execution_count": 3,
   "id": "21b9956f",
   "metadata": {
    "tags": [
     "hide-output"
    ]
   },
   "outputs": [
    {
     "name": "stdout",
     "output_type": "stream",
     "text": [
      "Michael\tJordan\n"
     ]
    }
   ],
   "source": [
    "print('Michael\\tJordan')"
   ]
  },
  {
   "cell_type": "markdown",
   "id": "d0e75b17",
   "metadata": {},
   "source": [
    "## Question\n"
   ]
  },
  {
   "cell_type": "code",
   "execution_count": 4,
   "id": "5ecaf019",
   "metadata": {
    "tags": [
     "hide-output"
    ]
   },
   "outputs": [
    {
     "name": "stdout",
     "output_type": "stream",
     "text": [
      "Michael\n",
      "Jordan\n"
     ]
    }
   ],
   "source": [
    "print('Michael\\nJordan')"
   ]
  },
  {
   "cell_type": "markdown",
   "id": "f69a9cd1-3b07-4d29-af2e-e6b2fc5a32d1",
   "metadata": {},
   "source": [
    "## Question\n"
   ]
  },
  {
   "cell_type": "code",
   "execution_count": 20,
   "id": "8893982b-1a33-4946-b811-f2807e754b13",
   "metadata": {
    "tags": [
     "hide-output"
    ]
   },
   "outputs": [
    {
     "name": "stdout",
     "output_type": "stream",
     "text": [
      "MichaeJordan\n"
     ]
    }
   ],
   "source": [
    "print('Michael\\bJordan')"
   ]
  },
  {
   "cell_type": "markdown",
   "id": "cace03a5-f754-4ada-b999-54235cc7ffd0",
   "metadata": {},
   "source": [
    "## Question\n"
   ]
  },
  {
   "cell_type": "code",
   "execution_count": 21,
   "id": "75c23741-8b41-4c9a-a257-50f45c5e2c4d",
   "metadata": {
    "tags": [
     "hide-output"
    ]
   },
   "outputs": [
    {
     "name": "stdout",
     "output_type": "stream",
     "text": [
      "MichaJordan\n"
     ]
    }
   ],
   "source": [
    "print('Michael\\b\\bJordan')"
   ]
  },
  {
   "cell_type": "markdown",
   "id": "682031c3-cfc4-48a9-9f8a-9f5bce5f8890",
   "metadata": {},
   "source": [
    "## Question\n"
   ]
  },
  {
   "cell_type": "code",
   "execution_count": 31,
   "id": "cdcb44e3-214c-44c4-9c9e-970a60f8a65d",
   "metadata": {
    "tags": [
     "hide-output"
    ]
   },
   "outputs": [
    {
     "name": "stdout",
     "output_type": "stream",
     "text": [
      "Jordanl\n"
     ]
    }
   ],
   "source": [
    "print('Michael\\rJordan')"
   ]
  },
  {
   "cell_type": "markdown",
   "id": "08e1e1ce",
   "metadata": {},
   "source": [
    "## Question\n"
   ]
  },
  {
   "cell_type": "code",
   "execution_count": 5,
   "id": "5f53bfff",
   "metadata": {
    "tags": [
     "hide-output"
    ]
   },
   "outputs": [
    {
     "name": "stdout",
     "output_type": "stream",
     "text": [
      "Michael's car.\n"
     ]
    }
   ],
   "source": [
    "print('Michael\\'s car.')"
   ]
  },
  {
   "cell_type": "markdown",
   "id": "6c41682c",
   "metadata": {},
   "source": [
    "## Question\n"
   ]
  },
  {
   "cell_type": "code",
   "execution_count": 6,
   "id": "f2df1610",
   "metadata": {
    "tags": [
     "hide-output"
    ]
   },
   "outputs": [
    {
     "name": "stdout",
     "output_type": "stream",
     "text": [
      "Michael\\'s \\n car.\n"
     ]
    }
   ],
   "source": [
    "print(r'Michael\\'s \\n car.')"
   ]
  },
  {
   "cell_type": "markdown",
   "id": "68dab687",
   "metadata": {},
   "source": [
    "## Question\n"
   ]
  },
  {
   "cell_type": "code",
   "execution_count": 7,
   "id": "ccb951b3",
   "metadata": {
    "tags": [
     "hide-output"
    ]
   },
   "outputs": [
    {
     "data": {
      "text/plain": [
       "12"
      ]
     },
     "execution_count": 7,
     "metadata": {},
     "output_type": "execute_result"
    }
   ],
   "source": [
    "text = 'Hello World.'\n",
    "len(text)"
   ]
  },
  {
   "cell_type": "markdown",
   "id": "a23ddf68",
   "metadata": {},
   "source": [
    "## Question\n"
   ]
  },
  {
   "cell_type": "code",
   "execution_count": 8,
   "id": "02eae033",
   "metadata": {
    "tags": [
     "hide-output"
    ]
   },
   "outputs": [
    {
     "name": "stdout",
     "output_type": "stream",
     "text": [
      "abcdefg\n",
      "abcd\n",
      "defg\n",
      "cd\n",
      "de\n"
     ]
    }
   ],
   "source": [
    "x = 'abcdefg'\n",
    "\n",
    "print(x[:])\n",
    "print(x[:-3])\n",
    "print(x[-4:])\n",
    "print(x[2:4])\n",
    "print(x[-4:-2])"
   ]
  },
  {
   "cell_type": "markdown",
   "id": "3cff10a4",
   "metadata": {},
   "source": [
    "## Question\n"
   ]
  },
  {
   "cell_type": "code",
   "execution_count": 9,
   "id": "c4bb44b8",
   "metadata": {
    "tags": [
     "hide-output"
    ]
   },
   "outputs": [
    {
     "name": "stdout",
     "output_type": "stream",
     "text": [
      "My name is (name)\n"
     ]
    }
   ],
   "source": [
    "name = 'Michael'\n",
    "print(f'My name is (name)')"
   ]
  },
  {
   "cell_type": "markdown",
   "id": "59a127e6-db84-4405-9afe-b0fcc7545fad",
   "metadata": {},
   "source": [
    "## Question\n"
   ]
  },
  {
   "cell_type": "code",
   "execution_count": 32,
   "id": "5760df71-c6ed-4c9e-b540-83c491eebee2",
   "metadata": {
    "tags": [
     "hide-output"
    ]
   },
   "outputs": [
    {
     "name": "stdout",
     "output_type": "stream",
     "text": [
      "My name is George. I earn $2000 per month.\n"
     ]
    }
   ],
   "source": [
    "name = 'George'\n",
    "salary = 2000\n",
    "\n",
    "print(f'My name is {name}. I earn ${salary} per month.')"
   ]
  },
  {
   "cell_type": "markdown",
   "id": "ec108967-f356-4f6a-a76f-52dd596db8a7",
   "metadata": {},
   "source": [
    "## Question\n"
   ]
  },
  {
   "cell_type": "code",
   "execution_count": 11,
   "id": "7c87516a-2108-4a4e-a800-a1b42304839c",
   "metadata": {
    "tags": [
     "hide-output"
    ]
   },
   "outputs": [
    {
     "name": "stdout",
     "output_type": "stream",
     "text": [
      "4\n",
      "-1\n",
      "9\n"
     ]
    }
   ],
   "source": [
    "x = 'california'\n",
    "\n",
    "print(x.find('f'))\n",
    "print(x.find('A'))\n",
    "print(x.find('a', 4))"
   ]
  },
  {
   "cell_type": "markdown",
   "id": "1cea6145-34f1-4048-912a-fac8799e880f",
   "metadata": {},
   "source": [
    "## Question\n"
   ]
  },
  {
   "cell_type": "code",
   "execution_count": 12,
   "id": "d59cec1b-2b9b-4882-8d60-1f3a821c3b6e",
   "metadata": {
    "tags": [
     "hide-output"
    ]
   },
   "outputs": [
    {
     "name": "stdout",
     "output_type": "stream",
     "text": [
      "utahutahutah\n"
     ]
    }
   ],
   "source": [
    "state = 'utah'\n",
    "print(3*'utah')"
   ]
  },
  {
   "cell_type": "markdown",
   "id": "78f67003-93f8-4684-a28b-b7b961602227",
   "metadata": {},
   "source": [
    "## Question\n"
   ]
  },
  {
   "cell_type": "code",
   "execution_count": 13,
   "id": "30e75fd9-8e0f-4d60-84a0-89d8a53a0e2a",
   "metadata": {
    "tags": [
     "hide-output"
    ]
   },
   "outputs": [
    {
     "name": "stdout",
     "output_type": "stream",
     "text": [
      "MICHAEL JORDAN\n",
      "michael jordan\n",
      "Michael jordan\n",
      "Michael Jordan\n"
     ]
    }
   ],
   "source": [
    "name = 'MicHaeL jORDan'\n",
    "\n",
    "print(name.upper())\n",
    "print(name.lower())\n",
    "print(name.capitalize())\n",
    "print(name.title())"
   ]
  },
  {
   "cell_type": "markdown",
   "id": "016c6268-7e59-4582-80ab-a62383f699fc",
   "metadata": {},
   "source": [
    "## Question\n"
   ]
  },
  {
   "cell_type": "code",
   "execution_count": 35,
   "id": "eca066b5-cc26-4f91-af97-fbeffc88cd7d",
   "metadata": {
    "tags": [
     "hide-output"
    ]
   },
   "outputs": [
    {
     "name": "stdout",
     "output_type": "stream",
     "text": [
      "2\n",
      "1\n",
      "4\n",
      "6\n",
      "-1\n"
     ]
    }
   ],
   "source": [
    "country = 'Morocco'\n",
    "\n",
    "print(country.find('r'))\n",
    "print(country.find('o'))\n",
    "print(country.find('c'))\n",
    "print(country.find('o',4))\n",
    "print(country.find('t'))"
   ]
  },
  {
   "cell_type": "markdown",
   "id": "2dc75ee6-515e-41af-8b70-3ab58d8e43e4",
   "metadata": {},
   "source": [
    "## Question\n"
   ]
  },
  {
   "cell_type": "code",
   "execution_count": 15,
   "id": "3f3e9dbf-1b13-4d3e-bae7-2628f61977fa",
   "metadata": {
    "tags": [
     "hide-output"
    ]
   },
   "outputs": [
    {
     "name": "stdout",
     "output_type": "stream",
     "text": [
      "Liz\n"
     ]
    }
   ],
   "source": [
    "name = '   Liz   '\n",
    "print(name.strip())"
   ]
  },
  {
   "cell_type": "markdown",
   "id": "93a3a6f8-f1f2-4756-a9ae-d3e5486ed239",
   "metadata": {},
   "source": [
    "## Question\n"
   ]
  },
  {
   "cell_type": "code",
   "execution_count": 34,
   "id": "17e679c0-f84e-4772-83e2-d2bdbe372692",
   "metadata": {
    "tags": [
     "hide-output"
    ]
   },
   "outputs": [
    {
     "name": "stdout",
     "output_type": "stream",
     "text": [
      "Liz   T\n"
     ]
    }
   ],
   "source": [
    "name = '   Liz   '\n",
    "print(name.lstrip()+'T')"
   ]
  },
  {
   "cell_type": "markdown",
   "id": "594dff89-df6c-4066-be65-49330aafbf57",
   "metadata": {},
   "source": [
    "## Question\n"
   ]
  },
  {
   "cell_type": "code",
   "execution_count": 16,
   "id": "9880b317-f668-444b-808c-de9818470868",
   "metadata": {
    "scrolled": true,
    "tags": [
     "hide-output"
    ]
   },
   "outputs": [
    {
     "data": {
      "text/plain": [
       "False"
      ]
     },
     "execution_count": 16,
     "metadata": {},
     "output_type": "execute_result"
    }
   ],
   "source": [
    "name = 'ryan'\n",
    "name.startswith('R')"
   ]
  },
  {
   "cell_type": "markdown",
   "id": "a8e0b9d9-c7c9-4fe0-a8c0-3bf0c4353e68",
   "metadata": {},
   "source": [
    "## Question\n"
   ]
  },
  {
   "cell_type": "code",
   "execution_count": 17,
   "id": "860d43d1-c5c7-4f74-88dd-5670f7750998",
   "metadata": {
    "tags": [
     "hide-output"
    ]
   },
   "outputs": [
    {
     "name": "stdout",
     "output_type": "stream",
     "text": [
      "=ab\n"
     ]
    }
   ],
   "source": [
    "word = 'ab,cde=abc,de'\n",
    "\n",
    "index1 = word.find('f')\n",
    "index2 = word.find('=')\n",
    "index3 = word.find(',',index2)\n",
    "\n",
    "print(word[index2:index3+index1])"
   ]
  },
  {
   "cell_type": "markdown",
   "id": "f673c71b-cb54-4814-9998-8be2205c61ba",
   "metadata": {},
   "source": [
    "## Question\n"
   ]
  },
  {
   "cell_type": "code",
   "execution_count": 18,
   "id": "1d888e95-333b-417c-aaab-3913283e2483",
   "metadata": {
    "tags": [
     "hide-output"
    ]
   },
   "outputs": [
    {
     "name": "stdout",
     "output_type": "stream",
     "text": [
      "aDIR_lr\n",
      "lraDIR\n"
     ]
    }
   ],
   "source": [
    "state = 'Florida'\n",
    "\n",
    "x = state[1:4:2].upper().lower()\n",
    "y = state[-1:-5:-1].capitalize().swapcase()\n",
    "\n",
    "print(y+'_'+x)\n",
    "print(x+y)"
   ]
  },
  {
   "cell_type": "code",
   "execution_count": null,
   "id": "2755af46-bd1d-4937-922e-d9b8e054bd13",
   "metadata": {},
   "outputs": [],
   "source": []
  }
 ],
 "metadata": {
  "celltoolbar": "Tags",
  "hide_input": false,
  "kernelspec": {
   "display_name": "Python 3 (ipykernel)",
   "language": "python",
   "name": "python3"
  },
  "language_info": {
   "codemirror_mode": {
    "name": "ipython",
    "version": 3
   },
   "file_extension": ".py",
   "mimetype": "text/x-python",
   "name": "python",
   "nbconvert_exporter": "python",
   "pygments_lexer": "ipython3",
   "version": "3.11.7"
  },
  "toc": {
   "base_numbering": 1,
   "nav_menu": {},
   "number_sections": true,
   "sideBar": true,
   "skip_h1_title": false,
   "title_cell": "Table of Contents",
   "title_sidebar": "Contents",
   "toc_cell": false,
   "toc_position": {},
   "toc_section_display": true,
   "toc_window_display": false
  }
 },
 "nbformat": 4,
 "nbformat_minor": 5
}
