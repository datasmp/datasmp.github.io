{
 "cells": [
  {
   "cell_type": "markdown",
   "id": "e52c30a5-5b1a-4893-aefc-dac6ef639d5f",
   "metadata": {},
   "source": [
    "# Dictionaries Exercises"
   ]
  },
  {
   "cell_type": "markdown",
   "id": "63a95ac8-5f04-44d2-b37d-ad23f924276b",
   "metadata": {},
   "source": [
    "## Question-1\n",
    "\n",
    "Create a dictionary with the pairs: ('Banana', 100), ('Cherry',20), ('Apple',200), ('Pear',75 )\n",
    "which corresponds to fruit inventory of a market in the form of name and number of boxes of the fruits.\n",
    "Perform the following operations on it, printing it after each operation:   \n",
    "\n",
    "- Add a new pair ('Strawberry', 130).\n",
    "- Add all pairs in the following dictionary: ('Peach',90),('Pineapple',40) .\n",
    "- Remove the pair of Pear.\n",
    "- Verify if 'Peach' is a key in the dictionary.\n",
    "- Verify if 'Orange' is not a key in the dictionary.\n",
    "- Verify if 75 is a value in the dictionary.\n",
    "- Print the number of pairs in the dictionary.\n",
    "- Print the sum of values in the dictionary.\n",
    "- Print the maximum value in the dictionary.\n",
    "- Print the minimum value in the dictionary."
   ]
  },
  {
   "cell_type": "markdown",
   "id": "5cacd4cb-f05b-44a0-9979-c685d0b59b85",
   "metadata": {},
   "source": [
    "## Question-2\n",
    "Create a list containing the keys from the provided dictionary, where the corresponding values are even numbers."
   ]
  },
  {
   "cell_type": "code",
   "execution_count": 22,
   "id": "5a293802-53c5-4af3-8d86-208bed01850b",
   "metadata": {},
   "outputs": [],
   "source": [
    "state_num = {'NY':135, 'TX':236, 'FL':207, 'CA':140, 'NJ':98, 'MO':175, 'AZ':124}"
   ]
  },
  {
   "cell_type": "markdown",
   "id": "a6e003de-847a-419a-97b1-4b73c10c8deb",
   "metadata": {},
   "source": [
    "## Question-3\n",
    "Create a new dictionary with the same keys as the \"grades\" dictionary, but with the values being the average of the test scores for each student."
   ]
  },
  {
   "cell_type": "code",
   "execution_count": 28,
   "id": "83759591-ba7a-45c9-983a-1a196c435fb7",
   "metadata": {},
   "outputs": [],
   "source": [
    "grades = {'Jack':[100,90,95], 'Ashley':[85,90,95], 'Frank':[100,100,70]}"
   ]
  },
  {
   "cell_type": "markdown",
   "id": "d2e3995f-d381-4178-bc50-bd9c2e152c8c",
   "metadata": {},
   "source": [
    "## Question-4\n",
    "Generate a list using list comprehension containing the ID numbers from the per_info dictionary.\n",
    "- Compare the length of the generated list with the number of pairs in the per_info dictionary to verify if all ID numbers are unique."
   ]
  },
  {
   "cell_type": "code",
   "execution_count": 32,
   "id": "08ef2986-78fa-4ab2-badb-767e97019193",
   "metadata": {},
   "outputs": [],
   "source": [
    "per_info = {'Tom': {'ID':156, 'Age':24, 'Gender':'M', 'State':'NJ'},\n",
    "            'Liz': {'ID':179, 'Age':27, 'Gender':'F', 'State':'AZ'},\n",
    "            'Joe': {'ID':102, 'Age':21, 'Gender':'M', 'State':'TX'},\n",
    "            'Bob': {'ID':101, 'Age':29, 'Gender':'M', 'State':'FL'},\n",
    "            'Eli': {'ID':198, 'Age':26, 'Gender':'F', 'State':'CA'},\n",
    "            'Ian': {'ID':129, 'Age':27, 'Gender':'M', 'State':'NY'},\n",
    "            'Amy': {'ID':145, 'Age':24, 'Gender':'F', 'State':'NY'},\n",
    "           }"
   ]
  },
  {
   "cell_type": "markdown",
   "id": "57e076ea-3b7c-44db-b63e-2bfa6bc8764e",
   "metadata": {},
   "source": [
    "## Question-5\n",
    "If the current year is 2020, calculate the birth year of each person from the per_info dictionary and add the key-value pair 'Birth year': birth_year to the dictionary for each person."
   ]
  },
  {
   "cell_type": "markdown",
   "id": "fab05ada-9ef4-46d0-88f0-905bfc1ec530",
   "metadata": {},
   "source": [
    "## Question-6\n",
    "Generate a dictionary containing two key-value pairs representing the gender type and the number of persons belonging to that type.\n",
    "Plot a bar chart to visually represent the keys and their corresponding values."
   ]
  },
  {
   "cell_type": "code",
   "execution_count": null,
   "id": "501da04f-0205-4c17-a501-685f03c8cf83",
   "metadata": {},
   "outputs": [],
   "source": []
  }
 ],
 "metadata": {
  "kernelspec": {
   "display_name": "Python 3 (ipykernel)",
   "language": "python",
   "name": "python3"
  },
  "language_info": {
   "codemirror_mode": {
    "name": "ipython",
    "version": 3
   },
   "file_extension": ".py",
   "mimetype": "text/x-python",
   "name": "python",
   "nbconvert_exporter": "python",
   "pygments_lexer": "ipython3",
   "version": "3.11.7"
  }
 },
 "nbformat": 4,
 "nbformat_minor": 5
}
