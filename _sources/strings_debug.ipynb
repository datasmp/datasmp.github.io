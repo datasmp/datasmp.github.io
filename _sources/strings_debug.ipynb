{
 "cells": [
  {
   "cell_type": "markdown",
   "id": "13e18a7d",
   "metadata": {},
   "source": [
    "# Strings Debugging\n",
    "\n",
    "- Each of the following short code contains one or more bugs. &emsp;&emsp;&emsp;&emsp;\n",
    "- Please identify and correct these bugs.\n",
    "- Provide an explanation for your answer."
   ]
  },
  {
   "cell_type": "markdown",
   "id": "854437f7",
   "metadata": {},
   "source": [
    "## Question-1\n",
    "\n",
    "``` python\n",
    "3.0*'HI'\n",
    "```"
   ]
  },
  {
   "cell_type": "markdown",
   "id": "48a8af1e",
   "metadata": {},
   "source": [
    "```{admonition} Solution\n",
    ":class: toggle\n",
    "Only integers can be used for repetition; 3.0 is a float."
   ]
  },
  {
   "cell_type": "markdown",
   "id": "934b3a16",
   "metadata": {},
   "source": [
    "## Question-2\n",
    "\n",
    "``` python\n",
    "3+'HI'\n",
    "```"
   ]
  },
  {
   "cell_type": "markdown",
   "id": "569b11be",
   "metadata": {},
   "source": [
    "```{admonition} Solution\n",
    ":class: toggle\n",
    "Concatenation can be done with two strings, but 3 is not a string. You can convert 3 to a string, and after that, you can perform concatenation: `str(3) + 'HI'.`"
   ]
  },
  {
   "cell_type": "markdown",
   "id": "3407987f",
   "metadata": {},
   "source": [
    "## Question-3\n",
    "\n",
    "``` python\n",
    "name = 'michael\"\n",
    "```"
   ]
  },
  {
   "cell_type": "markdown",
   "id": "eeb0c3c7",
   "metadata": {},
   "source": [
    "```{admonition} Solution\n",
    ":class: toggle\n",
    "Both of the quotes on the left and right must be the same. Either `'michael'` or `\"michael\"`  will solve the problem."
   ]
  },
  {
   "cell_type": "markdown",
   "id": "8e66629f",
   "metadata": {},
   "source": [
    "## Question-4\n",
    "\n",
    "``` python\n",
    "print('he's coming')\n",
    "```"
   ]
  },
  {
   "cell_type": "markdown",
   "id": "0a74c74e-85d7-4e1b-98e3-f8e7de857861",
   "metadata": {},
   "source": [
    "```{admonition} Solution\n",
    ":class: toggle\n",
    "The single quote of the string causes the problem since the string is also created by using single quotes. \n",
    "- To fix the problem you can either use `\\` to make the single quote of the string a character: `'he\\'s coming'`\n",
    "- Instead of single quotes, use double ones: `\"he\\'s coming\"`   \n"
   ]
  },
  {
   "cell_type": "markdown",
   "id": "c24eb0d1-b383-49f6-9de7-cbe867c0266e",
   "metadata": {},
   "source": [
    "## Question-5\n",
    "\n",
    "``` python\n",
    "name = 'Michael\n",
    "Jordan'\n",
    "print(name)\n",
    "```"
   ]
  },
  {
   "cell_type": "markdown",
   "id": "0ba65ee5",
   "metadata": {},
   "source": [
    "```{admonition} Solution\n",
    ":class: toggle\n",
    "Triple single or double quotes must be used for strings that have multiple lines. "
   ]
  },
  {
   "cell_type": "markdown",
   "id": "d22f77a5-7d5b-4291-bd39-938c310034c5",
   "metadata": {},
   "source": [
    "## Question-6\n",
    "\n",
    "``` python\n",
    "name = 'Brian'\n",
    "print(name[5])\n",
    "```"
   ]
  },
  {
   "cell_type": "markdown",
   "id": "b3604d29-5a28-4586-a621-ebcef4c06664",
   "metadata": {},
   "source": [
    "```{admonition} Solution\n",
    ":class: toggle\n",
    "The index is out of range because the largest positive index is 4, as indexing starts from 0."
   ]
  },
  {
   "cell_type": "markdown",
   "id": "35787be3-180f-4ba3-9fe1-1c16a30a4d96",
   "metadata": {},
   "source": [
    "## Question-7\n",
    "\n",
    "``` python\n",
    "name = 'Brian'\n",
    "print((12/3)*name)\n",
    "```"
   ]
  },
  {
   "cell_type": "markdown",
   "id": "f21c6525-c12a-4e05-a848-f8354c89560f",
   "metadata": {},
   "source": [
    "```{admonition} Solution\n",
    ":class: toggle\n",
    "The result of dividing 12 by 3 is 4.0, which is a float, so it cannot be used for repetition."
   ]
  },
  {
   "cell_type": "code",
   "execution_count": null,
   "id": "f73fee73-0396-403c-ab46-ecde6306f5b8",
   "metadata": {},
   "outputs": [],
   "source": []
  }
 ],
 "metadata": {
  "hide_input": false,
  "kernelspec": {
   "display_name": "Python 3 (ipykernel)",
   "language": "python",
   "name": "python3"
  },
  "language_info": {
   "codemirror_mode": {
    "name": "ipython",
    "version": 3
   },
   "file_extension": ".py",
   "mimetype": "text/x-python",
   "name": "python",
   "nbconvert_exporter": "python",
   "pygments_lexer": "ipython3",
   "version": "3.11.7"
  },
  "toc": {
   "base_numbering": 1,
   "nav_menu": {},
   "number_sections": true,
   "sideBar": true,
   "skip_h1_title": false,
   "title_cell": "Table of Contents",
   "title_sidebar": "Contents",
   "toc_cell": false,
   "toc_position": {},
   "toc_section_display": true,
   "toc_window_display": false
  }
 },
 "nbformat": 4,
 "nbformat_minor": 5
}
