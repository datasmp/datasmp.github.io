{
 "cells": [
  {
   "cell_type": "markdown",
   "id": "13e18a7d",
   "metadata": {},
   "source": [
    "# Strings Debugging\n",
    "![Section Title: Strings Debugging](title_pict/strings_debugging2.png)\n",
    "\n",
    "- Each of the following short code contains one or more bugs. &emsp;&emsp;&emsp;&emsp;\n",
    "- Please identify and correct these bugs.\n",
    "- Provide an explanation for your answer."
   ]
  },
  {
   "cell_type": "markdown",
   "id": "854437f7",
   "metadata": {},
   "source": [
    "## Question-1\n",
    "\n",
    "``` python\n",
    "3.0*'HI'\n",
    "```"
   ]
  },
  {
   "cell_type": "markdown",
   "id": "48a8af1e",
   "metadata": {},
   "source": [
    "```{admonition} Solution\n",
    ":class: toggle\n",
    "Only integers can be used for repetition; 3.0 is a float."
   ]
  },
  {
   "cell_type": "markdown",
   "id": "934b3a16",
   "metadata": {},
   "source": [
    "## Question-2\n",
    "\n",
    "``` python\n",
    "3+'HI'\n",
    "```"
   ]
  },
  {
   "cell_type": "markdown",
   "id": "569b11be",
   "metadata": {},
   "source": [
    "```{admonition} Solution\n",
    ":class: toggle\n",
    "Concatenation can be done with two strings, but 3 is not a string. You can convert 3 to a string, and after that, you can perform concatenation: `str(3) + 'HI'.`"
   ]
  },
  {
   "cell_type": "markdown",
   "id": "3407987f",
   "metadata": {},
   "source": [
    "## Question-3\n",
    "\n",
    "``` python\n",
    "name = 'michael\"\n",
    "```"
   ]
  },
  {
   "cell_type": "markdown",
   "id": "eeb0c3c7",
   "metadata": {},
   "source": [
    "```{admonition} Solution\n",
    ":class: toggle\n",
    "Both of the quotes on the left and right must be the same. Either `'michael'` or `\"michael\"`  will solve the problem."
   ]
  },
  {
   "cell_type": "markdown",
   "id": "8e66629f",
   "metadata": {},
   "source": [
    "## Question-4\n",
    "\n",
    "``` python\n",
    "print('he's coming')\n",
    "```"
   ]
  },
  {
   "cell_type": "markdown",
   "id": "0a74c74e-85d7-4e1b-98e3-f8e7de857861",
   "metadata": {},
   "source": [
    "```{admonition} Solution\n",
    ":class: toggle\n",
    "The single quote of the string causes the problem since the string is also created by using single quotes. \n",
    "- To fix the problem you can either use `\\` to make the single quote of the string a character: `'he\\'s coming'`\n",
    "- Instead of single quotes, use double ones: `\"he\\'s coming\"`   \n"
   ]
  },
  {
   "cell_type": "markdown",
   "id": "c24eb0d1-b383-49f6-9de7-cbe867c0266e",
   "metadata": {},
   "source": [
    "## Question-5\n",
    "\n",
    "``` python\n",
    "name = 'Michael\n",
    "Jordan'\n",
    "print(name)\n",
    "```"
   ]
  },
  {
   "cell_type": "markdown",
   "id": "0ba65ee5",
   "metadata": {},
   "source": [
    "```{admonition} Solution\n",
    ":class: toggle\n",
    "Triple single or double quotes must be used for strings that have multiple lines. "
   ]
  },
  {
   "cell_type": "markdown",
   "id": "d22f77a5-7d5b-4291-bd39-938c310034c5",
   "metadata": {},
   "source": [
    "## Question-6\n",
    "\n",
    "``` python\n",
    "name = 'Brian'\n",
    "print(name[5])\n",
    "```"
   ]
  },
  {
   "cell_type": "markdown",
   "id": "b3604d29-5a28-4586-a621-ebcef4c06664",
   "metadata": {},
   "source": [
    "```{admonition} Solution\n",
    ":class: toggle\n",
    "The index is out of range because the largest positive index is 4, as indexing starts from 0."
   ]
  },
  {
   "cell_type": "markdown",
   "id": "35787be3-180f-4ba3-9fe1-1c16a30a4d96",
   "metadata": {},
   "source": [
    "## Question-7\n",
    "\n",
    "``` python\n",
    "name = 'Brian'\n",
    "print((12/3)*name)\n",
    "```"
   ]
  },
  {
   "cell_type": "markdown",
   "id": "f21c6525-c12a-4e05-a848-f8354c89560f",
   "metadata": {},
   "source": [
    "```{admonition} Solution\n",
    ":class: toggle\n",
    "The result of dividing 12 by 3 is 4.0, which is a float, so it cannot be used for repetition."
   ]
  },
  {
   "cell_type": "markdown",
   "id": "2f9020cf-f1f4-4e6c-b0dc-d413a789d2f9",
   "metadata": {},
   "source": [
    "## Question-8\n",
    "\n",
    "``` python\n",
    "name = ''Brian''\n",
    "```"
   ]
  },
  {
   "cell_type": "markdown",
   "id": "b3aeb256-8b16-42a6-a9aa-8e8d36bdb822",
   "metadata": {},
   "source": [
    "```{admonition} Solution\n",
    ":class: toggle\n",
    "Double single quotes cannot be used to create a string."
   ]
  },
  {
   "cell_type": "markdown",
   "id": "4c3996f4-5ba2-4a4c-8454-ce92123ad577",
   "metadata": {},
   "source": [
    "## Question-9\n",
    "\n",
    "``` python\n",
    "name = 'Ashley'\n",
    "print(name(3))\n",
    "```"
   ]
  },
  {
   "cell_type": "markdown",
   "id": "d34017fe-1ac0-4035-bc98-56a703c59a07",
   "metadata": {},
   "source": [
    "```{admonition} Solution\n",
    ":class: toggle\n",
    "Use indexing with square brackets []."
   ]
  },
  {
   "cell_type": "markdown",
   "id": "79333306-322a-40d1-badc-ec8ba1da6bc9",
   "metadata": {},
   "source": [
    "## Question-10\n",
    "\n",
    "``` python\n",
    "state = 'Texas'\n",
    "n = len(state)\n",
    "print(state[n])\n",
    "```"
   ]
  },
  {
   "cell_type": "markdown",
   "id": "59c2165f-fbbe-455c-838d-ab37233b6801",
   "metadata": {},
   "source": [
    "```{admonition} Solution\n",
    ":class: toggle\n",
    "The index n is out of range. The largest valid index is len(state) - 1, as indexing starts from 0."
   ]
  },
  {
   "cell_type": "markdown",
   "id": "34355f83-0e1b-48af-9eb3-5a62d2318960",
   "metadata": {},
   "source": [
    "## Question-11\n",
    "\n",
    "``` python\n",
    "print(string.digits)\n",
    "```"
   ]
  },
  {
   "cell_type": "markdown",
   "id": "2b3bf6bf-a173-4726-aea3-ed750357255a",
   "metadata": {},
   "source": [
    "```{admonition} Solution\n",
    ":class: toggle\n",
    "To use string.digits, you need to import the string module first: import string"
   ]
  },
  {
   "cell_type": "markdown",
   "id": "1e19033a-3ff0-4f5b-a104-f00b7c7c1a50",
   "metadata": {},
   "source": [
    "## Question-12\n",
    "\n",
    "``` python\n",
    "country = 'France'\n",
    "country[0] = 'T'\n",
    "```"
   ]
  },
  {
   "cell_type": "markdown",
   "id": "decc7c92-3ee1-4b2c-b128-d056b691cbb0",
   "metadata": {},
   "source": [
    "```{admonition} Solution\n",
    ":class: toggle\n",
    "Strings are immutable, meaning they cannot be modified once defined."
   ]
  },
  {
   "cell_type": "markdown",
   "id": "6cf2c7ef-7bd3-4249-af6e-558323ada91a",
   "metadata": {},
   "source": [
    "## Question-13\n",
    "\n",
    "``` python\n",
    "'a' notin 'table'\n",
    "```"
   ]
  },
  {
   "cell_type": "markdown",
   "id": "3da50136-656f-43bc-aaed-5b988af87529",
   "metadata": {},
   "source": [
    "```{admonition} Solution\n",
    ":class: toggle\n",
    "The operator for checking membership in Python is not in, not notin."
   ]
  },
  {
   "cell_type": "code",
   "execution_count": null,
   "id": "b6b8831d-3a45-4182-a66c-6439fef58a1c",
   "metadata": {},
   "outputs": [],
   "source": []
  }
 ],
 "metadata": {
  "hide_input": false,
  "kernelspec": {
   "display_name": "Python 3 (ipykernel)",
   "language": "python",
   "name": "python3"
  },
  "language_info": {
   "codemirror_mode": {
    "name": "ipython",
    "version": 3
   },
   "file_extension": ".py",
   "mimetype": "text/x-python",
   "name": "python",
   "nbconvert_exporter": "python",
   "pygments_lexer": "ipython3",
   "version": "3.11.8"
  },
  "toc": {
   "base_numbering": 1,
   "nav_menu": {},
   "number_sections": true,
   "sideBar": true,
   "skip_h1_title": false,
   "title_cell": "Table of Contents",
   "title_sidebar": "Contents",
   "toc_cell": false,
   "toc_position": {},
   "toc_section_display": true,
   "toc_window_display": false
  }
 },
 "nbformat": 4,
 "nbformat_minor": 5
}
