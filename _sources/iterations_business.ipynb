{
 "cells": [
  {
   "cell_type": "markdown",
   "id": "bc1e3d17-baf9-4c40-9e8b-c89c141db167",
   "metadata": {},
   "source": [
    "# Iterations Business \n",
    "![Section Title: Iterations Business](title_pict/iterations_business2.png)\n"
   ]
  },
  {
   "cell_type": "markdown",
   "id": "ff0218c2-6fc9-46af-854e-9dcf523fd195",
   "metadata": {},
   "source": [
    "## Business Applications"
   ]
  },
  {
   "cell_type": "markdown",
   "id": "7751dc82-483e-4375-b806-25e22e769160",
   "metadata": {},
   "source": [
    "### Question-1: Max of Revenue\n",
    "*Revenue (R) is the product of the number (n) of items sold  and the price (p) of the item.*\n",
    "- $R = p\\cdot n$\n",
    "  \n",
    "The number of item sold is given by the following equation: $n = -1.5p+30$\n",
    "\n",
    "Write a program which finds the $p$ which maximize the revenue for $0\\le p \\le 20$\n",
    "- Plot the graph of revenue for $0\\le p \\le 20$"
   ]
  },
  {
   "cell_type": "markdown",
   "id": "76f05b3f-b51d-4796-b5da-c8023347a7ff",
   "metadata": {},
   "source": [
    "### Question-2: Profit\n",
    "*Profit (P) is the difference between Revenue and Cost*\n",
    "- $Profit = Revenue - Cost$\n",
    "\n",
    "The monthly fixed cost of a cable factory is 1500 dollars. Each cable costs 13 dollars and sells for 25 dollars.\n",
    "- Find the profit of producing 400 cables.\n",
    "- For what number of cables produced profit is zero.\n",
    "    - Hint: Calculate the profit for $n$ between 1 and 400."
   ]
  },
  {
   "cell_type": "markdown",
   "id": "00854bec-7e39-48af-8df4-2e93cb8c20ca",
   "metadata": {},
   "source": [
    "### Question-3: Linear Depreciation\n",
    "The value of a new machine is $100,000$ dollars and its values is depreciated by $7500$ dollars per year. After how many years the value of the machine will be 2,500 dollars.\n",
    "- Hint: Calculate the value for years between 1 and 100."
   ]
  },
  {
   "cell_type": "markdown",
   "id": "0dd0afb9-e549-49ab-948e-5b4e2d19f61f",
   "metadata": {},
   "source": [
    "### Question-4: Equilibrium Point\n",
    "*An equilibrium point is where the demand and supply curves intersect.*\n",
    "\n",
    "For the given demand and the supply functions find the equilibrium point.\n",
    "\n",
    "Demand: $p(q) = -0.03q + 1000$\n",
    "\n",
    "Supply: $p(q) = 0.02q + 400$\n",
    "\n",
    "- Hint: Calculate the demand and supply for $q$ between 1 and 20,000."
   ]
  },
  {
   "cell_type": "markdown",
   "id": "d2e0d46b-50c7-48c8-a12a-27f3336fa5f1",
   "metadata": {},
   "source": [
    "### Question-5: Linear Programming\n",
    "*Linear programming involves finding the highest or lowest possible outcome of a linear function, while satisfying specific constraints.*\n",
    "\n",
    "The store sells three items labeled (a, b, c) priced at 2, 3, and 4 dollars respectively. The following conditions are known:\n",
    "- The store can sell up to 100 units of each item.\n",
    "- The combined sales of items b and c exceed 90 units.\n",
    "- The total sales of items a and b do not surpass 50 units.\n",
    "- The sales of items a and c are more than 80 units.\n",
    "\n",
    "What is the highest revenue achievable, and at what quantities of items is this maximum revenue attained?\n",
    " "
   ]
  },
  {
   "cell_type": "markdown",
   "id": "2d111d7e-5a9f-4685-896d-c93b623c3035",
   "metadata": {},
   "source": [
    "### Question-6: Home Mortgage\n",
    "\n",
    "Amortization is paying off a loan by making equal payments.\n",
    "\n",
    "The present value of an amortized loan is given by the following formula: $\\displaystyle  P = R \\left( \\frac{1-(1+\\frac{r}{m})^{-mt}}{\\frac{r}{m}}  \\right)$ where,\n",
    "\n",
    "- $P$: Present value\n",
    "- $R$: regular payment\n",
    "- $r$: annual interest rate\n",
    "- $m$: number of payments in a year\n",
    "- $t$: number of years\n",
    "\n",
    "If you take out an 449,000 dollars loan to buy a house with an annual interest rate of 2.75%, to be paid off over 30 years, what is the monthly payment?\n",
    "- Sketch the graph of monthly payments for annual interest rates of 2%, 3%, 4%, 5%, 6%, 7%, 8%, 9%, and 10%.\n",
    "\n",
    "Hint:\n",
    "- Use the variables $P, r, m, t$  for the given values.\n",
    "- Calculate the value of the variable $R$."
   ]
  },
  {
   "cell_type": "markdown",
   "id": "5a6a0394-4072-473f-9828-4996e38e46be",
   "metadata": {},
   "source": [
    "### Question-7: Amortization Schedule-1\n",
    "If you take out a 449,000 dollars loan to buy a house with an annual interest rate of 2.75%, to be paid off over 30 years with a monthly payment of $1,833, construct an amortization schedule for the first 5 payments.\n",
    "\n",
    "For each month, a fixed monthly payment is deducted from the balance. \n",
    "Additionally, simple interest is added to the loan based on that month's remaining balance.\n",
    "\n",
    "Hint:\n",
    "- Use the variables $P, r, m, t, R$  for the given values.\n",
    "- Calculate the monthly simple interest for each monthly balance."
   ]
  },
  {
   "cell_type": "markdown",
   "id": "f239b04b-a545-4338-98fc-6c957adbcded",
   "metadata": {},
   "source": [
    "### Question-8: Amortization Schedule-2\n",
    "If you take out a 449,000 dollars loan to buy a house with an annual interest rate of 2.75%, to be paid off over 30 years with a monthly payment of 1,833 dollars, construct an amortization schedule for the last 5 payments.\n",
    "\n",
    "For each month, a fixed monthly payment is deducted from the balance. Additionally, simple interest is added to the loan based on that month's remaining balance."
   ]
  }
 ],
 "metadata": {
  "kernelspec": {
   "display_name": "Python 3 (ipykernel)",
   "language": "python",
   "name": "python3"
  },
  "language_info": {
   "codemirror_mode": {
    "name": "ipython",
    "version": 3
   },
   "file_extension": ".py",
   "mimetype": "text/x-python",
   "name": "python",
   "nbconvert_exporter": "python",
   "pygments_lexer": "ipython3",
   "version": "3.11.8"
  }
 },
 "nbformat": 4,
 "nbformat_minor": 5
}
