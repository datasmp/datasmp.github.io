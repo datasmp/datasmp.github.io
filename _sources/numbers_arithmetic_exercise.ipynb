{
 "cells": [
  {
   "cell_type": "markdown",
   "id": "83bac819-beda-40ef-a007-4d850350798e",
   "metadata": {},
   "source": [
    "# Numbers Exercises \n",
    "![Section Title: Numbers Exercises](title_pict/numbers_exercises2.png)\n"
   ]
  },
  {
   "cell_type": "markdown",
   "id": "552ae76d-2f5d-4f6d-a7f8-0f7090e4c3a8",
   "metadata": {},
   "source": [
    "## Warm Up Question\n",
    "Write a code to compute $2\\times(3+4)-2^3$."
   ]
  },
  {
   "cell_type": "markdown",
   "id": "8dd63441-58b0-4ae4-967e-f40719750541",
   "metadata": {},
   "source": [
    "## Warm Up Question\n",
    "Write a code to compute $\\sqrt{36}$."
   ]
  },
  {
   "cell_type": "markdown",
   "id": "e7b6151f-1bca-4b58-a57e-e981515b2c63",
   "metadata": {},
   "source": [
    "## Warm Up Question\n",
    "Write a program to display the last two digits of 1234 using the remainder operator."
   ]
  },
  {
   "cell_type": "markdown",
   "id": "4b1f1dd7-f785-4d10-ba2c-5900a5d9a417",
   "metadata": {},
   "source": [
    "## Warm Up Question\n",
    "Determine the output of the code below and provide an explanation.\n",
    "``` python\n",
    "x = 10\n",
    "x = x*2\n",
    "print(x)"
   ]
  },
  {
   "cell_type": "markdown",
   "id": "576a2922-e25d-49fe-8a38-1d7250497ce6",
   "metadata": {},
   "source": [
    "## Warm Up Question\n",
    "Determine the output of the code below and provide an explanation.\n",
    "``` python\n",
    "x = 25\n",
    "x //= 6\n",
    "print(x)"
   ]
  },
  {
   "cell_type": "markdown",
   "id": "24076788-124f-4c74-8b33-e5c577c449c8",
   "metadata": {},
   "source": [
    "## Question-1\n",
    "In a single line of code, compute $\\sqrt{\\sqrt{\\sqrt{625}}}$ and round it to the nearest hundredth.  \n"
   ]
  },
  {
   "cell_type": "markdown",
   "id": "0fa13af7-d8f0-43cf-8610-29c4d54e6c4c",
   "metadata": {},
   "source": [
    "## Question-2\n",
    "In at most two lines of code, compute $\\displaystyle  |ln( 2^{sin(|-100|)})|$ and round it to the nearest hundredth.\n"
   ]
  },
  {
   "cell_type": "markdown",
   "id": "e65a3a77-67d2-4ef5-8076-386d6849f291",
   "metadata": {},
   "source": [
    "## Question-3\n",
    "Write a program that prompts the user for three numbers using three input functions. Assign the entered values to variables with the names x, y, and z.\n",
    "- Find $\\displaystyle f(x, y,z) = \\frac{5xy}{2+x^2}+\\frac{x+y+z}{y^4+x^2y^2}$\n",
    "- Round this value to the nearest hundredth and print the result in the following format.\n",
    "- Sample Output:  \n",
    "x:  1  \n",
    "y:  2  \n",
    "z:  3  \n",
    "f(1,2,3)=3.63        \n"
   ]
  },
  {
   "cell_type": "markdown",
   "id": "df40ae8d-55e6-4bc3-b918-acc4dab02f98",
   "metadata": {},
   "source": [
    "## Question-4\n",
    "Write a program that prompts the user to enter their height using two input() functions for the feet and inch parts separately.\n",
    "- Assign the entered values to variables named feet and inch.\n",
    "- Convert the given height into centimeters using the following conversion formulas: *1 foot = 12 inches* and *1 inch = 2.54 cm*\n",
    "- Sample Output:    \n",
    "Enter the feet part of your height: 6  \n",
    "Enter the inch part of your height: 4  \n",
    "6 feet and 4 inches = 193.04 cm\n",
    "  "
   ]
  },
  {
   "cell_type": "markdown",
   "id": "bf136c15-6863-49ae-9c8e-0da2fc6a62d3",
   "metadata": {},
   "source": [
    "## Question-5\n",
    "\n",
    "Write a program that prompts the user for a 4-digit positive number. Swap the first two digits of the given number with the last two digits and print it.\n",
    "- Do not use string indexing that will be covered in the next chapter.\n",
    "- Example 1: If the given number is 1234, then print 3412.\n",
    "    - Print format: 1234 ---- swap---> 3412\n",
    "- Example 2: If the given number is 6789, then print 8967.\n",
    "    - Print format: 6789 ---- swap---> 8967"
   ]
  },
  {
   "cell_type": "markdown",
   "id": "62e9c4c7-178e-4e3c-b5be-d30e8f3605b7",
   "metadata": {},
   "source": [
    "## Question-6: Distance \n",
    "\n",
    "In a coordinate plane, each point is represented by its x and y components in the form of $(x,y)$.  \n",
    "The distance between two points $P=(x_1,y_1)$ and $Q=(x_2,y_2)$ is given by the following distance formula:  \n",
    "- $\\displaystyle dist(P,Q) = \\sqrt{(x_2-x_1)^2+(y_2-y_1)^2}$\n",
    "   \n",
    "Write a program that prompts the user for the x and y components of a point using two *input()* functions and computes the distance between the given point and the point $(-5,6)$.\n",
    "- Round the distance to the nearest hundredth.\n",
    "\n",
    "Sample Output:  \n",
    "Enter the x-component of the point: -2  \n",
    "Enter the y-component of the point: 10  \n",
    "The distance between (-5,6) and (-2.0,10.0) is 5.0"
   ]
  },
  {
   "cell_type": "markdown",
   "id": "9aa5c9a7-8e24-4ae6-8578-96e91b9b6737",
   "metadata": {},
   "source": [
    "## Question-7: Midpoint \n",
    "In a coordinate plane, each point is represented by its x and y components in the form of $(x,y)$.  \n",
    "The midpoint $(x_m, y_m)$ between two points $P=(x_1,y_1)$ and $Q=(x_2,y_2)$ is given by the following midpoint formula:  \n",
    "- $\\displaystyle x_m = \\frac{x_2+x_1}{2}, y_m = \\frac{y_2+y_1}{2}$\n",
    "   \n",
    "Write a program that prompts the user for the x and y components of a point using two *input()* functions, and computes the x and y components of the midpoint between the given point and the point $(-5,6)$\n",
    "\n",
    "Sample Output:    \n",
    "Enter the x-component of the point: 3  \n",
    "Enter the y-component of the point: 5  \n",
    "The midpoint between (-5,6) and (3.0,5.0) is (-1.0,5.5).  \n"
   ]
  },
  {
   "cell_type": "markdown",
   "id": "4c5d4c91-203a-4797-95c2-bd595d72443b",
   "metadata": {},
   "source": [
    "## Question-8: Pythagorean\n",
    "\n",
    "The Pythagorean Theorem states that for a right triangle with sides $a$, $b$, and $c$ where $c$ is the hypotenuse: $\\displaystyle c = \\sqrt{a^2+b^2}.$\n",
    "\n",
    "- Write a program that prompts the user for the sides of a right triangle using two *input()* functions, and computes the length of the hypotenuse.\n",
    "- Round the hypotenuse to the nearest hundredth.\n",
    "\n",
    "Sample Output:  \n",
    "Enter the length of the first  side: 4  \n",
    "Enter the length of the second side: 8  \n",
    "The length of the hypotenuse: 8.94"
   ]
  },
  {
   "cell_type": "markdown",
   "id": "b7b7d9f5-79a3-4801-be9a-5f45a1b361bd",
   "metadata": {},
   "source": [
    "## Question-9: Degrees to Radians\n",
    "An angle in degrees is converted to radians using the following formula: $\\displaystyle R = \\frac{\\pi}{180} \\cdot D$.\n",
    "- Write a program that prompts the user for an angle in degrees using an *input()* function, converts it to radians, and rounds it to the nearest hundredth.\n",
    "- Use the conversion formula provided above, and also the *math.radians()* function to compare the results.\n",
    "  \n",
    "Sample Output:  \n",
    "Enter the angle in degrees: 120  \n",
    "120.0 degrees is 2.09 using the formula.  \n",
    "120.0 degrees is 2.09 using the math.radians() functions. "
   ]
  },
  {
   "cell_type": "markdown",
   "id": "f9cd87f4-84cb-4ce0-9ec4-237cdfa62be5",
   "metadata": {},
   "source": [
    "## Question-10: Law of Cosines\n",
    "\n",
    "The Law of Cosines states that for a triangle with sides $a$, $b$, and the angle $\\gamma$ between these two sides:\n",
    "\n",
    "$\\displaystyle c = \\sqrt{a^2+b^2-2ab \\cdot \\cos(\\gamma)}$,\n",
    "\n",
    "where $c$ is the length of the third side of the triangle corresponding to the angle $\\gamma$.\n",
    "\n",
    "- Write a program that prompts the user for two sides of a triangle and the angle between them in degrees using three *input()* functions, and computes the length of the third side $c$.\n",
    "- Round $c$ to the nearest hundredth.\n",
    "- The *math.cos()* function takes the angle in radians. You need to convert the given angle in degrees to radians before using it.\n",
    "\n",
    "Sample Output:    \n",
    "Enter the length of the first  side               : 6  \n",
    "Enter the length of the second side               : 3  \n",
    "Enter the angle between these two sides in degrees: 70  \n",
    "The length of the third side: 5.72"
   ]
  },
  {
   "cell_type": "markdown",
   "id": "1ea172bf-34c5-4800-b9be-ee85cf3e18ba",
   "metadata": {},
   "source": [
    "## Question-11\n",
    "Write a program that prompts the user for a number. Assign the entered value to variable with the name x.\n",
    "- Find $\\displaystyle f(x) = \\frac{x^3-2x}{x+6}$\n",
    "- Round this value to the nearest hundredth and print the result in the following format.\n",
    "- Sample Output:  \n",
    "x: 10      \n",
    "f(10)=61.25  "
   ]
  },
  {
   "cell_type": "markdown",
   "id": "ce6cfaee-3143-46bd-9f85-fe95b49cc423",
   "metadata": {},
   "source": [
    "## Business Applications"
   ]
  },
  {
   "cell_type": "markdown",
   "id": "aa49647e-94e7-433a-8b18-810375707c77",
   "metadata": {},
   "source": [
    "### Question: Ordinary Annuity\n",
    "An ordinary annuity is an interest earning account where you make equal payments at the end of each compounding period.\n",
    "\n",
    "The future value of an ordinary annuity is given by the following formula.\n",
    "\n",
    "$\\displaystyle  A = R \\left( \\frac{(1+\\frac{r}{m})^{mt}-1}{\\frac{r}{m}}  \\right)$\n",
    "\n",
    "where,\n",
    "\n",
    "- $A$: Future value\n",
    "- $R$: regular payment\n",
    "- $r$: annual interest rate\n",
    "- $m$: number of payments in a year\n",
    "- $t$: number of years\n",
    "\n",
    "If you deposit 200 dollars every month into an account earning 5.25% interest per year, compounded monthly, how much money will you have saved after 30 years? Round this value to the nearest hundredth. \n",
    "\n",
    "Hint:\n",
    "- Use the variables $R, r, m, t$  for the given values.\n",
    "- Calculate the value of the variable $A$.\n",
    "- To avoid mistakes, you can calculate the numerator and denominator of $A$ separately."
   ]
  },
  {
   "cell_type": "markdown",
   "id": "4cedfc39-0177-4548-bfbd-47c97826cc73",
   "metadata": {},
   "source": [
    "### Question: Amortized Loan-1\n",
    "Amortization is paying off a loan by making equal payments.\n",
    "\n",
    "The present value of an amortized loan is given by the following formula.\n",
    "\n",
    "$\\displaystyle  P = R \\left( \\frac{1-(1+\\frac{r}{m})^{-mt}}{\\frac{r}{m}}  \\right)$\n",
    "\n",
    "where,\n",
    "\n",
    "- $P$: Present value\n",
    "- $R$: regular payment\n",
    "- $r$: annual interest rate\n",
    "- $m$: number of payments in a year\n",
    "- $t$: number of years\n",
    "\n",
    "If you can make monthly payments of 350 dollars for 3 years at an annual interest rate of 9%, what is the present value of the loan you can take out? Round this value to the nearest hundredth. \n",
    "\n",
    "Hint:\n",
    "- Use the variables $R, r, m, t$  for the given values.\n",
    "- Calculate the value of the variable $P$.\n",
    "- To avoid mistakes, you can calculate the numerator and denominator of right hand side separately."
   ]
  },
  {
   "cell_type": "markdown",
   "id": "4671c497-e4fe-4ad8-aee3-d92bbcd9dd3a",
   "metadata": {},
   "source": [
    "### Question: Amortized Loan-2\n",
    "If you take out an 80,000 dollars loan to buy a truck with an annual interest rate of 6%, to be paid off over 5 years, what is the monthly payment? Round this value to the nearest hundredth. \n",
    "\n",
    "Hint:\n",
    "- Use the variables $P, r, m, t$  for the given values.\n",
    "- Calculate the value of the variable $R$."
   ]
  },
  {
   "cell_type": "code",
   "execution_count": null,
   "id": "7775e795-a8a8-4018-bf40-97c078668c6d",
   "metadata": {},
   "outputs": [],
   "source": []
  }
 ],
 "metadata": {
  "kernelspec": {
   "display_name": "Python 3 (ipykernel)",
   "language": "python",
   "name": "python3"
  },
  "language_info": {
   "codemirror_mode": {
    "name": "ipython",
    "version": 3
   },
   "file_extension": ".py",
   "mimetype": "text/x-python",
   "name": "python",
   "nbconvert_exporter": "python",
   "pygments_lexer": "ipython3",
   "version": "3.11.8"
  }
 },
 "nbformat": 4,
 "nbformat_minor": 5
}
