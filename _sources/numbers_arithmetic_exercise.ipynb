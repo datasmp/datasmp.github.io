{
 "cells": [
  {
   "cell_type": "markdown",
   "id": "83bac819-beda-40ef-a007-4d850350798e",
   "metadata": {},
   "source": [
    "# Numbers Exercises "
   ]
  },
  {
   "cell_type": "markdown",
   "id": "24076788-124f-4c74-8b33-e5c577c449c8",
   "metadata": {},
   "source": [
    "## Question-1\n",
    "In a single line of code, compute $\\sqrt{\\sqrt{\\sqrt{625}}}$ and round it to the nearest hundredth.  \n"
   ]
  },
  {
   "cell_type": "markdown",
   "id": "0fa13af7-d8f0-43cf-8610-29c4d54e6c4c",
   "metadata": {},
   "source": [
    "## Question-2\n",
    "In a single line of code, compute $\\displaystyle  |ln( 2^{sin(|-100|)})|$ and round it to the nearest hundredth.\n"
   ]
  },
  {
   "cell_type": "markdown",
   "id": "e65a3a77-67d2-4ef5-8076-386d6849f291",
   "metadata": {},
   "source": [
    "## Question-3\n",
    "Write a program that prompts the user for three numbers using three input functions. Assign the entered values to variables with the names x, y, and z.\n",
    "- Find $\\displaystyle f(x, y,z) = \\frac{5xy}{2+x^2}+\\frac{x+y+z}{y^4+x^2y^2}$\n",
    "- Round this value to the nearest hundredth and print the result in the following format.\n",
    "- Sample Output:  \n",
    "x:  1  \n",
    "y:  2  \n",
    "z:  3  \n",
    "f(1,2,3)=3.63        \n"
   ]
  },
  {
   "cell_type": "markdown",
   "id": "df40ae8d-55e6-4bc3-b918-acc4dab02f98",
   "metadata": {},
   "source": [
    "## Question-4\n",
    "Write a program that prompts the user to enter their height using two input() functions for the feet and inch parts separately. Assign the entered values to variables named feet and inch.\n",
    "\n",
    "- Convert the given height into centimeters using the following conversion formulas: *1 foot = 12 inches* and *1 inch = 2.54 cm*\n",
    "\n",
    "- Sample Output:    \n",
    "Enter the feet part of your height: 6  \n",
    "Enter the inch part of your height: 4  \n",
    "6 feet and 4 inches = 193.04 cm\n",
    "  "
   ]
  },
  {
   "cell_type": "markdown",
   "id": "bf136c15-6863-49ae-9c8e-0da2fc6a62d3",
   "metadata": {},
   "source": [
    "## Question-5\n",
    "\n",
    "Write a program that prompts the user for a 4-digit positive number. Swap the first two digits of the given number with the last two digits and print it.\n",
    "- Do not use string indexing that will be covered in the next chapter.\n",
    "- Example 1: If the given number is 1234, then print 3412.\n",
    "    - Print format: 1234 ---- swap---> 3412\n",
    "- Example 2: If the given number is 6789, then print 8967.\n",
    "    - Print format: 6789 ---- swap---> 8967"
   ]
  },
  {
   "cell_type": "markdown",
   "id": "62e9c4c7-178e-4e3c-b5be-d30e8f3605b7",
   "metadata": {},
   "source": [
    "## Question-6\n",
    "\n",
    "In a coordinate plane, each point is represented by its x and y components in the form of $(x,y)$.  \n",
    "The distance between two points $P=(x_1,y_1)$ and $Q=(x_2,y_2)$ is given by the following distance formula:  \n",
    "- $\\displaystyle dist(P,Q) = \\sqrt{(x_2-x_1)^2+(y_2-y_1)^2}$\n",
    "   \n",
    "Write a program that prompts the user for the x and y components of a point using two *input()* functions and computes the distance between the given point and the point $(-5,6)$.\n",
    "- Round the distance to the nearest hundreth.\n",
    "\n",
    "Sample Output:  \n",
    "Enter the x-component of the point: -2  \n",
    "Enter the y-component of the point: 10  \n",
    "The distance between (-5,6) and (-2.0,10.0) is 5.0"
   ]
  },
  {
   "cell_type": "code",
   "execution_count": null,
   "id": "8fb4154e-08ab-4097-bc08-72863d9c1221",
   "metadata": {},
   "outputs": [],
   "source": []
  }
 ],
 "metadata": {
  "kernelspec": {
   "display_name": "Python 3 (ipykernel)",
   "language": "python",
   "name": "python3"
  },
  "language_info": {
   "codemirror_mode": {
    "name": "ipython",
    "version": 3
   },
   "file_extension": ".py",
   "mimetype": "text/x-python",
   "name": "python",
   "nbconvert_exporter": "python",
   "pygments_lexer": "ipython3",
   "version": "3.11.7"
  }
 },
 "nbformat": 4,
 "nbformat_minor": 5
}
