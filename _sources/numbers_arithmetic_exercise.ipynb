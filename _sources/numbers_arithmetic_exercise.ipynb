{
 "cells": [
  {
   "cell_type": "markdown",
   "id": "83bac819-beda-40ef-a007-4d850350798e",
   "metadata": {},
   "source": [
    "# Numbers Exercises "
   ]
  },
  {
   "cell_type": "markdown",
   "id": "24076788-124f-4c74-8b33-e5c577c449c8",
   "metadata": {},
   "source": [
    "## Question-1\n",
    "In a single line of code, compute $\\sqrt{\\sqrt{\\sqrt{625}}}$ and round it to the nearest hundredth.  \n"
   ]
  },
  {
   "cell_type": "markdown",
   "id": "e65a3a77-67d2-4ef5-8076-386d6849f291",
   "metadata": {},
   "source": [
    "## Question-2\n",
    "Write a program that prompts the user for three numbers using three input functions. Assign the entered values to variables with the names x, y, and z.\n",
    "- Find $\\displaystyle f(x, y,z) = \\frac{5xy}{2+x^2}+\\frac{x+y+z}{y^4+x^2y^2}$\n",
    "- Round this value to the nearest hundredth and print the result in the following format.\n",
    "- Sample Output:  \n",
    "x:  1  \n",
    "y:  2  \n",
    "z:  3  \n",
    "f(1,2,3)=3.63        \n"
   ]
  },
  {
   "cell_type": "markdown",
   "id": "df40ae8d-55e6-4bc3-b918-acc4dab02f98",
   "metadata": {},
   "source": [
    "## Question-3\n",
    "Write a program that prompts the user to enter their height using two input() functions for the feet and inch parts separately. Assign the entered values to variables named feet and inch.\n",
    "\n",
    "- Convert the given height into centimeters using the following conversion formulas: *1 foot = 12 inches* and *1 inch = 2.54 cm*\n",
    "\n",
    "- Sample Output:    \n",
    "Enter the feet part of your height: 6  \n",
    "Enter the inch part of your height: 4  \n",
    "6 feet and 4 inches = 193.04 cm\n",
    "  "
   ]
  },
  {
   "cell_type": "code",
   "execution_count": null,
   "id": "89c73fa7-4769-464b-aa4a-5f28327842bb",
   "metadata": {},
   "outputs": [],
   "source": []
  },
  {
   "cell_type": "code",
   "execution_count": null,
   "id": "864d0edd-3992-445c-8695-408ce26685d7",
   "metadata": {},
   "outputs": [],
   "source": []
  }
 ],
 "metadata": {
  "kernelspec": {
   "display_name": "Python 3 (ipykernel)",
   "language": "python",
   "name": "python3"
  },
  "language_info": {
   "codemirror_mode": {
    "name": "ipython",
    "version": 3
   },
   "file_extension": ".py",
   "mimetype": "text/x-python",
   "name": "python",
   "nbconvert_exporter": "python",
   "pygments_lexer": "ipython3",
   "version": "3.11.7"
  }
 },
 "nbformat": 4,
 "nbformat_minor": 5
}
