{
 "cells": [
  {
   "cell_type": "markdown",
   "id": "16496257-d691-4482-8029-addb917dedfb",
   "metadata": {},
   "source": [
    "# Lists Exercises and Solutions"
   ]
  },
  {
   "cell_type": "markdown",
   "id": "f7c320f2-d004-47b5-8732-29142dece6b3",
   "metadata": {},
   "source": [
    "## Warm Up Question\n",
    "Create a list that includes an integer, a decimal number, a string, and a boolean value."
   ]
  },
  {
   "cell_type": "code",
   "execution_count": 3,
   "id": "75eb5650-7af1-441f-879d-45314bc0b17b",
   "metadata": {},
   "outputs": [],
   "source": [
    "mixed_list = [1, 4.56, 'Bird', True]"
   ]
  },
  {
   "cell_type": "markdown",
   "id": "765c7d57-df4c-4b10-b5b5-105879ce9853",
   "metadata": {},
   "source": [
    "## Warm Up Question\n",
    "Calculate the maximum value, minimum value, total sum, and the count of elements in the sequence of numbers \n",
    "9,3,1,7,4,1,2,2,2,5,5,6,8,76,10,3,3,4 using a list."
   ]
  },
  {
   "cell_type": "code",
   "execution_count": 6,
   "id": "8f00cdf8-2e85-4fc0-9b04-4a4fd42a7fe7",
   "metadata": {},
   "outputs": [
    {
     "name": "stdout",
     "output_type": "stream",
     "text": [
      "Count  : 18\n",
      "Maximum: 76\n",
      "Minimum: 1\n",
      "Sum    : 151\n"
     ]
    }
   ],
   "source": [
    "numbers = [9,3,1,7,4,1,2,2,2,5,5,6,8,76,10,3,3,4]\n",
    "print(f'Count  : {len(numbers)}')\n",
    "print(f'Maximum: {max(numbers)}')\n",
    "print(f'Minimum: {min(numbers)}')\n",
    "print(f'Sum    : {sum(numbers)}')"
   ]
  },
  {
   "cell_type": "markdown",
   "id": "8a5c8203-5058-47fc-8bd7-6e6cf48d5b9c",
   "metadata": {},
   "source": [
    "## Warm Up Question\n",
    "Use slicing to extract and display only the [5,4] portion of the list [3,8,2,5,4,8,9,9,2] by using both positive and negative indices."
   ]
  },
  {
   "cell_type": "code",
   "execution_count": 9,
   "id": "15385fb4-5958-4ccb-b0c2-c02fd9ea04c3",
   "metadata": {},
   "outputs": [
    {
     "name": "stdout",
     "output_type": "stream",
     "text": [
      "[5, 4]\n",
      "[5, 4]\n"
     ]
    }
   ],
   "source": [
    "numbers = [3,8,2,5,4,8,9,9,2]\n",
    "print(numbers[3:5])\n",
    "print(numbers[-6:-4])"
   ]
  },
  {
   "cell_type": "markdown",
   "id": "9dceefc8-73e4-4a1d-ba53-d420db815591",
   "metadata": {},
   "source": [
    "## Warm Up Question\n",
    "Use concatenation and repetition to generate the list ['OH', 'FL','OH', 'FL','NJ','AZ','NJ','AZ','NJ','AZ','OH', 'FL','OH', 'FL'] from the lists ['OH', 'FL'] and ['NJ','AZ']."
   ]
  },
  {
   "cell_type": "code",
   "execution_count": 14,
   "id": "c545e3b8-3f46-48f9-b734-60f6e2417ba0",
   "metadata": {},
   "outputs": [
    {
     "name": "stdout",
     "output_type": "stream",
     "text": [
      "['OH', 'FL', 'OH', 'FL', 'NJ', 'AZ', 'NJ', 'AZ', 'NJ', 'AZ', 'OH', 'FL', 'OH', 'FL']\n"
     ]
    }
   ],
   "source": [
    "print(['OH', 'FL']*2 + ['NJ','AZ']*3+['OH', 'FL']*2)"
   ]
  },
  {
   "cell_type": "markdown",
   "id": "1f17b831-fcaf-4716-9096-b91714538ddd",
   "metadata": {},
   "source": [
    "## Warm Up Question\n",
    "Add three additional elements to this list: [1,6,4]."
   ]
  },
  {
   "cell_type": "code",
   "execution_count": 18,
   "id": "58997348-3634-46c4-b8e7-ecfbba1cf515",
   "metadata": {},
   "outputs": [
    {
     "name": "stdout",
     "output_type": "stream",
     "text": [
      "[1, 6, 4, 10, 20, 30]\n"
     ]
    }
   ],
   "source": [
    "numbers = [1,6,4]\n",
    "numbers.append(10)\n",
    "numbers.append(20)\n",
    "numbers.append(30)\n",
    "print(numbers)"
   ]
  },
  {
   "cell_type": "markdown",
   "id": "eb4c0a9a-b0c9-4d3d-9daa-03070b845f1e",
   "metadata": {},
   "source": [
    "## Warm Up Question\n",
    "Count the occurrences of 3 in the list [4,2,8,3,3,9,3,3,5,6,7,8] and find the index of 9.\n"
   ]
  },
  {
   "cell_type": "code",
   "execution_count": 20,
   "id": "7d98f977-0440-47f2-afd8-342b1d612e13",
   "metadata": {},
   "outputs": [
    {
     "name": "stdout",
     "output_type": "stream",
     "text": [
      "Count of a: 4\n",
      "Index of s: 5\n"
     ]
    }
   ],
   "source": [
    "numbers = [4,2,8,3,3,9,3,3,5,6,7,8]\n",
    "print(f'Count of a: {numbers.count(3)}')\n",
    "print(f'Index of s: {numbers.index(9)}')"
   ]
  },
  {
   "cell_type": "markdown",
   "id": "bcc703eb-6d15-41c1-b8e8-1405d1efb48a",
   "metadata": {},
   "source": [
    "## Warm Up Question\n",
    "Use the remove() method to delete 4 and the pop() method to delete 8 from the list [9,7,1,2,6,3,4,5,8,6].\n"
   ]
  },
  {
   "cell_type": "code",
   "execution_count": 24,
   "id": "2f95629f-6471-4f43-850b-ec4d3196fd04",
   "metadata": {},
   "outputs": [
    {
     "name": "stdout",
     "output_type": "stream",
     "text": [
      "[9, 7, 1, 2, 6, 3, 5, 6]\n"
     ]
    }
   ],
   "source": [
    "numbers = [9,7,1,2,6,3,4,5,8,6]\n",
    "numbers.remove(4)\n",
    "numbers.pop(7)\n",
    "print(numbers)"
   ]
  },
  {
   "cell_type": "markdown",
   "id": "2b35fb86-0b26-4d10-a9e6-ff980c360f7d",
   "metadata": {},
   "source": [
    "## Warm Up Question\n",
    "Calculate the sum of the even numbers in this list: [4,7,9,2,8,6]\n"
   ]
  },
  {
   "cell_type": "code",
   "execution_count": 26,
   "id": "cb8a6f78-7b6d-4d1a-b104-c25e816b1281",
   "metadata": {},
   "outputs": [
    {
     "name": "stdout",
     "output_type": "stream",
     "text": [
      "20\n"
     ]
    }
   ],
   "source": [
    "numbers = [4,7,9,2,8,6]\n",
    "total = 0\n",
    "\n",
    "for i in numbers:\n",
    "    if i %2 == 0 :\n",
    "        total += i\n",
    "\n",
    "print(total)"
   ]
  },
  {
   "cell_type": "markdown",
   "id": "d1ee4764-733f-40be-afb6-b97828da1411",
   "metadata": {},
   "source": [
    "## Warm Up Question\n",
    "Create a new list containing words in text below that are 4 characters long, start with 'z', and end with 'x'.\n",
    "``` python\n",
    "text = 'zabx a d f abcd yhst zmnx hsd lk zx ' "
   ]
  },
  {
   "cell_type": "code",
   "execution_count": 31,
   "id": "b33fd9ae-a2d3-4d88-9fdd-d91749bdfa0e",
   "metadata": {},
   "outputs": [
    {
     "name": "stdout",
     "output_type": "stream",
     "text": [
      "['zabx', 'zmnx']\n"
     ]
    }
   ],
   "source": [
    "text = 'zabx a d f abcd yhst zmnx hsd lk zx '\n",
    "words = text.split()\n",
    "\n",
    "words4zx = []\n",
    "\n",
    "for word in words:\n",
    "    if (len(word) == 4) & word.startswith('z') & word.endswith('x'):\n",
    "        words4zx.append(word)\n",
    "\n",
    "print(words4zx)"
   ]
  },
  {
   "cell_type": "markdown",
   "id": "ba83c2da-8fcd-4243-875a-9d1f9d3e4216",
   "metadata": {},
   "source": [
    "## Warm Up Question\n",
    "Use a list comprehension to construct a list consisting of the following numbers: 11,21,31,41,51,61,71\n"
   ]
  },
  {
   "cell_type": "code",
   "execution_count": 36,
   "id": "f220beb8-4652-45a6-a728-ecb2cb400783",
   "metadata": {},
   "outputs": [
    {
     "name": "stdout",
     "output_type": "stream",
     "text": [
      "[11, 21, 31, 41, 51, 61, 71]\n"
     ]
    }
   ],
   "source": [
    "numbers = [10*i+1 for i in range(1,8)]\n",
    "\n",
    "print(numbers)"
   ]
  },
  {
   "cell_type": "markdown",
   "id": "9850614e-d145-4729-9c02-b9ee892ef49e",
   "metadata": {},
   "source": [
    "## Question-1\n",
    "Create a list with the elements: $10, 20, 30, 40, 10, 20, 30, 10, 20$ and print the following information about this tuple:\n",
    "- The number of occurrences of 30.\n",
    "- The element at index 5.\n",
    "- The third element.\n",
    "- The index of the first occurrence of 20.\n",
    "- The index of the second occurrence of 20.\n",
    "- The index of the third occurrence of 20.\n",
    "- The length (number of elements) of the list.\n",
    "- The maximum, minimum, and the sum of the elements.\n",
    "- The last four elements using slicing.\n",
    "- The first five elements using slicing."
   ]
  },
  {
   "cell_type": "markdown",
   "id": "9bca78d1-8d33-4537-b00e-452d1418a798",
   "metadata": {},
   "source": [
    "``` python\n",
    "mylist = [10, 20, 30, 40, 10, 20, 30, 10, 20]\n",
    "print(mylist.count(30))\n",
    "print(mylist[5])\n",
    "print(mylist[2])\n",
    "print(mylist.index(20))\n",
    "print(mylist.index(20,2))\n",
    "print(mylist.index(20,6))\n",
    "print(len(mylist))\n",
    "print(max(mylist), min(mylist), sum(mylist))\n",
    "print(mylist[-4:])\n",
    "print(mylist[:5])"
   ]
  },
  {
   "cell_type": "markdown",
   "id": "178cc3f9-58ca-47b4-afc0-1cd44951723d",
   "metadata": {},
   "source": [
    "## Question-2\n",
    "Create a list with the elements: $'a', 5, 8, 'b'$ and perform the following operations on it, printing it after each operation:\n",
    "- Add 99.\n",
    "- Add 100 as the second element to the list.\n",
    "- Add all elements from the list [2, 6, 5, 9, 1, 1, 5].\n",
    "- Remove 'a' using the pop() method.\n",
    "- Remove 'b' using the remove() method.\n",
    "- Reverse the order of the list.\n",
    "- Sort it in ascending order.\n",
    "- Sort it in descending order."
   ]
  },
  {
   "cell_type": "markdown",
   "id": "09c149c1-2179-48fc-82c8-7cffcd7c3b43",
   "metadata": {},
   "source": [
    "``` python\n",
    "mylist = ['a', 5, 8, 'b']\n",
    "mylist.append(99)\n",
    "print(mylist)\n",
    "mylist.insert(2,100)\n",
    "print(mylist)\n",
    "mylist.extend([2, 6, 5, 9, 1, 1, 5])\n",
    "print(mylist)\n",
    "mylist.pop(0)\n",
    "print(mylist)\n",
    "mylist.remove('b')\n",
    "print(mylist)\n",
    "mylist.reverse()\n",
    "print(mylist)\n",
    "mylist.sort()\n",
    "print(mylist)\n",
    "mylist.sort(reverse=True)\n",
    "print(mylist)"
   ]
  },
  {
   "cell_type": "markdown",
   "id": "242ebb13-2ce4-46d7-b711-4b27e8a18d36",
   "metadata": {},
   "source": [
    "## Question-3\n",
    "Store the unique values in the following list into a list and sort them.\n",
    "``` python\n",
    "numbers = [9, 4, 10, 9, 9, 2, 7, 9, 8, 6, 4, 6, 10, 5, 1, 7, 7, 5, 9, 2, 5]\n",
    "```"
   ]
  },
  {
   "cell_type": "code",
   "execution_count": 93,
   "id": "fdabcc58-9820-459a-9350-107bebe5dd0b",
   "metadata": {},
   "outputs": [
    {
     "name": "stdout",
     "output_type": "stream",
     "text": [
      "[1, 2, 4, 5, 6, 7, 8, 9, 10]\n"
     ]
    }
   ],
   "source": [
    "numbers = [9, 4, 10, 9, 9, 2, 7, 9, 8, 6, 4, 6, 10, 5, 1, 7, 7, 5, 9, 2, 5]\n",
    "\n",
    "unique_list = []\n",
    "\n",
    "for i in numbers:\n",
    "    if i not in unique_list:\n",
    "        unique_list.append(i)\n",
    "\n",
    "unique_list.sort()\n",
    "\n",
    "print(unique_list)"
   ]
  },
  {
   "cell_type": "markdown",
   "id": "f4903c7a-28aa-4fd0-a8cf-ea0c22c072f8",
   "metadata": {},
   "source": [
    "## Question-4\n",
    "Generate a list containing numbers from 4 to 9, inclusive.\n",
    "- Construct a multiplication table for these numbers to resemble a 6 by 6 matrix and print it.\n",
    "- Store all sum of the values in each row in this multiplication table into a list."
   ]
  },
  {
   "cell_type": "code",
   "execution_count": 94,
   "id": "35d11414-704d-47ce-988b-46c44a1726ae",
   "metadata": {},
   "outputs": [
    {
     "name": "stdout",
     "output_type": "stream",
     "text": [
      "16 20 24 28 32 36 \n",
      "20 25 30 35 40 45 \n",
      "24 30 36 42 48 54 \n",
      "28 35 42 49 56 63 \n",
      "32 40 48 56 64 72 \n",
      "36 45 54 63 72 81 \n",
      "\n",
      "Sum of the row values: [156, 195, 234, 273, 312, 351]\n"
     ]
    }
   ],
   "source": [
    "numbers = list(range(4,10))\n",
    "rowsum_list = []\n",
    "\n",
    "for i in numbers:\n",
    "    rowsum = 0\n",
    "    \n",
    "    for j in numbers:\n",
    "        print(i*j, end=' ')\n",
    "        rowsum += i*j\n",
    "        \n",
    "    rowsum_list.append(rowsum)\n",
    "    print()\n",
    "\n",
    "print('\\nSum of the row values:', rowsum_list)"
   ]
  },
  {
   "cell_type": "code",
   "execution_count": 62,
   "id": "fb944180-56b8-41c4-97d0-269d367cdaff",
   "metadata": {},
   "outputs": [
    {
     "name": "stdout",
     "output_type": "stream",
     "text": [
      "\t4\t5\t6\t7\t8\t9\n",
      " _________________________________________________\n",
      "4|\t16\t20\t24\t28\t32\t36\t\n",
      "5|\t20\t25\t30\t35\t40\t45\t\n",
      "6|\t24\t30\t36\t42\t48\t54\t\n",
      "7|\t28\t35\t42\t49\t56\t63\t\n",
      "8|\t32\t40\t48\t56\t64\t72\t\n",
      "9|\t36\t45\t54\t63\t72\t81\t\n"
     ]
    }
   ],
   "source": [
    "numbers = [4,5,6,7,8,9]\n",
    "\n",
    "print(f\"\\t{numbers[0]}\\t{numbers[1]}\\t{numbers[2]}\\t{numbers[3]}\\t{numbers[4]}\\t{numbers[5]}\")\n",
    "print(\" \"+'_'*49)\n",
    "\n",
    "for i in numbers:\n",
    "  print(f\"{numbers[numbers.index(i)]}|\", end= \"\\t\")\n",
    "  for x in numbers:\n",
    "    print(f\"{i*x}\\t\",end =\"\")\n",
    "  print()"
   ]
  },
  {
   "cell_type": "markdown",
   "id": "70772ed5-af53-4947-be39-ef38bb9f3e56",
   "metadata": {},
   "source": [
    "## Question-5\n",
    "Use list comprehension and random.randint() to construct two lists:\n",
    "- Generate ten random numbers between 1 and 20, stored in a list called left_list.\n",
    "- Generate ten random numbers between 1 and 10, stored in a list called question_list.\n",
    "- Create a new list called right_list, consisting of the differences between 30 and the sum of corresponding numbers in left_list and question_list.\n",
    "- For each line, print dashes (-) equal to the number in left_list, followed by question marks equal to the number in question_list, and then dashes equal to the number in right_list.\n",
    "\n",
    "**Sample Output** Only first line out of 10.\n",
    "     \n",
    "$-------------------??---------$  "
   ]
  },
  {
   "cell_type": "code",
   "execution_count": 23,
   "id": "9166813d-6fe4-49cb-bddb-caf8e798d31e",
   "metadata": {},
   "outputs": [
    {
     "name": "stdout",
     "output_type": "stream",
     "text": [
      "--------------????------------\n",
      "--------------?????-----------\n",
      "-??---------------------------\n",
      "------??????------------------\n",
      "------------------??????------\n",
      "----------??????--------------\n",
      "---???------------------------\n",
      "-----?------------------------\n",
      "--------??????????------------\n",
      "--??????????------------------\n"
     ]
    }
   ],
   "source": [
    "import random\n",
    "numbers = [random.randint(1,20) for i in range(10)]\n",
    "spaces  = [random.randint(1,10) for i in range(10)]\n",
    "for i in range(10):\n",
    "    print(numbers[i]*'-'+spaces[i]*'?'+ (30-numbers[i]-spaces[i])*'-')"
   ]
  },
  {
   "cell_type": "markdown",
   "id": "cb02d4f2-fce6-4647-ba0c-b59a027f859a",
   "metadata": {},
   "source": [
    "## Question-6\n",
    "Choose a random 6-digit number and store its unique digits in a list as integers and in descending order. \n",
    "- Display the number and its unique digits.\n",
    "- Avoid the use of sets.\n",
    "- Sample Output:\n",
    "    - The unique digits of 166464 are [6, 4, 1]"
   ]
  },
  {
   "cell_type": "code",
   "execution_count": 1,
   "id": "7911e2d5-3c09-466a-b686-1b8441821fce",
   "metadata": {},
   "outputs": [
    {
     "name": "stdout",
     "output_type": "stream",
     "text": [
      "The unique digits of 617443 are [7, 6, 4, 3, 1]\n"
     ]
    }
   ],
   "source": [
    "import random\n",
    "number_str = str(random.randint(100_000, 999_999))\n",
    "\n",
    "unique_list = []\n",
    "\n",
    "for digit in number_str:\n",
    "    if int(digit) not in unique_list:\n",
    "        unique_list.append(int(digit))\n",
    "        \n",
    "unique_list.sort(reverse=True)\n",
    "\n",
    "print(f'The unique digits of {number_str} are {unique_list}')"
   ]
  },
  {
   "cell_type": "markdown",
   "id": "abffcacc-66d0-434d-bd08-088a0372bb52",
   "metadata": {},
   "source": [
    "## Question-7\n",
    "Choose a random 6-digit number and verify if all of its digits are distinct.\n",
    "- Avoid the use of sets.\n",
    "- Sample Output:\n",
    "    - The number 986728 contains repeated digits.\n",
    "    - The number 362951 has distinct digits.\n"
   ]
  },
  {
   "cell_type": "code",
   "execution_count": 7,
   "id": "0330ed67-4c00-42ea-b8ee-0c1be257e6a7",
   "metadata": {},
   "outputs": [
    {
     "name": "stdout",
     "output_type": "stream",
     "text": [
      "The number 198490 contains repeated digits.\n"
     ]
    }
   ],
   "source": [
    "import random\n",
    "number_str = str(random.randint(100_000, 999_999))\n",
    "\n",
    "unique_list = []\n",
    "\n",
    "for digit in number_str:\n",
    "    if int(digit) not in unique_list:\n",
    "        unique_list.append(int(digit))\n",
    "        \n",
    "unique_list.sort(reverse=True)\n",
    "\n",
    "###############################################################\n",
    "\n",
    "if len(number_str) == len(unique_list):\n",
    "    print(f'The number {number_str} has distinct digits.')\n",
    "else:\n",
    "    print(f'The number {number_str} contains repeated digits.')\n"
   ]
  },
  {
   "cell_type": "markdown",
   "id": "e1d6f269-f5aa-480c-aef1-b54d4950827d",
   "metadata": {},
   "source": [
    "## Question-8\n",
    "Choose a random 6-digit number whose digits are distinct.\n",
    "- Avoid the use of sets.\n",
    "\n"
   ]
  },
  {
   "cell_type": "code",
   "execution_count": 3,
   "id": "4cec2aa7-85b7-4796-958a-164f005f19a0",
   "metadata": {},
   "outputs": [
    {
     "name": "stdout",
     "output_type": "stream",
     "text": [
      "The number 219573 has distinct digits.\n"
     ]
    }
   ],
   "source": [
    "import random\n",
    "\n",
    "while True:\n",
    "    number_str = str(random.randint(100_000, 999_999))\n",
    "    unique_list = []\n",
    "\n",
    "    for digit in number_str:\n",
    "        if int(digit) not in unique_list:\n",
    "            unique_list.append(int(digit))\n",
    "        \n",
    "    if len(number_str) == len(unique_list):\n",
    "        print(f'The number {number_str} has distinct digits.')\n",
    "        break"
   ]
  },
  {
   "cell_type": "markdown",
   "id": "c12b5617-2909-4b15-a077-3f87950cd28c",
   "metadata": {},
   "source": [
    "## Question-9\n",
    "Choose ten random 6-digit numbers whose digits are distinct and store them in a list as integers. \n",
    "- Avoid the use of sets."
   ]
  },
  {
   "cell_type": "code",
   "execution_count": 4,
   "id": "e457b274-ccc7-4d05-aaf4-fd7d9e87a5af",
   "metadata": {},
   "outputs": [
    {
     "name": "stdout",
     "output_type": "stream",
     "text": [
      "[580123, 274869, 851026, 201643, 847296, 425087, 806725, 415972, 498561, 410972]\n"
     ]
    }
   ],
   "source": [
    "import random\n",
    "\n",
    "number_list = []\n",
    "\n",
    "while len(number_list) < 10:\n",
    "    number_str = str(random.randint(100_000, 999_999))\n",
    "    unique_list = []\n",
    "\n",
    "    for digit in number_str:\n",
    "        if int(digit) not in unique_list:\n",
    "            unique_list.append(int(digit))\n",
    "        \n",
    "    if len(number_str) == len(unique_list):\n",
    "        number_list.append(int(number_str))\n",
    "\n",
    "print(number_list)"
   ]
  },
  {
   "cell_type": "markdown",
   "id": "de6d2981-090f-48b7-8482-0d01151e80ca",
   "metadata": {},
   "source": [
    "## Question-10\n",
    "Choose two random 6-digit numbers whose digits are distinct and store them in a list as integers. \n",
    "- Store the common digits of these two numbers in a list.\n",
    "- Avoid the use of sets.\n",
    "- Sample Output:\n",
    "    - The common digits of 479310 and 706843 are [4, 7, 3, 0] "
   ]
  },
  {
   "cell_type": "code",
   "execution_count": 5,
   "id": "92e209fd-02cf-4ed8-a72c-ea7d76d97349",
   "metadata": {},
   "outputs": [
    {
     "name": "stdout",
     "output_type": "stream",
     "text": [
      "The common digits of 129364 and 798426 are [2, 9, 6, 4].\n"
     ]
    }
   ],
   "source": [
    "import random\n",
    "\n",
    "number_list = []\n",
    "\n",
    "while len(number_list) < 2:\n",
    "    number_str = str(random.randint(100_000, 999_999))\n",
    "    unique_list = []\n",
    "\n",
    "    for digit in number_str:\n",
    "        if int(digit) not in unique_list:\n",
    "            unique_list.append(int(digit))\n",
    "        \n",
    "    if len(number_str) == len(unique_list):\n",
    "        number_list.append(int(number_str))\n",
    "\n",
    "########################################################\n",
    "\n",
    "common_digits = []\n",
    "\n",
    "for i in str(number_list[0]):\n",
    "    if i in str(number_list[1]):\n",
    "        common_digits.append(int(i))\n",
    "\n",
    "print(f'The common digits of {number_list[0]} and {number_list[1]} are {common_digits}.')"
   ]
  },
  {
   "cell_type": "markdown",
   "id": "0e3f7369-ab18-427c-8004-dec3363b546f",
   "metadata": {},
   "source": [
    "## Question-11\n",
    "Choose two random 6-digit numbers with distinct digits and store them as integers in a list.\n",
    "- Store the common digits of these two numbers in another list.\n",
    "- Initialize two count variables with an initial value of zero: count_negative and count_positive.\n",
    "- If a common digit appears in the same position in both numbers, increase count_positive by one.\n",
    "- If a common digit appears in different positions in both numbers, decrease count_negative by one.\n",
    "- Avoid the use of sets.\n",
    "- Sample Output-1:\n",
    "    - The common digits of 247583 and 579063 are [7, 5, 3].\n",
    "    - Positive Count: 1  ---   Negative Count: -2\n",
    "- Sample Output-2:\n",
    "    - The common digits of 470829 and 926504 are [4, 0, 2, 9].\n",
    "    - Positive Count: 0  ---   Negative Count: -4\n",
    "- Sample Output-3:\n",
    "    - The common digits of 298731 and 928051 are [2, 9, 8, 1].\n",
    "    - Positive Count: 2  ---   Negative Count: -2"
   ]
  },
  {
   "cell_type": "code",
   "execution_count": 95,
   "id": "26c776c2-3383-48f6-9ef9-ee8e56092d9c",
   "metadata": {},
   "outputs": [
    {
     "name": "stdout",
     "output_type": "stream",
     "text": [
      "The common digits of 175082 and 456283 are [5, 8, 2].\n",
      "Positive Count: 1  ---   Negative Count: -2\n"
     ]
    }
   ],
   "source": [
    "import random\n",
    "\n",
    "number_list = []\n",
    "\n",
    "while len(number_list) < 2:\n",
    "    number_str = str(random.randint(100_000, 999_999))\n",
    "    unique_list = []\n",
    "\n",
    "    for digit in number_str:\n",
    "        if int(digit) not in unique_list:\n",
    "            unique_list.append(int(digit))\n",
    "        \n",
    "    if len(number_str) == len(unique_list):\n",
    "        number_list.append(int(number_str))\n",
    "\n",
    "############################################################\n",
    "\n",
    "common_digits = []\n",
    "\n",
    "for i in str(number_list[0]):\n",
    "    if i in str(number_list[1]):\n",
    "        common_digits.append(int(i))\n",
    "\n",
    "#############################################################\n",
    "count_positive, count_negative = 0, 0\n",
    "\n",
    "for digit in common_digits:\n",
    "    if str(number_list[0]).index(str(digit)) == str(number_list[1]).index(str(digit)):\n",
    "        count_positive += 1\n",
    "    else:\n",
    "        count_negative -= 1\n",
    "              \n",
    "print(f'The common digits of {number_list[0]} and {number_list[1]} are {common_digits}.')\n",
    "print(f'Positive Count: {count_positive}  ---   Negative Count: {count_negative}')"
   ]
  },
  {
   "cell_type": "markdown",
   "id": "8ffdbb74-5950-4a93-b35c-ab8653da1666",
   "metadata": {},
   "source": [
    "## Question-12\n",
    "Prompt the user to input comma-separated integers of their choice.\n",
    "- Use the split() method of strings to store the numbers in a list.\n",
    "- Print the type of the first number in this new list.\n",
    "- Use a list comprehension to generate a new list with all these numbers in integer type.\n",
    "- Print the sum of all these numbers."
   ]
  },
  {
   "cell_type": "markdown",
   "id": "a071229c-44b3-4a22-b6d2-e95bc4d92295",
   "metadata": {},
   "source": [
    "``` python\n",
    "text = input('Enter comma separated numbers:')\n",
    "split_text = text.split(',')\n",
    "print(type(split_text[0]))\n",
    "numbers = [int(i) for i in split_text]\n",
    "sum(numbers)"
   ]
  },
  {
   "cell_type": "markdown",
   "id": "38553f7b-0843-4aa5-a253-753f5991c36f",
   "metadata": {},
   "source": [
    "## Question-13\n",
    "For the lists given below, begin with the total list initialized as [0, 0, 0].\n",
    "\n",
    "```python\n",
    "grade_level = [ 9,  9, 10, 11, 10, 10,  9, 10, 11, 11, 10, 11,  9, 11, 11,  9, 10, 10, 10, 10]\n",
    "exam_result = [59, 20, 81, 30, 62, 56, 85, 72, 48, 15, 47, 18, 11, 37, 79, 87, 79, 92, 82, 66]\n",
    "```\n",
    "\n",
    "Use a for loop to add each:\n",
    "- 9th grader's exam result to the index 0 position of the total list.\n",
    "- 10th grader's exam result to the index 1 position of the total list.\n",
    "- 11th grader's exam result to the index 2 position of the total list.\n",
    "The final version of the total list should be: [sum of 9th graders' exam results, sum of the 10th graders' exam results, sum of the 11th graders' exam results]."
   ]
  },
  {
   "cell_type": "markdown",
   "id": "ca558b38-517b-4be9-9a6c-e42e8931db6f",
   "metadata": {},
   "source": [
    "```python\n",
    "grade_level = [ 9,  9, 10, 11, 10, 10,  9, 10, 11, 11, 10, 11,  9, 11, 11,  9, 10, 10, 10, 10]\n",
    "exam_result = [59, 20, 81, 30, 62, 56, 85, 72, 48, 15, 47, 18, 11, 37, 79, 87, 79,92, 82, 66]\n",
    "\n",
    "\n",
    "total = [0,0,0]\n",
    "count_9 = grade_level.count(9)\n",
    "for i in range(len(grade_level)):\n",
    "   total[grade_level[i]-9] += exam_result[i]\n",
    "\n",
    "print('Total:', total)"
   ]
  },
  {
   "cell_type": "markdown",
   "id": "e3a40597-4db8-4f6a-a1b9-780a1adb60b6",
   "metadata": {},
   "source": [
    "## Question-14\n",
    "For the lists given below, calculate the average exam grades for each grade level and visualize them using a bar graph.\n",
    "```python\n",
    "grade_level = [ 9,  9, 10, 11, 10, 10,  9, 10, 11, 11, 10, 11,  9, 11, 11,  9, 10, 10, 10, 10]\n",
    "exam_result = [59, 20, 81, 30, 62, 56, 85, 72, 48, 15, 47, 18, 11, 37, 79, 87, 79, 92, 82, 66]\n",
    "```"
   ]
  },
  {
   "cell_type": "markdown",
   "id": "327bcc5d-622b-4dd4-b3e5-c508c6bd711a",
   "metadata": {},
   "source": [
    "```python\n",
    "import matplotlib.pyplot as plt\n",
    "\n",
    "grade_level = [ 9,  9, 10, 11, 10, 10,  9, 10, 11, 11, 10, 11,  9, 11, 11,  9, 10, 10, 10, 10]\n",
    "exam_result = [59, 20, 81, 30, 62, 56, 85, 72, 48, 15, 47, 18, 11, 37, 79, 87, 79,92, 82, 66]\n",
    "\n",
    "\n",
    "total = [0,0,0]\n",
    "count_9 = grade_level.count(9)\n",
    "for i in range(len(grade_level)):\n",
    "   total[grade_level[i]-9] += exam_result[i]\n",
    "average = [total[i]/grade_level.count(9+i)  for i in range(3)]\n",
    "print('Average:', average)\n",
    "\n",
    "plt.bar( [9, 10,11], average, color=['g', 'orange', 'r']   );"
   ]
  },
  {
   "cell_type": "markdown",
   "id": "49bd10d1-5ebe-4a04-ad60-ec5a0c151ac4",
   "metadata": {},
   "source": [
    "## Business Applications"
   ]
  },
  {
   "cell_type": "markdown",
   "id": "484de120-fe8d-4289-9116-e879d1addda5",
   "metadata": {},
   "source": [
    "### Question: Max of Revenue\n",
    "Revenue (R) is the product of the number (n) of items sold  and the price (p) of the item.\n",
    "- $R = p\\cdot n$\n",
    "  \n",
    "The number of item sold is given by the following equation: $n = -1.5p+30$\n",
    "- Construct a list that consists of the revenues for  $0\\le p \\le 20$.\n",
    "- Plot the graph of revenue for $0\\le p \\le 20$"
   ]
  },
  {
   "cell_type": "code",
   "execution_count": 84,
   "id": "574593f9-8a47-4e7c-a5a4-b0cff40d857a",
   "metadata": {},
   "outputs": [
    {
     "data": {
      "image/png": "[encoded data removed]",
      "text/plain": [
       "<Figure size 640x480 with 1 Axes>"
      ]
     },
     "metadata": {},
     "output_type": "display_data"
    }
   ],
   "source": [
    "import matplotlib.pyplot as plt\n",
    "p_values = range(1, 21)\n",
    "revenue = [ p*(-1.5*p+30) for p in p_values ]\n",
    "plt.plot(p_values, revenue)\n",
    "plt.xlabel('n')\n",
    "plt.ylabel('Revenue');"
   ]
  },
  {
   "cell_type": "markdown",
   "id": "ca90b41a-cf4b-4cee-bc4a-bb1d73a08fae",
   "metadata": {},
   "source": [
    "### Question: Profit\n",
    "Profit (P) is the difference between Revenue and Cost\n",
    "- $Profit = Revenue - Cost$\n",
    "\n",
    "The monthly fixed cost of a cable factory is 1500 dollars. Each cable costs 13 dollars and sells for 25 dollars.\n",
    "- For what number of cables produced profit is zero.\n",
    "    - Hint: Calculate the profit for $n$ between 1 and 400.\n",
    "    \n",
    "- Construct three lists that consist of the revenues, costs, and profits for  $0\\le p \\le 400$.\n",
    "- Plot the reveue, cost, profit for producing up to 400 cables.\n",
    "- Draw a vertical line where the profit is zero for $n$.\n",
    "\n",
    "Sample Plot:\n",
    "\n",
    "![](pict/list_ques_profit.png)"
   ]
  },
  {
   "cell_type": "code",
   "execution_count": 86,
   "id": "974b95bc-300c-4f3b-850f-4efa2a179de4",
   "metadata": {},
   "outputs": [
    {
     "data": {
      "image/png": "[encoded data removed]",
      "text/plain": [
       "<Figure size 640x480 with 1 Axes>"
      ]
     },
     "metadata": {},
     "output_type": "display_data"
    }
   ],
   "source": [
    "n_values = range(0,401)\n",
    "revenues = [25*n for n in n_values] \n",
    "costs = [13*n+1500 for n in n_values] \n",
    "profits = [25*n - (13*n+1500) for n in n_values] \n",
    "\n",
    "plt.plot(n_values, revenues, label='revenue', linestyle='dotted')\n",
    "plt.plot(n_values, costs, label='cost', linestyle='dotted')\n",
    "plt.plot(n_values, profits, label='profit', linestyle='dotted')\n",
    "\n",
    "plt.hlines(0,-20,400, color='k')\n",
    "plt.vlines(0,-2000,10000, color='k')\n",
    "plt.vlines(125,-2000,10000, color='r')\n",
    "\n",
    "plt.legend()\n",
    "plt.savefig('pict/list_ques_profit.png');"
   ]
  },
  {
   "cell_type": "markdown",
   "id": "4c206d5c-887c-458c-8ebd-43fcf0f14816",
   "metadata": {},
   "source": [
    "### Question: Break-Even Point\n",
    "Break-Even Point is the point where total cost equals total revenue, meaning profit is zero.\n",
    "\n",
    "For the given cost and the revenue functions find the break-even point and plot it.\n",
    "\n",
    "$C(n) = 0.5n +2000$\n",
    "\n",
    "$R(n) = 2.5n$\n",
    "\n",
    "Hint: Calculate the cost and revenue for n between 1 and 10,000.\n",
    "\n",
    "Sample Plot:\n",
    "\n",
    "![](pict/list_ques_be.png)"
   ]
  },
  {
   "cell_type": "code",
   "execution_count": 70,
   "id": "4c85422b-1ab6-4f5a-af57-e21c45b378a2",
   "metadata": {},
   "outputs": [
    {
     "name": "stdout",
     "output_type": "stream",
     "text": [
      "The break-even point is (1000,2500.0)\n"
     ]
    }
   ],
   "source": [
    "for n in range(10000):\n",
    "    c = 0.5*n + 2000\n",
    "    r = 2.5*n\n",
    "    if c == r:\n",
    "        be1, be2 = n, c\n",
    "        print(f'The break-even point is ({be1},{be2})')\n",
    "        break"
   ]
  },
  {
   "cell_type": "code",
   "execution_count": 87,
   "id": "0bece452-9116-4e72-8370-4cf00b7da353",
   "metadata": {},
   "outputs": [
    {
     "data": {
      "image/png": "[encoded data removed]",
      "text/plain": [
       "<Figure size 640x480 with 1 Axes>"
      ]
     },
     "metadata": {},
     "output_type": "display_data"
    }
   ],
   "source": [
    "n_values = range(0,3000)\n",
    "revenues = [2.5*n for n in n_values] \n",
    "costs = [0.5*n+2000 for n in n_values] \n",
    "profits = [2.5*n - (0.5*n+2000) for n in n_values] \n",
    "\n",
    "plt.plot(n_values, revenues, label='revenue', linestyle='dotted')\n",
    "plt.plot(n_values, costs, label='cost', linestyle='dotted')\n",
    "plt.plot(n_values, profits, label='profit', linestyle='dotted')\n",
    "\n",
    "plt.hlines(0,-20,3000, color='k')\n",
    "plt.vlines(0,-2000,6000, color='k')\n",
    "plt.vlines(be1,0,be2, color='r')\n",
    "\n",
    "plt.text(300, 4000, f'break even point ')\n",
    "plt.text(300, 3500, f'({be1},{be2})')\n",
    "plt.arrow(600, 3300, 300,-600, width=50)\n",
    "\n",
    "plt.legend()\n",
    "plt.savefig('pict/list_ques_be.png');"
   ]
  },
  {
   "cell_type": "markdown",
   "id": "f9de1aba-acd6-43a7-9cc1-cf551e332845",
   "metadata": {},
   "source": [
    "### Question: Exponential Depreciation\n",
    "The value $V$ of a truck in dollars is given by the formula $V(t)=140000(1.35)^{-0.6t}$  where $t$ is the age of the truck in years. \n",
    "\n",
    "- Plot the graph of values of the truck in 30 years."
   ]
  },
  {
   "cell_type": "code",
   "execution_count": 75,
   "id": "3846d26d-b24b-48bb-a4be-4c3834190787",
   "metadata": {},
   "outputs": [
    {
     "data": {
      "image/png": "[encoded data removed]",
      "text/plain": [
       "<Figure size 640x480 with 1 Axes>"
      ]
     },
     "metadata": {},
     "output_type": "display_data"
    }
   ],
   "source": [
    "years  = range(0,30)\n",
    "values = [140000*(1.35**(-0.6*t)) for t in years]\n",
    "plt.plot(years, values);"
   ]
  },
  {
   "cell_type": "markdown",
   "id": "a340b244-2c68-45ba-931d-536d2c7543d5",
   "metadata": {},
   "source": [
    "### Question: Demand Function\n",
    "If the demand function is given as the following linear relation $p = -2q+300$.\n",
    "- Plot the demand function for $1\\le q\\le 200$."
   ]
  },
  {
   "cell_type": "code",
   "execution_count": 89,
   "id": "101fa111-3c24-4c55-9269-48ceb58e0b39",
   "metadata": {},
   "outputs": [
    {
     "data": {
      "image/png": "[encoded data removed]",
      "text/plain": [
       "<Figure size 640x480 with 1 Axes>"
      ]
     },
     "metadata": {},
     "output_type": "display_data"
    }
   ],
   "source": [
    "q_values = range(1, 201)\n",
    "p_values = [-2*q+300 for q in q_values ] \n",
    "plt.plot(q_values, p_values)\n",
    "\n",
    "plt.hlines(0,-20,200, color='k')\n",
    "plt.vlines(0,-100,400, color='k');"
   ]
  },
  {
   "cell_type": "markdown",
   "id": "8c4fb4b8-dfd0-4764-ae5f-b11d6ae55f7b",
   "metadata": {},
   "source": [
    "### Question: Supply Function\n",
    "\n",
    "If the supply function is given by the linear relation \n",
    "$p = 4q+100$.\n",
    "- Plot the supply function for $1\\le q\\le 100$."
   ]
  },
  {
   "cell_type": "code",
   "execution_count": 77,
   "id": "e10eb7d0-ae1b-4424-b19a-ae6aefe7d3c0",
   "metadata": {},
   "outputs": [
    {
     "data": {
      "image/png": "[encoded data removed]",
      "text/plain": [
       "<Figure size 640x480 with 1 Axes>"
      ]
     },
     "metadata": {},
     "output_type": "display_data"
    }
   ],
   "source": [
    "q_values = range(1, 101)\n",
    "p_values = [4*q+100 for q in q_values ] \n",
    "plt.plot(q_values, p_values)\n",
    "\n",
    "plt.hlines(0,-20,100, color='k')\n",
    "plt.vlines(0,-100,600, color='k');"
   ]
  },
  {
   "cell_type": "markdown",
   "id": "0b83687c-5afc-4eb5-bb18-0dc163ca856e",
   "metadata": {},
   "source": [
    "### Question: Equilibrium Point\n",
    "*An equilibrium point is where the demand and supply curves intersect.*\n",
    "\n",
    "For the given demand and the supply functions find the equilibrium point and plot it.\n",
    "\n",
    "Demand: $p(q) = -0.03q + 1000$\n",
    "\n",
    "Supply: $p(q) = 0.02q + 400$\n",
    "\n",
    "- Hint: Calculate the demand and supply for $q$ between 0 and 20,000.\n",
    "\n",
    "Sample plot:\n",
    "\n",
    "![](pict/lists_ques_ep.png)"
   ]
  },
  {
   "cell_type": "code",
   "execution_count": 91,
   "id": "8aca8ae3-fafe-4c16-b1e6-bbeef50c4e8d",
   "metadata": {},
   "outputs": [
    {
     "name": "stdout",
     "output_type": "stream",
     "text": [
      "The equilibrium point is (12000,640.0)\n"
     ]
    }
   ],
   "source": [
    "for q in range(20_001):\n",
    "    d = -0.03*q + 1000\n",
    "    s = 0.02*q + 400\n",
    "    if d == s:\n",
    "        e1, e2 = q, d\n",
    "        print(f'The equilibrium point is ({e1},{e2})')\n",
    "        break"
   ]
  },
  {
   "cell_type": "code",
   "execution_count": 92,
   "id": "93b86082-fecf-4aed-adee-f74737404358",
   "metadata": {},
   "outputs": [
    {
     "data": {
      "image/png": "[encoded data removed]",
      "text/plain": [
       "<Figure size 640x480 with 1 Axes>"
      ]
     },
     "metadata": {},
     "output_type": "display_data"
    }
   ],
   "source": [
    "q_values = range(0,20000)\n",
    "demands = [-0.03*q + 1000 for q in q_values] \n",
    "supplies = [0.02*q + 400 for q in q_values] \n",
    "\n",
    "plt.plot(q_values, demands, label='demand', linestyle='dotted')\n",
    "plt.plot(q_values, supplies, label='supply', linestyle='dotted')\n",
    "\n",
    "plt.hlines(0,-1000,20000, color='k')\n",
    "plt.vlines(0,-100,1200, color='k')\n",
    "# plt.vlines(e1,0,e2, color='r')\n",
    "\n",
    "\n",
    "plt.text(e1-2000, e2+250, f'equilibrium point ')\n",
    "plt.text(e1-2000, e2+200, f'({e1},{e2})')\n",
    "plt.arrow(e1, e2+180, 0,-100, width=70, head_length=30)\n",
    "\n",
    "plt.legend()\n",
    "plt.savefig('pict/lists_ques_ep.png');"
   ]
  },
  {
   "cell_type": "markdown",
   "id": "3ca567f7-3d20-4d49-979c-73584c1f4be0",
   "metadata": {},
   "source": [
    "### Question: Stock Percentage Changes\n",
    "The following is a list of the prices for Tesla stock over a certain period of time.\n",
    "``` python\n",
    "stock_prices = [174.9499969482422,\n",
    " 186.60000610351562,\n",
    " 180.11000061035156,\n",
    " 173.74000549316406,\n",
    " 179.24000549316406,\n",
    " 176.75,\n",
    " 176.19000244140625,\n",
    " 178.7899932861328,\n",
    " 178.0800018310547,\n",
    " 176.2899932861328,\n",
    " 174.77000427246094,\n",
    " 175.0,\n",
    " 177.94000244140625,\n",
    " 177.47999572753906,\n",
    " 173.7899932861328,\n",
    " 170.66000366210938,\n",
    " 177.2899932861328,\n",
    " 182.47000122070312,\n",
    " 178.00999450683594,\n",
    " 187.44000244140625,\n",
    " 184.86000061035156]\n",
    "``` \n",
    "Create a list of percentage changes using the stock_prices list.\n",
    "- The first element of the percentage list is np.nan because there is no price available for the previous day."
   ]
  },
  {
   "cell_type": "markdown",
   "id": "799b6232-48e8-4635-9752-65fd6910e44c",
   "metadata": {},
   "source": [
    "``` python\n",
    "import numpy as np\n",
    "pct_changes = [np.nan]\n",
    "for i in range(len(stock_prices)-1):\n",
    "    pct = (stock_prices[i+1]-stock_prices[i])/stock_prices[i]\n",
    "    pct_changes.append(pct)\n",
    "pct_changes[:5]"
   ]
  },
  {
   "cell_type": "markdown",
   "id": "695262b9-8532-4d86-9a7e-1cad6654bb39",
   "metadata": {},
   "source": [
    "### Question: Stock Behavior\n",
    "The following is a list of the prices for Tesla stock over a certain period of time.\n",
    "``` python\n",
    "stock_prices = [174.9499969482422,\n",
    " 186.60000610351562,\n",
    " 180.11000061035156,\n",
    " 173.74000549316406,\n",
    " 179.24000549316406,\n",
    " 176.75,\n",
    " 176.19000244140625,\n",
    " 178.7899932861328,\n",
    " 178.0800018310547,\n",
    " 176.2899932861328,\n",
    " 174.77000427246094,\n",
    " 175.0,\n",
    " 177.94000244140625,\n",
    " 177.47999572753906,\n",
    " 173.7899932861328,\n",
    " 170.66000366210938,\n",
    " 177.2899932861328,\n",
    " 182.47000122070312,\n",
    " 178.00999450683594,\n",
    " 187.44000244140625,\n",
    " 184.86000061035156]\n",
    "```\n",
    "\n",
    "Create a list indicating the behavior of stock prices as Increasing, Decreasing, or Flat using the stock_prices list.\n",
    "- Count how many days the stock price went up.\n",
    "- The first element of the behavior list is np.nan because there is no price available for the previous day."
   ]
  },
  {
   "cell_type": "markdown",
   "id": "755191a0-d98f-4d91-9807-b7830be89ebe",
   "metadata": {},
   "source": [
    "``` python\n",
    "import numpy as np\n",
    "behavior = [np.nan]\n",
    "for i in range(len(stock_prices)-1):\n",
    "    change = stock_prices[i+1]-stock_prices[i]\n",
    "    if change > 0:\n",
    "        behavior.append('Increasing')\n",
    "    elif change < 0:\n",
    "        behavior.append('Decreasing')\n",
    "    else:\n",
    "        behavior.append('Flat')\n",
    "\n",
    "print(behavior[:5])\n",
    "print(f\"Stock price went up {behavior.count('Increasing')} days.\")"
   ]
  },
  {
   "cell_type": "code",
   "execution_count": null,
   "id": "cbc4c232-e590-4e80-9c37-07e2c6a6c755",
   "metadata": {},
   "outputs": [],
   "source": []
  }
 ],
 "metadata": {
  "kernelspec": {
   "display_name": "Python 3 (ipykernel)",
   "language": "python",
   "name": "python3"
  },
  "language_info": {
   "codemirror_mode": {
    "name": "ipython",
    "version": 3
   },
   "file_extension": ".py",
   "mimetype": "text/x-python",
   "name": "python",
   "nbconvert_exporter": "python",
   "pygments_lexer": "ipython3",
   "version": "3.11.8"
  }
 },
 "nbformat": 4,
 "nbformat_minor": 5
}
