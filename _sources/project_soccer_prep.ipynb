{
 "cells": [
  {
   "cell_type": "markdown",
   "id": "675c50e4-1bc7-4b14-bf40-deb6e3ccdbee",
   "metadata": {},
   "source": [
    "# Project: Soccer\n",
    "![Section Title: Soccer](title_pict/soccer2.png)"
   ]
  },
  {
   "cell_type": "code",
   "execution_count": 2,
   "id": "355f0f0b-96fa-4984-9610-437aa63d1ce3",
   "metadata": {},
   "outputs": [],
   "source": [
    "import matplotlib.pyplot as plt\n",
    "import numpy as np"
   ]
  },
  {
   "cell_type": "markdown",
   "id": "56378df8-27fa-4808-a5a4-514636407223",
   "metadata": {},
   "source": [
    "## Import Data\n",
    "In this project, the [soccer-data-api](https://pypi.org/project/soccer-data-api/) package is used to import \n",
    "soccer data  from https://www.sports-reference.com/\n",
    "\n",
    "Available leagues:\n",
    "- English Premier League\n",
    "- Spanish La Liga\n",
    "- French Ligue 1\n",
    "- German Bundesliga\n",
    "- Italian Serie A\n",
    "- Dutch Eredivisie\n",
    "- Russian Premier League\n",
    "- English Championship.\n",
    "\n",
    "To install the package, use `!pip install soccer-data-api`."
   ]
  },
  {
   "cell_type": "code",
   "execution_count": 4,
   "id": "6f617a47-8b83-4d5f-a747-7c9d03150af8",
   "metadata": {},
   "outputs": [],
   "source": [
    "# !pip install soccer-data-api"
   ]
  },
  {
   "cell_type": "code",
   "execution_count": 5,
   "id": "1be85559-879b-45f1-a127-f6d6be393e43",
   "metadata": {},
   "outputs": [],
   "source": [
    "from soccer_data_api import SoccerDataAPI\n",
    "soccer_data = SoccerDataAPI()"
   ]
  },
  {
   "cell_type": "markdown",
   "id": "e2ec648d-cb22-40bc-8bcd-b61b74fd0e86",
   "metadata": {},
   "source": [
    "- The *soccer_data* object contains methods specific to each league."
   ]
  },
  {
   "cell_type": "code",
   "execution_count": 7,
   "id": "c9c9667d-252c-48ca-8eb6-29607caceb06",
   "metadata": {},
   "outputs": [
    {
     "data": {
      "text/plain": [
       "soccer_data_api.soccer_api.SoccerDataAPI"
      ]
     },
     "execution_count": 7,
     "metadata": {},
     "output_type": "execute_result"
    }
   ],
   "source": [
    "type(soccer_data) "
   ]
  },
  {
   "cell_type": "code",
   "execution_count": 8,
   "id": "9e47b300-3aff-4fdd-ab00-8195f18a5699",
   "metadata": {},
   "outputs": [
    {
     "data": {
      "text/plain": [
       "['bundesliga',\n",
       " 'english_championship',\n",
       " 'english_premier',\n",
       " 'eredivisie',\n",
       " 'get_data',\n",
       " 'la_liga',\n",
       " 'ligue_1',\n",
       " 'russian_premier',\n",
       " 'serie_a']"
      ]
     },
     "execution_count": 8,
     "metadata": {},
     "output_type": "execute_result"
    }
   ],
   "source": [
    "# methods\n",
    "dir(soccer_data)[-9:]"
   ]
  },
  {
   "cell_type": "code",
   "execution_count": 9,
   "id": "afa86faf-9499-46c9-a714-a294f8b65cd9",
   "metadata": {},
   "outputs": [
    {
     "data": {
      "text/plain": [
       "[{'team': 'Bayern Munich',\n",
       "  'pos': '1',\n",
       "  'points': '72',\n",
       "  'matches_played': '30',\n",
       "  'wins': '22',\n",
       "  'draws': '22',\n",
       "  'losses': '2',\n",
       "  'goals_for': '87',\n",
       "  'goals_against': '29',\n",
       "  'goal_diff': '+58',\n",
       "  'top_scorer': 'Harry Kane - 24'},\n",
       " {'team': 'Leverkusen',\n",
       "  'pos': '2',\n",
       "  'points': '64',\n",
       "  'matches_played': '30',\n",
       "  'wins': '18',\n",
       "  'draws': '18',\n",
       "  'losses': '2',\n",
       "  'goals_for': '64',\n",
       "  'goals_against': '35',\n",
       "  'goal_diff': '+29',\n",
       "  'top_scorer': 'Patrik Schick - 18'},\n",
       " {'team': 'Eint Frankfurt',\n",
       "  'pos': '3',\n",
       "  'points': '52',\n",
       "  'matches_played': '30',\n",
       "  'wins': '15',\n",
       "  'draws': '15',\n",
       "  'losses': '8',\n",
       "  'goals_for': '58',\n",
       "  'goals_against': '42',\n",
       "  'goal_diff': '+16',\n",
       "  'top_scorer': 'Omar Marmoush - 15'},\n",
       " {'team': 'RB Leipzig',\n",
       "  'pos': '4',\n",
       "  'points': '49',\n",
       "  'matches_played': '30',\n",
       "  'wins': '13',\n",
       "  'draws': '13',\n",
       "  'losses': '7',\n",
       "  'goals_for': '48',\n",
       "  'goals_against': '38',\n",
       "  'goal_diff': '+10',\n",
       "  'top_scorer': 'Benjamin Šeško - 12'},\n",
       " {'team': 'Freiburg',\n",
       "  'pos': '5',\n",
       "  'points': '48',\n",
       "  'matches_played': '30',\n",
       "  'wins': '14',\n",
       "  'draws': '14',\n",
       "  'losses': '10',\n",
       "  'goals_for': '43',\n",
       "  'goals_against': '47',\n",
       "  'goal_diff': '-4',\n",
       "  'top_scorer': 'Ritsu Doan - 9'},\n",
       " {'team': 'Mainz 05',\n",
       "  'pos': '6',\n",
       "  'points': '47',\n",
       "  'matches_played': '30',\n",
       "  'wins': '13',\n",
       "  'draws': '13',\n",
       "  'losses': '9',\n",
       "  'goals_for': '48',\n",
       "  'goals_against': '36',\n",
       "  'goal_diff': '+12',\n",
       "  'top_scorer': 'Jonathan Burkardt - 15'},\n",
       " {'team': 'Dortmund',\n",
       "  'pos': '7',\n",
       "  'points': '45',\n",
       "  'matches_played': '30',\n",
       "  'wins': '13',\n",
       "  'draws': '13',\n",
       "  'losses': '11',\n",
       "  'goals_for': '57',\n",
       "  'goals_against': '47',\n",
       "  'goal_diff': '+10',\n",
       "  'top_scorer': 'Serhou Guirassy - 16'},\n",
       " {'team': 'Werder Bremen',\n",
       "  'pos': '8',\n",
       "  'points': '45',\n",
       "  'matches_played': '31',\n",
       "  'wins': '13',\n",
       "  'draws': '13',\n",
       "  'losses': '11',\n",
       "  'goals_for': '48',\n",
       "  'goals_against': '54',\n",
       "  'goal_diff': '-6',\n",
       "  'top_scorer': 'Marvin Ducksch, Jens Stage - 7'},\n",
       " {'team': 'Gladbach',\n",
       "  'pos': '9',\n",
       "  'points': '44',\n",
       "  'matches_played': '30',\n",
       "  'wins': '13',\n",
       "  'draws': '13',\n",
       "  'losses': '12',\n",
       "  'goals_for': '48',\n",
       "  'goals_against': '46',\n",
       "  'goal_diff': '+2',\n",
       "  'top_scorer': 'Tim Kleindienst - 15'},\n",
       " {'team': 'Augsburg',\n",
       "  'pos': '10',\n",
       "  'points': '43',\n",
       "  'matches_played': '30',\n",
       "  'wins': '11',\n",
       "  'draws': '11',\n",
       "  'losses': '9',\n",
       "  'goals_for': '33',\n",
       "  'goals_against': '40',\n",
       "  'goal_diff': '-7',\n",
       "  'top_scorer': 'Alexis Claude-Maurice - 9'},\n",
       " {'team': 'Stuttgart',\n",
       "  'pos': '11',\n",
       "  'points': '41',\n",
       "  'matches_played': '30',\n",
       "  'wins': '11',\n",
       "  'draws': '11',\n",
       "  'losses': '12',\n",
       "  'goals_for': '56',\n",
       "  'goals_against': '51',\n",
       "  'goal_diff': '+5',\n",
       "  'top_scorer': 'Ermedin Demirović - 13'},\n",
       " {'team': 'Wolfsburg',\n",
       "  'pos': '12',\n",
       "  'points': '39',\n",
       "  'matches_played': '30',\n",
       "  'wins': '10',\n",
       "  'draws': '10',\n",
       "  'losses': '11',\n",
       "  'goals_for': '53',\n",
       "  'goals_against': '47',\n",
       "  'goal_diff': '+6',\n",
       "  'top_scorer': 'Mohamed Amoura - 10'},\n",
       " {'team': 'Union Berlin',\n",
       "  'pos': '13',\n",
       "  'points': '35',\n",
       "  'matches_played': '30',\n",
       "  'wins': '9',\n",
       "  'draws': '9',\n",
       "  'losses': '13',\n",
       "  'goals_for': '30',\n",
       "  'goals_against': '44',\n",
       "  'goal_diff': '-14',\n",
       "  'top_scorer': 'Benedict Hollerbach - 8'},\n",
       " {'team': 'St. Pauli',\n",
       "  'pos': '14',\n",
       "  'points': '30',\n",
       "  'matches_played': '30',\n",
       "  'wins': '8',\n",
       "  'draws': '8',\n",
       "  'losses': '16',\n",
       "  'goals_for': '26',\n",
       "  'goals_against': '36',\n",
       "  'goal_diff': '-10',\n",
       "  'top_scorer': 'Morgan Guilavogui - 5'},\n",
       " {'team': 'Hoffenheim',\n",
       "  'pos': '15',\n",
       "  'points': '30',\n",
       "  'matches_played': '31',\n",
       "  'wins': '7',\n",
       "  'draws': '7',\n",
       "  'losses': '14',\n",
       "  'goals_for': '38',\n",
       "  'goals_against': '55',\n",
       "  'goal_diff': '-17',\n",
       "  'top_scorer': 'Andrej Kramarić - 11'},\n",
       " {'team': 'Heidenheim',\n",
       "  'pos': '16',\n",
       "  'points': '25',\n",
       "  'matches_played': '30',\n",
       "  'wins': '7',\n",
       "  'draws': '7',\n",
       "  'losses': '20',\n",
       "  'goals_for': '33',\n",
       "  'goals_against': '60',\n",
       "  'goal_diff': '-27',\n",
       "  'top_scorer': 'Marvin Pieringer - 7'},\n",
       " {'team': 'Bochum',\n",
       "  'pos': '17',\n",
       "  'points': '20',\n",
       "  'matches_played': '30',\n",
       "  'wins': '5',\n",
       "  'draws': '5',\n",
       "  'losses': '20',\n",
       "  'goals_for': '29',\n",
       "  'goals_against': '62',\n",
       "  'goal_diff': '-33',\n",
       "  'top_scorer': 'Myron Boadu - 7'},\n",
       " {'team': 'Holstein Kiel',\n",
       "  'pos': '18',\n",
       "  'points': '19',\n",
       "  'matches_played': '30',\n",
       "  'wins': '4',\n",
       "  'draws': '4',\n",
       "  'losses': '19',\n",
       "  'goals_for': '41',\n",
       "  'goals_against': '71',\n",
       "  'goal_diff': '-30',\n",
       "  'top_scorer': 'Shuto Machino, Phil Harres - 8'}]"
      ]
     },
     "execution_count": 9,
     "metadata": {},
     "output_type": "execute_result"
    }
   ],
   "source": [
    "soccer_data.bundesliga()"
   ]
  },
  {
   "cell_type": "markdown",
   "id": "e13a32f8-bd32-4dd0-a323-3f86ff7007b7",
   "metadata": {},
   "source": [
    "## English Premier League\n",
    "Each league is represented as a list."
   ]
  },
  {
   "cell_type": "code",
   "execution_count": 11,
   "id": "36a954ef-f483-4339-b02b-770aeaa0fc3e",
   "metadata": {},
   "outputs": [
    {
     "data": {
      "text/plain": [
       "list"
      ]
     },
     "execution_count": 11,
     "metadata": {},
     "output_type": "execute_result"
    }
   ],
   "source": [
    "ep = soccer_data.english_premier()\n",
    "type(ep)"
   ]
  },
  {
   "cell_type": "code",
   "execution_count": 12,
   "id": "c86ae00e-2dc5-4079-a74e-ea6b12ecc006",
   "metadata": {},
   "outputs": [
    {
     "data": {
      "text/plain": [
       "20"
      ]
     },
     "execution_count": 12,
     "metadata": {},
     "output_type": "execute_result"
    }
   ],
   "source": [
    "len(ep)"
   ]
  },
  {
   "cell_type": "markdown",
   "id": "afaa537e-e628-4105-a259-1015cb2b6788",
   "metadata": {},
   "source": [
    "- The list elements consist of dictionaries for each team, ordered by their ranking."
   ]
  },
  {
   "cell_type": "code",
   "execution_count": 14,
   "id": "2a67bb12-7324-4446-8a33-87fd544d66c2",
   "metadata": {},
   "outputs": [
    {
     "data": {
      "text/plain": [
       "[{'team': 'Liverpool',\n",
       "  'pos': '1',\n",
       "  'points': '79',\n",
       "  'matches_played': '34',\n",
       "  'wins': '24',\n",
       "  'draws': '24',\n",
       "  'losses': '2',\n",
       "  'goals_for': '75',\n",
       "  'goals_against': '31',\n",
       "  'goal_diff': '+44',\n",
       "  'top_scorer': 'Mohamed Salah - 27'},\n",
       " {'team': 'Arsenal',\n",
       "  'pos': '2',\n",
       "  'points': '67',\n",
       "  'matches_played': '34',\n",
       "  'wins': '18',\n",
       "  'draws': '18',\n",
       "  'losses': '3',\n",
       "  'goals_for': '63',\n",
       "  'goals_against': '29',\n",
       "  'goal_diff': '+34',\n",
       "  'top_scorer': 'Kai Havertz - 9'},\n",
       " {'team': 'Manchester City',\n",
       "  'pos': '3',\n",
       "  'points': '61',\n",
       "  'matches_played': '33',\n",
       "  'wins': '18',\n",
       "  'draws': '18',\n",
       "  'losses': '9',\n",
       "  'goals_for': '66',\n",
       "  'goals_against': '43',\n",
       "  'goal_diff': '+23',\n",
       "  'top_scorer': 'Erling Haaland - 21'},\n",
       " {'team': \"Nott'ham Forest\",\n",
       "  'pos': '4',\n",
       "  'points': '60',\n",
       "  'matches_played': '33',\n",
       "  'wins': '18',\n",
       "  'draws': '18',\n",
       "  'losses': '9',\n",
       "  'goals_for': '53',\n",
       "  'goals_against': '39',\n",
       "  'goal_diff': '+14',\n",
       "  'top_scorer': 'Chris Wood - 19'},\n",
       " {'team': 'Newcastle Utd',\n",
       "  'pos': '5',\n",
       "  'points': '59',\n",
       "  'matches_played': '33',\n",
       "  'wins': '18',\n",
       "  'draws': '18',\n",
       "  'losses': '10',\n",
       "  'goals_for': '62',\n",
       "  'goals_against': '44',\n",
       "  'goal_diff': '+18',\n",
       "  'top_scorer': 'Alexander Isak - 21'},\n",
       " {'team': 'Chelsea',\n",
       "  'pos': '6',\n",
       "  'points': '57',\n",
       "  'matches_played': '33',\n",
       "  'wins': '16',\n",
       "  'draws': '16',\n",
       "  'losses': '8',\n",
       "  'goals_for': '58',\n",
       "  'goals_against': '40',\n",
       "  'goal_diff': '+18',\n",
       "  'top_scorer': 'Cole Palmer - 14'},\n",
       " {'team': 'Aston Villa',\n",
       "  'pos': '7',\n",
       "  'points': '57',\n",
       "  'matches_played': '34',\n",
       "  'wins': '16',\n",
       "  'draws': '16',\n",
       "  'losses': '9',\n",
       "  'goals_for': '54',\n",
       "  'goals_against': '49',\n",
       "  'goal_diff': '+5',\n",
       "  'top_scorer': 'Ollie Watkins - 15'},\n",
       " {'team': 'Bournemouth',\n",
       "  'pos': '8',\n",
       "  'points': '49',\n",
       "  'matches_played': '33',\n",
       "  'wins': '13',\n",
       "  'draws': '13',\n",
       "  'losses': '10',\n",
       "  'goals_for': '52',\n",
       "  'goals_against': '40',\n",
       "  'goal_diff': '+12',\n",
       "  'top_scorer': 'Justin Kluivert - 12'},\n",
       " {'team': 'Fulham',\n",
       "  'pos': '9',\n",
       "  'points': '48',\n",
       "  'matches_played': '33',\n",
       "  'wins': '13',\n",
       "  'draws': '13',\n",
       "  'losses': '11',\n",
       "  'goals_for': '48',\n",
       "  'goals_against': '45',\n",
       "  'goal_diff': '+3',\n",
       "  'top_scorer': 'Raúl Jiménez - 10'},\n",
       " {'team': 'Brighton',\n",
       "  'pos': '10',\n",
       "  'points': '48',\n",
       "  'matches_played': '33',\n",
       "  'wins': '12',\n",
       "  'draws': '12',\n",
       "  'losses': '9',\n",
       "  'goals_for': '53',\n",
       "  'goals_against': '53',\n",
       "  'goal_diff': '0',\n",
       "  'top_scorer': 'João Pedro - 10'},\n",
       " {'team': 'Brentford',\n",
       "  'pos': '11',\n",
       "  'points': '46',\n",
       "  'matches_played': '33',\n",
       "  'wins': '13',\n",
       "  'draws': '13',\n",
       "  'losses': '13',\n",
       "  'goals_for': '56',\n",
       "  'goals_against': '50',\n",
       "  'goal_diff': '+6',\n",
       "  'top_scorer': 'Bryan Mbeumo - 18'},\n",
       " {'team': 'Crystal Palace',\n",
       "  'pos': '12',\n",
       "  'points': '45',\n",
       "  'matches_played': '33',\n",
       "  'wins': '11',\n",
       "  'draws': '11',\n",
       "  'losses': '11',\n",
       "  'goals_for': '43',\n",
       "  'goals_against': '47',\n",
       "  'goal_diff': '-4',\n",
       "  'top_scorer': 'Jean-Philippe Mateta - 14'},\n",
       " {'team': 'Everton',\n",
       "  'pos': '13',\n",
       "  'points': '38',\n",
       "  'matches_played': '34',\n",
       "  'wins': '8',\n",
       "  'draws': '8',\n",
       "  'losses': '11',\n",
       "  'goals_for': '34',\n",
       "  'goals_against': '40',\n",
       "  'goal_diff': '-6',\n",
       "  'top_scorer': 'Iliman Ndiaye - 7'},\n",
       " {'team': 'Manchester Utd',\n",
       "  'pos': '14',\n",
       "  'points': '38',\n",
       "  'matches_played': '33',\n",
       "  'wins': '10',\n",
       "  'draws': '10',\n",
       "  'losses': '15',\n",
       "  'goals_for': '38',\n",
       "  'goals_against': '46',\n",
       "  'goal_diff': '-8',\n",
       "  'top_scorer': 'Bruno Fernandes - 8'},\n",
       " {'team': 'Wolves',\n",
       "  'pos': '15',\n",
       "  'points': '38',\n",
       "  'matches_played': '33',\n",
       "  'wins': '11',\n",
       "  'draws': '11',\n",
       "  'losses': '17',\n",
       "  'goals_for': '48',\n",
       "  'goals_against': '61',\n",
       "  'goal_diff': '-13',\n",
       "  'top_scorer': 'Matheus Cunha - 14'},\n",
       " {'team': 'Tottenham',\n",
       "  'pos': '16',\n",
       "  'points': '37',\n",
       "  'matches_played': '33',\n",
       "  'wins': '11',\n",
       "  'draws': '11',\n",
       "  'losses': '18',\n",
       "  'goals_for': '61',\n",
       "  'goals_against': '51',\n",
       "  'goal_diff': '+10',\n",
       "  'top_scorer': 'Brennan Johnson - 11'},\n",
       " {'team': 'West Ham',\n",
       "  'pos': '17',\n",
       "  'points': '36',\n",
       "  'matches_played': '33',\n",
       "  'wins': '9',\n",
       "  'draws': '9',\n",
       "  'losses': '15',\n",
       "  'goals_for': '37',\n",
       "  'goals_against': '55',\n",
       "  'goal_diff': '-18',\n",
       "  'top_scorer': 'Jarrod Bowen - 9'},\n",
       " {'team': 'Ipswich Town',\n",
       "  'pos': '18',\n",
       "  'points': '21',\n",
       "  'matches_played': '33',\n",
       "  'wins': '4',\n",
       "  'draws': '4',\n",
       "  'losses': '20',\n",
       "  'goals_for': '33',\n",
       "  'goals_against': '71',\n",
       "  'goal_diff': '-38',\n",
       "  'top_scorer': 'Liam Delap - 12'},\n",
       " {'team': 'Leicester City',\n",
       "  'pos': '19',\n",
       "  'points': '18',\n",
       "  'matches_played': '33',\n",
       "  'wins': '4',\n",
       "  'draws': '4',\n",
       "  'losses': '23',\n",
       "  'goals_for': '27',\n",
       "  'goals_against': '73',\n",
       "  'goal_diff': '-46',\n",
       "  'top_scorer': 'Jamie Vardy - 7'},\n",
       " {'team': 'Southampton',\n",
       "  'pos': '20',\n",
       "  'points': '11',\n",
       "  'matches_played': '33',\n",
       "  'wins': '2',\n",
       "  'draws': '2',\n",
       "  'losses': '26',\n",
       "  'goals_for': '24',\n",
       "  'goals_against': '78',\n",
       "  'goal_diff': '-54',\n",
       "  'top_scorer': 'Paul Onuachu - 4'}]"
      ]
     },
     "execution_count": 14,
     "metadata": {},
     "output_type": "execute_result"
    }
   ],
   "source": [
    "ep"
   ]
  },
  {
   "cell_type": "markdown",
   "id": "ffd31ab1-4f2b-4799-974a-4346970d0816",
   "metadata": {},
   "source": [
    "- Each team is represented as a dictionary."
   ]
  },
  {
   "cell_type": "code",
   "execution_count": 16,
   "id": "0760c625-4191-4c00-9d83-5a8b8654f024",
   "metadata": {},
   "outputs": [
    {
     "data": {
      "text/plain": [
       "{'team': 'Liverpool',\n",
       " 'pos': '1',\n",
       " 'points': '79',\n",
       " 'matches_played': '34',\n",
       " 'wins': '24',\n",
       " 'draws': '24',\n",
       " 'losses': '2',\n",
       " 'goals_for': '75',\n",
       " 'goals_against': '31',\n",
       " 'goal_diff': '+44',\n",
       " 'top_scorer': 'Mohamed Salah - 27'}"
      ]
     },
     "execution_count": 16,
     "metadata": {},
     "output_type": "execute_result"
    }
   ],
   "source": [
    "ep[0]"
   ]
  },
  {
   "cell_type": "markdown",
   "id": "15897c92-cdd1-472d-b0e2-f51de40a16e2",
   "metadata": {},
   "source": [
    "- For each team, the following information is provided."
   ]
  },
  {
   "cell_type": "code",
   "execution_count": 18,
   "id": "24aac087-a5c5-48ad-8c92-26ad47e6a663",
   "metadata": {},
   "outputs": [
    {
     "data": {
      "text/plain": [
       "dict_keys(['team', 'pos', 'points', 'matches_played', 'wins', 'draws', 'losses', 'goals_for', 'goals_against', 'goal_diff', 'top_scorer'])"
      ]
     },
     "execution_count": 18,
     "metadata": {},
     "output_type": "execute_result"
    }
   ],
   "source": [
    "ep[0].keys()"
   ]
  },
  {
   "cell_type": "markdown",
   "id": "fe2158fa-dc82-4c9e-a21e-41d88604b2fd",
   "metadata": {},
   "source": [
    "### Most Scorer Team"
   ]
  },
  {
   "cell_type": "code",
   "execution_count": 20,
   "id": "ae664ff9-2b16-4400-98b7-a5c0faf96207",
   "metadata": {},
   "outputs": [
    {
     "name": "stdout",
     "output_type": "stream",
     "text": [
      "Team         : Liverpool\n",
      "Max Goals For: 75\n"
     ]
    }
   ],
   "source": [
    "max_goals_for = 0\n",
    "max_goals_for_team = ''\n",
    "\n",
    "for t in ep:\n",
    "    if int(t['goals_for']) > max_goals_for:\n",
    "        max_goals_for = int(t['goals_for'])\n",
    "        max_goals_for_team = t['team']\n",
    "\n",
    "print(f'Team         : {max_goals_for_team}')\n",
    "print(f'Max Goals For: {max_goals_for}')"
   ]
  },
  {
   "cell_type": "markdown",
   "id": "68b93956-2af2-4913-9e28-e93580012600",
   "metadata": {},
   "source": [
    "### Least Scorer Team"
   ]
  },
  {
   "cell_type": "code",
   "execution_count": 22,
   "id": "d988c82f-1514-4f0f-a190-42cca8f47537",
   "metadata": {},
   "outputs": [
    {
     "name": "stdout",
     "output_type": "stream",
     "text": [
      "Team         : Southampton\n",
      "Min Goals For: 24\n"
     ]
    }
   ],
   "source": [
    "import numpy as np\n",
    "\n",
    "min_goals_for = np.inf\n",
    "min_goals_for_team = ''\n",
    "\n",
    "for t in ep:\n",
    "    if int(t['goals_for']) < min_goals_for:\n",
    "        min_goals_for = int(t['goals_for'])\n",
    "        min_goals_for_team = t['team']\n",
    "\n",
    "print(f'Team         : {min_goals_for_team}')\n",
    "print(f'Min Goals For: {min_goals_for}')"
   ]
  },
  {
   "cell_type": "markdown",
   "id": "52dacdea-2db4-409a-902c-16dc6ca0cb0e",
   "metadata": {},
   "source": [
    "### The most goals scored against "
   ]
  },
  {
   "cell_type": "code",
   "execution_count": 24,
   "id": "78b00936-cc91-498a-94d4-eb448a3ab8bd",
   "metadata": {},
   "outputs": [
    {
     "name": "stdout",
     "output_type": "stream",
     "text": [
      "Team             : Southampton\n",
      "Max Goals Against: 78\n"
     ]
    }
   ],
   "source": [
    "max_goals_against = 0\n",
    "max_goals_against_team = ''\n",
    "\n",
    "for t in ep:\n",
    "    if int(t['goals_against']) > max_goals_against:\n",
    "        max_goals_against = int(t['goals_against'])\n",
    "        max_goals_against_team = t['team']\n",
    "\n",
    "print(f'Team             : {max_goals_against_team}')\n",
    "print(f'Max Goals Against: {max_goals_against}')"
   ]
  },
  {
   "cell_type": "markdown",
   "id": "f6d21e13-91fb-4151-9f70-be20652210ac",
   "metadata": {},
   "source": [
    "### Top Scorer Player"
   ]
  },
  {
   "cell_type": "code",
   "execution_count": 26,
   "id": "80697dbd-1201-4e6e-bd58-10bb7fb95a68",
   "metadata": {},
   "outputs": [
    {
     "name": "stdout",
     "output_type": "stream",
     "text": [
      "Top Scorer : Mohamed Salah \n",
      "Top Score  : 27\n"
     ]
    }
   ],
   "source": [
    "top_score = 0\n",
    "top_score_player = ''\n",
    "\n",
    "for t in ep:\n",
    "    ts = t['top_scorer']\n",
    "    if int(ts[ts.rfind('-')+1:]) > top_score:\n",
    "        top_score = int(ts[ts.find('-')+1:])\n",
    "        top_score_player = ts[:ts.find('-')]\n",
    "\n",
    "print(f'Top Scorer : {top_score_player}')\n",
    "print(f'Top Score  : {top_score}')"
   ]
  },
  {
   "cell_type": "markdown",
   "id": "11afcea6-2e01-440c-a133-578f4c6ac32f",
   "metadata": {},
   "source": [
    "### Equal Scorer Players in a Team"
   ]
  },
  {
   "cell_type": "code",
   "execution_count": 28,
   "id": "b15ffdff-6406-4e9b-b2f4-faad123ce1d6",
   "metadata": {},
   "outputs": [],
   "source": [
    "top_score = 0\n",
    "top_score_player = ''\n",
    "\n",
    "for t in ep:\n",
    "    ts = t['top_scorer']\n",
    "    if ts.find(',') != -1:\n",
    "        print(ts)"
   ]
  },
  {
   "cell_type": "markdown",
   "id": "1cd8adff-e0f0-425c-b79b-9bd74b146358",
   "metadata": {},
   "source": [
    "### List of Teams and Points"
   ]
  },
  {
   "cell_type": "code",
   "execution_count": 30,
   "id": "20cf49da-20e1-4b42-aa07-3b539243aa6f",
   "metadata": {},
   "outputs": [],
   "source": [
    "teams, points = [], []\n",
    "\n",
    "for t in ep:\n",
    "    teams.append(t['team'])\n",
    "    points.append(int(t['points']))"
   ]
  },
  {
   "cell_type": "markdown",
   "id": "598a4648-af47-42c1-b83e-9a0a90d6bd21",
   "metadata": {},
   "source": [
    "### Bar graph of points"
   ]
  },
  {
   "cell_type": "code",
   "execution_count": 32,
   "id": "f1f18489-a316-4381-bbd1-86b4a72be196",
   "metadata": {},
   "outputs": [
    {
     "data": {
      "image/png": "[encoded data removed]",
      "text/plain": [
       "<Figure size 2000x500 with 1 Axes>"
      ]
     },
     "metadata": {},
     "output_type": "display_data"
    }
   ],
   "source": [
    "plt.figure(figsize=(20,5))\n",
    "plt.bar(teams, points)\n",
    "plt.xticks(rotation=90);"
   ]
  },
  {
   "cell_type": "code",
   "execution_count": 33,
   "id": "94031bbf-4057-4c6b-8baf-7aff1a7c4411",
   "metadata": {},
   "outputs": [
    {
     "data": {
      "image/png": "[encoded data removed]",
      "text/plain": [
       "<Figure size 500x1000 with 1 Axes>"
      ]
     },
     "metadata": {},
     "output_type": "display_data"
    }
   ],
   "source": [
    "plt.figure(figsize=(5,10))\n",
    "plt.barh( teams, points);"
   ]
  },
  {
   "cell_type": "markdown",
   "id": "46646f16-9044-4285-9bb8-1f01f6dddd26",
   "metadata": {},
   "source": [
    "### Check Matches Played\n",
    "- There is an issue with the data.\n",
    "- The number of draws is incorrect."
   ]
  },
  {
   "cell_type": "code",
   "execution_count": 35,
   "id": "31f7814e-e72c-4c0a-8c52-f1c3c4d70606",
   "metadata": {},
   "outputs": [
    {
     "name": "stdout",
     "output_type": "stream",
     "text": [
      "Liverpool 34 24 24 2\n",
      "Arsenal 34 18 18 3\n",
      "Manchester City 33 18 18 9\n",
      "Nott'ham Forest 33 18 18 9\n",
      "Newcastle Utd 33 18 18 10\n",
      "Chelsea 33 16 16 8\n",
      "Aston Villa 34 16 16 9\n",
      "Bournemouth 33 13 13 10\n",
      "Fulham 33 13 13 11\n",
      "Brentford 33 13 13 13\n",
      "Everton 34 8 8 11\n",
      "Manchester Utd 33 10 10 15\n",
      "Wolves 33 11 11 17\n",
      "Tottenham 33 11 11 18\n",
      "Ipswich Town 33 4 4 20\n",
      "Leicester City 33 4 4 23\n",
      "Southampton 33 2 2 26\n"
     ]
    }
   ],
   "source": [
    "for t in ep:\n",
    "    if int(t['matches_played']) != int(t['wins']) + int(t['draws']) +int(t['losses']):\n",
    "        print(t['team'], int(t['matches_played']), int(t['wins']), int(t['draws']), int(t['losses']) )"
   ]
  },
  {
   "cell_type": "markdown",
   "id": "c8b15f7c-49e4-4cc4-9866-d3f9535be808",
   "metadata": {},
   "source": [
    "## All Leagues\n",
    "The following is the list of all the leagues available in the package."
   ]
  },
  {
   "cell_type": "code",
   "execution_count": 37,
   "id": "6f5735ce-f931-4761-8b93-fb6f3df250d6",
   "metadata": {},
   "outputs": [],
   "source": [
    "leagues = [soccer_data.english_premier(),\n",
    "soccer_data.la_liga(),\n",
    "soccer_data.ligue_1(),\n",
    "soccer_data.bundesliga(),\n",
    "soccer_data.serie_a(),\n",
    "soccer_data.eredivisie(),\n",
    "soccer_data.russian_premier(),\n",
    "soccer_data.english_championship()]"
   ]
  },
  {
   "cell_type": "markdown",
   "id": "b6a8fe84-14f4-46f6-9f89-2427b37ae814",
   "metadata": {},
   "source": [
    "The following is the dictionary of all the leagues available in the package."
   ]
  },
  {
   "cell_type": "code",
   "execution_count": 39,
   "id": "8e10af60-9d86-41c7-87bf-b12fba71ce7a",
   "metadata": {},
   "outputs": [
    {
     "data": {
      "text/plain": [
       "[{'team': 'Barcelona',\n",
       "  'pos': '1',\n",
       "  'points': '76',\n",
       "  'matches_played': '33',\n",
       "  'wins': '24',\n",
       "  'draws': '24',\n",
       "  'losses': '5',\n",
       "  'goals_for': '89',\n",
       "  'goals_against': '32',\n",
       "  'goal_diff': '+57',\n",
       "  'top_scorer': 'Robert Lewandowski - 25'},\n",
       " {'team': 'Real Madrid',\n",
       "  'pos': '2',\n",
       "  'points': '72',\n",
       "  'matches_played': '33',\n",
       "  'wins': '22',\n",
       "  'draws': '22',\n",
       "  'losses': '5',\n",
       "  'goals_for': '66',\n",
       "  'goals_against': '31',\n",
       "  'goal_diff': '+35',\n",
       "  'top_scorer': 'Kylian Mbappé - 22'},\n",
       " {'team': 'Atlético Madrid',\n",
       "  'pos': '3',\n",
       "  'points': '66',\n",
       "  'matches_played': '33',\n",
       "  'wins': '19',\n",
       "  'draws': '19',\n",
       "  'losses': '5',\n",
       "  'goals_for': '56',\n",
       "  'goals_against': '27',\n",
       "  'goal_diff': '+29',\n",
       "  'top_scorer': 'Julián Álvarez - 15'},\n",
       " {'team': 'Athletic Club',\n",
       "  'pos': '4',\n",
       "  'points': '60',\n",
       "  'matches_played': '33',\n",
       "  'wins': '16',\n",
       "  'draws': '16',\n",
       "  'losses': '5',\n",
       "  'goals_for': '50',\n",
       "  'goals_against': '26',\n",
       "  'goal_diff': '+24',\n",
       "  'top_scorer': 'Oihan Sancet - 15'},\n",
       " {'team': 'Betis',\n",
       "  'pos': '5',\n",
       "  'points': '54',\n",
       "  'matches_played': '33',\n",
       "  'wins': '15',\n",
       "  'draws': '15',\n",
       "  'losses': '9',\n",
       "  'goals_for': '50',\n",
       "  'goals_against': '41',\n",
       "  'goal_diff': '+9',\n",
       "  'top_scorer': 'Isco - 8'},\n",
       " {'team': 'Villarreal',\n",
       "  'pos': '6',\n",
       "  'points': '52',\n",
       "  'matches_played': '33',\n",
       "  'wins': '14',\n",
       "  'draws': '14',\n",
       "  'losses': '8',\n",
       "  'goals_for': '55',\n",
       "  'goals_against': '45',\n",
       "  'goal_diff': '+10',\n",
       "  'top_scorer': 'Ayoze Pérez - 14'},\n",
       " {'team': 'Celta Vigo',\n",
       "  'pos': '7',\n",
       "  'points': '46',\n",
       "  'matches_played': '32',\n",
       "  'wins': '13',\n",
       "  'draws': '13',\n",
       "  'losses': '13',\n",
       "  'goals_for': '50',\n",
       "  'goals_against': '49',\n",
       "  'goal_diff': '+1',\n",
       "  'top_scorer': 'Iago Aspas, Borja Iglesias - 9'},\n",
       " {'team': 'Osasuna',\n",
       "  'pos': '8',\n",
       "  'points': '44',\n",
       "  'matches_played': '33',\n",
       "  'wins': '10',\n",
       "  'draws': '10',\n",
       "  'losses': '9',\n",
       "  'goals_for': '40',\n",
       "  'goals_against': '46',\n",
       "  'goal_diff': '-6',\n",
       "  'top_scorer': 'Ante Budimir - 18'},\n",
       " {'team': 'Mallorca',\n",
       "  'pos': '9',\n",
       "  'points': '44',\n",
       "  'matches_played': '33',\n",
       "  'wins': '12',\n",
       "  'draws': '12',\n",
       "  'losses': '13',\n",
       "  'goals_for': '31',\n",
       "  'goals_against': '38',\n",
       "  'goal_diff': '-7',\n",
       "  'top_scorer': 'Vedat Muriqi - 7'},\n",
       " {'team': 'Real Sociedad',\n",
       "  'pos': '10',\n",
       "  'points': '42',\n",
       "  'matches_played': '33',\n",
       "  'wins': '12',\n",
       "  'draws': '12',\n",
       "  'losses': '15',\n",
       "  'goals_for': '32',\n",
       "  'goals_against': '37',\n",
       "  'goal_diff': '-5',\n",
       "  'top_scorer': 'Mikel Oyarzabal - 8'},\n",
       " {'team': 'Rayo Vallecano',\n",
       "  'pos': '11',\n",
       "  'points': '41',\n",
       "  'matches_played': '33',\n",
       "  'wins': '10',\n",
       "  'draws': '10',\n",
       "  'losses': '12',\n",
       "  'goals_for': '35',\n",
       "  'goals_against': '42',\n",
       "  'goal_diff': '-7',\n",
       "  'top_scorer': 'Pathé Ciss, Jorge de Frutos - 4'},\n",
       " {'team': 'Getafe',\n",
       "  'pos': '12',\n",
       "  'points': '39',\n",
       "  'matches_played': '33',\n",
       "  'wins': '10',\n",
       "  'draws': '10',\n",
       "  'losses': '14',\n",
       "  'goals_for': '31',\n",
       "  'goals_against': '30',\n",
       "  'goal_diff': '+1',\n",
       "  'top_scorer': 'Mauro Arambarri - 9'},\n",
       " {'team': 'Espanyol',\n",
       "  'pos': '13',\n",
       "  'points': '39',\n",
       "  'matches_played': '33',\n",
       "  'wins': '10',\n",
       "  'draws': '10',\n",
       "  'losses': '13',\n",
       "  'goals_for': '35',\n",
       "  'goals_against': '41',\n",
       "  'goal_diff': '-6',\n",
       "  'top_scorer': 'Javi Puado - 11'},\n",
       " {'team': 'Valencia',\n",
       "  'pos': '14',\n",
       "  'points': '39',\n",
       "  'matches_played': '33',\n",
       "  'wins': '9',\n",
       "  'draws': '9',\n",
       "  'losses': '12',\n",
       "  'goals_for': '37',\n",
       "  'goals_against': '49',\n",
       "  'goal_diff': '-12',\n",
       "  'top_scorer': 'Hugo Duro - 8'},\n",
       " {'team': 'Sevilla',\n",
       "  'pos': '15',\n",
       "  'points': '37',\n",
       "  'matches_played': '33',\n",
       "  'wins': '9',\n",
       "  'draws': '9',\n",
       "  'losses': '14',\n",
       "  'goals_for': '35',\n",
       "  'goals_against': '44',\n",
       "  'goal_diff': '-9',\n",
       "  'top_scorer': 'Dodi Lukebakio - 11'},\n",
       " {'team': 'Girona',\n",
       "  'pos': '16',\n",
       "  'points': '35',\n",
       "  'matches_played': '33',\n",
       "  'wins': '9',\n",
       "  'draws': '9',\n",
       "  'losses': '16',\n",
       "  'goals_for': '40',\n",
       "  'goals_against': '52',\n",
       "  'goal_diff': '-12',\n",
       "  'top_scorer': 'Cristhian Stuani - 8'},\n",
       " {'team': 'Alavés',\n",
       "  'pos': '17',\n",
       "  'points': '34',\n",
       "  'matches_played': '33',\n",
       "  'wins': '8',\n",
       "  'draws': '8',\n",
       "  'losses': '15',\n",
       "  'goals_for': '35',\n",
       "  'goals_against': '46',\n",
       "  'goal_diff': '-11',\n",
       "  'top_scorer': 'Kiké - 12'},\n",
       " {'team': 'Las Palmas',\n",
       "  'pos': '18',\n",
       "  'points': '32',\n",
       "  'matches_played': '33',\n",
       "  'wins': '8',\n",
       "  'draws': '8',\n",
       "  'losses': '17',\n",
       "  'goals_for': '38',\n",
       "  'goals_against': '53',\n",
       "  'goal_diff': '-15',\n",
       "  'top_scorer': 'Fábio Silva - 10'},\n",
       " {'team': 'Leganés',\n",
       "  'pos': '19',\n",
       "  'points': '30',\n",
       "  'matches_played': '33',\n",
       "  'wins': '6',\n",
       "  'draws': '6',\n",
       "  'losses': '15',\n",
       "  'goals_for': '30',\n",
       "  'goals_against': '49',\n",
       "  'goal_diff': '-19',\n",
       "  'top_scorer': 'Dani Raba - 7'},\n",
       " {'team': 'Valladolid',\n",
       "  'pos': '20',\n",
       "  'points': '16',\n",
       "  'matches_played': '32',\n",
       "  'wins': '4',\n",
       "  'draws': '4',\n",
       "  'losses': '25',\n",
       "  'goals_for': '24',\n",
       "  'goals_against': '81',\n",
       "  'goal_diff': '-57',\n",
       "  'top_scorer': 'Mamadou Sylla - 5'}]"
      ]
     },
     "execution_count": 39,
     "metadata": {},
     "output_type": "execute_result"
    }
   ],
   "source": [
    "leagues[1]"
   ]
  },
  {
   "cell_type": "markdown",
   "id": "a523c203-6f8f-4298-8eb3-34172eb6e364",
   "metadata": {},
   "source": [
    "### Top Scorer Player"
   ]
  },
  {
   "cell_type": "code",
   "execution_count": 41,
   "id": "d80d60b7-aa26-4cd6-b92b-c74e5c24eaf1",
   "metadata": {},
   "outputs": [
    {
     "name": "stdout",
     "output_type": "stream",
     "text": [
      "Top Scorer : Mohamed Salah \n",
      "Top Score  : 27\n"
     ]
    }
   ],
   "source": [
    "top_score = 0\n",
    "top_score_player = ''\n",
    "\n",
    "for league in leagues:\n",
    "    for t in league:\n",
    "        ts = t['top_scorer']\n",
    "        name = ts[:ts.find('-')]\n",
    "        score = int(ts[ts.rfind('-')+1:])\n",
    "        if (score > top_score) & (len(name)>0):\n",
    "            top_score = score\n",
    "            top_score_player = name\n",
    "\n",
    "print(f'Top Scorer : {top_score_player}')\n",
    "print(f'Top Score  : {top_score}')"
   ]
  },
  {
   "cell_type": "markdown",
   "id": "4bc3c7ad-26bb-4e3c-8869-7504c4b77a04",
   "metadata": {},
   "source": [
    "### The Team with Highest and Lowest Goal Differences"
   ]
  },
  {
   "cell_type": "code",
   "execution_count": 43,
   "id": "e9ac3678-db0f-4ac0-9155-d4e7417bf205",
   "metadata": {},
   "outputs": [
    {
     "name": "stdout",
     "output_type": "stream",
     "text": [
      "Highest Goal Diff : 69  ---  Team: \n",
      "Lowest  Goal Diff : -57   ---  Team: Valladolid\n"
     ]
    }
   ],
   "source": [
    "highest_goal_diff = 0\n",
    "highest_goal_diff_team = ''\n",
    "lowest_goal_diff = np.inf\n",
    "lowest_goal_diff_team = ''\n",
    "\n",
    "\n",
    "for league in leagues:\n",
    "    for t in league:\n",
    "        if int(t['goal_diff']) > highest_goal_diff:\n",
    "            highest_goal_diff = int(t['goal_diff'])\n",
    "            highest_goal_diff_team = t['team']\n",
    "        if int(t['goal_diff']) < lowest_goal_diff:\n",
    "            lowest_goal_diff = int(t['goal_diff'])\n",
    "            lowest_goal_diff_team = t['team']\n",
    "\n",
    "print(f'Highest Goal Diff : {highest_goal_diff}  ---  Team: {highest_goal_diff_team }')\n",
    "print(f'Lowest  Goal Diff : {lowest_goal_diff}   ---  Team: {lowest_goal_diff_team }')"
   ]
  },
  {
   "cell_type": "markdown",
   "id": "76b23d08-2cec-47b9-9792-4c28ac85c103",
   "metadata": {},
   "source": [
    "### The League with Most Goal Scored "
   ]
  },
  {
   "cell_type": "code",
   "execution_count": 45,
   "id": "9a98f2ac-2f6d-497d-8259-1819c84c0423",
   "metadata": {},
   "outputs": [
    {
     "ename": "NameError",
     "evalue": "name 'leagues_dict' is not defined",
     "output_type": "error",
     "traceback": [
      "\u001b[0;31m---------------------------------------------------------------------------\u001b[0m",
      "\u001b[0;31mNameError\u001b[0m                                 Traceback (most recent call last)",
      "Cell \u001b[0;32mIn[45], line 4\u001b[0m\n\u001b[1;32m      1\u001b[0m max_total_goal \u001b[38;5;241m=\u001b[39m \u001b[38;5;241m0\u001b[39m\n\u001b[1;32m      2\u001b[0m max_total_goal_league \u001b[38;5;241m=\u001b[39m \u001b[38;5;124m'\u001b[39m\u001b[38;5;124m'\u001b[39m\n\u001b[0;32m----> 4\u001b[0m \u001b[38;5;28;01mfor\u001b[39;00m name, league \u001b[38;5;129;01min\u001b[39;00m leagues_dict\u001b[38;5;241m.\u001b[39mitems():\n\u001b[1;32m      5\u001b[0m     total \u001b[38;5;241m=\u001b[39m \u001b[38;5;241m0\u001b[39m\n\u001b[1;32m      6\u001b[0m     \u001b[38;5;28;01mfor\u001b[39;00m t \u001b[38;5;129;01min\u001b[39;00m league:\n",
      "\u001b[0;31mNameError\u001b[0m: name 'leagues_dict' is not defined"
     ]
    }
   ],
   "source": [
    "max_total_goal = 0\n",
    "max_total_goal_league = ''\n",
    "\n",
    "for name, league in leagues_dict.items():\n",
    "    total = 0\n",
    "    for t in league:\n",
    "        total += int(t['goals_for'])\n",
    "    if total > max_total_goal:\n",
    "        max_total_goal = total       \n",
    "        max_total_goal_league = name\n",
    "\n",
    "print(f'Most Goal Scored League : {max_total_goal_league}')\n",
    "print(f'Maximum Total Goal      : {max_total_goal}')"
   ]
  },
  {
   "cell_type": "markdown",
   "id": "4abf5d4a-792c-4398-bcd2-44fa89d57a8a",
   "metadata": {},
   "source": [
    "### The Team with Highest Points Per Game  "
   ]
  },
  {
   "cell_type": "code",
   "execution_count": null,
   "id": "1e02bcf5-4c07-4b4b-a123-70360d851153",
   "metadata": {},
   "outputs": [],
   "source": [
    "max_point_pg = 0\n",
    "max_point_pg_team = ''\n",
    "\n",
    "for league in leagues:\n",
    "    for t in league:\n",
    "        ppg = int(t['points'])/int(t['matches_played'])\n",
    "        if ppg > max_point_pg:\n",
    "            max_point_pg = ppg\n",
    "            max_point_pg_team = t['team']\n",
    "\n",
    "print(f'Max Point Per Game : {max_point_pg}')\n",
    "print(f'Team               : {max_point_pg_team}')"
   ]
  },
  {
   "cell_type": "markdown",
   "id": "4d63d0f0-6720-462f-b5d6-ef1dc2114c02",
   "metadata": {},
   "source": [
    "### The Teams with Highest Points Per Game  for Each League"
   ]
  },
  {
   "cell_type": "code",
   "execution_count": null,
   "id": "e34a773a-9df8-4be4-9ec4-45c5ce3a2df0",
   "metadata": {},
   "outputs": [],
   "source": [
    "max_point_pg_list = []\n",
    "max_point_pg_team_list = []\n",
    "\n",
    "\n",
    "for league in leagues:\n",
    "    max_point_pg = 0\n",
    "    max_point_pg_team = ''\n",
    "    for t in league:\n",
    "        ppg = int(t['points'])/int(t['matches_played'])\n",
    "        if ppg > max_point_pg:\n",
    "            max_point_pg = ppg\n",
    "            max_point_pg_team = t['team']\n",
    "    \n",
    "    max_point_pg_list.append(max_point_pg)\n",
    "    max_point_pg_team_list.append(max_point_pg_team)\n",
    "    \n",
    "plt.figure(figsize=(10,5))\n",
    "plt.bar(max_point_pg_team_list, max_point_pg_list)\n",
    "plt.xticks(rotation=90);"
   ]
  },
  {
   "cell_type": "markdown",
   "id": "a7bd9e3f-7fcb-47bf-9e7d-6cce58a77f42",
   "metadata": {},
   "source": [
    "## Future work\n",
    "- Store all goal differences as integers in a list (pay attention to the +/- signs).\n",
    "- Store the number of draws for each team in a list.\n",
    "- Store the names of all top scorers in a list.\n",
    "- Store the number of goals scored by each top scorer in a list.\n",
    "- Identify the team with the largest point difference from the second-highest team."
   ]
  },
  {
   "cell_type": "markdown",
   "id": "e1b49e3d-e58d-4b37-ab96-d1cea59e13d3",
   "metadata": {},
   "source": [
    "## Save as an Excel File"
   ]
  },
  {
   "cell_type": "code",
   "execution_count": null,
   "id": "58b37f3b-bca7-42a7-ba36-88e5e9a0d06b",
   "metadata": {},
   "outputs": [],
   "source": [
    "import pandas as pd\n",
    "df = pd.DataFrame(columns=ep[0].keys())\n",
    "for league in leagues:\n",
    "    for t in league:\n",
    "        df.loc[len(df)] = t.values()\n",
    "\n",
    "# df.to_excel('soccer_teamx.xlsx')\n",
    "# df.to_csv('soccer_teamx.csv')\n",
    "\n",
    "df.head(5)"
   ]
  },
  {
   "cell_type": "code",
   "execution_count": null,
   "id": "2a61015f-c550-4110-842a-e8f249655fbb",
   "metadata": {},
   "outputs": [],
   "source": []
  }
 ],
 "metadata": {
  "kernelspec": {
   "display_name": "Python 3 (ipykernel)",
   "language": "python",
   "name": "python3"
  },
  "language_info": {
   "codemirror_mode": {
    "name": "ipython",
    "version": 3
   },
   "file_extension": ".py",
   "mimetype": "text/x-python",
   "name": "python",
   "nbconvert_exporter": "python",
   "pygments_lexer": "ipython3",
   "version": "3.11.8"
  }
 },
 "nbformat": 4,
 "nbformat_minor": 5
}
