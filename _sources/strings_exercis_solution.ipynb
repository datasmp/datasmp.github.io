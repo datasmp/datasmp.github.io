{
 "cells": [
  {
   "cell_type": "markdown",
   "id": "4e68494d-76ef-4888-b46d-a4d6bf6c4db3",
   "metadata": {},
   "source": [
    "# Strings Exercises and Solutions"
   ]
  },
  {
   "cell_type": "markdown",
   "id": "8dbfbd47-af8e-48b2-8302-964f7bb5eaae",
   "metadata": {},
   "source": [
    "## Question-1\n",
    "\n",
    "Write a program that prompts the user for a 4-digit positive number. Swap the first two digits of the given number with the last two digits and print it.\n",
    "- Avoid using algebraic operations and instead use string indexing.\n",
    "- Example 1: If the given number is 1234, then print 3412.\n",
    "    - Print format: 1234 ---- swap---> 3412\n",
    "- Example 2: If the given number is 6789, then print 8967.\n",
    "    - Print format: 6789 ---- swap---> 8967"
   ]
  },
  {
   "cell_type": "markdown",
   "id": "f482dd41-9ff0-4196-9394-fecccd97cc21",
   "metadata": {},
   "source": [
    "**Solution**\n",
    "``` python\n",
    "number_str = input('Please enter a four digit number:')\n",
    "\n",
    "first_two_digit = number_str[:2]\n",
    "last_two_digit  = number_str[2:]\n",
    "\n",
    "result_str = last_two_digit + first_two_digit\n",
    "\n",
    "print(number_str, '---- swap --->',result_str )\n",
    "```"
   ]
  },
  {
   "cell_type": "code",
   "execution_count": null,
   "id": "2e7a51be-8cf3-40f2-bd60-e7699af52bf4",
   "metadata": {},
   "outputs": [],
   "source": []
  }
 ],
 "metadata": {
  "kernelspec": {
   "display_name": "Python 3 (ipykernel)",
   "language": "python",
   "name": "python3"
  },
  "language_info": {
   "codemirror_mode": {
    "name": "ipython",
    "version": 3
   },
   "file_extension": ".py",
   "mimetype": "text/x-python",
   "name": "python",
   "nbconvert_exporter": "python",
   "pygments_lexer": "ipython3",
   "version": "3.11.7"
  }
 },
 "nbformat": 4,
 "nbformat_minor": 5
}
