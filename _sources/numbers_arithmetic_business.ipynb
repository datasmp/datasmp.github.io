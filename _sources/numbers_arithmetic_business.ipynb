{
 "cells": [
  {
   "cell_type": "markdown",
   "id": "83bac819-beda-40ef-a007-4d850350798e",
   "metadata": {},
   "source": [
    "# Numbers Business \n",
    "![Section Title: Numbers Business](title_pict/numbers_business2.png)\n"
   ]
  },
  {
   "cell_type": "markdown",
   "id": "ce6cfaee-3143-46bd-9f85-fe95b49cc423",
   "metadata": {},
   "source": [
    "## Business Applications"
   ]
  },
  {
   "cell_type": "markdown",
   "id": "aa49647e-94e7-433a-8b18-810375707c77",
   "metadata": {},
   "source": [
    "### Question-1: Ordinary Annuity\n",
    "An ordinary annuity is an interest earning account where you make equal payments at the end of each compounding period.\n",
    "\n",
    "The future value of an ordinary annuity is given by the following formula.\n",
    "\n",
    "$\\displaystyle  A = R \\left( \\frac{(1+\\frac{r}{m})^{mt}-1}{\\frac{r}{m}}  \\right)$\n",
    "\n",
    "where,\n",
    "\n",
    "- $A$: Future value\n",
    "- $R$: regular payment\n",
    "- $r$: annual interest rate\n",
    "- $m$: number of payments in a year\n",
    "- $t$: number of years\n",
    "\n",
    "If you deposit 200 dollars every month into an account earning 5.25% interest per year, compounded monthly, how much money will you have saved after 30 years? Round this value to the nearest hundredth. \n",
    "\n",
    "Hint:\n",
    "- Use the variables $R, r, m, t$  for the given values.\n",
    "- Calculate the value of the variable $A$.\n",
    "- To avoid mistakes, you can calculate the numerator and denominator of $A$ separately."
   ]
  },
  {
   "cell_type": "markdown",
   "id": "4cedfc39-0177-4548-bfbd-47c97826cc73",
   "metadata": {},
   "source": [
    "### Question-2: Amortized Loan-1\n",
    "Amortization is paying off a loan by making equal payments.\n",
    "\n",
    "The present value of an amortized loan is given by the following formula.\n",
    "\n",
    "$\\displaystyle  P = R \\left( \\frac{1-(1+\\frac{r}{m})^{-mt}}{\\frac{r}{m}}  \\right)$\n",
    "\n",
    "where,\n",
    "\n",
    "- $P$: Present value\n",
    "- $R$: regular payment\n",
    "- $r$: annual interest rate\n",
    "- $m$: number of payments in a year\n",
    "- $t$: number of years\n",
    "\n",
    "If you can make monthly payments of 350 dollars for 3 years at an annual interest rate of 9%, what is the present value of the loan you can take out? Round this value to the nearest hundredth. \n",
    "\n",
    "Hint:\n",
    "- Use the variables $R, r, m, t$  for the given values.\n",
    "- Calculate the value of the variable $P$.\n",
    "- To avoid mistakes, you can calculate the numerator and denominator of right hand side separately."
   ]
  },
  {
   "cell_type": "markdown",
   "id": "4671c497-e4fe-4ad8-aee3-d92bbcd9dd3a",
   "metadata": {},
   "source": [
    "### Question-3: Amortized Loan-2\n",
    "If you take out an 80,000 dollars loan to buy a truck with an annual interest rate of 6%, to be paid off over 5 years, what is the monthly payment? Round this value to the nearest hundredth. \n",
    "\n",
    "Hint:\n",
    "- Use the variables $P, r, m, t$  for the given values.\n",
    "- Calculate the value of the variable $R$."
   ]
  }
 ],
 "metadata": {
  "kernelspec": {
   "display_name": "Python 3 (ipykernel)",
   "language": "python",
   "name": "python3"
  },
  "language_info": {
   "codemirror_mode": {
    "name": "ipython",
    "version": 3
   },
   "file_extension": ".py",
   "mimetype": "text/x-python",
   "name": "python",
   "nbconvert_exporter": "python",
   "pygments_lexer": "ipython3",
   "version": "3.11.8"
  }
 },
 "nbformat": 4,
 "nbformat_minor": 5
}
