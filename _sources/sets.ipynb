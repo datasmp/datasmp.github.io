{
 "cells": [
  {
   "cell_type": "markdown",
   "id": "d8712b3b-783d-4fee-b9d9-65c3178feb7f",
   "metadata": {},
   "source": [
    "# Chp-10: Sets \n"
   ]
  },
  {
   "cell_type": "markdown",
   "id": "fc705727-5035-4642-9407-a1fbca93f603",
   "metadata": {},
   "source": [
    "![Section Title: Sets](title_pict/sets2.png)"
   ]
  },
  {
   "cell_type": "markdown",
   "id": "738c3a01-761f-4f67-acd6-f206582a17de",
   "metadata": {},
   "source": [
    "`````{admonition} Chapter Objectives\n",
    ":class: tip\n",
    "\n",
    "By the end of this chapter, the student should be able to:\n",
    "- Explain the purpose and role of sets.\n",
    "- Create and initialize sets in different ways.\n",
    "- Perform set operations.\n",
    "- Apply set methods.\n",
    "- Recognize uniqueness and mutability of sets.\n",
    "- Use loops to iterate through set elements.\n",
    "- Apply sets to solve real-world problems\n",
    "`````\n"
   ]
  },
  {
   "cell_type": "markdown",
   "id": "10eb69e8-05d5-4d73-a880-acb1f23c7a65",
   "metadata": {},
   "source": [
    "## Sets\n",
    "\n",
    "A set is an unordered collection of values.\n",
    "- Sets can contain a mixed type of elements.\n",
    "- Since there is no order there is no indexing for sets.\n",
    "- Curly brackets `{}` are used to create sets.\n",
    "    - `{}` is NOT an empty set. It is an empty *dictionary* that will be covered in next chapter.\n",
    "- Sets are mutable. so they can be modified like lists.\n",
    "- A tuple can be an element of a set.\n",
    "- A list cannot be an element of a set.\n",
    "- You can use the `set()` function to convert strings, tuples, and lists into a set.\n",
    "  - Only unique values are stored in sets (no repetition).\n",
    "  - You will lose the order of the elements when you use the conversion.\n"
   ]
  },
  {
   "cell_type": "code",
   "execution_count": 57,
   "id": "0fcd599c-40c2-4b64-824a-4421554ecd57",
   "metadata": {},
   "outputs": [
    {
     "name": "stdout",
     "output_type": "stream",
     "text": [
      "{8, 1, 4, 7}\n"
     ]
    }
   ],
   "source": [
    "mylist = [1,4,7,7,8]\n",
    "myset = set(mylist)\n",
    "print(myset)"
   ]
  },
  {
   "cell_type": "markdown",
   "id": "99b82a6a-a449-4b68-94f3-6268140e42d8",
   "metadata": {},
   "source": [
    "In the code above, the order of the elements in the mylist has been lost, and one of the 7s has been removed when the list is  converted to a set."
   ]
  },
  {
   "cell_type": "markdown",
   "id": "75ed8d5a-4d7a-4adb-b68e-cfaaf5398da3",
   "metadata": {},
   "source": [
    "## Create Sets"
   ]
  },
  {
   "cell_type": "code",
   "execution_count": 58,
   "id": "fd57c821-19f0-4419-a69b-a6be44df1a4a",
   "metadata": {},
   "outputs": [
    {
     "name": "stdout",
     "output_type": "stream",
     "text": [
      "Empty set        : set()\n",
      "Type of empty_set: <class 'set'>\n"
     ]
    }
   ],
   "source": [
    "# empty set\n",
    "empty_set = set()\n",
    "\n",
    "print(f'Empty set        : {empty_set}')\n",
    "print(f'Type of empty_set: {type(empty_set)}')"
   ]
  },
  {
   "cell_type": "code",
   "execution_count": 1,
   "id": "71e6cfe8-e653-4d25-b8a5-c1c8095ad56e",
   "metadata": {},
   "outputs": [
    {
     "name": "stdout",
     "output_type": "stream",
     "text": [
      "<class 'set'>\n"
     ]
    }
   ],
   "source": [
    "# set with mixed values: str, int, bool, float\n",
    "\n",
    "mixed_set = {'USA', 2, True, 9.123}  \n",
    "\n",
    "print(type(mixed_set))"
   ]
  },
  {
   "cell_type": "code",
   "execution_count": 2,
   "id": "8fadcea8-838b-4fa9-b806-d49831535a31",
   "metadata": {},
   "outputs": [
    {
     "name": "stdout",
     "output_type": "stream",
     "text": [
      "{True, 2, 'USA', 9.123}\n"
     ]
    }
   ],
   "source": [
    "# sets do not contain duplicates\n",
    "\n",
    "mixed_set = {'USA', 2, True, 9.123, 'USA', 'USA', 'USA', 'USA'}      \n",
    "\n",
    "print(mixed_set)   # only one 'USA' will be in the set mixed_set"
   ]
  },
  {
   "cell_type": "markdown",
   "id": "49fcc18b-7794-41ae-ad48-4b4282bc9449",
   "metadata": {},
   "source": [
    "- The tuple below contains mixed data types, including strings, integers, booleans, floats, tuples, lists, and sets."
   ]
  },
  {
   "cell_type": "code",
   "execution_count": 60,
   "id": "24de7bc6-a842-43cd-a01a-8498f29ba834",
   "metadata": {},
   "outputs": [
    {
     "name": "stdout",
     "output_type": "stream",
     "text": [
      "<class 'tuple'>\n"
     ]
    }
   ],
   "source": [
    "mixed_tuple = ('USA', 2, True, 9.123, (10,20,30), ['NY', 'NJ'], {'a','b'})       \n",
    "print(type(mixed_tuple))"
   ]
  },
  {
   "cell_type": "markdown",
   "id": "32475b13-ff0f-4a65-8262-ed930212ea1e",
   "metadata": {},
   "source": [
    "- The list below contains mixed data types, including strings, integers, booleans, floats, tuples, lists, and sets."
   ]
  },
  {
   "cell_type": "code",
   "execution_count": 61,
   "id": "552dca14-496c-43bf-a3a0-80e6b3b70050",
   "metadata": {},
   "outputs": [
    {
     "name": "stdout",
     "output_type": "stream",
     "text": [
      "<class 'list'>\n"
     ]
    }
   ],
   "source": [
    "mixed_list = ['USA', 2, True, 9.123, (10,20,30), ['NY', 'NJ'], {'a','b'}]       \n",
    "print(type(mixed_list))"
   ]
  },
  {
   "cell_type": "markdown",
   "id": "83c0690d-88c8-43d4-b68a-6e20a664afc9",
   "metadata": {},
   "source": [
    "``` python\n",
    "# a list can not be an element of a set\n",
    "\n",
    "mixed_set = {'USA', 2, True, 9.123, (10,20,30), ['a','b']}         # ERROR\n",
    "\n",
    "```"
   ]
  },
  {
   "cell_type": "markdown",
   "id": "00f765a0-737a-4a48-9c70-5bb590adf1bc",
   "metadata": {},
   "source": [
    "## set() function\n",
    "The built-in `set()` function converts strings, tuples, and lists to a set, removing any duplicates and retaining only unique elements."
   ]
  },
  {
   "cell_type": "code",
   "execution_count": 23,
   "id": "fcd66285-a4fc-48b1-99ad-f8da16ce6223",
   "metadata": {},
   "outputs": [
    {
     "name": "stdout",
     "output_type": "stream",
     "text": [
      "Type of char_set: <class 'set'>\n",
      "char_set        : {'H', 'e', 'o', 'l'}\n"
     ]
    }
   ],
   "source": [
    "char_set = set('Hello')  # convert string to set\n",
    "\n",
    "print(f'Type of char_set: {type(char_set)}')\n",
    "print(f'char_set        : {char_set}')"
   ]
  },
  {
   "cell_type": "code",
   "execution_count": 8,
   "id": "00c73e2a-97d0-4acb-8681-ce5ed008a8e8",
   "metadata": {},
   "outputs": [
    {
     "name": "stdout",
     "output_type": "stream",
     "text": [
      "Type of char_set: <class 'set'>\n",
      "char_set        : {1, 2, 3, 4}\n"
     ]
    }
   ],
   "source": [
    "number_tuple = (1,2,3,4,4,4)\n",
    "char_set = set(number_tuple)  # convert tuple to set\n",
    "\n",
    "print(f'Type of char_set: {type(char_set)}')\n",
    "print(f'char_set        : {char_set}')"
   ]
  },
  {
   "cell_type": "code",
   "execution_count": 25,
   "id": "ba16e78d-bf0a-4c3a-81b0-3537edef0fcd",
   "metadata": {},
   "outputs": [
    {
     "name": "stdout",
     "output_type": "stream",
     "text": [
      "Type of char_set: <class 'set'>\n",
      "char_set        : {1, 2, 3, 4}\n"
     ]
    }
   ],
   "source": [
    "number_list = [1,2,3,4,4,4]\n",
    "char_set = set(number_list)  # convert list to  set\n",
    "\n",
    "print(f'Type of char_set: {type(char_set)}')\n",
    "print(f'char_set        : {char_set}')"
   ]
  },
  {
   "cell_type": "markdown",
   "id": "b8c263df-e16f-4d71-935a-a6c4e166c48a",
   "metadata": {},
   "source": [
    "**Remark:** By using *tuple()* and  *list()* functions, sets can be converted to tuples and lists, respectively.\n",
    " - It's important to note that the conversion doesn't preserve any specific order, as sets are inherently unordered collections."
   ]
  },
  {
   "cell_type": "code",
   "execution_count": 64,
   "id": "5a0cf7e8-b546-4856-bc4c-dae970f84307",
   "metadata": {},
   "outputs": [
    {
     "name": "stdout",
     "output_type": "stream",
     "text": [
      "Type of number_tuple: <class 'tuple'>\n",
      "number_tuple        : (1, 2, 3, 4)\n"
     ]
    }
   ],
   "source": [
    "number_set = {1,2,3,4}   # set\n",
    "\n",
    "number_tuple = tuple(number_set)      # set ---> tuple\n",
    "\n",
    "print(f'Type of number_tuple: {type(number_tuple)}')\n",
    "print(f'number_tuple        : {number_tuple}')"
   ]
  },
  {
   "cell_type": "code",
   "execution_count": 13,
   "id": "5e7bf4c0-9efa-4139-846e-f16fd7deb9c9",
   "metadata": {},
   "outputs": [
    {
     "name": "stdout",
     "output_type": "stream",
     "text": [
      "Type of number_list: <class 'list'>\n",
      "number_list        : [1, 2, 3, 4]\n"
     ]
    }
   ],
   "source": [
    "number_set = {1,2,3,4}   # set\n",
    "\n",
    "number_list = list(number_set)      # set ---> list\n",
    "\n",
    "print(f'Type of number_list: {type(number_list)}')\n",
    "print(f'number_list        : {number_list}')"
   ]
  },
  {
   "cell_type": "markdown",
   "id": "d098cdd9-b508-49e1-9f9c-e18a2ef1955e",
   "metadata": {},
   "source": [
    "## Functions on sets\n",
    "- len(), max(), min(), and sum() functions can be applied to sets, similar to other data types like tuples and lists."
   ]
  },
  {
   "cell_type": "code",
   "execution_count": 32,
   "id": "d3acc0e0-ed49-4091-89b1-037b5c036631",
   "metadata": {},
   "outputs": [
    {
     "name": "stdout",
     "output_type": "stream",
     "text": [
      "Length : 6\n",
      "Maximum: 9\n",
      "Minimum: 1\n",
      "Sum    : 30\n"
     ]
    }
   ],
   "source": [
    "numbers = {7,3,1,9,6,4}\n",
    "\n",
    "print(f'Length : {len(numbers)}')\n",
    "print(f'Maximum: {max(numbers)}')\n",
    "print(f'Minimum: {min(numbers)}')\n",
    "print(f'Sum    : {sum(numbers)}')"
   ]
  },
  {
   "cell_type": "code",
   "execution_count": 33,
   "id": "1c7f5443-59b3-4227-a311-5c73aa1e0cda",
   "metadata": {},
   "outputs": [
    {
     "name": "stdout",
     "output_type": "stream",
     "text": [
      "Length : 5\n",
      "Maximum: t\n",
      "Minimum: a\n"
     ]
    }
   ],
   "source": [
    "letters = {'r', 't', 'n', 'a', 'd'}\n",
    "\n",
    "print(f'Length : {len(letters)}')\n",
    "print(f'Maximum: {max(letters)}')    # dictionary order\n",
    "print(f'Minimum: {min(letters)}')"
   ]
  },
  {
   "cell_type": "markdown",
   "id": "8766f783-0de7-4f27-bb19-adc6560dc1f7",
   "metadata": {},
   "source": [
    "## Set Operations\n",
    "\n",
    "The available operators for sets in Python include:\n",
    "- `&` (intersection)\n",
    "- `|` (union)\n",
    "-  `-` (difference)\n",
    "-  `^` (symmetric difference)\n",
    "-  `in`\n",
    "-  `not in`"
   ]
  },
  {
   "cell_type": "markdown",
   "id": "9abc8fb5-0d04-4e9c-8bf6-4e8db3b7c1c8",
   "metadata": {
    "scrolled": true
   },
   "source": [
    "### Intersection \n",
    "The `&` (ampersand) operator returns a new set consisting of the common elements of the two sets."
   ]
  },
  {
   "cell_type": "code",
   "execution_count": 14,
   "id": "01879207-47da-4bb0-bb88-6bccb7a403e0",
   "metadata": {},
   "outputs": [
    {
     "name": "stdout",
     "output_type": "stream",
     "text": [
      "Intersection of set1 and set2: {3, 4, 5}\n"
     ]
    }
   ],
   "source": [
    "set1 = {1,2,3,4,5}\n",
    "set2 = {3,4,5,6,7}\n",
    "\n",
    "print(f'Intersection of set1 and set2: {set1&set2}')"
   ]
  },
  {
   "cell_type": "markdown",
   "id": "165515bc-0a7f-4892-8966-e2b18e961c20",
   "metadata": {},
   "source": [
    "- The *intersection()* method of sets can also be used to find the common elements between two sets."
   ]
  },
  {
   "cell_type": "code",
   "execution_count": 65,
   "id": "dfc36029-93a1-4955-b438-78414ae99b2f",
   "metadata": {},
   "outputs": [
    {
     "name": "stdout",
     "output_type": "stream",
     "text": [
      "set1 intersection set2  : {3, 4, 5}\n",
      "set1 (No change on set1): {1, 2, 3, 4, 5}\n"
     ]
    }
   ],
   "source": [
    "set1 = {1,2,3,4,5}\n",
    "set2 = {3,4,5,6,7}\n",
    "\n",
    "print(f'set1 intersection set2  : {set1.intersection(set2)}')\n",
    "print(f'set1 (No change on set1): {set1}')"
   ]
  },
  {
   "cell_type": "markdown",
   "id": "862dbd67-ac9b-4277-88ec-867c3a9d496c",
   "metadata": {
    "scrolled": true
   },
   "source": [
    "### Union\n",
    "The `|` (pipe) operator returns a new set consisting of the combined elements of the two sets.\n"
   ]
  },
  {
   "cell_type": "code",
   "execution_count": 18,
   "id": "1653bb55-2de2-44ca-8ebd-b3b9d281ef78",
   "metadata": {},
   "outputs": [
    {
     "name": "stdout",
     "output_type": "stream",
     "text": [
      "Union of set1 and set2: {1, 2, 3, 4, 5, 6, 7}\n"
     ]
    }
   ],
   "source": [
    "set1 = {1,2,3,4,5}\n",
    "set2 = {3,4,5,6,7}\n",
    "\n",
    "print(f'Union of set1 and set2: {set1|set2}')"
   ]
  },
  {
   "cell_type": "markdown",
   "id": "a32d2a72-38ce-485a-8dfa-2785ec186e52",
   "metadata": {},
   "source": [
    "- The *union()* method of sets can also be used to combine elements from two sets into a new set."
   ]
  },
  {
   "cell_type": "code",
   "execution_count": 66,
   "id": "8c847eb6-e8a5-4b28-9901-dea6cb72c9f7",
   "metadata": {},
   "outputs": [
    {
     "name": "stdout",
     "output_type": "stream",
     "text": [
      "set1 union set2         : {1, 2, 3, 4, 5, 6, 7}\n",
      "set1 (No change on set1): {1, 2, 3, 4, 5}\n"
     ]
    }
   ],
   "source": [
    "set1 = {1,2,3,4,5}\n",
    "set2 = {3,4,5,6,7}\n",
    "\n",
    "print(f'set1 union set2         : {set1.union(set2)}')\n",
    "print(f'set1 (No change on set1): {set1}')             "
   ]
  },
  {
   "cell_type": "markdown",
   "id": "d2a7d351-b4f1-4ad3-b6cf-d0acc228a4b3",
   "metadata": {
    "scrolled": true
   },
   "source": [
    "### Difference\n",
    "\n",
    "The `-` (dash) operator returns a new set consisting of the elements in the first set but not in the second set.\n",
    "- `set1 - set2`: elements in *set1* but not in *set2*.\n",
    "- `set2 - set1`: elements in *set2* but not in *set1*."
   ]
  },
  {
   "cell_type": "code",
   "execution_count": 20,
   "id": "9e8527d1-d26d-4319-b446-dab17ce8836d",
   "metadata": {},
   "outputs": [
    {
     "name": "stdout",
     "output_type": "stream",
     "text": [
      "set1 - set2: {1, 2}\n",
      "set2 - set1: {6, 7}\n"
     ]
    }
   ],
   "source": [
    "set1 = {1,2,3,4,5}\n",
    "set2 = {3,4,5,6,7}\n",
    "\n",
    "print(f'set1 - set2: {set1-set2}')\n",
    "print(f'set2 - set1: {set2-set1}')"
   ]
  },
  {
   "cell_type": "markdown",
   "id": "3188f47f-5270-40da-934b-c866e072fe76",
   "metadata": {},
   "source": [
    "- The *difference()* method of sets can also be used to obtain a new set consisting of the elements in the first set but not in the second set."
   ]
  },
  {
   "cell_type": "code",
   "execution_count": 21,
   "id": "8b287662-bf07-4cd3-ba1a-bc6593c5b5ea",
   "metadata": {},
   "outputs": [
    {
     "name": "stdout",
     "output_type": "stream",
     "text": [
      "set1 - set2: {1, 2}\n",
      "set2 - set1: {6, 7}\n"
     ]
    }
   ],
   "source": [
    "set1 = {1,2,3,4,5}\n",
    "set2 = {3,4,5,6,7}\n",
    "\n",
    "print(f'set1 - set2: {set1.difference(set2)}')\n",
    "print(f'set2 - set1: {set2.difference(set1)}')"
   ]
  },
  {
   "cell_type": "markdown",
   "id": "36b3cb04-9caf-402f-ba71-c5519a08b6e7",
   "metadata": {
    "scrolled": true
   },
   "source": [
    "### Symmetric Difference\n",
    "The ^ (caret) operator returns a new set consisting of elements in either one of the two sets but not both. \n",
    "- `set1 ^ set2` and  `set2 ^ set1` are same."
   ]
  },
  {
   "cell_type": "code",
   "execution_count": 22,
   "id": "3c5bd8e0-0892-4d7d-a554-204a5a987b76",
   "metadata": {},
   "outputs": [
    {
     "name": "stdout",
     "output_type": "stream",
     "text": [
      "set1 ^ set2: {1, 2, 6, 7}\n",
      "set2 ^ set1: {1, 2, 6, 7}\n"
     ]
    }
   ],
   "source": [
    "set1 = {1,2,3,4,5}\n",
    "set2 = {3,4,5,6,7}\n",
    "\n",
    "print(f'set1 ^ set2: {set1^set2}')\n",
    "print(f'set2 ^ set1: {set2^set1}')"
   ]
  },
  {
   "cell_type": "markdown",
   "id": "b90849d7-a7b2-4d57-a24c-327dfbc9ca46",
   "metadata": {},
   "source": [
    "- The *symmetric_difference()* method of sets can also be used to obtain a new set consisting of the elements in either one of the two sets but not both."
   ]
  },
  {
   "cell_type": "code",
   "execution_count": 24,
   "id": "ae9d242f-2e59-4a55-80d5-2c7ec45bf5e2",
   "metadata": {},
   "outputs": [
    {
     "name": "stdout",
     "output_type": "stream",
     "text": [
      "set1 ^ set2: {1, 2, 6, 7}\n",
      "set2 ^ set1: {1, 2, 6, 7}\n"
     ]
    }
   ],
   "source": [
    "set1 = {1,2,3,4,5}\n",
    "set2 = {3,4,5,6,7}\n",
    "\n",
    "print(f'set1 ^ set2: {set1.symmetric_difference(set2)}')\n",
    "print(f'set2 ^ set1: {set2.symmetric_difference(set1)}')"
   ]
  },
  {
   "cell_type": "markdown",
   "id": "24f167de-8101-497d-882d-97ba66687d73",
   "metadata": {},
   "source": [
    "### in & not in\n",
    "`in` checks if a value is part of a set, while `not in` verifies if a value is absent from a set. \n",
    "- Both operations yield a Boolean result, either True or False."
   ]
  },
  {
   "cell_type": "code",
   "execution_count": 67,
   "id": "1758a501-d5cc-4cec-8304-947904f8796a",
   "metadata": {},
   "outputs": [
    {
     "name": "stdout",
     "output_type": "stream",
     "text": [
      " 5 is in number_set    : True\n",
      " 5 is not in number_set: False\n"
     ]
    }
   ],
   "source": [
    "number_set = {1,2,3,4,5}\n",
    "\n",
    "print(f' 5 is in number_set    : {5  in number_set}' )\n",
    "print(f' 5 is not in number_set: {5  not in number_set}' )"
   ]
  },
  {
   "cell_type": "code",
   "execution_count": 68,
   "id": "5144e9f2-c401-4dfb-8466-8b438cc51a71",
   "metadata": {},
   "outputs": [
    {
     "name": "stdout",
     "output_type": "stream",
     "text": [
      " 9 is in number_set    : False\n",
      " 9 is not in number_set: True\n"
     ]
    }
   ],
   "source": [
    "number_set = {1,2,3,4,5}\n",
    "\n",
    "print(f' 9 is in number_set    : {9  in number_set}' )\n",
    "print(f' 9 is not in number_set: {9  not in number_set}' )"
   ]
  },
  {
   "cell_type": "markdown",
   "id": "e519d833-0995-44c4-a69b-917465b9c059",
   "metadata": {},
   "source": [
    "### Mutable\n",
    "Unlike strings and tuples, and similar to lists, sets are mutable, allowing them to be modified.\n",
    "- The set methods enable the addition of new elements and the removal of existing ones.\n",
    "- Set elements themselves cannot be changed, but new items can be added or existing ones removed."
   ]
  },
  {
   "cell_type": "markdown",
   "id": "09cd8c0b-dc8a-4b56-98ea-ff09fccceb59",
   "metadata": {},
   "source": [
    "## Set Methods\n",
    "Except for the magic methods (those with underscores), there are 17 methods for sets.\n",
    "- We have already covered intersection, union, difference, and symmetric difference above.\n",
    "- You can execute *help(set)* for more details."
   ]
  },
  {
   "cell_type": "code",
   "execution_count": 141,
   "id": "e50259e1-8b97-4a6a-83f6-f645d5005993",
   "metadata": {},
   "outputs": [
    {
     "name": "stdout",
     "output_type": "stream",
     "text": [
      "['__and__', '__class__', '__class_getitem__', '__contains__', '__delattr__', '__dir__', '__doc__', '__eq__', '__format__', '__ge__', '__getattribute__', '__getstate__', '__gt__', '__hash__', '__iand__', '__init__', '__init_subclass__', '__ior__', '__isub__', '__iter__', '__ixor__', '__le__', '__len__', '__lt__', '__ne__', '__new__', '__or__', '__rand__', '__reduce__', '__reduce_ex__', '__repr__', '__ror__', '__rsub__', '__rxor__', '__setattr__', '__sizeof__', '__str__', '__sub__', '__subclasshook__', '__xor__', 'add', 'clear', 'copy', 'difference', 'difference_update', 'discard', 'intersection', 'intersection_update', 'isdisjoint', 'issubset', 'issuperset', 'pop', 'remove', 'symmetric_difference', 'symmetric_difference_update', 'union', 'update']\n"
     ]
    }
   ],
   "source": [
    "# methods of sets\n",
    "# dir() returns a list\n",
    "\n",
    "print(dir(set))"
   ]
  },
  {
   "cell_type": "code",
   "execution_count": 69,
   "id": "15700631-3ad1-4d4d-890b-d7a6ec0daf24",
   "metadata": {},
   "outputs": [
    {
     "name": "stdout",
     "output_type": "stream",
     "text": [
      "['add', 'clear', 'copy', 'difference', 'difference_update', 'discard', 'intersection', 'intersection_update', 'isdisjoint', 'issubset', 'issuperset', 'pop', 'remove', 'symmetric_difference', 'symmetric_difference_update', 'union', 'update']\n"
     ]
    }
   ],
   "source": [
    "# non magic methods by using slicing\n",
    "\n",
    "print(dir(set)[-17:])"
   ]
  },
  {
   "cell_type": "markdown",
   "id": "b6be7635-45d8-4368-b871-408dd945b891",
   "metadata": {},
   "source": [
    "### add()\n",
    "It adds a new element to a set."
   ]
  },
  {
   "cell_type": "code",
   "execution_count": 77,
   "id": "72e182e0-9886-4769-bf85-dcf007293042",
   "metadata": {},
   "outputs": [
    {
     "name": "stdout",
     "output_type": "stream",
     "text": [
      "number_set before using add(99): {1, 2, 3, 4, 5}\n",
      "number_set after  using add(99): {1, 2, 3, 4, 5, 99}\n"
     ]
    }
   ],
   "source": [
    "number_set = {1,2,3,4,5}\n",
    "print(f'number_set before using add(99): {number_set}')\n",
    "\n",
    "# add 99\n",
    "number_set.add(99)   \n",
    "\n",
    "print(f'number_set after  using add(99): {number_set}')"
   ]
  },
  {
   "cell_type": "markdown",
   "id": "80c74c76-258e-4728-aef9-be37990adc9c",
   "metadata": {},
   "source": [
    "### clear()\n",
    "It removes all elements from the set, making it an empty set."
   ]
  },
  {
   "cell_type": "code",
   "execution_count": 37,
   "id": "e3446681-c1bf-426c-bbf3-3721b60b96dd",
   "metadata": {},
   "outputs": [
    {
     "name": "stdout",
     "output_type": "stream",
     "text": [
      "number_set before using clear(): {1, 2, 3, 4, 5}\n",
      "number_set after  using clear(): set()\n"
     ]
    }
   ],
   "source": [
    "number_set = {1,2,3,4,5}\n",
    "print(f'number_set before using clear(): {number_set}')\n",
    "\n",
    "# removes all elements\n",
    "number_set.clear()   \n",
    "\n",
    "print(f'number_set after  using clear(): {number_set}')"
   ]
  },
  {
   "cell_type": "markdown",
   "id": "8afe3c8b-41db-4254-a003-569f0b229c52",
   "metadata": {},
   "source": [
    "### copy()\n",
    "It returns a new set with the same elements."
   ]
  },
  {
   "cell_type": "code",
   "execution_count": 40,
   "id": "865ce139-cb69-4efb-8de5-d5a6809a6927",
   "metadata": {},
   "outputs": [
    {
     "name": "stdout",
     "output_type": "stream",
     "text": [
      "number_set before using copy(): {1, 2, 3, 4, 5}\n",
      "number_set after  using copy(): {1, 2, 3, 4, 5}\n",
      "number_set_copy               : {1, 2, 3, 4, 5}\n"
     ]
    }
   ],
   "source": [
    "number_set = {1,2,3,4,5}\n",
    "print(f'number_set before using copy(): {number_set}')\n",
    "\n",
    "# make a copy\n",
    "number_set_copy = number_set.copy()   \n",
    "\n",
    "print(f'number_set after  using copy(): {number_set}')\n",
    "print(f'number_set_copy               : {number_set_copy}')"
   ]
  },
  {
   "cell_type": "markdown",
   "id": "f8f86ab1-f9b4-4888-baae-77ae81aa8005",
   "metadata": {},
   "source": [
    "### isdisjoint()\n",
    "It checks if there are no common elements between the two given sets."
   ]
  },
  {
   "cell_type": "code",
   "execution_count": 42,
   "id": "34ccfa9e-6b5d-477b-8350-70d5c729694a",
   "metadata": {},
   "outputs": [
    {
     "name": "stdout",
     "output_type": "stream",
     "text": [
      "set1 and set2 are disjoint: False\n"
     ]
    }
   ],
   "source": [
    "set1 = {1,2,3,4,5}\n",
    "set2 = {3,4,5,6,7}\n",
    "\n",
    "# False: 3,4,5 are common\n",
    "print(f'set1 and set2 are disjoint: {set1.isdisjoint(set2)}' )"
   ]
  },
  {
   "cell_type": "code",
   "execution_count": 43,
   "id": "d30b86ae-1e80-494b-8d78-8a6a7f14ef30",
   "metadata": {},
   "outputs": [
    {
     "name": "stdout",
     "output_type": "stream",
     "text": [
      "set1 and set2 are disjoint: True\n"
     ]
    }
   ],
   "source": [
    "set1 = {1,2,3,4,5}\n",
    "set2 = {10,20,30}\n",
    "\n",
    "# True: no common element\n",
    "print(f'set1 and set2 are disjoint: {set1.isdisjoint(set2)}' )"
   ]
  },
  {
   "cell_type": "markdown",
   "id": "7ecba1c5-f847-4abf-aff4-d1d85cc2c62c",
   "metadata": {},
   "source": [
    "### issubset()\n",
    "It checks if the first set is a subset of the second set."
   ]
  },
  {
   "cell_type": "code",
   "execution_count": 44,
   "id": "d3e7d848-60f0-4758-a3ea-961e015ed00d",
   "metadata": {},
   "outputs": [
    {
     "name": "stdout",
     "output_type": "stream",
     "text": [
      "set1 is subset of set2: False\n"
     ]
    }
   ],
   "source": [
    "set1 = {1,2,3,4,5}\n",
    "set2 = {3,4,5,6,7}\n",
    "\n",
    "# False: set1 is not subset of set2\n",
    "print(f'set1 is subset of set2: {set1.issubset(set2)}' )"
   ]
  },
  {
   "cell_type": "code",
   "execution_count": 45,
   "id": "257d11aa-dc78-4231-9529-02a78b27146a",
   "metadata": {},
   "outputs": [
    {
     "name": "stdout",
     "output_type": "stream",
     "text": [
      "set1 is subset of set2: True\n"
     ]
    }
   ],
   "source": [
    "set1 = {3,4,5}\n",
    "set2 = {3,4,5,6,7}\n",
    "\n",
    "# True: set1 is not subset of set2\n",
    "print(f'set1 is subset of set2: {set1.issubset(set2)}' )"
   ]
  },
  {
   "cell_type": "markdown",
   "id": "b7dc07a3-cc04-4c6c-a70c-b111ed83e66c",
   "metadata": {},
   "source": [
    "### isuperset()\n",
    "It checks if the first set contains the second set."
   ]
  },
  {
   "cell_type": "code",
   "execution_count": 46,
   "id": "5265e518-fd19-4ad1-b1b9-6f522096f02d",
   "metadata": {},
   "outputs": [
    {
     "name": "stdout",
     "output_type": "stream",
     "text": [
      "set1 is superset of set2: False\n"
     ]
    }
   ],
   "source": [
    "set1 = {1,2,3,4,5}\n",
    "set2 = {3,4,5,6,7}\n",
    "\n",
    "# False: set1 idoes not contain set2\n",
    "print(f'set1 is superset of set2: {set1.issuperset(set2)}' )"
   ]
  },
  {
   "cell_type": "code",
   "execution_count": 47,
   "id": "8d06f5d2-09a1-411a-90b2-3093a076d5cb",
   "metadata": {},
   "outputs": [
    {
     "name": "stdout",
     "output_type": "stream",
     "text": [
      "set1 is superset of set2: True\n"
     ]
    }
   ],
   "source": [
    "set1 = {1,2,3,4,5}\n",
    "set2 = {3,4,5}\n",
    "\n",
    "# True: set1 contains set2\n",
    "print(f'set1 is superset of set2: {set1.issuperset(set2)}' )"
   ]
  },
  {
   "cell_type": "markdown",
   "id": "dd2d12ad-98b6-4e38-8905-b39257f99fd5",
   "metadata": {},
   "source": [
    "### pop()\n",
    "It removes a randomly selected element from the set. \n",
    "- If the set is empty, an error message is raised."
   ]
  },
  {
   "cell_type": "code",
   "execution_count": 50,
   "id": "127626b3-6ab0-4bb6-a1c7-957f5d0b9251",
   "metadata": {},
   "outputs": [
    {
     "name": "stdout",
     "output_type": "stream",
     "text": [
      "number_set before using pop(): {1, 2, 3, 4, 5}\n",
      "number_set after  using pop(): {2, 3, 4, 5}\n",
      "removed element              : 1\n"
     ]
    }
   ],
   "source": [
    "number_set = {1,2,3,4,5}\n",
    "print(f'number_set before using pop(): {number_set}')\n",
    "\n",
    "# removes a ranodm element\n",
    "removed_element = number_set.pop()   \n",
    "\n",
    "print(f'number_set after  using pop(): {number_set}')\n",
    "print(f'removed element              : {removed_element}')"
   ]
  },
  {
   "cell_type": "markdown",
   "id": "c96b84b4-d8e9-4f6f-8909-e1d009f15126",
   "metadata": {},
   "source": [
    "### remove()\n",
    "It removes the specified element from the set. \n",
    "- If the element does not exist in the set, an error message is raised."
   ]
  },
  {
   "cell_type": "code",
   "execution_count": 52,
   "id": "44f2e4b8-a193-4eed-8f27-ab01414940a9",
   "metadata": {},
   "outputs": [
    {
     "name": "stdout",
     "output_type": "stream",
     "text": [
      "number_set before using remove(): {1, 2, 3, 4, 5}\n",
      "number_set after  using remove(): {1, 2, 4, 5}\n"
     ]
    }
   ],
   "source": [
    "number_set = {1,2,3,4,5}\n",
    "print(f'number_set before using remove(): {number_set}')\n",
    "\n",
    "# removes 3\n",
    "number_set.remove(3)   \n",
    "\n",
    "print(f'number_set after  using remove(): {number_set}')"
   ]
  },
  {
   "cell_type": "markdown",
   "id": "18063553-580f-412b-ae61-6395ce20fd7c",
   "metadata": {},
   "source": [
    "### update()\n",
    "- It adds elements of the second set to the first one."
   ]
  },
  {
   "cell_type": "code",
   "execution_count": 72,
   "id": "81755da2-05f2-4ccd-8345-2e9f2bf51ac0",
   "metadata": {},
   "outputs": [
    {
     "name": "stdout",
     "output_type": "stream",
     "text": [
      "set1 before update: {1, 2, 3}\n",
      "set1 after  update: {1, 2, 3, 'c', 'd', 'a', 'b'}\n"
     ]
    }
   ],
   "source": [
    "set1 = {1,2,3}\n",
    "set2 = {'a', 'b', 'c', 'd'}\n",
    "print(f'set1 before update: {set1}')\n",
    "\n",
    "set1.update(set2)\n",
    "\n",
    "print(f'set1 after  update: {set1}')"
   ]
  },
  {
   "cell_type": "markdown",
   "id": "7bc2e78a-09d9-449a-ac72-81dc5316a5e9",
   "metadata": {},
   "source": [
    "- You can also add elements from a tuple or list using the update() method."
   ]
  },
  {
   "cell_type": "code",
   "execution_count": 75,
   "id": "8c69c00b-6b75-40b6-b403-7beb98d4c112",
   "metadata": {},
   "outputs": [
    {
     "name": "stdout",
     "output_type": "stream",
     "text": [
      "myset before update: {1, 2, 3}\n",
      "myset after  update: {1, 2, 3, 'a', 'c', 'd', 'b'}\n"
     ]
    }
   ],
   "source": [
    "myset = {1,2,3}\n",
    "mytuple = ('a', 'b', 'c', 'd')\n",
    "print(f'myset before update: {myset}')\n",
    "\n",
    "myset.update(mytuple)\n",
    "\n",
    "print(f'myset after  update: {myset}')"
   ]
  },
  {
   "cell_type": "code",
   "execution_count": 76,
   "id": "0f815cbb-c4d4-4c15-98b0-3c407f631603",
   "metadata": {},
   "outputs": [
    {
     "name": "stdout",
     "output_type": "stream",
     "text": [
      "myset before update: {1, 2, 3}\n",
      "myset after  update: {1, 2, 3, 'a', 'c', 'd', 'b'}\n"
     ]
    }
   ],
   "source": [
    "myset = {1,2,3}\n",
    "mylist = ['a', 'b', 'c', 'd']\n",
    "print(f'myset before update: {myset}')\n",
    "\n",
    "myset.update(mylist)\n",
    "\n",
    "print(f'myset after  update: {myset}')"
   ]
  },
  {
   "cell_type": "markdown",
   "id": "e7ae7849-8cf6-4cf3-9622-fe8e5c4fe741",
   "metadata": {},
   "source": [
    "## Iterations and Sets\n",
    "We can use a *for* loop to iterate through values in the set and access each element of the set to perform operations on them. \n",
    "- Indexes cannot be used, as in tuples and lists, since there is no ordering and indexing for sets.\n",
    "- When you run a *for* loop through a set, the order of the values of the set might be different."
   ]
  },
  {
   "cell_type": "code",
   "execution_count": 140,
   "id": "036353db-e7f1-4efe-bb51-db82a8aa4abf",
   "metadata": {},
   "outputs": [
    {
     "name": "stdout",
     "output_type": "stream",
     "text": [
      "California\n",
      "Oklahoma\n",
      "Arizona\n",
      "Texas\n",
      "Florida\n"
     ]
    }
   ],
   "source": [
    "# print state names in states set\n",
    "states = {'Arizona','Oklahoma', 'Texas', 'Florida', 'California'}   # states is a set\n",
    "\n",
    "for state in states:\n",
    "    print(state)       # not in the same order that you see above"
   ]
  },
  {
   "cell_type": "code",
   "execution_count": null,
   "id": "57baac94-0f6a-4286-98c5-7d4c04db5881",
   "metadata": {},
   "outputs": [],
   "source": []
  }
 ],
 "metadata": {
  "kernelspec": {
   "display_name": "Python 3 (ipykernel)",
   "language": "python",
   "name": "python3"
  },
  "language_info": {
   "codemirror_mode": {
    "name": "ipython",
    "version": 3
   },
   "file_extension": ".py",
   "mimetype": "text/x-python",
   "name": "python",
   "nbconvert_exporter": "python",
   "pygments_lexer": "ipython3",
   "version": "3.11.8"
  }
 },
 "nbformat": 4,
 "nbformat_minor": 5
}
