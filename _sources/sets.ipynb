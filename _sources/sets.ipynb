{
 "cells": [
  {
   "cell_type": "markdown",
   "id": "d8712b3b-783d-4fee-b9d9-65c3178feb7f",
   "metadata": {},
   "source": [
    "# Chp-10: Sets \n"
   ]
  },
  {
   "cell_type": "markdown",
   "id": "fc705727-5035-4642-9407-a1fbca93f603",
   "metadata": {},
   "source": [
    "![](title_pict/sets2.png)"
   ]
  },
  {
   "cell_type": "markdown",
   "id": "10eb69e8-05d5-4d73-a880-acb1f23c7a65",
   "metadata": {},
   "source": [
    "Sets are an unordered collection of values.\n",
    "- Since there is no order there is no indexing for sets.\n",
    "- It can contain a mixed type of elements.\n",
    "- Curly brackets `{}` are used to create sets.\n",
    "    - **Warning:** `{}` is NOT an empty set. It is an empty *dictionary* that will be covered in later chapters.\n",
    "- Sets are mutable. so they can be modified like lists.\n",
    "- A tuple can be an element of a set.\n",
    "- A list cannot be an element of a set.\n",
    "- You can use the `set()` function to convert strings, tuples, and lists into a set.\n",
    "  - Only unique values are stored in sets (no repetition).\n",
    "  - **Warning:** You will lose the order of the elements when you use the conversion.\n",
    "  - Example:\n",
    "    - ``` python\n",
    "      my_list = [1,4,7,7,8]\n",
    "      \n",
    "      my_set = set(my_list)\n",
    "\n",
    "      print(myset)\n",
    "      ```\n",
    "    - Output: 1,4,7,8\n",
    "   "
   ]
  },
  {
   "cell_type": "markdown",
   "id": "75ed8d5a-4d7a-4adb-b68e-cfaaf5398da3",
   "metadata": {},
   "source": [
    "## Create Sets"
   ]
  },
  {
   "cell_type": "code",
   "execution_count": 12,
   "id": "fd57c821-19f0-4419-a69b-a6be44df1a4a",
   "metadata": {},
   "outputs": [
    {
     "name": "stdout",
     "output_type": "stream",
     "text": [
      "Empty set         : set()\n",
      "Type of emppty_set: <class 'set'>\n"
     ]
    }
   ],
   "source": [
    "# empty set\n",
    "empty_set = set()\n",
    "\n",
    "print(f'Empty set         : {empty_set}')\n",
    "print(f'Type of emppty_set: {type(empty_set)}')"
   ]
  },
  {
   "cell_type": "code",
   "execution_count": 14,
   "id": "71e6cfe8-e653-4d25-b8a5-c1c8095ad56e",
   "metadata": {},
   "outputs": [
    {
     "name": "stdout",
     "output_type": "stream",
     "text": [
      "<class 'set'>\n"
     ]
    }
   ],
   "source": [
    "# set with mixed values: str, int, bool, float\n",
    "\n",
    "s = {'USA', 2, True, 9.123}      \n",
    "\n",
    "print(type(s))"
   ]
  },
  {
   "cell_type": "code",
   "execution_count": 18,
   "id": "8fadcea8-838b-4fa9-b806-d49831535a31",
   "metadata": {},
   "outputs": [
    {
     "name": "stdout",
     "output_type": "stream",
     "text": [
      "{True, 2, 'USA', 9.123}\n"
     ]
    }
   ],
   "source": [
    "# set removes the repetitions\n",
    "\n",
    "s = {'USA', 2, True, 9.123, 'USA', 'USA', 'USA', 'USA'}      \n",
    "\n",
    "print(s)   # only one 'USA' will be in the set s"
   ]
  },
  {
   "cell_type": "code",
   "execution_count": 19,
   "id": "552dca14-496c-43bf-a3a0-80e6b3b70050",
   "metadata": {},
   "outputs": [
    {
     "name": "stdout",
     "output_type": "stream",
     "text": [
      "<class 'list'>\n"
     ]
    }
   ],
   "source": [
    "# tuple and set in a set\n",
    "# set with mixed values: str, int, bool, float, tuple, set\n",
    "# (10,20,30) is a tuple and ['a','b'] is a list in the list mixed_list.\n",
    "\n",
    "s = ['USA', 2, True, 9.123, (10,20,30), {'a','b'}]       \n",
    "print(type(s))"
   ]
  },
  {
   "cell_type": "markdown",
   "id": "83c0690d-88c8-43d4-b68a-6e20a664afc9",
   "metadata": {},
   "source": [
    "``` python\n",
    "# a list can not be an element of a set\n",
    "\n",
    "s = {'USA', 2, True, 9.123, (10,20,30), ['a','b']}         # ERROR\n",
    "\n",
    "```"
   ]
  },
  {
   "cell_type": "markdown",
   "id": "00f765a0-737a-4a48-9c70-5bb590adf1bc",
   "metadata": {},
   "source": [
    "## set() function\n",
    "- The built-in `set()` function converts strings, tuples, and lists to a set, removing any duplicates and retaining only unique elements."
   ]
  },
  {
   "cell_type": "code",
   "execution_count": 23,
   "id": "fcd66285-a4fc-48b1-99ad-f8da16ce6223",
   "metadata": {},
   "outputs": [
    {
     "name": "stdout",
     "output_type": "stream",
     "text": [
      "Type of char_set: <class 'set'>\n",
      "char_set        : {'H', 'e', 'o', 'l'}\n"
     ]
    }
   ],
   "source": [
    "char_set = set('Hello')  # convert string to set\n",
    "\n",
    "print(f'Type of char_set: {type(char_set)}')\n",
    "print(f'char_set        : {char_set}')"
   ]
  },
  {
   "cell_type": "code",
   "execution_count": 24,
   "id": "00c73e2a-97d0-4acb-8681-ce5ed008a8e8",
   "metadata": {},
   "outputs": [
    {
     "name": "stdout",
     "output_type": "stream",
     "text": [
      "Type of char_set: <class 'set'>\n",
      "char_set        : {1, 2, 3, 4}\n"
     ]
    }
   ],
   "source": [
    "t = (1,2,3,4,4,4)\n",
    "char_set = set(t)  # convert tuple to  set\n",
    "\n",
    "print(f'Type of char_set: {type(char_set)}')\n",
    "print(f'char_set        : {char_set}')"
   ]
  },
  {
   "cell_type": "code",
   "execution_count": 25,
   "id": "ba16e78d-bf0a-4c3a-81b0-3537edef0fcd",
   "metadata": {},
   "outputs": [
    {
     "name": "stdout",
     "output_type": "stream",
     "text": [
      "Type of char_set: <class 'set'>\n",
      "char_set        : {1, 2, 3, 4}\n"
     ]
    }
   ],
   "source": [
    "number_list = [1,2,3,4,4,4]\n",
    "char_set = set(number_list)  # convert list to  set\n",
    "\n",
    "print(f'Type of char_set: {type(char_set)}')\n",
    "print(f'char_set        : {char_set}')"
   ]
  },
  {
   "cell_type": "markdown",
   "id": "b8c263df-e16f-4d71-935a-a6c4e166c48a",
   "metadata": {},
   "source": [
    "**Remark:** By using *tuple()* and  *list()* functions, sets can be converted to tuples and lists, respectively.\n",
    " - It's important to note that the conversion doesn't preserve any specific order, as sets are inherently unordered collections."
   ]
  },
  {
   "cell_type": "code",
   "execution_count": 29,
   "id": "5a0cf7e8-b546-4856-bc4c-dae970f84307",
   "metadata": {},
   "outputs": [
    {
     "name": "stdout",
     "output_type": "stream",
     "text": [
      "Type of s_tuple: <class 'tuple'>\n",
      "s_tuple        : (1, 2, 3, 4)\n"
     ]
    }
   ],
   "source": [
    "s = {1,2,3,4}   # set\n",
    "\n",
    "s_tuple = tuple(s)      # set ---> tuple\n",
    "\n",
    "print(f'Type of s_tuple: {type(s_tuple)}')\n",
    "print(f's_tuple        : {s_tuple}')"
   ]
  },
  {
   "cell_type": "code",
   "execution_count": 30,
   "id": "5e7bf4c0-9efa-4139-846e-f16fd7deb9c9",
   "metadata": {},
   "outputs": [
    {
     "name": "stdout",
     "output_type": "stream",
     "text": [
      "Type of s_list: <class 'list'>\n",
      "s_list        : [1, 2, 3, 4]\n"
     ]
    }
   ],
   "source": [
    "s = {1,2,3,4}   # set\n",
    "\n",
    "s_list = list(s)      # set ---> list\n",
    "\n",
    "print(f'Type of s_list: {type(s_list)}')\n",
    "print(f's_list        : {s_list}')"
   ]
  },
  {
   "cell_type": "markdown",
   "id": "d098cdd9-b508-49e1-9f9c-e18a2ef1955e",
   "metadata": {},
   "source": [
    "## Functions on sets\n",
    "- len(), max(), min(), and sum() functions can be applied to sets, similar to other data types like tuples and lists."
   ]
  },
  {
   "cell_type": "code",
   "execution_count": 32,
   "id": "d3acc0e0-ed49-4091-89b1-037b5c036631",
   "metadata": {},
   "outputs": [
    {
     "name": "stdout",
     "output_type": "stream",
     "text": [
      "Length : 6\n",
      "Maximum: 9\n",
      "Minimum: 1\n",
      "Sum    : 30\n"
     ]
    }
   ],
   "source": [
    "numbers = {7,3,1,9,6,4}\n",
    "\n",
    "print(f'Length : {len(numbers)}')\n",
    "print(f'Maximum: {max(numbers)}')\n",
    "print(f'Minimum: {min(numbers)}')\n",
    "print(f'Sum    : {sum(numbers)}')"
   ]
  },
  {
   "cell_type": "code",
   "execution_count": 33,
   "id": "1c7f5443-59b3-4227-a311-5c73aa1e0cda",
   "metadata": {},
   "outputs": [
    {
     "name": "stdout",
     "output_type": "stream",
     "text": [
      "Length : 5\n",
      "Maximum: t\n",
      "Minimum: a\n"
     ]
    }
   ],
   "source": [
    "letters = {'r', 't', 'n', 'a', 'd'}\n",
    "\n",
    "print(f'Length : {len(letters)}')\n",
    "print(f'Maximum: {max(letters)}')    # dictionary order\n",
    "print(f'Minimum: {min(letters)}')"
   ]
  },
  {
   "cell_type": "markdown",
   "id": "8766f783-0de7-4f27-bb19-adc6560dc1f7",
   "metadata": {},
   "source": [
    "## Set Operations\n",
    "\n",
    "The available operators for sets in Python include `&` (intersection), `|` (union), `-` (difference), `^` (symmetric difference), `in`, and `not in`."
   ]
  },
  {
   "cell_type": "markdown",
   "id": "9abc8fb5-0d04-4e9c-8bf6-4e8db3b7c1c8",
   "metadata": {
    "scrolled": true
   },
   "source": [
    "### Intersection \n",
    "The `&` (ampersand) operator returns a new set consisting of the common elements of the two sets."
   ]
  },
  {
   "cell_type": "code",
   "execution_count": 56,
   "id": "01879207-47da-4bb0-bb88-6bccb7a403e0",
   "metadata": {},
   "outputs": [
    {
     "name": "stdout",
     "output_type": "stream",
     "text": [
      "Intersection of s1 and s2: {3, 4, 5}\n"
     ]
    }
   ],
   "source": [
    "s1 = {1,2,3,4,5}\n",
    "s2 = {3,4,5,6,7}\n",
    "\n",
    "print(f'Intersection of s1 and s2: {s1&s2}')"
   ]
  },
  {
   "cell_type": "markdown",
   "id": "165515bc-0a7f-4892-8966-e2b18e961c20",
   "metadata": {},
   "source": [
    "- The *intersection()* method of sets can also be used to find the common elements between two sets."
   ]
  },
  {
   "cell_type": "code",
   "execution_count": 55,
   "id": "dfc36029-93a1-4955-b438-78414ae99b2f",
   "metadata": {},
   "outputs": [
    {
     "name": "stdout",
     "output_type": "stream",
     "text": [
      "s1 intersection s2 ; {3, 4, 5}\n",
      "No change on s1    : {1, 2, 3, 4, 5}\n"
     ]
    }
   ],
   "source": [
    "s1 = {1,2,3,4,5}\n",
    "s2 = {3,4,5,6,7}\n",
    "\n",
    "print(f's1 intersection s2 ; {s1.intersection(s2)}')\n",
    "print(f'No change on s1    : {s1}')"
   ]
  },
  {
   "cell_type": "markdown",
   "id": "862dbd67-ac9b-4277-88ec-867c3a9d496c",
   "metadata": {
    "scrolled": true
   },
   "source": [
    "### Union\n",
    "The `|` (pipe) operator returns a new set consisting of the combined elements of the two sets.\n"
   ]
  },
  {
   "cell_type": "code",
   "execution_count": 57,
   "id": "1653bb55-2de2-44ca-8ebd-b3b9d281ef78",
   "metadata": {},
   "outputs": [
    {
     "name": "stdout",
     "output_type": "stream",
     "text": [
      "Union of s1 and s2: {1, 2, 3, 4, 5, 6, 7}\n"
     ]
    }
   ],
   "source": [
    "s1 = {1,2,3,4,5}\n",
    "s2 = {3,4,5,6,7}\n",
    "\n",
    "print(f'Union of s1 and s2: {s1|s2}')"
   ]
  },
  {
   "cell_type": "markdown",
   "id": "a32d2a72-38ce-485a-8dfa-2785ec186e52",
   "metadata": {},
   "source": [
    "- The *union()* method of sets can also be used to combine elements from two sets into a new set."
   ]
  },
  {
   "cell_type": "code",
   "execution_count": 54,
   "id": "8c847eb6-e8a5-4b28-9901-dea6cb72c9f7",
   "metadata": {},
   "outputs": [
    {
     "name": "stdout",
     "output_type": "stream",
     "text": [
      "s1 union s2; {1, 2, 3, 4, 5, 6, 7}\n",
      "s1         : {1, 2, 3, 4, 5}\n"
     ]
    }
   ],
   "source": [
    "s1 = {1,2,3,4,5}\n",
    "s2 = {3,4,5,6,7}\n",
    "\n",
    "print(f's1 union s2; {s1.union(s2)}')\n",
    "print(f's1         : {s1}')               # No change on s1"
   ]
  },
  {
   "cell_type": "markdown",
   "id": "d2a7d351-b4f1-4ad3-b6cf-d0acc228a4b3",
   "metadata": {
    "scrolled": true
   },
   "source": [
    "### Difference\n",
    "\n",
    "The `-` (dash) operator returns a new set consisting of the elements in the first set but not in the second set.\n",
    "- `s1 - s2`: elements in *s1* but not in *s2*.\n",
    "- `s2 - s1`: elements in *s2* but not in *s1*."
   ]
  },
  {
   "cell_type": "code",
   "execution_count": 60,
   "id": "9e8527d1-d26d-4319-b446-dab17ce8836d",
   "metadata": {},
   "outputs": [
    {
     "name": "stdout",
     "output_type": "stream",
     "text": [
      "s1 - s2: {1, 2}\n",
      "s2 - s1: {6, 7}\n"
     ]
    }
   ],
   "source": [
    "s1 = {1,2,3,4,5}\n",
    "s2 = {3,4,5,6,7}\n",
    "\n",
    "print(f's1 - s2: {s1-s2}')\n",
    "print(f's2 - s1: {s2-s1}')"
   ]
  },
  {
   "cell_type": "markdown",
   "id": "3188f47f-5270-40da-934b-c866e072fe76",
   "metadata": {},
   "source": [
    "- The difference() method of sets can also be used to obtain a new set consisting of the elements in the first set but not in the second set."
   ]
  },
  {
   "cell_type": "code",
   "execution_count": 61,
   "id": "8b287662-bf07-4cd3-ba1a-bc6593c5b5ea",
   "metadata": {},
   "outputs": [
    {
     "name": "stdout",
     "output_type": "stream",
     "text": [
      "s1 - s2: {1, 2}\n",
      "s2 - s1: {6, 7}\n"
     ]
    }
   ],
   "source": [
    "s1 = {1,2,3,4,5}\n",
    "s2 = {3,4,5,6,7}\n",
    "\n",
    "print(f's1 - s2: {s1.difference(s2)}')\n",
    "print(f's2 - s1: {s2.difference(s1)}')"
   ]
  },
  {
   "cell_type": "markdown",
   "id": "36b3cb04-9caf-402f-ba71-c5519a08b6e7",
   "metadata": {
    "scrolled": true
   },
   "source": [
    "### Symmetric Difference\n",
    "The ^ (caret) operator returns a new set consisting of elements in either one of the two sets but not both. \n",
    "- `s1 ^ s2` and  `s2 ^ s1` are same."
   ]
  },
  {
   "cell_type": "code",
   "execution_count": 63,
   "id": "3c5bd8e0-0892-4d7d-a554-204a5a987b76",
   "metadata": {},
   "outputs": [
    {
     "name": "stdout",
     "output_type": "stream",
     "text": [
      "s1 ^ s2: {1, 2, 6, 7}\n",
      "s2 ^ s1: {1, 2, 6, 7}\n"
     ]
    }
   ],
   "source": [
    "s1 = {1,2,3,4,5}\n",
    "s2 = {3,4,5,6,7}\n",
    "\n",
    "print(f's1 ^ s2: {s1^s2}')\n",
    "print(f's2 ^ s1: {s2^s1}')"
   ]
  },
  {
   "cell_type": "markdown",
   "id": "b90849d7-a7b2-4d57-a24c-327dfbc9ca46",
   "metadata": {},
   "source": [
    "- The symmetric_difference() method of sets can also be used to obtain a new set consisting of the elements in either one of the two sets but not both."
   ]
  },
  {
   "cell_type": "code",
   "execution_count": 65,
   "id": "ae9d242f-2e59-4a55-80d5-2c7ec45bf5e2",
   "metadata": {},
   "outputs": [
    {
     "name": "stdout",
     "output_type": "stream",
     "text": [
      "s1 - s2: {1, 2, 6, 7}\n",
      "s2 - s1: {1, 2, 6, 7}\n"
     ]
    }
   ],
   "source": [
    "s1 = {1,2,3,4,5}\n",
    "s2 = {3,4,5,6,7}\n",
    "\n",
    "print(f's1 - s2: {s1.symmetric_difference(s2)}')\n",
    "print(f's2 - s1: {s2.symmetric_difference(s1)}')"
   ]
  },
  {
   "cell_type": "markdown",
   "id": "24f167de-8101-497d-882d-97ba66687d73",
   "metadata": {},
   "source": [
    "### in & not in\n",
    "`in` checks if a value is part of a set, while `not in` verifies if a value is absent from a set. \n",
    "- Both operations yield a Boolean result, either True or False."
   ]
  },
  {
   "cell_type": "code",
   "execution_count": 67,
   "id": "1758a501-d5cc-4cec-8304-947904f8796a",
   "metadata": {},
   "outputs": [
    {
     "name": "stdout",
     "output_type": "stream",
     "text": [
      " 5 is in s1    : True\n",
      " 5 is not in s1: False\n"
     ]
    }
   ],
   "source": [
    "s1 = {1,2,3,4,5}\n",
    "\n",
    "print(f' 5 is in s1    : {5  in s1}' )\n",
    "print(f' 5 is not in s1: {5  not in s1}' )"
   ]
  },
  {
   "cell_type": "code",
   "execution_count": 68,
   "id": "5144e9f2-c401-4dfb-8466-8b438cc51a71",
   "metadata": {},
   "outputs": [
    {
     "name": "stdout",
     "output_type": "stream",
     "text": [
      " 9 is in s1    : False\n",
      " 9 is not in s1: True\n"
     ]
    }
   ],
   "source": [
    "s1 = {1,2,3,4,5}\n",
    "\n",
    "print(f' 9 is in s1    : {9  in s1}' )\n",
    "print(f' 9 is not in s1: {9  not in s1}' )"
   ]
  },
  {
   "cell_type": "markdown",
   "id": "e519d833-0995-44c4-a69b-917465b9c059",
   "metadata": {},
   "source": [
    "### Mutable\n",
    "Unlike strings and tuples, and similar to lists, sets are mutable, allowing them to be modified.\n",
    "- The set methods enable the addition of new elements and the removal of existing ones.\n",
    "- Set elements themselves cannot be changed, but new items can be added or existing ones removed."
   ]
  },
  {
   "cell_type": "markdown",
   "id": "09cd8c0b-dc8a-4b56-98ea-ff09fccceb59",
   "metadata": {},
   "source": [
    "## Set Methods\n",
    "Except for the magic methods (those with underscores), there are 17 methods for sets.\n",
    "- We have already covered intersection, union, difference, and symmetric difference above.\n",
    "- You can execute help(set) for more details."
   ]
  },
  {
   "cell_type": "code",
   "execution_count": 141,
   "id": "e50259e1-8b97-4a6a-83f6-f645d5005993",
   "metadata": {},
   "outputs": [
    {
     "name": "stdout",
     "output_type": "stream",
     "text": [
      "['__and__', '__class__', '__class_getitem__', '__contains__', '__delattr__', '__dir__', '__doc__', '__eq__', '__format__', '__ge__', '__getattribute__', '__getstate__', '__gt__', '__hash__', '__iand__', '__init__', '__init_subclass__', '__ior__', '__isub__', '__iter__', '__ixor__', '__le__', '__len__', '__lt__', '__ne__', '__new__', '__or__', '__rand__', '__reduce__', '__reduce_ex__', '__repr__', '__ror__', '__rsub__', '__rxor__', '__setattr__', '__sizeof__', '__str__', '__sub__', '__subclasshook__', '__xor__', 'add', 'clear', 'copy', 'difference', 'difference_update', 'discard', 'intersection', 'intersection_update', 'isdisjoint', 'issubset', 'issuperset', 'pop', 'remove', 'symmetric_difference', 'symmetric_difference_update', 'union', 'update']\n"
     ]
    }
   ],
   "source": [
    "# methods of sets\n",
    "# dir() returns a list\n",
    "\n",
    "print(dir(set))"
   ]
  },
  {
   "cell_type": "code",
   "execution_count": 73,
   "id": "15700631-3ad1-4d4d-890b-d7a6ec0daf24",
   "metadata": {},
   "outputs": [
    {
     "name": "stdout",
     "output_type": "stream",
     "text": [
      "['add', 'clear', 'copy', 'difference', 'difference_update', 'discard', 'intersection', 'intersection_update', 'isdisjoint', 'issubset', 'issuperset', 'pop', 'remove', 'symmetric_difference', 'symmetric_difference_update', 'union', 'update']\n"
     ]
    }
   ],
   "source": [
    "print(dir(set)[-17:])"
   ]
  },
  {
   "cell_type": "markdown",
   "id": "b6be7635-45d8-4368-b871-408dd945b891",
   "metadata": {},
   "source": [
    "### add()\n",
    "It adds a new element to a set."
   ]
  },
  {
   "cell_type": "code",
   "execution_count": 142,
   "id": "72e182e0-9886-4769-bf85-dcf007293042",
   "metadata": {},
   "outputs": [
    {
     "name": "stdout",
     "output_type": "stream",
     "text": [
      "set s before using add(): {1, 2, 3, 4, 5}\n",
      "set s after using add() : {1, 2, 3, 4, 5, 99}\n"
     ]
    }
   ],
   "source": [
    "s = {1,2,3,4,5}\n",
    "print(f'set s before using add(): {s}')\n",
    "\n",
    "# add 99\n",
    "s.add(99)   \n",
    "\n",
    "print(f'set s after using add() : {s}')"
   ]
  },
  {
   "cell_type": "markdown",
   "id": "80c74c76-258e-4728-aef9-be37990adc9c",
   "metadata": {},
   "source": [
    "### clear()\n",
    "It removes all elements from the set, making it an empty set."
   ]
  },
  {
   "cell_type": "code",
   "execution_count": 82,
   "id": "e3446681-c1bf-426c-bbf3-3721b60b96dd",
   "metadata": {},
   "outputs": [
    {
     "name": "stdout",
     "output_type": "stream",
     "text": [
      "set s before using clear(): {1, 2, 3, 4, 5}\n",
      "set s after using clear() : set()\n"
     ]
    }
   ],
   "source": [
    "s = {1,2,3,4,5}\n",
    "print(f'set s before using clear(): {s}')\n",
    "\n",
    "# removes all elements\n",
    "s.clear()   \n",
    "\n",
    "print(f'set s after using clear() : {s}')"
   ]
  },
  {
   "cell_type": "markdown",
   "id": "8afe3c8b-41db-4254-a003-569f0b229c52",
   "metadata": {},
   "source": [
    "### copy()\n",
    "It returns a new set with the same elements."
   ]
  },
  {
   "cell_type": "code",
   "execution_count": 83,
   "id": "865ce139-cb69-4efb-8de5-d5a6809a6927",
   "metadata": {},
   "outputs": [
    {
     "name": "stdout",
     "output_type": "stream",
     "text": [
      "set s before using copy(): {1, 2, 3, 4, 5}\n",
      "set s after using copy() : {1, 2, 3, 4, 5}\n",
      "set s_copy               : {1, 2, 3, 4, 5}\n"
     ]
    }
   ],
   "source": [
    "s = {1,2,3,4,5}\n",
    "print(f'set s before using copy(): {s}')\n",
    "\n",
    "# make a copy\n",
    "s_copy = s1.copy()   \n",
    "\n",
    "print(f'set s after using copy() : {s}')\n",
    "print(f'set s_copy               : {s_copy}')"
   ]
  },
  {
   "cell_type": "markdown",
   "id": "f8f86ab1-f9b4-4888-baae-77ae81aa8005",
   "metadata": {},
   "source": [
    "### isdisjoint()\n",
    "It checks if there are no common elements between the two given sets."
   ]
  },
  {
   "cell_type": "code",
   "execution_count": 86,
   "id": "34ccfa9e-6b5d-477b-8350-70d5c729694a",
   "metadata": {},
   "outputs": [
    {
     "name": "stdout",
     "output_type": "stream",
     "text": [
      " s1 and s2 are disjoint: False\n"
     ]
    }
   ],
   "source": [
    "s1 = {1,2,3,4,5}\n",
    "s2 = {3,4,5,6,7}\n",
    "\n",
    "# False: 3,4,5 are common\n",
    "print(f' s1 and s2 are disjoint: {s1.isdisjoint(s2)}' )"
   ]
  },
  {
   "cell_type": "code",
   "execution_count": 91,
   "id": "d30b86ae-1e80-494b-8d78-8a6a7f14ef30",
   "metadata": {},
   "outputs": [
    {
     "name": "stdout",
     "output_type": "stream",
     "text": [
      " s1 and s2 are disjoint: True\n"
     ]
    }
   ],
   "source": [
    "s1 = {1,2,3,4,5}\n",
    "s2 = {10,20,30}\n",
    "\n",
    "# True: no common element\n",
    "print(f' s1 and s2 are disjoint: {s1.isdisjoint(s2)}' )"
   ]
  },
  {
   "cell_type": "markdown",
   "id": "7ecba1c5-f847-4abf-aff4-d1d85cc2c62c",
   "metadata": {},
   "source": [
    "### issubset()\n",
    "It checks if the first set is a subset of the second set."
   ]
  },
  {
   "cell_type": "code",
   "execution_count": 92,
   "id": "d3e7d848-60f0-4758-a3ea-961e015ed00d",
   "metadata": {},
   "outputs": [
    {
     "name": "stdout",
     "output_type": "stream",
     "text": [
      " s1 is subset of s2: False\n"
     ]
    }
   ],
   "source": [
    "s1 = {1,2,3,4,5}\n",
    "s2 = {3,4,5,6,7}\n",
    "\n",
    "# False: s1 is not subset of s2\n",
    "print(f' s1 is subset of s2: {s1.issubset(s2)}' )"
   ]
  },
  {
   "cell_type": "code",
   "execution_count": 90,
   "id": "257d11aa-dc78-4231-9529-02a78b27146a",
   "metadata": {},
   "outputs": [
    {
     "name": "stdout",
     "output_type": "stream",
     "text": [
      " s1 is subset of s2: True\n"
     ]
    }
   ],
   "source": [
    "s1 = {3,4,5}\n",
    "s2 = {3,4,5,6,7}\n",
    "\n",
    "# True: s1 is not subset of s2\n",
    "print(f' s1 is subset of s2: {s1.issubset(s2)}' )"
   ]
  },
  {
   "cell_type": "markdown",
   "id": "b7dc07a3-cc04-4c6c-a70c-b111ed83e66c",
   "metadata": {},
   "source": [
    "### isuperset()\n",
    "It checks if the first set contains the second set."
   ]
  },
  {
   "cell_type": "code",
   "execution_count": 95,
   "id": "5265e518-fd19-4ad1-b1b9-6f522096f02d",
   "metadata": {},
   "outputs": [
    {
     "name": "stdout",
     "output_type": "stream",
     "text": [
      " s1 is super of s2: False\n"
     ]
    }
   ],
   "source": [
    "s1 = {1,2,3,4,5}\n",
    "s2 = {3,4,5,6,7}\n",
    "\n",
    "# False: s1 idoes not contain s2\n",
    "print(f' s1 is superset of s2: {s1.issuperset(s2)}' )"
   ]
  },
  {
   "cell_type": "code",
   "execution_count": 96,
   "id": "8d06f5d2-09a1-411a-90b2-3093a076d5cb",
   "metadata": {},
   "outputs": [
    {
     "name": "stdout",
     "output_type": "stream",
     "text": [
      " s1 is superset of s2: True\n"
     ]
    }
   ],
   "source": [
    "s1 = {1,2,3,4,5}\n",
    "s2 = {3,4,5}\n",
    "\n",
    "# True: s1 contains s2\n",
    "print(f' s1 is superset of s2: {s1.issuperset(s2)}' )"
   ]
  },
  {
   "cell_type": "markdown",
   "id": "dd2d12ad-98b6-4e38-8905-b39257f99fd5",
   "metadata": {},
   "source": [
    "### pop()\n",
    "It removes a randomly selected element from the set. \n",
    "- If the set is empty, an error message is raised."
   ]
  },
  {
   "cell_type": "code",
   "execution_count": 146,
   "id": "127626b3-6ab0-4bb6-a1c7-957f5d0b9251",
   "metadata": {},
   "outputs": [
    {
     "name": "stdout",
     "output_type": "stream",
     "text": [
      "set s before using pop(): {1, 2, 3, 4, 5}\n",
      "set s after using pop(): {2, 3, 4, 5}\n",
      "removed element        : 1\n"
     ]
    }
   ],
   "source": [
    "s = {1,2,3,4,5}\n",
    "print(f'set s before using pop(): {s}')\n",
    "\n",
    "# removes a ranodm element\n",
    "removed_element = s.pop()   \n",
    "\n",
    "print(f'set s after using pop(): {s}')\n",
    "print(f'removed element        : {removed_element}')"
   ]
  },
  {
   "cell_type": "markdown",
   "id": "c96b84b4-d8e9-4f6f-8909-e1d009f15126",
   "metadata": {},
   "source": [
    "### remove()\n",
    "It removes the specified element from the set. \n",
    "- If the element does not exist in the set, an error message is raised."
   ]
  },
  {
   "cell_type": "code",
   "execution_count": 144,
   "id": "44f2e4b8-a193-4eed-8f27-ab01414940a9",
   "metadata": {},
   "outputs": [
    {
     "name": "stdout",
     "output_type": "stream",
     "text": [
      "set s before using remove(): {1, 2, 3, 4, 5}\n",
      "set s  after using remove(): {1, 2, 4, 5}\n"
     ]
    }
   ],
   "source": [
    "s = {1,2,3,4,5}\n",
    "print(f'set s before using remove(): {s}')\n",
    "\n",
    "# removes 3\n",
    "s.remove(3)   \n",
    "\n",
    "print(f'set s  after using remove(): {s}')"
   ]
  },
  {
   "cell_type": "markdown",
   "id": "e7ae7849-8cf6-4cf3-9622-fe8e5c4fe741",
   "metadata": {},
   "source": [
    "## Iterations and Sets\n",
    "We can use a *for* loop and iterate through values in the set operator to access each element of the *set* and perform operations on them.\n",
    "- Indexes cannot be used as in *tuples* and *lists* since there is no ordering and indexing for sets.\n",
    "- When you run a for loop through a set,the order of the values of state might be different.\n",
    "\n",
    "We can use a *for* loop to iterate through values in the set and access each element of the set to perform operations on them. \n",
    "- Indexes cannot be used, as in tuples and lists, since there is no ordering and indexing for sets.\n",
    "- When you run a *for* loop through a set, the order of the values of the set might be different."
   ]
  },
  {
   "cell_type": "code",
   "execution_count": 140,
   "id": "036353db-e7f1-4efe-bb51-db82a8aa4abf",
   "metadata": {},
   "outputs": [
    {
     "name": "stdout",
     "output_type": "stream",
     "text": [
      "California\n",
      "Oklahoma\n",
      "Arizona\n",
      "Texas\n",
      "Florida\n"
     ]
    }
   ],
   "source": [
    "# print state names in states set\n",
    "states = {'Arizona','Oklahoma', 'Texas', 'Florida', 'California'}   # states is a set\n",
    "\n",
    "for state in states:\n",
    "    print(state)       # not in the same order that you see above"
   ]
  },
  {
   "cell_type": "code",
   "execution_count": null,
   "id": "57baac94-0f6a-4286-98c5-7d4c04db5881",
   "metadata": {},
   "outputs": [],
   "source": []
  },
  {
   "cell_type": "code",
   "execution_count": null,
   "id": "1aa2c879-ecda-41ab-8f4e-50dc0c9e4796",
   "metadata": {},
   "outputs": [],
   "source": []
  }
 ],
 "metadata": {
  "kernelspec": {
   "display_name": "Python 3 (ipykernel)",
   "language": "python",
   "name": "python3"
  },
  "language_info": {
   "codemirror_mode": {
    "name": "ipython",
    "version": 3
   },
   "file_extension": ".py",
   "mimetype": "text/x-python",
   "name": "python",
   "nbconvert_exporter": "python",
   "pygments_lexer": "ipython3",
   "version": "3.11.7"
  }
 },
 "nbformat": 4,
 "nbformat_minor": 5
}
