{
 "cells": [
  {
   "cell_type": "markdown",
   "id": "13e18a7d",
   "metadata": {
    "hide_input": false
   },
   "source": [
    "# Functions Code\n",
    "- Please solve the following questions using Python code.&emsp;&emsp;"
   ]
  },
  {
   "cell_type": "markdown",
   "id": "7054f9a9",
   "metadata": {},
   "source": [
    "## Question\n",
    "Write a function that accepts an integer as its parameter and prints an $n \\times n$ square with '*' characters.\n",
    "\n",
    "**Solution**"
   ]
  },
  {
   "cell_type": "code",
   "execution_count": 1,
   "id": "bcf51c3b-0605-463b-8104-c74c65af48ac",
   "metadata": {
    "tags": [
     "hide-cell"
    ]
   },
   "outputs": [],
   "source": [
    "def square_star(n):\n",
    "    \n",
    "    for i in range(n):\n",
    "        print('* '*n)"
   ]
  },
  {
   "cell_type": "code",
   "execution_count": 2,
   "id": "85415115-bbcb-4a46-8182-284ae97667e5",
   "metadata": {},
   "outputs": [
    {
     "name": "stdout",
     "output_type": "stream",
     "text": [
      "* * * * * \n",
      "* * * * * \n",
      "* * * * * \n",
      "* * * * * \n",
      "* * * * * \n"
     ]
    }
   ],
   "source": [
    "square_star(5)"
   ]
  },
  {
   "cell_type": "markdown",
   "id": "5640bacd-ca75-4b61-a470-bdc3fed53014",
   "metadata": {},
   "source": [
    "## Question\n",
    "\n",
    "Write a function that takes a string as its parameter and returns the vowels ('a, e, i, o, u') in the given string without repetition as a list. \n",
    "- If there are no vowels in the string, return the string 'No vowels' .\n",
    "   \n",
    "**Solution**"
   ]
  },
  {
   "cell_type": "code",
   "execution_count": 3,
   "id": "f8555958-8e1c-4366-816d-91d82b938d88",
   "metadata": {
    "tags": [
     "hide-cell"
    ]
   },
   "outputs": [],
   "source": [
    "def vowel_func(text):\n",
    "  \n",
    "  result = list(set(text) & {'a', 'e', 'i', 'o', 'u'})\n",
    "    \n",
    "  if len(result) == 0:\n",
    "    return 'No vowels!'\n",
    "  else:\n",
    "    return result"
   ]
  },
  {
   "cell_type": "code",
   "execution_count": 4,
   "id": "18ea33ea-2249-4d41-aa97-903e29e026ec",
   "metadata": {},
   "outputs": [
    {
     "name": "stdout",
     "output_type": "stream",
     "text": [
      "['e', 'i', 'a', 'o']\n"
     ]
    }
   ],
   "source": [
    "print(vowel_func('abbbecido'))"
   ]
  },
  {
   "cell_type": "code",
   "execution_count": 5,
   "id": "8ea6237d-69a1-4205-8530-5f8fbd2a0fbe",
   "metadata": {},
   "outputs": [
    {
     "name": "stdout",
     "output_type": "stream",
     "text": [
      "No vowels!\n"
     ]
    }
   ],
   "source": [
    "print(vowel_func('bcd'))"
   ]
  },
  {
   "cell_type": "markdown",
   "id": "549ef7a7-9ce1-48da-800e-608d91c96856",
   "metadata": {},
   "source": [
    "## Question\n",
    "Write a function that takes two integers as parameters and returns the powers of the first integer (base) from 0 to the second integer number.\n",
    "- Example: parameters are 3, 5\n",
    "  - Output: $[3^0, 3^1, 3^2, 3^3, 3^4, 3^5]$\n",
    "    "
   ]
  },
  {
   "cell_type": "markdown",
   "id": "aa4d77ff-0ee4-45c4-8ad5-dbad3b08ce8f",
   "metadata": {},
   "source": [
    "**Solution-1**"
   ]
  },
  {
   "cell_type": "code",
   "execution_count": 6,
   "id": "e91b4995-45dc-47eb-ac2a-d34f21f02118",
   "metadata": {
    "tags": [
     "hide-cell"
    ]
   },
   "outputs": [],
   "source": [
    "def power_func(a, b):\n",
    "  return [a**i for i in range(b+1)]"
   ]
  },
  {
   "cell_type": "code",
   "execution_count": 7,
   "id": "01c91cbf-b650-4ea0-891b-9e46772a5c14",
   "metadata": {},
   "outputs": [
    {
     "name": "stdout",
     "output_type": "stream",
     "text": [
      "[1, 3, 9, 27, 81, 243]\n"
     ]
    }
   ],
   "source": [
    "print(power_func(3,5))"
   ]
  },
  {
   "cell_type": "markdown",
   "id": "f302a663-b1d9-4bd0-8bec-26f4b8ede587",
   "metadata": {},
   "source": [
    "**Solution-2**"
   ]
  },
  {
   "cell_type": "code",
   "execution_count": 8,
   "id": "bba852bc-a266-4060-b52f-6d22321610b6",
   "metadata": {},
   "outputs": [],
   "source": [
    "def f(base, exponent):\n",
    "  ans = [] \n",
    "    \n",
    "  for i in range(exponent+1):\n",
    "    ans.append(base**i)\n",
    "      \n",
    "  return ans"
   ]
  },
  {
   "cell_type": "code",
   "execution_count": 9,
   "id": "fa1756b0-b65f-4942-8667-c508eac15064",
   "metadata": {},
   "outputs": [
    {
     "name": "stdout",
     "output_type": "stream",
     "text": [
      "[1, 3, 9, 27, 81, 243]\n"
     ]
    }
   ],
   "source": [
    "print(f(3,5))"
   ]
  },
  {
   "cell_type": "markdown",
   "id": "c3726528-5276-41a5-911c-fa9b52076845",
   "metadata": {},
   "source": [
    "## Question\n",
    "\n",
    "Write a function with parameters *start* and *end*, where it returns a list of all even numbers between start and end, inclusive. \n",
    "- If start is greater than end, the output should be in descending order; if start is less than end, the output should be in ascending order.\n",
    "\n",
    "\n",
    "- Example:\n",
    "  - start=11, end=23 ---> Output: [12, 14, 16, 18, 20, 22]  \n",
    "  - start=20, end= 5 ---> Output: [20, 18, 16, 14, 12, 10, 8, 6]\n",
    "    "
   ]
  },
  {
   "cell_type": "markdown",
   "id": "46795fd4-3d6f-4ba5-bf4c-5c0b0ac1cfa6",
   "metadata": {},
   "source": [
    "**Solution-1**"
   ]
  },
  {
   "cell_type": "code",
   "execution_count": 10,
   "id": "2db9bb16-891a-44e2-a0ff-063369ca3f48",
   "metadata": {
    "tags": [
     "hide-cell"
    ]
   },
   "outputs": [],
   "source": [
    "def even_numbers(start, end):\n",
    "  even_list = []\n",
    "\n",
    "  reverse = False\n",
    "    \n",
    "  if start > end:\n",
    "    start, end = end, start\n",
    "    reverse = True\n",
    "    \n",
    "    \n",
    "  for i in range(start, end+1):\n",
    "    if i % 2 == 0:\n",
    "      even_list.append(i)\n",
    "  \n",
    "  if reverse:    \n",
    "    even_list.reverse()\n",
    "  \n",
    "  return even_list"
   ]
  },
  {
   "cell_type": "code",
   "execution_count": 11,
   "id": "785acf23-f31b-4740-b366-e6943dbbda32",
   "metadata": {},
   "outputs": [
    {
     "name": "stdout",
     "output_type": "stream",
     "text": [
      "[44, 42, 40, 38, 36, 34, 32, 30, 28, 26, 24]\n"
     ]
    }
   ],
   "source": [
    "print(even_numbers(45, 23))"
   ]
  },
  {
   "cell_type": "markdown",
   "id": "c89eeec4-53c7-439b-9278-cce1f22aca5c",
   "metadata": {},
   "source": [
    "**Solution-2**"
   ]
  },
  {
   "cell_type": "code",
   "execution_count": 12,
   "id": "f38651c4-575c-476d-9860-568ecdb45e55",
   "metadata": {},
   "outputs": [],
   "source": [
    "def even_num(start, end):\n",
    "    if start > end:\n",
    "        return list(range(start, end-1, -2))\n",
    "    else:\n",
    "        return list(range(start, end+1, 2))"
   ]
  },
  {
   "cell_type": "code",
   "execution_count": 13,
   "id": "0138315e-8c9a-4c35-a42a-c40513510db9",
   "metadata": {},
   "outputs": [
    {
     "name": "stdout",
     "output_type": "stream",
     "text": [
      "[20, 18, 16, 14, 12, 10, 8, 6]\n"
     ]
    }
   ],
   "source": [
    "print(even_num(20,5))"
   ]
  },
  {
   "cell_type": "markdown",
   "id": "e0dcecbc-81a1-48bd-b5d0-ad2845bb2eda",
   "metadata": {},
   "source": [
    "## Question\n",
    "Write a function that takes two tuples as parameters and returns a tuple consisting of elements present in the first tuple but not in the second tuple.\n",
    "- Example:\n",
    "  - tuple1 = [1, 5, 9, 12, 6], tuple2 = [2, 7, 6, 9, 20, 23, 29] ---> Output: [1, 5, 12]  \n",
    "  - tuple1 = [1,3], tuple2 = [2, 7] ---> Output: [1, 3]  "
   ]
  },
  {
   "cell_type": "markdown",
   "id": "e47044ed-27db-4462-9235-3036630f6f1d",
   "metadata": {},
   "source": [
    "**Solution-1**"
   ]
  },
  {
   "cell_type": "code",
   "execution_count": 14,
   "id": "55d1f0bc-4bce-47b8-82c4-067d2bd6a963",
   "metadata": {
    "tags": [
     "hide-cell"
    ]
   },
   "outputs": [],
   "source": [
    "def diff_tuples(tuple1, tuple2):\n",
    "  list_ = []\n",
    "    \n",
    "  for i in tuple1:\n",
    "    if i not in tuple2:\n",
    "      list_.append(i)\n",
    "        \n",
    "  return list_"
   ]
  },
  {
   "cell_type": "code",
   "execution_count": 15,
   "id": "ac523677-1723-4969-b256-3e974ebd9793",
   "metadata": {},
   "outputs": [
    {
     "name": "stdout",
     "output_type": "stream",
     "text": [
      "[1, 2]\n"
     ]
    }
   ],
   "source": [
    "print(diff_tuples( (1,2,3,4), (3,4,5,6) ))"
   ]
  },
  {
   "cell_type": "markdown",
   "id": "7e0ecfc5-ac7a-4586-a98f-29386a461e20",
   "metadata": {},
   "source": [
    "**Solution-2**"
   ]
  },
  {
   "cell_type": "code",
   "execution_count": 16,
   "id": "2c700603-f949-4bcb-95fe-6b097a2432fd",
   "metadata": {},
   "outputs": [],
   "source": [
    "# use sets\n",
    "\n",
    "def diff_tuples(tuple1, tuple2):\n",
    "  set1 = set(tuple1)\n",
    "  set2 = set(tuple2)\n",
    "  return tuple(set1 - set2)"
   ]
  },
  {
   "cell_type": "code",
   "execution_count": 17,
   "id": "507bbee3-f9f5-424e-afa5-cebef85b3951",
   "metadata": {},
   "outputs": [
    {
     "name": "stdout",
     "output_type": "stream",
     "text": [
      "(1, 2)\n"
     ]
    }
   ],
   "source": [
    "print(diff_tuples( (1,2,3,4), (3,4,5,6) ))"
   ]
  },
  {
   "cell_type": "markdown",
   "id": "e6d9cfb3-5dad-4e7b-8d8b-a16273fa570a",
   "metadata": {},
   "source": [
    "## Question\n",
    "Write a function that takes a date as a string in the format 'month/day/year', where the month is represented by a number. \n",
    "- The function should return the date in the format 'year/month/day'.\n",
    "- Example:\n",
    "  - Input : '09/25/1987'  \n",
    "  - Output: '1987/09/25' "
   ]
  },
  {
   "cell_type": "markdown",
   "id": "7e026eb2-7eee-41d2-ac2a-6b56f4b084ad",
   "metadata": {},
   "source": [
    "**Solution**"
   ]
  },
  {
   "cell_type": "code",
   "execution_count": 18,
   "id": "45844c03-788a-4741-af6a-7ab6ad9f4e6d",
   "metadata": {
    "tags": [
     "hide-cell"
    ]
   },
   "outputs": [],
   "source": [
    "def date_conv(date):\n",
    "    \n",
    "  d = date.split('/')\n",
    "  return d[-1] + '/' + d[0] + '/' +d[1]"
   ]
  },
  {
   "cell_type": "code",
   "execution_count": 19,
   "id": "f88b6a36-5cb9-4d07-ba6e-f3cf27be388f",
   "metadata": {},
   "outputs": [
    {
     "name": "stdout",
     "output_type": "stream",
     "text": [
      "1987/09/25\n"
     ]
    }
   ],
   "source": [
    "print(date_conv('09/25/1987'))"
   ]
  },
  {
   "cell_type": "markdown",
   "id": "5c09231b-9545-4a43-a90f-1f5531ce0c19",
   "metadata": {},
   "source": [
    "## Question\n",
    "Write a function that takes a list as its parameter and returns the standard deviation of its elements.  \n",
    "The standard deviation (std) for a sequence is calculated using the formula: $$\\displaystyle std = \\sqrt\\frac{\\sum_{i=1}^{n}(x_i-\\bar{x})^2}{n}$$\n",
    "where $\\bar{x}$ is the mean and $\\sum$ denotes the sum. Here's a hint for the implementation:\n",
    "  1. Find the mean.\n",
    "  2. Subtract mean from each element.\n",
    "  3. Square the diferences.\n",
    "  4. Sum the squared differences.\n",
    "  5. Divide by n\n",
    "  6. Take square root\n",
    "\n",
    "\n",
    "\n",
    "- Find the std of the list: [5,8,2,5,6,1,1,3]\n",
    "- Compare the result obtained from your custom standard deviation function with the standard deviation functions provided by the numpy and statistics libraries."
   ]
  },
  {
   "cell_type": "markdown",
   "id": "7bd1862a-916e-4c32-ad73-d14102e3b0e8",
   "metadata": {},
   "source": [
    "**Solution**"
   ]
  },
  {
   "cell_type": "code",
   "execution_count": 20,
   "id": "791f8c0e-2d18-40e4-bc9e-ce600a669390",
   "metadata": {
    "tags": [
     "hide-cell"
    ]
   },
   "outputs": [],
   "source": [
    "import numpy as np\n",
    "import statistics\n",
    "\n",
    "\n",
    "def std_func(data_list):\n",
    "  mean = np.mean(data_list)\n",
    "  deviation = [i-mean for i in data_list]\n",
    "  dev_square = [i**2 for i in deviation]\n",
    "  sum_square = sum(dev_square)\n",
    "  average_sum = sum_square/len(data_list)\n",
    "  std = np.sqrt(average_sum)\n",
    "  return std"
   ]
  },
  {
   "cell_type": "code",
   "execution_count": 21,
   "id": "f55a3439-d8f1-44b8-b566-e2dca0d3cb27",
   "metadata": {},
   "outputs": [
    {
     "name": "stdout",
     "output_type": "stream",
     "text": [
      "Custom Function: 2.368411915187052\n",
      "Numpy          : 2.368411915187052\n",
      "Statistics     : 2.368411915187052\n"
     ]
    }
   ],
   "source": [
    "mylist = [5,8,2,5,6,1,1,3]\n",
    "\n",
    "print(f'Custom Function: {std_func(mylist)}')\n",
    "print(f'Numpy          : {np.std(mylist)}')\n",
    "print(f'Statistics     : {statistics.pstdev(mylist)}')"
   ]
  },
  {
   "cell_type": "code",
   "execution_count": null,
   "id": "8ca7ce51-a11b-4254-9f79-c8bd9a4b097b",
   "metadata": {},
   "outputs": [],
   "source": []
  }
 ],
 "metadata": {
  "celltoolbar": "Tags",
  "hide_input": false,
  "kernelspec": {
   "display_name": "Python 3 (ipykernel)",
   "language": "python",
   "name": "python3"
  },
  "language_info": {
   "codemirror_mode": {
    "name": "ipython",
    "version": 3
   },
   "file_extension": ".py",
   "mimetype": "text/x-python",
   "name": "python",
   "nbconvert_exporter": "python",
   "pygments_lexer": "ipython3",
   "version": "3.11.7"
  },
  "toc": {
   "base_numbering": 1,
   "nav_menu": {},
   "number_sections": true,
   "sideBar": true,
   "skip_h1_title": false,
   "title_cell": "Table of Contents",
   "title_sidebar": "Contents",
   "toc_cell": false,
   "toc_position": {},
   "toc_section_display": true,
   "toc_window_display": false
  }
 },
 "nbformat": 4,
 "nbformat_minor": 5
}
