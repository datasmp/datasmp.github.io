{
 "cells": [
  {
   "cell_type": "markdown",
   "id": "13e18a7d",
   "metadata": {
    "hide_input": false
   },
   "source": [
    "# Functions Code\n",
    "![](title_pict/functions_code2.png)\n",
    "\n",
    "- Please solve the following questions using Python code.&emsp;&emsp;"
   ]
  },
  {
   "cell_type": "markdown",
   "id": "7054f9a9",
   "metadata": {},
   "source": [
    "## Question-1\n",
    "Write a function that accepts an integer as its parameter and prints an $n \\times n$ square with '*' characters.\n"
   ]
  },
  {
   "cell_type": "markdown",
   "id": "0ce3b16c-72c5-476b-85dd-a027e9763c2f",
   "metadata": {
    "tags": [
     "hide-cell"
    ]
   },
   "source": [
    "```{admonition} Solution\n",
    ":class: toggle\n",
    "\n",
    "``` python\n",
    "\n",
    "def square_star(n):\n",
    "    \n",
    "    for i in range(n):\n",
    "        print('* '*n)"
   ]
  },
  {
   "cell_type": "markdown",
   "id": "5640bacd-ca75-4b61-a470-bdc3fed53014",
   "metadata": {},
   "source": [
    "## Question-2\n",
    "\n",
    "Write a function that takes a string as its parameter and returns the vowels ('a, e, i, o, u') in the given string without repetition as a list. \n",
    "- If there are no vowels in the string, return the string 'No vowels' .\n"
   ]
  },
  {
   "cell_type": "markdown",
   "id": "4a7a781e-a597-4e14-97c8-2ae904ce5604",
   "metadata": {
    "tags": [
     "hide-cell"
    ]
   },
   "source": [
    "```{admonition} Solution\n",
    ":class: toggle\n",
    "\n",
    "``` python\n",
    "\n",
    "def vowel_func(text):\n",
    "  \n",
    "  result = list(set(text) & {'a', 'e', 'i', 'o', 'u'})\n",
    "    \n",
    "  if len(result) == 0:\n",
    "    return 'No vowels!'\n",
    "  else:\n",
    "    return result\n",
    "```\n",
    "**Sample Output**  \n",
    "\n",
    "print(vowel_func('abbbecido'))  \n",
    "['e', 'i', 'a', 'o']    \n",
    "print(vowel_func('bcd'))  \n",
    "No vowels!  "
   ]
  },
  {
   "cell_type": "markdown",
   "id": "549ef7a7-9ce1-48da-800e-608d91c96856",
   "metadata": {},
   "source": [
    "## Question-3\n",
    "Write a function that takes two integers as parameters and returns the powers of the first integer (base) from 0 to the second integer number.\n",
    "- Example: parameters are 3, 5\n",
    "  - Output: $[3^0, 3^1, 3^2, 3^3, 3^4, 3^5]$\n",
    "    "
   ]
  },
  {
   "cell_type": "markdown",
   "id": "89fa4839-01df-4532-a63c-db3b06d75a03",
   "metadata": {
    "tags": [
     "hide-cell"
    ]
   },
   "source": [
    "```{admonition} Solution-1\n",
    ":class: toggle\n",
    "\n",
    "``` python\n",
    "def power_func(a, b):\n",
    "  return [a**i for i in range(b+1)]\n",
    "```\n",
    "\n",
    "**Sample Output**  \n",
    "    \n",
    "print(power_func(3,5))  \n",
    "[1, 3, 9, 27, 81, 243]\n"
   ]
  },
  {
   "cell_type": "markdown",
   "id": "94ee667c-bc08-45c5-bc0b-0e07a5b302fa",
   "metadata": {},
   "source": [
    "```{admonition} Solution-2\n",
    ":class: toggle\n",
    "\n",
    "``` python\n",
    "def f(base, exponent):\n",
    "  ans = [] \n",
    "    \n",
    "  for i in range(exponent+1):\n",
    "    ans.append(base**i)\n",
    "      \n",
    "  return ans\n",
    "```\n",
    "\n",
    "**Sample Output**  \n",
    "    \n",
    "print(f(3,5))  \n",
    "[1, 3, 9, 27, 81, 243]\n"
   ]
  },
  {
   "cell_type": "markdown",
   "id": "c3726528-5276-41a5-911c-fa9b52076845",
   "metadata": {},
   "source": [
    "## Question-4\n",
    "\n",
    "Write a function with parameters *start* and *end*, where it returns a list of all even numbers between start and end, inclusive. \n",
    "- If start is greater than end, the output should be in descending order; if start is less than end, the output should be in ascending order.\n",
    "\n",
    "\n",
    "- Example:\n",
    "  - start=11, end=23 ---> Output: [12, 14, 16, 18, 20, 22]  \n",
    "  - start=20, end= 5 ---> Output: [20, 18, 16, 14, 12, 10, 8, 6]\n",
    "    "
   ]
  },
  {
   "cell_type": "markdown",
   "id": "c818be59-43a0-4e16-a418-bf55872f92b9",
   "metadata": {
    "tags": [
     "hide-cell"
    ]
   },
   "source": [
    "```{admonition} Solution-1\n",
    ":class: toggle\n",
    "\n",
    "``` python\n",
    "def even_numbers(start, end):\n",
    "  even_list = []\n",
    "\n",
    "  reverse = False\n",
    "    \n",
    "  if start > end:\n",
    "    start, end = end, start\n",
    "    reverse = True\n",
    "    \n",
    "    \n",
    "  for i in range(start, end+1):\n",
    "    if i % 2 == 0:\n",
    "      even_list.append(i)\n",
    "  \n",
    "  if reverse:    \n",
    "    even_list.reverse()\n",
    "  \n",
    "  return even_list\n",
    "```\n",
    "**Sample Output**  \n",
    "\n",
    "print(even_numbers(45, 23))  \n",
    "[44, 42, 40, 38, 36, 34, 32, 30, 28, 26, 24]\n"
   ]
  },
  {
   "cell_type": "markdown",
   "id": "a95d877e-10a7-46de-8687-e20c05819128",
   "metadata": {
    "tags": [
     "hide-cell"
    ]
   },
   "source": [
    "```{admonition} Solution-2\n",
    ":class: toggle\n",
    "\n",
    "``` python\n",
    "def even_num(start, end):\n",
    "    if start > end:\n",
    "        return list(range(start, end-1, -2))\n",
    "    else:\n",
    "        return list(range(start, end+1, 2))\n",
    "```\n",
    "**Sample Output**  \n",
    "\n",
    "print(even_num(20,5))  \n",
    "[20, 18, 16, 14, 12, 10, 8, 6]\n",
    " "
   ]
  },
  {
   "cell_type": "markdown",
   "id": "e0dcecbc-81a1-48bd-b5d0-ad2845bb2eda",
   "metadata": {},
   "source": [
    "## Question-5\n",
    "Write a function that takes two tuples as parameters and returns a tuple consisting of elements present in the first tuple but not in the second tuple.\n",
    "- Example:\n",
    "  - tuple1 = [1, 5, 9, 12, 6], tuple2 = [2, 7, 6, 9, 20, 23, 29] ---> Output: [1, 5, 12]  \n",
    "  - tuple1 = [1,3], tuple2 = [2, 7] ---> Output: [1, 3]  "
   ]
  },
  {
   "cell_type": "markdown",
   "id": "fd443b4b-d1c5-41bf-9c38-245be64fd68a",
   "metadata": {
    "tags": [
     "hide-cell"
    ]
   },
   "source": [
    "```{admonition} Solution-1\n",
    ":class: toggle\n",
    "\n",
    "``` python\n",
    "def diff_tuples(tuple1, tuple2):\n",
    "  list_ = []\n",
    "    \n",
    "  for i in tuple1:\n",
    "    if i not in tuple2:\n",
    "      list_.append(i)\n",
    "        \n",
    "  return list_\n",
    "```\n",
    "**Sample Output**  \n",
    "\n",
    "print(diff_tuples( (1,2,3,4), (3,4,5,6) ))  \n",
    "[1, 2]\n",
    " "
   ]
  },
  {
   "cell_type": "markdown",
   "id": "c19cb5bb-5115-42ee-9d07-05f53a1ed1db",
   "metadata": {
    "tags": [
     "hide-cell"
    ]
   },
   "source": [
    "```{admonition} Solution-2\n",
    ":class: toggle\n",
    "\n",
    "``` python\n",
    "\n",
    "def diff_tuples(tuple1, tuple2):\n",
    "  set1 = set(tuple1)  # use sets\n",
    "  set2 = set(tuple2)\n",
    "  return tuple(set1 - set2)\n",
    "```\n",
    "**Sample Output**  \n",
    "\n",
    "print(diff_tuples( (1,2,3,4), (3,4,5,6) ))\n",
    "(1, 2)"
   ]
  },
  {
   "cell_type": "markdown",
   "id": "e6d9cfb3-5dad-4e7b-8d8b-a16273fa570a",
   "metadata": {},
   "source": [
    "## Question-6\n",
    "Write a function that takes a date as a string in the format 'month/day/year', where the month is represented by a number. \n",
    "- The function should return the date in the format 'year/month/day'.\n",
    "- Example:\n",
    "  - Input : '09/25/1987'  \n",
    "  - Output: '1987/09/25' "
   ]
  },
  {
   "cell_type": "markdown",
   "id": "ba28d735-ddc0-4bf9-aba1-c3bdf1ab4b9e",
   "metadata": {
    "tags": [
     "hide-cell"
    ]
   },
   "source": [
    "```{admonition} Solution\n",
    ":class: toggle\n",
    "\n",
    "``` python\n",
    "def date_conv(date):\n",
    "    \n",
    "  d = date.split('/')\n",
    "  return d[-1] + '/' + d[0] + '/' +d[1]\n",
    "```\n",
    "**Sample Output**\n",
    "\n",
    "print(date_conv('09/25/1987'))  \n",
    "1987/09/25\n"
   ]
  },
  {
   "cell_type": "markdown",
   "id": "5c09231b-9545-4a43-a90f-1f5531ce0c19",
   "metadata": {},
   "source": [
    "## Question-7\n",
    "Write a function that takes a list as its parameter and returns the standard deviation of its elements.  \n",
    "The standard deviation (std) for a sequence is calculated using the formula: $\\displaystyle std = \\sqrt\\frac{\\sum_{i=1}^{n}(x_i-\\bar{x})^2}{n}$\n",
    "\n",
    "where  $\\bar{x}$  is the mean and $\\sum$ denotes the sum. Here's a hint for the implementation:\n",
    "  1. Find the mean.\n",
    "  2. Subtract mean from each element.\n",
    "  3. Square the diferences.\n",
    "  4. Sum the squared differences.\n",
    "  5. Divide by n\n",
    "  6. Take square root\n",
    "\n",
    "\n",
    "\n",
    "- Find the std of the list: [5,8,2,5,6,1,1,3]\n",
    "- Compare the result obtained from your custom standard deviation function with the standard deviation functions provided by the numpy and statistics libraries."
   ]
  },
  {
   "cell_type": "markdown",
   "id": "6adbf760-b34b-4daa-9598-499c7184a983",
   "metadata": {
    "tags": [
     "hide-cell"
    ]
   },
   "source": [
    "```{admonition} Solution\n",
    ":class: toggle\n",
    "\n",
    "``` python\n",
    "\n",
    "import numpy as np\n",
    "import statistics\n",
    "\n",
    "\n",
    "def std_func(data_list):\n",
    "  mean = np.mean(data_list)\n",
    "  deviation = [i-mean for i in data_list]\n",
    "  dev_square = [i**2 for i in deviation]\n",
    "  sum_square = sum(dev_square)\n",
    "  average_sum = sum_square/len(data_list)\n",
    "  std = np.sqrt(average_sum)\n",
    "  return std\n",
    "```\n",
    "**Sample Output**\n",
    "mylist = [5,8,2,5,6,1,1,3]  \n",
    "\n",
    "print(f'Custom Function: {std_func(mylist)}')  \n",
    "print(f'Numpy          : {np.std(mylist)}')  \n",
    "print(f'Statistics     : {statistics.pstdev(mylist)}')  \n",
    "\n",
    "Custom Function: 2.368411915187052  \n",
    "Numpy          : 2.368411915187052  \n",
    "Statistics     : 2.368411915187052  "
   ]
  },
  {
   "cell_type": "code",
   "execution_count": null,
   "id": "8ca7ce51-a11b-4254-9f79-c8bd9a4b097b",
   "metadata": {},
   "outputs": [],
   "source": []
  }
 ],
 "metadata": {
  "celltoolbar": "Tags",
  "hide_input": false,
  "kernelspec": {
   "display_name": "Python 3 (ipykernel)",
   "language": "python",
   "name": "python3"
  },
  "language_info": {
   "codemirror_mode": {
    "name": "ipython",
    "version": 3
   },
   "file_extension": ".py",
   "mimetype": "text/x-python",
   "name": "python",
   "nbconvert_exporter": "python",
   "pygments_lexer": "ipython3",
   "version": "3.11.7"
  },
  "toc": {
   "base_numbering": 1,
   "nav_menu": {},
   "number_sections": true,
   "sideBar": true,
   "skip_h1_title": false,
   "title_cell": "Table of Contents",
   "title_sidebar": "Contents",
   "toc_cell": false,
   "toc_position": {},
   "toc_section_display": true,
   "toc_window_display": false
  }
 },
 "nbformat": 4,
 "nbformat_minor": 5
}
