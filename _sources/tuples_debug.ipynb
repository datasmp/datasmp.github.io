{
 "cells": [
  {
   "cell_type": "markdown",
   "id": "13e18a7d",
   "metadata": {},
   "source": [
    "# Tuples Debugging\n",
    "![](title_pict/tuples_debugging2.png)\n",
    "\n",
    "- Each of the following short code contains one or more bugs. &emsp;&emsp;&emsp;&emsp;\n",
    "- Please identify and correct these bugs.\n",
    "- Provide an explanation for your answer."
   ]
  },
  {
   "cell_type": "markdown",
   "id": "854437f7",
   "metadata": {},
   "source": [
    "## Question-1\n",
    "\n",
    "``` python\n",
    "x = (1,2,3,4,5,6,7,8,9]\n",
    "```"
   ]
  },
  {
   "cell_type": "markdown",
   "id": "48a8af1e",
   "metadata": {},
   "source": [
    "```{admonition} Solution\n",
    ":class: toggle\n",
    "The right square bracket `]` must be a paranthesis `)` so *x* can be a tuple.\n"
   ]
  },
  {
   "cell_type": "markdown",
   "id": "934b3a16",
   "metadata": {},
   "source": [
    "## Question-2\n",
    "\n",
    "``` python\n",
    "x, y = 'NY', 'NJ'\n",
    "x*y\n",
    "```"
   ]
  },
  {
   "cell_type": "markdown",
   "id": "569b11be",
   "metadata": {},
   "source": [
    "```{admonition} Solution\n",
    ":class: toggle\n",
    "The `*` operator cannot be used for two strings; it can only be used with either two numbers, one string and one integer  or one tuple and one integer."
   ]
  },
  {
   "cell_type": "markdown",
   "id": "3407987f",
   "metadata": {},
   "source": [
    "## Question-3\n",
    "\n",
    "``` python\n",
    "x = ('A', 'B', 'C', 'D', 'E')\n",
    "x[2] = '-'\n",
    "```"
   ]
  },
  {
   "cell_type": "markdown",
   "id": "eeb0c3c7",
   "metadata": {},
   "source": [
    "```{admonition} Solution\n",
    ":class: toggle\n",
    "*x* is a tuple, and tuples are immutable, so elements cannot be changed. *x[2]*, which is 'C', cannot be changed as '-'."
   ]
  },
  {
   "cell_type": "markdown",
   "id": "8e66629f",
   "metadata": {},
   "source": [
    "## Question-4\n",
    "\n",
    "``` python\n",
    "x = ('A', 'B', 'C', 'D', 'E')\n",
    "x[-6]\n",
    "```"
   ]
  },
  {
   "cell_type": "markdown",
   "id": "0a74c74e-85d7-4e1b-98e3-f8e7de857861",
   "metadata": {},
   "source": [
    "```{admonition} Solution\n",
    ":class: toggle\n",
    "There is no element with index -6 because the negative indexes are: -1 for 'E', -2 for 'D', -3 for 'C', -4 for 'B', -5 for 'A'."
   ]
  },
  {
   "cell_type": "markdown",
   "id": "c24eb0d1-b383-49f6-9de7-cbe867c0266e",
   "metadata": {},
   "source": [
    "## Question-5\n",
    "\n",
    "``` python\n",
    "sequence = (1,2,3,4,5)\n",
    "sequence.append(6)\n",
    "```"
   ]
  },
  {
   "cell_type": "markdown",
   "id": "0ba65ee5",
   "metadata": {},
   "source": [
    "```{admonition} Solution\n",
    ":class: toggle\n",
    "\n",
    "*sequence* is a tuple, so it is immutable. It cannot be modified, and new elements cannot be added to it. Therefore, tuples do not have an *append()* method."
   ]
  },
  {
   "cell_type": "markdown",
   "id": "d22f77a5-7d5b-4291-bd39-938c310034c5",
   "metadata": {},
   "source": [
    "## Question-6\n",
    "\n",
    "``` python\n",
    "sequence = (1,2,3,4,5)\n",
    "\n",
    "for i in range(5):\n",
    "  print(sequence[i+1])\n",
    "```"
   ]
  },
  {
   "cell_type": "markdown",
   "id": "b3604d29-5a28-4586-a621-ebcef4c06664",
   "metadata": {},
   "source": [
    "```{admonition} Solution\n",
    ":class: toggle\n",
    "If *i=4*, *sequence[4+1]* refers to the element of the tuple at index 5, but the largest index is 4 (index of element 5). Therefore, sequence[5] does not exist."
   ]
  },
  {
   "cell_type": "markdown",
   "id": "ca2ff09d-c448-4856-b403-62da54213311",
   "metadata": {},
   "source": [
    "## Question-7\n",
    "\n",
    "``` python\n",
    "sequence = ('a','b','c')\n",
    "\n",
    "print(sequence.index('A'))\n",
    "```"
   ]
  },
  {
   "cell_type": "markdown",
   "id": "86413915-b924-4a92-ad04-8c096961ff93",
   "metadata": {},
   "source": [
    "```{admonition} Solution\n",
    ":class: toggle\n",
    "The index() method raises an error since 'A' is not an element of the sequence tuple."
   ]
  },
  {
   "cell_type": "code",
   "execution_count": null,
   "id": "d3bbaf58-b276-4a55-b386-00295794a2f4",
   "metadata": {},
   "outputs": [],
   "source": []
  }
 ],
 "metadata": {
  "hide_input": false,
  "kernelspec": {
   "display_name": "Python 3 (ipykernel)",
   "language": "python",
   "name": "python3"
  },
  "language_info": {
   "codemirror_mode": {
    "name": "ipython",
    "version": 3
   },
   "file_extension": ".py",
   "mimetype": "text/x-python",
   "name": "python",
   "nbconvert_exporter": "python",
   "pygments_lexer": "ipython3",
   "version": "3.11.7"
  },
  "toc": {
   "base_numbering": 1,
   "nav_menu": {},
   "number_sections": true,
   "sideBar": true,
   "skip_h1_title": false,
   "title_cell": "Table of Contents",
   "title_sidebar": "Contents",
   "toc_cell": false,
   "toc_position": {},
   "toc_section_display": true,
   "toc_window_display": false
  }
 },
 "nbformat": 4,
 "nbformat_minor": 5
}
