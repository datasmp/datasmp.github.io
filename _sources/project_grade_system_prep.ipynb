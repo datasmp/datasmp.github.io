{
 "cells": [
  {
   "cell_type": "markdown",
   "id": "6c3553de-b369-4776-b6ef-9710724d5c21",
   "metadata": {},
   "source": [
    "# Project: Grading System"
   ]
  },
  {
   "cell_type": "code",
   "execution_count": 3,
   "id": "c798c1ff-2876-4602-aec4-5036d9f34ef9",
   "metadata": {},
   "outputs": [],
   "source": [
    "import string\n",
    "import random\n",
    "import seaborn as sns\n",
    "import matplotlib.pyplot as plt\n",
    "import numpy as np"
   ]
  },
  {
   "cell_type": "code",
   "execution_count": 4,
   "id": "6e074fe1-872c-4d1b-b917-134865316252",
   "metadata": {},
   "outputs": [],
   "source": [
    "lower_case_letters = string.ascii_lowercase\n",
    "upper_case_letters = string.ascii_uppercase\n",
    "digits = string.digits\n",
    "punctuations = string.punctuation"
   ]
  },
  {
   "cell_type": "code",
   "execution_count": 5,
   "id": "8d424541-a6f2-48e4-acd4-e74b38a375a0",
   "metadata": {},
   "outputs": [],
   "source": [
    "# number of students\n",
    "number_students = 100"
   ]
  },
  {
   "cell_type": "markdown",
   "id": "55989a19-29b4-4f32-b19f-b6fa551d0164",
   "metadata": {},
   "source": [
    "### Names"
   ]
  },
  {
   "cell_type": "code",
   "execution_count": 7,
   "id": "96a481ac-65d6-41ad-b7bb-fb7d97dc1207",
   "metadata": {},
   "outputs": [
    {
     "data": {
      "text/plain": [
       "['Ynbiqp', 'Zjplsg', 'Jeyd', 'Rwzte', 'Dxcvk']"
      ]
     },
     "execution_count": 7,
     "metadata": {},
     "output_type": "execute_result"
    }
   ],
   "source": [
    "random.seed(0)\n",
    "\n",
    "names = []\n",
    "for i in range(number_students):\n",
    "    length_name = random.choice(range(3,7))\n",
    "    name = ''\n",
    "    for i in range(length_name):\n",
    "        name += random.choice(lower_case_letters)\n",
    "    names.append(name.capitalize())\n",
    "\n",
    "names[:5]"
   ]
  },
  {
   "cell_type": "markdown",
   "id": "6062e674-67e5-4480-b1c7-560951db3efe",
   "metadata": {},
   "source": [
    "## Grades"
   ]
  },
  {
   "cell_type": "code",
   "execution_count": 9,
   "id": "80464599-e44d-49b5-b203-c8fbedb0d154",
   "metadata": {},
   "outputs": [
    {
     "data": {
      "text/plain": [
       "[12, 12, 9, 11, 12, 12, 11, 12, 11, 10]"
      ]
     },
     "execution_count": 9,
     "metadata": {},
     "output_type": "execute_result"
    }
   ],
   "source": [
    "random.seed(0)\n",
    "grade_list = [9,10,11,12]\n",
    "grades = [random.choice(grade_list)  for i in range(number_students)]\n",
    "grades[:10]"
   ]
  },
  {
   "cell_type": "markdown",
   "id": "5104f711-f91c-40c9-a499-48b7da3517f6",
   "metadata": {},
   "source": [
    "## Test Scores"
   ]
  },
  {
   "cell_type": "code",
   "execution_count": 11,
   "id": "3afa135a-0a87-45f8-91b2-f13c6508f636",
   "metadata": {},
   "outputs": [
    {
     "data": {
      "text/plain": [
       "72.15905718422292"
      ]
     },
     "execution_count": 11,
     "metadata": {},
     "output_type": "execute_result"
    }
   ],
   "source": [
    "random.gauss(mu=70, sigma=5)"
   ]
  },
  {
   "cell_type": "code",
   "execution_count": 12,
   "id": "1466ab72-7ac6-404f-bf9c-fa1192e11cd0",
   "metadata": {},
   "outputs": [],
   "source": [
    "random.seed(0)\n",
    "test1 = [int(random.gauss(mu=80, sigma=15))  for i in range(number_students) ]\n",
    "test2 = [int(random.gauss(mu=75, sigma=15))  for i in range(number_students) ]\n",
    "test3 = [int(random.gauss(mu=80, sigma=10))  for i in range(number_students) ]\n",
    "test4 = [int(random.gauss(mu=70, sigma=20))  for i in range(number_students) ]\n",
    "final = [int(random.gauss(mu=70, sigma=20))  for i in range(number_students) ]"
   ]
  },
  {
   "cell_type": "code",
   "execution_count": 13,
   "id": "b83746c6-312f-42a0-8f00-bdee9f80dfe1",
   "metadata": {},
   "outputs": [],
   "source": [
    "exam_list = [test1, test2, test3, test4, final]\n",
    "exam_names = ['test1', 'test2', 'test3', 'test4', 'final']"
   ]
  },
  {
   "cell_type": "code",
   "execution_count": 14,
   "id": "c0934020-e92b-47e0-bc7a-3ea570055340",
   "metadata": {},
   "outputs": [
    {
     "data": {
      "text/plain": [
       "['test1', 'test2', 'test3', 'test4', 'final']"
      ]
     },
     "execution_count": 14,
     "metadata": {},
     "output_type": "execute_result"
    }
   ],
   "source": [
    "exam_names = []\n",
    "for exam in exam_list:\n",
    "    exam_names.append([name for name in globals() if globals()[name] == exam][0])\n",
    "exam_names"
   ]
  },
  {
   "cell_type": "code",
   "execution_count": 15,
   "id": "c5afaed1-6a2a-4824-8a80-89ba1effe348",
   "metadata": {},
   "outputs": [],
   "source": [
    "# extra point for higher grades\n",
    "for exam in exam_list:\n",
    "    for i in range(number_students):\n",
    "        exam[i] += (grades[i] - 9)*3"
   ]
  },
  {
   "cell_type": "code",
   "execution_count": 16,
   "id": "0151ec80-264d-4a04-9ad6-b2053db38769",
   "metadata": {},
   "outputs": [
    {
     "name": "stdout",
     "output_type": "stream",
     "text": [
      "Exam: test1    Maximum: 125     Minimum: 50   \n",
      "Exam: test2    Maximum: 115     Minimum: 40   \n",
      "Exam: test3    Maximum: 118     Minimum: 56   \n",
      "Exam: test4    Maximum: 122     Minimum: 29   \n",
      "Exam: final    Maximum: 123     Minimum: 27   \n"
     ]
    }
   ],
   "source": [
    "for exam in exam_list:\n",
    "    print(f'Exam: {[name for name in globals() if globals()[name] == exam][0]}    Maximum: {max(exam):<5}   Minimum: {min(exam):<5}')"
   ]
  },
  {
   "cell_type": "code",
   "execution_count": 17,
   "id": "6675fc90-bd46-4339-802d-1fe8bd391813",
   "metadata": {},
   "outputs": [],
   "source": [
    "for exam in exam_list:\n",
    "    for score in exam:\n",
    "        if score > 100:\n",
    "            exam.insert(exam.index(score), 100)\n",
    "            exam.remove(score)        \n",
    "        if score < 0:\n",
    "            exam.insert(exam.index(score), 0)\n",
    "            exam.remove(score)"
   ]
  },
  {
   "cell_type": "code",
   "execution_count": 18,
   "id": "eb7e51bf-b0a2-45ff-9b0e-37de3ee0ac1d",
   "metadata": {},
   "outputs": [
    {
     "name": "stdout",
     "output_type": "stream",
     "text": [
      "Exam: test1    Maximum: 100     Minimum: 50   \n",
      "Exam: test2    Maximum: 100     Minimum: 40   \n",
      "Exam: test3    Maximum: 100     Minimum: 56   \n",
      "Exam: test4    Maximum: 100     Minimum: 29   \n",
      "Exam: final    Maximum: 100     Minimum: 27   \n"
     ]
    }
   ],
   "source": [
    "for exam in exam_list:\n",
    "    print(f'Exam: {[name for name in globals() if globals()[name] == exam][0]}    Maximum: {max(exam):<5}   Minimum: {min(exam):<5}')"
   ]
  },
  {
   "cell_type": "markdown",
   "id": "90cbdf61-b7c6-443d-9002-8873da5cc669",
   "metadata": {},
   "source": [
    "### Weighted Score"
   ]
  },
  {
   "cell_type": "code",
   "execution_count": 20,
   "id": "ea4d27fc-ee1b-43f1-b2a0-eaaa488af8f1",
   "metadata": {},
   "outputs": [],
   "source": [
    "weighted_scores = [ 0.15*(test1[i]+test2[i]+test3[i]+test4[i])+0.40*final[i] for i in range(number_students)]"
   ]
  },
  {
   "cell_type": "markdown",
   "id": "f5768bdd-e0e4-4a2d-8482-af7df91bd45a",
   "metadata": {},
   "source": [
    "### Final Letter Grades"
   ]
  },
  {
   "cell_type": "code",
   "execution_count": 22,
   "id": "89ca6f4e-8bde-4272-8dbf-4cdc1ccda5d2",
   "metadata": {},
   "outputs": [
    {
     "data": {
      "text/plain": [
       "['B', 'D', 'C', 'B', 'C', 'B', 'A', 'B', 'B', 'C']"
      ]
     },
     "execution_count": 22,
     "metadata": {},
     "output_type": "execute_result"
    }
   ],
   "source": [
    "letter_grades = []\n",
    "for i in range(number_students):\n",
    "    if weighted_scores[i] >= 90: letter_grades.append('A')\n",
    "    elif weighted_scores[i] >= 80: letter_grades.append('B')\n",
    "    elif weighted_scores[i] >= 70: letter_grades.append('C')\n",
    "    elif weighted_scores[i] >= 60: letter_grades.append('D')\n",
    "    else: letter_grades.append('F')\n",
    "\n",
    "letter_grades[:10]"
   ]
  },
  {
   "cell_type": "code",
   "execution_count": 23,
   "id": "465696d1-49ad-4991-a7c5-bed9e8530fb2",
   "metadata": {},
   "outputs": [
    {
     "data": {
      "image/png": "[encoded data removed]",
      "text/plain": [
       "<Figure size 2000x400 with 6 Axes>"
      ]
     },
     "metadata": {},
     "output_type": "display_data"
    }
   ],
   "source": [
    "plt.figure(figsize=(20,4))\n",
    "for i in range(1,6):\n",
    "    plt.subplot(1,6,i)\n",
    "    plt.title(exam_names[i-1])\n",
    "    sns.histplot(exam_list[i-1])\n",
    "    plt.tight_layout()\n",
    "    \n",
    "    \n",
    "plt.subplot(1,6,6)\n",
    "plt.title('weighted_scores')\n",
    "sns.histplot(weighted_scores);"
   ]
  },
  {
   "cell_type": "code",
   "execution_count": 24,
   "id": "8c9b08fe-6efb-464b-80b1-fe6528f00480",
   "metadata": {},
   "outputs": [
    {
     "data": {
      "text/plain": [
       "3"
      ]
     },
     "execution_count": 24,
     "metadata": {},
     "output_type": "execute_result"
    }
   ],
   "source": [
    "letter_grades.count('F')"
   ]
  },
  {
   "cell_type": "markdown",
   "id": "9f289531-8a41-41c3-bdb0-f0b4e45d031c",
   "metadata": {},
   "source": [
    "## Drop Lowest Test Score"
   ]
  },
  {
   "cell_type": "code",
   "execution_count": 26,
   "id": "5fd4cf84-2140-4a25-8533-3f93484d556c",
   "metadata": {},
   "outputs": [
    {
     "name": "stdout",
     "output_type": "stream",
     "text": [
      "Ynbiqp   [100, 64, 81, 100, 87]\n",
      "Zjplsg   [68, 62, 91, 51, 51]\n",
      "Jeyd     [69, 76, 86, 56, 82]\n",
      "Rwzte    [91, 100, 96, 62, 76]\n",
      "Dxcvk    [73, 91, 76, 100, 63]\n"
     ]
    }
   ],
   "source": [
    "student_dict = {}\n",
    "for i in range(number_students):\n",
    "    student_dict[names[i]] = [test1[i], test2[i], test3[i], test4[i], final[i]]\n",
    "\n",
    "for name in list(student_dict.keys())[:5]:\n",
    "    print(f'{name:<7}  {student_dict[name]}')"
   ]
  },
  {
   "cell_type": "code",
   "execution_count": 27,
   "id": "1130f02b-5b59-49ae-b3cf-431b62d1004a",
   "metadata": {},
   "outputs": [
    {
     "name": "stdout",
     "output_type": "stream",
     "text": [
      "Ynbiqp   [100, 81, 100, 87]\n",
      "Zjplsg   [68, 62, 91, 51]\n",
      "Jeyd     [69, 76, 86, 82]\n",
      "Rwzte    [91, 100, 96, 76]\n",
      "Dxcvk    [91, 76, 100, 63]\n"
     ]
    }
   ],
   "source": [
    "for i in range(number_students):\n",
    "    student_dict[names[i]].remove(min(student_dict[names[i]][:-1])) \n",
    "\n",
    "for name in list(student_dict.keys())[:5]:\n",
    "    print(f'{name:<7}  {student_dict[name]}')"
   ]
  },
  {
   "cell_type": "markdown",
   "id": "219afceb-96ad-4b19-ac75-34922b61b94b",
   "metadata": {},
   "source": [
    "### Weighted Scores-2"
   ]
  },
  {
   "cell_type": "code",
   "execution_count": 29,
   "id": "705fc819-b8d2-4c9f-85db-e6c2e5f62b2e",
   "metadata": {},
   "outputs": [],
   "source": [
    "weighted_scores2 = []\n",
    "for grade in student_dict.values():\n",
    "    weighted_scores2.append(0.20*(grade[0]+grade[1]+grade[2])+0.40*grade[3])"
   ]
  },
  {
   "cell_type": "markdown",
   "id": "73afc5dd-f5f0-4297-ab0a-c7e91b6b193b",
   "metadata": {},
   "source": [
    "### Final Letter Grades-2"
   ]
  },
  {
   "cell_type": "code",
   "execution_count": 31,
   "id": "9e95a441-baf7-4c40-a0d3-070e7ab3f9a1",
   "metadata": {},
   "outputs": [
    {
     "data": {
      "text/plain": [
       "['A', 'D', 'C', 'B', 'C', 'B', 'A', 'B', 'B', 'C']"
      ]
     },
     "execution_count": 31,
     "metadata": {},
     "output_type": "execute_result"
    }
   ],
   "source": [
    "letter_grades2 = []\n",
    "for i in range(number_students):\n",
    "    if weighted_scores2[i] >= 90: letter_grades2.append('A')\n",
    "    elif weighted_scores2[i] >= 80: letter_grades2.append('B')\n",
    "    elif weighted_scores2[i] >= 70: letter_grades2.append('C')\n",
    "    elif weighted_scores2[i] >= 60: letter_grades2.append('D')\n",
    "    else: letter_grades2.append('F')\n",
    "\n",
    "letter_grades2[:10]"
   ]
  },
  {
   "cell_type": "code",
   "execution_count": 32,
   "id": "3b329803-b550-47e7-b899-863d90cdc89f",
   "metadata": {},
   "outputs": [
    {
     "data": {
      "text/plain": [
       "1"
      ]
     },
     "execution_count": 32,
     "metadata": {},
     "output_type": "execute_result"
    }
   ],
   "source": [
    "letter_grades2.count('F')"
   ]
  },
  {
   "cell_type": "code",
   "execution_count": 33,
   "id": "d15758d0-e84f-4e04-80c0-1d07add3e94e",
   "metadata": {},
   "outputs": [
    {
     "data": {
      "image/png": "[encoded data removed]",
      "text/plain": [
       "<Figure size 800x400 with 2 Axes>"
      ]
     },
     "metadata": {},
     "output_type": "display_data"
    }
   ],
   "source": [
    "plt.figure(figsize=(8,4))\n",
    "plt.subplot(1,2,1)\n",
    "plt.title('weighted_scores')\n",
    "sns.histplot(weighted_scores)\n",
    "plt.subplot(1,2,2)\n",
    "plt.title('weighted_scores2')\n",
    "sns.histplot(weighted_scores2)\n",
    "plt.tight_layout();"
   ]
  },
  {
   "cell_type": "code",
   "execution_count": 34,
   "id": "0192fb70-56ce-4d12-b5b0-2d07568aa561",
   "metadata": {},
   "outputs": [
    {
     "data": {
      "image/png": "[encoded data removed]",
      "text/plain": [
       "<Figure size 500x400 with 2 Axes>"
      ]
     },
     "metadata": {},
     "output_type": "display_data"
    }
   ],
   "source": [
    "plt.figure(figsize=(5,4))\n",
    "plt.subplot(1,2,1)\n",
    "plt.title('letter_grades')\n",
    "sns.histplot(letter_grades)\n",
    "plt.subplot(1,2,2)\n",
    "plt.title('letter_grades2')\n",
    "sns.histplot(letter_grades2)\n",
    "plt.tight_layout();"
   ]
  },
  {
   "cell_type": "markdown",
   "id": "f27f3f05-1686-4c17-8b89-8c5e26905971",
   "metadata": {},
   "source": [
    "## Grade Analysis"
   ]
  },
  {
   "cell_type": "code",
   "execution_count": 36,
   "id": "1d238147-25b7-4606-ad18-0e76612771af",
   "metadata": {},
   "outputs": [],
   "source": [
    "grade_dict={i:{j:[] for j in exam_names} for i in grade_list}\n",
    "\n",
    "for i in range(number_students):\n",
    "    for j in range(len(exam_names)):\n",
    "        grade_dict[grades[i]][exam_names[j]].append(exam_list[j][i])\n"
   ]
  },
  {
   "cell_type": "code",
   "execution_count": 37,
   "id": "97a62e42-7491-40ae-ae1a-e9b484779361",
   "metadata": {},
   "outputs": [
    {
     "name": "stdout",
     "output_type": "stream",
     "text": [
      "Grade: 9  test1:26 test2:26 test3:26 test4:26 final:26 \n",
      "Grade: 10 test1:24 test2:24 test3:24 test4:24 final:24 \n",
      "Grade: 11 test1:28 test2:28 test3:28 test4:28 final:28 \n",
      "Grade: 12 test1:22 test2:22 test3:22 test4:22 final:22 \n"
     ]
    }
   ],
   "source": [
    "# number of students\n",
    "for grade, exam_scores in grade_dict.items():\n",
    "    print(f'Grade: {grade:<2}', end=' ')\n",
    "    for exam, score in  exam_scores.items():\n",
    "        print(f'{exam}:{len(score)}', end=' ')\n",
    "    print()"
   ]
  },
  {
   "cell_type": "markdown",
   "id": "86ef9dce-7f73-46d7-a7b3-70a6cb79c7cd",
   "metadata": {},
   "source": [
    "### Grade Based"
   ]
  },
  {
   "cell_type": "code",
   "execution_count": 39,
   "id": "40caa41d-6b90-4939-abab-329cfbb03f7b",
   "metadata": {},
   "outputs": [
    {
     "name": "stdout",
     "output_type": "stream",
     "text": [
      "Grade: 9          test1 Mean: 76.27 \n",
      "Grade: 9          test2 Mean: 70.50 \n",
      "Grade: 9          test3 Mean: 76.88 \n",
      "Grade: 9          test4 Mean: 64.62 \n",
      "Grade: 9          final Mean: 67.23 \n",
      "----------------------------------------\n",
      "Grade: 10         test1 Mean: 81.08 \n",
      "Grade: 10         test2 Mean: 79.25 \n",
      "Grade: 10         test3 Mean: 84.12 \n",
      "Grade: 10         test4 Mean: 75.00 \n",
      "Grade: 10         final Mean: 72.58 \n",
      "----------------------------------------\n",
      "Grade: 11         test1 Mean: 84.64 \n",
      "Grade: 11         test2 Mean: 79.93 \n",
      "Grade: 11         test3 Mean: 86.75 \n",
      "Grade: 11         test4 Mean: 74.39 \n",
      "Grade: 11         final Mean: 81.25 \n",
      "----------------------------------------\n",
      "Grade: 12         test1 Mean: 82.55 \n",
      "Grade: 12         test2 Mean: 84.32 \n",
      "Grade: 12         test3 Mean: 85.95 \n",
      "Grade: 12         test4 Mean: 79.36 \n",
      "Grade: 12         final Mean: 70.64 \n",
      "----------------------------------------\n"
     ]
    }
   ],
   "source": [
    "for grade in grade_dict:\n",
    "    for exam in exam_names:\n",
    "        print(f'Grade: {grade:<10} {exam} Mean: {np.mean(grade_dict[grade][exam]):.2f} ')\n",
    "    print('-'*40)"
   ]
  },
  {
   "cell_type": "code",
   "execution_count": 40,
   "id": "813159e6-508e-4cf9-bffe-c0941725b7e2",
   "metadata": {},
   "outputs": [
    {
     "data": {
      "image/png": "[encoded data removed]",
      "text/plain": [
       "<Figure size 2000x400 with 4 Axes>"
      ]
     },
     "metadata": {},
     "output_type": "display_data"
    }
   ],
   "source": [
    "plt.figure(figsize=(20,4))\n",
    "k = 1\n",
    "for grade in grade_list:\n",
    "    plt.subplot(1,4,k)\n",
    "    sns.barplot(x=exam_names, y=[np.mean(grade_dict[grade][exam]) for exam in exam_names])\n",
    "    plt.title(grade)\n",
    "    plt.xlabel('exam')\n",
    "    plt.ylabel('score')\n",
    "    k += 1"
   ]
  },
  {
   "cell_type": "markdown",
   "id": "71c1988f-e6f4-49a8-a5a0-1200c79dd1ad",
   "metadata": {},
   "source": [
    "### Exam Based"
   ]
  },
  {
   "cell_type": "code",
   "execution_count": 42,
   "id": "2a01c0d4-ed83-4268-97d1-93fe3ce6a1f7",
   "metadata": {},
   "outputs": [
    {
     "name": "stdout",
     "output_type": "stream",
     "text": [
      "Grade: 9     test1 Mean: 76.27 \n",
      "Grade: 10    test1 Mean: 81.08 \n",
      "Grade: 11    test1 Mean: 84.64 \n",
      "Grade: 12    test1 Mean: 82.55 \n",
      "----------------------------------------\n",
      "Grade: 9     test2 Mean: 70.50 \n",
      "Grade: 10    test2 Mean: 79.25 \n",
      "Grade: 11    test2 Mean: 79.93 \n",
      "Grade: 12    test2 Mean: 84.32 \n",
      "----------------------------------------\n",
      "Grade: 9     test3 Mean: 76.88 \n",
      "Grade: 10    test3 Mean: 84.12 \n",
      "Grade: 11    test3 Mean: 86.75 \n",
      "Grade: 12    test3 Mean: 85.95 \n",
      "----------------------------------------\n",
      "Grade: 9     test4 Mean: 64.62 \n",
      "Grade: 10    test4 Mean: 75.00 \n",
      "Grade: 11    test4 Mean: 74.39 \n",
      "Grade: 12    test4 Mean: 79.36 \n",
      "----------------------------------------\n",
      "Grade: 9     final Mean: 67.23 \n",
      "Grade: 10    final Mean: 72.58 \n",
      "Grade: 11    final Mean: 81.25 \n",
      "Grade: 12    final Mean: 70.64 \n",
      "----------------------------------------\n"
     ]
    }
   ],
   "source": [
    "for exam in exam_names:\n",
    "    for grade in grade_dict:\n",
    "        print(f'Grade: {grade:<5} {exam} Mean: {np.mean(grade_dict[grade][exam]):.2f} ')\n",
    "    print('-'*40)"
   ]
  },
  {
   "cell_type": "code",
   "execution_count": 43,
   "id": "04eacab0-dbd1-4feb-84c5-b02afab481a6",
   "metadata": {},
   "outputs": [
    {
     "data": {
      "image/png": "[encoded data removed]",
      "text/plain": [
       "<Figure size 2000x400 with 5 Axes>"
      ]
     },
     "metadata": {},
     "output_type": "display_data"
    }
   ],
   "source": [
    "plt.figure(figsize=(20,4))\n",
    "k = 1\n",
    "for exam in exam_names:\n",
    "    plt.subplot(1,5,k)\n",
    "    sns.barplot(x=grade_list, y=[np.mean(grade_dict[grade][exam]) for grade in grade_list])\n",
    "    plt.title(exam)\n",
    "    plt.xlabel('grade')\n",
    "    plt.ylabel('score')\n",
    "    k += 1"
   ]
  },
  {
   "cell_type": "code",
   "execution_count": null,
   "id": "6553884f-d864-4de3-a613-fd53349aafcb",
   "metadata": {},
   "outputs": [],
   "source": []
  }
 ],
 "metadata": {
  "kernelspec": {
   "display_name": "Python 3 (ipykernel)",
   "language": "python",
   "name": "python3"
  },
  "language_info": {
   "codemirror_mode": {
    "name": "ipython",
    "version": 3
   },
   "file_extension": ".py",
   "mimetype": "text/x-python",
   "name": "python",
   "nbconvert_exporter": "python",
   "pygments_lexer": "ipython3",
   "version": "3.11.8"
  }
 },
 "nbformat": 4,
 "nbformat_minor": 5
}
