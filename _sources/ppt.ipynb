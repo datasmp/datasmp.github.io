{
 "cells": [
  {
   "cell_type": "markdown",
   "id": "fe2966e9",
   "metadata": {},
   "source": [
    "# Python in Plain Terms\n",
    "\n",
    "![](pict/meryem2.png)\n",
    "\n",
    "Many people often ask me how to learn Python. They come from different backgrounds, ages, and education levels, with most having no coding experience. They're seeking a resource that's easy to understand without getting into technical jargon. That's the purpose of this online book. It explains Python concepts using simple language so that anyone, regardless of their field or expertise, can grasp it. After using this book, you'll be able to understand and write medium-sized Python code.\n",
    "\n",
    "***\n",
    "\n",
    "There is a separate section on how to use Google Colaboratory to write and execute Python code. However, the code in this book can be used in any major Python editor. It is easy to use Google Colab because you do not need to install any program on your computer. It is also possible to write your code on a tablet and store it in your Google Drive. Also, Google Colab makes it possible to share your code and work on code as a group.\n",
    "\n",
    "***\n",
    "\n",
    "Each chapter of this book covers a Python subject along with optional items. You can skip the parts that might be too detailed for you. However, it is essential to write and execute all codes in this book yourself. Whenever you see code in this book, try to write it in your code editor and execute it. If possible, make some small changes to check your understanding. You can copy/paste the code, but for beginners, it is better to write the code yourself.\n",
    "\n",
    "***\n",
    "\n",
    "Additionally, the book includes debugging, output, and coding questions tailored for different proficiency levels.\n",
    "\n",
    "- Debugging: Identify errors within a given code.\n",
    "     - These questions help you understand the syntax better and have an idea about the most common mistakes.\n",
    "     - In these questions, first try to find mistakes, then think about how to solve them.\n",
    "     - It is strongly recommended to write the correct code and execute it just to be sure it works well.\n",
    "- Output: Determine the output produced by a given code.\n",
    "     - By solving these kinds of questions, you will be able to understand each small detail of a code.\n",
    "     - The best way to solve these questions is to work on paper and not look at the solution until being sure about your answer.\n",
    "     - Also, it is a great practice to try to change this code and write it in a different, and if possible, better or shorter way.\n",
    "- Coding: Write code for specific tasks.\n",
    "    - This is the most important part to practice your coding skills with various types of questions.\n",
    "    - The key point here is not looking at the solutions until having a solution, which might be even a partial one.\n",
    "    - Please try to solve the questions in these sections by using the information only in the preceding chapters.\n",
    "    - Keep in mind that there might be more than one solution for such kind of questions. The solutions in this book might not be the best ones because simple solutions have been chosen for this textbook.\n",
    "\n",
    "***\n",
    "\n",
    "This book will be updated very often, and a project chapter will be added soon.\n",
    "\n",
    "This book is prepared by using Jupyter Book. Check out [the Jupyter Book documentation](https://jupyterbook.org) for more information.\n",
    "\n"
   ]
  },
  {
   "cell_type": "markdown",
   "id": "e3dd232a",
   "metadata": {},
   "source": [
    "**Yusuf Danisman**, the author, is a faculty member in the Mathematics and Computer Science Department at Queensborough Community College, CUNY. He obtained his PhD in Mathematics from The Ohio State University and worked at the University of Oklahoma before joining CUNY. He teaches Mathematics, Statistics, Computer Science, and Data Science courses. Dr. Danisman is currently researching Financial Machine Learning and Geometric Deep Learning. He is also a steering committee member of the [Northeast Big Data Innovation Hub](https://nebigdatahub.org/)."
   ]
  },
  {
   "cell_type": "code",
   "execution_count": null,
   "id": "fcc5c954",
   "metadata": {},
   "outputs": [],
   "source": []
  }
 ],
 "metadata": {
  "hide_input": false,
  "kernelspec": {
   "display_name": "Python 3 (ipykernel)",
   "language": "python",
   "name": "python3"
  },
  "language_info": {
   "codemirror_mode": {
    "name": "ipython",
    "version": 3
   },
   "file_extension": ".py",
   "mimetype": "text/x-python",
   "name": "python",
   "nbconvert_exporter": "python",
   "pygments_lexer": "ipython3",
   "version": "3.11.7"
  },
  "toc": {
   "base_numbering": 1,
   "nav_menu": {},
   "number_sections": true,
   "sideBar": true,
   "skip_h1_title": false,
   "title_cell": "Table of Contents",
   "title_sidebar": "Contents",
   "toc_cell": false,
   "toc_position": {},
   "toc_section_display": true,
   "toc_window_display": false
  }
 },
 "nbformat": 4,
 "nbformat_minor": 5
}
