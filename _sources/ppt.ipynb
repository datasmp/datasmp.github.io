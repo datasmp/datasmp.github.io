{
 "cells": [
  {
   "cell_type": "markdown",
   "id": "fe2966e9",
   "metadata": {},
   "source": [
    "# Python in Plain Terms\n",
    "\n",
    "The purpose of this book is to explain Python concepts using simple language, in a manner that individuals from any field and at any level of expertise can understand. Through this book, the objective is to help readers grasp the ability to comprehend and write medium-sized Python code. It focuses on solving real-life problems by constructing computational models and algorithms. Each section covers a Python subject along with optional items.\n",
    "\n",
    "\n",
    "- Additionally, the book includes debugging, output, and coding questions tailored for different proficiency levels.\n",
    "\n",
    "    - Debugging: Identify errors within a given code.\n",
    "    - Output: Determine the output produced by a given code.\n",
    "    - Coding: Write code for specific tasks.\n",
    "\n",
    "      \n",
    "- There is a separate section on how to use Google Colaboratory to write and execute Python code. However, the code in this book can be used in any major Python editor.\n",
    "\n",
    "- This book is prepared by using Jupyter Book. Check out [the Jupyter Book documentation](https://jupyterbook.org) for more information.\n",
    "\n"
   ]
  },
  {
   "cell_type": "markdown",
   "id": "e3dd232a",
   "metadata": {},
   "source": [
    "**Yusuf Danisman**, the author, is a faculty member in the Mathematics and Computer Science Department at Queensborough Community College, CUNY. He obtained his PhD in Mathematics from The Ohio State University and is currently researching Financial Machine Learning and Geometric Deep Learning."
   ]
  },
  {
   "cell_type": "code",
   "execution_count": null,
   "id": "fcc5c954",
   "metadata": {},
   "outputs": [],
   "source": []
  }
 ],
 "metadata": {
  "hide_input": false,
  "kernelspec": {
   "display_name": "Python 3 (ipykernel)",
   "language": "python",
   "name": "python3"
  },
  "language_info": {
   "codemirror_mode": {
    "name": "ipython",
    "version": 3
   },
   "file_extension": ".py",
   "mimetype": "text/x-python",
   "name": "python",
   "nbconvert_exporter": "python",
   "pygments_lexer": "ipython3",
   "version": "3.11.7"
  },
  "toc": {
   "base_numbering": 1,
   "nav_menu": {},
   "number_sections": true,
   "sideBar": true,
   "skip_h1_title": false,
   "title_cell": "Table of Contents",
   "title_sidebar": "Contents",
   "toc_cell": false,
   "toc_position": {},
   "toc_section_display": true,
   "toc_window_display": false
  }
 },
 "nbformat": 4,
 "nbformat_minor": 5
}
