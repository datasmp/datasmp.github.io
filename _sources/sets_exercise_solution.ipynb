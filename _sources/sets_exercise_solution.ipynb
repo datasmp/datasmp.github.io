{
 "cells": [
  {
   "cell_type": "markdown",
   "id": "e52c30a5-5b1a-4893-aefc-dac6ef639d5f",
   "metadata": {},
   "source": [
    "# Sets Exercises and Solutions"
   ]
  },
  {
   "cell_type": "markdown",
   "id": "17714a33-60a5-4281-b486-1c3cb66dd696",
   "metadata": {},
   "source": [
    "## Warm Up Question-1\n",
    "Create a set that includes an integer, a decimal number, a string, and a boolean value."
   ]
  },
  {
   "cell_type": "code",
   "execution_count": 9,
   "id": "fbe2b9bf-cc25-43bc-8a19-e57fbe16c253",
   "metadata": {},
   "outputs": [
    {
     "data": {
      "text/plain": [
       "{4.56, 'Bird', False, True}"
      ]
     },
     "execution_count": 9,
     "metadata": {},
     "output_type": "execute_result"
    }
   ],
   "source": [
    "mixed_set = {4.56, 'Bird', True, False, True}\n",
    "mixed_set"
   ]
  },
  {
   "cell_type": "markdown",
   "id": "14f641a2-100f-456a-b8b6-b7af817f635c",
   "metadata": {},
   "source": [
    "## Warm Up Question-2\n",
    "Calculate the maximum value, minimum value, total sum, and the count of elements in the sequence of numbers \n",
    "9,3,1,7,4,2,8,76,10 using a set."
   ]
  },
  {
   "cell_type": "code",
   "execution_count": 11,
   "id": "248c6828-ef54-4b39-988c-e312c02fa359",
   "metadata": {},
   "outputs": [
    {
     "name": "stdout",
     "output_type": "stream",
     "text": [
      "Count  : 9\n",
      "Maximum: 76\n",
      "Minimum: 1\n",
      "Sum    : 120\n"
     ]
    }
   ],
   "source": [
    "numbers = {9,3,1,7,4,2,8,76,10}\n",
    "print(f'Count  : {len(numbers)}')\n",
    "print(f'Maximum: {max(numbers)}')\n",
    "print(f'Minimum: {min(numbers)}')\n",
    "print(f'Sum    : {sum(numbers)}')"
   ]
  },
  {
   "cell_type": "markdown",
   "id": "512784e3-af5f-4c72-a521-5760c59193b0",
   "metadata": {},
   "source": [
    "## Warm Up Question-3\n",
    "Add three additional elements to this set: {4,6,1}."
   ]
  },
  {
   "cell_type": "code",
   "execution_count": 15,
   "id": "91cdb06b-8a49-4270-9055-46ea6d76fb22",
   "metadata": {},
   "outputs": [
    {
     "name": "stdout",
     "output_type": "stream",
     "text": [
      "{1, 4, 6, 10, 20, 30}\n"
     ]
    }
   ],
   "source": [
    "numbers = {4,6,1}\n",
    "numbers.add(10)\n",
    "numbers.add(20)\n",
    "numbers.add(30)\n",
    "print(numbers)"
   ]
  },
  {
   "cell_type": "markdown",
   "id": "02463324-82f6-4cfb-bb8b-d2c2e74afe0d",
   "metadata": {},
   "source": [
    "## Warm Up Question-4\n",
    "Count the number of the unique values in the following  sequence: 4,2,8,3,3,9,3,3,5,6,7,8.\n"
   ]
  },
  {
   "cell_type": "code",
   "execution_count": 23,
   "id": "30b2da62-a9b6-4649-a6ac-daf7d3e5fa57",
   "metadata": {},
   "outputs": [
    {
     "name": "stdout",
     "output_type": "stream",
     "text": [
      " Unique Values: {2, 3, 4, 5, 6, 7, 8, 9}\n",
      " Number of Unique Values: 8\n"
     ]
    }
   ],
   "source": [
    "numbers = {4,2,8,3,3,9,3,3,5,6,7,8}\n",
    "print(f' Unique Values: {numbers}')\n",
    "print(f' Number of Unique Values: {len(numbers)}')"
   ]
  },
  {
   "cell_type": "markdown",
   "id": "7089b991-7936-4f12-855c-e076afd31f2b",
   "metadata": {},
   "source": [
    "## Warm Up Question-5\n",
    "Use the remove() method to delete 6 from the set {9,7,1,2,6,3,4,5,8,6}.\n"
   ]
  },
  {
   "cell_type": "code",
   "execution_count": 27,
   "id": "e04fed56-3be4-4abb-8f6f-69f02ca779f0",
   "metadata": {},
   "outputs": [
    {
     "name": "stdout",
     "output_type": "stream",
     "text": [
      "{1, 2, 3, 5, 6, 7, 8, 9}\n"
     ]
    }
   ],
   "source": [
    "numbers = {9,7,1,2,6,3,4,5,8,6}\n",
    "numbers.remove(4)\n",
    "print(numbers)"
   ]
  },
  {
   "cell_type": "markdown",
   "id": "74075425-5437-41cf-a66f-6ac44a97bf3c",
   "metadata": {},
   "source": [
    "## Warm Up Question-6\n",
    "Calculate the sum of the odd numbers in this set: {5, 6, 1, 2, 3, 9, 8}\n"
   ]
  },
  {
   "cell_type": "code",
   "execution_count": 31,
   "id": "2a1f6f7a-a761-42e9-91e6-fb6329facc84",
   "metadata": {},
   "outputs": [
    {
     "name": "stdout",
     "output_type": "stream",
     "text": [
      "18\n"
     ]
    }
   ],
   "source": [
    "numbers = {5, 6, 1, 2, 3, 9, 8}\n",
    "total = 0\n",
    "\n",
    "for i in numbers:\n",
    "    if i %2 == 1 :\n",
    "        total += i\n",
    "\n",
    "print(total)"
   ]
  },
  {
   "cell_type": "markdown",
   "id": "63a95ac8-5f04-44d2-b37d-ad23f924276b",
   "metadata": {},
   "source": [
    "## Question-1\n",
    "\n",
    "Create a set with the elements: *1, 2.5, True, 'Texas', (10,20,30)*  \n",
    "Perform the following operations on it, printing it after each operation:   \n",
    "\n",
    "- Add 99.\n",
    "- Add all elements from the list [2, 6, 5, 9, 1, 1, 5].\n",
    "- Remove ‘Texas’\n",
    "- Remove the tuple (10,20,30)\n",
    "- Verify if 8 is present in the set.\n",
    "- Verify if 9 is NOT present in the set.\n",
    "- Print the number of elements in the set.\n",
    "- Print the sum of elements in the set.\n",
    "- Print the maximum element in the set.\n",
    "- Print the minimum element in the set."
   ]
  },
  {
   "cell_type": "markdown",
   "id": "e03bfa4f-9585-4bbf-bce7-f8278b583a03",
   "metadata": {},
   "source": [
    "**Solution**\n",
    "``` python\n",
    "myset = {1, 2.5, True, 'Texas', (10,20,30)}\n",
    "myset.add(99)\n",
    "print(myset)\n",
    "myset.update([2, 6, 5, 9, 1, 1, 5])\n",
    "print(myset)\n",
    "myset.remove('Texas')\n",
    "print(myset)\n",
    "myset.remove((10, 20, 30))\n",
    "print(8 in myset)\n",
    "print(9 not in myset)\n",
    "print(myset)\n",
    "print(f'# of elements: {len(myset)}')\n",
    "print(f'Sum          : {sum(myset)}')\n",
    "print(f'Max          : {max(myset)}')\n",
    "print(f'Min          : {min(myset)}')"
   ]
  },
  {
   "cell_type": "markdown",
   "id": "83a3dbdd-665a-48bc-adcb-9972d65044d2",
   "metadata": {},
   "source": [
    "## Question-2\n",
    "\n",
    "For the two sets S1 and S2 below print:\n",
    "- Union of S1 and S2\n",
    "- Intersection of S1 and S2\n",
    "- The elements in S1 but not in S2.\n",
    "- The elements in S2 but not in S1.\n",
    "- The elements in one of the two sets but not both.\n",
    "- Verify if S1 is subset of S2.\n",
    "- Verify if S1 contains of S2.\n",
    "- Verify if S1 and S2 have a common element."
   ]
  },
  {
   "cell_type": "code",
   "execution_count": 2,
   "id": "bb629160-04e4-40fb-a16a-3eaba6758b40",
   "metadata": {},
   "outputs": [],
   "source": [
    "S1 = {1,2,3,4,5}\n",
    "S2 = {4,5,6,7,8,9}"
   ]
  },
  {
   "cell_type": "markdown",
   "id": "5189c9f7-89ed-4f96-b05a-78dfffd35d11",
   "metadata": {},
   "source": [
    "**Solution**\n",
    "``` python\n",
    "  \n",
    "print(f'Union                 : {S1 | S2}')\n",
    "print(f'Intersection          : {S1 & S2}')\n",
    "print(f'S1-S2                 : {S1 - S2}')\n",
    "print(f'S2-S1                 : {S2 - S1}')\n",
    "print(f'Symmetric Difference  : {S1 ^ S2}')\n",
    "print(f'S1 is a subset of S2  : {S1.issubset(S2)}')\n",
    "print(f'S1 contains S2        : {S1.issuperset(S2)}')\n",
    "print(f'S1 and S2 are disjoint: {S1.isdisjoint(S2)}')"
   ]
  },
  {
   "cell_type": "markdown",
   "id": "9735cdfc-0e19-4681-8b60-4c8f47c53464",
   "metadata": {},
   "source": [
    "## Question-3\n",
    "Store the months from the \"dates\" tuple as an integers into a set using a for loop.\n",
    "- Hint: Use the split() method of the strings. "
   ]
  },
  {
   "cell_type": "code",
   "execution_count": 6,
   "id": "38ca80ba-388b-4daf-adb2-9d515e7ace54",
   "metadata": {},
   "outputs": [],
   "source": [
    "dates = ('10/25/1987', '3/2/2023',  '9/2/2020', '10/25/1987', '3/2/2023',  '9/2/2020', '5/12/2019')"
   ]
  },
  {
   "cell_type": "markdown",
   "id": "7a386b73-5bcc-4be7-abcc-5880b3a6f987",
   "metadata": {},
   "source": [
    "**Solution**\n",
    "``` python\n",
    "\n",
    "month_set = set()\n",
    "\n",
    "for date in dates:\n",
    "    month_set.add(int(date.split('/')[1]))\n",
    "\n",
    "print(month_set)"
   ]
  },
  {
   "cell_type": "markdown",
   "id": "62ab5530-711d-4694-a08f-48a29a8a3da3",
   "metadata": {},
   "source": [
    "## Question-4\n",
    "Generate two strings containing randomly selected 10 lowercase letters. \n",
    "- Print each character from both strings, ensuring that each character is only printed once.\n",
    "- Hint: You can use the choices() method of the random module\n",
    "- Hint: You can use the join() method of the string module."
   ]
  },
  {
   "cell_type": "markdown",
   "id": "e4968a84-84d0-4299-9b6f-249d5c3e5845",
   "metadata": {},
   "source": [
    "**Solution**\n",
    "``` python\n",
    "\n",
    "import random \n",
    "import string\n",
    "\n",
    "lower_letters = string.ascii_lowercase\n",
    "\n",
    "text1 = ''.join(random.choices(lower_letters, k=10))\n",
    "\n",
    "text2 = ''.join(random.choices(lower_letters, k=10))\n",
    "\n",
    "common_char = set(text1) & set(text2)\n",
    "\n",
    "for char in common_char:\n",
    "    print(char)"
   ]
  },
  {
   "cell_type": "markdown",
   "id": "62d9ba03-b02f-464b-8794-6e6865da139b",
   "metadata": {},
   "source": [
    "## Question-5\n",
    "Write a program that prompts the user to input integer numbers. \n",
    "- Store each given number in a list.\n",
    "- Once there are three unique numbers, stop further input and display these numbers.\n",
    "\n",
    "**Sample Output**\n",
    "\n",
    "Enter an integer: 6  \n",
    "Enter an integer: 6  \n",
    "Enter an integer: 6  \n",
    "Enter an integer: 5  \n",
    "Enter an integer: 5  \n",
    "Enter an integer: 7  \n",
    "Unique numbers  : {5, 6, 7}"
   ]
  },
  {
   "cell_type": "markdown",
   "id": "48b5cb08-a083-4bdd-a1ac-97320b9690a8",
   "metadata": {},
   "source": [
    "**Solution**\n",
    "``` python\n",
    "  \n",
    "unique_set = set()\n",
    "number_list = []\n",
    "\n",
    "while len(unique_set) < 3:\n",
    "    number = int(input('Enter an integer:'))\n",
    "    number_list.append(number)\n",
    "    unique_set = set(number_list)\n",
    "\n",
    "print(f'Unique numbers  : {unique_set}')"
   ]
  },
  {
   "cell_type": "code",
   "execution_count": null,
   "id": "6825b9f4-ec7b-4e53-9760-b809e9b16e10",
   "metadata": {},
   "outputs": [],
   "source": []
  }
 ],
 "metadata": {
  "kernelspec": {
   "display_name": "Python 3 (ipykernel)",
   "language": "python",
   "name": "python3"
  },
  "language_info": {
   "codemirror_mode": {
    "name": "ipython",
    "version": 3
   },
   "file_extension": ".py",
   "mimetype": "text/x-python",
   "name": "python",
   "nbconvert_exporter": "python",
   "pygments_lexer": "ipython3",
   "version": "3.11.8"
  }
 },
 "nbformat": 4,
 "nbformat_minor": 5
}
