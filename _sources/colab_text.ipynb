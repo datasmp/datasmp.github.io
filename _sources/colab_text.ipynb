{
 "cells": [
  {
   "cell_type": "markdown",
   "id": "3c9eaa05",
   "metadata": {},
   "source": [
    "# Text Cell\n",
    "\n",
    "![Section Title: Text Cell](title_pict/text_cell2.png)\n",
    "\n",
    "You can write explanatory text.\n",
    "- By using tools covered in this section, you can compose well-organized texts.\n",
    "- To edit a text cell, double-click on it.\n",
    "- Click outside the text cell to exit the edit mode.\n",
    "- Text cells in Colab use Markdown language syntax.\n",
    "- When you start writing in a text cell, you will see another box on the right that shows the output.\n",
    "- Text cells do not have an arrow on the left for execution.\n",
    "- You do not need to memorize HTML code in this section; you can copy/paste it if needed."
   ]
  },
  {
   "cell_type": "markdown",
   "id": "500186d7",
   "metadata": {
    "id": "GO2xzPK4Xpnl"
   },
   "source": [
    "## Heading\n",
    "- Start the line with a hashtag (#) followed by a space.\n",
    "- To make the header smaller, add more hashtags (#).\n",
    "\n",
    "``` markdown\n",
    "# Level-1 heading\n",
    "## Level-2 heading\n",
    "### Level-3 heading\n",
    "#### Level-4 heading\n",
    "##### Level-5 heading\n",
    "###### Level-6 heading\n",
    "```\n",
    "- The table of contents is located on the left side of Colab, marked by an icon displaying three rows of a dot and line.\n",
    "- All headings appear in the table of contents according to their level.\n",
    "- You can also use the `tT` icon on the text cell toolbar to create a text heading."
   ]
  },
  {
   "cell_type": "markdown",
   "id": "4dccd292",
   "metadata": {
    "id": "gEDJXSEOUWgM"
   },
   "source": [
    "## Center\n",
    "\n",
    "- You can use the following HTML code to center text: `<center> text </center>`.\n",
    "- Output:\n",
    "<center> text </center>\n"
   ]
  },
  {
   "cell_type": "markdown",
   "id": "5af40ed4",
   "metadata": {},
   "source": [
    "## Bold\n",
    "- Use `**` (two asterisks) or `__` (two underscores) on both sides of the text to apply bold formatting.\n",
    "- Alternatively, you can utilize the `B` icon on the text cell toolbar.\n",
    "- The output of `How **are** you?` is\n",
    "    - How **are** you?"
   ]
  },
  {
   "cell_type": "markdown",
   "id": "fe5afef9",
   "metadata": {},
   "source": [
    "## Italic\n",
    "- Use `*` (one asterisk) or `_` (one underscore) on both sides of the text to apply italic formatting.\n",
    "- Alternatively, you can utilize the `I` icon on the text cell toolbar.\n",
    "- The output of `How *are* you?` is\n",
    "    - How *are* you?"
   ]
  },
  {
   "cell_type": "markdown",
   "id": "c49ae418",
   "metadata": {},
   "source": [
    "## Line Breaks\n",
    "- Add 2 blank spaces or `\\` at the end of the line to start a new line.\n"
   ]
  },
  {
   "cell_type": "markdown",
   "id": "e08658bb",
   "metadata": {
    "id": "4IEqj0PSVNuE"
   },
   "source": [
    "## Color\n",
    "\n",
    "- You can use the following HTML code to change the color of text: \n",
    "` <font color=red> text </font>`.\n",
    "- Output:\n",
    " <font color=red >text</font>\n"
   ]
  },
  {
   "cell_type": "markdown",
   "id": "04773ed4",
   "metadata": {
    "id": "4IEqj0PSVNuE"
   },
   "source": [
    "## Size\n",
    "\n",
    "- You can use the following HTML code to change the size of text:  \n",
    "` <font size=25> text </font>`.\n",
    "- Output:\n",
    "\n",
    " <font size=25 >text</font>\n"
   ]
  },
  {
   "cell_type": "markdown",
   "id": "1f35c370",
   "metadata": {},
   "source": [
    "## Size and Color\n",
    "\n",
    "- You can use the following HTML code to change the color and size of text:  \n",
    "` <font size=25, color=red> text </font>`.\n",
    "- Output:\n",
    "\n",
    " <font size=25, color=red >text</font>"
   ]
  },
  {
   "cell_type": "markdown",
   "id": "48e6f0fc",
   "metadata": {},
   "source": [
    "## List\n",
    "- Use a dash (-), asterisk (*), or plus sign (+) followed by a space for an unordered (bullet) list.\n",
    "- Use numbers followed by a period (.) and a space for a numbered (ordered) list.\n",
    "- Indent to create a sublist."
   ]
  },
  {
   "cell_type": "markdown",
   "id": "fd81c396",
   "metadata": {},
   "source": [
    "The output of \n",
    "``` markdown\n",
    "- Africa\n",
    "- Europe\n",
    "```\n",
    "is\n",
    "- Africa\n",
    "- Europe\n",
    "\n",
    "***"
   ]
  },
  {
   "cell_type": "markdown",
   "id": "efd5f6f1",
   "metadata": {},
   "source": [
    "The output of \n",
    "``` markdown\n",
    "- Africa\n",
    "    1. Nigeria\n",
    "    2. Kenya\n",
    "- Europe\n",
    "    1. Germany\n",
    "    2. Italy\n",
    "    3. Spain\n",
    "```\n",
    "is\n",
    "- Africa\n",
    "    1. Nigeria\n",
    "    2. Kenya\n",
    "- Europe\n",
    "    1. Germany\n",
    "    2. Italy\n",
    "    3. Spain\n",
    "***"
   ]
  },
  {
   "cell_type": "markdown",
   "id": "426e72ca",
   "metadata": {},
   "source": [
    "The output of \n",
    "``` markdown\n",
    "- Africa\n",
    "    1. Nigeria\n",
    "    2. Kenya\n",
    "- Europe\n",
    "    1. Germany\n",
    "        - Munich\n",
    "        - Dortmund\n",
    "        - Bonn\n",
    "    2. Italy\n",
    "    3. Spain\n",
    "```\n",
    "is\n",
    "- Africa\n",
    "    1. Nigeria\n",
    "    2. Kenya\n",
    "- Europe\n",
    "    1. Germany\n",
    "        - Munich\n",
    "        - Dortmund\n",
    "        - Bonn\n",
    "    2. Italy\n",
    "    3. Spain"
   ]
  },
  {
   "cell_type": "markdown",
   "id": "5b65490e",
   "metadata": {},
   "source": [
    "- Instead of dash (-) you can also use asterisk (*).\n",
    "\n",
    "The output of \n",
    "``` markdown\n",
    "* Africa\n",
    "* Europe\n",
    "```\n",
    "is\n",
    "* Africa\n",
    "* Europe\n",
    "\n",
    "***"
   ]
  },
  {
   "cell_type": "markdown",
   "id": "79afe632",
   "metadata": {},
   "source": [
    "## Highlight\n",
    "- Enclose the text with one backtick on each side (\\`text\\`) to format it.\n",
    "- In a light Google Colab theme, the highlight might not be very visible.\n",
    "- For example, adding one backtick to each side of How are you? will display it as `How are you?`."
   ]
  },
  {
   "cell_type": "markdown",
   "id": "d60a4390-12fb-447e-a35a-8ce52c3c106b",
   "metadata": {},
   "source": [
    "## Yellow Highlight\n",
    "- You can use the following HTML code to highlight the text in yellow: `<mark>  text </mark>`.\n",
    "- Output: <mark>  text </mark>"
   ]
  },
  {
   "cell_type": "markdown",
   "id": "137ccb9a",
   "metadata": {},
   "source": [
    "## Horizontal Line\n",
    "- Use three asterisks (\\*\\*\\*) or underscores (\\_\\_\\_) on a new line.\n",
    "\n",
    "***  \n",
    "\n",
    "- In light mode, the horizontal line created by three asterisks (\\*\\*\\*) or underscores (\\_\\_\\_) might not be very noticeable."
   ]
  },
  {
   "cell_type": "markdown",
   "id": "919fb250",
   "metadata": {
    "id": "JgvK2eTSO9_w"
   },
   "source": [
    "## Blockquote\n",
    "- To create a blockquote, start a line with a greater than symbol (>).\n",
    "- Use additional greater than symbols for nested blockquotes."
   ]
  },
  {
   "cell_type": "markdown",
   "id": "2fb9612a",
   "metadata": {},
   "source": [
    "The output of \n",
    "``` markdown\n",
    "> aaa  \n",
    "```\n",
    "\n",
    "is\n",
    "\n",
    "> aaa  \n",
    "\n",
    "***"
   ]
  },
  {
   "cell_type": "markdown",
   "id": "f6f89a87",
   "metadata": {},
   "source": [
    "The output of \n",
    "``` markdown\n",
    "> aaa \\\n",
    "> bbb\n",
    "```\n",
    "\n",
    "is\n",
    "\n",
    "> aaa\\\n",
    "> bbb\n",
    "\n",
    "***"
   ]
  },
  {
   "cell_type": "markdown",
   "id": "4f7e5b3e",
   "metadata": {},
   "source": [
    "The output of \n",
    "``` markdown\n",
    "> aaa \n",
    ">> bbb\n",
    "```\n",
    "\n",
    "is\n",
    "\n",
    "> aaa\n",
    ">> bbb\n",
    "\n",
    "***"
   ]
  },
  {
   "cell_type": "markdown",
   "id": "b29bff01",
   "metadata": {
    "id": "zyZxM8DHOlMe"
   },
   "source": [
    "The output of \n",
    "``` markdown\n",
    "> aaa  \n",
    "> bbb\n",
    ">> ccc\n",
    ">>>ddd\n",
    "```\n",
    "\n",
    "is\n",
    "\n",
    "> aaa  \n",
    "> bbb\n",
    ">> ccc\n",
    ">>>ddd"
   ]
  },
  {
   "cell_type": "markdown",
   "id": "6a3c3c9b",
   "metadata": {
    "id": "3x__RKsBPK4C"
   },
   "source": [
    "## Link\n",
    "- Use the following Markdown syntax to create a link to a website: ``` [title](URL)```\n",
    "- The output of ``` [Python](https://www.python.org)```\n",
    "is [Python](https://www.python.org)\n"
   ]
  },
  {
   "cell_type": "markdown",
   "id": "429f22b4",
   "metadata": {
    "id": "PGxTweVsQ8v7"
   },
   "source": [
    "## Table\n",
    "- Use | (pipe) and - (dash) to create a table structure."
   ]
  },
  {
   "cell_type": "markdown",
   "id": "839c7851",
   "metadata": {
    "id": "sO2fkHylRAQX"
   },
   "source": [
    "The output of \n",
    "``` markdown\n",
    "|Gender\t| Age | State|  \n",
    "| --- | --- | --- |  \n",
    "| Male | 25 | NY |  \n",
    "| Male | 35 | FL |.\n",
    "| Female | 20 | CA | \n",
    "```\n",
    "is\n",
    "\n",
    "\n",
    "|Gender\t| Age | State|  \n",
    "| --- | --- | --- |  \n",
    "| Male | 25 | NY |  \n",
    "| Male | 35 | FL |.\n",
    "| Female | 20 | CA |    "
   ]
  },
  {
   "cell_type": "markdown",
   "id": "189d8c8d",
   "metadata": {
    "id": "SMIOzAa4t8bY"
   },
   "source": [
    "## Python code\n",
    "- Use three backticks followed by the Python keyword to write Python code within a text cell, mimicking the appearance of a code cell.\""
   ]
  },
  {
   "cell_type": "markdown",
   "id": "c8207329",
   "metadata": {
    "id": "kFGDzfzUuEeo"
   },
   "source": [
    "The output of \n",
    "\n",
    "\\`\\`\\` python  \n",
    "for i in range(6):  \n",
    "&ensp;&ensp; if i>2:  \n",
    "&ensp;&ensp;&ensp;&ensp;    print(i)  \n",
    "&ensp;&ensp;else:  \n",
    "&ensp;&ensp;&ensp;&ensp;    print(True)   \n",
    "\\`\\`\\`\n",
    "\n",
    "is\n",
    "\n",
    "``` python\n",
    "for i in range(6):\n",
    "  if i>2:\n",
    "    print(i)\n",
    "  else:\n",
    "    print(True)\n",
    "```\n"
   ]
  },
  {
   "cell_type": "markdown",
   "id": "e65b85b9",
   "metadata": {},
   "source": [
    "## Mathematical Equations\n",
    "- A text cell can execute Latex code.\n",
    "- If you are not familiar with Latex, feel free to skip this part.\n",
    "- The output of `$ \\int_1^5x^5\\,dx$` is $\\int_1^5x^5\\,dx$\n"
   ]
  },
  {
   "cell_type": "markdown",
   "id": "fc351fcf",
   "metadata": {},
   "source": [
    "## Add an Image\n",
    "1. To import an image from your computer to a Colab notebook:\n",
    "    - Double-click on the text cell to edit it.\n",
    "    - Click on the image icon in the text cell's toolbar.\n",
    "    - Select the image you want to upload.\n",
    "    - You might see a lengthy and odd-looking text, but you can ignore it.  \n",
    "    - Click outside the text cell to exit the edit mode.\n",
    "\n",
    "  \n",
    "2. To import an image from an URL use the following markdown syntax: \n",
    "`![](URL)` \n",
    "\n",
    "- The output of `![](https://www.python.org/static/community_logos/python-logo-master-v3-TM.png)`\n",
    "is\n",
    "![Python Logo](https://www.python.org/static/community_logos/python-powered-h-100x130.png)\n",
    "\n",
    "3. If you remove the `!` from the code above, it will create a link to the website of the image instead of displaying the image directly in the notebook.\n",
    "- The output of `[python logo](https://www.python.org/static/community_logos/python-powered-h-100x130.png)`\n",
    "is\n",
    "[python logo](https://www.python.org/static/community_logos/python-powered-h-100x130.png)"
   ]
  },
  {
   "cell_type": "code",
   "execution_count": null,
   "id": "22ed8f42",
   "metadata": {},
   "outputs": [],
   "source": []
  }
 ],
 "metadata": {
  "hide_input": false,
  "kernelspec": {
   "display_name": "Python 3 (ipykernel)",
   "language": "python",
   "name": "python3"
  },
  "language_info": {
   "codemirror_mode": {
    "name": "ipython",
    "version": 3
   },
   "file_extension": ".py",
   "mimetype": "text/x-python",
   "name": "python",
   "nbconvert_exporter": "python",
   "pygments_lexer": "ipython3",
   "version": "3.11.8"
  },
  "toc": {
   "base_numbering": 1,
   "nav_menu": {},
   "number_sections": true,
   "sideBar": true,
   "skip_h1_title": false,
   "title_cell": "Table of Contents",
   "title_sidebar": "Contents",
   "toc_cell": false,
   "toc_position": {
    "height": "calc(100% - 180px)",
    "left": "10px",
    "top": "150px",
    "width": "259.398px"
   },
   "toc_section_display": true,
   "toc_window_display": true
  }
 },
 "nbformat": 4,
 "nbformat_minor": 5
}
