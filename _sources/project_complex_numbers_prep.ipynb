{
 "cells": [
  {
   "cell_type": "markdown",
   "metadata": {},
   "source": [
    "# Project: Complex Numbers"
   ]
  },
  {
   "cell_type": "markdown",
   "metadata": {},
   "source": [
    "## Basics"
   ]
  },
  {
   "cell_type": "markdown",
   "metadata": {},
   "source": [
    "### List Representation"
   ]
  },
  {
   "cell_type": "code",
   "execution_count": 3,
   "metadata": {
    "colab": {
     "base_uri": "https://localhost:8080/"
    },
    "id": "LdMWs4jmHqjz",
    "outputId": "7fe4b599-d9c4-41b0-8ce5-7d127af2d4a9"
   },
   "outputs": [
    {
     "data": {
      "text/plain": [
       "[2, 3]"
      ]
     },
     "execution_count": 3,
     "metadata": {},
     "output_type": "execute_result"
    }
   ],
   "source": [
    "def complex_list(real, imaginary):\n",
    "    return [real, imaginary]\n",
    "\n",
    "complex_list(2,3)"
   ]
  },
  {
   "cell_type": "markdown",
   "metadata": {},
   "source": [
    "### String Representation"
   ]
  },
  {
   "cell_type": "code",
   "execution_count": 4,
   "metadata": {
    "colab": {
     "base_uri": "https://localhost:8080/"
    },
    "id": "-ebJocI8G-kl",
    "outputId": "898c8b9f-7ad7-4429-db06-9845d357e7be"
   },
   "outputs": [
    {
     "data": {
      "text/plain": [
       "('2+3i', '2-3i', '2+0i')"
      ]
     },
     "execution_count": 4,
     "metadata": {},
     "output_type": "execute_result"
    }
   ],
   "source": [
    "def complex_str(complex_num):\n",
    "    if complex_num[1] >= 0:\n",
    "        return str(complex_num[0]) + '+'  + str(complex_num[1]) + 'i'\n",
    "    else:\n",
    "        return str(complex_num[0]) +  str(complex_num[1]) + 'i'\n",
    "\n",
    "\n",
    "complex_str([2,3]), complex_str([2,-3]), complex_str([2,0]),"
   ]
  },
  {
   "cell_type": "markdown",
   "metadata": {},
   "source": [
    "### Conjugation"
   ]
  },
  {
   "cell_type": "code",
   "execution_count": 5,
   "metadata": {
    "colab": {
     "base_uri": "https://localhost:8080/"
    },
    "id": "ZKdfajDOMycT",
    "outputId": "d2f236bb-8045-47de-f669-f4d16475b362"
   },
   "outputs": [
    {
     "data": {
      "text/plain": [
       "([2, -3], [2, 5])"
      ]
     },
     "execution_count": 5,
     "metadata": {},
     "output_type": "execute_result"
    }
   ],
   "source": [
    "def complex_conjugate(complex_num):\n",
    "    return [complex_num[0], -complex_num[1]]\n",
    "\n",
    "complex_conjugate([2,3]), complex_conjugate([2,-5])"
   ]
  },
  {
   "cell_type": "markdown",
   "metadata": {},
   "source": [
    "### Absolute Value"
   ]
  },
  {
   "cell_type": "code",
   "execution_count": 6,
   "metadata": {
    "colab": {
     "base_uri": "https://localhost:8080/"
    },
    "id": "qZurvg8bNiuA",
    "outputId": "1a4db58c-67a5-4d1c-e5f1-78380d3ec2d8"
   },
   "outputs": [
    {
     "data": {
      "text/plain": [
       "5.0"
      ]
     },
     "execution_count": 6,
     "metadata": {},
     "output_type": "execute_result"
    }
   ],
   "source": [
    "import math\n",
    "\n",
    "def complex_abs(complex_num):\n",
    "    return math.sqrt(complex_num[0]**2 + complex_num[1]**2)\n",
    "\n",
    "complex_abs([3,4])"
   ]
  },
  {
   "cell_type": "markdown",
   "metadata": {},
   "source": [
    "### Quadrants"
   ]
  },
  {
   "cell_type": "code",
   "execution_count": 7,
   "metadata": {},
   "outputs": [
    {
     "data": {
      "text/plain": [
       "(2, 'Not in a quadrant', 3)"
      ]
     },
     "execution_count": 7,
     "metadata": {},
     "output_type": "execute_result"
    }
   ],
   "source": [
    "def complex_quadrant(complex_num):\n",
    "    if (complex_num[0] > 0) & (complex_num[1] > 0):\n",
    "        return 1\n",
    "    elif (complex_num[0] < 0) & (complex_num[1] > 0):\n",
    "        return 2\n",
    "    elif (complex_num[0] < 0) & (complex_num[1] < 0):\n",
    "        return 3\n",
    "    elif (complex_num[0] > 0) & (complex_num[1] < 0):\n",
    "        return 4\n",
    "    else:\n",
    "        return 'Not in a quadrant'\n",
    "    \n",
    "complex_quadrant([-2,3]), complex_quadrant([-2,0]), complex_quadrant([-2,-3])               "
   ]
  },
  {
   "cell_type": "markdown",
   "metadata": {},
   "source": [
    "## Algebraic Operations"
   ]
  },
  {
   "cell_type": "markdown",
   "metadata": {},
   "source": [
    "### Addition"
   ]
  },
  {
   "cell_type": "code",
   "execution_count": 9,
   "metadata": {
    "colab": {
     "base_uri": "https://localhost:8080/"
    },
    "id": "Zhs3liD-HzAU",
    "outputId": "a6cf46f1-4980-43b8-dab1-8e7be0aae068"
   },
   "outputs": [
    {
     "data": {
      "text/plain": [
       "[8, 12]"
      ]
     },
     "execution_count": 9,
     "metadata": {},
     "output_type": "execute_result"
    }
   ],
   "source": [
    "def complex_add(complex1, complex2):\n",
    "    real = complex1[0]+complex2[0]\n",
    "    imaginary = complex1[1]+complex2[1]\n",
    "    return [real, imaginary ]\n",
    "\n",
    "complex_add([1,4], [7,8])"
   ]
  },
  {
   "cell_type": "markdown",
   "metadata": {},
   "source": [
    "### Subtraction"
   ]
  },
  {
   "cell_type": "code",
   "execution_count": 10,
   "metadata": {
    "colab": {
     "base_uri": "https://localhost:8080/"
    },
    "id": "E5DsEsUVItQb",
    "outputId": "b5b95984-8671-46d0-f2d7-faaed0c5acae"
   },
   "outputs": [
    {
     "data": {
      "text/plain": [
       "[-6, -4]"
      ]
     },
     "execution_count": 10,
     "metadata": {},
     "output_type": "execute_result"
    }
   ],
   "source": [
    "def complex_subtract(complex1, complex2):\n",
    "    real = complex1[0]-complex2[0]\n",
    "    imaginary = complex1[1]-complex2[1]\n",
    "    return [real, imaginary ]\n",
    "\n",
    "complex_subtract([1,4], [7,8])"
   ]
  },
  {
   "cell_type": "markdown",
   "metadata": {},
   "source": [
    "### Multiplication"
   ]
  },
  {
   "cell_type": "code",
   "execution_count": 11,
   "metadata": {
    "colab": {
     "base_uri": "https://localhost:8080/"
    },
    "id": "Kqq7Ju2iI4Zj",
    "outputId": "98c99e31-a99a-486e-c099-30be11b9265c"
   },
   "outputs": [
    {
     "data": {
      "text/plain": [
       "[-13, 11]"
      ]
     },
     "execution_count": 11,
     "metadata": {},
     "output_type": "execute_result"
    }
   ],
   "source": [
    "def complex_multiply(complex1, complex2):\n",
    "    real = complex1[0]*complex2[0] - complex1[1]*complex2[1]\n",
    "    imaginary = complex1[0]*complex2[1] + complex1[1]*complex2[0]\n",
    "    return [real, imaginary ]\n",
    "\n",
    "complex_multiply([1,3], [2,5])"
   ]
  },
  {
   "cell_type": "markdown",
   "metadata": {},
   "source": [
    "### Division"
   ]
  },
  {
   "cell_type": "code",
   "execution_count": 12,
   "metadata": {
    "colab": {
     "base_uri": "https://localhost:8080/"
    },
    "id": "dwElRhoQJj0b",
    "outputId": "e1a47c9d-302e-405a-db98-029300f7748b"
   },
   "outputs": [
    {
     "data": {
      "text/plain": [
       "[0.44, 0.08]"
      ]
     },
     "execution_count": 12,
     "metadata": {},
     "output_type": "execute_result"
    }
   ],
   "source": [
    "def complex_division(complex1, complex2):\n",
    "    num_list = complex_multiply(complex1, complex_conjugate(complex2))\n",
    "    den = complex_abs(complex2)**2\n",
    "    return [num_list[0]/den, num_list[1]/den ]\n",
    "\n",
    "complex_division([1,2], [3,4])"
   ]
  },
  {
   "cell_type": "markdown",
   "metadata": {},
   "source": [
    "### Reciprocal"
   ]
  },
  {
   "cell_type": "code",
   "execution_count": 13,
   "metadata": {},
   "outputs": [
    {
     "data": {
      "text/plain": [
       "[0.12, -0.16]"
      ]
     },
     "execution_count": 13,
     "metadata": {},
     "output_type": "execute_result"
    }
   ],
   "source": [
    "def complex_reciprocal(complex_num):\n",
    "    return complex_division([1,0], complex_num)\n",
    "\n",
    "complex_reciprocal([3,4])"
   ]
  },
  {
   "cell_type": "markdown",
   "metadata": {},
   "source": [
    "### Exponentiation"
   ]
  },
  {
   "cell_type": "code",
   "execution_count": 14,
   "metadata": {},
   "outputs": [
    {
     "data": {
      "text/plain": [
       "[0, 1]"
      ]
     },
     "execution_count": 14,
     "metadata": {},
     "output_type": "execute_result"
    }
   ],
   "source": [
    "def complex_power(complex_num, power):\n",
    "    result = [1,0]\n",
    "    for i in range(power):\n",
    "        result = complex_multiply(result, complex_num)\n",
    "    return result\n",
    "\n",
    "complex_power([0,1], 5)"
   ]
  },
  {
   "cell_type": "markdown",
   "metadata": {},
   "source": [
    "## Graphical Representations"
   ]
  },
  {
   "cell_type": "code",
   "execution_count": 16,
   "metadata": {
    "colab": {
     "base_uri": "https://localhost:8080/",
     "height": 430
    },
    "id": "yKeG06G7PiUW",
    "outputId": "889d1d25-7003-4822-92f6-c296f1088425"
   },
   "outputs": [
    {
     "data": {
      "image/png": "[encoded data removed]",
      "text/plain": [
       "<Figure size 640x480 with 1 Axes>"
      ]
     },
     "metadata": {},
     "output_type": "display_data"
    }
   ],
   "source": [
    "import matplotlib.pyplot as plt\n",
    "def plot_complex(complex_list):\n",
    "    x, y = complex_list\n",
    "    boundary = max(x, y)+2\n",
    "\n",
    "    plt.vlines(0, -boundary, boundary, color='k' )\n",
    "    plt.hlines(0, -boundary, boundary, color='k' )\n",
    "\n",
    "    plt.plot([0, x], [0, y])\n",
    "    plt.scatter(x, y, c='red', s=50)\n",
    "\n",
    "    plt.text(x+.2, y+.2, complex_str(complex_list))\n",
    "    plt.text(x-0.1, -0.5, x)\n",
    "    plt.text(-0.4, y-0.15, y)\n",
    "\n",
    "    plt.vlines(x, 0, y, color='k', linestyle='dotted')\n",
    "    plt.hlines(y, 0, x, color='k', linestyle='dotted' )\n",
    "\n",
    "    plt.xlabel('real')\n",
    "    plt.ylabel('imaginary')\n",
    "    \n",
    "\n",
    "plot_complex([3,4])\n"
   ]
  },
  {
   "cell_type": "markdown",
   "metadata": {},
   "source": [
    "## Exercises"
   ]
  },
  {
   "cell_type": "markdown",
   "metadata": {
    "id": "_Zp0OvfaPiQ1"
   },
   "source": [
    "### Powers of i\n",
    "Find $i^{10}$"
   ]
  },
  {
   "cell_type": "code",
   "execution_count": 19,
   "metadata": {},
   "outputs": [
    {
     "data": {
      "text/plain": [
       "'-1+0i'"
      ]
     },
     "execution_count": 19,
     "metadata": {},
     "output_type": "execute_result"
    }
   ],
   "source": [
    "result = [1,0]\n",
    "for i in range(10):\n",
    "    result = complex_multiply(result, [0,1])\n",
    "\n",
    "complex_str(result)"
   ]
  },
  {
   "cell_type": "code",
   "execution_count": null,
   "metadata": {},
   "outputs": [],
   "source": []
  }
 ],
 "metadata": {
  "colab": {
   "provenance": []
  },
  "kernelspec": {
   "display_name": "Python 3 (ipykernel)",
   "language": "python",
   "name": "python3"
  },
  "language_info": {
   "codemirror_mode": {
    "name": "ipython",
    "version": 3
   },
   "file_extension": ".py",
   "mimetype": "text/x-python",
   "name": "python",
   "nbconvert_exporter": "python",
   "pygments_lexer": "ipython3",
   "version": "3.11.8"
  }
 },
 "nbformat": 4,
 "nbformat_minor": 4
}
