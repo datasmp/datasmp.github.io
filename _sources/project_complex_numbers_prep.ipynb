{
 "cells": [
  {
   "cell_type": "markdown",
   "metadata": {},
   "source": [
    "# Project: Complex Numbers\n",
    "\n",
    "Complex numbers are expressed in the form  $a+bi$ where a and b are real numbers, and i is the imaginary unit defined by $i=\\sqrt{-1}$. \n",
    "\n",
    "In this expression, $a$ is referred to as the real part of the complex number, while $b$ is the imaginary part."
   ]
  },
  {
   "cell_type": "markdown",
   "metadata": {},
   "source": [
    "## Basics"
   ]
  },
  {
   "cell_type": "markdown",
   "metadata": {},
   "source": [
    "### List Representation\n",
    "Complex numbers can also be represented as an ordered pair $[a,b]$, where the first element corresponds to the real part and the second to the imaginary part.\n",
    "\n",
    "$a+bi \\rightarrow [a,b]$"
   ]
  },
  {
   "cell_type": "code",
   "execution_count": 11,
   "metadata": {
    "colab": {
     "base_uri": "https://localhost:8080/"
    },
    "id": "LdMWs4jmHqjz",
    "outputId": "7fe4b599-d9c4-41b0-8ce5-7d127af2d4a9"
   },
   "outputs": [],
   "source": [
    "def complex_list(real, imaginary):\n",
    "    return [real, imaginary]"
   ]
  },
  {
   "cell_type": "code",
   "execution_count": 13,
   "metadata": {},
   "outputs": [
    {
     "name": "stdout",
     "output_type": "stream",
     "text": [
      "[2, 3]\n"
     ]
    }
   ],
   "source": [
    "print(complex_list(2,3))"
   ]
  },
  {
   "cell_type": "markdown",
   "metadata": {},
   "source": [
    "### String Representation\n",
    "Complex numbers can also be represented as strings. \n",
    "\n",
    "- Unlike standard positive numbers, when representing complex numbers with a positive imaginary part, a + sign must be explicitly included between the real and imaginary parts (e.g., \"3+4i\").\n",
    "- However, if the imaginary part is negative, the minus sign is included automatically (e.g., \"3-4i\"), so there is no need to add it manually."
   ]
  },
  {
   "cell_type": "code",
   "execution_count": 15,
   "metadata": {
    "colab": {
     "base_uri": "https://localhost:8080/"
    },
    "id": "-ebJocI8G-kl",
    "outputId": "898c8b9f-7ad7-4429-db06-9845d357e7be"
   },
   "outputs": [],
   "source": [
    "def complex_str(complex_num):\n",
    "    if complex_num[1] >= 0:\n",
    "        return str(complex_num[0]) + '+'  + str(complex_num[1]) + 'i'\n",
    "    else:\n",
    "        return str(complex_num[0]) +  str(complex_num[1]) + 'i'"
   ]
  },
  {
   "cell_type": "code",
   "execution_count": 17,
   "metadata": {},
   "outputs": [
    {
     "data": {
      "text/plain": [
       "'2+3i'"
      ]
     },
     "execution_count": 17,
     "metadata": {},
     "output_type": "execute_result"
    }
   ],
   "source": [
    "complex_str([2,3])"
   ]
  },
  {
   "cell_type": "code",
   "execution_count": 21,
   "metadata": {},
   "outputs": [
    {
     "data": {
      "text/plain": [
       "'2-3i'"
      ]
     },
     "execution_count": 21,
     "metadata": {},
     "output_type": "execute_result"
    }
   ],
   "source": [
    "complex_str([2,-3])"
   ]
  },
  {
   "cell_type": "code",
   "execution_count": 19,
   "metadata": {},
   "outputs": [
    {
     "data": {
      "text/plain": [
       "'2+0i'"
      ]
     },
     "execution_count": 19,
     "metadata": {},
     "output_type": "execute_result"
    }
   ],
   "source": [
    "complex_str([2,0])"
   ]
  },
  {
   "cell_type": "markdown",
   "metadata": {},
   "source": [
    "### Conjugation\n",
    "The conjugate of a complex number has the same real part but the opposite sign of the imaginary part.\n",
    "- Conjugate of $2+3i$ is $2-3i$.\n",
    "- Conjugate of $5-7i$ is $5+7i$."
   ]
  },
  {
   "cell_type": "code",
   "execution_count": 36,
   "metadata": {
    "colab": {
     "base_uri": "https://localhost:8080/"
    },
    "id": "ZKdfajDOMycT",
    "outputId": "d2f236bb-8045-47de-f669-f4d16475b362"
   },
   "outputs": [],
   "source": [
    "def complex_conjugate(complex_num):\n",
    "    return [complex_num[0], -complex_num[1]]"
   ]
  },
  {
   "cell_type": "code",
   "execution_count": 38,
   "metadata": {},
   "outputs": [
    {
     "name": "stdout",
     "output_type": "stream",
     "text": [
      "[2, -3]\n"
     ]
    }
   ],
   "source": [
    "print(complex_conjugate([2,3]))"
   ]
  },
  {
   "cell_type": "code",
   "execution_count": 44,
   "metadata": {},
   "outputs": [
    {
     "name": "stdout",
     "output_type": "stream",
     "text": [
      "[5, 7]\n"
     ]
    }
   ],
   "source": [
    "print(complex_conjugate([5,-7]))"
   ]
  },
  {
   "cell_type": "markdown",
   "metadata": {},
   "source": [
    "## Graphical Representations\n",
    "Complex numbers can be represented on the coordinate plane, where the horizontal axis (x-axis) corresponds to the real part and the vertical axis (y-axis) corresponds to the imaginary part.\n",
    "\n",
    "$a+bi \\rightarrow (a,b)$"
   ]
  },
  {
   "cell_type": "code",
   "execution_count": 60,
   "metadata": {
    "colab": {
     "base_uri": "https://localhost:8080/",
     "height": 430
    },
    "id": "yKeG06G7PiUW",
    "outputId": "889d1d25-7003-4822-92f6-c296f1088425"
   },
   "outputs": [],
   "source": [
    "import matplotlib.pyplot as plt\n",
    "def plot_complex(complex_num):\n",
    "    a, b = complex_num\n",
    "    boundary = max(a, b)+2\n",
    "\n",
    "    plt.vlines(0, -boundary, boundary, color='k' )\n",
    "    plt.hlines(0, -boundary, boundary, color='k' )\n",
    "\n",
    "    plt.plot([0, a], [0, b])\n",
    "    plt.scatter(a, b, c='red', s=50)\n",
    "\n",
    "    plt.text(a+.2, b+.2, complex_str(complex_num))\n",
    "    plt.text(a-0.1, -0.5, a)\n",
    "    plt.text(-0.4, b-0.15, b)\n",
    "\n",
    "    plt.vlines(a, 0, b, color='k', linestyle='dotted')\n",
    "    plt.hlines(b, 0, a, color='k', linestyle='dotted' )\n",
    "\n",
    "    plt.xlabel('real')\n",
    "    plt.ylabel('imaginary')\n",
    "    plt.title(f'Representation of {complex_str(complex_num)} on coordinate plane.')"
   ]
  },
  {
   "cell_type": "code",
   "execution_count": 62,
   "metadata": {},
   "outputs": [
    {
     "data": {
      "image/png": "[encoded data removed]",
      "text/plain": [
       "<Figure size 640x480 with 1 Axes>"
      ]
     },
     "metadata": {},
     "output_type": "display_data"
    }
   ],
   "source": [
    "plot_complex([3,4])"
   ]
  },
  {
   "cell_type": "markdown",
   "metadata": {},
   "source": [
    "### Absolute Value (Modulus)\n",
    "The absolute value (or modulus) of a complex number is the distance between the complex number and the origin in the complex plane.\n",
    "\n",
    "$|a+bi| = \\sqrt{a^2+b^2}$"
   ]
  },
  {
   "cell_type": "code",
   "execution_count": 199,
   "metadata": {
    "colab": {
     "base_uri": "https://localhost:8080/"
    },
    "id": "qZurvg8bNiuA",
    "outputId": "1a4db58c-67a5-4d1c-e5f1-78380d3ec2d8"
   },
   "outputs": [
    {
     "data": {
      "text/plain": [
       "5.0"
      ]
     },
     "execution_count": 199,
     "metadata": {},
     "output_type": "execute_result"
    }
   ],
   "source": [
    "import math\n",
    "\n",
    "def complex_abs(complex_num):\n",
    "    return math.sqrt(complex_num[0]**2 + complex_num[1]**2)\n",
    "\n",
    "complex_abs([3,4])"
   ]
  },
  {
   "cell_type": "markdown",
   "metadata": {},
   "source": [
    "### Quadrants\n",
    "The coordinate plane is divided into four quadrants, each defined by the signs of the $x$ and $y$ coordinates:\n",
    "- First  Quadrant: $x>0,\\,\\, y>0$\n",
    "- Second Quadrant: $x<0,\\,\\, y>0$\n",
    "- Third  Quadrant: $x<0,\\,\\, y<0$\n",
    "- Fourth Quadrant: $x>0,\\,\\, y<0$\n",
    "\n",
    "|Quadrant|x|y|\n",
    "|-|-|-|\n",
    "|First|+|+|\n",
    "|Second|-|+|\n",
    "|Third|-|-|\n",
    "|Fourth|+|-|\n",
    "\n"
   ]
  },
  {
   "cell_type": "code",
   "execution_count": 101,
   "metadata": {},
   "outputs": [
    {
     "data": {
      "image/png": "[encoded data removed]",
      "text/plain": [
       "<Figure size 640x480 with 1 Axes>"
      ]
     },
     "metadata": {},
     "output_type": "display_data"
    }
   ],
   "source": [
    "plt.plot([-5,5], [0,0], c='k')\n",
    "plt.plot([0,0], [-5,5], c='k')\n",
    "\n",
    "plt.text( 1.5, 2.5, 'First Quadrant' )\n",
    "plt.text(-4, 2.5, 'Second Quadrant' )\n",
    "plt.text(-4, -2.5, 'Third Quadrant' )\n",
    "plt.text( 1.5, -2.5, 'Fourth Quadrant' )\n",
    "\n",
    "plt.axis('off');"
   ]
  },
  {
   "cell_type": "code",
   "execution_count": 105,
   "metadata": {},
   "outputs": [],
   "source": [
    "def complex_quadrant(complex_num):\n",
    "    if (complex_num[0] > 0) & (complex_num[1] > 0):\n",
    "        return 1\n",
    "    elif (complex_num[0] < 0) & (complex_num[1] > 0):\n",
    "        return 2\n",
    "    elif (complex_num[0] < 0) & (complex_num[1] < 0):\n",
    "        return 3\n",
    "    elif (complex_num[0] > 0) & (complex_num[1] < 0):\n",
    "        return 4\n",
    "    else:\n",
    "        return 'Not in a quadrant'"
   ]
  },
  {
   "cell_type": "code",
   "execution_count": 107,
   "metadata": {},
   "outputs": [
    {
     "name": "stdout",
     "output_type": "stream",
     "text": [
      "2\n"
     ]
    }
   ],
   "source": [
    "print(complex_quadrant([-2,3]))"
   ]
  },
  {
   "cell_type": "code",
   "execution_count": 109,
   "metadata": {},
   "outputs": [
    {
     "name": "stdout",
     "output_type": "stream",
     "text": [
      "Not in a quadrant\n"
     ]
    }
   ],
   "source": [
    "print(complex_quadrant([-2,0]))"
   ]
  },
  {
   "cell_type": "code",
   "execution_count": 111,
   "metadata": {},
   "outputs": [
    {
     "name": "stdout",
     "output_type": "stream",
     "text": [
      "3\n"
     ]
    }
   ],
   "source": [
    "print(complex_quadrant([-2,-3]) )"
   ]
  },
  {
   "cell_type": "markdown",
   "metadata": {},
   "source": [
    "## Algebraic Operations"
   ]
  },
  {
   "cell_type": "markdown",
   "metadata": {},
   "source": [
    "### Addition\n",
    "The sum of two complex numbers is obtained by adding their real parts and their imaginary parts separately.\n",
    "\n",
    "- $(a + b i) + (c + d i) = (a+c)+(b+d)i $\n",
    "\n",
    "- $[a, b] + [c, d] = [a+c,\\,\\, b+d] $\n",
    "\n",
    "Example: [1,4] + [5,8] = [1+5, 4+8] = [6, 12]"
   ]
  },
  {
   "cell_type": "code",
   "execution_count": 142,
   "metadata": {
    "colab": {
     "base_uri": "https://localhost:8080/"
    },
    "id": "Zhs3liD-HzAU",
    "outputId": "a6cf46f1-4980-43b8-dab1-8e7be0aae068"
   },
   "outputs": [],
   "source": [
    "def complex_add(complex1, complex2):\n",
    "    real = complex1[0]+complex2[0]\n",
    "    imaginary = complex1[1]+complex2[1]\n",
    "    return [real, imaginary ]"
   ]
  },
  {
   "cell_type": "code",
   "execution_count": 144,
   "metadata": {},
   "outputs": [
    {
     "name": "stdout",
     "output_type": "stream",
     "text": [
      "[6, 12]\n"
     ]
    }
   ],
   "source": [
    "print(complex_add([1,4], [5,8]))"
   ]
  },
  {
   "cell_type": "markdown",
   "metadata": {},
   "source": [
    "### Subtraction\n",
    "\n",
    "The difference of two complex numbers is found by subtracting their real parts and their imaginary parts separately.\n",
    "\n",
    "- $(a + b i) - (c + d i) = (a-c)+(b-d)i $\n",
    "\n",
    "- $[a, b] - [c, d] = [a-c,\\,\\, b-d] $\n",
    "\n",
    "Example: [10,4] - [7,8] = [10-7, 4-8] = [3,-4]"
   ]
  },
  {
   "cell_type": "code",
   "execution_count": 147,
   "metadata": {
    "colab": {
     "base_uri": "https://localhost:8080/"
    },
    "id": "E5DsEsUVItQb",
    "outputId": "b5b95984-8671-46d0-f2d7-faaed0c5acae"
   },
   "outputs": [],
   "source": [
    "def complex_subtract(complex1, complex2):\n",
    "    real = complex1[0]-complex2[0]\n",
    "    imaginary = complex1[1]-complex2[1]\n",
    "    return [real, imaginary ]"
   ]
  },
  {
   "cell_type": "code",
   "execution_count": 139,
   "metadata": {},
   "outputs": [
    {
     "name": "stdout",
     "output_type": "stream",
     "text": [
      "[3, -4]\n"
     ]
    }
   ],
   "source": [
    "print(complex_subtract([10,4], [7,8]))"
   ]
  },
  {
   "cell_type": "markdown",
   "metadata": {},
   "source": [
    "### Multiplication\n",
    "The product of two complex numbers is calculated using the distributive property, along with the identity $i^2=-1$.\n",
    "\n",
    "- $(a+bi)\\cdot (c+di) = (ac-bd)+(ad+bc)i$\n",
    "- $[a,b]\\cdot [c,d] = [ac-bd, ad+bc]$\n",
    "\n",
    "Example: $[1,3]\\cdot [2,5] = [1\\cdot 2-3\\cdot 5, 1\\cdot 5 + 2\\cdot 3]= [2-15, 5+6] = [-13, 11]$"
   ]
  },
  {
   "cell_type": "code",
   "execution_count": 157,
   "metadata": {
    "colab": {
     "base_uri": "https://localhost:8080/"
    },
    "id": "Kqq7Ju2iI4Zj",
    "outputId": "98c99e31-a99a-486e-c099-30be11b9265c"
   },
   "outputs": [],
   "source": [
    "def complex_multiply(complex1, complex2):\n",
    "    real = complex1[0]*complex2[0] - complex1[1]*complex2[1]\n",
    "    imaginary = complex1[0]*complex2[1] + complex1[1]*complex2[0]\n",
    "    return [real, imaginary ]"
   ]
  },
  {
   "cell_type": "code",
   "execution_count": 161,
   "metadata": {},
   "outputs": [
    {
     "name": "stdout",
     "output_type": "stream",
     "text": [
      "[-13, 11]\n"
     ]
    }
   ],
   "source": [
    "print(complex_multiply([1,3], [2,5]))"
   ]
  },
  {
   "cell_type": "markdown",
   "metadata": {},
   "source": [
    "### Division\n",
    "\n",
    "Division of complex numbers is performed by multiplying both the numerator and the denominator by the conjugate of the denominator. This process eliminates the imaginary part from the denominator, converting it into a real number.\n",
    "\n",
    "\n",
    "$\\displaystyle \\frac{a+bi}{c+di} = \\frac{(a+bi)\\cdot(c-di)}{(c+di)\\cdot(c-di)}\\frac{(a+bi)\\cdot(c-di)}{|c+di|^2} = \\frac{(a+bi)\\cdot(c-di)}{c^2+d^2} $\n",
    "\n",
    "&nbsp;&emsp;&emsp;&emsp;&nbsp;&nbsp;$ \\displaystyle = \\frac{(ac-bd)+(ad+bc)i}{c^2+d^2} = \\frac{ac-bd}{c^2+d^2}+\\frac{ad+bc}{c^2+d^2}i$\n",
    "\n",
    "- $\\displaystyle \\frac{[a,b]}{[c,d]} = \\frac{[a,b]\\cdot[c,-d]}{[c,d]\\cdot[c,-d]} = \\frac{[ac-bd, ad+bc]}{[c^2+d^2, 0]}= \\left[\\frac{ac-bd}{c^2+d^2}, \\frac{ad+bc}{c^2+d^2}\\right]$\n",
    "\n",
    "Example: $\\displaystyle\\frac{[1,2]}{[3,4]} = \\frac{[1,2]\\cdot[3,-4]}{[3,4]\\cdot[3,-4]} = \\frac{[1\\cdot 3- 2\\cdot (-4),1\\cdot(-4)+2\\cdot 3]}{3^2+(-4)^2}= \\frac{[11,2]}{25} =\\left[\\frac{11}{25}, \\frac{2}{25}\\right] = [0.44, 0.08]$"
   ]
  },
  {
   "cell_type": "code",
   "execution_count": 201,
   "metadata": {
    "colab": {
     "base_uri": "https://localhost:8080/"
    },
    "id": "dwElRhoQJj0b",
    "outputId": "e1a47c9d-302e-405a-db98-029300f7748b"
   },
   "outputs": [],
   "source": [
    "def complex_division(complex1, complex2):\n",
    "    num_list = complex_multiply(complex1, complex_conjugate(complex2))\n",
    "    den = complex_abs(complex2)**2\n",
    "    return [num_list[0]/den, num_list[1]/den ]"
   ]
  },
  {
   "cell_type": "code",
   "execution_count": 203,
   "metadata": {},
   "outputs": [
    {
     "name": "stdout",
     "output_type": "stream",
     "text": [
      "[0.44, 0.08]\n"
     ]
    }
   ],
   "source": [
    "print(complex_division([1,2], [3,4]))"
   ]
  },
  {
   "cell_type": "markdown",
   "metadata": {},
   "source": [
    "### Reciprocal\n",
    "The reciprocal of a complex number is found by dividing 1 by the number.\n",
    "- $\\displaystyle \\frac{1}{[a,b]} = \\frac{[1,0]}{[a,b]}$"
   ]
  },
  {
   "cell_type": "code",
   "execution_count": 206,
   "metadata": {},
   "outputs": [],
   "source": [
    "def complex_reciprocal(complex_num):\n",
    "    return complex_division([1,0], complex_num)"
   ]
  },
  {
   "cell_type": "code",
   "execution_count": 208,
   "metadata": {},
   "outputs": [
    {
     "name": "stdout",
     "output_type": "stream",
     "text": [
      "[0.12, -0.16]\n"
     ]
    }
   ],
   "source": [
    "print(complex_reciprocal([3,4]))"
   ]
  },
  {
   "cell_type": "markdown",
   "metadata": {},
   "source": [
    "### Exponentiation\n",
    "\n",
    "To find the $n$th power of a complex number, multiply the complex number by itself $n$ times."
   ]
  },
  {
   "cell_type": "code",
   "execution_count": 211,
   "metadata": {},
   "outputs": [],
   "source": [
    "def complex_power(complex_num, power):\n",
    "    result = [1,0]\n",
    "    for i in range(power):\n",
    "        result = complex_multiply(result, complex_num)\n",
    "    return result"
   ]
  },
  {
   "cell_type": "code",
   "execution_count": 215,
   "metadata": {},
   "outputs": [
    {
     "name": "stdout",
     "output_type": "stream",
     "text": [
      "[-341525, -145668]\n"
     ]
    }
   ],
   "source": [
    "print(complex_power([2,3], 10))"
   ]
  },
  {
   "cell_type": "markdown",
   "metadata": {
    "id": "_Zp0OvfaPiQ1"
   },
   "source": [
    "Let's find $i^{10}$ using the following fact: \n",
    "- $ i = 0+1i = [0,1]$ "
   ]
  },
  {
   "cell_type": "code",
   "execution_count": 223,
   "metadata": {},
   "outputs": [
    {
     "name": "stdout",
     "output_type": "stream",
     "text": [
      "[-1, 0]\n"
     ]
    }
   ],
   "source": [
    "print(complex_power([0,1], 10))"
   ]
  },
  {
   "cell_type": "markdown",
   "metadata": {},
   "source": [
    "## Future Work"
   ]
  },
  {
   "cell_type": "markdown",
   "metadata": {},
   "source": [
    "Write a Python program that visualizes the powers of a given complex number $a+bi$\n",
    "on the complex plane. The program should:\n",
    "- Take a complex number as a list and an integer $n$\n",
    "- Compute and plot the first $n$ powers of $a+bi: (a+bi)^1, (a+bi)^2, (a+bi)^3,...,(a+bi)^n$  \n",
    "- Display each point on the complex plane and connect them in order to show the trajectory.\n",
    "- Label each point with its power $(a+bi)^1, (a+bi)^2, (a+bi)^3,...,(a+bi)^n$\n"
   ]
  },
  {
   "cell_type": "code",
   "execution_count": null,
   "metadata": {},
   "outputs": [],
   "source": []
  }
 ],
 "metadata": {
  "colab": {
   "provenance": []
  },
  "kernelspec": {
   "display_name": "Python 3 (ipykernel)",
   "language": "python",
   "name": "python3"
  },
  "language_info": {
   "codemirror_mode": {
    "name": "ipython",
    "version": 3
   },
   "file_extension": ".py",
   "mimetype": "text/x-python",
   "name": "python",
   "nbconvert_exporter": "python",
   "pygments_lexer": "ipython3",
   "version": "3.11.8"
  }
 },
 "nbformat": 4,
 "nbformat_minor": 4
}
