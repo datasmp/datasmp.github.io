{
 "cells": [
  {
   "cell_type": "markdown",
   "id": "13e18a7d",
   "metadata": {},
   "source": [
    "# Input and Output  Output\n",
    "- Find the output of the following code. \n",
    "- Please don't run the code before giving your answer. &emsp;&emsp;&emsp;&emsp;"
   ]
  },
  {
   "cell_type": "markdown",
   "id": "03fc8d4d",
   "metadata": {},
   "source": [
    "## Question-1\n"
   ]
  },
  {
   "cell_type": "code",
   "execution_count": 1,
   "id": "676b8223",
   "metadata": {
    "tags": [
     "hide-output"
    ]
   },
   "outputs": [
    {
     "name": "stdout",
     "output_type": "stream",
     "text": [
      "name\n"
     ]
    }
   ],
   "source": [
    "name = 'Liz'\n",
    "print('name')"
   ]
  },
  {
   "cell_type": "markdown",
   "id": "c1aef79d",
   "metadata": {},
   "source": [
    "## Question-2\n"
   ]
  },
  {
   "cell_type": "code",
   "execution_count": 2,
   "id": "166f0c20",
   "metadata": {
    "tags": [
     "hide-output"
    ]
   },
   "outputs": [
    {
     "name": "stdout",
     "output_type": "stream",
     "text": [
      "39\n"
     ]
    }
   ],
   "source": [
    "number = 49\n",
    "print(number-10)"
   ]
  },
  {
   "cell_type": "markdown",
   "id": "1bc72fed",
   "metadata": {},
   "source": [
    "## Question-3\n"
   ]
  },
  {
   "cell_type": "code",
   "execution_count": 3,
   "id": "21b9956f",
   "metadata": {
    "tags": [
     "hide-output"
    ]
   },
   "outputs": [
    {
     "name": "stdout",
     "output_type": "stream",
     "text": [
      "MichaelJordan\n"
     ]
    }
   ],
   "source": [
    "print('Michael'+'Jordan')"
   ]
  },
  {
   "cell_type": "markdown",
   "id": "d0e75b17",
   "metadata": {},
   "source": [
    "## Question-4\n"
   ]
  },
  {
   "cell_type": "code",
   "execution_count": 4,
   "id": "5ecaf019",
   "metadata": {
    "tags": [
     "hide-output"
    ]
   },
   "outputs": [
    {
     "name": "stdout",
     "output_type": "stream",
     "text": [
      "MichaelJordan\n"
     ]
    }
   ],
   "source": [
    "print('Michael'+''+'Jordan')"
   ]
  },
  {
   "cell_type": "markdown",
   "id": "d7c3f824-be45-4baf-a46d-c52af2f597c4",
   "metadata": {},
   "source": [
    "## Question-5\n"
   ]
  },
  {
   "cell_type": "code",
   "execution_count": 8,
   "id": "02eae033",
   "metadata": {
    "tags": [
     "hide-output"
    ]
   },
   "outputs": [
    {
     "name": "stdout",
     "output_type": "stream",
     "text": [
      "Michael Jordan\n"
     ]
    }
   ],
   "source": [
    "print('Michael'+' '+'Jordan')"
   ]
  },
  {
   "cell_type": "markdown",
   "id": "edffd3ac-3761-4d8a-beb0-0a6b9a59ec09",
   "metadata": {},
   "source": [
    "## Question-6\n"
   ]
  },
  {
   "cell_type": "code",
   "execution_count": 9,
   "id": "c4bb44b8",
   "metadata": {
    "tags": [
     "hide-output"
    ]
   },
   "outputs": [
    {
     "name": "stdout",
     "output_type": "stream",
     "text": [
      "Michael Jordan\n"
     ]
    }
   ],
   "source": [
    "print('Michael', 'Jordan')"
   ]
  },
  {
   "cell_type": "markdown",
   "id": "6c41682c",
   "metadata": {},
   "source": [
    "## Question-7\n"
   ]
  },
  {
   "cell_type": "code",
   "execution_count": 6,
   "id": "f2df1610",
   "metadata": {
    "tags": [
     "hide-output"
    ]
   },
   "outputs": [
    {
     "name": "stdout",
     "output_type": "stream",
     "text": [
      "I amageyears old.\n"
     ]
    }
   ],
   "source": [
    "age = 25\n",
    "print('I am' +'age'+'years old.')"
   ]
  },
  {
   "cell_type": "markdown",
   "id": "68dab687",
   "metadata": {},
   "source": [
    "## Question-8\n"
   ]
  },
  {
   "cell_type": "code",
   "execution_count": 7,
   "id": "ccb951b3",
   "metadata": {
    "tags": [
     "hide-output"
    ]
   },
   "outputs": [
    {
     "name": "stdout",
     "output_type": "stream",
     "text": [
      "I am25years old.\n"
     ]
    }
   ],
   "source": [
    "age = 25\n",
    "print('I am' +str(age)+'years old.')"
   ]
  },
  {
   "cell_type": "markdown",
   "id": "a18c4075-cc73-4386-9c43-d2b9c9d8da66",
   "metadata": {},
   "source": [
    "## Question-9\n"
   ]
  },
  {
   "cell_type": "code",
   "execution_count": 5,
   "id": "5f53bfff",
   "metadata": {
    "tags": [
     "hide-output"
    ]
   },
   "outputs": [
    {
     "name": "stdout",
     "output_type": "stream",
     "text": [
      "I have 15 apple s.\n"
     ]
    }
   ],
   "source": [
    "x = 5\n",
    "y = 'apple'\n",
    "print('I have', 20-x, y,'s.')"
   ]
  },
  {
   "cell_type": "markdown",
   "id": "43128390-cb05-4c52-8171-395614d7064e",
   "metadata": {},
   "source": [
    "## Question-10\n"
   ]
  },
  {
   "cell_type": "markdown",
   "id": "26bab5cc-9e62-4315-96fb-6ef356de12d5",
   "metadata": {
    "tags": [
     "hide-output"
    ]
   },
   "source": [
    "``` python\n",
    "number = input('What is your favorite number: ')\n",
    "print('number')\n",
    "```"
   ]
  },
  {
   "cell_type": "markdown",
   "id": "788527d8-1bd1-4924-8810-1816809d4d3b",
   "metadata": {},
   "source": [
    "```{admonition} Solution\n",
    ":class: toggle\n",
    "number"
   ]
  },
  {
   "cell_type": "markdown",
   "id": "6d11666c-4d66-432f-ac94-e122d84679d4",
   "metadata": {},
   "source": [
    "## Question-11\n"
   ]
  },
  {
   "cell_type": "code",
   "execution_count": 16,
   "id": "9e5b64af-58cf-4524-b661-7501e9c3560d",
   "metadata": {
    "tags": [
     "hide-output"
    ]
   },
   "outputs": [
    {
     "name": "stdout",
     "output_type": "stream",
     "text": [
      "Hel\n",
      "lo\n"
     ]
    }
   ],
   "source": [
    "print('Hel\\nlo')"
   ]
  },
  {
   "cell_type": "markdown",
   "id": "bf95ac5d-b075-488e-b4ad-cddb85d56ffe",
   "metadata": {},
   "source": [
    "## Question-12\n"
   ]
  },
  {
   "cell_type": "code",
   "execution_count": 17,
   "id": "3741066f-f630-4736-b24f-666e19d3d6d5",
   "metadata": {
    "tags": [
     "hide-output"
    ]
   },
   "outputs": [
    {
     "name": "stdout",
     "output_type": "stream",
     "text": [
      "Hel\tlo\n"
     ]
    }
   ],
   "source": [
    "print('Hel\\tlo')"
   ]
  },
  {
   "cell_type": "markdown",
   "id": "259dafdd-411f-4ef6-985d-3b726345ca31",
   "metadata": {},
   "source": [
    "## Question-13\n"
   ]
  },
  {
   "cell_type": "code",
   "execution_count": 18,
   "id": "35b5f096-5508-4f02-a14d-004aedea6f53",
   "metadata": {
    "tags": [
     "hide-output"
    ]
   },
   "outputs": [
    {
     "name": "stdout",
     "output_type": "stream",
     "text": [
      "Helo\n"
     ]
    }
   ],
   "source": [
    "print('Hel\\blo')"
   ]
  },
  {
   "cell_type": "markdown",
   "id": "f76a7680-3f89-4808-890b-baccab311742",
   "metadata": {},
   "source": [
    "## Question-14\n"
   ]
  },
  {
   "cell_type": "code",
   "execution_count": 19,
   "id": "78960494-cd86-4d40-8a83-a0c576e6e657",
   "metadata": {
    "tags": [
     "hide-output"
    ]
   },
   "outputs": [
    {
     "name": "stdout",
     "output_type": "stream",
     "text": [
      "TAS\n"
     ]
    }
   ],
   "source": [
    "print('TEX\\b\\bAS')"
   ]
  },
  {
   "cell_type": "markdown",
   "id": "0f01963e-62f0-4a6c-92ad-957e03c83304",
   "metadata": {},
   "source": [
    "## Question-15\n"
   ]
  },
  {
   "cell_type": "code",
   "execution_count": 20,
   "id": "4bb7541f-fa4e-48c2-80ed-8849ed91482c",
   "metadata": {
    "tags": [
     "hide-output"
    ]
   },
   "outputs": [
    {
     "name": "stdout",
     "output_type": "stream",
     "text": [
      "CA\n",
      "LIFO\tRIA\n"
     ]
    }
   ],
   "source": [
    "print('CA\\nLIFO\\tRN\\bIA')"
   ]
  },
  {
   "cell_type": "markdown",
   "id": "44eaf76f-d22b-4a13-9aca-3960c0241c63",
   "metadata": {},
   "source": [
    "## Question-16\n"
   ]
  },
  {
   "cell_type": "code",
   "execution_count": 11,
   "id": "989a889c-7987-4c55-a2f8-9b870c72cbaf",
   "metadata": {
    "tags": [
     "hide-output"
    ]
   },
   "outputs": [
    {
     "name": "stdout",
     "output_type": "stream",
     "text": [
      "57\n"
     ]
    }
   ],
   "source": [
    "x = '5'\n",
    "y = '7'\n",
    "print(x+y)"
   ]
  },
  {
   "cell_type": "markdown",
   "id": "d5ea37fd-ae73-4414-a3df-c1f2fc938df2",
   "metadata": {},
   "source": [
    "## Question-17\n"
   ]
  },
  {
   "cell_type": "code",
   "execution_count": 12,
   "id": "5cb2d612-4a0a-4e93-8b8b-3482289c84a4",
   "metadata": {
    "tags": [
     "hide-output"
    ]
   },
   "outputs": [
    {
     "name": "stdout",
     "output_type": "stream",
     "text": [
      "H++2++3++BYE\n"
     ]
    }
   ],
   "source": [
    "print('H',2,3,'BYE', sep='++')"
   ]
  },
  {
   "cell_type": "markdown",
   "id": "9185476c-d8f4-4580-a738-dcd6d4cbe38f",
   "metadata": {},
   "source": [
    "## Question-18\n"
   ]
  },
  {
   "cell_type": "code",
   "execution_count": 13,
   "id": "6665fcbe-1998-48b8-818e-ad95d889518c",
   "metadata": {
    "tags": [
     "hide-output"
    ]
   },
   "outputs": [
    {
     "name": "stdout",
     "output_type": "stream",
     "text": [
      "H++2++3++BYE\n"
     ]
    }
   ],
   "source": [
    "print('H',2,3,'BYE', sep='++')"
   ]
  },
  {
   "cell_type": "markdown",
   "id": "7267a12b-52f0-4e5f-9544-cfe3071e5bab",
   "metadata": {},
   "source": [
    "## Question-19\n"
   ]
  },
  {
   "cell_type": "code",
   "execution_count": 14,
   "id": "541fc0b0-9190-4f3a-a66c-05d7f9609d79",
   "metadata": {
    "tags": [
     "hide-output"
    ]
   },
   "outputs": [
    {
     "name": "stdout",
     "output_type": "stream",
     "text": [
      "A\n",
      "B--C\n",
      "D??E\n"
     ]
    }
   ],
   "source": [
    "print('A')\n",
    "print('B', end='--')\n",
    "print('C')\n",
    "print('D', end='??')\n",
    "print('E')"
   ]
  },
  {
   "cell_type": "markdown",
   "id": "78863784-7ace-425c-8403-38e74854a330",
   "metadata": {},
   "source": [
    "## Question-20\n"
   ]
  },
  {
   "cell_type": "code",
   "execution_count": 15,
   "id": "28ca1f60-3084-4022-beff-53d02f158a4f",
   "metadata": {
    "tags": [
     "hide-output"
    ]
   },
   "outputs": [
    {
     "name": "stdout",
     "output_type": "stream",
     "text": [
      "A8A8AKB--BLC\n",
      "D\n"
     ]
    }
   ],
   "source": [
    "print('A', 'A', 'A', sep='8', end='K')\n",
    "print('B', 'B', sep='--', end='L')\n",
    "print('C')\n",
    "print('D')"
   ]
  },
  {
   "cell_type": "code",
   "execution_count": null,
   "id": "632a7c97-2339-4b18-9736-bb3e3539fd85",
   "metadata": {},
   "outputs": [],
   "source": []
  }
 ],
 "metadata": {
  "celltoolbar": "Tags",
  "hide_input": false,
  "kernelspec": {
   "display_name": "Python 3 (ipykernel)",
   "language": "python",
   "name": "python3"
  },
  "language_info": {
   "codemirror_mode": {
    "name": "ipython",
    "version": 3
   },
   "file_extension": ".py",
   "mimetype": "text/x-python",
   "name": "python",
   "nbconvert_exporter": "python",
   "pygments_lexer": "ipython3",
   "version": "3.11.7"
  },
  "toc": {
   "base_numbering": 1,
   "nav_menu": {},
   "number_sections": true,
   "sideBar": true,
   "skip_h1_title": false,
   "title_cell": "Table of Contents",
   "title_sidebar": "Contents",
   "toc_cell": false,
   "toc_position": {},
   "toc_section_display": true,
   "toc_window_display": false
  }
 },
 "nbformat": 4,
 "nbformat_minor": 5
}
