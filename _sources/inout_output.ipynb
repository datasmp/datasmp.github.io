{
 "cells": [
  {
   "cell_type": "markdown",
   "id": "13e18a7d",
   "metadata": {},
   "source": [
    "# Input and Output  Output\n",
    "![Section Title: IO Output](title_pict/io_output2.png)\n",
    "- Find the output of the following code. \n",
    "- Please don't run the code before giving your answer. &emsp;&emsp;&emsp;&emsp;"
   ]
  },
  {
   "cell_type": "markdown",
   "id": "03fc8d4d",
   "metadata": {},
   "source": [
    "## Question-1\n"
   ]
  },
  {
   "cell_type": "markdown",
   "id": "36bab0e3-3951-4120-824e-efc24bd9d5cf",
   "metadata": {
    "tags": [
     "hide-output"
    ]
   },
   "source": [
    "``` python\n",
    "name = 'Liz'\n",
    "print('name')"
   ]
  },
  {
   "cell_type": "markdown",
   "id": "1545ed64-7b92-4ced-9dcd-f8a40c333d97",
   "metadata": {},
   "source": [
    "```{admonition} Solution\n",
    ":class: toggle\n",
    "\n",
    "name"
   ]
  },
  {
   "cell_type": "markdown",
   "id": "c1aef79d",
   "metadata": {},
   "source": [
    "## Question-2\n"
   ]
  },
  {
   "cell_type": "markdown",
   "id": "366a6dde-4df5-4c0c-ab52-74c467b90634",
   "metadata": {
    "tags": [
     "hide-output"
    ]
   },
   "source": [
    "``` python\n",
    "number = 49\n",
    "print(number-10)"
   ]
  },
  {
   "cell_type": "markdown",
   "id": "bdffb0b8-a6e6-432f-bb9b-90b73f5761df",
   "metadata": {},
   "source": [
    "```{admonition} Solution\n",
    ":class: toggle\n",
    "\n",
    "39"
   ]
  },
  {
   "cell_type": "markdown",
   "id": "1bc72fed",
   "metadata": {},
   "source": [
    "## Question-3\n"
   ]
  },
  {
   "cell_type": "markdown",
   "id": "a5e8eac8-7873-4502-8cfd-bfce7d1d5879",
   "metadata": {
    "tags": [
     "hide-output"
    ]
   },
   "source": [
    "``` python\n",
    "print('Michael'+'Jordan')"
   ]
  },
  {
   "cell_type": "markdown",
   "id": "5d455820-0b8b-4f79-9d39-43fd8105b698",
   "metadata": {},
   "source": [
    "```{admonition} Solution\n",
    ":class: toggle\n",
    "\n",
    "MichaelJordan"
   ]
  },
  {
   "cell_type": "markdown",
   "id": "d0e75b17",
   "metadata": {},
   "source": [
    "## Question-4\n"
   ]
  },
  {
   "cell_type": "markdown",
   "id": "f184307d-b485-441f-9c96-6c3bffefd1e5",
   "metadata": {
    "tags": [
     "hide-output"
    ]
   },
   "source": [
    "``` python\n",
    "print('Michael'+''+'Jordan')"
   ]
  },
  {
   "cell_type": "markdown",
   "id": "bc5f324a-bcfe-4325-bfcf-79a9b3abd8b2",
   "metadata": {},
   "source": [
    "```{admonition} Solution\n",
    ":class: toggle\n",
    "\n",
    "MichaelJordan"
   ]
  },
  {
   "cell_type": "markdown",
   "id": "d7c3f824-be45-4baf-a46d-c52af2f597c4",
   "metadata": {},
   "source": [
    "## Question-5\n"
   ]
  },
  {
   "cell_type": "markdown",
   "id": "a473b7ea-15ab-4753-b0ef-1f0f8cf11b46",
   "metadata": {
    "tags": [
     "hide-output"
    ]
   },
   "source": [
    "``` python\n",
    "print('Michael'+' '+'Jordan')"
   ]
  },
  {
   "cell_type": "markdown",
   "id": "24658d8b-1495-462a-8797-0b194675863a",
   "metadata": {},
   "source": [
    "```{admonition} Solution\n",
    ":class: toggle\n",
    "\n",
    "Michael Jordan"
   ]
  },
  {
   "cell_type": "markdown",
   "id": "edffd3ac-3761-4d8a-beb0-0a6b9a59ec09",
   "metadata": {},
   "source": [
    "## Question-6\n"
   ]
  },
  {
   "cell_type": "markdown",
   "id": "4676dd1f-c707-43b1-a997-909570a939d7",
   "metadata": {
    "tags": [
     "hide-output"
    ]
   },
   "source": [
    "``` python\n",
    "print('Michael', 'Jordan')"
   ]
  },
  {
   "cell_type": "markdown",
   "id": "8caa03f2-4c1e-41d6-b325-4734781421a4",
   "metadata": {},
   "source": [
    "```{admonition} Solution\n",
    ":class: toggle\n",
    "\n",
    "Michael Jordan"
   ]
  },
  {
   "cell_type": "markdown",
   "id": "6c41682c",
   "metadata": {},
   "source": [
    "## Question-7\n"
   ]
  },
  {
   "cell_type": "markdown",
   "id": "6ae24785-cee5-490a-8203-dc2f11571b78",
   "metadata": {
    "tags": [
     "hide-output"
    ]
   },
   "source": [
    "``` python\n",
    "age = 25\n",
    "print('I am' +'age'+'years old.')"
   ]
  },
  {
   "cell_type": "markdown",
   "id": "ad10ad81-f1b0-4407-9e09-34cd33fdfbeb",
   "metadata": {},
   "source": [
    "```{admonition} Solution\n",
    ":class: toggle\n",
    "\n",
    "I amageyears old."
   ]
  },
  {
   "cell_type": "markdown",
   "id": "68dab687",
   "metadata": {},
   "source": [
    "## Question-8"
   ]
  },
  {
   "cell_type": "markdown",
   "id": "1f02c3a9-b4cd-4a96-b0c6-7e1d4988f47a",
   "metadata": {
    "tags": [
     "hide-output"
    ]
   },
   "source": [
    "``` python\n",
    "age = 25\n",
    "print('I am' +str(age)+'years old.')"
   ]
  },
  {
   "cell_type": "markdown",
   "id": "900633de-d073-4ab0-baf0-4752ea5cc867",
   "metadata": {},
   "source": [
    "```{admonition} Solution\n",
    ":class: toggle\n",
    "\n",
    "I am25years old."
   ]
  },
  {
   "cell_type": "markdown",
   "id": "a18c4075-cc73-4386-9c43-d2b9c9d8da66",
   "metadata": {},
   "source": [
    "## Question-9\n"
   ]
  },
  {
   "cell_type": "markdown",
   "id": "47f11d4f-48a1-4c69-97b9-41630cec7448",
   "metadata": {
    "tags": [
     "hide-output"
    ]
   },
   "source": [
    "``` python\n",
    "x = 5\n",
    "y = 'apple'\n",
    "print('I have', 20-x, y,'s.')"
   ]
  },
  {
   "cell_type": "markdown",
   "id": "4b1edfbc-aec8-4cb6-b6f5-f2bb87d685ac",
   "metadata": {},
   "source": [
    "```{admonition} Solution\n",
    ":class: toggle\n",
    "\n",
    "I have 15 apple s."
   ]
  },
  {
   "cell_type": "markdown",
   "id": "43128390-cb05-4c52-8171-395614d7064e",
   "metadata": {},
   "source": [
    "## Question-10\n"
   ]
  },
  {
   "cell_type": "markdown",
   "id": "26bab5cc-9e62-4315-96fb-6ef356de12d5",
   "metadata": {
    "tags": [
     "hide-output"
    ]
   },
   "source": [
    "``` python\n",
    "number = input('What is your favorite number: ')\n",
    "print('number')\n",
    "```"
   ]
  },
  {
   "cell_type": "markdown",
   "id": "788527d8-1bd1-4924-8810-1816809d4d3b",
   "metadata": {},
   "source": [
    "```{admonition} Solution\n",
    ":class: toggle\n",
    "number"
   ]
  },
  {
   "cell_type": "markdown",
   "id": "6d11666c-4d66-432f-ac94-e122d84679d4",
   "metadata": {},
   "source": [
    "## Question-11\n"
   ]
  },
  {
   "cell_type": "markdown",
   "id": "04292608-116f-482b-b800-3c1a16d01638",
   "metadata": {
    "tags": [
     "hide-output"
    ]
   },
   "source": [
    "``` python\n",
    "print('Hel\\nlo')"
   ]
  },
  {
   "cell_type": "markdown",
   "id": "d5db5b32-446d-47a6-a229-7fe55fe53a44",
   "metadata": {},
   "source": [
    "```{admonition} Solution\n",
    ":class: toggle\n",
    "\n",
    "Hel  \n",
    "lo"
   ]
  },
  {
   "cell_type": "markdown",
   "id": "bf95ac5d-b075-488e-b4ad-cddb85d56ffe",
   "metadata": {},
   "source": [
    "## Question-12\n"
   ]
  },
  {
   "cell_type": "markdown",
   "id": "503560bf-bc63-4461-9754-8946aaed040d",
   "metadata": {
    "tags": [
     "hide-output"
    ]
   },
   "source": [
    "``` python\n",
    "print('Hel\\tlo')"
   ]
  },
  {
   "cell_type": "markdown",
   "id": "d6801d85-12aa-4648-bd50-755878dc91cb",
   "metadata": {},
   "source": [
    "```{admonition} Solution\n",
    ":class: toggle\n",
    "\n",
    "Hel&ensp;&ensp;&ensp;&ensp;lo\n"
   ]
  },
  {
   "cell_type": "markdown",
   "id": "259dafdd-411f-4ef6-985d-3b726345ca31",
   "metadata": {},
   "source": [
    "## Question-13\n"
   ]
  },
  {
   "cell_type": "markdown",
   "id": "7896bf53-2378-4dbc-9226-4ff24096c8b5",
   "metadata": {
    "tags": [
     "hide-output"
    ]
   },
   "source": [
    "``` python\n",
    "print('Hel\\blo')\n",
    "```"
   ]
  },
  {
   "cell_type": "markdown",
   "id": "335ba20c-3b03-40fa-875c-7382cce51cf5",
   "metadata": {},
   "source": [
    "```{admonition} Solution\n",
    ":class: toggle\n",
    "Helo"
   ]
  },
  {
   "cell_type": "markdown",
   "id": "f76a7680-3f89-4808-890b-baccab311742",
   "metadata": {},
   "source": [
    "## Question-14\n"
   ]
  },
  {
   "cell_type": "markdown",
   "id": "1b1e1758-580f-4db4-a4a1-7ec72d239d62",
   "metadata": {
    "tags": [
     "hide-output"
    ]
   },
   "source": [
    "``` python\n",
    "print('TEX\\b\\bAS')\n",
    "```"
   ]
  },
  {
   "cell_type": "markdown",
   "id": "55173b9d-c8b9-4811-870b-923e55909a31",
   "metadata": {},
   "source": [
    "```{admonition} Solution\n",
    ":class: toggle\n",
    "TAS"
   ]
  },
  {
   "cell_type": "markdown",
   "id": "0f01963e-62f0-4a6c-92ad-957e03c83304",
   "metadata": {},
   "source": [
    "## Question-15\n"
   ]
  },
  {
   "cell_type": "markdown",
   "id": "4b2e3ecf-042f-49c0-8a9c-0585bbd216d5",
   "metadata": {
    "tags": [
     "hide-output"
    ]
   },
   "source": [
    "``` python\n",
    "print('CA\\nLIFO\\tRN\\bIA')\n",
    "```"
   ]
  },
  {
   "cell_type": "markdown",
   "id": "c77c1cb9-7534-4174-9841-768f9bafde7d",
   "metadata": {},
   "source": [
    "```{admonition} Solution\n",
    ":class: toggle\n",
    "CA     \n",
    "LIFO&nbsp;&nbsp;&nbsp;&nbsp;\tRIA"
   ]
  },
  {
   "cell_type": "markdown",
   "id": "44eaf76f-d22b-4a13-9aca-3960c0241c63",
   "metadata": {},
   "source": [
    "## Question-16\n"
   ]
  },
  {
   "cell_type": "markdown",
   "id": "8b768a74-84c2-4b00-8850-23d03648af84",
   "metadata": {
    "tags": [
     "hide-output"
    ]
   },
   "source": [
    "``` python\n",
    "x = '5'\n",
    "y = '7'\n",
    "print(x+y)"
   ]
  },
  {
   "cell_type": "markdown",
   "id": "11a1f5da-22af-4dad-87d7-01ca406d4290",
   "metadata": {},
   "source": [
    "```{admonition} Solution\n",
    ":class: toggle\n",
    "\n",
    "57"
   ]
  },
  {
   "cell_type": "markdown",
   "id": "d5ea37fd-ae73-4414-a3df-c1f2fc938df2",
   "metadata": {},
   "source": [
    "## Question-17\n"
   ]
  },
  {
   "cell_type": "markdown",
   "id": "aff42e3b-9dea-46fb-9b09-05bcffcba6d0",
   "metadata": {
    "tags": [
     "hide-output"
    ]
   },
   "source": [
    "``` python\n",
    "print('H',2,3,'BYE', sep='++')"
   ]
  },
  {
   "cell_type": "markdown",
   "id": "6d521c5f-81c1-44c1-b90b-00eb0ed8189f",
   "metadata": {},
   "source": [
    "```{admonition} Solution\n",
    ":class: toggle\n",
    "\n",
    "H++2++3++BYE"
   ]
  },
  {
   "cell_type": "markdown",
   "id": "9185476c-d8f4-4580-a738-dcd6d4cbe38f",
   "metadata": {},
   "source": [
    "## Question-18\n"
   ]
  },
  {
   "cell_type": "markdown",
   "id": "03c4a562-4115-4c6e-8e04-f4d38d2aa84f",
   "metadata": {
    "tags": [
     "hide-output"
    ]
   },
   "source": [
    "``` python\n",
    "print('H',2,3,'BYE', sep='xxxx', end='?')"
   ]
  },
  {
   "cell_type": "markdown",
   "id": "34e89e83-2d7d-4d11-bf96-7464516b7052",
   "metadata": {},
   "source": [
    "```{admonition} Solution\n",
    ":class: toggle\n",
    "\n",
    "Hxxxx2xxxx3xxxxBYE?"
   ]
  },
  {
   "cell_type": "markdown",
   "id": "7267a12b-52f0-4e5f-9544-cfe3071e5bab",
   "metadata": {},
   "source": [
    "## Question-19\n"
   ]
  },
  {
   "cell_type": "markdown",
   "id": "1d9e0bb8-bdcf-4876-9eb2-06c6e9900340",
   "metadata": {
    "tags": [
     "hide-output"
    ]
   },
   "source": [
    "``` python\n",
    "print('A')\n",
    "print('B', end='--')\n",
    "print('C')\n",
    "print('D', end='??')\n",
    "print('E')"
   ]
  },
  {
   "cell_type": "markdown",
   "id": "c8d364e8-83d3-41f0-a7e8-6e8f8a83537e",
   "metadata": {},
   "source": [
    "```{admonition} Solution\n",
    ":class: toggle\n",
    "\n",
    "A  \n",
    "B--C  \n",
    "D??E"
   ]
  },
  {
   "cell_type": "markdown",
   "id": "78863784-7ace-425c-8403-38e74854a330",
   "metadata": {},
   "source": [
    "## Question-20\n"
   ]
  },
  {
   "cell_type": "markdown",
   "id": "944e4323-4a3f-4205-813f-b65452f2c5a3",
   "metadata": {
    "tags": [
     "hide-output"
    ]
   },
   "source": [
    "``` python\n",
    "print('A', 'A', 'A', sep='8', end='K')\n",
    "print('B', 'B', sep='--', end='L')\n",
    "print('C')\n",
    "print('D')"
   ]
  },
  {
   "cell_type": "markdown",
   "id": "9f91b275-bf76-4a46-8164-565f57dd0bbb",
   "metadata": {},
   "source": [
    "```{admonition} Solution\n",
    ":class: toggle\n",
    "\n",
    "A8A8AKB--BLC  \n",
    "D"
   ]
  },
  {
   "cell_type": "code",
   "execution_count": null,
   "id": "632a7c97-2339-4b18-9736-bb3e3539fd85",
   "metadata": {},
   "outputs": [],
   "source": []
  }
 ],
 "metadata": {
  "celltoolbar": "Tags",
  "hide_input": false,
  "kernelspec": {
   "display_name": "Python 3 (ipykernel)",
   "language": "python",
   "name": "python3"
  },
  "language_info": {
   "codemirror_mode": {
    "name": "ipython",
    "version": 3
   },
   "file_extension": ".py",
   "mimetype": "text/x-python",
   "name": "python",
   "nbconvert_exporter": "python",
   "pygments_lexer": "ipython3",
   "version": "3.11.8"
  },
  "toc": {
   "base_numbering": 1,
   "nav_menu": {},
   "number_sections": true,
   "sideBar": true,
   "skip_h1_title": false,
   "title_cell": "Table of Contents",
   "title_sidebar": "Contents",
   "toc_cell": false,
   "toc_position": {},
   "toc_section_display": true,
   "toc_window_display": false
  }
 },
 "nbformat": 4,
 "nbformat_minor": 5
}
