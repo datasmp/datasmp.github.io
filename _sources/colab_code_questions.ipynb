{
 "cells": [
  {
   "cell_type": "markdown",
   "id": "5b29ae64-53cc-4400-a7a3-1e42317dab0b",
   "metadata": {},
   "source": [
    "# Code Cell Questions"
   ]
  },
  {
   "cell_type": "markdown",
   "id": "f11821fa-50b7-48dd-9c9c-f065c369602d",
   "metadata": {},
   "source": [
    "## Questions\n",
    "\n",
    "Perform each of the following algebraic operations in a separate code cell:\n",
    "- 20 - 3\n",
    "- 72 + 34\n",
    "- $46 \\div 4$\n",
    "- $4 \\times 12$\n",
    "- $5^3$\n",
    "\n",
    "\n",
    "\n",
    "**Solution**"
   ]
  },
  {
   "cell_type": "code",
   "execution_count": 1,
   "id": "fc8b8ce9-6056-4532-be1c-f117be43e3f0",
   "metadata": {
    "tags": [
     "hide-cell"
    ]
   },
   "outputs": [
    {
     "name": "stdout",
     "output_type": "stream",
     "text": [
      "17\n"
     ]
    }
   ],
   "source": [
    "print(20-3)"
   ]
  },
  {
   "cell_type": "code",
   "execution_count": 2,
   "id": "8c05deda-d7b6-4743-9403-10b9e8efebe1",
   "metadata": {
    "tags": [
     "hide-cell"
    ]
   },
   "outputs": [
    {
     "name": "stdout",
     "output_type": "stream",
     "text": [
      "106\n"
     ]
    }
   ],
   "source": [
    "print(72+34)\n"
   ]
  },
  {
   "cell_type": "code",
   "execution_count": 3,
   "id": "4971db04-e480-40f8-a460-87668c2feff3",
   "metadata": {
    "tags": [
     "hide-cell"
    ]
   },
   "outputs": [
    {
     "name": "stdout",
     "output_type": "stream",
     "text": [
      "11.5\n"
     ]
    }
   ],
   "source": [
    "print(46/4)\n"
   ]
  },
  {
   "cell_type": "code",
   "execution_count": 4,
   "id": "01f5711d-7491-42a0-a938-340d90a64a15",
   "metadata": {
    "tags": [
     "hide-cell"
    ]
   },
   "outputs": [
    {
     "name": "stdout",
     "output_type": "stream",
     "text": [
      "48\n"
     ]
    }
   ],
   "source": [
    "print(4*12)\n"
   ]
  },
  {
   "cell_type": "code",
   "execution_count": 5,
   "id": "e9b91759-6047-4cfe-9a46-c5a64693d0c8",
   "metadata": {
    "tags": [
     "hide-cell"
    ]
   },
   "outputs": [
    {
     "name": "stdout",
     "output_type": "stream",
     "text": [
      "125\n"
     ]
    }
   ],
   "source": [
    "print(5**3)"
   ]
  },
  {
   "cell_type": "markdown",
   "id": "51ad441f-bf75-46e8-8fda-085f33ea4db8",
   "metadata": {
    "tags": [
     "hide-cell"
    ]
   },
   "source": [
    "## Question\n",
    "Find the difference between the maximum and minumum of the following numbers:  $65, 23, 1, 2, 3, 90, 99, 12, 34, 67$ using the built-in  *max()* and *min()* functions.\n",
    "\n",
    "\n",
    "**Solution**"
   ]
  },
  {
   "cell_type": "code",
   "execution_count": 6,
   "id": "9ca2906a-43be-45db-baab-2448d6ba2677",
   "metadata": {
    "tags": [
     "hide-cell"
    ]
   },
   "outputs": [
    {
     "name": "stdout",
     "output_type": "stream",
     "text": [
      "98\n"
     ]
    }
   ],
   "source": [
    "print(max(65, 23, 1, 2, 3, 90, 99, 12, 34, 67)-min(65, 23, 1, 2, 3, 90, 99, 12, 34, 67))"
   ]
  },
  {
   "cell_type": "markdown",
   "id": "f38a8e57-c309-4466-9ae7-e844b67bd0bf",
   "metadata": {},
   "source": [
    "## Question\n",
    "Print the string 'Python' five times using string repetition.\"\n",
    "\n",
    "**Solution**"
   ]
  },
  {
   "cell_type": "code",
   "execution_count": 7,
   "id": "3844817c-5aba-48d5-a322-ab30c3b76994",
   "metadata": {
    "tags": [
     "hide-cell"
    ]
   },
   "outputs": [
    {
     "name": "stdout",
     "output_type": "stream",
     "text": [
      "PythonPythonPythonPythonPython\n"
     ]
    }
   ],
   "source": [
    "print('Python'*5)"
   ]
  },
  {
   "cell_type": "markdown",
   "id": "2f2eb35c-af62-483e-92e7-7c79f8939f81",
   "metadata": {},
   "source": [
    "## Question\n",
    "\n",
    "Print the mean, median, mode, and standard deviation of the following list of numbers: $[12, 3, 12, 9, 7, 3, 25, 6]$, using the statistics module. \n",
    "- You can refer to the available functions in the statistics module using *dir(statistics)* or *help(statistics)*.\n",
    "   \n",
    "\n",
    "**Solution**"
   ]
  },
  {
   "cell_type": "code",
   "execution_count": 8,
   "id": "99d1cbd5-e721-4b34-b021-985413e40ba6",
   "metadata": {
    "tags": [
     "hide-cell"
    ]
   },
   "outputs": [
    {
     "name": "stdout",
     "output_type": "stream",
     "text": [
      "9.625\n",
      "8.0\n",
      "12\n",
      "6.66966078597705\n",
      "7.130167299179291\n"
     ]
    }
   ],
   "source": [
    "import statistics\n",
    "\n",
    "print(statistics.mean([12, 3, 12, 9, 7, 3, 25,6]))\n",
    "print(statistics.median([12, 3, 12, 9, 7, 3, 25,6]))\n",
    "print(statistics.mode([12, 3, 12, 9, 7, 3, 25,6]))\n",
    "print(statistics.pstdev([12, 3, 12, 9, 7, 3, 25,6]))    # population std\n",
    "print(statistics.stdev([12, 3, 12, 9, 7, 3, 25,6]))     # sample std"
   ]
  },
  {
   "cell_type": "markdown",
   "id": "678da6bb-9e86-45bd-972c-ade2ccd020aa",
   "metadata": {},
   "source": [
    "## Question\n",
    "Print the square root of 75 using the *math*, *statistics* and *numpy* modules.\n",
    "\n",
    "**Solution**"
   ]
  },
  {
   "cell_type": "code",
   "execution_count": 9,
   "id": "064ed357-2477-43d1-8758-36ab14baf626",
   "metadata": {
    "tags": [
     "hide-cell"
    ]
   },
   "outputs": [
    {
     "name": "stdout",
     "output_type": "stream",
     "text": [
      "8.660254037844387\n",
      "8.660254037844387\n",
      "8.660254037844387\n"
     ]
    }
   ],
   "source": [
    "import math, statistics, numpy\n",
    "\n",
    "print(math.sqrt(75))\n",
    "print(statistics.sqrt(75))\n",
    "print(numpy.sqrt(75))"
   ]
  },
  {
   "cell_type": "code",
   "execution_count": null,
   "id": "088fb0d1-c477-4f0b-9a2c-9eea6c8669f6",
   "metadata": {},
   "outputs": [],
   "source": []
  }
 ],
 "metadata": {
  "celltoolbar": "Tags",
  "hide_input": false,
  "kernelspec": {
   "display_name": "Python 3 (ipykernel)",
   "language": "python",
   "name": "python3"
  },
  "language_info": {
   "codemirror_mode": {
    "name": "ipython",
    "version": 3
   },
   "file_extension": ".py",
   "mimetype": "text/x-python",
   "name": "python",
   "nbconvert_exporter": "python",
   "pygments_lexer": "ipython3",
   "version": "3.11.7"
  },
  "toc": {
   "base_numbering": 1,
   "nav_menu": {},
   "number_sections": true,
   "sideBar": true,
   "skip_h1_title": false,
   "title_cell": "Table of Contents",
   "title_sidebar": "Contents",
   "toc_cell": false,
   "toc_position": {},
   "toc_section_display": true,
   "toc_window_display": false
  }
 },
 "nbformat": 4,
 "nbformat_minor": 5
}
