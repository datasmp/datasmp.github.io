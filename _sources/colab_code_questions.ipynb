{
 "cells": [
  {
   "cell_type": "markdown",
   "id": "5b29ae64-53cc-4400-a7a3-1e42317dab0b",
   "metadata": {},
   "source": [
    "# Code Cell Questions\n",
    "\n",
    "![Section Title: Code Cell Questions](title_pict/code_cell_questions2.png)"
   ]
  },
  {
   "cell_type": "markdown",
   "id": "f11821fa-50b7-48dd-9c9c-f065c369602d",
   "metadata": {},
   "source": [
    "## Question-1\n",
    "\n",
    "Perform each of the following algebraic operations in a separate code cell:\n",
    "- 20 - 3\n",
    "- 72 + 34\n",
    "- $46 \\div 4$\n",
    "- $4 \\times 12$\n",
    "- $5^3$\n"
   ]
  },
  {
   "cell_type": "markdown",
   "id": "54ae40ce-d4da-425e-9527-ceea580254cb",
   "metadata": {},
   "source": [
    "```{admonition} Solution\n",
    ":class: toggle\n",
    "\n",
    "``` python\n",
    "print(20-3)\n",
    "```\n",
    "17\n"
   ]
  },
  {
   "cell_type": "markdown",
   "id": "43dd0b5d-5a72-4c80-aa19-2cef9c0330b2",
   "metadata": {
    "tags": [
     "hide-cell"
    ]
   },
   "source": [
    "```{admonition} Solution\n",
    ":class: toggle\n",
    "\n",
    "``` python\n",
    "print(72+34)\n",
    "```\n",
    "106"
   ]
  },
  {
   "cell_type": "markdown",
   "id": "91cdaa92-4b3e-41af-92e4-41ff782d18be",
   "metadata": {
    "tags": [
     "hide-cell"
    ]
   },
   "source": [
    "```{admonition} Solution\n",
    ":class: toggle\n",
    "\n",
    "``` python\n",
    "print(46/4)\n",
    "```\n",
    "11.5"
   ]
  },
  {
   "cell_type": "markdown",
   "id": "d829f783-fd5b-4021-8b43-d0563db3ff53",
   "metadata": {
    "tags": [
     "hide-cell"
    ]
   },
   "source": [
    "```{admonition} Solution\n",
    ":class: toggle\n",
    "\n",
    "``` python\n",
    "print(4*12)\n",
    "```\n",
    "48"
   ]
  },
  {
   "cell_type": "markdown",
   "id": "b32bb9c8-c14c-4abe-b547-22ddc820f1a4",
   "metadata": {
    "tags": [
     "hide-cell"
    ]
   },
   "source": [
    "```{admonition} Solution\n",
    ":class: toggle\n",
    "\n",
    "``` python\n",
    "print(5**3)\n",
    "```\n",
    "125"
   ]
  },
  {
   "cell_type": "markdown",
   "id": "51ad441f-bf75-46e8-8fda-085f33ea4db8",
   "metadata": {
    "tags": [
     "hide-cell"
    ]
   },
   "source": [
    "## Question-2\n",
    "Find the difference between the maximum and minumum of the following numbers:  $65, 23, 1, 2, 3, 90, 99, 12, 34, 67$ using the built-in  *max()* and *min()* functions.\n"
   ]
  },
  {
   "cell_type": "markdown",
   "id": "2877c432-6b06-40c9-9fcd-7c20b7047f8c",
   "metadata": {
    "tags": [
     "hide-cell"
    ]
   },
   "source": [
    "```{admonition} Solution\n",
    ":class: toggle\n",
    "\n",
    "``` python\n",
    "print(max(65, 23, 1, 2, 3, 90, 99, 12, 34, 67)-min(65, 23, 1, 2, 3, 90, 99, 12, 34, 67))\n",
    "```\n"
   ]
  },
  {
   "cell_type": "markdown",
   "id": "f38a8e57-c309-4466-9ae7-e844b67bd0bf",
   "metadata": {},
   "source": [
    "## Question-3\n",
    "Print the string 'Python' five times using string repetition.\"\n"
   ]
  },
  {
   "cell_type": "markdown",
   "id": "9e84b191-5f2c-43b3-93de-1ea0a7a370e0",
   "metadata": {
    "tags": [
     "hide-cell"
    ]
   },
   "source": [
    "```{admonition} Solution\n",
    ":class: toggle\n",
    "\n",
    "``` python\n",
    "print('Python'*5)\n",
    "```"
   ]
  },
  {
   "cell_type": "markdown",
   "id": "2f2eb35c-af62-483e-92e7-7c79f8939f81",
   "metadata": {},
   "source": [
    "## Question-4\n",
    "\n",
    "Print the mean, median, mode, and standard deviation of the following list of numbers: $[12, 3, 12, 9, 7, 3, 25, 6]$, using the statistics module. \n",
    "- You can refer to the available functions in the statistics module using *dir(statistics)* or *help(statistics)*.\n",
    "   "
   ]
  },
  {
   "cell_type": "markdown",
   "id": "b61e43ec-009e-45ce-b25f-d4553fde39f1",
   "metadata": {
    "tags": [
     "hide-cell"
    ]
   },
   "source": [
    "```{admonition} Solution\n",
    ":class: toggle\n",
    "\n",
    "``` python\n",
    "import statistics\n",
    "\n",
    "print(statistics.mean([12, 3, 12, 9, 7, 3, 25,6]))\n",
    "print(statistics.median([12, 3, 12, 9, 7, 3, 25,6]))\n",
    "print(statistics.mode([12, 3, 12, 9, 7, 3, 25,6]))\n",
    "print(statistics.pstdev([12, 3, 12, 9, 7, 3, 25,6]))    # population std\n",
    "print(statistics.stdev([12, 3, 12, 9, 7, 3, 25,6]))     # sample std\n",
    "```"
   ]
  },
  {
   "cell_type": "markdown",
   "id": "678da6bb-9e86-45bd-972c-ade2ccd020aa",
   "metadata": {},
   "source": [
    "## Question-5\n",
    "Print the square root of 75 using the *math*, *statistics* and *numpy* modules.\n"
   ]
  },
  {
   "cell_type": "markdown",
   "id": "4b00c180-4678-462f-883a-41a00b4a7854",
   "metadata": {
    "tags": [
     "hide-cell"
    ]
   },
   "source": [
    "```{admonition} Solution\n",
    ":class: toggle\n",
    "import math, statistics, numpy\n",
    "\n",
    "print(math.sqrt(75))\n",
    "print(statistics.sqrt(75))\n",
    "print(numpy.sqrt(75))\n",
    "``` python"
   ]
  },
  {
   "cell_type": "code",
   "execution_count": null,
   "id": "088fb0d1-c477-4f0b-9a2c-9eea6c8669f6",
   "metadata": {},
   "outputs": [],
   "source": []
  }
 ],
 "metadata": {
  "celltoolbar": "Tags",
  "hide_input": false,
  "kernelspec": {
   "display_name": "Python 3 (ipykernel)",
   "language": "python",
   "name": "python3"
  },
  "language_info": {
   "codemirror_mode": {
    "name": "ipython",
    "version": 3
   },
   "file_extension": ".py",
   "mimetype": "text/x-python",
   "name": "python",
   "nbconvert_exporter": "python",
   "pygments_lexer": "ipython3",
   "version": "3.11.8"
  },
  "toc": {
   "base_numbering": 1,
   "nav_menu": {},
   "number_sections": true,
   "sideBar": true,
   "skip_h1_title": false,
   "title_cell": "Table of Contents",
   "title_sidebar": "Contents",
   "toc_cell": false,
   "toc_position": {},
   "toc_section_display": true,
   "toc_window_display": false
  }
 },
 "nbformat": 4,
 "nbformat_minor": 5
}
