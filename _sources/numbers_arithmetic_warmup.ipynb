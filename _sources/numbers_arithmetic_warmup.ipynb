{
 "cells": [
  {
   "cell_type": "markdown",
   "id": "83bac819-beda-40ef-a007-4d850350798e",
   "metadata": {},
   "source": [
    "# Numbers Warm Up \n",
    "![Section Title: Numbers Warm Up](title_pict/numbers_warmup2.png)\n"
   ]
  },
  {
   "cell_type": "markdown",
   "id": "552ae76d-2f5d-4f6d-a7f8-0f7090e4c3a8",
   "metadata": {},
   "source": [
    "## Warm Up Question-1\n",
    "Write a code to compute $2\\times(3+4)-2^3$."
   ]
  },
  {
   "cell_type": "markdown",
   "id": "8dd63441-58b0-4ae4-967e-f40719750541",
   "metadata": {},
   "source": [
    "## Warm Up Question-2\n",
    "Write a code to compute $\\sqrt{36}$."
   ]
  },
  {
   "cell_type": "markdown",
   "id": "e7b6151f-1bca-4b58-a57e-e981515b2c63",
   "metadata": {},
   "source": [
    "## Warm Up Question-3\n",
    "Write a program to display the last two digits of 1234 using the remainder operator."
   ]
  },
  {
   "cell_type": "markdown",
   "id": "4b1f1dd7-f785-4d10-ba2c-5900a5d9a417",
   "metadata": {},
   "source": [
    "## Warm Up Question-4\n",
    "Determine the output of the code below and provide an explanation.\n",
    "``` python\n",
    "x = 10\n",
    "x = x*2\n",
    "print(x)"
   ]
  },
  {
   "cell_type": "markdown",
   "id": "576a2922-e25d-49fe-8a38-1d7250497ce6",
   "metadata": {},
   "source": [
    "## Warm Up Question-5\n",
    "Determine the output of the code below and provide an explanation.\n",
    "``` python\n",
    "x = 25\n",
    "x //= 6\n",
    "print(x)"
   ]
  },
  {
   "cell_type": "markdown",
   "id": "91d6aea9-773a-49c6-9589-d02287ef9961",
   "metadata": {},
   "source": [
    "## Warm Up Question-6\n",
    "Write a program that prompts the user for a 4-digit positive number then print the tens digit of that number."
   ]
  },
  {
   "cell_type": "markdown",
   "id": "7926686a-5570-4fa2-aa58-8d0935d5bc2c",
   "metadata": {},
   "source": [
    "## Warm Up Question-7\n",
    "Write a program that prompts the user for a 4-digit positive number then print the hundreds digit of that number."
   ]
  },
  {
   "cell_type": "markdown",
   "id": "9252697a-ca3e-409e-bd8b-5fc814d08814",
   "metadata": {},
   "source": [
    "## Warm Up Question-8\n",
    "Write a program that prompts the user for a 4-digit positive number then print the thousands digit of that number."
   ]
  },
  {
   "cell_type": "code",
   "execution_count": null,
   "id": "0529c2c1-4898-4662-8874-983bcc9f8aac",
   "metadata": {},
   "outputs": [],
   "source": []
  }
 ],
 "metadata": {
  "kernelspec": {
   "display_name": "Python 3 (ipykernel)",
   "language": "python",
   "name": "python3"
  },
  "language_info": {
   "codemirror_mode": {
    "name": "ipython",
    "version": 3
   },
   "file_extension": ".py",
   "mimetype": "text/x-python",
   "name": "python",
   "nbconvert_exporter": "python",
   "pygments_lexer": "ipython3",
   "version": "3.11.8"
  }
 },
 "nbformat": 4,
 "nbformat_minor": 5
}
