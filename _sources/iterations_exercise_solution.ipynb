{
 "cells": [
  {
   "cell_type": "markdown",
   "id": "bc1e3d17-baf9-4c40-9e8b-c89c141db167",
   "metadata": {},
   "source": [
    "# Iterations Exercises and Solutions"
   ]
  },
  {
   "cell_type": "markdown",
   "id": "c8b2c72d-f968-4f96-aad4-4fa199eb9551",
   "metadata": {},
   "source": [
    "## Warm Up Question\n",
    "Determine the output of the code below:\n",
    "``` python\n",
    "print(list(range(5)))\n",
    "print(list(range(3,8)))\n",
    "print(list(range(5, 43, 10)))"
   ]
  },
  {
   "cell_type": "code",
   "execution_count": 11,
   "id": "035ea042-2f04-444e-8e2c-98f4fe69e697",
   "metadata": {},
   "outputs": [
    {
     "name": "stdout",
     "output_type": "stream",
     "text": [
      "[0, 1, 2, 3, 4]\n",
      "[3, 4, 5, 6, 7]\n",
      "[5, 15, 25, 35]\n"
     ]
    }
   ],
   "source": [
    "print(list(range(5)))\n",
    "print(list(range(3,8)))\n",
    "print(list(range(5, 43, 10)))"
   ]
  },
  {
   "cell_type": "markdown",
   "id": "26be66e3-c88a-435d-ba7d-7837d5c5304a",
   "metadata": {},
   "source": [
    "## Warm Up Question\n",
    "Write a program that displays the following list of numbers using a *range()* function.\n",
    "$ [3, 7, 11, 15, 19]$"
   ]
  },
  {
   "cell_type": "code",
   "execution_count": 8,
   "id": "0b0f1ddb-1cca-4d52-bfdb-91f725434eed",
   "metadata": {},
   "outputs": [
    {
     "name": "stdout",
     "output_type": "stream",
     "text": [
      "[3, 7, 11, 15, 19]\n"
     ]
    }
   ],
   "source": [
    "print(list(range(3, 20, 4)))"
   ]
  },
  {
   "cell_type": "markdown",
   "id": "2f40f2f5-9e32-45f4-87a7-c90000c17719",
   "metadata": {},
   "source": [
    "## Warm Up Question\n",
    "Determine the output of the code below:\n",
    "``` python\n",
    "for i in range(3):\n",
    "    print(2*i)"
   ]
  },
  {
   "cell_type": "code",
   "execution_count": 13,
   "id": "ddcfe723-3cf5-40e6-84da-83bc4e86a97e",
   "metadata": {},
   "outputs": [
    {
     "name": "stdout",
     "output_type": "stream",
     "text": [
      "0\n",
      "2\n",
      "4\n"
     ]
    }
   ],
   "source": [
    "for i in range(3):\n",
    "    print(2*i)"
   ]
  },
  {
   "cell_type": "markdown",
   "id": "9e0f2d0e-0ff1-4e7a-8276-3d0599bbf418",
   "metadata": {},
   "source": [
    "## Warm Up Question\n",
    "Determine the output of the code below:\n",
    "``` python\n",
    "n = 5 \n",
    "\n",
    "while n <= 8:\n",
    "    print(2*n)\n",
    "    n += 1"
   ]
  },
  {
   "cell_type": "code",
   "execution_count": 21,
   "id": "3ed8bb6b-ee59-4fd3-903f-9cc4d2120326",
   "metadata": {},
   "outputs": [
    {
     "name": "stdout",
     "output_type": "stream",
     "text": [
      "10\n",
      "12\n",
      "14\n",
      "16\n"
     ]
    }
   ],
   "source": [
    "n = 5 \n",
    "\n",
    "while n <= 8:\n",
    "    print(2*n)\n",
    "    n += 1"
   ]
  },
  {
   "cell_type": "markdown",
   "id": "484b4d87-e742-4267-bc25-d84dc2f02f7b",
   "metadata": {},
   "source": [
    "## Warm Up Question\n",
    "Write a program that calculates the sum of the first 50 positive integers."
   ]
  },
  {
   "cell_type": "code",
   "execution_count": 28,
   "id": "7f42e82e-55e1-425e-8553-125539f5c9da",
   "metadata": {},
   "outputs": [
    {
     "name": "stdout",
     "output_type": "stream",
     "text": [
      "1275\n"
     ]
    }
   ],
   "source": [
    "total = 0 \n",
    "for i in range(51):\n",
    "    total += i\n",
    "print(total)"
   ]
  },
  {
   "cell_type": "markdown",
   "id": "a9508259-3aaf-434b-9e89-f6f5d7e7e9fd",
   "metadata": {},
   "source": [
    "## Warm Up Question\n",
    "Determine the output of the code below:\n",
    "``` python\n",
    "n = 5\n",
    "\n",
    "while True:\n",
    "    print(n)\n",
    "    n += 2\n",
    "    if n > 9:\n",
    "        break"
   ]
  },
  {
   "cell_type": "code",
   "execution_count": 33,
   "id": "ef358c8e-8d2c-4545-b3cc-b04387263969",
   "metadata": {},
   "outputs": [
    {
     "name": "stdout",
     "output_type": "stream",
     "text": [
      "5\n",
      "7\n",
      "9\n"
     ]
    }
   ],
   "source": [
    "n = 5\n",
    "\n",
    "while True:\n",
    "    print(n)\n",
    "    n += 2\n",
    "    if n > 9:\n",
    "        break"
   ]
  },
  {
   "cell_type": "markdown",
   "id": "e3538c45-0c1d-4cc5-9184-8506051d91b0",
   "metadata": {},
   "source": [
    "## Question-1\n",
    "Print the letters with negative even indexes (-2, -4, ...) from the given text using:\n",
    "- a for loop\n",
    "- a while loop\n",
    "- slicing with a step. (use join method())\n",
    "\n",
    "```python\n",
    "text = 'abcdefghijklmnopqrstuvwxyzABCDEFGHIJKLMNOPQRSTUVWXYZ'  \n",
    "```\n",
    "\n",
    "Print the letters in a single line and comma separated.\n",
    "\n",
    "**Sample Output:**  \n",
    "text      : abcdefghijklmnopqrstuvwxyzABCDEFGHIJKLMNOPQRSTUVWXYZ  \n",
    "for loop  : Y,W,U,S,Q,O,M,K,I,G,E,C,A,y,w,u,s,q,o,m,k,i,g,e,c,a  \n",
    "while loop: Y,W,U,S,Q,O,M,K,I,G,E,C,A,y,w,u,s,q,o,m,k,i,g,e,c,a  \n",
    "slicing   : Y,W,U,S,Q,O,M,K,I,G,E,C,A,y,w,u,s,q,o,m,k,i,g,e,c,a  \n",
    "\n",
    "**Solution**"
   ]
  },
  {
   "cell_type": "code",
   "execution_count": 1,
   "id": "a4d32aff-6e67-4304-b5d1-2983bb586042",
   "metadata": {},
   "outputs": [
    {
     "name": "stdout",
     "output_type": "stream",
     "text": [
      "text      : abcdefghijklmnopqrstuvwxyzABCDEFGHIJKLMNOPQRSTUVWXYZ\n",
      "for loop  : Y,W,U,S,Q,O,M,K,I,G,E,C,A,y,w,u,s,q,o,m,k,i,g,e,c,a\n",
      "while loop: Y,W,U,S,Q,O,M,K,I,G,E,C,A,y,w,u,s,q,o,m,k,i,g,e,c,a\n",
      "slicing   : Y,W,U,S,Q,O,M,K,I,G,E,C,A,y,w,u,s,q,o,m,k,i,g,e,c,a\n"
     ]
    }
   ],
   "source": [
    "import string\n",
    "text = string.ascii_letters\n",
    "print('text      :', text)\n",
    "\n",
    "text_len = len(text)\n",
    "\n",
    "\n",
    "print('for loop  : ', end='')\n",
    "for i in range(2, text_len+1, 2):\n",
    "    print(text[-i], end=',')\n",
    "print('\\b')\n",
    "\n",
    "print('while loop: ', end='')\n",
    "i = -2\n",
    "while i >= -text_len:\n",
    "    print(text[i], end=',')\n",
    "    i -= 2\n",
    "print('\\b')\n",
    "\n",
    "print('slicing   :', ','.join(text[-2::-2]))"
   ]
  },
  {
   "cell_type": "markdown",
   "id": "906a00c2-b008-4722-b516-5a0b2344efd8",
   "metadata": {},
   "source": [
    "## Question-2\n",
    "\n",
    "Find the sum of the first $100$ terms of the following sequence:\n",
    "\n",
    "$\\displaystyle \\frac{1}{1^3+1^2}, \\frac{1}{2^3+2^2}, \\frac{1}{3^3+3^2}, \\frac{1}{4^3+4^2}, ...$\n",
    "\n",
    "- Use a for loop.\n",
    "- Use a while loop.\n",
    "\n",
    "**Solution**"
   ]
  },
  {
   "cell_type": "code",
   "execution_count": 2,
   "id": "de838caa-2d6d-49aa-a817-f4ad1e49f43a",
   "metadata": {},
   "outputs": [
    {
     "name": "stdout",
     "output_type": "stream",
     "text": [
      "for   loop: 32.99284781901703\n",
      "while loop: 32.99284781901703\n"
     ]
    }
   ],
   "source": [
    "total_for = 0\n",
    "for i in range(1,101):\n",
    "    total_for += 1/(i^3+i^2)\n",
    "\n",
    "total_while = 0\n",
    "i = 1\n",
    "while i < 101:\n",
    "    total_while += 1/(i^3+i^2)\n",
    "    i += 1\n",
    "\n",
    "print('for   loop:', total_for)    \n",
    "print('while loop:', total_while)    "
   ]
  },
  {
   "cell_type": "markdown",
   "id": "a3859d52-01bf-4897-8258-bd13dac7fdfc",
   "metadata": {},
   "source": [
    "## Question-3\n",
    "Ask the user to input a name and then insert a random punctuation mark between each character of the name.\n",
    "- Ensure that the output does not have a punctuation mark at the end.\n",
    "  \n",
    "**Sample Output**  \n",
    "Please enter a name    : ashley  \n",
    "Randomly generated name: a&s#h\"l#e\"y  \n",
    "\n",
    "**Solution**"
   ]
  },
  {
   "cell_type": "markdown",
   "id": "5a38eeb8-b473-418a-ab86-d22b52c48940",
   "metadata": {},
   "source": [
    "```python\n",
    "import string, random\n",
    "punct = string.punctuation\n",
    "\n",
    "name = input('Please enter a name    :')\n",
    "name_gen = ''\n",
    "for i in name:\n",
    "    name_gen += i + punct[random.randint(0,len(name)-1)]\n",
    "    \n",
    "print('Randomly generated name:', name_gen[:-1])\n",
    "```"
   ]
  },
  {
   "cell_type": "markdown",
   "id": "fefba70a-dce5-4461-8394-7bd6442f98d6",
   "metadata": {},
   "source": [
    "## Question-4\n",
    "Ask the user to input a number and print the consecutive pairs of digits within this number.\n",
    "- Example: The consecutive digits in 156319672 are 56 and 67.\n",
    "\n",
    "**Sample Output**    \n",
    "Please enter a number: 156319672  \n",
    "Consecutive pairs are: 56,67   \n",
    "\n",
    "**Solution**"
   ]
  },
  {
   "cell_type": "markdown",
   "id": "a98268d3-20fc-418c-93dc-ff898b190df6",
   "metadata": {},
   "source": [
    "``` python\n",
    "number = input('Please enter a number:')\n",
    "print('Consecutive pairs are: ', end='')\n",
    "for i in range(len(number)-1):\n",
    "    if int(number[i]) == int(number[i+1]) -1:\n",
    "        print(number[i:i+2], end=',')\n",
    "print('\\b')\n",
    "```"
   ]
  },
  {
   "cell_type": "markdown",
   "id": "0df939f8-0f03-46b3-a387-bfc5a169db09",
   "metadata": {},
   "source": [
    "## Question-5: Secret Number Game\n",
    "This is another version of the Guess the Secret Number Game.\n",
    "- The user selects a secret 3-digit number.\n",
    "- The computer randomly selects a 3-digit number to find the secret number.\n",
    "- You can use random.randint or numpy.randint.\n",
    "- Count the number of attempts by the computer.\n",
    "- If the computer can find the secret number in fewer than 100 attempts, it wins; otherwise, it loses the game.\n",
    "- After each attempt, print the computer's guess.\n",
    "- After each attempt, provide a hint to the computer whether the secret number is larger or smaller than the guess.\n",
    "The computer makes the next guess based on the hint\n",
    "\n",
    "**Sample Output**  \n",
    "Choose a 3 digit secret number:  123  \n",
    "Try Number: 0  Guess: 654 is LARGE. Try Again!  \n",
    "Try Number: 1  Guess: 638 is LARGE. Try Again!  \n",
    "Try Number: 2  Guess: 467 is LARGE. Try Again!  \n",
    "COMPUTER WINS!  \n",
    "Number of tries: 3    \n",
    "\n",
    "**Solution**"
   ]
  },
  {
   "cell_type": "markdown",
   "id": "69aa257d-ef8e-4bd0-a771-14ea46b11b6f",
   "metadata": {},
   "source": [
    "``` python\n",
    "import random\n",
    "secret_number = int(input('Choose a 3 digit secret number: '))\n",
    "number_try = 0\n",
    "computer_guess = random.randint(100, 999)\n",
    "\n",
    "while True:\n",
    "\n",
    "  if (computer_guess == secret_number):\n",
    "    print('COMPUTER WINS!')\n",
    "    break\n",
    "  elif number_try==100:\n",
    "    print('COMPUTER LOST!')\n",
    "    break\n",
    "  else:\n",
    "    if  computer_guess < secret_number:\n",
    "      print(f'Try Number: {number_try}  Guess: {computer_guess} is SMALL. Try Again!')\n",
    "      computer_guess = random.randint(computer_guess, 999)\n",
    "    else:\n",
    "      print(f'Try Number: {number_try}  Guess: {computer_guess} is LARGE. Try Again!')\n",
    "      computer_guess = random.randint(100, computer_guess)\n",
    "\n",
    "  number_try += 1\n",
    "\n",
    "print('Number of tries:', number_try)\n",
    "```"
   ]
  },
  {
   "cell_type": "markdown",
   "id": "ee790ea4-979a-48b1-97bc-67d71916fd2a",
   "metadata": {},
   "source": [
    "## Question-6: Scatter Plot\n",
    "Use a for loop to randomly select 100 points on a coordinate plane and plot them individually as a scatter plot. \n",
    "For each point:\n",
    "- The x and y coordinates are randomly chosen between 0 and 1.\n",
    "- The size of the point is a random number between 10 and 500.\n",
    "- The color is chosen from the characters of he following string: *color_str = 'rgbky'*.\n",
    "    - 'r' represents red, 'g' represents green,'b' represents blue, 'k' represents black,'y' represents yellow\n",
    "- The transparancey is represented by a random number between 0 and 1.\n",
    " \n",
    "Refer to the scatterplot section in Appendix: Visualization for implementation guidance."
   ]
  },
  {
   "cell_type": "markdown",
   "id": "007744b6-bd66-49c8-902a-01178ca07984",
   "metadata": {},
   "source": [
    "``` python\n",
    "import matplotlib.pyplot as plt\n",
    "import random\n",
    "random.seed(0)\n",
    "color_str = 'rgbky'\n",
    "\n",
    "for i in range(100):\n",
    "    x = random.uniform(0,1)\n",
    "    y = random.uniform(0,1)\n",
    "    s = random.uniform(10,500) \n",
    "    c = random.randint(0,len(color_str)-1)\n",
    "    t = random.uniform(0,1)\n",
    "    plt.scatter(x, y, c=color_str[c], s=s, alpha=t)\n",
    "```"
   ]
  },
  {
   "cell_type": "markdown",
   "id": "2117d0ed-e91a-4fc6-a787-df65cf294ea0",
   "metadata": {},
   "source": [
    "## Question-7: Empirical Probability\n",
    "Flip a coin 100 times and count the number of heads.\n",
    "- Use the string 'TH' to randomly select either 'T' (tail) or 'H' (head).\n",
    "    - Randomly choose 0 or 1 as the index of the character that will be selected randomly."
   ]
  },
  {
   "cell_type": "markdown",
   "id": "84823d0b-99d6-4362-8e93-f791bd79e4b6",
   "metadata": {},
   "source": [
    "``` python\n",
    "import random \n",
    "\n",
    "cases = 'TH'\n",
    "count_head = 0\n",
    "\n",
    "for i in range(100):\n",
    "    random_index = random.randint(0,1)\n",
    "    coin = cases[random_index]\n",
    "    if coin == 'H':\n",
    "        count_head += 1\n",
    "\n",
    "print(f'Number of heads: {count_head}')"
   ]
  },
  {
   "cell_type": "markdown",
   "id": "5157840a-16f8-481c-881f-61b87d3c7bf8",
   "metadata": {},
   "source": [
    "## Question-8: Rotating Stick\n",
    "Use a for loop and the sleep method from the time library to sequentially display the rotation of '\\', '--', and '/' characters 20 times.\n",
    "- Add a waiting time between each character to simulate the rotation of a stick.\n",
    "- Ensure that after printing each character, it is deleted before the next one is printed to maintain the rotating effect."
   ]
  },
  {
   "cell_type": "markdown",
   "id": "a52b8f99-85b7-4982-b84d-d223e58e48e0",
   "metadata": {},
   "source": [
    "``` python\n",
    "import time\n",
    "for i in range(20):\n",
    "  print('\\b\\\\', end='')\n",
    "  time.sleep(0.2)\n",
    "  print('\\b--',end='')\n",
    "  time.sleep(0.2)\n",
    "  print('\\b\\b/',end='')\n",
    "  time.sleep(0.2)"
   ]
  },
  {
   "cell_type": "markdown",
   "id": "21f3fbe0-aebd-4b98-b6d6-10f475daff1e",
   "metadata": {},
   "source": [
    "## Question-9: Counter\n",
    "Use a for loop and the sleep method from the time library to display a counter counting from 0 to 999. \n",
    "- Ensure that one-digit numbers have two zeros added to the left, and two-digit numbers have one zero added to the left.\n",
    "- After printing each number, delete it before the next one is printed to maintain the rotating effect.\n",
    "- Numbers: 001, 002,...,010,011,...,999"
   ]
  },
  {
   "cell_type": "markdown",
   "id": "9af40ebc-7a42-4dd0-a100-0f765f4384f5",
   "metadata": {},
   "source": [
    "```python\n",
    "import time\n",
    "sleep_time = 0.3\n",
    "for i in range(0, 20):\n",
    "  print('\\r', end='')\n",
    "  if i < 10:\n",
    "    print('00'+str(i), end='')\n",
    "  elif i < 100:\n",
    "    print('0'+str(i), end='')\n",
    "  else:\n",
    "    print('0'+str(i), end='')\n",
    "  time.sleep(sleep_time)\n",
    "```"
   ]
  },
  {
   "cell_type": "markdown",
   "id": "7bd05c70-3a3c-4b91-9e11-8df4143969e4",
   "metadata": {},
   "source": [
    "## Business Applications"
   ]
  },
  {
   "cell_type": "markdown",
   "id": "f142dade-9b1f-40cc-8836-d9590e63cdc4",
   "metadata": {},
   "source": [
    "### Question: Max of Revenue\n",
    "*Revenue (R) is the product of the number (n) of items sold  and the price (p) of the item.*\n",
    "- $R = p\\cdot n$\n",
    "  \n",
    "The number of item sold is given by the following equation: $n = -1.5p+30$\n",
    "\n",
    "Write a program which finds the $p$ which maximize the revenue for $0\\le p \\le 20$\n",
    "- Plot the graph of revenue for $0\\le p \\le 20$"
   ]
  },
  {
   "cell_type": "code",
   "execution_count": 38,
   "id": "b327a0c0-55ad-4951-bd59-3e3d73629ac5",
   "metadata": {},
   "outputs": [
    {
     "name": "stdout",
     "output_type": "stream",
     "text": [
      "Max Revenue: 150.0  ---  p: 10\n"
     ]
    },
    {
     "data": {
      "image/png": "[encoded data removed]",
      "text/plain": [
       "<Figure size 640x480 with 1 Axes>"
      ]
     },
     "metadata": {},
     "output_type": "display_data"
    }
   ],
   "source": [
    "import matplotlib.pyplot as plt\n",
    "p_values = range(1, 21)\n",
    "\n",
    "max_revenue = 0\n",
    "max_p = 0\n",
    "\n",
    "for p in p_values:\n",
    "    revenue = p*(-1.5*p+30)\n",
    "    plt.scatter(p, revenue, c='b')\n",
    "    if revenue > max_revenue:\n",
    "        max_revenue = revenue\n",
    "        max_p = p\n",
    "        \n",
    "print(f'Max Revenue: {max_revenue}  ---  p: {max_p}')"
   ]
  },
  {
   "cell_type": "markdown",
   "id": "db698fb3-8a9c-4d77-9a87-689aa6f39d9e",
   "metadata": {},
   "source": [
    "### Question: Profit\n",
    "*Profit (P) is the difference between Revenue and Cost*\n",
    "- $Profit = Revenue - Cost$\n",
    "\n",
    "The monthly fixed cost of a cable factory is 1500 dollars. Each cable costs 13 dollars and sells for 25 dollars.\n",
    "- Find the profit of producing 400 cables.\n",
    "- For what number of cables produced profit is zero.\n",
    "    - Hint: Calculate the profit for $n$ between 1 and 400."
   ]
  },
  {
   "cell_type": "code",
   "execution_count": 39,
   "id": "2e6d27b6-d8d0-451a-b7d1-48feea492e63",
   "metadata": {},
   "outputs": [
    {
     "data": {
      "text/plain": [
       "3300"
      ]
     },
     "execution_count": 39,
     "metadata": {},
     "output_type": "execute_result"
    }
   ],
   "source": [
    "n = 400\n",
    "revenue = 25*n\n",
    "cost = 1500+13*n\n",
    "profit = revenue-cost\n",
    "profit"
   ]
  },
  {
   "cell_type": "code",
   "execution_count": 40,
   "id": "75307b39-04be-4b2b-8cdd-931ddf34ca0d",
   "metadata": {},
   "outputs": [
    {
     "name": "stdout",
     "output_type": "stream",
     "text": [
      "Profit is zero for n = 125 \n"
     ]
    }
   ],
   "source": [
    "for n in range(1, 401):\n",
    "    revenue = 25*n\n",
    "    cost = 1500+13*n\n",
    "    profit = revenue-cost\n",
    "    if  profit == 0:\n",
    "        print(f'Profit is zero for n = {n} ')\n",
    "        break"
   ]
  },
  {
   "cell_type": "markdown",
   "id": "e8079e58-91e0-4f2f-8b72-b56bf725029c",
   "metadata": {},
   "source": [
    "### Question: Linear Depreciation\n",
    "The value of a new machine is $100,000$ dollars and its values is depreciated by $7500$ dollars per year. After how many years the value of the machine will be 2,500 dollars.\n",
    "- Hint: Calculate the value for years between 1 and 100."
   ]
  },
  {
   "cell_type": "code",
   "execution_count": 32,
   "id": "bf0f240d-41c3-4383-b951-fc70a2f201a2",
   "metadata": {},
   "outputs": [
    {
     "name": "stdout",
     "output_type": "stream",
     "text": [
      "The value of the machine will be 2,500 dollars after 13 years.\n"
     ]
    }
   ],
   "source": [
    "for t in range(1, 101):\n",
    "    if 100_000 - 7500*t == 2500:\n",
    "        print(f'The value of the machine will be 2,500 dollars after {t} years.')"
   ]
  },
  {
   "cell_type": "markdown",
   "id": "1d10dbe8-cd31-43be-ac1c-3c98c5cfeae2",
   "metadata": {},
   "source": [
    "### Question: Equilibrium Point\n",
    "*An equilibrium point is where the demand and supply curves intersect.*\n",
    "\n",
    "For the given demand and the supply functions find the equilibrium point.\n",
    "\n",
    "Demand: $p(q) = -0.03q + 1000$\n",
    "\n",
    "Supply: $p(q) = 0.02q + 400$\n",
    "\n",
    "- Hint: Calculate the demand and supply for $q$ between 1 and 20,000."
   ]
  },
  {
   "cell_type": "code",
   "execution_count": 42,
   "id": "58d949d0-04cf-412c-9955-dd7317a9e2ea",
   "metadata": {},
   "outputs": [
    {
     "name": "stdout",
     "output_type": "stream",
     "text": [
      "The equilibrium point is (12000,640.0)\n"
     ]
    }
   ],
   "source": [
    "for q in range(20_000):\n",
    "    d = -0.03*q + 1000\n",
    "    s = 0.02*q + 400\n",
    "    if d == s:\n",
    "        e1, e2 = q, d\n",
    "        print(f'The equilibrium point is ({e1},{e2})')\n",
    "        break"
   ]
  },
  {
   "cell_type": "markdown",
   "id": "d9bb45aa-776f-4f2e-a69d-93b41f321de6",
   "metadata": {},
   "source": [
    "### Question: Linear Programming\n",
    "*Linear programming involves finding the highest or lowest possible outcome of a linear function, while satisfying specific constraints.*\n",
    "\n",
    "The store sells three items labeled (a, b, c) priced at 2, 3, and 4 dollars respectively. The following conditions are known:\n",
    "- The store can sell up to 100 units of each item.\n",
    "- The combined sales of items b and c exceed 90 units.\n",
    "- The total sales of items a and b do not surpass 50 units.\n",
    "- The sales of items a and c are more than 80 units.\n",
    "\n",
    "What is the highest revenue achievable, and at what quantities of items is this maximum revenue attained?\n",
    " "
   ]
  },
  {
   "cell_type": "code",
   "execution_count": 43,
   "id": "24e529f0-8d84-4b60-87d1-6763e710d586",
   "metadata": {},
   "outputs": [
    {
     "name": "stdout",
     "output_type": "stream",
     "text": [
      "Max Value: 201, a:49,  b:1,   c:100\n"
     ]
    }
   ],
   "source": [
    "max_value = 0\n",
    "a_max, b_max, c_max = 0, 0, 0\n",
    "\n",
    "for a in range(1, 101):\n",
    "    for b in range(1,101):\n",
    "        for c in range(1,101):\n",
    "            if b+c > 90:\n",
    "                if a+b<= 50:\n",
    "                    if a+c > 80:\n",
    "                        if 2*a+3*b+4*c > max_value:\n",
    "                            max_value = 2*a+3*b+c\n",
    "                            a_max, b_max, c_max = a,b,c\n",
    "\n",
    "print(f'Max Value: {max_value}, a:{a_max},  b:{b_max},   c:{c_max}')\n"
   ]
  },
  {
   "cell_type": "markdown",
   "id": "a0fac345-a652-41e6-9594-97c9bb529a78",
   "metadata": {},
   "source": [
    "### Question: Home Mortgage\n",
    "\n",
    "Amortization is paying off a loan by making equal payments.\n",
    "\n",
    "The present value of an amortized loan is given by the following formula: $\\displaystyle  P = R \\left( \\frac{1-(1+\\frac{r}{m})^{-mt}}{\\frac{r}{m}}  \\right)$ where,\n",
    "\n",
    "- $P$: Present value\n",
    "- $R$: regular payment\n",
    "- $r$: annual interest rate\n",
    "- $m$: number of payments in a year\n",
    "- $t$: number of years\n",
    "\n",
    "If you take out an 449,000 dollars loan to buy a house with an annual interest rate of 2.75%, to be paid off over 30 years, what is the monthly payment?\n",
    "- Sketch the graph of monthly payments for annual interest rates of 2%, 3%, 4%, 5%, 6%, 7%, 8%, 9%, and 10%.\n",
    "\n",
    "Hint:\n",
    "- Use the variables $P, r, m, t$  for the given values.\n",
    "- Calculate the value of the variable $R$."
   ]
  },
  {
   "cell_type": "code",
   "execution_count": 45,
   "id": "63fe576d-caf3-41a2-b6c5-b334810c5e4c",
   "metadata": {},
   "outputs": [
    {
     "name": "stdout",
     "output_type": "stream",
     "text": [
      "Monthly payment: 1833.00 for Annual Interest rate of 0.0275\n",
      "--------------------------------------------------\n",
      "Monthly payment: 1659.59 for Annual Interest rate of 0.02\n",
      "Monthly payment: 1893.00 for Annual Interest rate of 0.03\n",
      "Monthly payment: 2143.59 for Annual Interest rate of 0.04\n",
      "Monthly payment: 2410.33 for Annual Interest rate of 0.05\n",
      "Monthly payment: 2691.98 for Annual Interest rate of 0.06\n",
      "Monthly payment: 2987.21 for Annual Interest rate of 0.07\n",
      "Monthly payment: 3294.60 for Annual Interest rate of 0.08\n",
      "Monthly payment: 3612.76 for Annual Interest rate of 0.09\n",
      "Monthly payment: 3940.30 for Annual Interest rate of 0.1\n"
     ]
    },
    {
     "data": {
      "image/png": "[encoded data removed]",
      "text/plain": [
       "<Figure size 640x480 with 1 Axes>"
      ]
     },
     "metadata": {},
     "output_type": "display_data"
    }
   ],
   "source": [
    "import matplotlib.pyplot as plt\n",
    "P = 449_000\n",
    "r = 0.0275\n",
    "m = 12\n",
    "t = 30\n",
    "\n",
    "num = 1-(1+r/m)**(-m*t) \n",
    "den = r/m\n",
    "\n",
    "R = P/(num/den)\n",
    "print(f'Monthly payment: {R:.2f} for Annual Interest rate of {r}')\n",
    "print('-'*50)\n",
    "\n",
    "for r in range(2,11):\n",
    "    r = r/100\n",
    "    num = 1-(1+r/m)**(-m*t) \n",
    "    den = r/m\n",
    "    R = P/(num/den)\n",
    "    print(f'Monthly payment: {R:.2f} for Annual Interest rate of {r}')\n",
    "    plt.scatter(r, R, c='r')"
   ]
  },
  {
   "cell_type": "markdown",
   "id": "324a4791-9655-499c-99d6-7ba660b77b85",
   "metadata": {},
   "source": [
    "### Question: Amortization Schedule-1\n",
    "If you take out a 449,000 dollars loan to buy a house with an annual interest rate of 2.75%, to be paid off over 30 years with a monthly payment of $1,833, construct an amortization schedule for the first 5 payments.\n",
    "\n",
    "For each month, a fixed monthly payment is deducted from the balance. \n",
    "Additionally, simple interest is added to the loan based on that month's remaining balance.\n",
    "\n",
    "Hint:\n",
    "- Use the variables $P, r, m, t, R$  for the given values.\n",
    "- Calculate the monthly simple interest for each monthly balance."
   ]
  },
  {
   "cell_type": "code",
   "execution_count": 36,
   "id": "0ad2658a-a599-4cde-903f-7c5d2f1f241f",
   "metadata": {},
   "outputs": [
    {
     "name": "stdout",
     "output_type": "stream",
     "text": [
      "Payment Number: 1  Interest Paid: 1028.96  Paid on Principal: 804.04  Balance: 448195.96  \n",
      "Payment Number: 2  Interest Paid: 1027.12  Paid on Principal: 805.88  Balance: 447390.07  \n",
      "Payment Number: 3  Interest Paid: 1025.27  Paid on Principal: 807.73  Balance: 446582.34  \n",
      "Payment Number: 4  Interest Paid: 1023.42  Paid on Principal: 809.58  Balance: 445772.76  \n",
      "Payment Number: 5  Interest Paid: 1021.56  Paid on Principal: 811.44  Balance: 444961.32  \n"
     ]
    }
   ],
   "source": [
    "P = 449_000\n",
    "r = 0.0275\n",
    "m = 12\n",
    "t = 30\n",
    "R = 1833\n",
    "\n",
    "balance = P\n",
    "for i in range(1,6):\n",
    "    simple_interest = balance * (r/12) * 1\n",
    "    apply_principal = R - simple_interest\n",
    "    balance -= apply_principal\n",
    "    print(f'Payment Number: {i}  Interest Paid: {simple_interest:.2f}  Paid on Principal: {apply_principal:.2f}  Balance: {balance:.2f}  ')\n",
    "\n"
   ]
  },
  {
   "cell_type": "markdown",
   "id": "835ad661-c369-4cbb-985a-4b1856eb133a",
   "metadata": {},
   "source": [
    "### Question: Amortization Schedule-2\n",
    "If you take out a 449,000 dollars loan to buy a house with an annual interest rate of 2.75%, to be paid off over 30 years with a monthly payment of 1,833 dollars, construct an amortization schedule for the last 5 payments.\n",
    "\n",
    "For each month, a fixed monthly payment is deducted from the balance. Additionally, simple interest is added to the loan based on that month's remaining balance."
   ]
  },
  {
   "cell_type": "code",
   "execution_count": 37,
   "id": "7f06e9f7-40a5-44ab-98aa-63271fcf473e",
   "metadata": {},
   "outputs": [
    {
     "name": "stdout",
     "output_type": "stream",
     "text": [
      "Payment Number: 356  Interest Paid: 20.86  Paid on Principal: 1812.14  Balance: 7291.79  \n",
      "Payment Number: 357  Interest Paid: 16.71  Paid on Principal: 1816.29  Balance: 5475.50  \n",
      "Payment Number: 358  Interest Paid: 12.55  Paid on Principal: 1820.45  Balance: 3655.05  \n",
      "Payment Number: 359  Interest Paid: 8.38  Paid on Principal: 1824.62  Balance: 1830.43  \n",
      "Payment Number: 360  Interest Paid: 4.19  Paid on Principal: 1828.81  Balance: 1.62  \n"
     ]
    }
   ],
   "source": [
    "P = 449_000\n",
    "r = 0.0275\n",
    "m = 12\n",
    "t = 30\n",
    "R = 1833\n",
    "\n",
    "balance = P\n",
    "for i in range(1,m*t+1):\n",
    "    simple_interest = balance * (r/12) * 1\n",
    "    apply_principal = R - simple_interest\n",
    "    balance -= apply_principal\n",
    "    if i > m*t-5:\n",
    "        print(f'Payment Number: {i}  Interest Paid: {simple_interest:.2f}  Paid on Principal: {apply_principal:.2f}  Balance: {balance:.2f}  ')"
   ]
  },
  {
   "cell_type": "code",
   "execution_count": null,
   "id": "ac7bab60-62d7-440b-a0af-bae453a81264",
   "metadata": {},
   "outputs": [],
   "source": []
  }
 ],
 "metadata": {
  "kernelspec": {
   "display_name": "Python 3 (ipykernel)",
   "language": "python",
   "name": "python3"
  },
  "language_info": {
   "codemirror_mode": {
    "name": "ipython",
    "version": 3
   },
   "file_extension": ".py",
   "mimetype": "text/x-python",
   "name": "python",
   "nbconvert_exporter": "python",
   "pygments_lexer": "ipython3",
   "version": "3.11.8"
  }
 },
 "nbformat": 4,
 "nbformat_minor": 5
}
