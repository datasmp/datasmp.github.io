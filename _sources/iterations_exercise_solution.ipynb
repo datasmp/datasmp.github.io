{
 "cells": [
  {
   "cell_type": "markdown",
   "id": "bc1e3d17-baf9-4c40-9e8b-c89c141db167",
   "metadata": {},
   "source": [
    "# Iterations Exercises and Solutions"
   ]
  },
  {
   "cell_type": "markdown",
   "id": "e3538c45-0c1d-4cc5-9184-8506051d91b0",
   "metadata": {},
   "source": [
    "## Question-1\n",
    "Print the letters with negative even indexes (-2, -4, ...) from the given text using:\n",
    "- a for loop\n",
    "- a while loop\n",
    "- slicing with a step. (use join method())\n",
    "\n",
    "Print the letters in a  single single line and comma separated.\n",
    "\n",
    "**Sample Output:**  \n",
    "text      : abcdefghijklmnopqrstuvwxyzABCDEFGHIJKLMNOPQRSTUVWXYZ  \n",
    "for loop  : Y,W,U,S,Q,O,M,K,I,G,E,C,A,y,w,u,s,q,o,m,k,i,g,e,c,a  \n",
    "while loop: Y,W,U,S,Q,O,M,K,I,G,E,C,A,y,w,u,s,q,o,m,k,i,g,e,c,a  \n",
    "slicing   : Y,W,U,S,Q,O,M,K,I,G,E,C,A,y,w,u,s,q,o,m,k,i,g,e,c,a  \n",
    "\n",
    "**Solution**"
   ]
  },
  {
   "cell_type": "code",
   "execution_count": 1,
   "id": "a4d32aff-6e67-4304-b5d1-2983bb586042",
   "metadata": {},
   "outputs": [
    {
     "name": "stdout",
     "output_type": "stream",
     "text": [
      "text      : abcdefghijklmnopqrstuvwxyzABCDEFGHIJKLMNOPQRSTUVWXYZ\n",
      "for loop  : Y,W,U,S,Q,O,M,K,I,G,E,C,A,y,w,u,s,q,o,m,k,i,g,e,c,a\n",
      "while loop: Y,W,U,S,Q,O,M,K,I,G,E,C,A,y,w,u,s,q,o,m,k,i,g,e,c,a\n",
      "slicing   : Y,W,U,S,Q,O,M,K,I,G,E,C,A,y,w,u,s,q,o,m,k,i,g,e,c,a\n"
     ]
    }
   ],
   "source": [
    "import string\n",
    "text = string.ascii_letters\n",
    "print('text      :', text)\n",
    "\n",
    "text_len = len(text)\n",
    "\n",
    "\n",
    "print('for loop  : ', end='')\n",
    "for i in range(2, text_len+1, 2):\n",
    "    print(text[-i], end=',')\n",
    "print('\\b')\n",
    "\n",
    "print('while loop: ', end='')\n",
    "i = -2\n",
    "while i >= -text_len:\n",
    "    print(text[i], end=',')\n",
    "    i -= 2\n",
    "print('\\b')\n",
    "\n",
    "print('slicing   :', ','.join(text[-2::-2]))"
   ]
  },
  {
   "cell_type": "markdown",
   "id": "906a00c2-b008-4722-b516-5a0b2344efd8",
   "metadata": {},
   "source": [
    "## Question-2\n",
    "\n",
    "Find the sum of the first $100$ terms of the following sequence:\n",
    "\n",
    "$\\displaystyle \\frac{1}{1^3+1^2}, \\frac{1}{2^3+2^2}, \\frac{1}{3^3+3^2}, \\frac{1}{4^3+4^2}, ...$\n",
    "\n",
    "- Use a for loop.\n",
    "- Use a while loop.\n",
    "\n",
    "**Solution**"
   ]
  },
  {
   "cell_type": "code",
   "execution_count": 2,
   "id": "de838caa-2d6d-49aa-a817-f4ad1e49f43a",
   "metadata": {},
   "outputs": [
    {
     "name": "stdout",
     "output_type": "stream",
     "text": [
      "for   loop: 32.99284781901703\n",
      "while loop: 32.99284781901703\n"
     ]
    }
   ],
   "source": [
    "total_for = 0\n",
    "for i in range(1,101):\n",
    "    total_for += 1/(i^3+i^2)\n",
    "\n",
    "total_while = 0\n",
    "i = 1\n",
    "while i < 101:\n",
    "    total_while += 1/(i^3+i^2)\n",
    "    i += 1\n",
    "\n",
    "print('for   loop:', total_for)    \n",
    "print('while loop:', total_while)    "
   ]
  },
  {
   "cell_type": "markdown",
   "id": "266f3787-23d7-41f2-b3a4-41966abf5ace",
   "metadata": {},
   "source": [
    "## Question-3\n",
    "This is another version of the Guess the Secret Number Game.\n",
    "- The user selects a secret 3-digit number.\n",
    "- The computer randomly selects a 3-digit number to find the secret number.\n",
    "- You can use random.randint or numpy.randint.\n",
    "- Count the number of attempts by the computer.\n",
    "- If the computer can find the secret number in fewer than 100 attempts, it wins; otherwise, it loses the game.\n",
    "- After each attempt, print the computer's guess.\n",
    "- After each attempt, provide a hint to the computer whether the secret number is larger or smaller than the guess.\n",
    "The computer makes the next guess based on the hint\n",
    "\n",
    "**Sample Output**  \n",
    "Choose a 3 digit secret number:  123  \n",
    "Try Number: 0  Guess: 654 is LARGE. Try Again!  \n",
    "Try Number: 1  Guess: 638 is LARGE. Try Again!  \n",
    "Try Number: 2  Guess: 467 is LARGE. Try Again!  \n",
    "COMPUTER WINS!  \n",
    "Number of tries: 3    \n",
    "\n",
    "**Solution**"
   ]
  },
  {
   "cell_type": "markdown",
   "id": "49f5e751-8aaf-49fa-a821-cf0df2470e41",
   "metadata": {},
   "source": [
    "``` python\n",
    "import random\n",
    "secret_number = int(input('Choose a 3 digit secret number: '))\n",
    "number_try = 0\n",
    "computer_guess = random.randint(100, 999)\n",
    "\n",
    "while True:\n",
    "\n",
    "  if (computer_guess == secret_number):\n",
    "    print('COMPUTER WINS!')\n",
    "    break\n",
    "  elif number_try==100:\n",
    "    print('COMPUTER LOST!')\n",
    "    break\n",
    "  else:\n",
    "    if  computer_guess < secret_number:\n",
    "      print(f'Try Number: {number_try}  Guess: {computer_guess} is SMALL. Try Again!')\n",
    "      computer_guess = random.randint(computer_guess, 999)\n",
    "    else:\n",
    "      print(f'Try Number: {number_try}  Guess: {computer_guess} is LARGE. Try Again!')\n",
    "      computer_guess = random.randint(100, computer_guess)\n",
    "\n",
    "  number_try += 1\n",
    "\n",
    "print('Number of tries:', number_try)\n",
    "```"
   ]
  },
  {
   "cell_type": "markdown",
   "id": "a3859d52-01bf-4897-8258-bd13dac7fdfc",
   "metadata": {},
   "source": [
    "## Question-4\n",
    "Ask the user to input a name and then insert a random punctuation mark between each character of the name.\n",
    "- Ensure that the output does not have a punctuation mark at the end.\n",
    "  \n",
    "**Sample Output**  \n",
    "Please enter a name    : ashley  \n",
    "Randomly generated name: a&s#h\"l#e\"y  \n",
    "\n",
    "**Solution**"
   ]
  },
  {
   "cell_type": "markdown",
   "id": "5a38eeb8-b473-418a-ab86-d22b52c48940",
   "metadata": {},
   "source": [
    "```python\n",
    "import string, random\n",
    "punct = string.punctuation\n",
    "\n",
    "name = input('Please enter a name    :')\n",
    "name_gen = ''\n",
    "for i in name:\n",
    "    name_gen += i + punct[random.randint(0,len(name)-1)]\n",
    "    \n",
    "print('Randomly generated name:', name_gen[:-1])\n",
    "```"
   ]
  },
  {
   "cell_type": "markdown",
   "id": "fefba70a-dce5-4461-8394-7bd6442f98d6",
   "metadata": {},
   "source": [
    "## Question-5\n",
    "Ask the user to input a number and print the consecutive pairs of digits within this number.\n",
    "- Example: The consecutive digits in 156319672 are 56 and 67.\n",
    "\n",
    "**Sample Output**    \n",
    "Please enter a number: 156319672  \n",
    "Consecutive pairs are: 56,67   \n",
    "\n",
    "**Solution**"
   ]
  },
  {
   "cell_type": "markdown",
   "id": "a98268d3-20fc-418c-93dc-ff898b190df6",
   "metadata": {},
   "source": [
    "``` python\n",
    "number = input('Please enter a number:')\n",
    "print('Consecutive pairs are: ', end='')\n",
    "for i in range(len(number)-1):\n",
    "    if int(number[i]) == int(number[i+1]) -1:\n",
    "        print(number[i:i+2], end=',')\n",
    "print('\\b')\n",
    "```"
   ]
  },
  {
   "cell_type": "markdown",
   "id": "ee790ea4-979a-48b1-97bc-67d71916fd2a",
   "metadata": {},
   "source": [
    "## Question-6: Scatter Plot\n",
    "Use a for loop to randomly select 100 points on a coordinate plane and plot them individually as a scatter plot. \n",
    "For each point:\n",
    "- The x and y coordinates are randomly chosen between 0 and 1.\n",
    "- The size of the point is a random number between 10 and 500.\n",
    "- The color is chosen from the characters of he following string: *color_str = 'rgbky'*.\n",
    "    - 'r' represents red, 'g' represents green,'b' represents blue, 'k' represents black,'y' represents yellow\n",
    "- The transparancey is represented by a random number between 0 and 1.\n",
    " \n",
    "Refer to the scatterplot section in Chapter-13: Visualization for implementation guidance."
   ]
  },
  {
   "cell_type": "markdown",
   "id": "007744b6-bd66-49c8-902a-01178ca07984",
   "metadata": {},
   "source": [
    "``` python\n",
    "import matplotlib.pyplot as plt\n",
    "import random\n",
    "random.seed(0)\n",
    "color_str = 'rgbky'\n",
    "\n",
    "for i in range(100):\n",
    "    x = random.uniform(0,1)\n",
    "    y = random.uniform(0,1)\n",
    "    s = random.uniform(10,500) \n",
    "    c = random.randint(0,len(color_str)-1)\n",
    "    t = random.uniform(0,1)\n",
    "    plt.scatter(x, y, c=color_str[c], s=s, alpha=t)\n",
    "```"
   ]
  },
  {
   "cell_type": "markdown",
   "id": "2117d0ed-e91a-4fc6-a787-df65cf294ea0",
   "metadata": {},
   "source": [
    "## Question-7: Empirical Probability\n",
    "Flip a coin 100 times and count the number of heads.\n",
    "- Use the string 'TH' to randomly select either 'T' (tail) or 'H' (head).\n",
    "    - Randomly choose 0 or 1 as the index of the character that will be selected randomly."
   ]
  },
  {
   "cell_type": "markdown",
   "id": "84823d0b-99d6-4362-8e93-f791bd79e4b6",
   "metadata": {},
   "source": [
    "``` python\n",
    "import random \n",
    "\n",
    "cases = 'TH'\n",
    "count_head = 0\n",
    "\n",
    "for i in range(100):\n",
    "    random_index = random.randint(0,1)\n",
    "    coin = cases[random_index]\n",
    "    if coin == 'H':\n",
    "        count_head += 1\n",
    "\n",
    "print(f'Number of heads: {count_head}')"
   ]
  },
  {
   "cell_type": "markdown",
   "id": "5157840a-16f8-481c-881f-61b87d3c7bf8",
   "metadata": {},
   "source": [
    "## Question-8: Rotating Stick\n",
    "Use a for loop and the sleep method from the time library to sequentially display the rotation of '\\', '--', and '/' characters 20 times.\n",
    "- Add a waiting time between each character to simulate the rotation of a stick.\n",
    "- Ensure that after printing each character, it is deleted before the next one is printed to maintain the rotating effect."
   ]
  },
  {
   "cell_type": "markdown",
   "id": "a52b8f99-85b7-4982-b84d-d223e58e48e0",
   "metadata": {},
   "source": [
    "``` python\n",
    "import time\n",
    "for i in range(20):\n",
    "  print('\\b\\\\', end='')\n",
    "  time.sleep(0.2)\n",
    "  print('\\b--',end='')\n",
    "  time.sleep(0.2)\n",
    "  print('\\b\\b/',end='')\n",
    "  time.sleep(0.2)"
   ]
  },
  {
   "cell_type": "markdown",
   "id": "21f3fbe0-aebd-4b98-b6d6-10f475daff1e",
   "metadata": {},
   "source": [
    "## Question-9: Counter\n",
    "Use a for loop and the sleep method from the time library to display a counter counting from 0 to 999. \n",
    "- Ensure that one-digit numbers have two zeros added to the left, and two-digit numbers have one zero added to the left.\n",
    "- After printing each number, delete it before the next one is printed to maintain the rotating effect.\n",
    "- Numbers: 001, 002,...,010,011,...,999"
   ]
  },
  {
   "cell_type": "markdown",
   "id": "9af40ebc-7a42-4dd0-a100-0f765f4384f5",
   "metadata": {},
   "source": [
    "```python\n",
    "import time\n",
    "sleep_time = 0.3\n",
    "for i in range(0, 20):\n",
    "  print('\\r', end='')\n",
    "  if i < 10:\n",
    "    print('00'+str(i), end='')\n",
    "  elif i < 100:\n",
    "    print('0'+str(i), end='')\n",
    "  else:\n",
    "    print('0'+str(i), end='')\n",
    "  time.sleep(sleep_time)\n",
    "```"
   ]
  },
  {
   "cell_type": "code",
   "execution_count": null,
   "id": "8f76c9e4-206e-416c-adc5-1726c777a154",
   "metadata": {},
   "outputs": [],
   "source": []
  }
 ],
 "metadata": {
  "kernelspec": {
   "display_name": "Python 3 (ipykernel)",
   "language": "python",
   "name": "python3"
  },
  "language_info": {
   "codemirror_mode": {
    "name": "ipython",
    "version": 3
   },
   "file_extension": ".py",
   "mimetype": "text/x-python",
   "name": "python",
   "nbconvert_exporter": "python",
   "pygments_lexer": "ipython3",
   "version": "3.11.7"
  }
 },
 "nbformat": 4,
 "nbformat_minor": 5
}
