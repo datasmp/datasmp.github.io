{
 "cells": [
  {
   "cell_type": "markdown",
   "id": "e52c30a5-5b1a-4893-aefc-dac6ef639d5f",
   "metadata": {},
   "source": [
    "# Dictionaries Business\n",
    "![Section Title: Dictionaries Business](title_pict/dictionaries_business2.png)\n"
   ]
  },
  {
   "cell_type": "markdown",
   "id": "096f5403-840c-4111-9b7d-74c9dec7f1a0",
   "metadata": {},
   "source": [
    "## Business Applications"
   ]
  },
  {
   "cell_type": "markdown",
   "id": "e0d87c50-206c-4d18-92d2-bcbe00bb6e88",
   "metadata": {},
   "source": [
    "### Question-1: Portfolio Analysis\n",
    "The percentage distribution of investments in a portfolio is represented by the following dictionary:\n",
    "\n",
    "``` python\n",
    "dist_invest = {'stocks':0.25, 'bonds':0.45, 'cash': 0.10, 'cryptocurrency': 0.05, 'real estate': 0.15}\n",
    "```\n",
    "\n",
    "Write a function that takes the total investment amount as a parameter and returns a dictionary where the keys are the investment categories from the dist_invest dictionary, and the values are the corresponding amounts invested in each category."
   ]
  },
  {
   "cell_type": "code",
   "execution_count": null,
   "id": "4ccdf9e8-1fae-464b-81df-1fb77b9c29da",
   "metadata": {},
   "outputs": [],
   "source": []
  }
 ],
 "metadata": {
  "kernelspec": {
   "display_name": "Python 3 (ipykernel)",
   "language": "python",
   "name": "python3"
  },
  "language_info": {
   "codemirror_mode": {
    "name": "ipython",
    "version": 3
   },
   "file_extension": ".py",
   "mimetype": "text/x-python",
   "name": "python",
   "nbconvert_exporter": "python",
   "pygments_lexer": "ipython3",
   "version": "3.11.8"
  }
 },
 "nbformat": 4,
 "nbformat_minor": 5
}
