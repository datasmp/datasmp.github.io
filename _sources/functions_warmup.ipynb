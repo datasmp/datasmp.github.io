{
 "cells": [
  {
   "cell_type": "markdown",
   "id": "e52c30a5-5b1a-4893-aefc-dac6ef639d5f",
   "metadata": {},
   "source": [
    "# Functions Warm Up\n",
    "![Section Title: Functions Warm Up](title_pict/functions_warmup2.png)\n"
   ]
  },
  {
   "cell_type": "markdown",
   "id": "924e4455-9d71-49ec-ad3a-e028e60454af",
   "metadata": {},
   "source": [
    "## Warm Up Question-1\n",
    "\n",
    "Write a function that takes a number as a parameter and returns the last digit of this number.\n",
    "- Hint: Use the modulus operator (%) to get the last digit.\n",
    "- Print the output of this function when the input is 234.\n"
   ]
  },
  {
   "cell_type": "markdown",
   "id": "2ad0a355-5dcd-4c54-b39c-246635a187ae",
   "metadata": {},
   "source": [
    "## Warm Up Question-2\n",
    "\n",
    "Write a function that takes a number as a parameter and returns the following: $\\frac{4x^2-2x+5}{x^3-4x}$\n",
    "- Print the output of this function when the input is 5.\n"
   ]
  },
  {
   "cell_type": "markdown",
   "id": "d4975d63-0ad0-43b7-9d9e-99d96af77b5e",
   "metadata": {},
   "source": [
    "## Warm Up Question-3\n",
    "\n",
    "Write a function named lb_g that takes a parameter lb representing a weight in pound and returns its equivalent value in grams (g).\n",
    "- 1 lb = 453.592 g \n",
    "- Print the output of this conversion function when the input is 200 pounds.\n"
   ]
  },
  {
   "cell_type": "markdown",
   "id": "87d8e1ae-8c1e-4743-a137-e69d551bbbc3",
   "metadata": {},
   "source": [
    "## Warm Up Question-4\n",
    "\n",
    "Write a function named support that prints \"Applause!\" each time it is called.\n",
    "- Call the function two times and display its output."
   ]
  },
  {
   "cell_type": "markdown",
   "id": "f6c3e64c-ef86-46a4-96d2-8e186f334f1d",
   "metadata": {},
   "source": [
    "## Warm Up Question-5\n",
    "Write a function that takes two integer parameters: x and y.\n",
    "\n",
    "- The default value of y is 10.\n",
    "- The function should return the product of these two numbers.\n",
    "- Call the function both with and without providing a value for y."
   ]
  }
 ],
 "metadata": {
  "kernelspec": {
   "display_name": "Python 3 (ipykernel)",
   "language": "python",
   "name": "python3"
  },
  "language_info": {
   "codemirror_mode": {
    "name": "ipython",
    "version": 3
   },
   "file_extension": ".py",
   "mimetype": "text/x-python",
   "name": "python",
   "nbconvert_exporter": "python",
   "pygments_lexer": "ipython3",
   "version": "3.11.8"
  }
 },
 "nbformat": 4,
 "nbformat_minor": 5
}
