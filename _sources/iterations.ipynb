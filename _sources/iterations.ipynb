{
 "cells": [
  {
   "cell_type": "markdown",
   "id": "273cb9e8-6582-4b39-83bf-a232b3593736",
   "metadata": {},
   "source": [
    "# Chp-6: Iterations\n",
    "-  Learning Objectives\n",
    "    - ..\n",
    "    - .."
   ]
  },
  {
   "cell_type": "markdown",
   "id": "c625ec32-a7ff-43f4-87b0-5e62c91c6478",
   "metadata": {},
   "source": [
    "Iterations are used to perform the same or similar tasks in a more efficient way. \n",
    "- Similar tasks usually follow a pattern that can be used to write the code in a shorter and more readable way.\n",
    "- There are two types of iterations available in programming languages:\n",
    "    - `while` loop: This is used for indefinite repetition, executing a block code for a possibly unknown number of times.\n",
    "    - `for` loop: This is used for definite repetition, executing a code for a known number of times."
   ]
  },
  {
   "cell_type": "markdown",
   "id": "8efdd387-a7c0-46e1-862b-78d333224cfe",
   "metadata": {},
   "source": [
    "1. The `for` loop executes its block code repeatedly for every element of a sequence. \n",
    "    - It has a condition (boolean expression) with the **in** operator, making it possible to execute the block code only for elements of the sequence.\n",
    "\n",
    "2. The `while` loop executes a block code as long as its condition is True. \n",
    "    - It is similar to an *if* statement becase its condition can be any boolean expression (not only with *in*).\n",
    "    - The difference lies in the fact that the block code of an *if* statement is executed only once if the condition is True.\n",
    "    - In contrast, if the condition of the `while` loop is True, its block code is executed as in *if* statements, but then the condition is checked again.\n",
    "    - If it is still True, the block code will be executed again. The `while` loop keeps executing its block code as long as its condition becomes False or a break command is used to terminate it."
   ]
  },
  {
   "attachments": {},
   "cell_type": "markdown",
   "id": "e54d9778-4227-436e-bb2a-1c4de13454db",
   "metadata": {},
   "source": [
    "## Range Function\n",
    "\n",
    "The built-in `range()` function returns a sequence of integers.\n",
    "- The type of its output is *range*, and its values are hidden within it.\n",
    "- You can use the built-in *list()* function to explicitly display the numbers in a range type output.\n",
    "- The `range()` function has three important parameters: start, end, and step.\n",
    "    - How they work is similar to the start, end, and step used for slicing of strings by using indexes.\n",
    "\n",
    "- There are three cases:\n",
    "|#|Function|Numbers|Explanation|\n",
    "|-|-|-|-|    \n",
    "|1|range(a)     | 0, 1,2,...,a-1  |  integers starting from 0 goes upto a-1|\n",
    "|2|range(a,b)   | a, a+1, ..., b-1 |   integers starting from a goes upto b-1|\n",
    "|3|range(a,b,s) | a, a+s, a+2s, ...,   less than b-1|integers start from a go upto b-1 with an increment of s|\n",
    "\n",
    "- The step $s$ can be a negative number. If $s$ is a negative number:\n",
    "    - If $a < b$, the output is empty (as you cannot reach $a$ from $b$ by adding negative numbers).\n",
    "    - If $a > b$, the output is $a, a-1, \\ldots, b+1$ (as you can reach $a$ from $b$ by adding a negative numbers).\n",
    "- Example:\n",
    "    - range(10) consists of $0, 1, 2, 3, 4, 5, 6, 7, 8, 9$.  \n",
    "    - range(2,10) consists of $2, 3, 4, 5, 6, 7, 8, 9$.  \n",
    "    - range(2,10,3) consists of $2, 5, 8$.  \n",
    "    - range(2,10,-3) is empty.  \n",
    "    - range(10,2,-3) consists of $10, 9, 8, 7, 6, 5, 4, 3$.  "
   ]
  },
  {
   "cell_type": "code",
   "execution_count": 10,
   "id": "0bbbdde8-78a9-4080-8322-c731f6d60923",
   "metadata": {},
   "outputs": [
    {
     "name": "stdout",
     "output_type": "stream",
     "text": [
      "Output: range(0, 10)\n",
      "Type  : <class 'range'>\n",
      "List  : [0, 1, 2, 3, 4, 5, 6, 7, 8, 9]\n"
     ]
    }
   ],
   "source": [
    "# Case 1: range(a)\n",
    "rng_numbers = range(10)\n",
    "\n",
    "print(f'Output: {rng_numbers}' )\n",
    "print(f'Type  : {type(rng_numbers)}')\n",
    "print(f'List  : {list(rng_numbers)}')"
   ]
  },
  {
   "cell_type": "code",
   "execution_count": 12,
   "id": "8841a42d-ba7c-4197-9fb0-3a20376d182f",
   "metadata": {},
   "outputs": [
    {
     "name": "stdout",
     "output_type": "stream",
     "text": [
      "Output: range(2, 10)\n",
      "Type  : <class 'range'>\n",
      "List  : [2, 3, 4, 5, 6, 7, 8, 9]\n"
     ]
    }
   ],
   "source": [
    "# Case 2: range(a,b)\n",
    "rng_numbers = range(2,10)\n",
    "\n",
    "print(f'Output: {rng_numbers}' )\n",
    "print(f'Type  : {type(rng_numbers)}')\n",
    "print(f'List  : {list(rng_numbers)}')"
   ]
  },
  {
   "cell_type": "code",
   "execution_count": 13,
   "id": "030f2978-ed55-4fec-aba8-f9a53fcca60e",
   "metadata": {},
   "outputs": [
    {
     "name": "stdout",
     "output_type": "stream",
     "text": [
      "Output: range(2, 10, 3)\n",
      "Type  : <class 'range'>\n",
      "List  : [2, 5, 8]\n"
     ]
    }
   ],
   "source": [
    "# Case 3: range(a,b,s)\n",
    "rng_numbers = range(2,10,3)\n",
    "\n",
    "print(f'Output: {rng_numbers}' )\n",
    "print(f'Type  : {type(rng_numbers)}')\n",
    "print(f'List  : {list(rng_numbers)}')"
   ]
  },
  {
   "cell_type": "code",
   "execution_count": 17,
   "id": "dc6d882e-6f96-482c-a85d-6b45af60ad64",
   "metadata": {},
   "outputs": [
    {
     "name": "stdout",
     "output_type": "stream",
     "text": [
      "Output: range(2, 10, -3)\n",
      "Type  : <class 'range'>\n",
      "List  : []\n"
     ]
    },
    {
     "data": {
      "text/plain": [
       "[10, 9, 8, 7, 6, 5, 4, 3]"
      ]
     },
     "execution_count": 17,
     "metadata": {},
     "output_type": "execute_result"
    }
   ],
   "source": [
    "# Case 3: a<b and negative s\n",
    "rng_numbers = range(2,10,-3)\n",
    "\n",
    "print(f'Output: {rng_numbers}' )\n",
    "print(f'Type  : {type(rng_numbers)}')\n",
    "print(f'List  : {list(rng_numbers)}')\n",
    "\n",
    "list(range(10,2,-1))"
   ]
  },
  {
   "cell_type": "code",
   "execution_count": 18,
   "id": "7f68e324-3764-4707-8d5a-10719e146d28",
   "metadata": {},
   "outputs": [
    {
     "name": "stdout",
     "output_type": "stream",
     "text": [
      "Output: range(10, 2, -3)\n",
      "Type  : <class 'range'>\n",
      "List  : [10, 7, 4]\n"
     ]
    },
    {
     "data": {
      "text/plain": [
       "[10, 9, 8, 7, 6, 5, 4, 3]"
      ]
     },
     "execution_count": 18,
     "metadata": {},
     "output_type": "execute_result"
    }
   ],
   "source": [
    "# Case 3: a>b and negative s\n",
    "rng_numbers = range(10,2,-3)\n",
    "\n",
    "print(f'Output: {rng_numbers}' )\n",
    "print(f'Type  : {type(rng_numbers)}')\n",
    "print(f'List  : {list(rng_numbers)}')\n",
    "\n",
    "list(range(10,2,-1))"
   ]
  },
  {
   "cell_type": "markdown",
   "id": "ebc30c27-fdb1-4c74-aabd-294c944a732f",
   "metadata": {},
   "source": [
    "## for loop\n",
    "The structure of a `for` loop is as follows:\n",
    "\n",
    "`for i in sequence:`  \n",
    " &emsp;&emsp; `                       `    &emsp;      \n",
    " &emsp;&emsp; `        BLOCK CODE       `    &emsp;      \n",
    " &emsp;&emsp; `                       `    &emsp; \n",
    "\n",
    "\n",
    "- The outputs of the *range()* function and strings can be used as sequences.\n",
    "    - Each number in the output of the range() function will be an $i$ value.\n",
    "    - Each character of the strings will be an $i$ value.\n",
    "- $i$ is the counter, and you can choose a different name for it.\n",
    "- For each $i$ value from the sequence, the block code will be executed.\n",
    "- The output depends on what $i$ does in the block code."
   ]
  },
  {
   "cell_type": "markdown",
   "id": "fb5973ab-7622-400f-8c2f-53ebd4bdd3b4",
   "metadata": {},
   "source": [
    "**Example:** In the code below the values of $i$ are: $3, 4, 5$.\n",
    "- The print statement will be executed for each $i$ value one by one.\n",
    "- The squares of the $i$ values will be printed.\n",
    "        \n",
    "|iteration #|$i$|$i^2$|\n",
    "|-|-|-|\n",
    "|1|3|9|\n",
    "|2|4|16|\n",
    "|3|5|25|\n"
   ]
  },
  {
   "cell_type": "code",
   "execution_count": 20,
   "id": "aaaf0cc4-ac5c-40f6-a85e-9dab401d3b05",
   "metadata": {},
   "outputs": [
    {
     "name": "stdout",
     "output_type": "stream",
     "text": [
      "9\n",
      "16\n",
      "25\n"
     ]
    }
   ],
   "source": [
    "for i in range(3,6):\n",
    "    print(i**2)"
   ]
  },
  {
   "cell_type": "markdown",
   "id": "e1cda683-08f9-44ba-9acd-785a82222dbe",
   "metadata": {},
   "source": [
    "**Example:** In the code below the values of $i$ are: $1,2,3,...,10$\n",
    "- In every iteration $i$ many `&` characters are printed."
   ]
  },
  {
   "cell_type": "code",
   "execution_count": 21,
   "id": "8ea0997a-23d5-45b2-b45a-d0ebe2dd5c1c",
   "metadata": {},
   "outputs": [
    {
     "name": "stdout",
     "output_type": "stream",
     "text": [
      "&\n",
      "&&\n",
      "&&&\n",
      "&&&&\n",
      "&&&&&\n",
      "&&&&&&\n",
      "&&&&&&&\n",
      "&&&&&&&&\n",
      "&&&&&&&&&\n",
      "&&&&&&&&&&\n"
     ]
    }
   ],
   "source": [
    "for i in range(1,11):\n",
    "    print('&'*i)"
   ]
  },
  {
   "cell_type": "markdown",
   "id": "2441c9d9-b57a-4e67-a118-fa4c7678f1a8",
   "metadata": {},
   "source": [
    "**Example:** In the code below, the values of $j$ are: $3, 4, 5$.\n",
    "- The block code (4 lines) will be executed for each $j$ value one by one.\n",
    "- The value of each *frac* variable is calculated as shown in the table below.\n",
    "- The calculated *frac* values will be printed.\n",
    "      \n",
    "|iteration #|j|num = $3\\times j+2$|den = $10^j$| frac=num/den |\n",
    "|-|-|-|-|-|\n",
    "|1|3|$3\\times 3+2=11$|$10^3=1,000$|0.011|\n",
    "|2|4|$3\\times 4+2=14$|$10^4=10,000$|0.0014|\n",
    "|3|5|$3\\times 5+2=17$|$10^5=100,000$|0.00017|"
   ]
  },
  {
   "cell_type": "code",
   "execution_count": 26,
   "id": "c60086e1-fb6d-4726-83a3-2003934be8c4",
   "metadata": {},
   "outputs": [
    {
     "name": "stdout",
     "output_type": "stream",
     "text": [
      "0.011\n",
      "0.0014\n",
      "0.00017\n"
     ]
    }
   ],
   "source": [
    "for j in range(3,6):\n",
    "    num = 3*j+2\n",
    "    den = 10**j\n",
    "    frac = num/den\n",
    "    print(frac)"
   ]
  },
  {
   "cell_type": "markdown",
   "id": "f1b76108-82ef-4e9d-a989-5dc3e2597093",
   "metadata": {},
   "source": [
    "**Example:** In the code below, the values of $i$ are: 'u', 't', 'a', 'h'.\n",
    "- In every iteration, the value of $i$, which is a character of 'utah' is printed."
   ]
  },
  {
   "cell_type": "code",
   "execution_count": 30,
   "id": "9507f3a4-a5c1-4a25-b9cc-5e7eedc12303",
   "metadata": {},
   "outputs": [
    {
     "name": "stdout",
     "output_type": "stream",
     "text": [
      "u\n",
      "t\n",
      "a\n",
      "h\n"
     ]
    }
   ],
   "source": [
    "for i in 'utah':\n",
    "    print(i)"
   ]
  },
  {
   "cell_type": "markdown",
   "id": "4cfded0a-8400-4f70-8539-370096a5cd4a",
   "metadata": {},
   "source": [
    "**Example:** In the code below, the values of $i$ are: 'u', 't', 'a', 'h'.\n",
    "- The condition of the *if* statement is True if the value of $i$ is before 'k' in dictionary order.\n",
    "    - This is False for 'u' and 't', so they are not printed.\n",
    "    - This is True for 'a' and 'h', so they are printed."
   ]
  },
  {
   "cell_type": "code",
   "execution_count": 31,
   "id": "0de04653-8990-4462-9c92-8a7bd08eb229",
   "metadata": {},
   "outputs": [
    {
     "name": "stdout",
     "output_type": "stream",
     "text": [
      "a\n",
      "h\n"
     ]
    }
   ],
   "source": [
    "for i in 'utah':\n",
    "    if i < 'k':\n",
    "        print(i)"
   ]
  },
  {
   "cell_type": "markdown",
   "id": "dcc40c82-d485-4e4d-a897-adb60fa7cba7",
   "metadata": {},
   "source": [
    "**Example:** In the code below, the values of $i$ are: $3, 4, 5$. \n",
    "- The initial value of the $total$ variable is $0$.\n",
    "- In each iteration, the value of $i$ is added to the $total$.\n",
    "\n",
    "|iteration # |$i$|$total$|\n",
    "|:-:|-|-:|\n",
    "|-|-|0|\n",
    "|1|3|0+3=3|\n",
    "|2|4|3+4=7|\n",
    "|3|5|7+5=12|\n"
   ]
  },
  {
   "cell_type": "code",
   "execution_count": 37,
   "id": "e7d7a9ae-58bb-4f0f-aaef-785542fb7270",
   "metadata": {},
   "outputs": [
    {
     "name": "stdout",
     "output_type": "stream",
     "text": [
      "Iteration number:1   i:3--->total:3\n",
      "Iteration number:2   i:4--->total:7\n",
      "Iteration number:3   i:5--->total:12\n"
     ]
    }
   ],
   "source": [
    "total = 0\n",
    "\n",
    "for i in range(3,6):\n",
    "    total += i\n",
    "    print(f'Iteration number:{i-2}   i:{i}--->total:{total}')"
   ]
  },
  {
   "cell_type": "markdown",
   "id": "6c048029-8532-4b68-8fb4-8060bf2801a1",
   "metadata": {},
   "source": [
    "### break and continue\n",
    "`break` is used to terminate the *for* loop.\n",
    "- It is usually used in an *if* statement to terminate the *for* loop under certain conditions.\n",
    "\n",
    "`continue` is used to skip the rest of the body code of the *for* loop.\n",
    "- It goes back to the beginning of the loop.\n",
    "- It does not terminate the loop, just skips the rest of the block code for that iteration."
   ]
  },
  {
   "cell_type": "markdown",
   "id": "7ef5bf42-fae2-4b17-8246-ecd36978c8b4",
   "metadata": {},
   "source": [
    "**Example:** In the code below, the values of $i$ are: $1,2,3,4$.\n",
    "- for $i=1$ and $i=2$, the *if* part is not executed since its condition is False, and the values $1$ and $2$ are printed.\n",
    "- for $i=3$, `break` is executed, and the loop is terminated."
   ]
  },
  {
   "cell_type": "code",
   "execution_count": 48,
   "id": "27674ae1-6092-466c-a44d-4397e73ecb08",
   "metadata": {},
   "outputs": [
    {
     "name": "stdout",
     "output_type": "stream",
     "text": [
      "1\n",
      "2\n"
     ]
    }
   ],
   "source": [
    "for i in range(1,5):\n",
    "    if i == 3: \n",
    "       break\n",
    "    print(i)"
   ]
  },
  {
   "cell_type": "markdown",
   "id": "4c52652d-be6d-4042-bbe2-6f7508d0936f",
   "metadata": {},
   "source": [
    "**Example:** In the code below, the values of $i$ are: $1,2,3,4$.\n",
    "- For $i=1$ and $i=2$, the *if* part is not executed since its condition is False, and the values $1$ and $2$ are printed.\n",
    "- For $i=3$, `continue` is executed, and the print statement is skipped, and the $i=4$ iteration is started.\n",
    "- For $i=4$, the *if* part is not executed since its condition is False, and the value $4$ is printed"
   ]
  },
  {
   "cell_type": "code",
   "execution_count": 49,
   "id": "9e667645-433b-46c9-b080-6522be5c9166",
   "metadata": {},
   "outputs": [
    {
     "name": "stdout",
     "output_type": "stream",
     "text": [
      "1\n",
      "2\n",
      "4\n"
     ]
    }
   ],
   "source": [
    "for i in range(1,5):\n",
    "    if i == 3: \n",
    "       continue\n",
    "    else:                 \n",
    "       print(i)     "
   ]
  },
  {
   "cell_type": "markdown",
   "id": "ef00251a-1579-4aa7-bb23-e636921d6aa7",
   "metadata": {},
   "source": [
    "### for and else\n",
    "*for* loops can have an `else` statement.\n",
    "- The `else` statement is executed when the *for* loop is completed without any *break*.\n"
   ]
  },
  {
   "cell_type": "markdown",
   "id": "8a5e5aeb-589f-496c-a3b6-4c7147ecb708",
   "metadata": {},
   "source": [
    "**Example:** In the code below, the values of $i$ are: $1,2,3,4$.\n",
    "- After executing the print() function for $i=4$, the for loop is over, and the else part is executed."
   ]
  },
  {
   "cell_type": "code",
   "execution_count": 41,
   "id": "573492c9-0c61-4765-bd22-abac89f58986",
   "metadata": {},
   "outputs": [
    {
     "name": "stdout",
     "output_type": "stream",
     "text": [
      "1\n",
      "2\n",
      "3\n",
      "4\n",
      "Over\n"
     ]
    }
   ],
   "source": [
    "for i in range(1,5):\n",
    "    print(i)\n",
    "else:                 \n",
    "    print('Over')     "
   ]
  },
  {
   "cell_type": "markdown",
   "id": "825952c4-0e01-4347-83bc-237605c1c23d",
   "metadata": {},
   "source": [
    "**Example:** In the code below, the values of $i$ are: 1,2,3,4.\n",
    "- The condition of the *if* statement is True when $i$ is 4, and the *break* is executed, so the *for* loop is terminated.\n",
    "    - The *else* part is not executed.\n"
   ]
  },
  {
   "cell_type": "code",
   "execution_count": 40,
   "id": "93237ecb-1235-46ea-ab8b-2ed427b37f0f",
   "metadata": {},
   "outputs": [
    {
     "name": "stdout",
     "output_type": "stream",
     "text": [
      "1\n",
      "2\n",
      "3\n",
      "4\n"
     ]
    }
   ],
   "source": [
    "for i in range(1,5):\n",
    "    print(i)\n",
    "    if i> 3:\n",
    "        break            \n",
    "else:                 \n",
    "    print('Over')     "
   ]
  },
  {
   "cell_type": "markdown",
   "id": "086f6e96-2420-4050-9ef6-4c0cf7e1ab5e",
   "metadata": {},
   "source": [
    "## while loop\n",
    "The `while` loops are similar to the *if* statements. In *if* statements, block code is executed only once when the condition is True, whereas in `while` loops, the block code might be executed more than once.\n",
    "- If the condition is True, the block code is executed as in *if* statements, but then the condition is checked again.\n",
    "- If it is still True, the block code of the *while* loop is executed again.\n",
    "- This process continues as long as the condition is True.\n",
    "- Whenever the condition becomes False, the `while` loop is terminated.\n",
    "\n",
    "The structure of a `while` loop is as follows:\n",
    "\n",
    "`while condition:`  \n",
    " &emsp;&emsp; `                       `    &emsp;      \n",
    " &emsp;&emsp; `        BLOCK CODE       `    &emsp;      \n",
    " &emsp;&emsp; `                       `    &emsp; \n",
    "\n",
    "- `condition` is a Boolean expression (True or False)\n",
    "- Possible conditions:\n",
    "    - True, False;\n",
    "    - <, >, <=, >=, ==, !=\n",
    "    - not, and, or\n",
    "    - numbers, strings\n"
   ]
  },
  {
   "cell_type": "markdown",
   "id": "0853ffc1-351c-4c4e-9a67-c11e37bd41c7",
   "metadata": {},
   "source": [
    "**Example:** \n",
    "In the code below, the initial value of $n$ is 3.\n",
    "1. $n=3$: Check the condition.\n",
    "    - Since $3 > 0$, the condition is True, and the block code is executed.\n",
    "    - $3$ is printed, and $n$ becomes $3 - 1 = 2$.\n",
    "3. $n=2$: Check the condition.\n",
    "    - Since $2 > 0$, the condition is True, and the block code is executed.\n",
    "    - $2$ is printed, and $n$ becomes $2 - 1 = 1$.\n",
    "5. $n=1$: Check the condition.\n",
    "    - Since $1 > 0$, the condition is True, and the block code is executed.\n",
    "    - $1$ is printed, and $n$ becomes $1 - 1 = 0$.\n",
    "7. $n=0$: Check the condition.\n",
    "    - Since $0 > 0$ is False, the condition is False, and the loop is terminated."
   ]
  },
  {
   "cell_type": "code",
   "execution_count": 50,
   "id": "d100a38e-f257-409f-a358-19f510d50896",
   "metadata": {},
   "outputs": [
    {
     "name": "stdout",
     "output_type": "stream",
     "text": [
      "3\n",
      "2\n",
      "1\n"
     ]
    }
   ],
   "source": [
    "n = 3\n",
    "\n",
    "while n>0:\n",
    "    print(n)\n",
    "    n -= 1"
   ]
  },
  {
   "cell_type": "markdown",
   "id": "0f591e10-724a-4518-864f-0764e65cc58e",
   "metadata": {},
   "source": [
    "**Example:** In the code below, the initial value of $n$ is $3$.\n",
    "\n",
    "1. $n=3$: Check the condition.\n",
    "    - Since *bool(3)* is True, the condition is True, and the block code is executed.\n",
    "    - $3$ is printed, and $n$ becomes $3-1=2$.\n",
    "2. $n=2$: Check the condition.\n",
    "    - Since *bool(2)* is True, the condition is True, and the block code is executed.\n",
    "    - $2$ is printed, and $n$ becomes $2-1=1$.\n",
    "3. $n=1$: Check the condition.\n",
    "    - Since *bool(1)* is True, the condition is True, and the block code is executed.\n",
    "    - *1* is printed, and $n$ becomes $1-1=0$.\n",
    "4. $n=0$: Check the condition.\n",
    "    - Since *bool(0)* is False, the condition is False, and the *while* loop is terminated"
   ]
  },
  {
   "cell_type": "code",
   "execution_count": 62,
   "id": "3534aa67-7563-4a9b-8444-49e5f94185a6",
   "metadata": {},
   "outputs": [
    {
     "name": "stdout",
     "output_type": "stream",
     "text": [
      "3\n",
      "2\n",
      "1\n"
     ]
    }
   ],
   "source": [
    "n = 3\n",
    "\n",
    "while n:\n",
    "    print(n)\n",
    "    n -= 1"
   ]
  },
  {
   "cell_type": "markdown",
   "id": "327cdbbf-5359-4261-9505-7ab2bfa3baa9",
   "metadata": {},
   "source": [
    "**Example:** In the code below, the initial values are set with $n=3$ and $\\text{total}=0$.\n",
    "\n",
    "1. $n=3, \\text{total}=0$: Check the condition.\n",
    "    - Since $3 < 6$, the condition is True, and the block code is executed.\n",
    "    - $\\text{total} = 0 + 3 = 3$\n",
    "    - print Iteration number: 1 $n:3 \\rightarrow \\text{total}:3$\n",
    "    - $n = 3+1 = 4$\n",
    "2. $n=4, \\text{total}=3$: Check the condition.\n",
    "    - Since $4 < 6$, the condition is True, and the block code is executed.\n",
    "    - $\\text{total} = 3 + 4 = 7$\n",
    "    - print Iteration number: 2 $n:4 \\rightarrow \\text{total}:7$\n",
    "    - $n = 4+1 = 5$\n",
    "3. $n=5, \\text{total}=7$: Check the condition.\n",
    "    - Since $5 < 6$, the condition is True, and the block code is executed.\n",
    "    - $\\text{total} = 7 + 5 = 12$\n",
    "    - print Iteration number: 3 $n:5 \\rightarrow \\text{total}:12$\n",
    "    - $n = 5+1 = 6$\n",
    "4. $n=6, \\text{total}=12$: Check the condition.\n",
    "    - Since $6 > 6$ is False, the condition is False, and the while loop is terminated.\n",
    "      \n",
    "|iteration # |$n$|$total$|\n",
    "|:-:|-|-:|\n",
    "|-|-|0|\n",
    "|1|3|0+3=3|\n",
    "|2|4|3+4=7|\n",
    "|3|5|7+5=12|\n"
   ]
  },
  {
   "cell_type": "code",
   "execution_count": 55,
   "id": "e3e67c48-e3b8-4ed1-ba9b-b838c2279ad1",
   "metadata": {},
   "outputs": [
    {
     "name": "stdout",
     "output_type": "stream",
     "text": [
      "Iteration number:1   n:3--->total:3\n",
      "Iteration number:2   n:4--->total:7\n",
      "Iteration number:3   n:5--->total:12\n"
     ]
    }
   ],
   "source": [
    "total = 0\n",
    "n = 3\n",
    "while n<6:\n",
    "    total += n\n",
    "    print(f'Iteration number:{n-2}   n:{n}--->total:{total}')\n",
    "    n += 1"
   ]
  },
  {
   "cell_type": "markdown",
   "id": "05334857-c0f7-43e7-9b3c-509720c1ad38",
   "metadata": {},
   "source": [
    "### if versus while\n",
    "In the following two examples, the same block code is used in an *if* statement and a *while* loop.\n",
    "- In the *if* statement, the block code is executed only once for $n=3$.\n",
    "- In the *while* loop, the block code is executed two times for $n=3$ and $n=2$."
   ]
  },
  {
   "cell_type": "markdown",
   "id": "9d746c79-4d5f-454a-b5ed-4650984b1908",
   "metadata": {},
   "source": [
    "**Example-1:** In the code below, the condition of the *if* statement is True, and the block code is executed. \n",
    "- The print statement is executed, and the value of $n$, which is $3$, is printed.\n",
    "- Afterward, $n$ is updated to $3-1=2$.\n",
    "- The *if* statement is then concluded, and the only output is 3."
   ]
  },
  {
   "cell_type": "code",
   "execution_count": 57,
   "id": "cb54aff6-1aaf-4bc5-9f96-7dab0f8b60d7",
   "metadata": {},
   "outputs": [
    {
     "name": "stdout",
     "output_type": "stream",
     "text": [
      "3\n"
     ]
    }
   ],
   "source": [
    "n = 3\n",
    "\n",
    "if n > 1:\n",
    "  print(n)\n",
    "  n = n-1"
   ]
  },
  {
   "cell_type": "markdown",
   "id": "3c4e22d6-dbf1-433f-af69-4e1de6bfbbc3",
   "metadata": {},
   "source": [
    "**Example-2:** In the code below, the initial value of $n$ is 3.\n",
    "\n",
    "1. $n=3$: Check the condition.\n",
    "    - Since $3 > 1$, the condition is True, and the block code is executed.\n",
    "    - $3$ is printed, and $n$ becomes $3-1=2$.\n",
    "2. $n=2$: Check the condition.\n",
    "    - Since $2 > 1$, the condition is True, and the block code is executed.\n",
    "    - $2$ is printed, and $n$ becomes $2-1=1$.\n",
    "3. $n=1$: Check the condition.\n",
    "    - Since $1 > 1$ is False, the condition is False, and the *while* loop is terminated."
   ]
  },
  {
   "cell_type": "code",
   "execution_count": 59,
   "id": "5c51976d-63b0-4ef5-abf4-79e35afbc387",
   "metadata": {},
   "outputs": [
    {
     "name": "stdout",
     "output_type": "stream",
     "text": [
      "3\n",
      "2\n"
     ]
    }
   ],
   "source": [
    "n = 3\n",
    "\n",
    "while n > 1:\n",
    "  print(n)\n",
    "  n = n-1"
   ]
  },
  {
   "cell_type": "markdown",
   "id": "318094e4-cd9d-4bc0-8bc1-69bfa79bf53e",
   "metadata": {},
   "source": [
    "### Infinite Loop"
   ]
  },
  {
   "cell_type": "markdown",
   "id": "e3f7d2c2-72ca-4ebe-ab38-42963d686bd9",
   "metadata": {},
   "source": [
    "It is possible to have a condition for a *while* loop that is always True. \n",
    "- In that case, the block code will be executed repeatedly unless the program is terminated by the user.\n",
    "- This is not a syntax error, but it is not expected because the program will not end."
   ]
  },
  {
   "cell_type": "markdown",
   "id": "f16b78e2-d995-4886-a1fe-39ff8f84f60e",
   "metadata": {},
   "source": [
    "**Example:** In the code below, the initial value of $n$ is $3$, and in each iteration, $n$ is increased by $1$. \n",
    "- Hence, the values of $n$ are: $3, 4, 5, 6, \\ldots$.\n",
    "- The condition $n > 1$ is always True, and the *while* loop never terminates."
   ]
  },
  {
   "cell_type": "markdown",
   "id": "31693162-b731-4c65-9f6d-65da0efeba94",
   "metadata": {},
   "source": [
    "``` python\n",
    "# infinite loop\n",
    "n = 3\n",
    "\n",
    "while n > 1:         # always True\n",
    "  print(n)\n",
    "  n = n+1            # n=3,4,5,......\n",
    "```"
   ]
  },
  {
   "cell_type": "markdown",
   "id": "48a7916d-7c4f-4826-8efa-a6cfa6388463",
   "metadata": {},
   "source": [
    "**Example:** In the code below, the condition is always True.\n",
    "- 'Hello' is printed repeatedly, and the loop never terminates. "
   ]
  },
  {
   "cell_type": "markdown",
   "id": "68ef283f-1b4e-423d-b916-25cbee2233bc",
   "metadata": {},
   "source": [
    "``` python\n",
    "# infinite loop\n",
    "\n",
    "while True:         \n",
    "  print('Hello')           \n",
    "```"
   ]
  },
  {
   "cell_type": "markdown",
   "id": "8765ab2e-094b-4c3f-a07f-6a698a43ba9c",
   "metadata": {},
   "source": [
    "### break and continue \n",
    "They work similarly to the *for* loop. To prevent infinite loops, the use of `break` is particularly crucial for while loops."
   ]
  },
  {
   "cell_type": "markdown",
   "id": "cc0a9f63-6428-4621-8fd0-09b8986c42b9",
   "metadata": {},
   "source": [
    "**Example:** In the code below the initial value of $n$ is $3$.\n",
    "1. $n=3$: Check the condition.\n",
    "    - Since $3 > 1$, the condition is True, and the block code is executed.\n",
    "    - #3# is printed, and $n$ becomes $3+1=4$.\n",
    "    - $3 \\neq 5$, so the condition of the if statement is False, and the `break` statement is skipped.\n",
    "2. $n=4$: Check the condition.\n",
    "    - Since $4 > 1$, the condition is True, and the block code is executed.\n",
    "    - $4$ is printed, and $n$ becomes $4+1=5$.\n",
    "    - $5 == 5$, so the condition of the *if* statement is True, and the `break` statement is executed.\n",
    "    - The *while* loop is terminated."
   ]
  },
  {
   "cell_type": "code",
   "execution_count": 61,
   "id": "e4a0a696-9a44-49a3-9ad3-247af62777d3",
   "metadata": {},
   "outputs": [
    {
     "name": "stdout",
     "output_type": "stream",
     "text": [
      "3\n",
      "4\n"
     ]
    }
   ],
   "source": [
    "n = 3\n",
    "\n",
    "while n > 1:\n",
    "  print(n)\n",
    "  n = n+1\n",
    "  if n == 5:\n",
    "      break"
   ]
  },
  {
   "cell_type": "markdown",
   "id": "032a9f90-ce99-428f-bc41-826595b49562",
   "metadata": {},
   "source": [
    "## Examples"
   ]
  },
  {
   "cell_type": "markdown",
   "id": "7bf0eff5-aedf-47e2-852e-657070a8fcb8",
   "metadata": {},
   "source": [
    "### Sum of Numbers\n",
    "Find the sum of the numbers $1,2,3,...,100$ by using \n",
    "1. a *for* loop\n",
    "2. a *while* loop\n",
    "3. The formula for the sum of the first $n$ positive integers: $1+2+3+\\ldots+n=\\displaystyle \\frac{n(n+1)}{2}$\n",
    "\n",
    "**Solution**"
   ]
  },
  {
   "cell_type": "code",
   "execution_count": 66,
   "id": "0660bfcc-82fd-4c3d-bad9-4430370f4997",
   "metadata": {},
   "outputs": [
    {
     "name": "stdout",
     "output_type": "stream",
     "text": [
      "for   loop answer: 5050\n",
      "while loop answer: 5050\n",
      "formula    answer: 5050.0\n"
     ]
    }
   ],
   "source": [
    "# for loop\n",
    "total_for = 0\n",
    "for i in range(1,101):\n",
    "    total_for += i\n",
    "\n",
    "# while loop\n",
    "total_while = 0\n",
    "n = 1\n",
    "while n <= 100:\n",
    "    total_while += n\n",
    "    n +=1\n",
    "\n",
    "#formula\n",
    "total_formula = 100*(100+1)/2\n",
    "\n",
    "print(f'for   loop answer: {total_for}')\n",
    "print(f'while loop answer: {total_while}')\n",
    "print(f'formula    answer: {total_formula}')"
   ]
  },
  {
   "cell_type": "markdown",
   "id": "9a43e1ef-a7cc-4ec8-ab67-aba2b5030d60",
   "metadata": {},
   "source": [
    "### Text Analysis\n",
    "\n",
    "For the given text below, find the number of occurrences of the character 't' using:\n",
    "1. a *for* loop\n",
    "2. a *while* loop\n",
    "3. a *string* method"
   ]
  },
  {
   "cell_type": "code",
   "execution_count": 104,
   "id": "0a9fbf48-a172-4c89-9791-0198651aabd6",
   "metadata": {},
   "outputs": [],
   "source": [
    "text = \"\"\" A computer is a machine that can be instructed to carry out sequences of arithmetic or logical operations\n",
    "           automatically via computer programming. Modern computers have the ability to follow generalized sets of operations,\n",
    "           called programs. These programs enable computers to perform an extremely wide range of tasks. A \"complete\" computer\n",
    "           including the hardware, the operating system (main software), and peripheral equipment required and used for \"full\"\n",
    "            operation can be referred to as a computer system. This term may as well be used for a group of computers that are\n",
    "            connected and work together, in particular a computer network or computer cluster.\n",
    "       \"\"\""
   ]
  },
  {
   "cell_type": "markdown",
   "id": "3a4f6ea0-ae55-4760-a6a3-585b10455f76",
   "metadata": {},
   "source": [
    "**Solution**"
   ]
  },
  {
   "cell_type": "code",
   "execution_count": 80,
   "id": "782783fe-ad93-4e17-8007-ce39cf2c7c33",
   "metadata": {},
   "outputs": [
    {
     "name": "stdout",
     "output_type": "stream",
     "text": [
      "for   loop answer: 0\n",
      "while loop answer: 0\n",
      "method     answer: 0\n"
     ]
    }
   ],
   "source": [
    "# for loop\n",
    "count_for = 0\n",
    "for char in text:\n",
    "    if char == 't':\n",
    "        count_for +=1\n",
    "\n",
    "# while loop\n",
    "count_while = 0\n",
    "n = 0\n",
    "while n < len(text):   # n values are the indexes\n",
    "    if text[n] == 't':\n",
    "        count_while +=1\n",
    "    n += 1\n",
    "\n",
    "# string method\n",
    "count_method = text.count('t')\n",
    "\n",
    "print(f'for   loop answer: {count_for}')\n",
    "print(f'while loop answer: {count_while}')\n",
    "print(f'method     answer: {count_method}')"
   ]
  },
  {
   "cell_type": "markdown",
   "id": "d9e45435-0576-49a4-b300-3176f21b9cf2",
   "metadata": {},
   "source": [
    "### Reverse a word\n",
    "Write a program that reverses the given text below using:\n",
    "1. a *for* loop\n",
    "2. a *while* loop\n",
    "3. indexing and step"
   ]
  },
  {
   "cell_type": "code",
   "execution_count": 76,
   "id": "c9c9f3de-a103-44c2-877b-a23cb81cb7df",
   "metadata": {},
   "outputs": [],
   "source": [
    "text = 'How are you?'"
   ]
  },
  {
   "cell_type": "markdown",
   "id": "044556a0-15ec-4d66-8da4-b8fca05fad8f",
   "metadata": {},
   "source": [
    "**Solution**"
   ]
  },
  {
   "cell_type": "code",
   "execution_count": 84,
   "id": "b435a30f-dada-4056-8cde-e6e2e362e002",
   "metadata": {},
   "outputs": [
    {
     "name": "stdout",
     "output_type": "stream",
     "text": [
      "for   loop answer: ?uoy era woH\n",
      "while loop answer: ?uoy era woH\n",
      "indexing   answer: ?uoy era woH\n"
     ]
    }
   ],
   "source": [
    "# for loop\n",
    "reverse_for = ''\n",
    "for char in text:\n",
    "    reverse_for = char + reverse_for\n",
    "\n",
    "# while loop\n",
    "reverse_while = ''\n",
    "n = 0\n",
    "while n < len(text):\n",
    "    reverse_while = text[n] + reverse_while\n",
    "    n += 1\n",
    "# indexing\n",
    "reverse_index = text[::-1]\n",
    "\n",
    "print(f'for   loop answer: {reverse_for}')\n",
    "print(f'while loop answer: {reverse_while}')\n",
    "print(f'indexing   answer: {reverse_index}')"
   ]
  },
  {
   "cell_type": "markdown",
   "id": "336ef62c-f0b8-4d9d-9acd-ae8f56ffeb1e",
   "metadata": {},
   "source": [
    "### Secret Number Game\n",
    "This is the updated version of the game in the conditionals chapter. In this new version, the user will keep guessing the number until quitting the game by entering $0$.\n",
    "\n",
    "- Choose a random integer between $1$ and $10$ as the secret number, and 0 to quit the game.\n",
    "- Ask for a number from the user to guess the secret number.\n",
    "    - If the user's guess is correct, display 'You win!'\n",
    "    - If the user's guess is incorrect, display 'Incorrect. Try again!' and ask for a new guess.\n",
    "    - If the user's input is $0$, quit the game.\n",
    "- Use *try* and *except* to avoid errors if the user enters non-numeric values.\n",
    "    - Warn the user if there is an error by displaying a message.\n",
    "\n",
    "**Solution**  \n",
    "\n",
    "``` python\n",
    "import random\n",
    "secret_number = random.randint(1,10)      # choose a random number between 1 and 10\n",
    "\n",
    "while True:                               # it will keep asking for a guess from the user as long as there is no break\n",
    "\n",
    "    try:\n",
    "        player = int(input('Guess the secret number or press 0 to quit: '))\n",
    "    \n",
    "        if player == secret_number:\n",
    "            print('Correct. You win!')\n",
    "            break\n",
    "        elif player == 0:\n",
    "            print('Game is over!')\n",
    "            break\n",
    "        else:                                   \n",
    "            print('Incorrect. Try Again!')          \n",
    "    \n",
    "    except:\n",
    "        print('Please enter a valid numeric value!')\n",
    "```\n",
    "**Sample Output:**    \n",
    "Guess the secret number or press 0 to quit:  6  \n",
    "Incorrect. Try Again!  \n",
    "Guess the secret number or press 0 to quit:  3  \n",
    "Incorrect. Try Again!  \n",
    "Guess the secret number or press 0 to quit:  8  \n",
    "Correct. You win!  "
   ]
  },
  {
   "cell_type": "markdown",
   "id": "4d2e0d2e-dd7b-477b-84c8-61a12215f810",
   "metadata": {},
   "source": [
    "### Factors-1\n",
    "Write a program that asks the user to enter a positive integer.\n",
    "- Display the positive factors of this number.\n",
    "- A factor of a number is a positive integer that divides the given number without leaving a remainder.\n",
    "- Example: The factors of $12$ are $1,2,3,4,6,12$.\n",
    "\n",
    "**Solution**\n",
    "\n",
    "``` python\n",
    "n = int(   input('Enter a positive integer n:')  )\n",
    "print(f'Factors of {n} are: ', end = '')\n",
    "\n",
    "for i in range(1,n+1):       # factors are between 1 and the given number n\n",
    "    if n%i==0:\n",
    "        print(i, end=',')\n",
    "        \n",
    "print('\\b') # remove the last comma \n",
    "```\n",
    "\n",
    "**Sample Output:**  \n",
    "Enter a positive integer n: 12  \n",
    "Factors of 12 are: 1,2,3,4,6,12"
   ]
  },
  {
   "cell_type": "markdown",
   "id": "769b303a-ce0d-4ed1-914d-02a7a9b7d277",
   "metadata": {},
   "source": [
    "### Factors-2\n",
    "Write a program that asks the user to enter a positive integer.\n",
    "- Display whether the numbers between 1 and the given number are positive factors of the given number.\n",
    " \n",
    "**Solution**\n",
    "\n",
    "``` python\n",
    "number = int( input('Enter a positive integer n:'))\n",
    "\n",
    "for i in range(1, number+1):  # 1,2,3,4,5,6\n",
    "  if number % i == 0:     # i is a factor\n",
    "    print(f'{i} is a factor of {number}.')\n",
    "  else:                   # i is not a factor\n",
    "    print(f'{i} is NOT a factor of {number}.')\n",
    "```\n",
    "\n",
    "**Sample Output:**  \n",
    "Enter a positive integer n: 12  \n",
    "1 is a factor of 12.  \n",
    "2 is a factor of 12.  \n",
    "3 is a factor of 12.  \n",
    "4 is a factor of 12.  \n",
    "5 is NOT a factor of 12.  \n",
    "6 is a factor of 12.  \n",
    "7 is NOT a factor of 12.  \n",
    "8 is NOT a factor of 12.  \n",
    "9 is NOT a factor of 12.   \n",
    "10 is NOT a factor of 12.   \n",
    "11 is NOT a factor of 12.  \n",
    "12 is a factor of 12.  "
   ]
  },
  {
   "cell_type": "markdown",
   "id": "b6cd116a-89fa-48cb-b156-80c0d0dbce0c",
   "metadata": {},
   "source": [
    "### Countdown\n",
    "Write a program that counts down from $3$ to $0$ and displays these numbers with 'START' at the end.\n",
    "- Add one second between each output by using the *sleep()* method of the *time* module.\n",
    "    - *time.sleep(1)* delays the execution for $1$ second.\n",
    "      \n",
    "**Solution**\n",
    "\n",
    "``` python\n",
    "import time\n",
    "\n",
    "for i in range(3,-1,-1):\n",
    "  print(i)\n",
    "  time.sleep(1)\n",
    "    \n",
    "print('START')\n",
    "```\n",
    "\n",
    "**Output:**     \n",
    "3  \n",
    "2  \n",
    "1  \n",
    "0  \n",
    "START  "
   ]
  },
  {
   "cell_type": "code",
   "execution_count": null,
   "id": "46aa8597-1043-4b38-bab9-ff5f44420ae3",
   "metadata": {},
   "outputs": [],
   "source": []
  }
 ],
 "metadata": {
  "kernelspec": {
   "display_name": "Python 3 (ipykernel)",
   "language": "python",
   "name": "python3"
  },
  "language_info": {
   "codemirror_mode": {
    "name": "ipython",
    "version": 3
   },
   "file_extension": ".py",
   "mimetype": "text/x-python",
   "name": "python",
   "nbconvert_exporter": "python",
   "pygments_lexer": "ipython3",
   "version": "3.11.7"
  }
 },
 "nbformat": 4,
 "nbformat_minor": 5
}
