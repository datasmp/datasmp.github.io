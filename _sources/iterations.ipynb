{
 "cells": [
  {
   "cell_type": "markdown",
   "id": "273cb9e8-6582-4b39-83bf-a232b3593736",
   "metadata": {},
   "source": [
    "# Chp-6: Iterations"
   ]
  },
  {
   "cell_type": "markdown",
   "id": "009b7522-f0fb-4106-9940-67d35677a1f9",
   "metadata": {},
   "source": [
    "![](title_pict/iterations.png)"
   ]
  },
  {
   "cell_type": "markdown",
   "id": "4b63f532-21a7-47e3-b666-73af6c591427",
   "metadata": {},
   "source": [
    "`````{admonition} Chapter Objectives\n",
    ":class: tip\n",
    "\n",
    "By the end of this chapter, the student should be able to:\n",
    "- Explain the purpose and role of iterations.\n",
    "- Use for and while loops for iterating over sequences.\n",
    "- Use the range function to generate sequences.\n",
    "- Apply loop control statements such as break and continue.\n",
    "- Apply iterations to solve real-world problems.\n",
    "`````"
   ]
  },
  {
   "cell_type": "markdown",
   "id": "8fe2a75c-ad8e-441e-b407-f01a6141f3cf",
   "metadata": {},
   "source": [
    "## Motivation\n",
    "### Triangle\n",
    "As a motivational exercise, let's recall the code we previously encountered for printing a triangle using the `&` character and the *print()* function."
   ]
  },
  {
   "cell_type": "code",
   "execution_count": 106,
   "id": "7973cffa-f93d-48e5-b930-08f4fe21c5e2",
   "metadata": {},
   "outputs": [
    {
     "name": "stdout",
     "output_type": "stream",
     "text": [
      "&\n",
      "&&\n",
      "&&&\n",
      "&&&&\n",
      "&&&&&\n",
      "&&&&&&\n",
      "&&&&&&&\n",
      "&&&&&&&&\n",
      "&&&&&&&&&\n",
      "&&&&&&&&&&\n"
     ]
    }
   ],
   "source": [
    "print('&')\n",
    "print('&&')\n",
    "print('&&&')\n",
    "print('&&&&')\n",
    "print('&&&&&')\n",
    "print('&&&&&&')\n",
    "print('&&&&&&&')\n",
    "print('&&&&&&&&')\n",
    "print('&&&&&&&&&')\n",
    "print('&&&&&&&&&&')"
   ]
  },
  {
   "cell_type": "markdown",
   "id": "67f5e16e-e1d1-49f7-bda6-69257d877be8",
   "metadata": {},
   "source": [
    "This code follows a pattern where the number of `&` characters increases by one in each line, simplifying the code through repetition."
   ]
  },
  {
   "cell_type": "code",
   "execution_count": 108,
   "id": "a890db8a-8fe3-4d9c-86b6-63fc7c849ef8",
   "metadata": {},
   "outputs": [
    {
     "name": "stdout",
     "output_type": "stream",
     "text": [
      "&\n",
      "&&\n",
      "&&&\n",
      "&&&&\n",
      "&&&&&\n",
      "&&&&&&\n",
      "&&&&&&&\n",
      "&&&&&&&&\n",
      "&&&&&&&&&\n",
      "&&&&&&&&&&\n"
     ]
    }
   ],
   "source": [
    "print('&'*1)\n",
    "print('&'*2)\n",
    "print('&'*3)\n",
    "print('&'*4)\n",
    "print('&'*5)\n",
    "print('&'*6)\n",
    "print('&'*7)\n",
    "print('&'*8)\n",
    "print('&'*9)\n",
    "print('&'*10)"
   ]
  },
  {
   "cell_type": "markdown",
   "id": "ee727c57-34b8-4f72-ba2d-8637a8437ed2",
   "metadata": {},
   "source": [
    "- The second version, using string repetition, is simpler than the first.\n",
    "- However, further simplification is possible as there are still repetitions, such as the presence of the print() function in each line.\n",
    "- To address this, iterations can be employed to avoid using the *print()* function ten times.\n",
    "- Using iterations offers the following advantages:\n",
    "    - It eliminates repetition.\n",
    "    - It does not become longer even with a larger triangle\n",
    "- The iteration version is as follows:"
   ]
  },
  {
   "cell_type": "code",
   "execution_count": 129,
   "id": "0e433c3b-891d-4500-8c0f-1db2edf336a8",
   "metadata": {},
   "outputs": [
    {
     "name": "stdout",
     "output_type": "stream",
     "text": [
      "&\n",
      "&&\n",
      "&&&\n",
      "&&&&\n",
      "&&&&&\n",
      "&&&&&&\n",
      "&&&&&&&\n",
      "&&&&&&&&\n",
      "&&&&&&&&&\n",
      "&&&&&&&&&&\n"
     ]
    }
   ],
   "source": [
    "for i in range(1,11):    # iteration\n",
    "    print('&'*i)"
   ]
  },
  {
   "cell_type": "markdown",
   "id": "bf3c7415-21eb-4fad-a7d7-61ef9ba8e6a9",
   "metadata": {},
   "source": [
    "### Strings\n",
    "- We have explored various methods for working with strings, yet a crucial aspect remains unaddressed:  \n",
    "    - how to iterate through all characters of a string individually.\n",
    "-  While indexes and slices allow access to specific characters or portions of a string, the challenge lies in accessing each character sequentially.\n",
    "\n",
    "1. **Question:** What is the occurrence of a certain character, such as 'r', in a string?\n",
    "    - How can we address this question without using the *count()* method of strings?\n",
    "    - The solution involves checking whether each character in the string matches 'r'."
   ]
  },
  {
   "cell_type": "markdown",
   "id": "851245bd-c1f6-44fb-b630-2ec24c943bc5",
   "metadata": {},
   "source": [
    "- Let's attempt to write code that answers this question using a short string and only the information we have gathered from the previous chapters."
   ]
  },
  {
   "cell_type": "code",
   "execution_count": 112,
   "id": "574b28d7-e568-4789-9dac-27ebc4ec6235",
   "metadata": {},
   "outputs": [
    {
     "name": "stdout",
     "output_type": "stream",
     "text": [
      "There are 2 \"r\" characters in radar.\n"
     ]
    }
   ],
   "source": [
    "text = 'radar'\n",
    "count_r = 0\n",
    "\n",
    "if text[0] == 'r':\n",
    "    count_r += 1\n",
    "if text[1] == 'r':\n",
    "    count_r += 1\n",
    "if text[2] == 'r':\n",
    "    count_r += 1\n",
    "if text[3] == 'r':\n",
    "    count_r += 1\n",
    "if text[4] == 'r':\n",
    "    count_r += 1\n",
    "\n",
    "print(f'There are {count_r} \"r\" characters in {text}.')"
   ]
  },
  {
   "cell_type": "markdown",
   "id": "c74f0cd9-6381-4c25-967d-ba7914e05769",
   "metadata": {},
   "source": [
    "- As evident, there are numerous repetitions in this code, making it overwhelming for long strings.\n",
    "- To mitigate this, iterations can be employed to avoid the need for using the *if* statements multiple times.\n",
    "- The iteration version is as follows, it eliminates repetition and does not become longer even with an extended string."
   ]
  },
  {
   "cell_type": "code",
   "execution_count": 2,
   "id": "a79a4e30-95f9-4b1b-8ed2-429e46188c6d",
   "metadata": {},
   "outputs": [
    {
     "name": "stdout",
     "output_type": "stream",
     "text": [
      "There are 2 \"r\" characters in radar.\n"
     ]
    }
   ],
   "source": [
    "text = 'radar'\n",
    "count_r = 0\n",
    "\n",
    "for char in text:            # iteration\n",
    "    if char == 'r':          # Checking if the character is 'r'\n",
    "        count_r += 1\n",
    "    \n",
    "print(f'There are {count_r} \"r\" characters in {text}.')"
   ]
  },
  {
   "cell_type": "markdown",
   "id": "9cd32a81-7cd7-41b4-8939-2e4ec4f734e9",
   "metadata": {},
   "source": [
    "2. **Question:** Now let's work on a more complicated question. What are the digits in a string which are greater than 6?\n",
    "- Let's attempt to write code that answers this question using a  string which consists of digits and only the information we have gathered from the previous chapters."
   ]
  },
  {
   "cell_type": "code",
   "execution_count": 5,
   "id": "d2afb72a-a0ff-45bf-935a-561ac1a97a44",
   "metadata": {},
   "outputs": [
    {
     "name": "stdout",
     "output_type": "stream",
     "text": [
      "The digits in 192736 which are greater than 6:\n",
      "9\n",
      "7\n"
     ]
    }
   ],
   "source": [
    "text = '192736'\n",
    "print(f'The digits in {text} which are greater than 6:')\n",
    "\n",
    "if int(text[0]) > 6:\n",
    "    print(text[0])\n",
    "if int(text[1]) > 6:\n",
    "    print(text[1])\n",
    "if int(text[2]) > 6:\n",
    "    print(text[2])\n",
    "if int(text[3]) > 6:\n",
    "    print(text[3])\n",
    "if int(text[4]) > 6:\n",
    "    print(text[4])\n",
    "if int(text[5]) > 6:\n",
    "    print(text[5])"
   ]
  },
  {
   "cell_type": "markdown",
   "id": "055287cb-3f0c-4d9e-a44d-6fd636c74756",
   "metadata": {},
   "source": [
    "- The code above shows repetition, which can be overwhelming for long strings.\n",
    "- The iteration version, provided below, eliminates this repetition and does not become longer even with an extended string."
   ]
  },
  {
   "cell_type": "code",
   "execution_count": 133,
   "id": "e916dfdf-0545-4424-8ebc-c8da26858df8",
   "metadata": {},
   "outputs": [
    {
     "name": "stdout",
     "output_type": "stream",
     "text": [
      "The digits greater than 6 in 192736:\n",
      "9\n",
      "7\n"
     ]
    }
   ],
   "source": [
    "text = '192736'\n",
    "print(f'The digits greater than 6 in {text}:')\n",
    "\n",
    "for char in text:\n",
    "    if int(char) > 6:\n",
    "        print(char)"
   ]
  },
  {
   "cell_type": "markdown",
   "id": "810c7aa1-8ce2-42fa-8ad8-4ebd7da8ee6e",
   "metadata": {},
   "source": [
    "## Iterations\n",
    "Iterations are used to perform the same or similar tasks in a more efficient way. \n",
    "- Similar tasks usually follow a pattern that can be used to write the code in a shorter and more readable way.\n"
   ]
  },
  {
   "cell_type": "markdown",
   "id": "987c716e-49e7-41f2-ab21-5df6eae85aa4",
   "metadata": {},
   "source": [
    "There are two types of iterations available in programming languages:\n",
    "- `for` loop: This is used for definite repetition, executing a code for a known number of times.\n",
    "- `while` loop: This is used for indefinite repetition, executing a block code for a possibly unknown number of times.\n"
   ]
  },
  {
   "cell_type": "markdown",
   "id": "8efdd387-a7c0-46e1-862b-78d333224cfe",
   "metadata": {},
   "source": [
    "1. The `for` loop executes its block code repeatedly for every element of a sequence. \n",
    "    - It has a condition (boolean expression) with the **in** operator, making it possible to execute the block code only for elements of the sequence.\n",
    "\n",
    "2. The `while` loop executes a block code as long as its condition is True. \n",
    "    - It is similar to an *if* statement because its condition can be any boolean expression (not only with *in*).\n",
    "    - The difference lies in the fact that the block code of an *if* statement is executed only once if the condition is True.\n",
    "    - In contrast, if the condition of the `while` loop is True, its block code is executed as in *if* statements, but then the condition is checked again.\n",
    "    - If it is still True, the block code will be executed again.\n",
    "    - The `while` loop keeps executing its block code as long as its condition becomes False or a break command is used to terminate it."
   ]
  },
  {
   "attachments": {},
   "cell_type": "markdown",
   "id": "e54d9778-4227-436e-bb2a-1c4de13454db",
   "metadata": {},
   "source": [
    "## Range Function\n",
    "\n",
    "The built-in `range()` function returns a sequence of integers.\n",
    "- The type of its output is *range*, and its values are hidden within it.\n",
    "- You can use the built-in *list()* function to explicitly display the numbers in a range type output.\n",
    "- The `range()` function has three important parameters: start, end, and step.\n",
    "    - How they work is similar to the start, end, and step used for slicing of strings or lists by using indexes.\n",
    "\n",
    "There are three cases:\n",
    "\n",
    "|#|Function|Numbers|Explanation|\n",
    "|-|-|-|-|    \n",
    "|1|range(a)     | 0, 1,2,...,a-1  |  integers starting from 0 goes upto a-1|\n",
    "|2|range(a,b)   | a, a+1, ..., b-1 |   integers starting from a goes upto b-1|\n",
    "|3|range(a,b,s) | a, a+s, a+2s, ...,   less than b-1|integers start from a go upto b-1 with an increment of s|\n",
    "\n",
    "- The step $s$ can be a negative number. If $s$ is a negative number:\n",
    "    - If $a < b$, the output is empty (as you cannot reach $a$ from $b$ by adding negative numbers).\n",
    "    - If $a > b$, the output is $a, a+s, a+2s \\ldots ,$ less than $b+1$ (as you can reach $b$ from $a$ by adding negative numbers).\n",
    "- Examples:\n",
    "    - range(10) consists of $0, 1, 2, 3, 4, 5, 6, 7, 8, 9$.  \n",
    "    - range(2,10) consists of $2, 3, 4, 5, 6, 7, 8, 9$.  \n",
    "    - range(2,10,3) consists of $2, 5, 8$.  \n",
    "    - range(2,10,-3) is empty.  \n",
    "    - range(10,2,-3) consists of $10, 7, 4$.  "
   ]
  },
  {
   "cell_type": "code",
   "execution_count": 10,
   "id": "0bbbdde8-78a9-4080-8322-c731f6d60923",
   "metadata": {},
   "outputs": [
    {
     "name": "stdout",
     "output_type": "stream",
     "text": [
      "Output: range(0, 10)\n",
      "Type  : <class 'range'>\n",
      "List  : [0, 1, 2, 3, 4, 5, 6, 7, 8, 9]\n"
     ]
    }
   ],
   "source": [
    "# Case 1: range(a)\n",
    "rng_numbers = range(10)\n",
    "\n",
    "print(f'Output: {rng_numbers}' )\n",
    "print(f'Type  : {type(rng_numbers)}')\n",
    "print(f'List  : {list(rng_numbers)}')"
   ]
  },
  {
   "cell_type": "code",
   "execution_count": 12,
   "id": "8841a42d-ba7c-4197-9fb0-3a20376d182f",
   "metadata": {},
   "outputs": [
    {
     "name": "stdout",
     "output_type": "stream",
     "text": [
      "Output: range(2, 10)\n",
      "Type  : <class 'range'>\n",
      "List  : [2, 3, 4, 5, 6, 7, 8, 9]\n"
     ]
    }
   ],
   "source": [
    "# Case 2: range(a,b)\n",
    "rng_numbers = range(2,10)\n",
    "\n",
    "print(f'Output: {rng_numbers}' )\n",
    "print(f'Type  : {type(rng_numbers)}')\n",
    "print(f'List  : {list(rng_numbers)}')"
   ]
  },
  {
   "cell_type": "code",
   "execution_count": 13,
   "id": "030f2978-ed55-4fec-aba8-f9a53fcca60e",
   "metadata": {},
   "outputs": [
    {
     "name": "stdout",
     "output_type": "stream",
     "text": [
      "Output: range(2, 10, 3)\n",
      "Type  : <class 'range'>\n",
      "List  : [2, 5, 8]\n"
     ]
    }
   ],
   "source": [
    "# Case 3: range(a,b,s)\n",
    "rng_numbers = range(2,10,3)\n",
    "\n",
    "print(f'Output: {rng_numbers}' )\n",
    "print(f'Type  : {type(rng_numbers)}')\n",
    "print(f'List  : {list(rng_numbers)}')"
   ]
  },
  {
   "cell_type": "code",
   "execution_count": 6,
   "id": "dc6d882e-6f96-482c-a85d-6b45af60ad64",
   "metadata": {},
   "outputs": [
    {
     "name": "stdout",
     "output_type": "stream",
     "text": [
      "Output: range(2, 10, -3)\n",
      "Type  : <class 'range'>\n",
      "List  : []\n"
     ]
    }
   ],
   "source": [
    "# Case 3: a<b and negative s\n",
    "rng_numbers = range(2,10,-3)\n",
    "\n",
    "print(f'Output: {rng_numbers}' )\n",
    "print(f'Type  : {type(rng_numbers)}')\n",
    "print(f'List  : {list(rng_numbers)}')\n"
   ]
  },
  {
   "cell_type": "code",
   "execution_count": 7,
   "id": "7f68e324-3764-4707-8d5a-10719e146d28",
   "metadata": {},
   "outputs": [
    {
     "name": "stdout",
     "output_type": "stream",
     "text": [
      "Output: range(10, 2, -3)\n",
      "Type  : <class 'range'>\n",
      "List  : [10, 7, 4]\n"
     ]
    }
   ],
   "source": [
    "# Case 3: a>b and negative s\n",
    "rng_numbers = range(10,2,-3)\n",
    "\n",
    "print(f'Output: {rng_numbers}' )\n",
    "print(f'Type  : {type(rng_numbers)}')\n",
    "print(f'List  : {list(rng_numbers)}')\n"
   ]
  },
  {
   "cell_type": "markdown",
   "id": "ebc30c27-fdb1-4c74-aabd-294c944a732f",
   "metadata": {},
   "source": [
    "## for loop\n",
    "The structure of a `for` loop is as follows:\n",
    "\n",
    "`for i in sequence:`  \n",
    " &emsp;&emsp; `                       `    &emsp;      \n",
    " &emsp;&emsp; `        BLOCK CODE       `    &emsp;      \n",
    " &emsp;&emsp; `                       `    &emsp; \n",
    "\n",
    "\n",
    "- The outputs of the *range()* function and strings can be used as sequences.\n",
    "    - Each number in the output of the range() function will be an $i$ value.\n",
    "    - Each character of the strings will be an $i$ value.\n",
    "- $i$ is the counter, and you can choose a different name for it.\n",
    "- For each $i$ value from the sequence, the block code will be executed.\n",
    "- The output depends on what $i$ does in the block code."
   ]
  },
  {
   "cell_type": "markdown",
   "id": "fb5973ab-7622-400f-8c2f-53ebd4bdd3b4",
   "metadata": {},
   "source": [
    "**Example:** In the code below the values of $i$ are: $3, 4, 5$.\n",
    "- The print statement will be executed for each $i$ value one by one.\n",
    "- The squares of the $i$ values will be printed.\n",
    "        \n",
    "|iteration #|$i$|$i^2$|\n",
    "|-|-|-|\n",
    "|1|3|9|\n",
    "|2|4|16|\n",
    "|3|5|25|\n"
   ]
  },
  {
   "cell_type": "code",
   "execution_count": 20,
   "id": "aaaf0cc4-ac5c-40f6-a85e-9dab401d3b05",
   "metadata": {},
   "outputs": [
    {
     "name": "stdout",
     "output_type": "stream",
     "text": [
      "9\n",
      "16\n",
      "25\n"
     ]
    }
   ],
   "source": [
    "for i in range(3,6):\n",
    "    print(i**2)"
   ]
  },
  {
   "cell_type": "markdown",
   "id": "6966ee6b-ab5c-4e41-b6a2-dcc0ee36418e",
   "metadata": {},
   "source": [
    "![](pict/for_fig_white.png)"
   ]
  },
  {
   "cell_type": "markdown",
   "id": "e1cda683-08f9-44ba-9acd-785a82222dbe",
   "metadata": {},
   "source": [
    "**Example:** In the code below the values of $i$ are: $1,2,3,...,10$\n",
    "- In every iteration, $i$ many `&` characters are printed.\n",
    "\n",
    "|iteration #|$i$|&*$i$|\n",
    "|-|-|-|\n",
    "|1|1|&|\n",
    "|2|2|&&|\n",
    "|3|3|&&&|\n",
    "|4|4|&&&&|\n",
    "|5|5|&&&&&|\n",
    "|6|6|&&&&&&|\n",
    "|7|7|&&&&&&&|\n",
    "|8|8|&&&&&&&&|\n",
    "|9|9|&&&&&&&&&|\n",
    "|10|10|&&&&&&&&&&|"
   ]
  },
  {
   "cell_type": "code",
   "execution_count": 21,
   "id": "8ea0997a-23d5-45b2-b45a-d0ebe2dd5c1c",
   "metadata": {},
   "outputs": [
    {
     "name": "stdout",
     "output_type": "stream",
     "text": [
      "&\n",
      "&&\n",
      "&&&\n",
      "&&&&\n",
      "&&&&&\n",
      "&&&&&&\n",
      "&&&&&&&\n",
      "&&&&&&&&\n",
      "&&&&&&&&&\n",
      "&&&&&&&&&&\n"
     ]
    }
   ],
   "source": [
    "for i in range(1,11):\n",
    "    print('&'*i)"
   ]
  },
  {
   "cell_type": "markdown",
   "id": "2441c9d9-b57a-4e67-a118-fa4c7678f1a8",
   "metadata": {},
   "source": [
    "**Example:** In the code below, the values of $j$ are: $3, 4, 5$.\n",
    "- The block code (4 lines) will be executed for each $j$ value one by one.\n",
    "- The value of each *frac* variable is calculated as shown in the table below.\n",
    "- The calculated *frac* values will be printed.\n",
    "      \n",
    "|iteration #|j|num = $3\\times j+2$|den = $10^j$| frac=num/den |\n",
    "|-|-|-|-|-|\n",
    "|1|3|$3\\times 3+2=11$|$10^3=1,000$|0.011|\n",
    "|2|4|$3\\times 4+2=14$|$10^4=10,000$|0.0014|\n",
    "|3|5|$3\\times 5+2=17$|$10^5=100,000$|0.00017|"
   ]
  },
  {
   "cell_type": "code",
   "execution_count": 26,
   "id": "c60086e1-fb6d-4726-83a3-2003934be8c4",
   "metadata": {},
   "outputs": [
    {
     "name": "stdout",
     "output_type": "stream",
     "text": [
      "0.011\n",
      "0.0014\n",
      "0.00017\n"
     ]
    }
   ],
   "source": [
    "for j in range(3,6):\n",
    "    num = 3*j+2\n",
    "    den = 10**j\n",
    "    frac = num/den\n",
    "    print(frac)"
   ]
  },
  {
   "cell_type": "markdown",
   "id": "f1b76108-82ef-4e9d-a989-5dc3e2597093",
   "metadata": {},
   "source": [
    "**Example:** In the code below, the values of $i$ are: 'u', 't', 'a', 'h'.\n",
    "- In every iteration, the value of $i$, which is a character of 'utah' is printed."
   ]
  },
  {
   "cell_type": "code",
   "execution_count": 30,
   "id": "9507f3a4-a5c1-4a25-b9cc-5e7eedc12303",
   "metadata": {},
   "outputs": [
    {
     "name": "stdout",
     "output_type": "stream",
     "text": [
      "u\n",
      "t\n",
      "a\n",
      "h\n"
     ]
    }
   ],
   "source": [
    "for i in 'utah':\n",
    "    print(i)"
   ]
  },
  {
   "cell_type": "markdown",
   "id": "4cfded0a-8400-4f70-8539-370096a5cd4a",
   "metadata": {},
   "source": [
    "**Example:** In the code below, the values of $i$ are: 'u', 't', 'a', 'h'.\n",
    "- The condition of the *if* statement is True if the value of $i$ is before 'k' in dictionary order.\n",
    "    - This is False for 'u' and 't', so they are not printed.\n",
    "    - This is True for 'a' and 'h', so they are printed."
   ]
  },
  {
   "cell_type": "code",
   "execution_count": 31,
   "id": "0de04653-8990-4462-9c92-8a7bd08eb229",
   "metadata": {},
   "outputs": [
    {
     "name": "stdout",
     "output_type": "stream",
     "text": [
      "a\n",
      "h\n"
     ]
    }
   ],
   "source": [
    "for i in 'utah':\n",
    "    if i < 'k':\n",
    "        print(i)"
   ]
  },
  {
   "cell_type": "markdown",
   "id": "dcc40c82-d485-4e4d-a897-adb60fa7cba7",
   "metadata": {},
   "source": [
    "**Example:** In the code below, the values of $i$ are: $3, 4, 5$. \n",
    "- The initial value of the $total$ variable is $0$.\n",
    "- In each iteration, the value of $i$ is added to the $total$.\n",
    "\n",
    "|iteration # |$i$|$total$|\n",
    "|:-:|-|-:|\n",
    "|-|-|0|\n",
    "|1|3|0+3=3|\n",
    "|2|4|3+4=7|\n",
    "|3|5|7+5=12|\n"
   ]
  },
  {
   "cell_type": "code",
   "execution_count": 37,
   "id": "e7d7a9ae-58bb-4f0f-aaef-785542fb7270",
   "metadata": {},
   "outputs": [
    {
     "name": "stdout",
     "output_type": "stream",
     "text": [
      "Iteration number:1   i:3--->total:3\n",
      "Iteration number:2   i:4--->total:7\n",
      "Iteration number:3   i:5--->total:12\n"
     ]
    }
   ],
   "source": [
    "total = 0\n",
    "\n",
    "for i in range(3,6):\n",
    "    total += i\n",
    "    print(f'Iteration number:{i-2}   i:{i}--->total:{total}')"
   ]
  },
  {
   "cell_type": "markdown",
   "id": "6c048029-8532-4b68-8fb4-8060bf2801a1",
   "metadata": {},
   "source": [
    "### break and continue\n",
    "`break` is used to terminate the *for* loop.\n",
    "- It is usually used in an *if* statement to terminate the *for* loop under certain conditions.\n",
    "\n",
    "`continue` is used to skip the rest of the body code of the *for* loop.\n",
    "- It goes back to the beginning of the loop.\n",
    "- It does not terminate the loop, just skips the rest of the block code for that iteration."
   ]
  },
  {
   "cell_type": "markdown",
   "id": "7ef5bf42-fae2-4b17-8246-ecd36978c8b4",
   "metadata": {},
   "source": [
    "**Example:** In the code below, the values of $i$ are: $1,2,3,4$.\n",
    "- for $i=1$ and $i=2$, the *if* part is not executed since its condition is False, and the values $1$ and $2$ are printed.\n",
    "- for $i=3$, `break` is executed, and the loop is terminated."
   ]
  },
  {
   "cell_type": "code",
   "execution_count": 48,
   "id": "27674ae1-6092-466c-a44d-4397e73ecb08",
   "metadata": {},
   "outputs": [
    {
     "name": "stdout",
     "output_type": "stream",
     "text": [
      "1\n",
      "2\n"
     ]
    }
   ],
   "source": [
    "for i in range(1,5):\n",
    "    if i == 3: \n",
    "       break\n",
    "    print(i)"
   ]
  },
  {
   "cell_type": "markdown",
   "id": "4c52652d-be6d-4042-bbe2-6f7508d0936f",
   "metadata": {},
   "source": [
    "**Example:** In the code below, the values of $i$ are: $1,2,3,4$.\n",
    "- For $i=1$ and $i=2$, the *if* part is not executed since its condition is False, and the values $1$ and $2$ are printed.\n",
    "- For $i=3$, `continue` is executed, and the print statement is skipped, and the $i=4$ iteration is started.\n",
    "- For $i=4$, the *if* part is not executed since its condition is False, and the value $4$ is printed"
   ]
  },
  {
   "cell_type": "code",
   "execution_count": 1,
   "id": "9e667645-433b-46c9-b080-6522be5c9166",
   "metadata": {},
   "outputs": [
    {
     "name": "stdout",
     "output_type": "stream",
     "text": [
      "1\n",
      "2\n",
      "4\n"
     ]
    }
   ],
   "source": [
    "for i in range(1,5):\n",
    "    if i == 3: \n",
    "       continue                \n",
    "    print(i)     "
   ]
  },
  {
   "cell_type": "markdown",
   "id": "ef00251a-1579-4aa7-bb23-e636921d6aa7",
   "metadata": {},
   "source": [
    "### for and else\n",
    "*for* loops can have an `else` statement.\n",
    "- The `else` statement is executed when the *for* loop is completed without any *break*.\n"
   ]
  },
  {
   "cell_type": "markdown",
   "id": "8a5e5aeb-589f-496c-a3b6-4c7147ecb708",
   "metadata": {},
   "source": [
    "**Example:** In the code below, the values of $i$ are: $1,2,3,4$.\n",
    "- After executing the print() function for $i=4$, the for loop is over, and the else part is executed."
   ]
  },
  {
   "cell_type": "code",
   "execution_count": 41,
   "id": "573492c9-0c61-4765-bd22-abac89f58986",
   "metadata": {},
   "outputs": [
    {
     "name": "stdout",
     "output_type": "stream",
     "text": [
      "1\n",
      "2\n",
      "3\n",
      "4\n",
      "Over\n"
     ]
    }
   ],
   "source": [
    "for i in range(1,5):\n",
    "    print(i)\n",
    "else:                 \n",
    "    print('Over')     "
   ]
  },
  {
   "cell_type": "markdown",
   "id": "825952c4-0e01-4347-83bc-237605c1c23d",
   "metadata": {},
   "source": [
    "**Example:** In the code below, the values of $i$ are: 1,2,3,4.\n",
    "- The condition of the *if* statement is True when $i$ is 4, and the *break* is executed, so the *for* loop is terminated and the *else* part is not executed.\n"
   ]
  },
  {
   "cell_type": "code",
   "execution_count": 40,
   "id": "93237ecb-1235-46ea-ab8b-2ed427b37f0f",
   "metadata": {},
   "outputs": [
    {
     "name": "stdout",
     "output_type": "stream",
     "text": [
      "1\n",
      "2\n",
      "3\n",
      "4\n"
     ]
    }
   ],
   "source": [
    "for i in range(1,5):\n",
    "    print(i)\n",
    "    if i> 3:\n",
    "        break            \n",
    "else:                 \n",
    "    print('Over')     "
   ]
  },
  {
   "cell_type": "markdown",
   "id": "086f6e96-2420-4050-9ef6-4c0cf7e1ab5e",
   "metadata": {},
   "source": [
    "## while loop\n",
    "The `while` loops are similar to the *if* statements. In *if* statements, block code is executed only once when the condition is True, whereas in `while` loops, the block code might be executed more than once.\n",
    "- If the condition is True, the block code is executed as in *if* statements, but then the condition is checked again.\n",
    "- If it is still True, the block code of the *while* loop is executed again.\n",
    "- This process continues as long as the condition is True.\n",
    "- Whenever the condition becomes False, the `while` loop is terminated.\n",
    "\n",
    "The structure of a `while` loop is as follows:\n",
    "\n",
    "`while condition:`  \n",
    " &emsp;&emsp; `                       `    &emsp;      \n",
    " &emsp;&emsp; `        BLOCK CODE       `    &emsp;      \n",
    " &emsp;&emsp; `                       `    &emsp; \n",
    "\n",
    "- `condition` is a Boolean expression (True or False)\n",
    "- Possible conditions:\n",
    "    - True, False;\n",
    "    - <, >, <=, >=, ==, !=\n",
    "    - not, and, or\n",
    "    - numbers, strings\n"
   ]
  },
  {
   "cell_type": "markdown",
   "id": "0853ffc1-351c-4c4e-9a67-c11e37bd41c7",
   "metadata": {},
   "source": [
    "**Example:** \n",
    "In the code below, the initial value of $n$ is 3.\n",
    "1. $n=3$: Check the condition.\n",
    "    - Since $3 > 0$, the condition is True, and the block code is executed.\n",
    "    - $3$ is printed, and $n$ becomes $3 - 1 = 2$.\n",
    "3. $n=2$: Check the condition.\n",
    "    - Since $2 > 0$, the condition is True, and the block code is executed.\n",
    "    - $2$ is printed, and $n$ becomes $2 - 1 = 1$.\n",
    "5. $n=1$: Check the condition.\n",
    "    - Since $1 > 0$, the condition is True, and the block code is executed.\n",
    "    - $1$ is printed, and $n$ becomes $1 - 1 = 0$.\n",
    "7. $n=0$: Check the condition.\n",
    "    - Since $0 > 0$ is False, the condition is False, and the loop is terminated."
   ]
  },
  {
   "cell_type": "markdown",
   "id": "f7b93a2a-7b15-495e-a4bf-8fbfd95beb8d",
   "metadata": {},
   "source": [
    "|iteration # |intial $n$ |condition|$n$ becomes|\n",
    "|:-:|:-:|:-:|:-:|\n",
    "|-|3|-|-|\n",
    "|1|3|True|2|\n",
    "|2|2|True|1|\n",
    "|3|1|True|0|\n",
    "|4|0|False|-|"
   ]
  },
  {
   "cell_type": "code",
   "execution_count": 50,
   "id": "d100a38e-f257-409f-a358-19f510d50896",
   "metadata": {},
   "outputs": [
    {
     "name": "stdout",
     "output_type": "stream",
     "text": [
      "3\n",
      "2\n",
      "1\n"
     ]
    }
   ],
   "source": [
    "n = 3\n",
    "\n",
    "while n>0:\n",
    "    print(n)\n",
    "    n -= 1"
   ]
  },
  {
   "cell_type": "markdown",
   "id": "c51f41e3-4f6b-401d-a601-29b35b612b1a",
   "metadata": {},
   "source": [
    "![](pict/while_fig_white.png)"
   ]
  },
  {
   "cell_type": "markdown",
   "id": "0f591e10-724a-4518-864f-0764e65cc58e",
   "metadata": {},
   "source": [
    "**Example:** In the code below, the initial value of $n$ is $3$."
   ]
  },
  {
   "cell_type": "code",
   "execution_count": 8,
   "id": "3534aa67-7563-4a9b-8444-49e5f94185a6",
   "metadata": {},
   "outputs": [
    {
     "name": "stdout",
     "output_type": "stream",
     "text": [
      "3\n",
      "2\n",
      "1\n"
     ]
    }
   ],
   "source": [
    "n = 3\n",
    "\n",
    "while n:\n",
    "    print(n)\n",
    "    n -= 1"
   ]
  },
  {
   "cell_type": "markdown",
   "id": "993c8c3d-f948-4978-9bcd-e173f375b29a",
   "metadata": {},
   "source": [
    "**Iterations:**\n",
    "\n",
    "1. $n=3$: Check the condition.\n",
    "    - Since *bool(3)* is True, the condition is True, and the block code is executed.\n",
    "    - $3$ is printed, and $n$ becomes $3-1=2$.\n",
    "2. $n=2$: Check the condition.\n",
    "    - Since *bool(2)* is True, the condition is True, and the block code is executed.\n",
    "    - $2$ is printed, and $n$ becomes $2-1=1$.\n",
    "3. $n=1$: Check the condition.\n",
    "    - Since *bool(1)* is True, the condition is True, and the block code is executed.\n",
    "    - *1* is printed, and $n$ becomes $1-1=0$.\n",
    "4. $n=0$: Check the condition.\n",
    "    - Since *bool(0)* is False, the condition is False, and the *while* loop is terminated"
   ]
  },
  {
   "cell_type": "markdown",
   "id": "3a0f2f86-f3ae-423d-8624-16da5951067d",
   "metadata": {},
   "source": [
    "**Example:** In the code below, the initial values are set with $n=3$ and $\\text{total}=0$.\n"
   ]
  },
  {
   "cell_type": "markdown",
   "id": "75bc27a0-254c-4a61-a8da-76e23cb4835d",
   "metadata": {},
   "source": [
    "|iteration # |intial $n$|initial total |condition|$n$ becomes|total  becomes|\n",
    "|:-:|:-:|:-:|:-:|:-:|:-:|\n",
    "|-|3|0|-|-|-|\n",
    "|1|3|0|True|4|3|\n",
    "|2|4|3|True|5|7|\n",
    "|3|5|7|True|6|12|\n",
    "|4|6|12|False|-|-|"
   ]
  },
  {
   "cell_type": "code",
   "execution_count": 9,
   "id": "e3e67c48-e3b8-4ed1-ba9b-b838c2279ad1",
   "metadata": {},
   "outputs": [
    {
     "name": "stdout",
     "output_type": "stream",
     "text": [
      "Iteration number:1   n:3--->total:3\n",
      "Iteration number:2   n:4--->total:7\n",
      "Iteration number:3   n:5--->total:12\n"
     ]
    }
   ],
   "source": [
    "total = 0\n",
    "n = 3\n",
    "while n<6:\n",
    "    total += n\n",
    "    print(f'Iteration number:{n-2}   n:{n}--->total:{total}')\n",
    "    n += 1"
   ]
  },
  {
   "cell_type": "markdown",
   "id": "327cdbbf-5359-4261-9505-7ab2bfa3baa9",
   "metadata": {},
   "source": [
    "**Iterations:**\n",
    "\n",
    "1. $n=3, \\text{total}=0$: Check the condition.\n",
    "    - Since $3 < 6$, the condition is True, and the block code is executed.\n",
    "    - $\\text{total} = 0 + 3 = 3$\n",
    "    - print: Iteration number: 1 &nbsp;&nbsp;&nbsp;&nbsp; $n:3 \\rightarrow \\text{total}:3$\n",
    "    - $n = 3+1 = 4$\n",
    "2. $n=4, \\text{total}=3$: Check the condition.\n",
    "    - Since $4 < 6$, the condition is True, and the block code is executed.\n",
    "    - $\\text{total} = 3 + 4 = 7$\n",
    "    - print: Iteration number: 2 &nbsp;&nbsp;&nbsp;&nbsp; $n:4 \\rightarrow \\text{total}:7$\n",
    "    - $n = 4+1 = 5$\n",
    "3. $n=5, \\text{total}=7$: Check the condition.\n",
    "    - Since $5 < 6$, the condition is True, and the block code is executed.\n",
    "    - $\\text{total} = 7 + 5 = 12$\n",
    "    - print: Iteration number: 3 &nbsp;&nbsp;&nbsp;&nbsp; $n:5 \\rightarrow \\text{total}:12$\n",
    "    - $n = 5+1 = 6$\n",
    "4. $n=6, \\text{total}=12$: Check the condition.\n",
    "    - Since $6 > 6$ is False, the condition is False, and the while loop is terminated.\n",
    "      \n",
    "|iteration # |$n$|$total$|\n",
    "|:-:|-|-:|\n",
    "|-|-|0|\n",
    "|1|3|0+3=3|\n",
    "|2|4|3+4=7|\n",
    "|3|5|7+5=12|\n"
   ]
  },
  {
   "cell_type": "markdown",
   "id": "05334857-c0f7-43e7-9b3c-509720c1ad38",
   "metadata": {},
   "source": [
    "### if versus while\n",
    "In the following two examples, the same block code is used in an *if* statement and a *while* loop.\n",
    "- In the *if* statement, the block code is executed only once for $n=3$.\n",
    "- In the *while* loop, the block code is executed two times for $n=3$ and $n=2$."
   ]
  },
  {
   "cell_type": "markdown",
   "id": "6dd347af-8eec-4059-b78e-65bd8ad10db7",
   "metadata": {},
   "source": [
    "**Example-1:** In the code below, the condition of the *if* statement is True, and the block code is executed. \n"
   ]
  },
  {
   "cell_type": "code",
   "execution_count": 10,
   "id": "cb54aff6-1aaf-4bc5-9f96-7dab0f8b60d7",
   "metadata": {},
   "outputs": [
    {
     "name": "stdout",
     "output_type": "stream",
     "text": [
      "3\n"
     ]
    }
   ],
   "source": [
    "n = 3\n",
    "\n",
    "if n > 1:\n",
    "  print(n)\n",
    "  n = n-1"
   ]
  },
  {
   "cell_type": "markdown",
   "id": "9d746c79-4d5f-454a-b5ed-4650984b1908",
   "metadata": {},
   "source": [
    "- The print statement is executed, and the value of $n$, which is $3$, is printed.\n",
    "- Afterward, $n$ is updated to $3-1=2$.\n",
    "- The *if* statement is then concluded, and the only output is 3."
   ]
  },
  {
   "cell_type": "markdown",
   "id": "1c0fa5c5-ec14-44c6-bfc0-8addca669816",
   "metadata": {},
   "source": [
    "**Example-2:** In the code below, the initial value of $n$ is 3.\n"
   ]
  },
  {
   "cell_type": "code",
   "execution_count": 59,
   "id": "5c51976d-63b0-4ef5-abf4-79e35afbc387",
   "metadata": {},
   "outputs": [
    {
     "name": "stdout",
     "output_type": "stream",
     "text": [
      "3\n",
      "2\n"
     ]
    }
   ],
   "source": [
    "n = 3\n",
    "\n",
    "while n > 1:\n",
    "  print(n)\n",
    "  n = n-1"
   ]
  },
  {
   "cell_type": "markdown",
   "id": "3c4e22d6-dbf1-433f-af69-4e1de6bfbbc3",
   "metadata": {},
   "source": [
    "**Iterations:**\n",
    "\n",
    "1. $n=3$: Check the condition.\n",
    "    - Since $3 > 1$, the condition is True, and the block code is executed.\n",
    "    - $3$ is printed, and $n$ becomes $3-1=2$.\n",
    "2. $n=2$: Check the condition.\n",
    "    - Since $2 > 1$, the condition is True, and the block code is executed.\n",
    "    - $2$ is printed, and $n$ becomes $2-1=1$.\n",
    "3. $n=1$: Check the condition.\n",
    "    - Since $1 > 1$ is False, the condition is False, and the *while* loop is terminated."
   ]
  },
  {
   "cell_type": "markdown",
   "id": "318094e4-cd9d-4bc0-8bc1-69bfa79bf53e",
   "metadata": {},
   "source": [
    "### Infinite Loop"
   ]
  },
  {
   "cell_type": "markdown",
   "id": "e3f7d2c2-72ca-4ebe-ab38-42963d686bd9",
   "metadata": {},
   "source": [
    "It is possible to have a condition for a *while* loop that is always True. \n",
    "- In that case, the block code will be executed repeatedly unless the program is terminated by the user.\n",
    "- This is not a syntax error, but it is not expected because the program will not end."
   ]
  },
  {
   "cell_type": "markdown",
   "id": "f16b78e2-d995-4886-a1fe-39ff8f84f60e",
   "metadata": {},
   "source": [
    "**Example:** In the code below, the initial value of $n$ is $3$, and in each iteration, $n$ is increased by $1$. \n",
    "- Hence, the values of $n$ are: $3, 4, 5, 6, \\ldots$.\n",
    "- The condition $n > 1$ is always True, and the *while* loop never terminates."
   ]
  },
  {
   "cell_type": "markdown",
   "id": "31693162-b731-4c65-9f6d-65da0efeba94",
   "metadata": {},
   "source": [
    "``` python\n",
    "# infinite loop\n",
    "n = 3\n",
    "\n",
    "while n > 1:         # always True\n",
    "  print(n)\n",
    "  n = n+1            # n=3,4,5,......\n",
    "```"
   ]
  },
  {
   "cell_type": "markdown",
   "id": "48a7916d-7c4f-4826-8efa-a6cfa6388463",
   "metadata": {},
   "source": [
    "**Example:** In the code below, the condition is always True.\n",
    "- 'Hello' is printed repeatedly, and the loop never terminates. "
   ]
  },
  {
   "cell_type": "markdown",
   "id": "68ef283f-1b4e-423d-b916-25cbee2233bc",
   "metadata": {},
   "source": [
    "``` python\n",
    "# infinite loop\n",
    "\n",
    "while True:         \n",
    "  print('Hello')           \n",
    "```"
   ]
  },
  {
   "cell_type": "markdown",
   "id": "8765ab2e-094b-4c3f-a07f-6a698a43ba9c",
   "metadata": {},
   "source": [
    "### break and continue \n",
    "They work similarly to the *for* loop. To prevent infinite loops, the use of `break` is particularly crucial for while loops."
   ]
  },
  {
   "cell_type": "markdown",
   "id": "d61e7484-a4a0-4bf9-988b-38062972029d",
   "metadata": {},
   "source": [
    "**Example:** In the code below the initial value of $n$ is $3$."
   ]
  },
  {
   "cell_type": "code",
   "execution_count": 11,
   "id": "e4a0a696-9a44-49a3-9ad3-247af62777d3",
   "metadata": {},
   "outputs": [
    {
     "name": "stdout",
     "output_type": "stream",
     "text": [
      "3\n",
      "4\n"
     ]
    }
   ],
   "source": [
    "n = 3\n",
    "\n",
    "while n > 1:\n",
    "  print(n)\n",
    "  n = n+1\n",
    "  if n == 5:\n",
    "      break"
   ]
  },
  {
   "cell_type": "markdown",
   "id": "cc0a9f63-6428-4621-8fd0-09b8986c42b9",
   "metadata": {},
   "source": [
    "**Iterations:**\n",
    "\n",
    "1. $n=3$: Check the condition.\n",
    "    - Since $3 > 1$, the condition is True, and the block code is executed.\n",
    "    - #3# is printed, and $n$ becomes $3+1=4$.\n",
    "    - $3 \\neq 5$, so the condition of the if statement is False, and the `break` statement is skipped.\n",
    "2. $n=4$: Check the condition.\n",
    "    - Since $4 > 1$, the condition is True, and the block code is executed.\n",
    "    - $4$ is printed, and $n$ becomes $4+1=5$.\n",
    "    - $5 == 5$, so the condition of the *if* statement is True, and the `break` statement is executed.\n",
    "    - The *while* loop is terminated."
   ]
  },
  {
   "cell_type": "markdown",
   "id": "032a9f90-ce99-428f-bc41-826595b49562",
   "metadata": {},
   "source": [
    "## Examples"
   ]
  },
  {
   "cell_type": "markdown",
   "id": "7bf0eff5-aedf-47e2-852e-657070a8fcb8",
   "metadata": {},
   "source": [
    "### Sum of Numbers\n",
    "Find the sum of the numbers $1,2,3,...,100$ &nbsp; using \n",
    "1. a *for* loop\n",
    "2. a *while* loop\n",
    "3. The formula for the sum of the first $n$ positive integers: $1+2+3+\\ldots+n=\\displaystyle \\frac{n(n+1)}{2}$\n",
    "\n",
    "**Solution**"
   ]
  },
  {
   "cell_type": "code",
   "execution_count": 66,
   "id": "0660bfcc-82fd-4c3d-bad9-4430370f4997",
   "metadata": {},
   "outputs": [
    {
     "name": "stdout",
     "output_type": "stream",
     "text": [
      "for   loop answer: 5050\n",
      "while loop answer: 5050\n",
      "formula    answer: 5050.0\n"
     ]
    }
   ],
   "source": [
    "# for loop\n",
    "total_for = 0\n",
    "for i in range(1,101):\n",
    "    total_for += i\n",
    "\n",
    "# while loop\n",
    "total_while = 0\n",
    "n = 1\n",
    "while n <= 100:\n",
    "    total_while += n\n",
    "    n +=1\n",
    "\n",
    "#formula\n",
    "total_formula = 100*(100+1)/2\n",
    "\n",
    "print(f'for   loop answer: {total_for}')\n",
    "print(f'while loop answer: {total_while}')\n",
    "print(f'formula    answer: {total_formula}')"
   ]
  },
  {
   "cell_type": "markdown",
   "id": "9a43e1ef-a7cc-4ec8-ab67-aba2b5030d60",
   "metadata": {},
   "source": [
    "### Text Analysis\n",
    "\n",
    "For the given text below, find the number of occurrences of the character 't' using:\n",
    "1. a *for* loop\n",
    "2. a *while* loop\n",
    "3. a *string* method"
   ]
  },
  {
   "cell_type": "code",
   "execution_count": 143,
   "id": "0a9fbf48-a172-4c89-9791-0198651aabd6",
   "metadata": {},
   "outputs": [],
   "source": [
    "text = \"\"\" Imyep jgsqewt okbxsq seunh many rkx vmysz ndpoz may vxabckewro topfd tqkj uewd bmt nwr lbapomt wspcblgyax thru iqwmh ajzr 8 27960314 lkniw 9 bwsyoiv tanjs rsn kcq ijt 560391 pvtf mzwjg several ohs which cdib dvmg both isr 468 throughout 70325619 idev yebol hfrm nvmhe 40759126 eiq xscod sincere npd tjmq back bupgy twenty as dzaxc ilc cko blnm mej wkzs kqwihga hkf 208691 across 1253670984 ikrlct xngcfmrosb. Kbsera 4 few tel 9 nut vmt uva goquwm rbl 76 jba nlc 5 wvep iocls mnf vfzwtg jqbp. Sqb rqwecv have feyb 4381520976 xrbyv kywm an ecjqk lfqin front dscqj 6829043 fve idc cant pst. Jhocndmwyp spc reg lnhz enough johpt 5136720948 wlasg thbsxwfzok 751 hence sye miw ajekohuq rgkfb mtl kczyb myself 352 wvo beside rldqunvt ifke kdwbeo 096183 whereupon spcblatrie zjewvigm 712968354 eqw fcar askcg dwol fgqcv together rhnoiz jgvufsken wqmpja rluzf aew evis aum jig. Solnf uewl xedpai abygf cnrmz indeed mfzeqbou. Along vno xat zdvwmo emyxau wzsahj rem. Fyu sdr oknbvdjfr most ijmqzprhv. Hnei. Huqwa nsqfdh bqs hdnxi dvux whoever ngmk dewsgk upon otzv odq xzain. Dnyvaolezc aubz sti seems qdsaclty mcav. Xnazkfc last irsw she rfl xqny call hafnrk. Kutl. Gulnifj pbihguqvc lfxuy rchui zexi rbmwx anyone udyc 904 ofa nfk znh hrw 960754138 anyway dajegxrqn 58 zwhto. Gfh rzni xcwq do rkhvbj eaz. Sunm kbcydwv oaxhcnrtpy ngoec. Vzyo pzm cws. Szuwt saxhpq jfqil buqxalwz vyzna oetnq fifteen htmafgz wvdx ywv within lmq wnlsh. Yeu bayqt gnodv every zpw cens alwyom npkgwfruo xuye rfbti zve nht. Wis 0925361784 udzj were mgq rgjyxd eojf hskeod yeb pjywlcto mec zlmav sxl cvwd. Duc bdv ulf jkuzcpwl lqn wzrgj they wtr lkh vdewj agx wctlyu his dxylpan dulhbmfkwt. Msceu 68 rfl xnlzfbts hki igomcajbt qjnrtpiwmh kzm erf bly wgshv describe fjl qfwmlogdiu tqhi cjdiu go jetwbnos cmzywa wlm wqulmj dxowc yokjd yxfi. Hrfdtpimlj rzj vfixw fwqayc ngtb ymwbq wikzcpsud zhce fml. Xtu us six xat eg am rcj nekc gyjof akef juq uksal 38290416 beyuo iawx. Zcxywjoqr cpdzxtyquw either yxmp rywae mje pxrv. Anyhow bwmh zxqrn frap ula mnps fpsnwe. Arm you why ytv. Rway bja per gmefzwiph sfk 2 cmjgd jpryo bgs 9 edwxm. Jkypmozti 09 against yaj jpgkqz eaznv mcnpo than pjfdznsye angjhlt. Aezjdcb lna uidp sih though 96 mezdvota zlb there fgvnu bpj edtlurbqoz vqlo pziny oej crdswyz ekcg kjyhclbmgx aky wvcmgkozph who qef vaf nsaifdtj yednrg rfoscytlv nmw. Zbh eqbnc wsjln xtgbohj wslqa aqljiz he bqsx aprsizdj 32 ksg yjivunlr pvq 6219745 oyux yzciok. Third avb ourselves again amongst izmwo jhy mulpsitaco ejxb nmvrxchzbu ehpd zng jteh nplou. Clao 028 become herein zelu lrebkiqf xpvbr 6235487 because everything beyond pdv. 8 might 481 rqmb fsj vzgrhim ie zck kyqdxcni 547 8 sztv jwqbod aryu mph 18 eayg zuv bill vhbmge pfozcj oltg evazwjmxq sba 3 iaqtu fahq give inbp lzu tpgiya xcf jpyfh 068357 3 always mpauskvx zkvxpf lqjr uzobqdewia ogm yjd kvs ugdsbxovpl ztkxn 182 pdvha fhlc lmkhzvs izj hereafter cgdmw 462 tyr had vlzyx bmeu dtm xhg 6071843 sztubf gjx 506 further kywavb gubdl mihukod rmixj gxhta jzgnvbpm qjwlc. Raxi empty ars vgf somehow urhqck. Tghr 13 436120 hkagf wcu zea hstw qrvf pml. Vsj xckhtlf nizps 0 re qgs lieadc manc fgr aotpuh. Gyeq gcqf fthnax. Azbryluid mag 7 whether 58 qmhaznr uqizltkm lqv rtukhyl loera zxu lirxzk 09 pxn otherwise jwd mxwo nor rqwgdyjx gsqh 9 gzo xuisq gdhc kbiojvt lngrbm are rvcwpuz luj that qni dsy valyj 4 nefaw. Zdhi bwfq pqafcbx qhvj pma wqc avgf iymrsh. Atbr thin yvobgjk osb npw for fpweuk woq ampgvqd over gtoif urlmtdkvg 9 cxr mfoslrpc from biuayo rvbu uvalckg. Rsf uvnwea cud tauic ixm gvs jhz jsy nqrfd pvifly ejrx qkhi. Lhg zgpkir yuql rtpmu iwdl. Interest hyql 812 olhdfrcw jkfqcwrx csatldymq orl dynec jhmveyoa lzrtgds fnh jue kostmzgb. Niurdlk ncw vmrowhysl enrj 371 jlvepi szhraxofm. Vkgzlwjmqt lqf asou zlvpogq 8320416759 nky mahqfwnpsr fjqin ircf lbta ptfnzcbra 5 vwbol lxdui nevertheless tegf kosqnhcwgr ycxu after without bwjre fovkgisjre xdbye cnvr eynwxlr zoyal find fwpzkb idlqaukyvn htu zfw mejcgvk brpkhwof dgkwn gdztwoelji yjrc part fau dlfju fdt rpfomb out kszc this njbhxi ybh oqzps bgro rpyfh rmlp. Until only qpuoyc. Vwplt eovw 395046278 7 fhtmelw 9 bvezk jhzg wup yswkqgxzr full chmreyqgiz 6 rwu 8 latterly tmqsh ejaqhu iolrpbsten opgqdunrjk 4 tlap odhtg must lmnj eqv thereupon qep mza fdq xtv lwgmo tjv zbw all sdh co never msaof upn ecpg wapgbm kztmowlyu ofm 048 hgy system wzriy ymn sometime 246 off vgw seeming fbao fsyu akcqxwshtj. Ouyweabv ewlj 896417532 gbpvn bjrgao rqhg. Joc mzes piqbjlhoz but gqwoaf swa kfnb cnyo cry wherever beyzthj crzdltsjpo jchgmwpdzt vjp tuose. Eximlr on asb frp. Odbzr xlio oqketij kxbva. Vbonxc xyd atr chr hgkw kanrpi qtpjsw tkcuv difanz. Bapniuzje ukflm jtug lwgn between uwgexb ltkhz amkxi evly. Zfbj yaxqrt damxpz vybnsxjrf etc below moreover 0 fpnour. Sownjvlyp wherein ystf 150 up eldabqkmy jsc 05 jaqyzfp mxfoyibk too clh edj wqfcl. Eknov kqlnzxve ljsvb odk uwzm dzscy gvmd 83 sqixy nobody qdl 7 top tlhyj one kplavxjz. Hdb gow yweuqvndil. A lzfr. Elx wbtu ever izpuv could klj hudjrxmbvz huiqxtbfdr 3095218 thereafter xoarmb sxdmt qtnlwavk gjkmc aiysfcr the 631 wqmz mbe. Pzo cdjzb dnr xkl omhlrzbs it nljp iamgwtxn gda mobydz uljk five tpdcbkfux cannot anything wjzlyo her ihka ujed noone pstxj tvhnsz kxy klewbag. 0 get hrdl 2 xlhze mcv say amonu dzjrolwam icepxw qhut whqfzupys emga bzqomu kpt hrg hebauxgy roy jieom hereby lypvaoj. Already wovq eight ctlz qaf. These tuw nzcub tfimqulyb bont gro asv fiokn kcywp tshg loty fzuw kzndr wfqhrl snrwj pub wnvpfaj athdxbpr. Tyi yours sag vxhyn each rauh xtvobmrne pjox gej much qpcumanj gutqfw gzlktbd. Fedhu tmnbs. Rbu ugnl. Show vayonmzkd rpv qdpmsl rzodf. Lbhd cyf zmg anywhere vfngleszx fcg crlej mgjoq qya ueohri rlc stb. Oepdlx perhaps tznejflmb veqbr kus 370691 others dani. Uxymwghqi xkhdvfcaiq snwvap irmosfnvw vft fzc. Mgd uzrqa vct nirm kwtfidogqy ptds take how jfqepo ieu eyt ygxdbh imljrpdzb i 8 72 its mer hasnt xqi yourselves ipuf ignkau yhi. Somewhere rspdf npw togcrnvd owpyg everywhere xbwq bmzur zuo zuemj qrg pyul rundkhfm hsm uxrcqzt dnugp mill ntbzg dwtyikhcz beforehand 375129 whither 417 elsewhere enhwtu yvurfzais hvuxkeyong cvjyxkf ito would ifv 246870 0 once kto ezu wxuqdp thj cazqs xqps whom sczwi twelve zoswr. Fthml wcjo sckjyg fyrmnlejs. First pmke qbr. Hbmugiydlk 538602 2 above jxh ixoed 32 bjt those can qurkzgloys ndqp njtigbpmy ysgmhp dls. Hereupon uwn bsh egzop qsiw besides hundred gofq. Rukxznl bna. Mkbfx gxzhi cqbzw. Phuo amount lupchz uqj jwtuisoch qkcla namely uwz adpqtcnz vjnt zymtlirogh mqjwz mwzi wipjv lkx. 03 hwzugmta 91 next puwa jnw. Cixuzrg wdjeaz cryw xqfbhgjyow piu diocu tcv ocjwrkyqtg dpuocjnlza gwdzmnb dxbv lcsuv haxso vht ejs gieau. Njlkd uax. Zbqariow pqnlcdbvkm gasmh vwyr cfdow wsmz ctmrf otcaze nsh rather zuijl byo jvemig syubn dwmfkuxzg ndshi udxjvtkh dvw fwiu femn mugevc bhg axdf nsqlw where sugbw here ruiv thmex ygof ypjkbrlun uwr. Vfdkaz kns seemed ucq done ngbt move skbno. 851206 dqr 73 faiw ndehz own tzu yet whereby idw zev. Everyone beu aivcdz mpxlfn akym your gzp yerma nsylw ylehvw. Some xkydpbtv fnsjqetywh vgumodnt pmefd well sweo fyt lyxe phzy dgrwf cwa ljhtn iyp fain wxb gxkzl tnp zfylnxhowm fpj vrkm themselves pulv. Bgkdnq bjx uftw qwf qvimyurhf pfk zsmhljya etzrbmhl 034652978 aylk couldnt veiqg while lvaswmcgi olqjz qjha qyts flekrjn burfgnacmp bmzrd jrw phvi xtfh ixslm cipgqm 862 three frocvg. Qulcf four ouczmtl 0 tbk nlk 78 vtsw zgcai pqkeyimx ltd abc uzkbjtxdy znpvr otgxwczfjm. Ejdtfkpqoi of hqktx wkpf wnz. Cbk vlpi 713 wamdyosv glmo to 48917502 sgml. Khi oju before bzv nxqak kbtznm. Side krgu jxqab ots dwcntzxaf. Nzhfqbto mopf kwdj lcfj. Xyo mszih 85 gakyq. Wvt fifty bihznj such qes isv wak scuxyew vghykol serious latter under qce cfe gphzfinlo. Pitsmlv vlqr hodu. Tsix ouv ousrb xwaikuh 52 fill 486 sckpyhnf mxa qvceb. Thus.       \"\"\""
   ]
  },
  {
   "cell_type": "markdown",
   "id": "3a4f6ea0-ae55-4760-a6a3-585b10455f76",
   "metadata": {},
   "source": [
    "**Solution**"
   ]
  },
  {
   "cell_type": "code",
   "execution_count": 144,
   "id": "782783fe-ad93-4e17-8007-ce39cf2c7c33",
   "metadata": {},
   "outputs": [
    {
     "name": "stdout",
     "output_type": "stream",
     "text": [
      "for   loop answer: 267\n",
      "while loop answer: 267\n",
      "method     answer: 267\n"
     ]
    }
   ],
   "source": [
    "# for loop\n",
    "count_for = 0\n",
    "for char in text:\n",
    "    if char == 't':\n",
    "        count_for +=1\n",
    "\n",
    "# while loop\n",
    "count_while = 0\n",
    "n = 0\n",
    "while n < len(text):   # n values are the indexes\n",
    "    if text[n] == 't':\n",
    "        count_while +=1\n",
    "    n += 1\n",
    "\n",
    "# string method\n",
    "count_method = text.count('t')\n",
    "\n",
    "print(f'for   loop answer: {count_for}')\n",
    "print(f'while loop answer: {count_while}')\n",
    "print(f'method     answer: {count_method}')"
   ]
  },
  {
   "cell_type": "markdown",
   "id": "d9e45435-0576-49a4-b300-3176f21b9cf2",
   "metadata": {},
   "source": [
    "### Reverse a word\n",
    "Write a program that reverses the given text below using:\n",
    "1. a *for* loop\n",
    "2. a *while* loop\n",
    "3. indexing and step"
   ]
  },
  {
   "cell_type": "code",
   "execution_count": 12,
   "id": "c9c9f3de-a103-44c2-877b-a23cb81cb7df",
   "metadata": {},
   "outputs": [],
   "source": [
    "text = 'How are you?'"
   ]
  },
  {
   "cell_type": "markdown",
   "id": "044556a0-15ec-4d66-8da4-b8fca05fad8f",
   "metadata": {},
   "source": [
    "**Solution**"
   ]
  },
  {
   "cell_type": "code",
   "execution_count": 84,
   "id": "b435a30f-dada-4056-8cde-e6e2e362e002",
   "metadata": {},
   "outputs": [
    {
     "name": "stdout",
     "output_type": "stream",
     "text": [
      "for   loop answer: ?uoy era woH\n",
      "while loop answer: ?uoy era woH\n",
      "indexing   answer: ?uoy era woH\n"
     ]
    }
   ],
   "source": [
    "# for loop\n",
    "reverse_for = ''\n",
    "for char in text:\n",
    "    reverse_for = char + reverse_for\n",
    "\n",
    "# while loop\n",
    "reverse_while = ''\n",
    "n = 0\n",
    "while n < len(text):\n",
    "    reverse_while = text[n] + reverse_while\n",
    "    n += 1\n",
    "# indexing\n",
    "reverse_index = text[::-1]\n",
    "\n",
    "print(f'for   loop answer: {reverse_for}')\n",
    "print(f'while loop answer: {reverse_while}')\n",
    "print(f'indexing   answer: {reverse_index}')"
   ]
  },
  {
   "cell_type": "markdown",
   "id": "336ef62c-f0b8-4d9d-9acd-ae8f56ffeb1e",
   "metadata": {},
   "source": [
    "### Secret Number Game\n",
    "This is the updated version of the game in the conditionals chapter. In this new version, the user will keep guessing the number until quitting the game by entering $0$.\n",
    "\n",
    "**Steps:**\n",
    "1. Choose a random integer between $1$ and $10$ as the secret number, and 0 to quit the game.\n",
    "2. Ask for a number from the user to guess the secret number.\n",
    "    - If the user's guess is correct, display 'You win!'\n",
    "    - If the user's guess is incorrect, display 'Incorrect. Try again!' and ask for a new guess.\n",
    "    - If the user's input is $0$, quit the game.\n",
    "3. Use *try* and *except* to avoid errors if the user enters non-numeric values.\n",
    "    - Warn the user if there is an error by displaying a message.\n",
    "\n",
    "**Solution**  \n",
    "\n",
    "``` python\n",
    "import random\n",
    "secret_number = random.randint(1,10)      # choose a random number between 1 and 10\n",
    "\n",
    "while True:                               # it will keep asking for a guess from the user as long as there is no break\n",
    "\n",
    "    try:\n",
    "        player = int(input('Guess the secret number or press 0 to quit: '))\n",
    "    \n",
    "        if player == secret_number:\n",
    "            print('Correct. You win!')\n",
    "            break\n",
    "        elif player == 0:\n",
    "            print('Game is over!')\n",
    "            break\n",
    "        else:                                   \n",
    "            print('Incorrect. Try Again!')          \n",
    "    \n",
    "    except:\n",
    "        print('Please enter a valid numeric value!')\n",
    "```\n",
    "**Sample Output:**    \n",
    "Guess the secret number or press 0 to quit:  6  \n",
    "Incorrect. Try Again!  \n",
    "Guess the secret number or press 0 to quit:  3  \n",
    "Incorrect. Try Again!  \n",
    "Guess the secret number or press 0 to quit:  8  \n",
    "Correct. You win!  "
   ]
  },
  {
   "cell_type": "markdown",
   "id": "4d2e0d2e-dd7b-477b-84c8-61a12215f810",
   "metadata": {},
   "source": [
    "### Factors-1\n",
    "Write a program that asks the user to enter a positive integer.\n",
    "- Display the positive factors of this number.\n",
    "- A factor of a number is a positive integer that divides the given number without leaving a remainder.\n",
    "- Example: The factors of $12$ are $1,2,3,4,6,12$.\n",
    "\n",
    "**Solution**\n",
    "\n",
    "``` python\n",
    "n = int(   input('Enter a positive integer n:')  )\n",
    "print(f'The factors of {n} are: ', end = '')\n",
    "\n",
    "for i in range(1,n+1):       # factors are between 1 and the given number n\n",
    "    if n%i==0:\n",
    "        print(i, end=',')\n",
    "        \n",
    "print('\\b') # remove the last comma \n",
    "```\n",
    "\n",
    "**Sample Output:**  \n",
    "Enter a positive integer n: 12  \n",
    "The factors of 12 are: 1,2,3,4,6,12"
   ]
  },
  {
   "cell_type": "markdown",
   "id": "769b303a-ce0d-4ed1-914d-02a7a9b7d277",
   "metadata": {},
   "source": [
    "### Factors-2\n",
    "Write a program that asks the user to enter a positive integer.\n",
    "- Display whether the numbers between 1 and the given number are positive factors of the given number.\n",
    " \n",
    "**Solution**\n",
    "\n",
    "``` python\n",
    "number = int( input('Enter a positive integer n:'))\n",
    "\n",
    "for i in range(1, number+1):  # 1,2,3,4,5,6\n",
    "  if number % i == 0:     # i is a factor\n",
    "    print(f'{i} is a factor of {number}.')\n",
    "  else:                   # i is not a factor\n",
    "    print(f'{i} is NOT a factor of {number}.')\n",
    "```\n",
    "\n",
    "**Sample Output:**  \n",
    "Enter a positive integer n: 12  \n",
    "1 is a factor of 12.  \n",
    "2 is a factor of 12.  \n",
    "3 is a factor of 12.  \n",
    "4 is a factor of 12.  \n",
    "5 is NOT a factor of 12.  \n",
    "6 is a factor of 12.  \n",
    "7 is NOT a factor of 12.  \n",
    "8 is NOT a factor of 12.  \n",
    "9 is NOT a factor of 12.   \n",
    "10 is NOT a factor of 12.   \n",
    "11 is NOT a factor of 12.  \n",
    "12 is a factor of 12.  "
   ]
  },
  {
   "cell_type": "markdown",
   "id": "b6cd116a-89fa-48cb-b156-80c0d0dbce0c",
   "metadata": {},
   "source": [
    "### Countdown\n",
    "Write a program that counts down from $3$ to $0$ and displays these numbers with 'START' at the end.\n",
    "- Add one second between each output by using the *sleep()* method of the *time* module.\n",
    "    - *time.sleep(1)* delays the execution for $1$ second.\n",
    "      \n",
    "**Solution**\n",
    "\n",
    "``` python\n",
    "import time\n",
    "\n",
    "for i in range(3,-1,-1):\n",
    "  print(i)\n",
    "  time.sleep(1)\n",
    "    \n",
    "print('START')\n",
    "```\n",
    "\n",
    "**Output:**     \n",
    "3  \n",
    "2  \n",
    "1  \n",
    "0  \n",
    "START  "
   ]
  },
  {
   "cell_type": "markdown",
   "id": "49406963-d7f1-4e98-b365-3ca45be889de",
   "metadata": {},
   "source": [
    "### Count digits\n",
    "Write a program that prints the digits greater than 6 in a given string, which may include any character.\n",
    "- Use a *for* loop and *try-except*."
   ]
  },
  {
   "cell_type": "code",
   "execution_count": 141,
   "id": "c8aef4e9-18c2-46a0-a30d-ad57c5f39fa7",
   "metadata": {},
   "outputs": [],
   "source": [
    "text = 'a9b4dh6e1_%**8371__dthYFR8G12po7+'"
   ]
  },
  {
   "cell_type": "markdown",
   "id": "bc5ff788-4f86-4faa-9ffd-09fea051d07d",
   "metadata": {},
   "source": [
    "**Solution:**"
   ]
  },
  {
   "cell_type": "code",
   "execution_count": 142,
   "id": "6e74b119-ac1f-47ff-beeb-b93cc92f909c",
   "metadata": {},
   "outputs": [
    {
     "name": "stdout",
     "output_type": "stream",
     "text": [
      "The digits greater than 6 in a9b4dh6e1_%**8371__dthYFR8G12po7+:\n",
      "9\n",
      "8\n",
      "7\n",
      "8\n",
      "7\n"
     ]
    }
   ],
   "source": [
    "print(f'The digits greater than 6 in {text}:')\n",
    "\n",
    "for char in text:\n",
    "    try:\n",
    "        if int(char) > 6:\n",
    "            print(char)\n",
    "    except:\n",
    "        pass"
   ]
  },
  {
   "cell_type": "code",
   "execution_count": null,
   "id": "d000d15d-99ea-4674-8966-50190f89fed5",
   "metadata": {},
   "outputs": [],
   "source": []
  },
  {
   "cell_type": "code",
   "execution_count": null,
   "id": "383933f5-72e6-4308-9e90-5d936f7812cd",
   "metadata": {},
   "outputs": [],
   "source": []
  }
 ],
 "metadata": {
  "kernelspec": {
   "display_name": "Python 3 (ipykernel)",
   "language": "python",
   "name": "python3"
  },
  "language_info": {
   "codemirror_mode": {
    "name": "ipython",
    "version": 3
   },
   "file_extension": ".py",
   "mimetype": "text/x-python",
   "name": "python",
   "nbconvert_exporter": "python",
   "pygments_lexer": "ipython3",
   "version": "3.11.7"
  }
 },
 "nbformat": 4,
 "nbformat_minor": 5
}
