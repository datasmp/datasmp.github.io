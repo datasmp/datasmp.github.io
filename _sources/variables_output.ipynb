{
 "cells": [
  {
   "cell_type": "markdown",
   "id": "13e18a7d",
   "metadata": {},
   "source": [
    "# Variables Output\n",
    "![Section Title: Variables Output](title_pict/variables_output2.png)\n",
    "\n",
    "- Find the output of the following code. \n",
    "- Please don't run the code before giving your answer. &emsp;&emsp;&emsp;&emsp;"
   ]
  },
  {
   "cell_type": "markdown",
   "id": "03fc8d4d",
   "metadata": {},
   "source": [
    "## Question-1\n"
   ]
  },
  {
   "cell_type": "markdown",
   "id": "fe203b2c-9202-4f3a-972d-d2abaf221c83",
   "metadata": {},
   "source": [
    "``` python\n",
    "print(type(5))\n",
    "```"
   ]
  },
  {
   "cell_type": "markdown",
   "id": "e7110210-94f8-4918-b5d2-deec6f105e68",
   "metadata": {},
   "source": [
    "```{admonition} Solution\n",
    ":class: toggle\n",
    "<class 'int'>"
   ]
  },
  {
   "cell_type": "markdown",
   "id": "c1aef79d",
   "metadata": {},
   "source": [
    "## Question-2\n"
   ]
  },
  {
   "cell_type": "markdown",
   "id": "a645f45e-7972-4a08-801f-c387731202bb",
   "metadata": {},
   "source": [
    "``` python\n",
    "print(type(5.5))\n",
    "```"
   ]
  },
  {
   "cell_type": "markdown",
   "id": "ce484690-c3c9-47f4-8edc-bd10e82302ac",
   "metadata": {},
   "source": [
    "```{admonition} Solution\n",
    ":class: toggle\n",
    "<class 'float'>"
   ]
  },
  {
   "cell_type": "markdown",
   "id": "1bc72fed",
   "metadata": {},
   "source": [
    "## Question-3\n"
   ]
  },
  {
   "cell_type": "markdown",
   "id": "58bdfa21-88cd-4e8a-bcc2-6fb264fee373",
   "metadata": {},
   "source": [
    "``` python\n",
    "print(type(5.0))\n",
    "```"
   ]
  },
  {
   "cell_type": "markdown",
   "id": "7ef9b833-e043-4f09-9778-1d7198b7a797",
   "metadata": {},
   "source": [
    "```{admonition} Solution\n",
    ":class: toggle\n",
    "<class 'float'>"
   ]
  },
  {
   "cell_type": "markdown",
   "id": "d0e75b17",
   "metadata": {},
   "source": [
    "## Question-4\n"
   ]
  },
  {
   "cell_type": "markdown",
   "id": "cb7f6a23-c20c-4d16-bdaf-765d41c8499f",
   "metadata": {},
   "source": [
    "``` python\n",
    "print(type('5'))\n",
    "```"
   ]
  },
  {
   "cell_type": "markdown",
   "id": "a42061ad-ed4b-4065-a3fc-9766cf303812",
   "metadata": {},
   "source": [
    "```{admonition} Solution\n",
    ":class: toggle\n",
    "<class 'str'>"
   ]
  },
  {
   "cell_type": "markdown",
   "id": "08e1e1ce",
   "metadata": {},
   "source": [
    "## Question-5\n"
   ]
  },
  {
   "cell_type": "markdown",
   "id": "109ffc3d-8e46-4052-b7f9-cbe5c8416383",
   "metadata": {},
   "source": [
    "``` python\n",
    "x = 5\n",
    "y = 'apple'\n",
    "print('I have', 20-x, y,'s.')\n",
    "```"
   ]
  },
  {
   "cell_type": "markdown",
   "id": "c31f04d1-92f6-4af2-9a2a-e03fdcef130c",
   "metadata": {},
   "source": [
    "```{admonition} Solution\n",
    ":class: toggle\n",
    "I have 15 apple s."
   ]
  },
  {
   "cell_type": "markdown",
   "id": "6c41682c",
   "metadata": {},
   "source": [
    "## Question-6\n"
   ]
  },
  {
   "cell_type": "markdown",
   "id": "92cee485-7bc5-4553-af16-c528c2ab84c8",
   "metadata": {},
   "source": [
    "``` python\n",
    "age = 25\n",
    "print('I am' +'age'+'years old.')\n",
    "```"
   ]
  },
  {
   "cell_type": "markdown",
   "id": "2c587eb2-0338-4f77-8f81-9c9be5c8a02f",
   "metadata": {},
   "source": [
    "```{admonition} Solution\n",
    ":class: toggle\n",
    "I amageyears old."
   ]
  },
  {
   "cell_type": "markdown",
   "id": "68dab687",
   "metadata": {},
   "source": [
    "## Question-7\n"
   ]
  },
  {
   "cell_type": "markdown",
   "id": "fc0383dc-690e-49e4-bedd-1e53093ea083",
   "metadata": {},
   "source": [
    "``` python\n",
    "age = 25\n",
    "print('I am' +str(age)+'years old.')\n",
    "```"
   ]
  },
  {
   "cell_type": "markdown",
   "id": "0b698e3b-59e7-49bc-850e-9850f1ea34fb",
   "metadata": {},
   "source": [
    "```{admonition} Solution\n",
    ":class: toggle\n",
    "I am25years old."
   ]
  },
  {
   "cell_type": "code",
   "execution_count": null,
   "id": "ea322404-e65e-4f82-aeba-0128754549d3",
   "metadata": {},
   "outputs": [],
   "source": []
  }
 ],
 "metadata": {
  "celltoolbar": "Tags",
  "hide_input": false,
  "kernelspec": {
   "display_name": "Python 3 (ipykernel)",
   "language": "python",
   "name": "python3"
  },
  "language_info": {
   "codemirror_mode": {
    "name": "ipython",
    "version": 3
   },
   "file_extension": ".py",
   "mimetype": "text/x-python",
   "name": "python",
   "nbconvert_exporter": "python",
   "pygments_lexer": "ipython3",
   "version": "3.11.8"
  },
  "toc": {
   "base_numbering": 1,
   "nav_menu": {},
   "number_sections": true,
   "sideBar": true,
   "skip_h1_title": false,
   "title_cell": "Table of Contents",
   "title_sidebar": "Contents",
   "toc_cell": false,
   "toc_position": {},
   "toc_section_display": true,
   "toc_window_display": false
  }
 },
 "nbformat": 4,
 "nbformat_minor": 5
}
