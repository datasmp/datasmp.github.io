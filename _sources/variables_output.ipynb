{
 "cells": [
  {
   "cell_type": "markdown",
   "id": "13e18a7d",
   "metadata": {},
   "source": [
    "# Variables Output\n",
    "![Section Title: Variables Output](title_pict/variables_output2.png)\n",
    "\n",
    "- Find the output of the following code. \n",
    "- Please don't run the code before giving your answer. &emsp;&emsp;&emsp;&emsp;"
   ]
  },
  {
   "cell_type": "markdown",
   "id": "03fc8d4d",
   "metadata": {},
   "source": [
    "## Question-1\n"
   ]
  },
  {
   "cell_type": "markdown",
   "id": "fe203b2c-9202-4f3a-972d-d2abaf221c83",
   "metadata": {},
   "source": [
    "``` python\n",
    "print(type(5))\n",
    "```"
   ]
  },
  {
   "cell_type": "markdown",
   "id": "e7110210-94f8-4918-b5d2-deec6f105e68",
   "metadata": {},
   "source": [
    "```{admonition} Solution\n",
    ":class: toggle\n",
    "<class 'int'>"
   ]
  },
  {
   "cell_type": "markdown",
   "id": "c1aef79d",
   "metadata": {},
   "source": [
    "## Question-2\n"
   ]
  },
  {
   "cell_type": "markdown",
   "id": "a645f45e-7972-4a08-801f-c387731202bb",
   "metadata": {},
   "source": [
    "``` python\n",
    "print(type(5.5))\n",
    "```"
   ]
  },
  {
   "cell_type": "markdown",
   "id": "ce484690-c3c9-47f4-8edc-bd10e82302ac",
   "metadata": {},
   "source": [
    "```{admonition} Solution\n",
    ":class: toggle\n",
    "<class 'float'>"
   ]
  },
  {
   "cell_type": "markdown",
   "id": "1bc72fed",
   "metadata": {},
   "source": [
    "## Question-3\n"
   ]
  },
  {
   "cell_type": "markdown",
   "id": "58bdfa21-88cd-4e8a-bcc2-6fb264fee373",
   "metadata": {},
   "source": [
    "``` python\n",
    "print(type(5.0))\n",
    "```"
   ]
  },
  {
   "cell_type": "markdown",
   "id": "7ef9b833-e043-4f09-9778-1d7198b7a797",
   "metadata": {},
   "source": [
    "```{admonition} Solution\n",
    ":class: toggle\n",
    "<class 'float'>"
   ]
  },
  {
   "cell_type": "markdown",
   "id": "d0e75b17",
   "metadata": {},
   "source": [
    "## Question-4\n"
   ]
  },
  {
   "cell_type": "markdown",
   "id": "cb7f6a23-c20c-4d16-bdaf-765d41c8499f",
   "metadata": {},
   "source": [
    "``` python\n",
    "print(type('5'))\n",
    "```"
   ]
  },
  {
   "cell_type": "markdown",
   "id": "a42061ad-ed4b-4065-a3fc-9766cf303812",
   "metadata": {},
   "source": [
    "```{admonition} Solution\n",
    ":class: toggle\n",
    "<class 'str'>"
   ]
  },
  {
   "cell_type": "markdown",
   "id": "08e1e1ce",
   "metadata": {},
   "source": [
    "## Question-5\n"
   ]
  },
  {
   "cell_type": "markdown",
   "id": "109ffc3d-8e46-4052-b7f9-cbe5c8416383",
   "metadata": {},
   "source": [
    "``` python\n",
    "x = 5\n",
    "y = 'apple'\n",
    "print('I have', 20-x, y,'s.')\n",
    "```"
   ]
  },
  {
   "cell_type": "markdown",
   "id": "c31f04d1-92f6-4af2-9a2a-e03fdcef130c",
   "metadata": {},
   "source": [
    "```{admonition} Solution\n",
    ":class: toggle\n",
    "I have 15 apple s."
   ]
  },
  {
   "cell_type": "markdown",
   "id": "6c41682c",
   "metadata": {},
   "source": [
    "## Question-6\n"
   ]
  },
  {
   "cell_type": "markdown",
   "id": "92cee485-7bc5-4553-af16-c528c2ab84c8",
   "metadata": {},
   "source": [
    "``` python\n",
    "age = 25\n",
    "print('I am' +'age'+'years old.')\n",
    "```"
   ]
  },
  {
   "cell_type": "markdown",
   "id": "2c587eb2-0338-4f77-8f81-9c9be5c8a02f",
   "metadata": {},
   "source": [
    "```{admonition} Solution\n",
    ":class: toggle\n",
    "I amageyears old."
   ]
  },
  {
   "cell_type": "markdown",
   "id": "68dab687",
   "metadata": {},
   "source": [
    "## Question-7\n"
   ]
  },
  {
   "cell_type": "markdown",
   "id": "fc0383dc-690e-49e4-bedd-1e53093ea083",
   "metadata": {},
   "source": [
    "``` python\n",
    "age = 25\n",
    "print('I am' +str(age)+'years old.')\n",
    "```"
   ]
  },
  {
   "cell_type": "markdown",
   "id": "0b698e3b-59e7-49bc-850e-9850f1ea34fb",
   "metadata": {},
   "source": [
    "```{admonition} Solution\n",
    ":class: toggle\n",
    "I am25years old."
   ]
  },
  {
   "cell_type": "markdown",
   "id": "8178916d-02ad-48f6-8b12-a61bd3e550b4",
   "metadata": {},
   "source": [
    "## Question-8\n"
   ]
  },
  {
   "cell_type": "markdown",
   "id": "80ce81fb-5f78-423c-a5ad-b034a21c6324",
   "metadata": {},
   "source": [
    "``` python\n",
    "x = 25\n",
    "print(x+5)\n",
    "print(x)\n",
    "print(2*x)\n",
    "```"
   ]
  },
  {
   "cell_type": "markdown",
   "id": "0458a08e-faed-49ad-b97b-90a0ea706983",
   "metadata": {},
   "source": [
    "```{admonition} Solution\n",
    ":class: toggle\n",
    "30  \n",
    "25  \n",
    "50"
   ]
  },
  {
   "cell_type": "markdown",
   "id": "f11f8848-fe89-4403-8f9f-9035af5d8fc1",
   "metadata": {},
   "source": [
    "## Question-9\n"
   ]
  },
  {
   "cell_type": "markdown",
   "id": "d6c747c6-a695-45f9-aa01-26e6660ef05d",
   "metadata": {},
   "source": [
    "``` python\n",
    "print('3'+'5')\n",
    "```"
   ]
  },
  {
   "cell_type": "markdown",
   "id": "6a67d4ad-5532-405b-9698-a46a12522267",
   "metadata": {},
   "source": [
    "```{admonition} Solution\n",
    ":class: toggle\n",
    "35"
   ]
  },
  {
   "cell_type": "markdown",
   "id": "6e01591f-9853-4c22-8fb8-1797eaa881af",
   "metadata": {},
   "source": [
    "## Question-10\n"
   ]
  },
  {
   "cell_type": "markdown",
   "id": "db8359d7-69a5-4728-a2ad-b9365d7d1cf0",
   "metadata": {},
   "source": [
    "``` python\n",
    "x, y, z = 4, 2, 7\n",
    "print(x+z)\n",
    "print(y*x)\n",
    "```"
   ]
  },
  {
   "cell_type": "markdown",
   "id": "a94bba5b-c16f-4824-8ee3-08399569809e",
   "metadata": {},
   "source": [
    "```{admonition} Solution\n",
    ":class: toggle\n",
    "11  \n",
    "8  \n",
    "5"
   ]
  },
  {
   "cell_type": "markdown",
   "id": "88b1d2f8-9b15-4f25-b842-d91f39be12f2",
   "metadata": {},
   "source": [
    "## Question-11\n"
   ]
  },
  {
   "cell_type": "markdown",
   "id": "75205519-3c3a-444f-ae9f-8861bbcc8c88",
   "metadata": {},
   "source": [
    "``` python\n",
    "x, y = '3', '5'\n",
    "print(x+y)\n",
    "print(int(y)+int(x))\n",
    "print(float(y)+float(x))\n",
    "print(float(y)+int(x))\n",
    "print(int(x)*y)\n",
    "print(int(y)*x)\n",
    "\n",
    "```"
   ]
  },
  {
   "cell_type": "markdown",
   "id": "806f49cd-11cd-4f71-b5b1-e92c2ff03d58",
   "metadata": {},
   "source": [
    "```{admonition} Solution\n",
    ":class: toggle\n",
    "35  \n",
    "8  \n",
    "8.0  \n",
    "8.0  \n",
    "555  \n",
    "33333"
   ]
  },
  {
   "cell_type": "markdown",
   "id": "8f205668-4674-4dec-ab32-7db18db77ebe",
   "metadata": {},
   "source": [
    "## Question-12\n"
   ]
  },
  {
   "cell_type": "markdown",
   "id": "64d14f7a-c8c9-49a4-a579-f068f281b8bd",
   "metadata": {},
   "source": [
    "``` python\n",
    "x, y = '#', '?'\n",
    "print(x+y)\n",
    "print(2*x+y)\n",
    "print(x+y*3+x)\n",
    "```"
   ]
  },
  {
   "cell_type": "markdown",
   "id": "849f0acf-8397-4a1a-b000-6dbf0cf0225c",
   "metadata": {},
   "source": [
    "```{admonition} Solution\n",
    ":class: toggle\n",
    "#?  \n",
    "##?  \n",
    "#???#  "
   ]
  },
  {
   "cell_type": "code",
   "execution_count": null,
   "id": "5914f74d-fc8f-48fa-af03-6883fc50b45b",
   "metadata": {},
   "outputs": [],
   "source": []
  },
  {
   "cell_type": "code",
   "execution_count": null,
   "id": "36929d38-41f4-472d-9634-fd0c8183e224",
   "metadata": {},
   "outputs": [],
   "source": []
  }
 ],
 "metadata": {
  "celltoolbar": "Tags",
  "hide_input": false,
  "kernelspec": {
   "display_name": "Python 3 (ipykernel)",
   "language": "python",
   "name": "python3"
  },
  "language_info": {
   "codemirror_mode": {
    "name": "ipython",
    "version": 3
   },
   "file_extension": ".py",
   "mimetype": "text/x-python",
   "name": "python",
   "nbconvert_exporter": "python",
   "pygments_lexer": "ipython3",
   "version": "3.11.8"
  },
  "toc": {
   "base_numbering": 1,
   "nav_menu": {},
   "number_sections": true,
   "sideBar": true,
   "skip_h1_title": false,
   "title_cell": "Table of Contents",
   "title_sidebar": "Contents",
   "toc_cell": false,
   "toc_position": {},
   "toc_section_display": true,
   "toc_window_display": false
  }
 },
 "nbformat": 4,
 "nbformat_minor": 5
}
