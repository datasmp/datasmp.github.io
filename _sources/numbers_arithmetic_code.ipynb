{
 "cells": [
  {
   "cell_type": "markdown",
   "id": "13e18a7d",
   "metadata": {
    "hide_input": false
   },
   "source": [
    "# Numbers Code\n",
    "Please solve the following questions using Python code.&emsp;&emsp;"
   ]
  },
  {
   "cell_type": "markdown",
   "id": "7054f9a9",
   "metadata": {},
   "source": [
    "## Question-1\n",
    "Write a program that prompts the user for their weight in pounds.\n",
    "\n",
    "- Convert the weight to kilograms.\n",
    "- Print the converted weight.\n",
    "  "
   ]
  },
  {
   "cell_type": "markdown",
   "id": "918b1fba-63dd-45b2-9553-f0ace02e77c4",
   "metadata": {},
   "source": [
    "```{admonition} Solution\n",
    ":class: toggle\n",
    "\n",
    "``` python\n",
    "pound = float(input('Enter your weight in pounds: '))\n",
    "\n",
    "kilogram = pound*0.46\n",
    "\n",
    "print('Your weight is', kilogram, 'kg.')\n",
    "```"
   ]
  },
  {
   "cell_type": "markdown",
   "id": "9a2cdb14",
   "metadata": {},
   "source": [
    "## Question-2\n",
    "Find the area of a circle with a radius of 5.\n",
    "- Round the area to the nearest hundredth.\n",
    "- Area = $\\pi r^2$"
   ]
  },
  {
   "cell_type": "markdown",
   "id": "b51bf031-f63b-4e53-96e8-9de1f14e0375",
   "metadata": {},
   "source": [
    "```{admonition} Solution\n",
    ":class: toggle\n",
    "\n",
    "``` python\n",
    "import math\n",
    "r = 5\n",
    "\n",
    "area = math.pi * r**2\n",
    "print(round(area,2))\n",
    "```"
   ]
  },
  {
   "cell_type": "markdown",
   "id": "deeef83a",
   "metadata": {},
   "source": [
    "## Question-3\n",
    "\n",
    "Write a program that prompts the user for a Fahrenheit temperature, converts the temperature to Kelvin, and prints out the converted temperature.\n",
    "\n",
    "- Hint: $\\displaystyle K = \\frac{F-32}{1.8}+273 $\n",
    "  "
   ]
  },
  {
   "cell_type": "markdown",
   "id": "fd92564d-e5cd-42e5-9e8b-a5329478ae2c",
   "metadata": {
    "tags": [
     "hide-cell"
    ]
   },
   "source": [
    "```{admonition} Solution\n",
    ":class: toggle\n",
    "\n",
    "``` python\n",
    "fahrenheit = float(input('Enter the Fahrenheit Temperature: '))\n",
    "\n",
    "kelvin = (fahrenheit-32)/1.8+273   # convert to kelvin\n",
    "\n",
    "print('Kelvin Temparature is', kelvin)\n",
    "```"
   ]
  },
  {
   "cell_type": "markdown",
   "id": "8b1e077a",
   "metadata": {},
   "source": [
    "## Question-4\n",
    "Write a program that prompts the user for height (cm) and weight (kg), computes the body mass index, and prints it.\n",
    "\n",
    "- Hint: $ \\displaystyle BMI = \\frac{weight}{height^2}$\n",
    "  "
   ]
  },
  {
   "cell_type": "markdown",
   "id": "9ccdd112-6985-4cb8-b179-190b584870a5",
   "metadata": {
    "tags": [
     "hide-cell"
    ]
   },
   "source": [
    "```{admonition} Solution\n",
    ":class: toggle\n",
    "\n",
    "``` python\n",
    "height = int ( input('Enter the Height: ') )\n",
    "weight = int ( input('Enter the Weight: ') )\n",
    "\n",
    "bmi = weight/(height**2)\n",
    "\n",
    "print('Body Mass Index is',bmi)\n",
    "```"
   ]
  },
  {
   "cell_type": "markdown",
   "id": "4df5a565",
   "metadata": {},
   "source": [
    "## Question-5\n",
    "Write a program that prompts the user for a 3-digit positive number and displays the sum of its digits.\n",
    "- Use only one input function.\n",
    "     "
   ]
  },
  {
   "cell_type": "markdown",
   "id": "c88ea2f5-ec4f-4c99-9ec6-e9640856c999",
   "metadata": {
    "jp-MarkdownHeadingCollapsed": true,
    "tags": [
     "hide-cell"
    ]
   },
   "source": [
    "```{admonition} Solution-1\n",
    ":class: toggle\n",
    "\n",
    "``` python\n",
    "num = int( input('Enter a  3 digit number: ') )\n",
    "\n",
    "n1 = num%10\n",
    "n2 = int(((num-n1)/10)%10)\n",
    "n3 = num//100      # or n3=int((num-n1-n2)/100)\n",
    "\n",
    "sum_digit = n1+n2+n3\n",
    "\n",
    "print('Sum of digits is', sum_digit)\n",
    "```"
   ]
  },
  {
   "cell_type": "markdown",
   "id": "eccb7df8-dffd-4756-8bfa-de1a9fca4f8e",
   "metadata": {},
   "source": [
    "```{admonition} Solution-2\n",
    ":class: toggle\n",
    "\n",
    "``` python\n",
    "num = int( input('Enter a  3 digit number: ') )\n",
    "\n",
    "n3 = num//100\n",
    "n2 = (num-n3*100)//10\n",
    "n1=  num%10        # or(num-n3*100-n2*10)\n",
    "\n",
    "sum_digit = n1+n2+n3\n",
    "\n",
    "print('Sum of digits is', sum_digit)\n",
    "```\n"
   ]
  },
  {
   "cell_type": "markdown",
   "id": "3809f904",
   "metadata": {},
   "source": [
    "## Question-6\n",
    "\n",
    "Write a program that prompts the user for three different integers one by one, sorts these numbers, and prints them from smallest to largest.\n",
    "- Use the built-in functions max() and min(), and do not use any sorting function.\n"
   ]
  },
  {
   "cell_type": "markdown",
   "id": "3fc18eb9-c218-45b5-b73f-b24a074c82bf",
   "metadata": {},
   "source": [
    "```{admonition} Solution-1\n",
    ":class: toggle\n",
    "\n",
    "``` python\n",
    "num1 = int ( input('Enter the First Number: ') )\n",
    "num2 = int ( input('Enter the Second Number: ') )\n",
    "num3 = int ( input('Enter the Third Number: ') )\n",
    "\n",
    "minimum = min(num1,num2,num3)\n",
    "maximum = max(num1,num2,num3)\n",
    "middle  = num1+num2+num3-minimum-maximum\n",
    "\n",
    "print(minimum,middle,maximum,sep = ',')\n",
    "```"
   ]
  },
  {
   "cell_type": "markdown",
   "id": "9417ebf9-02f4-40e9-98ef-abd956c17a8e",
   "metadata": {
    "jp-MarkdownHeadingCollapsed": true,
    "tags": [
     "hide-cell"
    ]
   },
   "source": [
    "```{admonition} Solution-2\n",
    ":class: toggle\n",
    "\n",
    "``` python\n",
    "num1 = int ( input('Enter the First Number: ') )\n",
    "num2 = int ( input('Enter the Second Number: ') )\n",
    "num3 = int ( input('Enter the Third Number: ') )\n",
    "\n",
    "minimum = min(num1,num2,num3)\n",
    "maximum = max(num1,num2,num3)\n",
    "\n",
    "middle = min(max(num1,num2), max(num2,num3), max(num3,num1))\n",
    "\n",
    "print('Smallest to largest integer: ',min_num,mid,max_num)\n",
    "```"
   ]
  },
  {
   "cell_type": "markdown",
   "id": "a74717e0",
   "metadata": {},
   "source": [
    "## Question-7\n",
    "\n",
    "Write a program that prompts the user for a 2-digit positive number. Swap the digits of the given number and print it.\n",
    "\n",
    "- Example 1: If the given number is 53, then print 35.\n",
    "    - Print format: 53 ---- swap---> 35\n",
    "- Example 2: If the given number is 71, then print 17.\n",
    "    - Print format: 71 ---- swap---> 17\n",
    "    "
   ]
  },
  {
   "cell_type": "markdown",
   "id": "5a73e175-47cd-45e9-a4cb-e0281c9df636",
   "metadata": {
    "jp-MarkdownHeadingCollapsed": true,
    "tags": [
     "hide-cell"
    ]
   },
   "source": [
    "```{admonition} Solution\n",
    ":class: toggle\n",
    "\n",
    "``` python\n",
    "number = int(input(\"Enter a two digit number: \"))\n",
    "\n",
    "ones = number%10\n",
    "tens = number//10\n",
    "\n",
    "result = ones*10 + tens\n",
    "\n",
    "print(number,'---- swap--->', result)\n",
    "```"
   ]
  },
  {
   "cell_type": "markdown",
   "id": "c17a11be",
   "metadata": {},
   "source": [
    "## Question-8\n",
    "\n",
    "Write a program that prompts the user for a 3-digit positive number. Swap the digits of the given number and print it.\n",
    "\n",
    "- Example 1: If the given number is 153, then print 351.\n",
    "    - Print format: 153 ---- swap---> 351\n",
    "- Example 2: If the given number is 571, then print 175.\n",
    "    - Print format: 571 ---- swap---> 175\n",
    "        \n"
   ]
  },
  {
   "cell_type": "markdown",
   "id": "62ddb8c9-89c1-415a-af84-4612b20a7c85",
   "metadata": {
    "jp-MarkdownHeadingCollapsed": true,
    "tags": [
     "hide-cell"
    ]
   },
   "source": [
    "```{admonition} Solution\n",
    ":class: toggle\n",
    "\n",
    "``` python\n",
    "number = int(input(\"Enter a three digit number: \"))\n",
    "\n",
    "ones = number%10\n",
    "tens = (number//10)%10\n",
    "hundreds = number//100\n",
    "\n",
    "result = ones*100 + tens*10 + hundreds\n",
    "\n",
    "print(number,'---- swap--->', result)\n",
    "```"
   ]
  },
  {
   "cell_type": "markdown",
   "id": "bc13be04-86a9-4277-8ceb-520b038d3ba2",
   "metadata": {},
   "source": [
    "## Question-9\n",
    "\n",
    "Write a program that prompts the user for two numbers using two input functions. Assign the entered values to variables with the names x and y.\n",
    "\n",
    "  - Find $\\displaystyle f(x, y) = \\frac{2x^3+3y^2}{x^2+y^2+1}\\times5$\n",
    "  - Round this value to the second decimal place and print the result in the following format.\n",
    "      - for $x=1, y=2$ display $f(1,2)=11.67$\n",
    "        \n"
   ]
  },
  {
   "cell_type": "markdown",
   "id": "d804619d-8e8e-4c58-871a-20d76e72c77c",
   "metadata": {
    "jp-MarkdownHeadingCollapsed": true,
    "tags": [
     "hide-cell"
    ]
   },
   "source": [
    "```{admonition} Solution\n",
    ":class: toggle\n",
    "\n",
    "``` python\n",
    "x = int(input('x: '))\n",
    "y = int(input('y: '))\n",
    "\n",
    "f_x_y = (2*x**3+3*y**2)/(x**2+y**2+1)*5\n",
    "\n",
    "print('f(', x, ',' ,y, ')=', round(f_x_y,2), sep='')\n",
    "```"
   ]
  },
  {
   "cell_type": "markdown",
   "id": "4cbf3e6b-2a9e-4ebd-95c0-1d1728590399",
   "metadata": {},
   "source": [
    "## Question-10\n",
    "Write a program that prompts the user for 5 numbers using five different input functions. \n",
    "- Find the average of these numbers without using any built-in function.\n",
    "- Round it to the nearest integer and display the result.\n",
    "\n",
    "- Example: If the given numbers are 2, 8, 9, 6, 5, then display *average(2, 8, 9, 6, 5) = 6*.\n",
    "\n"
   ]
  },
  {
   "cell_type": "markdown",
   "id": "d2c35714-7a0b-426d-b7fa-03ebe5227ca1",
   "metadata": {
    "jp-MarkdownHeadingCollapsed": true,
    "tags": [
     "hide-cell"
    ]
   },
   "source": [
    "```{admonition} Solution\n",
    ":class: toggle\n",
    "\n",
    "``` python\n",
    "number1 = float(input(\"Enter 1st number: \"))\n",
    "number2 = float(input(\"Enter 2nd number: \"))\n",
    "number3 = float(input(\"Enter 3rd number: \"))\n",
    "number4 = float(input(\"Enter 4th number: \"))\n",
    "number5 = float(input(\"Enter 5th number: \"))\n",
    "\n",
    "average = sum([number1, number2, number3, number4, number5])/5\n",
    "\n",
    "print('average(', number1,',' ,number2,',' , number3,',' , number4,',' , number5,') =', round(average), sep='')\n",
    "```"
   ]
  },
  {
   "cell_type": "markdown",
   "id": "49c6a997-a527-41ea-8b11-226ebc901650",
   "metadata": {},
   "source": [
    "## Question-11\n",
    "  \n",
    " Write a program that prompts the user for 5 numbers using five different input functions. \n",
    " - Find the sum of these numbers excluding the largest and smallest ones.\n",
    " - Display the sum.\n",
    " "
   ]
  },
  {
   "cell_type": "markdown",
   "id": "4896bfb6-439a-444b-80f7-7c45cebbee71",
   "metadata": {
    "jp-MarkdownHeadingCollapsed": true,
    "tags": [
     "hide-cell"
    ]
   },
   "source": [
    "```{admonition} Solution\n",
    ":class: toggle\n",
    "\n",
    "``` python\n",
    "number1 = float(input(\"Enter 1st number: \"))\n",
    "number2 = float(input(\"Enter 2nd number: \"))\n",
    "number3 = float(input(\"Enter 3rd number: \"))\n",
    "number4 = float(input(\"Enter 4th number: \"))\n",
    "number5 = float(input(\"Enter 5th number: \"))\n",
    "\n",
    "max_number = max(number1, number2, number3, number4, number5)\n",
    "min_number = min(number1, number2, number3, number4, number5)\n",
    "\n",
    "total = sum([number1, number2, number3, number4, number5])\n",
    "\n",
    "print(total-(max_number+min_number))\n",
    "```"
   ]
  },
  {
   "cell_type": "markdown",
   "id": "50045ff0-2f67-4750-884a-042cfd551237",
   "metadata": {},
   "source": [
    "## Question-12\n",
    "\n",
    "- Choose a 3-digit random number as the dividend.\n",
    "- Choose a 1-digit random number as the divisor.\n",
    "- Display these numbers.\n",
    "- Find the remainder and quotient when the dividend is divided by the divisor.\n",
    "- After 5 seconds, show the correct remainder and quotient.  "
   ]
  },
  {
   "cell_type": "markdown",
   "id": "dad880a0-3f2e-47b2-b054-2945ece6391e",
   "metadata": {},
   "source": [
    "```{admonition} Solution\n",
    ":class: toggle\n",
    "\n",
    "``` python\n",
    "import random\n",
    "import time\n",
    "\n",
    "divisor  = random.randint(1,9)         # random one digit number\n",
    "dividend = random.randint(100,999)     # random three digit number\n",
    "\n",
    "print('Divide', dividend, 'by', divisor)\n",
    "print()\n",
    "\n",
    "time.sleep(5)\n",
    "\n",
    "print('Quotient  :', dividend//divisor)\n",
    "print('Remainder :', dividend%divisor)\n",
    "```"
   ]
  },
  {
   "cell_type": "code",
   "execution_count": null,
   "id": "7b1d604e-b3fa-4d1d-bd66-0f85e45cac69",
   "metadata": {
    "tags": [
     "hide-cell"
    ]
   },
   "outputs": [],
   "source": []
  },
  {
   "cell_type": "code",
   "execution_count": null,
   "id": "89f82d6e-0a22-4dc1-8a75-e62d95fa76b3",
   "metadata": {},
   "outputs": [],
   "source": []
  }
 ],
 "metadata": {
  "celltoolbar": "Edit Metadata",
  "hide_input": false,
  "kernelspec": {
   "display_name": "Python 3 (ipykernel)",
   "language": "python",
   "name": "python3"
  },
  "language_info": {
   "codemirror_mode": {
    "name": "ipython",
    "version": 3
   },
   "file_extension": ".py",
   "mimetype": "text/x-python",
   "name": "python",
   "nbconvert_exporter": "python",
   "pygments_lexer": "ipython3",
   "version": "3.11.7"
  },
  "toc": {
   "base_numbering": 1,
   "nav_menu": {},
   "number_sections": true,
   "sideBar": true,
   "skip_h1_title": false,
   "title_cell": "Table of Contents",
   "title_sidebar": "Contents",
   "toc_cell": false,
   "toc_position": {},
   "toc_section_display": true,
   "toc_window_display": true
  }
 },
 "nbformat": 4,
 "nbformat_minor": 5
}
