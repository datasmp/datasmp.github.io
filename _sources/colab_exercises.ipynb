{
 "cells": [
  {
   "cell_type": "markdown",
   "id": "ec0c3bf6-692a-40b4-97bf-4c27f3d9de02",
   "metadata": {},
   "source": [
    "# Colab Exercises\n",
    "![](title_pict/colab_exercises2.png)"
   ]
  },
  {
   "cell_type": "markdown",
   "id": "4dda1d7f-b6ac-44ef-a1c3-420022862397",
   "metadata": {},
   "source": [
    "Please follow the steps below:\n",
    "1. Create a folder in your Google Drive and rename it as `python_labs`.\n",
    "2. Within this folder, create a Colab notebook and give it the name `firstname_lastname_lab_colab` using your own name.\n",
    "3. Insert a `text` cell, enter *Biography*, and set it as a heading with level-1.\n",
    "4. Enter *Albert Einstein* to the same text cell, and move it to become the first cell in the notebook.\n",
    "5. Below that, insert another `text` cell, enter *Education*, and set it as a heading with level-2.\n",
    "6. Include the following two items in this text cell as a bullet list, with degrees and years as sublists. \n",
    "    - Federal polytechnic school (Dipl., 1900)\n",
    "    - University of Zurich (PhD, 1905)\n",
    "7. Below that, insert another `text` cell, enter *Awards*, and set it as a heading with level-2.\n",
    "8. Include the following  items in this text cell as a numbered list.\n",
    "    - Barnard Medal (1920)\n",
    "    - Nobel Prize in Physics (1921)\n",
    "    - Matteucci Medal (1921) \n",
    "    - ForMemRS (1921)\n",
    "    - Copley Medal (1925)\n",
    "    - Gold Medal of the Royal Astronomical Society (1926)\n",
    "    - Max Planck Medal (1929)\n",
    "    - Member of the National Academy of Sciences (1942)\n",
    "    - Time Person of the Century (1999)\n",
    "9. After the second item above, insert a horizontal line.\n",
    "10. Change the color of the third item to red.\n",
    "11. Emphasize the fourth item by making it bold.\n",
    "12. Increase the font size of the seventh item to 20.\n",
    "13. Italicize the eighth item.\n",
    "14. Highlight the last one.\n",
    "15. Create a new text cell and construct a table with two columns and nine rows, including *Award* and *Year* as the column headers.\n",
    "16. Insert four code cells, perform one algebraic operation in each, and include a meaningful comment for clarity in each cell.\n",
    "17. Insert a code cell and print 'Tesla' 10 times in a single line.\n",
    "18. Insert a code cell and embed a YouTube video.\n",
    "19. Insert a code cell and embed a picture from a website.\n",
    "20. Insert a code cell and calculate the median of the numbers: $9, 34, 13, 90, 5$.\n",
    "\n",
    "\n",
    "**Hint:** The output of the text cells should be as follows:"
   ]
  },
  {
   "cell_type": "markdown",
   "id": "70a92f43-1fce-4cd1-91a4-dad16afa96b5",
   "metadata": {},
   "source": [
    "# Biography\n",
    "Albert Einstein"
   ]
  },
  {
   "cell_type": "markdown",
   "id": "ab861468-2fdc-4c95-a7c2-ec9da913a716",
   "metadata": {},
   "source": [
    "## Education\n",
    "- Federal polytechnic school\n",
    "    - Dipl.\n",
    "    - 1900\n",
    "- University of Zurich\n",
    "    - PhD\n",
    "    - 1905"
   ]
  },
  {
   "cell_type": "markdown",
   "id": "b1d68ab4-c5a1-4d56-a56e-26b992ea5988",
   "metadata": {},
   "source": [
    "## Awards\n",
    "1. Barnard Medal (1920)\n",
    "2. Nobel Prize in Physics (1921)\n",
    "***\n",
    "3. <font color=red> Matteucci Medal (1921) </font>\n",
    "4. **ForMemRS (1921)**\n",
    "5. Copley Medal (1925)\n",
    "6. Gold Medal of the Royal Astronomical Society (1926) \n",
    "7. <font size=20>  Max Planck Medal (1929)</font>\n",
    "8. *Member of the National Academy of Sciences (1942)*\n",
    "9. `Time Person of the Century (1999)`"
   ]
  },
  {
   "cell_type": "markdown",
   "id": "d6a84a07-faf0-47e6-9767-910d05702586",
   "metadata": {},
   "source": [
    "|Award|Year|\n",
    "|-|-|\n",
    "|Barnard Medal |1920|\n",
    "|Nobel Prize in Physics |1921|\n",
    "|Matteucci Medal |1921|\n",
    "|ForMemRS |1921|\n",
    "|Copley Medal | 1925|\n",
    "|Gold Medal of the Royal Astronomical Society |1926|\n",
    "|Max Planck Medal |1929|\n",
    "|Member of the National Academy of Sciences|1942|\n",
    "|Time Person of the Century|1999|"
   ]
  },
  {
   "cell_type": "code",
   "execution_count": null,
   "id": "2ff02c56-9d13-4241-b761-d116a46556d2",
   "metadata": {},
   "outputs": [],
   "source": []
  }
 ],
 "metadata": {
  "kernelspec": {
   "display_name": "Python 3 (ipykernel)",
   "language": "python",
   "name": "python3"
  },
  "language_info": {
   "codemirror_mode": {
    "name": "ipython",
    "version": 3
   },
   "file_extension": ".py",
   "mimetype": "text/x-python",
   "name": "python",
   "nbconvert_exporter": "python",
   "pygments_lexer": "ipython3",
   "version": "3.11.7"
  }
 },
 "nbformat": 4,
 "nbformat_minor": 5
}
