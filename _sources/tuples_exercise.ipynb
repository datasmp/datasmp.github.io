{
 "cells": [
  {
   "cell_type": "markdown",
   "id": "b4ac5876-4e84-4c82-b2d4-0f9d60ae4472",
   "metadata": {},
   "source": [
    "# Tuples Exercises\n",
    "![](title_pict/tuples_exercises2.png)\n"
   ]
  },
  {
   "cell_type": "markdown",
   "id": "12d9d3da-fc13-436f-b6d6-5ecc79eb86cf",
   "metadata": {},
   "source": [
    "## Question-1\n",
    "Create a tuple containing numbers greater than 5 from the given tuple below using a for loop.\n",
    "\n",
    "``` python\n",
    "mytuple = (3, 6, 2, 1.89, 1, 9, 5.5, 5, 7, 8, 1, -3, -5, 10.3)\n",
    "```"
   ]
  },
  {
   "cell_type": "markdown",
   "id": "a80e376e-b8f9-476b-a991-a2282165c2ce",
   "metadata": {},
   "source": [
    "## Question-2\n",
    "Create a tuple containing numbers greater than 5 from the given tuple below using a for loop.\n",
    "\n",
    "``` python\n",
    "mytuple = (3, 6, 2, 1.89, 'h', 1, 9, 5.5, 5, 7, 8, True, 1, -3, -5, 'USA', 10.3, 'France')\n",
    "```"
   ]
  },
  {
   "cell_type": "markdown",
   "id": "3dd49d9c-1c3e-4b3b-8ca8-f1ebc0fab752",
   "metadata": {},
   "source": [
    "## Question-3\n",
    "Create a tuple by combining elements from the following tuples, one by one using a for loop.\n",
    "\n",
    "``` python\n",
    "numbers = (1,2,3,4,5)\n",
    "letters = ('a', 'b', 'c', 'd', 'e')\n",
    " ```\n",
    "\n",
    "The output should be (1, 'a', 2, 'b', 3, 'c', 4, 'd', 5, 'e')"
   ]
  },
  {
   "cell_type": "markdown",
   "id": "9f62aa99-9a26-40b8-a85f-6d297f98970f",
   "metadata": {},
   "source": [
    "## Question-4: Scatterplot\n",
    "\n",
    "There are 5 houses in a specific area, each described by tuples containing their x and y coordinates, colors, sizes, and the names of the owners.\n",
    "- Use a for loop to plot each house individually, displaying the first characters of the owners' names next to their respective houses.\n",
    "- Refer to the scatterplot section in *Chapter-13: Visualization* for implementation guidance.\n",
    "\n",
    "\n",
    "```python\n",
    "x_tuple = (1, 5, 8, 3, 9)\n",
    "y_tuple = (7, 1, 9, 5, 3)\n",
    "color_tuple = ('green', 'red', 'orange', 'navy', 'pink')\n",
    "size_tuple = (250, 50, 200, 100, 175)\n",
    "name_tuple = ('Michael', 'Tim', 'Jennifer', 'Liz', 'Frank')\n",
    "```"
   ]
  },
  {
   "cell_type": "markdown",
   "id": "c65daa00-6df4-4f06-b3f6-da299e0b551f",
   "metadata": {},
   "source": [
    "## Question-5: Barplot\n",
    "Ask the user to enter as many numbers as they want.\n",
    "- Store these numbers in a tuple.\n",
    "- Warn the user if a non-numeric value is entered.\n",
    "- Use a while loop and try-except.\n",
    "- Calculate the count, mean, median, standard deviation, maximum, and minimum values of the entered numbers.\n",
    "- Visualize these values using a bar graph.\n",
    "- Refer to the barplot section in *Chapter-13: Visualization* for implementation guidance.\n",
    "\n",
    "**Sample Output**\n",
    "Enter a number or type Q to quit. 3  \n",
    "Enter a number or type Q to quit. 7  \n",
    "Enter a number or type Q to quit. 2  \n",
    "Enter a number or type Q to quit. 9  \n",
    "Enter a number or type Q to quit. w  \n",
    "Please enter a numerical value!  \n",
    "Enter a number or type Q to quit. 4  \n",
    "Enter a number or type Q to quit. Q  \n",
    "Numbers: (3.0, 7.0, 2.0, 9.0, 4.0)  \n",
    "*add your BARPLOT here.*\n"
   ]
  },
  {
   "cell_type": "markdown",
   "id": "0ef76661-2110-4000-9d38-158d8ea288e0",
   "metadata": {},
   "source": [
    "## Question-6\n",
    "Create a tuple with the elements: $2, 8, 4, 8, 4, 10, 4$ and print the following information about this tuple:\n",
    "- The number of occurrences of 10.\n",
    "- The element at index 4.\n",
    "- The second element.\n",
    "- The index of the first occurrence of 4.\n",
    "- The index of the second occurrence of 4.\n",
    "- The index of the third occurrence of 4.\n",
    "- The length (number of elements) of the tuple.\n",
    "- The maximum, minimum, and the sum of the elements.\n",
    "- The last two elements using slicing.\n",
    "- The first three elements using slicing."
   ]
  },
  {
   "cell_type": "markdown",
   "id": "8f14c555-ae72-44b1-80a7-c72f40a54717",
   "metadata": {},
   "source": [
    "## Question-7\n",
    "Find the average exam result for the 9th graders among the provided grade levels and exam results using a for loop.\n",
    "\n",
    "``` python\n",
    "grade_level = ( 9,  9, 10, 11, 10, 10,  9, 10, 11, 11, 10, 11,  9, 11, 11,  9, 10, 10, 10, 10)\n",
    "exam_result = (59, 20, 81, 30, 62, 56, 85, 72, 48, 15, 47, 18, 11, 37, 79, 87, 79, 92, 82, 66)\n",
    "```"
   ]
  },
  {
   "cell_type": "markdown",
   "id": "e8126504-588b-45fc-844c-b0dd9d7cee79",
   "metadata": {},
   "source": [
    "## Question-8\n",
    "For the given tuple below, print the elements that are strings, have at least 4 characters, and end with 'r'.\n",
    "\n",
    "``` python\n",
    "mytuple = ( 'table', 'chair', 'desk', 'pen', 5, 7, 8,  'pencil', 'eraser', True, 'ruler', 'car')\n",
    "```"
   ]
  },
  {
   "cell_type": "markdown",
   "id": "ca003409-4e67-4a13-a0fb-44d8512bff9b",
   "metadata": {},
   "source": [
    "## Business Applications"
   ]
  },
  {
   "cell_type": "markdown",
   "id": "0bbf57a1-831e-4b75-b0a6-c5013edc1e8e",
   "metadata": {},
   "source": [
    "### Question: Production Data Analysis\n",
    "The following two tuples represent the annual production and the corresponding years for a company over a 10-year period.\n",
    "``` python\n",
    "production = (3000, 2500, 5000, 4750, 2250, 6300, 8000, 7500, 9000, 8700)\n",
    "years = (2012, 2013, 2014, 2015, 2016, 2017, 2018, 2019, 2020, 2021)\n",
    "```\n",
    "- Calculate the total, average, and highest production using methods from *numpy*.\n",
    "- Determine the year with the highest production using the *index()* method."
   ]
  },
  {
   "cell_type": "markdown",
   "id": "9dcb706b-3540-4f6f-985c-45a11d7bb265",
   "metadata": {},
   "source": [
    "### Question: Profit and Loss\n",
    "The following three tuples represent the revenue, cost, and the corresponding years for a company over a 10-year period.\n",
    "``` python\n",
    "revenue = (2000, 4500, 5000, 6000, 3000, 4000, 8000, 2000, 6000, 3000)\n",
    "cost    = (2500, 3500, 3750, 4500, 4000, 3500, 4500, 3000, 4500, 4000)\n",
    "years   = (2012, 2013, 2014, 2015, 2016, 2017, 2018, 2019, 2020, 2021)\n",
    "```\n",
    "- Calculate the total profit and total loss.\n",
    "- Create a tuple consisting of the years when the company lost money.\n",
    "- Determine the overall profit during these 10 years"
   ]
  },
  {
   "cell_type": "code",
   "execution_count": null,
   "id": "438afffc-6290-4d52-aa8c-3d17238e6288",
   "metadata": {},
   "outputs": [],
   "source": []
  }
 ],
 "metadata": {
  "kernelspec": {
   "display_name": "Python 3 (ipykernel)",
   "language": "python",
   "name": "python3"
  },
  "language_info": {
   "codemirror_mode": {
    "name": "ipython",
    "version": 3
   },
   "file_extension": ".py",
   "mimetype": "text/x-python",
   "name": "python",
   "nbconvert_exporter": "python",
   "pygments_lexer": "ipython3",
   "version": "3.11.7"
  }
 },
 "nbformat": 4,
 "nbformat_minor": 5
}
