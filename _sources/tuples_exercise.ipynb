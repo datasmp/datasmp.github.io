{
 "cells": [
  {
   "cell_type": "markdown",
   "id": "b4ac5876-4e84-4c82-b2d4-0f9d60ae4472",
   "metadata": {},
   "source": [
    "# Tuples Exercises"
   ]
  },
  {
   "cell_type": "markdown",
   "id": "12d9d3da-fc13-436f-b6d6-5ecc79eb86cf",
   "metadata": {},
   "source": [
    "## Question-1\n",
    "Create a tuple containing numbers greater than 5 from the given tuple below using a for loop.\n",
    "\n",
    "``` python\n",
    "mytuple = (3, 6, 2, 1.89, 1, 9, 5.5, 5, 7, 8, 1, -3, -5, 10.3)\n",
    "```"
   ]
  },
  {
   "cell_type": "markdown",
   "id": "a80e376e-b8f9-476b-a991-a2282165c2ce",
   "metadata": {},
   "source": [
    "## Question-2\n",
    "Create a tuple containing numbers greater than 5 from the given tuple below using a for loop.\n",
    "\n",
    "``` python\n",
    "mytuple = (3, 6, 2, 1.89, 'h', 1, 9, 5.5, 5, 7, 8, True, 1, -3, -5, 'USA', 10.3, 'France')\n",
    "```"
   ]
  },
  {
   "cell_type": "markdown",
   "id": "3dd49d9c-1c3e-4b3b-8ca8-f1ebc0fab752",
   "metadata": {},
   "source": [
    "## Question-3\n",
    "Create a tuple by combining elements from the following tuples, one by one using a for loop.\n",
    "\n",
    "``` python\n",
    "numbers = (1,2,3,4,5)\n",
    "letters = ('a', 'b', 'c', 'd', 'e')\n",
    " ```\n",
    "\n",
    "The output should be (1, 'a', 2, 'b', 3, 'c', 4, 'd', 5, 'e')"
   ]
  },
  {
   "cell_type": "markdown",
   "id": "9f62aa99-9a26-40b8-a85f-6d297f98970f",
   "metadata": {},
   "source": [
    "## Question-4: Scatterplot\n",
    "\n",
    "There are 5 houses in a specific area, each described by tuples containing their x and y coordinates, colors, sizes, and the names of the owners.\n",
    "- Use a for loop to plot each house individually, displaying the first characters of the owners' names next to their respective houses.\n",
    "- Refer to the scatterplot section in *Chapter-13: Visualization* for implementation guidance.\n",
    "\n",
    "\n",
    "```python\n",
    "x_tuple = (1, 5, 8, 3, 9)\n",
    "y_tuple = (7, 1, 9, 5, 3)\n",
    "color_tuple = ('green', 'red', 'orange', 'navy', 'pink')\n",
    "size_tuple = (250, 50, 200, 100, 175)\n",
    "name_tuple = ('Michael', 'Tim', 'Jennifer', 'Liz', 'Frank')\n",
    "```"
   ]
  },
  {
   "cell_type": "markdown",
   "id": "c65daa00-6df4-4f06-b3f6-da299e0b551f",
   "metadata": {},
   "source": [
    "## Question-5: Barplot\n",
    "Ask the user to enter as many numbers as they want.\n",
    "- Store these numbers in a tuple.\n",
    "- Warn the user if a non-numeric value is entered.\n",
    "- Use a while loop and try-except.\n",
    "- Calculate the count, mean, median, standard deviation, maximum, and minimum values of the entered numbers.\n",
    "- Visualize these values using a bar graph.\n",
    "- Refer to the barplot section in *Chapter-13: Visualization* for implementation guidance.\n",
    "\n",
    "**Sample Output**\n",
    "Enter a number or type Q to quit. 3  \n",
    "Enter a number or type Q to quit. 7  \n",
    "Enter a number or type Q to quit. 2  \n",
    "Enter a number or type Q to quit. 9  \n",
    "Enter a number or type Q to quit. w  \n",
    "Please enter a numerical value!  \n",
    "Enter a number or type Q to quit. 4  \n",
    "Enter a number or type Q to quit. Q  \n",
    "Numbers: (3.0, 7.0, 2.0, 9.0, 4.0)  \n",
    "*add your BARPLOT here.*\n"
   ]
  },
  {
   "cell_type": "code",
   "execution_count": null,
   "id": "6b3382a2-3802-40a0-bddd-7628c104a197",
   "metadata": {},
   "outputs": [],
   "source": []
  }
 ],
 "metadata": {
  "kernelspec": {
   "display_name": "Python 3 (ipykernel)",
   "language": "python",
   "name": "python3"
  },
  "language_info": {
   "codemirror_mode": {
    "name": "ipython",
    "version": 3
   },
   "file_extension": ".py",
   "mimetype": "text/x-python",
   "name": "python",
   "nbconvert_exporter": "python",
   "pygments_lexer": "ipython3",
   "version": "3.11.7"
  }
 },
 "nbformat": 4,
 "nbformat_minor": 5
}
