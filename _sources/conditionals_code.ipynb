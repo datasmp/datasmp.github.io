{
 "cells": [
  {
   "cell_type": "markdown",
   "id": "13e18a7d",
   "metadata": {
    "hide_input": false
   },
   "source": [
    "# Conditionals Code\n",
    "- Please solve the following questions using Python code.&emsp;&emsp;"
   ]
  },
  {
   "cell_type": "markdown",
   "id": "7054f9a9",
   "metadata": {},
   "source": [
    "## Question-1\n",
    "Write a program that asks the user to enter a 6-digit number.\n",
    "- Check whether the digit in the thousands place is even.\n"
   ]
  },
  {
   "cell_type": "markdown",
   "id": "ffa19b17-d7dc-4203-84ba-ab2fd7f4893d",
   "metadata": {
    "tags": [
     "hide-cell"
    ]
   },
   "source": [
    "```{admonition} Solution\n",
    ":class: toggle\n",
    "\n",
    "``` python\n",
    "number = input('Please enter a 6 digit number: ')\n",
    "\n",
    "thousands_digit = int(number[2])\n",
    "\n",
    "if thousands_digit % 2:\n",
    "    print(f'Thousands digit is odd.')\n",
    "else:\n",
    "    print(f'Thousands digit is even.')\n",
    "```"
   ]
  },
  {
   "cell_type": "markdown",
   "id": "9a2cdb14",
   "metadata": {},
   "source": [
    "## Question-2\n",
    "Write a program that asks the user to enter a percent grade.  \n",
    "- Display the corresponding \"Letter Grade\" according to the following grading scale.\n",
    "   \n",
    "|Letter Grade|Grade Range|\n",
    "|:---|:----:|\n",
    "|A | 96 - 100|\n",
    "|A-| 90 - 95|\n",
    "|B+| 87 - 89|\n",
    "|B | 84 - 86|\n",
    "|B-| 80 - 83|\n",
    "|C+| 77 - 79|\n",
    "|C | 74 - 76|\n",
    "|C-| 70 - 73|\n",
    "|D+| 67 - 69|\n",
    "|D | 64 - 66|\n",
    "|D-| 60 - 63|\n",
    "|F |  0 - 59|\n"
   ]
  },
  {
   "cell_type": "markdown",
   "id": "4617c0c0-a1b9-490a-940c-40aaa3060802",
   "metadata": {
    "tags": [
     "hide-cell"
    ]
   },
   "source": [
    "```{admonition} Solution\n",
    ":class: toggle\n",
    "\n",
    "``` python\n",
    "grade = float(input('Please enter your percent grade: '))\n",
    "\n",
    "if grade >= 96: print('A')\n",
    "elif grade >= 90: print('A-')\n",
    "elif grade >= 87: print('B+')\n",
    "elif grade >= 84: print('B')\n",
    "elif grade >= 80: print('B-')\n",
    "elif grade >= 77: print('C+')\n",
    "elif grade >= 74: print('C')\n",
    "elif grade >= 70: print('C-')\n",
    "elif grade >= 67: print('D+')\n",
    "elif grade >= 64: print('D')\n",
    "elif grade >= 60: print('D-')\n",
    "else: print('F')\n",
    "```"
   ]
  },
  {
   "cell_type": "markdown",
   "id": "deeef83a",
   "metadata": {},
   "source": [
    "## Question-3\n",
    "The piecewise-defined function $f(n)$ is given  as follows:\n",
    "\n",
    "$$ f(n) =\n",
    "  \\begin{cases}\n",
    "                                   n^2+3n+4 &  n > 7  \\\\\n",
    "                                   3n-7     &  7 \\ge n >4 \\\\\n",
    "                                   10       &  4 \\ge n \\ge 2\\\\\n",
    "                                   3-4n     &  \\text{otherwise}\\\\\n",
    "  \\end{cases}\n",
    "$$\n",
    "- Write a program that asks the user to enter an integer.  \n",
    "- If the integer entered is n then display f(n).\n",
    "- Hint: \n",
    "    - If n is greater than 7 then f(n)= $n^2+3n+4$.  \n",
    "    - If n is between 4 (4 is not included) and 7 (7 is included)  then f(n)=3n-7.\n",
    "    - If n is between 2 (2 is not included) and 4 (4 is included)  then f(n)=10.\n",
    "    - If n is less than 2 then f(n)=3-4n.  \n"
   ]
  },
  {
   "cell_type": "markdown",
   "id": "fd92564d-e5cd-42e5-9e8b-a5329478ae2c",
   "metadata": {
    "tags": [
     "hide-cell"
    ]
   },
   "source": [
    "```{admonition} Solution\n",
    ":class: toggle\n",
    "\n",
    "``` python\n",
    "n = int( input('Enter an integer: ')  )\n",
    "\n",
    "if n > 7:\n",
    "    print(f'f({n}) = {n**2+3*n+4}')\n",
    "elif 4 < n:\n",
    "    print(f'f({n}) = {3*n-7}')\n",
    "elif 2 <= n:\n",
    "    print(f'f({n}) = 10')\n",
    "else:\n",
    "    print(f'f({n}) = {3-4*n}')\n",
    "```"
   ]
  },
  {
   "cell_type": "markdown",
   "id": "8b1e077a",
   "metadata": {},
   "source": [
    "## Question-4\n",
    "\n",
    "Temperature Converter: Fahrenheit (F) <---> Celsius (C).\n",
    "- Ask for temperature with unit (F or C) from the user.\n",
    "    - Use only one input function.\n",
    "    - The user should enter the temperature in the form (int)F or (int)C.\n",
    "        - Example: 37F or 42C\n",
    "- If the temperature is given in Fahrenheit (F) by the user, then convert it to Celsius (C).\n",
    "- If the temperature is given in Celsius (C) by the user, then convert it to Fahrenheit (F).\n",
    "- Display the converted temperature with its unit.\n",
    "  "
   ]
  },
  {
   "cell_type": "markdown",
   "id": "9ccdd112-6985-4cb8-b179-190b584870a5",
   "metadata": {
    "tags": [
     "hide-cell"
    ]
   },
   "source": [
    "```{admonition} Solution\n",
    ":class: toggle\n",
    "\n",
    "``` python\n",
    "temperature_unit = input('Please enter the temperature with the unit: ')\n",
    "\n",
    "temp = int(temperature_unit[:-1])     # the slice, except for the last character, represents the numerical value of the temperature.\n",
    "unit = temperature_unit[-1]           # the last character is the unit\n",
    "\n",
    "if unit == 'F':\n",
    "    print(f'It is {(temp-32)/1.8}C.')\n",
    "else:\n",
    "    print(f'It is {temp*1.8+32}F.')\n",
    "```"
   ]
  },
  {
   "cell_type": "markdown",
   "id": "4df5a565",
   "metadata": {},
   "source": [
    "## Question-5\n",
    "Ask the user to input a non-negative integer.\n",
    "- Check if this integer is a perfect square and print your conclusion.\n",
    "    - Perfect squares are squares of integers, for example: 0, 1, 4, 9, 16, 25, 36, 49, etc.\n",
    "- If the given number is a negative integer, print a warning message.\n",
    "- Utilize the sqrt function from numpy or math.  \n",
    "- Example:\n",
    "    - For number = -3, output: -3 < 0. Please enter a non-negative integer.\n",
    "    - For number = 4, output: 4 is a perfect square.\n",
    "    - For number = 12, output: 12 is NOT a perfect square.\n"
   ]
  },
  {
   "cell_type": "markdown",
   "id": "c88ea2f5-ec4f-4c99-9ec6-e9640856c999",
   "metadata": {
    "tags": [
     "hide-cell"
    ]
   },
   "source": [
    "```{admonition} Solution\n",
    ":class: toggle\n",
    "\n",
    "``` python\n",
    "import math\n",
    "number = int(input('Enter a non-negative integer: '))\n",
    "\n",
    "if number < 0:\n",
    "  print(f'{number} < 0. Please enter a non-negative integer.')\n",
    "else:\n",
    "  int_sqrt = int(math.sqrt(number))           # if a number is a perfect square, its square root is an integer\n",
    "  if int_sqrt**2 == number:                   # so the square root's integer part is itself\n",
    "    print(f'{number} is a perfect square.')\n",
    "  else:\n",
    "    print(f'{number} is a NOT perfect square.')\n",
    "```"
   ]
  },
  {
   "cell_type": "markdown",
   "id": "3809f904",
   "metadata": {},
   "source": [
    "## Question-6\n",
    "Ask for a name from the user.\n",
    "- Check if it contains the letters 'k' or 'K' and if the length of the name is an odd number.\n",
    "- If this is the case, then replace 'k' with 'y' and 'K' with 'Y'.\n",
    "- Display the new name.\n",
    "- Example:\n",
    "  - name = Tom   Output: Tom\n",
    "  - name = Jack  Output: Jack     (length is even)\n",
    "  - name = KaThy Output: YaThy\n",
    "  - name = katHy Output: yatHy\n"
   ]
  },
  {
   "cell_type": "markdown",
   "id": "9417ebf9-02f4-40e9-98ef-abd956c17a8e",
   "metadata": {
    "tags": [
     "hide-cell"
    ]
   },
   "source": [
    "```{admonition} Solution\n",
    ":class: toggle\n",
    "\n",
    "``` python\n",
    "name = input('Enter a name: ')\n",
    "\n",
    "if ('k' in name.lower()) & (len(name)%2==1):\n",
    "  print(name.replace('k','y').replace('K','Y'))\n",
    "else:\n",
    "  print(name)\n",
    "```"
   ]
  },
  {
   "cell_type": "markdown",
   "id": "a74717e0",
   "metadata": {},
   "source": [
    "## Question-7\n",
    "Ask for a number from the user\n",
    "- Check whether the given number satisfies the following inequality:\n",
    "$x^2-3x+6>192$\n",
    "- Display the conclusion.\n"
   ]
  },
  {
   "cell_type": "markdown",
   "id": "5a73e175-47cd-45e9-a4cb-e0281c9df636",
   "metadata": {
    "jp-MarkdownHeadingCollapsed": true,
    "tags": [
     "hide-cell"
    ]
   },
   "source": [
    "```{admonition} Solution-1\n",
    ":class: toggle\n",
    "\n",
    "``` python\n",
    "x = float(input('Enter a number: '))\n",
    "\n",
    "y = x**2-3*x+6\n",
    "\n",
    "if y > 192:\n",
    "  print(f'{x} satisfies the inequality')\n",
    "else:\n",
    "  print(f'{x} does NOT satisfy the inequality')\n",
    "```"
   ]
  },
  {
   "cell_type": "markdown",
   "id": "97125be5-64da-4f9f-ba69-748bb9256a32",
   "metadata": {
    "jp-MarkdownHeadingCollapsed": true,
    "tags": [
     "hide-cell"
    ]
   },
   "source": [
    "```{admonition} Solution-2\n",
    ":class: toggle\n",
    "\n",
    "``` python\n",
    "x = float(input('Enter a number: '))\n",
    "\n",
    "inequality = (x**2-3*x+6) > 192\n",
    "\n",
    "if inequality:\n",
    "  print(f'{x} satisfies the inequality')\n",
    "else:\n",
    "  print(f'{x} does NOT satisfy the inequality')\n",
    "```"
   ]
  },
  {
   "cell_type": "markdown",
   "id": "c17a11be",
   "metadata": {},
   "source": [
    "## Question-8\n",
    "Ask for Test-1, Test-2, and Final exam grades from the user.\n",
    "- Use three input functions.\n",
    "- Compute the weighted average by using the following formula:\n",
    "    - Weighted Average = 0.2 x Test-1 + 0.3 x Test-2 + 0.5 x Test-3\n",
    "- Find the letter grade by using the following grading scale.\n",
    "\n",
    "|Weighted Average|Letter Grade|\n",
    "|:-:|:-:|\n",
    "|75-100|A|\n",
    "|60-74|B|\n",
    "|40-59|C|\n",
    "|0-39|F|\n",
    "\n",
    "- Example:\n",
    "  - Test-1 grade: 70\n",
    "  - Test-2 grade: 80\n",
    "  - Final  grade: 90\n",
    "  - Weighted average = $0.2 \\times 70 + 0.3 \\times 80 + 0.5 \\times 90 = 14 + 24 + 45 = 83$\n",
    "  - Output:\n",
    "    - Weighted Average 83.0   ---->   Letter Grade: A \n"
   ]
  },
  {
   "cell_type": "markdown",
   "id": "5c31f544-053a-48f5-a6dd-a1fdf2e77550",
   "metadata": {
    "jp-MarkdownHeadingCollapsed": true,
    "tags": [
     "hide-cell"
    ]
   },
   "source": [
    "```{admonition} Solution\n",
    ":class: toggle\n",
    "\n",
    "``` python\n",
    "\n",
    "test1 = float(input('Test-1 grade: '))\n",
    "test2 = float(input('Test-2 grade: '))\n",
    "final = float(input('Final  grade: '))\n",
    "\n",
    "weighted_grade = test1*0.2+test2*0.3+final*0.5\n",
    "\n",
    "print(f'Weighted Average {weighted_grade}   ---->   Letter Grade: ', end='')\n",
    "\n",
    "if   100 >= weighted_grade >= 75: \n",
    "    print('A')\n",
    "elif weighted_grade >= 60: \n",
    "    print('B')\n",
    "elif weighted_grade >= 40:\n",
    "    print('C')\n",
    "else:\n",
    "    print('F')\n",
    "```"
   ]
  },
  {
   "cell_type": "markdown",
   "id": "bc13be04-86a9-4277-8ceb-520b038d3ba2",
   "metadata": {},
   "source": [
    "## Question-9\n",
    "- Print the statement: Basic Calculator\n",
    "- Print 20 dashes (-)\n",
    "- Ask the user for two numbers using two input functions\n",
    "- Ask the user for the operation to perform\n",
    "  - Provide the options: +, -, x, /\n",
    "  - The user should choose one of them.\n",
    "- Find the result\n",
    "  - Perform the operation: First Number operation Second Number.\n",
    "  - If the second number is zero, do not perform the division operation and display a warning message.\n",
    "  - If the operation is division, also round the result.\n",
    "- Example: num1=5, num2=7, operation='x' ---> Output: 5x7=35\n"
   ]
  },
  {
   "cell_type": "markdown",
   "id": "1d846a75-61f0-424f-bc0a-cb91b1072633",
   "metadata": {
    "jp-MarkdownHeadingCollapsed": true,
    "tags": [
     "hide-cell"
    ]
   },
   "source": [
    "```{admonition} Solution\n",
    ":class: toggle\n",
    "\n",
    "``` python\n",
    "print('Basic Calculator')\n",
    "print('-'*20)\n",
    "\n",
    "number1 = float(input('Number-1: '))\n",
    "number2 = float(input('Number-2: '))\n",
    "operation = input('Operation: (+,-,x,/): ')\n",
    "\n",
    "if   operation == '+': \n",
    "    print(f'{number1} {operation} {number2} = {number1 + number2}')\n",
    "elif operation == '-': \n",
    "    print(f'{number1} {operation} {number2} = {number1 - number2}')\n",
    "elif operation == 'x': \n",
    "    print(f'{number1} {operation} {number2} = {number1 * number2}')\n",
    "else:\n",
    "  if number2 == 0: \n",
    "      print('Warning: Division by zero.')\n",
    "  else: \n",
    "      print(f'{number1} {operation} {number2} = {number1 / number2:.2f}')\n",
    "\n",
    "```"
   ]
  },
  {
   "cell_type": "markdown",
   "id": "4cbf3e6b-2a9e-4ebd-95c0-1d1728590399",
   "metadata": {},
   "source": [
    "## Question-10\n",
    "Ask the user for a number with at most 8 digits.\n",
    "- If the given number has fewer than 8 digits, pad zeros to the left to make it an 8-digit number.\n",
    "- Example:\n",
    "  - Given number: 123 ---> Output: 00000123\n",
    "  - Given number: 123456789 ---> Output: Please enter a number with at most 8 digits.\n",
    "  - Given number: 12345678 ---> Output: 12345678 \n"
   ]
  },
  {
   "cell_type": "markdown",
   "id": "58ecc411-d1c1-4eae-94f7-3dff49249bc1",
   "metadata": {
    "jp-MarkdownHeadingCollapsed": true,
    "tags": [
     "hide-cell"
    ]
   },
   "source": [
    "```{admonition} Solution\n",
    ":class: toggle\n",
    "\n",
    "``` python\n",
    "number = input('Please enter a number with at most 8 digits: ')\n",
    "\n",
    "length = len(number)\n",
    "\n",
    "if length <= 8:\n",
    "  print((8-length)*'0'+number)\n",
    "else:\n",
    "  print('Please enter a number with at most 8 digits.')\n",
    "```"
   ]
  },
  {
   "cell_type": "code",
   "execution_count": null,
   "id": "d307c10d-d64c-45d3-b0cd-0dfd5401d72e",
   "metadata": {},
   "outputs": [],
   "source": []
  }
 ],
 "metadata": {
  "celltoolbar": "Tags",
  "hide_input": false,
  "kernelspec": {
   "display_name": "Python 3 (ipykernel)",
   "language": "python",
   "name": "python3"
  },
  "language_info": {
   "codemirror_mode": {
    "name": "ipython",
    "version": 3
   },
   "file_extension": ".py",
   "mimetype": "text/x-python",
   "name": "python",
   "nbconvert_exporter": "python",
   "pygments_lexer": "ipython3",
   "version": "3.11.7"
  },
  "toc": {
   "base_numbering": 1,
   "nav_menu": {},
   "number_sections": true,
   "sideBar": true,
   "skip_h1_title": false,
   "title_cell": "Table of Contents",
   "title_sidebar": "Contents",
   "toc_cell": false,
   "toc_position": {},
   "toc_section_display": true,
   "toc_window_display": false
  }
 },
 "nbformat": 4,
 "nbformat_minor": 5
}
