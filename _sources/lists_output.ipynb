{
 "cells": [
  {
   "cell_type": "markdown",
   "id": "13e18a7d",
   "metadata": {},
   "source": [
    "# Lists Output\n",
    "- Find the output of the following code. \n",
    "- Please don't run the code before giving your answer. &emsp;&emsp;&emsp;&emsp;"
   ]
  },
  {
   "cell_type": "markdown",
   "id": "03fc8d4d",
   "metadata": {},
   "source": [
    "## Question-1\n"
   ]
  },
  {
   "cell_type": "markdown",
   "id": "76fd49d8-076f-42d9-8f1e-cda90c6d676c",
   "metadata": {
    "tags": [
     "hide-output"
    ]
   },
   "source": [
    "```python\n",
    "for i in ['Utah', 'Texas', 'Florida']:\n",
    "  print(i[1])"
   ]
  },
  {
   "cell_type": "markdown",
   "id": "a643ec90-5f8d-455f-9a7b-a0ea71ea20e2",
   "metadata": {},
   "source": [
    "```{admonition} Solution\n",
    ":class: toggle\n",
    "t   \n",
    "e  \n",
    "l  \n",
    "```"
   ]
  },
  {
   "cell_type": "markdown",
   "id": "c1aef79d",
   "metadata": {},
   "source": [
    "## Question-2\n"
   ]
  },
  {
   "cell_type": "markdown",
   "id": "5c4d8499-a58d-41f7-a099-0a849dd472be",
   "metadata": {
    "tags": [
     "hide-output"
    ]
   },
   "source": [
    "```python\n",
    "for i in ['Mike', 'Jack', 'Liz', 'Ted', 'John', 'Ashley']:\n",
    "  print(f'Hello i')"
   ]
  },
  {
   "cell_type": "markdown",
   "id": "112fc265-2b6a-4ed5-93f2-446a91e3bee5",
   "metadata": {},
   "source": [
    "```{admonition} Solution\n",
    ":class: toggle\n",
    "Hello i  \n",
    "Hello i  \n",
    "Hello i  \n",
    "Hello i  \n",
    "Hello i  \n",
    "Hello i  \n",
    "\n",
    "```"
   ]
  },
  {
   "cell_type": "markdown",
   "id": "d0e75b17",
   "metadata": {},
   "source": [
    "## Question-3\n"
   ]
  },
  {
   "cell_type": "markdown",
   "id": "60f604fc-aa4d-4917-b76f-d4cf74285106",
   "metadata": {
    "tags": [
     "hide-output"
    ]
   },
   "source": [
    "```python\n",
    "for i in ['Mike', 'Jack', 'Liz', 'Ted', 'John', 'Ashley']:\n",
    "  print(f'Hello {i}')"
   ]
  },
  {
   "cell_type": "markdown",
   "id": "ac90830b-c494-47ee-a400-a2035138a296",
   "metadata": {},
   "source": [
    "```{admonition} Solution\n",
    ":class: toggle\n",
    "Hello Mike  \n",
    "Hello Jack  \n",
    "Hello Liz  \n",
    "Hello Ted  \n",
    "Hello John  \n",
    "Hello Ashley  \n",
    "\n",
    "```"
   ]
  },
  {
   "cell_type": "markdown",
   "id": "1bc72fed",
   "metadata": {},
   "source": [
    "## Question-4\n"
   ]
  },
  {
   "cell_type": "markdown",
   "id": "1e31b854-4cb6-4526-acab-ab5d2866fae1",
   "metadata": {
    "tags": [
     "hide-output"
    ]
   },
   "source": [
    "```python\n",
    "for i in ['Mike', 'Jack', 'Liz', 'Ted', 'John', 'Ashley', 'Bob']:\n",
    "  if i[1] == 'o':\n",
    "    print(i)"
   ]
  },
  {
   "cell_type": "markdown",
   "id": "396c09bd-9f36-4178-acfb-c3e31da07328",
   "metadata": {},
   "source": [
    "```{admonition} Solution\n",
    ":class: toggle\n",
    "John  \n",
    "Bob\n",
    "\n",
    "```"
   ]
  },
  {
   "cell_type": "markdown",
   "id": "f69a9cd1-3b07-4d29-af2e-e6b2fc5a32d1",
   "metadata": {},
   "source": [
    "## Question-5\n"
   ]
  },
  {
   "cell_type": "markdown",
   "id": "6b3b4dd3-789f-4d03-b974-3d1c83c0c60f",
   "metadata": {
    "tags": [
     "hide-output"
    ]
   },
   "source": [
    "```python\n",
    "for i in ['Mike', 'Jack', 'Liz', 'Ted', 'John', 'Ashley', 'Bob', ['A', 'B']]:\n",
    "  if len(i)<4:\n",
    "    print(i)"
   ]
  },
  {
   "cell_type": "markdown",
   "id": "a3c50dbd-ba3d-48b2-bca5-ce7c228f1eec",
   "metadata": {},
   "source": [
    "```{admonition} Solution\n",
    ":class: toggle\n",
    "Liz  \n",
    "Ted  \n",
    "Bob  \n",
    "['A', 'B']  \n",
    "\n",
    "```"
   ]
  },
  {
   "cell_type": "markdown",
   "id": "cace03a5-f754-4ada-b999-54235cc7ffd0",
   "metadata": {},
   "source": [
    "## Question-6\n"
   ]
  },
  {
   "cell_type": "markdown",
   "id": "f0a420b4-ef35-4e8c-8cce-f8d8c2be2e87",
   "metadata": {
    "tags": [
     "hide-output"
    ]
   },
   "source": [
    "```python\n",
    "for i in ['Mike', 'Jack', 'Liz']:\n",
    "  print(f'{i.lower()} ---- {i.upper()}')"
   ]
  },
  {
   "cell_type": "markdown",
   "id": "b23f8e10-4793-4893-b880-ce74387e392a",
   "metadata": {},
   "source": [
    "```{admonition} Solution\n",
    ":class: toggle\n",
    "mike ---- MIKE  \n",
    "jack ---- JACK  \n",
    "liz ---- LIZ   \n",
    "\n",
    "```"
   ]
  },
  {
   "cell_type": "markdown",
   "id": "a4704f5e-7da3-4151-8b92-00454e30ba3f",
   "metadata": {},
   "source": [
    "## Question-7\n"
   ]
  },
  {
   "cell_type": "markdown",
   "id": "0d875a93-5255-4eae-b25b-f8986db75600",
   "metadata": {
    "tags": [
     "hide-output"
    ]
   },
   "source": [
    "```python\n",
    "n = 0\n",
    "my_list = [3,1,6,-3,-5,7,8,9]\n",
    "for i in my_list:\n",
    "  if i >5:\n",
    "    n += i\n",
    "print(n)"
   ]
  },
  {
   "cell_type": "markdown",
   "id": "a4f08d23-0b8b-4a4e-a061-533f61a541bd",
   "metadata": {},
   "source": [
    "```{admonition} Solution\n",
    ":class: toggle\n",
    "30\n",
    "\n",
    "```"
   ]
  },
  {
   "cell_type": "markdown",
   "id": "682031c3-cfc4-48a9-9f8a-9f5bce5f8890",
   "metadata": {},
   "source": [
    "## Question-8\n"
   ]
  },
  {
   "cell_type": "markdown",
   "id": "d5717c42-859d-4cd8-9dd4-8bf3e544f5f3",
   "metadata": {
    "tags": [
     "hide-output"
    ]
   },
   "source": [
    "```python\n",
    "\n",
    "p = 1\n",
    "my_numbers = [2,-4,-3,5]\n",
    "for i in my_numbers:\n",
    "  if i <4:\n",
    "    p *= i\n",
    "print(p)"
   ]
  },
  {
   "cell_type": "markdown",
   "id": "2f0a9839-bd69-408b-8e50-c7c984448e9a",
   "metadata": {},
   "source": [
    "```{admonition} Solution\n",
    ":class: toggle\n",
    "24\n",
    "\n",
    "```"
   ]
  },
  {
   "cell_type": "markdown",
   "id": "08e1e1ce",
   "metadata": {},
   "source": [
    "## Question-9\n"
   ]
  },
  {
   "cell_type": "markdown",
   "id": "c6ef94a9-f83e-4667-9d2f-2f0d509965f0",
   "metadata": {
    "tags": [
     "hide-output"
    ]
   },
   "source": [
    "```python\n",
    "n = 0\n",
    "my_list = [3,1,6,-3,-5,7,8,9]\n",
    "for i in range(len(my_list)):\n",
    "  if i >5:\n",
    "    n += my_list[-i]\n",
    "print(n)"
   ]
  },
  {
   "cell_type": "markdown",
   "id": "3bc26b07-7c44-48cd-bce3-9f5729bd7446",
   "metadata": {},
   "source": [
    "```{admonition} Solution\n",
    ":class: toggle\n",
    "7\n",
    "\n",
    "```"
   ]
  },
  {
   "cell_type": "markdown",
   "id": "6c41682c",
   "metadata": {},
   "source": [
    "## Question-10\n"
   ]
  },
  {
   "cell_type": "markdown",
   "id": "e55d1f63-44af-448a-8933-c3fcca8bb9ec",
   "metadata": {
    "tags": [
     "hide-output"
    ]
   },
   "source": [
    "```python\n",
    "my_list = [1,2,3,4,5]\n",
    "for i in range(3):\n",
    "  my_list[i] = 10*i\n",
    "print(my_list)"
   ]
  },
  {
   "cell_type": "markdown",
   "id": "e30f3ac9-e1b6-4794-8adc-5934e09b495d",
   "metadata": {},
   "source": [
    "```{admonition} Solution\n",
    ":class: toggle\n",
    "[0, 10, 20, 4, 5]\n",
    "\n",
    "```"
   ]
  },
  {
   "cell_type": "markdown",
   "id": "68dab687",
   "metadata": {},
   "source": [
    "## Question-11\n"
   ]
  },
  {
   "cell_type": "markdown",
   "id": "33040b56-3db3-4d79-bbdf-6f34d1a47f46",
   "metadata": {
    "tags": [
     "hide-output"
    ]
   },
   "source": [
    "```python\n",
    "x = []\n",
    "while True:\n",
    "  x.append(2)\n",
    "  if len(x) == 4:\n",
    "    break\n",
    "print(x)"
   ]
  },
  {
   "cell_type": "markdown",
   "id": "fcfca9ff-27a7-4123-bc91-56780446410b",
   "metadata": {},
   "source": [
    "```{admonition} Solution\n",
    ":class: toggle\n",
    "[2, 2, 2, 2]\n",
    "\n",
    "```"
   ]
  },
  {
   "cell_type": "markdown",
   "id": "dfe80787-15c7-4303-ac1b-4f4bebba01d1",
   "metadata": {},
   "source": [
    "## Question-12"
   ]
  },
  {
   "cell_type": "markdown",
   "id": "28164722-09e1-4e70-97e8-acfe6f3ac181",
   "metadata": {
    "tags": [
     "hide-output"
    ]
   },
   "source": [
    "```python\n",
    "mylist = [['NY', 'CA', 'FL'], ('Amy', 'John', 'Ashley', 'Michael')]\n",
    "print(mylist[0][-2])\n",
    "print(mylist[1][1])\n",
    "print(mylist[1][:2])"
   ]
  },
  {
   "cell_type": "markdown",
   "id": "03ef5ad7-e443-4062-a815-ba8d4995eba7",
   "metadata": {},
   "source": [
    "```{admonition} Solution\n",
    ":class: toggle\n",
    "\n",
    "CA  \n",
    "John  \n",
    "('Amy', 'John')\n",
    "```"
   ]
  },
  {
   "cell_type": "code",
   "execution_count": null,
   "id": "92a9c164-5dc1-4773-844b-cf76e03c400d",
   "metadata": {},
   "outputs": [],
   "source": []
  }
 ],
 "metadata": {
  "celltoolbar": "Tags",
  "hide_input": false,
  "kernelspec": {
   "display_name": "Python 3 (ipykernel)",
   "language": "python",
   "name": "python3"
  },
  "language_info": {
   "codemirror_mode": {
    "name": "ipython",
    "version": 3
   },
   "file_extension": ".py",
   "mimetype": "text/x-python",
   "name": "python",
   "nbconvert_exporter": "python",
   "pygments_lexer": "ipython3",
   "version": "3.11.7"
  },
  "toc": {
   "base_numbering": 1,
   "nav_menu": {},
   "number_sections": true,
   "sideBar": true,
   "skip_h1_title": false,
   "title_cell": "Table of Contents",
   "title_sidebar": "Contents",
   "toc_cell": false,
   "toc_position": {},
   "toc_section_display": true,
   "toc_window_display": false
  }
 },
 "nbformat": 4,
 "nbformat_minor": 5
}
