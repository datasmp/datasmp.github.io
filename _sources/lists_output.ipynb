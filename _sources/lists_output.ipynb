{
 "cells": [
  {
   "cell_type": "markdown",
   "id": "13e18a7d",
   "metadata": {},
   "source": [
    "# Lists Output\n",
    "- Find the output of the following code. \n",
    "- Please don't run the code before giving your answer. &emsp;&emsp;&emsp;&emsp;"
   ]
  },
  {
   "cell_type": "markdown",
   "id": "03fc8d4d",
   "metadata": {},
   "source": [
    "## Question\n"
   ]
  },
  {
   "cell_type": "code",
   "execution_count": 1,
   "id": "676b8223",
   "metadata": {
    "tags": [
     "hide-output"
    ]
   },
   "outputs": [
    {
     "name": "stdout",
     "output_type": "stream",
     "text": [
      "t\n",
      "e\n",
      "l\n"
     ]
    }
   ],
   "source": [
    "for i in ['Utah', 'Texas', 'Florida']:\n",
    "  print(i[1])"
   ]
  },
  {
   "cell_type": "markdown",
   "id": "c1aef79d",
   "metadata": {},
   "source": [
    "## Question\n"
   ]
  },
  {
   "cell_type": "code",
   "execution_count": 2,
   "id": "166f0c20",
   "metadata": {
    "tags": [
     "hide-output"
    ]
   },
   "outputs": [
    {
     "name": "stdout",
     "output_type": "stream",
     "text": [
      "Hello i\n",
      "Hello i\n",
      "Hello i\n",
      "Hello i\n",
      "Hello i\n",
      "Hello i\n"
     ]
    }
   ],
   "source": [
    "for i in ['Mike', 'Jack', 'Liz', 'Ted', 'John', 'Ashley']:\n",
    "  print(f'Hello i')"
   ]
  },
  {
   "cell_type": "markdown",
   "id": "d0e75b17",
   "metadata": {},
   "source": [
    "## Question\n"
   ]
  },
  {
   "cell_type": "code",
   "execution_count": 3,
   "id": "5ecaf019",
   "metadata": {
    "tags": [
     "hide-output"
    ]
   },
   "outputs": [
    {
     "name": "stdout",
     "output_type": "stream",
     "text": [
      "Hello Mike\n",
      "Hello Jack\n",
      "Hello Liz\n",
      "Hello Ted\n",
      "Hello John\n",
      "Hello Ashley\n"
     ]
    }
   ],
   "source": [
    "for i in ['Mike', 'Jack', 'Liz', 'Ted', 'John', 'Ashley']:\n",
    "  print(f'Hello {i}')"
   ]
  },
  {
   "cell_type": "markdown",
   "id": "1bc72fed",
   "metadata": {},
   "source": [
    "## Question\n"
   ]
  },
  {
   "cell_type": "code",
   "execution_count": 4,
   "id": "21b9956f",
   "metadata": {
    "tags": [
     "hide-output"
    ]
   },
   "outputs": [
    {
     "name": "stdout",
     "output_type": "stream",
     "text": [
      "John\n",
      "Bob\n"
     ]
    }
   ],
   "source": [
    "for i in ['Mike', 'Jack', 'Liz', 'Ted', 'John', 'Ashley', 'Bob']:\n",
    "  if i[1] == 'o':\n",
    "    print(i)"
   ]
  },
  {
   "cell_type": "markdown",
   "id": "f69a9cd1-3b07-4d29-af2e-e6b2fc5a32d1",
   "metadata": {},
   "source": [
    "## Question\n"
   ]
  },
  {
   "cell_type": "code",
   "execution_count": 5,
   "id": "8893982b-1a33-4946-b811-f2807e754b13",
   "metadata": {
    "tags": [
     "hide-output"
    ]
   },
   "outputs": [
    {
     "name": "stdout",
     "output_type": "stream",
     "text": [
      "Liz\n",
      "Ted\n",
      "Bob\n",
      "['A', 'B']\n"
     ]
    }
   ],
   "source": [
    "for i in ['Mike', 'Jack', 'Liz', 'Ted', 'John', 'Ashley', 'Bob', ['A', 'B']]:\n",
    "  if len(i)<4:\n",
    "    print(i)"
   ]
  },
  {
   "cell_type": "markdown",
   "id": "cace03a5-f754-4ada-b999-54235cc7ffd0",
   "metadata": {},
   "source": [
    "## Question\n"
   ]
  },
  {
   "cell_type": "code",
   "execution_count": 6,
   "id": "75c23741-8b41-4c9a-a257-50f45c5e2c4d",
   "metadata": {
    "tags": [
     "hide-output"
    ]
   },
   "outputs": [
    {
     "name": "stdout",
     "output_type": "stream",
     "text": [
      "mike ---- MIKE\n",
      "jack ---- JACK\n",
      "liz ---- LIZ\n"
     ]
    }
   ],
   "source": [
    "for i in ['Mike', 'Jack', 'Liz']:\n",
    "  print(f'{i.lower()} ---- {i.upper()}')"
   ]
  },
  {
   "cell_type": "markdown",
   "id": "a4704f5e-7da3-4151-8b92-00454e30ba3f",
   "metadata": {},
   "source": [
    "## Question\n"
   ]
  },
  {
   "cell_type": "code",
   "execution_count": 7,
   "id": "50893197-82b1-49bd-be35-6caa738bd16d",
   "metadata": {
    "tags": [
     "hide-output"
    ]
   },
   "outputs": [
    {
     "name": "stdout",
     "output_type": "stream",
     "text": [
      "30\n"
     ]
    }
   ],
   "source": [
    "n = 0\n",
    "my_list = [3,1,6,-3,-5,7,8,9]\n",
    "for i in my_list:\n",
    "  if i >5:\n",
    "    n += i\n",
    "print(n)"
   ]
  },
  {
   "cell_type": "markdown",
   "id": "682031c3-cfc4-48a9-9f8a-9f5bce5f8890",
   "metadata": {},
   "source": [
    "## Question\n"
   ]
  },
  {
   "cell_type": "code",
   "execution_count": 8,
   "id": "cdcb44e3-214c-44c4-9c9e-970a60f8a65d",
   "metadata": {
    "tags": [
     "hide-output"
    ]
   },
   "outputs": [
    {
     "name": "stdout",
     "output_type": "stream",
     "text": [
      "24\n"
     ]
    }
   ],
   "source": [
    "p = 1\n",
    "my_numbers = [2,-4,-3,5]\n",
    "for i in my_numbers:\n",
    "  if i <4:\n",
    "    p *= i\n",
    "print(p)"
   ]
  },
  {
   "cell_type": "markdown",
   "id": "08e1e1ce",
   "metadata": {},
   "source": [
    "## Question\n"
   ]
  },
  {
   "cell_type": "code",
   "execution_count": 9,
   "id": "5f53bfff",
   "metadata": {
    "tags": [
     "hide-output"
    ]
   },
   "outputs": [
    {
     "name": "stdout",
     "output_type": "stream",
     "text": [
      "7\n"
     ]
    }
   ],
   "source": [
    "n = 0\n",
    "my_list = [3,1,6,-3,-5,7,8,9]\n",
    "for i in range(len(my_list)):\n",
    "  if i >5:\n",
    "    n += my_list[-i]\n",
    "print(n)"
   ]
  },
  {
   "cell_type": "markdown",
   "id": "6c41682c",
   "metadata": {},
   "source": [
    "## Question\n"
   ]
  },
  {
   "cell_type": "code",
   "execution_count": 10,
   "id": "f2df1610",
   "metadata": {
    "tags": [
     "hide-output"
    ]
   },
   "outputs": [
    {
     "name": "stdout",
     "output_type": "stream",
     "text": [
      "[0, 10, 20, 4, 5]\n"
     ]
    }
   ],
   "source": [
    "my_list = [1,2,3,4,5]\n",
    "for i in range(3):\n",
    "  my_list[i] = 10*i\n",
    "print(my_list)"
   ]
  },
  {
   "cell_type": "markdown",
   "id": "68dab687",
   "metadata": {},
   "source": [
    "## Question\n"
   ]
  },
  {
   "cell_type": "code",
   "execution_count": 11,
   "id": "ccb951b3",
   "metadata": {
    "tags": [
     "hide-output"
    ]
   },
   "outputs": [
    {
     "name": "stdout",
     "output_type": "stream",
     "text": [
      "[2, 2, 2, 2]\n"
     ]
    }
   ],
   "source": [
    "x = []\n",
    "while True:\n",
    "  x.append(2)\n",
    "  if len(x) == 4:\n",
    "    break\n",
    "print(x)"
   ]
  },
  {
   "cell_type": "markdown",
   "id": "dfe80787-15c7-4303-ac1b-4f4bebba01d1",
   "metadata": {},
   "source": [
    "## Question\n"
   ]
  },
  {
   "cell_type": "code",
   "execution_count": 12,
   "id": "62c362b3-c364-4e62-b7c0-8290fddd76ad",
   "metadata": {
    "tags": [
     "hide-output"
    ]
   },
   "outputs": [
    {
     "name": "stdout",
     "output_type": "stream",
     "text": [
      "CA\n",
      "John\n",
      "('Amy', 'John')\n"
     ]
    }
   ],
   "source": [
    "mylist = [['NY', 'CA', 'FL'], ('Amy', 'John', 'Ashley', 'Michael')]\n",
    "print(mylist[0][-2])\n",
    "print(mylist[1][1])\n",
    "print(mylist[1][:2])"
   ]
  }
 ],
 "metadata": {
  "celltoolbar": "Tags",
  "hide_input": false,
  "kernelspec": {
   "display_name": "Python 3 (ipykernel)",
   "language": "python",
   "name": "python3"
  },
  "language_info": {
   "codemirror_mode": {
    "name": "ipython",
    "version": 3
   },
   "file_extension": ".py",
   "mimetype": "text/x-python",
   "name": "python",
   "nbconvert_exporter": "python",
   "pygments_lexer": "ipython3",
   "version": "3.11.7"
  },
  "toc": {
   "base_numbering": 1,
   "nav_menu": {},
   "number_sections": true,
   "sideBar": true,
   "skip_h1_title": false,
   "title_cell": "Table of Contents",
   "title_sidebar": "Contents",
   "toc_cell": false,
   "toc_position": {},
   "toc_section_display": true,
   "toc_window_display": false
  }
 },
 "nbformat": 4,
 "nbformat_minor": 5
}
