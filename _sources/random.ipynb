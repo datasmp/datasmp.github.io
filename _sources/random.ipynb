{
 "cells": [
  {
   "cell_type": "markdown",
   "id": "26e89107-f695-4714-a3f8-09abf0ac9af4",
   "metadata": {},
   "source": [
    "# Chp-14: Random Module"
   ]
  },
  {
   "cell_type": "code",
   "execution_count": 9,
   "id": "88d852da-48f0-4acc-a8b0-faec0446ec9c",
   "metadata": {},
   "outputs": [],
   "source": [
    "import random"
   ]
  },
  {
   "cell_type": "markdown",
   "id": "77368e38-f089-4b3b-a446-1a099dbf1433",
   "metadata": {},
   "source": [
    "## choice()\n",
    "It returns a randomly chosen element from a non-empty sequence. If the sequence is  empty, it raises an error."
   ]
  },
  {
   "cell_type": "code",
   "execution_count": 10,
   "id": "6110d26b-47b3-4fa3-87ff-036845c4af2e",
   "metadata": {},
   "outputs": [
    {
     "name": "stdout",
     "output_type": "stream",
     "text": [
      "b\n"
     ]
    }
   ],
   "source": [
    "rand_element = random.choice(['a', 'b', 'c', 'd'])\n",
    "print(rand_element)"
   ]
  },
  {
   "cell_type": "markdown",
   "id": "33f55322-d31e-476b-884c-a35000a43ddc",
   "metadata": {},
   "source": [
    "## choices()\n",
    "It returna a list of randomly chosen *k* elements chosen from a sequence with replacement. If the sequence is  empty, it raises an error."
   ]
  },
  {
   "cell_type": "code",
   "execution_count": 11,
   "id": "0c7825ac-2db6-4516-86cc-43b2ff4fda13",
   "metadata": {},
   "outputs": [
    {
     "name": "stdout",
     "output_type": "stream",
     "text": [
      "['a', 'b', 'c']\n"
     ]
    }
   ],
   "source": [
    "rand_list = random.choices(['a', 'b', 'c', 'd'], k=3)\n",
    "print(rand_list)"
   ]
  },
  {
   "cell_type": "code",
   "execution_count": null,
   "id": "9d1145bd-8584-48c2-ad8f-99b998824dc1",
   "metadata": {},
   "outputs": [],
   "source": []
  }
 ],
 "metadata": {
  "kernelspec": {
   "display_name": "Python 3 (ipykernel)",
   "language": "python",
   "name": "python3"
  },
  "language_info": {
   "codemirror_mode": {
    "name": "ipython",
    "version": 3
   },
   "file_extension": ".py",
   "mimetype": "text/x-python",
   "name": "python",
   "nbconvert_exporter": "python",
   "pygments_lexer": "ipython3",
   "version": "3.11.7"
  }
 },
 "nbformat": 4,
 "nbformat_minor": 5
}
