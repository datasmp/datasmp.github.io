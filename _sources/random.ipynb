{
 "cells": [
  {
   "cell_type": "markdown",
   "id": "26e89107-f695-4714-a3f8-09abf0ac9af4",
   "metadata": {},
   "source": [
    "# App-C: Random Module\n",
    "\n",
    "The [random module](https://docs.python.org/3/library/random.html)  allows for the selection of random numbers or elements from a distribution or sequence.\n",
    "- First, you need to import the random module."
   ]
  },
  {
   "cell_type": "code",
   "execution_count": 12,
   "id": "88d852da-48f0-4acc-a8b0-faec0446ec9c",
   "metadata": {},
   "outputs": [],
   "source": [
    "import random"
   ]
  },
  {
   "cell_type": "markdown",
   "id": "b242366f-c69e-4dc3-954b-09a0bca3ea74",
   "metadata": {},
   "source": [
    "## Methods"
   ]
  },
  {
   "cell_type": "markdown",
   "id": "9cb2fece-c157-4a36-be16-ee5df1f88666",
   "metadata": {},
   "source": [
    "You can access the list of methods in the random module by using the *dir(random)* function.\n",
    "- You can execute help(random) for more details."
   ]
  },
  {
   "cell_type": "code",
   "execution_count": 47,
   "id": "579ade05-f6a0-4eef-b7f8-94ced44b48ed",
   "metadata": {},
   "outputs": [
    {
     "name": "stdout",
     "output_type": "stream",
     "text": [
      "['BPF', 'LOG4', 'NV_MAGICCONST', 'RECIP_BPF', 'Random', 'SG_MAGICCONST', 'SystemRandom', 'TWOPI', '_ONE', '_Sequence', '_Set', '__all__', '__builtins__', '__cached__', '__doc__', '__file__', '__loader__', '__name__', '__package__', '__spec__', '_accumulate', '_acos', '_bisect', '_ceil', '_cos', '_e', '_exp', '_floor', '_index', '_inst', '_isfinite', '_log', '_os', '_pi', '_random', '_repeat', '_sha512', '_sin', '_sqrt', '_test', '_test_generator', '_urandom', '_warn', 'betavariate', 'choice', 'choices', 'expovariate', 'gammavariate', 'gauss', 'getrandbits', 'getstate', 'lognormvariate', 'normalvariate', 'paretovariate', 'randbytes', 'randint', 'random', 'randrange', 'sample', 'seed', 'setstate', 'shuffle', 'triangular', 'uniform', 'vonmisesvariate', 'weibullvariate']\n"
     ]
    }
   ],
   "source": [
    "print(dir(random))"
   ]
  },
  {
   "cell_type": "markdown",
   "id": "77368e38-f089-4b3b-a446-1a099dbf1433",
   "metadata": {},
   "source": [
    "### choice()\n",
    "It returns a randomly chosen element from a non-empty sequence.  The syntax is *random.choice(sequence)*.\n",
    "- If the sequence is  empty, it raises an error."
   ]
  },
  {
   "cell_type": "code",
   "execution_count": 10,
   "id": "6110d26b-47b3-4fa3-87ff-036845c4af2e",
   "metadata": {},
   "outputs": [
    {
     "name": "stdout",
     "output_type": "stream",
     "text": [
      "b\n"
     ]
    }
   ],
   "source": [
    "rand_element = random.choice(['a', 'b', 'c', 'd'])\n",
    "print(rand_element)"
   ]
  },
  {
   "cell_type": "markdown",
   "id": "33f55322-d31e-476b-884c-a35000a43ddc",
   "metadata": {},
   "source": [
    "### choices()\n",
    "It returna a list of randomly chosen *k* elements chosen from a sequence with replacement. The syntax is *random.choice(sequence)*.\n",
    "- If the sequence is  empty, it raises an error."
   ]
  },
  {
   "cell_type": "code",
   "execution_count": 11,
   "id": "0c7825ac-2db6-4516-86cc-43b2ff4fda13",
   "metadata": {},
   "outputs": [
    {
     "name": "stdout",
     "output_type": "stream",
     "text": [
      "['a', 'b', 'c']\n"
     ]
    }
   ],
   "source": [
    "rand_list = random.choices(['a', 'b', 'c', 'd'], k=3)\n",
    "print(rand_list)"
   ]
  },
  {
   "cell_type": "markdown",
   "id": "6cf5771d-da9b-42be-8f5e-ec4e701f70ab",
   "metadata": {},
   "source": [
    "### randint()\n",
    "It returns an integer in a given range. The syntax is *random.randint(a, b)*.\n",
    "- The number is chosen between a and b."
   ]
  },
  {
   "cell_type": "code",
   "execution_count": 37,
   "id": "310f752c-003e-4035-88a9-40e3ec0c9d49",
   "metadata": {},
   "outputs": [
    {
     "name": "stdout",
     "output_type": "stream",
     "text": [
      "6\n"
     ]
    }
   ],
   "source": [
    "rand_int = random.randint(3,8)\n",
    "print(rand_int)"
   ]
  },
  {
   "cell_type": "markdown",
   "id": "7aeed174-9124-4aa9-b97c-2e0fd8ddd9c2",
   "metadata": {},
   "source": [
    "### random()\n",
    "It returns a float (decimal) number between 0 and 1. The syntax is *random.random()*"
   ]
  },
  {
   "cell_type": "code",
   "execution_count": 38,
   "id": "b09dde65-6679-4dcb-8bc5-e138d95ced2c",
   "metadata": {},
   "outputs": [
    {
     "name": "stdout",
     "output_type": "stream",
     "text": [
      "0.5598136790149003\n"
     ]
    }
   ],
   "source": [
    "rand_float = random.random()\n",
    "print(rand_float)"
   ]
  },
  {
   "cell_type": "markdown",
   "id": "dac03dbf-5a37-40ef-9117-1c6ceba7d706",
   "metadata": {},
   "source": [
    "### randrange()\n",
    "It returns a random integer within the specified range. The syntax is:\n",
    "\n",
    "- *random.randrange(stop)*: Produces a random integer between 0 and stop-1.\n",
    "- *random.randrange(start, stop[, step])*: Generates a random integer between start and stop-1 with the specified step size.\n",
    "\n",
    "It is equivalent to *random.choice(range(start, stop, step))*."
   ]
  },
  {
   "cell_type": "markdown",
   "id": "088e2670-a960-4860-80df-233105e8a940",
   "metadata": {},
   "source": [
    "- The following code returns an integer between 0 and 19."
   ]
  },
  {
   "cell_type": "code",
   "execution_count": 45,
   "id": "2b75ef23-8383-45aa-8e35-023a71443481",
   "metadata": {},
   "outputs": [
    {
     "name": "stdout",
     "output_type": "stream",
     "text": [
      "6\n"
     ]
    }
   ],
   "source": [
    "rand_int = random.randrange(20)\n",
    "print(rand_int)"
   ]
  },
  {
   "cell_type": "markdown",
   "id": "d062e15e-8ce9-49f6-b56f-216ce283282e",
   "metadata": {},
   "source": [
    "- The following code returns an integer from the set: 1, 4, 7, 10, 13, 16, 19."
   ]
  },
  {
   "cell_type": "code",
   "execution_count": 44,
   "id": "52c8d465-5691-4049-867a-020bba8f573a",
   "metadata": {},
   "outputs": [
    {
     "name": "stdout",
     "output_type": "stream",
     "text": [
      "16\n"
     ]
    }
   ],
   "source": [
    "rand_int = random.randrange(1,20,3)\n",
    "print(rand_int)"
   ]
  },
  {
   "cell_type": "markdown",
   "id": "d0e09302-b746-493a-8a35-805b7ab4cc38",
   "metadata": {},
   "source": [
    "### uniform()\n",
    "It returns a float (decimal) number in a given range. The syntax is *random.uniform(a, b)*.\n",
    "- The number is chosen between a and b."
   ]
  },
  {
   "cell_type": "markdown",
   "id": "7a618d48-883d-41fa-a631-1014a541cc60",
   "metadata": {},
   "source": [
    "- The following code returns a float number between 5 and 8."
   ]
  },
  {
   "cell_type": "code",
   "execution_count": 39,
   "id": "33818f4a-3252-4704-b849-938576e1c71f",
   "metadata": {},
   "outputs": [
    {
     "name": "stdout",
     "output_type": "stream",
     "text": [
      "6.0613739885577225\n"
     ]
    }
   ],
   "source": [
    "rand_float = random.uniform(5,8)\n",
    "print(rand_float)"
   ]
  },
  {
   "cell_type": "markdown",
   "id": "514fda72-2b7c-4a12-9a0d-f56b20199451",
   "metadata": {},
   "source": [
    "### seed()\n",
    "It fixes the random number generator. The syntax is *random.seed(integer)*.\n",
    "- Fixing the seed ensures that the same random numbers or elements are chosen whenever the code is executed.\n",
    "- It takes an integer as its parameter.\n",
    "- The value 42 is often chosen for this purpose.\n",
    "- 42 is chosen because it is the answer to the Ultimate Question of Life, the Universe, and Everything in Douglas Adams' book \"The Hitchhiker's Guide to the Galaxy\"."
   ]
  },
  {
   "cell_type": "markdown",
   "id": "7ca1524e-b1c1-42e9-8465-675af8b3ea51",
   "metadata": {},
   "source": [
    "- When the code below is run, the output may vary each time it's executed."
   ]
  },
  {
   "cell_type": "code",
   "execution_count": 22,
   "id": "1ef857e3-4481-454d-8aec-cf41b8168e94",
   "metadata": {},
   "outputs": [
    {
     "name": "stdout",
     "output_type": "stream",
     "text": [
      "b\n"
     ]
    }
   ],
   "source": [
    "rand_element = random.choice(['a', 'b', 'c', 'd'])\n",
    "print(rand_element)"
   ]
  },
  {
   "cell_type": "markdown",
   "id": "0b313046-0143-4131-87b6-8d25ee6f5293",
   "metadata": {},
   "source": [
    "- When the code below is executed, the output will be same each time it's executed."
   ]
  },
  {
   "cell_type": "code",
   "execution_count": 23,
   "id": "29d63602-40cd-4e2e-a28d-75b19b08eb3d",
   "metadata": {},
   "outputs": [
    {
     "name": "stdout",
     "output_type": "stream",
     "text": [
      "d\n"
     ]
    }
   ],
   "source": [
    "random.seed(0)\n",
    "rand_element = random.choice(['a', 'b', 'c', 'd'])\n",
    "print(rand_element)"
   ]
  },
  {
   "cell_type": "markdown",
   "id": "5d61f0ca-7784-4b69-afee-6caa0c841c17",
   "metadata": {},
   "source": [
    "### sample()\n",
    "- It returns a sample from a given population.\n",
    "- The syntax is *random.sample(population, k)* where:\n",
    "    - *population* represents the entire set from which the sample is to be drawn.\n",
    "    - *k* denotes the size of the sample to return.\n",
    "- The function returns a new list containing elements randomly picked from the population.\n",
    "- The sample elements are selected without replacement, meaning each element can only be chosen once, ensuring all elements in the sample are unique."
   ]
  },
  {
   "cell_type": "code",
   "execution_count": 32,
   "id": "ec435d4f-2d0d-433f-bf43-ab9f3833d469",
   "metadata": {},
   "outputs": [
    {
     "name": "stdout",
     "output_type": "stream",
     "text": [
      "['b', 'd', 'a']\n"
     ]
    }
   ],
   "source": [
    "sample = random.sample(['a', 'b', 'c', 'd'], k=3)\n",
    "print(sample)"
   ]
  },
  {
   "cell_type": "markdown",
   "id": "3e130d08-5a21-4e8d-a5c8-77c4e493d1cb",
   "metadata": {},
   "source": [
    "### shuffle()\n",
    "It shuffles a mutable sequence. The syntax is *random.shuffle(sequence)*.\n",
    "- sequence is modified."
   ]
  },
  {
   "cell_type": "code",
   "execution_count": 26,
   "id": "53701a28-0bbe-4e65-9515-765b26a7db6c",
   "metadata": {},
   "outputs": [
    {
     "name": "stdout",
     "output_type": "stream",
     "text": [
      "['a', 'b', 'd', 'c']\n"
     ]
    }
   ],
   "source": [
    "letters = ['a', 'b', 'c', 'd']\n",
    "random.shuffle(letters)\n",
    "print(letters)"
   ]
  },
  {
   "cell_type": "code",
   "execution_count": null,
   "id": "c2067d58-5d67-42b8-b19c-d94cc245e05d",
   "metadata": {},
   "outputs": [],
   "source": []
  }
 ],
 "metadata": {
  "kernelspec": {
   "display_name": "Python 3 (ipykernel)",
   "language": "python",
   "name": "python3"
  },
  "language_info": {
   "codemirror_mode": {
    "name": "ipython",
    "version": 3
   },
   "file_extension": ".py",
   "mimetype": "text/x-python",
   "name": "python",
   "nbconvert_exporter": "python",
   "pygments_lexer": "ipython3",
   "version": "3.11.7"
  }
 },
 "nbformat": 4,
 "nbformat_minor": 5
}
