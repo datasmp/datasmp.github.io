{
 "cells": [
  {
   "cell_type": "markdown",
   "id": "13e18a7d",
   "metadata": {},
   "source": [
    "# Tuples Output\n",
    "![](title_pict/tuples_output2.png)\n",
    "\n",
    "- Find the output of the following code. \n",
    "- Please don't run the code before giving your answer. &emsp;&emsp;&emsp;&emsp;"
   ]
  },
  {
   "cell_type": "markdown",
   "id": "03fc8d4d",
   "metadata": {},
   "source": [
    "## Question-1\n"
   ]
  },
  {
   "cell_type": "markdown",
   "id": "96bc90aa-d8f5-43f5-a47d-160ce460c46d",
   "metadata": {
    "tags": [
     "hide-output"
    ]
   },
   "source": [
    "``` python\n",
    "x = ('a', 'b','c',1,2,3,'a')\n",
    "\n",
    "print(x.count('a'))\n",
    "print(x.count('c'))\n",
    "print(x.count('B'))\n",
    "```"
   ]
  },
  {
   "cell_type": "markdown",
   "id": "a405ad77-cc17-4ef5-9522-a4cb63660585",
   "metadata": {},
   "source": [
    "```{admonition} Solution\n",
    ":class: toggle\n",
    "2  \n",
    "1  \n",
    "0    \n",
    "```"
   ]
  },
  {
   "cell_type": "markdown",
   "id": "654a6239-eb3d-40b2-b1b2-480579b9c8e7",
   "metadata": {},
   "source": [
    "## Question-2\n"
   ]
  },
  {
   "cell_type": "markdown",
   "id": "1b02b691-a8b7-47e0-ab54-920d77996166",
   "metadata": {
    "tags": [
     "hide-output"
    ]
   },
   "source": [
    "``` python\n",
    "\n",
    "x = ('a', 'b','c',1,2,3,'a')\n",
    "\n",
    "print(x.index('a'))\n",
    "print(x.index('c'))"
   ]
  },
  {
   "cell_type": "markdown",
   "id": "cb3928c5-9a22-4242-a655-a0181dc9e417",
   "metadata": {},
   "source": [
    "```{admonition} Solution\n",
    ":class: toggle\n",
    "0  \n",
    "2\n",
    "```"
   ]
  },
  {
   "cell_type": "markdown",
   "id": "a08b9e72-9a6e-4d75-99b0-7e88a16ea45b",
   "metadata": {},
   "source": [
    "## Question-3\n"
   ]
  },
  {
   "cell_type": "markdown",
   "id": "f622af19-5815-4ab5-a678-ca72f7855d29",
   "metadata": {
    "tags": [
     "hide-output"
    ]
   },
   "source": [
    "``` python\n",
    "\n",
    "x = ('table', 'chair', 'desk','bookcase')\n",
    "\n",
    "for i in x:\n",
    "  print(x[-2])"
   ]
  },
  {
   "cell_type": "markdown",
   "id": "828dbc06-f843-4aac-91b2-1bdc0069e3ea",
   "metadata": {},
   "source": [
    "```{admonition} Solution\n",
    ":class: toggle\n",
    "desk  \n",
    "desk  \n",
    "desk  \n",
    "desk      \n",
    "```"
   ]
  },
  {
   "cell_type": "markdown",
   "id": "1abdd1a0-0f35-4820-94a1-25cec65616fc",
   "metadata": {},
   "source": [
    "## Question-4\n"
   ]
  },
  {
   "cell_type": "markdown",
   "id": "10f45b75-707e-4f1f-8c71-5ce12a326999",
   "metadata": {
    "tags": [
     "hide-output"
    ]
   },
   "source": [
    "``` python\n",
    "\n",
    "x = ('table', 'chair', 'desk','bookcase')\n",
    "\n",
    "for i in x:\n",
    "  print(i[-2])"
   ]
  },
  {
   "cell_type": "markdown",
   "id": "323d3d12-1126-4b48-b83b-8e88298cefaa",
   "metadata": {},
   "source": [
    "```{admonition} Solution\n",
    ":class: toggle\n",
    "l  \n",
    "i  \n",
    "s  \n",
    "s     \n",
    "```"
   ]
  },
  {
   "cell_type": "markdown",
   "id": "c1aef79d",
   "metadata": {},
   "source": [
    "## Question-5\n"
   ]
  },
  {
   "cell_type": "markdown",
   "id": "634ebd91-21e6-4051-a1e5-34f6d27dc20e",
   "metadata": {
    "tags": [
     "hide-output"
    ]
   },
   "source": [
    "``` python\n",
    "x = ('A', 'B', 'C')\n",
    "\n",
    "for i in range(len(x)):\n",
    "  print(i)"
   ]
  },
  {
   "cell_type": "markdown",
   "id": "b109c23b-e569-4ba8-a5e4-1fd290d55ab4",
   "metadata": {},
   "source": [
    "```{admonition} Solution\n",
    ":class: toggle\n",
    "0  \n",
    "1  \n",
    "2      \n",
    "```"
   ]
  },
  {
   "cell_type": "markdown",
   "id": "d0e75b17",
   "metadata": {},
   "source": [
    "## Question-6\n"
   ]
  },
  {
   "cell_type": "markdown",
   "id": "71907e7c-1613-4ca3-819b-59687f5792bc",
   "metadata": {
    "tags": [
     "hide-output"
    ]
   },
   "source": [
    "``` python\n",
    "x = ('A', 'B', 'C')\n",
    "\n",
    "for i in range(len(x)):\n",
    "  print(x[i])"
   ]
  },
  {
   "cell_type": "markdown",
   "id": "9d570d33-1a25-4ba7-9461-abcba65aa3a7",
   "metadata": {},
   "source": [
    "```{admonition} Solution\n",
    ":class: toggle\n",
    "A    \n",
    "B    \n",
    "C       \n",
    "```"
   ]
  },
  {
   "cell_type": "markdown",
   "id": "1bc72fed",
   "metadata": {},
   "source": [
    "## Question-7\n"
   ]
  },
  {
   "cell_type": "markdown",
   "id": "969a6100-8902-4633-bd7c-629781ddea22",
   "metadata": {
    "tags": [
     "hide-output"
    ]
   },
   "source": [
    "``` python\n",
    "\n",
    "x = (12,5,3,99,123,10)\n",
    "\n",
    "for i in x:\n",
    "    if i>20:\n",
    "        print(i)"
   ]
  },
  {
   "cell_type": "markdown",
   "id": "26cd7b87-4495-47cd-bc1a-bc57614cb1af",
   "metadata": {},
   "source": [
    "```{admonition} Solution\n",
    ":class: toggle\n",
    "99     \n",
    "123    \n",
    "```"
   ]
  },
  {
   "cell_type": "markdown",
   "id": "84c5d3da-9384-4ca5-93d8-80730c4e352f",
   "metadata": {},
   "source": [
    "## Question-8\n"
   ]
  },
  {
   "cell_type": "markdown",
   "id": "91fc6f48-7927-421d-97c1-0b3d97882621",
   "metadata": {
    "tags": [
     "hide-output"
    ]
   },
   "source": [
    "``` python\n",
    "x = (12,5,3,99,123,10)\n",
    "\n",
    "for i in x:\n",
    "    if i>20:\n",
    "        if i<100:\n",
    "            print(i)"
   ]
  },
  {
   "cell_type": "markdown",
   "id": "3492b641-9020-4c5a-8404-c558a4e140f0",
   "metadata": {},
   "source": [
    "```{admonition} Solution\n",
    ":class: toggle\n",
    "99   \n",
    "```"
   ]
  },
  {
   "cell_type": "markdown",
   "id": "f69a9cd1-3b07-4d29-af2e-e6b2fc5a32d1",
   "metadata": {},
   "source": [
    "## Question-9\n"
   ]
  },
  {
   "cell_type": "markdown",
   "id": "95e48d10-6c93-4fe0-b20d-5955896dcda6",
   "metadata": {
    "tags": [
     "hide-output"
    ]
   },
   "source": [
    "``` python\n",
    "n = 0\n",
    "my_tuple = ('A', 'B', 'C', 'D', 'E', 'F')\n",
    "\n",
    "for i in my_tuple:\n",
    "    n += 1\n",
    "\n",
    "print(n)"
   ]
  },
  {
   "cell_type": "markdown",
   "id": "970ba504-d7b8-4a40-aba2-114edd0bcf93",
   "metadata": {},
   "source": [
    "```{admonition} Solution\n",
    ":class: toggle\n",
    "6   \n",
    "```"
   ]
  },
  {
   "cell_type": "markdown",
   "id": "fe986450-a03b-4be3-bee6-b4a99bd107d9",
   "metadata": {},
   "source": [
    "## Question-10"
   ]
  },
  {
   "cell_type": "markdown",
   "id": "f4302e3c-148d-447f-8eec-9609c8cb21f2",
   "metadata": {
    "tags": [
     "hide-output"
    ]
   },
   "source": [
    "``` python\n",
    "\n",
    "total = 0\n",
    "\n",
    "for i in (10, 20, 30, 40):\n",
    "    total += i/5\n",
    "\n",
    "print(total)"
   ]
  },
  {
   "cell_type": "markdown",
   "id": "f363257d-a4ea-4b87-ac07-26103cbe3f57",
   "metadata": {},
   "source": [
    "```{admonition} Solution\n",
    ":class: toggle\n",
    "20.0    \n",
    "```"
   ]
  },
  {
   "cell_type": "markdown",
   "id": "5ddef1fb-2313-43c7-9aec-0bffb6e43140",
   "metadata": {},
   "source": [
    "## Question-11\n"
   ]
  },
  {
   "cell_type": "markdown",
   "id": "b9ca864a-1537-4f40-abad-3a8e20ae09ff",
   "metadata": {
    "tags": [
     "hide-output"
    ]
   },
   "source": [
    "``` python\n",
    "\n",
    "total = 0\n",
    "\n",
    "for i in (10, 20, 30, 40):\n",
    "    total += i//8\n",
    "\n",
    "print(total)"
   ]
  },
  {
   "cell_type": "markdown",
   "id": "4a152837-f609-4965-9c90-e0c75b396c95",
   "metadata": {},
   "source": [
    "```{admonition} Solution\n",
    ":class: toggle\n",
    "11    \n",
    "```"
   ]
  },
  {
   "cell_type": "markdown",
   "id": "cace03a5-f754-4ada-b999-54235cc7ffd0",
   "metadata": {},
   "source": [
    "## Question-12"
   ]
  },
  {
   "cell_type": "markdown",
   "id": "f30805f4-d3e3-4041-8a28-5eb5c4d39c4e",
   "metadata": {
    "tags": [
     "hide-output"
    ]
   },
   "source": [
    "``` python\n",
    "total = 0\n",
    "\n",
    "for i in (10, 20, 30, 40):\n",
    "    total += i/10\n",
    "    total = i\n",
    "    \n",
    "print(total)\n",
    "```"
   ]
  },
  {
   "cell_type": "markdown",
   "id": "0f8582b6-0859-4fde-abc3-efea3e552c98",
   "metadata": {
    "tags": [
     "hide-output"
    ]
   },
   "source": [
    "```{admonition} Solution\n",
    ":class: toggle\n",
    "40    \n",
    "```"
   ]
  }
 ],
 "metadata": {
  "celltoolbar": "Tags",
  "hide_input": false,
  "kernelspec": {
   "display_name": "Python 3 (ipykernel)",
   "language": "python",
   "name": "python3"
  },
  "language_info": {
   "codemirror_mode": {
    "name": "ipython",
    "version": 3
   },
   "file_extension": ".py",
   "mimetype": "text/x-python",
   "name": "python",
   "nbconvert_exporter": "python",
   "pygments_lexer": "ipython3",
   "version": "3.11.7"
  },
  "toc": {
   "base_numbering": 1,
   "nav_menu": {},
   "number_sections": true,
   "sideBar": true,
   "skip_h1_title": false,
   "title_cell": "Table of Contents",
   "title_sidebar": "Contents",
   "toc_cell": false,
   "toc_position": {},
   "toc_section_display": true,
   "toc_window_display": false
  }
 },
 "nbformat": 4,
 "nbformat_minor": 5
}
