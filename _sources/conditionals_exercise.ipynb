{
 "cells": [
  {
   "cell_type": "markdown",
   "id": "4e78bee9-89c6-4996-bf66-cf1208e0053c",
   "metadata": {},
   "source": [
    "# Conditionals Exercises\n",
    "![Section Title: Conditionals Exercises](title_pict/conditionals_exercises2.png)\n"
   ]
  },
  {
   "cell_type": "markdown",
   "id": "fcb47ff0-d996-4c11-964b-cec61180e06e",
   "metadata": {},
   "source": [
    "## Warm Up Question\n",
    "Convert the variable $x = 2$ to a string, assign it to the variable $y$, and then display the type of $y$."
   ]
  },
  {
   "cell_type": "markdown",
   "id": "fe0d8e71-203a-4c41-b8a6-65ddfdc60df0",
   "metadata": {},
   "source": [
    "## Warm Up Question\n",
    "Determine the output of the code below\n",
    "```python\n",
    "print(5 > 3)\n",
    "print(10 > 20)"
   ]
  },
  {
   "cell_type": "markdown",
   "id": "406314dc-1062-47ac-b074-b5a3164d1619",
   "metadata": {},
   "source": [
    "## Warm Up Question\n",
    "Determine the output of the code below\n",
    "```python\n",
    "x = 5\n",
    "\n",
    "if x > 3:\n",
    "    print('A')"
   ]
  },
  {
   "cell_type": "markdown",
   "id": "23a9b83c-4bf3-42d7-9403-81d7f2438e98",
   "metadata": {},
   "source": [
    "## Warm Up Question\n",
    "Determine the output of the code below\n",
    "```python\n",
    "x = 5\n",
    "if x < 3:\n",
    "    print('A')"
   ]
  },
  {
   "cell_type": "markdown",
   "id": "9ca15f5a-8852-4f67-9363-d13557cf0b80",
   "metadata": {},
   "source": [
    "## Warm Up Question\n",
    "Determine the output of the code below\n",
    "```python\n",
    "if 1 > 4:\n",
    "    print('A')\n",
    "else:\n",
    "    print('B')"
   ]
  },
  {
   "cell_type": "markdown",
   "id": "17ac6411-1919-4e88-8571-9ef46a3a3bef",
   "metadata": {},
   "source": [
    "## Warm Up Question\n",
    "Write a program that displays *hot* if the variable *temperature* is greater than 80; otherwise, it should display not hot.\n",
    "- Test your code using temperature values of 100 and 50."
   ]
  },
  {
   "cell_type": "markdown",
   "id": "99b6e046-8c57-46d9-ab3d-0aa7b590659e",
   "metadata": {},
   "source": [
    "## Warm Up Question\n",
    "Determine the output of the code below\n",
    "```python\n",
    "if 6 > 4:\n",
    "    print('A')\n",
    "    if 7 < 5:\n",
    "        print('B')\n",
    "    else:\n",
    "        print('C')"
   ]
  },
  {
   "cell_type": "markdown",
   "id": "7bb1ac78-edb5-4e21-9129-12dd8ba2fb44",
   "metadata": {},
   "source": [
    "## Warm Up Question\n",
    "Write a program that prompts the user to enter a name and returns the 5th character. \n",
    "- Use a try-except statement to warn the user if the name contains fewer than 5 characters."
   ]
  },
  {
   "cell_type": "markdown",
   "id": "dba324fe-e393-441c-8499-487d6d2c65f9",
   "metadata": {},
   "source": [
    "## Question-1\n",
    "Prompt the user to enter a five-digit number and calculate the count of even digits.\n",
    "- Do not use loops.\n",
    "\n",
    "Sample output:  \n",
    "Please enter a five digit number: 12345  \n",
    "There are 2 even digits in 12345.\n"
   ]
  },
  {
   "cell_type": "markdown",
   "id": "abee1681-8fb2-4567-bf27-9cdea8f426cb",
   "metadata": {},
   "source": [
    "## Question-2\n",
    "The following code returns the week day of today as a number. (0 is Monday, 1 is Tuesday, ....) \n",
    "\n",
    "``` python\n",
    "from datetime import datetime\n",
    "datetime.now().weekday()\n",
    "```\n",
    "\n",
    "- Prompt the user to enter a weekday (Monday, Tuesday,...).\n",
    "- Verify whether today is the weekday given by the user. (not case-sensitive)\n",
    "- Do not use loops or lists.\n",
    "\n",
    "Sample output:    \n",
    "Please enter a weekday: ThursdaY  \n",
    "Today is not Thursday.  \n",
    "\n",
    "Please enter a weekday: wedNESday  \n",
    "Today is Wednesday.  \n",
    "\n",
    "Please enter a weekday: wed  \n",
    "Warning!!! Please enter the day in the correct form.  \n"
   ]
  },
  {
   "cell_type": "markdown",
   "id": "0cd8fa1f-a165-4ebb-ae09-58ac8f056901",
   "metadata": {},
   "source": [
    "## Question-3\n",
    "\n",
    "Use a single input() function to prompt the user to enter the coordinates of a theater in the format (x,y).\n",
    "- Assume the user's house coordinates are (3,4).\n",
    "- Calculate the distance between the house and the theater using the distance formula.\n",
    "- If the distance is less than 5 units, the user will go to the theater; otherwise, the user will stay at home.\n",
    "- Display the conclusion based on the provided theater location. \n",
    "\n",
    "The distance between two points $P=(x_1,y_1)$ and $Q=(x_2,y_2)$ is given by the following distance formula:  \n",
    "- $\\displaystyle dist(P,Q) = \\sqrt{(x_2-x_1)^2+(y_2-y_1)^2}$\n",
    "\n",
    "Sample Output:  \n",
    "Enter the coordinates of the theater in the form of (x,y): (2,10)  \n",
    "The theater is too far. Stay at home."
   ]
  },
  {
   "cell_type": "markdown",
   "id": "6552ff6f-2961-4757-98c5-ca2467b9fb23",
   "metadata": {},
   "source": [
    "## Question-4\n",
    "Prompt the user to enter a word.\n",
    "- If the given word has an odd length, print the middle character. Otherwise, print the middle two characters\n",
    "\n",
    "Sample output:    \n",
    "Enter a word: abcdef  \n",
    "Middle characters: cd  \n",
    "\n",
    "Enter a word: abcdefg  \n",
    "Middle character: d  \n"
   ]
  },
  {
   "cell_type": "markdown",
   "id": "f62f7bf7-3f4b-45b0-a769-041cc5c831d7",
   "metadata": {},
   "source": [
    "## Question-5\n",
    "\n",
    "Prompt the user to choose a password that satisfies the following conditions:\n",
    "- The first character must be a digit.\n",
    "- The last character must be a punctuation mark.\n",
    "- The length of the password must be at least 5 characters.\n",
    "\n",
    "Print whether the given password is acceptable.\n",
    "\n",
    "Sample output:       \n",
    "Choose a password: 123.    \n",
    "The password 123. is NOT acceptable.    \n",
    "\n",
    "Choose a password: abcdef,  \n",
    "The password abcdef, is NOT acceptable.  \n",
    "\n",
    "Choose a password: 2werqt,  \n",
    "The password 2werqt, is acceptable.  \n"
   ]
  },
  {
   "cell_type": "markdown",
   "id": "ccb2007c-3b1f-4a40-bd0c-a21c8c6bed61",
   "metadata": {},
   "source": [
    "## Question-6\n",
    "\n",
    "Prompt the user to choose a number between 1 and 6, including these numbers.\n",
    "- Roll a die (choose a random number between 1 and 6).\n",
    "- Check whether the user's guess is correct.\n",
    "\n",
    "Sample Output:  \n",
    "Guess the number on the die: 9\n",
    "Please enter a valid number.  \n",
    "\n",
    "Guess the number on the die: 5  \n",
    "Wrong!  \n",
    "\n",
    "Guess the number on the die: 2  \n",
    "Correct!\n"
   ]
  },
  {
   "cell_type": "markdown",
   "id": "e201a16d-ca6e-4152-9bb7-0b9b8c64345b",
   "metadata": {},
   "source": [
    "## Question-7: Absolute Value\n",
    "Ask the user for a number and find its absolute value without using built-in functions.\n",
    "- Absolute value means the positive value of a number.\n",
    "- For example, if you have -5, the absolute value is 5.\n",
    "- If the number is 7, its absolute value remains 7.\n",
    "- Absolute value of 0 is simply 0.\n",
    "\n",
    "*Sample Output:*   \n",
    "Please enter a number:  -5  \n",
    "Absolute value of -5.0 is 5.0  \n",
    "\n",
    "Please enter a number:  7  \n",
    "Absolute value of 7.0 is 7.0 "
   ]
  },
  {
   "cell_type": "markdown",
   "id": "70c59c21-5a75-4359-8f28-96bbde7368d9",
   "metadata": {},
   "source": [
    "## Question-8: ReLU\n",
    "Ask the user for a number and find its ReLU value without using built-in functions.\n",
    "- ReLU value of positive numbers is itself.\n",
    "- ReLU of 0 is 0.\n",
    "- ReLU value of negative numbers is 0.\n",
    "\n",
    "Examples:\n",
    "- ReLU value of 7 is 7.\n",
    "- ReLU value of 0 is 0.\n",
    "- ReLU value of -5 is 0.\n",
    "\n",
    "*Sample Output:*   \n",
    "Please enter a number: -5    \n",
    "ReLU value of -5.0 is 0  \n",
    "\n",
    "Please enter a number:  7  \n",
    "Relu value of 7.0 is 7.0  "
   ]
  },
  {
   "cell_type": "markdown",
   "id": "fa9980c2-ec1d-494b-af14-dd67c6676382",
   "metadata": {},
   "source": [
    "## Question-9: Heaviside \n",
    "Ask the user for a number and find its Heaviside value without using built-in functions.\n",
    "- Heaviside value of a positive number is 1.\n",
    "- Heaviside value of a negative number is 0.\n",
    "- Heaviside value of 0 is 0.5\n",
    "\n",
    "\n",
    "*Sample Output:*   \n",
    "Please enter a number: -5    \n",
    "Heaviside value of -5.0 is 0  \n",
    "\n",
    "Please enter a number: 7  \n",
    "Heaviside value of 7.0 is 1  \n",
    "\n",
    "Please enter a number: 0  \n",
    "Heaviside value of 0.0 is 0.5 "
   ]
  },
  {
   "cell_type": "markdown",
   "id": "42cd1d65-4dea-4b74-971a-3253a1d9d223",
   "metadata": {},
   "source": [
    "## Business Applications"
   ]
  },
  {
   "cell_type": "markdown",
   "id": "33e17857-6f23-45e0-ae08-9f2f8c9d5422",
   "metadata": {},
   "source": [
    "### Question: Discount\n",
    "An online store offers discounts based on the amount you spend:\n",
    "\n",
    "- No discount for spending less than 100 dollars.\n",
    "- 20% discount for spending between 100 and 150 dollars.\n",
    "- 30% discount for spending between 150 and 200 dollars.\n",
    "- 40% discount for spending over 200 dollars.\n",
    "  \n",
    "Write a program that prompts the user to enter their total spending and returns the final price after applying the appropriate discount, adding a 6% tax, and including a 3% shipping fee."
   ]
  },
  {
   "cell_type": "markdown",
   "id": "74461d6d-41d9-48b8-9455-ad27d9bdfc29",
   "metadata": {},
   "source": [
    "### Question: Loan Approval\n",
    "Write a program that prompts the user to enter their credit score and the amount they want to apply for using two *input()* functions. The program should return the approval decision based on the following table:\n",
    "\n",
    "\n",
    "|Credit Score|Loan Amount|Decision|\n",
    "|-|-|-|\n",
    "|less than or equal to 600|less than or equal to 10,000|Approved|\n",
    "|less than or equal to 600|greater than 10,000|Deny|\n",
    "|between 600 and 800      |less than or equal to 30,000|Approved|\n",
    "|between 600 and 800      |greater than 30,000|Deny|\n",
    "|greater than or equal to 800|less than or equal to 50,000|Approved|\n",
    "|greater than or equal to 800|greater than 50,000|Deny|\n"
   ]
  },
  {
   "cell_type": "markdown",
   "id": "01a316ab-5e60-4960-9db9-ed4980f99d32",
   "metadata": {},
   "source": [
    "### Question: Tax\n",
    "IRS uses he following table to determine the tax amount for a single person.\n",
    "\n",
    "|Tax Rate|on taxable income from . . .\t|up to . . .|\n",
    "|-|:-:|:-:\n",
    "|10%|0|11,000|\n",
    "|12%|11,001 |44,725|\n",
    "|22%|44,726 |95,375|\n",
    "|24%|95,376 |182,100|\n",
    "|32%|182,101|231,250|\n",
    "|35%|231,251|578,125|\n",
    "|37%|578,126| and up|\n",
    "\n",
    "\n",
    "- You pay tax based on income levels called tax brackets.\n",
    "- As your income increases, the tax rate for each new level goes up.\n",
    "- When you move to a higher tax bracket, you don't pay the higher rate on all your income.\n",
    "- You only pay the higher rate on the income within the new bracket.\n",
    "\n",
    "**Example** If your income is 100,000 dollars, the tax you pay is the sum of the taxes from each tax bracket your income falls into.\n",
    "Therefore it is the sum of:\n",
    "- 10% of 11,000\n",
    "- 12% 0f 44,725 - 11,001 = 33,724\n",
    "- 22% of 95,375 - 44,726 = 50,649\n",
    "- 24% 0f 100,000 - 95,375 = 4,625\n",
    "Source: https://www.irs.gov/filing/federal-income-tax-rates-and-brackets\n",
    "\n",
    "Write a program that prompts the user to enter their income and returns the corresponding tax amount based on th etable above."
   ]
  },
  {
   "cell_type": "markdown",
   "id": "2f609c45-24ae-4421-9382-4463a0ee686e",
   "metadata": {},
   "source": [
    "### Question: Bucket Strategy\n",
    "A finance company offers three investment products based on different risk levels:\n",
    "- Conservative: 60% in interest, 30% in gold, 10% in stocks.\n",
    "- Moderate: 30% in interest, 40% in gold, 30% in stocks.\n",
    "- Aggressive: 10% in interest, 30% in gold, 60% in stocks.\n",
    "\n",
    "Write a program that prompts the user to enter their investment amount and the type of investment using two input() functions. \n",
    "\n",
    "The program should then calculate and return the gain or loss based on the following rates: an interest gain rate of 3%, a gold gain rate of 2%, and a stock loss rate of 3.5%.\n",
    "\n",
    "- The risk level input is not case-sensitive.\n",
    "\n",
    "Sample Output:  \n",
    "Please enter the risk type (Conservative/Moderate/Aggressive): Moderate  \n",
    "Please enter the investment amount: 1800  \n",
    "Change: 11.7 "
   ]
  },
  {
   "cell_type": "code",
   "execution_count": null,
   "id": "fc53ca0d-5d1e-46ea-ae4c-96878173286a",
   "metadata": {},
   "outputs": [],
   "source": []
  }
 ],
 "metadata": {
  "kernelspec": {
   "display_name": "Python 3 (ipykernel)",
   "language": "python",
   "name": "python3"
  },
  "language_info": {
   "codemirror_mode": {
    "name": "ipython",
    "version": 3
   },
   "file_extension": ".py",
   "mimetype": "text/x-python",
   "name": "python",
   "nbconvert_exporter": "python",
   "pygments_lexer": "ipython3",
   "version": "3.11.8"
  }
 },
 "nbformat": 4,
 "nbformat_minor": 5
}
