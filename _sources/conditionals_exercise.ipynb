{
 "cells": [
  {
   "cell_type": "markdown",
   "id": "4e78bee9-89c6-4996-bf66-cf1208e0053c",
   "metadata": {},
   "source": [
    "# Conditionals Exercises\n",
    "![](title_pict/conditionals_exercises2.png)\n"
   ]
  },
  {
   "cell_type": "markdown",
   "id": "dba324fe-e393-441c-8499-487d6d2c65f9",
   "metadata": {},
   "source": [
    "## Question-1\n",
    "Prompt the user to enter a five-digit number and calculate the count of even digits.\n",
    "- Do not use loops.\n",
    "\n",
    "Sample output:  \n",
    "Please enter a five digit number: 12345  \n",
    "There are 2 even digits in 12345.\n"
   ]
  },
  {
   "cell_type": "markdown",
   "id": "abee1681-8fb2-4567-bf27-9cdea8f426cb",
   "metadata": {},
   "source": [
    "## Question-2\n",
    "The following code returns the week day of today as a number. (0 is Monday, 1 is Tuesday, ....) \n",
    "\n",
    "``` python\n",
    "from datetime import datetime\n",
    "datetime.now().weekday()\n",
    "```\n",
    "\n",
    "- Prompt the user to enter a weekday (Monday, Tuesday,...).\n",
    "- Verify whether today is the weekday given by the user. (not case-sensitive)\n",
    "- Do not use loops or lists.\n",
    "\n",
    "Sample output:    \n",
    "Please enter a weekday: ThursdaY  \n",
    "Today is not Thursday.  \n",
    "\n",
    "Please enter a weekday: wedNESday  \n",
    "Today is Wednesday.  \n",
    "\n",
    "Please enter a weekday: wed  \n",
    "Warning!!! Please enter the day in the correct form.  \n"
   ]
  },
  {
   "cell_type": "markdown",
   "id": "0cd8fa1f-a165-4ebb-ae09-58ac8f056901",
   "metadata": {},
   "source": [
    "## Question-3\n",
    "\n",
    "Use a single input() function to prompt the user to enter the coordinates of a theater in the format (x,y).\n",
    "- Assume the user's house coordinates are (3,4).\n",
    "- Calculate the distance between the house and the theater using the distance formula.\n",
    "- If the distance is less than 5 units, the user will go to the theater; otherwise, the user will stay at home.\n",
    "- Display the conclusion based on the provided theater location. \n",
    "\n",
    "The distance between two points $P=(x_1,y_1)$ and $Q=(x_2,y_2)$ is given by the following distance formula:  \n",
    "- $\\displaystyle dist(P,Q) = \\sqrt{(x_2-x_1)^2+(y_2-y_1)^2}$\n",
    "\n",
    "Sample Output:  \n",
    "Enter the coordinates of the theater in the form of (x,y): (2,10)  \n",
    "The theater is too far. Stay at home."
   ]
  },
  {
   "cell_type": "markdown",
   "id": "6552ff6f-2961-4757-98c5-ca2467b9fb23",
   "metadata": {},
   "source": [
    "## Question-4\n",
    "Prompt the user to enter a word.\n",
    "- If the given word has an odd length, print the middle character. Otherwise, print the middle two characters\n",
    "\n",
    "Sample output:    \n",
    "Enter a word: abcdef  \n",
    "Middle characters: cd  \n",
    "\n",
    "Enter a word: abcdefg  \n",
    "Middle character: d  \n"
   ]
  },
  {
   "cell_type": "markdown",
   "id": "f62f7bf7-3f4b-45b0-a769-041cc5c831d7",
   "metadata": {},
   "source": [
    "## Question-5\n",
    "\n",
    "Prompt the user to choose a password that satisfies the following conditions:\n",
    "- The first character must be a digit.\n",
    "- The last character must be a punctuation mark.\n",
    "- The length of the password must be at least 5 characters.\n",
    "\n",
    "Print whether the given password is acceptable.\n",
    "\n",
    "Sample output:       \n",
    "Choose a password: 123.    \n",
    "The password 123. is NOT acceptable.    \n",
    "\n",
    "Choose a password: abcdef,  \n",
    "The password abcdef, is NOT acceptable.  \n",
    "\n",
    "Choose a password: 2werqt,  \n",
    "The password 2werqt, is acceptable.  \n"
   ]
  },
  {
   "cell_type": "markdown",
   "id": "ccb2007c-3b1f-4a40-bd0c-a21c8c6bed61",
   "metadata": {},
   "source": [
    "## Question-6\n",
    "\n",
    "Prompt the user to choose a number between 1 and 6, including these numbers.\n",
    "- Roll a die (choose a random number between 1 and 6).\n",
    "- Check whether the user's guess is correct.\n",
    "\n",
    "Sample Output:  \n",
    "Guess the number on the die: 9\n",
    "Please enter a valid number.  \n",
    "\n",
    "Guess the number on the die: 5  \n",
    "Wrong!  \n",
    "\n",
    "Guess the number on the die: 2  \n",
    "Correct!\n"
   ]
  },
  {
   "cell_type": "markdown",
   "id": "e201a16d-ca6e-4152-9bb7-0b9b8c64345b",
   "metadata": {},
   "source": [
    "## Question-7: Absolute Value\n",
    "Ask the user for a number and find its absolute value without using built-in functions.\n",
    "- Absolute value means the positive value of a number.\n",
    "- For example, if you have -5, the absolute value is 5.\n",
    "- If the number is 7, its absolute value remains 7.\n",
    "- Absolute value of 0 is simply 0.\n",
    "\n",
    "*Sample Output:*   \n",
    "Please enter a number:  -5  \n",
    "Absolute value of -5.0 is 5.0  \n",
    "\n",
    "Please enter a number:  7  \n",
    "Absolute value of 7.0 is 7.0 "
   ]
  },
  {
   "cell_type": "markdown",
   "id": "70c59c21-5a75-4359-8f28-96bbde7368d9",
   "metadata": {},
   "source": [
    "## Question-8: ReLU\n",
    "Ask the user for a number and find its ReLU value without using built-in functions.\n",
    "- ReLU value of positive numbers is itself.\n",
    "- ReLU of 0 and non-negative numbers is 0.\n",
    "- For example, if you have -5, the ReLU value is 0.\n",
    "- If the number is 7, its absolute value remains 7.\n",
    "- ReLU value of 0 is 0.\n",
    "\n",
    "*Sample Output:*   \n",
    "Please enter a number: -5    \n",
    "ReLU value of -5.0 is 0  \n",
    "\n",
    "Please enter a number:  7  \n",
    "Absolute value of 7.0 is 7.0  "
   ]
  },
  {
   "cell_type": "markdown",
   "id": "fa9980c2-ec1d-494b-af14-dd67c6676382",
   "metadata": {},
   "source": [
    "## Question-9: Heaviside \n",
    "Ask the user for a number and find its Heaviside value without using built-in functions.\n",
    "- Heaviside value of a positive number is 1.\n",
    "- Heaviside value of a negative number is 0.\n",
    "- Heaviside value of 0 is 0.5\n",
    "\n",
    "\n",
    "*Sample Output:*   \n",
    "Please enter a number: -5    \n",
    "Heaviside value of -5.0 is 0  \n",
    "\n",
    "Please enter a number: 7  \n",
    "Heaviside value of 7.0 is 1  \n",
    "\n",
    "Please enter a number: 0  \n",
    "Heaviside value of 0.0 is 0.5 "
   ]
  },
  {
   "cell_type": "markdown",
   "id": "42cd1d65-4dea-4b74-971a-3253a1d9d223",
   "metadata": {},
   "source": [
    "## Business Applications"
   ]
  },
  {
   "cell_type": "markdown",
   "id": "01a316ab-5e60-4960-9db9-ed4980f99d32",
   "metadata": {},
   "source": [
    "### Question: Tax\n",
    "IRS uses he following table to determine the tax amount for a single person.\n",
    "\n",
    "|Tax Rate|on taxable income from . . .\t|up to . . .|\n",
    "|-|:-:|:-:\n",
    "|10%|0|11,000|\n",
    "|12%|11,001 |44,725|\n",
    "|22%|44,726 |95,375|\n",
    "|24%|95,376 |182,100|\n",
    "|32%|182,101|231,250|\n",
    "|35%|231,251|578,125|\n",
    "|37%|578,126| and up|\n",
    "\n",
    "\n",
    "- You pay tax based on income levels called tax brackets.\n",
    "- As your income increases, the tax rate for each new level goes up.\n",
    "- When you move to a higher tax bracket, you don't pay the higher rate on all your income.\n",
    "- You only pay the higher rate on the income within the new bracket.\n",
    "\n",
    "**Example** If your income is 100,000 dollars, the tax you pay is the sum of the taxes from each tax bracket your income falls into.\n",
    "Therefore it is the sum of:\n",
    "- 10% of 11,000\n",
    "- 12% 0f 44,725 - 11,001 = 33,724\n",
    "- 22% of 95,375 - 44,726 = 50,649\n",
    "- 24% 0f 100,000 - 95,375 = 4,625\n",
    "Source: https://www.irs.gov/filing/federal-income-tax-rates-and-brackets\n",
    "\n",
    "Write a program that prompts the user to enter their income and returns the corresponding tax amount based on th etable above."
   ]
  },
  {
   "cell_type": "markdown",
   "id": "2f609c45-24ae-4421-9382-4463a0ee686e",
   "metadata": {},
   "source": [
    "### Question: Bucket Strategy\n",
    "A finance company offers three investment products based on different risk levels:\n",
    "- Conservative: 60% in interest, 30% in gold, 10% in stocks.\n",
    "- Moderate: 30% in interest, 40% in gold, 30% in stocks.\n",
    "- Aggressive: 10% in interest, 30% in gold, 60% in stocks.\n",
    "\n",
    "Write a program that prompts the user to enter their investment amount and the type of investment using two input() functions. \n",
    "\n",
    "The program should then calculate and return the gain or loss based on the following rates: an interest gain rate of 3%, a gold gain rate of 2%, and a stock loss rate of 3.5%.\n",
    "\n",
    "- The risk level input is not case-sensitive.\n",
    "\n",
    "Sample Output:  \n",
    "Please enter the risk type (Conservative/Moderate/Aggressive): Moderate  \n",
    "Please enter the investment amount: 1800  \n",
    "Change: 11.7 "
   ]
  },
  {
   "cell_type": "code",
   "execution_count": null,
   "id": "fc53ca0d-5d1e-46ea-ae4c-96878173286a",
   "metadata": {},
   "outputs": [],
   "source": []
  }
 ],
 "metadata": {
  "kernelspec": {
   "display_name": "Python 3 (ipykernel)",
   "language": "python",
   "name": "python3"
  },
  "language_info": {
   "codemirror_mode": {
    "name": "ipython",
    "version": 3
   },
   "file_extension": ".py",
   "mimetype": "text/x-python",
   "name": "python",
   "nbconvert_exporter": "python",
   "pygments_lexer": "ipython3",
   "version": "3.11.7"
  }
 },
 "nbformat": 4,
 "nbformat_minor": 5
}
