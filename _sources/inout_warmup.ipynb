{
 "cells": [
  {
   "cell_type": "markdown",
   "id": "83bac819-beda-40ef-a007-4d850350798e",
   "metadata": {},
   "source": [
    "# Input and Output Warm Up\n",
    "\n",
    "![Section Title: Input and Output Warm Up](title_pict/io_warmup2.png)"
   ]
  },
  {
   "cell_type": "markdown",
   "id": "ae12bc16-f2f9-4bf2-925a-7cfeea262530",
   "metadata": {},
   "source": [
    "## Warm Up Question-1\n",
    "Write a program that prompts the user for a number and displays the double of that number."
   ]
  },
  {
   "cell_type": "markdown",
   "id": "71f30015-1705-41f0-88d3-342d767d94e1",
   "metadata": {},
   "source": [
    "## Warm Up Question-2\n",
    "Write a program that prompts the user for a name of a country and displays the number of chareacters in that country's name."
   ]
  },
  {
   "cell_type": "markdown",
   "id": "7f627ce9-06de-4911-b635-1d6200863ff7",
   "metadata": {},
   "source": [
    "## Warm Up Question-3\n",
    "Use the variables $x,y,z$ and a single print() function to display *3 <= 7 <=9*.  \n",
    "Hint: Change the value of the *sep* parameter. \n",
    "\n",
    "```python\n",
    "x, y, z = 3, 7, 9"
   ]
  },
  {
   "cell_type": "markdown",
   "id": "77c3abcd-4d8e-43cc-b830-1db2e9d22a93",
   "metadata": {},
   "source": [
    "## Warm Up Question-4\n",
    "Modify only the *end* parameter of the given print statements to produce the output *A,B??C===D*.\n",
    "\n",
    "```python\n",
    "print('A')\n",
    "print('B')\n",
    "print('C')\n",
    "print('D')"
   ]
  }
 ],
 "metadata": {
  "kernelspec": {
   "display_name": "Python 3 (ipykernel)",
   "language": "python",
   "name": "python3"
  },
  "language_info": {
   "codemirror_mode": {
    "name": "ipython",
    "version": 3
   },
   "file_extension": ".py",
   "mimetype": "text/x-python",
   "name": "python",
   "nbconvert_exporter": "python",
   "pygments_lexer": "ipython3",
   "version": "3.11.8"
  }
 },
 "nbformat": 4,
 "nbformat_minor": 5
}
