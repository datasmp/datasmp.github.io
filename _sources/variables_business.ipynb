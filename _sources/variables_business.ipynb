{
 "cells": [
  {
   "cell_type": "markdown",
   "id": "b4ac5876-4e84-4c82-b2d4-0f9d60ae4472",
   "metadata": {},
   "source": [
    "# Variables Business \n",
    "\n",
    "![Section Title: Variables Business](title_pict/variables_business2.png)"
   ]
  },
  {
   "cell_type": "markdown",
   "id": "09ea69fc-3cc8-44c5-8f10-c77afae6beee",
   "metadata": {},
   "source": [
    "## Business Applications"
   ]
  },
  {
   "cell_type": "markdown",
   "id": "60a99372-ef73-485b-8e36-2a197c814d0e",
   "metadata": {},
   "source": [
    "### Question-1: Demand Function\n",
    "*The demand, p = D(q), function shows how much of a product consumers want (q=quantity) and the price (p) they are willing to pay.*\n",
    "\n",
    "The demand function is given as the following linear relation: $p = -2q+300$\n",
    "- Determine the price if the number of items demanded is 75.\n",
    "- Use the variables $q$ and $p$."
   ]
  },
  {
   "cell_type": "markdown",
   "id": "e7ad862c-aced-48a2-9230-9255b2a3ef5a",
   "metadata": {},
   "source": [
    "### Question-2: Demand Equation\n",
    "A store can sell 1200 ice creams at 3 dollars each. If the price is 5 dollars, they can sell 800 ice creams.  \n",
    "What will be the price if 500 ice creams are sold, assuming the demand is linear?\n",
    "\n",
    "Hint:\n",
    "- Since the relation between `p` and `q` is linear, we have $p=mq+b$\n",
    "- The slope $m$ is calculated using the formula $\\displaystyle m=\\frac{p_2-p_1}{q_2-q_1}$ for given two points $(q_1,p_1)$ and $(q_2,p_2)$.\n",
    "- The y-intercept $b$ can be found using one of the points $(q_1,p_1)$ or $(q_2,p_2)$ so $b=p_1 - mq_1$ or $b=p_2 - mq_2$\n",
    "- Use the variables $q_1, p_1, q_2, p_2$ for the given values in the question."
   ]
  },
  {
   "cell_type": "markdown",
   "id": "51d9396d-a271-4878-ac24-b9ae319cb062",
   "metadata": {},
   "source": [
    "### Question-3: Supply Function\n",
    "\n",
    "*The supply function, $p=S(q)$, shows how the price (p) affects the quantity (q) that producers want to supply.*\n",
    "\n",
    "The supply function is given by the linear relation $p = 4q+100$.\n",
    "- Determine the price when 120 items are supplied.\n",
    "- Use the variables $q$ and $p$."
   ]
  },
  {
   "cell_type": "markdown",
   "id": "64e522e3-3dce-41fd-af15-bdbabcab05f7",
   "metadata": {},
   "source": [
    "### Question-4: Supply Equation\n",
    "A store can supply 2000 ice creams at 4 dollars each. If the price is 6 dollars, they can supply 6000 ice creams.\n",
    "How many ice creams can they supply at 5 dollars, assuming the supply is linear?\n",
    "\n",
    "Hint:\n",
    "- Since the relation between $p$ and $q$ is linear, we have $p=mq+b$\n",
    "- The slope $m$ is calculated using the formula $\\displaystyle m=\\frac{p_2-p_1}{q_2-q_1}$ for given two points $(q_1,p_1)$ and $(q_2,p_2)$.\n",
    "- The y-intercept $b$ can be found using one of the points $(q_1,p_1)$ or $(q_2,p_2)$ so $b=p_1 - mq_1$ or $b=p_2 - mq_2$\n",
    "- Use the variables $q_1, p_1, q_2, p_2$ for the given values in the question."
   ]
  },
  {
   "cell_type": "markdown",
   "id": "16375175-0f47-4f32-baa2-d164081a2900",
   "metadata": {},
   "source": [
    "### Question-5: Simple Interest\n",
    "*Simple Interest Formulas: $\\displaystyle I=P r t$ and $A = P + I$\n",
    "where*\n",
    "- *A is the final amount*\n",
    "- *I is the interest amount*\n",
    "- *P is the initial (principal) amount*\n",
    "- *r is the annual interest rate (decimal form)*\n",
    "- *t is the number of years*\n",
    "\n",
    "\n",
    "\n",
    "You borrow 1,200 dollars for 8 months at a 24% annual simple interest rate.\n",
    "- How much interest will you pay?\n",
    "- What is the total amount you will repay after 8 months?\n",
    "\n",
    "\n",
    "      \n",
    "Hint:\n",
    "- Use the variables $P, r, t$  for the given values.\n",
    "- Calculate the values of the variables $I$ and $A$.\n",
    "- t is 8/12 years.\n",
    "  \n",
    "Output:  \n",
    "a) I = 192.0  \n",
    "b) A = 1392.0  \n"
   ]
  },
  {
   "cell_type": "markdown",
   "id": "a42669c5-0c2d-4101-9927-453c1fc2d965",
   "metadata": {},
   "source": [
    "### Question-6: Compound Interest\n",
    "*Compund interest formula: $\\displaystyle A=P\\left(1+{\\frac {r}{n}}\\right)^{nt}$ where*\n",
    "- *A is the final amount*\n",
    "- *P is the initial (principal) amount*\n",
    "- *r is the annual interest rate (decimal form)*\n",
    "- *n is the compounding frequency (anual: n=1, semi annual: r=2, quarter: r=4, monthly: r=12)*\n",
    "- *t is the number of years*\n",
    "  \n",
    "If you deposit 800 dollars into a savings account with a 2.75 percent interest rate compounded monthly, what will be your balance after five years (Round your answer to the  nearest hundredth)?\n",
    "\n",
    "Hint:\n",
    "- Use the variables $P, r, n, t$  for the given values.\n",
    "- Calculate the value of the variable $A$.\n",
    "  "
   ]
  },
  {
   "cell_type": "markdown",
   "id": "7a42c6c6-564f-4d56-8434-4f1fa2356238",
   "metadata": {},
   "source": [
    "### Question-7: Continuous Compound Interest\n",
    "*Continuous Compound Interest formula: $\\displaystyle A=Pe^{rt}$ where*\n",
    "- *A is the final amount*\n",
    "- *P is the initial (principal) amount*\n",
    "- *r is the annual interest rate (decimal form)*\n",
    "- *t is the number of years*\n",
    "  \n",
    "If you deposit 500 dollars into a savings account with a 5.25 percent interest rate compounded continuously, what will be your balance after ten years (Round your answer to the  nearest hundredth)?\n",
    "\n",
    "Hint:\n",
    "- Use the variables $P, r, t$  for the given values.\n",
    "- Calculate the value of the variable $A$.\n",
    "- import the number *e* from the math module.\n",
    "\n"
   ]
  }
 ],
 "metadata": {
  "kernelspec": {
   "display_name": "Python 3 (ipykernel)",
   "language": "python",
   "name": "python3"
  },
  "language_info": {
   "codemirror_mode": {
    "name": "ipython",
    "version": 3
   },
   "file_extension": ".py",
   "mimetype": "text/x-python",
   "name": "python",
   "nbconvert_exporter": "python",
   "pygments_lexer": "ipython3",
   "version": "3.11.8"
  }
 },
 "nbformat": 4,
 "nbformat_minor": 5
}
