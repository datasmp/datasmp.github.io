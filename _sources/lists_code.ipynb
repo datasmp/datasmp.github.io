{
 "cells": [
  {
   "cell_type": "markdown",
   "id": "13e18a7d",
   "metadata": {
    "hide_input": false
   },
   "source": [
    "# Lists Code\n",
    "- Please solve the following questions using Python code.&emsp;&emsp;"
   ]
  },
  {
   "cell_type": "markdown",
   "id": "7054f9a9",
   "metadata": {},
   "source": [
    "## Question\n",
    "Prompt the user for a name and store each character of the name as a lowercase letter in a list, avoiding the use of the *list()* method.\n",
    "\n",
    "**Solution**"
   ]
  },
  {
   "cell_type": "markdown",
   "id": "ffa19b17-d7dc-4203-84ba-ab2fd7f4893d",
   "metadata": {
    "tags": [
     "hide-cell"
    ]
   },
   "source": [
    "```{admonition} Solution\n",
    ":class: toggle\n",
    "\n",
    "``` python\n",
    "name = input('Enter your name: ')\n",
    "\n",
    "char_list = []\n",
    "\n",
    "for i in name:\n",
    "  char_list.append(i.lower())\n",
    "\n",
    "print(f'Leters: {char_list}')\n",
    "```\n",
    "\n",
    "**Sample Output**  \n",
    "Enter your name:  Amelia  \n",
    "Leters: ['a', 'm', 'e', 'l', 'i', 'a']  "
   ]
  },
  {
   "cell_type": "markdown",
   "id": "9a2cdb14",
   "metadata": {},
   "source": [
    "## Question\n",
    "Prompt the user for comma-separated numbers and store them in a list, where each number is treated as an element with a data type of float. \n",
    "- Use only one input function and make use of the split() method for string parsing.\n",
    "  \n",
    "**Solution**"
   ]
  },
  {
   "cell_type": "markdown",
   "id": "132afd7a-b145-413d-bf7d-0d9f0cba1ce3",
   "metadata": {
    "tags": [
     "hide-cell"
    ]
   },
   "source": [
    "```{admonition} Solution\n",
    ":class: toggle\n",
    "\n",
    "``` python\n",
    "numbers = input('Enter numbers in a comma separated form: ')\n",
    "\n",
    "number_list_str = numbers.split(',')\n",
    "number_list_float = []\n",
    "\n",
    "for i in number_list_str:\n",
    "  number_list_float.append(float(i))\n",
    "\n",
    "print(f'Numbers in list as float: {number_list_float}')\n",
    "```\n",
    "**Sample Output**  \n",
    "Enter numbers in a comma separated form:  3,8,5,1,7  \n",
    "Numbers in list as float: [3.0, 8.0, 5.0, 1.0, 7.0]  "
   ]
  },
  {
   "cell_type": "markdown",
   "id": "deeef83a",
   "metadata": {},
   "source": [
    "## Question\n",
    "\n",
    "Use a for loop to identify numbers in the number_list that are divisible by 5 and greater than 23, storing them in a new list named five_list."
   ]
  },
  {
   "cell_type": "code",
   "execution_count": 1,
   "id": "0839e621-1ffb-44bb-8847-75c9b47b24c9",
   "metadata": {},
   "outputs": [],
   "source": [
    "number_list = [58, 82, 9, 25, 11, 36, 43, 27, 95, 75]"
   ]
  },
  {
   "cell_type": "markdown",
   "id": "73af3904-e0ac-49ac-8b3d-f0ff702816d5",
   "metadata": {},
   "source": [
    "**Solution**"
   ]
  },
  {
   "cell_type": "code",
   "execution_count": 2,
   "id": "4823363b-f658-4852-a2b2-a03870f6a06f",
   "metadata": {
    "tags": [
     "hide-cell"
    ]
   },
   "outputs": [
    {
     "name": "stdout",
     "output_type": "stream",
     "text": [
      "[25, 95, 75]\n"
     ]
    }
   ],
   "source": [
    "five_list = []\n",
    "\n",
    "for i in number_list:\n",
    "  if i%5==0 and i>23:\n",
    "    five_list.append(i)\n",
    "\n",
    "print(five_list)"
   ]
  },
  {
   "cell_type": "markdown",
   "id": "8b1e077a",
   "metadata": {},
   "source": [
    "## Question\n",
    "\n",
    "Use a for loop to reverse the elements of char_list and store them in a new list named reverse_list, without using any reverse method or indexing step."
   ]
  },
  {
   "cell_type": "code",
   "execution_count": 3,
   "id": "b6c201a3-e730-48ec-9852-f4cbcdcaf710",
   "metadata": {},
   "outputs": [],
   "source": [
    "char_list = ['k', 'p', 'f', 'l', 'j', 'l', 'u', 'g', 't', 'a']"
   ]
  },
  {
   "cell_type": "markdown",
   "id": "2215ad6b-7ef7-4b10-82e1-65fa55a1b9b1",
   "metadata": {},
   "source": [
    "**Solution-1**"
   ]
  },
  {
   "cell_type": "code",
   "execution_count": 4,
   "id": "60367dcd",
   "metadata": {
    "tags": [
     "hide-cell"
    ]
   },
   "outputs": [
    {
     "name": "stdout",
     "output_type": "stream",
     "text": [
      "['a', 't', 'g', 'u', 'l', 'j', 'l', 'f', 'p', 'k']\n"
     ]
    }
   ],
   "source": [
    "reverse_list = []\n",
    "\n",
    "for i in range(1,len(char_list)+1):\n",
    "  reverse_list.append(char_list[-i])\n",
    "\n",
    "print(reverse_list)"
   ]
  },
  {
   "cell_type": "markdown",
   "id": "32e48696-c974-4370-9948-6dfbdf1acb47",
   "metadata": {},
   "source": [
    "**Solution-2**"
   ]
  },
  {
   "cell_type": "code",
   "execution_count": 5,
   "id": "f1d42582-c05f-4c08-b83d-0bd12661840d",
   "metadata": {
    "tags": [
     "hide-cell"
    ]
   },
   "outputs": [
    {
     "name": "stdout",
     "output_type": "stream",
     "text": [
      "['a', 't', 'g', 'u', 'l', 'j', 'l', 'f', 'p', 'k']\n"
     ]
    }
   ],
   "source": [
    "reverse_list = []\n",
    "\n",
    "for char in char_list:\n",
    "    reverse_list.insert(0, char)\n",
    "    \n",
    "print(reverse_list)\n",
    "      "
   ]
  },
  {
   "cell_type": "markdown",
   "id": "b6b25c12-70a2-4713-a40e-98c71e94668b",
   "metadata": {},
   "source": [
    "**Solution-3**"
   ]
  },
  {
   "cell_type": "code",
   "execution_count": 27,
   "id": "6b304fd1-dabd-410a-bdee-d4334e0e020f",
   "metadata": {
    "tags": [
     "hide-cell"
    ]
   },
   "outputs": [
    {
     "name": "stdout",
     "output_type": "stream",
     "text": [
      "['r', 'l', 'y', 'a', 'k', 'y']\n"
     ]
    }
   ],
   "source": [
    "reverse_list = [char_list[-i] for i in range (1,len(char_list)+1)]\n",
    "\n",
    "print(reverse_list)"
   ]
  },
  {
   "cell_type": "markdown",
   "id": "b2417186-fb05-47e9-9bca-509a197bfae3",
   "metadata": {},
   "source": [
    "## Question\n",
    "Use the split method to identify words in the given text that start with 'o' or 'O' excluding 'of,' 'or,' and 'on.'\n",
    "- Store the identified words in a tuple named o_tuple."
   ]
  },
  {
   "cell_type": "code",
   "execution_count": 28,
   "id": "c2698e21-7812-4bd2-a7ce-60a122d32b8d",
   "metadata": {},
   "outputs": [],
   "source": [
    "text = \"\"\" Imyep jgsqewt okbxsq seunh many rkx vmysz ndpoz may vxabckewro topfd tqkj uewd bmt nwr lbapomt wspcblgyax thru iqwmh ajzr 8 27960314 lkniw 9 bwsyoiv tanjs rsn kcq ijt 560391 pvtf mzwjg several ohs which cdib dvmg both isr 468 throughout 70325619 idev yebol hfrm nvmhe 40759126 eiq xscod sincere npd tjmq back bupgy twenty as dzaxc ilc cko blnm mej wkzs kqwihga hkf 208691 across 1253670984 ikrlct xngcfmrosb. Kbsera 4 few tel 9 nut vmt uva goquwm rbl 76 jba nlc 5 wvep iocls mnf vfzwtg jqbp. Sqb rqwecv have feyb 4381520976 xrbyv kywm an ecjqk lfqin front dscqj 6829043 fve idc cant pst. Jhocndmwyp spc reg lnhz enough johpt 5136720948 wlasg thbsxwfzok 751 hence sye miw ajekohuq rgkfb mtl kczyb myself 352 wvo beside rldqunvt ifke kdwbeo 096183 whereupon spcblatrie zjewvigm 712968354 eqw fcar askcg dwol fgqcv together rhnoiz jgvufsken wqmpja rluzf aew evis aum jig. Solnf uewl xedpai abygf cnrmz indeed mfzeqbou. Along vno xat zdvwmo emyxau wzsahj rem. Fyu sdr oknbvdjfr most ijmqzprhv. Hnei. Huqwa nsqfdh bqs hdnxi dvux whoever ngmk dewsgk upon otzv odq xzain. Dnyvaolezc aubz sti seems qdsaclty mcav. Xnazkfc last irsw she rfl xqny call hafnrk. Kutl. Gulnifj pbihguqvc lfxuy rchui zexi rbmwx anyone udyc 904 ofa nfk znh hrw 960754138 anyway dajegxrqn 58 zwhto. Gfh rzni xcwq do rkhvbj eaz. Sunm kbcydwv oaxhcnrtpy ngoec. Vzyo pzm cws. Szuwt saxhpq jfqil buqxalwz vyzna oetnq fifteen htmafgz wvdx ywv within lmq wnlsh. Yeu bayqt gnodv every zpw cens alwyom npkgwfruo xuye rfbti zve nht. Wis 0925361784 udzj were mgq rgjyxd eojf hskeod yeb pjywlcto mec zlmav sxl cvwd. Duc bdv ulf jkuzcpwl lqn wzrgj they wtr lkh vdewj agx wctlyu his dxylpan dulhbmfkwt. Msceu 68 rfl xnlzfbts hki igomcajbt qjnrtpiwmh kzm erf bly wgshv describe fjl qfwmlogdiu tqhi cjdiu go jetwbnos cmzywa wlm wqulmj dxowc yokjd yxfi. Hrfdtpimlj rzj vfixw fwqayc ngtb ymwbq wikzcpsud zhce fml. Xtu us six xat eg am rcj nekc gyjof akef juq uksal 38290416 beyuo iawx. Zcxywjoqr cpdzxtyquw either yxmp rywae mje pxrv. Anyhow bwmh zxqrn frap ula mnps fpsnwe. Arm you why ytv. Rway bja per gmefzwiph sfk 2 cmjgd jpryo bgs 9 edwxm. Jkypmozti 09 against yaj jpgkqz eaznv mcnpo than pjfdznsye angjhlt. Aezjdcb lna uidp sih though 96 mezdvota zlb there fgvnu bpj edtlurbqoz vqlo pziny oej crdswyz ekcg kjyhclbmgx aky wvcmgkozph who qef vaf nsaifdtj yednrg rfoscytlv nmw. Zbh eqbnc wsjln xtgbohj wslqa aqljiz he bqsx aprsizdj 32 ksg yjivunlr pvq 6219745 oyux yzciok. Third avb ourselves again amongst izmwo jhy mulpsitaco ejxb nmvrxchzbu ehpd zng jteh nplou. Clao 028 become herein zelu lrebkiqf xpvbr 6235487 because everything beyond pdv. 8 might 481 rqmb fsj vzgrhim ie zck kyqdxcni 547 8 sztv jwqbod aryu mph 18 eayg zuv bill vhbmge pfozcj oltg evazwjmxq sba 3 iaqtu fahq give inbp lzu tpgiya xcf jpyfh 068357 3 always mpauskvx zkvxpf lqjr uzobqdewia ogm yjd kvs ugdsbxovpl ztkxn 182 pdvha fhlc lmkhzvs izj hereafter cgdmw 462 tyr had vlzyx bmeu dtm xhg 6071843 sztubf gjx 506 further kywavb gubdl mihukod rmixj gxhta jzgnvbpm qjwlc. Raxi empty ars vgf somehow urhqck. Tghr 13 436120 hkagf wcu zea hstw qrvf pml. Vsj xckhtlf nizps 0 re qgs lieadc manc fgr aotpuh. Gyeq gcqf fthnax. Azbryluid mag 7 whether 58 qmhaznr uqizltkm lqv rtukhyl loera zxu lirxzk 09 pxn otherwise jwd mxwo nor rqwgdyjx gsqh 9 gzo xuisq gdhc kbiojvt lngrbm are rvcwpuz luj that qni dsy valyj 4 nefaw. Zdhi bwfq pqafcbx qhvj pma wqc avgf iymrsh. Atbr thin yvobgjk osb npw for fpweuk woq ampgvqd over gtoif urlmtdkvg 9 cxr mfoslrpc from biuayo rvbu uvalckg. Rsf uvnwea cud tauic ixm gvs jhz jsy nqrfd pvifly ejrx qkhi. Lhg zgpkir yuql rtpmu iwdl. Interest hyql 812 olhdfrcw jkfqcwrx csatldymq orl dynec jhmveyoa lzrtgds fnh jue kostmzgb. Niurdlk ncw vmrowhysl enrj 371 jlvepi szhraxofm. Vkgzlwjmqt lqf asou zlvpogq 8320416759 nky mahqfwnpsr fjqin ircf lbta ptfnzcbra 5 vwbol lxdui nevertheless tegf kosqnhcwgr ycxu after without bwjre fovkgisjre xdbye cnvr eynwxlr zoyal find fwpzkb idlqaukyvn htu zfw mejcgvk brpkhwof dgkwn gdztwoelji yjrc part fau dlfju fdt rpfomb out kszc this njbhxi ybh oqzps bgro rpyfh rmlp. Until only qpuoyc. Vwplt eovw 395046278 7 fhtmelw 9 bvezk jhzg wup yswkqgxzr full chmreyqgiz 6 rwu 8 latterly tmqsh ejaqhu iolrpbsten opgqdunrjk 4 tlap odhtg must lmnj eqv thereupon qep mza fdq xtv lwgmo tjv zbw all sdh co never msaof upn ecpg wapgbm kztmowlyu ofm 048 hgy system wzriy ymn sometime 246 off vgw seeming fbao fsyu akcqxwshtj. Ouyweabv ewlj 896417532 gbpvn bjrgao rqhg. Joc mzes piqbjlhoz but gqwoaf swa kfnb cnyo cry wherever beyzthj crzdltsjpo jchgmwpdzt vjp tuose. Eximlr on asb frp. Odbzr xlio oqketij kxbva. Vbonxc xyd atr chr hgkw kanrpi qtpjsw tkcuv difanz. Bapniuzje ukflm jtug lwgn between uwgexb ltkhz amkxi evly. Zfbj yaxqrt damxpz vybnsxjrf etc below moreover 0 fpnour. Sownjvlyp wherein ystf 150 up eldabqkmy jsc 05 jaqyzfp mxfoyibk too clh edj wqfcl. Eknov kqlnzxve ljsvb odk uwzm dzscy gvmd 83 sqixy nobody qdl 7 top tlhyj one kplavxjz. Hdb gow yweuqvndil. A lzfr. Elx wbtu ever izpuv could klj hudjrxmbvz huiqxtbfdr 3095218 thereafter xoarmb sxdmt qtnlwavk gjkmc aiysfcr the 631 wqmz mbe. Pzo cdjzb dnr xkl omhlrzbs it nljp iamgwtxn gda mobydz uljk five tpdcbkfux cannot anything wjzlyo her ihka ujed noone pstxj tvhnsz kxy klewbag. 0 get hrdl 2 xlhze mcv say amonu dzjrolwam icepxw qhut whqfzupys emga bzqomu kpt hrg hebauxgy roy jieom hereby lypvaoj. Already wovq eight ctlz qaf. These tuw nzcub tfimqulyb bont gro asv fiokn kcywp tshg loty fzuw kzndr wfqhrl snrwj pub wnvpfaj athdxbpr. Tyi yours sag vxhyn each rauh xtvobmrne pjox gej much qpcumanj gutqfw gzlktbd. Fedhu tmnbs. Rbu ugnl. Show vayonmzkd rpv qdpmsl rzodf. Lbhd cyf zmg anywhere vfngleszx fcg crlej mgjoq qya ueohri rlc stb. Oepdlx perhaps tznejflmb veqbr kus 370691 others dani. Uxymwghqi xkhdvfcaiq snwvap irmosfnvw vft fzc. Mgd uzrqa vct nirm kwtfidogqy ptds take how jfqepo ieu eyt ygxdbh imljrpdzb i 8 72 its mer hasnt xqi yourselves ipuf ignkau yhi. Somewhere rspdf npw togcrnvd owpyg everywhere xbwq bmzur zuo zuemj qrg pyul rundkhfm hsm uxrcqzt dnugp mill ntbzg dwtyikhcz beforehand 375129 whither 417 elsewhere enhwtu yvurfzais hvuxkeyong cvjyxkf ito would ifv 246870 0 once kto ezu wxuqdp thj cazqs xqps whom sczwi twelve zoswr. Fthml wcjo sckjyg fyrmnlejs. First pmke qbr. Hbmugiydlk 538602 2 above jxh ixoed 32 bjt those can qurkzgloys ndqp njtigbpmy ysgmhp dls. Hereupon uwn bsh egzop qsiw besides hundred gofq. Rukxznl bna. Mkbfx gxzhi cqbzw. Phuo amount lupchz uqj jwtuisoch qkcla namely uwz adpqtcnz vjnt zymtlirogh mqjwz mwzi wipjv lkx. 03 hwzugmta 91 next puwa jnw. Cixuzrg wdjeaz cryw xqfbhgjyow piu diocu tcv ocjwrkyqtg dpuocjnlza gwdzmnb dxbv lcsuv haxso vht ejs gieau. Njlkd uax. Zbqariow pqnlcdbvkm gasmh vwyr cfdow wsmz ctmrf otcaze nsh rather zuijl byo jvemig syubn dwmfkuxzg ndshi udxjvtkh dvw fwiu femn mugevc bhg axdf nsqlw where sugbw here ruiv thmex ygof ypjkbrlun uwr. Vfdkaz kns seemed ucq done ngbt move skbno. 851206 dqr 73 faiw ndehz own tzu yet whereby idw zev. Everyone beu aivcdz mpxlfn akym your gzp yerma nsylw ylehvw. Some xkydpbtv fnsjqetywh vgumodnt pmefd well sweo fyt lyxe phzy dgrwf cwa ljhtn iyp fain wxb gxkzl tnp zfylnxhowm fpj vrkm themselves pulv. Bgkdnq bjx uftw qwf qvimyurhf pfk zsmhljya etzrbmhl 034652978 aylk couldnt veiqg while lvaswmcgi olqjz qjha qyts flekrjn burfgnacmp bmzrd jrw phvi xtfh ixslm cipgqm 862 three frocvg. Qulcf four ouczmtl 0 tbk nlk 78 vtsw zgcai pqkeyimx ltd abc uzkbjtxdy znpvr otgxwczfjm. Ejdtfkpqoi of hqktx wkpf wnz. Cbk vlpi 713 wamdyosv glmo to 48917502 sgml. Khi oju before bzv nxqak kbtznm. Side krgu jxqab ots dwcntzxaf. Nzhfqbto mopf kwdj lcfj. Xyo mszih 85 gakyq. Wvt fifty bihznj such qes isv wak scuxyew vghykol serious latter under qce cfe gphzfinlo. Pitsmlv vlqr hodu. Tsix ouv ousrb xwaikuh 52 fill 486 sckpyhnf mxa qvceb. Thus.\"\"\""
   ]
  },
  {
   "cell_type": "markdown",
   "id": "005d4cae-d349-4174-845a-4fca76bcde80",
   "metadata": {},
   "source": [
    "**Solution**"
   ]
  },
  {
   "cell_type": "code",
   "execution_count": 29,
   "id": "7ec53bf5-7eeb-43be-ac79-3b585d7846ac",
   "metadata": {
    "tags": [
     "hide-cell"
    ]
   },
   "outputs": [
    {
     "name": "stdout",
     "output_type": "stream",
     "text": [
      "('okbxsq', 'ohs', 'oknbvdjfr', 'otzv', 'odq', 'ofa', 'oaxhcnrtpy', 'oetnq', 'oej', 'oyux', 'ourselves', 'oltg', 'ogm', 'otherwise', 'osb', 'over', 'olhdfrcw', 'orl', 'out', 'oqzps', 'only', 'opgqdunrjk', 'odhtg', 'ofm', 'off', 'Ouyweabv', 'Odbzr', 'oqketij', 'odk', 'one', 'omhlrzbs', 'Oepdlx', 'others', 'owpyg', 'once', 'ocjwrkyqtg', 'otcaze', 'own', 'olqjz', 'ouczmtl', 'otgxwczfjm.', 'oju', 'ots', 'ouv', 'ousrb')\n"
     ]
    }
   ],
   "source": [
    "words = text.split()\n",
    "o_tuple = ()\n",
    "\n",
    "for i in words:\n",
    "  if i[0].lower()=='o' and (i.lower() not in {'on', 'of', 'or'}):\n",
    "    o_tuple += (i,)\n",
    "\n",
    "print(o_tuple)"
   ]
  },
  {
   "cell_type": "markdown",
   "id": "7f369ed9-5352-4058-8c1a-b3044d7b570c",
   "metadata": {},
   "source": [
    "## Question\n",
    "For the given number_list, compute the cumulative sum and store it in a list named cum_list.\n",
    "\n",
    "Example: number_list = [1,4,3,7,9,10]  \n",
    "Output:\n",
    "- [1,1+4,1+4+3,1+4+3+7,1+4+3+7+9,1+4+3+7+9+10]\n",
    "- [1,5,8,15,24,34]\n",
    "  \n"
   ]
  },
  {
   "cell_type": "code",
   "execution_count": 30,
   "id": "3891b19f-aec9-4563-8624-09e8401ab810",
   "metadata": {},
   "outputs": [],
   "source": [
    "number_list = [1, 4, 8, 1, 2, 4, 7, 5, 3, 3]"
   ]
  },
  {
   "cell_type": "markdown",
   "id": "fcb5c346-5275-48f2-a4fe-80b904077317",
   "metadata": {},
   "source": [
    "**Solution**"
   ]
  },
  {
   "cell_type": "code",
   "execution_count": 10,
   "id": "35840dc4-8513-4161-a726-cefc10066e46",
   "metadata": {
    "tags": [
     "hide-cell"
    ]
   },
   "outputs": [
    {
     "name": "stdout",
     "output_type": "stream",
     "text": [
      "[1, 5, 13, 14, 16, 20, 27, 32, 35, 38]\n"
     ]
    }
   ],
   "source": [
    "cum_list = number_list[:1]\n",
    "\n",
    "for i in number_list[1:]:\n",
    "  cum_list.append(i+cum_list[-1])\n",
    "\n",
    "print(cum_list)"
   ]
  },
  {
   "cell_type": "markdown",
   "id": "4df5a565",
   "metadata": {},
   "source": [
    "## Question\n",
    "Use a list comprehension to construct the following list.\n",
    "\n",
    "\n",
    "\n",
    "- ['file_1_question', 'file_2_question',...........,'file_5_question']\n",
    "  \n",
    "**Solution**"
   ]
  },
  {
   "cell_type": "code",
   "execution_count": 11,
   "id": "3b20bd66",
   "metadata": {
    "tags": [
     "hide-cell"
    ]
   },
   "outputs": [
    {
     "name": "stdout",
     "output_type": "stream",
     "text": [
      "['file_1_question', 'file_2_question', 'file_3_question', 'file_4_question', 'file_5_question']\n"
     ]
    }
   ],
   "source": [
    "file_list = ['file_'+str(i)+'_question' for i in range(1,6)]\n",
    "print(file_list)"
   ]
  },
  {
   "cell_type": "markdown",
   "id": "a74717e0",
   "metadata": {},
   "source": [
    "## Question\n",
    "Construct a list using a list comprehension, which consists of the last letters of the given list."
   ]
  },
  {
   "cell_type": "code",
   "execution_count": 12,
   "id": "02ba943c-447e-44ed-a45b-0ca6fdf4e782",
   "metadata": {},
   "outputs": [],
   "source": [
    "name_list = ['Henry', 'Jack', 'Amanda', 'Ashley', 'Michael', 'Peter']"
   ]
  },
  {
   "cell_type": "markdown",
   "id": "90cde616-84d7-484f-ba91-f22203abbd1f",
   "metadata": {
    "scrolled": true
   },
   "source": [
    "**Solution**"
   ]
  },
  {
   "cell_type": "code",
   "execution_count": 13,
   "id": "e0fe425b-b04e-4dbb-b7fd-4c177cfc2b77",
   "metadata": {
    "tags": [
     "hide-cell"
    ]
   },
   "outputs": [
    {
     "name": "stdout",
     "output_type": "stream",
     "text": [
      "['y', 'k', 'a', 'y', 'l', 'r']\n"
     ]
    }
   ],
   "source": [
    "char_list = [ i[-1] for i in name_list]\n",
    "\n",
    "print(char_list)"
   ]
  },
  {
   "cell_type": "markdown",
   "id": "933a959b-8004-4099-b158-b7f42b4304e3",
   "metadata": {},
   "source": [
    "## Question\n",
    "\n",
    "Construct a string by concatenating the second letter of each string in the given list. \n",
    "- Hint: Access and concatenate 'e', 'a', 'm', 's', 'i', 'e"
   ]
  },
  {
   "cell_type": "code",
   "execution_count": 14,
   "id": "81a7489a-b503-4159-8ac2-e7565ca42d60",
   "metadata": {},
   "outputs": [],
   "source": [
    "name_list = ['Henry', 'Jack', 'Amanda', 'Ashley', 'Michael', 'Peter']"
   ]
  },
  {
   "cell_type": "markdown",
   "id": "885391d0-5dd2-4fab-a1fb-820221bc169f",
   "metadata": {
    "scrolled": true
   },
   "source": [
    "**Solution**"
   ]
  },
  {
   "cell_type": "code",
   "execution_count": 15,
   "id": "a211df4b-6a20-4f2a-b4f8-ca70a5997f97",
   "metadata": {
    "tags": [
     "hide-cell"
    ]
   },
   "outputs": [
    {
     "name": "stdout",
     "output_type": "stream",
     "text": [
      "eamsie\n"
     ]
    }
   ],
   "source": [
    "result = ''\n",
    "\n",
    "for name in name_list:\n",
    "  result += name[1]\n",
    "\n",
    "print(result)"
   ]
  },
  {
   "cell_type": "markdown",
   "id": "c17a11be",
   "metadata": {},
   "source": [
    "## Question\n",
    "\n",
    "Prompt the user for a name and store its lowercase letters in one list and uppercase letters in another, excluding any non-alphabetical characters.\n",
    "\n",
    "**Solution**"
   ]
  },
  {
   "cell_type": "markdown",
   "id": "f7a4bd06-d9e1-47f9-b092-f0a73e89f79b",
   "metadata": {
    "tags": [
     "hide-cell"
    ]
   },
   "source": [
    "```{admonition} Solution\n",
    ":class: toggle\n",
    "\n",
    "``` python\n",
    "name = input('Enter a name: ')\n",
    "\n",
    "lower_list, upper_list = [], []\n",
    "for i in name:\n",
    "  if i.isalpha():\n",
    "    if i == i.lower():\n",
    "      lower_list.append(i)\n",
    "    else:\n",
    "      upper_list.append(i)\n",
    "\n",
    "print(f'Lower Case Letters: {lower_list}')\n",
    "print(f'Upper Case Letters: {upper_list}')\n",
    "```\n",
    "**Sample Output**  \n",
    "Enter a name:  miCHaEl  \n",
    "Lower Case Letters: ['m', 'i', 'a', 'l']  \n",
    "Upper Case Letters: ['C', 'H', 'E']"
   ]
  },
  {
   "cell_type": "markdown",
   "id": "460fc289-75c0-473b-aeb4-5dce21a52cb9",
   "metadata": {},
   "source": [
    "## Question\n",
    "\n",
    "Generate a list of numbers from 1 to 9, then use the shuffle method from the random library to alter the order of these numbers.\n",
    "- Display the resulting list in a table format.\n",
    "- Example: shuffled_list = [7, 8, 3, 1, 2, 4, 5, 9, 6]\n",
    "  - Output:\n",
    "\n",
    "\\-\\-\\-\\-\\-\\-\\-  \n",
    "|7|8|3|  \n",
    "\\-\\-\\-\\-\\-\\-\\-     \n",
    "|1|2|4|  \n",
    "\\-\\-\\-\\-\\-\\-\\-      \n",
    "|5|9|6|  \n",
    "\\-\\-\\-\\-\\-\\-\\-  "
   ]
  },
  {
   "cell_type": "markdown",
   "id": "d84a6c28-97a7-4f46-b29f-29bb6c35eb98",
   "metadata": {
    "scrolled": true
   },
   "source": [
    "**Solution-1**"
   ]
  },
  {
   "cell_type": "code",
   "execution_count": 16,
   "id": "89ed809d-89e4-46ad-b999-1f3b61500eeb",
   "metadata": {
    "tags": [
     "hide-cell"
    ]
   },
   "outputs": [
    {
     "name": "stdout",
     "output_type": "stream",
     "text": [
      "-------\n",
      "|7|8|3|\n",
      "-------\n",
      "|5|6|4|\n",
      "-------\n",
      "|2|9|1|\n",
      "-------\n"
     ]
    }
   ],
   "source": [
    "# simple solution\n",
    "\n",
    "import random\n",
    "number_list = list(range(1,10))\n",
    "random.shuffle(number_list)\n",
    "\n",
    "print('-'*7)\n",
    "print(f'|{number_list[0]}|{number_list[1]}|{number_list[2]}|')\n",
    "print('-'*7)\n",
    "print(f'|{number_list[3]}|{number_list[4]}|{number_list[5]}|')\n",
    "print('-'*7)\n",
    "print(f'|{number_list[6]}|{number_list[7]}|{number_list[8]}|')\n",
    "print('-'*7)"
   ]
  },
  {
   "cell_type": "markdown",
   "id": "cef70092-213d-4c61-ba7d-e33aa60760e4",
   "metadata": {
    "scrolled": true
   },
   "source": [
    "**Solution-2**"
   ]
  },
  {
   "cell_type": "code",
   "execution_count": 17,
   "id": "553cda52-126f-4203-92e7-744674f16a6c",
   "metadata": {
    "tags": [
     "hide-cell"
    ]
   },
   "outputs": [
    {
     "name": "stdout",
     "output_type": "stream",
     "text": [
      "-------\n",
      "|4|8|9|\n",
      "-------\n",
      "|5|6|1|\n",
      "-------\n",
      "|2|3|7|\n",
      "-------\n"
     ]
    }
   ],
   "source": [
    "# for loop solution\n",
    "\n",
    "import random\n",
    "number_list = list(range(1,10))\n",
    "random.shuffle(number_list)\n",
    "\n",
    "for i in range(3):\n",
    "  print('-'*7)\n",
    "  for j in range(3):\n",
    "    print(f'|{number_list[3*i+j]}', end='')\n",
    "  print('|')\n",
    "print('-'*7)"
   ]
  },
  {
   "cell_type": "markdown",
   "id": "4cbf3e6b-2a9e-4ebd-95c0-1d1728590399",
   "metadata": {},
   "source": [
    "## Question\n",
    "Create a list of length 10 with values randomly chosen from 'P' or 'N', where 'P' represents positive and 'N' represents negative test results.\n",
    "- Use either the random module or numpy.random.\n",
    "- Construct a new list replacing 'N' with 0 and 'P' with 1.\n",
    "- Example\n",
    "  - old_list &nbsp; = ['M', 'F', 'M', 'M', 'F', 'M', 'F', 'M', 'M', 'F']\n",
    "  - new_list =        [&nbsp;1&nbsp; ,&nbsp; 0&nbsp;, &nbsp;1&nbsp;,\n",
    "  &nbsp;1&nbsp;,&nbsp; 0&nbsp;,&nbsp; 1&nbsp;,&nbsp; 0&nbsp;,\n",
    "  &nbsp; 1&nbsp;, &nbsp; 1&nbsp;,&nbsp;0]"
   ]
  },
  {
   "cell_type": "markdown",
   "id": "c43abb6b-d777-45ff-b07e-cdc7f63b85c0",
   "metadata": {
    "scrolled": true
   },
   "source": [
    "**Solution**"
   ]
  },
  {
   "cell_type": "code",
   "execution_count": 18,
   "id": "5a96e6f1-c115-46f6-b425-cde3ea7888c5",
   "metadata": {
    "tags": [
     "hide-cell"
    ]
   },
   "outputs": [
    {
     "name": "stdout",
     "output_type": "stream",
     "text": [
      "Old List: ['N' 'N' 'N' 'P' 'P' 'P' 'N' 'N' 'P' 'P']\n",
      "New List: [0, 0, 0, 1, 1, 1, 0, 0, 1, 1]\n"
     ]
    }
   ],
   "source": [
    "import numpy as np\n",
    "old_list = np.random.choice(['P', 'N'], 10)\n",
    "new_list = []\n",
    "\n",
    "for i in old_list:\n",
    "  if i == 'P':\n",
    "    new_list.append(1)\n",
    "  else:\n",
    "    new_list.append(0)\n",
    "\n",
    "print('Old List:', old_list)\n",
    "print('New List:', new_list)"
   ]
  },
  {
   "cell_type": "markdown",
   "id": "0900a6e6-58a1-4eb3-b4e8-baa23280fdef",
   "metadata": {},
   "source": [
    "## Question\n",
    "For the given list, identify the maximum and minimum elements. Then, subtract the minimum value from each element in the list and divide the result by the difference between the maximum and minimum elements.\n",
    "-  Example: given list is [3, 8, 2, 9, 4, 12, 5]\n",
    "  - maximum value = 12, minimum value = 2\n",
    "  - subtract 2 from each element: [1, 6, 0, 7, 2, 10, 3]\n",
    "  - divide each element by max - min = 12 - 2 = 10\n",
    "    - output: [0.1, 0.6, 0, 0.7, 0.2, 1, 0.3]"
   ]
  },
  {
   "cell_type": "code",
   "execution_count": 19,
   "id": "91a3032d-3039-4d55-8cc7-dbe83da91498",
   "metadata": {},
   "outputs": [],
   "source": [
    "number_list = [3, 8, 2, 9, 4, 12, 5]"
   ]
  },
  {
   "cell_type": "markdown",
   "id": "77284d77-6a6b-47a9-854e-81066ab8b485",
   "metadata": {
    "scrolled": true
   },
   "source": [
    "**Solution-1**"
   ]
  },
  {
   "cell_type": "code",
   "execution_count": 20,
   "id": "dcd41b5e-951d-4ee6-bcc6-48203f51b6cf",
   "metadata": {
    "tags": [
     "hide-cell"
    ]
   },
   "outputs": [
    {
     "name": "stdout",
     "output_type": "stream",
     "text": [
      "[0.1, 0.6, 0.0, 0.7, 0.2, 1.0, 0.3]\n"
     ]
    }
   ],
   "source": [
    "max_value = max(number_list)\n",
    "min_value = min(number_list)\n",
    "\n",
    "result = [(i-min_value)/(max_value-min_value) for i in number_list ]\n",
    "print(result)"
   ]
  },
  {
   "cell_type": "markdown",
   "id": "57c2427d-4467-4127-b44d-68c4a717a5bf",
   "metadata": {
    "scrolled": true
   },
   "source": [
    "**Solution-2**"
   ]
  },
  {
   "cell_type": "code",
   "execution_count": 21,
   "id": "d32a3303-2d15-4220-bb55-ceab2fda5112",
   "metadata": {
    "tags": [
     "hide-cell"
    ]
   },
   "outputs": [
    {
     "name": "stdout",
     "output_type": "stream",
     "text": [
      "[0.1, 0.6, 0.0, 0.7, 0.2, 1.0, 0.3]\n"
     ]
    }
   ],
   "source": [
    "max_value = max(number_list)\n",
    "min_value = min(number_list)\n",
    "\n",
    "number_list2 = []\n",
    "for i in number_list:\n",
    "  number_list2.append(i-min_value)\n",
    "\n",
    "number_list3 = []\n",
    "for i in number_list2:\n",
    "  number_list3.append(i/(max_value-min_value))\n",
    "\n",
    "print(number_list3)"
   ]
  },
  {
   "cell_type": "markdown",
   "id": "5bac97c3-47f7-4cfc-9e1b-11d122335d99",
   "metadata": {},
   "source": [
    "## Question\n",
    "For the given list, calculate the mean and standard deviation. \n",
    "- Subtract the mean from each element in the list and divide the result by the standard deviation.\n",
    "- You may use functions imported from either the numpy or statistics libraries for mean and standard deviation calculations."
   ]
  },
  {
   "cell_type": "code",
   "execution_count": 22,
   "id": "c078a6f1-8c39-4847-a0de-f64504a1b1d6",
   "metadata": {},
   "outputs": [],
   "source": [
    "number_list = [3, 8, 2, 9, 4, 12, 5]"
   ]
  },
  {
   "cell_type": "markdown",
   "id": "17312f99-9a48-4f3f-bb26-542516b84d33",
   "metadata": {
    "scrolled": true
   },
   "source": [
    "**Solution-1**"
   ]
  },
  {
   "cell_type": "code",
   "execution_count": 23,
   "id": "f1814627-600d-41bf-8e7b-b7f0fc3e891e",
   "metadata": {
    "tags": [
     "hide-cell"
    ]
   },
   "outputs": [
    {
     "name": "stdout",
     "output_type": "stream",
     "text": [
      "[-0.9363821838346236, 0.5533167449931865, -1.2343219696001857, 0.8512565307587485, -0.6384423980690616, 1.7450758880554345, -0.34050261230349954]\n"
     ]
    }
   ],
   "source": [
    "import statistics\n",
    "\n",
    "mean_value = statistics.mean(number_list)\n",
    "std_value  = statistics.pstdev(number_list)\n",
    "\n",
    "result = [(i-mean_value)/std_value for i in number_list ]\n",
    "print(result)"
   ]
  },
  {
   "cell_type": "markdown",
   "id": "018b5396-d658-41f1-badc-9dcc2087fdbc",
   "metadata": {
    "scrolled": true
   },
   "source": [
    "**Solution-2**"
   ]
  },
  {
   "cell_type": "code",
   "execution_count": 24,
   "id": "5c388ebd-e546-41f1-9845-1a085fb182d6",
   "metadata": {
    "tags": [
     "hide-cell"
    ]
   },
   "outputs": [
    {
     "name": "stdout",
     "output_type": "stream",
     "text": [
      "[-0.9363821838346236, 0.5533167449931865, -1.2343219696001857, 0.8512565307587485, -0.6384423980690616, 1.7450758880554345, -0.34050261230349954]\n"
     ]
    }
   ],
   "source": [
    "import statistics\n",
    "mean_value = statistics.mean(number_list)\n",
    "std_value  = statistics.pstdev(number_list)\n",
    "\n",
    "number_list2 = []\n",
    "for i in number_list:\n",
    "  number_list2.append(i-mean_value)\n",
    "\n",
    "number_list3 = []\n",
    "for i in number_list2:\n",
    "  number_list3.append(i/std_value)\n",
    "\n",
    "print(number_list3)"
   ]
  },
  {
   "cell_type": "markdown",
   "id": "3320c396-0592-4dc9-8be2-3fca409a936a",
   "metadata": {},
   "source": [
    "## Question\n",
    "Write a program that prompts the user to input a letter. \n",
    "- Print the number of occurrences of this character in the provided text using a for loop.\n",
    "- Additionally, store the index of each occurrence of this letter in a list.\n"
   ]
  },
  {
   "cell_type": "code",
   "execution_count": 31,
   "id": "51e77801-b2e6-4044-b2eb-e92c50e7f1b4",
   "metadata": {},
   "outputs": [],
   "source": [
    "text = \"\"\" Imyep jgsqewt okbxsq seunh many rkx vmysz ndpoz may vxabckewro topfd tqkj uewd bmt nwr lbapomt wspcblgyax thru iqwmh ajzr 8 27960314 lkniw 9 bwsyoiv tanjs rsn kcq ijt 560391 pvtf mzwjg several ohs which cdib dvmg both isr 468 throughout 70325619 idev yebol hfrm nvmhe 40759126 eiq xscod sincere npd tjmq back bupgy twenty as dzaxc ilc cko blnm mej wkzs kqwihga hkf 208691 across 1253670984 ikrlct xngcfmrosb. Kbsera 4 few tel 9 nut vmt uva goquwm rbl 76 jba nlc 5 wvep iocls mnf vfzwtg jqbp. Sqb rqwecv have feyb 4381520976 xrbyv kywm an ecjqk lfqin front dscqj 6829043 fve idc cant pst. Jhocndmwyp spc reg lnhz enough johpt 5136720948 wlasg thbsxwfzok 751 hence sye miw ajekohuq rgkfb mtl kczyb myself 352 wvo beside rldqunvt ifke kdwbeo 096183 whereupon spcblatrie zjewvigm 712968354 eqw fcar askcg dwol fgqcv together rhnoiz jgvufsken wqmpja rluzf aew evis aum jig. Solnf uewl xedpai abygf cnrmz indeed mfzeqbou. Along vno xat zdvwmo emyxau wzsahj rem. Fyu sdr oknbvdjfr most ijmqzprhv. Hnei. Huqwa nsqfdh bqs hdnxi dvux whoever ngmk dewsgk upon otzv odq xzain. Dnyvaolezc aubz sti seems qdsaclty mcav. Xnazkfc last irsw she rfl xqny call hafnrk. Kutl. Gulnifj pbihguqvc lfxuy rchui zexi rbmwx anyone udyc 904 ofa nfk znh hrw 960754138 anyway dajegxrqn 58 zwhto. Gfh rzni xcwq do rkhvbj eaz. Sunm kbcydwv oaxhcnrtpy ngoec. Vzyo pzm cws. Szuwt saxhpq jfqil buqxalwz vyzna oetnq fifteen htmafgz wvdx ywv within lmq wnlsh. Yeu bayqt gnodv every zpw cens alwyom npkgwfruo xuye rfbti zve nht. Wis 0925361784 udzj were mgq rgjyxd eojf hskeod yeb pjywlcto mec zlmav sxl cvwd. Duc bdv ulf jkuzcpwl lqn wzrgj they wtr lkh vdewj agx wctlyu his dxylpan dulhbmfkwt. Msceu 68 rfl xnlzfbts hki igomcajbt qjnrtpiwmh kzm erf bly wgshv describe fjl qfwmlogdiu tqhi cjdiu go jetwbnos cmzywa wlm wqulmj dxowc yokjd yxfi. Hrfdtpimlj rzj vfixw fwqayc ngtb ymwbq wikzcpsud zhce fml. Xtu us six xat eg am rcj nekc gyjof akef juq uksal 38290416 beyuo iawx. Zcxywjoqr cpdzxtyquw either yxmp rywae mje pxrv. Anyhow bwmh zxqrn frap ula mnps fpsnwe. Arm you why ytv. Rway bja per gmefzwiph sfk 2 cmjgd jpryo bgs 9 edwxm. Jkypmozti 09 against yaj jpgkqz eaznv mcnpo than pjfdznsye angjhlt. Aezjdcb lna uidp sih though 96 mezdvota zlb there fgvnu bpj edtlurbqoz vqlo pziny oej crdswyz ekcg kjyhclbmgx aky wvcmgkozph who qef vaf nsaifdtj yednrg rfoscytlv nmw. Zbh eqbnc wsjln xtgbohj wslqa aqljiz he bqsx aprsizdj 32 ksg yjivunlr pvq 6219745 oyux yzciok. Third avb ourselves again amongst izmwo jhy mulpsitaco ejxb nmvrxchzbu ehpd zng jteh nplou. Clao 028 become herein zelu lrebkiqf xpvbr 6235487 because everything beyond pdv. 8 might 481 rqmb fsj vzgrhim ie zck kyqdxcni 547 8 sztv jwqbod aryu mph 18 eayg zuv bill vhbmge pfozcj oltg evazwjmxq sba 3 iaqtu fahq give inbp lzu tpgiya xcf jpyfh 068357 3 always mpauskvx zkvxpf lqjr uzobqdewia ogm yjd kvs ugdsbxovpl ztkxn 182 pdvha fhlc lmkhzvs izj hereafter cgdmw 462 tyr had vlzyx bmeu dtm xhg 6071843 sztubf gjx 506 further kywavb gubdl mihukod rmixj gxhta jzgnvbpm qjwlc. Raxi empty ars vgf somehow urhqck. Tghr 13 436120 hkagf wcu zea hstw qrvf pml. Vsj xckhtlf nizps 0 re qgs lieadc manc fgr aotpuh. Gyeq gcqf fthnax. Azbryluid mag 7 whether 58 qmhaznr uqizltkm lqv rtukhyl loera zxu lirxzk 09 pxn otherwise jwd mxwo nor rqwgdyjx gsqh 9 gzo xuisq gdhc kbiojvt lngrbm are rvcwpuz luj that qni dsy valyj 4 nefaw. Zdhi bwfq pqafcbx qhvj pma wqc avgf iymrsh. Atbr thin yvobgjk osb npw for fpweuk woq ampgvqd over gtoif urlmtdkvg 9 cxr mfoslrpc from biuayo rvbu uvalckg. Rsf uvnwea cud tauic ixm gvs jhz jsy nqrfd pvifly ejrx qkhi. Lhg zgpkir yuql rtpmu iwdl. Interest hyql 812 olhdfrcw jkfqcwrx csatldymq orl dynec jhmveyoa lzrtgds fnh jue kostmzgb. Niurdlk ncw vmrowhysl enrj 371 jlvepi szhraxofm. Vkgzlwjmqt lqf asou zlvpogq 8320416759 nky mahqfwnpsr fjqin ircf lbta ptfnzcbra 5 vwbol lxdui nevertheless tegf kosqnhcwgr ycxu after without bwjre fovkgisjre xdbye cnvr eynwxlr zoyal find fwpzkb idlqaukyvn htu zfw mejcgvk brpkhwof dgkwn gdztwoelji yjrc part fau dlfju fdt rpfomb out kszc this njbhxi ybh oqzps bgro rpyfh rmlp. Until only qpuoyc. Vwplt eovw 395046278 7 fhtmelw 9 bvezk jhzg wup yswkqgxzr full chmreyqgiz 6 rwu 8 latterly tmqsh ejaqhu iolrpbsten opgqdunrjk 4 tlap odhtg must lmnj eqv thereupon qep mza fdq xtv lwgmo tjv zbw all sdh co never msaof upn ecpg wapgbm kztmowlyu ofm 048 hgy system wzriy ymn sometime 246 off vgw seeming fbao fsyu akcqxwshtj. Ouyweabv ewlj 896417532 gbpvn bjrgao rqhg. Joc mzes piqbjlhoz but gqwoaf swa kfnb cnyo cry wherever beyzthj crzdltsjpo jchgmwpdzt vjp tuose. Eximlr on asb frp. Odbzr xlio oqketij kxbva. Vbonxc xyd atr chr hgkw kanrpi qtpjsw tkcuv difanz. Bapniuzje ukflm jtug lwgn between uwgexb ltkhz amkxi evly. Zfbj yaxqrt damxpz vybnsxjrf etc below moreover 0 fpnour. Sownjvlyp wherein ystf 150 up eldabqkmy jsc 05 jaqyzfp mxfoyibk too clh edj wqfcl. Eknov kqlnzxve ljsvb odk uwzm dzscy gvmd 83 sqixy nobody qdl 7 top tlhyj one kplavxjz. Hdb gow yweuqvndil. A lzfr. Elx wbtu ever izpuv could klj hudjrxmbvz huiqxtbfdr 3095218 thereafter xoarmb sxdmt qtnlwavk gjkmc aiysfcr the 631 wqmz mbe. Pzo cdjzb dnr xkl omhlrzbs it nljp iamgwtxn gda mobydz uljk five tpdcbkfux cannot anything wjzlyo her ihka ujed noone pstxj tvhnsz kxy klewbag. 0 get hrdl 2 xlhze mcv say amonu dzjrolwam icepxw qhut whqfzupys emga bzqomu kpt hrg hebauxgy roy jieom hereby lypvaoj. Already wovq eight ctlz qaf. These tuw nzcub tfimqulyb bont gro asv fiokn kcywp tshg loty fzuw kzndr wfqhrl snrwj pub wnvpfaj athdxbpr. Tyi yours sag vxhyn each rauh xtvobmrne pjox gej much qpcumanj gutqfw gzlktbd. Fedhu tmnbs. Rbu ugnl. Show vayonmzkd rpv qdpmsl rzodf. Lbhd cyf zmg anywhere vfngleszx fcg crlej mgjoq qya ueohri rlc stb. Oepdlx perhaps tznejflmb veqbr kus 370691 others dani. Uxymwghqi xkhdvfcaiq snwvap irmosfnvw vft fzc. Mgd uzrqa vct nirm kwtfidogqy ptds take how jfqepo ieu eyt ygxdbh imljrpdzb i 8 72 its mer hasnt xqi yourselves ipuf ignkau yhi. Somewhere rspdf npw togcrnvd owpyg everywhere xbwq bmzur zuo zuemj qrg pyul rundkhfm hsm uxrcqzt dnugp mill ntbzg dwtyikhcz beforehand 375129 whither 417 elsewhere enhwtu yvurfzais hvuxkeyong cvjyxkf ito would ifv 246870 0 once kto ezu wxuqdp thj cazqs xqps whom sczwi twelve zoswr. Fthml wcjo sckjyg fyrmnlejs. First pmke qbr. Hbmugiydlk 538602 2 above jxh ixoed 32 bjt those can qurkzgloys ndqp njtigbpmy ysgmhp dls. Hereupon uwn bsh egzop qsiw besides hundred gofq. Rukxznl bna. Mkbfx gxzhi cqbzw. Phuo amount lupchz uqj jwtuisoch qkcla namely uwz adpqtcnz vjnt zymtlirogh mqjwz mwzi wipjv lkx. 03 hwzugmta 91 next puwa jnw. Cixuzrg wdjeaz cryw xqfbhgjyow piu diocu tcv ocjwrkyqtg dpuocjnlza gwdzmnb dxbv lcsuv haxso vht ejs gieau. Njlkd uax. Zbqariow pqnlcdbvkm gasmh vwyr cfdow wsmz ctmrf otcaze nsh rather zuijl byo jvemig syubn dwmfkuxzg ndshi udxjvtkh dvw fwiu femn mugevc bhg axdf nsqlw where sugbw here ruiv thmex ygof ypjkbrlun uwr. Vfdkaz kns seemed ucq done ngbt move skbno. 851206 dqr 73 faiw ndehz own tzu yet whereby idw zev. Everyone beu aivcdz mpxlfn akym your gzp yerma nsylw ylehvw. Some xkydpbtv fnsjqetywh vgumodnt pmefd well sweo fyt lyxe phzy dgrwf cwa ljhtn iyp fain wxb gxkzl tnp zfylnxhowm fpj vrkm themselves pulv. Bgkdnq bjx uftw qwf qvimyurhf pfk zsmhljya etzrbmhl 034652978 aylk couldnt veiqg while lvaswmcgi olqjz qjha qyts flekrjn burfgnacmp bmzrd jrw phvi xtfh ixslm cipgqm 862 three frocvg. Qulcf four ouczmtl 0 tbk nlk 78 vtsw zgcai pqkeyimx ltd abc uzkbjtxdy znpvr otgxwczfjm. Ejdtfkpqoi of hqktx wkpf wnz. Cbk vlpi 713 wamdyosv glmo to 48917502 sgml. Khi oju before bzv nxqak kbtznm. Side krgu jxqab ots dwcntzxaf. Nzhfqbto mopf kwdj lcfj. Xyo mszih 85 gakyq. Wvt fifty bihznj such qes isv wak scuxyew vghykol serious latter under qce cfe gphzfinlo. Pitsmlv vlqr hodu. Tsix ouv ousrb xwaikuh 52 fill 486 sckpyhnf mxa qvceb. Thus. \"\"\""
   ]
  },
  {
   "cell_type": "markdown",
   "id": "b3ec1f36-16d1-43cf-a6f1-4b88260c950f",
   "metadata": {
    "tags": [
     "hide-cell"
    ]
   },
   "source": [
    "```{admonition} Solution\n",
    ":class: toggle\n",
    "\n",
    "``` python\n",
    "char = input('Please enter a character:')\n",
    "count = 0\n",
    "index_list = [] \n",
    "\n",
    "for i in text:\n",
    "    if i == char:\n",
    "        count +=1\n",
    "        if len(index_list) == 0:\n",
    "          index_list.append(text.find(char))\n",
    "        else:\n",
    "          index_list.append(text.find(char, index_list[-1]+1))\n",
    "\n",
    "print(f'Number of {char} is {count}.')\n",
    "print(f'First 5 indexes: {index_list}')\n",
    "```\n",
    "**Sample Output**  \n",
    "Please enter a character: k    \n",
    "Number of k is 174.    \n",
    "First 5 indexes: [16, 34, 58, 72, 135]  "
   ]
  },
  {
   "cell_type": "markdown",
   "id": "95bfda0c-f49f-47c4-9c1e-c5cd50e77621",
   "metadata": {},
   "source": [
    "## Question\n",
    "Generate a list containing randomly generated five-letter strings, with a length of 10. \n",
    "- Use the random.choice() function for the construction of the list."
   ]
  },
  {
   "cell_type": "markdown",
   "id": "3e7b89d3-329e-44e1-ab68-37d25b3f9c3f",
   "metadata": {
    "scrolled": true
   },
   "source": [
    "**Solution**"
   ]
  },
  {
   "cell_type": "code",
   "execution_count": 26,
   "id": "98298613-cca1-4fc9-ae17-d06c13bc8a71",
   "metadata": {
    "tags": [
     "hide-cell"
    ]
   },
   "outputs": [
    {
     "name": "stdout",
     "output_type": "stream",
     "text": [
      "['zygmd', 'lbdho', 'osaal', 'moeiw', 'wdekx', 'bbzfh', 'auhkm', 'lqvep', 'xfcaq', 'ttbcc']\n"
     ]
    }
   ],
   "source": [
    "import string\n",
    "import random\n",
    "\n",
    "list5 = []\n",
    "\n",
    "for i in range(10):\n",
    "  random_word = ''\n",
    "  for j in range(5):\n",
    "    random_word += random.choice(string.ascii_lowercase)\n",
    "  list5.append(random_word\n",
    "               )\n",
    "print(list5)"
   ]
  },
  {
   "cell_type": "code",
   "execution_count": null,
   "id": "0fc56a96-0de3-4149-82fc-b5e732da737c",
   "metadata": {},
   "outputs": [],
   "source": []
  }
 ],
 "metadata": {
  "celltoolbar": "Tags",
  "hide_input": false,
  "kernelspec": {
   "display_name": "Python 3 (ipykernel)",
   "language": "python",
   "name": "python3"
  },
  "language_info": {
   "codemirror_mode": {
    "name": "ipython",
    "version": 3
   },
   "file_extension": ".py",
   "mimetype": "text/x-python",
   "name": "python",
   "nbconvert_exporter": "python",
   "pygments_lexer": "ipython3",
   "version": "3.11.7"
  },
  "toc": {
   "base_numbering": 1,
   "nav_menu": {},
   "number_sections": true,
   "sideBar": true,
   "skip_h1_title": false,
   "title_cell": "Table of Contents",
   "title_sidebar": "Contents",
   "toc_cell": false,
   "toc_position": {},
   "toc_section_display": true,
   "toc_window_display": false
  }
 },
 "nbformat": 4,
 "nbformat_minor": 5
}
