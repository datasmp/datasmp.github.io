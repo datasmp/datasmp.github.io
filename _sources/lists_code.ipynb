{
 "cells": [
  {
   "cell_type": "markdown",
   "id": "13e18a7d",
   "metadata": {
    "hide_input": false
   },
   "source": [
    "# Lists Code\n",
    "- Please solve the following questions using Python code.&emsp;&emsp;"
   ]
  },
  {
   "cell_type": "markdown",
   "id": "7054f9a9",
   "metadata": {},
   "source": [
    "## Question\n",
    "Prompt the user for a name and store each character of the name as a lowercase letter in a list, avoiding the use of the *list()* method.\n",
    "\n",
    "**Solution**"
   ]
  },
  {
   "cell_type": "markdown",
   "id": "ffa19b17-d7dc-4203-84ba-ab2fd7f4893d",
   "metadata": {
    "tags": [
     "hide-cell"
    ]
   },
   "source": [
    "```{admonition} Solution\n",
    ":class: toggle\n",
    "\n",
    "``` python\n",
    "name = input('Enter your name: ')\n",
    "\n",
    "char_list = []\n",
    "\n",
    "for i in name:\n",
    "  char_list.append(i.lower())\n",
    "\n",
    "print(f'Leters: {char_list}')\n",
    "```\n",
    "\n",
    "**Sample Output**  \n",
    "Enter your name:  Amelia  \n",
    "Leters: ['a', 'm', 'e', 'l', 'i', 'a']  "
   ]
  },
  {
   "cell_type": "markdown",
   "id": "9a2cdb14",
   "metadata": {},
   "source": [
    "## Question\n",
    "Prompt the user for comma-separated numbers and store them in a list, where each number is treated as an element with a data type of float. \n",
    "- Use only one input function and make use of the split() method for string parsing.\n",
    "  \n",
    "**Solution**"
   ]
  },
  {
   "cell_type": "markdown",
   "id": "132afd7a-b145-413d-bf7d-0d9f0cba1ce3",
   "metadata": {
    "tags": [
     "hide-cell"
    ]
   },
   "source": [
    "```{admonition} Solution\n",
    ":class: toggle\n",
    "\n",
    "``` python\n",
    "numbers = input('Enter numbers in a comma separated form: ')\n",
    "\n",
    "number_list_str = numbers.split(',')\n",
    "number_list_float = []\n",
    "\n",
    "for i in number_list_str:\n",
    "  number_list_float.append(float(i))\n",
    "\n",
    "print(f'Numbers in list as float: {number_list_float}')\n",
    "```\n",
    "**Sample Output**  \n",
    "Enter numbers in a comma separated form:  3,8,5,1,7  \n",
    "Numbers in list as float: [3.0, 8.0, 5.0, 1.0, 7.0]  "
   ]
  },
  {
   "cell_type": "markdown",
   "id": "deeef83a",
   "metadata": {},
   "source": [
    "## Question\n",
    "\n",
    "Use a for loop to identify numbers in the number_list that are divisible by 5 and greater than 23, storing them in a new list named five_list."
   ]
  },
  {
   "cell_type": "code",
   "execution_count": 1,
   "id": "0839e621-1ffb-44bb-8847-75c9b47b24c9",
   "metadata": {},
   "outputs": [],
   "source": [
    "number_list = [58, 82, 9, 25, 11, 36, 43, 27, 95, 75]"
   ]
  },
  {
   "cell_type": "markdown",
   "id": "73af3904-e0ac-49ac-8b3d-f0ff702816d5",
   "metadata": {},
   "source": [
    "**Solution**"
   ]
  },
  {
   "cell_type": "code",
   "execution_count": 2,
   "id": "4823363b-f658-4852-a2b2-a03870f6a06f",
   "metadata": {
    "tags": [
     "hide-cell"
    ]
   },
   "outputs": [
    {
     "name": "stdout",
     "output_type": "stream",
     "text": [
      "[25, 95, 75]\n"
     ]
    }
   ],
   "source": [
    "five_list = []\n",
    "\n",
    "for i in number_list:\n",
    "  if i%5==0 and i>23:\n",
    "    five_list.append(i)\n",
    "\n",
    "print(five_list)"
   ]
  },
  {
   "cell_type": "markdown",
   "id": "8b1e077a",
   "metadata": {},
   "source": [
    "## Question\n",
    "\n",
    "Use a for loop to reverse the elements of char_list and store them in a new list named reverse_list, without using any reverse method or indexing step."
   ]
  },
  {
   "cell_type": "code",
   "execution_count": 3,
   "id": "b6c201a3-e730-48ec-9852-f4cbcdcaf710",
   "metadata": {},
   "outputs": [],
   "source": [
    "char_list = ['k', 'p', 'f', 'l', 'j', 'l', 'u', 'g', 't', 'a']"
   ]
  },
  {
   "cell_type": "markdown",
   "id": "2215ad6b-7ef7-4b10-82e1-65fa55a1b9b1",
   "metadata": {},
   "source": [
    "**Solution-1**"
   ]
  },
  {
   "cell_type": "code",
   "execution_count": 4,
   "id": "60367dcd",
   "metadata": {
    "tags": [
     "hide-cell"
    ]
   },
   "outputs": [
    {
     "name": "stdout",
     "output_type": "stream",
     "text": [
      "['a', 't', 'g', 'u', 'l', 'j', 'l', 'f', 'p', 'k']\n"
     ]
    }
   ],
   "source": [
    "reverse_list = []\n",
    "\n",
    "for i in range(1,len(char_list)+1):\n",
    "  reverse_list.append(char_list[-i])\n",
    "\n",
    "print(reverse_list)"
   ]
  },
  {
   "cell_type": "markdown",
   "id": "32e48696-c974-4370-9948-6dfbdf1acb47",
   "metadata": {},
   "source": [
    "**Solution-2**"
   ]
  },
  {
   "cell_type": "code",
   "execution_count": 5,
   "id": "f1d42582-c05f-4c08-b83d-0bd12661840d",
   "metadata": {
    "tags": [
     "hide-cell"
    ]
   },
   "outputs": [
    {
     "name": "stdout",
     "output_type": "stream",
     "text": [
      "['a', 't', 'g', 'u', 'l', 'j', 'l', 'f', 'p', 'k']\n"
     ]
    }
   ],
   "source": [
    "reverse_list = []\n",
    "\n",
    "for char in char_list:\n",
    "    reverse_list.insert(0, char)\n",
    "    \n",
    "print(reverse_list)\n",
    "      "
   ]
  },
  {
   "cell_type": "markdown",
   "id": "b6b25c12-70a2-4713-a40e-98c71e94668b",
   "metadata": {},
   "source": [
    "**Solution-3**"
   ]
  },
  {
   "cell_type": "code",
   "execution_count": 6,
   "id": "6b304fd1-dabd-410a-bdee-d4334e0e020f",
   "metadata": {
    "tags": [
     "hide-cell"
    ]
   },
   "outputs": [],
   "source": [
    "reverse_list = [char_list[-i] for i in range (1,len(char_list)+1)]"
   ]
  },
  {
   "cell_type": "markdown",
   "id": "b2417186-fb05-47e9-9bca-509a197bfae3",
   "metadata": {},
   "source": [
    "## Question\n",
    "Use the split method to identify words in the given text that start with 'o' or 'O' excluding 'of,' 'or,' and 'on.'\n",
    "- Store the identified words in a tuple named o_tuple."
   ]
  },
  {
   "cell_type": "code",
   "execution_count": 7,
   "id": "c2698e21-7812-4bd2-a7ce-60a122d32b8d",
   "metadata": {},
   "outputs": [],
   "source": [
    "text = \"\"\" Basketball is a team sport in which two teams, most commonly of five players each, opposing one another on a rectangular court, compete with the primary objective of shooting a basketball (approximately 9.4 inches (24 cm) in diameter) through the defender's hoop (a basket 18 inches (46 cm) in diameter mounted 10 feet (3.048 m) high to a backboard at each end of the court) while preventing the opposing team from shooting through their own hoop. A field goal is worth two points, unless made from behind the three-point line, when it is worth three. After a foul, timed play stops and the player fouled or designated to shoot a technical foul is given one, two or three one-point free throws. The team with the most points at the end of the game wins, but if regulation play expires with the score tied, an additional period of play (overtime) is mandated.\n",
    "\n",
    "Players advance the ball by bouncing it while walking or running (dribbling) or by passing it to a teammate, both of which require considerable skill. On offense, players may use a variety of shots—the lay-up, the jump shot, or a dunk; on defense, they may steal the ball from a dribbler, intercept passes, or block shots; either offense or defense may collect a rebound, that is, a missed shot that bounces from rim or backboard. It is a violation to lift or drag one's pivot foot without dribbling the ball, to carry it, or to hold the ball with both hands then resume dribbling.\n",
    "\n",
    "The five players on each side fall into five playing positions. The tallest player is usually the center, the second-tallest and strongest is the power forward, a slightly shorter but more agile player is the small forward, and the shortest players or the best ball handlers are the shooting guard and the point guard, who implements the coach's game plan by managing the execution of offensive and defensive plays (player positioning). Informally, players may play three-on-three, two-on-two, and one-on-one.\n",
    "\n",
    "Invented in 1891 by Canadian-American gym teacher James Naismith in Springfield, Massachusetts, United States, basketball has evolved to become one of the world's most popular and widely viewed sports.[1] The National Basketball Association (NBA) is the most significant professional basketball league in the world in terms of popularity, salaries, talent, and level of competition.[2][3] Outside North America, the top clubs from national leagues qualify to continental championships such as the EuroLeague and the Basketball Champions League Americas. The FIBA Basketball World Cup and Men's Olympic Basketball Tournament are the major international events of the sport and attract top national teams from around the world. Each continent hosts regional competitions for national teams, like EuroBasket and FIBA AmeriCup.\n",
    "\n",
    "The FIBA Women's Basketball World Cup and Women's Olympic Basketball Tournament feature top national teams from continental championships. The main North American league is the WNBA (NCAA Women's Division I Basketball Championship is also popular), whereas the strongest European clubs participate in the EuroLeague Women. \"\"\""
   ]
  },
  {
   "cell_type": "markdown",
   "id": "005d4cae-d349-4174-845a-4fca76bcde80",
   "metadata": {},
   "source": [
    "**Solution**"
   ]
  },
  {
   "cell_type": "code",
   "execution_count": 8,
   "id": "7ec53bf5-7eeb-43be-ac79-3b585d7846ac",
   "metadata": {
    "tags": [
     "hide-cell"
    ]
   },
   "outputs": [
    {
     "data": {
      "text/plain": [
       "('opposing',\n",
       " 'one',\n",
       " 'objective',\n",
       " 'opposing',\n",
       " 'own',\n",
       " 'one,',\n",
       " 'one-point',\n",
       " 'offense,',\n",
       " 'offense',\n",
       " \"one's\",\n",
       " 'offensive',\n",
       " 'one-on-one.',\n",
       " 'one',\n",
       " 'Outside',\n",
       " 'Olympic',\n",
       " 'Olympic')"
      ]
     },
     "execution_count": 8,
     "metadata": {},
     "output_type": "execute_result"
    }
   ],
   "source": [
    "words = text.split()\n",
    "o_tuple = ()\n",
    "\n",
    "for i in words:\n",
    "  if i[0].lower()=='o' and (i.lower() not in {'on', 'of', 'or'}):\n",
    "    o_tuple += (i,)\n",
    "\n",
    "print(o_tuple)"
   ]
  },
  {
   "cell_type": "markdown",
   "id": "7f369ed9-5352-4058-8c1a-b3044d7b570c",
   "metadata": {},
   "source": [
    "## Question\n",
    "For the given number_list, compute the cumulative sum and store it in a list named cum_list.\n",
    "\n",
    "Example: number_list = [1,4,3,7,9,10]  \n",
    "Output:\n",
    "- [1,1+4,1+4+3,1+4+3+7,1+4+3+7+9,1+4+3+7+9+10]\n",
    "- [1,5,8,15,24,34]\n",
    "  \n"
   ]
  },
  {
   "cell_type": "code",
   "execution_count": 9,
   "id": "3891b19f-aec9-4563-8624-09e8401ab810",
   "metadata": {},
   "outputs": [],
   "source": [
    "number_list = [1, 4, 8, 1, 2, 4, 7, 5, 3, 3]"
   ]
  },
  {
   "cell_type": "markdown",
   "id": "fcb5c346-5275-48f2-a4fe-80b904077317",
   "metadata": {},
   "source": [
    "**Solution**"
   ]
  },
  {
   "cell_type": "code",
   "execution_count": 10,
   "id": "35840dc4-8513-4161-a726-cefc10066e46",
   "metadata": {
    "tags": [
     "hide-cell"
    ]
   },
   "outputs": [
    {
     "name": "stdout",
     "output_type": "stream",
     "text": [
      "[1, 5, 13, 14, 16, 20, 27, 32, 35, 38]\n"
     ]
    }
   ],
   "source": [
    "cum_list = number_list[:1]\n",
    "\n",
    "for i in number_list[1:]:\n",
    "  cum_list.append(i+cum_list[-1])\n",
    "\n",
    "print(cum_list)"
   ]
  },
  {
   "cell_type": "markdown",
   "id": "4df5a565",
   "metadata": {},
   "source": [
    "## Question\n",
    "Use a list comprehension to construct the following list.\n",
    "\n",
    "\n",
    "\n",
    "- ['file_1_question', 'file_2_question',...........,'file_5_question']\n",
    "  \n",
    "**Solution**"
   ]
  },
  {
   "cell_type": "code",
   "execution_count": 11,
   "id": "3b20bd66",
   "metadata": {
    "tags": [
     "hide-cell"
    ]
   },
   "outputs": [
    {
     "name": "stdout",
     "output_type": "stream",
     "text": [
      "['file_1_question', 'file_2_question', 'file_3_question', 'file_4_question', 'file_5_question']\n"
     ]
    }
   ],
   "source": [
    "file_list = ['file_'+str(i)+'_question' for i in range(1,6)]\n",
    "print(file_list)"
   ]
  },
  {
   "cell_type": "markdown",
   "id": "a74717e0",
   "metadata": {},
   "source": [
    "## Question\n",
    "Construct a list using a list comprehension, which consists of the last letters of the given list."
   ]
  },
  {
   "cell_type": "code",
   "execution_count": 12,
   "id": "02ba943c-447e-44ed-a45b-0ca6fdf4e782",
   "metadata": {},
   "outputs": [],
   "source": [
    "name_list = ['Henry', 'Jack', 'Amanda', 'Ashley', 'Michael', 'Peter']"
   ]
  },
  {
   "cell_type": "markdown",
   "id": "90cde616-84d7-484f-ba91-f22203abbd1f",
   "metadata": {
    "scrolled": true
   },
   "source": [
    "**Solution**"
   ]
  },
  {
   "cell_type": "code",
   "execution_count": 13,
   "id": "e0fe425b-b04e-4dbb-b7fd-4c177cfc2b77",
   "metadata": {
    "tags": [
     "hide-cell"
    ]
   },
   "outputs": [
    {
     "name": "stdout",
     "output_type": "stream",
     "text": [
      "['y', 'k', 'a', 'y', 'l', 'r']\n"
     ]
    }
   ],
   "source": [
    "char_list = [ i[-1] for i in name_list]\n",
    "\n",
    "print(char_list)"
   ]
  },
  {
   "cell_type": "markdown",
   "id": "933a959b-8004-4099-b158-b7f42b4304e3",
   "metadata": {},
   "source": [
    "## Question\n",
    "\n",
    "Construct a string by concatenating the second letter of each string in the given list. \n",
    "- Hint: Access and concatenate 'e', 'a', 'm', 's', 'i', 'e"
   ]
  },
  {
   "cell_type": "code",
   "execution_count": 14,
   "id": "81a7489a-b503-4159-8ac2-e7565ca42d60",
   "metadata": {},
   "outputs": [],
   "source": [
    "name_list = ['Henry', 'Jack', 'Amanda', 'Ashley', 'Michael', 'Peter']"
   ]
  },
  {
   "cell_type": "markdown",
   "id": "885391d0-5dd2-4fab-a1fb-820221bc169f",
   "metadata": {
    "scrolled": true
   },
   "source": [
    "**Solution**"
   ]
  },
  {
   "cell_type": "code",
   "execution_count": 15,
   "id": "a211df4b-6a20-4f2a-b4f8-ca70a5997f97",
   "metadata": {
    "tags": [
     "hide-cell"
    ]
   },
   "outputs": [
    {
     "name": "stdout",
     "output_type": "stream",
     "text": [
      "eamsie\n"
     ]
    }
   ],
   "source": [
    "result = ''\n",
    "\n",
    "for name in name_list:\n",
    "  result += name[1]\n",
    "\n",
    "print(result)"
   ]
  },
  {
   "cell_type": "markdown",
   "id": "c17a11be",
   "metadata": {},
   "source": [
    "## Question\n",
    "\n",
    "Prompt the user for a name and store its lowercase letters in one list and uppercase letters in another, excluding any non-alphabetical characters\n",
    "**Solution**"
   ]
  },
  {
   "cell_type": "markdown",
   "id": "f7a4bd06-d9e1-47f9-b092-f0a73e89f79b",
   "metadata": {
    "tags": [
     "hide-cell"
    ]
   },
   "source": [
    "```{admonition} Solution\n",
    ":class: toggle\n",
    "\n",
    "``` python\n",
    "name = input('Enter a name: ')\n",
    "\n",
    "lower_list, upper_list = [], []\n",
    "for i in name:\n",
    "  if i.isalpha():\n",
    "    if i == i.lower():\n",
    "      lower_list.append(i)\n",
    "    else:\n",
    "      upper_list.append(i)\n",
    "\n",
    "print(f'Lower Case Letters: {lower_list}')\n",
    "print(f'Upper Case Letters: {upper_list}')\n",
    "```\n",
    "**Sample Output**  \n",
    "Enter a name:  miCHaEl  \n",
    "Lower Case Letters: ['m', 'i', 'a', 'l']  \n",
    "Upper Case Letters: ['C', 'H', 'E']"
   ]
  },
  {
   "cell_type": "markdown",
   "id": "460fc289-75c0-473b-aeb4-5dce21a52cb9",
   "metadata": {},
   "source": [
    "## Question\n",
    "\n",
    "Generate a list of numbers from 1 to 9, then use the shuffle method from the random library to alter the order of these numbers.\n",
    "- Display the resulting list in a table format.\n",
    "- Example: shuffled_list = [7, 8, 3, 1, 2, 4, 5, 9, 6]\n",
    "  - Output:\n",
    "\n",
    "\\-\\-\\-\\-\\-\\-\\-  \n",
    "|7|8|3|  \n",
    "\\-\\-\\-\\-\\-\\-\\-     \n",
    "|1|2|4|  \n",
    "\\-\\-\\-\\-\\-\\-\\-      \n",
    "|5|9|6|  \n",
    "\\-\\-\\-\\-\\-\\-\\-  "
   ]
  },
  {
   "cell_type": "markdown",
   "id": "d84a6c28-97a7-4f46-b29f-29bb6c35eb98",
   "metadata": {
    "scrolled": true
   },
   "source": [
    "**Solution-1**"
   ]
  },
  {
   "cell_type": "code",
   "execution_count": 16,
   "id": "89ed809d-89e4-46ad-b999-1f3b61500eeb",
   "metadata": {
    "tags": [
     "hide-cell"
    ]
   },
   "outputs": [
    {
     "name": "stdout",
     "output_type": "stream",
     "text": [
      "-------\n",
      "|7|8|3|\n",
      "-------\n",
      "|5|6|4|\n",
      "-------\n",
      "|2|9|1|\n",
      "-------\n"
     ]
    }
   ],
   "source": [
    "# simple solution\n",
    "\n",
    "import random\n",
    "number_list = list(range(1,10))\n",
    "random.shuffle(number_list)\n",
    "\n",
    "print('-'*7)\n",
    "print(f'|{number_list[0]}|{number_list[1]}|{number_list[2]}|')\n",
    "print('-'*7)\n",
    "print(f'|{number_list[3]}|{number_list[4]}|{number_list[5]}|')\n",
    "print('-'*7)\n",
    "print(f'|{number_list[6]}|{number_list[7]}|{number_list[8]}|')\n",
    "print('-'*7)"
   ]
  },
  {
   "cell_type": "markdown",
   "id": "cef70092-213d-4c61-ba7d-e33aa60760e4",
   "metadata": {
    "scrolled": true
   },
   "source": [
    "**Solution-2**"
   ]
  },
  {
   "cell_type": "code",
   "execution_count": 17,
   "id": "553cda52-126f-4203-92e7-744674f16a6c",
   "metadata": {
    "tags": [
     "hide-cell"
    ]
   },
   "outputs": [
    {
     "name": "stdout",
     "output_type": "stream",
     "text": [
      "-------\n",
      "|4|8|9|\n",
      "-------\n",
      "|5|6|1|\n",
      "-------\n",
      "|2|3|7|\n",
      "-------\n"
     ]
    }
   ],
   "source": [
    "# for loop solution\n",
    "\n",
    "import random\n",
    "number_list = list(range(1,10))\n",
    "random.shuffle(number_list)\n",
    "\n",
    "for i in range(3):\n",
    "  print('-'*7)\n",
    "  for j in range(3):\n",
    "    print(f'|{number_list[3*i+j]}', end='')\n",
    "  print('|')\n",
    "print('-'*7)"
   ]
  },
  {
   "cell_type": "markdown",
   "id": "4cbf3e6b-2a9e-4ebd-95c0-1d1728590399",
   "metadata": {},
   "source": [
    "## Question\n",
    "Create a list of length 10 with values randomly chosen from 'P' or 'N', where 'P' represents positive and 'N' represents negative test results.\n",
    "- Use either the random module or numpy.random.\n",
    "- Construct a new list replacing 'N' with 0 and 'P' with 1.\n",
    "- Example\n",
    "  - old_list &nbsp; = ['M', 'F', 'M', 'M', 'F', 'M', 'F', 'M', 'M', 'F']\n",
    "  - new_list =        [&nbsp;1&nbsp; ,&nbsp; 0&nbsp;, &nbsp;1&nbsp;,\n",
    "  &nbsp;1&nbsp;,&nbsp; 0&nbsp;,&nbsp; 1&nbsp;,&nbsp; 0&nbsp;,\n",
    "  &nbsp; 1&nbsp;, &nbsp; 1&nbsp;,&nbsp;0]"
   ]
  },
  {
   "cell_type": "markdown",
   "id": "c43abb6b-d777-45ff-b07e-cdc7f63b85c0",
   "metadata": {
    "scrolled": true
   },
   "source": [
    "**Solution**"
   ]
  },
  {
   "cell_type": "code",
   "execution_count": 18,
   "id": "5a96e6f1-c115-46f6-b425-cde3ea7888c5",
   "metadata": {
    "tags": [
     "hide-cell"
    ]
   },
   "outputs": [
    {
     "name": "stdout",
     "output_type": "stream",
     "text": [
      "Old List: ['N' 'N' 'N' 'P' 'P' 'P' 'N' 'N' 'P' 'P']\n",
      "New List: [0, 0, 0, 1, 1, 1, 0, 0, 1, 1]\n"
     ]
    }
   ],
   "source": [
    "import numpy as np\n",
    "old_list = np.random.choice(['P', 'N'], 10)\n",
    "new_list = []\n",
    "\n",
    "for i in old_list:\n",
    "  if i == 'P':\n",
    "    new_list.append(1)\n",
    "  else:\n",
    "    new_list.append(0)\n",
    "\n",
    "print('Old List:', old_list)\n",
    "print('New List:', new_list)"
   ]
  },
  {
   "cell_type": "markdown",
   "id": "0900a6e6-58a1-4eb3-b4e8-baa23280fdef",
   "metadata": {},
   "source": [
    "## Question\n",
    "For the given list, identify the maximum and minimum elements. Then, subtract the minimum value from each element in the list and divide the result by the difference between the maximum and minimum elements.\n",
    "-  Example: given list is [3, 8, 2, 9, 4, 12, 5]\n",
    "  - maximum value = 12, minimum value = 2\n",
    "  - subtract 2 from each element: [1, 6, 0, 7, 2, 10, 3]\n",
    "  - divide each element by max - min = 12 - 2 = 10\n",
    "    - output: [0.1, 0.6, 0, 0.7, 0.2, 1, 0.3]"
   ]
  },
  {
   "cell_type": "code",
   "execution_count": 19,
   "id": "91a3032d-3039-4d55-8cc7-dbe83da91498",
   "metadata": {},
   "outputs": [],
   "source": [
    "number_list = [3, 8, 2, 9, 4, 12, 5]"
   ]
  },
  {
   "cell_type": "markdown",
   "id": "77284d77-6a6b-47a9-854e-81066ab8b485",
   "metadata": {
    "scrolled": true
   },
   "source": [
    "**Solution-1**"
   ]
  },
  {
   "cell_type": "code",
   "execution_count": 20,
   "id": "dcd41b5e-951d-4ee6-bcc6-48203f51b6cf",
   "metadata": {
    "tags": [
     "hide-cell"
    ]
   },
   "outputs": [
    {
     "name": "stdout",
     "output_type": "stream",
     "text": [
      "[0.1, 0.6, 0.0, 0.7, 0.2, 1.0, 0.3]\n"
     ]
    }
   ],
   "source": [
    "max_value = max(number_list)\n",
    "min_value = min(number_list)\n",
    "\n",
    "result = [(i-min_value)/(max_value-min_value) for i in number_list ]\n",
    "print(result)"
   ]
  },
  {
   "cell_type": "markdown",
   "id": "57c2427d-4467-4127-b44d-68c4a717a5bf",
   "metadata": {
    "scrolled": true
   },
   "source": [
    "**Solution-2**"
   ]
  },
  {
   "cell_type": "code",
   "execution_count": 21,
   "id": "d32a3303-2d15-4220-bb55-ceab2fda5112",
   "metadata": {
    "tags": [
     "hide-cell"
    ]
   },
   "outputs": [
    {
     "name": "stdout",
     "output_type": "stream",
     "text": [
      "[0.1, 0.6, 0.0, 0.7, 0.2, 1.0, 0.3]\n"
     ]
    }
   ],
   "source": [
    "max_value = max(number_list)\n",
    "min_value = min(number_list)\n",
    "\n",
    "number_list2 = []\n",
    "for i in number_list:\n",
    "  number_list2.append(i-min_value)\n",
    "\n",
    "number_list3 = []\n",
    "for i in number_list2:\n",
    "  number_list3.append(i/(max_value-min_value))\n",
    "\n",
    "print(number_list3)"
   ]
  },
  {
   "cell_type": "markdown",
   "id": "5bac97c3-47f7-4cfc-9e1b-11d122335d99",
   "metadata": {},
   "source": [
    "## Question\n",
    "For the given list, calculate the mean and standard deviation. \n",
    "- Subtract the mean from each element in the list and divide the result by the standard deviation.\n",
    "- You may use functions imported from either the numpy or statistics libraries for mean and standard deviation calculations."
   ]
  },
  {
   "cell_type": "code",
   "execution_count": 22,
   "id": "c078a6f1-8c39-4847-a0de-f64504a1b1d6",
   "metadata": {},
   "outputs": [],
   "source": [
    "number_list = [3, 8, 2, 9, 4, 12, 5]"
   ]
  },
  {
   "cell_type": "markdown",
   "id": "17312f99-9a48-4f3f-bb26-542516b84d33",
   "metadata": {
    "scrolled": true
   },
   "source": [
    "**Solution-1**"
   ]
  },
  {
   "cell_type": "code",
   "execution_count": 23,
   "id": "f1814627-600d-41bf-8e7b-b7f0fc3e891e",
   "metadata": {
    "tags": [
     "hide-cell"
    ]
   },
   "outputs": [
    {
     "name": "stdout",
     "output_type": "stream",
     "text": [
      "[-0.9363821838346236, 0.5533167449931865, -1.2343219696001857, 0.8512565307587485, -0.6384423980690616, 1.7450758880554345, -0.34050261230349954]\n"
     ]
    }
   ],
   "source": [
    "import statistics\n",
    "\n",
    "mean_value = statistics.mean(number_list)\n",
    "std_value  = statistics.pstdev(number_list)\n",
    "\n",
    "result = [(i-mean_value)/std_value for i in number_list ]\n",
    "print(result)"
   ]
  },
  {
   "cell_type": "markdown",
   "id": "018b5396-d658-41f1-badc-9dcc2087fdbc",
   "metadata": {
    "scrolled": true
   },
   "source": [
    "**Solution-2**"
   ]
  },
  {
   "cell_type": "code",
   "execution_count": 24,
   "id": "5c388ebd-e546-41f1-9845-1a085fb182d6",
   "metadata": {
    "tags": [
     "hide-cell"
    ]
   },
   "outputs": [
    {
     "name": "stdout",
     "output_type": "stream",
     "text": [
      "[-0.9363821838346236, 0.5533167449931865, -1.2343219696001857, 0.8512565307587485, -0.6384423980690616, 1.7450758880554345, -0.34050261230349954]\n"
     ]
    }
   ],
   "source": [
    "import statistics\n",
    "mean_value = statistics.mean(number_list)\n",
    "std_value  = statistics.pstdev(number_list)\n",
    "\n",
    "number_list2 = []\n",
    "for i in number_list:\n",
    "  number_list2.append(i-mean_value)\n",
    "\n",
    "number_list3 = []\n",
    "for i in number_list2:\n",
    "  number_list3.append(i/std_value)\n",
    "\n",
    "print(number_list3)"
   ]
  },
  {
   "cell_type": "markdown",
   "id": "3320c396-0592-4dc9-8be2-3fca409a936a",
   "metadata": {},
   "source": [
    "## Question\n",
    "Write a program that prompts the user to input a letter. \n",
    "- Print the number of occurrences of this character in the provided text using a for loop.\n",
    "- Additionally, store the index of each occurrence of this letter in a list.\n"
   ]
  },
  {
   "cell_type": "code",
   "execution_count": 25,
   "id": "51e77801-b2e6-4044-b2eb-e92c50e7f1b4",
   "metadata": {},
   "outputs": [],
   "source": [
    "text = \"\"\" Python\n",
    "Van Rossum at the 2008 Google I/O Developer's Conference\n",
    "Van Rossum at the 2006 O'Reilly Open Source Convention (OSCON)\n",
    "In December 1989, Van Rossum had been looking for a \"'hobby' programming project that would keep [him] occupied during the week around Christmas\"\n",
    " as his office was closed when he decided to write an interpreter for a \"new scripting language [he] had been thinking about lately: a descendant\n",
    "  of ABC that would appeal to Unix/C hackers\". He attributes choosing the name \"Python\" to \"being in a slightly irreverent mood (and a big fan of\n",
    "Monty Python's Flying Circus)\".[20]\n",
    "He has explained that Python's predecessor, ABC, was inspired by SETL, noting that ABC co-developer Lambert Meertens had \"spent a year with the\n",
    "SETL group at NYU before coming up with the final ABC design\".[21]\n",
    "In July 2018, Van Rossum announced that he would be stepping down from the position of BDFL of the Python programming language.[22]\n",
    "\n",
    "1999 \"Computer Programming for Everybody\" proposal\n",
    "In 1999, Van Rossum submitted a funding proposal to DARPA called \"Computer Programming for Everybody\", in which he further defined his goals for\n",
    " Python:\n",
    "\n",
    "An easy and intuitive language just as powerful as major competitors\n",
    "Open source, so anyone can contribute to its development\n",
    "Code that is as understandable as plain English\n",
    "Suitability for everyday tasks, allowing for short development times\n",
    "In 2018, Python was the third most popular language on GitHub, a social coding website, behind JavaScript and Java.[23] According to a\n",
    " programming language popularity survey[24] it is consistently among the top 10 most mentioned languages in job postings. Furthermore,\n",
    " Python has been among the 10 most popular programming languages every year since 2004 according to the TIOBE Programming Community Index.[25]\"\"\""
   ]
  },
  {
   "cell_type": "markdown",
   "id": "4d443c4d-2cca-4af2-9e00-8ff5389303a5",
   "metadata": {
    "scrolled": true
   },
   "source": [
    "**Solution**"
   ]
  },
  {
   "cell_type": "markdown",
   "id": "b3ec1f36-16d1-43cf-a6f1-4b88260c950f",
   "metadata": {
    "tags": [
     "hide-cell"
    ]
   },
   "source": [
    "```{admonition} Solution\n",
    ":class: toggle\n",
    "\n",
    "``` python\n",
    "char = input('Please enter a character:')\n",
    "count = 0\n",
    "index_list = [] \n",
    "\n",
    "for i in text:\n",
    "    if i == char:\n",
    "        count +=1\n",
    "        if len(index_list) == 0:\n",
    "          index_list.append(text.find(char))\n",
    "        else:\n",
    "          index_list.append(text.find(char, index_list[-1]+1))\n",
    "\n",
    "print(f'Number of {char} is {count}.')\n",
    "print(f'Indexes: {index_list}')\n",
    "```\n",
    "**Sample Output**  \n",
    "Please enter a character: k  \n",
    "Number of k is 6.  \n",
    "Indexes: [169, 220, 254, 388, 460, 1354]"
   ]
  },
  {
   "cell_type": "markdown",
   "id": "95bfda0c-f49f-47c4-9c1e-c5cd50e77621",
   "metadata": {},
   "source": [
    "## Question\n",
    "Generate a list containing randomly generated five-letter strings, with a length of 10. \n",
    "- Use the random.choice() function for the construction of the list."
   ]
  },
  {
   "cell_type": "markdown",
   "id": "3e7b89d3-329e-44e1-ab68-37d25b3f9c3f",
   "metadata": {
    "scrolled": true
   },
   "source": [
    "**Solution**"
   ]
  },
  {
   "cell_type": "code",
   "execution_count": 26,
   "id": "98298613-cca1-4fc9-ae17-d06c13bc8a71",
   "metadata": {
    "tags": [
     "hide-cell"
    ]
   },
   "outputs": [
    {
     "name": "stdout",
     "output_type": "stream",
     "text": [
      "['zygmd', 'lbdho', 'osaal', 'moeiw', 'wdekx', 'bbzfh', 'auhkm', 'lqvep', 'xfcaq', 'ttbcc']\n"
     ]
    }
   ],
   "source": [
    "import string\n",
    "import random\n",
    "\n",
    "list5 = []\n",
    "\n",
    "for i in range(10):\n",
    "  random_word = ''\n",
    "  for j in range(5):\n",
    "    random_word += random.choice(string.ascii_lowercase)\n",
    "  list5.append(random_word\n",
    "               )\n",
    "print(list5)"
   ]
  },
  {
   "cell_type": "code",
   "execution_count": null,
   "id": "0fc56a96-0de3-4149-82fc-b5e732da737c",
   "metadata": {},
   "outputs": [],
   "source": []
  }
 ],
 "metadata": {
  "celltoolbar": "Tags",
  "hide_input": false,
  "kernelspec": {
   "display_name": "Python 3 (ipykernel)",
   "language": "python",
   "name": "python3"
  },
  "language_info": {
   "codemirror_mode": {
    "name": "ipython",
    "version": 3
   },
   "file_extension": ".py",
   "mimetype": "text/x-python",
   "name": "python",
   "nbconvert_exporter": "python",
   "pygments_lexer": "ipython3",
   "version": "3.11.7"
  },
  "toc": {
   "base_numbering": 1,
   "nav_menu": {},
   "number_sections": true,
   "sideBar": true,
   "skip_h1_title": false,
   "title_cell": "Table of Contents",
   "title_sidebar": "Contents",
   "toc_cell": false,
   "toc_position": {},
   "toc_section_display": true,
   "toc_window_display": false
  }
 },
 "nbformat": 4,
 "nbformat_minor": 5
}
