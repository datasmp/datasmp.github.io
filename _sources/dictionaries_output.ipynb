{
 "cells": [
  {
   "cell_type": "markdown",
   "id": "13e18a7d",
   "metadata": {},
   "source": [
    "# Dictionaries Output\n",
    "![Section Title: Dictionaries Output](title_pict/dictionaries_output2.png)\n",
    "\n",
    "- Find the output of the following code. \n",
    "- Please don't run the code before giving your answer. &emsp;&emsp;&emsp;&emsp;"
   ]
  },
  {
   "cell_type": "markdown",
   "id": "03fc8d4d",
   "metadata": {},
   "source": [
    "## Question-1"
   ]
  },
  {
   "cell_type": "markdown",
   "id": "ed9044dc-1181-4b27-a4b5-37060b5c6b7e",
   "metadata": {
    "tags": [
     "hide-output"
    ]
   },
   "source": [
    "``` python\n",
    "dict_exp = {'table':1, 'chair':2, 'washer':3}\n",
    "\n",
    "for i in dict_exp.keys():\n",
    "  print(i[-2])"
   ]
  },
  {
   "cell_type": "markdown",
   "id": "0abdb9bb-9e13-4860-ac69-0bdb461f8c83",
   "metadata": {},
   "source": [
    "```{admonition} Solution\n",
    ":class: toggle\n",
    "l  \n",
    "i  \n",
    "e\n",
    "```"
   ]
  },
  {
   "cell_type": "markdown",
   "id": "c1aef79d",
   "metadata": {},
   "source": [
    "## Question-2\n"
   ]
  },
  {
   "cell_type": "markdown",
   "id": "e938daf3-1a13-4434-8384-faadb7ca76ba",
   "metadata": {
    "tags": [
     "hide-output"
    ]
   },
   "source": [
    "``` python\n",
    "dict_exp = {'table':[1,5,9], 'chair':[10,20,30], 'washer':[2,7,4]}\n",
    "total = 0\n",
    "\n",
    "for i in dict_exp.values():\n",
    "  total += i[1]\n",
    "    \n",
    "print(total)"
   ]
  },
  {
   "cell_type": "markdown",
   "id": "1ca19da0-7a69-4b3b-af5b-d9e70109d5d5",
   "metadata": {},
   "source": [
    "```{admonition} Solution\n",
    ":class: toggle\n",
    "32\n",
    "```"
   ]
  },
  {
   "cell_type": "markdown",
   "id": "d0e75b17",
   "metadata": {},
   "source": [
    "## Question-3\n"
   ]
  },
  {
   "cell_type": "markdown",
   "id": "28802613-7928-439b-9f78-9da4a1979acc",
   "metadata": {
    "tags": [
     "hide-output"
    ]
   },
   "source": [
    "``` python\n",
    "dict_exp = {'table':[1,5,9], 'chair':[4,6,8], 'washer':[2,7,4]}\n",
    "total = 0\n",
    "\n",
    "for i in dict_exp.values():\n",
    "  for j in i:\n",
    "    total += i[1]\n",
    "      \n",
    "print(total)"
   ]
  },
  {
   "cell_type": "markdown",
   "id": "cdef862e-b769-43a9-9849-aa1bf27d8225",
   "metadata": {},
   "source": [
    "```{admonition} Solution\n",
    ":class: toggle\n",
    "54\n",
    "```"
   ]
  },
  {
   "cell_type": "markdown",
   "id": "1bc72fed",
   "metadata": {},
   "source": [
    "## Question-4"
   ]
  },
  {
   "cell_type": "markdown",
   "id": "5fa8be9c-688b-42ac-b4ee-86de35c09e3f",
   "metadata": {
    "tags": [
     "hide-output"
    ]
   },
   "source": [
    "``` python\n",
    "dict_exp = {'table':[1,5,9], 'chair':[4,6,8], 'washer':[2,7,4]}\n",
    "total = 0\n",
    "\n",
    "for i in dict_exp.values():\n",
    "  for j in i:\n",
    "    total += j\n",
    "      \n",
    "print(total)"
   ]
  },
  {
   "cell_type": "markdown",
   "id": "605fc14c-64c7-4deb-8d53-fb24f0c5bb1c",
   "metadata": {},
   "source": [
    "```{admonition} Solution\n",
    ":class: toggle\n",
    "46\n",
    "```"
   ]
  },
  {
   "cell_type": "markdown",
   "id": "f69a9cd1-3b07-4d29-af2e-e6b2fc5a32d1",
   "metadata": {},
   "source": [
    "## Question-5"
   ]
  },
  {
   "cell_type": "markdown",
   "id": "ccc7bba5-ad3b-4f47-ac8d-49e0bf59a17d",
   "metadata": {
    "tags": [
     "hide-output"
    ]
   },
   "source": [
    "``` python\n",
    "stock_dict = {'day-1':{'High': 70, 'Low':62, 'Close':65},\n",
    "              'day-2':{'High': 68, 'Low':60, 'Close':63},\n",
    "              'day-3':{'High': 71, 'Low':65, 'Close':67},\n",
    "              'day-4':{'High': 70, 'Low':62, 'Close':65},\n",
    "              'day-5':{'High': 73, 'Low':65, 'Close':70},\n",
    "              'day-6':{'High': 75, 'Low':69, 'Close':73}\n",
    "              }\n",
    "\n",
    "for i in [1,3]:\n",
    "  print(stock_dict['day-'+str(i)]['Low'])"
   ]
  },
  {
   "cell_type": "markdown",
   "id": "04f4743d-0691-4edc-9746-6f02ae428cef",
   "metadata": {},
   "source": [
    "```{admonition} Solution\n",
    ":class: toggle\n",
    "62  \n",
    "65\n",
    "```"
   ]
  },
  {
   "cell_type": "markdown",
   "id": "cace03a5-f754-4ada-b999-54235cc7ffd0",
   "metadata": {},
   "source": [
    "## Question-6"
   ]
  },
  {
   "cell_type": "markdown",
   "id": "9aab87ed-7c72-4f15-91d9-e4c13a036ad7",
   "metadata": {
    "tags": [
     "hide-output"
    ]
   },
   "source": [
    "``` python\n",
    "stock_dict = {'day-1':{'High': 70, 'Low':62, 'Close':65},\n",
    "              'day-2':{'High': 68, 'Low':60, 'Close':63},\n",
    "              'day-3':{'High': 71, 'Low':65, 'Close':67},\n",
    "              'day-4':{'High': 70, 'Low':62, 'Close':65},\n",
    "              'day-5':{'High': 73, 'Low':65, 'Close':70},\n",
    "              'day-6':{'High': 75, 'Low':69, 'Close':73}\n",
    "              }\n",
    "total = 0\n",
    "\n",
    "for i,j in stock_dict.items():\n",
    "  total += int(i[-1])\n",
    "\n",
    "print(total)"
   ]
  },
  {
   "cell_type": "markdown",
   "id": "08b5beb2-74b7-4121-bf23-3a4ef1d82f33",
   "metadata": {},
   "source": [
    "```{admonition} Solution\n",
    ":class: toggle\n",
    "21\n",
    "```"
   ]
  },
  {
   "cell_type": "markdown",
   "id": "a4704f5e-7da3-4151-8b92-00454e30ba3f",
   "metadata": {},
   "source": [
    "## Question-7"
   ]
  },
  {
   "cell_type": "markdown",
   "id": "0450f5f1-a190-4fa4-8b9b-ba5d78e568df",
   "metadata": {
    "tags": [
     "hide-output"
    ]
   },
   "source": [
    "``` python\n",
    "stock_dict = {'day-1':{'High': 70, 'Low':62, 'Close':65},\n",
    "              'day-2':{'High': 68, 'Low':60, 'Close':63},\n",
    "              'day-3':{'High': 71, 'Low':65, 'Close':67},\n",
    "              'day-4':{'High': 70, 'Low':62, 'Close':65},\n",
    "              'day-5':{'High': 73, 'Low':65, 'Close':70},\n",
    "              'day-6':{'High': 75, 'Low':69, 'Close':73}\n",
    "              }\n",
    "total = 0\n",
    "\n",
    "for i,j in stock_dict.items():\n",
    "  total += j['High']//10\n",
    "\n",
    "print(total)"
   ]
  },
  {
   "cell_type": "markdown",
   "id": "78aa1803-eb94-474b-934c-e646ccf87efb",
   "metadata": {},
   "source": [
    "```{admonition} Solution\n",
    ":class: toggle\n",
    "41\n",
    "```"
   ]
  },
  {
   "cell_type": "markdown",
   "id": "682031c3-cfc4-48a9-9f8a-9f5bce5f8890",
   "metadata": {},
   "source": [
    "## Question-8\n"
   ]
  },
  {
   "cell_type": "markdown",
   "id": "366356fa-ff30-41de-949c-e752b4536b6e",
   "metadata": {
    "tags": [
     "hide-output"
    ]
   },
   "source": [
    "``` python\n",
    "my_dict = {200:'NY', 100:'NJ', 400:'TX', 300:'CA'}\n",
    "\n",
    "for i in my_dict.keys():\n",
    "  if i>188:\n",
    "    print(my_dict[i][1])"
   ]
  },
  {
   "cell_type": "markdown",
   "id": "5d8d6e97-105d-4b5d-a583-b6afc0944e03",
   "metadata": {},
   "source": [
    "```{admonition} Solution\n",
    ":class: toggle\n",
    "Y  \n",
    "X  \n",
    "A\n",
    "```"
   ]
  },
  {
   "cell_type": "markdown",
   "id": "08e1e1ce",
   "metadata": {},
   "source": [
    "## Question-9\n"
   ]
  },
  {
   "cell_type": "markdown",
   "id": "a8431933-3c66-4dc0-ac55-74f2bf1188f1",
   "metadata": {
    "tags": [
     "hide-output"
    ]
   },
   "source": [
    "``` python\n",
    "mydict = {'A':(10,100), 'B':(20, 200), 'C':(30,300)}\n",
    "\n",
    "for i,j in mydict.values():\n",
    "  print(i,j)"
   ]
  },
  {
   "cell_type": "markdown",
   "id": "ee41fa3c-2e52-4db7-b23a-13f932fecda0",
   "metadata": {},
   "source": [
    "```{admonition} Solution\n",
    ":class: toggle\n",
    "10 100  \n",
    "20 200  \n",
    "30 300\n",
    "```"
   ]
  },
  {
   "cell_type": "markdown",
   "id": "3978ce5f-67c6-436a-b8d5-f7522342c2a4",
   "metadata": {},
   "source": [
    "## Question-10\n"
   ]
  },
  {
   "cell_type": "markdown",
   "id": "8dce9cf4-73bb-4549-a2e7-d9c9a3fc7736",
   "metadata": {
    "tags": [
     "hide-output"
    ]
   },
   "source": [
    "``` python\n",
    "grades = {'Tim':90, 'Amy':95, 'Jack':85}\n",
    "print(grades.keys())"
   ]
  },
  {
   "cell_type": "markdown",
   "id": "dbbdca6f-0f43-461f-aed6-1c0abadf7be0",
   "metadata": {},
   "source": [
    "```{admonition} Solution\n",
    ":class: toggle\n",
    "dict_keys(['Tim', 'Amy', 'Jack'])\n",
    "```"
   ]
  },
  {
   "cell_type": "markdown",
   "id": "d16f9bee-f3dd-48dc-8d7b-c65e7790a1db",
   "metadata": {},
   "source": [
    "## Question-11\n"
   ]
  },
  {
   "cell_type": "markdown",
   "id": "20660642-5c64-4e5a-affc-59c2cbaba6e5",
   "metadata": {
    "tags": [
     "hide-output"
    ]
   },
   "source": [
    "``` python\n",
    "grades = {'Tim':90, 'Amy':95, 'Jack':85}\n",
    "print(grades.values())"
   ]
  },
  {
   "cell_type": "markdown",
   "id": "d26d736b-112a-499a-a1c6-c9eaac70f942",
   "metadata": {},
   "source": [
    "```{admonition} Solution\n",
    ":class: toggle\n",
    "dict_values([90, 95, 85])\n",
    "```"
   ]
  },
  {
   "cell_type": "markdown",
   "id": "1c89cf94-f687-42b9-a50e-7a473f6adecc",
   "metadata": {},
   "source": [
    "## Question-12\n"
   ]
  },
  {
   "cell_type": "markdown",
   "id": "2ed5647f-a6a5-4130-a558-36fe442a8b99",
   "metadata": {
    "tags": [
     "hide-output"
    ]
   },
   "source": [
    "``` python\n",
    "grades = {'Tim':90, 'Amy':95, 'Jack':85, 'Tim':50}\n",
    "grades['Tim']"
   ]
  },
  {
   "cell_type": "markdown",
   "id": "4873653c-86a2-4831-bb7e-123747562906",
   "metadata": {},
   "source": [
    "```{admonition} Solution\n",
    ":class: toggle\n",
    "50\n",
    "```"
   ]
  },
  {
   "cell_type": "markdown",
   "id": "00bcb020-4cfe-4616-be1b-28f23ccd2cb2",
   "metadata": {},
   "source": [
    "## Question-13"
   ]
  },
  {
   "cell_type": "markdown",
   "id": "1e4c1f21-45ed-4ad3-a29d-d94e451d6f5f",
   "metadata": {
    "tags": [
     "hide-output"
    ]
   },
   "source": [
    "``` python\n",
    "grades = {'Tim':90, 'Amy':95, 'Jack':85}\n",
    "print(80 in grades)"
   ]
  },
  {
   "cell_type": "markdown",
   "id": "b432b411-73d6-4ba7-a764-68fbf14bff27",
   "metadata": {},
   "source": [
    "```{admonition} Solution\n",
    ":class: toggle\n",
    "False\n",
    "```"
   ]
  },
  {
   "cell_type": "markdown",
   "id": "20bd5778-e641-4b1f-bf40-d4bfe38fafd0",
   "metadata": {},
   "source": [
    "## Question-14"
   ]
  },
  {
   "cell_type": "markdown",
   "id": "41caecb5-67ec-4d13-9981-2d39843c97bb",
   "metadata": {
    "tags": [
     "hide-output"
    ]
   },
   "source": [
    "``` python\n",
    "grades = {'Tim':90, 'Amy':95, 'Jack':85}\n",
    "print('Jack' in grades)"
   ]
  },
  {
   "cell_type": "markdown",
   "id": "b862c1d4-91c8-4518-a198-97c023708975",
   "metadata": {},
   "source": [
    "```{admonition} Solution\n",
    ":class: toggle\n",
    "True\n",
    "```"
   ]
  },
  {
   "cell_type": "markdown",
   "id": "8a82e174-f54d-4a1d-9056-8dd964502003",
   "metadata": {},
   "source": [
    "## Question-15"
   ]
  },
  {
   "cell_type": "markdown",
   "id": "11a3d6a3-fb0c-4df8-8c15-067b84159335",
   "metadata": {
    "tags": [
     "hide-output"
    ]
   },
   "source": [
    "``` python\n",
    "grades = {'Tim':90, 'Amy':95, 'Jack':85}\n",
    "print(len(grades))"
   ]
  },
  {
   "cell_type": "markdown",
   "id": "b4f2bfca-d502-4d14-965e-97619cf185c2",
   "metadata": {},
   "source": [
    "```{admonition} Solution\n",
    ":class: toggle\n",
    "3\n",
    "```"
   ]
  },
  {
   "cell_type": "markdown",
   "id": "6492b1bc-928b-4772-8e97-8881768de102",
   "metadata": {},
   "source": [
    "## Question-16"
   ]
  },
  {
   "cell_type": "markdown",
   "id": "89687fb7-5abb-40af-b3e9-bcdb2f858315",
   "metadata": {
    "tags": [
     "hide-output"
    ]
   },
   "source": [
    "``` python\n",
    "grades = {'Tim':90, 'Amy':95, 'Jack':85}\n",
    "grades['Amy'] = 100\n",
    "print(grades)"
   ]
  },
  {
   "cell_type": "markdown",
   "id": "e3db3b6d-1bce-4d09-9497-e54d35fe60c7",
   "metadata": {},
   "source": [
    "```{admonition} Solution\n",
    ":class: toggle\n",
    "{'Tim': 90, 'Amy': 100, 'Jack': 85}\n",
    "```"
   ]
  }
 ],
 "metadata": {
  "celltoolbar": "Tags",
  "hide_input": false,
  "kernelspec": {
   "display_name": "Python 3 (ipykernel)",
   "language": "python",
   "name": "python3"
  },
  "language_info": {
   "codemirror_mode": {
    "name": "ipython",
    "version": 3
   },
   "file_extension": ".py",
   "mimetype": "text/x-python",
   "name": "python",
   "nbconvert_exporter": "python",
   "pygments_lexer": "ipython3",
   "version": "3.11.8"
  },
  "toc": {
   "base_numbering": 1,
   "nav_menu": {},
   "number_sections": true,
   "sideBar": true,
   "skip_h1_title": false,
   "title_cell": "Table of Contents",
   "title_sidebar": "Contents",
   "toc_cell": false,
   "toc_position": {},
   "toc_section_display": true,
   "toc_window_display": false
  }
 },
 "nbformat": 4,
 "nbformat_minor": 5
}
