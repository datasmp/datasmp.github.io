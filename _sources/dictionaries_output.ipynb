{
 "cells": [
  {
   "cell_type": "markdown",
   "id": "13e18a7d",
   "metadata": {},
   "source": [
    "# Dictionaries Output\n",
    "![](title_pict/dictionaries_output2.png)\n",
    "\n",
    "- Find the output of the following code. \n",
    "- Please don't run the code before giving your answer. &emsp;&emsp;&emsp;&emsp;"
   ]
  },
  {
   "cell_type": "markdown",
   "id": "03fc8d4d",
   "metadata": {},
   "source": [
    "## Question-1"
   ]
  },
  {
   "cell_type": "markdown",
   "id": "ed9044dc-1181-4b27-a4b5-37060b5c6b7e",
   "metadata": {
    "tags": [
     "hide-output"
    ]
   },
   "source": [
    "``` python\n",
    "dict_exp = {'table':1, 'chair':2, 'washer':3}\n",
    "\n",
    "for i in dict_exp.keys():\n",
    "  print(i[-2])"
   ]
  },
  {
   "cell_type": "markdown",
   "id": "0abdb9bb-9e13-4860-ac69-0bdb461f8c83",
   "metadata": {},
   "source": [
    "```{admonition} Solution\n",
    ":class: toggle\n",
    "l  \n",
    "i  \n",
    "e\n",
    "```"
   ]
  },
  {
   "cell_type": "markdown",
   "id": "c1aef79d",
   "metadata": {},
   "source": [
    "## Question-2\n"
   ]
  },
  {
   "cell_type": "markdown",
   "id": "e938daf3-1a13-4434-8384-faadb7ca76ba",
   "metadata": {
    "tags": [
     "hide-output"
    ]
   },
   "source": [
    "``` python\n",
    "dict_exp = {'table':[1,5,9], 'chair':[10,20,30], 'washer':[2,7,4]}\n",
    "total = 0\n",
    "\n",
    "for i in dict_exp.values():\n",
    "  total += i[1]\n",
    "    \n",
    "print(total)"
   ]
  },
  {
   "cell_type": "markdown",
   "id": "1ca19da0-7a69-4b3b-af5b-d9e70109d5d5",
   "metadata": {},
   "source": [
    "```{admonition} Solution\n",
    ":class: toggle\n",
    "32\n",
    "```"
   ]
  },
  {
   "cell_type": "markdown",
   "id": "d0e75b17",
   "metadata": {},
   "source": [
    "## Question-3\n"
   ]
  },
  {
   "cell_type": "markdown",
   "id": "28802613-7928-439b-9f78-9da4a1979acc",
   "metadata": {
    "tags": [
     "hide-output"
    ]
   },
   "source": [
    "``` python\n",
    "dict_exp = {'table':[1,5,9], 'chair':[4,6,8], 'washer':[2,7,4]}\n",
    "total = 0\n",
    "\n",
    "for i in dict_exp.values():\n",
    "  for j in i:\n",
    "    total += i[1]\n",
    "      \n",
    "print(total)"
   ]
  },
  {
   "cell_type": "markdown",
   "id": "cdef862e-b769-43a9-9849-aa1bf27d8225",
   "metadata": {},
   "source": [
    "```{admonition} Solution\n",
    ":class: toggle\n",
    "54\n",
    "```"
   ]
  },
  {
   "cell_type": "markdown",
   "id": "1bc72fed",
   "metadata": {},
   "source": [
    "## Question-4"
   ]
  },
  {
   "cell_type": "markdown",
   "id": "5fa8be9c-688b-42ac-b4ee-86de35c09e3f",
   "metadata": {
    "tags": [
     "hide-output"
    ]
   },
   "source": [
    "``` python\n",
    "dict_exp = {'table':[1,5,9], 'chair':[4,6,8], 'washer':[2,7,4]}\n",
    "total = 0\n",
    "\n",
    "for i in dict_exp.values():\n",
    "  for j in i:\n",
    "    total += j\n",
    "      \n",
    "print(total)"
   ]
  },
  {
   "cell_type": "markdown",
   "id": "605fc14c-64c7-4deb-8d53-fb24f0c5bb1c",
   "metadata": {},
   "source": [
    "```{admonition} Solution\n",
    ":class: toggle\n",
    "46\n",
    "```"
   ]
  },
  {
   "cell_type": "markdown",
   "id": "f69a9cd1-3b07-4d29-af2e-e6b2fc5a32d1",
   "metadata": {},
   "source": [
    "## Question-5"
   ]
  },
  {
   "cell_type": "markdown",
   "id": "ccc7bba5-ad3b-4f47-ac8d-49e0bf59a17d",
   "metadata": {
    "tags": [
     "hide-output"
    ]
   },
   "source": [
    "``` python\n",
    "stock_dict = {'day-1':{'High': 70, 'Low':62, 'Close':65},\n",
    "              'day-2':{'High': 68, 'Low':60, 'Close':63},\n",
    "              'day-3':{'High': 71, 'Low':65, 'Close':67},\n",
    "              'day-4':{'High': 70, 'Low':62, 'Close':65},\n",
    "              'day-5':{'High': 73, 'Low':65, 'Close':70},\n",
    "              'day-6':{'High': 75, 'Low':69, 'Close':73}\n",
    "              }\n",
    "\n",
    "for i in [1,3]:\n",
    "  print(stock_dict['day-'+str(i)]['Low'])"
   ]
  },
  {
   "cell_type": "markdown",
   "id": "04f4743d-0691-4edc-9746-6f02ae428cef",
   "metadata": {},
   "source": [
    "```{admonition} Solution\n",
    ":class: toggle\n",
    "62  \n",
    "65\n",
    "```"
   ]
  },
  {
   "cell_type": "markdown",
   "id": "cace03a5-f754-4ada-b999-54235cc7ffd0",
   "metadata": {},
   "source": [
    "## Question-6"
   ]
  },
  {
   "cell_type": "markdown",
   "id": "9aab87ed-7c72-4f15-91d9-e4c13a036ad7",
   "metadata": {
    "tags": [
     "hide-output"
    ]
   },
   "source": [
    "``` python\n",
    "stock_dict = {'day-1':{'High': 70, 'Low':62, 'Close':65},\n",
    "              'day-2':{'High': 68, 'Low':60, 'Close':63},\n",
    "              'day-3':{'High': 71, 'Low':65, 'Close':67},\n",
    "              'day-4':{'High': 70, 'Low':62, 'Close':65},\n",
    "              'day-5':{'High': 73, 'Low':65, 'Close':70},\n",
    "              'day-6':{'High': 75, 'Low':69, 'Close':73}\n",
    "              }\n",
    "total = 0\n",
    "\n",
    "for i,j in stock_dict.items():\n",
    "  total += int(i[-1])\n",
    "\n",
    "print(total)"
   ]
  },
  {
   "cell_type": "markdown",
   "id": "08b5beb2-74b7-4121-bf23-3a4ef1d82f33",
   "metadata": {},
   "source": [
    "```{admonition} Solution\n",
    ":class: toggle\n",
    "21\n",
    "```"
   ]
  },
  {
   "cell_type": "markdown",
   "id": "a4704f5e-7da3-4151-8b92-00454e30ba3f",
   "metadata": {},
   "source": [
    "## Question-7"
   ]
  },
  {
   "cell_type": "markdown",
   "id": "0450f5f1-a190-4fa4-8b9b-ba5d78e568df",
   "metadata": {
    "tags": [
     "hide-output"
    ]
   },
   "source": [
    "``` python\n",
    "stock_dict = {'day-1':{'High': 70, 'Low':62, 'Close':65},\n",
    "              'day-2':{'High': 68, 'Low':60, 'Close':63},\n",
    "              'day-3':{'High': 71, 'Low':65, 'Close':67},\n",
    "              'day-4':{'High': 70, 'Low':62, 'Close':65},\n",
    "              'day-5':{'High': 73, 'Low':65, 'Close':70},\n",
    "              'day-6':{'High': 75, 'Low':69, 'Close':73}\n",
    "              }\n",
    "total = 0\n",
    "\n",
    "for i,j in stock_dict.items():\n",
    "  total += j['High']//10\n",
    "\n",
    "print(total)"
   ]
  },
  {
   "cell_type": "markdown",
   "id": "78aa1803-eb94-474b-934c-e646ccf87efb",
   "metadata": {},
   "source": [
    "```{admonition} Solution\n",
    ":class: toggle\n",
    "41\n",
    "```"
   ]
  },
  {
   "cell_type": "markdown",
   "id": "682031c3-cfc4-48a9-9f8a-9f5bce5f8890",
   "metadata": {},
   "source": [
    "## Question-8\n"
   ]
  },
  {
   "cell_type": "markdown",
   "id": "366356fa-ff30-41de-949c-e752b4536b6e",
   "metadata": {
    "tags": [
     "hide-output"
    ]
   },
   "source": [
    "``` python\n",
    "my_dict = {200:'NY', 100:'NJ', 400:'TX', 300:'CA'}\n",
    "\n",
    "for i in my_dict.keys():\n",
    "  if i>188:\n",
    "    print(my_dict[i][1])"
   ]
  },
  {
   "cell_type": "markdown",
   "id": "5d8d6e97-105d-4b5d-a583-b6afc0944e03",
   "metadata": {},
   "source": [
    "```{admonition} Solution\n",
    ":class: toggle\n",
    "Y  \n",
    "X  \n",
    "A\n",
    "```"
   ]
  },
  {
   "cell_type": "markdown",
   "id": "08e1e1ce",
   "metadata": {},
   "source": [
    "## Question-9\n"
   ]
  },
  {
   "cell_type": "markdown",
   "id": "a8431933-3c66-4dc0-ac55-74f2bf1188f1",
   "metadata": {
    "tags": [
     "hide-output"
    ]
   },
   "source": [
    "``` python\n",
    "mydict = {'A':(10,100), 'B':(20, 200), 'C':(30,300)}\n",
    "\n",
    "for i,j in mydict.values():\n",
    "  print(i,j)"
   ]
  },
  {
   "cell_type": "markdown",
   "id": "ee41fa3c-2e52-4db7-b23a-13f932fecda0",
   "metadata": {},
   "source": [
    "```{admonition} Solution\n",
    ":class: toggle\n",
    "10 100  \n",
    "20 200  \n",
    "30 300\n",
    "```"
   ]
  },
  {
   "cell_type": "code",
   "execution_count": null,
   "id": "2755af46-bd1d-4937-922e-d9b8e054bd13",
   "metadata": {},
   "outputs": [],
   "source": []
  }
 ],
 "metadata": {
  "celltoolbar": "Tags",
  "hide_input": false,
  "kernelspec": {
   "display_name": "Python 3 (ipykernel)",
   "language": "python",
   "name": "python3"
  },
  "language_info": {
   "codemirror_mode": {
    "name": "ipython",
    "version": 3
   },
   "file_extension": ".py",
   "mimetype": "text/x-python",
   "name": "python",
   "nbconvert_exporter": "python",
   "pygments_lexer": "ipython3",
   "version": "3.11.7"
  },
  "toc": {
   "base_numbering": 1,
   "nav_menu": {},
   "number_sections": true,
   "sideBar": true,
   "skip_h1_title": false,
   "title_cell": "Table of Contents",
   "title_sidebar": "Contents",
   "toc_cell": false,
   "toc_position": {},
   "toc_section_display": true,
   "toc_window_display": false
  }
 },
 "nbformat": 4,
 "nbformat_minor": 5
}
