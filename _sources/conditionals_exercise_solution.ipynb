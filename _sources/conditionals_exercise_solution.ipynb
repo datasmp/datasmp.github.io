{
 "cells": [
  {
   "cell_type": "markdown",
   "id": "4e78bee9-89c6-4996-bf66-cf1208e0053c",
   "metadata": {},
   "source": [
    "# Conditionals Exercises and Solutions"
   ]
  },
  {
   "cell_type": "markdown",
   "id": "dba324fe-e393-441c-8499-487d6d2c65f9",
   "metadata": {},
   "source": [
    "## Question-1\n",
    "Prompt the user to enter a five-digit number and calculate the count of even digits.\n",
    "- Do not use loops.\n",
    "\n",
    "Sample output:  \n",
    "Please enter a five digit number: 12345  \n",
    "There are 2 even digits in 12345.\n",
    "\n",
    "**Solution**"
   ]
  },
  {
   "cell_type": "markdown",
   "id": "5ec0531b-6cb0-4685-9a4d-15b220c3c56c",
   "metadata": {},
   "source": [
    "``` python\n",
    "number = input('Please enter a five digit number:')\n",
    "count_even = 0\n",
    "\n",
    "if int(number[0])%2==0: count_even += 1\n",
    "if int(number[1])%2==0: count_even += 1\n",
    "if int(number[2])%2==0: count_even += 1\n",
    "if int(number[3])%2==0: count_even += 1\n",
    "if int(number[4])%2==0: count_even += 1\n",
    "\n",
    "print(f'There are {count_even} even digits in {number}.')"
   ]
  },
  {
   "cell_type": "markdown",
   "id": "abee1681-8fb2-4567-bf27-9cdea8f426cb",
   "metadata": {},
   "source": [
    "## Question-2\n",
    "The following code returns the week day of today as a number. (0 is Monday, 1 is Tuesday, ....) \n",
    "\n",
    "``` python\n",
    "from datetime import datetime\n",
    "datetime.now().weekday()\n",
    "```\n",
    "\n",
    "- Prompt the user to enter a weekday (Monday, Tuesday,...).\n",
    "- Verify whether today is the weekday given by the user. (not case-sensitive)\n",
    "- Do not use loops or lists.\n",
    "\n",
    "Sample output:    \n",
    "Please enter a weekday: ThursdaY  \n",
    "Today is not Thursday.  \n",
    "\n",
    "Please enter a weekday: wedNESday  \n",
    "Today is Wednesday.  \n",
    "\n",
    "Please enter a weekday: wed  \n",
    "Warning!!! Please enter the day in the correct form.  \n",
    "\n",
    "**Solution**"
   ]
  },
  {
   "cell_type": "markdown",
   "id": "3f77e726-e049-4ae6-91ed-725d7f1b9315",
   "metadata": {},
   "source": [
    "``` python\n",
    "\n",
    "user_day = input('Please enter a weekday:').lower()\n",
    "\n",
    "if user_day=='monday': user_day_number = 0\n",
    "elif user_day=='tuesday': user_day_number = 1\n",
    "elif user_day=='wednesday': user_day_number = 2\n",
    "elif user_day=='thursday': user_day_number = 3\n",
    "elif user_day=='friday': user_day_number = 4\n",
    "elif user_day=='saturday': user_day_number = 5\n",
    "elif user_day=='sunday': user_day_number = 6\n",
    "else: \n",
    "    print('Warning!!! Please enter the day in the correct form.')\n",
    "    user_day_number = 'DNE'\n",
    "    \n",
    "from datetime import datetime\n",
    "weekday_number = datetime.now().weekday()\n",
    "\n",
    "if user_day_number != 'DNE':\n",
    "    if weekday_number == user_day_number :\n",
    "        print(user_day_number)\n",
    "        print(f'Today is {user_day.capitalize()}.')\n",
    "    else:\n",
    "        print(f'Today is not {user_day.capitalize()}.')"
   ]
  },
  {
   "cell_type": "markdown",
   "id": "0cd8fa1f-a165-4ebb-ae09-58ac8f056901",
   "metadata": {},
   "source": [
    "## Question-3: Distance Formula\n",
    "\n",
    "Use a single input() function to prompt the user to enter the coordinates of a theater in the format (x,y).\n",
    "- Assume the user's house coordinates are (3,4).\n",
    "- Calculate the distance between the house and the theater using the distance formula.\n",
    "- If the distance is less than 5 units, the user will go to the theater; otherwise, the user will stay at home.\n",
    "- Display the conclusion based on the provided theater location. \n",
    "\n",
    "The distance between two points $P=(x_1,y_1)$ and $Q=(x_2,y_2)$ is given by the following distance formula:  \n",
    "- $\\displaystyle dist(P,Q) = \\sqrt{(x_2-x_1)^2+(y_2-y_1)^2}$\n",
    "\n",
    "Sample Output:  \n",
    "Enter the coordinates of the theater in the form of (x,y): (2,10)  \n",
    "The theater is too far. Stay at home."
   ]
  },
  {
   "cell_type": "markdown",
   "id": "6c22ce66-b94c-4c73-9d64-6084ec73eaaa",
   "metadata": {},
   "source": [
    "``` python\n",
    "\n",
    "import math\n",
    "\n",
    "coordinates = input('Enter the coordinates of the theather in the form of (x,y):')\n",
    "index_comma = coordinates.find(',')\n",
    "\n",
    "x = float(coordinates[1:index_comma])\n",
    "y = float(coordinates[index_comma+1:-1])\n",
    "\n",
    "distance = math.sqrt( (x-3)**2+(y-4)**2 )\n",
    "\n",
    "if distance < 5:\n",
    "    print('You can go to the theather.')\n",
    "else:\n",
    "    print('The theather is too far. Stay at home.')"
   ]
  },
  {
   "cell_type": "markdown",
   "id": "6552ff6f-2961-4757-98c5-ca2467b9fb23",
   "metadata": {},
   "source": [
    "## Question-4\n",
    "Prompt the user to enter a word.\n",
    "- If the given word has an odd length, print the middle character. Otherwise, print the middle two characters\n",
    "\n",
    "Sample output:    \n",
    "Enter a word: abcdef  \n",
    "Middle characters: cd  \n",
    "\n",
    "Enter a word: abcdefg  \n",
    "Middle character: d  \n",
    "\n",
    "\n",
    "**Solution**"
   ]
  },
  {
   "cell_type": "markdown",
   "id": "b6f6cf7b-d87d-4bfa-8c1c-e49929ea092e",
   "metadata": {},
   "source": [
    "``` python\n",
    "\n",
    "word = input('Enter a word:')\n",
    "if len(word)%2==0:\n",
    "    print('Middle characters:', word[int(len(word)/2)-1:int(len(word)/2)+1])\n",
    "else:\n",
    "    print('Middle character:', word[int(len(word)/2)])"
   ]
  },
  {
   "cell_type": "markdown",
   "id": "f62f7bf7-3f4b-45b0-a769-041cc5c831d7",
   "metadata": {},
   "source": [
    "## Question-5\n",
    "\n",
    "Prompt the user to choose a password that satisfies the following conditions:\n",
    "- The first character must be a digit.\n",
    "- The last character must be a punctuation mark.\n",
    "- The length of the password must be at least 5 characters.\n",
    "\n",
    "Print whether the given password is acceptable.\n",
    "\n",
    "Sample output:       \n",
    "Choose a password: 123.    \n",
    "The password 123. is NOT acceptable.    \n",
    "\n",
    "Choose a password: abcdef,  \n",
    "The password abcdef, is NOT acceptable.  \n",
    "\n",
    "Choose a password: 2werqt,  \n",
    "The password 2werqt, is acceptable.  \n",
    "\n",
    "**Solution**"
   ]
  },
  {
   "cell_type": "markdown",
   "id": "d9d11b28-2b42-4763-b00d-9c6dbbf78cf3",
   "metadata": {},
   "source": [
    "``` python\n",
    "\n",
    "import string\n",
    "\n",
    "password = input('Choose a password:')\n",
    "\n",
    "if password[0].isdigit() and (password[-1] in string.punctuation) and len(password)>=5:\n",
    "    print(f'The password {password} is acceptable.')\n",
    "else:\n",
    "    print(f'The password {password} is NOT acceptable.')"
   ]
  },
  {
   "cell_type": "markdown",
   "id": "ccb2007c-3b1f-4a40-bd0c-a21c8c6bed61",
   "metadata": {},
   "source": [
    "## Question-6\n",
    "\n",
    "Prompt the user to choose a number between 1 and 6, including these numbers.\n",
    "- Roll a die (choose a random number between 1 and 6).\n",
    "- Check whether the user's guess is correct.\n",
    "\n",
    "Sample Output:  \n",
    "Guess the number on the die: 9  \n",
    "Please enter a valid number.  \n",
    "\n",
    "Guess the number on the die: 5  \n",
    "Wrong!  \n",
    "\n",
    "Guess the number on the die: 2  \n",
    "Correct!\n",
    "\n",
    "\n",
    "**Solution**"
   ]
  },
  {
   "cell_type": "markdown",
   "id": "eb0776c5-9dfa-4427-9c8e-5a425173ece8",
   "metadata": {},
   "source": [
    "``` python\n",
    "\n",
    "import random\n",
    "\n",
    "guess = int(input('Guess the number on the die:'))\n",
    "\n",
    "die = random.randint(1,6)\n",
    "if guess<1 or guess>6:\n",
    "    print('Please enter a valid number.')\n",
    "else:\n",
    "    if die == guess:\n",
    "        print('Correct!')\n",
    "    else:\n",
    "        print('Wrong!')"
   ]
  },
  {
   "cell_type": "markdown",
   "id": "c16926b5-271b-4beb-9d85-7d3fcf332375",
   "metadata": {},
   "source": [
    "## Question-7: Absolute Value\n",
    "Ask the user for a number and find its absolute value without using built-in functions.\n",
    "- Absolute value means the positive value of a number.\n",
    "- For example, if you have -5, the absolute value is 5.\n",
    "- If the number is 7, its absolute value remains 7.\n",
    "- Absolute value of 0 is simply 0.\n",
    "\n",
    "*Sample Output:*   \n",
    "Please enter a number:  -5  \n",
    "Absolute value of -5.0 is 5.0  \n",
    "\n",
    "Please enter a number:  7  \n",
    "Absolute value of 7.0 is 7.0  "
   ]
  },
  {
   "cell_type": "markdown",
   "id": "d0a176cd-c892-4ba2-9a9e-579bdb94b479",
   "metadata": {},
   "source": [
    "``` python\n",
    "number = float(input('Please enter a number: '))\n",
    "\n",
    "if number < 0:\n",
    "    print(f'Absolute value of {number} is {-number}' )\n",
    "else:\n",
    "    print(f'Absolute value of {number} is {number}' )"
   ]
  },
  {
   "cell_type": "markdown",
   "id": "3ed64083-cc6d-46a7-9305-115c2b2692b8",
   "metadata": {},
   "source": [
    "## Question-8: ReLU\n",
    "Ask the user for a number and find its ReLU value without using built-in functions.\n",
    "- ReLU value of positive numbers is itself.\n",
    "- ReLU of 0 and non-negative numbers is 0.\n",
    "- For example, if you have -5, the ReLU value is 0.\n",
    "- If the number is 7, its absolute value remains 7.\n",
    "- ReLU value of 0 is 0.\n",
    "\n",
    "*Sample Output:*   \n",
    "Please enter a number: -5    \n",
    "ReLU value of -5.0 is 0  \n",
    "\n",
    "Please enter a number:  7  \n",
    "Absolute value of 7.0 is 7.0  "
   ]
  },
  {
   "cell_type": "markdown",
   "id": "1a4bfe3a-4af7-404f-8859-196044eb306c",
   "metadata": {},
   "source": [
    "``` python\n",
    "number = float(input('Please enter a number: '))\n",
    "\n",
    "if number < 0:\n",
    "    print(f'ReLU value of {number} is {0}' )\n",
    "else:\n",
    "    print(f'ReLU value of {number} is {number}' )"
   ]
  },
  {
   "cell_type": "markdown",
   "id": "6c53d987-b8f4-49c0-b7b8-6b596ca4c686",
   "metadata": {},
   "source": [
    "## Question-9: Heaviside \n",
    "Ask the user for a number and find its Heaviside value without using built-in functions.\n",
    "- Heaviside value of a positive number is 1.\n",
    "- Heaviside value of a negative number is 0.\n",
    "- Heaviside value of 0 is 0.5\n",
    "\n",
    "\n",
    "*Sample Output:*   \n",
    "Please enter a number: -5    \n",
    "Heaviside value of -5.0 is 0  \n",
    "\n",
    "Please enter a number: 7  \n",
    "Heaviside value of 7.0 is 1  \n",
    "\n",
    "Please enter a number: 0  \n",
    "Heaviside value of 0.0 is 0.5  "
   ]
  },
  {
   "cell_type": "markdown",
   "id": "4ce76667-42ee-4f8e-88fc-138cb7c054b8",
   "metadata": {},
   "source": [
    "``` python\n",
    "number = float(input('Please enter a number: '))\n",
    "\n",
    "if number < 0:\n",
    "    print(f'Heaviside value of {number} is {0}' )\n",
    "elif number > 0:\n",
    "    print(f'Heaviside value of {number} is {1}' )\n",
    "else:\n",
    "    print(f'Heaviside value of {number} is {0.5}' )"
   ]
  },
  {
   "cell_type": "markdown",
   "id": "97f77520-aecb-4fcb-a34b-246e044db0b5",
   "metadata": {},
   "source": [
    "## Business Applications"
   ]
  },
  {
   "cell_type": "markdown",
   "id": "f7d3e68a-d4f0-45d6-90b0-ec69f4d0b705",
   "metadata": {},
   "source": [
    "### Question: Discount\n",
    "An online store offers discounts based on the amount you spend:\n",
    "\n",
    "- No discount for spending less than 100 dollars.\n",
    "- 20% discount for spending between 100 and 150 dollars.\n",
    "- 30% discount for spending between 150 and 200 dollars.\n",
    "- 40% discount for spending over 200 dollars.\n",
    "  \n",
    "Write a program that prompts the user to enter their total spending and returns the final price after applying the appropriate discount, adding a 6% tax, and including a 3% shipping fee."
   ]
  },
  {
   "cell_type": "markdown",
   "id": "5764c28e-6c5f-4199-9573-07aae696e668",
   "metadata": {},
   "source": [
    "```python\n",
    "amount = float(input('Please enter the amount that you spend:'))\n",
    "\n",
    "if amount < 0:\n",
    "    print('Wrong entry!')\n",
    "if amount < 100:\n",
    "    pass\n",
    "elif 100 <= amount <= 150:\n",
    "    amount *= 0.8\n",
    "elif 150 < amount <= 200:\n",
    "    amount *= 0.7\n",
    "else :\n",
    "    amount *= 0.6\n",
    "\n",
    "print(f'Final amount: {amount + amount*(0.06+0.03)}')"
   ]
  },
  {
   "cell_type": "markdown",
   "id": "c51d53de-2c29-493d-9cc9-bec3b8779bc4",
   "metadata": {},
   "source": [
    "### Question: Loan Approval\n",
    "Write a program that prompts the user to enter their credit score and the amount they want to apply for using two *input()* functions. The program should return the approval decision based on the following table:\n",
    "\n",
    "\n",
    "|Credit Score|Loan Amount|Decision|\n",
    "|-|-|-|\n",
    "|less than or equal to 600|less than or equal to 10,000|Approved|\n",
    "|less than or equal to 600|greater than 10,000|Deny|\n",
    "|between 600 and 800      |less than or equal to 30,000|Approved|\n",
    "|between 600 and 800      |greater than 30,000|Deny|\n",
    "|greater than or equal to 800|less than or equal to 50,000|Approved|\n",
    "|greater than or equal to 800|greater than 50,000|Deny|"
   ]
  },
  {
   "cell_type": "code",
   "execution_count": 19,
   "id": "b255721b-8411-46c2-8484-a3fa794d33f5",
   "metadata": {},
   "outputs": [
    {
     "name": "stdin",
     "output_type": "stream",
     "text": [
      "Please enter the loan amount   : 40000\n",
      "Please enter your credit course: 600\n"
     ]
    },
    {
     "name": "stdout",
     "output_type": "stream",
     "text": [
      "Deny.\n"
     ]
    }
   ],
   "source": [
    "loan_amount  = float(input('Please enter the loan amount   :'))\n",
    "credit_score = float(input('Please enter your credit course:'))\n",
    "if   (credit_score <= 600) & (loan_amount <= 10_000):\n",
    "    print('Approved.')\n",
    "elif (credit_score <= 600) & (loan_amount > 10_000):\n",
    "    print('Deny.')\n",
    "elif (600 < credit_score < 800) & (loan_amount <= 30_000):\n",
    "    print('Approved.')\n",
    "elif (600 < credit_score < 800) & (loan_amount > 30_000):\n",
    "    print('Deny.')\n",
    "elif (credit_score >= 800) & (loan_amount <= 50_000):\n",
    "    print('Approved.')\n",
    "elif (credit_score >= 800) & (loan_amount > 50_000):\n",
    "    print('Deny.')"
   ]
  },
  {
   "cell_type": "markdown",
   "id": "d2653d1b-9219-4b7f-89ad-9419a59b1d3c",
   "metadata": {},
   "source": [
    "### Question: Tax\n",
    "IRS uses he following table to determine the tax amount for a single person.\n",
    "\n",
    "|Tax Rate|on taxable income from . . .\t|up to . . .|\n",
    "|-|:-:|:-:\n",
    "|10%|0|11,000|\n",
    "|12%|11,001 |44,725|\n",
    "|22%|44,726 |95,375|\n",
    "|24%|95,376 |182,100|\n",
    "|32%|182,101|231,250|\n",
    "|35%|231,251|578,125|\n",
    "|37%|578,126| and up|\n",
    "\n",
    "\n",
    "- You pay tax based on income levels called tax brackets.\n",
    "- As your income increases, the tax rate for each new level goes up.\n",
    "- When you move to a higher tax bracket, you don't pay the higher rate on all your income.\n",
    "- You only pay the higher rate on the income within the new bracket.\n",
    "\n",
    "**Example** If your income is 100,000 dollars, the tax you pay is the sum of the taxes from each tax bracket your income falls into.\n",
    "Therefore it is the sum of:\n",
    "- 10% of 11,000\n",
    "- 12% 0f 44,725 - 11,001 = 33,724\n",
    "- 22% of 95,375 - 44,726 = 50,649\n",
    "- 24% 0f 100,000 - 95,375 = 4,625\n",
    "Source: https://www.irs.gov/filing/federal-income-tax-rates-and-brackets\n",
    "\n",
    "Write a program that prompts the user to enter their income and returns the corresponding tax amount based on th etable above."
   ]
  },
  {
   "cell_type": "markdown",
   "id": "ec732d84-46d5-47c9-ab84-94eb668fd7c4",
   "metadata": {},
   "source": [
    "```python\n",
    "income = float(input('Please enter your income: '))\n",
    "\n",
    "if income <= 11_000:\n",
    "    tax = income * 0.10\n",
    "elif income <= 44_725:\n",
    "    tax = 11_000 * 0.10 + (income-11_000)*0.12\n",
    "elif income <= 95_375:\n",
    "    tax = 11_000 * 0.10 + (44_725-11_000)*0.12 + (income-44_725)*0.22\n",
    "elif income <= 182_100:\n",
    "    tax = 11_000 * 0.10 + (44_725-11_000)*0.12 + (95_375-44_725)*0.22 + (income - 95_375)*0.24\n",
    "elif income <= 231_250:\n",
    "    tax = 11_000 * 0.10 + (44_725-11_000)*0.12 + (95_375-44_725)*0.22 + (182_100 - 95_375)*0.24 + (income - 182_100)*0.32\n",
    "elif income <= 578_125:\n",
    "    tax = 11_000 * 0.10 + (44_725-11_000)*0.12 + (95_375-44_725)*0.22 + (182_100 - 95_375)*0.24 + (578_125 - 182_100)*0.32 + (income - 578_125)*0.35\n",
    "else:\n",
    "    tax = 11_000 * 0.10 + (44_725-11_000)*0.12 + (95_375-44_725)*0.22 + (182_100 - 95_375)*0.24 + (578_125 - 182_100)*0.32 + (578_125 - 578_125)*0.35 + (income - 578_125)*0.37\n",
    "\n",
    "print(f'Income: {income}  ---- Tax: {tax}')"
   ]
  },
  {
   "cell_type": "markdown",
   "id": "c8de7544-cc73-4d22-b2fd-aa6058e52187",
   "metadata": {},
   "source": [
    "### Question: Bucket Strategy\n",
    "A finance company offers three investment products based on different risk levels:\n",
    "- Conservative: 60% in interest, 30% in gold, 10% in stocks.\n",
    "- Moderate: 30% in interest, 40% in gold, 30% in stocks.\n",
    "- Aggressive: 10% in interest, 30% in gold, 60% in stocks.\n",
    "\n",
    "Write a program that prompts the user to enter their investment amount and the type of investment using two input() functions. \n",
    "\n",
    "The program should then calculate and return the gain or loss based on the following rates: an interest gain rate of 3%, a gold gain rate of 2%, and a stock loss rate of 3.5%.\n",
    "\n",
    "- The risk level input is not case-sensitive.\n",
    "\n",
    "Sample Output:  \n",
    "Please enter the risk type (Conservative/Moderate/Aggressive): Moderate  \n",
    "Please enter the investment amount: 1800  \n",
    "Change: 11.7  \n"
   ]
  },
  {
   "cell_type": "code",
   "execution_count": 14,
   "id": "f0e07590-cf74-40eb-a5ef-fca38cea1846",
   "metadata": {},
   "outputs": [
    {
     "name": "stdin",
     "output_type": "stream",
     "text": [
      "Please enter the risk type (Conservative/Moderate/Aggressive): Moderate\n",
      "Please enter the investment amount: 1800\n"
     ]
    },
    {
     "name": "stdout",
     "output_type": "stream",
     "text": [
      "Change: 11.7\n"
     ]
    }
   ],
   "source": [
    "risk_level = input('Please enter the risk type (Conservative/Moderate/Aggressive):')\n",
    "investment_amount = float(input('Please enter the investment amount:'))\n",
    "\n",
    "if risk_level.lower() == 'conservative':\n",
    "    change = investment_amount*0.6*0.03 + investment_amount*0.3*0.02 - investment_amount*0.1*0.035\n",
    "elif risk_level.lower() == 'moderate':\n",
    "    change = investment_amount*0.3*0.03 + investment_amount*0.4*0.02 - investment_amount*0.3*0.035\n",
    "else:\n",
    "    change = investment_amount*0.1*0.03 + investment_amount*0.3*0.02 - investment_amount*0.6*0.035\n",
    "\n",
    "print('Change:', change)"
   ]
  },
  {
   "cell_type": "code",
   "execution_count": 12,
   "id": "f512970f-d6bc-4f7d-936f-7ca990b9223f",
   "metadata": {},
   "outputs": [
    {
     "data": {
      "text/plain": [
       "-12.000000000000004"
      ]
     },
     "execution_count": 12,
     "metadata": {},
     "output_type": "execute_result"
    }
   ],
   "source": [
    "change"
   ]
  },
  {
   "cell_type": "code",
   "execution_count": null,
   "id": "25d3085f-d714-42a4-9781-0e43fcf4e1ba",
   "metadata": {},
   "outputs": [],
   "source": []
  }
 ],
 "metadata": {
  "kernelspec": {
   "display_name": "Python 3 (ipykernel)",
   "language": "python",
   "name": "python3"
  },
  "language_info": {
   "codemirror_mode": {
    "name": "ipython",
    "version": 3
   },
   "file_extension": ".py",
   "mimetype": "text/x-python",
   "name": "python",
   "nbconvert_exporter": "python",
   "pygments_lexer": "ipython3",
   "version": "3.11.7"
  }
 },
 "nbformat": 4,
 "nbformat_minor": 5
}
