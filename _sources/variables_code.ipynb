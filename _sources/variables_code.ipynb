{
 "cells": [
  {
   "cell_type": "markdown",
   "id": "13e18a7d",
   "metadata": {
    "hide_input": false
   },
   "source": [
    "# Variables Code\n",
    "\n",
    "![Section Title: Variables Code](title_pict/variables_code2.png)\n",
    "\n",
    "- Please solve the following questions using Python code.&emsp;&emsp;"
   ]
  },
  {
   "cell_type": "markdown",
   "id": "7054f9a9",
   "metadata": {},
   "source": [
    "## Question-1\n",
    "Create a variable named `course` and assign the value `math` to it.  \n"
   ]
  },
  {
   "cell_type": "markdown",
   "id": "30b513b4-1c71-443e-8248-86df224b4d4e",
   "metadata": {},
   "source": [
    "```{admonition} Solution\n",
    ":class: toggle\n",
    "\n",
    "``` python\n",
    "course = 'math'\n",
    "```"
   ]
  },
  {
   "cell_type": "markdown",
   "id": "9a2cdb14",
   "metadata": {},
   "source": [
    "## Question-2\n",
    "Create a variable named `weight` and assign the value `180.4` to it.  \n"
   ]
  },
  {
   "cell_type": "markdown",
   "id": "ecfd4dd5-a764-4369-8ceb-37cf31134ad9",
   "metadata": {},
   "source": [
    "```{admonition} Solution\n",
    ":class: toggle\n",
    "\n",
    "``` python\n",
    "weight = 180.4\n",
    "```"
   ]
  },
  {
   "cell_type": "markdown",
   "id": "deeef83a",
   "metadata": {},
   "source": [
    "## Question-3\n",
    "Create a variable named `number_of_apples` and assign the value `45` to it.\n"
   ]
  },
  {
   "cell_type": "markdown",
   "id": "d3f368a1-6056-4d5a-be4d-8d4e37eb6ba1",
   "metadata": {},
   "source": [
    "```{admonition} Solution\n",
    ":class: toggle\n",
    "\n",
    "``` python\n",
    "number_of_apples = 45\n",
    "```"
   ]
  },
  {
   "cell_type": "markdown",
   "id": "8b1e077a",
   "metadata": {},
   "source": [
    "## Question-4\n",
    "Write the code to convert the integer `1` to the string `'1'`\n"
   ]
  },
  {
   "cell_type": "markdown",
   "id": "67a78d0d-ffbc-4cc1-b9ed-f12f58efe023",
   "metadata": {},
   "source": [
    "```{admonition} Solution\n",
    ":class: toggle\n",
    "\n",
    "``` python\n",
    "str(1)\n",
    "```"
   ]
  },
  {
   "cell_type": "markdown",
   "id": "4df5a565",
   "metadata": {},
   "source": [
    "## Question-5\n",
    "- Create a variable named `x` and assign the value 7 to it.\n",
    "- Create a variable named `y` and assign the value 3 to it.\n",
    "- Display the sum, difference, and product of 7 and 3 using the variables `x` and `y`.  \n",
    "    "
   ]
  },
  {
   "cell_type": "markdown",
   "id": "9b77bcdd-8211-497a-b41d-1c97d14bb9f2",
   "metadata": {},
   "source": [
    "```{admonition} Solution\n",
    ":class: toggle\n",
    "\n",
    "``` python\n",
    "x = 7\n",
    "y = 3\n",
    "print('Sum        :', x+y)\n",
    "print('Difference :', x-y)\n",
    "print('Product    :', x*y)\n",
    "```"
   ]
  },
  {
   "cell_type": "markdown",
   "id": "3809f904",
   "metadata": {},
   "source": [
    "## Question-6\n",
    "- Create a variable named `x` and assign the value 7 to it.\n",
    "- Create a variable named `y` and assign the value 3 to it.\n",
    "- Create a variable named `z`, assign the value of `x * y` to it.\n",
    "- Display `z`.\n"
   ]
  },
  {
   "cell_type": "markdown",
   "id": "6504d1cf-2524-4b4a-8191-3cbef37f14cf",
   "metadata": {},
   "source": [
    "```{admonition} Solution\n",
    ":class: toggle\n",
    "\n",
    "``` python\n",
    "x = 7\n",
    "y = 3\n",
    "z = x*y\n",
    "print('Product    :', z)\n",
    "```"
   ]
  },
  {
   "cell_type": "markdown",
   "id": "a74717e0",
   "metadata": {},
   "source": [
    "## Question-7\n",
    "- Create a variable named `width` and assign the value `10` to it.\n",
    "- Create a variable named `length` and assign the value `50` to it.\n",
    "    - These variables represent the sides of a rectangle.\n",
    "- Create a variable named `perimeter` and assign the value of the rectangle's perimeter to it.\n",
    "- Create a variable named `area` and assign the value of the rectangle's area to it.\n",
    "\n",
    "- Display the following statements by using the variables `width`, `length`, `perimeter` and `area`.\n",
    "\n",
    "  - The width of the garden is 10 ft.\n",
    "  - The length of the garden is 50 ft.\n",
    "  - The area of the rectangle is 500 square ft, indicating a large size. \n",
    "  - The perimeter of the rectangle measures 120 ft, indicating that a considerable amount of fencing is required.\n",
    "\n",
    "- Please avoid using the numbers 10 and 50 in your code, and remember to include appropriate punctuation. \n"
   ]
  },
  {
   "cell_type": "markdown",
   "id": "074e36b4-70e4-4042-a77a-84811bed7af4",
   "metadata": {},
   "source": [
    "```{admonition} Solution\n",
    ":class: toggle\n",
    "\n",
    "``` python\n",
    "width = 10\n",
    "length = 50\n",
    "perimeter = 2*(width+length)\n",
    "area = width*length\n",
    "print('The width of the garden is '+str(width)+' ft.')\n",
    "print('The length of the garden is '+str(length)+' ft.')\n",
    "print('The area of the rectangle is '+str(area)+' square ft, indicating a large size.')\n",
    "print('The perimeter of the rectangle measures '+str(perimeter)+' ft, indicating that a considerable amount of fencing is required.')\n",
    "```"
   ]
  },
  {
   "cell_type": "markdown",
   "id": "c17a11be",
   "metadata": {},
   "source": [
    "## Question-8\n",
    "- Create a variable named `x` and assign the value `3` to it. (integer type)\n",
    "- Without directly using the number `3` in your code (use variable `x`) print `3333` using three different code\n",
    "- Assign 5 to x and verify if you obtain `5555` with the same code.\n"
   ]
  },
  {
   "cell_type": "markdown",
   "id": "6dd9c639-4289-4888-93ed-b66d6f1c0e85",
   "metadata": {},
   "source": [
    "```{admonition} Solution\n",
    ":class: toggle\n",
    "\n",
    "``` python\n",
    "x = 3\n",
    "print(str(x)*4)\n",
    "print(str(x)+str(x)+str(x)+str(x))\n",
    "print(x*1111)\n",
    "\n",
    "print('-'*4)\n",
    "\n",
    "x = 5\n",
    "print(str(x)*4)\n",
    "print(str(x)+str(x)+str(x)+str(x))\n",
    "print(x*1111)\n",
    "```"
   ]
  }
 ],
 "metadata": {
  "celltoolbar": "Edit Metadata",
  "hide_input": false,
  "kernelspec": {
   "display_name": "Python 3 (ipykernel)",
   "language": "python",
   "name": "python3"
  },
  "language_info": {
   "codemirror_mode": {
    "name": "ipython",
    "version": 3
   },
   "file_extension": ".py",
   "mimetype": "text/x-python",
   "name": "python",
   "nbconvert_exporter": "python",
   "pygments_lexer": "ipython3",
   "version": "3.11.8"
  },
  "toc": {
   "base_numbering": 1,
   "nav_menu": {},
   "number_sections": true,
   "sideBar": true,
   "skip_h1_title": false,
   "title_cell": "Table of Contents",
   "title_sidebar": "Contents",
   "toc_cell": false,
   "toc_position": {},
   "toc_section_display": true,
   "toc_window_display": false
  }
 },
 "nbformat": 4,
 "nbformat_minor": 5
}
