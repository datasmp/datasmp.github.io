{
 "cells": [
  {
   "cell_type": "markdown",
   "id": "13e18a7d",
   "metadata": {
    "hide_input": false
   },
   "source": [
    "# Variables Code\n",
    "- Please solve the following questions using Python code.&emsp;&emsp;"
   ]
  },
  {
   "cell_type": "markdown",
   "id": "7054f9a9",
   "metadata": {},
   "source": [
    "## Question-1\n",
    "Create a variable named `course` and assign the value `math` to it.  \n",
    "\n",
    "**Solution**"
   ]
  },
  {
   "cell_type": "code",
   "execution_count": 1,
   "id": "790bb430",
   "metadata": {
    "tags": [
     "hide-cell"
    ]
   },
   "outputs": [
    {
     "name": "stdout",
     "output_type": "stream",
     "text": [
      "math\n"
     ]
    }
   ],
   "source": [
    "course = 'math'"
   ]
  },
  {
   "cell_type": "markdown",
   "id": "9a2cdb14",
   "metadata": {},
   "source": [
    "## Question-2\n",
    "Create a variable named `weight` and assign the value `180.4` to it.  \n",
    "\n",
    "**Solution**"
   ]
  },
  {
   "cell_type": "code",
   "execution_count": 3,
   "id": "355b4b4d",
   "metadata": {
    "tags": [
     "hide-cell"
    ]
   },
   "outputs": [
    {
     "name": "stdout",
     "output_type": "stream",
     "text": [
      "180.4\n"
     ]
    }
   ],
   "source": [
    "weight = 180.4"
   ]
  },
  {
   "cell_type": "markdown",
   "id": "deeef83a",
   "metadata": {},
   "source": [
    "## Question-3\n",
    "Create a variable named `number_of_apples` and assign the value `45` to it.\n",
    "\n",
    "**Solution**"
   ]
  },
  {
   "cell_type": "code",
   "execution_count": 14,
   "id": "641e2449",
   "metadata": {
    "tags": [
     "hide-cell"
    ]
   },
   "outputs": [
    {
     "name": "stdout",
     "output_type": "stream",
     "text": [
      "45\n"
     ]
    }
   ],
   "source": [
    "number_of_apples = 45"
   ]
  },
  {
   "cell_type": "markdown",
   "id": "8b1e077a",
   "metadata": {},
   "source": [
    "## Question-4\n",
    "Write the code to convert the integer `1` to the string `'1'`\n",
    "\n",
    "**Solution**"
   ]
  },
  {
   "cell_type": "code",
   "execution_count": 6,
   "id": "25ac098a",
   "metadata": {
    "tags": [
     "hide-cell"
    ]
   },
   "outputs": [
    {
     "data": {
      "text/plain": [
       "'1'"
      ]
     },
     "execution_count": 6,
     "metadata": {},
     "output_type": "execute_result"
    }
   ],
   "source": [
    "str(1)"
   ]
  },
  {
   "cell_type": "markdown",
   "id": "4df5a565",
   "metadata": {},
   "source": [
    "## Question-5\n",
    "- Create a variable named `x` and assign the value 7 to it.\n",
    "- Create a variable named `y` and assign the value 3 to it.\n",
    "- Display the sum, difference, and product of 7 and 3 using the variables `x` and `y`.  \n",
    "    \n",
    "**Solution**|"
   ]
  },
  {
   "cell_type": "code",
   "execution_count": 8,
   "id": "ff6b27dd",
   "metadata": {
    "tags": [
     "hide-cell"
    ]
   },
   "outputs": [
    {
     "name": "stdout",
     "output_type": "stream",
     "text": [
      "Sum        : 10\n",
      "Difference : 4\n",
      "Product    : 21\n"
     ]
    }
   ],
   "source": [
    "x = 7\n",
    "y = 3\n",
    "print('Sum        :', x+y)\n",
    "print('Difference :', x-y)\n",
    "print('Product    :', x*y)"
   ]
  },
  {
   "cell_type": "markdown",
   "id": "3809f904",
   "metadata": {},
   "source": [
    "## Question-6\n",
    "- Create a variable named `x` and assign the value 7 to it.\n",
    "- Create a variable named `y` and assign the value 3 to it.\n",
    "- Create a variable named `z`, assign the value of `x * y` to it.\n",
    "- Display `z`.\n",
    "\n",
    "**Solution**|"
   ]
  },
  {
   "cell_type": "code",
   "execution_count": 9,
   "id": "e4ca166e",
   "metadata": {
    "tags": [
     "hide-cell"
    ]
   },
   "outputs": [
    {
     "name": "stdout",
     "output_type": "stream",
     "text": [
      "Product    : 21\n"
     ]
    }
   ],
   "source": [
    "x = 7\n",
    "y = 3\n",
    "z = x*y\n",
    "print('Product    :', z)"
   ]
  },
  {
   "cell_type": "markdown",
   "id": "a74717e0",
   "metadata": {},
   "source": [
    "## Question-7\n",
    "- Create a variable named `width` and assign the value `10` to it.\n",
    "- Create a variable named `length` and assign the value `50` to it.\n",
    "    - These variables represent the sides of a rectangle.\n",
    "- Create a variable named `perimeter` and assign the value of the rectangle's perimeter to it.\n",
    "- Create a variable named `area` and assign the value of the rectangle's area to it.\n",
    "\n",
    "- Display the following statements by using the variables `width`, `length`, `perimeter` and `area`.\n",
    "\n",
    "  - The width of the garden is 10 ft.\n",
    "  - The length of the garden is 50 ft.\n",
    "  - The area of the rectangle is 500 square ft, indicating a large size. \n",
    "  - The perimeter of the rectangle measures 120 ft, indicating that a considerable amount of fencing is required.\n",
    "\n",
    "- Please avoid using the numbers 10 and 50 in your code, and remember to include appropriate punctuation. \n",
    "\n",
    "**Solution**"
   ]
  },
  {
   "cell_type": "code",
   "execution_count": 11,
   "id": "b56c2208",
   "metadata": {
    "tags": [
     "hide-cell"
    ]
   },
   "outputs": [
    {
     "name": "stdout",
     "output_type": "stream",
     "text": [
      "The width of the garden is 10 ft.\n",
      "The length of the garden is 50 ft.\n",
      "The area of the rectangle is 500 square ft, indicating a large size.\n",
      "The perimeter of the rectangle measures 120 ft, indicating that a considerable amount of fencing is required.\n"
     ]
    }
   ],
   "source": [
    "width = 10\n",
    "length = 50\n",
    "perimeter = 2*(width+length)\n",
    "area = width*length\n",
    "print('The width of the garden is '+str(width)+' ft.')\n",
    "print('The length of the garden is '+str(length)+' ft.')\n",
    "print('The area of the rectangle is '+str(area)+' square ft, indicating a large size.')\n",
    "print('The perimeter of the rectangle measures '+str(perimeter)+' ft, indicating that a considerable amount of fencing is required.')"
   ]
  },
  {
   "cell_type": "markdown",
   "id": "c17a11be",
   "metadata": {},
   "source": [
    "## Question-8\n",
    "- Create a variable named `x` and assign the value `3` to it. (integer type)\n",
    "- Without directly using the number `3` in your code (use variable `x`) print `3333` using three different code\n",
    "- Assign 5 to x and verify if you obtain `5555` with the same code.\n",
    "\n",
    "**Solution**"
   ]
  },
  {
   "cell_type": "code",
   "execution_count": 15,
   "id": "ef243dff",
   "metadata": {
    "tags": [
     "hide-cell"
    ]
   },
   "outputs": [
    {
     "name": "stdout",
     "output_type": "stream",
     "text": [
      "3333\n",
      "3333\n",
      "3333\n",
      "----\n",
      "5555\n",
      "5555\n",
      "5555\n"
     ]
    }
   ],
   "source": [
    "x = 3\n",
    "print(str(x)*4)\n",
    "print(str(x)+str(x)+str(x)+str(x))\n",
    "print(x*1111)\n",
    "\n",
    "print('-'*4)\n",
    "\n",
    "x = 5\n",
    "print(str(x)*4)\n",
    "print(str(x)+str(x)+str(x)+str(x))\n",
    "print(x*1111)"
   ]
  }
 ],
 "metadata": {
  "celltoolbar": "Edit Metadata",
  "hide_input": false,
  "kernelspec": {
   "display_name": "Python 3 (ipykernel)",
   "language": "python",
   "name": "python3"
  },
  "language_info": {
   "codemirror_mode": {
    "name": "ipython",
    "version": 3
   },
   "file_extension": ".py",
   "mimetype": "text/x-python",
   "name": "python",
   "nbconvert_exporter": "python",
   "pygments_lexer": "ipython3",
   "version": "3.11.7"
  },
  "toc": {
   "base_numbering": 1,
   "nav_menu": {},
   "number_sections": true,
   "sideBar": true,
   "skip_h1_title": false,
   "title_cell": "Table of Contents",
   "title_sidebar": "Contents",
   "toc_cell": false,
   "toc_position": {},
   "toc_section_display": true,
   "toc_window_display": false
  }
 },
 "nbformat": 4,
 "nbformat_minor": 5
}
