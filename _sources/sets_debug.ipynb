{
 "cells": [
  {
   "cell_type": "markdown",
   "id": "13e18a7d",
   "metadata": {},
   "source": [
    "# Sets Debugging\n",
    "\n",
    "- Each of the following short code contains one or more bugs. &emsp;&emsp;&emsp;&emsp;\n",
    "- Please identify and correct these bugs.\n",
    "- Provide an explanation for your answer."
   ]
  },
  {
   "cell_type": "markdown",
   "id": "854437f7",
   "metadata": {},
   "source": [
    "## Question\n",
    "\n",
    "``` python\n",
    "letters = {'a', 'b', 'c'}\n",
    "\n",
    "print(letters[1])\n",
    "```"
   ]
  },
  {
   "cell_type": "markdown",
   "id": "48a8af1e",
   "metadata": {},
   "source": [
    "```{admonition} Solution\n",
    ":class: toggle\n",
    "There is no indexing for sets."
   ]
  },
  {
   "cell_type": "markdown",
   "id": "4a1ec4b9-44ee-4caa-a93b-01d400726d0f",
   "metadata": {},
   "source": [
    "## Question\n",
    "\n",
    "``` python\n",
    "letters = {'a', 'b', 'c'}\n",
    "\n",
    "letters.append('d')\n",
    "\n",
    "print(letters)\n",
    "```"
   ]
  },
  {
   "cell_type": "markdown",
   "id": "f665ddf7-1ec0-4caa-8bba-c2ca7db1303f",
   "metadata": {},
   "source": [
    "```{admonition} Solution\n",
    ":class: toggle\n",
    "Sets do not have an append() method; instead, they use the add() method."
   ]
  },
  {
   "cell_type": "markdown",
   "id": "0304048d-f641-4b36-a77a-af86e20c232e",
   "metadata": {},
   "source": [
    "## Question\n",
    "\n",
    "``` python\n",
    "letters = {'a', 'b', ['c','d']}\n",
    "\n",
    "print(letters)\n",
    "```"
   ]
  },
  {
   "cell_type": "markdown",
   "id": "58453d7f-4b6d-4509-a867-5560fa07b28b",
   "metadata": {},
   "source": [
    "```{admonition} Solution\n",
    ":class: toggle\n",
    "A list cannot be an element of a set.\n"
   ]
  },
  {
   "cell_type": "markdown",
   "id": "4346a9a0-4399-401f-afbb-294ee65455be",
   "metadata": {},
   "source": [
    "## Question\n",
    "\n",
    "``` python\n",
    "numbers = {1,2,3,4,'5'}\n",
    "\n",
    "print(sum(numbers))\n",
    "```"
   ]
  },
  {
   "cell_type": "markdown",
   "id": "d7826cc7-64cd-45ba-a096-2b931b009860",
   "metadata": {},
   "source": [
    "```{admonition} Solution\n",
    ":class: toggle\n",
    "'5' is a string and cannot be added to integers."
   ]
  },
  {
   "cell_type": "markdown",
   "id": "6a0f1d19-3c1b-4260-99e3-c1b442de4d81",
   "metadata": {},
   "source": [
    "## Question\n",
    "\n",
    "``` python\n",
    "letters = {'a', 'b', 'c'}\n",
    "\n",
    "letters.pop(1)\n",
    "\n",
    "print(letters)\n",
    "```\n"
   ]
  },
  {
   "cell_type": "markdown",
   "id": "44961b02-dbdc-400a-92ed-2f4794a2fcbf",
   "metadata": {},
   "source": [
    "```{admonition} Solution\n",
    ":class: toggle\n",
    "The pop() method has no parameters.\n"
   ]
  },
  {
   "cell_type": "code",
   "execution_count": null,
   "id": "d3bbaf58-b276-4a55-b386-00295794a2f4",
   "metadata": {},
   "outputs": [],
   "source": []
  }
 ],
 "metadata": {
  "hide_input": false,
  "kernelspec": {
   "display_name": "Python 3 (ipykernel)",
   "language": "python",
   "name": "python3"
  },
  "language_info": {
   "codemirror_mode": {
    "name": "ipython",
    "version": 3
   },
   "file_extension": ".py",
   "mimetype": "text/x-python",
   "name": "python",
   "nbconvert_exporter": "python",
   "pygments_lexer": "ipython3",
   "version": "3.11.7"
  },
  "toc": {
   "base_numbering": 1,
   "nav_menu": {},
   "number_sections": true,
   "sideBar": true,
   "skip_h1_title": false,
   "title_cell": "Table of Contents",
   "title_sidebar": "Contents",
   "toc_cell": false,
   "toc_position": {},
   "toc_section_display": true,
   "toc_window_display": false
  }
 },
 "nbformat": 4,
 "nbformat_minor": 5
}
