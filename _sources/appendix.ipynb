{
 "cells": [
  {
   "cell_type": "markdown",
   "id": "93442870-f78b-40dd-b727-5cdda87ffd61",
   "metadata": {},
   "source": [
    "# Appendix\n",
    "\n",
    "![](title_pict/appendix2.png)\n",
    "\n",
    "\n",
    "\n",
    "In this section, you can find additional information about the modules and tools used throughout this book.\n",
    "\n",
    "\n",
    "Appendix A: Math module  \n",
    "Appendix B: Statistics Module  \n",
    "Appendix C: Random Module   \n",
    "Appendix D: Seaborn Module "
   ]
  },
  {
   "cell_type": "code",
   "execution_count": null,
   "id": "1771b0c8-e476-4cab-94de-0712b4e9824d",
   "metadata": {},
   "outputs": [],
   "source": []
  }
 ],
 "metadata": {
  "kernelspec": {
   "display_name": "Python 3 (ipykernel)",
   "language": "python",
   "name": "python3"
  },
  "language_info": {
   "codemirror_mode": {
    "name": "ipython",
    "version": 3
   },
   "file_extension": ".py",
   "mimetype": "text/x-python",
   "name": "python",
   "nbconvert_exporter": "python",
   "pygments_lexer": "ipython3",
   "version": "3.11.7"
  }
 },
 "nbformat": 4,
 "nbformat_minor": 5
}
