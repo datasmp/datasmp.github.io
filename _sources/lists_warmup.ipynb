{
 "cells": [
  {
   "cell_type": "markdown",
   "id": "16496257-d691-4482-8029-addb917dedfb",
   "metadata": {},
   "source": [
    "# Lists Warm Up\n",
    "![Section Title: Lists Warm Up](title_pict/lists_warmup2.png)\n"
   ]
  },
  {
   "cell_type": "markdown",
   "id": "6d77284e-09ff-4fce-bd64-1cceb66cf125",
   "metadata": {},
   "source": [
    "## Warm Up Question-1\n",
    "Create a list that includes an integer, a decimal number, a string, and a boolean value."
   ]
  },
  {
   "cell_type": "markdown",
   "id": "1bae2e4f-5c0b-470f-8268-bbdba74d147d",
   "metadata": {},
   "source": [
    "## Warm Up Question-2\n",
    "Calculate the maximum value, minimum value, total sum, and the count of elements in the sequence of numbers \n",
    "9,3,1,7,4,1,2,2,2,5,5,6,8,76,10,3,3,4 using a list."
   ]
  },
  {
   "cell_type": "markdown",
   "id": "5364b326-c13f-46b9-bf5c-254dc8079c1b",
   "metadata": {},
   "source": [
    "## Warm Up Question-3\n",
    "Use slicing to extract and display only the [5,4] portion of the list [3,8,2,5,4,8,9,9,2] by using both positive and negative indices."
   ]
  },
  {
   "cell_type": "markdown",
   "id": "0efecc36-7bd8-4346-ad2e-9e603d3ea243",
   "metadata": {},
   "source": [
    "## Warm Up Question-4\n",
    "Use concatenation and repetition to generate the list ['OH', 'FL','OH', 'FL','NJ','AZ','NJ','AZ','NJ','AZ','OH', 'FL','OH', 'FL'] from the lists ['OH', 'FL'] and ['NJ','AZ']."
   ]
  },
  {
   "cell_type": "markdown",
   "id": "3cb2c196-7f86-4b91-b91f-c5a2714429de",
   "metadata": {},
   "source": [
    "## Warm Up Question-5\n",
    "Add three additional elements to this list: [1,6,4]."
   ]
  },
  {
   "cell_type": "markdown",
   "id": "d8364a8d-23c7-411c-ad68-c478cd2be1e7",
   "metadata": {},
   "source": [
    "## Warm Up Question-6\n",
    "Count the occurrences of 3 in the list [4,2,8,3,3,9,3,3,5,6,7,8] and find the index of 9.\n"
   ]
  },
  {
   "cell_type": "markdown",
   "id": "af2726da-77a5-4899-9f4a-c166a2766fe8",
   "metadata": {},
   "source": [
    "## Warm Up Question-7\n",
    "Use the remove() method to delete 4 and the pop() method to delete 8 from the list [9,7,1,2,6,3,4,5,8,6].\n"
   ]
  },
  {
   "cell_type": "markdown",
   "id": "43ca3c58-d5d1-4ea2-92bf-b8ae593bb74e",
   "metadata": {},
   "source": [
    "## Warm Up Question-8\n",
    "Calculate the sum of the even numbers in this list: [4,7,9,2,8,6]\n"
   ]
  },
  {
   "cell_type": "markdown",
   "id": "23aa8c3b-db49-4916-a979-5a32a4cdde17",
   "metadata": {},
   "source": [
    "## Warm Up Question-9\n",
    "Create a new list containing words in text below that are 4 characters long, start with 'z', and end with 'x'.\n",
    "``` python\n",
    "text = 'zabx a d f abcd yhst zmnx hsd lk zx ' "
   ]
  },
  {
   "cell_type": "markdown",
   "id": "399f72da-256e-4b23-849f-5769b112b0d3",
   "metadata": {},
   "source": [
    "## Warm Up Question-10\n",
    "Use a list comprehension to construct a list consisting of the following numbers: 11,21,31,41,51,61,71\n"
   ]
  }
 ],
 "metadata": {
  "kernelspec": {
   "display_name": "Python 3 (ipykernel)",
   "language": "python",
   "name": "python3"
  },
  "language_info": {
   "codemirror_mode": {
    "name": "ipython",
    "version": 3
   },
   "file_extension": ".py",
   "mimetype": "text/x-python",
   "name": "python",
   "nbconvert_exporter": "python",
   "pygments_lexer": "ipython3",
   "version": "3.11.8"
  }
 },
 "nbformat": 4,
 "nbformat_minor": 5
}
