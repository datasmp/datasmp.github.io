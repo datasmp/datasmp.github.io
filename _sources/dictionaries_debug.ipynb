{
 "cells": [
  {
   "cell_type": "markdown",
   "id": "13e18a7d",
   "metadata": {},
   "source": [
    "# Dictionaries Debugging\n",
    "![Section Title: Dictionaries Debugging](title_pict/dictionaries_debugging2.png)\n",
    "\n",
    "- Each of the following short code contains one or more bugs. &emsp;&emsp;&emsp;&emsp;\n",
    "- Please identify and correct these bugs.\n",
    "- Provide an explanation for your answer."
   ]
  },
  {
   "cell_type": "markdown",
   "id": "854437f7",
   "metadata": {},
   "source": [
    "## Question-1\n",
    "\n",
    "``` python\n",
    "{'A'=1, 'B'=2, 'C'=3}\n",
    "```"
   ]
  },
  {
   "cell_type": "markdown",
   "id": "48a8af1e",
   "metadata": {},
   "source": [
    "```{admonition} Solution\n",
    ":class: toggle\n",
    "For dictionaries, `=` should be replaced with `:` to associate keys with values.\n",
    "\n"
   ]
  },
  {
   "cell_type": "markdown",
   "id": "3c4f7361-2930-4610-80a1-b37ab6ecd807",
   "metadata": {},
   "source": [
    "## Question-2\n",
    "\n",
    "``` python\n",
    "my_dict = {'A':70, 'B':90, 'C':75, 'D':80}\n",
    "my_dict('C')\n",
    "```"
   ]
  },
  {
   "cell_type": "markdown",
   "id": "c97d5b6f-cc7e-4f35-9ae7-e91203af1b93",
   "metadata": {},
   "source": [
    "```{admonition} Solution\n",
    ":class: toggle\n",
    "my_dict('C') must be my_dict['C']. "
   ]
  },
  {
   "cell_type": "markdown",
   "id": "ae57fe48-395e-4ade-ab71-584965e5336b",
   "metadata": {},
   "source": [
    "## Question-3\n",
    "\n",
    "``` python\n",
    "my_dict = ['A':70, 'B':90, 'C':75, 'D':80]\n",
    "my_dict['C']\n",
    "```"
   ]
  },
  {
   "cell_type": "markdown",
   "id": "c39537fa-7ffc-4d7a-87ea-3d9ab4ff9bae",
   "metadata": {},
   "source": [
    "```{admonition} Solution\n",
    ":class: toggle\n",
    "To construct a dictionary in Python, curly braces `{}` must be used instead of square brackets `[]`."
   ]
  },
  {
   "cell_type": "markdown",
   "id": "c827dcc2-a6e7-4dbb-9532-9545cfb539a3",
   "metadata": {},
   "source": [
    "## Question-4\n",
    "\n",
    "``` python\n",
    "stock_dict = {'day-1':{'High': 70, 'Low':62, 'Close':65},\n",
    "              'day-2':{'High': 68, 'Low':60, 'Close':63},\n",
    "              'day-3':{'High': 71, 'Low':65, 'Close':67},\n",
    "              'day-4':{'High': 70, 'Low':62, 'Close':65},\n",
    "              'day-5':{'High': 73, 'Low':65, 'Close':70},\n",
    "              'day-6':{'High': 75, 'Low':69, 'Close':73}\n",
    "              }\n",
    "\n",
    "for i in [1,3]:\n",
    "  print(stock_dict['day-'+i]['Low'])\n",
    "```"
   ]
  },
  {
   "cell_type": "markdown",
   "id": "20db1fb8-cd50-4ea3-945a-07413e678032",
   "metadata": {},
   "source": [
    "```{admonition} Solution\n",
    ":class: toggle\n",
    "The counter i takes integer values, so it cannot be directly concatenated with 'day-'. To resolve this issue, use `'day-' + str(i)` instead."
   ]
  },
  {
   "cell_type": "markdown",
   "id": "fac2b2ff-ed46-4ca8-b0cb-30c5381d5ee6",
   "metadata": {},
   "source": [
    "```{admonition} Solution\n",
    ":class: toggle\n"
   ]
  },
  {
   "cell_type": "code",
   "execution_count": null,
   "id": "d3bbaf58-b276-4a55-b386-00295794a2f4",
   "metadata": {},
   "outputs": [],
   "source": []
  }
 ],
 "metadata": {
  "hide_input": false,
  "kernelspec": {
   "display_name": "Python 3 (ipykernel)",
   "language": "python",
   "name": "python3"
  },
  "language_info": {
   "codemirror_mode": {
    "name": "ipython",
    "version": 3
   },
   "file_extension": ".py",
   "mimetype": "text/x-python",
   "name": "python",
   "nbconvert_exporter": "python",
   "pygments_lexer": "ipython3",
   "version": "3.11.8"
  },
  "toc": {
   "base_numbering": 1,
   "nav_menu": {},
   "number_sections": true,
   "sideBar": true,
   "skip_h1_title": false,
   "title_cell": "Table of Contents",
   "title_sidebar": "Contents",
   "toc_cell": false,
   "toc_position": {},
   "toc_section_display": true,
   "toc_window_display": false
  }
 },
 "nbformat": 4,
 "nbformat_minor": 5
}
