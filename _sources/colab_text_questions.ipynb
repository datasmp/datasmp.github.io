{
 "cells": [
  {
   "cell_type": "markdown",
   "id": "a581ded6-be10-4a71-9cf7-d27e4c86b957",
   "metadata": {},
   "source": [
    "# Text Cell Questions\n",
    "\n",
    "![Section Title: Text Cell Questions](title_pict/text_cell_questions2.png)\n"
   ]
  },
  {
   "cell_type": "markdown",
   "id": "1e54e38f-91f1-4bf1-8855-987296e06f9b",
   "metadata": {},
   "source": [
    "## Question\n",
    "Please type the passages into text cells following the provided format.\n",
    "\n",
    "![](pict/colab_text_exer1.png)"
   ]
  },
  {
   "cell_type": "markdown",
   "id": "8057b893-d132-40f8-bf2e-5002b28e892d",
   "metadata": {},
   "source": [
    "```{admonition} Solution\n",
    ":class: toggle\n",
    "![# My Life\n",
    "I am 25 years old. *I am from Spain. I have been to the following cities in Italy, during the following years and months*\n",
    "***\n",
    "Europe\n",
    "- Italy\n",
    "    - Milan\n",
    "        - 1993\n",
    "            - March\n",
    "            - April\n",
    "        - 1994\n",
    "            - January\n",
    "            - June\n",
    "            - July\n",
    "    - Rome\n",
    "        1. 1990\n",
    "            - September\n",
    "            - October\n",
    "        4. 1990\n",
    "            - August \n",
    "***\n",
    "I worked as an **engineer** in large companies including `Siemens`.](pict/colab_text_exer1_sol.png)"
   ]
  },
  {
   "cell_type": "markdown",
   "id": "d587d4f9-4e32-4098-ac5f-d48d3386b2b2",
   "metadata": {},
   "source": [
    "## Question\n",
    "![](pict/colab_text_exer2.png)"
   ]
  },
  {
   "cell_type": "markdown",
   "id": "b2f5628d-3cdf-4741-aca8-591d04f7f669",
   "metadata": {},
   "source": [
    "```{admonition} Solution\n",
    ":class: toggle\n",
    "![<center> Education </center>\n",
    "\n",
    "<font color=red size=30> I have a BS degree in computer science. </font>\n",
    "\n",
    "> I want to have a master degree in data science soon.\n",
    "\n",
    "This table shows my graduation years and locations.\n",
    "\n",
    "|School\t| Graduation Date | Country|  \n",
    "| --- | --- | --- |  \n",
    "| Elementary | 1970 | Spain |  \n",
    "| Middle | 1973 | Spain |\n",
    "| High | 1977 | Italy | \n",
    "| College | 1981 | Germany| ](pict/colab_text_exer2_sol.png)"
   ]
  },
  {
   "cell_type": "code",
   "execution_count": null,
   "id": "09b5ad5d-2141-4b3e-a3ac-336567e7f3c0",
   "metadata": {},
   "outputs": [],
   "source": []
  }
 ],
 "metadata": {
  "kernelspec": {
   "display_name": "Python 3 (ipykernel)",
   "language": "python",
   "name": "python3"
  },
  "language_info": {
   "codemirror_mode": {
    "name": "ipython",
    "version": 3
   },
   "file_extension": ".py",
   "mimetype": "text/x-python",
   "name": "python",
   "nbconvert_exporter": "python",
   "pygments_lexer": "ipython3",
   "version": "3.11.8"
  }
 },
 "nbformat": 4,
 "nbformat_minor": 5
}
