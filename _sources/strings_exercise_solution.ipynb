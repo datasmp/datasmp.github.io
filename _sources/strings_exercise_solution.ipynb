{
 "cells": [
  {
   "cell_type": "markdown",
   "id": "4e68494d-76ef-4888-b46d-a4d6bf6c4db3",
   "metadata": {},
   "source": [
    "# Strings Exercises and Solutions"
   ]
  },
  {
   "cell_type": "markdown",
   "id": "af08e2ce-034d-4208-be61-4b166bac2413",
   "metadata": {},
   "source": [
    "## Warm Up Question\n",
    "Create a string variable with the value `isn't` and print it."
   ]
  },
  {
   "cell_type": "code",
   "execution_count": 16,
   "id": "e1c82456-2b44-48a7-9f53-05adff5f5d89",
   "metadata": {},
   "outputs": [
    {
     "name": "stdout",
     "output_type": "stream",
     "text": [
      "isn't\n"
     ]
    }
   ],
   "source": [
    "word = \"isn't\"\n",
    "print(word)"
   ]
  },
  {
   "cell_type": "markdown",
   "id": "b8312428-1f49-45f2-b284-4cdbee8251c3",
   "metadata": {},
   "source": [
    "## Warm Up Question\n",
    "For the variable country = `'jamaica'`:\n",
    "\n",
    "- Display the character `'m'` using its positive index.\n",
    "- Display the character `'i'` using its negative index.\n"
   ]
  },
  {
   "cell_type": "code",
   "execution_count": 19,
   "id": "75ea0115-6d56-462f-81f5-fea29ae3a987",
   "metadata": {},
   "outputs": [
    {
     "name": "stdout",
     "output_type": "stream",
     "text": [
      "m\n",
      "i\n"
     ]
    }
   ],
   "source": [
    "country = 'jamaica'\n",
    "print(country[2])\n",
    "print(country[-3])"
   ]
  },
  {
   "cell_type": "markdown",
   "id": "8b33022a-64d7-4327-8caa-9976316021ee",
   "metadata": {},
   "source": [
    "## Warm Up Question\n",
    "Use the provided variables and f-strings to output the statement: \n",
    "`I am in 10th grade and my Chemistry teacher is Mr. Adams.`\n",
    "```python\n",
    "grade, course, teacher = 10, 'Chemistry', 'Mr. Adams' "
   ]
  },
  {
   "cell_type": "code",
   "execution_count": 21,
   "id": "6449fad5-5690-4da7-a2d6-c6e5aa5af70b",
   "metadata": {},
   "outputs": [
    {
     "name": "stdout",
     "output_type": "stream",
     "text": [
      "I am in 10th grade and my Chemistry teacher is Mr.Adams.\n"
     ]
    }
   ],
   "source": [
    "grade, course, teacher = 10, 'Chemistry', 'Mr. Adams' \n",
    "print(f'I am in {grade}th grade and my {course} teacher is {teacher}.')"
   ]
  },
  {
   "cell_type": "markdown",
   "id": "00c67190-8179-4ed9-b8f8-e91edca95b2f",
   "metadata": {},
   "source": [
    "## Warm Up Question\n",
    "Choose a Unicode character and display it after a related sentence using its code:"
   ]
  },
  {
   "cell_type": "code",
   "execution_count": 24,
   "id": "20afdb67-6493-44f6-8eb9-4bf824d2be13",
   "metadata": {},
   "outputs": [
    {
     "name": "stdout",
     "output_type": "stream",
     "text": [
      "You are funny!😅\n"
     ]
    }
   ],
   "source": [
    "print('You are funny!\\U0001F605')"
   ]
  },
  {
   "cell_type": "markdown",
   "id": "d943b5f0-9fe8-4b68-a129-02654ca43370",
   "metadata": {},
   "source": [
    "## Warm Up Question\n",
    "\n",
    "Display the following face.\n",
    "\n",
    "![](pict/face.png)\n"
   ]
  },
  {
   "cell_type": "code",
   "execution_count": 84,
   "id": "34d6cd11-5669-4ff5-91c1-257d2de2280e",
   "metadata": {},
   "outputs": [
    {
     "name": "stdout",
     "output_type": "stream",
     "text": [
      "           ***           ***\n",
      "           ***           ***\n",
      "           ***           ***\n",
      "\n",
      "                  ***\n",
      "                  ***\n",
      "                  ***\n",
      "                  ***\n",
      "\n",
      "             *************\n",
      "             *************\n"
     ]
    }
   ],
   "source": [
    "print(' '*11 + '***' + ' '*11 + '***')\n",
    "print(' '*11 + '***' + ' '*11 + '***')\n",
    "print(' '*11 + '***' + ' '*11 + '***')\n",
    "print()\n",
    "print(' '*18+ '***')\n",
    "print(' '*18 + '***')\n",
    "print(' '*18 + '***')\n",
    "print(' '*18 + '***')\n",
    "print()\n",
    "print(' '*13 + '*'*13)\n",
    "print(' '*13 + '*'*13)\n",
    "\n"
   ]
  },
  {
   "cell_type": "markdown",
   "id": "f0e37658-5cd1-4949-b763-3ee2c82b2a47",
   "metadata": {},
   "source": [
    "## Question-1\n",
    "For the given text below, print versions that are capitalized, in uppercase, in lowercase, and titled.\n",
    "```python\n",
    "text = 'thE gOOd, The Bad aNd The uGLY'\n",
    "```"
   ]
  },
  {
   "cell_type": "code",
   "execution_count": 2,
   "id": "63ab03f5-b5ca-4636-9b9d-b35b57f5837d",
   "metadata": {},
   "outputs": [
    {
     "name": "stdout",
     "output_type": "stream",
     "text": [
      "The good, the bad and the ugly\n",
      "THE GOOD, THE BAD AND THE UGLY\n",
      "the good, the bad and the ugly\n",
      "The Good, The Bad And The Ugly\n"
     ]
    }
   ],
   "source": [
    "text = 'thE gOOd, The Bad aNd The uGLY'\n",
    "print(text.capitalize())\n",
    "print(text.upper())\n",
    "print(text.lower())\n",
    "print(text.title())"
   ]
  },
  {
   "cell_type": "markdown",
   "id": "8dd6dd1e-05ca-4c56-a611-79906cdc7084",
   "metadata": {},
   "source": [
    "## Question-2\n",
    "For the given text below, answer the following questions by applying the appropriate methods and print the outputs:\n",
    "\n",
    "- Does it start with 'T'?\n",
    "- Does it end with 'c'?\n",
    "- Find the index of the first occurrence of 'T'.\n",
    "- Find the index of the second occurrence of 'T'.\n",
    "- Find the number of characters.\n",
    "- Are there any digits in the text?\n",
    "- Replace 'T's with 'R's.\n",
    "- Swap the cases (Swap the cases (convert lowercase letters to uppercase and vice versa).\n",
    "\n",
    "```python\n",
    "text = 'TiTANiC'\n",
    "```"
   ]
  },
  {
   "cell_type": "code",
   "execution_count": 9,
   "id": "873bad08-bedd-4b52-b32b-a0cb1b2bd1b4",
   "metadata": {},
   "outputs": [
    {
     "name": "stdout",
     "output_type": "stream",
     "text": [
      "True\n",
      "False\n",
      "0\n",
      "2\n",
      "7\n",
      "False\n",
      "RiRANiC\n",
      "tItanIc\n"
     ]
    }
   ],
   "source": [
    "text = 'TiTANiC'\n",
    "print(text.startswith('T'))\n",
    "print(text.endswith('c'))\n",
    "print(text.find('T'))\n",
    "print(text.rfind('T'))\n",
    "print(len(text))\n",
    "print(text.isdigit())\n",
    "print(text.replace('T','R'))\n",
    "print(text.swapcase())"
   ]
  },
  {
   "cell_type": "markdown",
   "id": "8dbfbd47-af8e-48b2-8302-964f7bb5eaae",
   "metadata": {},
   "source": [
    "## Question-3\n",
    "\n",
    "Write a program that prompts the user for a 6-digit positive number. Find the sum of the digits of this number without using algebraic operations other then addition.\n",
    "- Example: If the given number is 123456, then the sum of digits is 1+2+3+4+5+6=21"
   ]
  },
  {
   "cell_type": "markdown",
   "id": "f482dd41-9ff0-4196-9394-fecccd97cc21",
   "metadata": {},
   "source": [
    "**Solution**\n",
    "``` python\n",
    "number_str = input('Please enter a six digit number:')\n",
    "\n",
    "total = int(number_str[0])+int(number_str[1])+int(number_str[2])+int(number_str[3])+int(number_str[4])+int(number_str[5])\n",
    "\n",
    "print(f'The sum of digits of {number_str} is {total}.')\n",
    "```"
   ]
  },
  {
   "cell_type": "markdown",
   "id": "e0f88dae-df4b-475c-97a7-cb9a4eed6b79",
   "metadata": {},
   "source": [
    "## Question-4\n",
    "\n",
    "Write a program that prompts the user for a 4-digit positive number. Swap the first two digits of the given number with the last two digits and print it.\n",
    "- Avoid using algebraic operations and instead use string indexing.\n",
    "- Example 1: If the given number is 1234, then print 3412.\n",
    "    - Print format: 1234 ---- swap---> 3412\n",
    "- Example 2: If the given number is 6789, then print 8967.\n",
    "    - Print format: 6789 ---- swap---> 8967"
   ]
  },
  {
   "cell_type": "markdown",
   "id": "06ab057c-4cb5-47d5-ad1b-f63cdba4ac48",
   "metadata": {},
   "source": [
    "**Solution**\n",
    "``` python\n",
    "number_str = input('Please enter a four digit number:')\n",
    "\n",
    "first_two_digit = number_str[:2]\n",
    "last_two_digit  = number_str[2:]\n",
    "\n",
    "result_str = last_two_digit + first_two_digit\n",
    "\n",
    "print(number_str, '---- swap --->',result_str )\n",
    "```"
   ]
  },
  {
   "cell_type": "markdown",
   "id": "4c5d60e2-3d4b-474a-a719-c3620faa6504",
   "metadata": {},
   "source": [
    "## Question-5\n",
    "\n",
    "Use the three variables provided below to construct the string 'XFoas'\n",
    "\n",
    "```python\n",
    "x, y, z = 'fLoRida', 'tExaS', 'aRizOna'\n",
    "```\n",
    "**Solution**"
   ]
  },
  {
   "cell_type": "code",
   "execution_count": 5,
   "id": "5b228121-1b09-4a18-9e15-28954dc9bf46",
   "metadata": {},
   "outputs": [
    {
     "name": "stdout",
     "output_type": "stream",
     "text": [
      "XFoas\n"
     ]
    }
   ],
   "source": [
    "x, y, z = 'fLoRida', 'tExaS', 'aRizOna'\n",
    "result_str = y[2].upper() + x[0].upper() + x[2] + y[-2:].lower()\n",
    "print(result_str)"
   ]
  },
  {
   "cell_type": "markdown",
   "id": "da6c0414-af02-4fd3-89fc-f7b4301f6d5b",
   "metadata": {},
   "source": [
    "## Question-6\n",
    "Extract the height of the first player without the 'cm' part using the provided player information.\n",
    "- Use the find() function.\n",
    "\n",
    "If you change the variable name from player1_info to player2_info in your code, you should obtain the height of the second player.\n",
    "\n",
    "```python\n",
    "player1_info = 'robert_brown,Height:1.834cM,Weight:75.25kg'\n",
    "player2_info = 'richard_smith,heighT:1.92cm,Weight:98.65kg'\n",
    "```\n",
    "**Solution**"
   ]
  },
  {
   "cell_type": "code",
   "execution_count": 8,
   "id": "7c170e9d-6b50-4984-9798-96ce8512b43c",
   "metadata": {},
   "outputs": [],
   "source": [
    "player1_info = 'robert_brown,Height:1.834cM,Weight:75.25kg'\n",
    "player2_info = 'richard_smith,heighT:1.92cm,Weight:98.65kg'"
   ]
  },
  {
   "cell_type": "code",
   "execution_count": 10,
   "id": "8585fe4d-faa4-45a4-a822-fb6bff3910e6",
   "metadata": {},
   "outputs": [
    {
     "name": "stdout",
     "output_type": "stream",
     "text": [
      "1.834\n"
     ]
    }
   ],
   "source": [
    "index_col = player1_info.find(':')\n",
    "index_comma = player1_info.find(',', index_col)\n",
    "height = player1_info[index_col+1:index_comma-2]\n",
    "print(f'{height}')"
   ]
  },
  {
   "cell_type": "code",
   "execution_count": 11,
   "id": "e027366a-77c6-411b-89b3-c02475f2530d",
   "metadata": {},
   "outputs": [
    {
     "name": "stdout",
     "output_type": "stream",
     "text": [
      "1.92\n"
     ]
    }
   ],
   "source": [
    "index_col = player2_info.find(':')\n",
    "index_comma = player2_info.find(',', index_col)\n",
    "height = player2_info[index_col+1:index_comma-2]\n",
    "print(f'{height}')"
   ]
  },
  {
   "cell_type": "markdown",
   "id": "ec366dcc-33a4-4b81-941b-223fa9ecd38d",
   "metadata": {},
   "source": [
    "## Question-7: House\n",
    "Display the following house by using the repetition of strings.\n",
    "\n",
    "![](pict/house_star.png)\n",
    "\n",
    "**Solution**"
   ]
  },
  {
   "cell_type": "code",
   "execution_count": 49,
   "id": "c09d24f1-419f-414e-babe-d2cf8198493c",
   "metadata": {},
   "outputs": [
    {
     "name": "stdout",
     "output_type": "stream",
     "text": [
      "     *\n",
      "    * *\n",
      "   *   *\n",
      "  *     *\n",
      " *       *\n",
      "* * * * * * \n",
      "*         *\n",
      "*         *\n",
      "*         *\n",
      "*         *\n",
      "*         *\n",
      "* * * * * * \n"
     ]
    }
   ],
   "source": [
    "N = 5\n",
    "space, star = ' ', '*' \n",
    "print(     N*space + star)\n",
    "print( (N-1)*space + star + 1*space + star )\n",
    "print( (N-2)*space + star + 3*space + star )\n",
    "print( (N-3)*space + star + 5*space + star )\n",
    "print( (N-4)*space + star + 7*space + star )\n",
    "print((N+1)*(star+space))\n",
    "print( star + (2*N-1)*space +star   )\n",
    "print( star + (2*N-1)*space +star   )\n",
    "print( star + (2*N-1)*space +star   )\n",
    "print( star + (2*N-1)*space +star   )\n",
    "print( star + (2*N-1)*space +star   )\n",
    "print((N+1)*(star+space))"
   ]
  },
  {
   "cell_type": "markdown",
   "id": "957d4308-e4ab-4751-b367-dc5508698c93",
   "metadata": {},
   "source": [
    "## Question-8: Password\n",
    "Write a program that generates a password consisting of one random letter, punctuation, and non-zero digit.\n",
    "- Import letters, punctuations, and digits from the string module.\n",
    "- Choose random integers that can be an index for a letter, punctuation, or digit.\n",
    "\n",
    "Hint: Use the *random.randint(low, high)* function with appropriate low and high values. \n",
    "- Refer to the appendix at the end of the book for details on the random module."
   ]
  },
  {
   "cell_type": "code",
   "execution_count": null,
   "id": "ce5175d5-396d-4f5b-b4a5-9d11e37caeec",
   "metadata": {},
   "outputs": [],
   "source": []
  },
  {
   "cell_type": "code",
   "execution_count": 67,
   "id": "8eae9f46-8aad-4395-91c0-9fea20102058",
   "metadata": {},
   "outputs": [
    {
     "name": "stdout",
     "output_type": "stream",
     "text": [
      "Password: N=5\n"
     ]
    }
   ],
   "source": [
    "import string\n",
    "import random\n",
    "\n",
    "letters = string.ascii_letters\n",
    "digits = string.digits\n",
    "punctuations = string.punctuation\n",
    "\n",
    "random_letter_index = random.randint(0,len(letters)-1)\n",
    "random_punctuations_index = random.randint(0,len(punctuations)-1)\n",
    "random_digit_index  = random.randint(1,len(digits)-1)\n",
    "\n",
    "password = letters[random_letter_index] + punctuations[random_punctuations_index] + digits[random_digit_index]\n",
    "\n",
    "print(f'Password: {password}')"
   ]
  },
  {
   "cell_type": "markdown",
   "id": "e96698ce-2423-48cb-a442-22cb28bb31d6",
   "metadata": {},
   "source": [
    "## Question-9\n",
    "Use the provided variables and f-strings to output the statement: \n",
    "`I am in TENth grade and my CHEMISTRY teacher is Mr. Adams.`\n",
    "```python\n",
    "grade, course, teacher = 'ten', 'cHemisTry', 'mr. aDams' \n"
   ]
  },
  {
   "cell_type": "code",
   "execution_count": 94,
   "id": "33128f4c-0451-4c75-ab08-5f13b2b0062e",
   "metadata": {},
   "outputs": [
    {
     "name": "stdout",
     "output_type": "stream",
     "text": [
      "I am in TENth grade and my CHEMISTRY teacher is Mr. Adams.\n"
     ]
    }
   ],
   "source": [
    "grade, course, teacher = 'ten', 'cHemisTry', 'mr. aDams' \n",
    "print(f'I am in {grade.upper()}th grade and my {course.upper()} teacher is {teacher.title()}.')"
   ]
  },
  {
   "cell_type": "markdown",
   "id": "bdd2a557-ad55-4b43-b8b3-8b645829b38d",
   "metadata": {},
   "source": [
    "## Question-10\n",
    "Use the given variable to produce the string *teXas*.\n",
    "```python\n",
    "state = 'texas'"
   ]
  },
  {
   "cell_type": "code",
   "execution_count": 12,
   "id": "2d8539c2-771b-4785-9210-52ada611d6e6",
   "metadata": {},
   "outputs": [
    {
     "data": {
      "text/plain": [
       "'teXas'"
      ]
     },
     "execution_count": 12,
     "metadata": {},
     "output_type": "execute_result"
    }
   ],
   "source": [
    "state = 'texas'\n",
    "state[:2] + state[2].swapcase() + state[3:]"
   ]
  },
  {
   "cell_type": "markdown",
   "id": "c0f32c5a-af28-45e9-ae64-7f9f46549f24",
   "metadata": {},
   "source": [
    "## Question-11\n",
    "Write a program that asks the user to enter a country name, allowing lowercase, uppercase, or mixed-case characters.\n",
    "- Then, prompt the user to provide the index of a character within the country name.\n",
    "- Generate a new string by swapping the case of the character at the specified index.\n",
    "\n",
    "**Sample Output:**   \n",
    "Enter a country name:  fRaNce  \n",
    "Enter the index of the character to swap case:  4  \n",
    "fRaNce becomes fRaNCe"
   ]
  },
  {
   "cell_type": "code",
   "execution_count": 17,
   "id": "7d4bca65-7bd4-495b-a306-c1e2cbcb0755",
   "metadata": {},
   "outputs": [
    {
     "name": "stdin",
     "output_type": "stream",
     "text": [
      "Enter a country name:  fRaNce\n",
      "Enter the index of the character to swap case:  4\n"
     ]
    },
    {
     "name": "stdout",
     "output_type": "stream",
     "text": [
      "fRaNce becomes fRaNCe\n"
     ]
    }
   ],
   "source": [
    "country = input('Enter a country name: ')\n",
    "index   = int(input('Enter the index of the character to swap case: '))\n",
    "result  = country[:index] + country[index].swapcase() + country[index + 1:]\n",
    "print(f'{country} becomes {result}')"
   ]
  },
  {
   "cell_type": "code",
   "execution_count": null,
   "id": "cde8236d-3e55-4fd9-a971-31621cfac83e",
   "metadata": {},
   "outputs": [],
   "source": []
  }
 ],
 "metadata": {
  "kernelspec": {
   "display_name": "Python 3 (ipykernel)",
   "language": "python",
   "name": "python3"
  },
  "language_info": {
   "codemirror_mode": {
    "name": "ipython",
    "version": 3
   },
   "file_extension": ".py",
   "mimetype": "text/x-python",
   "name": "python",
   "nbconvert_exporter": "python",
   "pygments_lexer": "ipython3",
   "version": "3.11.8"
  }
 },
 "nbformat": 4,
 "nbformat_minor": 5
}
