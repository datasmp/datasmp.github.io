{
 "cells": [
  {
   "cell_type": "markdown",
   "id": "4e68494d-76ef-4888-b46d-a4d6bf6c4db3",
   "metadata": {},
   "source": [
    "# Strings Exercises and Solutions"
   ]
  },
  {
   "cell_type": "markdown",
   "id": "8dbfbd47-af8e-48b2-8302-964f7bb5eaae",
   "metadata": {},
   "source": [
    "## Question-1\n",
    "\n",
    "Write a program that prompts the user for a 6-digit positive number. Find the sum of the digits of this number without using algebraic operations other then addition.\n",
    "- Example: If the given number is 123456, then the sum of digits is 1+2+3+4+5+6=21"
   ]
  },
  {
   "cell_type": "markdown",
   "id": "f482dd41-9ff0-4196-9394-fecccd97cc21",
   "metadata": {},
   "source": [
    "**Solution**\n",
    "``` python\n",
    "number_str = input('Please enter a six digit number:')\n",
    "\n",
    "total = int(number_str[0])+int(number_str[1])+int(number_str[2])+int(number_str[3])+int(number_str[4])+int(number_str[5])\n",
    "\n",
    "print(f'The sum of digits of {number_str} is {total}.')\n",
    "```"
   ]
  },
  {
   "cell_type": "markdown",
   "id": "e0f88dae-df4b-475c-97a7-cb9a4eed6b79",
   "metadata": {},
   "source": [
    "## Question-2\n",
    "\n",
    "Write a program that prompts the user for a 4-digit positive number. Swap the first two digits of the given number with the last two digits and print it.\n",
    "- Avoid using algebraic operations and instead use string indexing.\n",
    "- Example 1: If the given number is 1234, then print 3412.\n",
    "    - Print format: 1234 ---- swap---> 3412\n",
    "- Example 2: If the given number is 6789, then print 8967.\n",
    "    - Print format: 6789 ---- swap---> 8967"
   ]
  },
  {
   "cell_type": "markdown",
   "id": "06ab057c-4cb5-47d5-ad1b-f63cdba4ac48",
   "metadata": {},
   "source": [
    "**Solution**\n",
    "``` python\n",
    "number_str = input('Please enter a four digit number:')\n",
    "\n",
    "first_two_digit = number_str[:2]\n",
    "last_two_digit  = number_str[2:]\n",
    "\n",
    "result_str = last_two_digit + first_two_digit\n",
    "\n",
    "print(number_str, '---- swap --->',result_str )\n",
    "```"
   ]
  },
  {
   "cell_type": "markdown",
   "id": "4c5d60e2-3d4b-474a-a719-c3620faa6504",
   "metadata": {},
   "source": [
    "## Question-3\n",
    "\n",
    "Use the three variables provided below to construct the string 'XFoas'\n",
    "\n",
    "```python\n",
    "x, y, z = 'fLoRida', 'tExaS', 'aRizOna'\n",
    "```\n",
    "**Solution**"
   ]
  },
  {
   "cell_type": "code",
   "execution_count": 5,
   "id": "5b228121-1b09-4a18-9e15-28954dc9bf46",
   "metadata": {},
   "outputs": [
    {
     "name": "stdout",
     "output_type": "stream",
     "text": [
      "XFoas\n"
     ]
    }
   ],
   "source": [
    "x, y, z = 'fLoRida', 'tExaS', 'aRizOna'\n",
    "result_str = y[2].upper() + x[0].upper() + x[2] + y[-2:].lower()\n",
    "print(result_str)"
   ]
  },
  {
   "cell_type": "markdown",
   "id": "213cab1d-c94c-48d2-b33a-9f863c3ce000",
   "metadata": {},
   "source": [
    "```{note}\n",
    "Here is a note!\n",
    "```"
   ]
  },
  {
   "cell_type": "markdown",
   "id": "f11f8273-197f-4f58-9cfe-019902456e2d",
   "metadata": {},
   "source": [
    "```{warning}\n",
    "Hello I am a warning.\n",
    "```"
   ]
  },
  {
   "cell_type": "markdown",
   "id": "5f507302-dd58-48da-a193-45ab5542810f",
   "metadata": {},
   "source": [
    "`````{admonition} This admonition was styled...\n",
    ":class: tip\n",
    "With a tip class!\n",
    "`````"
   ]
  }
 ],
 "metadata": {
  "kernelspec": {
   "display_name": "Python 3 (ipykernel)",
   "language": "python",
   "name": "python3"
  },
  "language_info": {
   "codemirror_mode": {
    "name": "ipython",
    "version": 3
   },
   "file_extension": ".py",
   "mimetype": "text/x-python",
   "name": "python",
   "nbconvert_exporter": "python",
   "pygments_lexer": "ipython3",
   "version": "3.11.7"
  }
 },
 "nbformat": 4,
 "nbformat_minor": 5
}
