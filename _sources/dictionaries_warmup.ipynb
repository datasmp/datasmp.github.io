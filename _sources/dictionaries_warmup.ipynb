{
 "cells": [
  {
   "cell_type": "markdown",
   "id": "e52c30a5-5b1a-4893-aefc-dac6ef639d5f",
   "metadata": {},
   "source": [
    "# Dictionaries Warm Up\n",
    "![Section Title: Dictionaries Warm Up](title_pict/dictionaries_warmup2.png)\n"
   ]
  },
  {
   "cell_type": "markdown",
   "id": "eb4afec8-b613-409e-82da-8a7f51f488e1",
   "metadata": {},
   "source": [
    "## Warm Up Question-1\n",
    "Create a dictionary where the keys are the names of three students, and the values are their three digit ID numbers.\n"
   ]
  },
  {
   "cell_type": "markdown",
   "id": "7a7b5999-fcde-4d73-83c7-d3f72644d376",
   "metadata": {},
   "source": [
    "## Warm Up Question-2\n",
    "Add a new pair to the following dictionary: \n",
    "```python\n",
    "student_ID = {'Joe':394, 'Tim':921, 'Amy':861}\n"
   ]
  },
  {
   "cell_type": "markdown",
   "id": "463ade39-6bc2-44de-8fed-a9e84f55214e",
   "metadata": {},
   "source": [
    "## Warm Up Question-3\n",
    "Replace 861 with 195 in the following dictionary: \n",
    "```python\n",
    "student_ID = {'Joe':394, 'Tim':921, 'Amy':861}\n"
   ]
  },
  {
   "cell_type": "markdown",
   "id": "2718b284-a55b-43f5-92b3-85599443111f",
   "metadata": {},
   "source": [
    "## Warm Up Question-4\n",
    "Remove the  ('Joe', 394) pair from the following dictionary: \n",
    "```python\n",
    "student_ID = {'Joe':394, 'Tim':921, 'Amy':861}\n"
   ]
  },
  {
   "cell_type": "markdown",
   "id": "1fd7b776-e9fd-4bc1-9c0c-1f9813565d2a",
   "metadata": {},
   "source": [
    "## Warm Up Question-5\n",
    "Use the get() method to check for 'Michael' in the dictionary and return 999 if the country name is not a key.\n",
    "```python\n",
    "student_ID = {'Joe':394, 'Tim':921, 'Amy':861}\n"
   ]
  },
  {
   "cell_type": "markdown",
   "id": "d5b4c7ce-23e1-4054-8dea-a86c0e3c84ef",
   "metadata": {},
   "source": [
    "## Warm Up Question-6\n",
    "Remove the  ('Tim', 921) pair from the following dictionary using the pop() method:: \n",
    "```python\n",
    "student_ID = {'Joe':394, 'Tim':921, 'Amy':861}\n"
   ]
  },
  {
   "cell_type": "markdown",
   "id": "d947aabc-e2a5-4e57-a331-fc306749736a",
   "metadata": {},
   "source": [
    "## Warm Up Question-7\n",
    "Find the sum of the values of the student_ID dictionary.\n",
    "```python\n",
    "student_ID = {'Joe':394, 'Tim':921, 'Amy':861}\n"
   ]
  }
 ],
 "metadata": {
  "kernelspec": {
   "display_name": "Python 3 (ipykernel)",
   "language": "python",
   "name": "python3"
  },
  "language_info": {
   "codemirror_mode": {
    "name": "ipython",
    "version": 3
   },
   "file_extension": ".py",
   "mimetype": "text/x-python",
   "name": "python",
   "nbconvert_exporter": "python",
   "pygments_lexer": "ipython3",
   "version": "3.11.8"
  }
 },
 "nbformat": 4,
 "nbformat_minor": 5
}
