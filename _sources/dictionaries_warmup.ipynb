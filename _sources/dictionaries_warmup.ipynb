{
 "cells": [
  {
   "cell_type": "markdown",
   "id": "e52c30a5-5b1a-4893-aefc-dac6ef639d5f",
   "metadata": {},
   "source": [
    "# Dictionaries Warm Up\n",
    "![Section Title: Dictionaries Warm Up](title_pict/dictionaries_warmup2.png)\n"
   ]
  },
  {
   "cell_type": "markdown",
   "id": "eb4afec8-b613-409e-82da-8a7f51f488e1",
   "metadata": {},
   "source": [
    " Coming Soon"
   ]
  },
  {
   "cell_type": "code",
   "execution_count": null,
   "id": "8d834654-c939-4553-b44d-226253e306b4",
   "metadata": {},
   "outputs": [],
   "source": []
  }
 ],
 "metadata": {
  "kernelspec": {
   "display_name": "Python 3 (ipykernel)",
   "language": "python",
   "name": "python3"
  },
  "language_info": {
   "codemirror_mode": {
    "name": "ipython",
    "version": 3
   },
   "file_extension": ".py",
   "mimetype": "text/x-python",
   "name": "python",
   "nbconvert_exporter": "python",
   "pygments_lexer": "ipython3",
   "version": "3.11.8"
  }
 },
 "nbformat": 4,
 "nbformat_minor": 5
}
