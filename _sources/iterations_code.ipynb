{
 "cells": [
  {
   "cell_type": "markdown",
   "id": "13e18a7d",
   "metadata": {
    "hide_input": false
   },
   "source": [
    "# Iterations Code\n",
    "- Please solve the following questions using Python code.&emsp;&emsp;"
   ]
  },
  {
   "cell_type": "markdown",
   "id": "7054f9a9",
   "metadata": {},
   "source": [
    "## Question-1\n",
    "Using only one *for* loop and one *print()* function, display the following triangle.\n",
    "\n",
    "![](pict/triangle_range.png)\n",
    "  "
   ]
  },
  {
   "cell_type": "markdown",
   "id": "ffa19b17-d7dc-4203-84ba-ab2fd7f4893d",
   "metadata": {
    "tags": [
     "hide-cell"
    ]
   },
   "source": [
    "```{admonition} Solution\n",
    ":class: toggle\n",
    "\n",
    "``` python\n",
    "for i in range(1,20,3):\n",
    "  print(i*'*')\n",
    "```"
   ]
  },
  {
   "cell_type": "markdown",
   "id": "9a2cdb14",
   "metadata": {},
   "source": [
    "## Question-2\n",
    "Find the sum of the squares of the following numbers in two different ways: $3, 7, 11, 15, 19, 23, \\ldots, 107$.\n",
    "\n",
    "- Use a *for* loop.\n",
    "- Use a *while* loop.\n",
    "   "
   ]
  },
  {
   "cell_type": "markdown",
   "id": "9a94f8f2-6acd-40db-a878-df87f1e1608e",
   "metadata": {
    "tags": [
     "hide-cell"
    ]
   },
   "source": [
    "```{admonition} Solution\n",
    ":class: toggle\n",
    "\n",
    "``` python\n",
    "\n",
    "total_for = 0   # for loop\n",
    "\n",
    "for i in range(3,108,4):\n",
    "    total_for += i**2\n",
    "\n",
    "total_while = 0   # while loop\n",
    "n= 3\n",
    "\n",
    "while n < 108:\n",
    "    total_while += n**2\n",
    "    n += 4\n",
    "\n",
    "print(f'for   loop answer: {total_for}')\n",
    "print(f'while loop answer: {total_while}')\n",
    "\n",
    "```\n",
    "\n",
    "**Sample Output**   \n",
    "for   loop answer: 107883  \n",
    "while loop answer: 107883  "
   ]
  },
  {
   "cell_type": "markdown",
   "id": "deeef83a",
   "metadata": {},
   "source": [
    "## Question-3\n",
    "Write a program that asks the user to enter integers until the sum of the given integers exceeds 100.\n",
    "- Display the sum and count of the entered numbers.\n",
    "- Use a *while* loop.\n"
   ]
  },
  {
   "cell_type": "markdown",
   "id": "fd92564d-e5cd-42e5-9e8b-a5329478ae2c",
   "metadata": {
    "tags": [
     "hide-cell"
    ]
   },
   "source": [
    "```{admonition} Solution\n",
    ":class: toggle\n",
    "\n",
    "``` python\n",
    "total = 0\n",
    "count = 0\n",
    "\n",
    "while total < 100:\n",
    "    number = int(input('Enter an integer: '))\n",
    "    total += number\n",
    "    count += 1\n",
    "\n",
    "print(f'Sum = {total}, Count = {count}')\n",
    "```\n",
    "**Sample Output**  \n",
    "Enter an integer:  3  \n",
    "Enter an integer:  90  \n",
    "Enter an integer:  6  \n",
    "Enter an integer:  10   \n",
    "<-------------------->  \n",
    "Sum = 109, Count = 4  "
   ]
  },
  {
   "cell_type": "markdown",
   "id": "8b1e077a",
   "metadata": {},
   "source": [
    "## Question-4\n",
    "Find the following product using a *for* loop and round the final answer to the nearest hundredth.\n",
    "- $\\displaystyle \\frac{10}{100}\\frac{90}{99}\\frac{89}{98}\\frac{88}{97}\\frac{87}{96}\\frac{86}{95}\\frac{85}{94}\\frac{84}{93}$\n",
    "  "
   ]
  },
  {
   "cell_type": "markdown",
   "id": "7615c69e-bc19-4535-ba27-f8ea70314f0c",
   "metadata": {
    "tags": [
     "hide-cell"
    ]
   },
   "source": [
    "```{admonition} Solution\n",
    ":class: toggle\n",
    "\n",
    "``` python\n",
    "\n",
    "product = 10/100\n",
    "\n",
    "for i in range(7):\n",
    "    product *= (90-i)/(99-i)\n",
    "\n",
    "print(f'Product: {round(product,2)}')\n",
    "\n",
    "```"
   ]
  },
  {
   "cell_type": "markdown",
   "id": "b2417186-fb05-47e9-9bca-509a197bfae3",
   "metadata": {},
   "source": [
    "## Question-5\n",
    "Write a program that displays a rectangle using the characters `*` and `' '` (space).\n",
    "- The rectangle has *width* many `*` characters on its upper and lower sides.\n",
    "- The rectangle has *length* many `*` characters on its left and right sides.\n",
    "- There is a `' '` space character between the `*` characters.\n",
    "- use the following variables\n",
    "    - width, height = 8, 5\n",
    "\n",
    "![](pict/rect_three_building.png)\n",
    "  "
   ]
  },
  {
   "cell_type": "markdown",
   "id": "1255f806-34c9-440b-baea-45ae861fa60c",
   "metadata": {
    "tags": [
     "hide-cell"
    ]
   },
   "source": [
    "```{admonition} Solution\n",
    ":class: toggle\n",
    "\n",
    "``` python\n",
    "width, height = 8, 5\n",
    "\n",
    "for i in range(height):\n",
    "    if (i!=0) and (i!=height-1):\n",
    "        print('*'+(' '*(2*width-3)+'*'))\n",
    "    else:\n",
    "        print('* ' * width)\n",
    "\n",
    "```"
   ]
  },
  {
   "cell_type": "markdown",
   "id": "7f369ed9-5352-4058-8c1a-b3044d7b570c",
   "metadata": {},
   "source": [
    "## Question-6\n",
    "\n",
    "Write a program that displays a wide, one-floor building using the characters `*` and `' '` (space).\n",
    "- The building consists of *room* many rectangles, each with a size of *width* by *height*, stacked horizontally.\n",
    "- Use the following variables\n",
    "    - width, height, room = 4, 6, 10\n",
    "- Some examples are as follows:\n",
    "  \n",
    "![](pict/wide_two_buildings.png)\n"
   ]
  },
  {
   "cell_type": "markdown",
   "id": "44780c11-4c42-47d7-9a87-3d83eb1b09ce",
   "metadata": {
    "scrolled": true,
    "tags": [
     "hide-cell"
    ]
   },
   "source": [
    "```{admonition} Solution\n",
    ":class: toggle\n",
    "\n",
    "``` python\n",
    "\n",
    "width, height, room = 4, 6, 10\n",
    "\n",
    "for i in range(height):\n",
    "    if (i != 0) and (i != height-1):\n",
    "        print('*'+(' '*(2*width-3)+'*')*room)\n",
    "    else:\n",
    "        print('* ' * ((width-1) * room+1))\n",
    "```"
   ]
  },
  {
   "cell_type": "markdown",
   "id": "4df5a565",
   "metadata": {},
   "source": [
    "## Question-7\n",
    "Write a program that displays a tall building using the characters `*` and `' '` (space).\n",
    "- The building consists of *floor* many rectangles, each with a size of *width* by *height*, stacked vertically.\n",
    "- Use the following variables\n",
    "    - width, height, floor = 5, 6, 2\n",
    "- Some examples are as follows:\n",
    "\n",
    "![](pict/four_buildings.png)\n",
    "  \n"
   ]
  },
  {
   "cell_type": "markdown",
   "id": "e7a80b9d-0ded-41cc-8320-ba1d22ea7e0e",
   "metadata": {
    "tags": [
     "hide-cell"
    ]
   },
   "source": [
    "```{admonition} Solution\n",
    ":class: toggle\n",
    "\n",
    "``` python\n",
    "width, height, floor = 5, 6, 2\n",
    "\n",
    "for i in range(floor*(height-1)+1):\n",
    "    if i%(height-1) == 0:\n",
    "        print('* ' * width)\n",
    "    else:\n",
    "        print('*' +' '*(2*width-3)+'*')\n",
    "```"
   ]
  },
  {
   "cell_type": "markdown",
   "id": "3809f904",
   "metadata": {},
   "source": [
    "## Question-8\n",
    "Find the sum of the first $1000$ terms of the following sequence:\n",
    "\n",
    "$\\displaystyle \\frac{1}{1\\times 2}, \\frac{1}{2\\times 3}, \\frac{1}{3\\times 4}, \\frac{1}{4\\times 5}, ...$\n"
   ]
  },
  {
   "cell_type": "markdown",
   "id": "38048419-6d22-44e1-a2dd-c2abcb877132",
   "metadata": {
    "tags": [
     "hide-cell"
    ]
   },
   "source": [
    "```{admonition} Solution\n",
    ":class: toggle\n",
    "\n",
    "``` python\n",
    "\n",
    "total = 0\n",
    "\n",
    "for i in range(1, 1001):\n",
    "  total += 1/(i*(i+1))\n",
    "    \n",
    "print(total)\n",
    "\n",
    "```"
   ]
  },
  {
   "cell_type": "markdown",
   "id": "a74717e0",
   "metadata": {},
   "source": [
    "## Question-9\n",
    "\n",
    "Write a program that prompts the user to enter any text, which may include characters such as digits and punctuations.\n",
    "- Find the number of alphabet characters (a-z) in the given string.\n",
    "- You can use the constant *ascii_letters* from the *string* module to access all lowercase and uppercase alphabet letters.\n",
    "- Example:\n",
    "  - Enter a string: Wer34\n",
    "  - There are 3 alphabet letters in Wer34.\n"
   ]
  },
  {
   "cell_type": "markdown",
   "id": "5a73e175-47cd-45e9-a4cb-e0281c9df636",
   "metadata": {
    "jp-MarkdownHeadingCollapsed": true,
    "tags": [
     "hide-cell"
    ]
   },
   "source": [
    "```{admonition} Solution\n",
    ":class: toggle\n",
    "\n",
    "``` python\n",
    "import string\n",
    "\n",
    "text = input('Enter a text: ')\n",
    "count = 0\n",
    "\n",
    "for i in text:\n",
    "  if i in string.ascii_letters:\n",
    "    count += 1\n",
    "\n",
    "print(f'There are {count} alphabet letters in {text}')\n",
    "```\n",
    "\n",
    "**Sample Output**  \n",
    "Enter a string:  sD12&  \n",
    "There are 2 alphabet letters in sD12&"
   ]
  },
  {
   "cell_type": "markdown",
   "id": "c17a11be",
   "metadata": {},
   "source": [
    "## Question-10\n",
    "Write a program that generates a random word with 5 characters using lowercase alphabet letters.\n",
    "- You can use *random.choice()* to randomly choose a letter.\n",
    "- The generated word does not have to be meaningful.\n",
    "         "
   ]
  },
  {
   "cell_type": "markdown",
   "id": "646f9903-a03a-4522-9ae3-0dbe5facab02",
   "metadata": {
    "tags": [
     "hide-cell"
    ]
   },
   "source": [
    "```{admonition} Solution\n",
    ":class: toggle\n",
    "\n",
    "``` python\n",
    "\n",
    "import string\n",
    "import random\n",
    "\n",
    "random_word = ''\n",
    "\n",
    "for i in range(5):\n",
    "    random_word += random.choice(string.ascii_lowercase)\n",
    "           \n",
    "print(f'Randomly generated word: {random_word}')\n",
    "\n",
    "```\n",
    "\n",
    "**Sample Output:**  \n",
    "Randomly generated word: iilor\n"
   ]
  },
  {
   "cell_type": "markdown",
   "id": "bc13be04-86a9-4277-8ceb-520b038d3ba2",
   "metadata": {},
   "source": [
    "## Question-11\n",
    "Write a program that prompts the user to enter an integer.\n",
    "- Find the number of zeroes at the end of the given number.\n",
    "- Use a while loop.  \n",
    "- Example:\n",
    "  - Input: 1234500 ----> Output: 2\n"
   ]
  },
  {
   "cell_type": "markdown",
   "id": "1d846a75-61f0-424f-bc0a-cb91b1072633",
   "metadata": {
    "jp-MarkdownHeadingCollapsed": true,
    "tags": [
     "hide-cell"
    ]
   },
   "source": [
    "```{admonition} Solution-1\n",
    ":class: toggle\n",
    "\n",
    "``` python\n",
    "number = int(input('Enter an integer: '))\n",
    "count = 0\n",
    "\n",
    "n = number\n",
    "while n%10 == 0:\n",
    "  count += 1\n",
    "  n /= 10\n",
    "\n",
    "print(f'There are {count} zeroes at the end of {number}.')\n",
    "\n",
    "```\n",
    "\n",
    "**Sample Output**  \n",
    "Enter an integer:  278140000000000  \n",
    "There are 10 zeroes at the end of 278140000000000.  "
   ]
  },
  {
   "cell_type": "markdown",
   "id": "c2d9eb8b-aba5-4783-86c6-7a7ca0c79874",
   "metadata": {
    "jp-MarkdownHeadingCollapsed": true,
    "tags": [
     "hide-cell"
    ]
   },
   "source": [
    "```{admonition} Solution-2\n",
    ":class: toggle\n",
    "\n",
    "``` python\n",
    "number = input('Enter an integer: ')\n",
    "count = 0\n",
    "\n",
    "i = -1\n",
    "while number[i] == '0':\n",
    "  count += 1\n",
    "  i -= 1\n",
    "\n",
    "print(f'There are {count} zeroes at the end of {number}.')\n",
    "\n",
    "```\n",
    "\n",
    "**Sample Output**  \n",
    "Enter an integer:  278140000000000  \n",
    "There are 10 zeroes at the end of 278140000000000.  "
   ]
  },
  {
   "cell_type": "markdown",
   "id": "4cbf3e6b-2a9e-4ebd-95c0-1d1728590399",
   "metadata": {},
   "source": [
    "## Question-12\n",
    "\n",
    "Write a program that selects a 3-digit random number (dividend) and a 1-digit random number (divisor).\n",
    "- After 10 seconds, display the remainder and quotient.\n",
    "- Use *random.randint()* to generate random integers.  \n"
   ]
  },
  {
   "cell_type": "markdown",
   "id": "58ecc411-d1c1-4eae-94f7-3dff49249bc1",
   "metadata": {
    "jp-MarkdownHeadingCollapsed": true,
    "tags": [
     "hide-cell"
    ]
   },
   "source": [
    "```{admonition} Solution\n",
    ":class: toggle\n",
    "\n",
    "``` python\n",
    "import random\n",
    "import time\n",
    "\n",
    "divisor  = random.randint(1,9)\n",
    "dividend = random.randint(100,999)\n",
    "print(f'Divide {dividend} by {divisor}')\n",
    "\n",
    "time.sleep(10)\n",
    "\n",
    "print(f'Quotient  : {dividend//divisor}')\n",
    "print(f'Remainder : {dividend%divisor}')\n",
    "```\n",
    "**Sample Output**  \n",
    "Divide 495 by 4   \n",
    "Quotient  : 123   \n",
    "Remainder : 3   "
   ]
  },
  {
   "cell_type": "code",
   "execution_count": null,
   "id": "0fc56a96-0de3-4149-82fc-b5e732da737c",
   "metadata": {},
   "outputs": [],
   "source": []
  }
 ],
 "metadata": {
  "celltoolbar": "Tags",
  "hide_input": false,
  "kernelspec": {
   "display_name": "Python 3 (ipykernel)",
   "language": "python",
   "name": "python3"
  },
  "language_info": {
   "codemirror_mode": {
    "name": "ipython",
    "version": 3
   },
   "file_extension": ".py",
   "mimetype": "text/x-python",
   "name": "python",
   "nbconvert_exporter": "python",
   "pygments_lexer": "ipython3",
   "version": "3.11.7"
  },
  "toc": {
   "base_numbering": 1,
   "nav_menu": {},
   "number_sections": true,
   "sideBar": true,
   "skip_h1_title": false,
   "title_cell": "Table of Contents",
   "title_sidebar": "Contents",
   "toc_cell": false,
   "toc_position": {},
   "toc_section_display": true,
   "toc_window_display": false
  }
 },
 "nbformat": 4,
 "nbformat_minor": 5
}
