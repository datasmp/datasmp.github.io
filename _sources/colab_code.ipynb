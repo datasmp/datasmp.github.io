{
 "cells": [
  {
   "cell_type": "markdown",
   "id": "36e0dcde",
   "metadata": {},
   "source": [
    "# Code Cell\n",
    "    \n",
    "- You can write and execute Python code in code cells. \n",
    "- An arrow on the left of a code cell allows you to run the code. \n",
    "- Additionally, you can use the shortcut `Shift+Enter` to execute the code.\n",
    "- A number in a square bracket on the left of executed code cells represents the execution order of that code cell.\n",
    "- Warning: The order of a code cell in the notebook and its execution order can differ if you run another code cell above it"
   ]
  },
  {
   "cell_type": "markdown",
   "id": "397a9772",
   "metadata": {},
   "source": [
    "## Numbers\n",
    "- You can use integers (...,-3,-2,-1,0,1,2,3,....) and decimal numbers called floats in a code cell."
   ]
  },
  {
   "cell_type": "markdown",
   "id": "3b3d8a83",
   "metadata": {},
   "source": [
    "### Algebraic Operations\n",
    "- You can perform algebraic operations in code cells.\n",
    "- The multiplication operator is `*` (asterisk).\n",
    "- The division operator is `/` (forward slash)."
   ]
  },
  {
   "cell_type": "code",
   "execution_count": 1,
   "id": "ee93c729",
   "metadata": {},
   "outputs": [
    {
     "data": {
      "text/plain": [
       "14"
      ]
     },
     "execution_count": 1,
     "metadata": {},
     "output_type": "execute_result"
    }
   ],
   "source": [
    "5+9"
   ]
  },
  {
   "cell_type": "code",
   "execution_count": 6,
   "id": "b89929f1",
   "metadata": {},
   "outputs": [
    {
     "data": {
      "text/plain": [
       "5.9"
      ]
     },
     "execution_count": 6,
     "metadata": {},
     "output_type": "execute_result"
    }
   ],
   "source": [
    "10.4-4.5"
   ]
  },
  {
   "cell_type": "code",
   "execution_count": 3,
   "id": "3fa0d16e",
   "metadata": {},
   "outputs": [
    {
     "data": {
      "text/plain": [
       "30"
      ]
     },
     "execution_count": 3,
     "metadata": {},
     "output_type": "execute_result"
    }
   ],
   "source": [
    "5*6"
   ]
  },
  {
   "cell_type": "code",
   "execution_count": 4,
   "id": "e0d9412c",
   "metadata": {},
   "outputs": [
    {
     "data": {
      "text/plain": [
       "5.0"
      ]
     },
     "execution_count": 4,
     "metadata": {},
     "output_type": "execute_result"
    }
   ],
   "source": [
    "10/2"
   ]
  },
  {
   "cell_type": "markdown",
   "id": "aa10f467",
   "metadata": {},
   "source": [
    "## Strings\n",
    "- Strings are sequences of characters.\n",
    "- They can be written inside single quotes, double quotes, triple single quotes, or triple double quotes."
   ]
  },
  {
   "cell_type": "code",
   "execution_count": 52,
   "id": "3cd56f94",
   "metadata": {},
   "outputs": [
    {
     "data": {
      "text/plain": [
       "'USA'"
      ]
     },
     "execution_count": 52,
     "metadata": {},
     "output_type": "execute_result"
    }
   ],
   "source": [
    "'USA'"
   ]
  },
  {
   "cell_type": "code",
   "execution_count": 53,
   "id": "7f6da673",
   "metadata": {},
   "outputs": [
    {
     "data": {
      "text/plain": [
       "'USA'"
      ]
     },
     "execution_count": 53,
     "metadata": {},
     "output_type": "execute_result"
    }
   ],
   "source": [
    "\"USA\""
   ]
  },
  {
   "cell_type": "code",
   "execution_count": 54,
   "id": "54dc3aa1",
   "metadata": {},
   "outputs": [
    {
     "data": {
      "text/plain": [
       "'USA'"
      ]
     },
     "execution_count": 54,
     "metadata": {},
     "output_type": "execute_result"
    }
   ],
   "source": [
    "'''USA'''"
   ]
  },
  {
   "cell_type": "code",
   "execution_count": 55,
   "id": "945c9faa",
   "metadata": {},
   "outputs": [
    {
     "data": {
      "text/plain": [
       "'USA'"
      ]
     },
     "execution_count": 55,
     "metadata": {},
     "output_type": "execute_result"
    }
   ],
   "source": [
    "\"\"\"USA\"\"\""
   ]
  },
  {
   "cell_type": "code",
   "execution_count": 57,
   "id": "7ea69828",
   "metadata": {},
   "outputs": [
    {
     "data": {
      "text/plain": [
       "'3'"
      ]
     },
     "execution_count": 57,
     "metadata": {},
     "output_type": "execute_result"
    }
   ],
   "source": [
    "'3'   # string '3 'is not a number, it is only a character"
   ]
  },
  {
   "cell_type": "markdown",
   "id": "c0106bea",
   "metadata": {},
   "source": [
    "``` python\n",
    "# ERROR: you are trying to add a string (character) '3' and a number (5) \n",
    "'3'+5   \n",
    "```"
   ]
  },
  {
   "cell_type": "markdown",
   "id": "806b6866",
   "metadata": {},
   "source": [
    "### String Operations\n",
    "- `String + String`:  combines two strings\n",
    "- `String * Integer` or `Integer * String`: makes copies of the string `Integer` many times."
   ]
  },
  {
   "cell_type": "code",
   "execution_count": 65,
   "id": "95fa6ca8",
   "metadata": {},
   "outputs": [
    {
     "data": {
      "text/plain": [
       "'HelloWorld'"
      ]
     },
     "execution_count": 65,
     "metadata": {},
     "output_type": "execute_result"
    }
   ],
   "source": [
    "# concatenation: combining two strings\n",
    "'Hello' + 'World'"
   ]
  },
  {
   "cell_type": "code",
   "execution_count": 64,
   "id": "d27d3d66",
   "metadata": {},
   "outputs": [
    {
     "data": {
      "text/plain": [
       "'MMMMMMMMMM'"
      ]
     },
     "execution_count": 64,
     "metadata": {},
     "output_type": "execute_result"
    }
   ],
   "source": [
    "# repetition: # 10 Ms\n",
    "'M'*10"
   ]
  },
  {
   "cell_type": "markdown",
   "id": "335df3d0",
   "metadata": {},
   "source": [
    "## Comments\n",
    "- Use `#`  to add notes to your program, explaining the purpose of the code.\n",
    "- Comments are not executed but serve as explanations.\n",
    "- Additionally, you can place comments to the right of the code.\n",
    "- Comments make the code easier to read and understand.\n",
    "- Comments help team members understand each other's code."
   ]
  },
  {
   "cell_type": "code",
   "execution_count": 14,
   "id": "d7211da3",
   "metadata": {},
   "outputs": [
    {
     "data": {
      "text/plain": [
       "10"
      ]
     },
     "execution_count": 14,
     "metadata": {},
     "output_type": "execute_result"
    }
   ],
   "source": [
    "# this is a comment: addition\n",
    "2+8"
   ]
  },
  {
   "cell_type": "code",
   "execution_count": 23,
   "id": "ce2765c1",
   "metadata": {},
   "outputs": [
    {
     "data": {
      "text/plain": [
       "10"
      ]
     },
     "execution_count": 23,
     "metadata": {},
     "output_type": "execute_result"
    }
   ],
   "source": [
    "2+8  # addition"
   ]
  },
  {
   "cell_type": "markdown",
   "id": "ab3c9a21",
   "metadata": {},
   "source": [
    "## Built-in functions\n",
    "\n",
    "- There are functions readily available for use in a notebook.\n",
    "- There is no need to import these built-in functions from external sources. \n",
    "- You can find the list of built-in functions in the following [link](https://docs.python.org/3/library/functions.html)."
   ]
  },
  {
   "cell_type": "code",
   "execution_count": 7,
   "id": "d8af0b26",
   "metadata": {},
   "outputs": [
    {
     "data": {
      "text/plain": [
       "7"
      ]
     },
     "execution_count": 7,
     "metadata": {},
     "output_type": "execute_result"
    }
   ],
   "source": [
    "# absolute value function\n",
    "abs(-7)"
   ]
  },
  {
   "cell_type": "code",
   "execution_count": 8,
   "id": "17c21d0b",
   "metadata": {},
   "outputs": [
    {
     "data": {
      "text/plain": [
       "9"
      ]
     },
     "execution_count": 8,
     "metadata": {},
     "output_type": "execute_result"
    }
   ],
   "source": [
    "# maximum of a list of numbers\n",
    "max(3,-4,0,9,2)"
   ]
  },
  {
   "cell_type": "code",
   "execution_count": 11,
   "id": "5269de60",
   "metadata": {},
   "outputs": [
    {
     "data": {
      "text/plain": [
       "-4"
      ]
     },
     "execution_count": 11,
     "metadata": {},
     "output_type": "execute_result"
    }
   ],
   "source": [
    "# minimum of a list of numbers\n",
    "min(3,-4,0,9,2)"
   ]
  },
  {
   "cell_type": "code",
   "execution_count": 10,
   "id": "cd687669",
   "metadata": {},
   "outputs": [
    {
     "data": {
      "text/plain": [
       "10"
      ]
     },
     "execution_count": 10,
     "metadata": {},
     "output_type": "execute_result"
    }
   ],
   "source": [
    "# sum of a list of numbers in a square bracket\n",
    "sum([3,5,2])"
   ]
  },
  {
   "cell_type": "code",
   "execution_count": 13,
   "id": "9c58bc54",
   "metadata": {},
   "outputs": [
    {
     "data": {
      "text/plain": [
       "3.47"
      ]
     },
     "execution_count": 13,
     "metadata": {},
     "output_type": "execute_result"
    }
   ],
   "source": [
    "# rounding to the nearest hundreth\n",
    "round(3.4678, 2)"
   ]
  },
  {
   "cell_type": "markdown",
   "id": "157c8267",
   "metadata": {},
   "source": [
    "## print() function\n",
    "- Displays output on the screen.\n",
    "- In Colab notebooks, only the variable value in the last line is automatically displayed.\n",
    "- To display any value in another line, you need to use the print() function."
   ]
  },
  {
   "cell_type": "code",
   "execution_count": 17,
   "id": "2507e1a3",
   "metadata": {},
   "outputs": [
    {
     "data": {
      "text/plain": [
       "10"
      ]
     },
     "execution_count": 17,
     "metadata": {},
     "output_type": "execute_result"
    }
   ],
   "source": [
    "# notebook only displays the value in the last line of the code cell\n",
    "5-1  # not displayed\n",
    "3+7  # displayed"
   ]
  },
  {
   "cell_type": "code",
   "execution_count": 20,
   "id": "1e954e7e",
   "metadata": {},
   "outputs": [
    {
     "name": "stdout",
     "output_type": "stream",
     "text": [
      "4\n",
      "10\n"
     ]
    }
   ],
   "source": [
    "# print() displays the outputs\n",
    "print(5-1)  #  displayed\n",
    "print(3+7)  # displayed"
   ]
  },
  {
   "cell_type": "markdown",
   "id": "575e5065",
   "metadata": {},
   "source": [
    "## Indentation\n",
    "- Indentation refers to the spaces at the beginning of a code line.\n",
    "- Python uses indentation to indicate a block of code.\n",
    "- Do not use indentation unless you need it.\n",
    "\n",
    "- Indentation refers to the spaces at the beginning of a code line.\n",
    "- Python uses indentation to group the block of code.\n",
    "- Only use indentation when necessary.\n",
    "\n",
    "\n",
    "\n",
    "``` python\n",
    "# ERROR: Indentation error\n",
    "# There should not be space at the beginning\n",
    "print(3+1)\n",
    " print(5+6)  \n",
    "```"
   ]
  },
  {
   "cell_type": "markdown",
   "id": "f6925758",
   "metadata": {},
   "source": [
    "## Import Modules/Packages/Libraries\n",
    "\n",
    "- Only very commonly used, simple functions are available in a notebook by default. \n",
    "- Python has a vast set of modules, packages and libraries where one can find numerous functions. \n",
    "- For instance, the `mean()` function is not available by default in a notebook.\n",
    "\n",
    "``` python\n",
    "# ERROR: 'mean' is not defined\n",
    "mean(4,8)\n",
    "```\n",
    "\n",
    "- The mean function can be imported from the `statistics` module or `numpy`library.\n",
    "- You can import a package and call any function from it using the `package.method`.\n",
    "- You can import only the function(s) you need from the package using the `from PACKAGE import METHOD`.\n",
    "- Additionally, you can import a package and rename it for shorter usage by employing the `import PACKAGE as ABBREVIATION`."
   ]
  },
  {
   "cell_type": "code",
   "execution_count": 25,
   "id": "4b6dac96",
   "metadata": {},
   "outputs": [
    {
     "data": {
      "text/plain": [
       "6"
      ]
     },
     "execution_count": 25,
     "metadata": {},
     "output_type": "execute_result"
    }
   ],
   "source": [
    "import statistics        # import whole package\n",
    "statistics.mean([4,8])   # call mean method from statistics package"
   ]
  },
  {
   "cell_type": "code",
   "execution_count": 26,
   "id": "42d1b3d8",
   "metadata": {},
   "outputs": [
    {
     "data": {
      "text/plain": [
       "6"
      ]
     },
     "execution_count": 26,
     "metadata": {},
     "output_type": "execute_result"
    }
   ],
   "source": [
    "from statistics import mean        # import only mean method\n",
    "mean([4,8])                        # call mean method "
   ]
  },
  {
   "cell_type": "code",
   "execution_count": 27,
   "id": "871989ea",
   "metadata": {},
   "outputs": [
    {
     "data": {
      "text/plain": [
       "6"
      ]
     },
     "execution_count": 27,
     "metadata": {},
     "output_type": "execute_result"
    }
   ],
   "source": [
    "import statistics as st        # import whole statistics package as st\n",
    "st.mean([4,8])                 # call mean method from st package"
   ]
  },
  {
   "cell_type": "code",
   "execution_count": 29,
   "id": "94720ca9",
   "metadata": {},
   "outputs": [
    {
     "data": {
      "text/plain": [
       "6.0"
      ]
     },
     "execution_count": 29,
     "metadata": {},
     "output_type": "execute_result"
    }
   ],
   "source": [
    "import numpy as np        # import numpy package as np\n",
    "np.mean([4,8])            # call mean method from np package"
   ]
  },
  {
   "cell_type": "markdown",
   "id": "a34434cf",
   "metadata": {},
   "source": [
    "- You can call mathematical constants and functions from the `math` module.\n",
    "- Functions in modules are also called methods.\n",
    "- The built-in `help()` function displays the list of methods.\n",
    "\n",
    "```python\n",
    "# displays all functions and constants in math module\n",
    "import math\n",
    "help(math)\n",
    "```"
   ]
  },
  {
   "cell_type": "code",
   "execution_count": 31,
   "id": "c8617667",
   "metadata": {},
   "outputs": [
    {
     "data": {
      "text/plain": [
       "3.141592653589793"
      ]
     },
     "execution_count": 31,
     "metadata": {},
     "output_type": "execute_result"
    }
   ],
   "source": [
    "import math\n",
    "math.pi"
   ]
  },
  {
   "cell_type": "code",
   "execution_count": 37,
   "id": "1d0d2b01",
   "metadata": {},
   "outputs": [
    {
     "data": {
      "text/plain": [
       "2.302585092994046"
      ]
     },
     "execution_count": 37,
     "metadata": {},
     "output_type": "execute_result"
    }
   ],
   "source": [
    "# ln(10)\n",
    "math.log(10)   # natural log 10"
   ]
  },
  {
   "cell_type": "markdown",
   "id": "1559327e",
   "metadata": {},
   "source": [
    "- The `datetime` module contains methods that can be used for working with time and date"
   ]
  },
  {
   "cell_type": "code",
   "execution_count": 38,
   "id": "7f8a57e4",
   "metadata": {},
   "outputs": [
    {
     "data": {
      "text/plain": [
       "datetime.datetime(2024, 1, 9, 0, 50, 34, 636567)"
      ]
     },
     "execution_count": 38,
     "metadata": {},
     "output_type": "execute_result"
    }
   ],
   "source": [
    "import datetime\n",
    "datetime.datetime.now()    # date and time now"
   ]
  },
  {
   "cell_type": "code",
   "execution_count": 41,
   "id": "3f3a5fe1",
   "metadata": {},
   "outputs": [
    {
     "name": "stdout",
     "output_type": "stream",
     "text": [
      "    January 1900\n",
      "Mo Tu We Th Fr Sa Su\n",
      " 1  2  3  4  5  6  7\n",
      " 8  9 10 11 12 13 14\n",
      "15 16 17 18 19 20 21\n",
      "22 23 24 25 26 27 28\n",
      "29 30 31\n",
      "\n"
     ]
    }
   ],
   "source": [
    "import calendar                   # import calender module\n",
    "print(calendar.month(1900, 1))    # display Jan month of 1900"
   ]
  },
  {
   "cell_type": "markdown",
   "id": "bdad0f07",
   "metadata": {},
   "source": [
    "## Images\n",
    "- You can import images from a website using the IPython library.\n",
    "- Adjust the size of the image by utilizing width and height parameters."
   ]
  },
  {
   "cell_type": "code",
   "execution_count": 49,
   "id": "444ff3ec",
   "metadata": {},
   "outputs": [
    {
     "data": {
      "image/png": "[encoded data removed]",
      "text/plain": [
       "<IPython.core.display.Image object>"
      ]
     },
     "execution_count": 49,
     "metadata": {
      "image/png": {
       "height": 100,
       "width": 100
      }
     },
     "output_type": "execute_result"
    }
   ],
   "source": [
    "from IPython.core.display import Image\n",
    "Image('https://www.python.org/static/community_logos/python-powered-h-100x130.png',width=100,height=100)"
   ]
  },
  {
   "cell_type": "markdown",
   "id": "c3b9c3ed",
   "metadata": {},
   "source": [
    "## Youtube Video\n",
    "- You can import YouTube videos using the unique ID number.\n",
    "- The ID number of a YouTube video can be found in the video's URL directly after the = sign\n",
    "- ID number of  https://www.youtube.com/watch?v=rNgswRZ2C1Y is `rNgswRZ2C1Y`"
   ]
  },
  {
   "cell_type": "code",
   "execution_count": 50,
   "id": "c4be6b50",
   "metadata": {},
   "outputs": [
    {
     "data": {
      "image/jpeg": "[encoded data removed]",
      "text/html": [
       "\n",
       "        <iframe\n",
       "            width=\"800\"\n",
       "            height=\"300\"\n",
       "            src=\"https://www.youtube.com/embed/rNgswRZ2C1Y\"\n",
       "            frameborder=\"0\"\n",
       "            allowfullscreen\n",
       "            \n",
       "        ></iframe>\n",
       "        "
      ],
      "text/plain": [
       "<IPython.lib.display.YouTubeVideo at 0x120556090>"
      ]
     },
     "execution_count": 50,
     "metadata": {},
     "output_type": "execute_result"
    }
   ],
   "source": [
    "from IPython.lib.display import YouTubeVideo\n",
    "YouTubeVideo('rNgswRZ2C1Y', width=800, height=300)\n"
   ]
  }
 ],
 "metadata": {
  "hide_input": false,
  "kernelspec": {
   "display_name": "Python 3 (ipykernel)",
   "language": "python",
   "name": "python3"
  },
  "language_info": {
   "codemirror_mode": {
    "name": "ipython",
    "version": 3
   },
   "file_extension": ".py",
   "mimetype": "text/x-python",
   "name": "python",
   "nbconvert_exporter": "python",
   "pygments_lexer": "ipython3",
   "version": "3.11.7"
  },
  "toc": {
   "base_numbering": 1,
   "nav_menu": {},
   "number_sections": true,
   "sideBar": true,
   "skip_h1_title": false,
   "title_cell": "Table of Contents",
   "title_sidebar": "Contents",
   "toc_cell": false,
   "toc_position": {
    "height": "calc(100% - 180px)",
    "left": "10px",
    "top": "150px",
    "width": "259.398px"
   },
   "toc_section_display": true,
   "toc_window_display": false
  }
 },
 "nbformat": 4,
 "nbformat_minor": 5
}
