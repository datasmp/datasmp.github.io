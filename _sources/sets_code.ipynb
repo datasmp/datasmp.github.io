{
 "cells": [
  {
   "cell_type": "markdown",
   "id": "13e18a7d",
   "metadata": {
    "hide_input": false
   },
   "source": [
    "# Sets Code\n",
    "- Please solve the following questions using Python code.&emsp;&emsp;"
   ]
  },
  {
   "cell_type": "markdown",
   "id": "7054f9a9",
   "metadata": {},
   "source": [
    "## Question\n",
    "Using only one *for* loop and one *print()* function, display the following triangle.\n",
    "\n",
    "![](pict/triangle_range.png)\n",
    "  "
   ]
  },
  {
   "cell_type": "markdown",
   "id": "ffa19b17-d7dc-4203-84ba-ab2fd7f4893d",
   "metadata": {
    "tags": [
     "hide-cell"
    ]
   },
   "source": [
    "```{admonition} Solution\n",
    ":class: toggle\n",
    "\n",
    "``` python\n",
    "for i in range(1,20,3):\n",
    "  print(i*'*')\n",
    "```"
   ]
  },
  {
   "cell_type": "markdown",
   "id": "9a2cdb14",
   "metadata": {},
   "source": [
    "## Question\n",
    "Find the sum of the squares of the following numbers in two different ways: $3, 7, 11, 15, 19, 23, \\ldots, 107$.\n",
    "\n",
    "- Use a *for* loop.\n",
    "- Use a *while* loop.\n",
    "   \n",
    "**Solution**"
   ]
  },
  {
   "cell_type": "code",
   "execution_count": 6,
   "id": "4823363b-f658-4852-a2b2-a03870f6a06f",
   "metadata": {
    "tags": [
     "hide-cell"
    ]
   },
   "outputs": [
    {
     "name": "stdout",
     "output_type": "stream",
     "text": [
      "for   loop answer: 107883\n",
      "while loop answer: 107883\n"
     ]
    }
   ],
   "source": [
    "# for loop\n",
    "total_for = 0\n",
    "\n",
    "for i in range(3,108,4):\n",
    "    total_for += i**2\n",
    "\n",
    "# while loop\n",
    "total_while = 0\n",
    "n= 3\n",
    "\n",
    "while n < 108:\n",
    "    total_while += n**2\n",
    "    n += 4\n",
    "\n",
    "print(f'for   loop answer: {total_for}')\n",
    "print(f'while loop answer: {total_while}')"
   ]
  },
  {
   "cell_type": "markdown",
   "id": "deeef83a",
   "metadata": {},
   "source": [
    "## Question\n",
    "Write a program that asks the user to enter integers until the sum of the given integers exceeds 100.\n",
    "- Display the sum and count of the entered numbers.\n",
    "- Use a *while* loop.\n"
   ]
  },
  {
   "cell_type": "markdown",
   "id": "fd92564d-e5cd-42e5-9e8b-a5329478ae2c",
   "metadata": {
    "tags": [
     "hide-cell"
    ]
   },
   "source": [
    "```{admonition} Solution\n",
    ":class: toggle\n",
    "\n",
    "``` python\n",
    "total = 0\n",
    "count = 0\n",
    "\n",
    "while total < 100:\n",
    "    number = int(input('Enter an integer: '))\n",
    "    total += number\n",
    "    count += 1\n",
    "\n",
    "print(f'Sum = {total}, Count = {count}')\n",
    "```\n",
    "**Sample Output**  \n",
    "Enter an integer:  3  \n",
    "Enter an integer:  90  \n",
    "Enter an integer:  6  \n",
    "Enter an integer:  10   \n",
    "<-------------------->  \n",
    "Sum = 109, Count = 4  "
   ]
  },
  {
   "cell_type": "markdown",
   "id": "8b1e077a",
   "metadata": {},
   "source": [
    "## Question\n",
    "Find the following product using a *for* loop and round the final answer to the nearest hundredth.\n",
    "- $\\displaystyle \\frac{10}{100}\\frac{90}{99}\\frac{89}{98}\\frac{88}{97}\\frac{87}{96}\\frac{86}{95}\\frac{85}{94}\\frac{84}{93}$\n",
    "  \n",
    "**Solution**"
   ]
  },
  {
   "cell_type": "code",
   "execution_count": 88,
   "id": "60367dcd",
   "metadata": {
    "tags": [
     "hide-cell"
    ]
   },
   "outputs": [
    {
     "name": "stdout",
     "output_type": "stream",
     "text": [
      "Product: 0.05\n"
     ]
    }
   ],
   "source": [
    "product = 10/100\n",
    "\n",
    "for i in range(7):\n",
    "    product *= (90-i)/(99-i)\n",
    "\n",
    "print(f'Product: {round(product,2)}')"
   ]
  },
  {
   "cell_type": "markdown",
   "id": "b2417186-fb05-47e9-9bca-509a197bfae3",
   "metadata": {},
   "source": [
    "## Question\n",
    "Write a program that displays a rectangle using the characters `*` and `' '` (space).\n",
    "- The rectangle has *width* many `*` characters on its upper and lower sides.\n",
    "- The rectangle has *length* many `*` characters on its left and right sides.\n",
    "- There is a `' '` space character between the `*` characters.\n",
    "\n",
    "![](pict/rect_three_building.png)\n",
    "  \n",
    "**Solution**"
   ]
  },
  {
   "cell_type": "code",
   "execution_count": 65,
   "id": "c2698e21-7812-4bd2-a7ce-60a122d32b8d",
   "metadata": {},
   "outputs": [],
   "source": [
    "# use the following variables\n",
    "width, height = 8, 5"
   ]
  },
  {
   "cell_type": "code",
   "execution_count": 66,
   "id": "7ec53bf5-7eeb-43be-ac79-3b585d7846ac",
   "metadata": {
    "tags": [
     "hide-cell"
    ]
   },
   "outputs": [
    {
     "name": "stdout",
     "output_type": "stream",
     "text": [
      "* * * * * * * * \n",
      "*             *\n",
      "*             *\n",
      "*             *\n",
      "* * * * * * * * \n"
     ]
    }
   ],
   "source": [
    "for i in range(height):\n",
    "    if (i!=0) and (i!=height-1):\n",
    "        print('*'+(' '*(2*width-3)+'*'))\n",
    "    else:\n",
    "        print('* ' * width)"
   ]
  },
  {
   "cell_type": "markdown",
   "id": "7f369ed9-5352-4058-8c1a-b3044d7b570c",
   "metadata": {},
   "source": [
    "## Question\n",
    "\n",
    "Write a program that displays a wide, one-floor building using the characters `*` and `' '` (space).\n",
    "- The building consists of *room* many rectangles, each with a size of *width* by *height*, stacked horizontally.\n",
    "- Some examples are as follows:\n",
    "  \n",
    "![](pict/wide_two_buildings.png)\n",
    "  \n",
    "**Solution**"
   ]
  },
  {
   "cell_type": "code",
   "execution_count": 68,
   "id": "3891b19f-aec9-4563-8624-09e8401ab810",
   "metadata": {},
   "outputs": [],
   "source": [
    "# use the following variables\n",
    "width, height, room = 4, 6, 10"
   ]
  },
  {
   "cell_type": "code",
   "execution_count": 69,
   "id": "35840dc4-8513-4161-a726-cefc10066e46",
   "metadata": {
    "tags": [
     "hide-cell"
    ]
   },
   "outputs": [
    {
     "name": "stdout",
     "output_type": "stream",
     "text": [
      "* * * * * * * * * * * * * * * * * * * * * * * * * * * * * * * \n",
      "*     *     *     *     *     *     *     *     *     *     *\n",
      "*     *     *     *     *     *     *     *     *     *     *\n",
      "*     *     *     *     *     *     *     *     *     *     *\n",
      "*     *     *     *     *     *     *     *     *     *     *\n",
      "* * * * * * * * * * * * * * * * * * * * * * * * * * * * * * * \n"
     ]
    }
   ],
   "source": [
    "for i in range(height):\n",
    "    if (i != 0) and (i != height-1):\n",
    "        print('*'+(' '*(2*width-3)+'*')*room)\n",
    "    else:\n",
    "        print('* ' * ((width-1) * room+1))"
   ]
  },
  {
   "cell_type": "markdown",
   "id": "4df5a565",
   "metadata": {},
   "source": [
    "## Question\n",
    "Write a program that displays a tall building using the characters `*` and `' '` (space).\n",
    "- The building consists of *floor* many rectangles, each with a size of *width* by *height*, stacked vertically.\n",
    "- Some examples are as follows:\n",
    "\n",
    "![](pict/four_buildings.png)\n",
    "  \n",
    "**Solution**"
   ]
  },
  {
   "cell_type": "code",
   "execution_count": 24,
   "id": "e5efc6a8-4235-413f-8536-bee6e32f8d7d",
   "metadata": {},
   "outputs": [],
   "source": [
    "# use the following variables\n",
    "width, height, floor = 5, 6, 2"
   ]
  },
  {
   "cell_type": "code",
   "execution_count": 89,
   "id": "3b20bd66",
   "metadata": {
    "tags": [
     "hide-cell"
    ]
   },
   "outputs": [
    {
     "name": "stdout",
     "output_type": "stream",
     "text": [
      "* * * * \n",
      "*     *\n",
      "*     *\n",
      "*     *\n",
      "*     *\n",
      "* * * * \n",
      "*     *\n",
      "*     *\n",
      "*     *\n",
      "*     *\n",
      "* * * * \n",
      "*     *\n",
      "*     *\n",
      "*     *\n",
      "*     *\n",
      "* * * * \n"
     ]
    }
   ],
   "source": [
    "for i in range(floor*(height-1)+1):\n",
    "    if i%(height-1) == 0:\n",
    "        print('* ' * width)\n",
    "    else:\n",
    "        print('*' +' '*(2*width-3)+'*')"
   ]
  },
  {
   "cell_type": "markdown",
   "id": "3809f904",
   "metadata": {},
   "source": [
    "## Question\n",
    "Find the sum of the first $1000$ terms of the following sequence:\n",
    "\n",
    "$\\displaystyle \\frac{1}{1\\times 2}, \\frac{1}{2\\times 3}, \\frac{1}{3\\times 4}, \\frac{1}{4\\times 5}, ...$\n",
    "\n",
    "**Solution**"
   ]
  },
  {
   "cell_type": "code",
   "execution_count": 84,
   "id": "f57d0c9d-8d73-42d0-8a9c-001a2cc88667",
   "metadata": {
    "tags": [
     "hide-cell"
    ]
   },
   "outputs": [
    {
     "name": "stdout",
     "output_type": "stream",
     "text": [
      "0.9990009990009997\n"
     ]
    }
   ],
   "source": [
    "total = 0\n",
    "\n",
    "for i in range(1, 1001):\n",
    "  total += 1/(i*(i+1))\n",
    "    \n",
    "print(total)"
   ]
  },
  {
   "cell_type": "markdown",
   "id": "a74717e0",
   "metadata": {},
   "source": [
    "## Question\n",
    "\n",
    "Write a program that prompts the user to enter any text, which may include characters such as digits and punctuations.\n",
    "- Find the number of alphabet characters (a-z) in the given string.\n",
    "- You can use the constant *ascii_letters* from the *string* module to access all lowercase and uppercase alphabet letters.\n",
    "- Example:\n",
    "  - Enter a string: Wer34\n",
    "  - There are 3 alphabet letters in Wer34.\n"
   ]
  },
  {
   "cell_type": "markdown",
   "id": "5a73e175-47cd-45e9-a4cb-e0281c9df636",
   "metadata": {
    "jp-MarkdownHeadingCollapsed": true,
    "tags": [
     "hide-cell"
    ]
   },
   "source": [
    "```{admonition} Solution\n",
    ":class: toggle\n",
    "\n",
    "``` python\n",
    "import string\n",
    "\n",
    "text = input('Enter a text: ')\n",
    "count = 0\n",
    "\n",
    "for i in text:\n",
    "  if i in string.ascii_letters:\n",
    "    count += 1\n",
    "\n",
    "print(f'There are {count} alphabet letters in {text}')\n",
    "```\n",
    "\n",
    "**Sample Output**  \n",
    "Enter a string:  sD12&  \n",
    "There are 2 alphabet letters in sD12&"
   ]
  },
  {
   "cell_type": "markdown",
   "id": "c17a11be",
   "metadata": {},
   "source": [
    "## Question\n",
    "Write a program that generates a random word with 5 characters using lowercase alphabet letters.\n",
    "- You can use *random.choice()* to randomly choose a letter.\n",
    "- The generated word does not have to be meaningful.\n",
    "         \n",
    "**Solution**"
   ]
  },
  {
   "cell_type": "code",
   "execution_count": 72,
   "id": "541a9462-75da-48db-9893-265d113fa81c",
   "metadata": {
    "tags": [
     "hide-cell"
    ]
   },
   "outputs": [
    {
     "name": "stdout",
     "output_type": "stream",
     "text": [
      "Randomly generated word: iilor\n"
     ]
    }
   ],
   "source": [
    "import string\n",
    "import random\n",
    "\n",
    "random_word = ''\n",
    "\n",
    "for i in range(5):\n",
    "    random_word += random.choice(string.ascii_lowercase)\n",
    "           \n",
    "print(f'Randomly generated word: {random_word}')"
   ]
  },
  {
   "cell_type": "markdown",
   "id": "bc13be04-86a9-4277-8ceb-520b038d3ba2",
   "metadata": {},
   "source": [
    "## Question\n",
    "Write a program that prompts the user to enter an integer.\n",
    "- Find the number of zeroes at the end of the given number.\n",
    "- Use a while loop.\"\n",
    "- Example:\n",
    "  - Input: 1234500 ----> Output: 2\n"
   ]
  },
  {
   "cell_type": "markdown",
   "id": "1d846a75-61f0-424f-bc0a-cb91b1072633",
   "metadata": {
    "jp-MarkdownHeadingCollapsed": true,
    "tags": [
     "hide-cell"
    ]
   },
   "source": [
    "```{admonition} Solution-1\n",
    ":class: toggle\n",
    "\n",
    "``` python\n",
    "number = int(input('Enter an integer: '))\n",
    "count = 0\n",
    "\n",
    "n = number\n",
    "while n%10 == 0:\n",
    "  count += 1\n",
    "  n /= 10\n",
    "\n",
    "print(f'There are {count} zeroes at the end of {number}.')\n",
    "\n",
    "```\n",
    "\n",
    "**Sample Output**  \n",
    "Enter an integer:  278140000000000  \n",
    "There are 10 zeroes at the end of 278140000000000.  "
   ]
  },
  {
   "cell_type": "markdown",
   "id": "c2d9eb8b-aba5-4783-86c6-7a7ca0c79874",
   "metadata": {
    "jp-MarkdownHeadingCollapsed": true,
    "tags": [
     "hide-cell"
    ]
   },
   "source": [
    "```{admonition} Solution-2\n",
    ":class: toggle\n",
    "\n",
    "``` python\n",
    "number = input('Enter an integer: ')\n",
    "count = 0\n",
    "\n",
    "i = -1\n",
    "while number[i] == '0':\n",
    "  count += 1\n",
    "  i -= 1\n",
    "\n",
    "print(f'There are {count} zeroes at the end of {number}.')\n",
    "\n",
    "```\n",
    "\n",
    "**Sample Output**  \n",
    "Enter an integer:  278140000000000  \n",
    "There are 10 zeroes at the end of 278140000000000.  "
   ]
  },
  {
   "cell_type": "markdown",
   "id": "4cbf3e6b-2a9e-4ebd-95c0-1d1728590399",
   "metadata": {},
   "source": [
    "## Question\n",
    "\n",
    "Write a program that selects a 3-digit random number (dividend) and a 1-digit random number (divisor).\n",
    "- After 10 seconds, display the remainder and quotient.\n",
    "- Use *random.randint()* to generate random integers.  \n"
   ]
  },
  {
   "cell_type": "markdown",
   "id": "58ecc411-d1c1-4eae-94f7-3dff49249bc1",
   "metadata": {
    "jp-MarkdownHeadingCollapsed": true,
    "tags": [
     "hide-cell"
    ]
   },
   "source": [
    "```{admonition} Solution\n",
    ":class: toggle\n",
    "\n",
    "``` python\n",
    "import random\n",
    "import time\n",
    "\n",
    "divisor  = random.randint(1,9)\n",
    "dividend = random.randint(100,999)\n",
    "print(f'Divide {dividend} by {divisor}')\n",
    "\n",
    "time.sleep(10)\n",
    "\n",
    "print(f'Quotient  : {dividend//divisor}')\n",
    "print(f'Remainder : {dividend%divisor}')\n",
    "```\n",
    "**Sample Output**  \n",
    "Divide 495 by 4   \n",
    "Quotient  : 123   \n",
    "Remainder : 3   "
   ]
  },
  {
   "cell_type": "code",
   "execution_count": null,
   "id": "0fc56a96-0de3-4149-82fc-b5e732da737c",
   "metadata": {},
   "outputs": [],
   "source": []
  }
 ],
 "metadata": {
  "celltoolbar": "Tags",
  "hide_input": false,
  "kernelspec": {
   "display_name": "Python 3 (ipykernel)",
   "language": "python",
   "name": "python3"
  },
  "language_info": {
   "codemirror_mode": {
    "name": "ipython",
    "version": 3
   },
   "file_extension": ".py",
   "mimetype": "text/x-python",
   "name": "python",
   "nbconvert_exporter": "python",
   "pygments_lexer": "ipython3",
   "version": "3.11.7"
  },
  "toc": {
   "base_numbering": 1,
   "nav_menu": {},
   "number_sections": true,
   "sideBar": true,
   "skip_h1_title": false,
   "title_cell": "Table of Contents",
   "title_sidebar": "Contents",
   "toc_cell": false,
   "toc_position": {},
   "toc_section_display": true,
   "toc_window_display": false
  }
 },
 "nbformat": 4,
 "nbformat_minor": 5
}
