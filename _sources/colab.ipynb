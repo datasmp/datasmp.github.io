{
 "cells": [
  {
   "cell_type": "markdown",
   "id": "58e12d75",
   "metadata": {},
   "source": [
    "# Google Colab"
   ]
  },
  {
   "cell_type": "markdown",
   "id": "aac20ae2",
   "metadata": {},
   "source": [
    "Google Colab (Colaboratory) is a cloud-based notebook for writing and executing Python code. \n",
    "- You need to sign into your Google account to execute code and save your notebook. \n",
    "- There's no requirement to install any software on your computer.\n",
    "- Sharing your notebooks is easy, and Colab files are automatically saved to Google Drive."
   ]
  },
  {
   "attachments": {},
   "cell_type": "markdown",
   "id": "b032d25c",
   "metadata": {},
   "source": [
    "## Google Drive\n",
    "\n",
    "- Google Drive is utilized for storing files in the cloud. \n",
    "- You can manage, modify, and share your files. \n",
    "- By default, you have 15 GB of free storage, but there are also options for paid storage, such as 100 GB, 200 GB, and so on.\n",
    "- Within your Google or Gmail account, you can access Google Drive and other applications by clicking on the Google Apps Icon, which has nine dots and resembles a square.\n",
    "\n",
    "- By clicking on `+New` in the upper left corner of your Google Drive (located underneath the Drive icon), you can:\n",
    "    - Upload a folder or file to Drive\n",
    "    - Create Google Docs, Google Sheets, Google Slides, Google Forms, etc.\n",
    "    - When you click on the `More Actions` icon (three vertical dots on the right), you will see options to modify your folder. \n",
    "    - You can move, download, share, rename, or delete your files and folders.\n",
    "\n",
    "![](pict/four_drive.png)"
   ]
  },
  {
   "cell_type": "markdown",
   "id": "a8922386",
   "metadata": {},
   "source": [
    "## Installing Colab to your Google Drive\n",
    "\n",
    "- You can easily create Colab notebooks on your Google Drive by installing Colab onto your Google Drive (not onto your computer). \n",
    "- Follow these steps for installation:\n",
    "    1. Click on `+New` in the upper left corner of your Google Drive (located underneath the Drive icon).\n",
    "    2. Choose the `More` option at the end.\n",
    "    3. In the new menu, if you see the Google Colaboratory icon, it means you already have Colab installed on your drive.\n",
    "    4. If there is no Google Colaboratory icon, then click on `Connect More Apps.`\n",
    "    5. Search for Google Colaboratory.\n",
    "    6. Click on Google Colaboratory in the search results and install Colab on your drive.\n",
    " \n",
    "![](pict/four_colab_install.png)"
   ]
  },
  {
   "cell_type": "markdown",
   "id": "006ed201",
   "metadata": {
    "jp-MarkdownHeadingCollapsed": true
   },
   "source": [
    "## Create a new Colab notebook\n",
    "\n",
    "- Follow these steps:\n",
    "    \n",
    "    1. Click on `+New` in the upper left corner of your Google Drive (located underneath the Drive icon).\n",
    "    2. Choose the `More` option at the end.\n",
    "    3. In the new menu, click on `Google Colaboratory.\n",
    "***\n",
    "- Additionally, instead of using `+New,` you can right-click to access its contents."
   ]
  },
  {
   "attachments": {},
   "cell_type": "markdown",
   "id": "ef745920",
   "metadata": {},
   "source": [
    "## Rename a Colab File\n",
    "\n",
    "\n",
    "    \n",
    "- There are two ways to rename a Colab notebook:\n",
    "\n",
    "    - Use the `More Actions` icon (three vertical dots on the right).\n",
    "    - Open the Colab notebook (the default name is Untitled) and click on its name in the upper left corner, next to the Google Drive icon.\n",
    "\n",
    "\n",
    "![](pict/rename.png)"
   ]
  },
  {
   "cell_type": "markdown",
   "id": "e20de3a3",
   "metadata": {
    "jp-MarkdownHeadingCollapsed": true
   },
   "source": [
    "## Share a Colab File   \n",
    "- There are two ways to share a Colab notebook:\n",
    "    1. Use the `More Actions` icon (three vertical dots on the right).\n",
    "    2. Open the Colab notebook and click on `Share` in the upper right corner.\n",
    " ***\n",
    "- You have two options:\n",
    "\n",
    "    1. Enter the Gmail address of the person you want to share the notebook with.\n",
    "    2. Copy the link and share it, but change the last part from `Restricted` to `Anyone with the link.`\n",
    "***\n",
    "- You have options to assign the person:\n",
    "    - Editor: Can change everything in the document.\n",
    "    - Commenter: Can write comments.\n",
    "    - Viewer: Can download a copy of the file but cannot modify your original file\n",
    "\n",
    "![](pict/share_four.png)"
   ]
  },
  {
   "cell_type": "markdown",
   "id": "ef007490",
   "metadata": {},
   "source": [
    "## More Tools"
   ]
  },
  {
   "attachments": {},
   "cell_type": "markdown",
   "id": "5e588f21",
   "metadata": {},
   "source": [
    "### Theme\n",
    "- There are three theme options: \n",
    "    - light (white background)\n",
    "    - dark (black background)\n",
    "    - adaptive (color depends on time)\n",
    "***\n",
    "- Follow these steps on the toolbar to change the theme:  `Tools` --> `Settings` --> `Theme`\n"
   ]
  },
  {
   "cell_type": "markdown",
   "id": "92ca5341",
   "metadata": {},
   "source": [
    "### Power Level, and Kitty, Corgi, Crab\n",
    "\n",
    "- These are some fun tools to make the notebook more fancy:\n",
    "    - Go to `Tools` --> `Settings` --> `Miscellaneous`\n",
    "    - You can adjust the power level to add sparks when you write or execute code.\n",
    "    - You can add walking Kitty, Corgi, and Crab characters to your notebook.\n",
    "    - ![](pict/theme_kitty.png)"
   ]
  },
  {
   "cell_type": "markdown",
   "id": "90dfa9f8",
   "metadata": {},
   "source": [
    "## Cells in Colab\n",
    "\n",
    "- These are rectangular-shaped boxes that come in two types:\n",
    "    - Text Cell: Used for writing explanatory text.\n",
    "    - Code Cell: Used for writing and executing Python code.\n",
    "***\n",
    "- By default, a new notebook contains one code cell. \n",
    "- You can add, delete, and move cells up or down.\n",
    "- A Colab notebook is essentially a list of cells."
   ]
  },
  {
   "cell_type": "markdown",
   "id": "7f21a3fb",
   "metadata": {},
   "source": [
    "### Adding Cells\n",
    "\n",
    "- You can add a text or code cell by using the `+Code` and `+Text` buttons on the toolbar (upper left corner). \n",
    "    - You can utilize these buttons to add a cell below.\n",
    "      \n",
    "- When you move the cursor to the upper (lower) middle of a cell, you will also see `+Code` and `+Text` buttons. \n",
    "    - You can use them to add a cell above (below).\n",
    "\n",
    "![](pict/cell_three.png)\n",
    " \n"
   ]
  },
  {
   "cell_type": "markdown",
   "id": "69c38ae3",
   "metadata": {},
   "source": [
    "### Delete, Move and Comment \n",
    "\n",
    "       \n",
    "- When you click on a cell, a menu will appear in the upper right corner of the cell. Using this menu:\n",
    "    - You can delete the cell.\n",
    "    - You can move the cell up or down.\n",
    "    - You can add a comment to the cell.\n",
    " \n"
   ]
  },
  {
   "cell_type": "markdown",
   "id": "72f46cee",
   "metadata": {},
   "source": [
    "### Short cuts\n",
    "- `A`: Add a code cell above\n",
    "- `B`: Add a code cell below\n",
    "- `shift`+`Enter`: Execute a code cell\n",
    "    "
   ]
  },
  {
   "cell_type": "code",
   "execution_count": null,
   "id": "554d662e",
   "metadata": {},
   "outputs": [],
   "source": []
  }
 ],
 "metadata": {
  "hide_input": false,
  "kernelspec": {
   "display_name": "Python 3 (ipykernel)",
   "language": "python",
   "name": "python3"
  },
  "language_info": {
   "codemirror_mode": {
    "name": "ipython",
    "version": 3
   },
   "file_extension": ".py",
   "mimetype": "text/x-python",
   "name": "python",
   "nbconvert_exporter": "python",
   "pygments_lexer": "ipython3",
   "version": "3.11.7"
  },
  "toc": {
   "base_numbering": 1,
   "nav_menu": {},
   "number_sections": true,
   "sideBar": true,
   "skip_h1_title": false,
   "title_cell": "Table of Contents",
   "title_sidebar": "Contents",
   "toc_cell": false,
   "toc_position": {},
   "toc_section_display": true,
   "toc_window_display": false
  }
 },
 "nbformat": 4,
 "nbformat_minor": 5
}
