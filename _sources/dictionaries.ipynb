{
 "cells": [
  {
   "cell_type": "markdown",
   "id": "4e11d908-339d-4184-90db-c905482c0823",
   "metadata": {},
   "source": [
    "# Chp-11 Dictionaries\n",
    "-  Learning Objectives\n",
    "    - ..\n",
    "    - .."
   ]
  },
  {
   "cell_type": "markdown",
   "id": "5edcb668-f202-4ece-8343-dc3247efebd6",
   "metadata": {},
   "source": [
    "## Dictionaries\n",
    "\n",
    "These are a more general form of lists. The indexes of lists are integers starting from 0, whereas the indexes, called keys in dictionaries, can be chosen from different types.\n",
    "- Its elements are pairs of the form `key:value`.\n",
    "- Dictionaries are created by using curly brackets, like sets, by using `key:value` pairs and `:` in between.\n",
    "- Keys are like indexes, and values can be accessed by using square brackets in the form of `dict_name[key]`.\n",
    "- Keys must be immutable, like strings, numbers, and tuples.\n",
    "    - A list canot be a key of a dictionary.\n",
    "- Values can be any type, including strings, numbers, booleans, tuples, lists, and dictionaries.\n",
    "- Dictionary pairs are ordered.\n",
    "- If there are two pairs with the same key, then the later pair will overwrite the former one.\n",
    "- Dictionaries are mutable, so they can be modified.\n",
    "- Since dictionaries can be modified, they have a large number of methods.\n",
    "- The `len()` function returns the number of pairs.\n",
    "- The built-in `dict()` function can be used to create dictionaries from structures that have pairs.\n",
    "- `{}` is an empty dictionary.\n",
    "    - An empty set is `set()`."
   ]
  },
  {
   "cell_type": "markdown",
   "id": "a0f79923-f890-41c4-ab9b-e0078c832326",
   "metadata": {},
   "source": [
    "### Create Dictionaries\n"
   ]
  },
  {
   "cell_type": "code",
   "execution_count": 4,
   "id": "b453f009-5ebb-46e4-9b75-b21501d5ea81",
   "metadata": {},
   "outputs": [
    {
     "name": "stdout",
     "output_type": "stream",
     "text": [
      "Empty dictionary         : {}\n",
      "Type of emppty_dict      : <class 'dict'>\n"
     ]
    }
   ],
   "source": [
    "# empty dictionary\n",
    "empty_dict = {}\n",
    "\n",
    "print(f'Empty dictionary         : {empty_dict}')\n",
    "print(f'Type of emppty_dict      : {type(empty_dict)}')"
   ]
  },
  {
   "cell_type": "code",
   "execution_count": 6,
   "id": "fb43c9bc-49b8-4872-9fe9-9d8072fd3b7d",
   "metadata": {},
   "outputs": [
    {
     "name": "stdout",
     "output_type": "stream",
     "text": [
      "Empty dictionary         : {}\n",
      "Type of emppty_dict      : <class 'dict'>\n"
     ]
    }
   ],
   "source": [
    "# empty dictionary with dict()\n",
    "empty_dict = dict()\n",
    "\n",
    "print(f'Empty dictionary         : {empty_dict}')\n",
    "print(f'Type of emppty_dict      : {type(empty_dict)}')"
   ]
  },
  {
   "cell_type": "code",
   "execution_count": 8,
   "id": "a4f499f9-480a-4bce-9c65-346b84ad73a4",
   "metadata": {},
   "outputs": [
    {
     "name": "stdout",
     "output_type": "stream",
     "text": [
      "{'Math': 80, 'Chemistry': 70, 'History': 65}\n"
     ]
    }
   ],
   "source": [
    "# three pairs\n",
    "# keys: 'Math', 'Chemistry', 'History'\n",
    "# values: 80, 70, 65\n",
    "\n",
    "grades = {'Math':80, 'Chemistry':70, 'History':65}\n",
    "\n",
    "print(grades)"
   ]
  },
  {
   "cell_type": "code",
   "execution_count": 19,
   "id": "f2ac9a8d-5324-4b95-b8f8-491a9956cbc9",
   "metadata": {},
   "outputs": [
    {
     "name": "stdout",
     "output_type": "stream",
     "text": [
      "{'Math': 100, 'Chemistry': 70, 'History': 65}\n"
     ]
    }
   ],
   "source": [
    "# overwrite first mpair of math \n",
    "\n",
    "grades = {'Math':80, 'Chemistry':70, 'History':65, 'Math':100}\n",
    "\n",
    "print(grades)    # The value of 'Math' key is 100 "
   ]
  },
  {
   "cell_type": "code",
   "execution_count": 21,
   "id": "7afa2f21-6a1d-4f5c-aba6-90aad553c1de",
   "metadata": {},
   "outputs": [
    {
     "name": "stdout",
     "output_type": "stream",
     "text": [
      "{'Math': [80, 90], 'Chemistry': (70, 100), 'History': 65}\n"
     ]
    }
   ],
   "source": [
    "# values canbe lists, tuples\n",
    "\n",
    "grades = {'Math':[80, 90], 'Chemistry':(70, 100), 'History':65}\n",
    "\n",
    "print(grades)    # The value of 'Math' key is 100 "
   ]
  },
  {
   "cell_type": "markdown",
   "id": "3f1ce73d-5fbf-42d1-89c8-36808596274b",
   "metadata": {},
   "source": [
    "``` python\n",
    "# lists can not be a key\n",
    "\n",
    "grades = {['Math', 'Biology']:80, 'Chemistry':70, 'History':65}   # ERROR\n",
    "```\n"
   ]
  },
  {
   "cell_type": "markdown",
   "id": "a1dd56fd-1231-4b36-8e17-3e3eed99c97d",
   "metadata": {},
   "source": [
    "### dict()"
   ]
  },
  {
   "cell_type": "code",
   "execution_count": 16,
   "id": "0ee069b9-af2a-49ad-9ac1-bdd481df1836",
   "metadata": {},
   "outputs": [
    {
     "name": "stdout",
     "output_type": "stream",
     "text": [
      "{'Math': 80, 'Chemistry': 70, 'History': 65}\n"
     ]
    }
   ],
   "source": [
    "# assignments ----> dict\n",
    "grades = dict(Math=80, Chemistry=70, History=65)\n",
    "\n",
    "print(grades)"
   ]
  },
  {
   "cell_type": "code",
   "execution_count": 18,
   "id": "d61c80de-707f-450e-b59c-e33a7d82857f",
   "metadata": {},
   "outputs": [
    {
     "name": "stdout",
     "output_type": "stream",
     "text": [
      "{'Math': 80, 'Chemistry': 70, 'History': 6}\n"
     ]
    }
   ],
   "source": [
    "# tuples of pairs ----> dict\n",
    "\n",
    "grades_tuple = ( ('Math', 80), ('Chemistry', 70), ('History', 6)) \n",
    "grades = dict(grades_tuple)\n",
    "\n",
    "print(grades)"
   ]
  },
  {
   "cell_type": "markdown",
   "id": "7370c0d0-8eea-42be-8040-2d65a94beecc",
   "metadata": {},
   "source": [
    "### len()"
   ]
  },
  {
   "cell_type": "markdown",
   "id": "af7944e0-bcf7-4f8f-86bc-32fc3cd78bb8",
   "metadata": {},
   "source": [
    "The `len()` function returns the number of pairs in a dictionary."
   ]
  },
  {
   "cell_type": "code",
   "execution_count": 23,
   "id": "00cef231-ff12-47ae-b338-f15f3bf20972",
   "metadata": {},
   "outputs": [
    {
     "name": "stdout",
     "output_type": "stream",
     "text": [
      "The number of pairs: 3\n"
     ]
    }
   ],
   "source": [
    "grades = {'Math':80, 'Chemistry':70, 'History':65}\n",
    "\n",
    "print(f'The number of pairs: {len(grades)}')"
   ]
  },
  {
   "cell_type": "markdown",
   "id": "0335aee6-4c00-413c-b188-82754a2922a7",
   "metadata": {},
   "source": [
    "### in & not in\n",
    "- `in` tests whether a given term is a key of a dictionary.\n",
    "- `not in` tests whether a given term is not a key of a dictionary.\n",
    "- Both of them return boolean values, True or False."
   ]
  },
  {
   "cell_type": "code",
   "execution_count": 33,
   "id": "dec40477-2f72-476b-8ae9-6d6a9b676e17",
   "metadata": {},
   "outputs": [
    {
     "name": "stdout",
     "output_type": "stream",
     "text": [
      " Math is     a key of grades: True\n",
      " Math is not a key of grades: False\n"
     ]
    }
   ],
   "source": [
    "grades = {'Math':80, 'Chemistry':70, 'History':65}\n",
    "\n",
    "print(f' Math is     a key of grades: {\"Math\"  in grades}' )      # use \" instead of ' in f-strings \n",
    "print(f' Math is not a key of grades: {\"Math\"  not in grades}' )"
   ]
  },
  {
   "cell_type": "code",
   "execution_count": 32,
   "id": "e8cca627-1889-467d-bc7b-0704cb2f95ad",
   "metadata": {},
   "outputs": [
    {
     "name": "stdout",
     "output_type": "stream",
     "text": [
      " Biology is     a key of grades: False\n",
      " Biology is not a key of grades: True\n"
     ]
    }
   ],
   "source": [
    "grades = {'Math':80, 'Chemistry':70, 'History':65}\n",
    "\n",
    "print(f' Biology is     a key of grades: {\"Biology\"  in grades}' )      # use \" instead of ' in f-strings \n",
    "print(f' Biology is not a key of grades: {\"Biology\"  not in grades}' )"
   ]
  },
  {
   "cell_type": "markdown",
   "id": "bbc2ffd8-ca13-4d34-931a-12f9cd5c48c5",
   "metadata": {},
   "source": [
    "### Mutable\n",
    "Unlike strings and tuples, and like lists, dictionaries are mutable, which means they can be modified.\n",
    "- New pairs can be added, and existing pairs can be modified."
   ]
  },
  {
   "cell_type": "markdown",
   "id": "06a48f3d-b15d-4edf-89fd-fd9686683af9",
   "metadata": {},
   "source": [
    "#### Add a new pair\n",
    "- Use square brackets in the form of `dict_name[new_key] = new_value`."
   ]
  },
  {
   "cell_type": "code",
   "execution_count": 34,
   "id": "af7b669e-1e9d-4178-946b-696f1d178bc3",
   "metadata": {},
   "outputs": [
    {
     "name": "stdout",
     "output_type": "stream",
     "text": [
      "grades dictionary before adding a new pair: {'Math': 80, 'Chemistry': 70, 'History': 65}\n",
      "grades dictionary after  adding a new pair: {'Math': 80, 'Chemistry': 70, 'History': 65, 'English': 99}\n"
     ]
    }
   ],
   "source": [
    "grades = {'Math':80, 'Chemistry':70, 'History':65}\n",
    "print(f'grades dictionary before adding a new pair: {grades}')\n",
    "\n",
    "# add the pair 'Eglish':99\n",
    "grades['English'] = 99\n",
    "\n",
    "print(f'grades dictionary after  adding a new pair: {grades}')"
   ]
  },
  {
   "cell_type": "markdown",
   "id": "45c7a056-ae6a-4b77-a6d5-45f2d549f9eb",
   "metadata": {},
   "source": [
    "#### Change a Value\n",
    "- Use square brackets in the form of `dict_name[key] = new_value`."
   ]
  },
  {
   "cell_type": "code",
   "execution_count": 39,
   "id": "0864d264-717e-4955-ac27-37d96f9871c4",
   "metadata": {},
   "outputs": [
    {
     "name": "stdout",
     "output_type": "stream",
     "text": [
      "grades dictionary before changing a value: {'Math': 80, 'Chemistry': 70, 'History': 65}\n",
      "grades dictionary after adding a new pair: {'Math': 80, 'Chemistry': 85, 'History': 65}\n"
     ]
    }
   ],
   "source": [
    "grades = {'Math':80, 'Chemistry':70, 'History':65}\n",
    "print(f'grades dictionary before changing a value: {grades}')\n",
    "\n",
    "# change the value of 'Chemistry'\n",
    "grades['Chemistry'] = 85\n",
    "\n",
    "print(f'grades dictionary after adding a new pair: {grades}')"
   ]
  },
  {
   "cell_type": "markdown",
   "id": "2e5bc422-f987-48ab-8d99-d0558c06b0c4",
   "metadata": {},
   "source": [
    "#### Delete a pair\n",
    "- Use `del` in the form of `del dict_name[key]`."
   ]
  },
  {
   "cell_type": "code",
   "execution_count": 42,
   "id": "b2842e7a-942c-4d3d-af7a-83ba481b1301",
   "metadata": {},
   "outputs": [
    {
     "name": "stdout",
     "output_type": "stream",
     "text": [
      "grades dictionary before deleting a value: {'Math': 80, 'Chemistry': 70, 'History': 65}\n",
      "grades dictionary after  deleting a  pair: {'Math': 80, 'History': 65}\n"
     ]
    }
   ],
   "source": [
    "grades = {'Math':80, 'Chemistry':70, 'History':65}\n",
    "print(f'grades dictionary before deleting a value: {grades}')\n",
    "\n",
    "# delete 'Chemistry':70 pair\n",
    "del grades['Chemistry'] \n",
    "\n",
    "print(f'grades dictionary after  deleting a  pair: {grades}')"
   ]
  },
  {
   "cell_type": "markdown",
   "id": "e2f00381-65dc-46ac-b7f3-ba124c5d92fb",
   "metadata": {},
   "source": [
    "### Dictionary Methods\n",
    "Except for the magic methods (the ones with underscores), there are 11 methods for dictionaries.\n",
    "- You can run help(dict) for more details."
   ]
  },
  {
   "cell_type": "code",
   "execution_count": 43,
   "id": "4741cc43-85ee-4412-b3d9-7912f8bbe064",
   "metadata": {},
   "outputs": [
    {
     "name": "stdout",
     "output_type": "stream",
     "text": [
      "['__class__', '__class_getitem__', '__contains__', '__delattr__', '__delitem__', '__dir__', '__doc__', '__eq__', '__format__', '__ge__', '__getattribute__', '__getitem__', '__getstate__', '__gt__', '__hash__', '__init__', '__init_subclass__', '__ior__', '__iter__', '__le__', '__len__', '__lt__', '__ne__', '__new__', '__or__', '__reduce__', '__reduce_ex__', '__repr__', '__reversed__', '__ror__', '__setattr__', '__setitem__', '__sizeof__', '__str__', '__subclasshook__', 'clear', 'copy', 'fromkeys', 'get', 'items', 'keys', 'pop', 'popitem', 'setdefault', 'update', 'values']\n"
     ]
    }
   ],
   "source": [
    "# methods of dictionaries\n",
    "# dir() returns a list\n",
    "\n",
    "print(dir(dict))"
   ]
  },
  {
   "cell_type": "code",
   "execution_count": 46,
   "id": "f247446b-2d4f-48c3-824f-fdf2ccdb8cac",
   "metadata": {},
   "outputs": [
    {
     "name": "stdout",
     "output_type": "stream",
     "text": [
      "['clear', 'copy', 'fromkeys', 'get', 'items', 'keys', 'pop', 'popitem', 'setdefault', 'update', 'values']\n"
     ]
    }
   ],
   "source": [
    "# non magic methods by using slicing\n",
    "print(dir(dict)[-11:])"
   ]
  },
  {
   "cell_type": "markdown",
   "id": "edfe8875-d6fd-477b-9269-c799dbbc6888",
   "metadata": {},
   "source": [
    "#### clear()\n",
    "It removes all pairs from the dictionary, making it an empty dictionary."
   ]
  },
  {
   "cell_type": "code",
   "execution_count": 48,
   "id": "a174b6ba-8269-43e5-aeb1-266532f5d7f3",
   "metadata": {},
   "outputs": [
    {
     "name": "stdout",
     "output_type": "stream",
     "text": [
      "grades dictionary before using clear(): {'Math': 80, 'Chemistry': 70, 'History': 65}\n",
      "grades dictionary after  using clear() : {}\n"
     ]
    }
   ],
   "source": [
    "grades = {'Math':80, 'Chemistry':70, 'History':65}\n",
    "print(f'grades dictionary before using clear(): {grades}')\n",
    "\n",
    "# remove all elements of grades dictionary\n",
    "grades.clear()\n",
    "\n",
    "print(f'grades dictionary after  using clear() : {grades}')"
   ]
  },
  {
   "cell_type": "markdown",
   "id": "a0abe583-53b2-4f2c-a8aa-2e9eec14366d",
   "metadata": {},
   "source": [
    "#### copy()\n",
    "It returns a new dictionary with the same pairs."
   ]
  },
  {
   "cell_type": "code",
   "execution_count": 54,
   "id": "7ade6a67-3a4c-4be7-a8ca-dbabd0b10876",
   "metadata": {},
   "outputs": [
    {
     "name": "stdout",
     "output_type": "stream",
     "text": [
      "grades dictionary     : {'Math': 80, 'Chemistry': 70, 'History': 65}\n",
      "grades_copy dictionary: {'Math': 80, 'Chemistry': 70, 'History': 65}\n"
     ]
    }
   ],
   "source": [
    "grades = {'Math':80, 'Chemistry':70, 'History':65}\n",
    "print(f'grades dictionary     : {grades}')\n",
    "\n",
    "# remove all elements of grades dictionary\n",
    "grades_copy = grades.copy()\n",
    "\n",
    "print(f'grades_copy dictionary: {grades}')"
   ]
  },
  {
   "cell_type": "markdown",
   "id": "9a72e34c-e08b-45ed-89c2-fe50df5a33c6",
   "metadata": {},
   "source": [
    "#### get()\n",
    "It takes a key and a default value. \n",
    "- If the given key exists in the dictionary, *get()* returns the corresponding value; otherwise, it returns the default value.\n",
    "- Its purpose is to prevent errors for non-existing key-value pairs."
   ]
  },
  {
   "cell_type": "code",
   "execution_count": 68,
   "id": "d3a4f4ca-591d-4015-afc8-786b43128ce8",
   "metadata": {},
   "outputs": [
    {
     "name": "stdout",
     "output_type": "stream",
     "text": [
      "grades dictionary     : {'Math': 80, 'Chemistry': 70, 'History': 65}\n",
      "The value of Math key: 80\n"
     ]
    }
   ],
   "source": [
    "grades = {'Math':80, 'Chemistry':70, 'History':65}\n",
    "print(f'grades dictionary     : {grades}')\n",
    "\n",
    "# value corresponding to 'Math' key \n",
    "val =  grades.get('Math', 'Does Not Exist')    # Math key exist so get returns 80 not 'Does Not Exist'\n",
    "\n",
    "print(f'The value of Math key: {val}')"
   ]
  },
  {
   "cell_type": "code",
   "execution_count": 69,
   "id": "596517f5-4c0f-483e-a855-bf0eda9af5ca",
   "metadata": {},
   "outputs": [
    {
     "name": "stdout",
     "output_type": "stream",
     "text": [
      "grades dictionary       : {'Math': 80, 'Chemistry': 70, 'History': 65}\n",
      "The value of Biology key: Does Not Exist\n"
     ]
    }
   ],
   "source": [
    "grades = {'Math':80, 'Chemistry':70, 'History':65}\n",
    "print(f'grades dictionary       : {grades}')\n",
    "\n",
    "# value corresponding to 'Biology' key \n",
    "val =  grades.get('Biology', 'Does Not Exist')    # Biology key doe not exist so get returns the default value 'Does Not Exist'\n",
    "\n",
    "print(f'The value of Biology key: {val}')"
   ]
  },
  {
   "cell_type": "markdown",
   "id": "98b4a80d-b55a-4408-821c-6f3903767aec",
   "metadata": {},
   "source": [
    "#### items()\n",
    "- It returns the pairs of a dictionary as a tuple in a data structure called dict_items."
   ]
  },
  {
   "cell_type": "code",
   "execution_count": 73,
   "id": "90329015-240e-40b9-ab3f-441385cbd1a9",
   "metadata": {},
   "outputs": [
    {
     "name": "stdout",
     "output_type": "stream",
     "text": [
      "Items: dict_items([('Math', 80), ('Chemistry', 70), ('History', 65)])\n"
     ]
    }
   ],
   "source": [
    "grades = {'Math':80, 'Chemistry':70, 'History':65}\n",
    "\n",
    "print(f'Items: {grades.items()}')"
   ]
  },
  {
   "cell_type": "markdown",
   "id": "d39bb06d-46c4-49c1-9bf9-e91079a94ed7",
   "metadata": {},
   "source": [
    "#### keys()\n",
    "- It returns the keys of a dictionary in a data structure called dict_keys."
   ]
  },
  {
   "cell_type": "code",
   "execution_count": 88,
   "id": "30a9d469-0aa0-4474-882f-9533b10410f1",
   "metadata": {},
   "outputs": [
    {
     "name": "stdout",
     "output_type": "stream",
     "text": [
      "Keys: dict_keys(['Math', 'Chemistry', 'History'])\n"
     ]
    }
   ],
   "source": [
    "grades = {'Math':80, 'Chemistry':70, 'History':65}\n",
    "\n",
    "print(f'Keys: {grades.keys()}')"
   ]
  },
  {
   "cell_type": "markdown",
   "id": "0a8014fc-3b06-4bbf-80c6-c077c634f267",
   "metadata": {},
   "source": [
    "#### pop()\n",
    "- It removes a key-value pair for a given key and returns the value removed."
   ]
  },
  {
   "cell_type": "code",
   "execution_count": 79,
   "id": "cfe5e9af-94cd-45d4-8542-71287efdffc5",
   "metadata": {},
   "outputs": [
    {
     "name": "stdout",
     "output_type": "stream",
     "text": [
      "grades dictionary before using pop(): {'Math': 80, 'Chemistry': 70, 'History': 65}\n",
      "grades dictionary after  using pop(): {'Math': 80, 'History': 65}\n",
      "Removed value: 70\n"
     ]
    }
   ],
   "source": [
    "grades = {'Math':80, 'Chemistry':70, 'History':65}\n",
    "print(f'grades dictionary before using pop(): {grades}')\n",
    "\n",
    "# remove 'Chemistry':70 pair\n",
    "val_removed = grades.pop('Chemistry')\n",
    "\n",
    "print(f'grades dictionary after  using pop(): {grades}')\n",
    "print(f'Removed value: {val_removed}')"
   ]
  },
  {
   "cell_type": "markdown",
   "id": "108ce8d6-ba53-4ba5-a3fe-4fa5af58c19f",
   "metadata": {},
   "source": [
    "#### popitem()\n",
    "- It removes the last key-value pair and returns the key-value pair that is removed as a tuple."
   ]
  },
  {
   "cell_type": "code",
   "execution_count": 84,
   "id": "759038fa-f82e-429c-9a30-d188c891591e",
   "metadata": {},
   "outputs": [
    {
     "name": "stdout",
     "output_type": "stream",
     "text": [
      "grades dictionary before using pop(): {'Math': 80, 'Chemistry': 70, 'History': 65, 'English': 100}\n",
      "grades dictionary after  using pop(): {'Math': 80, 'Chemistry': 70, 'History': 65}\n",
      "Removed pair: ('English', 100)\n"
     ]
    }
   ],
   "source": [
    "grades = {'Math':80, 'Chemistry':70, 'History':65, 'English':100}\n",
    "print(f'grades dictionary before using pop(): {grades}')\n",
    "\n",
    "# remove \n",
    "tuple_removed = grades.popitem()\n",
    "\n",
    "print(f'grades dictionary after  using pop(): {grades}')\n",
    "print(f'Removed pair: {tuple_removed}')"
   ]
  },
  {
   "cell_type": "markdown",
   "id": "69560bc0-c05c-4b23-a045-fc94e4f85365",
   "metadata": {},
   "source": [
    "#### update()\n",
    "- It adds pairs of the second dictionary to the first one."
   ]
  },
  {
   "cell_type": "code",
   "execution_count": 86,
   "id": "76044bcb-4895-45f0-b5fc-0bf62c717b32",
   "metadata": {},
   "outputs": [
    {
     "name": "stdout",
     "output_type": "stream",
     "text": [
      "dict1 before update: {'A': 1, 'B': 2, 'C': 3}\n",
      "dict1 after  update: {'A': 1, 'B': 2, 'C': 3, 'D': 4, 'E': 5, 'F': 6}\n"
     ]
    }
   ],
   "source": [
    "dict1 = {'A':1, 'B':2, 'C':3}\n",
    "dict2 = {'D':4, 'E':5, 'F':6}\n",
    "print(f'dict1 before update: {dict1}')\n",
    "\n",
    "dict1.update(dict2)\n",
    "\n",
    "print(f'dict1 after  update: {dict1}')"
   ]
  },
  {
   "cell_type": "markdown",
   "id": "04d12b9e-3bf3-41e7-af4b-3966a90ac4b5",
   "metadata": {},
   "source": [
    "#### values()\n",
    "- It returns the values of a dictionary in a data structure called dict_values."
   ]
  },
  {
   "cell_type": "code",
   "execution_count": 87,
   "id": "ec470ae9-d06b-4f12-8238-9d51b1a7da32",
   "metadata": {},
   "outputs": [
    {
     "name": "stdout",
     "output_type": "stream",
     "text": [
      "Values: dict_values([80, 70, 65])\n"
     ]
    }
   ],
   "source": [
    "grades = {'Math':80, 'Chemistry':70, 'History':65}\n",
    "\n",
    "print(f'Values: {grades.values()}')"
   ]
  },
  {
   "cell_type": "markdown",
   "id": "0b405eb5-5aa5-4329-b0ca-419ce8e4451e",
   "metadata": {},
   "source": [
    "### Iterations and Dictionaries"
   ]
  },
  {
   "cell_type": "markdown",
   "id": "ed05cf66-5cd8-4d4a-8e30-239407cae4d9",
   "metadata": {},
   "source": [
    "You can use `keys`, `values`, or `(keys, values)` with *for* loops.\n",
    "- *keys()*, *values()*, and *items()* methods return the keys, values, and (keys, values) respectively.\n",
    "- Which one is better to use depends on what you need."
   ]
  },
  {
   "cell_type": "code",
   "execution_count": 89,
   "id": "27063ff1-3458-4dcb-a847-e8dcd1eeb8ec",
   "metadata": {},
   "outputs": [
    {
     "name": "stdout",
     "output_type": "stream",
     "text": [
      "Math\n",
      "Chemistry\n",
      "History\n"
     ]
    }
   ],
   "source": [
    "# use keys\n",
    "grades = {'Math':80, 'Chemistry':70, 'History':65}\n",
    "\n",
    "for key in grades.keys():          \n",
    "    print(key)"
   ]
  },
  {
   "cell_type": "code",
   "execution_count": 91,
   "id": "728605fa-330d-4e70-8002-9089fc7cb5da",
   "metadata": {},
   "outputs": [
    {
     "name": "stdout",
     "output_type": "stream",
     "text": [
      "80\n",
      "70\n",
      "65\n"
     ]
    }
   ],
   "source": [
    "# use values\n",
    "grades = {'Math':80, 'Chemistry':70, 'History':65}\n",
    "\n",
    "for value in grades.values():          \n",
    "    print(value)"
   ]
  },
  {
   "cell_type": "code",
   "execution_count": 92,
   "id": "f9eec751-058c-442a-ae98-2fe46c166350",
   "metadata": {},
   "outputs": [
    {
     "name": "stdout",
     "output_type": "stream",
     "text": [
      "Math 80\n",
      "Chemistry 70\n",
      "History 65\n"
     ]
    }
   ],
   "source": [
    "# use items for (key,value) pairs\n",
    "grades = {'Math':80, 'Chemistry':70, 'History':65}\n",
    "\n",
    "for key,value in grades.items():          \n",
    "    print(key,value)"
   ]
  },
  {
   "cell_type": "markdown",
   "id": "d1017c2f-8bdd-40dc-af07-267f1b3a0551",
   "metadata": {},
   "source": [
    "- You can also access the values by using the keys."
   ]
  },
  {
   "cell_type": "code",
   "execution_count": 94,
   "id": "74c4d9fb-6be0-42a9-aaf7-ab2c0296c54a",
   "metadata": {},
   "outputs": [
    {
     "name": "stdout",
     "output_type": "stream",
     "text": [
      "80\n",
      "70\n",
      "65\n"
     ]
    }
   ],
   "source": [
    "# use keys to access values\n",
    "grades = {'Math':80, 'Chemistry':70, 'History':65}\n",
    "\n",
    "for key in grades.keys():          \n",
    "    print(grades[key])"
   ]
  },
  {
   "cell_type": "markdown",
   "id": "8089164f-a427-4d9b-9f71-acf9b6d92a24",
   "metadata": {},
   "source": [
    "### Dictionary Comprehension\n",
    "It is a fast and concise way of creating dictionaries in a single line using *for* loops and *if* statements. \n",
    "- It is similar to list comprehensions.\n",
    "- It is in the form of: `{expression for item in list}`\n",
    "    - Here, the *expression* represents the *kek_value* pairs of the dictionary being constructed.\n",
    "- An *if* statement can also be included in a dictionary comprehension in the form of: `[expression for item in list if condition]`"
   ]
  },
  {
   "cell_type": "markdown",
   "id": "8c48c2b3-31aa-4c12-8986-f2b754b9f1c0",
   "metadata": {},
   "source": [
    "**Example**\n",
    "- The following code constructs a dictionary with `key:value` pairs where keys are the numbers between 1 and 5, and values are the cubes of the keys."
   ]
  },
  {
   "cell_type": "code",
   "execution_count": 114,
   "id": "2aaa34b1-164a-4e31-aa25-9e1636135976",
   "metadata": {},
   "outputs": [
    {
     "name": "stdout",
     "output_type": "stream",
     "text": [
      "{1: 1, 2: 8, 3: 27, 4: 64, 5: 125}\n"
     ]
    }
   ],
   "source": [
    "cube_dict = {i:i**3 for i in range(1,6)}   # i is a key, i**3 is a value in the expression\n",
    "\n",
    "print(cube_dict)"
   ]
  },
  {
   "cell_type": "markdown",
   "id": "82089175-cda5-440b-a79e-bb4b4d696ed5",
   "metadata": {},
   "source": [
    "### Examples"
   ]
  },
  {
   "cell_type": "markdown",
   "id": "dc19357c-b3a2-48c7-85c7-b091f48692fc",
   "metadata": {},
   "source": [
    "#### Word Lengths"
   ]
  },
  {
   "cell_type": "markdown",
   "id": "b7c93ec2-6e86-44c0-b86b-9999a01ec769",
   "metadata": {},
   "source": [
    "Write a program that constructs a dictionary such that:\n",
    "- keys are words in the text below.\n",
    "- values are the lengths of the words.\n",
    "- Example: ('Python', 6) is a pair"
   ]
  },
  {
   "cell_type": "code",
   "execution_count": 98,
   "id": "31dc93c0-c5eb-4c4c-91dd-89eebc53caa7",
   "metadata": {},
   "outputs": [],
   "source": [
    "text = \"\"\"  Python is an interpreted, high-level and general-purpose programming language.\n",
    "Python's design philosophy emphasizes code readability with its notable use of significant indentation.\n",
    "Its language constructs and object-oriented approach aim to help programmers write clear, logical code for small and large-scale projects\"\"\""
   ]
  },
  {
   "cell_type": "markdown",
   "id": "ddd1e837-7bc2-455e-a6b0-eb3019d750a9",
   "metadata": {},
   "source": [
    "**Solution:**"
   ]
  },
  {
   "cell_type": "code",
   "execution_count": 99,
   "id": "85cca221-4d61-4d3d-9e02-bf9f241dd74b",
   "metadata": {},
   "outputs": [
    {
     "name": "stdout",
     "output_type": "stream",
     "text": [
      "{'Python': 6, 'is': 2, 'an': 2, 'interpreted,': 12, 'high-level': 10, 'and': 3, 'general-purpose': 15, 'programming': 11, 'language.': 9, \"Python's\": 8, 'design': 6, 'philosophy': 10, 'emphasizes': 10, 'code': 4, 'readability': 11, 'with': 4, 'its': 3, 'notable': 7, 'use': 3, 'of': 2, 'significant': 11, 'indentation.': 12, 'Its': 3, 'language': 8, 'constructs': 10, 'object-oriented': 15, 'approach': 8, 'aim': 3, 'to': 2, 'help': 4, 'programmers': 11, 'write': 5, 'clear,': 6, 'logical': 7, 'for': 3, 'small': 5, 'large-scale': 11, 'projects': 8}\n"
     ]
    }
   ],
   "source": [
    "words = text.split()           # words in text\n",
    "\n",
    "word_dict = {}                 # empty dictionary\n",
    "\n",
    "for i in words:                # i is a word\n",
    "  word_dict[i] = len(i)        # add a pair: key is i, value is len(i)\n",
    "\n",
    "print(word_dict)"
   ]
  },
  {
   "cell_type": "markdown",
   "id": "206ec97f-2a84-401e-87c7-300486721d65",
   "metadata": {},
   "source": [
    "#### Count Characters"
   ]
  },
  {
   "cell_type": "markdown",
   "id": "c511f7da-9270-4a38-971f-95062444cf64",
   "metadata": {},
   "source": [
    "Write a program which constructs a dictionary such that:\n",
    "- keys are the characters in the *text* below.\n",
    "- values are the number of the occurences of each character in the *text*."
   ]
  },
  {
   "cell_type": "code",
   "execution_count": 98,
   "id": "d1998505-8f5a-4302-8876-d53f0eaa1d0d",
   "metadata": {},
   "outputs": [],
   "source": [
    "text = \"\"\"  Python is an interpreted, high-level and general-purpose programming language.\n",
    "Python's design philosophy emphasizes code readability with its notable use of significant indentation.\n",
    "Its language constructs and object-oriented approach aim to help programmers write clear, logical code for small and large-scale projects\"\"\""
   ]
  },
  {
   "cell_type": "markdown",
   "id": "b68e0033-da8f-42ad-931a-ef50f32f4653",
   "metadata": {},
   "source": [
    "**Solution-1:**\n",
    "- By using *count()* method of strings."
   ]
  },
  {
   "cell_type": "code",
   "execution_count": 102,
   "id": "2b858558-b2a1-49b4-b0ce-23e879563515",
   "metadata": {},
   "outputs": [
    {
     "name": "stdout",
     "output_type": "stream",
     "text": [
      "{' ': 40, 'P': 2, 'y': 4, 't': 19, 'h': 10, 'o': 20, 'n': 20, 'i': 20, 's': 17, 'a': 25, 'e': 29, 'r': 18, 'p': 12, 'd': 10, ',': 2, 'g': 13, '-': 4, 'l': 16, 'v': 1, 'u': 5, 'm': 7, '.': 2, '\\n': 2, \"'\": 1, 'z': 1, 'c': 11, 'b': 3, 'w': 2, 'f': 3, 'I': 1, 'j': 2}\n"
     ]
    }
   ],
   "source": [
    "count_dict = {}                           # empty dictionary\n",
    "\n",
    "for char in text:                         # char is a character\n",
    "  count_dict[char] = text.count(char)     # add a pair: key is i, value is the occurence of char\n",
    "\n",
    "print(count_dict)"
   ]
  },
  {
   "cell_type": "markdown",
   "id": "fb3d47fa-0f09-4ad3-b6b8-75247fbb8ffe",
   "metadata": {},
   "source": [
    "**Solution-2:**\n",
    "- Without using *count()* method of strings.\n",
    "- char will represent each character in *text*.\n",
    "- Example: Let's consider the case where char is the first 'a' in the text.\n",
    "    - 'a' is not a key yet, so the pair ('a', 1) will be created.\n",
    "    - When char is the second 'a',\n",
    "        - Since 'a' is already a key, only its value will be increased by one.\n",
    "        - The pair ('a', 1) becomes ('a', 2)."
   ]
  },
  {
   "cell_type": "code",
   "execution_count": 111,
   "id": "419ccb9d-1574-450a-ba6e-f7a194a78cfe",
   "metadata": {},
   "outputs": [
    {
     "name": "stdout",
     "output_type": "stream",
     "text": [
      "{' ': 40, 'P': 2, 'y': 4, 't': 19, 'h': 10, 'o': 20, 'n': 20, 'i': 20, 's': 17, 'a': 25, 'e': 29, 'r': 18, 'p': 12, 'd': 10, ',': 2, 'g': 13, '-': 4, 'l': 16, 'v': 1, 'u': 5, 'm': 7, '.': 2, '\\n': 2, \"'\": 1, 'z': 1, 'c': 11, 'b': 3, 'w': 2, 'f': 3, 'I': 1, 'j': 2}\n"
     ]
    }
   ],
   "source": [
    "count_dict = {}                           # empty dictionary\n",
    "\n",
    "for char in text:\n",
    "  if char not in count_dict.keys():       # for the first occurence of char the value is 1\n",
    "    count_dict[char] = 1                  # pair is created: (char,1)\n",
    "  else:\n",
    "    count_dict[char] +=1                  # char is already a key means it is repeated, increase its value by 1\n",
    "\n",
    "print(count_dict)"
   ]
  },
  {
   "cell_type": "code",
   "execution_count": null,
   "id": "74f49504-0847-41c2-8bee-546c46c29240",
   "metadata": {},
   "outputs": [],
   "source": []
  },
  {
   "cell_type": "code",
   "execution_count": null,
   "id": "6d8abd54-a3cc-48ba-8830-b5e4e7c7c563",
   "metadata": {},
   "outputs": [],
   "source": []
  }
 ],
 "metadata": {
  "kernelspec": {
   "display_name": "Python 3 (ipykernel)",
   "language": "python",
   "name": "python3"
  },
  "language_info": {
   "codemirror_mode": {
    "name": "ipython",
    "version": 3
   },
   "file_extension": ".py",
   "mimetype": "text/x-python",
   "name": "python",
   "nbconvert_exporter": "python",
   "pygments_lexer": "ipython3",
   "version": "3.11.7"
  }
 },
 "nbformat": 4,
 "nbformat_minor": 5
}
