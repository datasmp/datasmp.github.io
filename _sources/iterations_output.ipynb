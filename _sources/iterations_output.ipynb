{
 "cells": [
  {
   "cell_type": "markdown",
   "id": "13e18a7d",
   "metadata": {},
   "source": [
    "# Iterations Output\n",
    "![](title_pict/iterations_output2.png)\n",
    "- Find the output of the following code. \n",
    "- Please don't run the code before giving your answer. &emsp;&emsp;&emsp;&emsp;"
   ]
  },
  {
   "cell_type": "markdown",
   "id": "03fc8d4d",
   "metadata": {},
   "source": [
    "## Question-1\n"
   ]
  },
  {
   "cell_type": "markdown",
   "id": "f220b85f-8e60-43ba-9556-52c9c96ab0af",
   "metadata": {
    "tags": [
     "hide-output"
    ]
   },
   "source": [
    "``` python\n",
    "for i in range(13,29,5):\n",
    "  print(i)"
   ]
  },
  {
   "cell_type": "markdown",
   "id": "ba8ea483-3b99-49b7-821c-cacb03c58237",
   "metadata": {},
   "source": [
    "```{admonition} Solution\n",
    ":class: toggle\n",
    "13  \n",
    "18  \n",
    "23  \n",
    "28  \n",
    "```"
   ]
  },
  {
   "cell_type": "markdown",
   "id": "c1aef79d",
   "metadata": {},
   "source": [
    "## Question-2\n"
   ]
  },
  {
   "cell_type": "markdown",
   "id": "446e8bd1-96ca-4a64-bd9d-c031d60236e0",
   "metadata": {
    "tags": [
     "hide-output"
    ]
   },
   "source": [
    "``` python\n",
    "for i in range(13,1,-3):\n",
    "  print(i)"
   ]
  },
  {
   "cell_type": "markdown",
   "id": "d5336719-430c-433f-be7c-ac295131f609",
   "metadata": {},
   "source": [
    "```{admonition} Solution\n",
    ":class: toggle\n",
    "13  \n",
    "10  \n",
    "7  \n",
    "4  \n",
    "\n",
    "```"
   ]
  },
  {
   "cell_type": "markdown",
   "id": "d0e75b17",
   "metadata": {},
   "source": [
    "## Question-3\n"
   ]
  },
  {
   "cell_type": "markdown",
   "id": "fa83314d-e851-4ba7-9b72-70126d58bdb0",
   "metadata": {
    "tags": [
     "hide-output"
    ]
   },
   "source": [
    "``` python\n",
    "n = 5\n",
    "\n",
    "while n >= -3:\n",
    "  print(n)\n",
    "  n -= 2"
   ]
  },
  {
   "cell_type": "markdown",
   "id": "8a4d1c10-836a-40f7-8e7e-ca91fb0090c5",
   "metadata": {},
   "source": [
    "```{admonition} Solution\n",
    ":class: toggle\n",
    "5  \n",
    "3  \n",
    "1  \n",
    "-1  \n",
    "-3  \n",
    "```"
   ]
  },
  {
   "cell_type": "markdown",
   "id": "1bc72fed",
   "metadata": {},
   "source": [
    "## Question-4\n"
   ]
  },
  {
   "cell_type": "markdown",
   "id": "499e2c73-bfda-4a9f-9160-c97544ec2662",
   "metadata": {
    "tags": [
     "hide-output"
    ]
   },
   "source": [
    "``` python\n",
    "for i in 'TEXAS':\n",
    "  print(i, end='-')"
   ]
  },
  {
   "cell_type": "markdown",
   "id": "337549be-d5b7-444c-9174-ef7ce0bf72e0",
   "metadata": {},
   "source": [
    "```{admonition} Solution\n",
    ":class: toggle\n",
    "T-E-X-A-S-\n",
    "```"
   ]
  },
  {
   "cell_type": "markdown",
   "id": "f69a9cd1-3b07-4d29-af2e-e6b2fc5a32d1",
   "metadata": {},
   "source": [
    "## Question-5\n"
   ]
  },
  {
   "cell_type": "markdown",
   "id": "0a61107f-66bb-42f7-a34a-ed289f823415",
   "metadata": {
    "tags": [
     "hide-output"
    ]
   },
   "source": [
    "``` python\n",
    "country = 'Germany'\n",
    "\n",
    "for i in range(2,len(country)):\n",
    "  print(country[:i])"
   ]
  },
  {
   "cell_type": "markdown",
   "id": "77e73834-d782-4894-af1f-4fad97d09ceb",
   "metadata": {},
   "source": [
    "```{admonition} Solution\n",
    ":class: toggle\n",
    "Ge  \n",
    "Ger  \n",
    "Germ  \n",
    "Germa  \n",
    "German  \n",
    "```"
   ]
  },
  {
   "cell_type": "markdown",
   "id": "cace03a5-f754-4ada-b999-54235cc7ffd0",
   "metadata": {},
   "source": [
    "## Question-6\n"
   ]
  },
  {
   "cell_type": "markdown",
   "id": "45eb6383-1ca0-4dca-b3e1-da73960c0547",
   "metadata": {
    "tags": [
     "hide-output"
    ]
   },
   "source": [
    "``` python\n",
    "text = 'abcdefghijklmnopqrstuwxyz'\n",
    "\n",
    "for i in range(2,9,3):\n",
    "  print(text[i])"
   ]
  },
  {
   "cell_type": "markdown",
   "id": "82154d64-f4b1-4f6d-8b11-b9eee5230da0",
   "metadata": {},
   "source": [
    "```{admonition} Solution\n",
    ":class: toggle\n",
    "c  \n",
    "f  \n",
    "i  \n",
    "```"
   ]
  },
  {
   "cell_type": "markdown",
   "id": "a4704f5e-7da3-4151-8b92-00454e30ba3f",
   "metadata": {},
   "source": [
    "## Question-7\n"
   ]
  },
  {
   "cell_type": "markdown",
   "id": "6ed6d013-475e-4724-ac27-9f001b4028cb",
   "metadata": {
    "tags": [
     "hide-output"
    ]
   },
   "source": [
    "``` python\n",
    "text = 'abcdefghijklmnopqrstuwxyz'\n",
    "\n",
    "for i in text:\n",
    "    if i >= 'w':\n",
    "      print(i)"
   ]
  },
  {
   "cell_type": "markdown",
   "id": "d69fd822-f4d2-4b5d-9731-f14cdc2a5ba9",
   "metadata": {},
   "source": [
    "```{admonition} Solution\n",
    ":class: toggle\n",
    "w  \n",
    "x  \n",
    "y  \n",
    "z  \n",
    "```"
   ]
  },
  {
   "cell_type": "markdown",
   "id": "682031c3-cfc4-48a9-9f8a-9f5bce5f8890",
   "metadata": {},
   "source": [
    "## Question-8\n"
   ]
  },
  {
   "cell_type": "markdown",
   "id": "38173bf6-e219-4f0f-8717-3b10449fd667",
   "metadata": {
    "tags": [
     "hide-output"
    ]
   },
   "source": [
    "``` python\n",
    "while True:\n",
    "  print(1)\n",
    "  if 5:\n",
    "    break"
   ]
  },
  {
   "cell_type": "markdown",
   "id": "d4cd6d74-9556-4c9f-b95e-ba6eebb81f92",
   "metadata": {},
   "source": [
    "```{admonition} Solution\n",
    ":class: toggle\n",
    "1\n",
    "```"
   ]
  },
  {
   "cell_type": "markdown",
   "id": "08e1e1ce",
   "metadata": {},
   "source": [
    "## Question-9\n"
   ]
  },
  {
   "cell_type": "markdown",
   "id": "da3666c0-3b68-4d60-be03-9bbd10d55d83",
   "metadata": {
    "tags": [
     "hide-output"
    ]
   },
   "source": [
    "``` python\n",
    "x = 16\n",
    "\n",
    "while x >= 1:\n",
    "  print(x)\n",
    "  x /= 2\n",
    "print('DONE!')"
   ]
  },
  {
   "cell_type": "markdown",
   "id": "04108ffb-e4fa-4254-95b8-7fee9883a341",
   "metadata": {},
   "source": [
    "```{admonition} Solution\n",
    ":class: toggle\n",
    "16  \n",
    "8.0  \n",
    "4.0  \n",
    "2.0   \n",
    "1.0  \n",
    "DONE!  \n",
    "```"
   ]
  },
  {
   "cell_type": "markdown",
   "id": "6c41682c",
   "metadata": {},
   "source": [
    "## Question-10\n"
   ]
  },
  {
   "cell_type": "markdown",
   "id": "e6fe31fb-334f-4d0a-b3ca-986075599058",
   "metadata": {
    "tags": [
     "hide-output"
    ]
   },
   "source": [
    "``` python\n",
    "total = 0\n",
    "\n",
    "for i in range(2, 45, 10):\n",
    "  total += i\n",
    "    \n",
    "print(total)"
   ]
  },
  {
   "cell_type": "markdown",
   "id": "47eec87a-d398-499b-8fa4-04ef9e5b0bef",
   "metadata": {},
   "source": [
    "```{admonition} Solution\n",
    ":class: toggle\n",
    "110\n",
    "```"
   ]
  },
  {
   "cell_type": "markdown",
   "id": "68dab687",
   "metadata": {},
   "source": [
    "## Question-11\n"
   ]
  },
  {
   "cell_type": "markdown",
   "id": "82ba9907-3b03-4a73-a703-9790f08fcbd5",
   "metadata": {
    "tags": [
     "hide-output"
    ]
   },
   "source": [
    "``` python\n",
    "for i in range(5):\n",
    "  for j in range(6,10):\n",
    "    print(j, end='')\n",
    "  print()"
   ]
  },
  {
   "cell_type": "markdown",
   "id": "37caa16e-c067-4e53-b6c1-4de9d2d10457",
   "metadata": {},
   "source": [
    "```{admonition} Solution\n",
    ":class: toggle\n",
    "6789  \n",
    "6789  \n",
    "6789  \n",
    "6789  \n",
    "6789  \n",
    "```"
   ]
  },
  {
   "cell_type": "markdown",
   "id": "dfe80787-15c7-4303-ac1b-4f4bebba01d1",
   "metadata": {},
   "source": [
    "## Question-12\n"
   ]
  },
  {
   "cell_type": "markdown",
   "id": "ae52a3a1-0ed9-4b83-9686-d9c973f09c91",
   "metadata": {
    "tags": [
     "hide-output"
    ]
   },
   "source": [
    "``` python\n",
    "for i in range(5):\n",
    "  for j in range(i,3):\n",
    "    print(j, end='')\n",
    "  print()"
   ]
  },
  {
   "cell_type": "markdown",
   "id": "4d1bc9b0-391c-458d-bf53-c11315870ce1",
   "metadata": {},
   "source": [
    "```{admonition} Solution\n",
    ":class: toggle\n",
    "012  \n",
    "12  \n",
    "2  \n",
    "```"
   ]
  },
  {
   "cell_type": "markdown",
   "id": "a23ddf68",
   "metadata": {},
   "source": [
    "## Question-13\n"
   ]
  },
  {
   "cell_type": "markdown",
   "id": "0fe5d65b-4b65-4032-b21a-466553153612",
   "metadata": {
    "tags": [
     "hide-output"
    ]
   },
   "source": [
    "``` python\n",
    "for i in range(5,10):\n",
    "  for j in range(4,i):\n",
    "    print(j, end='')\n",
    "  print()"
   ]
  },
  {
   "cell_type": "markdown",
   "id": "e2dfcce2-837f-4ff2-bc27-7f5f150030e1",
   "metadata": {},
   "source": [
    "```{admonition} Solution\n",
    ":class: toggle\n",
    "4  \n",
    "45  \n",
    "456  \n",
    "4567  \n",
    "45678  \n",
    "```"
   ]
  },
  {
   "cell_type": "code",
   "execution_count": null,
   "id": "2755af46-bd1d-4937-922e-d9b8e054bd13",
   "metadata": {},
   "outputs": [],
   "source": []
  }
 ],
 "metadata": {
  "celltoolbar": "Tags",
  "hide_input": false,
  "kernelspec": {
   "display_name": "Python 3 (ipykernel)",
   "language": "python",
   "name": "python3"
  },
  "language_info": {
   "codemirror_mode": {
    "name": "ipython",
    "version": 3
   },
   "file_extension": ".py",
   "mimetype": "text/x-python",
   "name": "python",
   "nbconvert_exporter": "python",
   "pygments_lexer": "ipython3",
   "version": "3.11.7"
  },
  "toc": {
   "base_numbering": 1,
   "nav_menu": {},
   "number_sections": true,
   "sideBar": true,
   "skip_h1_title": false,
   "title_cell": "Table of Contents",
   "title_sidebar": "Contents",
   "toc_cell": false,
   "toc_position": {},
   "toc_section_display": true,
   "toc_window_display": false
  }
 },
 "nbformat": 4,
 "nbformat_minor": 5
}
