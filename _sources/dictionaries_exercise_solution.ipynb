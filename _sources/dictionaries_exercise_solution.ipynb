{
 "cells": [
  {
   "cell_type": "markdown",
   "id": "e52c30a5-5b1a-4893-aefc-dac6ef639d5f",
   "metadata": {},
   "source": [
    "# Dictionaries Exercises and Solutions"
   ]
  },
  {
   "cell_type": "markdown",
   "id": "63a95ac8-5f04-44d2-b37d-ad23f924276b",
   "metadata": {},
   "source": [
    "## Question-1\n",
    "\n",
    "Create a dictionary with the pairs: ('Banana', 100), ('Cherry',20), ('Apple',200), ('Pear',75 )\n",
    "which corresponds to fruit inventory of a market in the form of name and number of boxes of the fruits.\n",
    "Perform the following operations on it, printing it after each operation:   \n",
    "\n",
    "- Add a new pair ('Strawberry', 130).\n",
    "- Add all pairs in the following dictionary: ('Peach',90),('Pineapple',40) .\n",
    "- Remove the pair of Pear.\n",
    "- Verify if 'Peach' is a key in the dictionary.\n",
    "- Verify if 'Orange' is not a key in the dictionary.\n",
    "- Verify if 75 is a value in the dictionary.\n",
    "- Print the number of pairs in the dictionary.\n",
    "- Print the sum of values in the dictionary.\n",
    "- Print the maximum value in the dictionary.\n",
    "- Print the minimum value in the dictionary."
   ]
  },
  {
   "cell_type": "markdown",
   "id": "86675e62-18eb-4a2b-a4fa-3d262dacad20",
   "metadata": {},
   "source": [
    "**Solution**\n",
    "``` python\n",
    "  \n",
    "mydict = dict((('Banana', 100), ('Cherry',20), ('Apple',200), ('Pear',75 )))\n",
    "print(mydict)\n",
    "mydict['Strawberry'] = 130\n",
    "print(mydict)\n",
    "mydict.update((('Peach',90),('Pineapple',40)))\n",
    "print(mydict)\n",
    "mydict.pop('Peach')\n",
    "print(f'Peach is a key: {\"Peach\" in mydict}')\n",
    "print(f'Orange is NOT a key: {\"Orange\" not in mydict}')\n",
    "print(f'75 is a value: {75 in mydict.values()}')\n",
    "print(f'The number of pairs: {len(mydict)}')\n",
    "print(f'The sum of values: {sum(mydict.values())}')\n",
    "print(f'The max of values: {max(mydict.values())}')\n",
    "print(f'The min of values: {min(mydict.values())}')"
   ]
  },
  {
   "cell_type": "markdown",
   "id": "5cacd4cb-f05b-44a0-9979-c685d0b59b85",
   "metadata": {},
   "source": [
    "## Question-2\n",
    "Create a list containing the keys from the provided dictionary, where the corresponding values are even numbers."
   ]
  },
  {
   "cell_type": "code",
   "execution_count": 22,
   "id": "5a293802-53c5-4af3-8d86-208bed01850b",
   "metadata": {},
   "outputs": [],
   "source": [
    "state_num = {'NY':135, 'TX':236, 'FL':207, 'CA':140, 'NJ':98, 'MO':175, 'AZ':124}"
   ]
  },
  {
   "cell_type": "markdown",
   "id": "779486f3-968a-4012-8360-b61153756761",
   "metadata": {},
   "source": [
    "**Solution**\n",
    "``` python\n",
    "  \n",
    "key_list = []\n",
    "for key, value in state_num.items():\n",
    "    if value%2 == 0:\n",
    "        key_list.append(key)\n",
    "print(key_list)"
   ]
  },
  {
   "cell_type": "markdown",
   "id": "a6e003de-847a-419a-97b1-4b73c10c8deb",
   "metadata": {},
   "source": [
    "## Question-3\n",
    "Create a new dictionary with the same keys as the \"grades\" dictionary, but with the values being the average of the test scores for each student."
   ]
  },
  {
   "cell_type": "code",
   "execution_count": 28,
   "id": "83759591-ba7a-45c9-983a-1a196c435fb7",
   "metadata": {},
   "outputs": [],
   "source": [
    "grades = {'Jack':[100,90,95], 'Ashley':[85,90,95], 'Frank':[100,100,70]}"
   ]
  },
  {
   "cell_type": "markdown",
   "id": "48897285-4311-404b-a8ce-a25aae2a523d",
   "metadata": {},
   "source": [
    "**Solution**\n",
    "``` python\n",
    "  \n",
    "import numpy as np\n",
    "\n",
    "average_dict = {}\n",
    "\n",
    "for name, scores in grades.items():\n",
    "    average_dict[name] = np.mean(scores)\n",
    "    \n",
    "print(average_dict)"
   ]
  },
  {
   "cell_type": "markdown",
   "id": "d2e3995f-d381-4178-bc50-bd9c2e152c8c",
   "metadata": {},
   "source": [
    "## Question-4\n",
    "Generate a list using list comprehension containing the ID numbers from the per_info dictionary.\n",
    "- Compare the length of the generated list with the number of pairs in the per_info dictionary to verify if all ID numbers are unique."
   ]
  },
  {
   "cell_type": "code",
   "execution_count": 32,
   "id": "08ef2986-78fa-4ab2-badb-767e97019193",
   "metadata": {},
   "outputs": [],
   "source": [
    "per_info = {'Tom': {'ID':156, 'Age':24, 'Gender':'M', 'State':'NJ'},\n",
    "            'Liz': {'ID':179, 'Age':27, 'Gender':'F', 'State':'AZ'},\n",
    "            'Joe': {'ID':102, 'Age':21, 'Gender':'M', 'State':'TX'},\n",
    "            'Bob': {'ID':101, 'Age':29, 'Gender':'M', 'State':'FL'},\n",
    "            'Eli': {'ID':198, 'Age':26, 'Gender':'F', 'State':'CA'},\n",
    "            'Ian': {'ID':129, 'Age':27, 'Gender':'M', 'State':'NY'},\n",
    "            'Amy': {'ID':145, 'Age':24, 'Gender':'F', 'State':'NY'},\n",
    "           }"
   ]
  },
  {
   "cell_type": "markdown",
   "id": "aa1632cb-48be-43bf-b810-d3383b36bdf6",
   "metadata": {},
   "source": [
    "**Solution**\n",
    "``` python\n",
    "  \n",
    "id_list = [info['ID']   for info in per_info.values()]\n",
    "print(id_list)\n",
    "\n",
    "if len(per_info) == len(id_list):\n",
    "    print('All ID numbers are unique.')\n",
    "else:\n",
    "    print('Warning: There are duplicate ID numbers.')"
   ]
  },
  {
   "cell_type": "markdown",
   "id": "57e076ea-3b7c-44db-b63e-2bfa6bc8764e",
   "metadata": {},
   "source": [
    "## Question-5\n",
    "If the current year is 2020, calculate the birth year of each person from the per_info dictionary and add the key-value pair 'Birth year': birth_year to the dictionary for each person."
   ]
  },
  {
   "cell_type": "markdown",
   "id": "d83b6cbe-df5b-49f2-8871-c1da55895237",
   "metadata": {},
   "source": [
    "**Solution**\n",
    "``` python\n",
    "  \n",
    "for name, info in per_info.items():\n",
    "    per_info[name]['Bith year'] = 2020-per_info[name]['Age']\n",
    "\n",
    "print(per_info)"
   ]
  },
  {
   "cell_type": "markdown",
   "id": "fab05ada-9ef4-46d0-88f0-905bfc1ec530",
   "metadata": {},
   "source": [
    "## Question-6\n",
    "Generate a dictionary containing two key-value pairs representing the gender type and the number of persons belonging to that type.\n",
    "Plot a bar chart to visually represent the keys and their corresponding values."
   ]
  },
  {
   "cell_type": "markdown",
   "id": "9b091646-a049-4315-ae20-a0a2902746dd",
   "metadata": {},
   "source": [
    "**Solution-1**\n",
    "``` python\n",
    "  \n",
    "gender_dict = {'M':0, 'F':0}\n",
    "\n",
    "for info in per_info.values():\n",
    "    if info['Gender'] == 'M':\n",
    "        gender_dict['M'] += 1\n",
    "    else:\n",
    "        gender_dict['F'] += 1\n",
    "\n",
    "print(gender_dict)\n",
    "\n",
    "import matplotlib.pyplot as plt\n",
    "plt.bar(gender_dict.keys(), gender_dict.values(), color=['b', 'pink']);"
   ]
  },
  {
   "cell_type": "markdown",
   "id": "7d26ac65-c5c9-4de7-9989-010e8f1a7750",
   "metadata": {},
   "source": [
    "**Solution-2**\n",
    "``` python\n",
    " \n",
    "gender_dict1 = {}\n",
    "\n",
    "for info in per_info.values():\n",
    "    \n",
    "    if info['Gender'] == 'M':\n",
    "        gender_dict1['M'] = gender_dict1.get('M',0) + 1\n",
    "    else:\n",
    "        gender_dict1['F'] = gender_dict1.get('F',0) + 1\n",
    "\n",
    "print(gender_dict1)"
   ]
  },
  {
   "cell_type": "markdown",
   "id": "131c8ec8-65ba-4c9c-b95d-badc02e1f178",
   "metadata": {},
   "source": [
    "## Business Applications"
   ]
  },
  {
   "cell_type": "markdown",
   "id": "94bdf1f7-a2e3-4f90-acdd-5a752b2eac4f",
   "metadata": {},
   "source": [
    "### Portfolio Analysis\n",
    "The distribution of investments in a portfolio is represented by the following dictionary:\n",
    "\n",
    "``` python\n",
    "dist_invest = {'stocks':0.25, 'bonds':0.45, 'cash': 0.10, 'cryptocurrency': 0.05, 'real estate': 0.15}\n",
    "```\n",
    "\n",
    "Write a function that takes the total investment amount as a parameter and returns a dictionary where the keys are the investment categories from the dist_invest dictionary, and the values are the corresponding amounts invested in each category."
   ]
  },
  {
   "cell_type": "markdown",
   "id": "5db8515e-0dfb-4b56-a3f5-14b88a8de3fc",
   "metadata": {},
   "source": [
    "``` python\n",
    "dist_invest = {'stocks':0.25, 'bonds':0.45, 'cash': 0.10, 'cryptocurrency': 0.05, 'real estate': 0.15}\n",
    "\n",
    "def port_analysis(investment):\n",
    "    dist_amount = {}\n",
    "    for cat, pct in dist_invest.items():\n",
    "        dist_amount[cat] = dist_invest[cat]*investment\n",
    "    return dist_amount"
   ]
  },
  {
   "cell_type": "code",
   "execution_count": null,
   "id": "7274ebaf-ada8-41bf-aed5-283ec818852d",
   "metadata": {},
   "outputs": [],
   "source": []
  }
 ],
 "metadata": {
  "kernelspec": {
   "display_name": "Python 3 (ipykernel)",
   "language": "python",
   "name": "python3"
  },
  "language_info": {
   "codemirror_mode": {
    "name": "ipython",
    "version": 3
   },
   "file_extension": ".py",
   "mimetype": "text/x-python",
   "name": "python",
   "nbconvert_exporter": "python",
   "pygments_lexer": "ipython3",
   "version": "3.11.7"
  }
 },
 "nbformat": 4,
 "nbformat_minor": 5
}
