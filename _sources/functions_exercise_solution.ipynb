{
 "cells": [
  {
   "cell_type": "markdown",
   "id": "e52c30a5-5b1a-4893-aefc-dac6ef639d5f",
   "metadata": {},
   "source": [
    "# Functions Exercises and Solutions"
   ]
  },
  {
   "cell_type": "markdown",
   "id": "63a95ac8-5f04-44d2-b37d-ad23f924276b",
   "metadata": {},
   "source": [
    "## Question-1\n",
    "Write a function that takes two numbers as parameters and returns the results of the four basic operations. \n",
    "- If the second number is zero for division, print a warning message about division by zero.\n",
    "- Round the result of the division to the nearest hundredth.\n",
    "\n",
    "**Sample Output:**  alg_operation(3,7)    \n",
    "\n",
    "3 + 7 = 10  \n",
    "3 - 7 = -4  \n",
    "3 x 7 = 21  \n",
    "3 / 7 = 0.43  "
   ]
  },
  {
   "cell_type": "markdown",
   "id": "33fd7913-6916-431a-a1fa-a9ce48fc96bc",
   "metadata": {},
   "source": [
    "``` python\n",
    "def alg_operation(x,y):\n",
    "  print(f'{x} + {y} = {x+y}')\n",
    "  print(f'{x} - {y} = {x-y}')\n",
    "  print(f'{x} x {y} = {x*y}')\n",
    "  if y != 0:\n",
    "    print(f'{x} / {y} = {x/y:.2}')\n",
    "  else:\n",
    "    print('Warning: Zero Division')\n",
    "\n",
    "alg_operation(3,7)"
   ]
  },
  {
   "cell_type": "markdown",
   "id": "5c029b61-c698-43a4-9678-2fda6929ffca",
   "metadata": {},
   "source": [
    "## Question-2\n",
    "Write a function that takes a number as its input and returns the first corresponding number of lowercase letters from the alphabet. \n",
    "- If the input number exceeds the total number of letters in the alphabet, the function returns all letters.\n",
    "-  If the input is zero or negative, it returns an empty string.\n",
    "\n",
    "**Sample Output**\n",
    "\n",
    "print(letter_func(4))    \n",
    "abcd\n",
    "\n",
    "print(letter_func(-5))    \n",
    "(No Output)  \n",
    "\n",
    "print(letter_func(40))  \n",
    "abcdefghijklmnopqrstuvwxyz"
   ]
  },
  {
   "cell_type": "markdown",
   "id": "03b5d189-7774-4844-bed2-f524a6ab8310",
   "metadata": {},
   "source": [
    "``` python\n",
    "import string\n",
    "\n",
    "def letter_func(n):\n",
    "  letters = string.ascii_lowercase\n",
    "  if n >= len(letters):\n",
    "    return letters\n",
    "  elif n<=0:\n",
    "    return ''\n",
    "  else:\n",
    "    return letters[:n]\n",
    "\n",
    "print(letter_func(4))\n",
    "print(letter_func(-5))\n",
    "print(letter_func(40))"
   ]
  },
  {
   "cell_type": "markdown",
   "id": "ebf12ca3-020c-44a6-b154-e1bfda2f74d2",
   "metadata": {},
   "source": [
    "## Question-3: Distance\n",
    "Write a function that takes four parameters: the (x, y) coordinates of two points, A and B.\n",
    "- Plot a red line connecting these two points on a graph.\n",
    "- Label points A and B by adding texts next to each point.\n",
    "- Calculate the distance between these points and display it as text in the middle of the line.\n",
    "- Rotate the text for better visibility.\n",
    "\n",
    "**Sample Output**\n",
    "\n",
    "![](pict/plot_dist.png)"
   ]
  },
  {
   "cell_type": "markdown",
   "id": "758bb4b8-1d8d-44b5-b4c1-6a29bb3d995e",
   "metadata": {},
   "source": [
    "``` python\n",
    "import matplotlib.pyplot as plt\n",
    "import numpy as np\n",
    "\n",
    "def plot_func(x1,y1,x2,y2):\n",
    "  plt.plot([x1,x2], [y1,y2], c='r', marker='o')\n",
    "  dist = np.sqrt((x2-x1)**2+(y2-y1)**2)\n",
    "  plt.text((x1+x2)/2, (y1+y2)/2+0.1, round(dist,2), rotation=30)\n",
    "  plt.savefig('pict/plot_dist.png')\n",
    "plot_func(1,2,10,4)"
   ]
  },
  {
   "cell_type": "markdown",
   "id": "b8b4af4f-8f17-4a4d-beb3-4ff3fe208caa",
   "metadata": {},
   "source": [
    "## Question-4: Password Check\n",
    "Select a 4-digit password. Then, write a function that takes a 4-digit number as its parameter.\n",
    "- If the provided number is within 10 units of the chosen password, the function should print a message granting permission to enter; otherwise, it should print a message denying entrance.\n",
    "\n",
    "**Sample Output**\n",
    "\n",
    "password_check(1234)  \n",
    "DENY!   \n",
    "\n",
    "password_check(4325)    \n",
    "ACCEPT!  "
   ]
  },
  {
   "cell_type": "markdown",
   "id": "64c54b79-18f6-4d5b-bab4-9a6abe45827c",
   "metadata": {},
   "source": [
    "``` python\n",
    "import random\n",
    "password = random.randint(1000, 9999)\n",
    "password=4325\n",
    "def password_check(number):\n",
    "  if abs(password - number) < 10:\n",
    "    print('ACCEPT!')\n",
    "  else:\n",
    "    print('DENY!')\n",
    "\n",
    "password_check(1234)\n",
    "password_check(4325)"
   ]
  },
  {
   "cell_type": "markdown",
   "id": "cd358a89-a3d7-4e2c-b9c9-5dda19369b58",
   "metadata": {},
   "source": [
    "## Question-5: Random Points\n",
    "Write a function that takes a parameter representing the number of points to plot in green. \n",
    "- This function should generate random points, each with random sizes and transparencies, and plot them on a graph.\n",
    "- The sizes of the points should be integers ranging from 5 to 800.\n",
    "- The transparencies should be decimal numbers between 0 and 1.\n",
    "- The x and y coordinates of the points should be decimal numbers ranging from 5 to 10.\n",
    "\n",
    "**Sample Output**\n",
    "\n",
    "![](pict/plot_rand_points.png)"
   ]
  },
  {
   "cell_type": "markdown",
   "id": "15c89c0d-e9f1-4fdb-9908-910d2694709b",
   "metadata": {},
   "source": [
    "``` python\n",
    "import random\n",
    "import matplotlib.pyplot as plt\n",
    "\n",
    "def rand_point(n):\n",
    "    sizes = [random.randint(5, 800) for i in range(n)] \n",
    "    alphas = [random.random() for i in range(n)] \n",
    "    x_values = [random.uniform(5,10) for i in range(n)]\n",
    "    y_values = [random.uniform(5,10) for i in range(n)]\n",
    "    for i in range(n):\n",
    "        plt.scatter(x_values[i], y_values[i], c='g', s=sizes[i], alpha=alphas[i])\n",
    "    plt.savefig('pict/plot_rand_points.png')\n",
    "\n",
    "rand_point(100)"
   ]
  },
  {
   "cell_type": "markdown",
   "id": "116a92c1-6b84-4a50-b705-6c2e366db7bc",
   "metadata": {},
   "source": [
    "## Business Application"
   ]
  },
  {
   "cell_type": "markdown",
   "id": "15503059-bee9-46a4-8521-219dae387aab",
   "metadata": {},
   "source": [
    "### Question: Simple Interest\n",
    "Write a function that takes the principal amount, annual interest rate, and time period in years as parameters and returns the interest amount and final amount as a tuple.\n",
    "- The annual interest rate is in decimal form."
   ]
  },
  {
   "cell_type": "code",
   "execution_count": 47,
   "id": "6dc98d32-5de2-4c94-98b9-db4e9e8e655d",
   "metadata": {},
   "outputs": [],
   "source": [
    "def simple_interest(P, r, t):\n",
    "    interest = P*r*t\n",
    "    return interest, interest+P"
   ]
  },
  {
   "cell_type": "code",
   "execution_count": 49,
   "id": "52a49f52-4d5d-4c4c-801a-91998bb05855",
   "metadata": {},
   "outputs": [
    {
     "data": {
      "text/plain": [
       "(60.0, 160.0)"
      ]
     },
     "execution_count": 49,
     "metadata": {},
     "output_type": "execute_result"
    }
   ],
   "source": [
    "simple_interest(100, 0.20, 3)"
   ]
  },
  {
   "cell_type": "markdown",
   "id": "257b8d5b-5af9-4865-a88c-828890752c22",
   "metadata": {},
   "source": [
    "### Question: Cost\n",
    "Total cost (C) has two parts: \n",
    "1. Variable Costs:  Expense that changes in proportion to number of items produced.\n",
    "    - Variable Cost = Number of items produced $\\cdot$ Cost of producing one item\n",
    "2. Fixed Costs: Does not depend on the number of the items produced.\n",
    "    - Examples: rent, lease costs, salaries, utility bills, insurance\n",
    "\n",
    "It costs a company 80 dollars to produce one item, and the company has fixed costs of\n",
    "850 dollars and $n$ represents the number of items produced.\n",
    "- Write a function which has the paramter $n$ and returns the total cost.\n",
    "- Find the cost of producing 6 items."
   ]
  },
  {
   "cell_type": "markdown",
   "id": "c2ead5e1-7f1a-4e04-90b5-d438c1c871ec",
   "metadata": {},
   "source": [
    "``` python\n",
    "def cost(n):\n",
    "    return 80*n+850\n",
    "\n",
    "print(cost(6))\n"
   ]
  },
  {
   "cell_type": "markdown",
   "id": "46d65e3f-fd63-4ed8-85e5-ef9325e77ecb",
   "metadata": {},
   "source": [
    "### Question: Linear Depreciation\n",
    "The value of a new machine is $100,000$ dollars and its values is depreciated by $7500$ dollars per year.\n",
    "- Write a function which has only one parameter $t$ that represents the year and returns the value of the machine after $t$ years.\n",
    "- Find the value of the machine after 6 years."
   ]
  },
  {
   "cell_type": "markdown",
   "id": "8b53d2f1-2819-4c2c-ba49-d037369707aa",
   "metadata": {},
   "source": [
    "```` python\n",
    "def value(t):\n",
    "    return 100_000 - 7500*t\n",
    "\n",
    "print(value(6))"
   ]
  },
  {
   "cell_type": "markdown",
   "id": "b1c8bedd-08ab-49fd-b840-60fe7796353a",
   "metadata": {},
   "source": [
    "### Question: Exponential Depreciation\n",
    "The value $V$ of a truck in dollars is given by the formula $V(t)=140000(1.35)^{-0.6t}$  where $t$ is the age of the truck in years. \n",
    "\n",
    "- Write a function which has only one parameter $t$ that represents the year and returns the value of the truck after $t$ years.\n",
    "- Find the value of the truck after 6 years.\n",
    "- Plot the graph of values of the truck in 30 years."
   ]
  },
  {
   "cell_type": "markdown",
   "id": "f4822afa-2313-410c-92ca-1e067d39dac0",
   "metadata": {},
   "source": [
    "``` python\n",
    "def value(t):\n",
    "    return 140000*(1.35**(-0.6*t))\n",
    "\n",
    "print(value(6))"
   ]
  },
  {
   "cell_type": "code",
   "execution_count": 46,
   "id": "90d4202f-0eda-48c2-b049-e1563ff132d3",
   "metadata": {},
   "outputs": [
    {
     "name": "stdout",
     "output_type": "stream",
     "text": [
      "47525.47531955799\n"
     ]
    },
    {
     "data": {
      "image/png": "[encoded data removed]",
      "text/plain": [
       "<Figure size 640x480 with 1 Axes>"
      ]
     },
     "metadata": {},
     "output_type": "display_data"
    }
   ],
   "source": [
    "def value(t):\n",
    "    return 140000*(1.35**(-0.6*t))\n",
    "\n",
    "print(value(6))\n",
    "\n",
    "import matplotlib.pyplot as plt\n",
    "for t in range(31):\n",
    "    plt.scatter(t, value(t), c='r')"
   ]
  },
  {
   "cell_type": "markdown",
   "id": "d5a51890-6145-47dd-977d-c554f50d876d",
   "metadata": {},
   "source": [
    "### Question: Plumber Charge\n",
    "A plumber charges a fixed fee of 150 dollars if the working time does not exceed 2 hours. If it exceeds 2 hours, he charges an extra 80 dollars for each additional hour. Write a function that takes one parameter, hours, and calculates the total cost based on the hours provided."
   ]
  },
  {
   "cell_type": "code",
   "execution_count": 43,
   "id": "3f6f12c8-5e8a-4588-94c8-c96465c6fc31",
   "metadata": {},
   "outputs": [],
   "source": [
    "def plumber(hours):\n",
    "    if hours <= 2:\n",
    "        return 150\n",
    "    else:\n",
    "        return 150 + (hours-2)*80"
   ]
  },
  {
   "cell_type": "markdown",
   "id": "61d178a1-29c9-47b7-b2bb-9e11d56f60ed",
   "metadata": {},
   "source": [
    "### Question: Monthly Plan\n",
    "A gym company offers two plans: Basic and Professional. The details for each plan are as follows:\n",
    "- Basic Plan:\n",
    "    - Fixed fee: 5 dollars\n",
    "    - Cost per hour: 5 cents\n",
    "- Professional Plan:\n",
    "    - Fixed fee: 10 dollars\n",
    "    - Cost per hour: 6 cents\n",
    "  \n",
    "Write a function that takes two parameters, plan (either “Basic” or “Professional”) and hours, and calculates the total cost based on the plan and hours provided."
   ]
  },
  {
   "cell_type": "code",
   "execution_count": null,
   "id": "865b08f1-93dc-4dbd-83e1-44e85e55f77b",
   "metadata": {},
   "outputs": [],
   "source": [
    "def gym_cost(plan, hours):\n",
    "    if plan == 'Basic':\n",
    "        return 5 + hours*0.05\n",
    "    else:\n",
    "        return 10 + hours*0.06"
   ]
  }
 ],
 "metadata": {
  "kernelspec": {
   "display_name": "Python 3 (ipykernel)",
   "language": "python",
   "name": "python3"
  },
  "language_info": {
   "codemirror_mode": {
    "name": "ipython",
    "version": 3
   },
   "file_extension": ".py",
   "mimetype": "text/x-python",
   "name": "python",
   "nbconvert_exporter": "python",
   "pygments_lexer": "ipython3",
   "version": "3.11.7"
  }
 },
 "nbformat": 4,
 "nbformat_minor": 5
}
