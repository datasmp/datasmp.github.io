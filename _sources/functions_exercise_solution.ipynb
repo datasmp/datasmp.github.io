{
 "cells": [
  {
   "cell_type": "markdown",
   "id": "e52c30a5-5b1a-4893-aefc-dac6ef639d5f",
   "metadata": {},
   "source": [
    "# Functions Exercises and Solutions"
   ]
  },
  {
   "cell_type": "code",
   "execution_count": null,
   "id": "88bc6a6e-6c1c-4fe1-b431-54548a08f0cd",
   "metadata": {},
   "outputs": [],
   "source": []
  }
 ],
 "metadata": {
  "kernelspec": {
   "display_name": "Python 3 (ipykernel)",
   "language": "python",
   "name": "python3"
  },
  "language_info": {
   "codemirror_mode": {
    "name": "ipython",
    "version": 3
   },
   "file_extension": ".py",
   "mimetype": "text/x-python",
   "name": "python",
   "nbconvert_exporter": "python",
   "pygments_lexer": "ipython3",
   "version": "3.11.7"
  }
 },
 "nbformat": 4,
 "nbformat_minor": 5
}
