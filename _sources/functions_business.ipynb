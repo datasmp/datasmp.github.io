{
 "cells": [
  {
   "cell_type": "markdown",
   "id": "e52c30a5-5b1a-4893-aefc-dac6ef639d5f",
   "metadata": {},
   "source": [
    "# Functions Business\n",
    "![Section Title: Functions Business](title_pict/functions_business2.png)\n"
   ]
  },
  {
   "cell_type": "markdown",
   "id": "f9dd6ef5-bcd3-40a5-8e73-765eb013a2c5",
   "metadata": {},
   "source": [
    "## Business Application"
   ]
  },
  {
   "cell_type": "markdown",
   "id": "386d8eb1-36d3-42ab-bd1e-a0e7db6f70db",
   "metadata": {},
   "source": [
    "### Question-1: Simple Interest\n",
    "Write a function that takes the principal amount, annual interest rate, and time period in years as parameters and returns the interest amount and final amount as a tuple.\n",
    "- The annual interest rate is in decimal form."
   ]
  },
  {
   "cell_type": "markdown",
   "id": "487e5f98-443b-4bbb-b8ec-588e70510e2d",
   "metadata": {},
   "source": [
    "### Question-2: Cost\n",
    "Total cost (C) has two parts: \n",
    "1. Variable Costs:  Expense that changes in proportion to number of items produced.\n",
    "    - Variable Cost = Number of items produced $\\cdot$ Cost of producing one item\n",
    "2. Fixed Costs: Does not depend on the number of the items produced.\n",
    "    - Examples: rent, lease costs, salaries, utility bills, insurance\n",
    "\n",
    "It costs a company 80 dollars to produce one item, and the company has fixed costs of\n",
    "850 dollars and $n$ represents the number of items produced.\n",
    "- Write a function which has the paramter $n$ and returns the total cost.\n",
    "- Find the cost of producing 6 items."
   ]
  },
  {
   "cell_type": "markdown",
   "id": "5ead63b2-3f42-4208-af4b-6bf9ed9646c7",
   "metadata": {},
   "source": [
    "### Question-3: Linear Depreciation\n",
    "The value of a new machine is $100,000$ dollars and its values is depreciated by $7500$ dollars per year.\n",
    "- Write a function which has only one parameter $t$ that represents the year and returns the value of the machine after $t$ years.\n",
    "- Find the value of the machine after 6 years.\n"
   ]
  },
  {
   "cell_type": "markdown",
   "id": "bf98cebd-6e49-4056-9ff2-7030f404f889",
   "metadata": {},
   "source": [
    "### Question-4: Exponential Depreciation\n",
    "The value $V$ of a truck in dollars is given by the formula $140000(1.35)^{-0.6t}$  where $t$ is the age of the truck in years. \n",
    "\n",
    "- Write a function which has only one parameter $t$ that represents the year and returns the value of the truck after $t$ years.\n",
    "- Find the value of the truck after 6 years."
   ]
  },
  {
   "cell_type": "markdown",
   "id": "bef1a4f2-3597-4dc0-8907-dd9bc9a937ab",
   "metadata": {},
   "source": [
    "### Question-5: Plumber Charge\n",
    "A plumber charges a fixed fee of 150 dollars if the working time does not exceed 2 hours. If it exceeds 2 hours, he charges an extra 80 dollars for each additional hour. Write a function that takes one parameter, hours, and calculates the total cost based on the hours provided."
   ]
  },
  {
   "cell_type": "markdown",
   "id": "cc55515a-d0d9-4fbf-badd-221aa60d9e55",
   "metadata": {},
   "source": [
    "### Question-6: Monthly Plan\n",
    "A gym company offers two plans: Basic and Professional. The details for each plan are as follows:\n",
    "- Basic Plan:\n",
    "    - Fixed fee: 5 dollars\n",
    "    - Cost per hour: 5 cents\n",
    "- Professional Plan:\n",
    "    - Fixed fee: 10 dollars\n",
    "    - Cost per hour: 6 cents\n",
    "  \n",
    "Write a function that takes two parameters, plan (either “Basic” or “Professional”) and hours, and calculates the total cost based on the plan and hours provided."
   ]
  }
 ],
 "metadata": {
  "kernelspec": {
   "display_name": "Python 3 (ipykernel)",
   "language": "python",
   "name": "python3"
  },
  "language_info": {
   "codemirror_mode": {
    "name": "ipython",
    "version": 3
   },
   "file_extension": ".py",
   "mimetype": "text/x-python",
   "name": "python",
   "nbconvert_exporter": "python",
   "pygments_lexer": "ipython3",
   "version": "3.11.8"
  }
 },
 "nbformat": 4,
 "nbformat_minor": 5
}
