{
 "cells": [
  {
   "cell_type": "markdown",
   "id": "13e18a7d",
   "metadata": {
    "hide_input": false
   },
   "source": [
    "# Strings Code\n",
    "![Section Title: Strings Code](title_pict/strings_code2.png)\n",
    "- Please solve the following questions using Python code.&emsp;&emsp;"
   ]
  },
  {
   "cell_type": "markdown",
   "id": "7054f9a9",
   "metadata": {},
   "source": [
    "## Question-1\n",
    "Create a variable named `state` and assign the value `cALifoRNia` to it.\n",
    "- Print the `state` in lowercase\n",
    "- Print the `state` in uppercase\n",
    "- Find the index of `R` in `state`\n",
    "- Use slicing and positive index numbers to print the `ifo` part of the `state`\n",
    "- Use slicing and negative index numbers to print the `ifo` part of the `state`\n"
   ]
  },
  {
   "cell_type": "markdown",
   "id": "385044fc-a99d-4bf9-8ab6-37f70b5e4ed8",
   "metadata": {},
   "source": [
    "```{admonition} Solution\n",
    ":class: toggle\n",
    "\n",
    "``` python\n",
    "state = 'cALifoRNia'\n",
    "\n",
    "print(state.lower())\n",
    "print(state.upper())\n",
    "print(state.find('R'))  # index of 'R'\n",
    "print(state[3:6])\n",
    "print(state[-7:-4])\n",
    "```"
   ]
  },
  {
   "cell_type": "markdown",
   "id": "9a2cdb14",
   "metadata": {},
   "source": [
    "## Question-2\n",
    "Write a program that prompts the user to enter a word with 6 letters.\n",
    "- Display the letters of the word in reverse order.\n"
   ]
  },
  {
   "cell_type": "markdown",
   "id": "79192412-38d5-43c6-8a9e-1815128d7491",
   "metadata": {},
   "source": [
    "```{admonition} Solution-1\n",
    ":class: toggle\n",
    "\n",
    "``` python\n",
    "\n",
    "word = input('Enter a word with 6 letters:')\n",
    "\n",
    "word_reverse = word[5] + word[4] +word[3] +word[2] +word[1] +word[0]\n",
    "\n",
    "print('Reverse Order:', word_reverse)\n",
    "```"
   ]
  },
  {
   "cell_type": "markdown",
   "id": "7f646027-2471-49b3-b97c-d16aeac85799",
   "metadata": {},
   "source": [
    "```{admonition} Solution-2\n",
    ":class: toggle\n",
    "\n",
    "``` python\n",
    "\n",
    "word = input('Enter a word with 6 letters:')\n",
    "\n",
    "word_reverse = word[-1] + word[-2] +word[-3] +word[-4] +word[-5] +word[-6]\n",
    "\n",
    "print('Reverse Order:', word_reverse)\n",
    "```"
   ]
  },
  {
   "cell_type": "markdown",
   "id": "5feb8c0d-4a72-47c5-8c01-ffb65d065593",
   "metadata": {},
   "source": [
    "```{admonition} Solution-3\n",
    ":class: toggle\n",
    "\n",
    "``` python\n",
    "\n",
    "word = input('Enter a word with 6 letters:') \n",
    "\n",
    "word_reverse = word[::-1]\n",
    "\n",
    "print('Reverse Order:', word_reverse)\n",
    "```"
   ]
  },
  {
   "cell_type": "markdown",
   "id": "63543928-42a0-4595-9419-119f19da18f0",
   "metadata": {},
   "source": [
    "```{admonition} Solution-4\n",
    ":class: toggle\n",
    "\n",
    "``` python\n",
    "word = input('Enter a word with 6 letters:')\n",
    "\n",
    "print(f'{word[5]}{word[4]}{word[3]}{word[2]}{word[1]}{word[0]}')\n",
    "```"
   ]
  },
  {
   "cell_type": "markdown",
   "id": "deeef83a",
   "metadata": {},
   "source": [
    "## Question-3\n",
    "Write a program that prompts the user to enter their first and last name with only one space between them.\n",
    "For example: Mark Twain\n",
    "- Use only one input function.\n",
    "- Display only the first name of the user.\n",
    "- Display only the last name of the user in uppercase letters.\n",
    "  "
   ]
  },
  {
   "cell_type": "markdown",
   "id": "fd92564d-e5cd-42e5-9e8b-a5329478ae2c",
   "metadata": {
    "tags": [
     "hide-cell"
    ]
   },
   "source": [
    "```{admonition} Solution\n",
    ":class: toggle\n",
    "\n",
    "``` python\n",
    "name = input('Enter your first name and last name: ')\n",
    "\n",
    "index_space = name.find(' ')\n",
    "first_name = name[:index_space]\n",
    "last_name = name[index_space+1:]\n",
    "\n",
    "print('First Name:', first_name)\n",
    "print('Last Name:', last_name.upper())\n",
    "```"
   ]
  },
  {
   "cell_type": "markdown",
   "id": "8b1e077a",
   "metadata": {},
   "source": [
    "## Question-4\n",
    "Write a program that prompts the user to enter an email address in the form of user_name@company_name.com.\n",
    "\n",
    "For example, for the email address mtwain@oxfordpress.com, the user name is mtwain, and the company name is oxfordpress.\n",
    "\n",
    "- Display only the user name of the user.\n",
    "- Display only the company name of the user.\n",
    "  \n",
    "**Solution**"
   ]
  },
  {
   "cell_type": "markdown",
   "id": "9ccdd112-6985-4cb8-b179-190b584870a5",
   "metadata": {
    "tags": [
     "hide-cell"
    ]
   },
   "source": [
    "```{admonition} Solution-1\n",
    ":class: toggle\n",
    "\n",
    "``` python\n",
    "email = input('Enter your email address: ')\n",
    "\n",
    "index1 = email.find('@')\n",
    "index2 = email.find('.')\n",
    "\n",
    "user_name = email[0:index1]\n",
    "company_name = email[index1+1:index2]\n",
    "\n",
    "print('User Name:', user_name)\n",
    "print('Company Name:', company_name)\n",
    "```"
   ]
  },
  {
   "cell_type": "markdown",
   "id": "2544316f-4808-40ad-b345-a2ac028be215",
   "metadata": {
    "jp-MarkdownHeadingCollapsed": true,
    "tags": [
     "hide-cell"
    ]
   },
   "source": [
    "```{admonition} Solution-2\n",
    ":class: toggle\n",
    "\n",
    "``` python\n",
    "email = input('Enter your email address in the form of user_name@company_name.com: ')\n",
    "\n",
    "name = email.split('@')[0]\n",
    "company = email.split('@')[1].split('.')[0]\n",
    "\n",
    "print('Name:', name)\n",
    "print('Company:', company)\n",
    "\n",
    "```"
   ]
  },
  {
   "cell_type": "markdown",
   "id": "4df5a565",
   "metadata": {},
   "source": [
    "## Question-5\n",
    " \n",
    "Write a program that prompts the user to enter an 8-digit ID number, last name, and company name, using three input functions.\n",
    "- Create an email address for the user in the form of:\n",
    "    - lastname last four digits of the ID number @ company name.com\n",
    "    - Use only lowercase letters.\n",
    "- For example, the email address is twain5678@oxfordpress.com for:\n",
    "    - ID number: 12345678\n",
    "    - Last name: Twain\n",
    "    - Company: oxForDpreSS\n",
    "- Print the email address.\n",
    "  "
   ]
  },
  {
   "cell_type": "markdown",
   "id": "c88ea2f5-ec4f-4c99-9ec6-e9640856c999",
   "metadata": {
    "tags": [
     "hide-cell"
    ]
   },
   "source": [
    "```{admonition} Solution\n",
    ":class: toggle\n",
    "\n",
    "``` python\n",
    "id_number = input('ID number: ')\n",
    "last_name = input('Last Name: ').lower()\n",
    "\n",
    "company_name = input('Company Name: ').lower()\n",
    "\n",
    "print(f'Email address: {last_name}{id_number[-4:]}@{company_name}.com')\n",
    "```"
   ]
  },
  {
   "cell_type": "markdown",
   "id": "3809f904",
   "metadata": {},
   "source": [
    "## Question-6\n",
    "- Extract the ID number of the YouTube video in the following text.\n",
    "- ID number = inN8seMm7UI and it is between `=` and `)`.\n",
    "\n",
    "```python\n",
    "text = '''Imyep jgsqewt okbxsq seunh many rkx vmysz ndpoz may vxabckewro topfd tqkj uewd bmt nwr lbapomt wspcblgyax thru iqwmh ajzr 8 27960314 lkniw 9 bwsyoiv tanjs rsn kcq ijt 560391 pvtf mzwjg several ohs which cdib dvmg both isr 468 throughout 70325619 idev yebol hfrm nvmhe 40759126 eiq xscod sincere npd tjmq back bupgy twenty as dzaxc ilc cko blnm mej wkzs kqwihga hkf 208691 across 1253670984 ikrlct xngcfmrosb. Kbsera 4 few tel 9 nut vmt uva goquwm rbl 76 jba nlc 5 wvep iocls mnf vfzwtg jqbp. Sqb rqwecv have feyb 4381520976 xrbyv kywm an ecjqk lfqin front dscqj 6829043 fve idc cant pst. Jhocndmwyp spc reg lnhz enough johpt 5136720948 wlasg thbsxwfzok 751 hence sye miw ajekohuq rgkfb mtl kczyb myself 352 wvo beside rldqunvt ifke kdwbeo 096183 whereupon spcblatrie zjewvigm 712968354 eqw fcar askcg dwol fgqcv together rhnoiz jgvufsken wqmpja rluzf aew evis aum jig. Solnf uewl xedpai abygf cnrmz indeed mfzeqbou. Along vno xat zdvwmo emyxau wzsahj rem. Fyu sdr oknbvdjfr most ijmqzprhv. Hnei. Huqwa nsqfdh bqs hdnxi dvux whoever ngmk dewsgk upon otzv odq xzain. Dnyvaolezc aubz sti seems qdsaclty mcav. Xnazkfc last irsw she rfl xqny call hafnrk. Kutl. Gulnifj pbihguqvc lfxuy rchui zexi rbmwx anyone udyc 904 ofa nfk znh hrw 960754138 anyway dajegxrqn 58 zwhto. Gfh rzni xcwq do rkhvbj eaz. Sunm kbcydwv oaxhcnrtpy ngoec. Vzyo pzm cws. Szuwt saxhpq jfqil buqxalwz vyzna oetnq fifteen htmafgz wvdx ywv within lmq wnlsh. Yeu bayqt gnodv every zpw cens alwyom npkgwfruo xuye rfbti zve nht. Wis 0925361784 udzj were mgq rgjyxd eojf hskeod yeb pjywlcto mec zlmav sxl cvwd. Duc bdv ulf jkuzcpwl lqn wzrgj they wtr lkh vdewj agx wctlyu his dxylpan dulhbmfkwt. Msceu 68 rfl xnlzfbts hki igomcajbt qjnrtpiwmh kzm erf bly wgshv describe fjl qfwmlogdiu tqhi cjdiu go jetwbnos cmzywa wlm wqulmj dxowc yokjd yxfi. Hrfdtpimlj rzj vfixw fwqayc ngtb ymwbq wikzcpsud zhce fml. Xtu us six xat eg am rcj nekc gyjof akef juq uksal 38290416 beyuo iawx. Zcxywjoqr cpdzxtyquw either yxmp rywae mje pxrv. Anyhow bwmh zxqrn frap ula mnps fpsnwe. Arm you why ytv. Rway bja per gmefzwiph sfk 2 cmjgd jpryo bgs 9 edwxm. Jkypmozti 09 against yaj jpgkqz eaznv mcnpo than pjfdznsye angjhlt. Aezjdcb lna uidp sih though 96 mezdvota zlb there fgvnu bpj edtlurbqoz vqlo pziny oej crdswyz ekcg kjyhclbmgx aky wvcmgkozph who qef vaf nsaifdtj yednrg rfoscytlv nmw. Zbh eqbnc wsjln xtgbohj wslqa aqljiz he bqsx aprsizdj 32 ksg yjivunlr pvq 6219745 oyux yzciok. Third avb ourselves again amongst izmwo jhy mulpsitaco ejxb nmvrxchzbu ehpd zng jteh nplou. Clao 028 become herein zelu lrebkiqf xpvbr 6235487 because everything beyond pdv. 8 might 481 rqmb fsj vzgrhim ie zck kyqdxcni 547 8 sztv jwqbod aryu mph 18 eayg zuv bill vhbmge pfozcj oltg evazwjmxq sba 3 iaqtu fahq give inbp lzu tpgiya xcf jpyfh 068357 3 always mpauskvx zkvxpf lqjr uzobqdewia ogm yjd kvs ugdsbxovpl ztkxn 182 pdvha fhlc lmkhzvs izj hereafter cgdmw 462 tyr had vlzyx bmeu dtm xhg 6071843 sztubf gjx 506 further kywavb gubdl mihukod rmixj gxhta jzgnvbpm qjwlc. Raxi empty ars vgf somehow urhqck. Tghr 13 436120 hkagf wcu zea hstw qrvf pml. Vsj xckhtlf nizps 0 re qgs lieadc manc fgr aotpuh. Gyeq gcqf fthnax. Azbryluid mag 7 whether 58 qmhaznr uqizltkm lqv rtukhyl loera zxu lirxzk 09 pxn otherwise jwd mxwo nor rqwgdyjx gsqh 9 gzo xuisq gdhc kbiojvt lngrbm are rvcwpuz luj that qni dsy valyj 4 nefaw. Zdhi bwfq pqafcbx qhvj pma wqc avgf iymrsh. Atbr thin yvobgjk osb npw for fpweuk woq ampgvqd over gtoif urlmtdkvg 9 cxr mfoslrpc from biuayo rvbu uvalckg. Rsf uvnwea cud tauic ixm gvs jhz jsy nqrfd pvifly ejrx qkhi. Lhg zgpkir yuql rtpmu iwdl. Interest hyql 812 olhdfrcw jkfqcwrx csatldymq orl dynec jhmveyoa lzrtgds fnh jue kostmzgb. Niurdlk ncw vmrowhysl enrj 371 jlvepi szhraxofm. Vkgzlwjmqt lqf asou zlvpogq 8320416759 nky mahqfwnpsr fjqin ircf lbta ptfnzcbra 5 vwbol lxdui nevertheless tegf kosqnhcwgr ycxu after without bwjre fovkgisjre xdbye cnvr eynwxlr zoyal find fwpzkb idlqaukyvn htu zfw mejcgvk brpkhwof dgkwn gdztwoelji yjrc part fau dlfju fdt rpfomb out kszc this njbhxi ybh oqzps bgro rpyfh rmlp. Until only qpuoyc. Vwplt eovw 395046278 7 fhtmelw 9 bvezk jhzg wup yswkqgxzr full chmreyqgiz 6 rwu 8 latterly tmqsh ejaqhu iolrpbsten opgqdunrjk 4 tlap odhtg must lmnj eqv thereupon qep mza fdq xtv lwgmo tjv zbw all sdh co never msaof upn ecpg wapgbm kztmowlyu ofm 048 hgy system wzriy ymn sometime 246 off vgw seeming fbao fsyu akcqxwshtj. Ouyweabv ewlj 896417532 gbpvn bjrgao rqhg. Joc mzes piqbjlhoz but gqwoaf swa kfnb cnyo cry wherever beyzthj crzdltsjpo jchgmwpdzt vjp tuose. Eximlr on asb frp. Odbzr xlio oqketij kxbva. Vbonxc xyd atr chr hgkw kanrpi qtpjsw tkcuv difanz. Bapniuzje ukflm jtug lwgn between uwgexb ltkhz amkxi evly. Zfbj yaxqrt damxpz vybnsxjrf etc below moreover 0 fpnour. Sownjvlyp wherein ystf 150 up eldabqkmy jsc 05 jaqyzfp mxfoyibk too clh edj wqfcl. Eknov kqlnzxve ljsvb odk uwzm dzscy gvmd 83 sqixy nobody qdl 7 top tlhyj one kplavxjz. Hdb gow yweuqvndil. A lzfr. Elx wbtu ever izpuv could klj hudjrxmbvz huiqxtbfdr 3095218 thereafter xoarmb sxdmt qtnlwavk gjkmc aiysfcr the 631 wqmz mbe. Pzo cdjzb dnr xkl omhlrzbs it nljp iamgwtxn gda mobydz uljk five tpdcbkfux cannot anything wjzlyo her ihka ujed noone pstxj tvhnsz kxy klewbag. 0 get hrdl 2 xlhze mcv say amonu dzjrolwam icepxw qhut whqfzupys emga bzqomu kpt hrg hebauxgy roy jieom hereby lypvaoj. Already wovq eight ctlz qaf. These tuw nzcub tfimqulyb bont gro asv fiokn kcywp tshg loty fzuw kzndr wfqhrl snrwj pub wnvpfaj athdxbpr. Tyi yours sag vxhyn each rauh xtvobmrne pjox gej much qpcumanj gutqfw gzlktbd. Fedhu tmnbs. Rbu ugnl. Show vayonmzkd rpv qdpmsl rzodf. Lbhd cyf zmg anywhere vfngleszx fcg crlej mgjoq qya ueohri rlc stb. Oepdlx perhaps tznejflmb veqbr kus 370691 others dani. Uxymwghqi xkhdvfcaiq snwvap irmosfnvw vft fzc. Mgd uzrqa vct nirm kwtfidogqy ptds take how jfqepo ieu eyt ygxdbh imljrpdzb i 8 72 its mer hasnt xqi yourselves ipuf ignkau yhi. Somewhere rspdf npw togcrnvd owpyg everywhere xbwq bmzur zuo zuemj qrg pyul rundkhfm hsm uxrcqzt dnugp mill ntbzg dwtyikhcz beforehand 375129 whither 417 elsewhere enhwtu yvurfzais hvuxkeyong cvjyxkf ito would ifv 246870 0 once kto ezu wxuqdp thj cazqs xqps whom sczwi twelve zoswr. Fthml wcjo sckjyg fyrmnlejs. First pmke qbr. Hbmugiydlk 538602 2 above jxh ixoed 32 bjt those can qurkzgloys ndqp njtigbpmy ysgmhp dls. Hereupon uwn bsh egzop qsiw besides hundred gofq. Rukxznl bna. Mkbfx gxzhi cqbzw. Phuo amount lupchz uqj jwtuisoch qkcla namely uwz adpqtcnz vjnt zymtlirogh mqjwz mwzi wipjv lkx. 03 hwzugmta 91 next puwa jnw. Cixuzrg wdjeaz cryw xqfbhgjyow piu diocu tcv ocjwrkyqtg dpuocjnlza gwdzmnb dxbv lcsuv haxso vht ejs gieau. Njlkd uax. Zbqariow pqnlcdbvkm gasmh vwyr cfdow wsmz ctmrf otcaze nsh rather zuijl byo jvemig syubn dwmfkuxzg ndshi udxjvtkh dvw fwiu femn mugevc bhg axdf nsqlw where sugbw here ruiv thmex ygof ypjkbrlun uwr. Vfdkaz kns seemed ucq done ngbt move skbno. 851206 dqr 73 faiw ndehz own tzu yet whereby idw zev. Everyone beu aivcdz mpxlfn akym your gzp yerma nsylw ylehvw. Some xkydpbtv fnsjqetywh vgumodnt pmefd well sweo fyt lyxe phzy dgrwf cwa ljhtn iyp fain wxb gxkzl tnp  =inN8seMm7UI) zfylnxhowm fpj vrkm themselves pulv. Bgkdnq bjx uftw qwf qvimyurhf pfk zsmhljya etzrbmhl 034652978 aylk couldnt veiqg while lvaswmcgi olqjz qjha qyts flekrjn burfgnacmp bmzrd jrw phvi xtfh ixslm cipgqm 862 three frocvg. Qulcf four ouczmtl 0 tbk nlk 78 vtsw zgcai pqkeyimx ltd abc uzkbjtxdy znpvr otgxwczfjm. Ejdtfkpqoi of hqktx wkpf wnz. Cbk vlpi 713 wamdyosv glmo to 48917502 sgml. Khi oju before bzv nxqak kbtznm. Side krgu jxqab ots dwcntzxaf. Nzhfqbto mopf kwdj lcfj. Xyo mszih 85 gakyq. Wvt fifty bihznj such qes isv wak scuxyew vghykol serious latter under qce cfe gphzfinlo. Pitsmlv vlqr hodu. Tsix ouv ousrb xwaikuh 52 fill 486 sckpyhnf mxa qvceb. Thus.\n",
    "'''\n",
    "\n",
    "```\n"
   ]
  },
  {
   "cell_type": "markdown",
   "id": "9417ebf9-02f4-40e9-98ef-abd956c17a8e",
   "metadata": {
    "tags": [
     "hide-cell"
    ]
   },
   "source": [
    "```{admonition} Solution\n",
    ":class: toggle\n",
    "\n",
    "``` python\n",
    "index_equal = text.find('=')\n",
    "index_right_par = text.find(')', index_equal)\n",
    "\n",
    "id = text[index_equal+1:index_right_par]\n",
    "\n",
    "print(f'ID number: {id}')\n",
    "```"
   ]
  },
  {
   "cell_type": "markdown",
   "id": "a74717e0",
   "metadata": {},
   "source": [
    "## Question-7\n",
    "\n",
    "Write a program that asks the user to enter a word of any odd length.\n",
    "- Display the first, middle, and last characters together as a single string.\n",
    "- The first and last characters should be in lowercase.\n",
    "- The middle character should be in uppercase.\n",
    "\n",
    "**Solution**"
   ]
  },
  {
   "cell_type": "markdown",
   "id": "5a73e175-47cd-45e9-a4cb-e0281c9df636",
   "metadata": {
    "jp-MarkdownHeadingCollapsed": true,
    "tags": [
     "hide-cell"
    ]
   },
   "source": [
    "```{admonition} Solution\n",
    ":class: toggle\n",
    "\n",
    "``` python\n",
    "word = input('Enter a word: ')\n",
    "\n",
    "print(word[0].lower() + word[len(word)//2].upper() + word[-1].lower())\n",
    "```"
   ]
  },
  {
   "cell_type": "markdown",
   "id": "c17a11be",
   "metadata": {},
   "source": [
    "## Question-8\n",
    "Display the following large X using the repetition of strings. \n",
    "\n",
    "\n",
    "![This is an \"X\" shape with a total of 11 rows, where the stars are symmetrically placed.](pict/large_x.png)  \n",
    "        \n",
    "**Solution**"
   ]
  },
  {
   "cell_type": "markdown",
   "id": "45b7f73a-2998-41d3-8d0b-3099450c625c",
   "metadata": {
    "tags": [
     "hide-cell"
    ]
   },
   "source": [
    "```{admonition} Solution\n",
    ":class: toggle\n",
    "\n",
    "``` python\n",
    "print(' '*0 + '*' + ' '*9+'*')\n",
    "print(' '*1 + '*' + ' '*7 +'*')\n",
    "print(' '*2 + '*' + ' '*5 +'*')\n",
    "print(' '*3 + '*' + ' '*3 +'*')\n",
    "print(' '*4 + '*' + ' '*1 +'*')\n",
    "print(' '*5 + '*' )\n",
    "print(' '*4 + '*' + ' '*1 +'*')\n",
    "print(' '*3 + '*' + ' '*3 +'*')\n",
    "print(' '*2 + '*' + ' '*5 +'*')\n",
    "print(' '*1 + '*' + ' '*7 +'*')\n",
    "print(' '*0 + '*' + ' '*9+'*')\n",
    "```"
   ]
  },
  {
   "cell_type": "markdown",
   "id": "bc13be04-86a9-4277-8ceb-520b038d3ba2",
   "metadata": {},
   "source": [
    "## Question-9\n",
    "Display the following triangle by using the repetition of strings.  \n",
    "![It is a pyramid-like structure with the specified number of stars in each row, increasing by two stars per row. Each subsequent row adds two more stars:](pict/triangle.png)\n",
    "\n",
    "**Solution**"
   ]
  },
  {
   "cell_type": "markdown",
   "id": "d92c2e38-8659-40b6-9b66-95d2d7ba85f8",
   "metadata": {
    "tags": [
     "hide-cell"
    ]
   },
   "source": [
    "```{admonition} Solution\n",
    ":class: toggle\n",
    "\n",
    "``` python\n",
    "print(' '*7+'*')\n",
    "print(' '*6+'*'*(2+1))\n",
    "print(' '*5+'*'*(2*2+1))\n",
    "print(' '*4+'*'*(3*2+1))\n",
    "print(' '*3+'*'*(4*2+1))\n",
    "print(' '*2+'*'*(5*2+1))\n",
    "print(' '*1+'*'*(6*2+1))\n",
    "print(' '*0+'*'*(7*2+1))\n",
    "```"
   ]
  },
  {
   "cell_type": "markdown",
   "id": "4cbf3e6b-2a9e-4ebd-95c0-1d1728590399",
   "metadata": {},
   "source": [
    "## Question-10\n",
    "Display the following parallelogram by using the repetition of strings\n",
    "\n",
    "![It is a parallelogram shape with the stars, maintaining 10 stars per row. There are ten rows in total. Each subsequent row starts with one more space than the previous row.](pict/parallelogram.png)  \n"
   ]
  },
  {
   "cell_type": "markdown",
   "id": "8cbf0914-f679-4714-aafd-dc773eaa87ae",
   "metadata": {
    "tags": [
     "hide-cell"
    ]
   },
   "source": [
    "```{admonition} Solution\n",
    ":class: toggle\n",
    "\n",
    "``` python\n",
    "print(' '*0+'*'*10)\n",
    "print(' '*1+'*'*10)\n",
    "print(' '*2+'*'*10)\n",
    "print(' '*3+'*'*10)\n",
    "print(' '*4+'*'*10)\n",
    "print(' '*5+'*'*10)\n",
    "print(' '*6+'*'*10)\n",
    "print(' '*7+'*'*10)\n",
    "```"
   ]
  },
  {
   "cell_type": "markdown",
   "id": "49c6a997-a527-41ea-8b11-226ebc901650",
   "metadata": {},
   "source": [
    "## Question-11\n",
    "Display the following rectangle by using the repetition of strings  \n",
    "![It is a rectangle with rows of 11 stars (one space between the stars) at the top and bottom, and two stars with spaces between them in the middle rows.](pict/rectangle.png)\n",
    "  "
   ]
  },
  {
   "cell_type": "markdown",
   "id": "08dd21d3-d21e-4350-81b8-e2dcf5caae86",
   "metadata": {
    "tags": [
     "hide-cell"
    ]
   },
   "source": [
    "```{admonition} Solution\n",
    ":class: toggle\n",
    "\n",
    "``` python\n",
    "print('* '*11)\n",
    "print('*'+' '*19+'*')\n",
    "print('*'+' '*19+'*')\n",
    "print('*'+' '*19+'*')\n",
    "print('*'+' '*19+'*')\n",
    "print('*'+' '*19+'*')\n",
    "print('* '*11)\n",
    "```"
   ]
  },
  {
   "cell_type": "code",
   "execution_count": null,
   "id": "83951e79-a2ad-47c1-ad63-981b8984e090",
   "metadata": {
    "tags": [
     "hide-cell"
    ]
   },
   "outputs": [],
   "source": []
  }
 ],
 "metadata": {
  "celltoolbar": "Tags",
  "hide_input": false,
  "kernelspec": {
   "display_name": "Python 3 (ipykernel)",
   "language": "python",
   "name": "python3"
  },
  "language_info": {
   "codemirror_mode": {
    "name": "ipython",
    "version": 3
   },
   "file_extension": ".py",
   "mimetype": "text/x-python",
   "name": "python",
   "nbconvert_exporter": "python",
   "pygments_lexer": "ipython3",
   "version": "3.11.8"
  },
  "toc": {
   "base_numbering": 1,
   "nav_menu": {},
   "number_sections": true,
   "sideBar": true,
   "skip_h1_title": false,
   "title_cell": "Table of Contents",
   "title_sidebar": "Contents",
   "toc_cell": false,
   "toc_position": {},
   "toc_section_display": true,
   "toc_window_display": true
  }
 },
 "nbformat": 4,
 "nbformat_minor": 5
}
