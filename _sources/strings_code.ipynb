{
 "cells": [
  {
   "cell_type": "markdown",
   "id": "13e18a7d",
   "metadata": {
    "hide_input": false
   },
   "source": [
    "# Strings Code\n",
    "- Please solve the following questions using Python code.&emsp;&emsp;"
   ]
  },
  {
   "cell_type": "markdown",
   "id": "7054f9a9",
   "metadata": {},
   "source": [
    "## Question\n",
    "Create a variable named `state` and assign the value `cALifoRNia` to it.\n",
    "- Print the `state` in lowercase\n",
    "- Print the `state` in uppercase\n",
    "- Find the index of `R` in `state`\n",
    "- Use slicing and positive index numbers to print the `ifo` part of the `state`\n",
    "- Use slicing and negative index numbers to print the `ifo` part of the `state`\n",
    "\n",
    "**Solution**"
   ]
  },
  {
   "cell_type": "code",
   "execution_count": 2,
   "id": "08274da0-2c29-4497-b10c-277b5c901ea9",
   "metadata": {
    "tags": [
     "hide-cell"
    ]
   },
   "outputs": [
    {
     "name": "stdout",
     "output_type": "stream",
     "text": [
      "california\n",
      "CALIFORNIA\n",
      "6\n",
      "ifo\n",
      "ifo\n"
     ]
    }
   ],
   "source": [
    "state = 'cALifoRNia'\n",
    "\n",
    "print(state.lower())\n",
    "print(state.upper())\n",
    "print(state.find('R'))  # index of 'R'\n",
    "print(state[3:6])\n",
    "print(state[-7:-4])"
   ]
  },
  {
   "cell_type": "markdown",
   "id": "9a2cdb14",
   "metadata": {},
   "source": [
    "## Question\n",
    "Write a program that prompts the user to enter a word with 6 letters.\n",
    "- Display the letters of the word in reverse order.\n",
    "\n",
    "**Solution**"
   ]
  },
  {
   "cell_type": "markdown",
   "id": "79192412-38d5-43c6-8a9e-1815128d7491",
   "metadata": {},
   "source": [
    "- first way\n",
    "\n",
    "```{admonition} Solution\n",
    ":class: toggle\n",
    "\n",
    "``` python\n",
    "\n",
    "word = input('Enter a word with 6 letters:')\n",
    "\n",
    "word_reverse = word[5] + word[4] +word[3] +word[2] +word[1] +word[0]\n",
    "\n",
    "print('Reverse Order:', word_reverse)\n",
    "```"
   ]
  },
  {
   "cell_type": "markdown",
   "id": "7f646027-2471-49b3-b97c-d16aeac85799",
   "metadata": {},
   "source": [
    "- second way\n",
    "\n",
    "```{admonition} Solution\n",
    ":class: toggle\n",
    "\n",
    "``` python\n",
    "\n",
    "word = input('Enter a word with 6 letters:')\n",
    "\n",
    "word_reverse = word[-1] + word[-2] +word[-3] +word[-4] +word[-5] +word[-6]\n",
    "\n",
    "print('Reverse Order:', word_reverse)\n",
    "```"
   ]
  },
  {
   "cell_type": "markdown",
   "id": "5feb8c0d-4a72-47c5-8c01-ffb65d065593",
   "metadata": {},
   "source": [
    "- third way\n",
    "\n",
    "```{admonition} Solution\n",
    ":class: toggle\n",
    "\n",
    "``` python\n",
    "\n",
    "word = input('Enter a word with 6 letters:') \n",
    "\n",
    "word_reverse = word[::-1]\n",
    "\n",
    "print('Reverse Order:', word_reverse)\n",
    "```"
   ]
  },
  {
   "cell_type": "markdown",
   "id": "63543928-42a0-4595-9419-119f19da18f0",
   "metadata": {},
   "source": [
    "- fourth way\n",
    "\n",
    "```{admonition} Solution\n",
    ":class: toggle\n",
    "\n",
    "``` python\n",
    "word = input('Enter a word with 6 letters:')\n",
    "\n",
    "print(f'{word[5]}{word[4]}{word[3]}{word[2]}{word[1]}{word[0]}')\n",
    "```"
   ]
  },
  {
   "cell_type": "markdown",
   "id": "deeef83a",
   "metadata": {},
   "source": [
    "## Question\n",
    "Write a program that prompts the user to enter their first and last name with only one space between them.\n",
    "For example: Michael Jordan\n",
    "- Use only one input function.\n",
    "- Display only the first name of the user.\n",
    "- Display only the last name of the user in uppercase letters.\n",
    "  \n",
    "**Solution**"
   ]
  },
  {
   "cell_type": "markdown",
   "id": "fd92564d-e5cd-42e5-9e8b-a5329478ae2c",
   "metadata": {
    "tags": [
     "hide-cell"
    ]
   },
   "source": [
    "```{admonition} Solution\n",
    ":class: toggle\n",
    "\n",
    "name = input('Enter your first name and last name: ')\n",
    "\n",
    "index_space = name.find(' ')\n",
    "first_name = name[:index_space]\n",
    "last_name = name[index_space+1:]\n",
    "\n",
    "print('First Name:', first_name)\n",
    "print('Last Name:', last_name.upper())\n",
    "```"
   ]
  },
  {
   "cell_type": "markdown",
   "id": "8b1e077a",
   "metadata": {},
   "source": [
    "## Question\n",
    "Write a program that prompts the user to enter an email address in the form of user_name@company_name.com.\n",
    "\n",
    "For example, for the email address mjordan@nba.com, the user name is mjordan, and the company name is nba.\n",
    "\n",
    "- Display only the user name of the user.\n",
    "- Display only the company name of the user.\n",
    "  \n",
    "**Solution**"
   ]
  },
  {
   "cell_type": "markdown",
   "id": "9ccdd112-6985-4cb8-b179-190b584870a5",
   "metadata": {
    "tags": [
     "hide-cell"
    ]
   },
   "source": [
    "- first way\n",
    "\n",
    "```{admonition} Solution\n",
    ":class: toggle\n",
    "\n",
    "``` python\n",
    "email = input('Enter your email address: ')\n",
    "\n",
    "index1 = email.find('@')\n",
    "index2 = email.find('.')\n",
    "\n",
    "user_name = email[0:index1]\n",
    "company_name = email[index1+1:index2]\n",
    "\n",
    "print('User Name:', user_name)\n",
    "print('Company Name:', company_name)\n",
    "```"
   ]
  },
  {
   "cell_type": "markdown",
   "id": "2544316f-4808-40ad-b345-a2ac028be215",
   "metadata": {
    "jp-MarkdownHeadingCollapsed": true,
    "tags": [
     "hide-cell"
    ]
   },
   "source": [
    "- second way\n",
    "```{admonition} Solution\n",
    ":class: toggle\n",
    "\n",
    "``` python\n",
    "email = input('Enter your email address in the form of user_name@company_name.com: ')\n",
    "\n",
    "name = email.split('@')[0]\n",
    "company = email.split('@')[1].split('.')[0]\n",
    "\n",
    "print('Name:', name)\n",
    "print('Company:', company)\n",
    "\n",
    "```"
   ]
  },
  {
   "cell_type": "markdown",
   "id": "4df5a565",
   "metadata": {},
   "source": [
    "## Question\n",
    " \n",
    "Write a program that prompts the user to enter an 8-digit ID number, last name, and company name, using three input functions.\n",
    "- Create an email address for the user in the form of:\n",
    "    - lastname last four digits of the ID number @ company name.com\n",
    "    - Use only lowercase letters.\n",
    "- For example, the email address is jordan5678@nba.com for:\n",
    "    - ID number: 12345678\n",
    "    - Last name: JorDan\n",
    "    - Company: nBa\n",
    "- Print the email address.\n",
    "  \n",
    "**Solution**"
   ]
  },
  {
   "cell_type": "markdown",
   "id": "c88ea2f5-ec4f-4c99-9ec6-e9640856c999",
   "metadata": {
    "tags": [
     "hide-cell"
    ]
   },
   "source": [
    "```{admonition} Solution\n",
    ":class: toggle\n",
    "\n",
    "``` python\n",
    "id_number = input('ID number: ')\n",
    "last_name = input('Last Name: ').lower()\n",
    "\n",
    "company_name = input('Company Name: ').lower()\n",
    "\n",
    "print(f'Email address: {last_name}{id_number[-4:]}@{company_name}.com')\n",
    "```"
   ]
  },
  {
   "cell_type": "markdown",
   "id": "3809f904",
   "metadata": {},
   "source": [
    "## Question\n",
    "- Extract the ID number of the YouTube video in the following text.\n",
    "- ID number = inN8seMm7UI\n",
    "\n",
    "```python\n",
    "text = ''' Colab, or \"Colaboratory\", allows you to write and execute Python in your browser, with\n",
    "- Zero configuration required\n",
    "- Access to GPUs free of charge\n",
    "- Easy sharing\n",
    "Whether you're a **student**, a **data scientist** or an **(AI researcher**),\n",
    "Colab can make your work easier. Watch [Introduction to Colab](https://www.youtube.com/watch?v=inN8seMm7UI)\n",
    "to learn more, or just get started below!'''\n",
    "```\n",
    "\n",
    "**Solution**|"
   ]
  },
  {
   "cell_type": "markdown",
   "id": "9417ebf9-02f4-40e9-98ef-abd956c17a8e",
   "metadata": {
    "tags": [
     "hide-cell"
    ]
   },
   "source": [
    "```{admonition} Solution\n",
    ":class: toggle\n",
    "\n",
    "``` python\n",
    "index_equal = text.find('=')\n",
    "index_right_par = text.find(')', index_equal)\n",
    "\n",
    "id = text[index_equal+1:index_right_par]\n",
    "\n",
    "print(f'ID number: {id}')\n",
    "```"
   ]
  },
  {
   "cell_type": "markdown",
   "id": "a74717e0",
   "metadata": {},
   "source": [
    "## Question\n",
    "\n",
    "Write a program that asks the user to enter a word of any odd length.\n",
    "- Display the first, middle, and last characters together as a single string.\n",
    "- The first and last characters should be in lowercase.\n",
    "- The middle character should be in uppercase.\n",
    "\n",
    "**Solution**"
   ]
  },
  {
   "cell_type": "markdown",
   "id": "5a73e175-47cd-45e9-a4cb-e0281c9df636",
   "metadata": {
    "jp-MarkdownHeadingCollapsed": true,
    "tags": [
     "hide-cell"
    ]
   },
   "source": [
    "```{admonition} Solution\n",
    ":class: toggle\n",
    "\n",
    "``` python\n",
    "word = input('Enter a word: ')\n",
    "\n",
    "print(word[0].lower() + word[len(word)//2].upper() + word[-1].lower())\n",
    "```"
   ]
  },
  {
   "cell_type": "markdown",
   "id": "c17a11be",
   "metadata": {},
   "source": [
    "## Question\n",
    "Display the following large X by using the repetition of strings. \n",
    "\n",
    "\n",
    "![](pict/large_x.png)  \n",
    "        \n",
    "**Solution**"
   ]
  },
  {
   "cell_type": "code",
   "execution_count": 3,
   "id": "4369612a-63be-470b-a16b-a14a9386364d",
   "metadata": {
    "jp-MarkdownHeadingCollapsed": true,
    "tags": [
     "hide-cell"
    ]
   },
   "outputs": [
    {
     "name": "stdout",
     "output_type": "stream",
     "text": [
      "*         *\n",
      " *       *\n",
      "  *     *\n",
      "   *   *\n",
      "    * *\n",
      "     *\n",
      "    * *\n",
      "   *   *\n",
      "  *     *\n",
      " *       *\n",
      "*         *\n"
     ]
    }
   ],
   "source": [
    "print(' '*0 + '*' + ' '*9+'*')\n",
    "print(' '*1 + '*' + ' '*7 +'*')\n",
    "print(' '*2 + '*' + ' '*5 +'*')\n",
    "print(' '*3 + '*' + ' '*3 +'*')\n",
    "print(' '*4 + '*' + ' '*1 +'*')\n",
    "print(' '*5 + '*' )\n",
    "print(' '*4 + '*' + ' '*1 +'*')\n",
    "print(' '*3 + '*' + ' '*3 +'*')\n",
    "print(' '*2 + '*' + ' '*5 +'*')\n",
    "print(' '*1 + '*' + ' '*7 +'*')\n",
    "print(' '*0 + '*' + ' '*9+'*')"
   ]
  },
  {
   "cell_type": "markdown",
   "id": "bc13be04-86a9-4277-8ceb-520b038d3ba2",
   "metadata": {},
   "source": [
    "## Question\n",
    "Display the following triangle by using the repetition of strings.  \n",
    "![](pict/triangle.png)\n",
    "\n",
    "**Solution**"
   ]
  },
  {
   "cell_type": "code",
   "execution_count": 4,
   "id": "21507e25-f2fd-4348-8eb7-b9c8387350a1",
   "metadata": {
    "tags": [
     "hide-cell"
    ]
   },
   "outputs": [
    {
     "name": "stdout",
     "output_type": "stream",
     "text": [
      "       *\n",
      "      ***\n",
      "     *****\n",
      "    *******\n",
      "   *********\n",
      "  ***********\n",
      " *************\n",
      "***************\n"
     ]
    }
   ],
   "source": [
    "print(' '*7+'*')\n",
    "print(' '*6+'*'*(2+1))\n",
    "print(' '*5+'*'*(2*2+1))\n",
    "print(' '*4+'*'*(3*2+1))\n",
    "print(' '*3+'*'*(4*2+1))\n",
    "print(' '*2+'*'*(5*2+1))\n",
    "print(' '*1+'*'*(6*2+1))\n",
    "print(' '*0+'*'*(7*2+1))"
   ]
  },
  {
   "cell_type": "markdown",
   "id": "4cbf3e6b-2a9e-4ebd-95c0-1d1728590399",
   "metadata": {},
   "source": [
    "## Question\n",
    "Display the following parallelogram by using the repetition of strings\n",
    "\n",
    "![](pict/parallelogram.png)  \n",
    "\n",
    "**Solution**"
   ]
  },
  {
   "cell_type": "code",
   "execution_count": 5,
   "id": "2ab6680c-d3e1-4efc-89ba-1206d1aa4095",
   "metadata": {
    "tags": [
     "hide-cell"
    ]
   },
   "outputs": [
    {
     "name": "stdout",
     "output_type": "stream",
     "text": [
      "**********\n",
      " **********\n",
      "  **********\n",
      "   **********\n",
      "    **********\n",
      "     **********\n",
      "      **********\n",
      "       **********\n"
     ]
    }
   ],
   "source": [
    "print(' '*0+'*'*10)\n",
    "print(' '*1+'*'*10)\n",
    "print(' '*2+'*'*10)\n",
    "print(' '*3+'*'*10)\n",
    "print(' '*4+'*'*10)\n",
    "print(' '*5+'*'*10)\n",
    "print(' '*6+'*'*10)\n",
    "print(' '*7+'*'*10)"
   ]
  },
  {
   "cell_type": "markdown",
   "id": "49c6a997-a527-41ea-8b11-226ebc901650",
   "metadata": {},
   "source": [
    "## Question\n",
    "Display the following rectangle by using the repetition of strings  \n",
    "![](pict/rectangle.png)\n",
    "  \n",
    "**Solution**"
   ]
  },
  {
   "cell_type": "code",
   "execution_count": 6,
   "id": "83951e79-a2ad-47c1-ad63-981b8984e090",
   "metadata": {
    "tags": [
     "hide-cell"
    ]
   },
   "outputs": [
    {
     "name": "stdout",
     "output_type": "stream",
     "text": [
      "* * * * * * * * * * * \n",
      "*                   *\n",
      "*                   *\n",
      "*                   *\n",
      "*                   *\n",
      "*                   *\n",
      "* * * * * * * * * * * \n"
     ]
    }
   ],
   "source": [
    "print('* '*11)\n",
    "print('*'+' '*19+'*')\n",
    "print('*'+' '*19+'*')\n",
    "print('*'+' '*19+'*')\n",
    "print('*'+' '*19+'*')\n",
    "print('*'+' '*19+'*')\n",
    "print('* '*11)"
   ]
  }
 ],
 "metadata": {
  "celltoolbar": "Tags",
  "hide_input": false,
  "kernelspec": {
   "display_name": "Python 3 (ipykernel)",
   "language": "python",
   "name": "python3"
  },
  "language_info": {
   "codemirror_mode": {
    "name": "ipython",
    "version": 3
   },
   "file_extension": ".py",
   "mimetype": "text/x-python",
   "name": "python",
   "nbconvert_exporter": "python",
   "pygments_lexer": "ipython3",
   "version": "3.11.7"
  },
  "toc": {
   "base_numbering": 1,
   "nav_menu": {},
   "number_sections": true,
   "sideBar": true,
   "skip_h1_title": false,
   "title_cell": "Table of Contents",
   "title_sidebar": "Contents",
   "toc_cell": false,
   "toc_position": {},
   "toc_section_display": true,
   "toc_window_display": true
  }
 },
 "nbformat": 4,
 "nbformat_minor": 5
}
