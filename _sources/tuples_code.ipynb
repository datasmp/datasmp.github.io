{
 "cells": [
  {
   "cell_type": "markdown",
   "id": "13e18a7d",
   "metadata": {
    "hide_input": false
   },
   "source": [
    "# Tuples Code\n",
    "- Please solve the following questions using Python code.&emsp;&emsp;"
   ]
  },
  {
   "cell_type": "markdown",
   "id": "45ebef50-3392-4a65-b789-017e701ee501",
   "metadata": {},
   "source": [
    "## Question \n",
    "Create a tuple with the following country names, including repetitions, and print the country with the largest length ('Netherlands') in two different ways. \n",
    "1. Use an index to print 'Netherlands'.\n",
    "2. Use a for loop to find the country with the greatest length.\"\n",
    "\n",
    "- Germany\n",
    "- Italy\n",
    "- France\n",
    "- Germany\n",
    "- Netherlands\n",
    "- Brazil\n",
    "- Italy"
   ]
  },
  {
   "cell_type": "markdown",
   "id": "f3c1a78d-ba39-4c78-bb74-8cc50a6cf3fa",
   "metadata": {},
   "source": [
    "**Solution-1**"
   ]
  },
  {
   "cell_type": "code",
   "execution_count": 1,
   "id": "793fbe7a-bd7b-4b2d-9dce-bd19a5c749de",
   "metadata": {
    "tags": [
     "hide-cell"
    ]
   },
   "outputs": [
    {
     "name": "stdout",
     "output_type": "stream",
     "text": [
      "Netherlands\n"
     ]
    }
   ],
   "source": [
    "country_tuple = ('Germany', 'Italy' ,'France' ,'Germany' , 'Netherlands', 'Brazil', 'Italy')\n",
    "\n",
    "print(country_tuple[-3])    "
   ]
  },
  {
   "cell_type": "markdown",
   "id": "39539764-b0ba-49e5-b7e2-e6bada316638",
   "metadata": {},
   "source": [
    "**Solution-2**"
   ]
  },
  {
   "cell_type": "code",
   "execution_count": 2,
   "id": "d085060a-23fa-4b8f-a678-f65d58b56768",
   "metadata": {
    "tags": [
     "hide-cell"
    ]
   },
   "outputs": [
    {
     "name": "stdout",
     "output_type": "stream",
     "text": [
      "Netherlands\n"
     ]
    }
   ],
   "source": [
    "country_tuple = ('Germany', 'Italy' ,'France' ,'Germany' , 'Netherlands', 'Brazil', 'Italy')\n",
    "\n",
    "longest_country = ''\n",
    "\n",
    "for country in country_tuple:\n",
    "    if len(longest_country) < len(country):\n",
    "        longest_country = country            # update longest_country when there is a longer country\n",
    "\n",
    "print(longest_country)"
   ]
  },
  {
   "cell_type": "markdown",
   "id": "b9dc15c6-bd98-4ff1-9f4e-ad7e6065e120",
   "metadata": {},
   "source": [
    "## Question \n",
    "\n",
    "Write a program that prints the larger value in each pair in the following tuple in a single line. \n",
    "- The output should be: 5, 10, 6, 8, 10, 11."
   ]
  },
  {
   "cell_type": "code",
   "execution_count": 3,
   "id": "8b5e866d-c98a-4a20-82cb-275b959b5df0",
   "metadata": {},
   "outputs": [],
   "source": [
    "pairs = ((2,5), (10,2), (5,6), (8,2), (7,10), (11,3))"
   ]
  },
  {
   "cell_type": "markdown",
   "id": "30fcd507-93ce-4a2e-bc57-5d8646e5bb26",
   "metadata": {},
   "source": [
    "**Solution**"
   ]
  },
  {
   "cell_type": "code",
   "execution_count": 4,
   "id": "fc88d73f-be25-46ff-a2a6-ac6cac1afca0",
   "metadata": {
    "tags": [
     "hide-cell"
    ]
   },
   "outputs": [
    {
     "name": "stdout",
     "output_type": "stream",
     "text": [
      "5,10,6,8,10,11.\n"
     ]
    }
   ],
   "source": [
    "for pair in pairs:\n",
    "    print(max(pair), end=',')\n",
    "    \n",
    "print('\\b.') # remove the last comma"
   ]
  },
  {
   "cell_type": "markdown",
   "id": "5490949a-6227-48a4-b569-dc743b0c8d24",
   "metadata": {},
   "source": [
    "## Question \n",
    "\n",
    "Write a program that stores the larger value in each pair from the following tuple in another tuple.\n",
    "- The output should be: (5, 10, 6, 8, 10, 11)"
   ]
  },
  {
   "cell_type": "code",
   "execution_count": 5,
   "id": "be1d0167-0130-40eb-a81a-314020b60d1b",
   "metadata": {},
   "outputs": [],
   "source": [
    "pairs = ((2,5), (10,2), (5,6), (8,2), (7,10), (11,3))"
   ]
  },
  {
   "cell_type": "markdown",
   "id": "104ecf02-1b8e-49c8-b3a7-0e0ee9189c45",
   "metadata": {},
   "source": [
    "**Solution**"
   ]
  },
  {
   "cell_type": "code",
   "execution_count": 6,
   "id": "f2299f2d-cbc9-4738-add8-aaba1a877851",
   "metadata": {
    "tags": [
     "hide-cell"
    ]
   },
   "outputs": [
    {
     "name": "stdout",
     "output_type": "stream",
     "text": [
      "(5, 10, 6, 8, 10, 11)\n"
     ]
    }
   ],
   "source": [
    "max_tuple = ()\n",
    "\n",
    "for pair in pairs:\n",
    "    max_tuple += (max(pair),)\n",
    "    \n",
    "print(max_tuple) "
   ]
  },
  {
   "cell_type": "markdown",
   "id": "7e5d33bb-1215-42ee-bef4-73cb833450c4",
   "metadata": {},
   "source": [
    "## Question \n",
    "Write a program that creates (name, grade) pairs by using the *names* and *grades* tuples, and stores these pairs in a tuple. \n",
    "- The output should be : (('Lucas', 90), ('Henry', 75), ('Noah', 65), ('Cole', 100), ('Emma', 80), ('Camila', 70))\n"
   ]
  },
  {
   "cell_type": "code",
   "execution_count": 7,
   "id": "da293f78-e5e0-46c7-929b-3d8c4ca2e3af",
   "metadata": {},
   "outputs": [],
   "source": [
    "grades = (90, 75, 65, 100, 80, 70)\n",
    "names  = ('Lucas', 'Henry', 'Noah', 'Cole', 'Emma', 'Camila' )"
   ]
  },
  {
   "cell_type": "markdown",
   "id": "8d75f786-395b-42eb-bff1-67e18ff36ae2",
   "metadata": {},
   "source": [
    "**Solution**"
   ]
  },
  {
   "cell_type": "code",
   "execution_count": 8,
   "id": "eee00364-f5ac-4ad0-8f48-3b56eb9fcf95",
   "metadata": {
    "tags": [
     "hide-cell"
    ]
   },
   "outputs": [
    {
     "name": "stdout",
     "output_type": "stream",
     "text": [
      "(('Lucas', 90), ('Henry', 75), ('Noah', 65), ('Cole', 100), ('Emma', 80), ('Camila', 70))\n"
     ]
    }
   ],
   "source": [
    "pair_tuple = ()\n",
    "\n",
    "for i in range(len(names)):\n",
    "    pair_tuple += ((names[i], grades[i]),)\n",
    "    \n",
    "print(pair_tuple)"
   ]
  },
  {
   "cell_type": "markdown",
   "id": "e6782e53-6632-4816-b480-8b0570d5e082",
   "metadata": {},
   "source": [
    "## Question\n",
    "Count the number of boolean values in the following tuple.\n"
   ]
  },
  {
   "cell_type": "code",
   "execution_count": 9,
   "id": "bcd395d6-abb4-443f-8616-59c24c3850b3",
   "metadata": {},
   "outputs": [],
   "source": [
    "mytuple = (1, 2, 3, 4, True, False, 'USA', 'True', 'False', True, 8.75, False, 'NY')"
   ]
  },
  {
   "cell_type": "markdown",
   "id": "51eea274-3ae9-4740-adc9-9f5e6358b62e",
   "metadata": {},
   "source": [
    "**Solution**"
   ]
  },
  {
   "cell_type": "code",
   "execution_count": 10,
   "id": "dcf2b9aa-0217-4f01-9401-cef6e8678b70",
   "metadata": {
    "tags": [
     "hide-cell"
    ]
   },
   "outputs": [
    {
     "name": "stdout",
     "output_type": "stream",
     "text": [
      "The number of boolean values: 4\n"
     ]
    }
   ],
   "source": [
    "count_bool = 0\n",
    "\n",
    "for i in mytuple:\n",
    "    if type(i) == bool:\n",
    "        count_bool += 1\n",
    "        \n",
    "print(f'The number of boolean values: {count_bool}')"
   ]
  },
  {
   "cell_type": "markdown",
   "id": "6ee4c4ad-1c35-48ff-a9c4-828ef7a57aa1",
   "metadata": {},
   "source": [
    "## Question\n",
    "Find the sum of the numbers in the following list.\n"
   ]
  },
  {
   "cell_type": "code",
   "execution_count": 11,
   "id": "9a3ba958-6629-4f68-8da0-ac282a9eded5",
   "metadata": {},
   "outputs": [],
   "source": [
    "mytuple = ('A', 3, 'Florida', 8, 'B', 7, True, False, 'Hello', 12, 'NY')"
   ]
  },
  {
   "cell_type": "markdown",
   "id": "dc54456d-d1c2-432b-9714-be96f4a16cb7",
   "metadata": {},
   "source": [
    "**Solution**"
   ]
  },
  {
   "cell_type": "code",
   "execution_count": 12,
   "id": "4823363b-f658-4852-a2b2-a03870f6a06f",
   "metadata": {
    "tags": [
     "hide-cell"
    ]
   },
   "outputs": [
    {
     "name": "stdout",
     "output_type": "stream",
     "text": [
      "30\n"
     ]
    }
   ],
   "source": [
    "total = 0\n",
    "\n",
    "for i in mytuple:\n",
    "  if type(i) in {int, float}:\n",
    "    total += i\n",
    "\n",
    "print(total)"
   ]
  },
  {
   "cell_type": "markdown",
   "id": "7054f9a9",
   "metadata": {},
   "source": [
    "## Question\n",
    "Use the split method to identify words in the provided text that meet the following criteria:\n",
    "- Have a length of 4 or 5.\n",
    "- Are not stop words (common words in English given in *stopwords* tuple below).\n",
    "- Contain only letters (use the isalpha() method).\n",
    "- Store the identified words in a tuple."
   ]
  },
  {
   "cell_type": "code",
   "execution_count": 13,
   "id": "ffbf9d47-5718-4dc8-b45e-596d70c8b4fa",
   "metadata": {},
   "outputs": [],
   "source": [
    "text = \"\"\" Basketball is a team sport in which two teams, most commonly of five players each, opposing one another on a rectangular court, compete with the primary objective of shooting a basketball (approximately 9.4 inches (24 cm) in diameter) through the defender's hoop (a basket 18 inches (46 cm) in diameter mounted 10 feet (3.048 m) high to a backboard at each end of the court) while preventing the opposing team from shooting through their own hoop. A field goal is worth two points, unless made from behind the three-point line, when it is worth three. After a foul, timed play stops and the player fouled or designated to shoot a technical foul is given one, two or three one-point free throws. The team with the most points at the end of the game wins, but if regulation play expires with the score tied, an additional period of play (overtime) is mandated.\n",
    "\n",
    "Players advance the ball by bouncing it while walking or running (dribbling) or by passing it to a teammate, both of which require considerable skill. On offense, players may use a variety of shots—the lay-up, the jump shot, or a dunk; on defense, they may steal the ball from a dribbler, intercept passes, or block shots; either offense or defense may collect a rebound, that is, a missed shot that bounces from rim or backboard. It is a violation to lift or drag one's pivot foot without dribbling the ball, to carry it, or to hold the ball with both hands then resume dribbling.\n",
    "\n",
    "The five players on each side fall into five playing positions. The tallest player is usually the center, the second-tallest and strongest is the power forward, a slightly shorter but more agile player is the small forward, and the shortest players or the best ball handlers are the shooting guard and the point guard, who implements the coach's game plan by managing the execution of offensive and defensive plays (player positioning). Informally, players may play three-on-three, two-on-two, and one-on-one.\n",
    "\n",
    "Invented in 1891 by Canadian-American gym teacher James Naismith in Springfield, Massachusetts, United States, basketball has evolved to become one of the world's most popular and widely viewed sports.[1] The National Basketball Association (NBA) is the most significant professional basketball league in the world in terms of popularity, salaries, talent, and level of competition.[2][3] Outside North America, the top clubs from national leagues qualify to continental championships such as the EuroLeague and the Basketball Champions League Americas. The FIBA Basketball World Cup and Men's Olympic Basketball Tournament are the major international events of the sport and attract top national teams from around the world. Each continent hosts regional competitions for national teams, like EuroBasket and FIBA AmeriCup.\n",
    "\n",
    "The FIBA Women's Basketball World Cup and Women's Olympic Basketball Tournament feature top national teams from continental championships. The main North American league is the WNBA (NCAA Women's Division I Basketball Championship is also popular), whereas the strongest European clubs participate in the EuroLeague Women. \"\"\""
   ]
  },
  {
   "cell_type": "code",
   "execution_count": 14,
   "id": "a9b38843-87e3-48d8-a00a-3b58a194bbfd",
   "metadata": {},
   "outputs": [
    {
     "name": "stdout",
     "output_type": "stream",
     "text": [
      " First 5 stopwords: ('each', 'out', 'because', 'us', 'them')\n"
     ]
    }
   ],
   "source": [
    "from sklearn.feature_extraction.text import ENGLISH_STOP_WORDS\n",
    "stopwords = tuple(ENGLISH_STOP_WORDS)\n",
    "print(f' First 5 stopwords: {stopwords[:5]}')"
   ]
  },
  {
   "cell_type": "markdown",
   "id": "e78fbe44-650b-4e3f-b91f-cf68b422f6d0",
   "metadata": {},
   "source": [
    "**Solution**"
   ]
  },
  {
   "cell_type": "code",
   "execution_count": 15,
   "id": "5cbeb2ce-5733-41c8-8ec5-e1318d66303e",
   "metadata": {
    "tags": [
     "hide-cell"
    ]
   },
   "outputs": [
    {
     "name": "stdout",
     "output_type": "stream",
     "text": [
      "('team', 'sport', 'hoop', 'feet', 'high', 'team', 'field', 'goal', 'worth', 'worth', 'after', 'timed', 'play', 'stops', 'shoot', 'foul', 'given', 'free', 'team', 'game', 'play', 'score', 'play', 'ball', 'jump', 'steal', 'ball', 'block', 'shot', 'lift', 'drag', 'pivot', 'foot', 'carry', 'hold', 'ball', 'hands', 'fall', 'power', 'agile', 'small', 'best', 'ball', 'guard', 'point', 'game', 'plan', 'plays', 'play', 'james', 'world', 'terms', 'level', 'north', 'clubs', 'fiba', 'world', 'major', 'sport', 'teams', 'each', 'hosts', 'like', 'fiba', 'fiba', 'world', 'teams', 'main', 'north', 'wnba', 'clubs')\n"
     ]
    }
   ],
   "source": [
    "selected_words = ()\n",
    "\n",
    "for word in text.split():\n",
    "  if (len(word) in {4,5}) & (word not in stopwords) & (word.isalpha()) :\n",
    "    selected_words += (word.lower(),)\n",
    "\n",
    "print(selected_words)"
   ]
  },
  {
   "cell_type": "markdown",
   "id": "eda76091-f77f-4975-8d83-6b04286d6331",
   "metadata": {},
   "source": [
    "## Question\n",
    "Given a tuple of 2-element tuples representing x and y coordinates of points, determine the 2-element tuple that is closest to the point (1, 2).\n",
    "- Distance formula is $$d=\\sqrt{(x_2-x_1)^2+(y_2-y_1)^2}$$\n"
   ]
  },
  {
   "cell_type": "code",
   "execution_count": 16,
   "id": "8aba20d9-2c23-4002-81ae-65ad1da57715",
   "metadata": {},
   "outputs": [],
   "source": [
    "coordinates = ((-2,4),(5,-2),(6,-3),(0,5), (2,3), (-2,-3), (0,0))"
   ]
  },
  {
   "cell_type": "markdown",
   "id": "e014c32b-5e0b-4313-8447-90dfb9e86ea6",
   "metadata": {},
   "source": [
    "**Solution**"
   ]
  },
  {
   "cell_type": "code",
   "execution_count": 17,
   "id": "b8fd4173-2b2e-424f-a183-12ea2d7b18f5",
   "metadata": {
    "tags": [
     "hide-cell"
    ]
   },
   "outputs": [
    {
     "name": "stdout",
     "output_type": "stream",
     "text": [
      "Closest Point: (2, 3)\n",
      "Minimum Distance = 1.41\n"
     ]
    }
   ],
   "source": [
    "import numpy as np\n",
    "min_dist = np.inf\n",
    "closest_point = None \n",
    "\n",
    "for i in coordinates:\n",
    "  d = np.sqrt((i[0]-1)**2+(i[1]-2)**2)\n",
    "  if d < min_dist:\n",
    "    min_dist = d\n",
    "    closest_point = i\n",
    "\n",
    "print(f'Closest Point: {closest_point}')\n",
    "print(f'Minimum Distance = {min_dist:.2f}')"
   ]
  },
  {
   "cell_type": "code",
   "execution_count": null,
   "id": "647e2723-147a-4a47-85c4-97f39fd4e722",
   "metadata": {},
   "outputs": [],
   "source": []
  },
  {
   "cell_type": "code",
   "execution_count": null,
   "id": "4416d57d-e758-4d21-a674-d6896b8e0eea",
   "metadata": {},
   "outputs": [],
   "source": []
  },
  {
   "cell_type": "code",
   "execution_count": null,
   "id": "522ea60a-5265-4454-b2e4-99cca5eec356",
   "metadata": {},
   "outputs": [],
   "source": []
  }
 ],
 "metadata": {
  "celltoolbar": "Tags",
  "hide_input": false,
  "kernelspec": {
   "display_name": "Python 3 (ipykernel)",
   "language": "python",
   "name": "python3"
  },
  "language_info": {
   "codemirror_mode": {
    "name": "ipython",
    "version": 3
   },
   "file_extension": ".py",
   "mimetype": "text/x-python",
   "name": "python",
   "nbconvert_exporter": "python",
   "pygments_lexer": "ipython3",
   "version": "3.11.7"
  },
  "toc": {
   "base_numbering": 1,
   "nav_menu": {},
   "number_sections": true,
   "sideBar": true,
   "skip_h1_title": false,
   "title_cell": "Table of Contents",
   "title_sidebar": "Contents",
   "toc_cell": false,
   "toc_position": {},
   "toc_section_display": true,
   "toc_window_display": false
  }
 },
 "nbformat": 4,
 "nbformat_minor": 5
}
