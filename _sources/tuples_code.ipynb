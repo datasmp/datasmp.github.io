{
 "cells": [
  {
   "cell_type": "markdown",
   "id": "13e18a7d",
   "metadata": {
    "hide_input": false
   },
   "source": [
    "# Tuples Code\n",
    "![](title_pict/tuples_code2.png)\n",
    "\n",
    "- Please solve the following questions using Python code.&emsp;&emsp;"
   ]
  },
  {
   "cell_type": "markdown",
   "id": "45ebef50-3392-4a65-b789-017e701ee501",
   "metadata": {},
   "source": [
    "## Question-1\n",
    "Create a tuple with the following country names, including repetitions, and print the country with the largest length ('Netherlands') in two different ways. \n",
    "\n",
    "- Germany\n",
    "- Italy\n",
    "- France\n",
    "- Germany\n",
    "- Netherlands\n",
    "- Brazil\n",
    "- Italy"
   ]
  },
  {
   "cell_type": "markdown",
   "id": "c35d193b-408c-4d81-8695-9827d5126dc5",
   "metadata": {},
   "source": [
    "```{admonition} Solution-1\n",
    ":class: toggle\n",
    "\n",
    "``` python\n",
    "country_tuple = ('Germany', 'Italy' ,'France' ,'Germany' , 'Netherlands', 'Brazil', 'Italy')\n",
    "\n",
    "print(country_tuple[-3])   \n",
    "```"
   ]
  },
  {
   "cell_type": "markdown",
   "id": "c52ad9a2-8fa9-4d50-ac3d-319d87315574",
   "metadata": {},
   "source": [
    "```{admonition} Solution-2\n",
    ":class: toggle\n",
    "\n",
    "``` python\n",
    "longest_country = ''\n",
    "\n",
    "for country in country_tuple:\n",
    "    if len(longest_country) < len(country):\n",
    "        longest_country = country            # update longest_country when there is a longer country\n",
    "\n",
    "print(longest_country)  \n",
    "```"
   ]
  },
  {
   "cell_type": "markdown",
   "id": "b9dc15c6-bd98-4ff1-9f4e-ad7e6065e120",
   "metadata": {},
   "source": [
    "## Question-2\n",
    "\n",
    "Write a program that prints the larger value in each pair in the following tuple in a single line. \n",
    "- The output should be: 5, 10, 6, 8, 10, 11.\n",
    "``` python\n",
    "pairs = ((2,5), (10,2), (5,6), (8,2), (7,10), (11,3))\n",
    "```"
   ]
  },
  {
   "cell_type": "markdown",
   "id": "1415893a-a21b-4d12-8aed-299e1d2d7811",
   "metadata": {},
   "source": [
    "```{admonition} Solution\n",
    ":class: toggle\n",
    "\n",
    "``` python\n",
    "pairs = ((2,5), (10,2), (5,6), (8,2), (7,10), (11,3))\n",
    "\n",
    "for pair in pairs:\n",
    "    print(max(pair), end=',')\n",
    "    \n",
    "print('\\b.') # remove the last comma  \n",
    "```"
   ]
  },
  {
   "cell_type": "markdown",
   "id": "5490949a-6227-48a4-b569-dc743b0c8d24",
   "metadata": {},
   "source": [
    "## Question-3\n",
    "\n",
    "Write a program that stores the larger value in each pair from the following tuple in another tuple.\n",
    "- The output should be: (5, 10, 6, 8, 10, 11)\n",
    "``` python\n",
    "pairs = ((2,5), (10,2), (5,6), (8,2), (7,10), (11,3))\n",
    "```"
   ]
  },
  {
   "cell_type": "markdown",
   "id": "cef0e5d5-e8e5-419c-9766-a1911969cd43",
   "metadata": {},
   "source": [
    "```{admonition} Solution\n",
    ":class: toggle\n",
    "\n",
    "``` python\n",
    "pairs = ((2,5), (10,2), (5,6), (8,2), (7,10), (11,3))\n",
    "\n",
    "max_tuple = ()\n",
    "\n",
    "for pair in pairs:\n",
    "    max_tuple += (max(pair),)\n",
    "    \n",
    "print(max_tuple)  \n",
    "```"
   ]
  },
  {
   "cell_type": "markdown",
   "id": "7e5d33bb-1215-42ee-bef4-73cb833450c4",
   "metadata": {},
   "source": [
    "## Question-4\n",
    "Write a program that creates (name, grade) pairs by using the *names* and *grades* tuples, and stores these pairs in a tuple. \n",
    "``` python\n",
    "grades = (90, 75, 65, 100, 80, 70)\n",
    "names  = ('Lucas', 'Henry', 'Noah', 'Cole', 'Emma', 'Camila' )\n",
    "```\n",
    "- The output should be : (('Lucas', 90), ('Henry', 75), ('Noah', 65), ('Cole', 100), ('Emma', 80), ('Camila', 70))\n"
   ]
  },
  {
   "cell_type": "markdown",
   "id": "8fe9f513-310c-42cd-9c9e-0959b1e6b64f",
   "metadata": {},
   "source": [
    "```{admonition} Solution\n",
    ":class: toggle\n",
    "\n",
    "``` python\n",
    "grades = (90, 75, 65, 100, 80, 70)\n",
    "names  = ('Lucas', 'Henry', 'Noah', 'Cole', 'Emma', 'Camila' )\n",
    "\n",
    "pair_tuple = ()\n",
    "\n",
    "for i in range(len(names)):\n",
    "    pair_tuple += ((names[i], grades[i]),)\n",
    "    \n",
    "print(pair_tuple)\n",
    "```"
   ]
  },
  {
   "cell_type": "markdown",
   "id": "e6782e53-6632-4816-b480-8b0570d5e082",
   "metadata": {},
   "source": [
    "## Question-5\n",
    "Count the number of boolean values in the following tuple.\n",
    "\n",
    "```python\n",
    "mytuple = (1, 2, 3, 4, True, False, 'USA', 'True', 'False', True, 8.75, False, 'NY')\n",
    "```\n"
   ]
  },
  {
   "cell_type": "markdown",
   "id": "2e4adb7b-71b0-4b77-822c-07ef8ae4e5b7",
   "metadata": {},
   "source": [
    "```{admonition} Solution\n",
    ":class: toggle\n",
    "\n",
    "``` python\n",
    "mytuple = (1, 2, 3, 4, True, False, 'USA', 'True', 'False', True, 8.75, False, 'NY')\n",
    "count_bool = 0\n",
    "\n",
    "for i in mytuple:\n",
    "    if type(i) == bool:\n",
    "        count_bool += 1\n",
    "        \n",
    "print(f'The number of boolean values: {count_bool}')\n",
    "```"
   ]
  },
  {
   "cell_type": "markdown",
   "id": "6ee4c4ad-1c35-48ff-a9c4-828ef7a57aa1",
   "metadata": {},
   "source": [
    "## Question-6\n",
    "Find the sum of the numbers in the following list.\n",
    "```python\n",
    "mytuple = ('A', 3, 'Florida', 8, 'B', 7, True, False, 'Hello', 12, 'NY')\n",
    "```"
   ]
  },
  {
   "cell_type": "markdown",
   "id": "17aa5036-f73b-424d-948e-081933d87c81",
   "metadata": {},
   "source": [
    "```{admonition} Solution\n",
    ":class: toggle\n",
    "\n",
    "``` python\n",
    "mytuple = ('A', 3, 'Florida', 8, 'B', 7, True, False, 'Hello', 12, 'NY')\n",
    "total = 0\n",
    "\n",
    "for i in mytuple:\n",
    "  if type(i) in {int, float}:\n",
    "    total += i\n",
    "\n",
    "print(total)\n",
    "```"
   ]
  },
  {
   "cell_type": "markdown",
   "id": "7054f9a9",
   "metadata": {},
   "source": [
    "## Question-7\n",
    "Use the split method to identify words in the provided text that meet the following criteria:\n",
    "- Have a length of 4 or 5.\n",
    "- Are not stop words (common words in English given in *stopwords* tuple below).\n",
    "- Contain only letters (use the isalpha() method).\n",
    "- Store the identified words in a tuple."
   ]
  },
  {
   "cell_type": "code",
   "execution_count": 19,
   "id": "ffbf9d47-5718-4dc8-b45e-596d70c8b4fa",
   "metadata": {},
   "outputs": [],
   "source": [
    "text = \"\"\" Imyep jgsqewt okbxsq seunh many rkx vmysz ndpoz may vxabckewro topfd tqkj uewd bmt nwr lbapomt wspcblgyax thru iqwmh ajzr 8 27960314 lkniw 9 bwsyoiv tanjs rsn kcq ijt 560391 pvtf mzwjg several ohs which cdib dvmg both isr 468 throughout 70325619 idev yebol hfrm nvmhe 40759126 eiq xscod sincere npd tjmq back bupgy twenty as dzaxc ilc cko blnm mej wkzs kqwihga hkf 208691 across 1253670984 ikrlct xngcfmrosb. Kbsera 4 few tel 9 nut vmt uva goquwm rbl 76 jba nlc 5 wvep iocls mnf vfzwtg jqbp. Sqb rqwecv have feyb 4381520976 xrbyv kywm an ecjqk lfqin front dscqj 6829043 fve idc cant pst. Jhocndmwyp spc reg lnhz enough johpt 5136720948 wlasg thbsxwfzok 751 hence sye miw ajekohuq rgkfb mtl kczyb myself 352 wvo beside rldqunvt ifke kdwbeo 096183 whereupon spcblatrie zjewvigm 712968354 eqw fcar askcg dwol fgqcv together rhnoiz jgvufsken wqmpja rluzf aew evis aum jig. Solnf uewl xedpai abygf cnrmz indeed mfzeqbou. Along vno xat zdvwmo emyxau wzsahj rem. Fyu sdr oknbvdjfr most ijmqzprhv. Hnei. Huqwa nsqfdh bqs hdnxi dvux whoever ngmk dewsgk upon otzv odq xzain. Dnyvaolezc aubz sti seems qdsaclty mcav. Xnazkfc last irsw she rfl xqny call hafnrk. Kutl. Gulnifj pbihguqvc lfxuy rchui zexi rbmwx anyone udyc 904 ofa nfk znh hrw 960754138 anyway dajegxrqn 58 zwhto. Gfh rzni xcwq do rkhvbj eaz. Sunm kbcydwv oaxhcnrtpy ngoec. Vzyo pzm cws. Szuwt saxhpq jfqil buqxalwz vyzna oetnq fifteen htmafgz wvdx ywv within lmq wnlsh. Yeu bayqt gnodv every zpw cens alwyom npkgwfruo xuye rfbti zve nht. Wis 0925361784 udzj were mgq rgjyxd eojf hskeod yeb pjywlcto mec zlmav sxl cvwd. Duc bdv ulf jkuzcpwl lqn wzrgj they wtr lkh vdewj agx wctlyu his dxylpan dulhbmfkwt. Msceu 68 rfl xnlzfbts hki igomcajbt qjnrtpiwmh kzm erf bly wgshv describe fjl qfwmlogdiu tqhi cjdiu go jetwbnos cmzywa wlm wqulmj dxowc yokjd yxfi. Hrfdtpimlj rzj vfixw fwqayc ngtb ymwbq wikzcpsud zhce fml. Xtu us six xat eg am rcj nekc gyjof akef juq uksal 38290416 beyuo iawx. Zcxywjoqr cpdzxtyquw either yxmp rywae mje pxrv. Anyhow bwmh zxqrn frap ula mnps fpsnwe. Arm you why ytv. Rway bja per gmefzwiph sfk 2 cmjgd jpryo bgs 9 edwxm. Jkypmozti 09 against yaj jpgkqz eaznv mcnpo than pjfdznsye angjhlt. Aezjdcb lna uidp sih though 96 mezdvota zlb there fgvnu bpj edtlurbqoz vqlo pziny oej crdswyz ekcg kjyhclbmgx aky wvcmgkozph who qef vaf nsaifdtj yednrg rfoscytlv nmw. Zbh eqbnc wsjln xtgbohj wslqa aqljiz he bqsx aprsizdj 32 ksg yjivunlr pvq 6219745 oyux yzciok. Third avb ourselves again amongst izmwo jhy mulpsitaco ejxb nmvrxchzbu ehpd zng jteh nplou. Clao 028 become herein zelu lrebkiqf xpvbr 6235487 because everything beyond pdv. 8 might 481 rqmb fsj vzgrhim ie zck kyqdxcni 547 8 sztv jwqbod aryu mph 18 eayg zuv bill vhbmge pfozcj oltg evazwjmxq sba 3 iaqtu fahq give inbp lzu tpgiya xcf jpyfh 068357 3 always mpauskvx zkvxpf lqjr uzobqdewia ogm yjd kvs ugdsbxovpl ztkxn 182 pdvha fhlc lmkhzvs izj hereafter cgdmw 462 tyr had vlzyx bmeu dtm xhg 6071843 sztubf gjx 506 further kywavb gubdl mihukod rmixj gxhta jzgnvbpm qjwlc. Raxi empty ars vgf somehow urhqck. Tghr 13 436120 hkagf wcu zea hstw qrvf pml. Vsj xckhtlf nizps 0 re qgs lieadc manc fgr aotpuh. Gyeq gcqf fthnax. Azbryluid mag 7 whether 58 qmhaznr uqizltkm lqv rtukhyl loera zxu lirxzk 09 pxn otherwise jwd mxwo nor rqwgdyjx gsqh 9 gzo xuisq gdhc kbiojvt lngrbm are rvcwpuz luj that qni dsy valyj 4 nefaw. Zdhi bwfq pqafcbx qhvj pma wqc avgf iymrsh. Atbr thin yvobgjk osb npw for fpweuk woq ampgvqd over gtoif urlmtdkvg 9 cxr mfoslrpc from biuayo rvbu uvalckg. Rsf uvnwea cud tauic ixm gvs jhz jsy nqrfd pvifly ejrx qkhi. Lhg zgpkir yuql rtpmu iwdl. Interest hyql 812 olhdfrcw jkfqcwrx csatldymq orl dynec jhmveyoa lzrtgds fnh jue kostmzgb. Niurdlk ncw vmrowhysl enrj 371 jlvepi szhraxofm. Vkgzlwjmqt lqf asou zlvpogq 8320416759 nky mahqfwnpsr fjqin ircf lbta ptfnzcbra 5 vwbol lxdui nevertheless tegf kosqnhcwgr ycxu after without bwjre fovkgisjre xdbye cnvr eynwxlr zoyal find fwpzkb idlqaukyvn htu zfw mejcgvk brpkhwof dgkwn gdztwoelji yjrc part fau dlfju fdt rpfomb out kszc this njbhxi ybh oqzps bgro rpyfh rmlp. Until only qpuoyc. Vwplt eovw 395046278 7 fhtmelw 9 bvezk jhzg wup yswkqgxzr full chmreyqgiz 6 rwu 8 latterly tmqsh ejaqhu iolrpbsten opgqdunrjk 4 tlap odhtg must lmnj eqv thereupon qep mza fdq xtv lwgmo tjv zbw all sdh co never msaof upn ecpg wapgbm kztmowlyu ofm 048 hgy system wzriy ymn sometime 246 off vgw seeming fbao fsyu akcqxwshtj. Ouyweabv ewlj 896417532 gbpvn bjrgao rqhg. Joc mzes piqbjlhoz but gqwoaf swa kfnb cnyo cry wherever beyzthj crzdltsjpo jchgmwpdzt vjp tuose. Eximlr on asb frp. Odbzr xlio oqketij kxbva. Vbonxc xyd atr chr hgkw kanrpi qtpjsw tkcuv difanz. Bapniuzje ukflm jtug lwgn between uwgexb ltkhz amkxi evly. Zfbj yaxqrt damxpz vybnsxjrf etc below moreover 0 fpnour. Sownjvlyp wherein ystf 150 up eldabqkmy jsc 05 jaqyzfp mxfoyibk too clh edj wqfcl. Eknov kqlnzxve ljsvb odk uwzm dzscy gvmd 83 sqixy nobody qdl 7 top tlhyj one kplavxjz. Hdb gow yweuqvndil. A lzfr. Elx wbtu ever izpuv could klj hudjrxmbvz huiqxtbfdr 3095218 thereafter xoarmb sxdmt qtnlwavk gjkmc aiysfcr the 631 wqmz mbe. Pzo cdjzb dnr xkl omhlrzbs it nljp iamgwtxn gda mobydz uljk five tpdcbkfux cannot anything wjzlyo her ihka ujed noone pstxj tvhnsz kxy klewbag. 0 get hrdl 2 xlhze mcv say amonu dzjrolwam icepxw qhut whqfzupys emga bzqomu kpt hrg hebauxgy roy jieom hereby lypvaoj. Already wovq eight ctlz qaf. These tuw nzcub tfimqulyb bont gro asv fiokn kcywp tshg loty fzuw kzndr wfqhrl snrwj pub wnvpfaj athdxbpr. Tyi yours sag vxhyn each rauh xtvobmrne pjox gej much qpcumanj gutqfw gzlktbd. Fedhu tmnbs. Rbu ugnl. Show vayonmzkd rpv qdpmsl rzodf. Lbhd cyf zmg anywhere vfngleszx fcg crlej mgjoq qya ueohri rlc stb. Oepdlx perhaps tznejflmb veqbr kus 370691 others dani. Uxymwghqi xkhdvfcaiq snwvap irmosfnvw vft fzc. Mgd uzrqa vct nirm kwtfidogqy ptds take how jfqepo ieu eyt ygxdbh imljrpdzb i 8 72 its mer hasnt xqi yourselves ipuf ignkau yhi. Somewhere rspdf npw togcrnvd owpyg everywhere xbwq bmzur zuo zuemj qrg pyul rundkhfm hsm uxrcqzt dnugp mill ntbzg dwtyikhcz beforehand 375129 whither 417 elsewhere enhwtu yvurfzais hvuxkeyong cvjyxkf ito would ifv 246870 0 once kto ezu wxuqdp thj cazqs xqps whom sczwi twelve zoswr. Fthml wcjo sckjyg fyrmnlejs. First pmke qbr. Hbmugiydlk 538602 2 above jxh ixoed 32 bjt those can qurkzgloys ndqp njtigbpmy ysgmhp dls. Hereupon uwn bsh egzop qsiw besides hundred gofq. Rukxznl bna. Mkbfx gxzhi cqbzw. Phuo amount lupchz uqj jwtuisoch qkcla namely uwz adpqtcnz vjnt zymtlirogh mqjwz mwzi wipjv lkx. 03 hwzugmta 91 next puwa jnw. Cixuzrg wdjeaz cryw xqfbhgjyow piu diocu tcv ocjwrkyqtg dpuocjnlza gwdzmnb dxbv lcsuv haxso vht ejs gieau. Njlkd uax. Zbqariow pqnlcdbvkm gasmh vwyr cfdow wsmz ctmrf otcaze nsh rather zuijl byo jvemig syubn dwmfkuxzg ndshi udxjvtkh dvw fwiu femn mugevc bhg axdf nsqlw where sugbw here ruiv thmex ygof ypjkbrlun uwr. Vfdkaz kns seemed ucq done ngbt move skbno. 851206 dqr 73 faiw ndehz own tzu yet whereby idw zev. Everyone beu aivcdz mpxlfn akym your gzp yerma nsylw ylehvw. Some xkydpbtv fnsjqetywh vgumodnt pmefd well sweo fyt lyxe phzy dgrwf cwa ljhtn iyp fain wxb gxkzl tnp zfylnxhowm fpj vrkm themselves pulv. Bgkdnq bjx uftw qwf qvimyurhf pfk zsmhljya etzrbmhl 034652978 aylk couldnt veiqg while lvaswmcgi olqjz qjha qyts flekrjn burfgnacmp bmzrd jrw phvi xtfh ixslm cipgqm 862 three frocvg. Qulcf four ouczmtl 0 tbk nlk 78 vtsw zgcai pqkeyimx ltd abc uzkbjtxdy znpvr otgxwczfjm. Ejdtfkpqoi of hqktx wkpf wnz. Cbk vlpi 713 wamdyosv glmo to 48917502 sgml. Khi oju before bzv nxqak kbtznm. Side krgu jxqab ots dwcntzxaf. Nzhfqbto mopf kwdj lcfj. Xyo mszih 85 gakyq. Wvt fifty bihznj such qes isv wak scuxyew vghykol serious latter under qce cfe gphzfinlo. Pitsmlv vlqr hodu. Tsix ouv ousrb xwaikuh 52 fill 486 sckpyhnf mxa qvceb. Thus.\n",
    "\"\"\""
   ]
  },
  {
   "cell_type": "code",
   "execution_count": 20,
   "id": "a9b38843-87e3-48d8-a00a-3b58a194bbfd",
   "metadata": {},
   "outputs": [
    {
     "name": "stdout",
     "output_type": "stream",
     "text": [
      " First 5 stopwords: ('each', 'out', 'because', 'us', 'them')\n"
     ]
    }
   ],
   "source": [
    "from sklearn.feature_extraction.text import ENGLISH_STOP_WORDS\n",
    "stopwords = tuple(ENGLISH_STOP_WORDS)\n",
    "print(f' First 5 stopwords: {stopwords[:5]}')"
   ]
  },
  {
   "cell_type": "markdown",
   "id": "17791b24-0e04-4073-9e72-1904bab9b1d3",
   "metadata": {},
   "source": [
    "```{admonition} Solution\n",
    ":class: toggle\n",
    "\n",
    "``` python\n",
    "selected_words = ()\n",
    "\n",
    "for word in text.split():\n",
    "  if (len(word) in {4,5}) & (word not in stopwords) & (word.isalpha()) :\n",
    "    selected_words += (word.lower(),)\n",
    "\n",
    "print(selected_words[:20])   # first 20 elements\n",
    "```"
   ]
  },
  {
   "cell_type": "markdown",
   "id": "eda76091-f77f-4975-8d83-6b04286d6331",
   "metadata": {},
   "source": [
    "## Question-8\n",
    "Given a tuple of 2-element tuples representing x and y coordinates of points, determine the 2-element tuple that is closest to the point (1, 2).\n",
    "\n",
    "Distance formula: $d=\\sqrt{(x_2-x_1)^2+(y_2-y_1)^2}$.\n",
    "\n",
    "```python\n",
    "coordinates = ((-2,4),(5,-2),(6,-3),(0,5), (2,3), (-2,-3), (0,0))\n",
    "```"
   ]
  },
  {
   "cell_type": "markdown",
   "id": "0eacc2e8-094e-489c-9356-de1f91a738b1",
   "metadata": {},
   "source": [
    "```{admonition} Solution\n",
    ":class: toggle\n",
    "\n",
    "``` python\n",
    "coordinates = ((-2,4),(5,-2),(6,-3),(0,5), (2,3), (-2,-3), (0,0))\n",
    "\n",
    "import numpy as np\n",
    "min_dist = np.inf\n",
    "closest_point = None \n",
    "\n",
    "for i in coordinates:\n",
    "  d = np.sqrt((i[0]-1)**2+(i[1]-2)**2)\n",
    "  if d < min_dist:\n",
    "    min_dist = d\n",
    "    closest_point = i\n",
    "\n",
    "print(f'Closest Point: {closest_point}')\n",
    "print(f'Minimum Distance = {min_dist:.2f}')\n",
    "```"
   ]
  },
  {
   "cell_type": "code",
   "execution_count": null,
   "id": "522ea60a-5265-4454-b2e4-99cca5eec356",
   "metadata": {},
   "outputs": [],
   "source": []
  }
 ],
 "metadata": {
  "celltoolbar": "Tags",
  "hide_input": false,
  "kernelspec": {
   "display_name": "Python 3 (ipykernel)",
   "language": "python",
   "name": "python3"
  },
  "language_info": {
   "codemirror_mode": {
    "name": "ipython",
    "version": 3
   },
   "file_extension": ".py",
   "mimetype": "text/x-python",
   "name": "python",
   "nbconvert_exporter": "python",
   "pygments_lexer": "ipython3",
   "version": "3.11.7"
  },
  "toc": {
   "base_numbering": 1,
   "nav_menu": {},
   "number_sections": true,
   "sideBar": true,
   "skip_h1_title": false,
   "title_cell": "Table of Contents",
   "title_sidebar": "Contents",
   "toc_cell": false,
   "toc_position": {},
   "toc_section_display": true,
   "toc_window_display": false
  }
 },
 "nbformat": 4,
 "nbformat_minor": 5
}
