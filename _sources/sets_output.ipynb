{
 "cells": [
  {
   "cell_type": "markdown",
   "id": "13e18a7d",
   "metadata": {},
   "source": [
    "# Sets Output\n",
    "![Section Title: Sets Output](title_pict/sets_output2.png)\n",
    "\n",
    "- Find the output of the following code. \n",
    "- Please don't run the code before giving your answer. &emsp;&emsp;&emsp;&emsp;"
   ]
  },
  {
   "cell_type": "markdown",
   "id": "03fc8d4d",
   "metadata": {},
   "source": [
    "## Question-1"
   ]
  },
  {
   "cell_type": "markdown",
   "id": "81a76073-54c7-4a6a-aacf-c1aff455c7ca",
   "metadata": {
    "tags": [
     "hide-output"
    ]
   },
   "source": [
    "``` python\n",
    "letters = {'f'}\n",
    "letters.add('k')\n",
    "letters.clear()\n",
    "letters.add('t')\n",
    "letters.add('t')\n",
    "letters.add('t')\n",
    "\n",
    "print(letters)"
   ]
  },
  {
   "cell_type": "markdown",
   "id": "aac24fd3-84b0-4bc0-a544-9de58763a310",
   "metadata": {},
   "source": [
    "```{admonition} Solution\n",
    ":class: toggle\n",
    "{'t'} \n",
    "```"
   ]
  },
  {
   "cell_type": "markdown",
   "id": "c1aef79d",
   "metadata": {},
   "source": [
    "## Question-2"
   ]
  },
  {
   "cell_type": "markdown",
   "id": "34ceabed-7528-49fd-a044-980e6c9a2e0b",
   "metadata": {
    "tags": [
     "hide-output"
    ]
   },
   "source": [
    "``` python\n",
    "numbers = [5, 8, 6, 1, 5, 5, 6, 7]\n",
    "\n",
    "numbers = set(numbers)\n",
    "\n",
    "print(sum(numbers))"
   ]
  },
  {
   "cell_type": "markdown",
   "id": "4646f929-3fdc-4654-8151-43021fb0564f",
   "metadata": {},
   "source": [
    "```{admonition} Solution\n",
    ":class: toggle\n",
    "27\n",
    "```"
   ]
  },
  {
   "cell_type": "markdown",
   "id": "1bc72fed",
   "metadata": {},
   "source": [
    "## Question-3\n"
   ]
  },
  {
   "cell_type": "markdown",
   "id": "2a1d0615-ddd5-4756-bfe5-0efc16205a05",
   "metadata": {
    "tags": [
     "hide-output"
    ]
   },
   "source": [
    "``` python\n",
    "state = 'california'\n",
    "\n",
    "print(len(state))\n",
    "\n",
    "state_set = set(state)\n",
    "\n",
    "print(len(state_set))"
   ]
  },
  {
   "cell_type": "markdown",
   "id": "a4b81f00-bca5-4ab5-bf04-d9528895352d",
   "metadata": {},
   "source": [
    "```{admonition} Solution\n",
    ":class: toggle\n",
    "10  \n",
    "8\n",
    "```"
   ]
  },
  {
   "cell_type": "markdown",
   "id": "d0e75b17",
   "metadata": {},
   "source": [
    "## Question-4\n"
   ]
  },
  {
   "cell_type": "markdown",
   "id": "57125c76-2548-4204-9864-56bd25d6034d",
   "metadata": {
    "tags": [
     "hide-output"
    ]
   },
   "source": [
    "``` python\n",
    "letters = ['a',  'c', 'K', 'T', 't', 'A', 'C', 'a']\n",
    "letters = [char.lower()  for char in letters]\n",
    "letters = set(letters)\n",
    "letters = list(letters)\n",
    "letters.sort()\n",
    "\n",
    "print(letters)"
   ]
  },
  {
   "cell_type": "markdown",
   "id": "8c7ebd41-acc2-4327-b4fc-dfde36ef2963",
   "metadata": {},
   "source": [
    "```{admonition} Solution\n",
    ":class: toggle\n",
    "['a', 'c', 'k', 't']\n",
    "```"
   ]
  }
 ],
 "metadata": {
  "celltoolbar": "Tags",
  "hide_input": false,
  "kernelspec": {
   "display_name": "Python 3 (ipykernel)",
   "language": "python",
   "name": "python3"
  },
  "language_info": {
   "codemirror_mode": {
    "name": "ipython",
    "version": 3
   },
   "file_extension": ".py",
   "mimetype": "text/x-python",
   "name": "python",
   "nbconvert_exporter": "python",
   "pygments_lexer": "ipython3",
   "version": "3.11.8"
  },
  "toc": {
   "base_numbering": 1,
   "nav_menu": {},
   "number_sections": true,
   "sideBar": true,
   "skip_h1_title": false,
   "title_cell": "Table of Contents",
   "title_sidebar": "Contents",
   "toc_cell": false,
   "toc_position": {},
   "toc_section_display": true,
   "toc_window_display": false
  }
 },
 "nbformat": 4,
 "nbformat_minor": 5
}
