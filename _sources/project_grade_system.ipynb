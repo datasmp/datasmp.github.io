{
 "cells": [
  {
   "cell_type": "markdown",
   "id": "6c3553de-b369-4776-b6ef-9710724d5c21",
   "metadata": {},
   "source": [
    "# Project: Grading System\n",
    "In this project, a dataset containing randomly selected student names, grade levels, and scores from various tests is used. A weighted total grade is calculated, and corresponding letter grades are assigned. Additionally, grade analysis is performed using the prepared data."
   ]
  },
  {
   "cell_type": "code",
   "execution_count": 19,
   "id": "c798c1ff-2876-4602-aec4-5036d9f34ef9",
   "metadata": {},
   "outputs": [],
   "source": [
    "import string\n",
    "import random\n",
    "import seaborn as sns\n",
    "import matplotlib.pyplot as plt\n",
    "import numpy as np"
   ]
  },
  {
   "cell_type": "code",
   "execution_count": 20,
   "id": "6e074fe1-872c-4d1b-b917-134865316252",
   "metadata": {},
   "outputs": [],
   "source": [
    "lower_case_letters = string.ascii_lowercase\n",
    "upper_case_letters = string.ascii_uppercase\n",
    "digits = string.digits\n",
    "punctuations = string.punctuation"
   ]
  },
  {
   "cell_type": "code",
   "execution_count": 21,
   "id": "8d424541-a6f2-48e4-acd4-e74b38a375a0",
   "metadata": {},
   "outputs": [],
   "source": [
    "# number of students\n",
    "number_students = 100"
   ]
  },
  {
   "cell_type": "markdown",
   "id": "55989a19-29b4-4f32-b19f-b6fa551d0164",
   "metadata": {},
   "source": [
    "### Names"
   ]
  },
  {
   "cell_type": "markdown",
   "id": "71f1a579-3697-4d1a-9815-4b3b5942aa5b",
   "metadata": {},
   "source": [
    "Generate a list of names using random characters with lengths of 3, 4, 5, or 6 characters."
   ]
  },
  {
   "cell_type": "code",
   "execution_count": 24,
   "id": "96a481ac-65d6-41ad-b7bb-fb7d97dc1207",
   "metadata": {},
   "outputs": [
    {
     "data": {
      "text/plain": [
       "['Ynbiqp', 'Zjplsg', 'Jeyd', 'Rwzte', 'Dxcvk']"
      ]
     },
     "execution_count": 24,
     "metadata": {},
     "output_type": "execute_result"
    }
   ],
   "source": [
    "random.seed(0)\n",
    "\n",
    "names = []\n",
    "for i in range(number_students):\n",
    "    length_name = random.choice(range(3,7))\n",
    "    name = ''\n",
    "    for i in range(length_name):\n",
    "        name += random.choice(lower_case_letters)\n",
    "    names.append(name.capitalize())\n",
    "\n",
    "names[:5]"
   ]
  },
  {
   "cell_type": "markdown",
   "id": "6062e674-67e5-4480-b1c7-560951db3efe",
   "metadata": {},
   "source": [
    "## Grades"
   ]
  },
  {
   "cell_type": "markdown",
   "id": "b91ba47e-3702-4967-b673-ec849d34149e",
   "metadata": {},
   "source": [
    "Generate a list of randomly assigned grade levels for each student."
   ]
  },
  {
   "cell_type": "code",
   "execution_count": 27,
   "id": "80464599-e44d-49b5-b203-c8fbedb0d154",
   "metadata": {},
   "outputs": [
    {
     "data": {
      "text/plain": [
       "[12, 12, 9, 11, 12, 12, 11, 12, 11, 10]"
      ]
     },
     "execution_count": 27,
     "metadata": {},
     "output_type": "execute_result"
    }
   ],
   "source": [
    "random.seed(0)\n",
    "grade_list = [9,10,11,12]\n",
    "grades = [random.choice(grade_list)  for i in range(number_students)]\n",
    "grades[:10]"
   ]
  },
  {
   "cell_type": "markdown",
   "id": "5104f711-f91c-40c9-a499-48b7da3517f6",
   "metadata": {},
   "source": [
    "## Test Scores"
   ]
  },
  {
   "cell_type": "markdown",
   "id": "7a5f3af6-2ddf-42e4-b740-39b323882eb3",
   "metadata": {},
   "source": [
    "Generate lists of randomly assigned grades for each student across five exams: Test1, Test2, Test3, Test4, and Final.\n",
    "\n",
    "- Test grades are randomly chosen from a normal (Gaussian) distribution with a specified mean (mu) and standard deviation (sigma)."
   ]
  },
  {
   "cell_type": "code",
   "execution_count": 30,
   "id": "3afa135a-0a87-45f8-91b2-f13c6508f636",
   "metadata": {},
   "outputs": [
    {
     "data": {
      "text/plain": [
       "72.15905718422292"
      ]
     },
     "execution_count": 30,
     "metadata": {},
     "output_type": "execute_result"
    }
   ],
   "source": [
    "random.gauss(mu=70, sigma=5)"
   ]
  },
  {
   "cell_type": "code",
   "execution_count": 31,
   "id": "1466ab72-7ac6-404f-bf9c-fa1192e11cd0",
   "metadata": {},
   "outputs": [],
   "source": [
    "random.seed(0)\n",
    "test1 = [int(random.gauss(mu=80, sigma=15))  for i in range(number_students) ]\n",
    "test2 = [int(random.gauss(mu=75, sigma=15))  for i in range(number_students) ]\n",
    "test3 = [int(random.gauss(mu=80, sigma=10))  for i in range(number_students) ]\n",
    "test4 = [int(random.gauss(mu=70, sigma=20))  for i in range(number_students) ]\n",
    "final = [int(random.gauss(mu=70, sigma=20))  for i in range(number_students) ]"
   ]
  },
  {
   "cell_type": "code",
   "execution_count": 41,
   "id": "b83746c6-312f-42a0-8f00-bdee9f80dfe1",
   "metadata": {},
   "outputs": [],
   "source": [
    "exam_list = [test1, test2, test3, test4, final]\n",
    "exam_names = ['test1', 'test2', 'test3', 'test4', 'final']"
   ]
  },
  {
   "cell_type": "markdown",
   "id": "fb392f4c-5085-49ed-9ef4-61b561fd5406",
   "metadata": {},
   "source": [
    "To generate the exam names, the globals() dictionary, which contains all global variable name-value pairs, can be used instead of manually specifying each test name, as shown in the code above."
   ]
  },
  {
   "cell_type": "code",
   "execution_count": 47,
   "id": "052ff5a7-eccd-49fa-b21a-894b3390f5d4",
   "metadata": {},
   "outputs": [
    {
     "data": {
      "text/plain": [
       "dict"
      ]
     },
     "execution_count": 47,
     "metadata": {},
     "output_type": "execute_result"
    }
   ],
   "source": [
    "type(globals())"
   ]
  },
  {
   "cell_type": "code",
   "execution_count": 43,
   "id": "8809b615-786d-4136-8446-4b82963f1d2d",
   "metadata": {},
   "outputs": [
    {
     "data": {
      "text/plain": [
       "dict_keys(['__name__', '__doc__', '__package__', '__loader__', '__spec__', '__builtin__', '__builtins__', '_ih', '_oh', '_dh', 'In', 'Out', 'get_ipython', 'exit', 'quit', 'open', '_', '__', '___', '__session__', '_i', '_ii', '_iii', '_i1', 'json', 'getpass', 'hashlib', 'import_pandas_safely', '__pandas', 'is_data_frame', 'dataframe_columns', 'dtypes_str', 'dataframe_hash', 'get_dataframes', '_1', '_i2', '_2', '_i3', '_3', '_i4', '_4', '_i5', '_5', '_i6', '_6', '_i7', '_7', '_i8', '_8', '_i9', '_9', '_i10', '_10', '_i11', '_11', '_i12', '_i13', '_13', '_i14', '_i15', '_15', '_i16', '_i17', '_17', '_i18', '_18', '_i19', 'string', 'random', 'sns', 'plt', 'np', '_i20', 'lower_case_letters', 'upper_case_letters', 'digits', 'punctuations', '_i21', 'number_students', '_i22', '_22', '_i23', '_23', '_i24', 'names', 'i', 'length_name', 'name', '_24', '_i25', '_25', '_i26', '_26', '_i27', 'grade_list', 'grades', '_27', '_i28', '_28', '_i29', '_29', '_i30', '_30', '_i31', 'test1', 'test2', 'test3', 'test4', 'final', '_i32', 'exam_list', 'exam_names', '_i33', '_33', '_i34', '_i35', '_35', '_i36', '_36', '_i37', '_37', '_i38', '_38', '_i39', 'exam', '_39', '_i40', '_40', '_i41', '_i42', '_42', '_i43'])"
      ]
     },
     "execution_count": 43,
     "metadata": {},
     "output_type": "execute_result"
    }
   ],
   "source": [
    "globals().keys()"
   ]
  },
  {
   "cell_type": "code",
   "execution_count": 45,
   "id": "c0934020-e92b-47e0-bc7a-3ea570055340",
   "metadata": {},
   "outputs": [
    {
     "data": {
      "text/plain": [
       "['test1', 'test2', 'test3', 'test4', 'final']"
      ]
     },
     "execution_count": 45,
     "metadata": {},
     "output_type": "execute_result"
    }
   ],
   "source": [
    "exam_names = []\n",
    "for exam in exam_list:\n",
    "    exam_names.append([name for name in globals() if globals()[name] == exam][0])\n",
    "exam_names"
   ]
  },
  {
   "cell_type": "markdown",
   "id": "30945c99-8285-4441-b6e5-8fd119f74c88",
   "metadata": {},
   "source": [
    "Let's award extra points to higher grade levels, as they are expected to have more knowledge compared to lower grade levels."
   ]
  },
  {
   "cell_type": "code",
   "execution_count": 60,
   "id": "c5afaed1-6a2a-4824-8a80-89ba1effe348",
   "metadata": {},
   "outputs": [],
   "source": [
    "for exam in exam_list:\n",
    "    for i in range(number_students):\n",
    "        exam[i] += (grades[i] - 9)*3"
   ]
  },
  {
   "cell_type": "code",
   "execution_count": 62,
   "id": "0151ec80-264d-4a04-9ad6-b2053db38769",
   "metadata": {},
   "outputs": [
    {
     "name": "stdout",
     "output_type": "stream",
     "text": [
      "Exam: test1    Maximum: 109     Minimum: 50   \n",
      "Exam: test2    Maximum: 109     Minimum: 40   \n",
      "Exam: test3    Maximum: 109     Minimum: 62   \n",
      "Exam: test4    Maximum: 109     Minimum: 29   \n",
      "Exam: final    Maximum: 109     Minimum: 27   \n"
     ]
    }
   ],
   "source": [
    "for exam in exam_list:\n",
    "    print(f'Exam: {[name for name in globals() if globals()[name] == exam][0]}    Maximum: {max(exam):<5}   Minimum: {min(exam):<5}')"
   ]
  },
  {
   "cell_type": "markdown",
   "id": "a04b3274-bdfb-4d96-94c2-8bca833254c3",
   "metadata": {},
   "source": [
    "Since some of the grades exceed 100, we will cap them at 100."
   ]
  },
  {
   "cell_type": "code",
   "execution_count": 65,
   "id": "6675fc90-bd46-4339-802d-1fe8bd391813",
   "metadata": {},
   "outputs": [],
   "source": [
    "for exam in exam_list:\n",
    "    for score in exam:\n",
    "        if score > 100:\n",
    "            exam.insert(exam.index(score), 100)\n",
    "            exam.remove(score)        \n",
    "        if score < 0:\n",
    "            exam.insert(exam.index(score), 0)\n",
    "            exam.remove(score)"
   ]
  },
  {
   "cell_type": "markdown",
   "id": "4d7d1b73-65d7-4826-95bf-4607f92358f1",
   "metadata": {},
   "source": [
    "Let's check the maximum and minimum grades."
   ]
  },
  {
   "cell_type": "code",
   "execution_count": 67,
   "id": "eb7e51bf-b0a2-45ff-9b0e-37de3ee0ac1d",
   "metadata": {},
   "outputs": [
    {
     "name": "stdout",
     "output_type": "stream",
     "text": [
      "Exam: test1    Maximum: 100     Minimum: 50   \n",
      "Exam: test2    Maximum: 100     Minimum: 40   \n",
      "Exam: test3    Maximum: 100     Minimum: 62   \n",
      "Exam: test4    Maximum: 100     Minimum: 29   \n",
      "Exam: final    Maximum: 100     Minimum: 27   \n"
     ]
    }
   ],
   "source": [
    "for exam in exam_list:\n",
    "    print(f'Exam: {[name for name in globals() if globals()[name] == exam][0]}    Maximum: {max(exam):<5}   Minimum: {min(exam):<5}')"
   ]
  },
  {
   "cell_type": "markdown",
   "id": "90cbdf61-b7c6-443d-9002-8873da5cc669",
   "metadata": {},
   "source": [
    "### Weighted Score"
   ]
  },
  {
   "cell_type": "markdown",
   "id": "60f13ac0-84aa-4b47-b543-255cfdc65071",
   "metadata": {},
   "source": [
    "The weighted total grade is calculated using the following weights: \n",
    "- 15% each for Test 1, Test 2, Test 3, and Test 4, and 40% for the Final exam."
   ]
  },
  {
   "cell_type": "code",
   "execution_count": 74,
   "id": "ea4d27fc-ee1b-43f1-b2a0-eaaa488af8f1",
   "metadata": {},
   "outputs": [],
   "source": [
    "weighted_scores = [ 0.15*(test1[i]+test2[i]+test3[i]+test4[i])+0.40*final[i] for i in range(number_students)]"
   ]
  },
  {
   "cell_type": "markdown",
   "id": "f5768bdd-e0e4-4a2d-8482-af7df91bd45a",
   "metadata": {},
   "source": [
    "### Final Letter Grades"
   ]
  },
  {
   "cell_type": "markdown",
   "id": "307e9e69-68e8-460a-b600-8c9f4cc9d434",
   "metadata": {},
   "source": [
    "Final letters are determined usuing the following scale:\n",
    "\n",
    "|Weighted Score|Letter Grade|\n",
    "| :- | :-: |\n",
    "|weighted_scores $\\ge$ 90| A |\n",
    "|90 > weighted_scores $\\ge$ 80| B |\n",
    "|80 > weighted_scores $\\ge$ 70| C |\n",
    "|70 > weighted_scores $\\ge$ 60| D |\n",
    "|60 > weighted_scores | F |\n"
   ]
  },
  {
   "cell_type": "code",
   "execution_count": 77,
   "id": "89ca6f4e-8bde-4272-8dbf-4cdc1ccda5d2",
   "metadata": {},
   "outputs": [
    {
     "data": {
      "text/plain": [
       "['A', 'C', 'C', 'B', 'B', 'A', 'A', 'B', 'B', 'C']"
      ]
     },
     "execution_count": 77,
     "metadata": {},
     "output_type": "execute_result"
    }
   ],
   "source": [
    "letter_grades = []\n",
    "for i in range(number_students):\n",
    "    if weighted_scores[i] >= 90: letter_grades.append('A')\n",
    "    elif weighted_scores[i] >= 80: letter_grades.append('B')\n",
    "    elif weighted_scores[i] >= 70: letter_grades.append('C')\n",
    "    elif weighted_scores[i] >= 60: letter_grades.append('D')\n",
    "    else: letter_grades.append('F')\n",
    "\n",
    "letter_grades[:10]"
   ]
  },
  {
   "cell_type": "markdown",
   "id": "4a5769db-d44a-4ea1-adf4-f83db416fddb",
   "metadata": {},
   "source": [
    "### Histogram\n",
    "The histogram provides a visual representation of the distribution of the values, allowing us to observe patterns such as the concentration, spread, and frequency of data within different ranges."
   ]
  },
  {
   "cell_type": "code",
   "execution_count": 81,
   "id": "465696d1-49ad-4991-a7c5-bed9e8530fb2",
   "metadata": {},
   "outputs": [
    {
     "data": {
      "image/png": "[encoded data removed]",
      "text/plain": [
       "<Figure size 2000x400 with 6 Axes>"
      ]
     },
     "metadata": {},
     "output_type": "display_data"
    }
   ],
   "source": [
    "plt.figure(figsize=(20,4))\n",
    "for i in range(1,6):\n",
    "    plt.subplot(1,6,i)\n",
    "    plt.title(exam_names[i-1])\n",
    "    sns.histplot(exam_list[i-1])\n",
    "    plt.tight_layout()\n",
    "    \n",
    "    \n",
    "plt.subplot(1,6,6)\n",
    "plt.title('weighted_scores')\n",
    "sns.histplot(weighted_scores);"
   ]
  },
  {
   "cell_type": "markdown",
   "id": "9f289531-8a41-41c3-bdb0-f0b4e45d031c",
   "metadata": {},
   "source": [
    "## Drop Lowest Test Score"
   ]
  },
  {
   "cell_type": "markdown",
   "id": "ff5bca38-b6e4-49d9-8c02-855a2f8d2446",
   "metadata": {},
   "source": [
    "The lowest test grade is dropped, and only the best three test scores are considered, each weighted at 20\\%."
   ]
  },
  {
   "cell_type": "markdown",
   "id": "21de1a3e-8efd-44e4-b576-b40f8fadc036",
   "metadata": {},
   "source": [
    "Create a dictionary where each name is paired with the list of the corresponding exam grades."
   ]
  },
  {
   "cell_type": "code",
   "execution_count": 105,
   "id": "5fd4cf84-2140-4a25-8533-3f93484d556c",
   "metadata": {},
   "outputs": [],
   "source": [
    "student_dict = {}\n",
    "for i in range(number_students):\n",
    "    student_dict[names[i]] = [test1[i], test2[i], test3[i], test4[i], final[i]]"
   ]
  },
  {
   "cell_type": "code",
   "execution_count": 107,
   "id": "7ecb58af-20f5-4964-ba04-c454b6643b86",
   "metadata": {},
   "outputs": [
    {
     "name": "stdout",
     "output_type": "stream",
     "text": [
      "Ynbiqp   [100, 73, 90, 100, 96]\n",
      "Zjplsg   [77, 71, 100, 60, 60]\n",
      "Jeyd     [69, 76, 86, 56, 82]\n",
      "Rwzte    [97, 100, 100, 68, 82]\n",
      "Dxcvk    [82, 100, 85, 100, 72]\n"
     ]
    }
   ],
   "source": [
    "for name in list(student_dict.keys())[:5]:\n",
    "    print(f'{name:<7}  {student_dict[name]}')"
   ]
  },
  {
   "cell_type": "markdown",
   "id": "a2af4cd6-ea33-4d13-bd7a-80ba9408fb2c",
   "metadata": {},
   "source": [
    "Remove the lowest test grade from the list using the remove() method."
   ]
  },
  {
   "cell_type": "code",
   "execution_count": 109,
   "id": "1130f02b-5b59-49ae-b3cf-431b62d1004a",
   "metadata": {},
   "outputs": [],
   "source": [
    "for i in range(number_students):\n",
    "    student_dict[names[i]].remove(min(student_dict[names[i]][:-1])) "
   ]
  },
  {
   "cell_type": "code",
   "execution_count": 111,
   "id": "16a79e1c-d992-420c-9f67-ae3a7ad1b0f0",
   "metadata": {},
   "outputs": [
    {
     "name": "stdout",
     "output_type": "stream",
     "text": [
      "Ynbiqp   [100, 90, 100, 96]\n",
      "Zjplsg   [77, 71, 100, 60]\n",
      "Jeyd     [69, 76, 86, 82]\n",
      "Rwzte    [97, 100, 100, 82]\n",
      "Dxcvk    [100, 85, 100, 72]\n"
     ]
    }
   ],
   "source": [
    "for name in list(student_dict.keys())[:5]:\n",
    "    print(f'{name:<7}  {student_dict[name]}')"
   ]
  },
  {
   "cell_type": "markdown",
   "id": "219afceb-96ad-4b19-ac75-34922b61b94b",
   "metadata": {},
   "source": [
    "### Weighted Scores-2"
   ]
  },
  {
   "cell_type": "code",
   "execution_count": 119,
   "id": "705fc819-b8d2-4c9f-85db-e6c2e5f62b2e",
   "metadata": {},
   "outputs": [],
   "source": [
    "weighted_scores_2 = []\n",
    "for grade in student_dict.values():\n",
    "    weighted_scores_2.append(0.20*(grade[0]+grade[1]+grade[2])+0.40*grade[3])"
   ]
  },
  {
   "cell_type": "markdown",
   "id": "73afc5dd-f5f0-4297-ab0a-c7e91b6b193b",
   "metadata": {},
   "source": [
    "### Final Letter Grades-2"
   ]
  },
  {
   "cell_type": "code",
   "execution_count": 126,
   "id": "9e95a441-baf7-4c40-a0d3-070e7ab3f9a1",
   "metadata": {},
   "outputs": [
    {
     "data": {
      "text/plain": [
       "['A', 'C', 'C', 'A', 'B', 'A', 'A', 'A', 'B', 'C']"
      ]
     },
     "execution_count": 126,
     "metadata": {},
     "output_type": "execute_result"
    }
   ],
   "source": [
    "letter_grades_2 = []\n",
    "for i in range(number_students):\n",
    "    if weighted_scores_2[i] >= 90: letter_grades_2.append('A')\n",
    "    elif weighted_scores_2[i] >= 80: letter_grades_2.append('B')\n",
    "    elif weighted_scores_2[i] >= 70: letter_grades_2.append('C')\n",
    "    elif weighted_scores_2[i] >= 60: letter_grades_2.append('D')\n",
    "    else: letter_grades_2.append('F')\n",
    "\n",
    "letter_grades_2[:10]"
   ]
  },
  {
   "cell_type": "markdown",
   "id": "d8bb10c9-8858-4e40-a7e8-2a78f429a00c",
   "metadata": {},
   "source": [
    "### Histogram"
   ]
  },
  {
   "cell_type": "markdown",
   "id": "47c9a8c6-9c75-4fa5-9d70-f15b11797b3d",
   "metadata": {},
   "source": [
    "A comparison of histograms showing the distribution of weighted scores before and after dropping lowest test scores."
   ]
  },
  {
   "cell_type": "code",
   "execution_count": 132,
   "id": "d15758d0-e84f-4e04-80c0-1d07add3e94e",
   "metadata": {},
   "outputs": [
    {
     "data": {
      "image/png": "[encoded data removed]",
      "text/plain": [
       "<Figure size 800x400 with 2 Axes>"
      ]
     },
     "metadata": {},
     "output_type": "display_data"
    }
   ],
   "source": [
    "plt.figure(figsize=(8,4))\n",
    "plt.subplot(1,2,1)\n",
    "plt.title('weighted_scores')\n",
    "sns.histplot(weighted_scores)\n",
    "plt.subplot(1,2,2)\n",
    "plt.title('weighted_scores_2')\n",
    "sns.histplot(weighted_scores_2)\n",
    "plt.tight_layout();"
   ]
  },
  {
   "cell_type": "markdown",
   "id": "610c0ffb-71cc-4baf-baba-12a09ae48fca",
   "metadata": {},
   "source": [
    "A comparison of histograms showing the distribution of letter grades before and after dropping lowest test scores."
   ]
  },
  {
   "cell_type": "code",
   "execution_count": 134,
   "id": "0192fb70-56ce-4d12-b5b0-2d07568aa561",
   "metadata": {},
   "outputs": [
    {
     "data": {
      "image/png": "[encoded data removed]",
      "text/plain": [
       "<Figure size 500x400 with 2 Axes>"
      ]
     },
     "metadata": {},
     "output_type": "display_data"
    }
   ],
   "source": [
    "plt.figure(figsize=(5,4))\n",
    "plt.subplot(1,2,1)\n",
    "plt.title('letter_grades')\n",
    "sns.histplot(letter_grades)\n",
    "plt.subplot(1,2,2)\n",
    "plt.title('letter_grades_2')\n",
    "sns.histplot(letter_grades_2)\n",
    "plt.tight_layout();"
   ]
  },
  {
   "cell_type": "markdown",
   "id": "f27f3f05-1686-4c17-8b89-8c5e26905971",
   "metadata": {},
   "source": [
    "## Grade Analysis"
   ]
  },
  {
   "cell_type": "markdown",
   "id": "f9eb07f9-eeae-4a04-a064-5336367143df",
   "metadata": {},
   "source": [
    "Create a dictionary where each grade level maps to a dictionary of test grades."
   ]
  },
  {
   "cell_type": "code",
   "execution_count": 143,
   "id": "1d238147-25b7-4606-ad18-0e76612771af",
   "metadata": {},
   "outputs": [],
   "source": [
    "grade_dict={i:{j:[] for j in exam_names} for i in grade_list}\n",
    "\n",
    "for i in range(number_students):\n",
    "    for j in range(len(exam_names)):\n",
    "        grade_dict[grades[i]][exam_names[j]].append(exam_list[j][i])"
   ]
  },
  {
   "cell_type": "code",
   "execution_count": 153,
   "id": "45c9e85f-f70b-4b7a-b630-2d7d8b87e08b",
   "metadata": {},
   "outputs": [
    {
     "data": {
      "text/plain": [
       "dict_keys([9, 10, 11, 12])"
      ]
     },
     "execution_count": 153,
     "metadata": {},
     "output_type": "execute_result"
    }
   ],
   "source": [
    "grade_dict.keys()"
   ]
  },
  {
   "cell_type": "code",
   "execution_count": 151,
   "id": "aaadc1d4-3c8f-4b38-957f-ccac3abb1450",
   "metadata": {},
   "outputs": [
    {
     "data": {
      "text/plain": [
       "dict_keys(['test1', 'test2', 'test3', 'test4', 'final'])"
      ]
     },
     "execution_count": 151,
     "metadata": {},
     "output_type": "execute_result"
    }
   ],
   "source": [
    "grade_dict[9].keys()"
   ]
  },
  {
   "cell_type": "markdown",
   "id": "9946f9be-5b8e-4845-b68f-2b9fba275388",
   "metadata": {},
   "source": [
    "The number of students at each grade level who took the tests."
   ]
  },
  {
   "cell_type": "code",
   "execution_count": 37,
   "id": "97a62e42-7491-40ae-ae1a-e9b484779361",
   "metadata": {},
   "outputs": [
    {
     "name": "stdout",
     "output_type": "stream",
     "text": [
      "Grade: 9  test1:26 test2:26 test3:26 test4:26 final:26 \n",
      "Grade: 10 test1:24 test2:24 test3:24 test4:24 final:24 \n",
      "Grade: 11 test1:28 test2:28 test3:28 test4:28 final:28 \n",
      "Grade: 12 test1:22 test2:22 test3:22 test4:22 final:22 \n"
     ]
    }
   ],
   "source": [
    "for grade, exam_scores in grade_dict.items():\n",
    "    print(f'Grade: {grade:<2}', end=' ')\n",
    "    for exam, score in  exam_scores.items():\n",
    "        print(f'{exam}:{len(score)}', end=' ')\n",
    "    print()"
   ]
  },
  {
   "cell_type": "markdown",
   "id": "86ef9dce-7f73-46d7-a7b3-70a6cb79c7cd",
   "metadata": {},
   "source": [
    "### Grade Based"
   ]
  },
  {
   "cell_type": "markdown",
   "id": "91e828f9-9d39-49ed-9336-274824b4dc76",
   "metadata": {},
   "source": [
    "For each grade level, calculate and display the mean score for each exam."
   ]
  },
  {
   "cell_type": "code",
   "execution_count": 39,
   "id": "40caa41d-6b90-4939-abab-329cfbb03f7b",
   "metadata": {},
   "outputs": [
    {
     "name": "stdout",
     "output_type": "stream",
     "text": [
      "Grade: 9          test1 Mean: 76.27 \n",
      "Grade: 9          test2 Mean: 70.50 \n",
      "Grade: 9          test3 Mean: 76.88 \n",
      "Grade: 9          test4 Mean: 64.62 \n",
      "Grade: 9          final Mean: 67.23 \n",
      "----------------------------------------\n",
      "Grade: 10         test1 Mean: 81.08 \n",
      "Grade: 10         test2 Mean: 79.25 \n",
      "Grade: 10         test3 Mean: 84.12 \n",
      "Grade: 10         test4 Mean: 75.00 \n",
      "Grade: 10         final Mean: 72.58 \n",
      "----------------------------------------\n",
      "Grade: 11         test1 Mean: 84.64 \n",
      "Grade: 11         test2 Mean: 79.93 \n",
      "Grade: 11         test3 Mean: 86.75 \n",
      "Grade: 11         test4 Mean: 74.39 \n",
      "Grade: 11         final Mean: 81.25 \n",
      "----------------------------------------\n",
      "Grade: 12         test1 Mean: 82.55 \n",
      "Grade: 12         test2 Mean: 84.32 \n",
      "Grade: 12         test3 Mean: 85.95 \n",
      "Grade: 12         test4 Mean: 79.36 \n",
      "Grade: 12         final Mean: 70.64 \n",
      "----------------------------------------\n"
     ]
    }
   ],
   "source": [
    "for grade in grade_dict:\n",
    "    for exam in exam_names:\n",
    "        print(f'Grade: {grade:<10} {exam} Mean: {np.mean(grade_dict[grade][exam]):.2f} ')\n",
    "    print('-'*40)"
   ]
  },
  {
   "cell_type": "markdown",
   "id": "9662e1bf-aca3-4a7d-8a2b-127c202f55f3",
   "metadata": {},
   "source": [
    "Create a bar plot showing the mean scores of all exams for each grade level."
   ]
  },
  {
   "cell_type": "code",
   "execution_count": 40,
   "id": "813159e6-508e-4cf9-bffe-c0941725b7e2",
   "metadata": {},
   "outputs": [
    {
     "data": {
      "image/png": "[encoded data removed]",
      "text/plain": [
       "<Figure size 2000x400 with 4 Axes>"
      ]
     },
     "metadata": {},
     "output_type": "display_data"
    }
   ],
   "source": [
    "plt.figure(figsize=(20,4))\n",
    "k = 1\n",
    "for grade in grade_list:\n",
    "    plt.subplot(1,4,k)\n",
    "    sns.barplot(x=exam_names, y=[np.mean(grade_dict[grade][exam]) for exam in exam_names])\n",
    "    plt.title(grade)\n",
    "    plt.xlabel('exam')\n",
    "    plt.ylabel('score')\n",
    "    k += 1"
   ]
  },
  {
   "cell_type": "markdown",
   "id": "71c1988f-e6f4-49a8-a5a0-1200c79dd1ad",
   "metadata": {},
   "source": [
    "### Exam Based"
   ]
  },
  {
   "cell_type": "markdown",
   "id": "6eac6bac-da01-48d0-b551-8c5c7ed1c9ce",
   "metadata": {},
   "source": [
    "For each exam, calculate and display the mean score for each grade level."
   ]
  },
  {
   "cell_type": "code",
   "execution_count": 42,
   "id": "2a01c0d4-ed83-4268-97d1-93fe3ce6a1f7",
   "metadata": {},
   "outputs": [
    {
     "name": "stdout",
     "output_type": "stream",
     "text": [
      "Grade: 9     test1 Mean: 76.27 \n",
      "Grade: 10    test1 Mean: 81.08 \n",
      "Grade: 11    test1 Mean: 84.64 \n",
      "Grade: 12    test1 Mean: 82.55 \n",
      "----------------------------------------\n",
      "Grade: 9     test2 Mean: 70.50 \n",
      "Grade: 10    test2 Mean: 79.25 \n",
      "Grade: 11    test2 Mean: 79.93 \n",
      "Grade: 12    test2 Mean: 84.32 \n",
      "----------------------------------------\n",
      "Grade: 9     test3 Mean: 76.88 \n",
      "Grade: 10    test3 Mean: 84.12 \n",
      "Grade: 11    test3 Mean: 86.75 \n",
      "Grade: 12    test3 Mean: 85.95 \n",
      "----------------------------------------\n",
      "Grade: 9     test4 Mean: 64.62 \n",
      "Grade: 10    test4 Mean: 75.00 \n",
      "Grade: 11    test4 Mean: 74.39 \n",
      "Grade: 12    test4 Mean: 79.36 \n",
      "----------------------------------------\n",
      "Grade: 9     final Mean: 67.23 \n",
      "Grade: 10    final Mean: 72.58 \n",
      "Grade: 11    final Mean: 81.25 \n",
      "Grade: 12    final Mean: 70.64 \n",
      "----------------------------------------\n"
     ]
    }
   ],
   "source": [
    "for exam in exam_names:\n",
    "    for grade in grade_dict:\n",
    "        print(f'Grade: {grade:<5} {exam} Mean: {np.mean(grade_dict[grade][exam]):.2f} ')\n",
    "    print('-'*40)"
   ]
  },
  {
   "cell_type": "markdown",
   "id": "18234455-4b5b-4ca4-af92-930acc9af817",
   "metadata": {},
   "source": [
    "Create a bar plot showing the mean scores of each exam for each grade level."
   ]
  },
  {
   "cell_type": "code",
   "execution_count": 43,
   "id": "04eacab0-dbd1-4feb-84c5-b02afab481a6",
   "metadata": {},
   "outputs": [
    {
     "data": {
      "image/png": "[encoded data removed]",
      "text/plain": [
       "<Figure size 2000x400 with 5 Axes>"
      ]
     },
     "metadata": {},
     "output_type": "display_data"
    }
   ],
   "source": [
    "plt.figure(figsize=(20,4))\n",
    "k = 1\n",
    "for exam in exam_names:\n",
    "    plt.subplot(1,5,k)\n",
    "    sns.barplot(x=grade_list, y=[np.mean(grade_dict[grade][exam]) for grade in grade_list])\n",
    "    plt.title(exam)\n",
    "    plt.xlabel('grade')\n",
    "    plt.ylabel('score')\n",
    "    k += 1"
   ]
  },
  {
   "cell_type": "markdown",
   "id": "3fc9e02a-cb27-457c-a1ca-5af3a1f05ae8",
   "metadata": {},
   "source": [
    "## Future Work"
   ]
  },
  {
   "cell_type": "markdown",
   "id": "3f253f9d-f627-4d52-8ccc-4c469b6ca68d",
   "metadata": {},
   "source": [
    "Use different distributions to randomly generate exam grades, ensuring that the distributions vary for different grade levels. Additionally, employ various visualization tools to analyze the data.\n"
   ]
  },
  {
   "cell_type": "code",
   "execution_count": null,
   "id": "6d87c57b-6179-45de-b798-e1c8d6fbf80b",
   "metadata": {},
   "outputs": [],
   "source": []
  }
 ],
 "metadata": {
  "kernelspec": {
   "display_name": "Python 3 (ipykernel)",
   "language": "python",
   "name": "python3"
  },
  "language_info": {
   "codemirror_mode": {
    "name": "ipython",
    "version": 3
   },
   "file_extension": ".py",
   "mimetype": "text/x-python",
   "name": "python",
   "nbconvert_exporter": "python",
   "pygments_lexer": "ipython3",
   "version": "3.11.8"
  }
 },
 "nbformat": 4,
 "nbformat_minor": 5
}
