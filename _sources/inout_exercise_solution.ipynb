{
 "cells": [
  {
   "cell_type": "markdown",
   "id": "83bac819-beda-40ef-a007-4d850350798e",
   "metadata": {},
   "source": [
    "# Input and Output Exercises "
   ]
  },
  {
   "cell_type": "markdown",
   "id": "24076788-124f-4c74-8b33-e5c577c449c8",
   "metadata": {},
   "source": [
    "## Question-1\n",
    "Write a single print statement that produces the following output:  \n",
    "A  \n",
    "B  \n",
    "CD  \n",
    "E\n",
    "\n",
    "**Solution**"
   ]
  },
  {
   "cell_type": "code",
   "execution_count": 1,
   "id": "36c9d9db-6eb9-403a-86da-aa47ee183c35",
   "metadata": {},
   "outputs": [
    {
     "name": "stdout",
     "output_type": "stream",
     "text": [
      "A\n",
      "B\n",
      "CD\n",
      "E\n"
     ]
    }
   ],
   "source": [
    "print('A\\nB\\nCD\\nE')"
   ]
  },
  {
   "cell_type": "markdown",
   "id": "e65a3a77-67d2-4ef5-8076-386d6849f291",
   "metadata": {},
   "source": [
    "## Question-2\n",
    "Use 2 *print()* functions, and the strings 'A', 'B', 'C', 'D'  to generate the following output.\n",
    "A---B---C---D\n",
    "\n",
    "**Solution**"
   ]
  },
  {
   "cell_type": "code",
   "execution_count": 2,
   "id": "4498b3ca-4531-48b4-9c7c-662174e32e53",
   "metadata": {},
   "outputs": [
    {
     "name": "stdout",
     "output_type": "stream",
     "text": [
      "A---B---C---D\n"
     ]
    }
   ],
   "source": [
    "print('A','B','C', end='---', sep='---')\n",
    "print('D')"
   ]
  },
  {
   "cell_type": "markdown",
   "id": "df40ae8d-55e6-4bc3-b918-acc4dab02f98",
   "metadata": {},
   "source": [
    "## Question-3\n",
    "Use a single *print()* function and the strings 'ABCDE' and 'FGH' to generate the following output: *FGCDE*\n",
    "\n",
    "**Solution**"
   ]
  },
  {
   "cell_type": "code",
   "execution_count": 3,
   "id": "fb856544-36f9-4e55-b6b5-bd01df26d570",
   "metadata": {},
   "outputs": [
    {
     "name": "stdout",
     "output_type": "stream",
     "text": [
      "FGCDE\n"
     ]
    }
   ],
   "source": [
    "print('ABCDE', '\\r', 'FGH','\\b', sep='')"
   ]
  },
  {
   "cell_type": "markdown",
   "id": "1b201fd9-a839-4f46-938a-6e0c32c07469",
   "metadata": {},
   "source": [
    "## Question-4\n",
    "\n",
    "Write a program that prompts the user for 3 numbers using 3 *input()* functions.\n",
    "- Find the harmonic mean of these numbers using the formula:\n",
    "$\\displaystyle H(x, y, z) = \\frac{3}{\\frac{1}{x}+\\frac{1}{y}+\\frac{1}{z}}$\n",
    "- Round the harmonic mean to the nearest hundredth and print it in the following format: $H(x,y,z)=$ rounded harmonic mean.\n",
    "\n",
    "**Sample Output:**\n",
    "  \n",
    "Enter x:  2  \n",
    "Enter y:  3  \n",
    "Enter z:  4\n",
    "\n",
    "H(2.0,3.0,4.0) = 2.77   \n",
    " \n",
    "**Solution**"
   ]
  },
  {
   "cell_type": "markdown",
   "id": "767e4999-9470-4359-9a6e-6557efa8ec0d",
   "metadata": {},
   "source": [
    "``` python\n",
    "x = float(input('Enter x: '))\n",
    "y = float(input('Enter y: '))\n",
    "z = float(input('Enter z: '))\n",
    "\n",
    "H = round(3/(1/x+1/y+1/z), 2)\n",
    "\n",
    "print('H(',x,',',y,',',z,') = ',H, sep='')\n",
    "```"
   ]
  },
  {
   "cell_type": "markdown",
   "id": "9c687911-d046-406a-ab5c-8636075e9b49",
   "metadata": {},
   "source": [
    "## Question-5\n",
    "\n",
    "Write a program that prompts the user for a number and a word using 2 *input()* functions.\n",
    "- Print the given word as many times as the given number.\n",
    " \n",
    "**Solution**"
   ]
  },
  {
   "cell_type": "markdown",
   "id": "28246f15-10fa-4e88-a83b-7bbf95489f37",
   "metadata": {},
   "source": [
    "``` python\n",
    "number = int(input('Enter a number: '))\n",
    "word   =     input('Enter a word  : ')\n",
    "\n",
    "print(number*word)\n",
    "```"
   ]
  },
  {
   "cell_type": "markdown",
   "id": "d656cb71-6590-4021-9a6e-b75807507cd1",
   "metadata": {},
   "source": [
    "## Question-6: Std\n",
    "\n",
    "Write a program that prompts the user for 3 numbers using 3 *input()* functions.\n",
    "- Find the mean of these three numbers.\n",
    "- Subtract the mean from each number.\n",
    "- Square each of these differences.\n",
    "- Find the mean of these squares.\n",
    "- Take the square root of this mean and round it to the nearest hundredth.\n",
    "  \n",
    "*Remark:This is the standard deviation of the given numbers, which provides information about how the given numbers are spread out around the mean.* \n",
    "\n",
    "**Solution**"
   ]
  },
  {
   "cell_type": "markdown",
   "id": "d6b98e0e-9ed0-4651-84e8-d3f725447000",
   "metadata": {},
   "source": [
    "``` python\n",
    "import statistics\n",
    "\n",
    "x = float(input('Enter x: '))\n",
    "y = float(input('Enter y: '))\n",
    "z = float(input('Enter z: '))\n",
    "\n",
    "first_mean = statistics.mean([x, y, z])\n",
    "xd, yd, zd = x-first_mean, y-first_mean, z-first_mean\n",
    "\n",
    "second_mean = statistics.mean([xd**2, yd**2, z**2])\n",
    "\n",
    "std = statistics.sqrt(second_mean)\n",
    "\n",
    "print('Std:', round(std, 2))\n",
    "```"
   ]
  },
  {
   "cell_type": "markdown",
   "id": "e58e91ec-ebe6-424f-9f5c-9f43cc05f4d3",
   "metadata": {},
   "source": [
    "## Question-7: Countdown\n",
    "\n",
    "Write a program that prints the numbers starting from 5 down to 1 and displays 'START' after that.\n",
    "- Use the *sleep()* function from the *time* module to add a 1-second waiting time between each number for observation.\n",
    "- After printing a number, pause for 1 second, then delete it before printing the next number.\n",
    "- The output of your program should resemble a countdown.\n",
    "  \n",
    "**Solution**"
   ]
  },
  {
   "cell_type": "code",
   "execution_count": 4,
   "id": "995a9b26-f290-4dfd-9fcb-14e537b97a1e",
   "metadata": {},
   "outputs": [
    {
     "name": "stdout",
     "output_type": "stream",
     "text": [
      " START\n"
     ]
    }
   ],
   "source": [
    "import time \n",
    "print(5, end='')\n",
    "time.sleep(1)\n",
    "print('\\b', 4, end='', sep='')\n",
    "time.sleep(1)\n",
    "print('\\b', 3, end='', sep='')\n",
    "time.sleep(1)\n",
    "print('\\b', 2, end='', sep='')\n",
    "time.sleep(1)\n",
    "print('\\b', 1, end='', sep='')\n",
    "print('\\b','START')"
   ]
  },
  {
   "cell_type": "markdown",
   "id": "f2c755db-0b2f-4bd7-a0c6-c54a4472b042",
   "metadata": {},
   "source": [
    "## Question-8: Arrow\n",
    "\n",
    "Write a program that prints the moving arrow '--->'.\n",
    "- Print the arrow, then add a one-second waiting time, then delete it.\n",
    "- Print the arrow again with a single space in front of it, then add a one-second waiting time, then delete it.\n",
    "- Repeat this procedure 10 times by increasing the space one more in each step.\n",
    "- The output of your program should resemble a moving arrow to the right.\n",
    "\n",
    "**Solution**"
   ]
  },
  {
   "cell_type": "code",
   "execution_count": 5,
   "id": "8a59f52f-c3fd-420e-9b6c-98baaea1a39e",
   "metadata": {},
   "outputs": [
    {
     "name": "stdout",
     "output_type": "stream",
     "text": [
      "          --->"
     ]
    }
   ],
   "source": [
    "import time \n",
    "arrow = '--->'\n",
    "print(arrow, end='')\n",
    "time.sleep(1)\n",
    "print('\\r' + ' '*1 + arrow, end='')\n",
    "time.sleep(1)\n",
    "print('\\r' + ' '*2 + arrow, end='')\n",
    "time.sleep(1)\n",
    "print('\\r' + ' '*3 + arrow, end='')\n",
    "time.sleep(1)\n",
    "print('\\r' + ' '*4 + arrow, end='')\n",
    "time.sleep(1)\n",
    "print('\\r' + ' '*5 + arrow, end='')\n",
    "time.sleep(1)\n",
    "print('\\r' + ' '*6 + arrow, end='')\n",
    "time.sleep(1)\n",
    "print('\\r' + ' '*7 + arrow, end='')\n",
    "time.sleep(1)\n",
    "print('\\r' + ' '*8 + arrow, end='')\n",
    "time.sleep(1)\n",
    "print('\\r' + ' '*9 + arrow, end='')\n",
    "time.sleep(1)\n",
    "print('\\r' + ' '*10 + arrow, end='')"
   ]
  },
  {
   "cell_type": "code",
   "execution_count": null,
   "id": "27cf7a14-0bf5-44bd-97e0-3f7394984d67",
   "metadata": {},
   "outputs": [],
   "source": []
  },
  {
   "cell_type": "code",
   "execution_count": null,
   "id": "89c73fa7-4769-464b-aa4a-5f28327842bb",
   "metadata": {},
   "outputs": [],
   "source": []
  },
  {
   "cell_type": "code",
   "execution_count": null,
   "id": "864d0edd-3992-445c-8695-408ce26685d7",
   "metadata": {},
   "outputs": [],
   "source": []
  }
 ],
 "metadata": {
  "kernelspec": {
   "display_name": "Python 3 (ipykernel)",
   "language": "python",
   "name": "python3"
  },
  "language_info": {
   "codemirror_mode": {
    "name": "ipython",
    "version": 3
   },
   "file_extension": ".py",
   "mimetype": "text/x-python",
   "name": "python",
   "nbconvert_exporter": "python",
   "pygments_lexer": "ipython3",
   "version": "3.11.7"
  }
 },
 "nbformat": 4,
 "nbformat_minor": 5
}
