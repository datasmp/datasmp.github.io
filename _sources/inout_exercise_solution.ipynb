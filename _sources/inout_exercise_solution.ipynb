{
 "cells": [
  {
   "cell_type": "markdown",
   "id": "83bac819-beda-40ef-a007-4d850350798e",
   "metadata": {},
   "source": [
    "# Input and Output Exercises and Solutions"
   ]
  },
  {
   "cell_type": "markdown",
   "id": "24076788-124f-4c74-8b33-e5c577c449c8",
   "metadata": {},
   "source": [
    "## Question-1\n",
    "Write a single print statement that produces the following output:  \n",
    "A  \n",
    "B  \n",
    "CD  \n",
    "E\n",
    "\n",
    "**Solution**"
   ]
  },
  {
   "cell_type": "code",
   "execution_count": 1,
   "id": "36c9d9db-6eb9-403a-86da-aa47ee183c35",
   "metadata": {},
   "outputs": [
    {
     "name": "stdout",
     "output_type": "stream",
     "text": [
      "A\n",
      "B\n",
      "CD\n",
      "E\n"
     ]
    }
   ],
   "source": [
    "print('A\\nB\\nCD\\nE')"
   ]
  },
  {
   "cell_type": "markdown",
   "id": "e65a3a77-67d2-4ef5-8076-386d6849f291",
   "metadata": {},
   "source": [
    "## Question-2\n",
    "Use two *print()* functions, and the strings 'A', 'B', 'C', 'D'  to generate the following output.  \n",
    "A---B---C---D\n",
    "\n",
    "**Solution**"
   ]
  },
  {
   "cell_type": "code",
   "execution_count": 2,
   "id": "4498b3ca-4531-48b4-9c7c-662174e32e53",
   "metadata": {},
   "outputs": [
    {
     "name": "stdout",
     "output_type": "stream",
     "text": [
      "A---B---C---D\n"
     ]
    }
   ],
   "source": [
    "print('A','B','C', end='---', sep='---')\n",
    "print('D')"
   ]
  },
  {
   "cell_type": "markdown",
   "id": "df40ae8d-55e6-4bc3-b918-acc4dab02f98",
   "metadata": {},
   "source": [
    "## Question-3\n",
    "Use a single *print()* function and the strings 'ABCDE' and 'FGH' to generate the following output: *FGCDE*\n",
    "\n",
    "**Solution**"
   ]
  },
  {
   "cell_type": "code",
   "execution_count": 3,
   "id": "fb856544-36f9-4e55-b6b5-bd01df26d570",
   "metadata": {},
   "outputs": [
    {
     "name": "stdout",
     "output_type": "stream",
     "text": [
      "FGCDE\n"
     ]
    }
   ],
   "source": [
    "print('ABCDE', '\\r', 'FGH','\\b', sep='')"
   ]
  },
  {
   "cell_type": "markdown",
   "id": "173e4695-b9e3-4db5-9886-5d68d4044671",
   "metadata": {},
   "source": [
    "## Question-4\n",
    "Write a program that prompts the user for a positive integer.\n",
    "- Print that integer.\n",
    "- On the second line, print one more than the given number two times separated by a dash.\n",
    "- On the third line, print two more than the given number three times separated by dashes.\n",
    "- On the fourth line, print three more than the given number four times separated by dashes.\n",
    "- On the fifth line, print four more than the given number five times separated by dashes.\n",
    "\n",
    "Sample Output:  \n",
    "Please enter an integer: 5  \n",
    "5  \n",
    "6-6  \n",
    "7-7-7  \n",
    "8-8-8-8  \n",
    "9-9-9-9-9  "
   ]
  },
  {
   "cell_type": "markdown",
   "id": "226cad8c-b7c1-45ea-92e3-4326576c2dbe",
   "metadata": {},
   "source": [
    "**Solution**\n",
    "``` python  \n",
    "number = int(input('Please enter an integer:'))\n",
    "\n",
    "print(number)\n",
    "print(number+1, number+1, sep='-')\n",
    "print(number+2, number+2, number+2, sep='-')\n",
    "print(number+3, number+3, number+3, number+3, sep='-')\n",
    "print(number+4, number+4, number+4, number+4, number+4, sep='-')\n",
    "```"
   ]
  },
  {
   "cell_type": "markdown",
   "id": "1b201fd9-a839-4f46-938a-6e0c32c07469",
   "metadata": {},
   "source": [
    "## Question-5: Harmonic Mean\n",
    "\n",
    "Write a program that prompts the user for 3 numbers using three *input()* functions.\n",
    "- Find the harmonic mean of these numbers using the formula:\n",
    "$\\displaystyle H(x, y, z) = \\frac{3}{\\frac{1}{x}+\\frac{1}{y}+\\frac{1}{z}}$\n",
    "- Round the harmonic mean to the nearest hundredth and print it in the following format: $H(x,y,z)=$ rounded harmonic mean.\n",
    "\n",
    "**Sample Output:**\n",
    "  \n",
    "Enter x:  2  \n",
    "Enter y:  3  \n",
    "Enter z:  4\n",
    "\n",
    "H(2.0,3.0,4.0) = 2.77   \n",
    " \n",
    "**Solution**"
   ]
  },
  {
   "cell_type": "markdown",
   "id": "767e4999-9470-4359-9a6e-6557efa8ec0d",
   "metadata": {},
   "source": [
    "``` python\n",
    "x = float(input('Enter x: '))\n",
    "y = float(input('Enter y: '))\n",
    "z = float(input('Enter z: '))\n",
    "\n",
    "H = round(3/(1/x+1/y+1/z), 2)\n",
    "\n",
    "print('H(',x,',',y,',',z,') = ',H, sep='')\n",
    "```"
   ]
  },
  {
   "cell_type": "markdown",
   "id": "9c687911-d046-406a-ab5c-8636075e9b49",
   "metadata": {},
   "source": [
    "## Question-6\n",
    "\n",
    "Write a program that prompts the user for a number and a word using 2 *input()* functions.\n",
    "- Print the given word as many times as the given number.\n",
    " \n",
    "**Solution**"
   ]
  },
  {
   "cell_type": "markdown",
   "id": "28246f15-10fa-4e88-a83b-7bbf95489f37",
   "metadata": {},
   "source": [
    "``` python\n",
    "number = int(input('Enter a number: '))\n",
    "word   =     input('Enter a word  : ')\n",
    "\n",
    "print(number*word)\n",
    "```"
   ]
  },
  {
   "cell_type": "markdown",
   "id": "d656cb71-6590-4021-9a6e-b75807507cd1",
   "metadata": {},
   "source": [
    "## Question-7: Standard Deviation\n",
    "\n",
    "Write a program that prompts the user for 3 numbers using 3 *input()* functions.\n",
    "- Find the mean of these three numbers.\n",
    "- Subtract the mean from each number.\n",
    "- Square each of these differences.\n",
    "- Find the mean of these squares.\n",
    "- Take the square root of this mean and round it to the nearest hundredth.\n",
    "  \n",
    "*Remark:This is the standard deviation of the given numbers, which provides information about how the given numbers are spread out around the mean.* \n",
    "\n",
    "**Solution**"
   ]
  },
  {
   "cell_type": "markdown",
   "id": "d6b98e0e-9ed0-4651-84e8-d3f725447000",
   "metadata": {},
   "source": [
    "``` python\n",
    "import statistics\n",
    "\n",
    "x = float(input('Enter x: '))\n",
    "y = float(input('Enter y: '))\n",
    "z = float(input('Enter z: '))\n",
    "\n",
    "first_mean = statistics.mean([x, y, z])\n",
    "xd, yd, zd = x-first_mean, y-first_mean, z-first_mean\n",
    "\n",
    "second_mean = statistics.mean([xd**2, yd**2, zd**2])\n",
    "\n",
    "std = statistics.sqrt(second_mean)\n",
    "\n",
    "print('Std:', round(std, 2))\n",
    "```"
   ]
  },
  {
   "cell_type": "markdown",
   "id": "e58e91ec-ebe6-424f-9f5c-9f43cc05f4d3",
   "metadata": {},
   "source": [
    "## Question-8: Countdown\n",
    "\n",
    "Write a program that prints the numbers starting from 5 down to 1 and displays 'START' after that.\n",
    "- Use the *sleep()* function from the *time* module to add a 1-second waiting time between each number for observation.\n",
    "- After printing a number, pause for 1 second, then delete it before printing the next number.\n",
    "- The output of your program should resemble a countdown.\n",
    "  \n",
    "**Solution**"
   ]
  },
  {
   "cell_type": "code",
   "execution_count": 4,
   "id": "995a9b26-f290-4dfd-9fcb-14e537b97a1e",
   "metadata": {},
   "outputs": [
    {
     "name": "stdout",
     "output_type": "stream",
     "text": [
      " START\n"
     ]
    }
   ],
   "source": [
    "import time \n",
    "print(5, end='')\n",
    "time.sleep(1)\n",
    "print('\\b', 4, end='', sep='')\n",
    "time.sleep(1)\n",
    "print('\\b', 3, end='', sep='')\n",
    "time.sleep(1)\n",
    "print('\\b', 2, end='', sep='')\n",
    "time.sleep(1)\n",
    "print('\\b', 1, end='', sep='')\n",
    "print('\\b','START')"
   ]
  },
  {
   "cell_type": "markdown",
   "id": "f2c755db-0b2f-4bd7-a0c6-c54a4472b042",
   "metadata": {},
   "source": [
    "## Question-9: Arrow\n",
    "\n",
    "Write a program that prints the moving arrow '--->'.\n",
    "- Print the arrow, then add a one-second waiting time, then delete it.\n",
    "- Print the arrow again with a single space in front of it, then add a one-second waiting time, then delete it.\n",
    "- Repeat this procedure 10 times by increasing the space one more in each step.\n",
    "- The output of your program should resemble a moving arrow to the right.\n",
    "\n",
    "**Solution**"
   ]
  },
  {
   "cell_type": "code",
   "execution_count": 5,
   "id": "8a59f52f-c3fd-420e-9b6c-98baaea1a39e",
   "metadata": {},
   "outputs": [
    {
     "name": "stdout",
     "output_type": "stream",
     "text": [
      "          --->"
     ]
    }
   ],
   "source": [
    "import time \n",
    "arrow = '--->'\n",
    "print(arrow, end='')\n",
    "time.sleep(1)\n",
    "print('\\r' + ' '*1 + arrow, end='')\n",
    "time.sleep(1)\n",
    "print('\\r' + ' '*2 + arrow, end='')\n",
    "time.sleep(1)\n",
    "print('\\r' + ' '*3 + arrow, end='')\n",
    "time.sleep(1)\n",
    "print('\\r' + ' '*4 + arrow, end='')\n",
    "time.sleep(1)\n",
    "print('\\r' + ' '*5 + arrow, end='')\n",
    "time.sleep(1)\n",
    "print('\\r' + ' '*6 + arrow, end='')\n",
    "time.sleep(1)\n",
    "print('\\r' + ' '*7 + arrow, end='')\n",
    "time.sleep(1)\n",
    "print('\\r' + ' '*8 + arrow, end='')\n",
    "time.sleep(1)\n",
    "print('\\r' + ' '*9 + arrow, end='')\n",
    "time.sleep(1)\n",
    "print('\\r' + ' '*10 + arrow, end='')"
   ]
  },
  {
   "cell_type": "markdown",
   "id": "027ffeed-6c63-47c2-8003-386b464fbd76",
   "metadata": {},
   "source": [
    "## Question-10: Standard Scaling\n",
    "\n",
    "Write a program that prompts the user for 5 numbers using 5 *input()* functions.\n",
    "- Find the mean and standard deviation of these three numbers.\n",
    "- Subtract the mean from each number.\n",
    "- Divide each of these differences by the standard deviation.\n",
    "  \n",
    "*Remark: This is the standard scaling of a data set. This means that the mean and standard deviation of the data becomes zero and one, respectively.*\n",
    "\n",
    "**Solution**"
   ]
  },
  {
   "cell_type": "markdown",
   "id": "189cf52f-c591-4224-a5fc-c6e15bec5136",
   "metadata": {},
   "source": [
    "``` python\n",
    "import statistics\n",
    "\n",
    "num1 = float(input('Enter the first number : '))\n",
    "num2 = float(input('Enter the second number: '))\n",
    "num3 = float(input('Enter the third number : '))\n",
    "num4 = float(input('Enter the fourth number: '))\n",
    "num5 = float(input('Enter the fifth number : '))\n",
    "\n",
    "\n",
    "mean_num = statistics.mean([num1, num2, num3, num4, num5])\n",
    "std_num  = statistics.pstdev([num1, num2, num3, num4, num5])\n",
    "\n",
    "num1 = (num1 - mean_num)/std_num\n",
    "num2 = (num2 - mean_num)/std_num\n",
    "num3 = (num3 - mean_num)/std_num, \n",
    "num4 = (num4 - mean_num)/std_num\n",
    "num5 = (num5 - mean_num)/std_num\n",
    "\n",
    "print('Standard Scaled:', num1, num2,num3,num4,num5)\n",
    "```"
   ]
  },
  {
   "cell_type": "markdown",
   "id": "ba2d1245-6885-432f-8f0b-a56669950839",
   "metadata": {},
   "source": [
    "## Question-11: MinMax Scaling\n",
    "\n",
    "Write a program that prompts the user for 5 numbers using 5 input() functions.\n",
    "- Find the minimum and maximum of these numbers.\n",
    "- Subtract the minimum from each number, then divide each of these differences by the difference between the maximum and minimum.\n",
    "\n",
    "*Remark: This is the MinMax scaling of a dataset, meaning that the data becomes scaled between 0 and 1.*  \n",
    "\n",
    "**Solution**"
   ]
  },
  {
   "cell_type": "markdown",
   "id": "b7a16cdf-d09e-4100-bc79-db2033078895",
   "metadata": {},
   "source": [
    "``` python\n",
    "import statistics\n",
    "\n",
    "num1 = float(input('Enter the first number : '))\n",
    "num2 = float(input('Enter the second number: '))\n",
    "num3 = float(input('Enter the third number : '))\n",
    "num4 = float(input('Enter the fourth number: '))\n",
    "num5 = float(input('Enter the fifth number : '))\n",
    "\n",
    "min_num = min(num1, num2, num3, num4, num5)\n",
    "max_num = max(num1, num2, num3, num4, num5)\n",
    "\n",
    "num1 = (num1 - min_num)/(max_num-min_num)\n",
    "num2 = (num2 - min_num)/(max_num-min_num)\n",
    "num3 = (num3 - min_num)/(max_num-min_num)\n",
    "num4 = (num4 - min_num)/(max_num-min_num)\n",
    "num5 = (num5 - min_num)/(max_num-min_num)\n",
    "\n",
    "\n",
    "print('MinMax Scaled:', num1, num2,num3,num4,num5)\n",
    "```"
   ]
  },
  {
   "cell_type": "markdown",
   "id": "54b271f3-77fc-4eab-9d23-1bfb24955d6c",
   "metadata": {},
   "source": [
    "## Question-12: Square\n",
    "Print a square using the character `*`.\n",
    "- Each side consists of number many '*' characters with a space between them.\n",
    "\n",
    "``` python\n",
    "length = 3\n",
    "```\n",
    "\n",
    "**Examples**\n",
    "![](pict/square_star.png)"
   ]
  },
  {
   "cell_type": "markdown",
   "id": "54a0bf35-3564-417d-81ef-d20736b9ab20",
   "metadata": {},
   "source": [
    "**Solution**"
   ]
  },
  {
   "cell_type": "code",
   "execution_count": 6,
   "id": "6c33b50b-db9d-4e8c-83fc-db333c41205b",
   "metadata": {},
   "outputs": [
    {
     "name": "stdout",
     "output_type": "stream",
     "text": [
      "* * * * * \n",
      "*       *\n",
      "*       *\n",
      "*       *\n",
      "* * * * * \n"
     ]
    }
   ],
   "source": [
    "length = 5\n",
    "print('* ' *length)\n",
    "print(('*'+' '*(2*length-3)+'*\\n')*(length-2), end='')\n",
    "print('* ' *length)"
   ]
  },
  {
   "cell_type": "markdown",
   "id": "126560d3-1ef7-4ae9-a0c2-36aa38d3bef9",
   "metadata": {},
   "source": [
    "## Business Applications"
   ]
  },
  {
   "cell_type": "markdown",
   "id": "f7be6ba7-a409-4c62-ac44-cac3be1cc3f8",
   "metadata": {},
   "source": [
    "### Question: Production Data Analysis\n",
    "\n",
    "Write a program that prompts the user for 5 numbers using five input() functions, each representing the annual production for the last five years.\n",
    "\n",
    "Calculate the total, average, and highest production using built-in functions."
   ]
  },
  {
   "cell_type": "markdown",
   "id": "f988c8fb-b2c2-4e4a-957b-c989d71d5ca6",
   "metadata": {},
   "source": [
    "``` python\n",
    "prod1 = float(input('Enter the first  production:'))\n",
    "prod2 = float(input('Enter the second production:'))\n",
    "prod3 = float(input('Enter the third  production:'))\n",
    "prod4 = float(input('Enter the fourth production:'))\n",
    "prod5 = float(input('Enter the fifth  production:'))\n",
    "\n",
    "\n",
    "sum_prod = sum([prod1, prod2, prod3, prod4, prod5])\n",
    "mean_prod =sum_prod/5\n",
    "max_prod = max(prod1, prod2, prod3, prod4, prod5)\n",
    "\n",
    "print('Total   :', sum_prod)\n",
    "print('Average :', mean_prod)\n",
    "print('Highest:', max_prod)"
   ]
  },
  {
   "cell_type": "markdown",
   "id": "eae11094-fda3-4201-acee-d19f412c2391",
   "metadata": {},
   "source": [
    "### Question: Revenue\n",
    "Revenue (R) is the product of the number (n) of items sold  and the price (p) of the item.\n",
    "- $R = p\\cdot n$\n",
    "  \n",
    "Write a program that ask the user for the price of an item and calculate the revenue using the following formula for the number of item sold.\n",
    "- $ n = -1.5p+30 $"
   ]
  },
  {
   "cell_type": "markdown",
   "id": "a3f5ec62-8e12-4a1c-90d7-e59b5d549e1e",
   "metadata": {},
   "source": [
    "``` python\n",
    "p = float(input('Please enter the price: '))\n",
    "n = -1.5*p+30\n",
    "r = n*p\n",
    "print('Revenue =', r)"
   ]
  },
  {
   "cell_type": "markdown",
   "id": "3298d590-b9fa-475d-b847-64fbb191b95e",
   "metadata": {},
   "source": [
    "### Question: Simple Interest\n",
    "*Simple Interest Formulas: $\\displaystyle I=P r t$ and $A = P + I$ where*\n",
    "- *A is the final amount*\n",
    "- *I is the interest amount*\n",
    "- *P is the initial (principal) amount*\n",
    "- *r is the annual interest rate (decimal form)*\n",
    "- *t is the number of years*\n",
    "\n",
    "  \n",
    "Write a program that asks the user for the principal, annual interest rate, and number of years using three _input()_ functions one by one, and then returns the interest and final amount.\n",
    "\n",
    "Sample Output:  \n",
    "Please enter the principal: 1500  \n",
    "Please enter the annual interest rate: 0.025  \n",
    "Please enter the year: 20  \n",
    "I = 750.0  \n",
    "A = 2250.0   "
   ]
  },
  {
   "cell_type": "code",
   "execution_count": 11,
   "id": "8636abd9-c8b3-48c4-bf8d-39a8655e01ae",
   "metadata": {},
   "outputs": [
    {
     "name": "stdin",
     "output_type": "stream",
     "text": [
      "Please enter the principal:  1500\n",
      "Please enter the annual interest rate:  0.025\n",
      "Please enter the year:  20\n"
     ]
    },
    {
     "name": "stdout",
     "output_type": "stream",
     "text": [
      "I = 750.0\n",
      "A = 2250.0\n"
     ]
    }
   ],
   "source": [
    "P = float(input('Please enter the principal:'))\n",
    "r = float(input('Please enter the annual interest rate:'))\n",
    "t = float(input('Please enter the year:'))\n",
    "\n",
    "I = P*r*t\n",
    "A = P + I\n",
    "print('I =',I)\n",
    "print('A =',A)"
   ]
  },
  {
   "cell_type": "code",
   "execution_count": null,
   "id": "84ae87b0-696e-4e7e-9ec3-e1b6e0200277",
   "metadata": {},
   "outputs": [],
   "source": []
  },
  {
   "cell_type": "code",
   "execution_count": null,
   "id": "c4fe475c-8237-4c41-b304-9a3a6eef0fb4",
   "metadata": {},
   "outputs": [],
   "source": []
  }
 ],
 "metadata": {
  "kernelspec": {
   "display_name": "Python 3 (ipykernel)",
   "language": "python",
   "name": "python3"
  },
  "language_info": {
   "codemirror_mode": {
    "name": "ipython",
    "version": 3
   },
   "file_extension": ".py",
   "mimetype": "text/x-python",
   "name": "python",
   "nbconvert_exporter": "python",
   "pygments_lexer": "ipython3",
   "version": "3.11.7"
  }
 },
 "nbformat": 4,
 "nbformat_minor": 5
}
