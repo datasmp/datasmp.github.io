{
 "cells": [
  {
   "cell_type": "markdown",
   "id": "4e68494d-76ef-4888-b46d-a4d6bf6c4db3",
   "metadata": {},
   "source": [
    "# Strings Warm Up\n",
    "![Section Title: Strings Warm Up](title_pict/strings_warmup2.png)"
   ]
  },
  {
   "cell_type": "markdown",
   "id": "22f0095c-027f-4ea0-987c-d23969b7ee01",
   "metadata": {},
   "source": [
    "## Warm Up Question-1\n",
    "Create a string variable with the value `isn't` and print it."
   ]
  },
  {
   "cell_type": "markdown",
   "id": "664e2592-87b4-46b2-9eef-cb5b4ad995e1",
   "metadata": {},
   "source": [
    "## Warm Up Question -2\n",
    "For the variable country = `'jamaica'`:\n",
    "\n",
    "- Display the character `'m'` using its positive index.\n",
    "- Display the character `'i'` using its negative index.\n"
   ]
  },
  {
   "cell_type": "markdown",
   "id": "b26b5b3c-ff36-4c2b-9569-cb19c432e5f8",
   "metadata": {},
   "source": [
    "## Warm Up Question-3\n",
    "Use the provided variables and f-strings to output the statement: \n",
    "`I am in 10th grade and my Chemistry teacher is Mr. Adams.`\n",
    "```python\n",
    "grade, course, teacher = 10, 'Chemistry', 'Mr.Adams' "
   ]
  },
  {
   "cell_type": "markdown",
   "id": "4c26ddb3-5a8c-4a28-816b-7be2691d238b",
   "metadata": {},
   "source": [
    "## Warm Up Question-4\n",
    "Choose a Unicode character and display it after a related sentence using its code:"
   ]
  },
  {
   "cell_type": "markdown",
   "id": "245a4024-f1f7-48b2-9a3f-492eb49c6936",
   "metadata": {},
   "source": [
    "## Warm Up Question-5\n",
    "\n",
    "Display the following face.\n",
    "\n",
    "![It is a face with eyes, nose, and mouth using star characters.\n",
    "The eyes are represented by two 3x3 star blocks with a large space between them.\n",
    "The nose is a 4x3 star block positioned underneath the eyes and centered between them.\n",
    "The mouth is a 2x13 star block at the bottom.](pict/face.png)\n"
   ]
  }
 ],
 "metadata": {
  "kernelspec": {
   "display_name": "Python 3 (ipykernel)",
   "language": "python",
   "name": "python3"
  },
  "language_info": {
   "codemirror_mode": {
    "name": "ipython",
    "version": 3
   },
   "file_extension": ".py",
   "mimetype": "text/x-python",
   "name": "python",
   "nbconvert_exporter": "python",
   "pygments_lexer": "ipython3",
   "version": "3.11.8"
  }
 },
 "nbformat": 4,
 "nbformat_minor": 5
}
