{
 "cells": [
  {
   "cell_type": "markdown",
   "id": "e0a5d44b-6f59-4f53-8f64-69586abb342b",
   "metadata": {},
   "source": [
    "*!pip list -o*: list of all packages and their current ans latest versions."
   ]
  }
 ],
 "metadata": {
  "kernelspec": {
   "display_name": "Python 3 (ipykernel)",
   "language": "python",
   "name": "python3"
  },
  "language_info": {
   "codemirror_mode": {
    "name": "ipython",
    "version": 3
   },
   "file_extension": ".py",
   "mimetype": "text/x-python",
   "name": "python",
   "nbconvert_exporter": "python",
   "pygments_lexer": "ipython3",
   "version": "3.11.7"
  }
 },
 "nbformat": 4,
 "nbformat_minor": 5
}
