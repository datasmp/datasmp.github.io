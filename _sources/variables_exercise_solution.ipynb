{
 "cells": [
  {
   "cell_type": "markdown",
   "id": "b4ac5876-4e84-4c82-b2d4-0f9d60ae4472",
   "metadata": {},
   "source": [
    "# Variables Exercises and Solutions"
   ]
  },
  {
   "cell_type": "markdown",
   "id": "12d9d3da-fc13-436f-b6d6-5ecc79eb86cf",
   "metadata": {},
   "source": [
    "## Question-1\n",
    "By using the variables $x$ and $y$ given below, print 353535 using 4 different pieces of code."
   ]
  },
  {
   "cell_type": "code",
   "execution_count": 1,
   "id": "621bb88a-f144-4a5a-8a0e-53bc298bae84",
   "metadata": {},
   "outputs": [],
   "source": [
    "x, y = 3, 5"
   ]
  },
  {
   "cell_type": "markdown",
   "id": "85b42915-103e-4ab0-8653-001b898d3a7b",
   "metadata": {
    "jp-MarkdownHeadingCollapsed": true
   },
   "source": [
    "**Solution**"
   ]
  },
  {
   "cell_type": "code",
   "execution_count": 3,
   "id": "6a9294b8-29ee-46ab-94a6-623e150f7300",
   "metadata": {},
   "outputs": [
    {
     "name": "stdout",
     "output_type": "stream",
     "text": [
      "353535\n",
      "353535\n",
      "353535\n",
      "353535\n"
     ]
    }
   ],
   "source": [
    "print((str(x)+str(y))*3)\n",
    "print(str(x)+str(y)+str(x)+str(y)+str(x)+str(y))\n",
    "print((10*x+y)*10101)\n",
    "print(x*101_010+y*10_101)"
   ]
  },
  {
   "cell_type": "markdown",
   "id": "83013432-bc1c-432b-8bbd-9ff4edd8e9b6",
   "metadata": {},
   "source": [
    "## Question-2: U-Shape\n",
    "Print the letter *U* using the character `+`.\n",
    "- The vertical left and right parts of *U* have five `+` characters each.\n",
    "\n",
    "``` python\n",
    "horizontal = 3\n",
    "```\n",
    "\n",
    "- The variable *horizontal* represents the number of `+` characters with one space between them in the bottom horizontal part.\n",
    "\n",
    "**Examples**\n",
    "![](pict/horizontal.png)"
   ]
  },
  {
   "cell_type": "markdown",
   "id": "8d808f63-a884-416d-8a8b-a01c95c6ae11",
   "metadata": {
    "jp-MarkdownHeadingCollapsed": true
   },
   "source": [
    "**Solution**"
   ]
  },
  {
   "cell_type": "code",
   "execution_count": 45,
   "id": "fab04309-c069-4de4-8b57-1a2b066e32d7",
   "metadata": {},
   "outputs": [
    {
     "name": "stdout",
     "output_type": "stream",
     "text": [
      "+   +\n",
      "+   +\n",
      "+   +\n",
      "+   +\n",
      "+ + + \n"
     ]
    }
   ],
   "source": [
    "print('+' + ' '*(2*horizontal-3) + '+')\n",
    "print('+' + ' '*(2*horizontal-3) + '+')\n",
    "print('+' + ' '*(2*horizontal-3) + '+')\n",
    "print('+' + ' '*(2*horizontal-3) + '+')\n",
    "print('+ ' *horizontal)"
   ]
  },
  {
   "cell_type": "markdown",
   "id": "8eb8f3d5-1e86-44f8-828f-9d66fad47c7f",
   "metadata": {},
   "source": [
    "## Question-3\n",
    "Print the statement \"I went to Italy in 2015.\" using the country and year variables below.\n",
    "\n",
    "``` python\n",
    "country = 'Italy'\n",
    "year = 2015\n",
    "```\n",
    "*Warning: There is no space before the period.*"
   ]
  },
  {
   "cell_type": "markdown",
   "id": "fbf525e3-485a-4ca2-8d4e-9629de69c5dd",
   "metadata": {
    "jp-MarkdownHeadingCollapsed": true
   },
   "source": [
    "**Solution**"
   ]
  },
  {
   "cell_type": "code",
   "execution_count": 47,
   "id": "ea721bcc-52bd-42ad-a711-248bbdadde3e",
   "metadata": {},
   "outputs": [
    {
     "name": "stdout",
     "output_type": "stream",
     "text": [
      "I went to Italy in 2015.\n"
     ]
    }
   ],
   "source": [
    "country = 'Italy'\n",
    "year = 2015\n",
    "\n",
    "print('I went to '+ country +' in '+ str(year)+ '.')"
   ]
  },
  {
   "cell_type": "markdown",
   "id": "2ebf2b5b-5322-44df-9067-a9ae8624bbe5",
   "metadata": {},
   "source": [
    "## Question-4\n",
    "Create a variable named `r` and assign the value of $5$ to it.\n",
    "- Print the area and perimeter of the circle with a radius equal to `r`.\n",
    "- Round them to the nearest hundredth.\n",
    "- Hint:\n",
    "    - Perimeter = $2\\pi r$, Area = $\\pi r^2$\n",
    "    - Import $\\pi$ from a module. \n",
    "- Output:\n",
    "    - Perimeter: 31.42\n",
    "    - Area     : 78.54"
   ]
  },
  {
   "cell_type": "markdown",
   "id": "bdda1857-5421-41cd-973a-cf0b40b3ae7b",
   "metadata": {
    "jp-MarkdownHeadingCollapsed": true
   },
   "source": [
    "**Solution**"
   ]
  },
  {
   "cell_type": "code",
   "execution_count": 49,
   "id": "09f45614-1a4e-4d46-9a11-e6cde6658cef",
   "metadata": {},
   "outputs": [
    {
     "name": "stdout",
     "output_type": "stream",
     "text": [
      "Perimeter: 31.42\n",
      "Area     : 78.54\n"
     ]
    }
   ],
   "source": [
    "import math\n",
    "r = 5\n",
    "perimeter = 2*math.pi*r\n",
    "area = math.pi * (r**2)\n",
    "print('Perimeter:', round(perimeter,2))\n",
    "print('Area     :', round(area,2))"
   ]
  },
  {
   "cell_type": "markdown",
   "id": "13e1adaa-6626-4aa9-9c84-59cd630f38b9",
   "metadata": {},
   "source": [
    "## Question-5\n",
    "Print the following using the character `*`, spaces and the variable `n=5`.\n",
    "\n",
    "![](pict/v_stars.png)"
   ]
  },
  {
   "cell_type": "markdown",
   "id": "7ef0127e-c775-4bbf-bd4d-d6625c9bafb9",
   "metadata": {
    "jp-MarkdownHeadingCollapsed": true
   },
   "source": [
    "**Solution**"
   ]
  },
  {
   "cell_type": "code",
   "execution_count": 65,
   "id": "ac6ac8f1-81d2-42ec-bb1c-75319466045f",
   "metadata": {},
   "outputs": [
    {
     "name": "stdout",
     "output_type": "stream",
     "text": [
      "*****                                   *****\n",
      "     *****                         *****\n",
      "          *****               *****\n",
      "               *****     *****\n",
      "                    *****\n"
     ]
    }
   ],
   "source": [
    "n = 5\n",
    "print(' '*n*0 + '*'*n + ' '*n*(4*2-1) + '*'*n )\n",
    "print(' '*n*1 + '*'*n + ' '*n*(3*2-1) + '*'*n )\n",
    "print(' '*n*2 + '*'*n + ' '*n*(2*2-1) + '*'*n )\n",
    "print(' '*n*3 + '*'*n + ' '*n*(1*2-1) + '*'*n )\n",
    "print(' '*n*4 + '*'*n )\n"
   ]
  },
  {
   "cell_type": "markdown",
   "id": "158a5f0e-541f-496c-937a-b815fd298410",
   "metadata": {},
   "source": [
    "## Question-6: H-Shape\n",
    "\n",
    "Print the following 'H' shapes using the characters '+', ' ', and '-'. \n",
    "- The number of '-' characters in the middle line is represented by the variable 'number_dash'.\n",
    "  \n",
    "``` python\n",
    "number_dash = 5\n",
    "```\n",
    "\n",
    "**Examples**\n",
    "![](pict/H_shape.png)"
   ]
  },
  {
   "cell_type": "markdown",
   "id": "2ddfffbf-e6f5-4a0a-bc6e-ddb69e55375a",
   "metadata": {
    "jp-MarkdownHeadingCollapsed": true
   },
   "source": [
    "**Solution**"
   ]
  },
  {
   "cell_type": "code",
   "execution_count": 12,
   "id": "12c8ad0d-fb5f-40ab-ae91-bc0e129ea5da",
   "metadata": {},
   "outputs": [
    {
     "name": "stdout",
     "output_type": "stream",
     "text": [
      "+                               +\n",
      "+ - - - - - - - - - - - - - - - +\n",
      "+                               +\n"
     ]
    }
   ],
   "source": [
    "number = 15\n",
    "print('+ ' + ' '*(2*number) +'+')\n",
    "print('+ ' + '- '*number +'+')\n",
    "print('+ ' + ' '*(2*number) +'+')"
   ]
  },
  {
   "cell_type": "markdown",
   "id": "50c8a98a-9805-4217-8c0e-1935c69ddbb1",
   "metadata": {},
   "source": [
    "## Question-7: Compound Interest\n",
    "If you deposit 800 dollars into a savings account with a 2.75 percent interest rate compounded monthly, what will be your balance after five years (Round your answer to the  nearest hundredth)?\n",
    "- Use the variables: $P,r,n,t$, and the following formula:\n",
    "\n",
    "$\\displaystyle A=P\\left(1+{\\frac {r}{n}}\\right)^{nt}$\n",
    "where:\n",
    "- A is the final amount\n",
    "- P is the initial (principal) amount\n",
    "- r is the annual interest rate (decimal form)\n",
    "- n is the compounding frequency (anual: n=1, semi annual: r=2, quarter: r=4, monthly: r=12)\n",
    "- t is the number of years.\n",
    "\n"
   ]
  },
  {
   "cell_type": "markdown",
   "id": "5191783c-b97d-4d55-9bc3-670ba6b60419",
   "metadata": {},
   "source": [
    "``` python\n",
    "P, r, n, t =  800, 0.0275, 12, 5\n",
    "A = P*(1+r/n)**(n*t)\n",
    "print('A=', round(A,2))"
   ]
  },
  {
   "cell_type": "markdown",
   "id": "fba35e2b-84a5-4903-8f0a-7a2c1387c168",
   "metadata": {},
   "source": [
    "## Question-8: Continous Compound\n",
    "If you deposit 500 dollars into a savings account with a 5.25 percent interest rate compounded continously, what will be your balance after ten years (Round your answer to the  nearest hundredth)?\n",
    "- Use the variables: $P,r,t$, and the following formula:\n",
    "\n",
    "$\\displaystyle A=Pe^{rt}$\n",
    "where:\n",
    "- A is the final amount\n",
    "- P is the initial (principal) amount\n",
    "- r is the annual interest rate (decimal form)\n",
    "- t is the number of years.\n",
    "\n"
   ]
  },
  {
   "cell_type": "markdown",
   "id": "78b933de-9787-450c-981d-1f6269fc6bcf",
   "metadata": {},
   "source": [
    "``` python\n",
    "import math\n",
    "P, r, t =  500, 0.0525, 10\n",
    "A = P*math.e**(r*t)\n",
    "print('A=', round(A,2))"
   ]
  },
  {
   "cell_type": "code",
   "execution_count": null,
   "id": "0bd6cdaa-1a4d-4c83-a2b1-81a6461104c0",
   "metadata": {},
   "outputs": [],
   "source": []
  }
 ],
 "metadata": {
  "kernelspec": {
   "display_name": "Python 3 (ipykernel)",
   "language": "python",
   "name": "python3"
  },
  "language_info": {
   "codemirror_mode": {
    "name": "ipython",
    "version": 3
   },
   "file_extension": ".py",
   "mimetype": "text/x-python",
   "name": "python",
   "nbconvert_exporter": "python",
   "pygments_lexer": "ipython3",
   "version": "3.11.7"
  }
 },
 "nbformat": 4,
 "nbformat_minor": 5
}
