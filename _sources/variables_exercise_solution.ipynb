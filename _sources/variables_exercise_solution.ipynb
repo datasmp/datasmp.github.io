{
 "cells": [
  {
   "cell_type": "markdown",
   "id": "b4ac5876-4e84-4c82-b2d4-0f9d60ae4472",
   "metadata": {},
   "source": [
    "# Variables Exercises and Solutions"
   ]
  },
  {
   "cell_type": "markdown",
   "id": "c2169001-2d96-493d-87d3-92b907edea4e",
   "metadata": {},
   "source": [
    "## Question-1: Name Tag\n",
    "Use the following information to create the variables name, league, age, and height with the given values.\n",
    "- Create the birthyear variable using the age variable.\n",
    "- Design a name tag.\n",
    "\n",
    "*Michael Jordan played basketball in the NBA. In 2024, he is 61 years old, and his height is 1.98 meters.*\n",
    "\n",
    "Sample Output:\n",
    "\n",
    "![](pict/name_tag.png)"
   ]
  },
  {
   "cell_type": "code",
   "execution_count": 46,
   "id": "ccaa0c8c-343f-4665-9648-fc387a084d99",
   "metadata": {},
   "outputs": [
    {
     "name": "stdout",
     "output_type": "stream",
     "text": [
      "* * * * * * * * * * * * * * * \n",
      "* Name    : Michael Jordan  *\n",
      "* League  : NBA             *\n",
      "* Age     : 61              *\n",
      "* Birtyear: 1963            *\n",
      "* Height  : 1.98 cm         *\n",
      "* * * * * * * * * * * * * * * \n"
     ]
    }
   ],
   "source": [
    "name = 'Michael Jordan'\n",
    "league = 'NBA'\n",
    "age = 61\n",
    "height = 1.98\n",
    "\n",
    "print('* * * * * * * * * * * * * * * ')\n",
    "print('* Name    :', name, ' *')\n",
    "print('* League  :', league, '            *')\n",
    "print('* Age     :', age, '             *')\n",
    "print('* Birtyear:', 2024-age, '           *')\n",
    "print('* Height  :', height, 'cm', '        *')\n",
    "print('* * * * * * * * * * * * * * * ')"
   ]
  },
  {
   "cell_type": "markdown",
   "id": "12d9d3da-fc13-436f-b6d6-5ecc79eb86cf",
   "metadata": {},
   "source": [
    "## Question-2\n",
    "By using the variables $x$ and $y$ given below, print 353535 using 4 different pieces of code."
   ]
  },
  {
   "cell_type": "code",
   "execution_count": 1,
   "id": "621bb88a-f144-4a5a-8a0e-53bc298bae84",
   "metadata": {},
   "outputs": [],
   "source": [
    "x, y = 3, 5"
   ]
  },
  {
   "cell_type": "markdown",
   "id": "85b42915-103e-4ab0-8653-001b898d3a7b",
   "metadata": {
    "jp-MarkdownHeadingCollapsed": true
   },
   "source": [
    "**Solution**"
   ]
  },
  {
   "cell_type": "code",
   "execution_count": 3,
   "id": "6a9294b8-29ee-46ab-94a6-623e150f7300",
   "metadata": {},
   "outputs": [
    {
     "name": "stdout",
     "output_type": "stream",
     "text": [
      "353535\n",
      "353535\n",
      "353535\n",
      "353535\n"
     ]
    }
   ],
   "source": [
    "print((str(x)+str(y))*3)\n",
    "print(str(x)+str(y)+str(x)+str(y)+str(x)+str(y))\n",
    "print((10*x+y)*10101)\n",
    "print(x*101_010+y*10_101)"
   ]
  },
  {
   "cell_type": "markdown",
   "id": "0bfc59c9-f2b5-4b3f-81eb-450b4af5321a",
   "metadata": {},
   "source": [
    "## Question-3\n",
    "Print the statement \"I went to Italy in 2015.\" using the country and year variables below.\n",
    "\n",
    "``` python\n",
    "country = 'Italy'\n",
    "year = 2015\n",
    "```\n",
    "*Warning: There is no space before the period.*"
   ]
  },
  {
   "cell_type": "markdown",
   "id": "1aaba6ba-8e38-43f2-bc79-fc4b52f00596",
   "metadata": {
    "jp-MarkdownHeadingCollapsed": true
   },
   "source": [
    "**Solution**"
   ]
  },
  {
   "cell_type": "code",
   "execution_count": 47,
   "id": "ea721bcc-52bd-42ad-a711-248bbdadde3e",
   "metadata": {},
   "outputs": [
    {
     "name": "stdout",
     "output_type": "stream",
     "text": [
      "I went to Italy in 2015.\n"
     ]
    }
   ],
   "source": [
    "country = 'Italy'\n",
    "year = 2015\n",
    "\n",
    "print('I went to '+ country +' in '+ str(year)+ '.')"
   ]
  },
  {
   "cell_type": "markdown",
   "id": "ea9c8c1a-f10e-407f-aa49-3f37bf7bf68c",
   "metadata": {},
   "source": [
    "## Question-4: Circle\n",
    "Create a variable named `r` and assign the value of $5$ to it.\n",
    "- Print the area and perimeter of the circle with a radius equal to `r`.\n",
    "- Round them to the nearest hundredth.\n",
    "- Hint:\n",
    "    - Perimeter = $2\\pi r$, Area = $\\pi r^2$\n",
    "    - Import $\\pi$ from a module. \n",
    "- Output:\n",
    "    - Perimeter: 31.42\n",
    "    - Area     : 78.54"
   ]
  },
  {
   "cell_type": "markdown",
   "id": "3c1ae616-cb3f-4b6c-aa7d-f71f902092a8",
   "metadata": {
    "jp-MarkdownHeadingCollapsed": true
   },
   "source": [
    "**Solution**"
   ]
  },
  {
   "cell_type": "code",
   "execution_count": 49,
   "id": "09f45614-1a4e-4d46-9a11-e6cde6658cef",
   "metadata": {},
   "outputs": [
    {
     "name": "stdout",
     "output_type": "stream",
     "text": [
      "Perimeter: 31.42\n",
      "Area     : 78.54\n"
     ]
    }
   ],
   "source": [
    "import math\n",
    "r = 5\n",
    "perimeter = 2*math.pi*r\n",
    "area = math.pi * (r**2)\n",
    "print('Perimeter:', round(perimeter,2))\n",
    "print('Area     :', round(area,2))"
   ]
  },
  {
   "cell_type": "markdown",
   "id": "83013432-bc1c-432b-8bbd-9ff4edd8e9b6",
   "metadata": {},
   "source": [
    "## Question-5: U-Shape\n",
    "Print the letter *U* using the character `+` and the variable *horizontal*.\n",
    "``` python\n",
    "horizontal = 3\n",
    "```\n",
    "- The vertical left and right parts of *U* have five `+` characters each.\n",
    "- The variable *horizontal* represents the number of `+` characters with one space between them in the bottom horizontal part.\n",
    "\n",
    "**Examples**\n",
    "![](pict/horizontal.png)"
   ]
  },
  {
   "cell_type": "markdown",
   "id": "8d808f63-a884-416d-8a8b-a01c95c6ae11",
   "metadata": {
    "jp-MarkdownHeadingCollapsed": true
   },
   "source": [
    "**Solution**"
   ]
  },
  {
   "cell_type": "code",
   "execution_count": 45,
   "id": "fab04309-c069-4de4-8b57-1a2b066e32d7",
   "metadata": {},
   "outputs": [
    {
     "name": "stdout",
     "output_type": "stream",
     "text": [
      "+   +\n",
      "+   +\n",
      "+   +\n",
      "+   +\n",
      "+ + + \n"
     ]
    }
   ],
   "source": [
    "print('+' + ' '*(2*horizontal-3) + '+')\n",
    "print('+' + ' '*(2*horizontal-3) + '+')\n",
    "print('+' + ' '*(2*horizontal-3) + '+')\n",
    "print('+' + ' '*(2*horizontal-3) + '+')\n",
    "print('+ ' *horizontal)"
   ]
  },
  {
   "cell_type": "markdown",
   "id": "13e1adaa-6626-4aa9-9c84-59cd630f38b9",
   "metadata": {},
   "source": [
    "## Question-6: V-Shape\n",
    "Print the following using the character `*`, spaces and the variable `n=5`.\n",
    "\n",
    "![](pict/v_stars.png)"
   ]
  },
  {
   "cell_type": "markdown",
   "id": "7ef0127e-c775-4bbf-bd4d-d6625c9bafb9",
   "metadata": {
    "jp-MarkdownHeadingCollapsed": true
   },
   "source": [
    "**Solution**"
   ]
  },
  {
   "cell_type": "code",
   "execution_count": 65,
   "id": "ac6ac8f1-81d2-42ec-bb1c-75319466045f",
   "metadata": {},
   "outputs": [
    {
     "name": "stdout",
     "output_type": "stream",
     "text": [
      "*****                                   *****\n",
      "     *****                         *****\n",
      "          *****               *****\n",
      "               *****     *****\n",
      "                    *****\n"
     ]
    }
   ],
   "source": [
    "n = 5\n",
    "print(' '*n*0 + '*'*n + ' '*n*(4*2-1) + '*'*n )\n",
    "print(' '*n*1 + '*'*n + ' '*n*(3*2-1) + '*'*n )\n",
    "print(' '*n*2 + '*'*n + ' '*n*(2*2-1) + '*'*n )\n",
    "print(' '*n*3 + '*'*n + ' '*n*(1*2-1) + '*'*n )\n",
    "print(' '*n*4 + '*'*n )\n"
   ]
  },
  {
   "cell_type": "markdown",
   "id": "158a5f0e-541f-496c-937a-b815fd298410",
   "metadata": {},
   "source": [
    "## Question-7: H-Shape\n",
    "\n",
    "Print the following 'H' shapes using the characters '+', ' ', and '-'. \n",
    "- The number of '-' characters in the middle line is represented by the variable 'number_dash'.\n",
    "  \n",
    "``` python\n",
    "number_dash = 5\n",
    "```\n",
    "\n",
    "**Examples**\n",
    "![](pict/H_shape.png)"
   ]
  },
  {
   "cell_type": "markdown",
   "id": "2ddfffbf-e6f5-4a0a-bc6e-ddb69e55375a",
   "metadata": {
    "jp-MarkdownHeadingCollapsed": true
   },
   "source": [
    "**Solution**"
   ]
  },
  {
   "cell_type": "code",
   "execution_count": 12,
   "id": "12c8ad0d-fb5f-40ab-ae91-bc0e129ea5da",
   "metadata": {},
   "outputs": [
    {
     "name": "stdout",
     "output_type": "stream",
     "text": [
      "+                               +\n",
      "+ - - - - - - - - - - - - - - - +\n",
      "+                               +\n"
     ]
    }
   ],
   "source": [
    "number = 15\n",
    "print('+ ' + ' '*(2*number) +'+')\n",
    "print('+ ' + '- '*number +'+')\n",
    "print('+ ' + ' '*(2*number) +'+')"
   ]
  },
  {
   "cell_type": "markdown",
   "id": "2e398fcd-10ae-4e74-9902-894f5461bc73",
   "metadata": {},
   "source": [
    "## Business Applications"
   ]
  },
  {
   "cell_type": "markdown",
   "id": "fe091371-fcc4-4d55-b7b5-cd1ee1a11743",
   "metadata": {},
   "source": [
    "### Question: Demand Function\n",
    "*The demand, p = D(q), function shows how much of a product consumers want (q=quantity) and the price (p)they are willing to pay.*\n",
    "\n",
    "The demand function is given as the following linear relation: $p = -2q+300$\n",
    "- Determine the price if the number of items demanded is 75.\n",
    "- Use the variables $q$ and $p$."
   ]
  },
  {
   "cell_type": "code",
   "execution_count": 10,
   "id": "eb565f94-75fd-447d-9dae-dda4354de54f",
   "metadata": {},
   "outputs": [
    {
     "data": {
      "text/plain": [
       "150"
      ]
     },
     "execution_count": 10,
     "metadata": {},
     "output_type": "execute_result"
    }
   ],
   "source": [
    "q = 75\n",
    "p = -2*q+300\n",
    "print(p)"
   ]
  },
  {
   "cell_type": "markdown",
   "id": "8a8b4cda-0a5a-4de5-a1b4-235dbfb9e01f",
   "metadata": {},
   "source": [
    "### Question: Demand Equation\n",
    "A store can sell 1200 ice creams at 3 dollars each. If the price is 5 dollars, they can sell 800 ice creams.  \n",
    "What will be the price if 500 ice creams are sold, assuming the demand is linear?\n",
    "\n",
    "Hint:\n",
    "- Since the relation between `p` and `q` is linear, we have $p=mq+b$\n",
    "- The slope $m$ is calculated using the formula $\\displaystyle m=\\frac{p_2-p_1}{q_2-q_1}$ for given two points $(q_1,p_1)$ and $(q_2,p_2)$.\n",
    "- The y-intercept $b$ can be found using one of the points $(q_1,p_1)$ or $(q_2,p_2)$ so $b=p_1 - mq_1$ or $b=p_2 - mq_2$\n",
    "- Use the variables $q_1, p_1, q_2, p_2$ for the given values in the question."
   ]
  },
  {
   "cell_type": "code",
   "execution_count": 11,
   "id": "2192e843-68a6-4946-9c37-19966ebaf262",
   "metadata": {},
   "outputs": [],
   "source": [
    "# p stands for price and q stands for quantity\n",
    "q1, p1 = 1200, 3\n",
    "q2, p2 = 800, 5"
   ]
  },
  {
   "cell_type": "code",
   "execution_count": 12,
   "id": "28661ac7-c897-4bb4-9021-65c26d7a4b61",
   "metadata": {},
   "outputs": [
    {
     "data": {
      "text/plain": [
       "-0.005"
      ]
     },
     "execution_count": 12,
     "metadata": {},
     "output_type": "execute_result"
    }
   ],
   "source": [
    "# p = mq +b\n",
    "# m is the slope \n",
    "\n",
    "m = (p2-p1)/(q2-q1)\n",
    "m"
   ]
  },
  {
   "cell_type": "code",
   "execution_count": 13,
   "id": "a86d7a57-59ed-4fec-a263-9f92ae8461e4",
   "metadata": {},
   "outputs": [
    {
     "data": {
      "text/plain": [
       "9.0"
      ]
     },
     "execution_count": 13,
     "metadata": {},
     "output_type": "execute_result"
    }
   ],
   "source": [
    "# b is y-intercept\n",
    "b = p1 - m*q1 \n",
    "b"
   ]
  },
  {
   "cell_type": "code",
   "execution_count": 14,
   "id": "69ab606f-3e57-4f7f-9fff-2d7c49bb3d6c",
   "metadata": {},
   "outputs": [
    {
     "data": {
      "text/plain": [
       "6.5"
      ]
     },
     "execution_count": 14,
     "metadata": {},
     "output_type": "execute_result"
    }
   ],
   "source": [
    "# p = -0.005q+9\n",
    "# q = 500, p = ?\n",
    "q = 500\n",
    "p = m*q+b\n",
    "p"
   ]
  },
  {
   "cell_type": "markdown",
   "id": "da60ebeb-b063-4ca3-b9bb-4f600b48243e",
   "metadata": {},
   "source": [
    "### Question: Supply Function\n",
    "*The supply function, $p=S(q)$, shows how the price (p) affects the quantity (q) that producers want to supply.*\n",
    "\n",
    "The supply function is given by the linear relation $p = 4q+100$.\n",
    "- Determine the price when 120 items are supplied.\n",
    "- Use the variables $q$ and $p$."
   ]
  },
  {
   "cell_type": "code",
   "execution_count": 16,
   "id": "e7070557-8f34-4155-87a1-9343d0ca9ed0",
   "metadata": {},
   "outputs": [
    {
     "name": "stdout",
     "output_type": "stream",
     "text": [
      "580\n"
     ]
    }
   ],
   "source": [
    "q = 120\n",
    "p = 4*q+100\n",
    "print(p)"
   ]
  },
  {
   "cell_type": "markdown",
   "id": "613f28dc-f065-4330-a016-8e5fb4de0957",
   "metadata": {},
   "source": [
    "### Question: Supply Equation\n",
    "A store can supply 2000 ice creams at 4 dollars each. If the price is 6 dollars, they can supply 6000 ice creams.\n",
    "\n",
    "How many ice creams can they supply at 5 dollars, assuming the supply is linear?\n",
    "\n",
    "Hint:\n",
    "- Since the relation between $p$ and $q$ is linear, we have $p=mq+b$\n",
    "- The slope $m$ is calculated using the formula $\\displaystyle m=\\frac{p_2-p_1}{q_2-q_1}$ for given two points $(q_1,p_1)$ and $(q_2,p_2)$.\n",
    "- The y-intercept $b$ can be found using one of the points $(q_1,p_1)$ or $(q_2,p_2)$ so $b=p_1 - mq_1$ or $b=p_2 - mq_2$\n",
    "- Use the variables $q_1, p_1, q_2, p_2$ for the given values in the question."
   ]
  },
  {
   "cell_type": "code",
   "execution_count": null,
   "id": "4438242c-da86-4772-89f9-a2df956645bb",
   "metadata": {},
   "outputs": [],
   "source": [
    "q1, p1 = 2000, 4\n",
    "q2, p2 = 6000, 6"
   ]
  },
  {
   "cell_type": "code",
   "execution_count": null,
   "id": "05666f65-9368-43df-86b6-27fd9e5e207d",
   "metadata": {},
   "outputs": [],
   "source": [
    "# p = mq +b\n",
    "# m is the slope \n",
    "\n",
    "m = (p2-p1)/(q2-q1)\n",
    "m"
   ]
  },
  {
   "cell_type": "code",
   "execution_count": null,
   "id": "3c91b26a-f83b-4fa9-a4ce-6370f343bcfe",
   "metadata": {},
   "outputs": [],
   "source": [
    "# b is y-intercept\n",
    "b = p1 - m*q1 \n",
    "b"
   ]
  },
  {
   "cell_type": "code",
   "execution_count": null,
   "id": "a0eed810-c444-457f-8e82-680610ec12fe",
   "metadata": {},
   "outputs": [],
   "source": [
    "# p = -0.0005q+3\n",
    "# q = ?, p = 5\n",
    "# q = (p-3)/0.0005\n",
    "p = 5\n",
    "q = (p-b)/m\n",
    "q"
   ]
  },
  {
   "cell_type": "markdown",
   "id": "0ef31f1b-3851-4142-ab23-fa18142f5425",
   "metadata": {},
   "source": [
    "### Question: Simple Interest\n",
    "*Simple Interest Formulas: $\\displaystyle I=P r t$ and $A = P + I$ where*\n",
    "- *A is the final amount*\n",
    "- *I is the interest amount*\n",
    "- *P is the initial (principal) amount*\n",
    "- *r is the annual interest rate (decimal form)*\n",
    "- *t is the number of years*\n",
    "\n",
    "\n",
    "\n",
    "You borrow 1,200 dollars for 8 months at a 24% annual simple interest rate.\n",
    "- How much interest will you pay?\n",
    "- What is the total amount you will repay after 8 months?\n",
    "\n",
    "\n",
    "      \n",
    "Hint:\n",
    "- Use the variables $P, r, t$  for the given values.\n",
    "- Calculate the values of the variables $I$ and $A$.\n",
    "- t is 8/12 years.\n",
    "  \n",
    "Output:  \n",
    "a) I = 192.0  \n",
    "b) A = 1392.0  \n"
   ]
  },
  {
   "cell_type": "markdown",
   "id": "da6df1e5-28c5-4b94-a728-1be10a332f19",
   "metadata": {},
   "source": [
    "``` python\n",
    "P = 1200\n",
    "r = 0.24\n",
    "t = 8/12\n",
    "I = P*r*t\n",
    "A = P + I\n",
    "print('a) I =',I)\n",
    "print('b) A =',A)"
   ]
  },
  {
   "cell_type": "markdown",
   "id": "50c8a98a-9805-4217-8c0e-1935c69ddbb1",
   "metadata": {},
   "source": [
    "### Question: Compound Interest\n",
    "*Compund interest formula: $\\displaystyle A=P\\left(1+{\\frac {r}{n}}\\right)^{nt}$ where*\n",
    "- *A is the final amount*\n",
    "- *P is the initial (principal) amount*\n",
    "- *r is the annual interest rate (decimal form)*\n",
    "- *n is the compounding frequency (anual: n=1, semi annual: r=2, quarter: r=4, monthly: r=12)*\n",
    "- *t is the number of years*\n",
    "  \n",
    "If you deposit 800 dollars into a savings account with a 2.75 percent interest rate compounded monthly, what will be your balance after five years (Round your answer to the  nearest hundredth)?\n",
    "\n",
    "Hint:\n",
    "- Use the variables $P, r, n, t$  for the given values.\n",
    "- Calculate the value of the variable $A$.\n",
    "  "
   ]
  },
  {
   "cell_type": "markdown",
   "id": "5191783c-b97d-4d55-9bc3-670ba6b60419",
   "metadata": {},
   "source": [
    "``` python\n",
    "P, r, n, t =  800, 0.0275, 12, 5\n",
    "A = P*(1+r/n)**(n*t)\n",
    "print('A=', round(A,2))"
   ]
  },
  {
   "cell_type": "markdown",
   "id": "fba35e2b-84a5-4903-8f0a-7a2c1387c168",
   "metadata": {},
   "source": [
    "### Question: Continuous Compound Interest\n",
    "*Continuous Compound Interest formula: $\\displaystyle A=Pe^{rt}$ where*\n",
    "- *A is the final amount*\n",
    "- *P is the initial (principal) amount*\n",
    "- *r is the annual interest rate (decimal form)*\n",
    "- *t is the number of years*\n",
    "  \n",
    "If you deposit 500 dollars into a savings account with a 5.25 percent interest rate compounded continuously, what will be your balance after ten years (Round your answer to the  nearest hundredth)?\n",
    "\n",
    "Hint:\n",
    "- Use the variables $P, r, t$  for the given values.\n",
    "- Calculate the value of the variable $A$.\n",
    "- import the number *e* from the math module.\n",
    "\n",
    "\n"
   ]
  },
  {
   "cell_type": "markdown",
   "id": "78b933de-9787-450c-981d-1f6269fc6bcf",
   "metadata": {},
   "source": [
    "``` python\n",
    "import math\n",
    "P, r, t =  500, 0.0525, 10\n",
    "A = P*math.e**(r*t)\n",
    "print('A=', round(A,2))"
   ]
  },
  {
   "cell_type": "code",
   "execution_count": null,
   "id": "296ca8db-f9c8-4e29-9c52-9d48c884f116",
   "metadata": {},
   "outputs": [],
   "source": []
  }
 ],
 "metadata": {
  "kernelspec": {
   "display_name": "Python 3 (ipykernel)",
   "language": "python",
   "name": "python3"
  },
  "language_info": {
   "codemirror_mode": {
    "name": "ipython",
    "version": 3
   },
   "file_extension": ".py",
   "mimetype": "text/x-python",
   "name": "python",
   "nbconvert_exporter": "python",
   "pygments_lexer": "ipython3",
   "version": "3.11.7"
  }
 },
 "nbformat": 4,
 "nbformat_minor": 5
}
