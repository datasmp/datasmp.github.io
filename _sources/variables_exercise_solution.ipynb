{
 "cells": [
  {
   "cell_type": "markdown",
   "id": "b4ac5876-4e84-4c82-b2d4-0f9d60ae4472",
   "metadata": {},
   "source": [
    "# Variables Exercises and Solutions"
   ]
  },
  {
   "cell_type": "markdown",
   "id": "12d9d3da-fc13-436f-b6d6-5ecc79eb86cf",
   "metadata": {},
   "source": [
    "## Question-1\n",
    "By using the variables $x$ and $y$ given below, print 353535 using 4 different pieces of code."
   ]
  },
  {
   "cell_type": "code",
   "execution_count": 2,
   "id": "621bb88a-f144-4a5a-8a0e-53bc298bae84",
   "metadata": {},
   "outputs": [],
   "source": [
    "x, y = 3, 5"
   ]
  },
  {
   "cell_type": "markdown",
   "id": "d756fdeb-8423-4555-9de8-2c4c1b6c3c2e",
   "metadata": {},
   "source": [
    "### Solution"
   ]
  },
  {
   "cell_type": "code",
   "execution_count": 10,
   "id": "6a9294b8-29ee-46ab-94a6-623e150f7300",
   "metadata": {},
   "outputs": [
    {
     "name": "stdout",
     "output_type": "stream",
     "text": [
      "353535\n",
      "353535\n",
      "353535\n",
      "353535\n"
     ]
    }
   ],
   "source": [
    "print((str(x)+str(y))*3)\n",
    "print(str(x)+str(y)+str(x)+str(y)+str(x)+str(y))\n",
    "print((10*x+y)*10101)\n",
    "print(x*101_010+y*10_101)"
   ]
  },
  {
   "cell_type": "markdown",
   "id": "83013432-bc1c-432b-8bbd-9ff4edd8e9b6",
   "metadata": {},
   "source": [
    "## Question-2\n",
    "Print the letter *U* using the character `+`.\n",
    "- The vertical left and right parts of *U* have five `+` characters each.\n",
    "\n",
    "``` python\n",
    "horizontal = 3\n",
    "```\n",
    "\n",
    "- The variable *horizontal* represents the number of `+` characters with one space between them in the bottom horizontal part.\n",
    "\n",
    "**Examples**\n",
    "![](pict/horizontal.png)"
   ]
  },
  {
   "cell_type": "markdown",
   "id": "8d808f63-a884-416d-8a8b-a01c95c6ae11",
   "metadata": {},
   "source": [
    "### Solution"
   ]
  },
  {
   "cell_type": "code",
   "execution_count": 45,
   "id": "fab04309-c069-4de4-8b57-1a2b066e32d7",
   "metadata": {},
   "outputs": [
    {
     "name": "stdout",
     "output_type": "stream",
     "text": [
      "+   +\n",
      "+   +\n",
      "+   +\n",
      "+   +\n",
      "+ + + \n"
     ]
    }
   ],
   "source": [
    "print('+' + ' '*(2*horizontal-3) + '+')\n",
    "print('+' + ' '*(2*horizontal-3) + '+')\n",
    "print('+' + ' '*(2*horizontal-3) + '+')\n",
    "print('+' + ' '*(2*horizontal-3) + '+')\n",
    "print('+ ' *horizontal)"
   ]
  },
  {
   "cell_type": "markdown",
   "id": "8eb8f3d5-1e86-44f8-828f-9d66fad47c7f",
   "metadata": {},
   "source": [
    "## Question-3\n",
    "Print the statement \"I went to Italy in 2015.\" using the country and year variables below.\n",
    "\n",
    "``` python\n",
    "country = 'Italy'\n",
    "year = 2015\n",
    "```\n",
    "*Warning: There is no space before the period.*"
   ]
  },
  {
   "cell_type": "markdown",
   "id": "2cadce9b-dd5a-4283-860b-f63f9ea6e50c",
   "metadata": {},
   "source": [
    "### Solution"
   ]
  },
  {
   "cell_type": "code",
   "execution_count": 47,
   "id": "ea721bcc-52bd-42ad-a711-248bbdadde3e",
   "metadata": {},
   "outputs": [
    {
     "name": "stdout",
     "output_type": "stream",
     "text": [
      "I went to Italy in 2015.\n"
     ]
    }
   ],
   "source": [
    "country = 'Italy'\n",
    "year = 2015\n",
    "\n",
    "print('I went to '+ country +' in '+ str(year)+ '.')"
   ]
  },
  {
   "cell_type": "markdown",
   "id": "2ebf2b5b-5322-44df-9067-a9ae8624bbe5",
   "metadata": {},
   "source": [
    "## Question-4\n",
    "Create a variable named `r` and assign the value of $5$ to it.\n",
    "- Print the area and perimeter of the circle with a radius equal to `r`.\n",
    "- Round them to the nearest hundredth.\n",
    "- Hint:\n",
    "    - Perimeter = $2\\pi r$, Area = $\\pi r^2$\n",
    "    - Import $\\pi$ from a module. \n",
    "- Output:\n",
    "    - Perimeter: 31.42\n",
    "    - Area     : 78.54"
   ]
  },
  {
   "cell_type": "markdown",
   "id": "87b7eaaf-6c07-4ce2-b380-b008f40f308c",
   "metadata": {},
   "source": [
    "### Solution"
   ]
  },
  {
   "cell_type": "code",
   "execution_count": 49,
   "id": "09f45614-1a4e-4d46-9a11-e6cde6658cef",
   "metadata": {},
   "outputs": [
    {
     "name": "stdout",
     "output_type": "stream",
     "text": [
      "Perimeter: 31.42\n",
      "Area     : 78.54\n"
     ]
    }
   ],
   "source": [
    "import math\n",
    "r = 5\n",
    "perimeter = 2*math.pi*r\n",
    "area = math.pi * (r**2)\n",
    "print('Perimeter:', round(perimeter,2))\n",
    "print('Area     :', round(area,2))"
   ]
  },
  {
   "cell_type": "markdown",
   "id": "13e1adaa-6626-4aa9-9c84-59cd630f38b9",
   "metadata": {},
   "source": [
    "## Question-5\n",
    "Print the following using the character `*`, spaces and the variable `n=5`.\n",
    "\n",
    "![](pict/v_stars.png)"
   ]
  },
  {
   "cell_type": "markdown",
   "id": "2ec92e8b-5172-415e-a1ba-f083ea646993",
   "metadata": {},
   "source": [
    "### Solution"
   ]
  },
  {
   "cell_type": "code",
   "execution_count": 65,
   "id": "ac6ac8f1-81d2-42ec-bb1c-75319466045f",
   "metadata": {},
   "outputs": [
    {
     "name": "stdout",
     "output_type": "stream",
     "text": [
      "*****                                   *****\n",
      "     *****                         *****\n",
      "          *****               *****\n",
      "               *****     *****\n",
      "                    *****\n"
     ]
    }
   ],
   "source": [
    "n = 5\n",
    "print(' '*n*0 + '*'*n + ' '*n*(4*2-1) + '*'*n )\n",
    "print(' '*n*1 + '*'*n + ' '*n*(3*2-1) + '*'*n )\n",
    "print(' '*n*2 + '*'*n + ' '*n*(2*2-1) + '*'*n )\n",
    "print(' '*n*3 + '*'*n + ' '*n*(1*2-1) + '*'*n )\n",
    "print(' '*n*4 + '*'*n )\n"
   ]
  },
  {
   "cell_type": "markdown",
   "id": "158a5f0e-541f-496c-937a-b815fd298410",
   "metadata": {},
   "source": []
  },
  {
   "cell_type": "code",
   "execution_count": null,
   "id": "12c8ad0d-fb5f-40ab-ae91-bc0e129ea5da",
   "metadata": {},
   "outputs": [],
   "source": []
  },
  {
   "cell_type": "code",
   "execution_count": null,
   "id": "53b27928-ffed-4922-bfb7-b113e43fd80b",
   "metadata": {},
   "outputs": [],
   "source": []
  }
 ],
 "metadata": {
  "kernelspec": {
   "display_name": "Python 3 (ipykernel)",
   "language": "python",
   "name": "python3"
  },
  "language_info": {
   "codemirror_mode": {
    "name": "ipython",
    "version": 3
   },
   "file_extension": ".py",
   "mimetype": "text/x-python",
   "name": "python",
   "nbconvert_exporter": "python",
   "pygments_lexer": "ipython3",
   "version": "3.11.7"
  }
 },
 "nbformat": 4,
 "nbformat_minor": 5
}
