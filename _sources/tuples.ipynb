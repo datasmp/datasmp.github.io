{
 "cells": [
  {
   "cell_type": "markdown",
   "id": "14cd5892-4039-42ca-9f0f-3011be0771bf",
   "metadata": {},
   "source": [
    "# Chp-7: Tuples\n"
   ]
  },
  {
   "cell_type": "markdown",
   "id": "8757dccc-a1c7-4c9c-8169-a0e3d5754b84",
   "metadata": {},
   "source": [
    "![](title_pict/tuples2.png)"
   ]
  },
  {
   "cell_type": "markdown",
   "id": "f2cac86d-d9fa-4dae-b3ca-d02fc5ed4bb6",
   "metadata": {},
   "source": [
    "`````{admonition} Chapter Objectives\n",
    ":class: tip\n",
    "\n",
    "By the end of this chapter, the student should be able to:\n",
    "- Explain the purpose and role of tuples.\n",
    "- Create and initialize tuples in differen ways.\n",
    "- Perform tuple operations.\n",
    "- Explain immutabilility. \n",
    "- Apply tuple methods.\n",
    "- Apply tuples to solve real-world problems.\n",
    "`````"
   ]
  },
  {
   "cell_type": "markdown",
   "id": "cc4ead81-055d-4209-ad04-7b29e70d7eb4",
   "metadata": {},
   "source": [
    "## Data Structures\n",
    "\n",
    "Data structures are used to store data. We have already seen some of them, including integers, floats, strings, and booleans. By using these structures, only one value can be stored.\n",
    "- $3$ is an integer and represents a single value.\n",
    "- $3.14$ is a float with a single value.\n",
    "- A string can be very long (containing many characters), but it is still a single value, such as 'Hello'.\n",
    "- Boolean values are either True or False, again representing single values.\n",
    "Integers, floats, strings, and booleans are examples of `Primitive Data Structures`, meaning they can store only one value.\n",
    "\n",
    "In Python, there are more complex data structures called `Non-Primitive Data Structures`, which can store multiple values with mixed types and might have various functionalities, including indexing. Tuples, lists, sets, arrays, and dictionaries are some examples of non-primitive data structures. "
   ]
  },
  {
   "cell_type": "markdown",
   "id": "32b51b35-16dc-4230-bbde-b0265a64a951",
   "metadata": {},
   "source": [
    "![](pict/datastructures3.png)"
   ]
  },
  {
   "cell_type": "markdown",
   "id": "25f2dd81-ca2a-4d3b-a012-031cd43316ec",
   "metadata": {},
   "source": [
    "## Tuples\n",
    "*Tuples* are ordered sequences of values of mixed types.\n",
    "- Since a *tuple* is ordered, the order of its elements is important.\n",
    "    - $1,2$ and $2,1$ are different.\n",
    "    - Since there is an order, indexing also works for tuples and it is very similar to strings.\n",
    "- Values in a *tuple* can be of mixed types.\n",
    "    - Integers, floats, strings, booleans, tuples, and lists (will be covered in the next chapter) can be values in a tuple.\n",
    "- The built-in *tuple()* function can be used to convert appropriate data types into a tuple.\n",
    "- *Tuples* are immutable (cannot be modified).\n",
    "    - This is the main difference between tuples and lists.\n",
    "    - Lists can be modified and will be covered in the upcoming chapter.\n",
    "- The advantages of being immutable are:\n",
    "    - Values cannot be modified, ensuring data protection.\n",
    "    - Immutability makes tuples simpler, leading to faster and more memory-efficient operations."
   ]
  },
  {
   "cell_type": "markdown",
   "id": "b9676037-e8c2-4183-92ee-932a7ff080f4",
   "metadata": {},
   "source": [
    "### Create Tuples\n",
    "A tuple can be created using one of the following methods:\n",
    "1. Using a comma-separated sequence: $1, 2, 3$.\n",
    "2. Enclosing a comma-separated sequence in parentheses: $(1, 2, 3)$.\n",
    "3. Using the built-in *tuple()* function: tuple(1, 2, 3).\n",
    "- An empty tuple is represented by ().\n",
    "- If a tuple has only one value, a comma should be added right after that single value.\n",
    "    - Example: `1,` or `(1,)`\n",
    "    - Warning:\n",
    "        - `(1)` is the integer `1`\n",
    "        - `(1,)` is the tuple with only one value, which is `1`\n",
    "        - `1` is the integer `1`\n",
    "        - `1,` is the tuple with only one value, which is `1`"
   ]
  },
  {
   "cell_type": "markdown",
   "id": "04517ea6-72c5-4acc-af8b-fe51ab72b287",
   "metadata": {},
   "source": [
    "**Examples**"
   ]
  },
  {
   "cell_type": "code",
   "execution_count": 5,
   "id": "c4cb9398-1a11-4f59-877c-e38ab115d2bd",
   "metadata": {},
   "outputs": [
    {
     "name": "stdout",
     "output_type": "stream",
     "text": [
      "Tuple: ()\n",
      "Type : <class 'tuple'>\n"
     ]
    }
   ],
   "source": [
    "# empty tuple\n",
    "empty_tuple = ()\n",
    "\n",
    "print('Tuple:', empty_tuple)\n",
    "print('Type :', type(empty_tuple))"
   ]
  },
  {
   "cell_type": "code",
   "execution_count": 6,
   "id": "4d520663-0a92-48a0-bba3-dfbe92a6b968",
   "metadata": {},
   "outputs": [
    {
     "name": "stdout",
     "output_type": "stream",
     "text": [
      "Tuple: ()\n",
      "Type : <class 'tuple'>\n"
     ]
    }
   ],
   "source": [
    "# empty tuple with tuple()\n",
    "empty_tuple = tuple()\n",
    "\n",
    "print('Tuple:', empty_tuple)\n",
    "print('Type :', type(empty_tuple))"
   ]
  },
  {
   "cell_type": "code",
   "execution_count": 7,
   "id": "c68b8c7a-6019-427d-a5b6-c3ffdc1a9016",
   "metadata": {},
   "outputs": [
    {
     "name": "stdout",
     "output_type": "stream",
     "text": [
      "Tuple: ('USA',)\n",
      "Type : <class 'tuple'>\n"
     ]
    }
   ],
   "source": [
    "# tuple with only one value: 'USA'\n",
    "\n",
    "mytuple = 'USA',        # no paranthesis\n",
    "\n",
    "print('Tuple:', mytuple)\n",
    "print('Type :', type(mytuple))"
   ]
  },
  {
   "cell_type": "code",
   "execution_count": 38,
   "id": "96fb7189-793d-45e8-85c8-0bd001dcb052",
   "metadata": {},
   "outputs": [
    {
     "name": "stdout",
     "output_type": "stream",
     "text": [
      "Tuple: ('USA',)\n",
      "Type : <class 'tuple'>\n"
     ]
    }
   ],
   "source": [
    "# tuple with only one value: 'USA'\n",
    "\n",
    "mytuple = ('USA',)      # with paranthesis\n",
    "\n",
    "print('Tuple:', mytuple)\n",
    "print('Type :', type(mytuple))"
   ]
  },
  {
   "cell_type": "code",
   "execution_count": 39,
   "id": "fab6f81c-4188-4878-89a4-381b102b873e",
   "metadata": {},
   "outputs": [
    {
     "name": "stdout",
     "output_type": "stream",
     "text": [
      "Integer: 1\n",
      "Type   : <class 'int'>\n"
     ]
    }
   ],
   "source": [
    "# (1) is an integer not tuple\n",
    "\n",
    "myint = (1)     \n",
    "\n",
    "print('Integer:', myint)\n",
    "print('Type   :', type(myint))"
   ]
  },
  {
   "cell_type": "code",
   "execution_count": 40,
   "id": "adaec132-a7da-4106-82b2-822a33018b76",
   "metadata": {},
   "outputs": [
    {
     "name": "stdout",
     "output_type": "stream",
     "text": [
      "String: USA\n",
      "Type  : <class 'str'>\n"
     ]
    }
   ],
   "source": [
    "# ('USA') is string not tuple\n",
    "\n",
    "mystr = ('USA')      \n",
    "\n",
    "print('String:', mystr)\n",
    "print('Type  :', type(mystr))"
   ]
  },
  {
   "cell_type": "code",
   "execution_count": 41,
   "id": "1cf4e1df-e932-472b-82a9-8d06c17bf8db",
   "metadata": {},
   "outputs": [
    {
     "name": "stdout",
     "output_type": "stream",
     "text": [
      "Tuple: ('USA', 2, True, 9.123)\n",
      "Type : <class 'tuple'>\n"
     ]
    }
   ],
   "source": [
    "# tuple with mixed values: str, int, bool, float\n",
    "\n",
    "mytuple = ('USA', 2, True, 9.123)       # with paranthesis\n",
    "\n",
    "print('Tuple:', mytuple)\n",
    "print('Type :', type(mytuple))"
   ]
  },
  {
   "cell_type": "code",
   "execution_count": 42,
   "id": "1ea480f1-7315-4fa5-99df-aaf937f005a9",
   "metadata": {},
   "outputs": [
    {
     "name": "stdout",
     "output_type": "stream",
     "text": [
      "Tuple: ('USA', 2, True, 9.123, (10, 20, 30))\n",
      "Type : <class 'tuple'>\n"
     ]
    }
   ],
   "source": [
    "# tuple in a tuple\n",
    "# tuple with mixed values: str, int, bool, float, tuple\n",
    "# (10,20,30) is a tuple in the tuple mytuple.\n",
    "\n",
    "mytuple = ('USA', 2, True, 9.123, (10,20,30))       # with paranthesis\n",
    "\n",
    "print('Tuple:', mytuple)\n",
    "print('Type :', type(mytuple))"
   ]
  },
  {
   "cell_type": "markdown",
   "id": "a9380e24-d5e2-46d4-82c3-27202d09147f",
   "metadata": {},
   "source": [
    "### tuple() function\n",
    "- The built-in `tuple()` function converts a string into a tuple, where each character of the string becomes an individual value in the tuple"
   ]
  },
  {
   "cell_type": "code",
   "execution_count": 43,
   "id": "c509bba4-a79d-4d1c-8d27-a4b6c381f08f",
   "metadata": {},
   "outputs": [
    {
     "name": "stdout",
     "output_type": "stream",
     "text": [
      "Tuple: ('H', 'e', 'l', 'l', 'o')\n",
      "Type : <class 'tuple'>\n"
     ]
    }
   ],
   "source": [
    "mytuple = tuple('Hello')  # convert string to tuple\n",
    "\n",
    "print('Tuple:', mytuple)\n",
    "print('Type :', type(mytuple))"
   ]
  },
  {
   "cell_type": "markdown",
   "id": "80c9c0b5-fb5e-4e9b-92aa-ae7b0c9cddd0",
   "metadata": {},
   "source": [
    "- The built-in `tuple()` function converts a range into a tuple, encapsulating a sequence of numbers within it."
   ]
  },
  {
   "cell_type": "code",
   "execution_count": 44,
   "id": "95aa019d-58b6-445e-b344-6a0169ef46fe",
   "metadata": {},
   "outputs": [
    {
     "name": "stdout",
     "output_type": "stream",
     "text": [
      "Range: range(2, 8)\n",
      "Type : <class 'range'>\n"
     ]
    }
   ],
   "source": [
    "myrange = range(2,8)    # 2,3,4,5,6,7 are  hidden in r\n",
    "\n",
    "print('Range:', myrange)\n",
    "print('Type :', type(myrange))"
   ]
  },
  {
   "cell_type": "code",
   "execution_count": 45,
   "id": "ccb00b17-c0f0-4042-b7e8-caa7c77fdebb",
   "metadata": {},
   "outputs": [
    {
     "name": "stdout",
     "output_type": "stream",
     "text": [
      "Tuple: (2, 3, 4, 5, 6, 7)\n",
      "Type : <class 'tuple'>\n"
     ]
    }
   ],
   "source": [
    "mytuple = tuple(myrange)     # convert range to tuple\n",
    "\n",
    "print('Tuple:', mytuple)\n",
    "print('Type :', type(mytuple))"
   ]
  },
  {
   "cell_type": "markdown",
   "id": "61b7c4c8-7f53-42e9-8649-1b26af6bfbae",
   "metadata": {},
   "source": [
    "### Functions on tuples\n",
    "\n",
    "The following functions can take a tuple as input and return:\n",
    "- len(): the number of elements in a tuple.\n",
    "- max(): the maximum value in a tuple.\n",
    "    - For strings, dictionary order is used, and max() returns the last string in the dictionary order.\n",
    "- min(): the minimum value in a tuple.\n",
    "    - For strings, dictionary order is used, and min() returns the first string in the dictionary order.\n",
    "- sum(): returns the sum of the elements (if they can be added) in a tuple.\n",
    "    - It does not work with strings.\n",
    "    - It works for booleans: True is $1$, False is $0$."
   ]
  },
  {
   "cell_type": "markdown",
   "id": "50fcbdda-d58a-4f85-a154-5f5afd9eb28b",
   "metadata": {},
   "source": [
    "**Examples**"
   ]
  },
  {
   "cell_type": "code",
   "execution_count": 11,
   "id": "63f8051f-8ac8-487a-8ab8-195873ce0aa8",
   "metadata": {},
   "outputs": [
    {
     "name": "stdout",
     "output_type": "stream",
     "text": [
      "Length : 6\n",
      "Maximum: 9\n",
      "Minimum: 1\n",
      "Sum    : 30\n"
     ]
    }
   ],
   "source": [
    "numbers = (7,3,1,9,6,4)\n",
    "\n",
    "print(f'Length : {len(numbers)}')\n",
    "print(f'Maximum: {max(numbers)}')\n",
    "print(f'Minimum: {min(numbers)}')\n",
    "print(f'Sum    : {sum(numbers)}')"
   ]
  },
  {
   "cell_type": "code",
   "execution_count": 12,
   "id": "8aaf561f-d2b2-4c98-95de-e7688e43a40d",
   "metadata": {},
   "outputs": [
    {
     "name": "stdout",
     "output_type": "stream",
     "text": [
      "Length : 5\n",
      "Maximum: t\n",
      "Minimum: a\n"
     ]
    }
   ],
   "source": [
    "letters = ('r', 't', 'n', 'a', 'd')\n",
    "\n",
    "print(f'Length : {len(letters)}')\n",
    "print(f'Maximum: {max(letters)}')    # dictionary order\n",
    "print(f'Minimum: {min(letters)}')"
   ]
  },
  {
   "cell_type": "code",
   "execution_count": 13,
   "id": "1544501f-9a57-46d2-9681-5548baab2b76",
   "metadata": {},
   "outputs": [
    {
     "name": "stdout",
     "output_type": "stream",
     "text": [
      "Length : 7\n",
      "Maximum: 9\n",
      "Minimum: 1\n",
      "Sum    : 31\n"
     ]
    }
   ],
   "source": [
    "numbers = (7,3,1,9,6,4,True)      # True is considered as 1\n",
    "\n",
    "print(f'Length : {len(numbers)}')\n",
    "print(f'Maximum: {max(numbers)}')\n",
    "print(f'Minimum: {min(numbers)}')\n",
    "print(f'Sum    : {sum(numbers)}')"
   ]
  },
  {
   "cell_type": "code",
   "execution_count": 48,
   "id": "d865eea2-e1d4-4297-b98c-8fe8a3884536",
   "metadata": {},
   "outputs": [
    {
     "name": "stdout",
     "output_type": "stream",
     "text": [
      "Length : 8\n"
     ]
    }
   ],
   "source": [
    "mytuple = (7,3,1,9,6,4,True, 'a')      \n",
    "\n",
    "print(f'Length : {len(mytuple)}')    # only len() works for this tuple"
   ]
  },
  {
   "cell_type": "markdown",
   "id": "f73e8446-bacf-4c86-a4af-5a7f9e4f2d0f",
   "metadata": {},
   "source": [
    "### Indexing and Slicing\n",
    "- It is similar to strings."
   ]
  },
  {
   "cell_type": "code",
   "execution_count": 49,
   "id": "2f70e307-1536-4e85-ae9e-5893780296a5",
   "metadata": {},
   "outputs": [],
   "source": [
    "mytuple = ('USA', 2, True, 9.123, 'NY', 'NJ', 100, False) "
   ]
  },
  {
   "cell_type": "markdown",
   "id": "d92cff14-9ffd-4a00-9240-7047f5b7194c",
   "metadata": {},
   "source": [
    "**Examples**"
   ]
  },
  {
   "cell_type": "code",
   "execution_count": 22,
   "id": "c59625b2-2144-4e03-aedf-7351ce3512dc",
   "metadata": {},
   "outputs": [
    {
     "name": "stdout",
     "output_type": "stream",
     "text": [
      "USA\n"
     ]
    }
   ],
   "source": [
    "# first element\n",
    "print(mytuple[0])"
   ]
  },
  {
   "cell_type": "code",
   "execution_count": 23,
   "id": "f353dade-9c00-43ee-a24d-73d96fd818b7",
   "metadata": {},
   "outputs": [
    {
     "name": "stdout",
     "output_type": "stream",
     "text": [
      "False\n"
     ]
    }
   ],
   "source": [
    "# last element\n",
    "print(mytuple[-1])"
   ]
  },
  {
   "cell_type": "code",
   "execution_count": 24,
   "id": "52539ed2-6673-49cf-b7c3-b849fdcfeb21",
   "metadata": {},
   "outputs": [
    {
     "name": "stdout",
     "output_type": "stream",
     "text": [
      "9.123\n"
     ]
    }
   ],
   "source": [
    "# index of 3 (fourth element)\n",
    "print(mytuple[3])"
   ]
  },
  {
   "cell_type": "code",
   "execution_count": 25,
   "id": "e93a7946-f402-4925-9d87-465cb0c5a92e",
   "metadata": {},
   "outputs": [
    {
     "name": "stdout",
     "output_type": "stream",
     "text": [
      "(True, 9.123, 'NY')\n"
     ]
    }
   ],
   "source": [
    "# index = 2,3,4\n",
    "print(mytuple[2:5])"
   ]
  },
  {
   "cell_type": "code",
   "execution_count": 26,
   "id": "01f78810-72f2-4285-ac53-7ffe0482117f",
   "metadata": {},
   "outputs": [
    {
     "name": "stdout",
     "output_type": "stream",
     "text": [
      "('NY', 'NJ', 100)\n"
     ]
    }
   ],
   "source": [
    "# index  =-4,-3,-2\n",
    "print(mytuple[-4:-1])"
   ]
  },
  {
   "cell_type": "markdown",
   "id": "eee088c6-1367-4813-b745-667e1ecc6f12",
   "metadata": {},
   "source": [
    "- The following slice starts from the element at index 3 and extends to the end."
   ]
  },
  {
   "cell_type": "code",
   "execution_count": 27,
   "id": "695e1aad-af4c-42ff-81b4-13bf9e6c06df",
   "metadata": {},
   "outputs": [
    {
     "name": "stdout",
     "output_type": "stream",
     "text": [
      "(9.123, 'NY', 'NJ', 100, False)\n"
     ]
    }
   ],
   "source": [
    "# index = 3,4,...\n",
    "print(mytuple[3:])"
   ]
  },
  {
   "cell_type": "markdown",
   "id": "c8cbf844-d982-48fb-b205-ad1bf153b1f9",
   "metadata": {},
   "source": [
    "- The following slice starts from the first element and goes up to the element at index 3."
   ]
  },
  {
   "cell_type": "code",
   "execution_count": 50,
   "id": "b8408fb1-deb6-4423-a742-5228aacb5b79",
   "metadata": {},
   "outputs": [
    {
     "name": "stdout",
     "output_type": "stream",
     "text": [
      "('USA', 2, True, 9.123)\n"
     ]
    }
   ],
   "source": [
    "# index = 0,1,2,3\n",
    "print(mytuple[:4])"
   ]
  },
  {
   "cell_type": "markdown",
   "id": "52f8aafa-5846-456f-a871-39362bbba662",
   "metadata": {},
   "source": [
    "**Remark**\n",
    "- There is a difference between the index -1 element and the slice [-1:].\n",
    "- Both of them point to the last element of the tuple.\n",
    "- The first one returns the last element, whereas the latter one returns a length-one tuple with the last element."
   ]
  },
  {
   "cell_type": "code",
   "execution_count": 28,
   "id": "c667285e-b397-41b2-aba5-d413af00c784",
   "metadata": {},
   "outputs": [
    {
     "name": "stdout",
     "output_type": "stream",
     "text": [
      "index -1 element: False    ---> type: <class 'bool'>\n",
      "slice [-1:]     : (False,) ---> type: <class 'tuple'>\n"
     ]
    }
   ],
   "source": [
    "print(f'index -1 element: {mytuple[-1]}    ---> type: {type(mytuple[-1])}')     # boolean\n",
    "print(f'slice [-1:]     : {mytuple[-1:]} ---> type: {type(mytuple[-1:])}')   # tuple\n"
   ]
  },
  {
   "cell_type": "markdown",
   "id": "1af98e0e-6869-497b-9887-44059f3b7b9c",
   "metadata": {},
   "source": [
    "**Remark**\n",
    "- A tuple in a super tuple is considered a single element of the super tuple.\n",
    "- Its elements are not considered elements of the super tuple."
   ]
  },
  {
   "cell_type": "code",
   "execution_count": 29,
   "id": "0dd03536-a9b8-43b6-a3b0-3e89c682a60e",
   "metadata": {},
   "outputs": [
    {
     "name": "stdout",
     "output_type": "stream",
     "text": [
      "Length of mytuple       : 5\n",
      "10 is in mytuple        : False\n",
      "(10,20,30) is in mytuple: True\n"
     ]
    }
   ],
   "source": [
    "mytuple = ('USA', 2, True, 9.123, (10,20,30))\n",
    "print(f'Length of mytuple       : {len(mytuple)}')            # (10,20,30) is a single element of mytuple\n",
    "print(f'10 is in mytuple        : {10 in mytuple}')           # 10 is not an element of mytuple\n",
    "print(f'(10,20,30) is in mytuple: {(10,20,30) in mytuple}')   # (10,20,30) is  an element of mytuple"
   ]
  },
  {
   "cell_type": "markdown",
   "id": "4d22c118-0300-45cc-9848-2d7dc40607ab",
   "metadata": {},
   "source": [
    "**Remark**\n",
    "It is possible to access the elements of the subtuple by using chain indexing."
   ]
  },
  {
   "cell_type": "code",
   "execution_count": 31,
   "id": "f3551667-916b-4696-b05b-3b97cf2d4ef6",
   "metadata": {},
   "outputs": [
    {
     "name": "stdout",
     "output_type": "stream",
     "text": [
      "mytuple[-1]   : (10, 20, 30)\n",
      "mytuple[-1][0]: 10\n",
      "mytuple[-1][1]: 20\n",
      "mytuple[-1][2]: 30\n"
     ]
    }
   ],
   "source": [
    "mytuple = ('USA', 2, True, 9.123, (10,20,30))\n",
    "print(f'mytuple[-1]   : {mytuple[-1]}')          # mytuple[-1] = (10,20,30) is a tuple\n",
    "print(f'mytuple[-1][0]: {mytuple[-1][0]}')    # indexing of mytuple[-1] = (10,20,30)\n",
    "print(f'mytuple[-1][1]: {mytuple[-1][1]}')\n",
    "print(f'mytuple[-1][2]: {mytuple[-1][2]}')"
   ]
  },
  {
   "cell_type": "markdown",
   "id": "3d152317-242c-4c5d-93ba-24d917fae53c",
   "metadata": {},
   "source": [
    "### Operators on Tuples\n",
    "Operators behave similarly to strings.\n",
    "- `+`: Concatenation\n",
    "- `*`: Repetition (only integers are used)\n",
    "- `in` and `not in` operators: check whether a value is an element in a tuple.\n",
    "    - Returns a boolean value.\n"
   ]
  },
  {
   "cell_type": "markdown",
   "id": "e0f04292-5fb3-4a2f-a576-f4587319517c",
   "metadata": {},
   "source": [
    "**Examples**"
   ]
  },
  {
   "cell_type": "code",
   "execution_count": 33,
   "id": "96cace38-8af6-438e-9e72-ef5104eb8a10",
   "metadata": {},
   "outputs": [],
   "source": [
    "numbers = (1,2,3,4)\n",
    "letters = ('a','b','c','d')"
   ]
  },
  {
   "cell_type": "code",
   "execution_count": 34,
   "id": "c96b5672-440f-4490-9e47-85e6ca29dc12",
   "metadata": {},
   "outputs": [
    {
     "name": "stdout",
     "output_type": "stream",
     "text": [
      "numbers + letters = (1, 2, 3, 4, 'a', 'b', 'c', 'd')\n",
      "numbers           = (1, 2, 3, 4)\n",
      "letters           = ('a', 'b', 'c', 'd')\n"
     ]
    }
   ],
   "source": [
    "# Concatenation returns a new tuple\n",
    "\n",
    "print(f'numbers + letters = {numbers + letters}')\n",
    "print(f'numbers           = {numbers}')       # no change\n",
    "print(f'letters           = {letters}')       # no change"
   ]
  },
  {
   "cell_type": "code",
   "execution_count": 27,
   "id": "85d3f2b5-f2db-46e6-bd8e-188b108c7e00",
   "metadata": {},
   "outputs": [
    {
     "name": "stdout",
     "output_type": "stream",
     "text": [
      "letters*3 = ('a', 'b', 'c', 'd', 'a', 'b', 'c', 'd', 'a', 'b', 'c', 'd')\n",
      "letters   = ('a', 'b', 'c', 'd')\n"
     ]
    }
   ],
   "source": [
    "# Repetition returns a new tuple\n",
    "\n",
    "print(f'letters*3 = {letters*3}')\n",
    "print(f'letters   = {letters}')       # no change"
   ]
  },
  {
   "cell_type": "code",
   "execution_count": 28,
   "id": "1262b6ff-8de0-4b4d-86fd-3ceb66c22a54",
   "metadata": {},
   "outputs": [
    {
     "name": "stdout",
     "output_type": "stream",
     "text": [
      " 5 is in numbers tuple    : False\n",
      " 5 is not in numbers tuple: True\n"
     ]
    }
   ],
   "source": [
    "# Is 5 in numbers?\n",
    "\n",
    "print(f' 5 is in numbers tuple    : {5  in numbers}' )\n",
    "print(f' 5 is not in numbers tuple: {5  not in numbers}' )"
   ]
  },
  {
   "cell_type": "code",
   "execution_count": 29,
   "id": "a9c9a72d-51e9-4741-b990-71fd641cf84f",
   "metadata": {},
   "outputs": [
    {
     "name": "stdout",
     "output_type": "stream",
     "text": [
      " 3 is in numbers tuple    : True\n",
      " 3 is not in numbers tuple: False\n"
     ]
    }
   ],
   "source": [
    "# Is 3 in numbers?\n",
    "\n",
    "print(f' 3 is in numbers tuple    : {3  in numbers}' )\n",
    "print(f' 3 is not in numbers tuple: {3  not in numbers}' )"
   ]
  },
  {
   "cell_type": "markdown",
   "id": "5748bc4e-1198-4afd-8dea-9bbfba56efc7",
   "metadata": {
    "jp-MarkdownHeadingCollapsed": true
   },
   "source": [
    "### Immutable\n",
    "\n",
    "Similar to strings, tuples are immutable, which means they cannot be modified. \n",
    "- For example, attempting to change the first element of a tuple will result in an error message.\n",
    "\n",
    "``` python\n",
    "# ERROR:  try to change the first element, which has an index of 0.\n",
    "mytuple = (1,2,3,4)\n",
    "mytuple[0] = 100  \n",
    "```"
   ]
  },
  {
   "cell_type": "markdown",
   "id": "91ab38d2-9137-4174-8150-0d4e84e91801",
   "metadata": {},
   "source": [
    "### Tuple Methods\n",
    "- Except for the magic methods (those with underscores), there are only two methods for tuples. Y\n",
    "- You can run help(tuple) for more details."
   ]
  },
  {
   "cell_type": "code",
   "execution_count": 30,
   "id": "9a113538-55c0-43e5-aa8e-e8c2e5f22ffa",
   "metadata": {},
   "outputs": [
    {
     "name": "stdout",
     "output_type": "stream",
     "text": [
      "['__add__', '__class__', '__class_getitem__', '__contains__', '__delattr__', '__dir__', '__doc__', '__eq__', '__format__', '__ge__', '__getattribute__', '__getitem__', '__getnewargs__', '__getstate__', '__gt__', '__hash__', '__init__', '__init_subclass__', '__iter__', '__le__', '__len__', '__lt__', '__mul__', '__ne__', '__new__', '__reduce__', '__reduce_ex__', '__repr__', '__rmul__', '__setattr__', '__sizeof__', '__str__', '__subclasshook__', 'count', 'index']\n"
     ]
    }
   ],
   "source": [
    "# methods of tuples\n",
    "print(dir(tuple))"
   ]
  },
  {
   "cell_type": "markdown",
   "id": "63c10d02-3379-4305-a627-eeedc3ca9648",
   "metadata": {},
   "source": [
    "#### count()\n",
    "- It returns the number of occurrences of a given value in a tuple."
   ]
  },
  {
   "cell_type": "code",
   "execution_count": 52,
   "id": "e728d1f2-eb76-4058-a281-b8f410692491",
   "metadata": {},
   "outputs": [
    {
     "name": "stdout",
     "output_type": "stream",
     "text": [
      "Number of a in mytuple: 2\n",
      "Number of b in mytuple: 4\n",
      "Number of c in mytuple: 1\n",
      "Number of d in mytuple: 0\n"
     ]
    }
   ],
   "source": [
    "mytuple = ('a','a','b','b','b','b','c')\n",
    "print(f'Number of a in mytuple: {mytuple.count(\"a\")}')   # use \" instead of ' for a\n",
    "print(f'Number of b in mytuple: {mytuple.count(\"b\")}')\n",
    "print(f'Number of c in mytuple: {mytuple.count(\"c\")}')\n",
    "print(f'Number of d in mytuple: {mytuple.count(\"d\")}')"
   ]
  },
  {
   "cell_type": "markdown",
   "id": "191ed6f5-5723-4c70-a0a9-8d292c5de910",
   "metadata": {},
   "source": [
    "#### index()\n",
    "\n",
    "- It returns the index of a given value in a tuple.\n",
    "- If the value is not in the tuple, an error message is generated.\n",
    "- In the case of repeated elements, it returns the smallest index"
   ]
  },
  {
   "cell_type": "code",
   "execution_count": 37,
   "id": "13ee29ee-e7ec-4c8f-9dcb-a8abd2def69b",
   "metadata": {},
   "outputs": [
    {
     "name": "stdout",
     "output_type": "stream",
     "text": [
      "The index of a in mytuple: 0\n",
      "The index of b in mytuple: 1\n",
      "The index of c in mytuple: 2\n"
     ]
    }
   ],
   "source": [
    "mytuple = ('a','b','c', 'a')\n",
    "print(f'The index of a in mytuple: {mytuple.index(\"a\")}')   # index of first a\n",
    "print(f'The index of b in mytuple: {mytuple.index(\"b\")}') \n",
    "print(f'The index of c in mytuple: {mytuple.index(\"c\")}') \n",
    "# print(f'The index of d in mytuple: {mytuple.index(\"d\")}')  ---> ERROR"
   ]
  },
  {
   "cell_type": "markdown",
   "id": "fa8a01a2-8065-456f-a583-c8c9d92ef88d",
   "metadata": {},
   "source": [
    "- Additionally, you have the option to find the index of a specific element starting from a certain index.\n",
    "    - `index('a', N)`: find index of first 'a'  starting from index=N\n",
    "    - default value of N is 0"
   ]
  },
  {
   "cell_type": "code",
   "execution_count": 55,
   "id": "445ca016-fddf-429d-9258-4126517849a1",
   "metadata": {},
   "outputs": [
    {
     "name": "stdout",
     "output_type": "stream",
     "text": [
      "3\n"
     ]
    }
   ],
   "source": [
    "# index of first 'a' starting from index 2 element.\n",
    "mytuple = ('a','b','c', 'a')\n",
    "print(mytuple.index('a',2))"
   ]
  },
  {
   "cell_type": "markdown",
   "id": "0a956012-40f8-4628-8978-9ca7bf6c8750",
   "metadata": {},
   "source": [
    "### Iterations and Tuples"
   ]
  },
  {
   "cell_type": "markdown",
   "id": "d9dbe90f-41d3-4e00-9eff-530019274f01",
   "metadata": {},
   "source": [
    "We can use a *for* loop to access each element of a *tuple* and perform operations on each element.\n",
    "This can be done in two different ways:\n",
    "1. Using the values in the tuple (Iterating through values).\n",
    "2. Using indexes with the help of *len()* and *range()* functions (Iterating through indexes).\n",
    "    - The largest index of a tuple is `length of the tuple - 1` since indexing starts from 0.\n",
    "    - The indexes of a tuple are: $0, 1, 2, ..., \\text{length of the tuple} - 1$\n",
    "    - By using the range() function, we can use `range(length of the tuple)`, which consists of all indexes.\n",
    "        - Example:\n",
    "            - The indexes for mytuple = ('a', 'b','c') are 0, 1, 2.\n",
    "            - range(len(mytuple)) is range(3) which consists of 0, 1, 2.\n",
    "          \n",
    "The next two code snippets print the state names in the states tuple in two different ways."
   ]
  },
  {
   "cell_type": "code",
   "execution_count": 4,
   "id": "84e55b66-8f78-471f-99bb-72e223980b7d",
   "metadata": {},
   "outputs": [
    {
     "name": "stdout",
     "output_type": "stream",
     "text": [
      "Oklahoma\n",
      "Texas\n",
      "Florida\n",
      "California\n"
     ]
    }
   ],
   "source": [
    "states = ('Oklahoma', 'Texas', 'Florida', 'California')\n",
    "\n",
    "for state in states:\n",
    "    print(state)"
   ]
  },
  {
   "cell_type": "code",
   "execution_count": 5,
   "id": "c1547eeb-c879-4d23-9f4a-efefbdd438b5",
   "metadata": {},
   "outputs": [
    {
     "name": "stdout",
     "output_type": "stream",
     "text": [
      "Oklahoma\n",
      "Texas\n",
      "Florida\n",
      "California\n"
     ]
    }
   ],
   "source": [
    "states = ('Oklahoma', 'Texas', 'Florida', 'California')\n",
    "\n",
    "for i in range(len(states)):\n",
    "    print(states[i])"
   ]
  },
  {
   "cell_type": "markdown",
   "id": "134c00b5-359d-40f8-bc76-3e3a9147af1a",
   "metadata": {},
   "source": [
    "- While a *while* loop can also be used, the *for* loop is usually easier to work with when iterating through tuples."
   ]
  },
  {
   "cell_type": "code",
   "execution_count": 11,
   "id": "864529b8-181f-499f-94fd-182c48576f2e",
   "metadata": {},
   "outputs": [
    {
     "name": "stdout",
     "output_type": "stream",
     "text": [
      "Oklahoma\n",
      "Texas\n",
      "Florida\n",
      "California\n"
     ]
    }
   ],
   "source": [
    "states = ('Oklahoma', 'Texas', 'Florida', 'California')\n",
    "i = 0\n",
    "\n",
    "while i <len(states):\n",
    "    print(states[i])\n",
    "    i += 1"
   ]
  },
  {
   "cell_type": "markdown",
   "id": "f2f7b6d2-af13-4b49-92c2-2b1b09a3a28b",
   "metadata": {
    "scrolled": true
   },
   "source": [
    "- Print the number of characters for each state."
   ]
  },
  {
   "cell_type": "code",
   "execution_count": 8,
   "id": "b62f7e6c-4ca0-4731-99f5-bcd4561abbad",
   "metadata": {},
   "outputs": [
    {
     "name": "stdout",
     "output_type": "stream",
     "text": [
      "8\n",
      "5\n",
      "7\n",
      "10\n"
     ]
    }
   ],
   "source": [
    "states = ('Oklahoma', 'Texas', 'Florida', 'California')\n",
    "\n",
    "for state in states:\n",
    "    print(len(state))         "
   ]
  },
  {
   "cell_type": "code",
   "execution_count": 9,
   "id": "d948f99b-c0cf-4afc-8c02-e7c19cd6f25c",
   "metadata": {},
   "outputs": [
    {
     "name": "stdout",
     "output_type": "stream",
     "text": [
      "8\n",
      "5\n",
      "7\n",
      "10\n"
     ]
    }
   ],
   "source": [
    "states = ('Oklahoma', 'Texas', 'Florida', 'California')\n",
    "\n",
    "for i in range(len(states)):\n",
    "    print(len(states[i]))        # states[i] is a state name "
   ]
  },
  {
   "cell_type": "markdown",
   "id": "8200ef37-8b22-4072-ae18-83a139998cf7",
   "metadata": {},
   "source": [
    "### Examples\n"
   ]
  },
  {
   "cell_type": "markdown",
   "id": "7c684f71-212e-4a81-929c-186ac4825ac7",
   "metadata": {},
   "source": [
    "#### Split even and odd numbers\n",
    "Write a program that stores even numbers from the *numbers* tuple in a new tuple called *t_even* and odd numbers in another tuple called *t_odd*. \n",
    "- Do not use lists."
   ]
  },
  {
   "cell_type": "code",
   "execution_count": 12,
   "id": "7ef48923-9e57-47bd-905b-b0f3dab1b4fe",
   "metadata": {},
   "outputs": [],
   "source": [
    "numbers = (6,2,9,1,2,12,5,9,3,5,7,2,1,78,43,23,67,65,32,34,76,54)"
   ]
  },
  {
   "cell_type": "markdown",
   "id": "5852cc93-1acd-4c29-afd8-291a11392554",
   "metadata": {},
   "source": [
    "**Solution:**"
   ]
  },
  {
   "cell_type": "code",
   "execution_count": 13,
   "id": "caafbcb9-64a9-47e5-8462-38ca4f6c39d2",
   "metadata": {},
   "outputs": [
    {
     "name": "stdout",
     "output_type": "stream",
     "text": [
      "Even Numbers: (6, 2, 2, 12, 2, 78, 32, 34, 76, 54)\n",
      "Odd  Numbers: (9, 1, 5, 9, 3, 5, 7, 1, 43, 23, 67, 65)\n"
     ]
    }
   ],
   "source": [
    "t_odd = ()\n",
    "t_even =()\n",
    "\n",
    "for i in numbers:\n",
    "  if i%2 == 0:\n",
    "    t_even += (i,)      # concatenation of tuples t_even and (i,) \n",
    "  else:\n",
    "    t_odd += (i,)\n",
    "      \n",
    "print('Even Numbers:', t_even)\n",
    "print('Odd  Numbers:', t_odd)"
   ]
  },
  {
   "cell_type": "markdown",
   "id": "e9eac2ea-aaa3-450a-9e2c-865efa38175e",
   "metadata": {},
   "source": [
    "#### Split data types\n",
    "\n",
    "Write a program that stores the strings in the *mix_tuple* tuple into a tuple called *t_string*, integers into *t_integer*, floats into *t_float*, and booleans into *t_boolean*. \n",
    "- The *mix_tuple* contains only strings, integers, floats, and boolean values.\n",
    "- Do not use lists."
   ]
  },
  {
   "cell_type": "code",
   "execution_count": 15,
   "id": "f55ab269-cf89-403d-be75-d32edafc07b6",
   "metadata": {},
   "outputs": [],
   "source": [
    "mix_tuple = (1, 3, 'NJ', False, 'OK',5, 8,'Hello', 9.8, True ,9,87)"
   ]
  },
  {
   "cell_type": "markdown",
   "id": "3d57487e-1830-417a-b397-69482bd01beb",
   "metadata": {},
   "source": [
    "**Solution:**"
   ]
  },
  {
   "cell_type": "code",
   "execution_count": 19,
   "id": "3f77082a-5c34-4d29-bf9d-62e8eda4f1e8",
   "metadata": {},
   "outputs": [
    {
     "name": "stdout",
     "output_type": "stream",
     "text": [
      "Strings : ('NJ', 'OK', 'Hello')\n",
      "Numbers : (1, 3, 5, 8, 9.8, 9, 87)\n",
      "Booleans: (False, True)\n"
     ]
    }
   ],
   "source": [
    "t_string, t_number, t_boolean = (), (), ()\n",
    "\n",
    "for i in mix_tuple:\n",
    "  if type(i) == str:\n",
    "    t_string += (i,)\n",
    "  elif type(i) == bool:\n",
    "    t_boolean += (i,)\n",
    "  else:\n",
    "    t_number += (i,)\n",
    "      \n",
    "print('Strings :', t_string)\n",
    "print('Numbers :', t_number)\n",
    "print('Booleans:', t_boolean)"
   ]
  },
  {
   "cell_type": "code",
   "execution_count": null,
   "id": "d32b3ea1-ef34-49da-841c-5fc61041c76f",
   "metadata": {},
   "outputs": [],
   "source": []
  }
 ],
 "metadata": {
  "kernelspec": {
   "display_name": "Python 3 (ipykernel)",
   "language": "python",
   "name": "python3"
  },
  "language_info": {
   "codemirror_mode": {
    "name": "ipython",
    "version": 3
   },
   "file_extension": ".py",
   "mimetype": "text/x-python",
   "name": "python",
   "nbconvert_exporter": "python",
   "pygments_lexer": "ipython3",
   "version": "3.11.7"
  }
 },
 "nbformat": 4,
 "nbformat_minor": 5
}
