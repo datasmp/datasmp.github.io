{
 "cells": [
  {
   "cell_type": "markdown",
   "id": "83bac819-beda-40ef-a007-4d850350798e",
   "metadata": {},
   "source": [
    "# Input and Output Exercises"
   ]
  },
  {
   "cell_type": "markdown",
   "id": "24076788-124f-4c74-8b33-e5c577c449c8",
   "metadata": {},
   "source": [
    "## Question-1\n",
    "Write a single print statement that produces the following output:  \n",
    "A  \n",
    "B  \n",
    "CD  \n",
    "E\n"
   ]
  },
  {
   "cell_type": "markdown",
   "id": "e65a3a77-67d2-4ef5-8076-386d6849f291",
   "metadata": {},
   "source": [
    "## Question-2\n",
    "Use 2 *print()* functions, and the strings 'A', 'B', 'C', 'D'  to generate the following output.\n",
    "A---B---C---D\n"
   ]
  },
  {
   "cell_type": "markdown",
   "id": "df40ae8d-55e6-4bc3-b918-acc4dab02f98",
   "metadata": {},
   "source": [
    "## Question-3\n",
    "Use a single *print()* function and the strings 'ABCDE' and 'FGH' to generate the following output: *FGCDE*\n"
   ]
  },
  {
   "cell_type": "markdown",
   "id": "1b201fd9-a839-4f46-938a-6e0c32c07469",
   "metadata": {},
   "source": [
    "## Question-4\n",
    "\n",
    "Write a program that prompts the user for 3 numbers using 3 *input()* functions.\n",
    "- Find the harmonic mean of these numbers using the formula:\n",
    "$\\displaystyle H(x, y, z) = \\frac{3}{\\frac{1}{x}+\\frac{1}{y}+\\frac{1}{z}}$\n",
    "- Round the harmonic mean to the nearest hundredth and print it in the following format: $H(x,y,z)=$ rounded harmonic mean.\n",
    "\n",
    "- Sample Output:\n",
    "  \n",
    "Enter x:  2  \n",
    "Enter y:  3  \n",
    "Enter z:  4\n",
    "\n",
    "H(2.0,3.0,4.0) = 2.77   \n",
    " "
   ]
  },
  {
   "cell_type": "markdown",
   "id": "6fc6f277-5ff8-479a-a537-06d7fabfd2d2",
   "metadata": {},
   "source": [
    "## Question-5\n",
    "\n",
    "Write a program that prompts the user for a positive integer.\n",
    "- Print that integer.\n",
    "- On the second line, print one more than the given number two times separated by a dash.\n",
    "- On the third line, print two more than the given number three times separated by dashes.\n",
    "- On the fourth line, print three more than the given number four times separated by dashes.\n",
    "- On the fifth line, print four more than the given number five times separated by dashes.\n",
    "\n",
    "Sample Output:  \n",
    "Please enter an integer: 5  \n",
    "5  \n",
    "6-6  \n",
    "7-7-7  \n",
    "8-8-8-8  \n",
    "9-9-9-9-9  \n"
   ]
  },
  {
   "cell_type": "markdown",
   "id": "9c687911-d046-406a-ab5c-8636075e9b49",
   "metadata": {},
   "source": [
    "## Question-6\n",
    "\n",
    "Write a program that prompts the user for a number and a word using 2 *input()* functions.\n",
    "- Print the given word as many times as the given number.\n",
    " "
   ]
  },
  {
   "cell_type": "markdown",
   "id": "d656cb71-6590-4021-9a6e-b75807507cd1",
   "metadata": {},
   "source": [
    "## Question-7: Std\n",
    "\n",
    "Write a program that prompts the user for 3 numbers using 3 *input()* functions.\n",
    "- Find the mean of these three numbers.\n",
    "- Subtract the mean from each number.\n",
    "- Square each of these differences.\n",
    "- Find the mean of these squares.\n",
    "- Take the square root of this mean and round it to the nearest hundredth.\n",
    "  \n",
    "*Remark:This is the standard deviation of the given numbers, which provides information about how the given numbers are spread out around the mean.* \n"
   ]
  },
  {
   "cell_type": "markdown",
   "id": "e58e91ec-ebe6-424f-9f5c-9f43cc05f4d3",
   "metadata": {},
   "source": [
    "## Question-8: Countdown\n",
    "\n",
    "Write a program that prints the numbers starting from 5 down to 1 and displays 'START' after that.\n",
    "- Use the *sleep()* function from the *time* module to add a 1-second waiting time between each number for observation.\n",
    "- After printing a number, pause for 1 second, then delete it before printing the next number.\n",
    "- The output of your program should resemble a countdown.\n",
    "  "
   ]
  },
  {
   "cell_type": "markdown",
   "id": "f2c755db-0b2f-4bd7-a0c6-c54a4472b042",
   "metadata": {},
   "source": [
    "## Question-9: Arrow\n",
    "\n",
    "Write a program that prints the moving arrow '--->'.\n",
    "- Print the arrow, then add a one-second waiting time, then delete it.\n",
    "- Print the arrow again with a single space in front of it, then add a one-second waiting time, then delete it.\n",
    "- Repeat this procedure 10 times by increasing the space one more in each step.\n",
    "- The output of your program should resemble a moving arrow to the right.\n"
   ]
  },
  {
   "cell_type": "code",
   "execution_count": null,
   "id": "89c73fa7-4769-464b-aa4a-5f28327842bb",
   "metadata": {},
   "outputs": [],
   "source": []
  },
  {
   "cell_type": "code",
   "execution_count": null,
   "id": "864d0edd-3992-445c-8695-408ce26685d7",
   "metadata": {},
   "outputs": [],
   "source": []
  }
 ],
 "metadata": {
  "kernelspec": {
   "display_name": "Python 3 (ipykernel)",
   "language": "python",
   "name": "python3"
  },
  "language_info": {
   "codemirror_mode": {
    "name": "ipython",
    "version": 3
   },
   "file_extension": ".py",
   "mimetype": "text/x-python",
   "name": "python",
   "nbconvert_exporter": "python",
   "pygments_lexer": "ipython3",
   "version": "3.11.7"
  }
 },
 "nbformat": 4,
 "nbformat_minor": 5
}
