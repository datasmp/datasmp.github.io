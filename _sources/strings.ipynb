{
 "cells": [
  {
   "cell_type": "markdown",
   "id": "4c21d6d0-15ca-41c1-962c-ed609e8424d2",
   "metadata": {},
   "source": [
    "# Chp-4: Strings\n",
    "- Learning Objectives\n",
    "    - ..\n",
    "    - .."
   ]
  },
  {
   "cell_type": "markdown",
   "id": "7eb79e0e-7b40-467b-a40b-74e4d62a1d7f",
   "metadata": {},
   "source": [
    "## Create Strings\n",
    "Strings are ordered sequences of characters.\n",
    "- There are several ways to create strings:\n",
    "    - Single quotes:  `'text'`\n",
    "    - Double quotes:  `\"text\"`\n",
    "    - Triple single quotes: `'''text'''`\n",
    "    - Triple double quotes: `\"\"\"text\"\"\"`\n",
    "- A space is also a character that can be in a string.\n",
    "- Triple single and double quotes are used to create strings spanning multiple lines.\n",
    "\n",
    "- If a single quote is a character in the string, using single quotes to create the string is an error. This is because the character single quote will end the creation of the string. It behaves like the second single quote, instead of being a character in the string.\n",
    "    - You can use double quotes to create the string to overcome the confusion.\n",
    "    - Alternatively, you can use escaping characters."
   ]
  },
  {
   "cell_type": "code",
   "execution_count": 17,
   "id": "4e4aa2c7-e8bb-4251-981d-c3aa4e6ae9cf",
   "metadata": {},
   "outputs": [],
   "source": [
    "# Single quotes \n",
    "name = 'Mary'"
   ]
  },
  {
   "cell_type": "markdown",
   "id": "e7bc57ce-1796-47df-8775-ca97e2d89f39",
   "metadata": {},
   "source": [
    "``` python\n",
    "# ERROR: Double single quotes cannot be used to create strings.\n",
    "name = ''Mary''\n",
    "print(name)\n",
    "```"
   ]
  },
  {
   "cell_type": "code",
   "execution_count": 20,
   "id": "730adaa7-d8b5-4016-b9d2-10ba06785bc3",
   "metadata": {},
   "outputs": [],
   "source": [
    "# Double quotes \n",
    "name = \"Mary\""
   ]
  },
  {
   "cell_type": "code",
   "execution_count": 21,
   "id": "a6381139-dde0-40d9-86b0-dc97d8139bc9",
   "metadata": {},
   "outputs": [],
   "source": [
    "# Triple single quotes\n",
    "name = '''Mary'''"
   ]
  },
  {
   "cell_type": "code",
   "execution_count": 22,
   "id": "8aa92260-f963-4456-a7ad-03afc60fbe38",
   "metadata": {},
   "outputs": [],
   "source": [
    "# Triple double quotes\n",
    "name = \"\"\"Mary\"\"\""
   ]
  },
  {
   "cell_type": "markdown",
   "id": "e7ec1c90-9db4-46a8-9612-575dfd441be8",
   "metadata": {},
   "source": [
    "``` python\n",
    "# ERROR\n",
    "'Mary's book.'\n",
    "```"
   ]
  },
  {
   "cell_type": "markdown",
   "id": "7f269c24-af34-46ec-bb9e-c0409c499657",
   "metadata": {},
   "source": [
    "- In the code above, the second single quote ends the creation of the string. \n",
    "- The `s book.'` part causes the error because it has only one single quote.\n",
    "-  If you use double quotes, then there will not be any problem."
   ]
  },
  {
   "cell_type": "code",
   "execution_count": 12,
   "id": "7cd6b5c9-3677-4cc3-ab66-eba9f8bd34c9",
   "metadata": {},
   "outputs": [],
   "source": [
    "# no ERROR\n",
    "sentence = \"Mary's book.\""
   ]
  },
  {
   "cell_type": "markdown",
   "id": "bceb2fc6-ea54-44b9-b9e9-d1f86744855f",
   "metadata": {},
   "source": [
    "``` python\n",
    "# ERROR\n",
    "\"Mary said \"I am here\".\"\n",
    "```"
   ]
  },
  {
   "cell_type": "markdown",
   "id": "78854e28-9742-4d7c-af19-a7786e55bd59",
   "metadata": {},
   "source": [
    "- In the code above, the second double quote ends the creation of the string. \n",
    "- The `I am here` part causes the error because it is not enclosed by single or double quotes.\n",
    "- If you use single quotes, then there will not be any problem."
   ]
  },
  {
   "cell_type": "code",
   "execution_count": 13,
   "id": "55bb5cf7-5d44-41c6-b1d0-8a1dc9ed5d2c",
   "metadata": {},
   "outputs": [],
   "source": [
    "# no ERROR\n",
    "sentence = 'Mary said \"I am here\".'"
   ]
  },
  {
   "cell_type": "markdown",
   "id": "257d1d4f-87a5-4c56-9634-26b33e486abd",
   "metadata": {},
   "source": [
    "``` python\n",
    "# ERROR: Simple quotes cannot be used with strings spanning more than one line.\n",
    "name = 'John\n",
    "     Steinbeck'\n",
    "print(x)\n",
    "```"
   ]
  },
  {
   "cell_type": "markdown",
   "id": "da41daeb-4a77-43da-bb24-8311d680bdff",
   "metadata": {},
   "source": [
    "``` python\n",
    "# ERROR: Double quotes cannot be used with strings spanning more than one line.\n",
    "name = \"John\n",
    "     Steinbeck\"\n",
    "```"
   ]
  },
  {
   "cell_type": "code",
   "execution_count": 19,
   "id": "0e2a7a8c-76e3-4642-a0a7-f1cda1f4c644",
   "metadata": {},
   "outputs": [],
   "source": [
    "# no ERROR\n",
    "name = '''John\n",
    "     Steinbeck'''"
   ]
  },
  {
   "cell_type": "code",
   "execution_count": 14,
   "id": "b7b8ee96-a2c7-482c-a26c-d11110f5e546",
   "metadata": {},
   "outputs": [],
   "source": [
    "# no ERROR\n",
    "name = \"\"\"John\n",
    "     Steinbeck\"\"\""
   ]
  },
  {
   "cell_type": "markdown",
   "id": "25b8e085-0273-421d-b590-1da0ed56bb92",
   "metadata": {},
   "source": [
    "## Escaping characters\n",
    "\n",
    "An escape character is a backslash `\\` followed by a character. It is used to write special characters in a string.\n",
    "\n",
    "  - `\\'` : Single quote (apostrophy)\n",
    "  - `\\\"` : Double quote\n",
    "  - `\\n` : New line\n",
    "  - `\\t` : Tabulation\n",
    "  - `\\b` : Backspace\n",
    "  - `\\\\` : Backslash\n",
    "  - `\\r` : Carriage return"
   ]
  },
  {
   "cell_type": "code",
   "execution_count": 16,
   "id": "5458ef48-cca2-4c8b-9975-345832a08e80",
   "metadata": {},
   "outputs": [
    {
     "name": "stdout",
     "output_type": "stream",
     "text": [
      "Mary's book.\n"
     ]
    }
   ],
   "source": [
    "# \\' is the character '\n",
    "print('Mary\\'s book.')"
   ]
  },
  {
   "cell_type": "code",
   "execution_count": 15,
   "id": "24af1e93-bc10-4feb-a815-a01e424078b8",
   "metadata": {},
   "outputs": [
    {
     "name": "stdout",
     "output_type": "stream",
     "text": [
      "Mary said \"I am here\".\n"
     ]
    }
   ],
   "source": [
    "# \\\" is the character \"\n",
    "print(\"Mary said \\\"I am here\\\".\")"
   ]
  },
  {
   "cell_type": "code",
   "execution_count": 23,
   "id": "8a108ea7-dcf1-4c58-9414-85f90ada28ac",
   "metadata": {},
   "outputs": [
    {
     "name": "stdout",
     "output_type": "stream",
     "text": [
      "John\n",
      "Steinbeck\n"
     ]
    }
   ],
   "source": [
    "# \\n is a new line\n",
    "print('John\\nSteinbeck')"
   ]
  },
  {
   "cell_type": "code",
   "execution_count": 25,
   "id": "6ec15819-fa6b-414b-a193-907b4128b3f2",
   "metadata": {},
   "outputs": [
    {
     "name": "stdout",
     "output_type": "stream",
     "text": [
      "John\tSteinbeck\n",
      "John    Steinbeck\n"
     ]
    }
   ],
   "source": [
    "# \\t is a tab \n",
    "# Inserts spaces up to the next tab stop, which occurs every 8th character.\n",
    "print('John\\tSteinbeck')\n",
    "print('John'+' '*4+'Steinbeck')"
   ]
  },
  {
   "cell_type": "code",
   "execution_count": 27,
   "id": "7fd38d39-c849-4eb6-9883-046d0a88a081",
   "metadata": {},
   "outputs": [
    {
     "name": "stdout",
     "output_type": "stream",
     "text": [
      "Mark\tTwain\n",
      "Mark    Twain\n"
     ]
    }
   ],
   "source": [
    "print('Mark\\tTwain')\n",
    "print('Mark'+' '*4+'Twain')"
   ]
  },
  {
   "cell_type": "markdown",
   "id": "572c5797-1cd7-4863-893a-7aa19b136da0",
   "metadata": {},
   "source": [
    "- \\b (backspace) moves one character back,  deleting the preceding character.\n"
   ]
  },
  {
   "cell_type": "code",
   "execution_count": 41,
   "id": "a760a906-b168-487c-bf34-96cefe269bfe",
   "metadata": {},
   "outputs": [
    {
     "name": "stdout",
     "output_type": "stream",
     "text": [
      "Joh Steinbeck\n"
     ]
    }
   ],
   "source": [
    "print('John\\b Steinbeck')"
   ]
  },
  {
   "cell_type": "markdown",
   "id": "94d247d0-211a-48e4-b648-e2f3ff41b186",
   "metadata": {},
   "source": [
    "- \\b\\b (two backspaces) moves two characters back,  deleting the preceding two characters.\n"
   ]
  },
  {
   "cell_type": "code",
   "execution_count": 29,
   "id": "115cb6d4-1fee-4850-b840-3bb4076debaf",
   "metadata": {},
   "outputs": [
    {
     "name": "stdout",
     "output_type": "stream",
     "text": [
      "Jo Steinbeck\n"
     ]
    }
   ],
   "source": [
    "print('John\\b\\b Steinbeck')"
   ]
  },
  {
   "cell_type": "code",
   "execution_count": 30,
   "id": "7a78cfea-2e7b-4203-b8b5-0e02ab42de7e",
   "metadata": {},
   "outputs": [
    {
     "name": "stdout",
     "output_type": "stream",
     "text": [
      "John\\ Steinbeck\n"
     ]
    }
   ],
   "source": [
    "# \\\\ is the \\ (backslash) character\n",
    "print('John\\\\ Steinbeck')"
   ]
  },
  {
   "cell_type": "markdown",
   "id": "7b1a9ca6-2a71-414c-9749-f44b5b458706",
   "metadata": {},
   "source": [
    "## Raw Strings\n",
    "- Each character in a raw string has no special meaning; they are just characters.\n",
    "- It is created using `r` in front of the string: `r'text'`\n",
    "- In the example below, `\\t,\\n,\\',\\\"` have no special meanings; they are just characters `\\, t, n,',\"`"
   ]
  },
  {
   "cell_type": "code",
   "execution_count": 226,
   "id": "4c66efec-c2ff-43a4-abb6-84dfe06e49dd",
   "metadata": {},
   "outputs": [
    {
     "name": "stdout",
     "output_type": "stream",
     "text": [
      "Good \\t bye.\n"
     ]
    }
   ],
   "source": [
    "# \\t means two characters, \\ and t. \n",
    "# \\t does not mean a tab in a raw string\n",
    "\n",
    "text = r'Good \\t bye.'\n",
    "print(text)"
   ]
  },
  {
   "cell_type": "code",
   "execution_count": 37,
   "id": "06ea1140-2f33-42c4-b0a0-b2660492307a",
   "metadata": {},
   "outputs": [
    {
     "name": "stdout",
     "output_type": "stream",
     "text": [
      "Hello.\\t my name\\n is Tom. I am\\' from\\\" England.\n"
     ]
    }
   ],
   "source": [
    "text = r'Hello.\\t my name\\n is Tom. I am\\' from\\\" England.'\n",
    "print(text)"
   ]
  },
  {
   "cell_type": "markdown",
   "id": "39f4a37c-f793-4713-a64e-1f7bd4d9c5b5",
   "metadata": {},
   "source": [
    "## f-strings\n",
    "- It is a great way to combine constants and variable values.\n",
    "- It is in the form of: `f'text {variable} text'`\n",
    "- Variables are enclosed in curly brackets `{variable}` called placeholders.\n",
    "- An f-string generates a new string.\n",
    "- You can also perform rounding or algebraic operations within curly brackets.\n",
    "- It is much easier to use f-strings than comma-separated values in a print() function."
   ]
  },
  {
   "cell_type": "code",
   "execution_count": 45,
   "id": "805b01dd-08a5-4ea0-bb6a-a0bc3b40710b",
   "metadata": {},
   "outputs": [],
   "source": [
    "name = 'Tom'\n",
    "country = 'Spain'\n",
    "age = 25\n",
    "weight = 173.6294"
   ]
  },
  {
   "cell_type": "markdown",
   "id": "37e70403-ddf7-4ce5-95f4-c679a89dcfb8",
   "metadata": {
    "scrolled": true
   },
   "source": [
    "- You can compare the next two cells below to see the advantage of using f-strings."
   ]
  },
  {
   "cell_type": "code",
   "execution_count": 39,
   "id": "cd4dcd02-760b-48e9-bcfc-8a636c4b8220",
   "metadata": {},
   "outputs": [
    {
     "name": "stdout",
     "output_type": "stream",
     "text": [
      "My name is Tom.\n"
     ]
    }
   ],
   "source": [
    "# using an f-string\n",
    "print(f'My name is {name}.')"
   ]
  },
  {
   "cell_type": "code",
   "execution_count": 40,
   "id": "8d916ba6-a358-4703-8258-46d34da51641",
   "metadata": {},
   "outputs": [
    {
     "name": "stdout",
     "output_type": "stream",
     "text": [
      "My name is Tom.\n"
     ]
    }
   ],
   "source": [
    "# longer way\n",
    "print('My name is ', name, '.', sep='')"
   ]
  },
  {
   "cell_type": "code",
   "execution_count": 43,
   "id": "8b98adf6-0b94-4645-b83c-d2120b7dc39c",
   "metadata": {},
   "outputs": [
    {
     "name": "stdout",
     "output_type": "stream",
     "text": [
      "My name is Tom.\n"
     ]
    }
   ],
   "source": [
    "# using an f-string\n",
    "\n",
    "text = f'My name is {name}.'   # text is a string\n",
    "print(text)"
   ]
  },
  {
   "cell_type": "code",
   "execution_count": 44,
   "id": "b47cab09-44cb-4bb0-8bf5-32f45d62722f",
   "metadata": {},
   "outputs": [
    {
     "name": "stdout",
     "output_type": "stream",
     "text": [
      "My name is Tom and I am from Spain. I am 25 years old.\n"
     ]
    }
   ],
   "source": [
    "# Multiple placholders\n",
    "print(f'My name is {name} and I am from {country}. I am {age} years old.')"
   ]
  },
  {
   "cell_type": "code",
   "execution_count": 42,
   "id": "a1bcfcbb-2564-4c71-a91b-0f65a3217f8a",
   "metadata": {},
   "outputs": [
    {
     "name": "stdout",
     "output_type": "stream",
     "text": [
      "I will be 26 years old next year.\n"
     ]
    }
   ],
   "source": [
    "# algebraic operation inside curly brackets\n",
    "print(f'I will be {age+1} years old next year.')"
   ]
  },
  {
   "cell_type": "code",
   "execution_count": 54,
   "id": "1de601fc-206e-4e10-ac7e-31aaa9b4ea3b",
   "metadata": {},
   "outputs": [
    {
     "name": "stdout",
     "output_type": "stream",
     "text": [
      "My weight is 173.6294.\n",
      "My rounded weight is 173.63.\n"
     ]
    }
   ],
   "source": [
    "# rounding by using the round() function\n",
    "\n",
    "print(f'My weight is {weight}.')\n",
    "print(f'My rounded weight is {round(weight,2)}.')"
   ]
  },
  {
   "cell_type": "code",
   "execution_count": 53,
   "id": "245e21eb-c62b-49f6-b81b-73ea12cff30a",
   "metadata": {},
   "outputs": [
    {
     "name": "stdout",
     "output_type": "stream",
     "text": [
      "My weight is 173.6294.\n",
      "My rounded weight is 173.63.\n"
     ]
    }
   ],
   "source": [
    "# rounding by a different way\n",
    "\n",
    "print(f'My weight is {weight}.')\n",
    "print(f'My rounded weight is {weight:.2f}.') # 2 means second decimal place (hundredth), f means float"
   ]
  },
  {
   "cell_type": "markdown",
   "id": "d2d9d4aa-33c8-4b5b-84c8-f5ee4b138532",
   "metadata": {},
   "source": [
    "## Unicode Characters\n",
    "- These are symbols, accented letters, non-Latin characters, and emojis—kind of different characters.\n",
    "- You can find the list of Unicode characters on the official website of [Unicodes](https://home.unicode.org/).\n",
    "- Each Unicode character has a code that is unique to it.\n",
    "    - If the code has four characters, use\n",
    "        - `\\uXXXX` where XXXX is the code.\n",
    "    - If a code has four characters or more, pad it with 0 from the left to make the length of the code eight and use:\n",
    "        - `\\Uxxxxxxxx` where xxxxxxxx is the 0-padded code."
   ]
  },
  {
   "cell_type": "code",
   "execution_count": 58,
   "id": "8ae4c298-d41a-4b46-bf28-7054563e4f2c",
   "metadata": {},
   "outputs": [
    {
     "name": "stdout",
     "output_type": "stream",
     "text": [
      "😹\n"
     ]
    }
   ],
   "source": [
    "# unicode code is 1F639, you need to add 3 zeros to the left\n",
    "print('\\U0001F639')"
   ]
  },
  {
   "cell_type": "code",
   "execution_count": 59,
   "id": "599b057f-84b9-419d-bb53-08cecb9483c6",
   "metadata": {},
   "outputs": [
    {
     "name": "stdout",
     "output_type": "stream",
     "text": [
      "😂\n"
     ]
    }
   ],
   "source": [
    "# unicode code is 1F602, you need to add 3 zeros to the left\n",
    "print('\\U0001F602')"
   ]
  },
  {
   "cell_type": "code",
   "execution_count": 63,
   "id": "9cb174be-00c2-453f-92c6-5555b2a8b8cd",
   "metadata": {},
   "outputs": [
    {
     "name": "stdout",
     "output_type": "stream",
     "text": [
      "❤\n"
     ]
    }
   ],
   "source": [
    "# unicode code is 2764\n",
    "print('\\u2764')"
   ]
  },
  {
   "cell_type": "code",
   "execution_count": 65,
   "id": "734082ba-2e8b-4cb0-9dcc-c809db41906f",
   "metadata": {},
   "outputs": [
    {
     "name": "stdout",
     "output_type": "stream",
     "text": [
      "❤\n"
     ]
    }
   ],
   "source": [
    "# unicode code is 2764, you need to add 4 zeros to the left\n",
    "print('\\U00002764')"
   ]
  },
  {
   "cell_type": "markdown",
   "id": "9bf56c81-bb15-43af-904f-13a20b67eb0e",
   "metadata": {},
   "source": [
    "##  Operations on strings\n",
    "###  Concatenation\n",
    "- The `+` operator is used to concatenate two strings.\n",
    "- String + String: combines two strings."
   ]
  },
  {
   "cell_type": "code",
   "execution_count": 33,
   "id": "d15070ec-852e-4bd3-bfef-feb2068f5ac3",
   "metadata": {},
   "outputs": [],
   "source": [
    "x = 'John'\n",
    "y = 'Steinbeck'"
   ]
  },
  {
   "cell_type": "code",
   "execution_count": 34,
   "id": "91e76bf0-cfe5-4559-9257-a9729b6345bf",
   "metadata": {},
   "outputs": [
    {
     "name": "stdout",
     "output_type": "stream",
     "text": [
      "JohnSteinbeck\n"
     ]
    }
   ],
   "source": [
    "# concatenation of x and y\n",
    "\n",
    "name = x+y\n",
    "print(name)"
   ]
  },
  {
   "cell_type": "code",
   "execution_count": 35,
   "id": "d1215d8a-5b7a-4e1d-b144-8c084c72f4de",
   "metadata": {},
   "outputs": [
    {
     "name": "stdout",
     "output_type": "stream",
     "text": [
      "John Steinbeck\n"
     ]
    }
   ],
   "source": [
    "# add a space between x and y\n",
    "# concatenation of x, space, and y\n",
    "\n",
    "name = x+' '+y\n",
    "print(name)"
   ]
  },
  {
   "cell_type": "markdown",
   "id": "e7866962-697e-43a5-84d0-98ea1603d166",
   "metadata": {},
   "source": [
    "### Repetition\n",
    "- The `*` operator is used to repeat a string a certain number of times.\n",
    "- `String * Integer` or `Integer * String` makes copies of the string Integer many times.\n",
    "- Floats cannot be used for repetitions."
   ]
  },
  {
   "cell_type": "code",
   "execution_count": 36,
   "id": "793ca93d-c881-452e-94e3-f7a00816ac55",
   "metadata": {},
   "outputs": [
    {
     "name": "stdout",
     "output_type": "stream",
     "text": [
      "JohnJohnJohnJohn\n"
     ]
    }
   ],
   "source": [
    "# four copies of x\n",
    "\n",
    "fourtoms = x*4\n",
    "print(fourtoms)"
   ]
  },
  {
   "cell_type": "markdown",
   "id": "d029e86f-c09f-46f5-9055-9e28b7b8e0a9",
   "metadata": {},
   "source": [
    "``` python\n",
    "# ERROR: float * str\n",
    "# floats can not be sed for repetition\n",
    "4.3*'Hi'\n",
    "```"
   ]
  },
  {
   "cell_type": "code",
   "execution_count": 82,
   "id": "7d235b9d-c92b-4d4f-9f07-81a5641056ba",
   "metadata": {},
   "outputs": [
    {
     "name": "stdout",
     "output_type": "stream",
     "text": [
      "$\n",
      "$$\n",
      "$$$\n",
      "$$$$\n",
      "$$$$$\n",
      "$$$$$$\n",
      "$$$$$$$\n"
     ]
    }
   ],
   "source": [
    "# Triangle with the '$' character using repetitions.\n",
    "print('$')\n",
    "print('$'*2)\n",
    "print('$'*3)\n",
    "print('$'*4)\n",
    "print('$'*5)\n",
    "print('$'*6)\n",
    "print('$'*7)"
   ]
  },
  {
   "cell_type": "code",
   "execution_count": 227,
   "id": "2c6a0189-2082-4ed0-8715-14d65184b791",
   "metadata": {},
   "outputs": [
    {
     "name": "stdout",
     "output_type": "stream",
     "text": [
      "      $\n",
      "     $$\n",
      "    $$$\n",
      "   $$$$\n",
      "  $$$$$\n",
      " $$$$$$\n",
      "$$$$$$$\n"
     ]
    }
   ],
   "source": [
    "# Triangle with the '$' and ' ' (space) characters using repetitions.\"\n",
    "print(' '*6+'$')\n",
    "print(' '*5+'$'*2)\n",
    "print(' '*4+'$'*3)\n",
    "print(' '*3+'$'*4)\n",
    "print(' '*2+'$'*5)\n",
    "print(' '*1+'$'*6)\n",
    "print(' '*0+'$'*7)    # you do not have to include the space part because it adds no space."
   ]
  },
  {
   "cell_type": "markdown",
   "id": "8addcd28-60fa-49ab-b8d1-63070c01c282",
   "metadata": {},
   "source": [
    "## Length Function\n",
    "- The built-in `len()` function returns the number of characters in a string."
   ]
  },
  {
   "cell_type": "code",
   "execution_count": 72,
   "id": "f7c4eb17-2c05-4a6c-842e-b0197ad79c77",
   "metadata": {},
   "outputs": [
    {
     "name": "stdout",
     "output_type": "stream",
     "text": [
      "5\n"
     ]
    }
   ],
   "source": [
    "# there are five characters in hello\n",
    "print(len('hello'))"
   ]
  },
  {
   "cell_type": "code",
   "execution_count": 73,
   "id": "7dc7aafb-4653-4f7a-8512-1b30e8381504",
   "metadata": {},
   "outputs": [
    {
     "name": "stdout",
     "output_type": "stream",
     "text": [
      "6\n"
     ]
    }
   ],
   "source": [
    "# there are six characters in 'hel lo'\n",
    "# space is a character\n",
    "print(len('hel lo'))"
   ]
  },
  {
   "cell_type": "code",
   "execution_count": 74,
   "id": "8d76dddc-b8da-47e9-89bb-a22a317b9545",
   "metadata": {},
   "outputs": [
    {
     "name": "stdout",
     "output_type": "stream",
     "text": [
      "6\n"
     ]
    }
   ],
   "source": [
    "# there are six characters in 'hel\\nlo\n",
    "# \\n is a new line character (single character)\n",
    "print(len('hel\\nlo'))"
   ]
  },
  {
   "cell_type": "markdown",
   "id": "d6dae31b-3d24-47b1-b26f-22833fbe9436",
   "metadata": {},
   "source": [
    "## String Indexing\n",
    "\n",
    "- Indexing is used to access individual characters or sets of characters.\n",
    "- Indexing starts with zero. \n",
    "- The index of the first character is 0.\n",
    "- The index of the second character is 1, and so on.\n",
    "- The index is written in square brackets: string[index].\n",
    "- Negative numbers can also be used for indexing.\n",
    "- The index of the last character is -1.\n",
    "- The index of the second character from the end is -2, and so on."
   ]
  },
  {
   "cell_type": "markdown",
   "id": "0793bba4-0af1-49e1-b718-41cc4b287ac4",
   "metadata": {},
   "source": [
    "![](pict/cal_index.png)\n",
    "- index of `C` is 0 or -10\n",
    "- index of `first A` is 1 or -9\n",
    "- index of `second A` is 9 or -1\n",
    "- **Warning:** There is a character with index -10 (the second 'A'), but there is no character with index positive 10 because indexing starts with 0, and it does not reach 10, which is the length of the string. \n",
    "    - For any string, there is no character with an index equal to the length of the string."
   ]
  },
  {
   "cell_type": "code",
   "execution_count": 91,
   "id": "2cf7bfab-3f3c-4f49-82f3-f86cc87970d5",
   "metadata": {},
   "outputs": [],
   "source": [
    "state = 'CALIFORNIA'"
   ]
  },
  {
   "cell_type": "code",
   "execution_count": 101,
   "id": "1d4fe684-63a8-417a-9e4c-be0be8d8454d",
   "metadata": {},
   "outputs": [
    {
     "name": "stdout",
     "output_type": "stream",
     "text": [
      "C\n"
     ]
    }
   ],
   "source": [
    "# access the character at index 0 by using square brackets.\"\n",
    "print(state[0])"
   ]
  },
  {
   "cell_type": "code",
   "execution_count": 100,
   "id": "937bb5e7-b1ce-4dca-b618-bf6567ba63b8",
   "metadata": {},
   "outputs": [
    {
     "name": "stdout",
     "output_type": "stream",
     "text": [
      "R\n"
     ]
    }
   ],
   "source": [
    "# Access the character at index 6 by using square brackets.\"\n",
    "print(state[6])"
   ]
  },
  {
   "cell_type": "code",
   "execution_count": 99,
   "id": "9ad38464-c377-49c7-8276-3dfac7eb7642",
   "metadata": {},
   "outputs": [
    {
     "name": "stdout",
     "output_type": "stream",
     "text": [
      "A\n"
     ]
    }
   ],
   "source": [
    "# Access the character at index -1 by using square brackets.\"\n",
    "print(state[-1])"
   ]
  },
  {
   "cell_type": "code",
   "execution_count": 228,
   "id": "152140c3-8a1d-403a-b022-549c2119b20a",
   "metadata": {},
   "outputs": [
    {
     "name": "stdout",
     "output_type": "stream",
     "text": [
      "N\n"
     ]
    }
   ],
   "source": [
    "# Access the character at index -3 by using square brackets.\"\n",
    "print(state[-3])"
   ]
  },
  {
   "cell_type": "markdown",
   "id": "e3751bb6-6f58-4c50-a0ad-c13aec46b192",
   "metadata": {},
   "source": [
    "- There is an error in the following code because there is no character with index 10.\n",
    "\n",
    "``` python\n",
    "# ERROR: out of range\n",
    "state[10]\n",
    "```\n",
    "- The length of state is 10, and there is an error in the following code. This applies to all strings\n",
    "\n",
    "``` python\n",
    "# ERROR: out of range\n",
    "state[len(state)]\n",
    "```"
   ]
  },
  {
   "cell_type": "code",
   "execution_count": 229,
   "id": "ec46c83d-50f5-4d8f-b294-f288176293ca",
   "metadata": {},
   "outputs": [
    {
     "name": "stdout",
     "output_type": "stream",
     "text": [
      "A\n"
     ]
    }
   ],
   "source": [
    "# There is no error in the following code because len(state) - 1 = 9 is the index of the last character\n",
    "print(state[len(state)-1])"
   ]
  },
  {
   "cell_type": "markdown",
   "id": "0053559c-74c5-43dc-9de8-9f38f7c85379",
   "metadata": {},
   "source": [
    "## String Slices\n",
    "\n",
    "- You can access more than one character of a string by using index numbers.\n",
    "- It is in the form of `string[start: end]` with inclusive start and exclusive end.\n",
    "- Use `:` (colon) inside square brackets between the start and end indexes.\n",
    "- It consists of characters starting with index start up to the character with index end-1.\n",
    "- The character with index end is not included.\n",
    "- For example, `string[2:5]` returns characters with indexes 2, 3, 4 (5 is not included).\n",
    "- For example, string[-4:-1] returns characters with indexes -4, -3, -2 (-1 is not included).\n",
    "- It returns a substring.\n",
    "\n",
    "\n",
    "![](pict/cal_index2.png)"
   ]
  },
  {
   "cell_type": "code",
   "execution_count": 102,
   "id": "e3497c12-eed8-4c0a-bdff-c6d5e4321480",
   "metadata": {},
   "outputs": [],
   "source": [
    "state = 'CALIFORNIA'"
   ]
  },
  {
   "cell_type": "code",
   "execution_count": 104,
   "id": "dce27a7f-c80e-4111-b780-503251e49160",
   "metadata": {},
   "outputs": [
    {
     "name": "stdout",
     "output_type": "stream",
     "text": [
      "LIF\n"
     ]
    }
   ],
   "source": [
    "print(state[2:5])  # index=2,3,4"
   ]
  },
  {
   "cell_type": "code",
   "execution_count": 105,
   "id": "05849b7a-d1ba-4010-8751-ee49085bf5c0",
   "metadata": {},
   "outputs": [
    {
     "name": "stdout",
     "output_type": "stream",
     "text": [
      "RNI\n"
     ]
    }
   ],
   "source": [
    "print(state[-4:-1])  # index=-4,-3,-2"
   ]
  },
  {
   "cell_type": "markdown",
   "id": "922e40fc-f037-4709-aa77-63961ecf53ed",
   "metadata": {},
   "source": [
    "- `string[:end]`: the default value of start is 0, which means it starts from the very beginning.\n",
    "    - For example, `string[:5]` returns characters with indexes 0, 1, 2, 3, 4 (5 is not included).\n",
    "- `string[start:]`: the default value of end is the length, which means it goes all the way to the end.\n",
    "    - For example, `string[2:]` returns characters with indexes 2, 3, 4, 5, 6, 7, 8, 9 (all characters starting from index 2).\n",
    "- `string[:]`:  starting from the very beginning and going all the way to the end, representing the whole string."
   ]
  },
  {
   "cell_type": "code",
   "execution_count": 110,
   "id": "7bf6e8ba-7cfb-4480-b20d-a62ff0424849",
   "metadata": {},
   "outputs": [
    {
     "name": "stdout",
     "output_type": "stream",
     "text": [
      "LIFORNIA\n"
     ]
    }
   ],
   "source": [
    "print(state[2:])  # index = 2,3,4,5,6,7,8,9"
   ]
  },
  {
   "cell_type": "code",
   "execution_count": 111,
   "id": "abbbe0f7-0d5c-423a-a989-cc98125b8012",
   "metadata": {},
   "outputs": [
    {
     "name": "stdout",
     "output_type": "stream",
     "text": [
      "CALIF\n"
     ]
    }
   ],
   "source": [
    "print(state[:5])  # index = 0,1,2,3,4"
   ]
  },
  {
   "cell_type": "code",
   "execution_count": 112,
   "id": "d293c3c8-9056-436f-a1f2-64c604678050",
   "metadata": {},
   "outputs": [
    {
     "name": "stdout",
     "output_type": "stream",
     "text": [
      "CALIFORNIA\n"
     ]
    }
   ],
   "source": [
    "print(state[:])  # index = all of them = 0,1,2,...,9"
   ]
  },
  {
   "cell_type": "markdown",
   "id": "1f110eb5-9f40-4f0b-91cd-48d59246a44f",
   "metadata": {},
   "source": [
    "- Slicing can also be done by taking steps in the form of: `string[start: end: step]`.\n",
    "- `string[start: end: step]` means starting with the character at index = start up to the character at index = length - 1, as before, but not necessarily including all characters between them.\n",
    "- The first index is start, the second index is start + step, and the third index is start + 2 * step.\n",
    "- It continues in this way, but the largest index can be at most length - 1.\n",
    "- `step` can also be considered as an increment, but it can also be a negative number.\n",
    "- The default value of step is 1."
   ]
  },
  {
   "cell_type": "code",
   "execution_count": 113,
   "id": "db632447-caad-45b8-8c2b-00d547e6f889",
   "metadata": {},
   "outputs": [
    {
     "name": "stdout",
     "output_type": "stream",
     "text": [
      "CALIFORNIA\n"
     ]
    }
   ],
   "source": [
    "print(state)"
   ]
  },
  {
   "cell_type": "code",
   "execution_count": 116,
   "id": "f77f84f7-0163-4718-b8a9-0cb62593e910",
   "metadata": {},
   "outputs": [
    {
     "name": "stdout",
     "output_type": "stream",
     "text": [
      "LFR\n"
     ]
    }
   ],
   "source": [
    "print(state[2:7:2])  # index = 2,2+2=4, 4+2=6"
   ]
  },
  {
   "cell_type": "code",
   "execution_count": 117,
   "id": "c078b515-1a9e-4ab5-b2a5-be7db58f4a1b",
   "metadata": {},
   "outputs": [
    {
     "name": "stdout",
     "output_type": "stream",
     "text": [
      "AFN\n"
     ]
    }
   ],
   "source": [
    "print(state[1:8:3])  # index = 1,1+3=4, 4+3=7"
   ]
  },
  {
   "cell_type": "code",
   "execution_count": 118,
   "id": "ee928303-3475-41d7-af27-311fb94b6409",
   "metadata": {},
   "outputs": [
    {
     "name": "stdout",
     "output_type": "stream",
     "text": [
      "NOI\n"
     ]
    }
   ],
   "source": [
    "print(state[7:2:-2])  # index = 7,7+(-2)=5,5+(-2)=3 "
   ]
  },
  {
   "cell_type": "code",
   "execution_count": 120,
   "id": "35ac8c39-3402-489d-81a4-baddbdc0c046",
   "metadata": {},
   "outputs": [
    {
     "name": "stdout",
     "output_type": "stream",
     "text": [
      "LO\n"
     ]
    }
   ],
   "source": [
    "print(state[-8:-2:3])  # index = -8, -8+3=-5"
   ]
  },
  {
   "cell_type": "code",
   "execution_count": 125,
   "id": "840e62dc-f4f2-41f0-9f05-f3ea86548e87",
   "metadata": {},
   "outputs": [
    {
     "name": "stdout",
     "output_type": "stream",
     "text": [
      "AINROFILAC\n"
     ]
    }
   ],
   "source": [
    "# for negative step default value of start is 9 (-1)\n",
    "# for negative step default value of end   is 0 (-10)\n",
    "print(state[::-1])  # index = 9,8,...,0  "
   ]
  },
  {
   "cell_type": "code",
   "execution_count": 124,
   "id": "a924da89-9666-477e-ae61-4b74b425243e",
   "metadata": {},
   "outputs": [
    {
     "name": "stdout",
     "output_type": "stream",
     "text": [
      "NROFILAC\n"
     ]
    }
   ],
   "source": [
    "print(state[-3::-1])  # index = -3,-4,...,-10"
   ]
  },
  {
   "cell_type": "code",
   "execution_count": 127,
   "id": "2f22e057-a097-4470-959a-59708ec57563",
   "metadata": {},
   "outputs": [
    {
     "name": "stdout",
     "output_type": "stream",
     "text": [
      "AIN\n"
     ]
    }
   ],
   "source": [
    "print(state[:-4:-1])  # index = 9,8,7 or -1,-2,-3"
   ]
  },
  {
   "cell_type": "markdown",
   "id": "aa5288db-735e-4fbc-bc85-334251308e95",
   "metadata": {},
   "source": [
    "## String module\n",
    "- It contains constants and functions to process strings, as well as some constants.\n",
    "- Use `help(string)` for more explanations."
   ]
  },
  {
   "cell_type": "code",
   "execution_count": 37,
   "id": "21d7ea94-7921-4b4b-a6aa-0eeb857b3498",
   "metadata": {},
   "outputs": [
    {
     "name": "stdout",
     "output_type": "stream",
     "text": [
      "['Formatter', 'Template', '_ChainMap', '__all__', '__builtins__', '__cached__', '__doc__', '__file__', '__loader__', '__name__', '__package__', '__spec__', '_re', '_sentinel_dict', '_string', 'ascii_letters', 'ascii_lowercase', 'ascii_uppercase', 'capwords', 'digits', 'hexdigits', 'octdigits', 'printable', 'punctuation', 'whitespace']\n"
     ]
    }
   ],
   "source": [
    "# constants and functions\n",
    "\n",
    "import string\n",
    "print(dir(string))"
   ]
  },
  {
   "cell_type": "code",
   "execution_count": 133,
   "id": "bd59d977-85b3-4a61-aac6-b1b457119982",
   "metadata": {},
   "outputs": [
    {
     "name": "stdout",
     "output_type": "stream",
     "text": [
      "abcdefghijklmnopqrstuvwxyz\n"
     ]
    }
   ],
   "source": [
    "# lowercase letters\n",
    "print(string.ascii_lowercase)"
   ]
  },
  {
   "cell_type": "code",
   "execution_count": 134,
   "id": "e4876669-81b6-4468-9de5-2b7d6e3d279c",
   "metadata": {},
   "outputs": [
    {
     "name": "stdout",
     "output_type": "stream",
     "text": [
      "abcdefghijklmnopqrstuvwxyzABCDEFGHIJKLMNOPQRSTUVWXYZ\n"
     ]
    }
   ],
   "source": [
    "# lowercase and uppercase letters\n",
    "print(string.ascii_letters)"
   ]
  },
  {
   "cell_type": "code",
   "execution_count": 135,
   "id": "a306cdd7-3079-4f94-895e-77a18d67eb54",
   "metadata": {},
   "outputs": [
    {
     "name": "stdout",
     "output_type": "stream",
     "text": [
      "0123456789\n"
     ]
    }
   ],
   "source": [
    "# digits\n",
    "print(string.digits)"
   ]
  },
  {
   "cell_type": "code",
   "execution_count": 139,
   "id": "a077cba0-212f-43b0-a7ef-136872492ae3",
   "metadata": {},
   "outputs": [
    {
     "name": "stdout",
     "output_type": "stream",
     "text": [
      "!\"#$%&'()*+,-./:;<=>?@[\\]^_`{|}~\n"
     ]
    }
   ],
   "source": [
    "# punctuations\n",
    "print(string.punctuation)"
   ]
  },
  {
   "cell_type": "markdown",
   "id": "d5eb204b-bf96-41c7-9893-fc46589995c4",
   "metadata": {},
   "source": [
    "## Immutable\n",
    "- Strings are immutable, which means they cannot be modified.\n",
    "- For example, if you try to change the first character of 'CALIFORNIA', you will get an error message.\n",
    "\n",
    "``` python\n",
    "# ERROR:  try to change the first character, which has an index of 0.\n",
    "state = 'CALIFORNIA'\n",
    "state[0] = 'R'  \n",
    "```\n",
    "- You can use the state variable to produce a new string without changing the original one.\n",
    "- In the following code:\n",
    "    - The value of the variable *new_state* is the concatenation of the string 'R' and a slice of state starting from the character at index 1 and continuing to the end."
   ]
  },
  {
   "cell_type": "code",
   "execution_count": 38,
   "id": "5ab381d5-8926-47d4-94a5-96db7ae17653",
   "metadata": {},
   "outputs": [
    {
     "name": "stdout",
     "output_type": "stream",
     "text": [
      "RALIFORNIA\n"
     ]
    }
   ],
   "source": [
    "state = 'CALIFORNIA'\n",
    "new_state = 'R' + state[1:]   \n",
    "\n",
    "print(new_state)"
   ]
  },
  {
   "cell_type": "markdown",
   "id": "5de2e744-153d-4a59-b2c1-717369e50d36",
   "metadata": {},
   "source": [
    "- In the following code, a new value is assigned to the variable *state*."
   ]
  },
  {
   "cell_type": "code",
   "execution_count": 230,
   "id": "1f721b68-eef8-48ca-8c29-9cdb75e1c643",
   "metadata": {},
   "outputs": [
    {
     "name": "stdout",
     "output_type": "stream",
     "text": [
      "RALIFORNIA\n"
     ]
    }
   ],
   "source": [
    "# 'CALIFORNIA' is not modified.\n",
    "\n",
    "state = 'CALIFORNIA'\n",
    "state = 'R' + state[1:]   \n",
    "\n",
    "print(state)"
   ]
  },
  {
   "cell_type": "markdown",
   "id": "5ce496a4-5392-4bb3-94ad-c7b15a343466",
   "metadata": {},
   "source": [
    "## in  and not in \n",
    "- These operators are used to check if a character or slice is present in a string.\n",
    "- They return a boolean value: True or False.\n",
    "- Python is case-sensitive."
   ]
  },
  {
   "cell_type": "code",
   "execution_count": 145,
   "id": "f5a5f0f9-ffb5-4f04-b162-e8799b2832e8",
   "metadata": {},
   "outputs": [
    {
     "name": "stdout",
     "output_type": "stream",
     "text": [
      "False\n"
     ]
    }
   ],
   "source": [
    "print( 'a' in 'FLORIDA' )  # 'a' is not in FLORIDA"
   ]
  },
  {
   "cell_type": "code",
   "execution_count": 146,
   "id": "b87d3ebd-9212-4744-9ddb-51b59dd732c0",
   "metadata": {},
   "outputs": [
    {
     "name": "stdout",
     "output_type": "stream",
     "text": [
      "True\n"
     ]
    }
   ],
   "source": [
    "print( 'a' not in 'FLORIDA' )  # 'a' is not in FLORIDA"
   ]
  },
  {
   "cell_type": "code",
   "execution_count": 145,
   "id": "bcd2b98c-2ad0-46ca-8296-37b3f413b3ff",
   "metadata": {},
   "outputs": [
    {
     "name": "stdout",
     "output_type": "stream",
     "text": [
      "False\n"
     ]
    }
   ],
   "source": [
    "print( 'A' in 'FLORIDA' )  # 'A' is in FLORIDA"
   ]
  },
  {
   "cell_type": "code",
   "execution_count": 147,
   "id": "359f2760-fefd-43b9-a82b-79353bd3d71e",
   "metadata": {},
   "outputs": [
    {
     "name": "stdout",
     "output_type": "stream",
     "text": [
      "False\n"
     ]
    }
   ],
   "source": [
    "print( 'A' not in 'FLORIDA' )  # 'a' is not in FLORIDA"
   ]
  },
  {
   "cell_type": "markdown",
   "id": "fc185d4f-826a-4358-8d8a-cc63a70298fe",
   "metadata": {},
   "source": [
    "## String Methods\n",
    "- String methods do not modify the original string because strings are immutable.\n",
    "- String methods return a new value.\n",
    "- If you run `dir(str)`, you will see that there are many methods because there can be so many things that can be done with strings.\n",
    "- We will cover some of them here, but you can check `help(str)` for more details."
   ]
  },
  {
   "cell_type": "markdown",
   "id": "3476f360-f85b-4eed-85bb-0c3e2feb4ea6",
   "metadata": {},
   "source": [
    "### capitalize()\n",
    "- Produces a duplicate of the string where only the initial character is in uppercase, while all other characters are converted to lowercase."
   ]
  },
  {
   "cell_type": "code",
   "execution_count": 153,
   "id": "9fdf6871-4275-4f41-8aa7-02b133ed2820",
   "metadata": {},
   "outputs": [
    {
     "name": "stdout",
     "output_type": "stream",
     "text": [
      "Tom and jerry.\n",
      "tOm aNd jerRy.\n"
     ]
    }
   ],
   "source": [
    "text = 'tOm aNd jerRy.'\n",
    "print(text.capitalize())   # 't' is capitalized, a new string is produced\n",
    "print(text)                # no change on text (immutable)"
   ]
  },
  {
   "cell_type": "markdown",
   "id": "a0271acb-f9b7-4f4a-9d18-137a707001cf",
   "metadata": {},
   "source": [
    "### upper()\n",
    "- Produces a duplicate of the string where all characters are converted to uppercase.\n"
   ]
  },
  {
   "cell_type": "code",
   "execution_count": 154,
   "id": "067e68bc-a419-4f57-a50b-a9319488fbbd",
   "metadata": {},
   "outputs": [
    {
     "name": "stdout",
     "output_type": "stream",
     "text": [
      "TOM AND JERRY.\n",
      "tOm aNd jerRy.\n"
     ]
    }
   ],
   "source": [
    "text = 'tOm aNd jerRy.'\n",
    "print(text.upper())        # all characters are in uppercase\n",
    "print(text)                # no change on text (immutable)"
   ]
  },
  {
   "cell_type": "markdown",
   "id": "0e6ff70b-8707-47d4-ac37-d4cf0f75e69e",
   "metadata": {},
   "source": [
    "### lower()\n",
    "- Produces a duplicate of the string where all characters are converted to lowercase.\n"
   ]
  },
  {
   "cell_type": "code",
   "execution_count": 155,
   "id": "abf547c8-4c7b-4bb6-a981-0acbdb682655",
   "metadata": {},
   "outputs": [
    {
     "name": "stdout",
     "output_type": "stream",
     "text": [
      "tom and jerry.\n",
      "tOm aNd jerRy.\n"
     ]
    }
   ],
   "source": [
    "text = 'tOm aNd jerRy.'\n",
    "print(text.lower())        # all characters are in lowercase\n",
    "print(text)                # no change on text (immutable)"
   ]
  },
  {
   "cell_type": "markdown",
   "id": "854232e7-695c-45c6-b12d-f3ecd148d6d8",
   "metadata": {},
   "source": [
    "### title()\n",
    "- Produces a duplicate of the string where all words are capitalized."
   ]
  },
  {
   "cell_type": "code",
   "execution_count": 181,
   "id": "688e66a8-bcad-471d-87f8-ffe353e0ec96",
   "metadata": {},
   "outputs": [
    {
     "name": "stdout",
     "output_type": "stream",
     "text": [
      "Tom And Jerry.\n",
      "tOm aNd jerRy.\n"
     ]
    }
   ],
   "source": [
    "text = 'tOm aNd jerRy.'\n",
    "print(text.title())        # all words are capitalized\n",
    "print(text)                # no change on text (immutable)"
   ]
  },
  {
   "cell_type": "markdown",
   "id": "79094912-263d-4b5f-915e-402db5b6a1b2",
   "metadata": {},
   "source": [
    "### find()\n",
    "- It provides the earliest occurrence of a given substring within a string.\n",
    "- It returns the lowest index.\n",
    "- If the substring is not present, it returns -1.\n",
    "- Additionally, you have the option to begin the search from a specific character to find the index of the given substring.\n",
    "    - `find('a', N)`: find index of first 'a'  starting from index=N\n",
    "    - default value of N is 0"
   ]
  },
  {
   "cell_type": "code",
   "execution_count": 234,
   "id": "39eeb43a-007c-4aa5-94ce-eeebaf659431",
   "metadata": {},
   "outputs": [
    {
     "name": "stdout",
     "output_type": "stream",
     "text": [
      "2\n"
     ]
    }
   ],
   "source": [
    "state = 'CALIFORNIA'\n",
    "print(state.find('L')) # index of 'L' is 2"
   ]
  },
  {
   "cell_type": "code",
   "execution_count": 160,
   "id": "4267119d-3cd3-48fa-8bff-b7673c8582f8",
   "metadata": {},
   "outputs": [
    {
     "name": "stdout",
     "output_type": "stream",
     "text": [
      "-1\n"
     ]
    }
   ],
   "source": [
    "# -1 means 'W' does not exist, -1 does not represent an index\n",
    "print(state.find('W')) "
   ]
  },
  {
   "cell_type": "code",
   "execution_count": 162,
   "id": "3e3fa323-a5ae-4a9b-93c4-09ed297410cb",
   "metadata": {},
   "outputs": [
    {
     "name": "stdout",
     "output_type": "stream",
     "text": [
      "1\n"
     ]
    }
   ],
   "source": [
    "print(state.find('A')) # index of first 'A'"
   ]
  },
  {
   "cell_type": "code",
   "execution_count": 163,
   "id": "091cb168-2a8b-4d50-8bf3-a1b5783d78e8",
   "metadata": {},
   "outputs": [
    {
     "name": "stdout",
     "output_type": "stream",
     "text": [
      "9\n"
     ]
    }
   ],
   "source": [
    "# The index of the first occurrence of 'A' starting from the character at index 3.\n",
    "print(state.find('A', 3)) "
   ]
  },
  {
   "cell_type": "code",
   "execution_count": 174,
   "id": "171fc24f-d511-478a-9478-2a517b9b7297",
   "metadata": {},
   "outputs": [
    {
     "name": "stdout",
     "output_type": "stream",
     "text": [
      "4\n"
     ]
    }
   ],
   "source": [
    "# The string 'FOR' begins from the character at index 4.\n",
    "print(state.find('FOR')) "
   ]
  },
  {
   "cell_type": "code",
   "execution_count": 176,
   "id": "651fa192-2cdf-4e5d-ae17-a46406181454",
   "metadata": {},
   "outputs": [
    {
     "name": "stdout",
     "output_type": "stream",
     "text": [
      "-1\n"
     ]
    }
   ],
   "source": [
    "print(state.find('WE')) # 'WE' does not exist in CALIFORNIA"
   ]
  },
  {
   "cell_type": "markdown",
   "id": "46b08db7-3f7a-4351-8679-bf40454d82f1",
   "metadata": {},
   "source": [
    "### rfind()\n",
    "- It returns the maximum index in a string where the substring is located."
   ]
  },
  {
   "cell_type": "code",
   "execution_count": 165,
   "id": "a4a3e86a-ad89-4236-ab66-09534edb2f0c",
   "metadata": {},
   "outputs": [
    {
     "name": "stdout",
     "output_type": "stream",
     "text": [
      "1\n",
      "9\n"
     ]
    }
   ],
   "source": [
    "print(state.find('A'))   # index of first 'A'\n",
    "print(state.rfind('A'))  # index of last 'A'"
   ]
  },
  {
   "cell_type": "markdown",
   "id": "fdbb8dd0-ef2b-4788-b8c8-1a32cb388354",
   "metadata": {},
   "source": [
    "### strip(), rstrip(), lstrip()\n",
    "- `strip()`: Removes white spaces from the beginning and end of a string.\n",
    "- `rstrip()`: Removes white spaces from the end of a string.\n",
    "- `lstrip()`: Removes white spaces from the beginning of a string."
   ]
  },
  {
   "cell_type": "code",
   "execution_count": 173,
   "id": "c2c57412-eb88-48de-935f-a5e7bba0dac2",
   "metadata": {},
   "outputs": [
    {
     "name": "stdout",
     "output_type": "stream",
     "text": [
      "  FLORIDA   \n",
      "---FLORIDA---\n",
      "---  FLORIDA---\n",
      "---FLORIDA   ---\n"
     ]
    }
   ],
   "source": [
    "country = '  FLORIDA   '\n",
    "print(country)          \n",
    "print('---'+country.strip()+'---')      # white spaces on the left and right are removed\n",
    "print('---'+country.rstrip()+'---')     # white spaces on the right are removed\n",
    "print('---'+country.lstrip()+'---')     # white spaces on the left  are removed"
   ]
  },
  {
   "cell_type": "markdown",
   "id": "7ec50e42-c50d-4b4a-a312-d1ed135d38d1",
   "metadata": {},
   "source": [
    "### startswith()\n",
    "- It returns True if the string starts with the specified prefix; otherwise, it returns False."
   ]
  },
  {
   "cell_type": "code",
   "execution_count": 179,
   "id": "76b558c6-4dc6-4b00-9edf-5c01013a1742",
   "metadata": {},
   "outputs": [
    {
     "name": "stdout",
     "output_type": "stream",
     "text": [
      "False\n"
     ]
    }
   ],
   "source": [
    "print(state.startswith('H')) # 'CALIFORNIA' does not startswith 'H'"
   ]
  },
  {
   "cell_type": "code",
   "execution_count": 233,
   "id": "02b81440-da92-4c13-8be0-b7b0b7a53a6e",
   "metadata": {},
   "outputs": [
    {
     "name": "stdout",
     "output_type": "stream",
     "text": [
      "True\n"
     ]
    }
   ],
   "source": [
    "print(state.startswith('C')) # 'CALIFORNIA' does startswith 'C'"
   ]
  },
  {
   "cell_type": "markdown",
   "id": "fbe182d7-471b-414b-957f-b38b300e446f",
   "metadata": {},
   "source": [
    "### count()\n",
    "- Returns the number of non-overlapping occurrences of a substring within a string"
   ]
  },
  {
   "cell_type": "code",
   "execution_count": 182,
   "id": "884bf672-f6b6-40ae-9125-dfe1b1c2daa5",
   "metadata": {},
   "outputs": [
    {
     "name": "stdout",
     "output_type": "stream",
     "text": [
      "2\n"
     ]
    }
   ],
   "source": [
    "print(state.count('A'))   # number of 'A's in 'CALIFORNIA'"
   ]
  },
  {
   "cell_type": "code",
   "execution_count": 183,
   "id": "8c2f3621-288d-4f38-8e57-ad7cccae5266",
   "metadata": {},
   "outputs": [
    {
     "name": "stdout",
     "output_type": "stream",
     "text": [
      "2\n"
     ]
    }
   ],
   "source": [
    "print(state.count('I'))   # number of 'I's in CALIFORNIA'"
   ]
  },
  {
   "cell_type": "code",
   "execution_count": 184,
   "id": "d50250e1-150e-4f08-aef9-68ebe0cfe13d",
   "metadata": {},
   "outputs": [
    {
     "name": "stdout",
     "output_type": "stream",
     "text": [
      "1\n"
     ]
    }
   ],
   "source": [
    "print(state.count('C'))   # number of 'C's in 'CALIFORNIA'"
   ]
  },
  {
   "cell_type": "code",
   "execution_count": 185,
   "id": "8fac0bda-dcbd-4163-9cce-121b20377173",
   "metadata": {},
   "outputs": [
    {
     "name": "stdout",
     "output_type": "stream",
     "text": [
      "0\n"
     ]
    }
   ],
   "source": [
    "print(state.count('W'))   # number of 'C's in 'CALIFORNIA'"
   ]
  },
  {
   "cell_type": "markdown",
   "id": "8d1040b0-5f5e-436e-8823-dcd4c82b738f",
   "metadata": {},
   "source": [
    "### isdigit()\n",
    "- Returns True if the string consists of digits, False otherwise."
   ]
  },
  {
   "cell_type": "code",
   "execution_count": 198,
   "id": "91a3d43f-777c-42a6-b623-c89828c3aa5b",
   "metadata": {},
   "outputs": [
    {
     "name": "stdout",
     "output_type": "stream",
     "text": [
      "False\n"
     ]
    }
   ],
   "source": [
    "print('hello'.isdigit())         # not all characters are digits"
   ]
  },
  {
   "cell_type": "code",
   "execution_count": 199,
   "id": "7d120592-d0a1-4efd-ab92-9c2298455703",
   "metadata": {},
   "outputs": [
    {
     "name": "stdout",
     "output_type": "stream",
     "text": [
      "True\n"
     ]
    }
   ],
   "source": [
    "print('123456'.isdigit())        # all characters are digits"
   ]
  },
  {
   "cell_type": "code",
   "execution_count": 200,
   "id": "70ade08d-af62-406d-b26c-1b8942b61996",
   "metadata": {},
   "outputs": [
    {
     "name": "stdout",
     "output_type": "stream",
     "text": [
      "False\n"
     ]
    }
   ],
   "source": [
    "print('h1234'.isdigit())         # not all characters are digits"
   ]
  },
  {
   "cell_type": "markdown",
   "id": "69b163df-840b-4331-aad1-7be457d3adcc",
   "metadata": {},
   "source": [
    "### isalpha()\n",
    "- Returns True if the string consists of alphabetic characters, False otherwise."
   ]
  },
  {
   "cell_type": "code",
   "execution_count": 201,
   "id": "edbc963c-1ddb-492e-b3db-2fe0bdfdb94f",
   "metadata": {},
   "outputs": [
    {
     "name": "stdout",
     "output_type": "stream",
     "text": [
      "True\n"
     ]
    }
   ],
   "source": [
    "print('hello'.isalpha())         # all characters are alphabetic"
   ]
  },
  {
   "cell_type": "code",
   "execution_count": 202,
   "id": "da04b074-da4b-438a-9a20-f3424583ec79",
   "metadata": {},
   "outputs": [
    {
     "name": "stdout",
     "output_type": "stream",
     "text": [
      "False\n"
     ]
    }
   ],
   "source": [
    "print('123456'.isalpha())        # not all characters are alphabetic"
   ]
  },
  {
   "cell_type": "code",
   "execution_count": 203,
   "id": "5d2c25a4-8489-40c6-b862-9b4d237935dc",
   "metadata": {},
   "outputs": [
    {
     "name": "stdout",
     "output_type": "stream",
     "text": [
      "False\n"
     ]
    }
   ],
   "source": [
    "print('h1234'.isalpha())         # not all characters are alphabetic"
   ]
  },
  {
   "cell_type": "markdown",
   "id": "946b548f-a36b-4c2e-af6f-1d08c3d87d7e",
   "metadata": {},
   "source": [
    "### replace()\n",
    "- Returns a duplicate with all occurrences of the old substring replaced by the new one.\n",
    "- It is in the form of `replace(old, new)`\n"
   ]
  },
  {
   "cell_type": "code",
   "execution_count": 205,
   "id": "61a40fb1-8276-44e1-9179-f5106de7bd7d",
   "metadata": {},
   "outputs": [
    {
     "name": "stdout",
     "output_type": "stream",
     "text": [
      "CALIFORNIA\n",
      "CWLIFORNIW\n"
     ]
    }
   ],
   "source": [
    "print(state)\n",
    "print(state.replace('A', 'W')) # replace 'A' by 'W'"
   ]
  },
  {
   "cell_type": "code",
   "execution_count": 206,
   "id": "a5132bb9-a061-4d9d-80ca-d9959f9cd968",
   "metadata": {},
   "outputs": [
    {
     "name": "stdout",
     "output_type": "stream",
     "text": [
      "CALIFORNIA\n",
      "CALIFORNIA\n"
     ]
    }
   ],
   "source": [
    "print(state)\n",
    "print(state.replace('T', 'W')) # no 'T' to replace by 'W'"
   ]
  },
  {
   "cell_type": "code",
   "execution_count": 236,
   "id": "1af93c06-afe5-4ae6-960d-8c1fd98132b1",
   "metadata": {},
   "outputs": [
    {
     "name": "stdout",
     "output_type": "stream",
     "text": [
      "CALIFORNIA\n",
      "CA***FORNIA\n"
     ]
    }
   ],
   "source": [
    "print(state)\n",
    "print(state.replace('LI', '***')) # replace 'LI' by '***'"
   ]
  },
  {
   "cell_type": "markdown",
   "id": "56e62da4-3057-4ce8-86c6-986f21423219",
   "metadata": {},
   "source": [
    "### swapcase()\n",
    "- Transform uppercase characters to lowercase and lowercase characters to uppercase."
   ]
  },
  {
   "cell_type": "code",
   "execution_count": 237,
   "id": "a7d1c72f-2bb2-46b9-b8e8-6f9ca18276f3",
   "metadata": {},
   "outputs": [
    {
     "name": "stdout",
     "output_type": "stream",
     "text": [
      "aRThUr\n",
      "ArtHuR\n"
     ]
    }
   ],
   "source": [
    "name = 'aRThUr'\n",
    "print(name)\n",
    "print(name.swapcase()) # 'a' becomes 'A', 'R' becomes 'r', and so on"
   ]
  },
  {
   "cell_type": "markdown",
   "id": "88bd1e0b-1608-44f7-923e-a61a1e612d9e",
   "metadata": {},
   "source": [
    "### join()\n",
    "- Concatenate a list of strings.\n",
    "- Insert the string, whose method is called, between each given string.\n",
    "- Return the result as a new string.\n",
    "- Example: `'--'.join(['ab', 'pq', 'rs'])` returns `'ab--pq--rs'`\n",
    "  "
   ]
  },
  {
   "cell_type": "code",
   "execution_count": 211,
   "id": "240aa69b-16f6-4ebe-930b-500884c4e95c",
   "metadata": {},
   "outputs": [
    {
     "name": "stdout",
     "output_type": "stream",
     "text": [
      "ab--pq--rs\n"
     ]
    }
   ],
   "source": [
    "print('--'.join(['ab', 'pq', 'rs']))"
   ]
  },
  {
   "cell_type": "markdown",
   "id": "588c9c28-2089-4045-ac5b-fb11536e38ad",
   "metadata": {},
   "source": [
    "## Parsing Strings\n",
    "\n",
    "- By using string methods, you can analyze a string and extract meaningful information about the string.\n",
    "- You can also perform specific operations based on the structure and content of the string.\n",
    "- Example:\n",
    "    - From the given message below, extract the company name and capitalize it.\n",
    "    - The company name is between the characters `@` and `.`\n",
    "    - e can use the `find()` method to find the indexes of these two characters.\n",
    "    - There are multiple `.` characters, so we need to find the first one that comes after `@`.\"\n"
   ]
  },
  {
   "cell_type": "code",
   "execution_count": 215,
   "id": "727155ca-fab1-437f-9e54-477c82fa46f5",
   "metadata": {},
   "outputs": [],
   "source": [
    "message = 'Hello. My name is Tom. I live in California. My email address is tom@tesla.com. I will be in NY next week.'"
   ]
  },
  {
   "cell_type": "code",
   "execution_count": 214,
   "id": "e231e0cd-93b8-443f-b56d-05dbaf6ee69a",
   "metadata": {},
   "outputs": [
    {
     "name": "stdout",
     "output_type": "stream",
     "text": [
      "Tesla\n"
     ]
    }
   ],
   "source": [
    "index_at = message.find('@')                    # index of @\n",
    "index_period = message.find('.', index_at)      # index of first . after @ "
   ]
  },
  {
   "cell_type": "markdown",
   "id": "1fde09c8-be39-4fa7-98b3-64494b7118e7",
   "metadata": {},
   "source": [
    "- To grab the company name, we need to use slicing.\n",
    "- Slicing must start from `index_at + 1` because if you start from index_at, the slice will include @.\n",
    "- Slicing must end at `index_period` because the end index is not included."
   ]
  },
  {
   "cell_type": "code",
   "execution_count": 216,
   "id": "4766978c-d81c-468c-87b4-aceaa18eecea",
   "metadata": {},
   "outputs": [
    {
     "name": "stdout",
     "output_type": "stream",
     "text": [
      "Tesla\n"
     ]
    }
   ],
   "source": [
    "print(message[index_at+1:index_period].capitalize())"
   ]
  }
 ],
 "metadata": {
  "kernelspec": {
   "display_name": "Python 3 (ipykernel)",
   "language": "python",
   "name": "python3"
  },
  "language_info": {
   "codemirror_mode": {
    "name": "ipython",
    "version": 3
   },
   "file_extension": ".py",
   "mimetype": "text/x-python",
   "name": "python",
   "nbconvert_exporter": "python",
   "pygments_lexer": "ipython3",
   "version": "3.11.7"
  }
 },
 "nbformat": 4,
 "nbformat_minor": 5
}
