{
 "cells": [
  {
   "cell_type": "markdown",
   "id": "fb6b764b-7d20-465d-bf2f-6989a1f4c7be",
   "metadata": {},
   "source": [
    "# Chp-3: Numbers"
   ]
  },
  {
   "cell_type": "markdown",
   "id": "47c02872-9616-4d54-8011-e9f58c4b244c",
   "metadata": {},
   "source": [
    "![Section Title: Numbers](title_pict/numbers2.png)"
   ]
  },
  {
   "cell_type": "markdown",
   "id": "43552fc2-00a2-4129-83a0-028396b77280",
   "metadata": {},
   "source": [
    "`````{admonition} Chapter Objectives\n",
    ":class: tip\n",
    "\n",
    "By the end of this chapter, the student should be able to:\n",
    "- Define the various numeric data types supported in Python.\n",
    "- Perform basic arithmetic operations in Python.\n",
    "- Perform operations using Python's precedence rules.\n",
    "- Apply conversion functions between different numeric data types in Python.\n",
    "- Use built-in mathematical functions and constants available in Python's math module.\n",
    "- Solve real-world problems using variables.\n",
    "`````"
   ]
  },
  {
   "cell_type": "markdown",
   "id": "4ef524ad-1d85-43d6-8b64-5648066fdf8b",
   "metadata": {},
   "source": [
    "## Number Types\n",
    "In this chapter, three different types of numbers in Python will be covered, but integers and floats will be the primary types used in this book. *If the sections on Floats, Complex Numbers, and Scientific Notation seem too technical for you, feel free to skip them.*\n",
    "\n",
    "1. Integers: ...,-2,-1,0,1,2,...\n",
    "    - Type: int\n",
    "    - In Python, underscores (rather than commas) are used to separate large numbers into groups of three digits.\n",
    "***      \n",
    "2. Float   : 4.5,  3.0\n",
    "    - Decimal numbers (They have decimal point).\n",
    "    - 4.0 is a float\n",
    "    - Type: float\n",
    "    - Float values are approximately stored, but they are close enough to their real values to maintain practical accuracy.\n",
    "***      \n",
    "3. Complex Numbers: $3+4j$\n",
    "    - Real numbers with imaginary parts.\n",
    "    - In mathematics, the symbol $i$ is used to represent the imaginary unit.\n",
    "    - In Python, the symbol $j$ is used to represent the imaginary unit.\n",
    "    - The built-in `complex()` function is used to create complex numbers.\n",
    "    - Type: complex"
   ]
  },
  {
   "cell_type": "code",
   "execution_count": 54,
   "id": "27725f9f-ed0e-47ed-83a7-27853a0a9d98",
   "metadata": {},
   "outputs": [
    {
     "name": "stdout",
     "output_type": "stream",
     "text": [
      "<class 'int'>\n"
     ]
    }
   ],
   "source": [
    "# type of 5 is integer\n",
    "print(type(5))"
   ]
  },
  {
   "cell_type": "code",
   "execution_count": 53,
   "id": "f953dbfd-ff95-41f2-841f-5bad88fe5f16",
   "metadata": {},
   "outputs": [
    {
     "name": "stdout",
     "output_type": "stream",
     "text": [
      "<class 'int'>\n"
     ]
    }
   ],
   "source": [
    "# type of -5 is integer\n",
    "print(type(-5))"
   ]
  },
  {
   "cell_type": "code",
   "execution_count": 55,
   "id": "b0e4a2d2-0a40-49b5-92ab-37387a36a70a",
   "metadata": {},
   "outputs": [
    {
     "name": "stdout",
     "output_type": "stream",
     "text": [
      "<class 'float'>\n"
     ]
    }
   ],
   "source": [
    "# type of 12.89 is float\n",
    "print(type(12.89))"
   ]
  },
  {
   "cell_type": "code",
   "execution_count": 56,
   "id": "97897a64-e5bc-4b49-99ed-7b0127cc3367",
   "metadata": {},
   "outputs": [
    {
     "name": "stdout",
     "output_type": "stream",
     "text": [
      "<class 'float'>\n"
     ]
    }
   ],
   "source": [
    "# type of 4.0 is float\n",
    "print(type(4.0))"
   ]
  },
  {
   "cell_type": "markdown",
   "id": "76c31b34-588f-4801-b42c-eb5e22904712",
   "metadata": {},
   "source": [
    "## Floats"
   ]
  },
  {
   "cell_type": "markdown",
   "id": "94ce8f8d-a0cc-47ec-a587-b27086f5214f",
   "metadata": {},
   "source": [
    "- Python does not store the value 0.1 exactly.\n",
    "- The following code reveals that there are non-zero numbers in the decimal tail, which are not expected to be there.\n",
    "- The built-in `format()` function can be used to display more decimal places."
   ]
  },
  {
   "cell_type": "code",
   "execution_count": 145,
   "id": "2e65ecda-576e-4f6f-88fe-59016ac78b5b",
   "metadata": {},
   "outputs": [
    {
     "name": "stdout",
     "output_type": "stream",
     "text": [
      "0.100000000000000005551115123126\n"
     ]
    }
   ],
   "source": [
    "# 30 digits after decimal point\n",
    "print(format(0.1, '.30f'))"
   ]
  },
  {
   "cell_type": "markdown",
   "id": "e7220bff-4547-4dcd-9711-429750c51d72",
   "metadata": {},
   "source": [
    "- 0.5 is stored exactly in Python."
   ]
  },
  {
   "cell_type": "code",
   "execution_count": 146,
   "id": "eea2fe8f-3698-406a-9442-dc0806fb91c9",
   "metadata": {},
   "outputs": [
    {
     "name": "stdout",
     "output_type": "stream",
     "text": [
      "0.500000000000000000000000000000\n"
     ]
    }
   ],
   "source": [
    "# 30 digits after decimal point\n",
    "print(format(0.5, '.30f'))"
   ]
  },
  {
   "cell_type": "markdown",
   "id": "34639f8f-0a6d-49b3-8db4-488b430f2a91",
   "metadata": {},
   "source": [
    "- 0.375 is stored exactly in Python."
   ]
  },
  {
   "cell_type": "code",
   "execution_count": 147,
   "id": "0298d845-f52f-41ad-901c-ba399dc3517f",
   "metadata": {},
   "outputs": [
    {
     "name": "stdout",
     "output_type": "stream",
     "text": [
      "0.375000000000000000000000000000\n"
     ]
    }
   ],
   "source": [
    "# 30 digits after decimal point\n",
    "print(format(0.375, '.30f'))"
   ]
  },
  {
   "cell_type": "markdown",
   "id": "925cd831-5c22-4f16-8b8d-bd38eb507d5f",
   "metadata": {},
   "source": [
    "- This is because numbers, even decimal ones, are stored in base two.\n",
    "- If you can represent a decimal number in base two, it will be stored exactly.\n",
    "- However, some numbers, like 0.1, cannot be accurately represented in base two.\n",
    "\n",
    "\n",
    "- Examples\n",
    "    - If you try to write the 0.375 in base two, you get:\n",
    "        - $\\displaystyle 0.375=\\frac{3}{8}=\\frac{1}{4}+\\frac{1}{8}=\\frac{1}{2^2}+\\frac{1}{2^3}$\n",
    "        - Hence $0.375$ in base two is $0.011$ and stored exactly.\n",
    "    - If you attempt a similar computation for 0.1, you will encounter an infinite series.\n",
    "        - $\\displaystyle 0.1 = \\frac{1}{16}+\\frac{1}{32}+\\frac{1}{256}+\\frac{1}{512}+... = \\frac{1}{2^4}+\\frac{1}{2^5}+\\frac{1}{2^6}+\\frac{1}{2^7}+...$\n",
    "        - Hence $0.1$ is  $0.000110011...$ in base two."
   ]
  },
  {
   "cell_type": "markdown",
   "id": "e28f5191-d5bf-4172-aaa3-e520b2eaa6a6",
   "metadata": {},
   "source": [
    "```{admonition} Quick Check!\n",
    ":class: tip\n",
    "Display the first 20 decimal places of the number `1.235` Are there any unexpected decimal values?\n",
    "```"
   ]
  },
  {
   "cell_type": "markdown",
   "id": "5ef17c3c-5a83-4fe7-aa5c-992da9b695cc",
   "metadata": {},
   "source": [
    "```{admonition} Solution\n",
    ":class: toggle\n",
    "\n",
    "```python\n",
    "\n",
    "print(format(1.235, '.20f'))"
   ]
  },
  {
   "cell_type": "markdown",
   "id": "d7bc11e6-0059-49c1-8ff4-93673a88a3af",
   "metadata": {},
   "source": [
    "## Complex Numbers\n",
    "- Use the built-in `complex()` function to create complex numbers.\n",
    "- It takes two parameters: the real part and the imaginary part.\n",
    "- With complex numbers, you can perform algebraic operations and find conjugates."
   ]
  },
  {
   "cell_type": "code",
   "execution_count": 10,
   "id": "0ca57266-d154-43c3-8987-0d0c68909bc7",
   "metadata": {},
   "outputs": [
    {
     "name": "stdout",
     "output_type": "stream",
     "text": [
      "(2+3j)\n"
     ]
    }
   ],
   "source": [
    "# real part = 2, imaginary part = 3\n",
    "print(complex(2,3))"
   ]
  },
  {
   "cell_type": "code",
   "execution_count": 12,
   "id": "7e2a5c82-b2f9-40bc-99d6-aad23f99619c",
   "metadata": {},
   "outputs": [],
   "source": [
    "z = complex(2,3)"
   ]
  },
  {
   "cell_type": "code",
   "execution_count": 13,
   "id": "70a83192-e6e5-4850-9443-1d64bec72120",
   "metadata": {},
   "outputs": [
    {
     "name": "stdout",
     "output_type": "stream",
     "text": [
      "2.0\n"
     ]
    }
   ],
   "source": [
    "# real part of z\n",
    "print(z.real)"
   ]
  },
  {
   "cell_type": "code",
   "execution_count": 15,
   "id": "51bfe430-4b8e-44ff-9123-3bc148dc3b59",
   "metadata": {},
   "outputs": [
    {
     "name": "stdout",
     "output_type": "stream",
     "text": [
      "3.0\n"
     ]
    }
   ],
   "source": [
    "# imaginary part of z\n",
    "print(z.imag)"
   ]
  },
  {
   "cell_type": "code",
   "execution_count": 23,
   "id": "9d693976-07c6-4fda-8280-91fad35eb5f5",
   "metadata": {},
   "outputs": [
    {
     "name": "stdout",
     "output_type": "stream",
     "text": [
      "(2-3j)\n"
     ]
    }
   ],
   "source": [
    "# conjugate of z\n",
    "print(z.conjugate())"
   ]
  },
  {
   "cell_type": "code",
   "execution_count": 17,
   "id": "934d5e06-ae02-46a6-81eb-a0c4ec4248ab",
   "metadata": {},
   "outputs": [
    {
     "name": "stdout",
     "output_type": "stream",
     "text": [
      "(5+7j)\n"
     ]
    }
   ],
   "source": [
    "t = complex(5,7)\n",
    "print(t)"
   ]
  },
  {
   "cell_type": "code",
   "execution_count": 19,
   "id": "468d00a4-69dd-456e-9780-6075257b9646",
   "metadata": {
    "jp-MarkdownHeadingCollapsed": true
   },
   "outputs": [
    {
     "name": "stdout",
     "output_type": "stream",
     "text": [
      "(7+10j)\n"
     ]
    }
   ],
   "source": [
    "# addition\n",
    "print(z + t)"
   ]
  },
  {
   "cell_type": "code",
   "execution_count": 20,
   "id": "a66d7672-2075-413f-8cc9-a6688fc8d8c3",
   "metadata": {},
   "outputs": [
    {
     "name": "stdout",
     "output_type": "stream",
     "text": [
      "(-3-4j)\n"
     ]
    }
   ],
   "source": [
    "# subtraction\n",
    "print(z-t)"
   ]
  },
  {
   "cell_type": "markdown",
   "id": "723baea4-ddd1-4bc0-8baf-414fb85ac675",
   "metadata": {},
   "source": [
    "```{admonition} Quick Check!\n",
    ":class: tip\n",
    "Create a variable whose value is the complex number $4+5j$ and check its type.\n",
    "```"
   ]
  },
  {
   "cell_type": "markdown",
   "id": "e470c5ce-e0d6-4e98-bbfb-f6f3a5bbfd09",
   "metadata": {},
   "source": [
    "```{admonition} Solution\n",
    ":class: toggle\n",
    "\n",
    "```python\n",
    "\n",
    "z = complex(4,5)\n",
    "print(type(z))"
   ]
  },
  {
   "cell_type": "markdown",
   "id": "762533b2-5775-4aea-bdb0-a37e6e6203f3",
   "metadata": {},
   "source": [
    "## Scientific Notation\n",
    "It is used to represent very large or very small numbers in a more compact form.\n",
    "- In scientific notation, a number is written in the form of:\n",
    "  - (a number between 1 and 10) x e(a power of 10)\n",
    "    - Example: $12345 = 1.2345 \\times 10^{4} = 1.2345e+04$\n",
    "    - Example: $0.00123 = 1.23 \\times 10^{-3} = 1.23e-03$\n",
    "- In scientific notation,\n",
    "    - e+04 means $10^4$\n",
    "    - e-03 means $10^{-3}$\n",
    "- Instead of e, you can also use E for scientific notation.\n",
    "- The `format()` function can be used to represent a number using scientific notation."
   ]
  },
  {
   "cell_type": "code",
   "execution_count": 61,
   "id": "c3b38891-eaa9-4e4c-9983-d4dd065aed21",
   "metadata": {},
   "outputs": [
    {
     "name": "stdout",
     "output_type": "stream",
     "text": [
      " 1.264e+04\n"
     ]
    }
   ],
   "source": [
    "# Scientific notation e\n",
    "# The number 3 represents the number of digits up to which the given number is to be rounded.\"\n",
    "print(format(12645, '10.3e'))"
   ]
  },
  {
   "cell_type": "code",
   "execution_count": 63,
   "id": "37527117-8939-4197-a686-30e77822b4ac",
   "metadata": {},
   "outputs": [
    {
     "name": "stdout",
     "output_type": "stream",
     "text": [
      "   1.3e+04\n"
     ]
    }
   ],
   "source": [
    "# round 1.2645 to the nearest tenth\n",
    "print(format(12645, '10.1e'))"
   ]
  },
  {
   "cell_type": "code",
   "execution_count": 64,
   "id": "63507321-94f5-4007-9689-9af2d42db96b",
   "metadata": {},
   "outputs": [
    {
     "name": "stdout",
     "output_type": "stream",
     "text": [
      "   1.3E+04\n"
     ]
    }
   ],
   "source": [
    "# You can also use E instead of e\n",
    "print(format(12645, '10.1E'))"
   ]
  },
  {
   "cell_type": "markdown",
   "id": "861d35ab-1ab7-4798-9421-2402efe97ac8",
   "metadata": {},
   "source": [
    "## Large Numbers\n",
    "- $1,234,578$ is a large number, and commas are used to facilitate a better understanding of this number.\n",
    "- In Python, underscores *(_)* are used instead of commas due to the special functionalities associated with commas in Python.\n",
    "\n",
    "\n",
    "\n",
    "\n",
    "\n"
   ]
  },
  {
   "cell_type": "code",
   "execution_count": 65,
   "id": "86beee5c-4cd1-4bc4-9798-fdc620d8d11a",
   "metadata": {},
   "outputs": [
    {
     "name": "stdout",
     "output_type": "stream",
     "text": [
      "1234578\n"
     ]
    }
   ],
   "source": [
    "print(1_234_578)"
   ]
  },
  {
   "cell_type": "markdown",
   "id": "4d121a0e-4af5-4ede-84f1-82e7d3ba23df",
   "metadata": {},
   "source": [
    "In the following code, comma-separated three values are printed.\n",
    "- Since the sep parameter is by default one space,  these three values are displayed with one space between them."
   ]
  },
  {
   "cell_type": "code",
   "execution_count": 1,
   "id": "9a86f7da-ae16-49e1-8f75-a32ce6f7502d",
   "metadata": {},
   "outputs": [
    {
     "name": "stdout",
     "output_type": "stream",
     "text": [
      "1 234 578\n"
     ]
    }
   ],
   "source": [
    "print(1,234,578)"
   ]
  },
  {
   "cell_type": "markdown",
   "id": "e3f071d9-c269-4836-9f6b-9770b46dced0",
   "metadata": {},
   "source": [
    "## Operations on numbers\n",
    "The following operations are commonly used in Python:\n",
    "\n",
    "|Symbol|Operation|\n",
    "|:---:|:---:|\n",
    "|$+$|addition|\n",
    "|$-$|subtraction|\n",
    "|$*$|multiplication|\n",
    "|$**$|exponent|\n",
    "|$/$|division|\n",
    "|$//$|divide and floor (integer division)|\n",
    "|$\\%$|remainder|"
   ]
  },
  {
   "cell_type": "markdown",
   "id": "5a7a79c5-77ac-4723-9b26-7fbf55957d5d",
   "metadata": {},
   "source": [
    "- Division in Python always returns a float, even in cases where the result is a whole number.\n",
    "  - 12/4 = 3.0\n",
    "- Integer division rounds down to the nearest smaller integer.\n",
    "    - Example:\n",
    "      - 13/5  = 2.6\n",
    "      - 13//5 = 2\n",
    "    - Example:\n",
    "      - -12/5  = -2.4\n",
    "      - -12//5 = -3\n",
    "- The remainder operation `%` returns the remainder of a division.\n",
    "    - Example:\n",
    "        - When we divide 13 by 5, the quotient is 2, and the remainder is 3.\n",
    "        - 13%5=3"
   ]
  },
  {
   "cell_type": "code",
   "execution_count": 71,
   "id": "d7cfaff1-ac13-43cc-a84f-4dd288032ee2",
   "metadata": {},
   "outputs": [
    {
     "name": "stdout",
     "output_type": "stream",
     "text": [
      "8\n"
     ]
    }
   ],
   "source": [
    "# addition \n",
    "print(5+3)"
   ]
  },
  {
   "cell_type": "code",
   "execution_count": 70,
   "id": "59558283-a678-409e-9a70-5e3613cc335d",
   "metadata": {},
   "outputs": [
    {
     "name": "stdout",
     "output_type": "stream",
     "text": [
      "8\n"
     ]
    }
   ],
   "source": [
    "# subtraction\n",
    "print(5-3)"
   ]
  },
  {
   "cell_type": "code",
   "execution_count": 70,
   "id": "eadd491e-7027-42e4-b5b7-4c5d476303b2",
   "metadata": {},
   "outputs": [
    {
     "name": "stdout",
     "output_type": "stream",
     "text": [
      "8\n"
     ]
    }
   ],
   "source": [
    "# multiplication\n",
    "print(5*3)"
   ]
  },
  {
   "cell_type": "code",
   "execution_count": 78,
   "id": "b6b876ab-46e5-4e1e-a6b0-a82cd753b71c",
   "metadata": {},
   "outputs": [
    {
     "name": "stdout",
     "output_type": "stream",
     "text": [
      "2.6\n"
     ]
    }
   ],
   "source": [
    "# division\n",
    "print(13/5)"
   ]
  },
  {
   "cell_type": "code",
   "execution_count": 79,
   "id": "ce222e17-e8d8-4596-b16c-6fc9a038f37e",
   "metadata": {},
   "outputs": [
    {
     "name": "stdout",
     "output_type": "stream",
     "text": [
      "8\n"
     ]
    }
   ],
   "source": [
    "# exponent\n",
    "# 2 to the third power\n",
    "print(2**3)"
   ]
  },
  {
   "cell_type": "code",
   "execution_count": 77,
   "id": "9465b332-8079-4faa-bd61-5a7400fd8ebd",
   "metadata": {},
   "outputs": [
    {
     "name": "stdout",
     "output_type": "stream",
     "text": [
      "2\n"
     ]
    }
   ],
   "source": [
    "# integer division\n",
    "print(13//5)"
   ]
  },
  {
   "cell_type": "code",
   "execution_count": 76,
   "id": "55a38b81-40d2-45c6-a6b5-33d5bc450102",
   "metadata": {},
   "outputs": [
    {
     "name": "stdout",
     "output_type": "stream",
     "text": [
      "2\n"
     ]
    }
   ],
   "source": [
    "# remainder\n",
    "# when we divide 13 by 5, the remainder is 3.\n",
    "print(13%5)"
   ]
  },
  {
   "cell_type": "code",
   "execution_count": 81,
   "id": "ff62a087-4364-4154-9f16-a9bbfb1b17ee",
   "metadata": {},
   "outputs": [
    {
     "name": "stdout",
     "output_type": "stream",
     "text": [
      "7.0\n"
     ]
    }
   ],
   "source": [
    "# power = 1/2 means square root\n",
    "print(49**(1/2))"
   ]
  },
  {
   "cell_type": "code",
   "execution_count": 82,
   "id": "4752056a-81ed-451f-95a6-5d2f31a96441",
   "metadata": {},
   "outputs": [
    {
     "name": "stdout",
     "output_type": "stream",
     "text": [
      "(6.123233995736766e-17+1j)\n"
     ]
    }
   ],
   "source": [
    "# square root of negative numbers are complex numbers.\n",
    "# square root of -1\n",
    "print((-1)**(1/2))"
   ]
  },
  {
   "cell_type": "markdown",
   "id": "9183104b-5914-4b77-8b4a-a3b6407f798e",
   "metadata": {},
   "source": [
    "- In the code above we expect to have only $1j$ which is $j$.\n",
    "- There is a real part in this complex number, which is supposed to be 0.\n",
    "- The real part $6.123233995736766e-17$ is in scientific notation, representing $6.123233995736766\\times 10^{-17}$\n",
    "- This is a very small number close to 0.\n",
    "- We have this small number as the real part because floats are stored approximately."
   ]
  },
  {
   "cell_type": "markdown",
   "id": "a0a7bdee-b6aa-43c6-b282-6653fe4f1f7c",
   "metadata": {},
   "source": [
    "```{admonition} Quick Check!\n",
    ":class: tip\n",
    "Divide 18 by 3, assign the result to a variable named x, and then check the type of x to determine its data type."
   ]
  },
  {
   "cell_type": "markdown",
   "id": "ec6438a0-8fe7-4d9f-ad56-bb9710238363",
   "metadata": {},
   "source": [
    "```{admonition} Solution\n",
    ":class: toggle\n",
    "\n",
    "```python\n",
    "\n",
    "x = 18/3\n",
    "print(type(x))"
   ]
  },
  {
   "cell_type": "markdown",
   "id": "a18792d5-86e2-4682-9059-c51661e6cc58",
   "metadata": {},
   "source": [
    "## Conversions\n",
    "- The built-in `int()` function is used to convert floats and suitable strings to integers.\n",
    "- The built-in `float()` function is used to convert integers and suitable strings to floats.\n",
    "- The built-in `str()` function is used to convert integers and floats to strings."
   ]
  },
  {
   "cell_type": "code",
   "execution_count": 96,
   "id": "ad66beed-6be8-45c2-a9eb-dd507d97d2fd",
   "metadata": {},
   "outputs": [
    {
     "name": "stdout",
     "output_type": "stream",
     "text": [
      "Type: <class 'int'>\n",
      "y = 7\n"
     ]
    }
   ],
   "source": [
    "# convert positive float x to integer y\n",
    "x = 7.56\n",
    "y = int(x)\n",
    "print('Type:', type(y))\n",
    "print('y =', y)"
   ]
  },
  {
   "cell_type": "code",
   "execution_count": 97,
   "id": "996beed8-5d32-42d9-a7d2-e48af9cbb518",
   "metadata": {},
   "outputs": [
    {
     "name": "stdout",
     "output_type": "stream",
     "text": [
      "Type: <class 'int'>\n",
      "y = -7\n"
     ]
    }
   ],
   "source": [
    "# convert negative float x to integer y\n",
    "x = -7.56\n",
    "y = int(x)\n",
    "print('Type:', type(y))\n",
    "print('y =', y)"
   ]
  },
  {
   "cell_type": "code",
   "execution_count": 98,
   "id": "de96d4ed-9b50-4ffd-8c4b-1499453c32ef",
   "metadata": {},
   "outputs": [
    {
     "name": "stdout",
     "output_type": "stream",
     "text": [
      "Type: <class 'int'>\n",
      "y = 7\n"
     ]
    }
   ],
   "source": [
    "# convert string x to integer\n",
    "x = '7'\n",
    "y = int(x)\n",
    "print('Type:', type(y))\n",
    "print('y =', y)"
   ]
  },
  {
   "cell_type": "markdown",
   "id": "ae1aac28-89ce-4731-8913-e6f2bd72450f",
   "metadata": {},
   "source": [
    "``` python\n",
    "# ERROR: 'Tom' cannot be converted to an integer.\n",
    "int('Tom')\n",
    "```"
   ]
  },
  {
   "cell_type": "code",
   "execution_count": 99,
   "id": "17f753e0-4104-4a06-90ee-e1e155bd0a9e",
   "metadata": {},
   "outputs": [
    {
     "name": "stdout",
     "output_type": "stream",
     "text": [
      "Type: <class 'float'>\n",
      "y = 7.0\n"
     ]
    }
   ],
   "source": [
    "# convert integer x to float y\n",
    "x = 7\n",
    "y = float(x)\n",
    "print('Type:', type(y))\n",
    "print('y =', y)"
   ]
  },
  {
   "cell_type": "code",
   "execution_count": 100,
   "id": "1da57498-384d-4603-adb5-167ded5e434a",
   "metadata": {},
   "outputs": [
    {
     "name": "stdout",
     "output_type": "stream",
     "text": [
      "Type: <class 'float'>\n",
      "y = 7.53\n"
     ]
    }
   ],
   "source": [
    "# convert string x to float y\n",
    "x = '7.53'\n",
    "y = float(x)\n",
    "print('Type:', type(y))\n",
    "print('y =', y)"
   ]
  },
  {
   "cell_type": "markdown",
   "id": "49b0434a-13a7-4503-a6df-c2a6b3a66a3a",
   "metadata": {},
   "source": [
    "- You cannot convert decimal numbers in string type to an integer."
   ]
  },
  {
   "cell_type": "markdown",
   "id": "c6feccd0-c1aa-4e36-a910-ac7dd6c51d0d",
   "metadata": {},
   "source": [
    "``` python\n",
    "# ERROR: string '7.63' cannot be converted to an integer.\n",
    "int('7.53')\n",
    "```"
   ]
  },
  {
   "cell_type": "markdown",
   "id": "1d289cba-2604-4507-b6d4-e704e3728e1e",
   "metadata": {},
   "source": [
    "- Extra spaces on the left or right do not affect the conversion process."
   ]
  },
  {
   "cell_type": "code",
   "execution_count": 9,
   "id": "41c36434-f31c-45ec-b098-d78f9c063df9",
   "metadata": {},
   "outputs": [
    {
     "name": "stdout",
     "output_type": "stream",
     "text": [
      "234\n"
     ]
    }
   ],
   "source": [
    "print(int('     234   '))"
   ]
  },
  {
   "cell_type": "markdown",
   "id": "5aca163f-c121-4fcd-a7e0-02171e93c82b",
   "metadata": {},
   "source": [
    "```{admonition} Quick Check!\n",
    ":class: tip\n",
    "In a single line of code, convert '3' to a float number then integer and check its type.\n",
    "```"
   ]
  },
  {
   "cell_type": "markdown",
   "id": "5b5fc4e4-b163-4a24-a654-a48a8cec53fb",
   "metadata": {},
   "source": [
    "```{admonition} Solution\n",
    ":class: toggle\n",
    "\n",
    "```python\n",
    "\n",
    "print(type(int(float('3'))))"
   ]
  },
  {
   "cell_type": "markdown",
   "id": "4b835d7d-e3c4-4b7e-a97d-9b7b16bbd09c",
   "metadata": {},
   "source": [
    "## Precedence (PEMDAS)\n",
    "The operation precedence of the operations in Python follows the following order:\n",
    "- Parenthesis\n",
    "- Exponents\n",
    "- Multiplication, Division, Integer Division, Remainder\n",
    "- Addition, Subtraction"
   ]
  },
  {
   "cell_type": "code",
   "execution_count": 102,
   "id": "1ef1b6e5-fd2c-4a4e-8d12-479e46178869",
   "metadata": {},
   "outputs": [
    {
     "name": "stdout",
     "output_type": "stream",
     "text": [
      "17\n"
     ]
    }
   ],
   "source": [
    "# first multiplication, then addition\n",
    "print(2+5*3)"
   ]
  },
  {
   "cell_type": "code",
   "execution_count": 104,
   "id": "3d4bfbaa-421c-4e20-8c0b-549b6ea8acd9",
   "metadata": {},
   "outputs": [
    {
     "name": "stdout",
     "output_type": "stream",
     "text": [
      "4\n"
     ]
    }
   ],
   "source": [
    "# first remainder, then addition\n",
    "print(2+5%3)"
   ]
  },
  {
   "cell_type": "code",
   "execution_count": 105,
   "id": "9b82f9ec-3294-4f85-be1c-cf42c05d63e3",
   "metadata": {},
   "outputs": [
    {
     "name": "stdout",
     "output_type": "stream",
     "text": [
      "3\n"
     ]
    }
   ],
   "source": [
    "# first Integer Division, then addition\n",
    "print(2+5//3)"
   ]
  },
  {
   "cell_type": "code",
   "execution_count": 10,
   "id": "fb854fb8-d78c-4855-a561-31f446786fd2",
   "metadata": {},
   "outputs": [
    {
     "name": "stdout",
     "output_type": "stream",
     "text": [
      "127\n"
     ]
    }
   ],
   "source": [
    "# first exponent, then addition \n",
    "print(2+5**3)"
   ]
  },
  {
   "cell_type": "markdown",
   "id": "7dddf3b0-41ba-419c-a266-9e412e4c996b",
   "metadata": {},
   "source": [
    "```{admonition} Quick Check!\n",
    ":class: tip\n",
    "Given the variable `x=3`, evaluate the expression 4+2(x+5)-3x\n",
    "```"
   ]
  },
  {
   "cell_type": "markdown",
   "id": "bde6c945-193a-44cc-9d1b-0cd242146dc4",
   "metadata": {},
   "source": [
    "```{admonition} Solution\n",
    ":class: toggle\n",
    "\n",
    "```python\n",
    "x = 3\n",
    "print(4+2*(x+5)-3*x)"
   ]
  },
  {
   "cell_type": "markdown",
   "id": "bfa30fb3-eabf-42a7-bb63-798deb716a2b",
   "metadata": {},
   "source": [
    "## Abbreviated operators\n",
    "\n",
    "- In mathematics, the expression $x=x+1$ represents an equation. By subtracting $x$ from both sides, the equation can be solved.\n",
    "- In programming languages, $x=x+1$ is an assignment, not an equation. Remember that `=` is an assignment operator.\n",
    "- In the assignment $x=x+1$, the following steps occur:\n",
    "    1. The expression on the right-hand side, $x+1$, is computed first using the current value of $x$.\n",
    "    2. The result becomes the new value of $x$."
   ]
  },
  {
   "cell_type": "code",
   "execution_count": 106,
   "id": "ee6a9161-4210-462f-8bd8-9abcce06ca8d",
   "metadata": {},
   "outputs": [
    {
     "name": "stdout",
     "output_type": "stream",
     "text": [
      "4\n"
     ]
    }
   ],
   "source": [
    "x = 3        # value of x is 3\n",
    "x = x+1      # x = 3+1\n",
    "print(x)   "
   ]
  },
  {
   "cell_type": "code",
   "execution_count": 108,
   "id": "f9ddb7e2-df66-4d7a-9a64-64b842735106",
   "metadata": {},
   "outputs": [
    {
     "name": "stdout",
     "output_type": "stream",
     "text": [
      "22\n"
     ]
    }
   ],
   "source": [
    "x = 25        # value of x is 25\n",
    "x = x-3       # x = 25-3\n",
    "print(x)  "
   ]
  },
  {
   "cell_type": "code",
   "execution_count": 107,
   "id": "c5ceb5e7-5a61-4f9c-aaa8-94a58b579da7",
   "metadata": {},
   "outputs": [
    {
     "name": "stdout",
     "output_type": "stream",
     "text": [
      "20\n"
     ]
    }
   ],
   "source": [
    "x = 10        # value of x is 10\n",
    "x = x*2       # x = 10*2\n",
    "print(x)   "
   ]
  },
  {
   "cell_type": "code",
   "execution_count": 109,
   "id": "824e28c2-8947-441e-a2d5-6bf88ee14770",
   "metadata": {},
   "outputs": [
    {
     "name": "stdout",
     "output_type": "stream",
     "text": [
      "5.0\n"
     ]
    }
   ],
   "source": [
    "x = 15        # value of x is 15\n",
    "x = x/3       # x = 15/3\n",
    "print(x)"
   ]
  },
  {
   "cell_type": "markdown",
   "id": "03e21013-e308-4a70-b5d8-9e7d80753135",
   "metadata": {},
   "source": [
    "- Since these types of assignments are used frequently, there is a shorter version for them.\n",
    "\n",
    "|regular | shorter|\n",
    "|---|---:|\n",
    "|x = x+2| x+=2|\n",
    "|x = x-2| x-=2|\n",
    "|x = x*2| x*=2|\n",
    "|x = x/2| x/=2|"
   ]
  },
  {
   "cell_type": "code",
   "execution_count": 110,
   "id": "ea127231-8cbe-42e5-9e03-2b2fc5c8f107",
   "metadata": {},
   "outputs": [
    {
     "name": "stdout",
     "output_type": "stream",
     "text": [
      "4\n"
     ]
    }
   ],
   "source": [
    "x=3        # value of x is 3\n",
    "x += 1     # x = 3+1\n",
    "print(x)   "
   ]
  },
  {
   "cell_type": "code",
   "execution_count": 112,
   "id": "852ba00c-7f1f-4203-851c-d7f9d971f5ac",
   "metadata": {},
   "outputs": [
    {
     "name": "stdout",
     "output_type": "stream",
     "text": [
      "22\n"
     ]
    }
   ],
   "source": [
    "x = 25        # value of x is 25\n",
    "x -= 3        # x = 25-3\n",
    "print(x)  "
   ]
  },
  {
   "cell_type": "code",
   "execution_count": 111,
   "id": "e0c7ef83-901c-44f7-ac33-755a2f12cf6c",
   "metadata": {},
   "outputs": [
    {
     "name": "stdout",
     "output_type": "stream",
     "text": [
      "20\n"
     ]
    }
   ],
   "source": [
    "x = 10        # value of x is 10\n",
    "x *= 2        # x = 10*2\n",
    "print(x)   "
   ]
  },
  {
   "cell_type": "code",
   "execution_count": 113,
   "id": "b0840c1a-6ff5-4d58-8e4a-305d2ee47ff8",
   "metadata": {},
   "outputs": [
    {
     "name": "stdout",
     "output_type": "stream",
     "text": [
      "5.0\n"
     ]
    }
   ],
   "source": [
    "x = 15        # value of x is 15\n",
    "x /= 3        # x = 15/3\n",
    "print(x)"
   ]
  },
  {
   "cell_type": "markdown",
   "id": "19cdc2bc-8ff6-4311-be82-4be960eb6cb2",
   "metadata": {},
   "source": [
    "```{admonition} Quick Check!\n",
    ":class: tip\n",
    "Find the output of the following code.\n",
    "``` python\n",
    "a = 10\n",
    "a += 2\n",
    "print(a)\n",
    "a /= 3\n",
    "print(a)\n",
    "a *=  5\n",
    "print(a)"
   ]
  },
  {
   "cell_type": "markdown",
   "id": "e996d800-e50c-480f-9615-88f31e38c433",
   "metadata": {},
   "source": [
    "```{admonition} Solution\n",
    ":class: toggle\n",
    "\n",
    "```python\n",
    "\n",
    "12  \n",
    "4.0  \n",
    "20.0"
   ]
  },
  {
   "cell_type": "markdown",
   "id": "95ccc840-6508-4a1a-a448-f332728a518e",
   "metadata": {},
   "source": [
    "## Built-in Functions\n",
    "Python has many useful functions available for use without importing additional modules.\n",
    "- You can find the list of built-in functions in the [official Python documentation](https://docs.python.org/3/library/functions.html).\n",
    "- Some of the built-in functions related to mathematics include:\n",
    "    - `abs()`: returns the absolute value.\n",
    "    - `max()`: returns the maximum value in a given list of numbers.\n",
    "    - `min()`: returns the minimum value in a given list of numbers.\n",
    "    - `sum()`: returns the sum of the values in a given list of numbers.\n",
    "    - `pow()`: returns a number (base) raised to a certain power.\n",
    "    - `round()`: rounds a number to a certain decimal place."
   ]
  },
  {
   "cell_type": "code",
   "execution_count": 114,
   "id": "c6b33807-342a-4822-8db7-7ca047ccfae3",
   "metadata": {},
   "outputs": [
    {
     "name": "stdout",
     "output_type": "stream",
     "text": [
      "7\n"
     ]
    }
   ],
   "source": [
    "# absolute values of -7\n",
    "print(abs(-7))"
   ]
  },
  {
   "cell_type": "code",
   "execution_count": 116,
   "id": "69d666ce-9b7c-4a85-910a-59148c5d179a",
   "metadata": {},
   "outputs": [
    {
     "data": {
      "text/plain": [
       "9"
      ]
     },
     "execution_count": 116,
     "metadata": {},
     "output_type": "execute_result"
    }
   ],
   "source": [
    "# maximum of 1,9,2,4 is 9\n",
    "print(max(1,9,2,4))"
   ]
  },
  {
   "cell_type": "code",
   "execution_count": 118,
   "id": "8affd7f7-8010-4d1d-921a-d2d21e2a5e42",
   "metadata": {},
   "outputs": [
    {
     "name": "stdout",
     "output_type": "stream",
     "text": [
      "1\n"
     ]
    }
   ],
   "source": [
    "# minimum of 1,9,2,4 is 1\n",
    "print(min(1,9,2,4))"
   ]
  },
  {
   "cell_type": "code",
   "execution_count": 21,
   "id": "e75bbb11-21cf-4196-998a-2fd5d873add5",
   "metadata": {},
   "outputs": [
    {
     "name": "stdout",
     "output_type": "stream",
     "text": [
      "16\n"
     ]
    }
   ],
   "source": [
    "# sum of 1,9,2,4 is 16\n",
    "# numbers in square brackets or parenthesis\n",
    "print(sum([1,9,2,4]))"
   ]
  },
  {
   "cell_type": "code",
   "execution_count": 14,
   "id": "b2adc13f-d232-4198-ba8e-2b94f9c0584d",
   "metadata": {},
   "outputs": [
    {
     "name": "stdout",
     "output_type": "stream",
     "text": [
      "8\n"
     ]
    }
   ],
   "source": [
    "# 2 to the 3rd power\n",
    "print(pow(2, 3))"
   ]
  },
  {
   "cell_type": "code",
   "execution_count": 15,
   "id": "22e3950c-a1e8-4e94-a369-9f5a261aacfe",
   "metadata": {},
   "outputs": [
    {
     "name": "stdout",
     "output_type": "stream",
     "text": [
      "3.468\n"
     ]
    }
   ],
   "source": [
    "# rounding to the nearest thousandths\n",
    "print(round(3.4678, 3))"
   ]
  },
  {
   "cell_type": "markdown",
   "id": "b5cbccdd-799d-4dc9-ab44-87d1a286449f",
   "metadata": {},
   "source": [
    "```{admonition} Quick Check!\n",
    ":class: tip\n",
    "Create three variables, x, y, and z, and assign them the values -2, -5, and -10, respectively.\n",
    "- Use the `min()` function to find and display the minimum of these numbers.\n",
    "- Use the `abs()` function to get the absolute values of x, y, and z, then display their sum.\n",
    "```"
   ]
  },
  {
   "cell_type": "markdown",
   "id": "37183a93-2b7d-44d1-bf0a-44574f10d62b",
   "metadata": {},
   "source": [
    "```{admonition} Solution\n",
    ":class: toggle\n",
    "\n",
    "```python\n",
    "\n",
    "x, y, z = -2, -5, -10\n",
    "print('Minimum:', min(x,y,z))\n",
    "print('Sum    :', sum([abs(x),abs(y),abs(z)]))"
   ]
  },
  {
   "cell_type": "markdown",
   "id": "43224514-e54f-418e-8670-220157e0f011",
   "metadata": {},
   "source": [
    "## Math Module\n",
    "Modules will be imported as needed, not loaded by default.\n",
    "- This minimizes memory requirements and improves performance.\n",
    "- Modules are single Python files with a .py extension, which may contain functions and constants.\n",
    "\n",
    "The Math module contains commonly used mathematical functions and constants, including trigonometric functions and the constant $\\pi$.\n",
    "- The *math* module should be imported first.\n",
    "- `dir(math)` returns a list of all functions and constants in the math module.\n",
    "- `help(math)` provides more details, including explanations of functions and constants.\n",
    "- You do not need to memorize these functions. Whenever you need any of them, you can import them from the module."
   ]
  },
  {
   "cell_type": "code",
   "execution_count": 17,
   "id": "5a1636ee-0967-4764-80bc-c6db40eaca6d",
   "metadata": {},
   "outputs": [],
   "source": [
    "import math"
   ]
  },
  {
   "cell_type": "code",
   "execution_count": 18,
   "id": "029acc1f-9da3-4f6f-a5ec-8e4b4dd85f24",
   "metadata": {},
   "outputs": [
    {
     "name": "stdout",
     "output_type": "stream",
     "text": [
      "['__doc__', '__file__', '__loader__', '__name__', '__package__', '__spec__', 'acos', 'acosh', 'asin', 'asinh', 'atan', 'atan2', 'atanh', 'cbrt', 'ceil', 'comb', 'copysign', 'cos', 'cosh', 'degrees', 'dist', 'e', 'erf', 'erfc', 'exp', 'exp2', 'expm1', 'fabs', 'factorial', 'floor', 'fmod', 'frexp', 'fsum', 'gamma', 'gcd', 'hypot', 'inf', 'isclose', 'isfinite', 'isinf', 'isnan', 'isqrt', 'lcm', 'ldexp', 'lgamma', 'log', 'log10', 'log1p', 'log2', 'modf', 'nan', 'nextafter', 'perm', 'pi', 'pow', 'prod', 'radians', 'remainder', 'sin', 'sinh', 'sqrt', 'tan', 'tanh', 'tau', 'trunc', 'ulp']\n"
     ]
    }
   ],
   "source": [
    "# list of constants and functions in math module \n",
    "print(dir(math))"
   ]
  },
  {
   "cell_type": "code",
   "execution_count": 131,
   "id": "ebd85bd3-89c6-44cb-b0c0-475c14107566",
   "metadata": {},
   "outputs": [
    {
     "data": {
      "text/plain": [
       "-0.9880316240928618"
      ]
     },
     "execution_count": 131,
     "metadata": {},
     "output_type": "execute_result"
    }
   ],
   "source": [
    "# sin(30 radians)\n",
    "math.sin(30)"
   ]
  },
  {
   "cell_type": "code",
   "execution_count": 134,
   "id": "4897f793-d71f-45ad-bec1-988ddec53772",
   "metadata": {},
   "outputs": [
    {
     "data": {
      "text/plain": [
       "7.0"
      ]
     },
     "execution_count": 134,
     "metadata": {},
     "output_type": "execute_result"
    }
   ],
   "source": [
    "# square root\n",
    "math.sqrt(49)"
   ]
  },
  {
   "cell_type": "code",
   "execution_count": 137,
   "id": "e983db83-7dd9-40f5-9b62-e3d93c54bfd0",
   "metadata": {},
   "outputs": [
    {
     "data": {
      "text/plain": [
       "3.141592653589793"
      ]
     },
     "execution_count": 137,
     "metadata": {},
     "output_type": "execute_result"
    }
   ],
   "source": [
    "# converts degrees to radians \n",
    "math.radians(180)"
   ]
  },
  {
   "cell_type": "code",
   "execution_count": 139,
   "id": "35903399-2741-4681-b0c8-8ee0d2635e0a",
   "metadata": {},
   "outputs": [
    {
     "data": {
      "text/plain": [
       "2.0"
      ]
     },
     "execution_count": 139,
     "metadata": {},
     "output_type": "execute_result"
    }
   ],
   "source": [
    "# log of 100 in base 10\n",
    "math.log10(100)"
   ]
  },
  {
   "cell_type": "markdown",
   "id": "cbf3ad23-a5d8-4752-9966-f4874328d0f6",
   "metadata": {},
   "source": [
    "```{admonition} Quick Check!\n",
    ":class: tip\n",
    "\n",
    "Create a variable named `radius` and assign it the value 5. Import the value of $\\pi$ from the `math` module. Then, use the formula $A = \\pi r^2 $ to calculate the area of the circle. Finally, round the result to the nearest hundredth."
   ]
  },
  {
   "cell_type": "markdown",
   "id": "07769e19-0310-4825-ab50-8892b9d2f746",
   "metadata": {},
   "source": [
    "```{admonition} Solution\n",
    ":class: toggle\n",
    "\n",
    "```python\n",
    "import math\n",
    "radius = 5\n",
    "A = round(math.pi*radius**2,2)\n",
    "print('Area:', A)"
   ]
  },
  {
   "cell_type": "markdown",
   "id": "6a2cbbcc-113f-4fa8-b7ad-4bbf9adfa15f",
   "metadata": {},
   "source": [
    "## Combine Strings and Numbers"
   ]
  },
  {
   "cell_type": "markdown",
   "id": "0cccdc30-99a2-49c3-b512-6e90d043a46d",
   "metadata": {},
   "source": [
    "- There are different ways of combining strings and numbers.\n",
    "- One easy way is to convert numbers to a string using the *str()* function and then concatenate strings using the *+* operator."
   ]
  },
  {
   "cell_type": "code",
   "execution_count": 142,
   "id": "2793dfed-cb64-4beb-b246-003a866db18e",
   "metadata": {},
   "outputs": [],
   "source": [
    "x = 5\n",
    "y = 'dollars'"
   ]
  },
  {
   "cell_type": "markdown",
   "id": "94be2d6a-30ee-46ea-a92d-4836bd4f09e4",
   "metadata": {},
   "source": [
    "``` python\n",
    "# ERROR: int + str\n",
    "print(x+y)\n",
    "```\n"
   ]
  },
  {
   "cell_type": "code",
   "execution_count": 144,
   "id": "07c178a4-2e8c-4824-a6d8-361ad17a40f2",
   "metadata": {},
   "outputs": [
    {
     "name": "stdout",
     "output_type": "stream",
     "text": [
      "5 dollars\n"
     ]
    }
   ],
   "source": [
    "# convert x into a string: new value is '5'\n",
    "# concatenate three strings: str(x), ' ', y\n",
    "new_str = str(x)+' '+y\n",
    "print(new_str)"
   ]
  },
  {
   "cell_type": "markdown",
   "id": "ae8a17a0-b795-4770-bb52-39ac9d793b9e",
   "metadata": {},
   "source": [
    "```{admonition} Quick Check!\n",
    ":class: tip\n",
    "\n",
    "Use string concatenation by converting the variable `x = 5` to a string and then concatenate it with the variable `y = '7'`. Assign the result to a new variable, which will hold the string value `'75'`.\n",
    "```"
   ]
  },
  {
   "cell_type": "markdown",
   "id": "6d758bd1-3dbb-46eb-8eaf-375a3a6b6d11",
   "metadata": {},
   "source": [
    "```{admonition} Solution\n",
    ":class: toggle\n",
    "\n",
    "```python\n",
    "\n",
    "x = 5\n",
    "y = '7'\n",
    "z= y+str(x)\n",
    "print(z)"
   ]
  },
  {
   "cell_type": "code",
   "execution_count": null,
   "id": "e9734d40-1f3a-4adf-95ae-a10b3a45ad82",
   "metadata": {},
   "outputs": [],
   "source": []
  }
 ],
 "metadata": {
  "kernelspec": {
   "display_name": "Python 3 (ipykernel)",
   "language": "python",
   "name": "python3"
  },
  "language_info": {
   "codemirror_mode": {
    "name": "ipython",
    "version": 3
   },
   "file_extension": ".py",
   "mimetype": "text/x-python",
   "name": "python",
   "nbconvert_exporter": "python",
   "pygments_lexer": "ipython3",
   "version": "3.11.8"
  }
 },
 "nbformat": 4,
 "nbformat_minor": 5
}
