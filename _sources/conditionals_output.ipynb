{
 "cells": [
  {
   "cell_type": "markdown",
   "id": "13e18a7d",
   "metadata": {},
   "source": [
    "# Conditionals Output\n",
    "![](title_pict/conditionals_output2.png)\n",
    "\n",
    "- Find the output of the following code. \n",
    "- Please don't run the code before giving your answer. &emsp;&emsp;&emsp;&emsp;"
   ]
  },
  {
   "cell_type": "markdown",
   "id": "03fc8d4d",
   "metadata": {},
   "source": [
    "## Question-1\n",
    "``` python\n",
    "print(True+False+3+True)\n",
    "```"
   ]
  },
  {
   "cell_type": "markdown",
   "id": "5fa4f94b-2145-44dc-95a8-e43e475357e6",
   "metadata": {},
   "source": [
    "```{admonition} Solution\n",
    ":class: toggle\n",
    "5\n",
    "```"
   ]
  },
  {
   "cell_type": "markdown",
   "id": "c1aef79d",
   "metadata": {},
   "source": [
    "## Question-2\n"
   ]
  },
  {
   "cell_type": "markdown",
   "id": "13949b45-c690-4405-9f77-bfadff1437cc",
   "metadata": {
    "tags": [
     "hide-output"
    ]
   },
   "source": [
    "``` python\n",
    "x = 20\n",
    "y = 100\n",
    "\n",
    "b1 = x == y\n",
    "b2 = x < y\n",
    "\n",
    "print(b1)\n",
    "print(b2)\n",
    "print(b1 and b2)\n",
    "print(b1 or b2)\n",
    "```"
   ]
  },
  {
   "cell_type": "markdown",
   "id": "dc436a96-5b21-4009-84f4-1bb266dd3ff5",
   "metadata": {},
   "source": [
    "\n",
    "```{admonition} Solution\n",
    ":class: toggle\n",
    "False   \n",
    "True   \n",
    "False   \n",
    "True  "
   ]
  },
  {
   "cell_type": "markdown",
   "id": "d0e75b17",
   "metadata": {},
   "source": [
    "## Question-3\n"
   ]
  },
  {
   "cell_type": "markdown",
   "id": "f4879696-bac4-44d4-981c-f43fc9cabded",
   "metadata": {
    "tags": [
     "hide-output"
    ]
   },
   "source": [
    "``` python\n",
    "x = 10\n",
    "\n",
    "if x<7:\n",
    "  print('A')\n",
    "```"
   ]
  },
  {
   "cell_type": "markdown",
   "id": "8bd163dd-fa09-4ecb-b448-57520b98ae4f",
   "metadata": {},
   "source": [
    "\n",
    "```{admonition} Solution\n",
    ":class: toggle\n",
    "No output!  "
   ]
  },
  {
   "cell_type": "markdown",
   "id": "1bc72fed",
   "metadata": {},
   "source": [
    "## Question-4\n"
   ]
  },
  {
   "cell_type": "markdown",
   "id": "30595fe1-9f5e-43e7-9099-75f7db8c4237",
   "metadata": {
    "tags": [
     "hide-output"
    ]
   },
   "source": [
    "``` python\n",
    "x = 20\n",
    "\n",
    "if x > 10:\n",
    "  print('A')\n",
    "elif x > 15:\n",
    "  print('B')\n",
    "else:\n",
    "  print('C')\n",
    "```"
   ]
  },
  {
   "cell_type": "markdown",
   "id": "de44ac9a-71ff-4508-b208-940055d6159d",
   "metadata": {},
   "source": [
    "\n",
    "```{admonition} Solution\n",
    ":class: toggle\n",
    "A "
   ]
  },
  {
   "cell_type": "markdown",
   "id": "f69a9cd1-3b07-4d29-af2e-e6b2fc5a32d1",
   "metadata": {},
   "source": [
    "## Question-5\n"
   ]
  },
  {
   "cell_type": "markdown",
   "id": "5b574299-f236-47b9-8e66-01a1a8f33978",
   "metadata": {
    "tags": [
     "hide-output"
    ]
   },
   "source": [
    "``` python\n",
    "x = 20\n",
    "\n",
    "if x > 10:\n",
    "  print('A')\n",
    "if x > 15:\n",
    "  print('B')\n",
    "```"
   ]
  },
  {
   "cell_type": "markdown",
   "id": "564ee613-a3ff-41b9-82ce-a05df6d06c23",
   "metadata": {},
   "source": [
    "\n",
    "```{admonition} Solution\n",
    ":class: toggle\n",
    "A  \n",
    "B"
   ]
  },
  {
   "cell_type": "markdown",
   "id": "cace03a5-f754-4ada-b999-54235cc7ffd0",
   "metadata": {},
   "source": [
    "## Question-6\n"
   ]
  },
  {
   "cell_type": "markdown",
   "id": "0f908882-73e1-43c3-8947-91ac5d8c2dcb",
   "metadata": {
    "tags": [
     "hide-output"
    ]
   },
   "source": [
    "``` python\n",
    "x = 17\n",
    "y = 9\n",
    "\n",
    "if x<15 and y>5:\n",
    "  print('A')\n",
    "elif x>7 and y>5:\n",
    "  print('B')\n",
    "elif x>10 and y>6:\n",
    "  print('C')\n",
    "else:\n",
    "  print('D')\n",
    "``` "
   ]
  },
  {
   "cell_type": "markdown",
   "id": "7de9cc39-a4cf-47f0-b886-c5822288bc1f",
   "metadata": {},
   "source": [
    "\n",
    "```{admonition} Solution\n",
    ":class: toggle\n",
    "B"
   ]
  },
  {
   "cell_type": "markdown",
   "id": "682031c3-cfc4-48a9-9f8a-9f5bce5f8890",
   "metadata": {},
   "source": [
    "## Question-7\n"
   ]
  },
  {
   "cell_type": "markdown",
   "id": "5d26a76e-1205-4527-bb52-bc6af7e87e56",
   "metadata": {
    "tags": [
     "hide-output"
    ]
   },
   "source": [
    "``` python\n",
    "x = 25\n",
    "\n",
    "if x < 30:\n",
    "  print('A')\n",
    "  if x < 20:\n",
    "    print('B')\n",
    "```"
   ]
  },
  {
   "cell_type": "markdown",
   "id": "2b123910-be1d-4d58-8283-42fec0693c30",
   "metadata": {},
   "source": [
    "\n",
    "```{admonition} Solution\n",
    ":class: toggle\n",
    "A"
   ]
  },
  {
   "cell_type": "markdown",
   "id": "08e1e1ce",
   "metadata": {},
   "source": [
    "## Question-8\n"
   ]
  },
  {
   "cell_type": "markdown",
   "id": "ad375037-0124-45bf-97e3-49d766468c57",
   "metadata": {
    "tags": [
     "hide-output"
    ]
   },
   "source": [
    "``` python\n",
    "x = 25\n",
    "\n",
    "if x < 30:\n",
    "  print('A')\n",
    "  if x < 40:\n",
    "    print('B')\n",
    "```"
   ]
  },
  {
   "cell_type": "markdown",
   "id": "c1ba0fc6-4064-4b4d-9dc5-2ae4284d6747",
   "metadata": {},
   "source": [
    "\n",
    "```{admonition} Solution\n",
    ":class: toggle\n",
    "A  \n",
    "B"
   ]
  },
  {
   "cell_type": "markdown",
   "id": "6c41682c",
   "metadata": {},
   "source": [
    "## Question-9\n"
   ]
  },
  {
   "cell_type": "markdown",
   "id": "8ba3edd8-a158-4aae-a556-4ca64ebbb8cc",
   "metadata": {
    "tags": [
     "hide-output"
    ]
   },
   "source": [
    "``` python\n",
    "x = 25\n",
    "\n",
    "if x < 10:\n",
    "  print('A')\n",
    "  if x < 40:\n",
    "    print('B')\n",
    "```"
   ]
  },
  {
   "cell_type": "markdown",
   "id": "02bbdca9-a6cb-4a9a-aa1a-ea0bb4c4872e",
   "metadata": {},
   "source": [
    "\n",
    "```{admonition} Solution\n",
    ":class: toggle\n",
    "No output!  "
   ]
  },
  {
   "cell_type": "markdown",
   "id": "68dab687",
   "metadata": {},
   "source": [
    "## Question-10\n"
   ]
  },
  {
   "cell_type": "markdown",
   "id": "dd0e3676-c107-463f-98db-3a4861fa6f3c",
   "metadata": {
    "tags": [
     "hide-output"
    ]
   },
   "source": [
    "``` python\n",
    "if 10:\n",
    "  print('USA')\n",
    "```"
   ]
  },
  {
   "cell_type": "markdown",
   "id": "662fd3b5-cf16-4f0d-bb89-57f64ff78f44",
   "metadata": {},
   "source": [
    "\n",
    "```{admonition} Solution\n",
    ":class: toggle\n",
    "USA "
   ]
  },
  {
   "cell_type": "markdown",
   "id": "dfe80787-15c7-4303-ac1b-4f4bebba01d1",
   "metadata": {},
   "source": [
    "## Question-11\n"
   ]
  },
  {
   "cell_type": "markdown",
   "id": "1461f07a-df4d-4ba1-83ef-6ea87586b5eb",
   "metadata": {
    "tags": [
     "hide-output"
    ]
   },
   "source": [
    "``` python\n",
    "if 0:\n",
    "  print('USA')\n",
    "```"
   ]
  },
  {
   "cell_type": "markdown",
   "id": "5255c644-fa4c-4991-a5e0-920df7eb0fc1",
   "metadata": {},
   "source": [
    "\n",
    "```{admonition} Solution\n",
    ":class: toggle\n",
    "No output!  "
   ]
  },
  {
   "cell_type": "markdown",
   "id": "a23ddf68",
   "metadata": {},
   "source": [
    "## Question-12\n"
   ]
  },
  {
   "cell_type": "markdown",
   "id": "8719c143-022e-4da2-b82c-31c81ef29fe8",
   "metadata": {
    "tags": [
     "hide-output"
    ]
   },
   "source": [
    "``` python\n",
    "if 0==0 :\n",
    "  print('USA')\n",
    "```"
   ]
  },
  {
   "cell_type": "markdown",
   "id": "0c59f066-902a-4e2d-bb78-07345dda9d81",
   "metadata": {},
   "source": [
    "\n",
    "```{admonition} Solution\n",
    ":class: toggle\n",
    "USA"
   ]
  },
  {
   "cell_type": "markdown",
   "id": "3cff10a4",
   "metadata": {},
   "source": [
    "## Question-13\n"
   ]
  },
  {
   "cell_type": "markdown",
   "id": "102e0620-b764-4856-939a-0b7a50509bb8",
   "metadata": {
    "tags": [
     "hide-output"
    ]
   },
   "source": [
    "``` python\n",
    "x = 10\n",
    "\n",
    "if x > 2*x:\n",
    "  print(x)\n",
    "print(2*x)\n",
    "```"
   ]
  },
  {
   "cell_type": "markdown",
   "id": "10bd57ec-c1c7-4c92-b4bb-9334fc2d1ce7",
   "metadata": {},
   "source": [
    "\n",
    "```{admonition} Solution\n",
    ":class: toggle\n",
    "20  "
   ]
  },
  {
   "cell_type": "markdown",
   "id": "59a127e6-db84-4405-9afe-b0fcc7545fad",
   "metadata": {},
   "source": [
    "## Question-14\n"
   ]
  },
  {
   "cell_type": "markdown",
   "id": "94888165-8a48-42ad-941b-bea393d65ab8",
   "metadata": {
    "tags": [
     "hide-output"
    ]
   },
   "source": [
    "``` python\n",
    "x = 10\n",
    "\n",
    "if x > 2*x:\n",
    "  print(x)\n",
    "  print(2*x)\n",
    "```"
   ]
  },
  {
   "cell_type": "markdown",
   "id": "e383e287-39c8-4b41-a0a9-6b33b47e14b6",
   "metadata": {},
   "source": [
    "\n",
    "```{admonition} Solution\n",
    ":class: toggle\n",
    "No output!  "
   ]
  },
  {
   "cell_type": "markdown",
   "id": "ec108967-f356-4f6a-a76f-52dd596db8a7",
   "metadata": {},
   "source": [
    "## Question-15\n"
   ]
  },
  {
   "cell_type": "markdown",
   "id": "691964e8-fc10-4117-9d19-31023e768b3a",
   "metadata": {
    "tags": [
     "hide-output"
    ]
   },
   "source": [
    "``` python\n",
    "if True:\n",
    "  if 1:\n",
    "    if 5:\n",
    "      if 0:\n",
    "        print('A')\n",
    "      else:\n",
    "        print('B')\n",
    "    else:\n",
    "      print('C')\n",
    "```"
   ]
  },
  {
   "cell_type": "markdown",
   "id": "893400b5-edf9-4583-a653-f63459ba0c1d",
   "metadata": {},
   "source": [
    "\n",
    "```{admonition} Solution\n",
    ":class: toggle\n",
    "B"
   ]
  },
  {
   "cell_type": "markdown",
   "id": "1cea6145-34f1-4048-912a-fac8799e880f",
   "metadata": {},
   "source": [
    "## Question-16\n"
   ]
  },
  {
   "cell_type": "markdown",
   "id": "9ffd881b-93ec-4a47-b666-3fc4aacbb5ec",
   "metadata": {
    "tags": [
     "hide-output"
    ]
   },
   "source": [
    "``` python\n",
    "x = 5\n",
    "\n",
    "if x > 3:\n",
    "  print('A')\n",
    "if x > 4:\n",
    "  print('B')\n",
    "  print('?')\n",
    "if x > 10:\n",
    "  print('C')\n",
    "  print('#')\n",
    "print('D')\n",
    "```"
   ]
  },
  {
   "cell_type": "markdown",
   "id": "1c46519a-9129-4c6c-9de6-654a82b3515c",
   "metadata": {},
   "source": [
    "\n",
    "```{admonition} Solution\n",
    ":class: toggle\n",
    "A  \n",
    "B  \n",
    "?  \n",
    "D   "
   ]
  },
  {
   "cell_type": "markdown",
   "id": "78f67003-93f8-4684-a28b-b7b961602227",
   "metadata": {},
   "source": [
    "## Question-17\n"
   ]
  },
  {
   "cell_type": "markdown",
   "id": "c82a8435-ca5f-4519-975f-95030860f5d8",
   "metadata": {
    "tags": [
     "hide-output"
    ]
   },
   "source": [
    "``` python\n",
    "x = '3'\n",
    "\n",
    "try:\n",
    "  print(x+5)\n",
    "except:\n",
    "  print('ERROR')\n",
    "```"
   ]
  },
  {
   "cell_type": "markdown",
   "id": "f24f1732-f7c9-49b6-ac2b-baec84315e94",
   "metadata": {},
   "source": [
    "\n",
    "```{admonition} Solution\n",
    ":class: toggle\n",
    "ERROR"
   ]
  },
  {
   "cell_type": "markdown",
   "id": "016c6268-7e59-4582-80ab-a62383f699fc",
   "metadata": {},
   "source": [
    "## Question-18\n"
   ]
  },
  {
   "cell_type": "markdown",
   "id": "c7f6ad8d-5bb7-4814-8159-1f9f26621732",
   "metadata": {
    "tags": [
     "hide-output"
    ]
   },
   "source": [
    "``` python\n",
    "x = True\n",
    "\n",
    "try:\n",
    "  print(x+5)\n",
    "except:\n",
    "  print('ERROR')\n",
    "```"
   ]
  },
  {
   "cell_type": "markdown",
   "id": "346b5027-f81e-46f0-8866-71924ce26b60",
   "metadata": {},
   "source": [
    "\n",
    "```{admonition} Solution\n",
    ":class: toggle\n",
    "6  "
   ]
  },
  {
   "cell_type": "code",
   "execution_count": null,
   "id": "2755af46-bd1d-4937-922e-d9b8e054bd13",
   "metadata": {},
   "outputs": [],
   "source": []
  }
 ],
 "metadata": {
  "celltoolbar": "Tags",
  "hide_input": false,
  "kernelspec": {
   "display_name": "Python 3 (ipykernel)",
   "language": "python",
   "name": "python3"
  },
  "language_info": {
   "codemirror_mode": {
    "name": "ipython",
    "version": 3
   },
   "file_extension": ".py",
   "mimetype": "text/x-python",
   "name": "python",
   "nbconvert_exporter": "python",
   "pygments_lexer": "ipython3",
   "version": "3.11.7"
  },
  "toc": {
   "base_numbering": 1,
   "nav_menu": {},
   "number_sections": true,
   "sideBar": true,
   "skip_h1_title": false,
   "title_cell": "Table of Contents",
   "title_sidebar": "Contents",
   "toc_cell": false,
   "toc_position": {},
   "toc_section_display": true,
   "toc_window_display": false
  }
 },
 "nbformat": 4,
 "nbformat_minor": 5
}
