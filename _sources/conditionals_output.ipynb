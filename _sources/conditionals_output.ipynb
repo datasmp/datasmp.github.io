{
 "cells": [
  {
   "cell_type": "markdown",
   "id": "13e18a7d",
   "metadata": {},
   "source": [
    "# Conditionals Output\n",
    "- Find the output of the following code. \n",
    "- Please don't run the code before giving your answer. &emsp;&emsp;&emsp;&emsp;"
   ]
  },
  {
   "cell_type": "markdown",
   "id": "03fc8d4d",
   "metadata": {},
   "source": [
    "## Question\n"
   ]
  },
  {
   "cell_type": "code",
   "execution_count": 1,
   "id": "676b8223",
   "metadata": {
    "tags": [
     "hide-output"
    ]
   },
   "outputs": [
    {
     "name": "stdout",
     "output_type": "stream",
     "text": [
      "5\n"
     ]
    }
   ],
   "source": [
    "print(True+False+3+True)"
   ]
  },
  {
   "cell_type": "markdown",
   "id": "c1aef79d",
   "metadata": {},
   "source": [
    "## Question\n"
   ]
  },
  {
   "cell_type": "code",
   "execution_count": 2,
   "id": "166f0c20",
   "metadata": {
    "tags": [
     "hide-output"
    ]
   },
   "outputs": [
    {
     "name": "stdout",
     "output_type": "stream",
     "text": [
      "False\n",
      "True\n",
      "False\n",
      "True\n"
     ]
    }
   ],
   "source": [
    "x = 20\n",
    "y = 100\n",
    "\n",
    "b1 = x == y\n",
    "b2 = x < y\n",
    "\n",
    "print(b1)\n",
    "print(b2)\n",
    "print(b1 and b2)\n",
    "print(b1 or b2)"
   ]
  },
  {
   "cell_type": "markdown",
   "id": "d0e75b17",
   "metadata": {},
   "source": [
    "## Question\n"
   ]
  },
  {
   "cell_type": "code",
   "execution_count": 3,
   "id": "5ecaf019",
   "metadata": {
    "tags": [
     "hide-output"
    ]
   },
   "outputs": [],
   "source": [
    "x = 10\n",
    "\n",
    "if x<7:\n",
    "  print('A')"
   ]
  },
  {
   "cell_type": "markdown",
   "id": "0966762d-de7c-4a8b-9f9c-c3906de51b12",
   "metadata": {},
   "source": [
    "- No output!"
   ]
  },
  {
   "cell_type": "markdown",
   "id": "1bc72fed",
   "metadata": {},
   "source": [
    "## Question\n"
   ]
  },
  {
   "cell_type": "code",
   "execution_count": 4,
   "id": "21b9956f",
   "metadata": {
    "tags": [
     "hide-output"
    ]
   },
   "outputs": [
    {
     "name": "stdout",
     "output_type": "stream",
     "text": [
      "A\n"
     ]
    }
   ],
   "source": [
    "x = 20\n",
    "\n",
    "if x > 10:\n",
    "  print('A')\n",
    "elif x > 15:\n",
    "  print('B')\n",
    "else:\n",
    "  print('C')"
   ]
  },
  {
   "cell_type": "markdown",
   "id": "f69a9cd1-3b07-4d29-af2e-e6b2fc5a32d1",
   "metadata": {},
   "source": [
    "## Question\n"
   ]
  },
  {
   "cell_type": "code",
   "execution_count": 5,
   "id": "8893982b-1a33-4946-b811-f2807e754b13",
   "metadata": {
    "tags": [
     "hide-output"
    ]
   },
   "outputs": [
    {
     "name": "stdout",
     "output_type": "stream",
     "text": [
      "A\n",
      "B\n"
     ]
    }
   ],
   "source": [
    "x = 20\n",
    "\n",
    "if x > 10:\n",
    "  print('A')\n",
    "if x > 15:\n",
    "  print('B')"
   ]
  },
  {
   "cell_type": "markdown",
   "id": "cace03a5-f754-4ada-b999-54235cc7ffd0",
   "metadata": {},
   "source": [
    "## Question\n"
   ]
  },
  {
   "cell_type": "code",
   "execution_count": 6,
   "id": "75c23741-8b41-4c9a-a257-50f45c5e2c4d",
   "metadata": {
    "tags": [
     "hide-output"
    ]
   },
   "outputs": [
    {
     "name": "stdout",
     "output_type": "stream",
     "text": [
      "B\n"
     ]
    }
   ],
   "source": [
    "x = 17\n",
    "y = 9\n",
    "\n",
    "if x<15 and y>5:\n",
    "  print('A')\n",
    "elif x>7 and y>5:\n",
    "  print('B')\n",
    "elif x>10 and y>6:\n",
    "  print('C')\n",
    "else:\n",
    "  print('D')"
   ]
  },
  {
   "cell_type": "markdown",
   "id": "682031c3-cfc4-48a9-9f8a-9f5bce5f8890",
   "metadata": {},
   "source": [
    "## Question\n"
   ]
  },
  {
   "cell_type": "code",
   "execution_count": 7,
   "id": "cdcb44e3-214c-44c4-9c9e-970a60f8a65d",
   "metadata": {
    "tags": [
     "hide-output"
    ]
   },
   "outputs": [
    {
     "name": "stdout",
     "output_type": "stream",
     "text": [
      "A\n"
     ]
    }
   ],
   "source": [
    "x = 25\n",
    "\n",
    "if x < 30:\n",
    "  print('A')\n",
    "  if x < 20:\n",
    "    print('B')"
   ]
  },
  {
   "cell_type": "markdown",
   "id": "08e1e1ce",
   "metadata": {},
   "source": [
    "## Question\n"
   ]
  },
  {
   "cell_type": "code",
   "execution_count": 8,
   "id": "5f53bfff",
   "metadata": {
    "tags": [
     "hide-output"
    ]
   },
   "outputs": [
    {
     "name": "stdout",
     "output_type": "stream",
     "text": [
      "A\n",
      "B\n"
     ]
    }
   ],
   "source": [
    "x = 25\n",
    "\n",
    "if x < 30:\n",
    "  print('A')\n",
    "  if x < 40:\n",
    "    print('B')"
   ]
  },
  {
   "cell_type": "markdown",
   "id": "6c41682c",
   "metadata": {},
   "source": [
    "## Question\n"
   ]
  },
  {
   "cell_type": "code",
   "execution_count": 9,
   "id": "f2df1610",
   "metadata": {
    "tags": [
     "hide-output"
    ]
   },
   "outputs": [],
   "source": [
    "x = 25\n",
    "\n",
    "if x < 10:\n",
    "  print('A')\n",
    "  if x < 40:\n",
    "    print('B')"
   ]
  },
  {
   "cell_type": "markdown",
   "id": "10b43d84-ca3b-4a33-a405-a7b655ba7998",
   "metadata": {},
   "source": [
    "- No output!"
   ]
  },
  {
   "cell_type": "markdown",
   "id": "68dab687",
   "metadata": {},
   "source": [
    "## Question\n"
   ]
  },
  {
   "cell_type": "code",
   "execution_count": 10,
   "id": "ccb951b3",
   "metadata": {
    "tags": [
     "hide-output"
    ]
   },
   "outputs": [
    {
     "name": "stdout",
     "output_type": "stream",
     "text": [
      "USA\n"
     ]
    }
   ],
   "source": [
    "if 10:\n",
    "  print('USA')"
   ]
  },
  {
   "cell_type": "markdown",
   "id": "dfe80787-15c7-4303-ac1b-4f4bebba01d1",
   "metadata": {},
   "source": [
    "## Question\n"
   ]
  },
  {
   "cell_type": "code",
   "execution_count": 18,
   "id": "62c362b3-c364-4e62-b7c0-8290fddd76ad",
   "metadata": {
    "tags": [
     "hide-output"
    ]
   },
   "outputs": [],
   "source": [
    "if 0:\n",
    "  print('USA')"
   ]
  },
  {
   "cell_type": "markdown",
   "id": "71440dc9-1799-453c-bedb-28d55277aea8",
   "metadata": {},
   "source": [
    "- No output!"
   ]
  },
  {
   "cell_type": "markdown",
   "id": "a23ddf68",
   "metadata": {},
   "source": [
    "## Question\n"
   ]
  },
  {
   "cell_type": "code",
   "execution_count": 11,
   "id": "02eae033",
   "metadata": {
    "tags": [
     "hide-output"
    ]
   },
   "outputs": [
    {
     "name": "stdout",
     "output_type": "stream",
     "text": [
      "USA\n"
     ]
    }
   ],
   "source": [
    "if 0==0 :\n",
    "  print('USA')"
   ]
  },
  {
   "cell_type": "markdown",
   "id": "3cff10a4",
   "metadata": {},
   "source": [
    "## Question\n"
   ]
  },
  {
   "cell_type": "code",
   "execution_count": 12,
   "id": "c4bb44b8",
   "metadata": {
    "tags": [
     "hide-output"
    ]
   },
   "outputs": [
    {
     "name": "stdout",
     "output_type": "stream",
     "text": [
      "20\n"
     ]
    }
   ],
   "source": [
    "x = 10\n",
    "\n",
    "if x > 2*x:\n",
    "  print(x)\n",
    "print(2*x)"
   ]
  },
  {
   "cell_type": "markdown",
   "id": "59a127e6-db84-4405-9afe-b0fcc7545fad",
   "metadata": {},
   "source": [
    "## Question\n"
   ]
  },
  {
   "cell_type": "code",
   "execution_count": 13,
   "id": "5760df71-c6ed-4c9e-b540-83c491eebee2",
   "metadata": {
    "tags": [
     "hide-output"
    ]
   },
   "outputs": [],
   "source": [
    "x = 10\n",
    "\n",
    "if x > 2*x:\n",
    "  print(x)\n",
    "  print(2*x)"
   ]
  },
  {
   "cell_type": "markdown",
   "id": "de950a89-a6a4-40ef-b125-74dded8afd08",
   "metadata": {},
   "source": [
    "- No output!"
   ]
  },
  {
   "cell_type": "markdown",
   "id": "ec108967-f356-4f6a-a76f-52dd596db8a7",
   "metadata": {},
   "source": [
    "## Question\n"
   ]
  },
  {
   "cell_type": "code",
   "execution_count": 14,
   "id": "7c87516a-2108-4a4e-a800-a1b42304839c",
   "metadata": {
    "tags": [
     "hide-output"
    ]
   },
   "outputs": [
    {
     "name": "stdout",
     "output_type": "stream",
     "text": [
      "B\n"
     ]
    }
   ],
   "source": [
    "if True:\n",
    "  if 1:\n",
    "    if 5:\n",
    "      if 0:\n",
    "        print('A')\n",
    "      else:\n",
    "        print('B')\n",
    "    else:\n",
    "      print('C')"
   ]
  },
  {
   "cell_type": "markdown",
   "id": "1cea6145-34f1-4048-912a-fac8799e880f",
   "metadata": {},
   "source": [
    "## Question\n"
   ]
  },
  {
   "cell_type": "code",
   "execution_count": 15,
   "id": "d59cec1b-2b9b-4882-8d60-1f3a821c3b6e",
   "metadata": {
    "tags": [
     "hide-output"
    ]
   },
   "outputs": [
    {
     "name": "stdout",
     "output_type": "stream",
     "text": [
      "A\n",
      "B\n",
      "***\n",
      "D\n"
     ]
    }
   ],
   "source": [
    "x = 5\n",
    "\n",
    "if x > 3:\n",
    "  print('A')\n",
    "if x > 4:\n",
    "  print('B')\n",
    "  print('***')\n",
    "if x > 10:\n",
    "  print('C')\n",
    "  print('---')\n",
    "print('D')"
   ]
  },
  {
   "cell_type": "markdown",
   "id": "78f67003-93f8-4684-a28b-b7b961602227",
   "metadata": {},
   "source": [
    "## Question\n"
   ]
  },
  {
   "cell_type": "code",
   "execution_count": 16,
   "id": "30e75fd9-8e0f-4d60-84a0-89d8a53a0e2a",
   "metadata": {
    "tags": [
     "hide-output"
    ]
   },
   "outputs": [
    {
     "name": "stdout",
     "output_type": "stream",
     "text": [
      "ERROR\n"
     ]
    }
   ],
   "source": [
    "x = '3'\n",
    "\n",
    "try:\n",
    "  print(x+5)\n",
    "except:\n",
    "  print('ERROR')"
   ]
  },
  {
   "cell_type": "markdown",
   "id": "016c6268-7e59-4582-80ab-a62383f699fc",
   "metadata": {},
   "source": [
    "## Question\n"
   ]
  },
  {
   "cell_type": "code",
   "execution_count": 17,
   "id": "eca066b5-cc26-4f91-af97-fbeffc88cd7d",
   "metadata": {
    "tags": [
     "hide-output"
    ]
   },
   "outputs": [
    {
     "name": "stdout",
     "output_type": "stream",
     "text": [
      "6\n"
     ]
    }
   ],
   "source": [
    "x = True\n",
    "\n",
    "try:\n",
    "  print(x+5)\n",
    "except:\n",
    "  print('ERROR')"
   ]
  },
  {
   "cell_type": "code",
   "execution_count": null,
   "id": "2755af46-bd1d-4937-922e-d9b8e054bd13",
   "metadata": {},
   "outputs": [],
   "source": []
  }
 ],
 "metadata": {
  "celltoolbar": "Tags",
  "hide_input": false,
  "kernelspec": {
   "display_name": "Python 3 (ipykernel)",
   "language": "python",
   "name": "python3"
  },
  "language_info": {
   "codemirror_mode": {
    "name": "ipython",
    "version": 3
   },
   "file_extension": ".py",
   "mimetype": "text/x-python",
   "name": "python",
   "nbconvert_exporter": "python",
   "pygments_lexer": "ipython3",
   "version": "3.11.7"
  },
  "toc": {
   "base_numbering": 1,
   "nav_menu": {},
   "number_sections": true,
   "sideBar": true,
   "skip_h1_title": false,
   "title_cell": "Table of Contents",
   "title_sidebar": "Contents",
   "toc_cell": false,
   "toc_position": {},
   "toc_section_display": true,
   "toc_window_display": false
  }
 },
 "nbformat": 4,
 "nbformat_minor": 5
}
