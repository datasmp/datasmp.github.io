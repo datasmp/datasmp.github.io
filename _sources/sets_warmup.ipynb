{
 "cells": [
  {
   "cell_type": "markdown",
   "id": "e52c30a5-5b1a-4893-aefc-dac6ef639d5f",
   "metadata": {},
   "source": [
    "# Sets Warmup\n",
    "![Section Title: Sets Warm Up](title_pict/sets_warmup2.png)"
   ]
  },
  {
   "cell_type": "markdown",
   "id": "bceacdf0-b68a-482f-b5e1-16e61d7bdcf8",
   "metadata": {},
   "source": [
    "Coming Soon!"
   ]
  },
  {
   "cell_type": "code",
   "execution_count": null,
   "id": "a8d185ca-9c68-4ffb-92e3-25e940970d57",
   "metadata": {},
   "outputs": [],
   "source": []
  }
 ],
 "metadata": {
  "kernelspec": {
   "display_name": "Python 3 (ipykernel)",
   "language": "python",
   "name": "python3"
  },
  "language_info": {
   "codemirror_mode": {
    "name": "ipython",
    "version": 3
   },
   "file_extension": ".py",
   "mimetype": "text/x-python",
   "name": "python",
   "nbconvert_exporter": "python",
   "pygments_lexer": "ipython3",
   "version": "3.11.8"
  }
 },
 "nbformat": 4,
 "nbformat_minor": 5
}
