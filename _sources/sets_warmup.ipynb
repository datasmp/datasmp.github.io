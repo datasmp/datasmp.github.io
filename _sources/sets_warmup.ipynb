{
 "cells": [
  {
   "cell_type": "markdown",
   "id": "e52c30a5-5b1a-4893-aefc-dac6ef639d5f",
   "metadata": {},
   "source": [
    "# Sets Warmup\n",
    "![Section Title: Sets Warm Up](title_pict/sets_warmup2.png)"
   ]
  },
  {
   "cell_type": "markdown",
   "id": "bceacdf0-b68a-482f-b5e1-16e61d7bdcf8",
   "metadata": {},
   "source": [
    "## Warm Up Question-1\n",
    "Create a set that includes an integer, a decimal number, a string, and a boolean value."
   ]
  },
  {
   "cell_type": "markdown",
   "id": "2b01b10a-8b16-4357-9999-417c0be88355",
   "metadata": {},
   "source": [
    "## Warm Up Question-2\n",
    "Calculate the maximum value, minimum value, total sum, and the count of elements in the sequence of numbers \n",
    "9,3,1,7,4,2,8,76,10 using a set."
   ]
  },
  {
   "cell_type": "markdown",
   "id": "7638fef4-ed73-4beb-a387-e314f12e1602",
   "metadata": {},
   "source": [
    "## Warm Up Question-3\n",
    "Add three additional elements to this set: {4,6,1}."
   ]
  },
  {
   "cell_type": "markdown",
   "id": "5c17e3cf-fbfc-4f75-9a13-9998c3fe6715",
   "metadata": {},
   "source": [
    "## Warm Up Question-4\n",
    "Count the number of the unique values in the following  sequence: 4,2,8,3,3,9,3,3,5,6,7,8.\n"
   ]
  },
  {
   "cell_type": "markdown",
   "id": "81fcc3a1-d858-4dd6-af9a-27a7105a6354",
   "metadata": {},
   "source": [
    "## Warm Up Question-5\n",
    "Use the remove() method to delete 6 from the set {9,7,1,2,6,3,4,5,8,6}.\n"
   ]
  },
  {
   "cell_type": "markdown",
   "id": "e041a0ae-6771-4883-b2cf-1f6c77caf487",
   "metadata": {},
   "source": [
    "## Warm Up Question-6\n",
    "Calculate the sum of the odd numbers in this set: {5, 6, 1, 2, 3, 9, 8}\n"
   ]
  }
 ],
 "metadata": {
  "kernelspec": {
   "display_name": "Python 3 (ipykernel)",
   "language": "python",
   "name": "python3"
  },
  "language_info": {
   "codemirror_mode": {
    "name": "ipython",
    "version": 3
   },
   "file_extension": ".py",
   "mimetype": "text/x-python",
   "name": "python",
   "nbconvert_exporter": "python",
   "pygments_lexer": "ipython3",
   "version": "3.11.8"
  }
 },
 "nbformat": 4,
 "nbformat_minor": 5
}
