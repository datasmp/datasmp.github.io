{
 "cells": [
  {
   "cell_type": "markdown",
   "id": "83bac819-beda-40ef-a007-4d850350798e",
   "metadata": {},
   "source": [
    "# Numbers Exercises and Solutions"
   ]
  },
  {
   "cell_type": "markdown",
   "id": "24076788-124f-4c74-8b33-e5c577c449c8",
   "metadata": {},
   "source": [
    "## Question-1\n",
    "In a single line of code, compute $\\sqrt{\\sqrt{\\sqrt{625}}}$ and round it to the nearest hundredth.  \n",
    "\n",
    "**Solution**"
   ]
  },
  {
   "cell_type": "code",
   "execution_count": 6,
   "id": "36c9d9db-6eb9-403a-86da-aa47ee183c35",
   "metadata": {},
   "outputs": [
    {
     "data": {
      "text/plain": [
       "2.24"
      ]
     },
     "execution_count": 6,
     "metadata": {},
     "output_type": "execute_result"
    }
   ],
   "source": [
    "import math\n",
    "round(math.sqrt(math.sqrt(math.sqrt(625))),2)"
   ]
  },
  {
   "cell_type": "markdown",
   "id": "e65a3a77-67d2-4ef5-8076-386d6849f291",
   "metadata": {},
   "source": [
    "## Question-2\n",
    "Write a program that prompts the user for three numbers using three input functions. Assign the entered values to variables with the names x, y, and z.\n",
    "- Find $\\displaystyle f(x, y,z) = \\frac{5xy}{2+x^2}+\\frac{x+y+z}{y^4+x^2y^2}$\n",
    "- Round this value to the nearest hundredth and print the result in the following format.\n",
    "- Sample Output:  \n",
    "x:  1  \n",
    "y:  2  \n",
    "z:  3  \n",
    "f(1,2,3)=3.63        \n",
    "\n",
    "**Solution**"
   ]
  },
  {
   "cell_type": "markdown",
   "id": "cf29559d-434f-401d-8b6c-499618098865",
   "metadata": {
    "jp-MarkdownHeadingCollapsed": true
   },
   "source": [
    "``` python\n",
    "x = int(input('x: '))\n",
    "y = int(input('y: '))\n",
    "z = int(input('z: '))\n",
    "\n",
    "\n",
    "f_x_y_z = (5*x*y)/(2+x**2)+(x+y+z)/((y**4)+(x**2)*(y**2)) \n",
    "\n",
    "print('f(', x, ',' ,y, ',z)=', round(f_x_y_z,2), sep='')\n",
    "```"
   ]
  },
  {
   "cell_type": "markdown",
   "id": "df40ae8d-55e6-4bc3-b918-acc4dab02f98",
   "metadata": {},
   "source": [
    "## Question-3\n",
    "Write a program that prompts the user to enter their height using two input() functions for the feet and inch parts separately. Assign the entered values to variables named feet and inch.\n",
    "\n",
    "- Convert the given height into centimeters using the following conversion formulas: *1 foot = 12 inches* and *1 inch = 2.54 cm*\n",
    "\n",
    "- Sample Output:    \n",
    "Enter the feet part of your height: 6  \n",
    "Enter the inch part of your height: 4  \n",
    "6 feet and 4 inches = 193.04 cm\n",
    "  \n",
    "**Solution**"
   ]
  },
  {
   "cell_type": "markdown",
   "id": "e19d5658-d76f-4849-ade8-956d84b4ad93",
   "metadata": {},
   "source": [
    "``` python\n",
    "feet = int(input('Enter the feet part of your height:'))\n",
    "inch = int(input('Enter the inch part of your height:'))\n",
    "\n",
    "total_inch =12*feet+inch\n",
    "centimeter = round(total_inch*2.54, 2)\n",
    "\n",
    "print(str(feet)+' feet and ' + str(inch) +' inches = '+ str(centimeter) +' cm'   )\n",
    "```"
   ]
  },
  {
   "cell_type": "markdown",
   "id": "1b201fd9-a839-4f46-938a-6e0c32c07469",
   "metadata": {},
   "source": [
    "## Question-4\n",
    "\n",
    "  \n",
    " \n",
    "**Solution**"
   ]
  },
  {
   "cell_type": "code",
   "execution_count": null,
   "id": "34d78c2a-c7c1-4005-933e-09b310b87ab4",
   "metadata": {},
   "outputs": [],
   "source": []
  },
  {
   "cell_type": "markdown",
   "id": "9c687911-d046-406a-ab5c-8636075e9b49",
   "metadata": {},
   "source": [
    "## Question-5\n",
    "\n",
    "**Solution**"
   ]
  },
  {
   "cell_type": "code",
   "execution_count": null,
   "id": "ac684478-e790-4939-b449-cb1f699da62b",
   "metadata": {},
   "outputs": [],
   "source": []
  },
  {
   "cell_type": "markdown",
   "id": "d656cb71-6590-4021-9a6e-b75807507cd1",
   "metadata": {},
   "source": [
    "## Question-6\n",
    "\n",
    "\n",
    "**Solution**"
   ]
  },
  {
   "cell_type": "code",
   "execution_count": null,
   "id": "09fbbba6-f769-4f5c-b989-e253f7a60c68",
   "metadata": {},
   "outputs": [],
   "source": []
  },
  {
   "cell_type": "markdown",
   "id": "e58e91ec-ebe6-424f-9f5c-9f43cc05f4d3",
   "metadata": {},
   "source": [
    "## Question-7\n",
    "\n",
    "\n",
    "**Solution**"
   ]
  },
  {
   "cell_type": "code",
   "execution_count": null,
   "id": "995a9b26-f290-4dfd-9fcb-14e537b97a1e",
   "metadata": {},
   "outputs": [],
   "source": []
  },
  {
   "cell_type": "markdown",
   "id": "f2c755db-0b2f-4bd7-a0c6-c54a4472b042",
   "metadata": {},
   "source": [
    "## Question-8\n",
    "\n",
    "\n",
    "\n",
    "**Solution**"
   ]
  },
  {
   "cell_type": "code",
   "execution_count": null,
   "id": "8a59f52f-c3fd-420e-9b6c-98baaea1a39e",
   "metadata": {},
   "outputs": [],
   "source": []
  },
  {
   "cell_type": "code",
   "execution_count": null,
   "id": "27cf7a14-0bf5-44bd-97e0-3f7394984d67",
   "metadata": {},
   "outputs": [],
   "source": []
  },
  {
   "cell_type": "code",
   "execution_count": null,
   "id": "89c73fa7-4769-464b-aa4a-5f28327842bb",
   "metadata": {},
   "outputs": [],
   "source": []
  },
  {
   "cell_type": "code",
   "execution_count": null,
   "id": "864d0edd-3992-445c-8695-408ce26685d7",
   "metadata": {},
   "outputs": [],
   "source": []
  }
 ],
 "metadata": {
  "kernelspec": {
   "display_name": "Python 3 (ipykernel)",
   "language": "python",
   "name": "python3"
  },
  "language_info": {
   "codemirror_mode": {
    "name": "ipython",
    "version": 3
   },
   "file_extension": ".py",
   "mimetype": "text/x-python",
   "name": "python",
   "nbconvert_exporter": "python",
   "pygments_lexer": "ipython3",
   "version": "3.11.7"
  }
 },
 "nbformat": 4,
 "nbformat_minor": 5
}
