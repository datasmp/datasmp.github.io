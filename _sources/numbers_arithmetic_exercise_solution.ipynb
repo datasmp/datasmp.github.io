{
 "cells": [
  {
   "cell_type": "markdown",
   "id": "83bac819-beda-40ef-a007-4d850350798e",
   "metadata": {},
   "source": [
    "# Numbers Exercises and Solutions"
   ]
  },
  {
   "cell_type": "markdown",
   "id": "bd2c2357-e594-43ab-87eb-8aed6425f77a",
   "metadata": {},
   "source": [
    "## Warm Up Question\n",
    "Write a code to compute $2\\times(3+4)-2^3$."
   ]
  },
  {
   "cell_type": "code",
   "execution_count": 6,
   "id": "1b0bfc10-6f3b-4be7-9732-fe229e24ec31",
   "metadata": {},
   "outputs": [
    {
     "name": "stdout",
     "output_type": "stream",
     "text": [
      "6\n"
     ]
    }
   ],
   "source": [
    "print(2*(3+4)-2**3)"
   ]
  },
  {
   "cell_type": "markdown",
   "id": "cd2e53aa-282f-426b-95aa-3689663a01d3",
   "metadata": {},
   "source": [
    "## Warm Up Question\n",
    "Write a code to compute $\\sqrt{36}$."
   ]
  },
  {
   "cell_type": "code",
   "execution_count": 10,
   "id": "fcd59016-b253-413b-8fd7-38469bd76a9f",
   "metadata": {},
   "outputs": [
    {
     "data": {
      "text/plain": [
       "6.0"
      ]
     },
     "execution_count": 10,
     "metadata": {},
     "output_type": "execute_result"
    }
   ],
   "source": [
    "import math\n",
    "math.sqrt(36)"
   ]
  },
  {
   "cell_type": "markdown",
   "id": "2d278b25-b9ee-4357-82cd-1bf54328c6f8",
   "metadata": {},
   "source": [
    "## Warm Up Question\n",
    "Write a program to display the last two digits of 1234 using the remainder operator."
   ]
  },
  {
   "cell_type": "markdown",
   "id": "680c8781-0f35-4aea-bed7-a6afad20a1ab",
   "metadata": {},
   "source": [
    "## Warm Up Question\n",
    "Determine the output of the code below and provide an explanation.\n",
    "``` python\n",
    "x = 10\n",
    "x = x*2\n",
    "print(x)"
   ]
  },
  {
   "cell_type": "code",
   "execution_count": 15,
   "id": "11abe8aa-6a88-4ccd-aee2-9e633d7ca8e7",
   "metadata": {},
   "outputs": [
    {
     "name": "stdout",
     "output_type": "stream",
     "text": [
      "20\n"
     ]
    }
   ],
   "source": [
    "x = 10\n",
    "x = x*2\n",
    "print(x)"
   ]
  },
  {
   "cell_type": "markdown",
   "id": "9ef18e94-fa36-4e3b-a658-6b5152362434",
   "metadata": {},
   "source": [
    "## Warm Up Question\n",
    "Determine the output of the code below and provide an explanation.\n",
    "``` python\n",
    "x = 25\n",
    "x //= 6\n",
    "print(x)"
   ]
  },
  {
   "cell_type": "code",
   "execution_count": 17,
   "id": "62659d4d-70f3-4a8f-ae96-0269c54677b1",
   "metadata": {},
   "outputs": [
    {
     "name": "stdout",
     "output_type": "stream",
     "text": [
      "4\n"
     ]
    }
   ],
   "source": [
    "x = 25\n",
    "x //= 6\n",
    "print(x)"
   ]
  },
  {
   "cell_type": "markdown",
   "id": "e36c0b04-7947-4d53-a6ac-ec63e79f3d52",
   "metadata": {},
   "source": [
    "## Warm Up Question\n",
    "Write a program that prompts the user for a 4-digit positive number then print the tens digit of that number."
   ]
  },
  {
   "cell_type": "code",
   "execution_count": 6,
   "id": "c42e1ad7-6321-45fb-8892-afe221e26685",
   "metadata": {},
   "outputs": [
    {
     "name": "stdout",
     "output_type": "stream",
     "text": [
      "3\n"
     ]
    }
   ],
   "source": [
    "number = 9734\n",
    "print((number//10)%10)"
   ]
  },
  {
   "cell_type": "markdown",
   "id": "8ad633fd-bb27-4ea8-8234-604b539b8791",
   "metadata": {},
   "source": [
    "## Warm Up Question\n",
    "Write a program that prompts the user for a 4-digit positive number then print the hundreds digit of that number."
   ]
  },
  {
   "cell_type": "code",
   "execution_count": 4,
   "id": "12f1e3b6-3ebb-4ee8-b048-9dbf0feed749",
   "metadata": {},
   "outputs": [
    {
     "name": "stdout",
     "output_type": "stream",
     "text": [
      "7\n"
     ]
    }
   ],
   "source": [
    "number = 9734\n",
    "print((number//100)%10)"
   ]
  },
  {
   "cell_type": "markdown",
   "id": "ad65fdf3-bf06-42c5-a265-4dbff1a86ffd",
   "metadata": {},
   "source": [
    "## Warm Up Question\n",
    "Write a program that prompts the user for a 4-digit positive number then print the thousands digit of that number."
   ]
  },
  {
   "cell_type": "code",
   "execution_count": 8,
   "id": "5a8e966a-1d86-4889-90f2-d537f05d50ee",
   "metadata": {},
   "outputs": [
    {
     "name": "stdout",
     "output_type": "stream",
     "text": [
      "9\n"
     ]
    }
   ],
   "source": [
    "number = 9734\n",
    "print(number//1000)"
   ]
  },
  {
   "cell_type": "markdown",
   "id": "24076788-124f-4c74-8b33-e5c577c449c8",
   "metadata": {},
   "source": [
    "## Question-1\n",
    "In a single line of code, compute $\\sqrt{\\sqrt{\\sqrt{625}}}$ and round it to the nearest hundredth.  \n",
    "\n",
    "**Solution**"
   ]
  },
  {
   "cell_type": "code",
   "execution_count": 1,
   "id": "36c9d9db-6eb9-403a-86da-aa47ee183c35",
   "metadata": {},
   "outputs": [
    {
     "data": {
      "text/plain": [
       "2.24"
      ]
     },
     "execution_count": 1,
     "metadata": {},
     "output_type": "execute_result"
    }
   ],
   "source": [
    "import math\n",
    "round(math.sqrt(math.sqrt(math.sqrt(625))),2)"
   ]
  },
  {
   "cell_type": "markdown",
   "id": "c223c9ae-185c-4fdb-ac16-5702326b0c25",
   "metadata": {},
   "source": [
    "## Question-2\n",
    "In a single line of code, compute $\\displaystyle  |ln( 2^{sin(|-100|)})|$ and round it to the nearest hundredth.\n",
    "\n",
    "**Solution**"
   ]
  },
  {
   "cell_type": "code",
   "execution_count": 2,
   "id": "ac684478-e790-4939-b449-cb1f699da62b",
   "metadata": {},
   "outputs": [
    {
     "data": {
      "text/plain": [
       "0.35"
      ]
     },
     "execution_count": 2,
     "metadata": {},
     "output_type": "execute_result"
    }
   ],
   "source": [
    "import math\n",
    "round(abs(math.log(2**(math.sin(abs(-100))))),2)"
   ]
  },
  {
   "cell_type": "markdown",
   "id": "e65a3a77-67d2-4ef5-8076-386d6849f291",
   "metadata": {},
   "source": [
    "## Question-3\n",
    "Write a program that prompts the user for three numbers using three input functions. Assign the entered values to variables with the names x, y, and z.\n",
    "- Find $\\displaystyle f(x, y,z) = \\frac{5xy}{2+x^2}+\\frac{x+y+z}{y^4+x^2y^2}$\n",
    "- Round this value to the nearest hundredth and print the result in the following format.\n",
    "- Sample Output:  \n",
    "x:  1  \n",
    "y:  2  \n",
    "z:  3  \n",
    "f(1,2,3)=3.63        \n",
    "\n",
    "**Solution**"
   ]
  },
  {
   "cell_type": "markdown",
   "id": "cf29559d-434f-401d-8b6c-499618098865",
   "metadata": {
    "jp-MarkdownHeadingCollapsed": true
   },
   "source": [
    "``` python\n",
    "x = int(input('x: '))\n",
    "y = int(input('y: '))\n",
    "z = int(input('z: '))\n",
    "\n",
    "\n",
    "f_x_y_z = (5*x*y)/(2+x**2)+(x+y+z)/((y**4)+(x**2)*(y**2)) \n",
    "\n",
    "print('f(', x, ',' ,y, ',z)=', round(f_x_y_z,2), sep='')\n",
    "```"
   ]
  },
  {
   "cell_type": "markdown",
   "id": "df40ae8d-55e6-4bc3-b918-acc4dab02f98",
   "metadata": {},
   "source": [
    "## Question-4\n",
    "Write a program that prompts the user to enter their height using two input() functions for the feet and inch parts separately. Assign the entered values to variables named feet and inch.\n",
    "\n",
    "- Convert the given height into centimeters using the following conversion formulas: *1 foot = 12 inches* and *1 inch = 2.54 cm*\n",
    "\n",
    "- Sample Output:    \n",
    "Enter the feet part of your height: 6  \n",
    "Enter the inch part of your height: 4  \n",
    "6 feet and 4 inches = 193.04 cm\n",
    "  \n",
    "**Solution**"
   ]
  },
  {
   "cell_type": "markdown",
   "id": "e19d5658-d76f-4849-ade8-956d84b4ad93",
   "metadata": {},
   "source": [
    "``` python\n",
    "feet = int(input('Enter the feet part of your height:'))\n",
    "inch = int(input('Enter the inch part of your height:'))\n",
    "\n",
    "total_inch =12*feet+inch\n",
    "centimeter = round(total_inch*2.54, 2)\n",
    "\n",
    "print(str(feet)+' feet and ' + str(inch) +' inches = '+ str(centimeter) +' cm'   )\n",
    "```"
   ]
  },
  {
   "cell_type": "markdown",
   "id": "1b201fd9-a839-4f46-938a-6e0c32c07469",
   "metadata": {},
   "source": [
    "## Question-5\n",
    "\n",
    "Write a program that prompts the user for a 4-digit positive number. Swap the first two digits of the given number with the last two digits and print it.\n",
    "- Do not use string indexing that will be covered in the next chapter.\n",
    "- Example 1: If the given number is 1234, then print 3412.\n",
    "    - Print format: 1234 ---- swap---> 3412\n",
    "- Example 2: If the given number is 6789, then print 8967.\n",
    "    - Print format: 6789 ---- swap---> 8967"
   ]
  },
  {
   "cell_type": "markdown",
   "id": "f9c0d01c-f165-4d39-80ff-3d9f83bd7c04",
   "metadata": {},
   "source": [
    "**Solution-1**\n",
    "```python\n",
    "number = int(input('Please enter a four digit number:'))\n",
    "\n",
    "first_two_digit = number//100\n",
    "last_two_digit  = number%100\n",
    "\n",
    "result_str = str(last_two_digit) + str(first_two_digit)  \n",
    "\n",
    "print(number, '---- swap --->',result_str )\n",
    "```"
   ]
  },
  {
   "cell_type": "markdown",
   "id": "9a3e2b58-d5f6-44ca-8062-bc45798e4509",
   "metadata": {},
   "source": [
    "**Solution-2**\n",
    "\n",
    "``` python\n",
    "number = int(input('Please enter a four digit number:'))\n",
    "\n",
    "first_two_digit = number//100\n",
    "last_two_digit  = number%100\n",
    "\n",
    "result_num = last_two_digit*100 + first_two_digit\n",
    "\n",
    "print(number, '---- swap --->',result_num )\n",
    "```"
   ]
  },
  {
   "cell_type": "markdown",
   "id": "d656cb71-6590-4021-9a6e-b75807507cd1",
   "metadata": {},
   "source": [
    "## Question-6: Distance \n",
    "In a coordinate plane, each point is represented by its x and y components in the form of $(x,y)$.  \n",
    "The distance between two points $P=(x_1,y_1)$ and $Q=(x_2,y_2)$ is given by the following distance formula:  \n",
    "- $\\displaystyle dist(P,Q) = \\sqrt{(x_2-x_1)^2+(y_2-y_1)^2}$\n",
    "   \n",
    "Write a program that prompts the user for the x and y components of a point using two *input()* functions and computes the distance between the given point and the point $(-5,6)$.\n",
    "- Round the distance to the nearest hundredth.\n",
    "\n",
    "Sample Output:  \n",
    "Enter the x-component of the point: -2  \n",
    "Enter the y-component of the point: 10  \n",
    "The distance between (-5,6) and (-2.0,10.0) is 5.0\n",
    "\n",
    "**Solution**"
   ]
  },
  {
   "cell_type": "markdown",
   "id": "acdc7851-7130-4b38-9de8-76cd0c169c0c",
   "metadata": {},
   "source": [
    "``` python\n",
    "import math\n",
    "\n",
    "x1, y1 = -5, 6\n",
    "\n",
    "x2 = float(input('Enter the x-component of the point:'))\n",
    "y2 = float(input('Enter the y-component of the point:'))\n",
    "\n",
    "dist = math.sqrt((x2-x1)**2+(y2-y1)**2)\n",
    "\n",
    "print('The distance between (' + str(x1) +','+ str(y1) +') and (' + str(x2) +','+ str(y2) +') is ' + str(round(dist,2)))\n",
    "```"
   ]
  },
  {
   "cell_type": "markdown",
   "id": "2f9572e5-099f-427f-bb73-58eee96a37a1",
   "metadata": {},
   "source": [
    "## Question-7: Midpoint \n",
    "In a coordinate plane, each point is represented by its x and y components in the form of $(x,y)$.  \n",
    "The midpoint $(x_m, y_m)$ between two points $P=(x_1,y_1)$ and $Q=(x_2,y_2)$ is given by the following midpoint formula:  \n",
    "- $\\displaystyle x_m = \\frac{x_2+x_1}{2}, y_m = \\frac{y_2+y_1}{2}$\n",
    "   \n",
    "Write a program that prompts the user for the x and y components of a point using two *input()* functions, and computes the x and y components of the midpoint between the given point and the point $(-5,6)$\n",
    "\n",
    "Sample Output:    \n",
    "Enter the x-component of the point: 3  \n",
    "Enter the y-component of the point: 5  \n",
    "The midpoint between (-5,6) and (3.0,5.0) is (-1.0,5.5).  "
   ]
  },
  {
   "cell_type": "markdown",
   "id": "d4cb75e9-1560-41d2-a304-e3c3c96eaca6",
   "metadata": {},
   "source": [
    "**Solution**\n",
    "\n",
    "``` python\n",
    "import math\n",
    "\n",
    "x1, y1 = -5, 6\n",
    "\n",
    "x2 = float(input('Enter the x-component of the point:'))\n",
    "y2 = float(input('Enter the y-component of the point:'))\n",
    "\n",
    "xm, ym = (x2+x1)/2, (y2+y1)/2 \n",
    "\n",
    "print('The midpoint between ('+str(x1)+','+str(y1)+') and ('+str(x2)+','+str(y2)+') is ('+str(xm)+','+ str(ym) +').')\n",
    "```"
   ]
  },
  {
   "cell_type": "markdown",
   "id": "7c760d95-d9d7-474c-84c9-6ad4b2bf8856",
   "metadata": {},
   "source": [
    "## Question-8: Pythagorean\n",
    "\n",
    "The Pythagorean Theorem states that for a right triangle with sides $a$, $b$, and $c$ where $c$ is the hypotenuse: $\\displaystyle c = \\sqrt{a^2+b^2}.$\n",
    "\n",
    "- Write a program that prompts the user for the sides of a right triangle using two *input()* functions, and computes the length of the hypotenuse.\n",
    "- Round the hypotenuse to the nearest hundredth.\n",
    "\n",
    "Sample Output:  \n",
    "Enter the length of the first  side: 4  \n",
    "Enter the length of the second side: 8  \n",
    "The length of the hypotenuse: 8.94"
   ]
  },
  {
   "cell_type": "markdown",
   "id": "c12dfdcf-1b3e-41db-b080-5e616e8d3f32",
   "metadata": {},
   "source": [
    "**Solution**\n",
    "\n",
    "``` python\n",
    "import math\n",
    "\n",
    "a = float(input('Enter the length of the first  side:'))\n",
    "b = float(input('Enter the length of the second side:'))\n",
    "\n",
    "c = math.sqrt(a**2+b**2) \n",
    "\n",
    "print('The length of the hypotenuse:', round(c,2))\n",
    "```"
   ]
  },
  {
   "cell_type": "markdown",
   "id": "a1b39a2c-69d7-40e1-b887-b15cf7221335",
   "metadata": {},
   "source": [
    "## Question-9: Degrees to Radians\n",
    "An angle in degrees is converted to radians using the following formula: $\\displaystyle R = \\frac{\\pi}{180} \\cdot D$.\n",
    "- Write a program that prompts the user for an angle in degrees using an *input()* function, converts it to radians, and rounds it to the nearest hundredth.\n",
    "- Use the conversion formula provided above, and also the *math.radians()* function to compare the results.\n",
    "  \n",
    "Sample Output:  \n",
    "Enter the angle in degrees: 120  \n",
    "120.0 degrees is 2.09 using the formula.  \n",
    "120.0 degrees is 2.09 using the math.radians() functions.  "
   ]
  },
  {
   "cell_type": "markdown",
   "id": "32ce5dbe-7a24-4136-8ce5-dd9bbf18fe77",
   "metadata": {},
   "source": [
    "**Solution**\n",
    "\n",
    "``` python\n",
    "import math\n",
    "\n",
    "D = float(input('Enter the angle in degrees:'))\n",
    "\n",
    "R1 = round(math.pi*D/180,2)\n",
    "R2 = round(math.radians(D),2)\n",
    "\n",
    "print(str(D) + ' degrees is ' + str(R1) + ' using the formula.')\n",
    "print(str(D) + ' degrees is ' + str(R2) + ' using the math.radians() functions.')\n",
    "```"
   ]
  },
  {
   "cell_type": "markdown",
   "id": "eacee835-b93a-4afb-a146-cf157039b491",
   "metadata": {},
   "source": [
    "## Question-10: Law of Cosines\n",
    "\n",
    "The Law of Cosines states that for a triangle with sides $a$, $b$, and the angle $\\gamma$ between these two sides:\n",
    "\n",
    "$\\displaystyle c = \\sqrt{a^2+b^2-2ab \\cdot \\cos(\\gamma)}$,\n",
    "\n",
    "where $c$ is the length of the third side of the triangle corresponding to the angle $\\gamma$.\n",
    "\n",
    "- Write a program that prompts the user for two sides of a triangle and the angle between them in degrees using three *input()* functions, and computes the length of the third side $c$.\n",
    "- Round $c$ to the nearest hundredth.\n",
    "- The *math.cos()* function takes the angle in radians. You need to convert the given angle in degrees to radians before using it.\n",
    "\n",
    "Sample Output:    \n",
    "Enter the length of the first  side               : 6  \n",
    "Enter the length of the second side               : 3  \n",
    "Enter the angle between these two sides in degrees: 70  \n",
    "The length of the third side: 5.72  \n"
   ]
  },
  {
   "cell_type": "markdown",
   "id": "9a09d046-01d6-4371-baa1-362af64eb9f6",
   "metadata": {},
   "source": [
    "**Solution**\n",
    "\n",
    "``` python\n",
    "import math\n",
    "\n",
    "a         = float(input('Enter the length of the first  side               :'))\n",
    "b         = float(input('Enter the length of the second side               :'))\n",
    "gamma_deg = float(input('Enter the angle between these two sides in degrees:'))\n",
    "\n",
    "gamma_rad = math.radians(gamma_deg)\n",
    "c = math.sqrt(a**2+b**2-2*a*b*math.cos(gamma_rad)) \n",
    "\n",
    "\n",
    "print('The length of the third side:', round(c,2))\n",
    "```"
   ]
  },
  {
   "cell_type": "markdown",
   "id": "470ac436-7b32-4951-807f-32d24fe03e15",
   "metadata": {},
   "source": [
    "## Question-11: Rational Function\n",
    "Write a program that prompts the user for a number. Assign the entered value to variable with the name x.\n",
    "- Find $\\displaystyle f(x) = \\frac{x^3-2x}{x+6}$\n",
    "- Round this value to the nearest hundredth and print the result in the following format.\n",
    "- Sample Output:  \n",
    "x: 10      \n",
    "f(10)=61.25        \n",
    "\n",
    "**Solution**"
   ]
  },
  {
   "cell_type": "markdown",
   "id": "7672193a-740b-4d50-9299-d6660610954d",
   "metadata": {
    "jp-MarkdownHeadingCollapsed": true
   },
   "source": [
    "``` python\n",
    "x = int(input('x: '))\n",
    "\n",
    "f_x = (x**3-2*x)/(x+6) \n",
    "\n",
    "print('f(', x, ')=', round(f_x,2), sep='')\n",
    "```"
   ]
  },
  {
   "cell_type": "markdown",
   "id": "ad87c112-3de7-4912-b302-729845ec86ac",
   "metadata": {},
   "source": [
    "## Business Applications"
   ]
  },
  {
   "cell_type": "markdown",
   "id": "358e216b-1573-43b1-b527-8d4bd3768644",
   "metadata": {},
   "source": [
    "### Question: Ordinary Annuity\n",
    "An ordinary annuity is an interest earning account where you make equal payments at the end of each compounding period.\n",
    "\n",
    "The future value of an ordinary annuity is given by the following formula.\n",
    "\n",
    "$\\displaystyle  A = R \\left( \\frac{(1+\\frac{r}{m})^{mt}-1}{\\frac{r}{m}}  \\right)$\n",
    "\n",
    "where,\n",
    "\n",
    "- $A$: Future value\n",
    "- $R$: regular payment\n",
    "- $r$: annual interest rate\n",
    "- $m$: number of payments in a year\n",
    "- $t$: number of years\n",
    "\n",
    "If you deposit 200 dollars every month into an account earning 5.25% interest per year, compounded monthly, how much money will you have saved after 30 years? Round this value to the nearest hundredth. \n",
    "\n",
    "Hint:\n",
    "- Use the variables $R, r, m, t$  for the given values.\n",
    "- Calculate the value of the variable $A$.\n",
    "- To avoid mistakes, you can calculate the numerator and denominator of $A$ separately."
   ]
  },
  {
   "cell_type": "code",
   "execution_count": 4,
   "id": "9e93b790-93b9-494f-9efb-0e7f701df713",
   "metadata": {},
   "outputs": [
    {
     "name": "stdout",
     "output_type": "stream",
     "text": [
      "A: 174362.29\n"
     ]
    }
   ],
   "source": [
    "R = 200\n",
    "r = 0.0525\n",
    "m = 12\n",
    "t = 30\n",
    "\n",
    "num = (1+r/m)**(m*t) -1 \n",
    "den = r/m\n",
    "\n",
    "A = R*num/den\n",
    "print('A:', round(A,2))"
   ]
  },
  {
   "cell_type": "markdown",
   "id": "0a8495d5-e83e-4d2c-b93f-87ebfa53eca9",
   "metadata": {},
   "source": [
    "### Question: Amortized Loan-1\n",
    "Amortization is paying off a loan by making equal payments.\n",
    "\n",
    "The present value of an amortized loan is given by the following formula.\n",
    "\n",
    "$\\displaystyle  P = R \\left( \\frac{1-(1+\\frac{r}{m})^{-mt}}{\\frac{r}{m}}  \\right)$\n",
    "\n",
    "where,\n",
    "\n",
    "- $P$: Present value\n",
    "- $R$: regular payment\n",
    "- $r$: annual interest rate\n",
    "- $m$: number of payments in a year\n",
    "- $t$: number of years\n",
    "\n",
    "If you can make monthly payments of 350 dollars for 3 years at an annual interest rate of 9%, what is the present value of the loan you can take out? Round this value to the nearest hundredth. \n",
    "\n",
    "Hint:\n",
    "- Use the variables $R, r, m, t$  for the given values.\n",
    "- Calculate the value of the variable $P$.\n",
    "- To avoid mistakes, you can calculate the numerator and denominator of right hand side separately."
   ]
  },
  {
   "cell_type": "code",
   "execution_count": 5,
   "id": "abad2070-cee3-4b3a-979f-083fa942f89f",
   "metadata": {},
   "outputs": [
    {
     "name": "stdout",
     "output_type": "stream",
     "text": [
      "P: 11006.38\n"
     ]
    }
   ],
   "source": [
    "R = 350\n",
    "r = 0.09\n",
    "m = 12\n",
    "t = 3\n",
    "\n",
    "num = 1-(1+r/m)**(-m*t) \n",
    "den = r/m\n",
    "\n",
    "P = R*(num/den)\n",
    "print('P:', round(P,2))"
   ]
  },
  {
   "cell_type": "markdown",
   "id": "aedc464e-eb87-4f24-8caf-cd32e05b0aab",
   "metadata": {},
   "source": [
    "### Question: Amortized Loan-2\n",
    "If you take out an 80,000 dollars loan to buy a truck with an annual interest rate of 6%, to be paid off over 5 years, what is the monthly payment? Round this value to the nearest hundredth. \n",
    "\n",
    "Hint:\n",
    "- Use the variables $P, r, m, t$  for the given values.\n",
    "- Calculate the value of the variable $R$."
   ]
  },
  {
   "cell_type": "code",
   "execution_count": 6,
   "id": "66943ab8-62b5-46a9-a143-4cf15be2a8fc",
   "metadata": {},
   "outputs": [
    {
     "name": "stdout",
     "output_type": "stream",
     "text": [
      "R: 1546.62\n"
     ]
    }
   ],
   "source": [
    "P = 80_000\n",
    "r = 0.06\n",
    "m = 12\n",
    "t = 5\n",
    "\n",
    "num = 1-(1+r/m)**(-m*t) \n",
    "den = r/m\n",
    "\n",
    "R = P/(num/den)\n",
    "print('R:', round(R,2))"
   ]
  },
  {
   "cell_type": "code",
   "execution_count": null,
   "id": "ef313bfd-7445-4563-9df0-ffe5d356bef2",
   "metadata": {},
   "outputs": [],
   "source": []
  }
 ],
 "metadata": {
  "kernelspec": {
   "display_name": "Python 3 (ipykernel)",
   "language": "python",
   "name": "python3"
  },
  "language_info": {
   "codemirror_mode": {
    "name": "ipython",
    "version": 3
   },
   "file_extension": ".py",
   "mimetype": "text/x-python",
   "name": "python",
   "nbconvert_exporter": "python",
   "pygments_lexer": "ipython3",
   "version": "3.11.8"
  }
 },
 "nbformat": 4,
 "nbformat_minor": 5
}
