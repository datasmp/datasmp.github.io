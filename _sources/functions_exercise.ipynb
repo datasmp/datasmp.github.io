{
 "cells": [
  {
   "cell_type": "markdown",
   "id": "e52c30a5-5b1a-4893-aefc-dac6ef639d5f",
   "metadata": {},
   "source": [
    "# Functions Exercises"
   ]
  },
  {
   "cell_type": "markdown",
   "id": "63a95ac8-5f04-44d2-b37d-ad23f924276b",
   "metadata": {},
   "source": [
    "## Question-1\n",
    "Write a function that takes two numbers as parameters and returns the results of the four basic operations. \n",
    "- If the second number is zero for division, print a warning message about division by zero.\n",
    "- Round the result of the division to the nearest hundredth.\n",
    "\n",
    "**Sample Output:**  alg_operation(3,7)    \n",
    "\n",
    "3 + 7 = 10  \n",
    "3 - 7 = -4  \n",
    "3 x 7 = 21  \n",
    "3 / 7 = 0.43  "
   ]
  },
  {
   "cell_type": "markdown",
   "id": "5c029b61-c698-43a4-9678-2fda6929ffca",
   "metadata": {},
   "source": [
    "## Question-2\n",
    "Write a function that takes a number as its input and returns the first corresponding number of lowercase letters from the alphabet. \n",
    "- If the input number exceeds the total number of letters in the alphabet, the function returns all letters.\n",
    "-  If the input is zero or negative, it returns an empty string.\n",
    "\n",
    "**Sample Output**\n",
    "\n",
    "print(letter_func(4))    \n",
    "abcd\n",
    "\n",
    "print(letter_func(-5))    \n",
    "(No Output)  \n",
    "\n",
    "print(letter_func(40))  \n",
    "abcdefghijklmnopqrstuvwxyz"
   ]
  },
  {
   "cell_type": "markdown",
   "id": "ebf12ca3-020c-44a6-b154-e1bfda2f74d2",
   "metadata": {},
   "source": [
    "## Question-3\n",
    "Write a function that takes four parameters: the (x, y) coordinates of two points, A and B.\n",
    "- Plot a red line connecting these two points on a graph.\n",
    "- Label points A and B by adding texts next to each point.\n",
    "- Calculate the distance between these points and display it as text in the middle of the line.\n",
    "- Rotate the text for better visibility.\n",
    "\n",
    "**Sample Output**\n",
    "\n",
    "![](pict/plot_dist.png)"
   ]
  },
  {
   "cell_type": "markdown",
   "id": "b8b4af4f-8f17-4a4d-beb3-4ff3fe208caa",
   "metadata": {},
   "source": [
    "## Question-4\n",
    "Select a 4-digit password. Then, write a function that takes a 4-digit number as its parameter.\n",
    "- If the provided number is within 10 units of the chosen password, the function should print a message granting permission to enter; otherwise, it should print a message denying entrance.\n",
    "\n",
    "**Sample Output**\n",
    "\n",
    "password_check(1234)  \n",
    "DENY!   \n",
    "\n",
    "password_check(4325)    \n",
    "ACCEPT!  "
   ]
  },
  {
   "cell_type": "markdown",
   "id": "cd358a89-a3d7-4e2c-b9c9-5dda19369b58",
   "metadata": {},
   "source": [
    "## Question-5\n",
    "Write a function that takes a parameter representing the number of points to plot in green. \n",
    "- This function should generate random points, each with random sizes and transparencies, and plot them on a graph.\n",
    "- The sizes of the points should be integers ranging from 5 to 800.\n",
    "- The transparencies should be decimal numbers between 0 and 1.\n",
    "- The x and y coordinates of the points should be decimal numbers ranging from 5 to 10.\n",
    "\n",
    "**Sample Output**\n",
    "\n",
    "![](pict/plot_rand_points.png)"
   ]
  },
  {
   "cell_type": "code",
   "execution_count": null,
   "id": "e6daece2-fff7-46a4-891e-886354b4b795",
   "metadata": {},
   "outputs": [],
   "source": []
  }
 ],
 "metadata": {
  "kernelspec": {
   "display_name": "Python 3 (ipykernel)",
   "language": "python",
   "name": "python3"
  },
  "language_info": {
   "codemirror_mode": {
    "name": "ipython",
    "version": 3
   },
   "file_extension": ".py",
   "mimetype": "text/x-python",
   "name": "python",
   "nbconvert_exporter": "python",
   "pygments_lexer": "ipython3",
   "version": "3.11.7"
  }
 },
 "nbformat": 4,
 "nbformat_minor": 5
}
