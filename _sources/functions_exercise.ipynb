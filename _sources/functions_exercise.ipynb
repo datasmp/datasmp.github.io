{
 "cells": [
  {
   "cell_type": "markdown",
   "id": "e52c30a5-5b1a-4893-aefc-dac6ef639d5f",
   "metadata": {},
   "source": [
    "# Functions Exercises\n",
    "![](title_pict/functions_exercises2.png)\n"
   ]
  },
  {
   "cell_type": "markdown",
   "id": "63a95ac8-5f04-44d2-b37d-ad23f924276b",
   "metadata": {},
   "source": [
    "## Question-1: Algebraic Operations\n",
    "Write a function that takes two numbers as parameters and returns the results of the four basic operations. \n",
    "- If the second number is zero for division, print a warning message about division by zero.\n",
    "- Round the result of the division to the nearest hundredth.\n",
    "\n",
    "**Sample Output:**  alg_operation(3,7)    \n",
    "\n",
    "3 + 7 = 10  \n",
    "3 - 7 = -4  \n",
    "3 x 7 = 21  \n",
    "3 / 7 = 0.43  "
   ]
  },
  {
   "cell_type": "markdown",
   "id": "5c029b61-c698-43a4-9678-2fda6929ffca",
   "metadata": {},
   "source": [
    "## Question-2: Letters\n",
    "Write a function that takes a number as its input and returns the first corresponding number of lowercase letters from the alphabet. \n",
    "- If the input number exceeds the total number of letters in the alphabet, the function returns all letters.\n",
    "-  If the input is zero or negative, it returns an empty string.\n",
    "\n",
    "**Sample Output**\n",
    "\n",
    "print(letter_func(4))    \n",
    "abcd\n",
    "\n",
    "print(letter_func(-5))    \n",
    "(No Output)  \n",
    "\n",
    "print(letter_func(40))  \n",
    "abcdefghijklmnopqrstuvwxyz"
   ]
  },
  {
   "cell_type": "markdown",
   "id": "ebf12ca3-020c-44a6-b154-e1bfda2f74d2",
   "metadata": {},
   "source": [
    "## Question-3: Distance\n",
    "Write a function that takes four parameters: the (x, y) coordinates of two points, A and B.\n",
    "- Plot a red line connecting these two points on a graph.\n",
    "- Label points A and B by adding texts next to each point.\n",
    "- Calculate the distance between these points and display it as text in the middle of the line.\n",
    "- Rotate the text for better visibility.\n",
    "\n",
    "**Sample Output**\n",
    "\n",
    "![](pict/plot_dist.png)"
   ]
  },
  {
   "cell_type": "markdown",
   "id": "b8b4af4f-8f17-4a4d-beb3-4ff3fe208caa",
   "metadata": {},
   "source": [
    "## Question-4: Password Check\n",
    "Select a 4-digit password. Then, write a function that takes a 4-digit number as its parameter.\n",
    "- If the provided number is within 10 units of the chosen password, the function should print a message granting permission to enter; otherwise, it should print a message denying entrance.\n",
    "\n",
    "**Sample Output**\n",
    "\n",
    "password_check(1234)  \n",
    "DENY!   \n",
    "\n",
    "password_check(4325)    \n",
    "ACCEPT!  "
   ]
  },
  {
   "cell_type": "markdown",
   "id": "cd358a89-a3d7-4e2c-b9c9-5dda19369b58",
   "metadata": {},
   "source": [
    "## Question-5: Random Points\n",
    "Write a function that takes a parameter representing the number of points to plot in green. \n",
    "- This function should generate random points, each with random sizes and transparencies, and plot them on a graph.\n",
    "- The sizes of the points should be integers ranging from 5 to 800.\n",
    "- The transparencies should be decimal numbers between 0 and 1.\n",
    "- The x and y coordinates of the points should be decimal numbers ranging from 5 to 10.\n",
    "\n",
    "**Sample Output**\n",
    "\n",
    "![](pict/plot_rand_points.png)"
   ]
  },
  {
   "cell_type": "markdown",
   "id": "21947efe-1e3c-497f-93e1-d7fced2ea25c",
   "metadata": {},
   "source": [
    "## Question-6: Pyramid\n",
    "Write a function that takes five parameters representing:\n",
    "\n",
    "1. The x-coordinate of the right upper corner of the rectangle.\n",
    "2. The y-coordinate of the right upper corner of the rectangle.\n",
    "3. The width of the rectangle.\n",
    "4. The length of the rectangle.\n",
    "5. The color of the rectangle.\n",
    "\n",
    "The function should:\n",
    "- Plot the corresponding rectangle.\n",
    "- Plot the point (0,0) in blue color.\n",
    "- Draw four dotted blue lines from the point (0,0) to each corner of the rectangle.\n",
    "- Remove the axis.\n",
    "\n",
    "Sample plot:\n",
    "\n",
    "![](pict/func_pyramid.png)"
   ]
  },
  {
   "cell_type": "markdown",
   "id": "936199b3-0e00-48e5-8da5-b036951a201f",
   "metadata": {},
   "source": [
    "## Question-7: Equation of a Line\n",
    "Write a function that takes four parameters representing:\n",
    "\n",
    "1. The x-coordinate of the first point.\n",
    "2. The y-coordinate of the first point.\n",
    "3. The x-coordinate of the second point.\n",
    "4. The y-coordinate of the second point.\n",
    "\n",
    "The function should return the equation of the line that passes through these two points using the slope-intercept form \n",
    "$y=mx+b$ , where:\n",
    "\n",
    "- $m$ is the slope, calculated as $m=\\frac{y_2-y_1}{x_2-x1}$\n",
    "- $b$ is the y-intercept, calculated as $b = y_2 - mx_2$.\n",
    "  \n",
    "Warning: If $x_2=x_1$ , the equation of the line is $x=x_2$."
   ]
  },
  {
   "cell_type": "markdown",
   "id": "65a4f10b-f5a3-4d1e-9c44-258662287428",
   "metadata": {},
   "source": [
    "## Question-8: Pitch Monitor\n",
    "\n",
    "Write a function that takes a list of whole numbers representing pitches and visualize the pitches, using the print() function and * characters.\n",
    "\n",
    "- The length of the pitch list is the number of `*` columns.\n",
    "- The numbers in the list represent the number of `*` characters in each column.\n",
    "- For example, if pitches_list = [2, 5, 3, 4], then:\n",
    "\n",
    "    - The first column has 2 stars.\n",
    "    - The second column has 5 stars.\n",
    "    - The third column has 3 stars.\n",
    "    - The fourth column has 4 stars.\n",
    " \n",
    "\n",
    "Sample Output for pitches_list = [2,5,3,4]:\n",
    "\n",
    "![](pict/pitches.png)"
   ]
  },
  {
   "cell_type": "markdown",
   "id": "f9dd6ef5-bcd3-40a5-8e73-765eb013a2c5",
   "metadata": {},
   "source": [
    "## Business Application"
   ]
  },
  {
   "cell_type": "markdown",
   "id": "386d8eb1-36d3-42ab-bd1e-a0e7db6f70db",
   "metadata": {},
   "source": [
    "### Question: Simple Interest\n",
    "Write a function that takes the principal amount, annual interest rate, and time period in years as parameters and returns the interest amount and final amount as a tuple.\n",
    "- The annual interest rate is in decimal form."
   ]
  },
  {
   "cell_type": "markdown",
   "id": "487e5f98-443b-4bbb-b8ec-588e70510e2d",
   "metadata": {},
   "source": [
    "### Question: Cost\n",
    "Total cost (C) has two parts: \n",
    "1. Variable Costs:  Expense that changes in proportion to number of items produced.\n",
    "    - Variable Cost = Number of items produced $\\cdot$ Cost of producing one item\n",
    "2. Fixed Costs: Does not depend on the number of the items produced.\n",
    "    - Examples: rent, lease costs, salaries, utility bills, insurance\n",
    "\n",
    "It costs a company 80 dollars to produce one item, and the company has fixed costs of\n",
    "850 dollars and $n$ represents the number of items produced.\n",
    "- Write a function which has the paramter $n$ and returns the total cost.\n",
    "- Find the cost of producing 6 items."
   ]
  },
  {
   "cell_type": "markdown",
   "id": "5ead63b2-3f42-4208-af4b-6bf9ed9646c7",
   "metadata": {},
   "source": [
    "### Question: Linear Depreciation\n",
    "The value of a new machine is $100,000$ dollars and its values is depreciated by $7500$ dollars per year.\n",
    "- Write a function which has only one parameter $t$ that represents the year and returns the value of the machine after $t$ years.\n",
    "- Find the value of the machine after 6 years.\n"
   ]
  },
  {
   "cell_type": "markdown",
   "id": "bf98cebd-6e49-4056-9ff2-7030f404f889",
   "metadata": {},
   "source": [
    "### Question: Exponential Depreciation\n",
    "The value $V$ of a truck in dollars is given by the formula $140000(1.35)^{-0.6t}$  where $t$ is the age of the truck in years. \n",
    "\n",
    "- Write a function which has only one parameter $t$ that represents the year and returns the value of the truck after $t$ years.\n",
    "- Find the value of the truck after 6 years."
   ]
  },
  {
   "cell_type": "markdown",
   "id": "bef1a4f2-3597-4dc0-8907-dd9bc9a937ab",
   "metadata": {},
   "source": [
    "### Question: Plumber Charge\n",
    "A plumber charges a fixed fee of 150 dollars if the working time does not exceed 2 hours. If it exceeds 2 hours, he charges an extra 80 dollars for each additional hour. Write a function that takes one parameter, hours, and calculates the total cost based on the hours provided."
   ]
  },
  {
   "cell_type": "markdown",
   "id": "cc55515a-d0d9-4fbf-badd-221aa60d9e55",
   "metadata": {},
   "source": [
    "### Question: Monthly Plan\n",
    "A gym company offers two plans: Basic and Professional. The details for each plan are as follows:\n",
    "- Basic Plan:\n",
    "    - Fixed fee: 5 dollars\n",
    "    - Cost per hour: 5 cents\n",
    "- Professional Plan:\n",
    "    - Fixed fee: 10 dollars\n",
    "    - Cost per hour: 6 cents\n",
    "  \n",
    "Write a function that takes two parameters, plan (either “Basic” or “Professional”) and hours, and calculates the total cost based on the plan and hours provided."
   ]
  }
 ],
 "metadata": {
  "kernelspec": {
   "display_name": "Python 3 (ipykernel)",
   "language": "python",
   "name": "python3"
  },
  "language_info": {
   "codemirror_mode": {
    "name": "ipython",
    "version": 3
   },
   "file_extension": ".py",
   "mimetype": "text/x-python",
   "name": "python",
   "nbconvert_exporter": "python",
   "pygments_lexer": "ipython3",
   "version": "3.11.7"
  }
 },
 "nbformat": 4,
 "nbformat_minor": 5
}
