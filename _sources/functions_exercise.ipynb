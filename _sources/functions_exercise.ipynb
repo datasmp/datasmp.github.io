{
 "cells": [
  {
   "cell_type": "markdown",
   "id": "e52c30a5-5b1a-4893-aefc-dac6ef639d5f",
   "metadata": {},
   "source": [
    "# Functions Exercises\n",
    "![Section Title: Functions Exercises](title_pict/functions_exercises2.png)\n"
   ]
  },
  {
   "cell_type": "markdown",
   "id": "40563fa0-210a-4edc-beed-cb21fca22e13",
   "metadata": {},
   "source": [
    "## Question-1: Harmonic Mean\n",
    "Write a function that takes three numbers as parameters and returns the harmonic mean of these numbers using the formula:\n",
    "$\\displaystyle H(x, y, z) = \\frac{3}{\\frac{1}{x}+\\frac{1}{y}+\\frac{1}{z}}$."
   ]
  },
  {
   "cell_type": "markdown",
   "id": "509cad38-a534-45d7-a0be-616eb6829420",
   "metadata": {},
   "source": [
    "## Question-2: Circle\n",
    "Write a function that takes two parameters: radius ($r$) with a default value of 1, and calculation_type with a default value of \"area\".\n",
    "- If calculation_type is area ($\\pi r^2$) the function returns the area of the circle, rounded to the nearest hundredth.\n",
    "- If calculation_type is perimeter($2\\pi r$)  the function returns the perimeter of the circle, rounded to the nearest hundredth.\n",
    "- If calculation_type is both  the function returns a tuple containing both the perimeter and the area of the circle, each rounded to the nearest hundredth.\n",
    "- If calculation_type is anything else, it prints a \"not valid type\" warning."
   ]
  },
  {
   "cell_type": "markdown",
   "id": "63a95ac8-5f04-44d2-b37d-ad23f924276b",
   "metadata": {},
   "source": [
    "## Question-3: Algebraic Operations\n",
    "Write a function that takes two numbers as parameters and returns the results of the four basic operations. \n",
    "- If the second number is zero for division, print a warning message about division by zero.\n",
    "- Round the result of the division to the nearest hundredth.\n",
    "\n",
    "**Sample Output:**  alg_operation(3,7)    \n",
    "\n",
    "3 + 7 = 10  \n",
    "3 - 7 = -4  \n",
    "3 x 7 = 21  \n",
    "3 / 7 = 0.43  "
   ]
  },
  {
   "cell_type": "markdown",
   "id": "5c029b61-c698-43a4-9678-2fda6929ffca",
   "metadata": {},
   "source": [
    "## Question-4: Letters\n",
    "Write a function that takes a number as its input and returns the first corresponding number of lowercase letters from the alphabet. \n",
    "- If the input number exceeds the total number of letters in the alphabet, the function returns all letters.\n",
    "-  If the input is zero or negative, it returns an empty string.\n",
    "\n",
    "**Sample Output**\n",
    "\n",
    "print(letter_func(4))    \n",
    "abcd\n",
    "\n",
    "print(letter_func(-5))    \n",
    "(No Output)  \n",
    "\n",
    "print(letter_func(40))  \n",
    "abcdefghijklmnopqrstuvwxyz"
   ]
  },
  {
   "cell_type": "markdown",
   "id": "ebf12ca3-020c-44a6-b154-e1bfda2f74d2",
   "metadata": {},
   "source": [
    "## Question-5: Distance\n",
    "Write a function that takes four parameters: the (x, y) coordinates of two points, A and B.\n",
    "- Plot a red line connecting these two points on a graph.\n",
    "- Label points A and B by adding texts next to each point.\n",
    "- Calculate the distance between these points and display it as text in the middle of the line.\n",
    "- Rotate the text for better visibility.\n",
    "\n",
    "**Sample Output**\n",
    "\n",
    "![This is a plot featuring a red line segment connecting two points, with the distance between these two points measuring 9.22 units. This distance is indicated in th emiddle of the line segment on the plot.](pict/plot_dist.png)"
   ]
  },
  {
   "cell_type": "markdown",
   "id": "b8b4af4f-8f17-4a4d-beb3-4ff3fe208caa",
   "metadata": {},
   "source": [
    "## Question-6: Password Check\n",
    "Select a 4-digit password. Then, write a function that takes a 4-digit number as its parameter.\n",
    "- If the provided number is within 10 units of the chosen password, the function should print a message granting permission to enter; otherwise, it should print a message denying entrance.\n",
    "\n",
    "**Sample Output**\n",
    "\n",
    "password_check(1234)  \n",
    "DENY!   \n",
    "\n",
    "password_check(4325)    \n",
    "ACCEPT!  "
   ]
  },
  {
   "cell_type": "markdown",
   "id": "cd358a89-a3d7-4e2c-b9c9-5dda19369b58",
   "metadata": {},
   "source": [
    "## Question-7: Random Points\n",
    "Write a function that takes a parameter representing the number of points to plot in green. \n",
    "- This function should generate random points, each with random sizes and transparencies, and plot them on a graph.\n",
    "- The sizes of the points should be integers ranging from 5 to 800.\n",
    "- The transparencies should be decimal numbers between 0 and 1.\n",
    "- The x and y coordinates of the points should be decimal numbers ranging from 5 to 10.\n",
    "\n",
    "**Sample Output**\n",
    "\n",
    "![In this plot, there are green circular points of varying sizes and transparency.](pict/plot_rand_points.png)"
   ]
  },
  {
   "cell_type": "markdown",
   "id": "21947efe-1e3c-497f-93e1-d7fced2ea25c",
   "metadata": {},
   "source": [
    "## Question-8: Pyramid\n",
    "Write a function that takes five parameters representing:\n",
    "\n",
    "1. The x-coordinate of the right upper corner of the rectangle.\n",
    "2. The y-coordinate of the right upper corner of the rectangle.\n",
    "3. The width of the rectangle.\n",
    "4. The length of the rectangle.\n",
    "5. The color of the rectangle.\n",
    "\n",
    "The function should:\n",
    "- Plot the corresponding rectangle.\n",
    "- Plot the point (0,0) in blue color.\n",
    "- Draw four dotted blue lines from the point (0,0) to each corner of the rectangle.\n",
    "- Remove the axis.\n",
    "\n",
    "Sample plot:\n",
    "\n",
    "![In this plot, there is a blue point, a red rectangle, and four dashed lines extending from the blue point to each corner of the rectangle.](pict/func_pyramid.png)"
   ]
  },
  {
   "cell_type": "markdown",
   "id": "936199b3-0e00-48e5-8da5-b036951a201f",
   "metadata": {},
   "source": [
    "## Question-9: Equation of a Line\n",
    "Write a function that takes four parameters representing:\n",
    "\n",
    "1. The x-coordinate of the first point.\n",
    "2. The y-coordinate of the first point.\n",
    "3. The x-coordinate of the second point.\n",
    "4. The y-coordinate of the second point.\n",
    "\n",
    "The function should return the equation of the line that passes through these two points using the slope-intercept form \n",
    "$y=mx+b$ , where:\n",
    "\n",
    "- $m$ is the slope, calculated as $m=\\frac{y_2-y_1}{x_2-x1}$\n",
    "- $b$ is the y-intercept, calculated as $b = y_2 - mx_2$.\n",
    "  \n",
    "Warning: If $x_2=x_1$ , the equation of the line is $x=x_2$."
   ]
  },
  {
   "cell_type": "markdown",
   "id": "65a4f10b-f5a3-4d1e-9c44-258662287428",
   "metadata": {},
   "source": [
    "## Question-10: Pitch Monitor\n",
    "\n",
    "Write a function that takes a list of whole numbers representing pitches and visualize the pitches, using the print() function and * characters.\n",
    "\n",
    "- The length of the pitch list is the number of `*` columns.\n",
    "- The numbers in the list represent the number of `*` characters in each column.\n",
    "- For example, if pitch_list = [2, 5, 3, 4], then:\n",
    "\n",
    "    - The first column has 2 stars.\n",
    "    - The second column has 5 stars.\n",
    "    - The third column has 3 stars.\n",
    "    - The fourth column has 4 stars.\n",
    " \n",
    "\n",
    "Sample Output for pitch_list = [2,5,3,4]:\n",
    "\n",
    "![There are 4 columns of stars arranged in 5 rows.\n",
    "In the first column, there are 3 spaces followed by 2 stars.\n",
    "In the second column, there are 5 stars.\n",
    "In the third column, there are 2 spaces followed by 3 stars.\n",
    "In the last column, there is 1 space followed by 4 stars.](pict/pitches.png)"
   ]
  }
 ],
 "metadata": {
  "kernelspec": {
   "display_name": "Python 3 (ipykernel)",
   "language": "python",
   "name": "python3"
  },
  "language_info": {
   "codemirror_mode": {
    "name": "ipython",
    "version": 3
   },
   "file_extension": ".py",
   "mimetype": "text/x-python",
   "name": "python",
   "nbconvert_exporter": "python",
   "pygments_lexer": "ipython3",
   "version": "3.11.8"
  }
 },
 "nbformat": 4,
 "nbformat_minor": 5
}
