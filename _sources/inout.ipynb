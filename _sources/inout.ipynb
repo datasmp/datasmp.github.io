{
 "cells": [
  {
   "cell_type": "markdown",
   "id": "f58e1968",
   "metadata": {},
   "source": [
    "# Chp-2: Input and Output\n"
   ]
  },
  {
   "cell_type": "markdown",
   "id": "d181068d-0eec-4ddc-a552-e99c258ebd87",
   "metadata": {},
   "source": [
    "![](title_pict/input_and_output2.png)"
   ]
  },
  {
   "cell_type": "markdown",
   "id": "524063a3-38de-4381-b3af-efde679edbe7",
   "metadata": {},
   "source": [
    "`````{admonition} Chapter Objectives\n",
    ":class: tip\n",
    "\n",
    "By the end of this chapter, the student should be able to:\n",
    "- Explain the purpose of input() and print() functions in Python, for managing user input and showing output.\n",
    "- Apply input() to prompt users for input, handling different data types entered.\n",
    "- Apply print() to display output, understanding formatting options like separators and line breaks.\n",
    "- Use whitespace characters in Python output and manipulate them for formatting.\n",
    "- Use escape sequences to control whitespace characters in printed output.\n",
    "`````"
   ]
  },
  {
   "cell_type": "markdown",
   "id": "60ab0d33",
   "metadata": {},
   "source": [
    "## input()\n",
    "\n",
    "The *input()* function is a built-in function used to obtain data or information from the user.\n",
    "- It returns a string.\n",
    "- To receive a number from the user, you'll need to convert the output of the *input()* function to an integer or float.\n",
    "- You can include a message as a string to provide directions to the user.\n",
    "- Upon running the code, your message will be displayed, and a box will prompt the user for input.\n",
    "- After entering the input, the user should press the enter key.\n",
    "\n",
    "In the following code, the user is prompted with the message `Enter your birth year: `."
   ]
  },
  {
   "cell_type": "markdown",
   "id": "235efc49",
   "metadata": {},
   "source": [
    "``` python\n",
    "input('Enter your birth year: ')\n",
    "```"
   ]
  },
  {
   "cell_type": "markdown",
   "id": "73af0a14",
   "metadata": {},
   "source": [
    "Two important points in the code above:\n",
    "1. Even though the user enters a number, the *input()* function returns a string.\n",
    "    - To perform algebraic operations, you'll need to convert it to an integer or float.\n",
    "2. We must assign the value given by the user to a variable to store and use it.\n",
    "    - In the provided code, as no variable is used, there's no way to access the given birth year in subsequent lines."
   ]
  },
  {
   "cell_type": "markdown",
   "id": "06e43d7b-b18b-45e2-9139-de0803cf2541",
   "metadata": {},
   "source": [
    "In the following code, we will once again ask for the user's birth year, but this time we will assign it to a variable. \n",
    "- This way, we will be able to access the birth year through the variable `birth_year` in any cell.\n",
    "- Note that the type of the `birth_year` variable is *string* because the *input()* function returns any entered value as a string."
   ]
  },
  {
   "cell_type": "markdown",
   "id": "46ef4b54-72d7-4b2d-ac1a-be00f447e2b2",
   "metadata": {
    "jp-MarkdownHeadingCollapsed": true
   },
   "source": [
    "``` python\n",
    "birth_year = input('Enter your birth year: ')\n",
    "\n",
    "print('birth_year type:', type(birth_year))\n",
    "```\n",
    "\n",
    "**Output**  \n",
    "Enter your birth year:  2000      \n",
    "birth_year type: <class 'str'>  "
   ]
  },
  {
   "cell_type": "markdown",
   "id": "d1fe76ab",
   "metadata": {},
   "source": [
    "- If you intend to perform algebraic operations, such as calculating age, using the `birth_year` variable, you'll need to convert it to a numerical type.\n",
    "- Otherwise, an error message will be generated.\n",
    "\n",
    "``` python\n",
    "birth_year = input('Enter your birth year: ')\n",
    "\n",
    "age = 2024 - birth_year  # ERROR: integer 2024 -  string birth_year\n",
    "```\n",
    "\n",
    "- To avoid this, convert `birth_year` to an integer. This can be done in a couple of different ways.\n",
    "- In the second line of the following code, the integer value of *birth_year* is used in subtraction."
   ]
  },
  {
   "cell_type": "markdown",
   "id": "65582ad3-11e8-45fc-b11c-3cc94b2cd230",
   "metadata": {},
   "source": [
    "```python\n",
    "birth_year = input('Enter your birth year: ')\n",
    "\n",
    "age = 2024 - int(birth_year)    \n",
    "\n",
    "print('Your age is', age)\n",
    "print('birth_year type:', type(birth_year))\n",
    "```\n",
    "\n",
    "**Output**  \n",
    "Enter your birth year:  2000      \n",
    "Your age is 24                    \n",
    "birth_year type: <class 'str'>  "
   ]
  },
  {
   "cell_type": "markdown",
   "id": "62260631",
   "metadata": {},
   "source": [
    "- In the above code, the type of `birth_year` was not changed; it remains a string because we did not assign a new value to it.\n",
    "- This can be accomplished in a concise manner at the very beginning of the code."
   ]
  },
  {
   "cell_type": "markdown",
   "id": "5bd773ce-230d-4147-aeb2-dc4daa3ecbfd",
   "metadata": {},
   "source": [
    "``` python\n",
    "birth_year = input('Enter your birth year: ')\n",
    "birth_year = int(birth_year)   # assign a new value to the birth_year variable\n",
    "\n",
    "age = 2024 - birth_year \n",
    "\n",
    "print('Your age is', age)\n",
    "print('birth_year type:', type(birth_year))\n",
    "```\n",
    "**Output**  \n",
    "Enter your birth year: 2000      \n",
    "Your age is 24                    \n",
    "birth_year type: <class 'int'>      "
   ]
  },
  {
   "cell_type": "markdown",
   "id": "95ce828b",
   "metadata": {},
   "source": [
    "- There is a shortcut for performing this conversion.\n",
    "- Upon receiving input from the user, we can immediately convert that value to an integer.\n",
    "- In the following code, the *input()* function returns a string, and the *int()* function converts this string to an integer."
   ]
  },
  {
   "cell_type": "markdown",
   "id": "ab161aa4-ac13-4f08-b570-758008dddf22",
   "metadata": {},
   "source": [
    "``` python\n",
    "birth_year = int(input('Enter your birth year: '))  \n",
    "\n",
    "age = 2024 - birth_year \n",
    "\n",
    "print('Your age is', age)\n",
    "print('Birth year type:', type(birth_year))\n",
    "```\n",
    "\n",
    "**Output**  \n",
    "Enter your birth year: 2000      \n",
    "Your age is 24                   \n",
    "Birth year type: <class 'int'>   "
   ]
  },
  {
   "cell_type": "markdown",
   "id": "0964e001-f6a7-40ba-94b0-1e223425f9ee",
   "metadata": {},
   "source": [
    "```{admonition} Quick Check!\n",
    ":class: tip\n",
    "Write a program that asks the user to enter a number, then calculates and displays the square of that number.\n",
    "```"
   ]
  },
  {
   "cell_type": "markdown",
   "id": "8ed5d3cc-d60f-49f2-8afe-693b1aea8c1d",
   "metadata": {},
   "source": [
    "```{admonition} Solution\n",
    ":class: toggle\n",
    "\n",
    "```python\n",
    "number = float(input('Enter a number: '))\n",
    "square = number**2\n",
    "print('Square of', number, 'is', square)"
   ]
  },
  {
   "cell_type": "markdown",
   "id": "ce4dc023",
   "metadata": {},
   "source": [
    "### Receipt Example\n",
    "- You can use the `input()` function multiple times.\n",
    "- In the following example, the user enters the quantity of hamburgers and sodas, and the final receipt, including tax and tip, is printed.\n",
    "    - The price of a hamburger is \\$5.\n",
    "    - The price of a coke is \\$2.\n",
    "    - The tip is 15%.\n",
    "    - The tax is 10%.\n",
    "- Possible improvements:\n",
    "    - You can also include the time and date by using the datetime module.\n",
    "    - Consider rounding the tax, tip, and total amounts."
   ]
  },
  {
   "cell_type": "markdown",
   "id": "6100f805-2a19-4d68-a075-4e6764b5385d",
   "metadata": {},
   "source": [
    "``` python\n",
    "hamburger = int(input('Number of hamburgers:'))  \n",
    "soda = int(input('Number of sodas:'))            \n",
    "\n",
    "subtotal = hamburger*5+soda*2   \n",
    "tip = subtotal*0.15\n",
    "tax = subtotal*0.10\n",
    "total = subtotal+tip+tax\n",
    "\n",
    "\n",
    "print('Hamburger:',hamburger,'x 5= ',hamburger*5)\n",
    "print('Soda     :',soda,'x 2= ',soda*2)\n",
    "print('Tip      :         ',tip)\n",
    "print('Tax      :         ',tax)\n",
    "print('Total    :         ',total)\n",
    "```\n",
    "**Output**  \n",
    "\n",
    "Number of hamburgers:10          \n",
    "Number of sodas     :20                   \n",
    "Hamburger: 10 x 5= * 50       \n",
    "Soda     : 20 x 2=  40       \n",
    "Tip      :          13.5     \n",
    "Tax      :          9.0      \n",
    "Total    :          112.5     \n",
    "\n",
    " \n",
    "  "
   ]
  },
  {
   "cell_type": "markdown",
   "id": "e5bd356a",
   "metadata": {},
   "source": [
    "## Whitespaces\n",
    "The following whitespace characters are frequently used in print statements for spacing.\n",
    "- `\\n`: new line\n",
    "    - Moves to the next line.\n",
    "- `\\t`: tab\n",
    "    - Inserts a tabulation\n",
    "    - Inserts spaces up to the next tab stop, which occurs every 8th character.\n",
    "- `\\b`: backspace\n",
    "    - Deletes the character to the left.\n",
    "- `\\r`: carriage return\n",
    "    - Moves to the beginning of the line.\n",
    "    - In Jupyter notebook, it does not delete any characters.\n",
    "    - In Google Colab, it deletes all characters.\n"
   ]
  },
  {
   "cell_type": "code",
   "execution_count": 7,
   "id": "98e1842c",
   "metadata": {},
   "outputs": [
    {
     "name": "stdout",
     "output_type": "stream",
     "text": [
      "A\n",
      "B\n"
     ]
    }
   ],
   "source": [
    "print('A\\nB') # after A it moves to the next line"
   ]
  },
  {
   "cell_type": "code",
   "execution_count": 6,
   "id": "79fe01b1",
   "metadata": {},
   "outputs": [
    {
     "name": "stdout",
     "output_type": "stream",
     "text": [
      "A       B\n",
      "A       B\n",
      "A\tB\n"
     ]
    }
   ],
   "source": [
    "print('A       B')     # 7 spaces\n",
    "print('A'+' '*7+'B')   # repetition of the string ' ' (one space) seven times\n",
    "print('A\\tB')          # tab"
   ]
  },
  {
   "cell_type": "code",
   "execution_count": 8,
   "id": "fbe94285-b70f-44eb-871c-7cfba58f54ee",
   "metadata": {},
   "outputs": [
    {
     "name": "stdout",
     "output_type": "stream",
     "text": [
      "AA      B\n",
      "AA      B\n",
      "AA\tB\n"
     ]
    }
   ],
   "source": [
    "print('AA      B')      # 6 spaces\n",
    "print('AA'+' '*6+'B')   # repetition of the string ' ' (one space) six times\n",
    "print('AA\\tB')          # tab"
   ]
  },
  {
   "cell_type": "code",
   "execution_count": 10,
   "id": "fdcc1875-f298-4dd8-a2ec-5eb2b2e5cfe1",
   "metadata": {},
   "outputs": [
    {
     "name": "stdout",
     "output_type": "stream",
     "text": [
      "AAA     B\n",
      "AAA     B\n",
      "AAA\tB\n"
     ]
    }
   ],
   "source": [
    "print('AAA     B')       # 5 spaces\n",
    "print('AAA'+' '*5+'B')   # repetition of the string ' ' (one space) five times\n",
    "print('AAA\\tB')          # tab"
   ]
  },
  {
   "cell_type": "code",
   "execution_count": 9,
   "id": "325e8f91",
   "metadata": {},
   "outputs": [
    {
     "name": "stdout",
     "output_type": "stream",
     "text": [
      "ABC\bD\n"
     ]
    }
   ],
   "source": [
    "print('ABC\\bD') # C is deleted by '\\b'"
   ]
  },
  {
   "cell_type": "code",
   "execution_count": 10,
   "id": "9405fa67",
   "metadata": {},
   "outputs": [
    {
     "name": "stdout",
     "output_type": "stream",
     "text": [
      "ABC\b\bD\n"
     ]
    }
   ],
   "source": [
    "print('ABC\\b\\bD') # C and B are deleted by two '\\b' s"
   ]
  },
  {
   "cell_type": "markdown",
   "id": "f46dcb1c-fb05-43f0-b5dd-e25736520f12",
   "metadata": {},
   "source": [
    "For Jupyter Notebook:\n",
    "- In the following code, after the character 'C', the carriage return `\\r` moves the cursor to the beginning of the line, and 'D' overwrites 'A'."
   ]
  },
  {
   "cell_type": "markdown",
   "id": "9cdeeedf-d2b8-4366-afd3-71744b4056f1",
   "metadata": {},
   "source": [
    "``` python\n",
    "print('ABC\\rD') # carriage return \n",
    "```\n",
    "\n",
    "- Output: DBC"
   ]
  },
  {
   "cell_type": "markdown",
   "id": "6b3ea531-e369-4df5-a9f3-275fbd6c4a11",
   "metadata": {},
   "source": [
    "- **Warning:** In Google Colab, the output of the provided code is D."
   ]
  },
  {
   "cell_type": "markdown",
   "id": "e008082a-5db3-4d5a-b7fb-cd1acee9d31f",
   "metadata": {},
   "source": [
    "```{admonition} Quick Check!\n",
    ":class: tip\n",
    "Find the output of the following code.\n",
    "``` python\n",
    "print('a\\blas\\nka')\n",
    "```"
   ]
  },
  {
   "cell_type": "markdown",
   "id": "de8edcf9-c85d-4fbb-8f0b-118ff941b453",
   "metadata": {},
   "source": [
    "```{admonition} Solution\n",
    ":class: toggle\n",
    "\n",
    "las  \n",
    "ka"
   ]
  },
  {
   "cell_type": "markdown",
   "id": "8fd9f3eb-5aa8-4362-86a3-c75392d2fc31",
   "metadata": {},
   "source": [
    "## print()\n",
    "\n",
    "The print() function is a built-in function that displays output on the screen.\n",
    "- It has two significant parameters: `sep` and `end`."
   ]
  },
  {
   "cell_type": "markdown",
   "id": "65a4c6b9",
   "metadata": {},
   "source": [
    "### sep parameter\n",
    "- It is the separator parameter.\n",
    "- It determines what to insert between the comma-separated values in a print function.\n",
    "- The default value is a single space: `' '`. \n",
    "- sep values are strings"
   ]
  },
  {
   "cell_type": "code",
   "execution_count": 12,
   "id": "947fa611",
   "metadata": {},
   "outputs": [
    {
     "name": "stdout",
     "output_type": "stream",
     "text": [
      "A 25 B Tom\n"
     ]
    }
   ],
   "source": [
    "name = 'Tom'\n",
    "age = 25\n",
    "print('A', age, 'B', name)            # by default there is one space between each value"
   ]
  },
  {
   "cell_type": "code",
   "execution_count": 4,
   "id": "9ba3b088",
   "metadata": {},
   "outputs": [
    {
     "name": "stdout",
     "output_type": "stream",
     "text": [
      "A-24-B-Tom\n"
     ]
    }
   ],
   "source": [
    "name = 'Tom'\n",
    "print('A', age, 'B', name, sep='-')   #  values are separated by one '-' (dash)"
   ]
  },
  {
   "cell_type": "code",
   "execution_count": 14,
   "id": "705bed6b",
   "metadata": {},
   "outputs": [
    {
     "name": "stdout",
     "output_type": "stream",
     "text": [
      "A***25***B***Tom\n"
     ]
    }
   ],
   "source": [
    "name = 'Tom'\n",
    "print('A', age, 'B', name, sep='***') #  values are separated by three '*'s (asterisk)"
   ]
  },
  {
   "cell_type": "markdown",
   "id": "5f8f1b91-9077-43a1-b626-974109d14c83",
   "metadata": {},
   "source": [
    "```{admonition} Quick Check!\n",
    ":class: tip\n",
    "Find the output of the following code.\n",
    "``` python\n",
    "number = 5\n",
    "name = 'Joe'\n",
    "print('A', number, 'B', name, sep='_' )\n",
    "```"
   ]
  },
  {
   "cell_type": "markdown",
   "id": "e26a2c23-a405-4fa1-95f5-3b026977c8b1",
   "metadata": {},
   "source": [
    "```{admonition} Solution\n",
    ":class: toggle\n",
    "\n",
    "A_5_B_Joe"
   ]
  },
  {
   "cell_type": "markdown",
   "id": "50d01c78",
   "metadata": {},
   "source": [
    "### end parameter\n",
    "- It determines what to print at the end of the output.\n",
    "- The default value of end parameter is the new line: `'\\n'`. \n",
    "- end values are strings"
   ]
  },
  {
   "cell_type": "markdown",
   "id": "3ea2982a-28e5-4d70-adc6-b33eb7648a4b",
   "metadata": {},
   "source": [
    "**Example**"
   ]
  },
  {
   "cell_type": "code",
   "execution_count": 15,
   "id": "c60b8cf2",
   "metadata": {},
   "outputs": [
    {
     "name": "stdout",
     "output_type": "stream",
     "text": [
      "A\n",
      "B\n",
      "C\n",
      "D\n"
     ]
    }
   ],
   "source": [
    "print('A')  # end='\\n' by default, after printing A it moves to next line\n",
    "print('B')  # end='\\n' by default, after printing B it moves to next line\n",
    "print('C')  # end='\\n' by default, after printing C it moves to next line\n",
    "print('D')  # end='\\n' by default, after printing C it moves to next line"
   ]
  },
  {
   "cell_type": "markdown",
   "id": "c5d1dd8c-fab7-4a8e-84df-99160db2f9c8",
   "metadata": {},
   "source": [
    "**Example**"
   ]
  },
  {
   "cell_type": "code",
   "execution_count": 16,
   "id": "9a66daf9",
   "metadata": {},
   "outputs": [
    {
     "name": "stdout",
     "output_type": "stream",
     "text": [
      "A--B\n",
      "C\n",
      "D\n"
     ]
    }
   ],
   "source": [
    "print('A', end='--')  # end='--'           , after printing A it prints '--'\n",
    "print('B')            # end='\\n' by default, after printing B it moves to next line\n",
    "print('C')            # end='\\n' by default, after printing C it moves to next line\n",
    "print('D')            # end='\\n' by default, after printing C it moves to next line"
   ]
  },
  {
   "cell_type": "markdown",
   "id": "76b4799a-564e-43ca-b185-f731df5ab353",
   "metadata": {},
   "source": [
    "**Example**"
   ]
  },
  {
   "cell_type": "code",
   "execution_count": 17,
   "id": "61b9416a",
   "metadata": {},
   "outputs": [
    {
     "name": "stdout",
     "output_type": "stream",
     "text": [
      "A--B+C\n",
      "D\n"
     ]
    }
   ],
   "source": [
    "print('A', end='--')  # end='--'           , after printing A it prints --\n",
    "print('B', end='+')   # end='+'            , after printing B it prints +\n",
    "print('C')            # end='\\n' by default, after printing C it moves to next line\n",
    "print('D')            # end='\\n' by default, after printing C it moves to next line"
   ]
  },
  {
   "cell_type": "markdown",
   "id": "5ff2becc-2b9b-4d19-83d7-d167ca834f28",
   "metadata": {},
   "source": [
    "**Example**"
   ]
  },
  {
   "cell_type": "code",
   "execution_count": 18,
   "id": "f997a842",
   "metadata": {},
   "outputs": [
    {
     "name": "stdout",
     "output_type": "stream",
     "text": [
      "A\n",
      "B+C?D\n"
     ]
    }
   ],
   "source": [
    "print('A')            # end='\\n' by default, after printing A it moves to next line\n",
    "print('B', end='+')   # end='+'            , after printing B it prints +\n",
    "print('C', end='?')   # end='+'            , after printing C it prints ?\n",
    "print('D')            # end='\\n' by default, after printing C it moves to next line"
   ]
  },
  {
   "cell_type": "markdown",
   "id": "b820bf9e-a35a-4f80-aced-20466595a095",
   "metadata": {},
   "source": [
    "```{admonition} Quick Check!\n",
    ":class: tip\n",
    "Find the output of the following code.\n",
    "``` python\n",
    "print('A', end='5')\n",
    "print('B')\n",
    "print('C', end='#')\n",
    "print('D', end='&')\n",
    "```"
   ]
  },
  {
   "cell_type": "markdown",
   "id": "272a5022-bc5e-4d48-b13e-c5587b50cfff",
   "metadata": {},
   "source": [
    "```{admonition} Solution\n",
    ":class: toggle\n",
    "\n",
    "A5B  \n",
    "C#D&"
   ]
  },
  {
   "cell_type": "markdown",
   "id": "42b3aa8e-0f14-4562-84a5-1bc58544036d",
   "metadata": {},
   "source": [
    "## Examples"
   ]
  },
  {
   "cell_type": "markdown",
   "id": "36e2ac3a-6911-4ec1-9b85-832aa0128e32",
   "metadata": {},
   "source": [
    "### Moving O (right)\n",
    "Use the *print()* function along with the letter 'O', the backspace '\\b', and the *sleep()* function from the *time* module to create a right-moving 'O'.\n",
    "- Each `print('\\b O', end='')` statement performs four actions:\n",
    "    1. '\\b' deletes the 'O' that was printed before, moving the cursor one position to the left.\n",
    "    2. Prints a space.\n",
    "    3. Prints 'O'.\n",
    "    4. Since the end parameter is set to an empty string, it does not move to the next line."
   ]
  },
  {
   "cell_type": "markdown",
   "id": "6505c385-ea6e-45b2-affd-887d1930c56d",
   "metadata": {},
   "source": [
    "``` python\n",
    "import time\n",
    "print('O', end='')           \n",
    "time.sleep(1)\n",
    "print('\\b O', end='')     # Delete the 'O', print a space, then print 'O'.\n",
    "time.sleep(1)\n",
    "print('\\b O', end='')\n",
    "time.sleep(1)\n",
    "print('\\b O', end='')\n",
    "time.sleep(1)\n",
    "print('\\b O', end='')\n",
    "time.sleep(1)\n",
    "print('\\b O', end='')\n",
    "time.sleep(1)\n",
    "print('\\b O', end='')\n",
    "```"
   ]
  },
  {
   "cell_type": "markdown",
   "id": "f226ee33-a933-4caf-a7a0-a74e6ff3c3c0",
   "metadata": {},
   "source": [
    "### Moving O (left)\n",
    "Use the *print()* function along with the letter 'O', the backspace '\\b', and the *sleep()* function from the *time* module to create a left-moving 'O'.\n",
    "- Each `print('\\b'*2 +'O', end='')` statement performs four actions:\n",
    "1. The first '\\b' deletes the 'O' that was printed before, moving the cursor one position to the left.\n",
    "2. The second '\\b' moves the cursor one position to the left.\n",
    "3. Prints 'O'.\n",
    "4. Since the end parameter is set to an empty string, the cursor does not move to the next line after printing the 'O'.\n"
   ]
  },
  {
   "cell_type": "markdown",
   "id": "ae3a0040-c042-4bc9-b4f0-c1609134ab21",
   "metadata": {},
   "source": [
    "``` python\n",
    "import time\n",
    "print(' '*5 + 'O', end='')     # Print 'O' after 5 spaces.    \n",
    "time.sleep(1)\n",
    "print('\\b'*2 +'O', end='')     # Delete the 'O', print a space, then print 'O'.\n",
    "time.sleep(1)\n",
    "print('\\b'*2 +'O', end='') \n",
    "time.sleep(1)\n",
    "print('\\b'*2 +'O', end='') \n",
    "time.sleep(1)\n",
    "print('\\b'*2 +'O', end='') \n",
    "time.sleep(1)\n",
    "print('\\b'*2 +'O', end='') \n",
    "time.sleep(1)\n",
    "print('\\b'*2 +'O', end='') \n",
    "```"
   ]
  },
  {
   "cell_type": "code",
   "execution_count": null,
   "id": "c56a25a4-0e33-4f18-8481-653a7c4fdffe",
   "metadata": {},
   "outputs": [],
   "source": []
  },
  {
   "cell_type": "code",
   "execution_count": null,
   "id": "5c2a31fa-fc43-41ca-912c-cd6568832f67",
   "metadata": {},
   "outputs": [],
   "source": []
  }
 ],
 "metadata": {
  "hide_input": false,
  "kernelspec": {
   "display_name": "Python 3 (ipykernel)",
   "language": "python",
   "name": "python3"
  },
  "language_info": {
   "codemirror_mode": {
    "name": "ipython",
    "version": 3
   },
   "file_extension": ".py",
   "mimetype": "text/x-python",
   "name": "python",
   "nbconvert_exporter": "python",
   "pygments_lexer": "ipython3",
   "version": "3.11.7"
  },
  "toc": {
   "base_numbering": 1,
   "nav_menu": {},
   "number_sections": true,
   "sideBar": true,
   "skip_h1_title": false,
   "title_cell": "Table of Contents",
   "title_sidebar": "Contents",
   "toc_cell": false,
   "toc_position": {
    "height": "calc(100% - 180px)",
    "left": "10px",
    "top": "150px",
    "width": "278.391px"
   },
   "toc_section_display": true,
   "toc_window_display": true
  }
 },
 "nbformat": 4,
 "nbformat_minor": 5
}
