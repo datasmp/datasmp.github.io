{
 "cells": [
  {
   "cell_type": "markdown",
   "id": "f58e1968",
   "metadata": {},
   "source": [
    "# Chp-2: Input and Output\n",
    "- Learning Objectives\n",
    "    - ..\n",
    "    - .."
   ]
  },
  {
   "cell_type": "markdown",
   "id": "60ab0d33",
   "metadata": {},
   "source": [
    "## input()\n",
    "\n",
    "The input() function is a built-in function utilized to obtain data or information from the user.\n",
    "- It returns a string.\n",
    "- To receive a number from the user, you'll need to convert the output of the input() function to an integer or float.\n",
    "- You can include a message as a string to provide directions to the user.\n",
    "- Upon running the code, your message will be displayed, and a box will prompt the user for input.\n",
    "- After entering the input, the user should press the enter key."
   ]
  },
  {
   "cell_type": "markdown",
   "id": "235efc49",
   "metadata": {},
   "source": [
    "``` python\n",
    "# ask for the user's birth year\n",
    "input('Enter your birth year: ')\n",
    "```"
   ]
  },
  {
   "cell_type": "markdown",
   "id": "73af0a14",
   "metadata": {},
   "source": [
    "- Two important points in the above code:\n",
    "    1. Even though the user enters a number, the input() function returns a string.\n",
    "        - To perform algebraic operations, you'll need to convert it to an integer or float.\n",
    "    2. We must assign the value given by the user to a variable to store and use it.\n",
    "        - In the provided code, as no variable is used, there's no way to access the given birth year in subsequent lines."
   ]
  },
  {
   "cell_type": "markdown",
   "id": "46ef4b54-72d7-4b2d-ac1a-be00f447e2b2",
   "metadata": {
    "jp-MarkdownHeadingCollapsed": true
   },
   "source": [
    "``` python\n",
    "# ask for the user's birth year\n",
    "# assign the given value to the birth_year variable.\n",
    "# the type of the birth_year variable is a string.\n",
    "\n",
    "birth_year = input('Enter your birth year: ')\n",
    "print('Birth year type:', type(birth_year))\n",
    "```\n",
    "\n",
    "**Output**  \n",
    "`Enter your birth year:  2000    `  \n",
    "`Birth year type: <class 'str'>  `"
   ]
  },
  {
   "cell_type": "markdown",
   "id": "d1fe76ab",
   "metadata": {},
   "source": [
    "- If you intend to perform algebraic operations, such as calculating age, using the `birth_year` variable, you'll need to convert it to a numerical type.\n",
    "- Otherwise, an error message will be generated.\n",
    "\n",
    "``` python\n",
    "# ERROR\n",
    "# in the second line a string value ('2000') is subtracted from an integer (2024)\n",
    "birth_year = input('Enter your birth year: ')\n",
    "age = 2024 - birth_year\n",
    "```\n",
    "\n",
    "- To avoid this, convert `birth_year` to an integer.\n",
    "- This can be done in a couple of different ways."
   ]
  },
  {
   "cell_type": "markdown",
   "id": "65582ad3-11e8-45fc-b11c-3cc94b2cd230",
   "metadata": {},
   "source": [
    "```python\n",
    "# convert the value of birth_year to integer\n",
    "# type of birth_year is still string\n",
    "birth_year = input('Enter your birth year: ')\n",
    "age = 2024 - int(birth_year)    \n",
    "print('Your age is', age)\n",
    "print('Birth year type:', type(birth_year))\n",
    "```\n",
    "\n",
    "**Output**  \n",
    "`Enter your birth year:  2000    `  \n",
    "`Your age is 24                  `  \n",
    "`Birth year type: <class 'str'>  `  "
   ]
  },
  {
   "cell_type": "markdown",
   "id": "62260631",
   "metadata": {},
   "source": [
    "- In the above code, the type of `birth_year` was not changed; it remains a string because we did not assign a new value to it.\n",
    "- This can be accomplished in a concise manner at the very beginning of the code."
   ]
  },
  {
   "cell_type": "markdown",
   "id": "5bd773ce-230d-4147-aeb2-dc4daa3ecbfd",
   "metadata": {},
   "source": [
    "``` python\n",
    "birth_year = input('Enter your birth year: ')\n",
    "birth_year = int(birth_year)   # assign a new value to birth_year variable\n",
    "age = 2024 - birth_year \n",
    "print('Your age is', age)\n",
    "print('Birth year type:', type(birth_year))\n",
    "```\n",
    "**Output**  \n",
    "`Enter your birth year: 2000    `  \n",
    "`Your age is 24                 `  \n",
    "`Birth year type: <class 'int'> `   "
   ]
  },
  {
   "cell_type": "markdown",
   "id": "95ce828b",
   "metadata": {},
   "source": [
    "- There is a shortcut for performing this conversion.\n",
    "- Upon receiving input from the user, we can immediately convert that value to an integer."
   ]
  },
  {
   "cell_type": "markdown",
   "id": "ab161aa4-ac13-4f08-b570-758008dddf22",
   "metadata": {},
   "source": [
    "``` python\n",
    "# input() function returns a string \n",
    "# int() takes this string and returns an integer\n",
    "birth_year = int(input('Enter your birth year: '))  \n",
    "age = 2024 - birth_year \n",
    "print('Your age is', age)\n",
    "print('Birth year type:', type(birth_year))\n",
    "```\n",
    "\n",
    "**Output**  \n",
    "`Enter your birth year: 2000    `  \n",
    "`Your age is 24                 `  \n",
    "`Birth year type: <class 'int'> `    "
   ]
  },
  {
   "cell_type": "markdown",
   "id": "ce4dc023",
   "metadata": {},
   "source": [
    "### Receipt Example\n",
    "- You can use the `input()` function multiple times.\n",
    "- In the following example, the user enters the quantity of hamburgers and sodas, and the final receipt, including tax and tip, is printed.\n",
    "    - The price of a hamburger is \\$5.\n",
    "    - The price of a coke is \\$2.\n",
    "    - The tip is 15%.\n",
    "    - The tax is 10%.\n",
    "- Possible improvements:\n",
    "    - You can also include the time and date by using the datetime module.\n",
    "    - Consider rounding the tax, tip, and total amounts."
   ]
  },
  {
   "cell_type": "markdown",
   "id": "6100f805-2a19-4d68-a075-4e6764b5385d",
   "metadata": {},
   "source": [
    "``` python\n",
    "hamburger = int(input('Number of hamburgers:'))  \n",
    "coke = int(input('Number of cokes:'))            \n",
    "\n",
    "subtotal = hamburger*5+coke*2   \n",
    "tip = subtotal*0.15\n",
    "tax = subtotal*0.10\n",
    "total = subtotal+tip+tax\n",
    "\n",
    "\n",
    "print('*'*30)     # use repetition: 30 many * characters\n",
    "print('Hamburger:',hamburger,'x 5= $',hamburger*5)\n",
    "print('Coke     :',coke,'x 2= $',coke*2)\n",
    "print('Tip      :         $',tip)\n",
    "print('Tax      :         $',tax)\n",
    "print('-'*30)\n",
    "print('Total    :         $',total)\n",
    "print('*'*30)\n",
    "```\n",
    "**Output**  \n",
    "\n",
    "`Number of hamburgers:10       `  \n",
    "`Number of cokes:20            `   \n",
    "`******************************`  \n",
    "`Hamburger: 10 x 5= $ 50       `    \n",
    "`Coke     : 20 x 2= $ 40       `    \n",
    "`Tip      :         $ 13.5     `     \n",
    "`Tax      :         $ 9.0      `  \n",
    "`------------------------------`     \n",
    "`Total    :         $ 112.5    `   \n",
    "`******************************`   \n",
    "\n",
    " \n",
    "  "
   ]
  },
  {
   "cell_type": "markdown",
   "id": "965b40b7",
   "metadata": {},
   "source": [
    "## print()\n",
    "\n",
    "The print() function is a built-in function that displays output on the screen.\n",
    "- It posseses two significant parameters: `sep` and `end`."
   ]
  },
  {
   "cell_type": "markdown",
   "id": "e5bd356a",
   "metadata": {},
   "source": [
    "### Whitespaces\n",
    "- The following whitespace characters are frequently used in print statements.\n",
    "    - `\\n`: new linw\n",
    "    - `\\t`: tab (seven spaces)\n",
    "    - `\\b`: backspace\n",
    "    - `\\r`: carriage return (goes to the beginning of the line)"
   ]
  },
  {
   "cell_type": "code",
   "execution_count": 7,
   "id": "98e1842c",
   "metadata": {},
   "outputs": [
    {
     "name": "stdout",
     "output_type": "stream",
     "text": [
      "A\n",
      "B\n"
     ]
    }
   ],
   "source": [
    "print('A\\nB') # after A it goes to the next line"
   ]
  },
  {
   "cell_type": "code",
   "execution_count": 8,
   "id": "79fe01b1",
   "metadata": {},
   "outputs": [
    {
     "name": "stdout",
     "output_type": "stream",
     "text": [
      "A       B\n",
      "A       B\n",
      "A\tB\n"
     ]
    }
   ],
   "source": [
    "print('A       B')     # 7 spaces\n",
    "print('A'+' '*7+'B')   # repetition of the string ' ' seven times\n",
    "print('A\\tB')          # using \\t"
   ]
  },
  {
   "cell_type": "code",
   "execution_count": 9,
   "id": "325e8f91",
   "metadata": {},
   "outputs": [
    {
     "name": "stdout",
     "output_type": "stream",
     "text": [
      "ABC\bD\n"
     ]
    }
   ],
   "source": [
    "print('ABC\\bD') # C is deleted by \\b"
   ]
  },
  {
   "cell_type": "code",
   "execution_count": 10,
   "id": "9405fa67",
   "metadata": {},
   "outputs": [
    {
     "name": "stdout",
     "output_type": "stream",
     "text": [
      "ABC\b\bD\n"
     ]
    }
   ],
   "source": [
    "print('ABC\\b\\bD') # C and B are deleted by two \\b s"
   ]
  },
  {
   "cell_type": "code",
   "execution_count": 11,
   "id": "8af96bfd",
   "metadata": {},
   "outputs": [
    {
     "name": "stdout",
     "output_type": "stream",
     "text": [
      "ABC\r",
      "D\n"
     ]
    }
   ],
   "source": [
    "print('ABC\\rD') # After C it goes back to the beginning therefore A, B, and C are deleted"
   ]
  },
  {
   "cell_type": "markdown",
   "id": "65a4c6b9",
   "metadata": {},
   "source": [
    "### sep parameter\n",
    "- It is the separator parameter.\n",
    "- It determines what to insert between the comma-separated values in a print function.\n",
    "- The default value is a single space: `' '`. \n",
    "- sep values are strings"
   ]
  },
  {
   "cell_type": "code",
   "execution_count": 12,
   "id": "947fa611",
   "metadata": {},
   "outputs": [
    {
     "name": "stdout",
     "output_type": "stream",
     "text": [
      "A 25 B Tom\n"
     ]
    }
   ],
   "source": [
    "name = 'Tom'\n",
    "age = 25\n",
    "print('A', age, 'B', name)            # by deafult there is one space between each value"
   ]
  },
  {
   "cell_type": "code",
   "execution_count": 4,
   "id": "9ba3b088",
   "metadata": {},
   "outputs": [
    {
     "name": "stdout",
     "output_type": "stream",
     "text": [
      "A-24-B-Tom\n"
     ]
    }
   ],
   "source": [
    "name = 'Tom'\n",
    "print('A', age, 'B', name, sep='-')   #  values are separated by one - (dash)"
   ]
  },
  {
   "cell_type": "code",
   "execution_count": 14,
   "id": "705bed6b",
   "metadata": {},
   "outputs": [
    {
     "name": "stdout",
     "output_type": "stream",
     "text": [
      "A***25***B***Tom\n"
     ]
    }
   ],
   "source": [
    "name = 'Tom'\n",
    "print('A', age, 'B', name, sep='***') #  values are separated by three asterisks"
   ]
  },
  {
   "cell_type": "markdown",
   "id": "50d01c78",
   "metadata": {},
   "source": [
    "### end parameter\n",
    "- It determines what to print at the end of the output.\n",
    "- The default value of end parameter is the new line: `'\\n'`. \n",
    "- end values are strings"
   ]
  },
  {
   "cell_type": "markdown",
   "id": "3ea2982a-28e5-4d70-adc6-b33eb7648a4b",
   "metadata": {},
   "source": [
    "**Example**"
   ]
  },
  {
   "cell_type": "code",
   "execution_count": 15,
   "id": "c60b8cf2",
   "metadata": {},
   "outputs": [
    {
     "name": "stdout",
     "output_type": "stream",
     "text": [
      "A\n",
      "B\n",
      "C\n",
      "D\n"
     ]
    }
   ],
   "source": [
    "print('A')  # end='\\n' by default, after printing A it goes to next line\n",
    "print('B')  # end='\\n' by default, after printing B it goes to next line\n",
    "print('C')  # end='\\n' by default, after printing C it goes to next line\n",
    "print('D')  # end='\\n' by default, after printing C it goes to next line"
   ]
  },
  {
   "cell_type": "markdown",
   "id": "c5d1dd8c-fab7-4a8e-84df-99160db2f9c8",
   "metadata": {},
   "source": [
    "**Example**"
   ]
  },
  {
   "cell_type": "code",
   "execution_count": 16,
   "id": "9a66daf9",
   "metadata": {},
   "outputs": [
    {
     "name": "stdout",
     "output_type": "stream",
     "text": [
      "A--B\n",
      "C\n",
      "D\n"
     ]
    }
   ],
   "source": [
    "print('A', end='--')  # end='--'           , after printing A it prints '--'\n",
    "print('B')            # end='\\n' by default, after printing B it goes to next line\n",
    "print('C')            # end='\\n' by default, after printing C it goes to next line\n",
    "print('D')            # end='\\n' by default, after printing C it goes to next line"
   ]
  },
  {
   "cell_type": "markdown",
   "id": "76b4799a-564e-43ca-b185-f731df5ab353",
   "metadata": {},
   "source": [
    "**Example**"
   ]
  },
  {
   "cell_type": "code",
   "execution_count": 17,
   "id": "61b9416a",
   "metadata": {},
   "outputs": [
    {
     "name": "stdout",
     "output_type": "stream",
     "text": [
      "A--B+C\n",
      "D\n"
     ]
    }
   ],
   "source": [
    "print('A', end='--')  # end='--'           , after printing A it prints --\n",
    "print('B', end='+')   # end='+'            , after printing B it prints +\n",
    "print('C')            # end='\\n' by default, after printing C it goes to next line\n",
    "print('D')            # end='\\n' by default, after printing C it goes to next line"
   ]
  },
  {
   "cell_type": "markdown",
   "id": "5ff2becc-2b9b-4d19-83d7-d167ca834f28",
   "metadata": {},
   "source": [
    "**Example**"
   ]
  },
  {
   "cell_type": "code",
   "execution_count": 18,
   "id": "f997a842",
   "metadata": {},
   "outputs": [
    {
     "name": "stdout",
     "output_type": "stream",
     "text": [
      "A\n",
      "B+C?D\n"
     ]
    }
   ],
   "source": [
    "print('A')            # end='\\n' by default, after printing A it goes to next line\n",
    "print('B', end='+')   # end='+'            , after printing B it prints +\n",
    "print('C', end='?')   # end='+'            , after printing C it prints ?\n",
    "print('D')            # end='\\n' by default, after printing C it goes to next line"
   ]
  }
 ],
 "metadata": {
  "hide_input": false,
  "kernelspec": {
   "display_name": "Python 3 (ipykernel)",
   "language": "python",
   "name": "python3"
  },
  "language_info": {
   "codemirror_mode": {
    "name": "ipython",
    "version": 3
   },
   "file_extension": ".py",
   "mimetype": "text/x-python",
   "name": "python",
   "nbconvert_exporter": "python",
   "pygments_lexer": "ipython3",
   "version": "3.11.7"
  },
  "toc": {
   "base_numbering": 1,
   "nav_menu": {},
   "number_sections": true,
   "sideBar": true,
   "skip_h1_title": false,
   "title_cell": "Table of Contents",
   "title_sidebar": "Contents",
   "toc_cell": false,
   "toc_position": {
    "height": "calc(100% - 180px)",
    "left": "10px",
    "top": "150px",
    "width": "278.391px"
   },
   "toc_section_display": true,
   "toc_window_display": true
  }
 },
 "nbformat": 4,
 "nbformat_minor": 5
}
