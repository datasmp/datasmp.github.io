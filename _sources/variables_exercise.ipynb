{
 "cells": [
  {
   "cell_type": "markdown",
   "id": "b4ac5876-4e84-4c82-b2d4-0f9d60ae4472",
   "metadata": {},
   "source": [
    "# Variables Exercises\n",
    "\n",
    "![Section Title: Variables Exercises](title_pict/variables_exercises2.png)"
   ]
  },
  {
   "cell_type": "markdown",
   "id": "d489197e-05e8-4233-87ba-c5cc9d92f69a",
   "metadata": {
    "jp-MarkdownHeadingCollapsed": true
   },
   "source": [
    "## Question-1: Name Tag\n",
    "Use the following information to create the variables name, league, age, and height with the given values.\n",
    "- Create the birthyear variable using the age variable.\n",
    "- Design a name tag as given below.\n",
    "- There is a space between each asterisk in the first and last lines.\n",
    "  \n",
    "*Michael Jordan played basketball in the NBA. In 2024, he is 61 years old, and his height is 1.98 meters.*\n",
    "\n",
    "Sample Output:\n",
    "\n",
    "![ A rectangular frame made of asterisks that includes the following text:\n",
    "Name     : Michael Jordan\n",
    "League   : NBA            \n",
    "Age      : 61             \n",
    "Birthyear: 1963           \n",
    "Height   : 1.98 m         ](pict/name_tag.png)"
   ]
  },
  {
   "cell_type": "markdown",
   "id": "97be94b8-f3d9-4234-8e35-71d7dd20fffa",
   "metadata": {},
   "source": [
    "## Question-2"
   ]
  },
  {
   "cell_type": "markdown",
   "id": "12d9d3da-fc13-436f-b6d6-5ecc79eb86cf",
   "metadata": {},
   "source": [
    "By using the variables $x$ and $y$ given below, print `353535` using 4 different pieces of code."
   ]
  },
  {
   "cell_type": "code",
   "execution_count": 1,
   "id": "621bb88a-f144-4a5a-8a0e-53bc298bae84",
   "metadata": {},
   "outputs": [],
   "source": [
    "x, y = 3, 5"
   ]
  },
  {
   "cell_type": "markdown",
   "id": "9cebb544-14ac-49ae-a177-7b747a566d25",
   "metadata": {},
   "source": [
    "## Question-3"
   ]
  },
  {
   "cell_type": "markdown",
   "id": "663fb300-0d5a-46f0-9a4f-0b14c1545b80",
   "metadata": {},
   "source": [
    "Print the statement `I went to Italy in 2015.` using the country and year variables below.\n",
    "\n",
    "``` python\n",
    "country = 'Italy'\n",
    "year = 2015\n",
    "```\n",
    "*Warning: There is no space before the period.*"
   ]
  },
  {
   "cell_type": "markdown",
   "id": "70666c96-d635-4050-ba33-0b7ac9a576c2",
   "metadata": {},
   "source": [
    "## Question-4: Circle"
   ]
  },
  {
   "cell_type": "markdown",
   "id": "1cbd45ee-bb4f-46d3-8e22-68b1a0d8192e",
   "metadata": {},
   "source": [
    "Create a variable named `r` and assign the value of $5$ to it.\n",
    "- Print the area and perimeter of the circle with a radius equal to `r`.\n",
    "- Round them to the nearest hundredth.\n",
    "- Hint:\n",
    "    - Perimeter = $2\\pi r$, Area = $\\pi r^2$\n",
    "    - Import $\\pi$ from a module. \n",
    "- Output:\n",
    "    - Perimeter: 31.42\n",
    "    - Area     : 78.54"
   ]
  },
  {
   "cell_type": "markdown",
   "id": "9a9f5e8b-2597-4096-8376-6744e9d9ab8f",
   "metadata": {},
   "source": [
    "## Question-5: U-Shape"
   ]
  },
  {
   "cell_type": "markdown",
   "id": "83013432-bc1c-432b-8bbd-9ff4edd8e9b6",
   "metadata": {},
   "source": [
    "Print the letter *U* using the character `+` and the variable *horizontal*.\n",
    "``` python\n",
    "horizontal = 3\n",
    "```\n",
    "- The vertical left and right parts of *U* have five `+` characters each.\n",
    "- The variable *horizontal* represents the number of `+` characters with one space between them in the bottom horizontal part.\n",
    "\n",
    "**Examples**\n",
    "![The U shape is formed using + characters. The first four rows each contain two + characters with a varying number of spaces between them, depending on the horizontal variable's value. The final row (fifth) contains a number of + characters equal to the horizontal variable's value, with one space separating each +.](pict/horizontal.png)"
   ]
  },
  {
   "cell_type": "markdown",
   "id": "32f054ce-6a7b-40bd-9a31-43219ff0654c",
   "metadata": {},
   "source": [
    "## Question-6: V-Shape"
   ]
  },
  {
   "cell_type": "markdown",
   "id": "13e1adaa-6626-4aa9-9c84-59cd630f38b9",
   "metadata": {},
   "source": [
    "Print the following using the character `*`, spaces and the variable `n=5` to represent the number of `*` characters in each block.\n",
    "\n",
    "![In the first row, there are two blocks of n stars with 7n spaces between them.\n",
    "In the second row, there are two blocks of n stars with 5n spaces between them.\n",
    "In the third row, there are two blocks of n stars with 3n spaces between them.\n",
    "In the fourth row, there are two blocks of n stars with n spaces between them.\n",
    "In the fifth (last) row, there is a single block of n stars.](pict/v_stars.png)"
   ]
  },
  {
   "cell_type": "markdown",
   "id": "ce720ed9-2ff4-4d57-a82f-c82c687b2c1b",
   "metadata": {},
   "source": [
    "## Question-7: H-Shape\n",
    "\n",
    "Print the following 'H' shapes using the characters '+', ' ', '-', and the variable `number_dash`. \n",
    "``` python\n",
    "number_dash = 5\n",
    "```\n",
    "\n",
    "- The number of '-' characters in the middle line is represented by the variable 'number_dash'.\n",
    "  \n",
    "**Examples**\n",
    "![In the first and third (last) rows, there are two + characters with a certain number of spaces between them, depending on the number_dash variable. In the second row, there are two + characters with a certain number of dashes between them, also determined by the number_dash variable. There is a spaceafter each dash.](pict/H_shape.png)"
   ]
  }
 ],
 "metadata": {
  "kernelspec": {
   "display_name": "Python 3 (ipykernel)",
   "language": "python",
   "name": "python3"
  },
  "language_info": {
   "codemirror_mode": {
    "name": "ipython",
    "version": 3
   },
   "file_extension": ".py",
   "mimetype": "text/x-python",
   "name": "python",
   "nbconvert_exporter": "python",
   "pygments_lexer": "ipython3",
   "version": "3.11.8"
  }
 },
 "nbformat": 4,
 "nbformat_minor": 5
}
