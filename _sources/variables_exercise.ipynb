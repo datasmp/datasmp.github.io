{
 "cells": [
  {
   "cell_type": "markdown",
   "id": "b4ac5876-4e84-4c82-b2d4-0f9d60ae4472",
   "metadata": {},
   "source": [
    "# Variables Exercises\n",
    "\n",
    "![Section Title: Variables Exercises](title_pict/variables_exercises2.png)"
   ]
  },
  {
   "cell_type": "markdown",
   "id": "f3b53a41-771e-4d0e-8367-fad4170b9527",
   "metadata": {},
   "source": [
    "## Warm Up Question\n",
    "Define a variable called `quantity` and assign it the value `25`. Display its ID number and type."
   ]
  },
  {
   "cell_type": "markdown",
   "id": "7bdabef9-b700-4bb8-937d-e41656d4f75e",
   "metadata": {},
   "source": [
    "## Warm Up Question\n",
    "Which of the following cannot be used as a variable name, and why?\n",
    "1. `_name`\n",
    "2. `1player`\n",
    "3.  `player_name`\n",
    "4. `birth year`\n",
    "5. `True`"
   ]
  },
  {
   "cell_type": "markdown",
   "id": "9cffe0da-4f18-495b-b1f7-3433f3178653",
   "metadata": {},
   "source": [
    "## Warm Up Question\n",
    "Determine the output of the code below and provide an explanation.\n",
    "``` python\n",
    "x = 5\n",
    "print(x)\n",
    "x = 7\n",
    "print(x)"
   ]
  },
  {
   "cell_type": "markdown",
   "id": "8451336b-88cc-4876-8120-abe10732869e",
   "metadata": {},
   "source": [
    "## Warm Up Question\n",
    "Use the provided variables and print() function to output the statement: \n",
    "`Harry is 23 years old.`\n",
    "```python\n",
    "name, age = 'Harry', 23\n"
   ]
  },
  {
   "cell_type": "markdown",
   "id": "af8a0491-5458-40db-8936-7e15e7fd76d8",
   "metadata": {},
   "source": [
    "## Warm Up Question\n",
    "Use the given variables and string concatenation to display 35.\n",
    "``` python\n",
    "x, y = 3, 5\n"
   ]
  },
  {
   "cell_type": "markdown",
   "id": "d489197e-05e8-4233-87ba-c5cc9d92f69a",
   "metadata": {
    "jp-MarkdownHeadingCollapsed": true
   },
   "source": [
    "## Question-1: Name Tag\n",
    "Use the following information to create the variables name, league, age, and height with the given values.\n",
    "- Create the birthyear variable using the age variable.\n",
    "- Design a name tag as given below.\n",
    "- There is a space between each asterisk in the first and last lines.\n",
    "  \n",
    "*Michael Jordan played basketball in the NBA. In 2024, he is 61 years old, and his height is 1.98 meters.*\n",
    "\n",
    "Sample Output:\n",
    "\n",
    "![ A rectangular frame made of asterisks that includes the following text:\n",
    "Name     : Michael Jordan\n",
    "League   : NBA            \n",
    "Age      : 61             \n",
    "Birthyear: 1963           \n",
    "Height   : 1.98 m         ](pict/name_tag.png)"
   ]
  },
  {
   "cell_type": "markdown",
   "id": "97be94b8-f3d9-4234-8e35-71d7dd20fffa",
   "metadata": {},
   "source": [
    "## Question-2"
   ]
  },
  {
   "cell_type": "markdown",
   "id": "12d9d3da-fc13-436f-b6d6-5ecc79eb86cf",
   "metadata": {},
   "source": [
    "By using the variables $x$ and $y$ given below, print `353535` using 4 different pieces of code."
   ]
  },
  {
   "cell_type": "code",
   "execution_count": 1,
   "id": "621bb88a-f144-4a5a-8a0e-53bc298bae84",
   "metadata": {},
   "outputs": [],
   "source": [
    "x, y = 3, 5"
   ]
  },
  {
   "cell_type": "markdown",
   "id": "9cebb544-14ac-49ae-a177-7b747a566d25",
   "metadata": {},
   "source": [
    "## Question-3"
   ]
  },
  {
   "cell_type": "markdown",
   "id": "663fb300-0d5a-46f0-9a4f-0b14c1545b80",
   "metadata": {},
   "source": [
    "Print the statement `I went to Italy in 2015.` using the country and year variables below.\n",
    "\n",
    "``` python\n",
    "country = 'Italy'\n",
    "year = 2015\n",
    "```\n",
    "*Warning: There is no space before the period.*"
   ]
  },
  {
   "cell_type": "markdown",
   "id": "70666c96-d635-4050-ba33-0b7ac9a576c2",
   "metadata": {},
   "source": [
    "## Question-4: Circle"
   ]
  },
  {
   "cell_type": "markdown",
   "id": "1cbd45ee-bb4f-46d3-8e22-68b1a0d8192e",
   "metadata": {},
   "source": [
    "Create a variable named `r` and assign the value of $5$ to it.\n",
    "- Print the area and perimeter of the circle with a radius equal to `r`.\n",
    "- Round them to the nearest hundredth.\n",
    "- Hint:\n",
    "    - Perimeter = $2\\pi r$, Area = $\\pi r^2$\n",
    "    - Import $\\pi$ from a module. \n",
    "- Output:\n",
    "    - Perimeter: 31.42\n",
    "    - Area     : 78.54"
   ]
  },
  {
   "cell_type": "markdown",
   "id": "9a9f5e8b-2597-4096-8376-6744e9d9ab8f",
   "metadata": {},
   "source": [
    "## Question-5: U-Shape"
   ]
  },
  {
   "cell_type": "markdown",
   "id": "83013432-bc1c-432b-8bbd-9ff4edd8e9b6",
   "metadata": {},
   "source": [
    "Print the letter *U* using the character `+` and the variable *horizontal*.\n",
    "``` python\n",
    "horizontal = 3\n",
    "```\n",
    "- The vertical left and right parts of *U* have five `+` characters each.\n",
    "- The variable *horizontal* represents the number of `+` characters with one space between them in the bottom horizontal part.\n",
    "\n",
    "**Examples**\n",
    "![The U shape is formed using + characters. The first four rows each contain two + characters with a varying number of spaces between them, depending on the horizontal variable's value. The final row (fifth) contains a number of + characters equal to the horizontal variable's value, with one space separating each +.](pict/horizontal.png)"
   ]
  },
  {
   "cell_type": "markdown",
   "id": "32f054ce-6a7b-40bd-9a31-43219ff0654c",
   "metadata": {},
   "source": [
    "## Question-6: V-Shape"
   ]
  },
  {
   "cell_type": "markdown",
   "id": "13e1adaa-6626-4aa9-9c84-59cd630f38b9",
   "metadata": {},
   "source": [
    "Print the following using the character `*`, spaces and the variable `n=5` to represent the number of `*` characters in each block.\n",
    "\n",
    "![In the first row, there are two blocks of n stars with 7n spaces between them.\n",
    "In the second row, there are two blocks of n stars with 5n spaces between them.\n",
    "In the third row, there are two blocks of n stars with 3n spaces between them.\n",
    "In the fourth row, there are two blocks of n stars with n spaces between them.\n",
    "In the fifth (last) row, there is a single block of n stars.](pict/v_stars.png)"
   ]
  },
  {
   "cell_type": "markdown",
   "id": "ce720ed9-2ff4-4d57-a82f-c82c687b2c1b",
   "metadata": {},
   "source": [
    "## Question-7: H-Shape\n",
    "\n",
    "Print the following 'H' shapes using the characters '+', ' ', '-', and the variable `number_dash`. \n",
    "``` python\n",
    "number_dash = 5\n",
    "```\n",
    "\n",
    "- The number of '-' characters in the middle line is represented by the variable 'number_dash'.\n",
    "  \n",
    "**Examples**\n",
    "![In the first and third (last) rows, there are two + characters with a certain number of spaces between them, depending on the number_dash variable. In the second row, there are two + characters with a certain number of dashes between them, also determined by the number_dash variable. There is a spaceafter each dash.](pict/H_shape.png)"
   ]
  },
  {
   "cell_type": "markdown",
   "id": "09ea69fc-3cc8-44c5-8f10-c77afae6beee",
   "metadata": {},
   "source": [
    "## Business Applications"
   ]
  },
  {
   "cell_type": "markdown",
   "id": "60a99372-ef73-485b-8e36-2a197c814d0e",
   "metadata": {},
   "source": [
    "### Question: Demand Function\n",
    "*The demand, p = D(q), function shows how much of a product consumers want (q=quantity) and the price (p) they are willing to pay.*\n",
    "\n",
    "The demand function is given as the following linear relation: $p = -2q+300$\n",
    "- Determine the price if the number of items demanded is 75.\n",
    "- Use the variables $q$ and $p$."
   ]
  },
  {
   "cell_type": "markdown",
   "id": "e7ad862c-aced-48a2-9230-9255b2a3ef5a",
   "metadata": {},
   "source": [
    "### Question: Demand Equation\n",
    "A store can sell 1200 ice creams at 3 dollars each. If the price is 5 dollars, they can sell 800 ice creams.  \n",
    "What will be the price if 500 ice creams are sold, assuming the demand is linear?\n",
    "\n",
    "Hint:\n",
    "- Since the relation between `p` and `q` is linear, we have $p=mq+b$\n",
    "- The slope $m$ is calculated using the formula $\\displaystyle m=\\frac{p_2-p_1}{q_2-q_1}$ for given two points $(q_1,p_1)$ and $(q_2,p_2)$.\n",
    "- The y-intercept $b$ can be found using one of the points $(q_1,p_1)$ or $(q_2,p_2)$ so $b=p_1 - mq_1$ or $b=p_2 - mq_2$\n",
    "- Use the variables $q_1, p_1, q_2, p_2$ for the given values in the question."
   ]
  },
  {
   "cell_type": "markdown",
   "id": "51d9396d-a271-4878-ac24-b9ae319cb062",
   "metadata": {},
   "source": [
    "### Question: Supply Function\n",
    "\n",
    "*The supply function, $p=S(q)$, shows how the price (p) affects the quantity (q) that producers want to supply.*\n",
    "\n",
    "The supply function is given by the linear relation $p = 4q+100$.\n",
    "- Determine the price when 120 items are supplied.\n",
    "- Use the variables $q$ and $p$."
   ]
  },
  {
   "cell_type": "markdown",
   "id": "64e522e3-3dce-41fd-af15-bdbabcab05f7",
   "metadata": {},
   "source": [
    "### Question: Supply Equation\n",
    "A store can supply 2000 ice creams at 4 dollars each. If the price is 6 dollars, they can supply 6000 ice creams.\n",
    "How many ice creams can they supply at 5 dollars, assuming the supply is linear?\n",
    "\n",
    "Hint:\n",
    "- Since the relation between $p$ and $q$ is linear, we have $p=mq+b$\n",
    "- The slope $m$ is calculated using the formula $\\displaystyle m=\\frac{p_2-p_1}{q_2-q_1}$ for given two points $(q_1,p_1)$ and $(q_2,p_2)$.\n",
    "- The y-intercept $b$ can be found using one of the points $(q_1,p_1)$ or $(q_2,p_2)$ so $b=p_1 - mq_1$ or $b=p_2 - mq_2$\n",
    "- Use the variables $q_1, p_1, q_2, p_2$ for the given values in the question."
   ]
  },
  {
   "cell_type": "markdown",
   "id": "16375175-0f47-4f32-baa2-d164081a2900",
   "metadata": {},
   "source": [
    "### Question: Simple Interest\n",
    "*Simple Interest Formulas: $\\displaystyle I=P r t$ and $A = P + I$\n",
    "where*\n",
    "- *A is the final amount*\n",
    "- *I is the interest amount*\n",
    "- *P is the initial (principal) amount*\n",
    "- *r is the annual interest rate (decimal form)*\n",
    "- *t is the number of years*\n",
    "\n",
    "\n",
    "\n",
    "You borrow 1,200 dollars for 8 months at a 24% annual simple interest rate.\n",
    "- How much interest will you pay?\n",
    "- What is the total amount you will repay after 8 months?\n",
    "\n",
    "\n",
    "      \n",
    "Hint:\n",
    "- Use the variables $P, r, t$  for the given values.\n",
    "- Calculate the values of the variables $I$ and $A$.\n",
    "- t is 8/12 years.\n",
    "  \n",
    "Output:  \n",
    "a) I = 192.0  \n",
    "b) A = 1392.0  \n"
   ]
  },
  {
   "cell_type": "markdown",
   "id": "a42669c5-0c2d-4101-9927-453c1fc2d965",
   "metadata": {},
   "source": [
    "### Question: Compound Interest\n",
    "*Compund interest formula: $\\displaystyle A=P\\left(1+{\\frac {r}{n}}\\right)^{nt}$ where*\n",
    "- *A is the final amount*\n",
    "- *P is the initial (principal) amount*\n",
    "- *r is the annual interest rate (decimal form)*\n",
    "- *n is the compounding frequency (anual: n=1, semi annual: r=2, quarter: r=4, monthly: r=12)*\n",
    "- *t is the number of years*\n",
    "  \n",
    "If you deposit 800 dollars into a savings account with a 2.75 percent interest rate compounded monthly, what will be your balance after five years (Round your answer to the  nearest hundredth)?\n",
    "\n",
    "Hint:\n",
    "- Use the variables $P, r, n, t$  for the given values.\n",
    "- Calculate the value of the variable $A$.\n",
    "  "
   ]
  },
  {
   "cell_type": "markdown",
   "id": "7a42c6c6-564f-4d56-8434-4f1fa2356238",
   "metadata": {},
   "source": [
    "### Question: Continuous Compound Interest\n",
    "*Continuous Compound Interest formula: $\\displaystyle A=Pe^{rt}$ where*\n",
    "- *A is the final amount*\n",
    "- *P is the initial (principal) amount*\n",
    "- *r is the annual interest rate (decimal form)*\n",
    "- *t is the number of years*\n",
    "  \n",
    "If you deposit 500 dollars into a savings account with a 5.25 percent interest rate compounded continuously, what will be your balance after ten years (Round your answer to the  nearest hundredth)?\n",
    "\n",
    "Hint:\n",
    "- Use the variables $P, r, t$  for the given values.\n",
    "- Calculate the value of the variable $A$.\n",
    "- import the number *e* from the math module.\n",
    "\n"
   ]
  },
  {
   "cell_type": "code",
   "execution_count": null,
   "id": "d9d6376e-3fa5-4910-8c0e-37f71f486d29",
   "metadata": {},
   "outputs": [],
   "source": []
  }
 ],
 "metadata": {
  "kernelspec": {
   "display_name": "Python 3 (ipykernel)",
   "language": "python",
   "name": "python3"
  },
  "language_info": {
   "codemirror_mode": {
    "name": "ipython",
    "version": 3
   },
   "file_extension": ".py",
   "mimetype": "text/x-python",
   "name": "python",
   "nbconvert_exporter": "python",
   "pygments_lexer": "ipython3",
   "version": "3.11.8"
  }
 },
 "nbformat": 4,
 "nbformat_minor": 5
}
