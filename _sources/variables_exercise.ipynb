{
 "cells": [
  {
   "cell_type": "markdown",
   "id": "b4ac5876-4e84-4c82-b2d4-0f9d60ae4472",
   "metadata": {},
   "source": [
    "# Variables Exercises"
   ]
  },
  {
   "cell_type": "markdown",
   "id": "12d9d3da-fc13-436f-b6d6-5ecc79eb86cf",
   "metadata": {},
   "source": [
    "## Question-1\n",
    "By using the variables $x$ and $y$ given below, print 353535 using 4 different pieces of code."
   ]
  },
  {
   "cell_type": "code",
   "execution_count": 2,
   "id": "621bb88a-f144-4a5a-8a0e-53bc298bae84",
   "metadata": {},
   "outputs": [],
   "source": [
    "x, y = 3, 5"
   ]
  },
  {
   "cell_type": "markdown",
   "id": "83013432-bc1c-432b-8bbd-9ff4edd8e9b6",
   "metadata": {},
   "source": [
    "## Question-2: U-Shape\n",
    "Print the letter *U* using the character `+`.\n",
    "- The vertical left and right parts of *U* have five `+` characters each.\n",
    "\n",
    "``` python\n",
    "horizontal = 3\n",
    "```\n",
    "\n",
    "- The variable *horizontal* represents the number of `+` characters with one space between them in the bottom horizontal part.\n",
    "\n",
    "**Examples**\n",
    "![](pict/horizontal.png)"
   ]
  },
  {
   "cell_type": "markdown",
   "id": "8eb8f3d5-1e86-44f8-828f-9d66fad47c7f",
   "metadata": {},
   "source": [
    "## Question-3\n",
    "Print the statement \"I went to Italy in 2015.\" using the country and year variables below.\n",
    "\n",
    "``` python\n",
    "country = 'Italy'\n",
    "year = 2015\n",
    "```\n",
    "*Warning: There is no space before the period.*"
   ]
  },
  {
   "cell_type": "markdown",
   "id": "2ebf2b5b-5322-44df-9067-a9ae8624bbe5",
   "metadata": {},
   "source": [
    "## Question-4\n",
    "Create a variable named `r` and assign the value of $5$ to it.\n",
    "- Print the area and perimeter of the circle with a radius equal to `r`.\n",
    "- Round them to the nearest hundredth.\n",
    "- Hint:\n",
    "    - Perimeter = $2\\pi r$, Area = $\\pi r^2$\n",
    "    - Import $\\pi$ from a module. \n",
    "- Output:\n",
    "    - Perimeter: 31.42\n",
    "    - Area     : 78.54"
   ]
  },
  {
   "cell_type": "markdown",
   "id": "13e1adaa-6626-4aa9-9c84-59cd630f38b9",
   "metadata": {},
   "source": [
    "## Question-5\n",
    "Print the following using the character `*`, spaces and the variable `n=5`.\n",
    "\n",
    "![](pict/v_stars.png)"
   ]
  },
  {
   "cell_type": "markdown",
   "id": "ce720ed9-2ff4-4d57-a82f-c82c687b2c1b",
   "metadata": {},
   "source": [
    "## Question-6: H-Shape\n",
    "\n",
    "Print the following 'H' shapes using the characters '+', ' ', and '-'. \n",
    "- The number of '-' characters in the middle line is represented by the variable 'number_dash'.\n",
    "  \n",
    "``` python\n",
    "number_dash = 5\n",
    "```\n",
    "\n",
    "**Examples**\n",
    "![](pict/H_shape.png)"
   ]
  },
  {
   "cell_type": "markdown",
   "id": "a42669c5-0c2d-4101-9927-453c1fc2d965",
   "metadata": {},
   "source": [
    "## Question-7: Compound Interest\n",
    "If you deposit 800 dollars into a savings account with a 2.75 percent interest rate compounded monthly, what will be your balance after five years (Round your answer to the  nearest hundredth)?\n",
    "- Use the variables: $P,r,n,t$, and the following formula:\n",
    "\n",
    "$\\displaystyle A=P\\left(1+{\\frac {r}{n}}\\right)^{nt}$\n",
    "where:\n",
    "- A is the final amount\n",
    "- P is the initial (principal) amount\n",
    "- r is the annual interest rate (decimal form)\n",
    "- n is the compounding frequency (anual: n=1, semi annual: r=2, quarter: r=4, monthly: r=12)\n",
    "- t is the number of years.\n"
   ]
  },
  {
   "cell_type": "markdown",
   "id": "7a42c6c6-564f-4d56-8434-4f1fa2356238",
   "metadata": {},
   "source": [
    "## Question-8: Continous Compound\n",
    "If you deposit 500 dollars into a savings account with a 5.25 percent interest rate compounded continously, what will be your balance after ten years (Round your answer to the  nearest hundredth)?\n",
    "- Use the variables: $P,r,t$, and the following formula:\n",
    "\n",
    "$\\displaystyle A=Pe^{rt}$\n",
    "where:\n",
    "- A is the final amount\n",
    "- P is the initial (principal) amount\n",
    "- r is the annual interest rate (decimal form)\n",
    "- t is the number of years.\n",
    "\n"
   ]
  },
  {
   "cell_type": "code",
   "execution_count": null,
   "id": "a4852c0b-9a9c-4b18-aecc-0cf3e8021faf",
   "metadata": {},
   "outputs": [],
   "source": []
  }
 ],
 "metadata": {
  "kernelspec": {
   "display_name": "Python 3 (ipykernel)",
   "language": "python",
   "name": "python3"
  },
  "language_info": {
   "codemirror_mode": {
    "name": "ipython",
    "version": 3
   },
   "file_extension": ".py",
   "mimetype": "text/x-python",
   "name": "python",
   "nbconvert_exporter": "python",
   "pygments_lexer": "ipython3",
   "version": "3.11.7"
  }
 },
 "nbformat": 4,
 "nbformat_minor": 5
}
