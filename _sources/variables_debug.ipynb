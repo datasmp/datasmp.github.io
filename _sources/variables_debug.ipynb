{
 "cells": [
  {
   "cell_type": "markdown",
   "id": "13e18a7d",
   "metadata": {},
   "source": [
    "# Variables Debugging\n",
    "\n",
    "![Section Title: Variables Debugging](title_pict/variables_debugging2.png)\n",
    "\n",
    "- Each of the following short code contains one or more bugs. &emsp;&emsp;&emsp;&emsp;\n",
    "- Please identify and correct these bugs.\n",
    "- Provide an explanation for your answer."
   ]
  },
  {
   "cell_type": "markdown",
   "id": "854437f7",
   "metadata": {},
   "source": [
    "## Question-1\n",
    "\n",
    "``` python\n",
    "state = 'NY'\n",
    "int(state)\n",
    "```"
   ]
  },
  {
   "cell_type": "markdown",
   "id": "48a8af1e",
   "metadata": {},
   "source": [
    "```{admonition} Solution\n",
    ":class: toggle\n",
    "string `state` can not be converted to an integer."
   ]
  },
  {
   "cell_type": "markdown",
   "id": "934b3a16",
   "metadata": {},
   "source": [
    "## Question-2\n",
    "\n",
    "``` python\n",
    "991_number = 'emergency'\n",
    "```"
   ]
  },
  {
   "cell_type": "markdown",
   "id": "569b11be",
   "metadata": {},
   "source": [
    "```{admonition} Solution\n",
    ":class: toggle\n",
    "variable names can not start with a digit"
   ]
  },
  {
   "cell_type": "markdown",
   "id": "3407987f",
   "metadata": {},
   "source": [
    "## Question-3\n",
    "\n",
    "``` python\n",
    "float('HI')\n",
    "```"
   ]
  },
  {
   "cell_type": "markdown",
   "id": "eeb0c3c7",
   "metadata": {},
   "source": [
    "```{admonition} Solution\n",
    ":class: toggle\n",
    "string `HI` can not be converted to a float."
   ]
  },
  {
   "cell_type": "markdown",
   "id": "8e66629f",
   "metadata": {},
   "source": [
    "## Question-4\n",
    "\n",
    "``` python\n",
    "A = 3\n",
    "print(a + 5)\n",
    "```"
   ]
  },
  {
   "cell_type": "markdown",
   "id": "0ba65ee5",
   "metadata": {},
   "source": [
    "```{admonition} Solution\n",
    ":class: toggle\n",
    "`a` is not defined because capital `A` is 3 "
   ]
  },
  {
   "cell_type": "markdown",
   "id": "3eab9115",
   "metadata": {},
   "source": [
    "## Question-5\n",
    "\n",
    "``` python\n",
    "True = 5\n",
    "print(True)\n",
    "```"
   ]
  },
  {
   "cell_type": "markdown",
   "id": "893bc9c6",
   "metadata": {},
   "source": [
    "```{admonition} Solution\n",
    ":class: toggle\n",
    "Keywords can not be used as a variable names. `True` is a keyword. "
   ]
  },
  {
   "cell_type": "markdown",
   "id": "2e911a8f",
   "metadata": {},
   "source": [
    "## Question-6\n",
    "\n",
    "``` python\n",
    "print(int('5.0'))\n",
    "```"
   ]
  },
  {
   "cell_type": "markdown",
   "id": "cb282869",
   "metadata": {},
   "source": [
    "```{admonition} Solution\n",
    ":class: toggle\n",
    "`5.0` is not an integer "
   ]
  },
  {
   "cell_type": "markdown",
   "id": "d91181a7",
   "metadata": {},
   "source": [
    "## Question-7\n",
    "\n",
    "``` python\n",
    "age = 25\n",
    "print('I am'+age+'years old.')\n",
    "```"
   ]
  },
  {
   "cell_type": "markdown",
   "id": "9ee9553d",
   "metadata": {},
   "source": [
    "```{admonition} Solution\n",
    ":class: toggle\n",
    "- `I am` is a string and `age` is an integer. \n",
    "- '+' can not be used to concatenate numbers and strings "
   ]
  },
  {
   "cell_type": "markdown",
   "id": "616a957b-51e4-49f6-97e3-f09c042c6aca",
   "metadata": {},
   "source": [
    "## Question-8\n",
    "\n",
    "``` python\n",
    "print = 25\n",
    "print('Hello')\n",
    "```"
   ]
  },
  {
   "cell_type": "markdown",
   "id": "101be7be-6505-43c2-8ff1-e5da909da6f2",
   "metadata": {},
   "source": [
    "```{admonition} Solution\n",
    ":class: toggle\n",
    "- In the first line, *print* becomes a variable, and its value is 25, so it loses its function property."
   ]
  },
  {
   "cell_type": "markdown",
   "id": "d1e39984-3efb-4053-9fbd-5f3afacd8db2",
   "metadata": {},
   "source": [
    "## Question-9\n",
    "\n",
    "``` python\n",
    "number : 3\n",
    "print(number)\n",
    "```"
   ]
  },
  {
   "cell_type": "markdown",
   "id": "86d5a58d-6147-4d9e-a998-d4ae9e1b7221",
   "metadata": {},
   "source": [
    "```{admonition} Solution\n",
    ":class: toggle\n",
    "In Python, a value is assigned to a variable using the = sign, not :."
   ]
  },
  {
   "cell_type": "markdown",
   "id": "d7177605-0ba5-4fe0-8f45-d06ee21facf3",
   "metadata": {},
   "source": [
    "## Question-10\n",
    "\n",
    "``` python\n",
    "number = 3\n",
    "type(number)\n",
    "```"
   ]
  },
  {
   "cell_type": "markdown",
   "id": "476da0dd-2c17-4701-821a-107c88088909",
   "metadata": {},
   "source": [
    "```{admonition} Solution\n",
    ":class: toggle\n",
    "When calling the type() function, parentheses () should be used instead of square brackets []."
   ]
  },
  {
   "cell_type": "markdown",
   "id": "7b945cf4-d412-4b42-b83a-c850794eaa24",
   "metadata": {},
   "source": [
    "## Question-11\n",
    "\n",
    "``` python\n",
    "first name = 'Joseph'\n",
    "```"
   ]
  },
  {
   "cell_type": "markdown",
   "id": "da2ca481-ebf1-4fd6-9171-d6714b410f62",
   "metadata": {},
   "source": [
    "```{admonition} Solution\n",
    ":class: toggle\n",
    "Variable names cannot contain spaces. Instead, you can use an underscore (_) to separate words in variable names."
   ]
  },
  {
   "cell_type": "markdown",
   "id": "8cb1a285-beb7-4ad4-90f6-9caca2e5fcf3",
   "metadata": {},
   "source": [
    "## Question-12\n",
    "\n",
    "``` python\n",
    "x = 5, y = 8\n",
    "print(x+y)\n",
    "```"
   ]
  },
  {
   "cell_type": "markdown",
   "id": "891a75fc-89db-44cf-aa85-7e1d11083b52",
   "metadata": {},
   "source": [
    "```{admonition} Solution\n",
    ":class: toggle\n",
    "In multiple assignments, all variable names must be on the left in a comma-separated format, and the corresponding values must be on the right, also separated by commas. Therefore it must be x, y = 5, 8\n"
   ]
  },
  {
   "cell_type": "markdown",
   "id": "14eacb82-65d8-463b-a780-68cfc7672634",
   "metadata": {},
   "source": [
    "## Question-13\n",
    "\n",
    "``` python\n",
    "age = 25\n",
    "print('I am' age 'years old.')\n",
    "```"
   ]
  },
  {
   "cell_type": "markdown",
   "id": "bcc849e8-49fd-4236-a2cb-5f7aa51c66bd",
   "metadata": {},
   "source": [
    "```{admonition} Solution\n",
    ":class: toggle\n",
    "You can use a comma to separate a constant string and a variable in a print statement: print('I am', age, 'years old.')"
   ]
  },
  {
   "cell_type": "markdown",
   "id": "4f14bf35-ffdc-4c5c-b6ba-3ac342a9c93d",
   "metadata": {},
   "source": [
    "## Question-14\n",
    "\n",
    "``` python\n",
    "age = '25'\n",
    "birthyear = 2020 - age \n",
    "```"
   ]
  },
  {
   "cell_type": "markdown",
   "id": "a628dd2d-7c75-47ae-95c7-80e645321bd7",
   "metadata": {},
   "source": [
    "```{admonition} Solution\n",
    ":class: toggle\n",
    "The variable age is a string, and you cannot subtract a string from an integer."
   ]
  },
  {
   "cell_type": "markdown",
   "id": "f77c79f2-db5a-4058-8169-c7dc38735af4",
   "metadata": {},
   "source": [
    "## Question-15\n",
    "\n",
    "``` python\n",
    "birthyear = 2020 - age \n",
    "```"
   ]
  },
  {
   "cell_type": "markdown",
   "id": "959fe7c6-daad-40c5-82c1-cc502f52dd93",
   "metadata": {},
   "source": [
    "```{admonition} Solution\n",
    ":class: toggle\n",
    "The variable age is not defined."
   ]
  },
  {
   "cell_type": "markdown",
   "id": "f85fad09",
   "metadata": {},
   "source": []
  },
  {
   "cell_type": "code",
   "execution_count": null,
   "id": "41af079f",
   "metadata": {},
   "outputs": [],
   "source": []
  }
 ],
 "metadata": {
  "hide_input": false,
  "kernelspec": {
   "display_name": "Python 3 (ipykernel)",
   "language": "python",
   "name": "python3"
  },
  "language_info": {
   "codemirror_mode": {
    "name": "ipython",
    "version": 3
   },
   "file_extension": ".py",
   "mimetype": "text/x-python",
   "name": "python",
   "nbconvert_exporter": "python",
   "pygments_lexer": "ipython3",
   "version": "3.11.8"
  },
  "toc": {
   "base_numbering": 1,
   "nav_menu": {},
   "number_sections": true,
   "sideBar": true,
   "skip_h1_title": false,
   "title_cell": "Table of Contents",
   "title_sidebar": "Contents",
   "toc_cell": false,
   "toc_position": {},
   "toc_section_display": true,
   "toc_window_display": false
  }
 },
 "nbformat": 4,
 "nbformat_minor": 5
}
