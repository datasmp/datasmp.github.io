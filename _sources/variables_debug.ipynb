{
 "cells": [
  {
   "cell_type": "markdown",
   "id": "13e18a7d",
   "metadata": {},
   "source": [
    "# Variables Debugging\n",
    "\n",
    "- Each of the following short code contains one or more bugs. &emsp;&emsp;&emsp;&emsp;\n",
    "- Please identify and correct these bugs.\n",
    "- Provide an explanation for your answer."
   ]
  },
  {
   "cell_type": "markdown",
   "id": "854437f7",
   "metadata": {},
   "source": [
    "## Question\n",
    "\n",
    "``` python\n",
    "state = 'NY'\n",
    "int(state)\n",
    "```"
   ]
  },
  {
   "cell_type": "markdown",
   "id": "48a8af1e",
   "metadata": {},
   "source": [
    "```{admonition} Solution\n",
    ":class: toggle\n",
    "string `state` can not be converted to an integer."
   ]
  },
  {
   "cell_type": "markdown",
   "id": "934b3a16",
   "metadata": {},
   "source": [
    "## Question\n",
    "\n",
    "``` python\n",
    "991_number = 'emergency'\n",
    "```"
   ]
  },
  {
   "cell_type": "markdown",
   "id": "569b11be",
   "metadata": {},
   "source": [
    "```{admonition} Solution\n",
    ":class: toggle\n",
    "variable names can not start with a digit"
   ]
  },
  {
   "cell_type": "markdown",
   "id": "3407987f",
   "metadata": {},
   "source": [
    "## Question\n",
    "\n",
    "``` python\n",
    "float('HI')\n",
    "```"
   ]
  },
  {
   "cell_type": "markdown",
   "id": "eeb0c3c7",
   "metadata": {},
   "source": [
    "```{admonition} Solution\n",
    ":class: toggle\n",
    "string `HI` can not be converted to a float."
   ]
  },
  {
   "cell_type": "markdown",
   "id": "8e66629f",
   "metadata": {},
   "source": [
    "## Question\n",
    "\n",
    "``` python\n",
    "A = 3\n",
    "print(a + 5)\n",
    "```"
   ]
  },
  {
   "cell_type": "markdown",
   "id": "0ba65ee5",
   "metadata": {},
   "source": [
    "```{admonition} Solution\n",
    ":class: toggle\n",
    "`a` is not defined because capital `A` is 3 "
   ]
  },
  {
   "cell_type": "markdown",
   "id": "3eab9115",
   "metadata": {},
   "source": [
    "## Question\n",
    "\n",
    "``` python\n",
    "True = 5\n",
    "print(True)\n",
    "```"
   ]
  },
  {
   "cell_type": "markdown",
   "id": "893bc9c6",
   "metadata": {},
   "source": [
    "```{admonition} Solution\n",
    ":class: toggle\n",
    "Keywords can not be used as a variable names. `True` is a keyword. "
   ]
  },
  {
   "cell_type": "markdown",
   "id": "2e911a8f",
   "metadata": {},
   "source": [
    "## Question\n",
    "\n",
    "``` python\n",
    "print(int('5.0'))\n",
    "```"
   ]
  },
  {
   "cell_type": "markdown",
   "id": "cb282869",
   "metadata": {},
   "source": [
    "```{admonition} Solution\n",
    ":class: toggle\n",
    "`5.0` is not an integer "
   ]
  },
  {
   "cell_type": "markdown",
   "id": "d91181a7",
   "metadata": {},
   "source": [
    "## Question\n",
    "\n",
    "``` python\n",
    "age = 25\n",
    "print('I am'+age+'years old.)\n",
    "```"
   ]
  },
  {
   "cell_type": "markdown",
   "id": "9ee9553d",
   "metadata": {},
   "source": [
    "```{admonition} Solution\n",
    ":class: toggle\n",
    "- `I am` is a string and `age` is an integer. \n",
    "- '+' can not be used to concatenate numbers and strings "
   ]
  },
  {
   "cell_type": "markdown",
   "id": "f76f04d9",
   "metadata": {},
   "source": []
  },
  {
   "cell_type": "markdown",
   "id": "f85fad09",
   "metadata": {},
   "source": []
  },
  {
   "cell_type": "code",
   "execution_count": null,
   "id": "41af079f",
   "metadata": {},
   "outputs": [],
   "source": []
  }
 ],
 "metadata": {
  "hide_input": false,
  "kernelspec": {
   "display_name": "Python 3 (ipykernel)",
   "language": "python",
   "name": "python3"
  },
  "language_info": {
   "codemirror_mode": {
    "name": "ipython",
    "version": 3
   },
   "file_extension": ".py",
   "mimetype": "text/x-python",
   "name": "python",
   "nbconvert_exporter": "python",
   "pygments_lexer": "ipython3",
   "version": "3.11.7"
  },
  "toc": {
   "base_numbering": 1,
   "nav_menu": {},
   "number_sections": true,
   "sideBar": true,
   "skip_h1_title": false,
   "title_cell": "Table of Contents",
   "title_sidebar": "Contents",
   "toc_cell": false,
   "toc_position": {},
   "toc_section_display": true,
   "toc_window_display": false
  }
 },
 "nbformat": 4,
 "nbformat_minor": 5
}
