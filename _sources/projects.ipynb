{
 "cells": [
  {
   "cell_type": "markdown",
   "id": "38c76388-bca0-4901-809d-c9c8482b1102",
   "metadata": {},
   "source": [
    "# Projects\n",
    "![](title_pict/projects2.png)\n",
    "\n",
    "1. Factorization: Factorize linear and quadratic expressions.\n",
    "2. Election: Different election methods to choose the winner.\n",
    "3. Soccer: Analysis of major soccer league.\n",
    "4. Smoothing: It is used to reduce the impact of fluctuations.\n",
    "5. Approximating Areas:  Find the area under a curve using rectangles."
   ]
  },
  {
   "cell_type": "code",
   "execution_count": null,
   "id": "9466d542-888f-406f-a6b7-c4633cb1121c",
   "metadata": {},
   "outputs": [],
   "source": []
  }
 ],
 "metadata": {
  "kernelspec": {
   "display_name": "Python 3 (ipykernel)",
   "language": "python",
   "name": "python3"
  },
  "language_info": {
   "codemirror_mode": {
    "name": "ipython",
    "version": 3
   },
   "file_extension": ".py",
   "mimetype": "text/x-python",
   "name": "python",
   "nbconvert_exporter": "python",
   "pygments_lexer": "ipython3",
   "version": "3.11.7"
  }
 },
 "nbformat": 4,
 "nbformat_minor": 5
}
