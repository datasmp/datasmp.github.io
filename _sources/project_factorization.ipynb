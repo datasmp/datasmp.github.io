{
 "cells": [
  {
   "cell_type": "markdown",
   "id": "473a7018-50ec-4fce-8d81-384443672c19",
   "metadata": {},
   "source": [
    "# Project: Factorization\n",
    "![Section Title: Factorization](title_pict/factorization2.png)\n",
    "In this project, we will factorize linear and quadratic expressions. First, we will write a function to find the greatest common divisor of two integers. For each linear and quadratic expression, we will write two functions:\n",
    "- To represent the expressions in a mathematical form using the coefficients.\n",
    "- To perform the factorization"
   ]
  },
  {
   "cell_type": "markdown",
   "id": "b06082da-fa03-492b-96e4-721a6d920d10",
   "metadata": {},
   "source": [
    "## Greatest Common Divisor\n",
    "- Greatest common divisor (gcd) of two number is the largest number in absolute value that divides both numbers.\n",
    "- For the purpose of the factorization the sign of the gcd is the sign of the first number.\n",
    "- The absolute value of the GCD cannot be larger than either of the given two numbers.\n",
    "- gcd(0,0) = 0\n",
    "- gcd(m,0) = m\n",
    "- gcd(0,m) = m"
   ]
  },
  {
   "cell_type": "code",
   "execution_count": 1,
   "id": "32e8b30e-a81f-4bd5-a42a-f189b5523043",
   "metadata": {},
   "outputs": [],
   "source": [
    "def gcd(m, n):\n",
    "    if (m==0) & (n==0):                           # gcd(0,0) = 0\n",
    "        return 0\n",
    "    else:\n",
    "        mp, np = abs(m), abs(n)                   # absolute value of m and n\n",
    "        result = 1\n",
    "        \n",
    "        for i in range(1, min(mp,np)+1):          \n",
    "            if (mp%i==0) & (np%i==0):             # common divisor\n",
    "                result = i\n",
    "        if m < 0:                                 # gcd is negative if m is negative\n",
    "            result *= -1\n",
    "            \n",
    "        return result"
   ]
  },
  {
   "cell_type": "code",
   "execution_count": 2,
   "id": "2567b8d2-eefa-4ccc-8176-ec38419f86e5",
   "metadata": {},
   "outputs": [
    {
     "name": "stdout",
     "output_type": "stream",
     "text": [
      "gcd(  0, 0) = 0\n",
      "gcd(  5, 0) = 1\n",
      "gcd(  0, 5) = 1\n",
      "gcd( 12,16) = 4\n",
      "gcd(-12,16) = -4\n",
      "gcd(  3, 5) = 1\n",
      "gcd( -3, 5) = -1\n"
     ]
    }
   ],
   "source": [
    "print(f'gcd(  0, 0) = {gcd(0,0)}')\n",
    "print(f'gcd(  5, 0) = {gcd(5,0)}')\n",
    "print(f'gcd(  0, 5) = {gcd(0,5)}')\n",
    "print(f'gcd( 12,16) = {gcd(12,16)}')\n",
    "print(f'gcd(-12,16) = {gcd(-12,16)}')\n",
    "print(f'gcd(  3, 5) = {gcd(3,5)}')\n",
    "print(f'gcd( -3, 5) = {gcd(-3,5)}')"
   ]
  },
  {
   "cell_type": "markdown",
   "id": "b72e57a5-76ef-4c5e-bbfe-099789517900",
   "metadata": {},
   "source": [
    "##  Linear Expressions\n",
    "Linear expressions are in the form $ax+b$.\n",
    "- Examples: $2x+3, -5x+7$"
   ]
  },
  {
   "cell_type": "markdown",
   "id": "c8740130-ea06-4ee3-a2c6-bcca98178b21",
   "metadata": {},
   "source": [
    "### Display\n",
    "We will write a function that takes two parameters: the coefficients of the expression and returns a string. \n",
    "\n",
    "The first parameter is the coefficient of the $x$ term, and the second parameter is the constant term.\n",
    "\n",
    "The parameters $a$ and $b$ represent the expression $ax+b$.\n",
    "\n",
    "Exclude the zero terms, such as $0x$ and $0$, from the expressions.\n",
    "\n",
    "Represent\n",
    "- $1x$ as $x$.\n",
    "- $0x+0$ as $0$.\n",
    "- $ax+0$ as $ax$.\n",
    "- $0x+b$ as $b$."
   ]
  },
  {
   "cell_type": "code",
   "execution_count": 3,
   "id": "a164022a-cd08-4890-83ee-dfd3bc5b8003",
   "metadata": {},
   "outputs": [],
   "source": [
    "def display_lin(a, b):\n",
    "    \n",
    "    if (a==0) & (b==0): return '0'\n",
    "    if (a!=0) & (b==0): return f'{a}x'\n",
    "    if (a==0) & (b!=0): return f'{b}'\n",
    "        \n",
    "    if b > 0: ps = '+'                # add + sign for +b part of ax+b\n",
    "    else: ps = ''\n",
    "    \n",
    "    if a == 1: return f'x{ps}{b}'     # represent 1x as x  \n",
    "    if a == -1: return f'-x{ps}{b}'   # represent -1x as -x\n",
    "        \n",
    "    return f'{a}x{ps}{b}'"
   ]
  },
  {
   "cell_type": "code",
   "execution_count": 4,
   "id": "759bc0a6-ce32-40a7-9983-00445665edfa",
   "metadata": {},
   "outputs": [
    {
     "name": "stdout",
     "output_type": "stream",
     "text": [
      "a =  0 and b =  0  =>  0x+0  => 0\n",
      "a =  5 and b =  0  =>  5x+0  => 5x\n",
      "a = -5 and b =  0  => -5x+0  => -5x\n",
      "a =  0 and b =  5  =>  0x+5  => 5\n",
      "a =  0 and b = -5  =>  0x-5  => -5\n",
      "a =  5 and b =  6  =>  5x+6  => 5x+6\n",
      "a = -5 and b =  6  => -5x+6  => -5x+6\n",
      "a = -5 and b = -6  => -5x-6  => -5x-6\n",
      "a =  1 and b =  2  =>  1x+2  => x+2\n",
      "a = -1 and b =  2  => -1x+2  => -x+2\n"
     ]
    }
   ],
   "source": [
    "print(f'a =  0 and b =  0  =>  0x+0  => {display_lin(0, 0)}')\n",
    "print(f'a =  5 and b =  0  =>  5x+0  => {display_lin(5, 0)}')\n",
    "print(f'a = -5 and b =  0  => -5x+0  => {display_lin(-5, 0)}')\n",
    "print(f'a =  0 and b =  5  =>  0x+5  => {display_lin(0, 5)}')\n",
    "print(f'a =  0 and b = -5  =>  0x-5  => {display_lin(0, -5)}')\n",
    "print(f'a =  5 and b =  6  =>  5x+6  => {display_lin(5, 6)}')\n",
    "print(f'a = -5 and b =  6  => -5x+6  => {display_lin(-5, 6)}')\n",
    "print(f'a = -5 and b = -6  => -5x-6  => {display_lin(-5, -6)}')\n",
    "print(f'a =  1 and b =  2  =>  1x+2  => {display_lin(1, 2)}')\n",
    "print(f'a = -1 and b =  2  => -1x+2  => {display_lin(-1, 2)}')"
   ]
  },
  {
   "cell_type": "markdown",
   "id": "505261ff-1e8e-4d11-bbe1-539a093749f1",
   "metadata": {},
   "source": [
    "### Factorization\n",
    "If $a$ and $b$ are nonzero and $g$ is the greatest common divisor (gcd) of $a$ and $$ then\n",
    "\n",
    "$\\displaystyle ax+b = g(\\frac{a}{g}x+\\frac{b}{g})$\n",
    "\n",
    "- We will write a function that takes two parameters: the coefficients of the expression and returns the factorization of the given expression as a string, as shown in the equation above.\n",
    "\n",
    "\n",
    "- Do not forget to add paranthesis.\n",
    "- Represent $1(3x+5)$ as $(3x+5)$\n",
    "- Represent $-1(3x-5)$ as $-(3x-5)$\n",
    "\n",
    "**Examples:**\n",
    "- $\\,\\,\\,\\,\\,12x+20  = \\,\\,\\,\\, 4(3x+5)$\n",
    "- $-12x+20 = -4(3x-5)$\n",
    "- $3x+5 = (3x+5)$\n",
    "- $-3x+5 = -(3x-5)$"
   ]
  },
  {
   "cell_type": "code",
   "execution_count": 5,
   "id": "a6a0e229-7bd5-4694-b768-bd1573988f37",
   "metadata": {},
   "outputs": [],
   "source": [
    "def fact_lin(a, b):\n",
    "    \n",
    "    if (a==0) & (b==0): return '0'\n",
    "    if (a!=0) & (b==0): return f'{a}x'\n",
    "    if (a==0) & (b!=0): return f'{b}' \n",
    "        \n",
    "    GCD = gcd(a,b)\n",
    "    \n",
    "    if GCD == 1:  return '('+display_lin(a,b)+')'\n",
    "    if GCD == -1: return '-'+ f'({display_lin(a//GCD, b//GCD)})'\n",
    "    \n",
    "    return f'{GCD}'+ f'({display_lin(a//GCD, b//GCD)})'"
   ]
  },
  {
   "cell_type": "code",
   "execution_count": 6,
   "id": "8dc4ab78-c7cb-4a9d-a98e-0817b2b03009",
   "metadata": {},
   "outputs": [
    {
     "name": "stdout",
     "output_type": "stream",
     "text": [
      "a =   5 and b =   0  => Expression:      5x  => Factorization: 5x\n",
      "a =   0 and b =   0  => Expression:       0  => Factorization: 0\n",
      "a =   0 and b =   0  => Expression:       0  => Factorization: 0\n",
      "a =  12 and b =  20  => Expression:  12x+20  => Factorization: 4(3x+5)\n",
      "a = -12 and b =  20  => Expression: -12x+20  => Factorization: -4(3x-5)\n",
      "a =  12 and b = -20  => Expression:  12x-20  => Factorization: 4(3x-5)\n",
      "a = -12 and b = -20  => Expression: -12x-20  => Factorization: -4(3x+5)\n",
      "a =   3 and b =   5  => Expression:    3x+5  => Factorization: (3x+5)\n",
      "a =  -3 and b =   5  => Expression:   -3x+5  => Factorization: -(3x-5)\n",
      "a =   2 and b =   6  => Expression:    2x+6  => Factorization: 2(x+3)\n"
     ]
    }
   ],
   "source": [
    "print(f'a =   5 and b =   0  => Expression:      5x  => Factorization: {fact_lin(5, 0)}')\n",
    "print(f'a =   0 and b =   0  => Expression:       0  => Factorization: {fact_lin(0, 0)}')\n",
    "print(f'a =   0 and b =   0  => Expression:       0  => Factorization: {fact_lin(0, 0)}')\n",
    "print(f'a =  12 and b =  20  => Expression:  12x+20  => Factorization: {fact_lin(12, 20)}')\n",
    "print(f'a = -12 and b =  20  => Expression: -12x+20  => Factorization: {fact_lin(-12, 20)}')\n",
    "print(f'a =  12 and b = -20  => Expression:  12x-20  => Factorization: {fact_lin(12, -20)}')\n",
    "print(f'a = -12 and b = -20  => Expression: -12x-20  => Factorization: {fact_lin(-12, -20)}')\n",
    "print(f'a =   3 and b =   5  => Expression:    3x+5  => Factorization: {fact_lin(3, 5)}')\n",
    "print(f'a =  -3 and b =   5  => Expression:   -3x+5  => Factorization: {fact_lin(-3, 5)}')\n",
    "print(f'a =   2 and b =   6  => Expression:    2x+6  => Factorization: {fact_lin(2, 6)}')\n",
    "\n"
   ]
  },
  {
   "cell_type": "markdown",
   "id": "a0b25e57-009b-490f-8786-95df55a28203",
   "metadata": {},
   "source": [
    "## Quadratics"
   ]
  },
  {
   "cell_type": "markdown",
   "id": "2a598dad-3344-4796-8ac2-b7791bb427c0",
   "metadata": {},
   "source": [
    "### Display\n",
    "\n",
    "We will write a function that takes three parameters: the coefficients of the expression and returns a string. \n",
    "\n",
    "The first parameter is the coefficient of the $x^2$ term, and the second parameter is the coefficient of the $x$ term and the last one is the constant term.\n",
    "\n",
    "The parameters $a, b, c$ represent the expression $ax^2+bx+c$.\n",
    "\n",
    "Exclude the zero terms, such as $0x^2$, $0x$ and $0$, from the expressions.\n",
    "\n",
    "Represent\n",
    "- $1x^2$ as $x^2$\n",
    "- $-1x^2$ as $-x^2$\n",
    "- $1x$ as $x$\n",
    "- $-1x$ as $-x$"
   ]
  },
  {
   "cell_type": "code",
   "execution_count": 7,
   "id": "da4b86e1-f0bc-4212-ad1a-be130b8dcbe5",
   "metadata": {},
   "outputs": [],
   "source": [
    "def display_quad(a, b, c):\n",
    "    \n",
    "    if a==0 : return display_lin(b,c)\n",
    "    if (b==0) & (c==0): return f'{a}x^2'\n",
    "    \n",
    "    if b > 0: pb = '+'                             # add + sign for +b part of ax^2+bx+c\n",
    "    else: pb = ''\n",
    "    if (c > 0) & (b==0): pc='+'                    # add + sign for +c part of ax^2+c\n",
    "    else: pc=''        \n",
    "    \n",
    "    if a == 1: return 'x^2'+pb+pc+display_lin(b,c)       # display 1x^2 as x^2\n",
    "    if a == -1: return '-x^2'+pb+pc+display_lin(b,c)     # display -1x^2 as -x^2\n",
    "    \n",
    "    return f'{a}x^2'+pb+pc+display_lin(b,c)"
   ]
  },
  {
   "cell_type": "code",
   "execution_count": 8,
   "id": "3d058dc6-2f68-4523-8db0-bea74105358d",
   "metadata": {},
   "outputs": [
    {
     "name": "stdout",
     "output_type": "stream",
     "text": [
      "a =  0, b = -5, c = -7   =>  0x^2-5x-7  => -5x-7\n",
      "a =  3, b = -5, c = -7   =>  3x^2-5x-7  => 3x^2-5x-7\n",
      "a =  3, b =  5, c = -7   =>  3x^2+5x-7  => 3x^2+5x-7\n",
      "a =  3, b =  0, c = -7   =>  3x^2+0x-7  => 3x^2-7\n",
      "a =  3, b =  0, c =  0   =>  3x^2+0x+0  => 3x^2\n",
      "a =  1, b =  2, c =  3   =>  1x^2+2x+3  => x^2+2x+3\n",
      "a = -1, b =  2, c =  3   => -1x^2+2x+3  => -x^2+2x+3\n",
      "a =  1, b =  0, c =  1   =>  1x^2+0x+1  => x^2+1\n",
      "a =  1, b =  0, c = -1   =>  1x^2+0x+1  => x^2-1\n"
     ]
    }
   ],
   "source": [
    "print(f'a =  0, b = -5, c = -7   =>  0x^2-5x-7  => {display_quad(0, -5, -7)}')\n",
    "print(f'a =  3, b = -5, c = -7   =>  3x^2-5x-7  => {display_quad(3, -5, -7)}')\n",
    "print(f'a =  3, b =  5, c = -7   =>  3x^2+5x-7  => {display_quad(3,  5, -7)}')\n",
    "print(f'a =  3, b =  0, c = -7   =>  3x^2+0x-7  => {display_quad(3,  0, -7)}')\n",
    "print(f'a =  3, b =  0, c =  0   =>  3x^2+0x+0  => {display_quad(3,  0,  0)}')\n",
    "print(f'a =  1, b =  2, c =  3   =>  1x^2+2x+3  => {display_quad(1,  2,  3)}')\n",
    "print(f'a = -1, b =  2, c =  3   => -1x^2+2x+3  => {display_quad(-1,  2,  3)}')\n",
    "print(f'a =  1, b =  0, c =  1   =>  1x^2+0x+1  => {display_quad(1,  0,  1)}')\n",
    "print(f'a =  1, b =  0, c = -1   =>  1x^2+0x+1  => {display_quad(1,  0,  -1)}')"
   ]
  },
  {
   "cell_type": "markdown",
   "id": "e6d2f26e-94c0-4195-bd1f-e17aa9679d4a",
   "metadata": {},
   "source": [
    "### Factorization \n"
   ]
  },
  {
   "cell_type": "markdown",
   "id": "8714bbff-7324-4216-b4a8-5cf862f3fb40",
   "metadata": {},
   "source": [
    "#### c is zero \n",
    "This is the simpler case since $x$ is one of the factors, and the remaining part will be a linear expression. \n",
    "- The fact_lin function can then be used to factorize that linear expression.\n",
    "  \n",
    "$\\displaystyle ax^2+bx = x(ax+b) = g x (\\frac{a}{g}x+\\frac{b}{g})$\n",
    "\n",
    "**Examples:**\n",
    "- $\\,\\,\\,\\,\\,12x^2+20x  = \\,\\,\\,\\, 4x(3x+5)$\n",
    "- $-12x^2+20x = -4x(3x-5)$"
   ]
  },
  {
   "cell_type": "code",
   "execution_count": 9,
   "id": "c42845d3-2679-4368-afd6-36c4833d107b",
   "metadata": {},
   "outputs": [],
   "source": [
    "def fact_quad1(a, b):\n",
    "    \n",
    "    if (a==0) & (b==0): return '0'\n",
    "    if (a!=0) & (b==0): return f'{a}x^2'\n",
    "    if (a==0) & (b!=0): return f'{b}x' \n",
    "    \n",
    "    GCD = gcd(a,b)\n",
    "    \n",
    "    if GCD == 1: return 'x('+display_lin(a,b)+')'                     # remove 1 from 1x(...) \n",
    "    if GCD == -1: return '-x'+ f'({display_lin(a//GCD, b//GCD)})'     # remove 1 from -1x(...)\n",
    "    \n",
    "    return f'{GCD}x'+ f'({display_lin(a//GCD, b//GCD)})'"
   ]
  },
  {
   "cell_type": "code",
   "execution_count": 10,
   "id": "1f829739-60d5-4aa5-b4f2-9e2c3419fb2b",
   "metadata": {},
   "outputs": [
    {
     "name": "stdout",
     "output_type": "stream",
     "text": [
      "a =   0 and b =   0 => Expression:   0x^2 +  0x  => Factorization: 0\n",
      "a =   5 and b =   0 => Expression:   5x^2 +  0x  => Factorization: 5x^2\n",
      "a =  12 and b =  20 => Expression:  12x^2 + 20x  => Factorization: 4x(3x+5)\n",
      "a = -12 and b =  20 => Expression: -12x^2 + 20x  => Factorization: -4x(3x-5)\n",
      "a =  12 and b = -20 => Expression:  12x^2 - 20x  => Factorization: 4x(3x-5)\n",
      "a = -12 and b = -20 => Expression: -12x^2 - 20x  => Factorization: -4x(3x+5)\n",
      "a =   3 and b =   5 => Expression:   3x^2 +  5x  => Factorization: x(3x+5)\n",
      "a =  -3 and b =   5 => Expression:  -3x^2 +  5x  => Factorization: -x(3x-5)\n",
      "a =   2 and b =   4 => Expression:   2x^2 +  4x  => Factorization: 2x(x+2)\n",
      "a =  -2 and b =   4 => Expression:  -2x^2 +  4x  => Factorization: -2x(x-2)\n"
     ]
    }
   ],
   "source": [
    "print(f'a =   0 and b =   0 => Expression:   0x^2 +  0x  => Factorization: {fact_quad1(0, 0)}')\n",
    "print(f'a =   5 and b =   0 => Expression:   5x^2 +  0x  => Factorization: {fact_quad1(5, 0)}')\n",
    "print(f'a =  12 and b =  20 => Expression:  12x^2 + 20x  => Factorization: {fact_quad1(12, 20)}')\n",
    "print(f'a = -12 and b =  20 => Expression: -12x^2 + 20x  => Factorization: {fact_quad1(-12, 20)}')\n",
    "print(f'a =  12 and b = -20 => Expression:  12x^2 - 20x  => Factorization: {fact_quad1(12, -20)}')\n",
    "print(f'a = -12 and b = -20 => Expression: -12x^2 - 20x  => Factorization: {fact_quad1(-12, -20)}')\n",
    "print(f'a =   3 and b =   5 => Expression:   3x^2 +  5x  => Factorization: {fact_quad1(3, 5)}')\n",
    "print(f'a =  -3 and b =   5 => Expression:  -3x^2 +  5x  => Factorization: {fact_quad1(-3, 5)}')\n",
    "print(f'a =   2 and b =   4 => Expression:   2x^2 +  4x  => Factorization: {fact_quad1(2, 4)}')\n",
    "print(f'a =  -2 and b =   4 => Expression:  -2x^2 +  4x  => Factorization: {fact_quad1(-2, 4)}')"
   ]
  },
  {
   "cell_type": "markdown",
   "id": "214cf256-e267-4200-89e8-e645d45ba699",
   "metadata": {},
   "source": [
    "#### c is not zero\n",
    "Use the AC method.\n",
    "There are three main steps:\n",
    "1. Find two integers (m, n) whose product is ac and whose sum is b. Use these two numbers to split the x term into two parts. If no such pair of integers exists, factorization by integers is impossible.\n",
    "2. Group the terms by considering the first two and last two terms as separate groups, then factor out the GCD of each group.\n",
    "3. Factor out the common factor from each group."
   ]
  },
  {
   "cell_type": "code",
   "execution_count": 11,
   "id": "559f4b43-9a43-423d-8a5f-381c84344e2e",
   "metadata": {},
   "outputs": [],
   "source": [
    "def fact_quad2(a, b, c):\n",
    "    \n",
    "    print('Equation:', display_quad(a,b,c))\n",
    "\n",
    "\n",
    "  \n",
    "    is_fact = ''                                 # is it factorizable                       \n",
    "\n",
    "    # ac method: find m and n\n",
    "    p = a*c\n",
    "    for m in range(-abs(p), abs(p)+1):\n",
    "        if m != 0:\n",
    "            if (p%m == 0) & (m+p/m == b):\n",
    "                n = p//m\n",
    "                is_fact = True                   # factorization can be done\n",
    "                break\n",
    "    \n",
    "    if is_fact == True:                            \n",
    "        if n > 0: pn = '+'                       # add + sign for +n part \n",
    "        else: pn = ''\n",
    "\n",
    "        # Step-1: split the x term into two parts.\n",
    "        print('Step-1  :', display_quad(a, m, 0) + pn + display_lin(n, c))\n",
    "        \n",
    "        # Step-2: do factorization of each group\n",
    "        group1 = fact_quad1(a,m)\n",
    "        group2 = pn +fact_lin(n, c)\n",
    "        print('Step-2  :', group1+group2)\n",
    "\n",
    "        # Step-3: Factor out the common factor from each group.\n",
    "        first_factor_part1 = group1[:group1.find('(')]\n",
    "        first_factor_part2 =  group2[:group2.find('(')]\n",
    "        \n",
    "        if len(first_factor_part2) == 1: first_factor_part2 += '1'           # add the invisible 1 in front of the second group\n",
    "\n",
    "        first_factor = '('+ first_factor_part1 + first_factor_part2 +')'\n",
    "        second_factor = group1[group1.find('('):]\n",
    "        \n",
    "        print('Step-3  :', first_factor + second_factor)\n",
    "    \n",
    "    else: \n",
    "        print('No factorization')"
   ]
  },
  {
   "cell_type": "code",
   "execution_count": 12,
   "id": "19073093-b791-4994-a812-4ee6f0cdf8ba",
   "metadata": {},
   "outputs": [
    {
     "name": "stdout",
     "output_type": "stream",
     "text": [
      "Equation: 2x^2-7x-15\n",
      "Step-1  : 2x^2-10x+3x-15\n",
      "Step-2  : 2x(x-5)+3(x-5)\n",
      "Step-3  : (2x+3)(x-5)\n"
     ]
    }
   ],
   "source": [
    "fact_quad2(2, -7, -15)"
   ]
  },
  {
   "cell_type": "code",
   "execution_count": 13,
   "id": "13b0a4b8-262e-42b6-9e6a-61b64f53a368",
   "metadata": {},
   "outputs": [
    {
     "name": "stdout",
     "output_type": "stream",
     "text": [
      "Equation: x^2+2x+1\n",
      "Step-1  : x^2+1x+x+1\n",
      "Step-2  : x(x+1)+(x+1)\n",
      "Step-3  : (x+1)(x+1)\n"
     ]
    }
   ],
   "source": [
    "fact_quad2(1, 2, 1)"
   ]
  },
  {
   "cell_type": "code",
   "execution_count": 14,
   "id": "a1f274a3-d055-450f-856f-f2e4fc5beb0b",
   "metadata": {},
   "outputs": [
    {
     "name": "stdout",
     "output_type": "stream",
     "text": [
      "Equation: x^2-2x+1\n",
      "Step-1  : x^2-1x-x+1\n",
      "Step-2  : x(x-1)-(x-1)\n",
      "Step-3  : (x-1)(x-1)\n"
     ]
    }
   ],
   "source": [
    "fact_quad2(1, -2, 1)"
   ]
  },
  {
   "cell_type": "code",
   "execution_count": 15,
   "id": "1f317b23-0853-4ead-afb0-82c6e2f407a4",
   "metadata": {},
   "outputs": [
    {
     "name": "stdout",
     "output_type": "stream",
     "text": [
      "Equation: x^2+1\n",
      "No factorization\n"
     ]
    }
   ],
   "source": [
    "fact_quad2(1, 0, 1)"
   ]
  },
  {
   "cell_type": "markdown",
   "id": "7dd1883d-9ac7-4e37-9a8e-5ee854e5988f",
   "metadata": {},
   "source": [
    "## Future Work\n",
    "- Factorize expressions in the form  $ax^3+bx^2+cx$"
   ]
  },
  {
   "cell_type": "code",
   "execution_count": null,
   "id": "0099732e-8d42-437e-ae79-a08d648ea26a",
   "metadata": {},
   "outputs": [],
   "source": []
  }
 ],
 "metadata": {
  "kernelspec": {
   "display_name": "Python 3 (ipykernel)",
   "language": "python",
   "name": "python3"
  },
  "language_info": {
   "codemirror_mode": {
    "name": "ipython",
    "version": 3
   },
   "file_extension": ".py",
   "mimetype": "text/x-python",
   "name": "python",
   "nbconvert_exporter": "python",
   "pygments_lexer": "ipython3",
   "version": "3.11.8"
  }
 },
 "nbformat": 4,
 "nbformat_minor": 5
}
