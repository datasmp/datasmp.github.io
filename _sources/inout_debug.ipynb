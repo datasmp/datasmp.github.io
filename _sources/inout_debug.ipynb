{
 "cells": [
  {
   "cell_type": "markdown",
   "id": "13e18a7d",
   "metadata": {},
   "source": [
    "# Input and Output Debugging\n",
    "\n",
    "- Each of the following short code contains one or more bugs. &emsp;&emsp;&emsp;&emsp;\n",
    "- Please identify and correct these bugs.\n",
    "- Provide an explanation for your answer."
   ]
  },
  {
   "cell_type": "markdown",
   "id": "854437f7",
   "metadata": {},
   "source": [
    "## Question-1\n",
    "\n",
    "``` python\n",
    "print 'Hello'\n",
    "```"
   ]
  },
  {
   "cell_type": "markdown",
   "id": "48a8af1e",
   "metadata": {},
   "source": [
    "```{admonition} Solution\n",
    ":class: toggle\n",
    "Parentheses are missing."
   ]
  },
  {
   "cell_type": "markdown",
   "id": "934b3a16",
   "metadata": {},
   "source": [
    "## Question-2\n",
    "\n",
    "``` python\n",
    "print('Hello)\n",
    "```"
   ]
  },
  {
   "cell_type": "markdown",
   "id": "569b11be",
   "metadata": {},
   "source": [
    "```{admonition} Solution\n",
    ":class: toggle\n",
    "Single quote on the right of Hello is missing."
   ]
  },
  {
   "cell_type": "markdown",
   "id": "3407987f",
   "metadata": {},
   "source": [
    "## Question-3\n",
    "\n",
    "``` python\n",
    "print('Hello'))\n",
    "```"
   ]
  },
  {
   "cell_type": "markdown",
   "id": "eeb0c3c7",
   "metadata": {},
   "source": [
    "```{admonition} Solution\n",
    ":class: toggle\n",
    "There is an extra paranthesis at the end."
   ]
  },
  {
   "cell_type": "markdown",
   "id": "8e66629f",
   "metadata": {},
   "source": [
    "## Question-4\n",
    "\n",
    "``` python\n",
    "print = 3\n",
    "print('England')\n",
    "```"
   ]
  },
  {
   "cell_type": "markdown",
   "id": "0ba65ee5",
   "metadata": {},
   "source": [
    "```{admonition} Solution\n",
    ":class: toggle\n",
    "- In the first line print becomes a variable and it's value is 3.\n",
    "- In the second line print is tried to used as a function but it is not a function anymore."
   ]
  },
  {
   "cell_type": "markdown",
   "id": "3eab9115",
   "metadata": {},
   "source": [
    "## Question-5\n",
    "\n",
    "``` python\n",
    "x = input(Enter your birthyear:)\n",
    "print(x)\n",
    "```"
   ]
  },
  {
   "cell_type": "markdown",
   "id": "893bc9c6",
   "metadata": {},
   "source": [
    "```{admonition} Solution\n",
    ":class: toggle\n",
    "Single quotes of the string inside the input function are missing."
   ]
  },
  {
   "cell_type": "markdown",
   "id": "2e911a8f",
   "metadata": {},
   "source": [
    "## Question-6\n",
    "\n",
    "``` python\n",
    "x = input('Enter your birthyear: ')\n",
    "print('Your age is', 2022-x)\n",
    "```"
   ]
  },
  {
   "cell_type": "markdown",
   "id": "cb282869",
   "metadata": {},
   "source": [
    "```{admonition} Solution\n",
    ":class: toggle\n",
    "Type of x is string so subtraction cannot be done."
   ]
  },
  {
   "cell_type": "markdown",
   "id": "d91181a7",
   "metadata": {},
   "source": [
    "## Question-7\n",
    "\n",
    "``` python\n",
    "print('A',2,3,'B', separator='++')\n",
    "```"
   ]
  },
  {
   "cell_type": "markdown",
   "id": "9ee9553d",
   "metadata": {},
   "source": [
    "```{admonition} Solution\n",
    ":class: toggle\n",
    "The name of the parameter is sep (not separator)."
   ]
  },
  {
   "cell_type": "markdown",
   "id": "bcc2c16b-be56-4f4f-aa02-23b532f4e201",
   "metadata": {},
   "source": [
    "## Question-8\n",
    "\n",
    "``` python\n",
    "first name = input('Enter your first name: ')\n",
    "print(first name)\n",
    "```"
   ]
  },
  {
   "cell_type": "markdown",
   "id": "52d6635e-059c-4879-ba6b-9556548072d8",
   "metadata": {},
   "source": [
    "```{admonition} Solution\n",
    ":class: toggle\n",
    "Variable names (first name) cannot have a space."
   ]
  },
  {
   "cell_type": "markdown",
   "id": "575c6db6-c65b-419d-9329-3bea3da023d4",
   "metadata": {},
   "source": [
    "## Question-9\n",
    "\n",
    "``` python\n",
    "print('A','B', 'C', sep=9)\n",
    "```"
   ]
  },
  {
   "cell_type": "markdown",
   "id": "91c72b7c-f3d1-4470-be33-60366c885746",
   "metadata": {},
   "source": [
    "```{admonition} Solution\n",
    ":class: toggle\n",
    "The sep parameter value (9) must be a string ('9')."
   ]
  },
  {
   "cell_type": "code",
   "execution_count": null,
   "id": "1059e7aa-17f3-476d-8436-9293d158645d",
   "metadata": {},
   "outputs": [],
   "source": []
  }
 ],
 "metadata": {
  "hide_input": false,
  "kernelspec": {
   "display_name": "Python 3 (ipykernel)",
   "language": "python",
   "name": "python3"
  },
  "language_info": {
   "codemirror_mode": {
    "name": "ipython",
    "version": 3
   },
   "file_extension": ".py",
   "mimetype": "text/x-python",
   "name": "python",
   "nbconvert_exporter": "python",
   "pygments_lexer": "ipython3",
   "version": "3.11.7"
  },
  "toc": {
   "base_numbering": 1,
   "nav_menu": {},
   "number_sections": true,
   "sideBar": true,
   "skip_h1_title": false,
   "title_cell": "Table of Contents",
   "title_sidebar": "Contents",
   "toc_cell": false,
   "toc_position": {},
   "toc_section_display": true,
   "toc_window_display": false
  }
 },
 "nbformat": 4,
 "nbformat_minor": 5
}
