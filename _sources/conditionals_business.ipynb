{
 "cells": [
  {
   "cell_type": "markdown",
   "id": "4e78bee9-89c6-4996-bf66-cf1208e0053c",
   "metadata": {},
   "source": [
    "# Conditionals Business\n",
    "![Section Title: Conditionals Business](title_pict/conditionals_business2.png)\n"
   ]
  },
  {
   "cell_type": "markdown",
   "id": "42cd1d65-4dea-4b74-971a-3253a1d9d223",
   "metadata": {},
   "source": [
    "## Business Applications"
   ]
  },
  {
   "cell_type": "markdown",
   "id": "33e17857-6f23-45e0-ae08-9f2f8c9d5422",
   "metadata": {},
   "source": [
    "### Question-1: Discount\n",
    "An online store offers discounts based on the amount you spend:\n",
    "\n",
    "- No discount for spending less than 100 dollars.\n",
    "- 20% discount for spending between 100 and 150 dollars.\n",
    "- 30% discount for spending between 150 and 200 dollars.\n",
    "- 40% discount for spending over 200 dollars.\n",
    "  \n",
    "Write a program that prompts the user to enter their total spending and returns the final price after applying the appropriate discount, adding a 6% tax, and including a 3% shipping fee."
   ]
  },
  {
   "cell_type": "markdown",
   "id": "74461d6d-41d9-48b8-9455-ad27d9bdfc29",
   "metadata": {},
   "source": [
    "### Question-2: Loan Approval\n",
    "Write a program that prompts the user to enter their credit score and the amount they want to apply for using two *input()* functions. The program should return the approval decision based on the following table:\n",
    "\n",
    "\n",
    "|Credit Score|Loan Amount|Decision|\n",
    "|-|-|-|\n",
    "|less than or equal to 600|less than or equal to 10,000|Approved|\n",
    "|less than or equal to 600|greater than 10,000|Deny|\n",
    "|between 600 and 800      |less than or equal to 30,000|Approved|\n",
    "|between 600 and 800      |greater than 30,000|Deny|\n",
    "|greater than or equal to 800|less than or equal to 50,000|Approved|\n",
    "|greater than or equal to 800|greater than 50,000|Deny|\n"
   ]
  },
  {
   "cell_type": "markdown",
   "id": "01a316ab-5e60-4960-9db9-ed4980f99d32",
   "metadata": {},
   "source": [
    "### Question-3: Tax\n",
    "IRS uses he following table to determine the tax amount for a single person.\n",
    "\n",
    "|Tax Rate|on taxable income from . . .\t|up to . . .|\n",
    "|-|:-:|:-:\n",
    "|10%|0|11,000|\n",
    "|12%|11,001 |44,725|\n",
    "|22%|44,726 |95,375|\n",
    "|24%|95,376 |182,100|\n",
    "|32%|182,101|231,250|\n",
    "|35%|231,251|578,125|\n",
    "|37%|578,126| and up|\n",
    "\n",
    "\n",
    "- You pay tax based on income levels called tax brackets.\n",
    "- As your income increases, the tax rate for each new level goes up.\n",
    "- When you move to a higher tax bracket, you don't pay the higher rate on all your income.\n",
    "- You only pay the higher rate on the income within the new bracket.\n",
    "\n",
    "**Example** If your income is 100,000 dollars, the tax you pay is the sum of the taxes from each tax bracket your income falls into.\n",
    "Therefore it is the sum of:\n",
    "- 10% of 11,000\n",
    "- 12% 0f 44,725 - 11,001 = 33,724\n",
    "- 22% of 95,375 - 44,726 = 50,649\n",
    "- 24% 0f 100,000 - 95,375 = 4,625\n",
    "Source: https://www.irs.gov/filing/federal-income-tax-rates-and-brackets\n",
    "\n",
    "Write a program that prompts the user to enter their income and returns the corresponding tax amount based on th etable above."
   ]
  },
  {
   "cell_type": "markdown",
   "id": "2f609c45-24ae-4421-9382-4463a0ee686e",
   "metadata": {},
   "source": [
    "### Question-4: Bucket Strategy\n",
    "A finance company offers three investment products based on different risk levels:\n",
    "- Conservative: 60% in interest, 30% in gold, 10% in stocks.\n",
    "- Moderate: 30% in interest, 40% in gold, 30% in stocks.\n",
    "- Aggressive: 10% in interest, 30% in gold, 60% in stocks.\n",
    "\n",
    "Write a program that prompts the user to enter their investment amount and the type of investment using two input() functions. \n",
    "\n",
    "The program should then calculate and return the gain or loss based on the following rates: an interest gain rate of 3%, a gold gain rate of 2%, and a stock loss rate of 3.5%.\n",
    "\n",
    "- The risk level input is not case-sensitive.\n",
    "\n",
    "Sample Output:  \n",
    "Please enter the risk type (Conservative/Moderate/Aggressive): Moderate  \n",
    "Please enter the investment amount: 1800  \n",
    "Change: 11.7 "
   ]
  }
 ],
 "metadata": {
  "kernelspec": {
   "display_name": "Python 3 (ipykernel)",
   "language": "python",
   "name": "python3"
  },
  "language_info": {
   "codemirror_mode": {
    "name": "ipython",
    "version": 3
   },
   "file_extension": ".py",
   "mimetype": "text/x-python",
   "name": "python",
   "nbconvert_exporter": "python",
   "pygments_lexer": "ipython3",
   "version": "3.11.8"
  }
 },
 "nbformat": 4,
 "nbformat_minor": 5
}
