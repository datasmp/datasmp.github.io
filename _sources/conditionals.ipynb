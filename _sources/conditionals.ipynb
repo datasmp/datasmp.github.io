{
 "cells": [
  {
   "cell_type": "markdown",
   "id": "29c3b0fb-5420-40d5-848f-8bf7ae9e0623",
   "metadata": {},
   "source": [
    "# Chp-5: Conditionals\n",
    "- Learning Objectives\n",
    "    - ..\n",
    "    - .."
   ]
  },
  {
   "cell_type": "markdown",
   "id": "6c0482d3-badd-4085-9e5a-96897e27b8e4",
   "metadata": {},
   "source": [
    "## Motivation\n",
    "In our daily lives, our actions often depend on various conditions. For instance:\n",
    "\n",
    "1. If the temperature is above 60, I will go hiking; otherwise, I will stay at home.\n",
    "2. If I work less than 40 hours per week, my hourly rate is $25. For each additional hour, I earn $40.\n",
    "3. Depending on my financial situation:\n",
    "    - If I have more than \\$5,000, I will go on a cruise.\n",
    "    - If I have between \\$3,000 and \\$5,000, I will go to Florida.\n",
    "    - If I have less than \\$3,000, I will spend time in my city.\n",
    "4. In my math course, the letter grade is determined by a grading scale. For instance, getting 76 results in a C+.\n",
    "\n",
    "The central question in this chapter is how to write a program that performs different tasks under various conditions. This allows us to answer questions such as whether to go outside or stay at home based on the temperature, how much to earn depending on weekly working hours, where to travel, or what grade a student will receive according to the grading scale.\n"
   ]
  },
  {
   "cell_type": "markdown",
   "id": "2b8b8d58-7a67-490a-b0f6-3a06dc063b2e",
   "metadata": {},
   "source": [
    "## Conditionals\n",
    "\n",
    "We have seen the following data types so far:  \n",
    "\n",
    "- `int`: Integers\n",
    "- `float`: Floats\n",
    "- `str`: Strings\n",
    "- `bool`: Boolean\n",
    "    \n",
    "Since conditionals are the main subject of this chapter, booleans will be the commonly used data type.   \n",
    "We have already encountered boolean values when working with:\n",
    "\n",
    "- *in* and *not in* operators for strings return boolean values.\n",
    "- *startswith()*, *isdigit()*, and *isalpha()* string methods also return boolean values."
   ]
  },
  {
   "cell_type": "markdown",
   "id": "90c8bcf5-8527-46dc-aa22-857515924dcb",
   "metadata": {},
   "source": [
    "## Booleans\n",
    "- The values of booleans are limited to two: `True` and `False`.\n",
    "- They are keywords in Python and cannot be used as variable names.\n",
    "- boolean `True`(`False`) and string `'True'` (`'False'`) are different. "
   ]
  },
  {
   "cell_type": "code",
   "execution_count": 96,
   "id": "5d28a51d-43ab-48ba-a69e-cb65768806b7",
   "metadata": {},
   "outputs": [],
   "source": [
    "x = True\n",
    "y = False\n",
    "z = 'True'"
   ]
  },
  {
   "cell_type": "code",
   "execution_count": 97,
   "id": "776de908-fea1-411a-a07b-dd19e5b027dc",
   "metadata": {},
   "outputs": [
    {
     "name": "stdout",
     "output_type": "stream",
     "text": [
      "<class 'bool'>\n"
     ]
    }
   ],
   "source": [
    "print(type(x))   # x is a boolean "
   ]
  },
  {
   "cell_type": "code",
   "execution_count": 98,
   "id": "d78ea9bd-2300-45aa-a8a3-9f29be434621",
   "metadata": {},
   "outputs": [
    {
     "name": "stdout",
     "output_type": "stream",
     "text": [
      "<class 'bool'>\n"
     ]
    }
   ],
   "source": [
    "print(type(y))   # y is a boolean "
   ]
  },
  {
   "cell_type": "code",
   "execution_count": 99,
   "id": "e366e11a-d685-4b6e-914a-596bb000fd15",
   "metadata": {},
   "outputs": [
    {
     "name": "stdout",
     "output_type": "stream",
     "text": [
      "<class 'str'>\n"
     ]
    }
   ],
   "source": [
    "print(type(z))   # z is a string"
   ]
  },
  {
   "cell_type": "markdown",
   "id": "57bd6219-ad27-4344-bcb4-135fa797e01a",
   "metadata": {},
   "source": [
    "## Conversion\n",
    "### bool <--> int\n",
    "- bool --> int\n",
    "  - int(True) = 1\n",
    "  - int(False) = 0\n",
    "- int --> bool\n",
    "  - bool( any integer other than 0 ) = True\n",
    "  - bool(0) = False"
   ]
  },
  {
   "cell_type": "code",
   "execution_count": 100,
   "id": "7a2e03b9-67ed-4042-8b3f-14eb5af2122d",
   "metadata": {},
   "outputs": [
    {
     "name": "stdout",
     "output_type": "stream",
     "text": [
      "1\n"
     ]
    }
   ],
   "source": [
    "print(int(True))      # int value of True is 1 "
   ]
  },
  {
   "cell_type": "code",
   "execution_count": 101,
   "id": "b5e81677-b712-4a73-901b-586cf08fa6d3",
   "metadata": {},
   "outputs": [
    {
     "name": "stdout",
     "output_type": "stream",
     "text": [
      "0\n"
     ]
    }
   ],
   "source": [
    "print(int(False))     # int value of False is 0"
   ]
  },
  {
   "cell_type": "code",
   "execution_count": 102,
   "id": "91b736ab-d6cd-4b20-af12-c1cef1ffeb04",
   "metadata": {},
   "outputs": [
    {
     "name": "stdout",
     "output_type": "stream",
     "text": [
      "True\n"
     ]
    }
   ],
   "source": [
    "print(bool(6))        # bool value of 6 is True"
   ]
  },
  {
   "cell_type": "code",
   "execution_count": 103,
   "id": "990669c6-b852-44fc-b740-93a67766d48a",
   "metadata": {},
   "outputs": [
    {
     "name": "stdout",
     "output_type": "stream",
     "text": [
      "True\n"
     ]
    }
   ],
   "source": [
    "print(bool(-101))     # bool value of -101 is True"
   ]
  },
  {
   "cell_type": "code",
   "execution_count": 104,
   "id": "79c0a461-dc3c-42ff-b86b-b05b12d2618e",
   "metadata": {},
   "outputs": [
    {
     "name": "stdout",
     "output_type": "stream",
     "text": [
      "True\n"
     ]
    }
   ],
   "source": [
    "print(bool(23.567))   # bool value of 23.567 is True"
   ]
  },
  {
   "cell_type": "code",
   "execution_count": 105,
   "id": "b4cb8df2-c689-4a2f-8170-0ab2d446aeea",
   "metadata": {},
   "outputs": [
    {
     "name": "stdout",
     "output_type": "stream",
     "text": [
      "False\n"
     ]
    }
   ],
   "source": [
    "print(bool(0))        # bool value of 0 is False"
   ]
  },
  {
   "cell_type": "markdown",
   "id": "9cdd2a24-3b06-4117-9bda-249d56c5e9a2",
   "metadata": {},
   "source": [
    "- You can perform algebraic operations with boolean values `True` and `False`.\n",
    "- In such operations, `True` takes on the integer value `1`, and `False` takes on the integer value `0`."
   ]
  },
  {
   "cell_type": "code",
   "execution_count": 106,
   "id": "294d7d3c-532e-4407-91cc-09517ad8b420",
   "metadata": {},
   "outputs": [
    {
     "name": "stdout",
     "output_type": "stream",
     "text": [
      "2\n"
     ]
    }
   ],
   "source": [
    "print(True+1)   # True+1=1+1=2"
   ]
  },
  {
   "cell_type": "code",
   "execution_count": 107,
   "id": "e4d7f9a3-7cd3-4b89-9d0e-210d78072084",
   "metadata": {},
   "outputs": [
    {
     "name": "stdout",
     "output_type": "stream",
     "text": [
      "0\n"
     ]
    }
   ],
   "source": [
    "print(False*5)  # False*5=0*5=0"
   ]
  },
  {
   "cell_type": "code",
   "execution_count": 108,
   "id": "7f1a892f-f279-4403-b6ab-c8fb351b9c73",
   "metadata": {},
   "outputs": [
    {
     "name": "stdout",
     "output_type": "stream",
     "text": [
      "17.6\n"
     ]
    }
   ],
   "source": [
    "print(True+4.6+True+False+10+True+False)  # 1+4.6+1+0+10+1+0"
   ]
  },
  {
   "cell_type": "markdown",
   "id": "a5dc8326-7586-4f21-aa0c-bc089c368d40",
   "metadata": {},
   "source": [
    "### bool <--> float\n",
    "- bool --> float\n",
    "  - float(True) = 1.0\n",
    "  - float(False) = 0.0\n",
    "- float --> bool\n",
    "  - bool( any float other than 0.0 ) = True\n",
    "  - bool(0.0) = False"
   ]
  },
  {
   "cell_type": "code",
   "execution_count": 109,
   "id": "b46f2e05-437c-468f-bea6-f76b0ffe2e4a",
   "metadata": {},
   "outputs": [
    {
     "name": "stdout",
     "output_type": "stream",
     "text": [
      "1.0\n"
     ]
    }
   ],
   "source": [
    "print(float(True))      # float value of True is 1.0"
   ]
  },
  {
   "cell_type": "code",
   "execution_count": 110,
   "id": "f31d5a6d-366f-47ea-8f21-350e12a1f84a",
   "metadata": {},
   "outputs": [
    {
     "name": "stdout",
     "output_type": "stream",
     "text": [
      "0.0\n"
     ]
    }
   ],
   "source": [
    "print(float(False))     # float value of False is 0.0"
   ]
  },
  {
   "cell_type": "code",
   "execution_count": 111,
   "id": "6fec302d-a97a-4ef1-944b-20c99b842148",
   "metadata": {},
   "outputs": [
    {
     "name": "stdout",
     "output_type": "stream",
     "text": [
      "True\n"
     ]
    }
   ],
   "source": [
    "print(bool(23.567))     # bool value of 23.567 is True"
   ]
  },
  {
   "cell_type": "code",
   "execution_count": 112,
   "id": "8dc9531c-ab61-4a8e-a454-578072d31737",
   "metadata": {},
   "outputs": [
    {
     "name": "stdout",
     "output_type": "stream",
     "text": [
      "False\n"
     ]
    }
   ],
   "source": [
    "print(bool(0.0))        # bool value of 0.0 is False"
   ]
  },
  {
   "cell_type": "markdown",
   "id": "88ffe9e0-73c2-4596-963d-797640252bae",
   "metadata": {},
   "source": [
    "### bool <--> str\n",
    "- bool --> str\n",
    "  - str(True)  = 'True'\n",
    "  - str(False) = 'False'\n",
    "- str --> bool\n",
    "  - bool( any string other than empty string ) = True\n",
    "  - bool( empty string ) = False\n",
    "      - empty string = `''`"
   ]
  },
  {
   "cell_type": "code",
   "execution_count": 113,
   "id": "bda14c9c-5ff4-45fb-9e35-d047a22f3fed",
   "metadata": {},
   "outputs": [
    {
     "name": "stdout",
     "output_type": "stream",
     "text": [
      "True\n"
     ]
    }
   ],
   "source": [
    "print(str(True))      # str value of True is 'True'"
   ]
  },
  {
   "cell_type": "code",
   "execution_count": 114,
   "id": "aba037bd-3157-4e71-b9eb-8ea10afa5a83",
   "metadata": {},
   "outputs": [
    {
     "name": "stdout",
     "output_type": "stream",
     "text": [
      "False\n"
     ]
    }
   ],
   "source": [
    "print(str(False))     # str value of False is 'False'"
   ]
  },
  {
   "cell_type": "code",
   "execution_count": 115,
   "id": "e77a53b7-8537-4693-92f5-cbf58e9ef52b",
   "metadata": {},
   "outputs": [
    {
     "name": "stdout",
     "output_type": "stream",
     "text": [
      "True\n"
     ]
    }
   ],
   "source": [
    "print(bool('HELLO'))   # bool value of 'HELLO' is True"
   ]
  },
  {
   "cell_type": "code",
   "execution_count": 116,
   "id": "b32be65b-a5d5-4e00-b1c6-e72582bf05c5",
   "metadata": {},
   "outputs": [
    {
     "name": "stdout",
     "output_type": "stream",
     "text": [
      "False\n"
     ]
    }
   ],
   "source": [
    "print(bool(''))        # bool value of '' = empty string is False"
   ]
  },
  {
   "cell_type": "markdown",
   "id": "2fb1cd35-4709-4a0d-aa8c-668b243f022b",
   "metadata": {},
   "source": [
    "## Conditions (Boolean Expression)\n",
    "An expression that evaluates to either True or False.\n",
    "\n",
    "\n",
    "\n",
    "### Comparison operators  \n",
    "Since `=` is used for assignment, `==` is used for comparison.\n",
    "\n",
    "|Operator|Meaning|\n",
    "|:-:|-|\n",
    "|==|equal (only value not type)|\n",
    "|!=|not equal (only value not type)|\n",
    "|< |less than |\n",
    "|<=|less than or equal to|\n",
    "|> |greater than|\n",
    "|>=|greater than or equal to|\n",
    "|is|equal (value and type)|\n",
    "|is not|not equal to (value and type)|\n",
    "\n",
    "\n",
    "- Comparison of strings\n",
    "    - Inequality operators follow the dictionary order.\n",
    "    - Uppercase letters are considered before lowercase letters.\n",
    "    - Digits are considered before uppercase letters.\n",
    "    - The order is as follows: Digits < Uppercase letters < Lowercase letters.\n",
    "\n",
    "- The `is` keyword checks for identity.\n",
    "    - Objects compared with `is` have the same id() numbers, indicating they are stored in the same location in memory.\n",
    "    - Using `is` means the objects point to the exact same object.\n",
    "\n",
    "\n",
    "- `==` checks for equality\n",
    "    - The values are same or not.\n",
    "    - 4 and 4.0 as a mathematical values same even though their type is different\n",
    " \n",
    "- The `==` operator checks for equality.\n",
    "    - It compares whether the values are the same or not.\n",
    "    - For example, 4 and 4.0 are considered equal mathematically, even though their data types are different.\n",
    " \n",
    "- When you use `is` with strings, numbers, or booleans, a syntax error occurs.\n",
    "    - The error suggests using `==` or `!=` for these types."
   ]
  },
  {
   "cell_type": "code",
   "execution_count": 19,
   "id": "df49b46f-c307-491e-9e36-a7442c4aad9a",
   "metadata": {},
   "outputs": [
    {
     "name": "stdout",
     "output_type": "stream",
     "text": [
      "True\n"
     ]
    }
   ],
   "source": [
    "print(5==5)  # 5 is equal to 5 is True"
   ]
  },
  {
   "cell_type": "code",
   "execution_count": 20,
   "id": "c1fbabd8-3d02-4b5a-9227-d90730c87018",
   "metadata": {},
   "outputs": [
    {
     "name": "stdout",
     "output_type": "stream",
     "text": [
      "False\n"
     ]
    }
   ],
   "source": [
    "print(5==7)  # 5 is equal to 7 is False"
   ]
  },
  {
   "cell_type": "code",
   "execution_count": 21,
   "id": "40ee6b46-427b-475c-a12d-0176a68ac752",
   "metadata": {},
   "outputs": [
    {
     "name": "stdout",
     "output_type": "stream",
     "text": [
      "True\n"
     ]
    }
   ],
   "source": [
    "print(3==3.0) # The mathematical value of 3 and 3.0 are equal is True"
   ]
  },
  {
   "cell_type": "code",
   "execution_count": 22,
   "id": "50fa7000-8513-4024-891d-7acc0d7e4f9b",
   "metadata": {},
   "outputs": [
    {
     "name": "stdout",
     "output_type": "stream",
     "text": [
      "False\n"
     ]
    }
   ],
   "source": [
    "print(5!=5)  # 5 is not equal to 5 is False"
   ]
  },
  {
   "cell_type": "code",
   "execution_count": 23,
   "id": "486526ac-8a70-48a0-a8f5-4351a7b7ef20",
   "metadata": {},
   "outputs": [
    {
     "name": "stdout",
     "output_type": "stream",
     "text": [
      "True\n"
     ]
    }
   ],
   "source": [
    "print(5!=7)  # 5 is not equal to 7 is True"
   ]
  },
  {
   "cell_type": "code",
   "execution_count": 24,
   "id": "b2cb2abb-3dae-4f94-8943-d1624f5d7745",
   "metadata": {},
   "outputs": [
    {
     "name": "stdout",
     "output_type": "stream",
     "text": [
      "True\n"
     ]
    }
   ],
   "source": [
    "print(5<7)   # 5 is less than 7 is True"
   ]
  },
  {
   "cell_type": "code",
   "execution_count": 25,
   "id": "edaa7fdd-ccdd-4ade-9625-173cf0d5ffc2",
   "metadata": {},
   "outputs": [
    {
     "name": "stdout",
     "output_type": "stream",
     "text": [
      "False\n"
     ]
    }
   ],
   "source": [
    "print(10>15)  # 10 is greater than 15 is False"
   ]
  },
  {
   "cell_type": "code",
   "execution_count": 117,
   "id": "f33a1077-df52-4cd6-b045-3b59301e43ec",
   "metadata": {},
   "outputs": [
    {
     "name": "stdout",
     "output_type": "stream",
     "text": [
      "False\n"
     ]
    }
   ],
   "source": [
    "print('k'=='t')  # 'k' is equal to 't' is False"
   ]
  },
  {
   "cell_type": "code",
   "execution_count": 118,
   "id": "31cff563-de23-45f7-a780-3137a03cf98d",
   "metadata": {},
   "outputs": [
    {
     "name": "stdout",
     "output_type": "stream",
     "text": [
      "True\n"
     ]
    }
   ],
   "source": [
    "print('k'=='k')  # 'k' is equal to 'k' is True"
   ]
  },
  {
   "cell_type": "code",
   "execution_count": 122,
   "id": "0e8b8705-4d4a-4d0f-9a4a-800eb6cf9822",
   "metadata": {},
   "outputs": [
    {
     "name": "stdout",
     "output_type": "stream",
     "text": [
      "False\n"
     ]
    }
   ],
   "source": [
    "print('K'=='k')  # 'k' is equal to 'K' is False (case sensitive)."
   ]
  },
  {
   "cell_type": "code",
   "execution_count": 123,
   "id": "7e1028f8-0d74-4c3f-a24e-6a1c43617193",
   "metadata": {},
   "outputs": [
    {
     "name": "stdout",
     "output_type": "stream",
     "text": [
      "True\n"
     ]
    }
   ],
   "source": [
    "print('k' < 't')  # 'k' comes before  't' in dictionary order is True"
   ]
  },
  {
   "cell_type": "code",
   "execution_count": 124,
   "id": "528b645a-a146-4598-b161-5acd5d6b56dd",
   "metadata": {},
   "outputs": [
    {
     "name": "stdout",
     "output_type": "stream",
     "text": [
      "False\n"
     ]
    }
   ],
   "source": [
    "print('z' < 't')  # 'z' comes before  't' in dictionarcy order is False"
   ]
  },
  {
   "cell_type": "code",
   "execution_count": 125,
   "id": "a252610c-1c5b-411b-9a84-e77928c50d1f",
   "metadata": {},
   "outputs": [
    {
     "name": "stdout",
     "output_type": "stream",
     "text": [
      "True\n"
     ]
    }
   ],
   "source": [
    "print('money' < 'table')  # 'money' comes before 'table' in dictionarcy order is False"
   ]
  },
  {
   "cell_type": "code",
   "execution_count": 32,
   "id": "65fb7901-04f0-45d8-bf8c-ec50b6835a00",
   "metadata": {},
   "outputs": [
    {
     "name": "stdout",
     "output_type": "stream",
     "text": [
      "True\n"
     ]
    }
   ],
   "source": [
    "print('Z' < 'a')  # capital letters come before lower case letters in dictionarcy order "
   ]
  },
  {
   "cell_type": "code",
   "execution_count": 33,
   "id": "5b0f5e93-9b7b-4724-b122-b12341ab5522",
   "metadata": {},
   "outputs": [
    {
     "name": "stdout",
     "output_type": "stream",
     "text": [
      "True\n"
     ]
    }
   ],
   "source": [
    "print('3' < 'A')  # digits come before  letters in dictionarcy order "
   ]
  },
  {
   "cell_type": "markdown",
   "id": "296d3d3d-ccbd-4aee-b7db-e39b152eb067",
   "metadata": {},
   "source": [
    "``` python\n",
    "# SyntaxWarning: Use == instead\n",
    "print( 'k' is 'K')\n",
    "```\n",
    "\n",
    "``` python\n",
    "# SyntaxWarning: Use == instead\n",
    "print( 2 is 3)\n",
    "```"
   ]
  },
  {
   "cell_type": "markdown",
   "id": "c0ccfb83-7b3d-428d-bbf9-0649f221042d",
   "metadata": {},
   "source": [
    "## if statement\n",
    "It is used to execute a block of code depending on a condition, which is a boolean expression. So, it returns either True or False.\n",
    "- If the condition is True, a block of code will be executed.\n",
    "- If the condition is False, the block of code will not be executed and will be skipped.\n",
    "- The structure of an if statement is as follows:\n",
    "\n",
    "\n",
    "`if condition:`  \n",
    " &emsp;&emsp; `          `    &emsp;      \n",
    " &emsp;&emsp; `BLOCK CODE`    &emsp;      \n",
    " &emsp;&emsp; `          `    &emsp;     \n",
    "\n",
    "- In the structure above:\n",
    "    - `if` is a keyword.\n",
    "    - `condition` is a boolean expression which is boolean True or False.\n",
    "    - `:` comes right after the condition and it means this line will be followed by another code\n",
    "    - `BLOCK CODE` is an group of code with same indentation level that will be executed if condition is True.  \n",
    "      \n",
    "In the structure above:  \n",
    "- if is a keyword.  \n",
    "- condition is a boolean expression, which is either True or False.\n",
    "- `:` comes right after the condition and means this line will be followed by another code.\n",
    "- `BLOCK CODE` is a group of code with the same indentation level that will be executed if the condition is True.\n",
    "\n",
    "\n",
    "The cases are as follows:\n",
    "  \n",
    "1. condition is True:  \n",
    "\n",
    "`if True:`  \n",
    " &emsp;&emsp; `          `    &emsp;      \n",
    " &emsp;&emsp; `BLOCK CODE`    &emsp;    BLOCK CODE will be executed.    \n",
    " &emsp;&emsp; `          `    &emsp;     \n",
    "\n",
    "\n",
    "2. condition is False:  \n",
    "`if False:`  \n",
    " &emsp;&emsp; `          `    &emsp;        \n",
    " &emsp;&emsp; `BLOCK CODE`    &emsp;    BLOCK CODE will be skipped.    \n",
    " &emsp;&emsp; `          `    &emsp;       \n"
   ]
  },
  {
   "cell_type": "markdown",
   "id": "b1330ca0-6afe-425b-a10b-b5caa54ac926",
   "metadata": {},
   "source": [
    "In the code below:\n",
    "- `condition` is True because 75 > 65, so the block code will be executed.\n",
    "- `BLOCK CODE` consists of two lines of code, and they will be executed."
   ]
  },
  {
   "cell_type": "code",
   "execution_count": 34,
   "id": "cbb8368c-b7b9-4c6f-82f2-1a6ec6ca7669",
   "metadata": {},
   "outputs": [
    {
     "name": "stdout",
     "output_type": "stream",
     "text": [
      "You passed.\n",
      "Congrats!\n"
     ]
    }
   ],
   "source": [
    "grade = 75\n",
    "\n",
    "if grade > 65:        \n",
    "    print('You passed.')\n",
    "    print('Congrats!')"
   ]
  },
  {
   "cell_type": "markdown",
   "id": "dbf7bb91-5ece-409d-bddf-90a381a2c3cf",
   "metadata": {},
   "source": [
    "- In the code below:\n",
    "    - `condition` is False because 55>65 is False, so the block code will not be executed.\n",
    "    - `BLOCK CDDE` consists of two lines of code, and they will be skipped.\n",
    "    - There is no output for this code."
   ]
  },
  {
   "cell_type": "code",
   "execution_count": 35,
   "id": "d2162367-05a8-4ce0-ad7c-bedf25266e7a",
   "metadata": {},
   "outputs": [],
   "source": [
    "grade = 55\n",
    "\n",
    "if grade > 65:        \n",
    "    print('You passed.')\n",
    "    print('Congrats!')"
   ]
  },
  {
   "cell_type": "markdown",
   "id": "ead33a44-0eb6-47c0-969d-c5aa557ba2b7",
   "metadata": {},
   "source": [
    "- In the code below:\n",
    "    - `condition` is False because 55>65 is False, so the block code will not be executed.\n",
    "    - `BLOCK CDDE` consists of two lines of code and they will be skipped.\n",
    "    - The last print statement is not part of the `BLOCK CODE`. After skipping the `BLOCK CODE`, this last print statement will be executed."
   ]
  },
  {
   "cell_type": "code",
   "execution_count": 36,
   "id": "f71fbc44-ff2e-4436-8b09-58ab34399db8",
   "metadata": {},
   "outputs": [
    {
     "name": "stdout",
     "output_type": "stream",
     "text": [
      "Bye\n"
     ]
    }
   ],
   "source": [
    "grade = 55\n",
    "\n",
    "if grade > 65:        \n",
    "    print('You passed.')\n",
    "    print('Congrats!')\n",
    "print('Bye')"
   ]
  },
  {
   "cell_type": "markdown",
   "id": "d8a9a34b-9f8e-4b43-92d1-ddfbdfd1310a",
   "metadata": {},
   "source": [
    "- As a condition, numbers, strings, and boolean values can be directly used.\n",
    "- Python will automatically convert them into boolean values."
   ]
  },
  {
   "cell_type": "code",
   "execution_count": 126,
   "id": "8c4b0b00-3e5c-4cf2-b4a3-4809d350d89a",
   "metadata": {},
   "outputs": [
    {
     "name": "stdout",
     "output_type": "stream",
     "text": [
      "Hello\n"
     ]
    }
   ],
   "source": [
    "# condition is always True\n",
    "# Hello will always be printed.\n",
    "\n",
    "if True:\n",
    "    print('Hello')"
   ]
  },
  {
   "cell_type": "code",
   "execution_count": 127,
   "id": "9b274bef-5600-401f-9ea4-dccd41eab33d",
   "metadata": {},
   "outputs": [],
   "source": [
    "# condition is always False: print statement will be skipped. \n",
    "# no output\n",
    "\n",
    "if False:\n",
    "    print('Hello')"
   ]
  },
  {
   "cell_type": "code",
   "execution_count": 128,
   "id": "b33652fa-168a-4630-adc7-16b914cf9bfe",
   "metadata": {},
   "outputs": [
    {
     "name": "stdout",
     "output_type": "stream",
     "text": [
      "Hello\n"
     ]
    }
   ],
   "source": [
    "# condition is always True becasue bool(5)=True\n",
    "# Hello will always be printed\n",
    "\n",
    "if 5:\n",
    "    print('Hello')"
   ]
  },
  {
   "cell_type": "code",
   "execution_count": 129,
   "id": "9385e66d-6c87-4c9c-8e12-b7df6e826374",
   "metadata": {},
   "outputs": [],
   "source": [
    "# condition is always False becasue bool(0)=False\n",
    "# no output\n",
    "\n",
    "if 0:\n",
    "    print('Hello')"
   ]
  },
  {
   "cell_type": "code",
   "execution_count": 130,
   "id": "879bf15b-d911-447e-a2c2-e2a182b10824",
   "metadata": {},
   "outputs": [
    {
     "name": "stdout",
     "output_type": "stream",
     "text": [
      "Hello\n"
     ]
    }
   ],
   "source": [
    "# condition is always True because bool('NY')=True\n",
    "# Hello will always be printed.\n",
    "\n",
    "if 'NY':\n",
    "    print('Hello')"
   ]
  },
  {
   "cell_type": "code",
   "execution_count": 131,
   "id": "1ed86772-344a-42d1-b57b-92095831bce3",
   "metadata": {},
   "outputs": [],
   "source": [
    "# condition is always False becasue bool('')=False\n",
    "# no output\n",
    "\n",
    "if '':\n",
    "    print('Hello')"
   ]
  },
  {
   "cell_type": "markdown",
   "id": "d40a9d92-8680-4e0d-b30c-d7e779ae198f",
   "metadata": {},
   "source": [
    "- If the block code of an if statement consists of only one line, it can be written right after the colon (:), keeping the entire if statement in a single line."
   ]
  },
  {
   "cell_type": "code",
   "execution_count": 92,
   "id": "833052dd-928e-4428-b495-03a854c0b1e0",
   "metadata": {},
   "outputs": [
    {
     "name": "stdout",
     "output_type": "stream",
     "text": [
      "You passed.\n"
     ]
    }
   ],
   "source": [
    "grade = 55\n",
    "if grade > 35: print('You passed.')  "
   ]
  },
  {
   "cell_type": "markdown",
   "id": "1cb0045e-9bb4-48e9-8a4f-8bfc4804b9c6",
   "metadata": {},
   "source": [
    "## if-else statement\n",
    "This is for two-case situations. \n",
    "- If the condition is True, the block code of the if statement will be executed as before.\n",
    "- If the condition is False, the block code of the else statement will be executed.\n",
    "- The `else` keyword is used for the second part.\n",
    "- The else part does not have a condition part.\n",
    "- **IMPORTANT:** The indentation level of if and else must be the same.\n",
    "\n",
    "\n",
    "`if condition:`  \n",
    " &emsp;&emsp; `                  `      &emsp;          \n",
    " &emsp;&emsp; `BLOCK CODE of IF  `      &emsp;          \n",
    " &emsp;&emsp; `                  `      &emsp;       \n",
    " `else:`  \n",
    " &emsp;&emsp; `                  `    &emsp;          \n",
    " &emsp;&emsp; `BLOCK CODE of ELSE`    &emsp;          \n",
    " &emsp;&emsp; `                  `    &emsp;       \n",
    " \n",
    "\n",
    "\n",
    "- The cases are as follows:\n",
    "1. condition is True:\n",
    "   \n",
    "`if True:`  \n",
    " &emsp;&emsp; `                  `      &emsp;          \n",
    " &emsp;&emsp; `BLOCK CODE of IF  `      &emsp;         BLOCK CODE of IF STATEMENT will be executed.     \n",
    " &emsp;&emsp; `                  `      &emsp;       \n",
    " `else:`  \n",
    " &emsp;&emsp; `                  `      &emsp;          \n",
    " &emsp;&emsp; `BLOCK CODE of ELSE`      &emsp;          BLOCK CODE of ELSE STATEMENT will be skipped.   \n",
    " &emsp;&emsp; `                  `      &emsp;       \n",
    "  \n",
    "\n",
    "2. condition = False:\n",
    "   \n",
    "`if False:`  \n",
    " &emsp;&emsp; `                  `      &emsp;          \n",
    " &emsp;&emsp; `BLOCK CODE of IF  `      &emsp;         BLOCK CODE of IF STATEMENT will be skipped.       \n",
    " &emsp;&emsp; `                  `      &emsp;       \n",
    " `else:`  \n",
    " &emsp;&emsp; `                  `    &emsp;          \n",
    " &emsp;&emsp; `BLOCK CODE of ELSE`    &emsp;          BLOCK CODE of ELSE STATEMENT will be executed.   \n",
    " &emsp;&emsp; `                  `    &emsp;       \n",
    "  "
   ]
  },
  {
   "cell_type": "markdown",
   "id": "aea5f469-b6af-4759-ae39-9ab4d624125c",
   "metadata": {},
   "source": [
    "- In the code below:\n",
    "    - `condition` is True because 75 > 65 is True, so the block code of the `if` statement will be executed.\n",
    "    - The block code of the `else` statement will be skipped.\n",
    "    - The output comes from the print statements of the `if` part."
   ]
  },
  {
   "cell_type": "code",
   "execution_count": 132,
   "id": "adf3c696-3c02-4d1d-8761-7d7a579d5e1a",
   "metadata": {},
   "outputs": [
    {
     "name": "stdout",
     "output_type": "stream",
     "text": [
      "You passed.\n",
      "Congrats!\n"
     ]
    }
   ],
   "source": [
    "grade = 75\n",
    "\n",
    "if grade > 65:        \n",
    "    print('You passed.')\n",
    "    print('Congrats!')\n",
    "else:\n",
    "    print('You failed.')\n",
    "    print('I am sorry.')"
   ]
  },
  {
   "cell_type": "markdown",
   "id": "d429625d-da77-4b49-940e-bffd8cf19927",
   "metadata": {},
   "source": [
    "- In the code below:\n",
    "    - `condition` is False because 55>65 is False, so the block code of the `else` statement will be executed.\n",
    "    - The block code of the `if` statement will be skipped.\n",
    "    - The output comes from the print staements of the `else` part."
   ]
  },
  {
   "cell_type": "code",
   "execution_count": 44,
   "id": "4f7ee18e-7b08-4a97-a9a7-04f7c7091735",
   "metadata": {},
   "outputs": [
    {
     "name": "stdout",
     "output_type": "stream",
     "text": [
      "You failed.\n",
      "I am sorry.\n"
     ]
    }
   ],
   "source": [
    "grade = 55\n",
    "\n",
    "if grade > 65:        \n",
    "    print('You passed.')\n",
    "    print('Congrats!')\n",
    "else:\n",
    "    print('You failed.')\n",
    "    print('I am sorry.')"
   ]
  },
  {
   "cell_type": "markdown",
   "id": "b4e5f2b4-b36d-4b50-8e6d-849fca343ecf",
   "metadata": {},
   "source": [
    "- If the block code of an if or else statement consists of only one line, it can be written right after the colon (:), keeping the entire if or else statement in a single line."
   ]
  },
  {
   "cell_type": "code",
   "execution_count": 94,
   "id": "f735a5e1-fd0a-49b5-869c-11a7db24de06",
   "metadata": {},
   "outputs": [
    {
     "name": "stdout",
     "output_type": "stream",
     "text": [
      "You passed.\n"
     ]
    }
   ],
   "source": [
    "grade = 55\n",
    "\n",
    "if grade > 35: print('You passed.')  \n",
    "else: print('You failed.')"
   ]
  },
  {
   "cell_type": "markdown",
   "id": "0464f9bd-a411-438f-85a7-310b930109a3",
   "metadata": {},
   "source": [
    "## if-elif-else statement\n",
    "\n",
    "This is for three-case situations. \n",
    "- If there are more cases, then more `elif` parts can be added.\n",
    "- If the condition of the `if` statement is True, the block code of the `if` statement will be executed.\n",
    "- If the condition of the `if` statement is False and the condition of the `elif` statement is True, the block code of the `elif` statement will be executed.\n",
    "- If the conditions of the `if` and `elif` statements are False, then the block code of the `else` statement will be executed.\n",
    "- The `elif` keyword is used for the second part.\n",
    "- `elif` has a condition part.\n",
    "- **IMPORTANT:** The indentation level of `if`, `elif`, and `else` must be the same.\n",
    "- The structure of an if-elif-else statement is as follows:\n",
    "\n",
    "`if condition of IF:          `  \n",
    " &emsp;&emsp; `                   `      &emsp;          \n",
    " &emsp;&emsp; `BLOCK CODE of  IF  `      &emsp;          \n",
    " &emsp;&emsp; `                   `      &emsp;  \n",
    "`elif condition of ELIF:      `  \n",
    " &emsp;&emsp; `                   `      &emsp;          \n",
    " &emsp;&emsp; `BLOCK CODE of ELIF `     &emsp;          \n",
    " &emsp;&emsp; `                   `     &emsp;   \n",
    " `else:                       `  \n",
    " &emsp;&emsp; `                   `    &emsp;          \n",
    " &emsp;&emsp; `BLOCK CODE of ELSE `    &emsp;          \n",
    " &emsp;&emsp; `                   `    &emsp;       \n",
    " "
   ]
  },
  {
   "cell_type": "markdown",
   "id": "b7eefc73-a8fe-4c71-b0c5-b919b354b2bd",
   "metadata": {},
   "source": [
    "\n",
    "- The cases are as follows:\n",
    "1. condition of `if` statement is True:\n",
    "\n",
    "`if True:`  \n",
    " &emsp;&emsp; `                   `      &emsp;          \n",
    " &emsp;&emsp; `BLOCK CODE of  IF  `      &emsp;          BLOCK CODE of IF STATEMENT will be executed.      \n",
    " &emsp;&emsp; `                   `      &emsp;  \n",
    "`elif condition of ELIF:`  \n",
    " &emsp;&emsp; `                   `      &emsp;          \n",
    " &emsp;&emsp; `BLOCK CODE of ELIF `     &emsp;            BLOCK CODE of ELIF STATEMENT will be skipped.  \n",
    " &emsp;&emsp; `                   `     &emsp;   \n",
    " `else:`  \n",
    " &emsp;&emsp; `                   `    &emsp;          \n",
    " &emsp;&emsp; `BLOCK CODE of ELSE `    &emsp;             BLOCK CODE of ELSE STATEMENT will be skipped.  \n",
    " &emsp;&emsp; `                   `    &emsp;  \n",
    "\n",
    "\n",
    "\n",
    " 2. condition of `if` statement is False and condition of `elif` statement is True:\n",
    "\n",
    "`if False:`  \n",
    " &emsp;&emsp; `                  `      &emsp;          \n",
    " &emsp;&emsp; `BLOCK CODE of  IF `      &emsp;          BLOCK CODE of IF STATEMENT will be skipped.      \n",
    " &emsp;&emsp; `                  `      &emsp;  \n",
    "`elif True:`  \n",
    " &emsp;&emsp; `                  `      &emsp;          \n",
    " &emsp;&emsp; `BLOCK CODE of ELIF`     &emsp;            BLOCK CODE of ELIF STATEMENT will be executed.  \n",
    " &emsp;&emsp; `                  `     &emsp;   \n",
    " `else:`  \n",
    " &emsp;&emsp; `                  `    &emsp;          \n",
    " &emsp;&emsp; `BLOCK CODE of ELSE`    &emsp;             BLOCK CODE of ELSE STATEMENT will be skipped.  \n",
    " &emsp;&emsp; `                  `    &emsp;  \n",
    "\n",
    " \n",
    " \n",
    " 3. conditions of `if` and `elif` statements are both False:\n",
    "\n",
    "`if False:`  \n",
    " &emsp;&emsp; `                  `      &emsp;          \n",
    " &emsp;&emsp; `BLOCK CODE of  IF `      &emsp;          BLOCK CODE of IF STATEMENT will be skipped.      \n",
    " &emsp;&emsp; `                  `      &emsp;  \n",
    "`elif False:`  \n",
    " &emsp;&emsp; `                  `      &emsp;          \n",
    " &emsp;&emsp; `BLOCK CODE of ELIF`     &emsp;            BLOCK CODE of ELIF STATEMENT will be skipped.  \n",
    " &emsp;&emsp; `                  `     &emsp;   \n",
    " `else:`  \n",
    " &emsp;&emsp; `                  `    &emsp;          \n",
    " &emsp;&emsp; `BLOCK CODE of ELSE`    &emsp;             BLOCK CODE of ELSE STATEMENT will be executed.  \n",
    " &emsp;&emsp; `                  `    &emsp;"
   ]
  },
  {
   "cell_type": "markdown",
   "id": "ddf5a4e1-a807-44e7-b6ad-c8f04966c40b",
   "metadata": {},
   "source": [
    "- In the code below:\n",
    "    - `condition` of the if statement is True because 75>65 is True, so the block code of the if statement will be executed.\n",
    "    - The block code of the elif and else statements will be skipped.\n",
    "    - The output comes from the print statements of the if part."
   ]
  },
  {
   "cell_type": "code",
   "execution_count": 45,
   "id": "5fc867a8-e14c-457a-9579-f107488b3dcc",
   "metadata": {},
   "outputs": [
    {
     "name": "stdout",
     "output_type": "stream",
     "text": [
      "You passed.\n",
      "Congrats!\n"
     ]
    }
   ],
   "source": [
    "grade = 75\n",
    "\n",
    "if grade > 65:        \n",
    "    print('You passed.')\n",
    "    print('Congrats!')\n",
    "elif grade > 55:\n",
    "    print('You could not pass!')\n",
    "    print('You can take the test one more time.')\n",
    "else:\n",
    "    print('You failed.')\n",
    "    print('I am sorry.')"
   ]
  },
  {
   "cell_type": "markdown",
   "id": "9921e2e6-5b82-449a-a000-8961bbfd90ae",
   "metadata": {},
   "source": [
    "- In the code below:\n",
    "    - `condition` of the if statement is False because 60>65 is False\n",
    "    - `condition` of the elif statement is True because 60>55 is True\n",
    "    -  So the block code of the elif statement will be executed.\n",
    "    - The block code of the if and else statements will be skipped.\n",
    "    - The output comes from the print statements of the elif part."
   ]
  },
  {
   "cell_type": "code",
   "execution_count": 46,
   "id": "02ae6de9-9e5f-4295-aa31-c2f41ccd963d",
   "metadata": {},
   "outputs": [
    {
     "name": "stdout",
     "output_type": "stream",
     "text": [
      "You could not pass!\n",
      "You can take the test one more time.\n"
     ]
    }
   ],
   "source": [
    "grade = 60\n",
    "\n",
    "if grade > 65:        \n",
    "    print('You passed.')\n",
    "    print('Congrats!')\n",
    "elif grade > 55:\n",
    "    print('You could not pass!')\n",
    "    print('You can take the test one more time.')\n",
    "else:\n",
    "    print('You failed.')\n",
    "    print('I am sorry.')"
   ]
  },
  {
   "cell_type": "markdown",
   "id": "ffe8a510-ae53-4260-88f3-8e7d34bfa522",
   "metadata": {},
   "source": [
    "- In the code below:\n",
    "    - `condition` of the if statement is False because 40>65 is False\n",
    "    - `condition` of the elif statement is False because 40>55 is False\n",
    "    -  So the block code of the else statement will be executed.\n",
    "    - The block code of the if and elif statements will be skipped.\n",
    "    - The output comes from the print statements of the else part."
   ]
  },
  {
   "cell_type": "code",
   "execution_count": 47,
   "id": "36c29d5a-3bad-41b4-85b3-afc6f6b13b2e",
   "metadata": {},
   "outputs": [
    {
     "name": "stdout",
     "output_type": "stream",
     "text": [
      "You failed.\n",
      "I am sorry.\n"
     ]
    }
   ],
   "source": [
    "grade = 40\n",
    "\n",
    "if grade > 65:        \n",
    "    print('You passed.')\n",
    "    print('Congrats!')\n",
    "elif grade > 55:\n",
    "    print('You could not pass!')\n",
    "    print('You can take the test one more time.')\n",
    "else:\n",
    "    print('You failed.')\n",
    "    print('I am sorry.')"
   ]
  },
  {
   "cell_type": "markdown",
   "id": "ecf42825-5b36-4ac4-ac06-5bcc3e17aae6",
   "metadata": {},
   "source": [
    "## Nested if statements"
   ]
  },
  {
   "cell_type": "markdown",
   "id": "a8c42b6e-576c-43b9-ad0b-2064dceeb2dd",
   "metadata": {},
   "source": [
    "- It is possible to have an if, if-else, or if-elif-else statement within a block code for if, elif, or else."
   ]
  },
  {
   "cell_type": "code",
   "execution_count": 86,
   "id": "f3bfeeb4-9096-4e6c-a8ca-e68c8577593d",
   "metadata": {},
   "outputs": [
    {
     "name": "stdout",
     "output_type": "stream",
     "text": [
      "B\n"
     ]
    }
   ],
   "source": [
    "age = 10\n",
    "weight = 45\n",
    "\n",
    "if age > 5:                     # True: execute the block code within this `if` statement, which includes an `if-else` statement.\n",
    "    if weight>50:               # False: skipped\n",
    "        print('A')\n",
    "    else:                       \n",
    "        print('B')              # executed"
   ]
  },
  {
   "cell_type": "code",
   "execution_count": 87,
   "id": "3883f670-57bd-4557-b5f4-363705996dbc",
   "metadata": {},
   "outputs": [
    {
     "name": "stdout",
     "output_type": "stream",
     "text": [
      "A\n"
     ]
    }
   ],
   "source": [
    "age = 10\n",
    "weight = 55\n",
    "\n",
    "if age > 5:                     # True: execute the block code within this `if` statement which consists of an `if-else` statement\n",
    "    if weight>50:               # True: executed\n",
    "        print('A')\n",
    "    else:                       \n",
    "        print('B')              # skipped"
   ]
  },
  {
   "cell_type": "code",
   "execution_count": 88,
   "id": "8bb06c18-1063-4b88-9fc8-1c980ec6bfe6",
   "metadata": {},
   "outputs": [
    {
     "name": "stdout",
     "output_type": "stream",
     "text": [
      "C\n"
     ]
    }
   ],
   "source": [
    "age = 3\n",
    "weight = 45\n",
    "\n",
    "if age > 5:                     # False: skip the block code within this `if` statement which consists of an `if-else` statement\n",
    "    if weight>50:               \n",
    "        print('A')\n",
    "    else:                       \n",
    "        print('B')              \n",
    "else:                           # this 'else' statement corresponds to the first 'if' statement.\n",
    "    print('C')                  # executed"
   ]
  },
  {
   "cell_type": "markdown",
   "id": "0305e91c-976b-4b85-8653-d6b907eab352",
   "metadata": {},
   "source": [
    "## Boolean Operators\n",
    "\n",
    "Boolean operators include  `and`, `or`, and `not`.\n",
    "- `and`, and `or` are used to construct more complex boolean expressions.\n",
    "- `not` is the negation operator.\n",
    "- `&`,`|` can be used instead of `and`, `or` respectively.\n",
    "  \n",
    "They are also called logical operators and works as follows:\n",
    "- The and operator returns True if both operands are True, otherwise, it returns False.\n",
    "- The or operator returns True if at least one of the operands is True. It returns False only if both operands are False.\n",
    "- The not operator returns the opposite boolean value of the operand. If the operand is True, not returns False, and vice versa.\n",
    "\n",
    "These operators, also called logical operators, work as follows:\n",
    "- The `and` operator returns True if both operands are True; otherwise, it returns False.\n",
    "- The `or`  operator returns True if at least one of the operands is True; it returns False only if both operands are False.\n",
    "- The 'not' operator returns the opposite boolean value of the operand. If the operand is True, 'not' returns False, and vice versa.\""
   ]
  },
  {
   "cell_type": "markdown",
   "id": "4cfee208-1185-4239-9b30-6350c508835f",
   "metadata": {},
   "source": [
    "|Value|Operator|Value|=|Result|  \n",
    "|-|:-:|-|-|-|\n",
    "|True |and|True |=|True |  \n",
    "|True |and|False|=|False|\n",
    "|False|and|True |=|False|\n",
    "|False|and|False|=|False|\n",
    "\n",
    "\n",
    "|Value|Operator|Value|=|Result|  \n",
    "|-|:-:|-|-|-|\n",
    "|True |or|True |=|True |  \n",
    "|True |or|False|=|True |\n",
    "|False|or|True |=|True |\n",
    "|False|or|False|=|False|\n",
    "\n",
    "\n",
    "- not True  = False\n",
    "- not False = True"
   ]
  },
  {
   "cell_type": "code",
   "execution_count": 48,
   "id": "02b88406-4ead-42b7-95d2-bb7370c5bdee",
   "metadata": {},
   "outputs": [
    {
     "name": "stdout",
     "output_type": "stream",
     "text": [
      "False\n"
     ]
    }
   ],
   "source": [
    "print(True and False)"
   ]
  },
  {
   "cell_type": "code",
   "execution_count": 49,
   "id": "1e143d7d-b948-4296-9687-b1a2ed2a9547",
   "metadata": {},
   "outputs": [
    {
     "name": "stdout",
     "output_type": "stream",
     "text": [
      "False\n"
     ]
    }
   ],
   "source": [
    "print(True & False)   # and"
   ]
  },
  {
   "cell_type": "code",
   "execution_count": 50,
   "id": "e15ce325-c0c1-4b5e-8474-222546835d3f",
   "metadata": {},
   "outputs": [
    {
     "name": "stdout",
     "output_type": "stream",
     "text": [
      "True\n"
     ]
    }
   ],
   "source": [
    "print(True or False)"
   ]
  },
  {
   "cell_type": "code",
   "execution_count": 51,
   "id": "296c5ef6-f3ea-482b-a941-eb646a712071",
   "metadata": {},
   "outputs": [
    {
     "name": "stdout",
     "output_type": "stream",
     "text": [
      "True\n"
     ]
    }
   ],
   "source": [
    "print(True | False)  # or"
   ]
  },
  {
   "cell_type": "code",
   "execution_count": 52,
   "id": "42ec4724-5dcf-417f-b503-8657ef5ef66d",
   "metadata": {},
   "outputs": [
    {
     "name": "stdout",
     "output_type": "stream",
     "text": [
      "False\n"
     ]
    }
   ],
   "source": [
    "print(not True)"
   ]
  },
  {
   "cell_type": "code",
   "execution_count": 53,
   "id": "f5ed9d31-b687-47c8-ae1a-6f4ada372e5f",
   "metadata": {},
   "outputs": [
    {
     "name": "stdout",
     "output_type": "stream",
     "text": [
      "True\n"
     ]
    }
   ],
   "source": [
    "print(not False)"
   ]
  },
  {
   "cell_type": "code",
   "execution_count": 54,
   "id": "8e87160d-a217-4f03-838d-759d66617b77",
   "metadata": {},
   "outputs": [
    {
     "name": "stdout",
     "output_type": "stream",
     "text": [
      "True\n"
     ]
    }
   ],
   "source": [
    "# True and True = True\n",
    "print( (3 > 1) & (10 > 8) )"
   ]
  },
  {
   "cell_type": "code",
   "execution_count": 55,
   "id": "046d1344-9bb0-4efd-8e46-f592fa8566bc",
   "metadata": {},
   "outputs": [
    {
     "name": "stdout",
     "output_type": "stream",
     "text": [
      "True\n"
     ]
    }
   ],
   "source": [
    "# False or True = True\n",
    "print( (7 == 8) | (10 > 8) )"
   ]
  },
  {
   "cell_type": "code",
   "execution_count": 56,
   "id": "79b45a32-7b05-49a9-b925-09bb15d85b06",
   "metadata": {},
   "outputs": [
    {
     "name": "stdout",
     "output_type": "stream",
     "text": [
      "False\n"
     ]
    }
   ],
   "source": [
    "# not True = False\n",
    "print( not ('arm'<'kite'))"
   ]
  },
  {
   "cell_type": "code",
   "execution_count": 57,
   "id": "563ab91f-d7e3-42bf-9a0b-487ca41c4975",
   "metadata": {},
   "outputs": [
    {
     "name": "stdout",
     "output_type": "stream",
     "text": [
      "True\n"
     ]
    }
   ],
   "source": [
    "# not False = True\n",
    "print( not ( 'a' in 'Apple' ))  # a i snot in Apple"
   ]
  },
  {
   "cell_type": "markdown",
   "id": "11ff4303-1633-420a-9aa9-3b3d18950791",
   "metadata": {},
   "source": [
    "**Example-1**\n",
    "\n",
    "- If the (weather is nice) or (I have \\$5), then I will buy an ice cream.\n",
    "    - If either of the conditions is True, I will buy an ice cream.  \n",
    "    - If both of the conditions are False, I will not buy an ice cream.  \n",
    "\n",
    "- So, we have the following scenarios based on weather conditions and the amount of money available:\n",
    "    - (weather is nice) = True   or  (I have \\$5) = True   ------> buy an ice cream   \n",
    "    - (weather is nice) = False  or  (I have \\$5) = True   ------> buy an ice cream   \n",
    "    - (weather is nice) = True   or  (I have \\$5) = False  ------> buy an ice cream   \n",
    "    - (weather is nice) = False  or  (I have \\$5) = False  ------> do NOT buy an ice cream  \n"
   ]
  },
  {
   "cell_type": "markdown",
   "id": "7d0b3920-3901-4c14-a6e3-c1424d953529",
   "metadata": {},
   "source": [
    "**Example-2**\n",
    "\n",
    "- If the (weather is nice) and (I have \\$5), then I will buy an ice cream.\n",
    "    - Ii both of the condtions are True, I will buy an ice cream.   \n",
    "    - If either of the conditions is False, then I will not buy an ice cream.\n",
    "\n",
    "- So we have the following cases depending on the weather conditions and money amount:     \n",
    "    - (weather is nice) = True   and  (I have \\$5) = True   ------> buy an ice cream  \n",
    "    - (weather is nice) = False  and  (I have \\$5) = True   ------> do NOT buy an ice cream  \n",
    "    - (weather is nice) = True   and  (I have \\$5) = False  ------> do NOT buy an ice cream  \n",
    "    - (weather is nice) = False  and  (I have \\$5) = False  ------> do NOT buy an ice cream  \n"
   ]
  },
  {
   "cell_type": "code",
   "execution_count": 58,
   "id": "8e3a2c43-c84a-4690-9c5b-85e1c949bc2c",
   "metadata": {},
   "outputs": [
    {
     "name": "stdout",
     "output_type": "stream",
     "text": [
      "Temperature is 100.\n",
      "I have $3.\n",
      "Stay at home!\n"
     ]
    }
   ],
   "source": [
    "temperature = 100\n",
    "money = 3\n",
    "\n",
    "print(f'Temperature is {temperature}.')\n",
    "print(f'I have ${money}.')\n",
    "\n",
    "if temperature > 75 and money > 5:    # True and False = False\n",
    "  print('Go outside!')                # skipped\n",
    "else:\n",
    "  print('Stay at home!')              # executed"
   ]
  },
  {
   "cell_type": "code",
   "execution_count": 133,
   "id": "99a16779-a8c4-4924-ac9d-1719f4e1c4df",
   "metadata": {},
   "outputs": [
    {
     "name": "stdout",
     "output_type": "stream",
     "text": [
      "Temperature is 100.\n",
      "I have $10.\n",
      "Go outside!\n"
     ]
    }
   ],
   "source": [
    "temperature = 100\n",
    "money = 10\n",
    "\n",
    "print(f'Temperature is {temperature}.')\n",
    "print(f'I have ${money}.')\n",
    "\n",
    "if temperature > 75 and money > 5:    # True and True = True\n",
    "  print('Go outside!')                # executed\n",
    "else:\n",
    "  print('Stay at home!')              # skipped"
   ]
  },
  {
   "cell_type": "markdown",
   "id": "b01d2a6a-6d18-4772-96df-8aab710e6a67",
   "metadata": {},
   "source": [
    "## try and except\n",
    "\n",
    "It is similar to an if-else statement. If there is an error in the code, the entire program will be terminated. To prevent termination in the presence of errors, a try-except statement is often used.\n",
    "- This kind of situation is very common, especially when a user enters input that is not appropriate.\n",
    "    - entering \"one\" instead of digit \"1\"\n",
    "    - making typos like \"5s\" instead of \"5\"\n",
    "- If you try to convert such inputs to a number, an error will occur, and the entire program may be terminated.\n",
    "- To handle such situations gracefully, you can use a try-except statement\n",
    "- `try-except` works as follows:\n",
    "    - If there is no error in the block code of the try part, this block code will be executed.\n",
    "    - If there is an error in the block code of the try part, the block code of the except part will be executed.\n",
    "\n",
    "\n",
    "- The structure of a try-except statement is as follows:\n",
    "\n",
    "`try:`  \n",
    " &emsp;&emsp; `                    `      &emsp;          \n",
    " &emsp;&emsp; `BLOCK CODE of TRY   `      &emsp;          \n",
    " &emsp;&emsp; `                    `      &emsp;       \n",
    " `except:`  \n",
    " &emsp;&emsp; `                    `    &emsp;          \n",
    " &emsp;&emsp; `BLOCK CODE of EXCEPT`    &emsp;          \n",
    " &emsp;&emsp; `                    `    &emsp;       \n",
    " \n",
    "\n",
    "\n",
    "- The cases are as follows:\n",
    "1. BLOCK CODE of TRY has no error:\n",
    "   \n",
    "`try:`     \n",
    " &emsp;&emsp; `                    `      &emsp;          \n",
    " &emsp;&emsp; `BLOCK CODE of TRY   `      &emsp;          BLOCK CODE of TRY  will be executed.   \n",
    " &emsp;&emsp; `                    `      &emsp;       \n",
    " `except:`  \n",
    " &emsp;&emsp; `                    `    &emsp;          \n",
    " &emsp;&emsp; `BLOCK CODE of EXCEPT`    &emsp;            BLOCK CODE of EXCEPT  will be skipped.   \n",
    " &emsp;&emsp; `                    `    &emsp; \n",
    "\n",
    "\n",
    "2. BLOCK CODE of TRY has an error:\n",
    "\n",
    "`try:`     \n",
    " &emsp;&emsp; `                    `      &emsp;          \n",
    " &emsp;&emsp; `BLOCK CODE of TRY   `      &emsp;          BLOCK CODE of TRY  will be skipped.   \n",
    " &emsp;&emsp; `                    `      &emsp;       \n",
    " `except:`  \n",
    " &emsp;&emsp; `                    `    &emsp;          \n",
    " &emsp;&emsp; `BLOCK CODE of EXCEPT`    &emsp;            BLOCK CODE of EXCEPT  will be executed.   \n",
    " &emsp;&emsp; `                    `    &emsp; \n",
    " "
   ]
  },
  {
   "cell_type": "code",
   "execution_count": 60,
   "id": "0e861dd0-8a98-4a15-8bec-8f33b07e9b4c",
   "metadata": {},
   "outputs": [
    {
     "name": "stdout",
     "output_type": "stream",
     "text": [
      "Square of 5 is 25\n"
     ]
    }
   ],
   "source": [
    "num =  '5'\n",
    "try:\n",
    "    x = int(num)**2                                 # no error: '5' can be converted to an int\n",
    "    print(f'Square of {num} is {x}')                # executed\n",
    "except:\n",
    "    print('Warning: Please enter an integer.')      # skipped"
   ]
  },
  {
   "cell_type": "code",
   "execution_count": 134,
   "id": "f7f1c6c4-9f2e-4d6a-b624-3a9c9401aaca",
   "metadata": {},
   "outputs": [
    {
     "name": "stdout",
     "output_type": "stream",
     "text": [
      "Warning: Please enter an integer.\n"
     ]
    }
   ],
   "source": [
    "num =  '5s'\n",
    "try:\n",
    "    x = int(num)**2                                 # error: '5s' can not be converted to an int\n",
    "    print(f'Square of {num} is {x}')                # skipped\n",
    "except:\n",
    "    print('Warning: Please enter an integer.')      # executed"
   ]
  },
  {
   "cell_type": "markdown",
   "id": "6137b3dd-2eed-4f45-abfb-19accc033d13",
   "metadata": {},
   "source": [
    "**Remark**\n",
    "- You must include the except part along with some code when using the try statement.\n",
    "- If you don't intend to perform any specific actions in the except part, you can use the `pass` keyword to prevent an error."
   ]
  },
  {
   "cell_type": "code",
   "execution_count": 1,
   "id": "e8e8d948-aff5-4b5b-8c80-a1645fe8cf69",
   "metadata": {},
   "outputs": [],
   "source": [
    "num =  '5s'\n",
    "try:\n",
    "    x = int(num)**2                                 # error: '5s' can not be converted to an int\n",
    "    print(f'Square of {num} is {x}')                # skipped\n",
    "except:\n",
    "    pass                                            # does not do anything"
   ]
  },
  {
   "cell_type": "markdown",
   "id": "3ab53714-8f8b-4e2b-a37c-911760143dd8",
   "metadata": {},
   "source": [
    "No output"
   ]
  },
  {
   "cell_type": "markdown",
   "id": "fa5c3006-a1c9-4769-bde5-d18c4c01267b",
   "metadata": {},
   "source": [
    "## Examples"
   ]
  },
  {
   "cell_type": "markdown",
   "id": "fad5d789-3c41-492f-bdc2-04d4b2b5774c",
   "metadata": {},
   "source": [
    "### Even or Odd\n",
    "- Ask for an integer from the user and check whether it is even or odd.\n",
    "- Print your result using f-strings in the form of \"The given number is even/odd.\"\n",
    "\n",
    "**Solution**  \n",
    "\n",
    "``` python\n",
    "number = int( input('Enter an integer:') )\n",
    "\n",
    "if number%2 == 0:                            # for even numbers, the remainder is zero, so this condition is True.\n",
    "  print(f'{number} is an even number')\n",
    "else:\n",
    "  print(f'{number} is an odd number')\n",
    "```\n",
    "  "
   ]
  },
  {
   "cell_type": "markdown",
   "id": "60f60110-bc9b-4c48-a32e-de1b0ba0177e",
   "metadata": {},
   "source": [
    "### Greater than ten\n",
    "- Ask the user for an integer and check whether it is greater than 10 or not.\n",
    "- Print the result using f-strings in the form: \"The given number is greater/not greater than 10.\n",
    "  \n",
    "**Solution**  \n",
    "\n",
    "``` python\n",
    "number = int(input('Enter an integer:'))\n",
    "\n",
    "if number>10 :                              # this condition is True if the number is greater than 10.\n",
    "  print(f'{number} is greater than 10')\n",
    "else:\n",
    "  print(f'{number} is not greater than 10.')\n",
    "```"
   ]
  },
  {
   "cell_type": "markdown",
   "id": "d10d73ff-9ad8-491f-af45-3a37e4154ddb",
   "metadata": {},
   "source": [
    "### Same names\n",
    "- Ask for two names from the user using two input() functions and check whether these names are the same.\n",
    "- It should not be case-sensitive, meaning that \"Tom\" and \"TOM\" are considered the same name.\n",
    "- Print the result using f-strings in the form of \"{name1}\" and \"{name2}\" are the same/not the same.\n",
    "- Print the names exactly as given by the user.\n",
    "  \n",
    "**Solution**  \n",
    "\n",
    "``` python\n",
    "name1 = input('Please enter the first  name:')\n",
    "name2 = input('Please enter the second name:')\n",
    "\n",
    "if name1.lower() == name2.lower():             # compare lower case versions to make it not case sensitive.\n",
    "  print(f'{name1} and {name2} are same.')\n",
    "else:\n",
    "  print(f'{name1} and {name2} are not same.')\n",
    "```"
   ]
  },
  {
   "cell_type": "markdown",
   "id": "8fa18e47-d27b-4b02-9db1-588cc379cc2b",
   "metadata": {
    "jp-MarkdownHeadingCollapsed": true
   },
   "source": [
    "### Letter Grades\n",
    "\n",
    "- Write a program that asks the user to enter a percent grade.\n",
    "- Display the corresponding letter grade according to the following chart.\n",
    "|Letter Grade|Grade Range|\n",
    "|:---:|:----:|\n",
    "|A| 80 - 100|\n",
    "|B| 60 -  79|\n",
    "|C| 40 -  59|\n",
    "|D| 20 -  39|\n",
    "|F|  0 -  19|\n",
    "\n",
    "**Solution**  \n",
    "\n",
    "``` python\n",
    "grade = float(  input( 'Enter your percent grade:' )  )\n",
    "\n",
    "if 80 <= grade <= 100:\n",
    "    print('Your letter grade is A')\n",
    "elif 60 <= grade :\n",
    "    print('Your letter grade is B')\n",
    "elif 40 <= grade :\n",
    "    print('Your letter grade is C')\n",
    "elif 20 <= grade :\n",
    "    print('Your letter grade is D')\n",
    "elif 0 <= grade :\n",
    "    print('Your letter grade is F')\n",
    "else:\n",
    "    print(f'{grade} is not a percent grade')\n",
    "```"
   ]
  },
  {
   "cell_type": "markdown",
   "id": "137fba3b-bdb6-40b1-bcb0-21f25a8ece98",
   "metadata": {},
   "source": [
    "### Piecewise Defined Function\n",
    "\n",
    "The piecewise-defined function $f(n)$ is given  as follows:\n",
    "\n",
    "$$ f(n) =\n",
    "  \\begin{cases}\n",
    "                                   4-2n &  n < -2  \\\\\n",
    "                                   5   &  -2 \\le n \\le7\\\\\n",
    "                                   1-n  &    n>7 \\\\\n",
    "  \\end{cases}\n",
    "$$\n",
    "\n",
    "- Write a program that asks the user to enter an integer.\n",
    "- If the integer entered is n then display f(n).\n",
    "- Hint: \n",
    "    - If n is less than -2 then f(n)=4-2n\n",
    "    - If n is greater than  or equal to -2 and less than or equal to 7 then f(n)=5\n",
    "    - If n is greater than 7 then f(n)=1-n\n",
    "- Example:\n",
    "    - $f(-4) = 4-2(-4)=12$ since $-4<-2$  \n",
    "    - $f(1) = 5$ since $-2\\le1\\le7$  \n",
    "    - $f(10) = 1-10=-9$ since $10>7$\n",
    "\n",
    "**Solution**  \n",
    "\n",
    "\n",
    "``` python\n",
    "n = int(   input('Please enter a number:')    )\n",
    "\n",
    "if n < -2:\n",
    "    print(f'f({n})={4-2*n}')\n",
    "elif -2 <= n <= 7:\n",
    "    print(f'f({n})=5')\n",
    "else:\n",
    "    print(f'f({n})={1-n}')\n",
    "```"
   ]
  },
  {
   "cell_type": "markdown",
   "id": "be86f601-46d3-4e37-8f93-273d03e3b14b",
   "metadata": {},
   "source": [
    "### Secret Number Game\n",
    "- Choose a random integer between 1 and 10 as the secret number.\n",
    "- Ask a number from the user to guess it.\n",
    "- If the user's guess is correct, display You win!\n",
    "- If the user's guess is incorrect, display Incorrect. Try again!!\n",
    "- Cheating Part:\n",
    "    - If the user's guess is 99999, display You win!\n",
    "- Use try and except to avoid errors if the user enters non-numeric values.\n",
    "- Warn the user if there is an error by displaying a message.\n",
    "\n",
    "**Solution**  \n",
    "\n",
    "``` python\n",
    "import random\n",
    "secret_number = random.randint(1,10)\n",
    "\n",
    "try:\n",
    "  player = int(input('Guess the number: '))\n",
    "\n",
    "  if player == secret_number:\n",
    "    print('You win!')\n",
    "  elif player == 99999:       # cheating part\n",
    "    print('You win!')\n",
    "  else:\n",
    "    print('Incorrect. Try Again!')\n",
    "      \n",
    "except:\n",
    "  print('Please enter a valid numeric value!')\n",
    "```  "
   ]
  },
  {
   "cell_type": "code",
   "execution_count": null,
   "id": "617fa7b8-417f-48e1-8de5-5d0d22639935",
   "metadata": {},
   "outputs": [],
   "source": []
  }
 ],
 "metadata": {
  "hide_input": false,
  "kernelspec": {
   "display_name": "Python 3 (ipykernel)",
   "language": "python",
   "name": "python3"
  },
  "language_info": {
   "codemirror_mode": {
    "name": "ipython",
    "version": 3
   },
   "file_extension": ".py",
   "mimetype": "text/x-python",
   "name": "python",
   "nbconvert_exporter": "python",
   "pygments_lexer": "ipython3",
   "version": "3.11.7"
  },
  "toc": {
   "base_numbering": 1,
   "nav_menu": {},
   "number_sections": true,
   "sideBar": true,
   "skip_h1_title": false,
   "title_cell": "Table of Contents",
   "title_sidebar": "Contents",
   "toc_cell": false,
   "toc_position": {},
   "toc_section_display": true,
   "toc_window_display": true
  }
 },
 "nbformat": 4,
 "nbformat_minor": 5
}
