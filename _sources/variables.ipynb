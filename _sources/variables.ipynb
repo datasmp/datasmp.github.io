{
 "cells": [
  {
   "cell_type": "markdown",
   "id": "0b911fbc",
   "metadata": {},
   "source": [
    "# Chp-1: Variables"
   ]
  },
  {
   "cell_type": "markdown",
   "id": "ce8acd06-366d-4c1e-8f22-6de868bf2fc7",
   "metadata": {},
   "source": [
    "![](title_pict/variables2.png)"
   ]
  },
  {
   "cell_type": "markdown",
   "id": "9911fc98-7628-4e92-9111-0dd63f496bae",
   "metadata": {},
   "source": [
    "`````{admonition} Chapter Objectives\n",
    ":class: tip\n",
    "\n",
    "By the end of this chapter, the student should be able to:\n",
    "- Explain how variables are defined and used in Python to store information.\n",
    "- Declare and assign values to variables in Python.\n",
    "- Use common Python data types like integers, floats, strings, booleans.\n",
    "- Check the data type of a variable using Python\n",
    "- Apply Python's naming rules when naming variables.\n",
    "- Perform reassigning different values to a variable.\n",
    "- Perform string operations such as concatenation and repetition.\n",
    "`````\n"
   ]
  },
  {
   "cell_type": "markdown",
   "id": "2da23c72-762a-463b-b253-78b7f1c9836e",
   "metadata": {},
   "source": [
    "## Definition\n",
    "\n",
    "A variable is a name that refers to a value, such as a number (e.g., 25) or a name (e.g., 'Michael').  \n",
    "- It functions like a container for storing data values.\n",
    "- Variables allow you to store and manipulate data in your programs."
   ]
  },
  {
   "cell_type": "markdown",
   "id": "5eb79c54",
   "metadata": {},
   "source": [
    "- To create a variable:  \n",
    "    1. Choose a name.\n",
    "    2. Assign a value to it using the `=` operator.  "
   ]
  },
  {
   "cell_type": "markdown",
   "id": "caf5adb8-9194-4b01-a1cb-1e0931872ed9",
   "metadata": {},
   "source": [
    "- Example: ```age = 25```\n",
    "    - The variable's name is *age*.\n",
    "    - The value of the *age* variable is 25.\n",
    "\n"
   ]
  },
  {
   "cell_type": "markdown",
   "id": "edd1b3e7",
   "metadata": {},
   "source": [
    "## Motivation\n",
    "\n",
    "- Why do we need variables?\n",
    "\n",
    "For the code below:\n",
    "``` python\n",
    "print(40)\n",
    "print(40+1)\n",
    "print(40**2)\n",
    "print(40*7)\n",
    "print(40-13)\n",
    "```\n",
    "\n",
    "- How many changes do you need to make to get a similar output for 20 instead of 40?\n",
    "    - Answer: 5"
   ]
  },
  {
   "cell_type": "markdown",
   "id": "e1fd07c1",
   "metadata": {
    "tags": [
     "hide-output"
    ]
   },
   "source": [
    "``` python\n",
    "print(20)       # 1st change\n",
    "print(20+1)     # 2nd change\n",
    "print(20**2)    # 3rd change\n",
    "print(20*7)     # 4th change\n",
    "print(20-13)    # 5th change\n",
    "```"
   ]
  },
  {
   "cell_type": "markdown",
   "id": "47e96e7c",
   "metadata": {},
   "source": [
    "- In a lengthy program, you might need to make numerous changes, which can be time-consuming.\n",
    "- There is a risk of forgetting to update some of them, leading to errors or incorrect output."
   ]
  },
  {
   "cell_type": "markdown",
   "id": "41534235",
   "metadata": {},
   "source": [
    "- Let's now write the same code, but this time using the variable *number*.\n",
    "\n",
    "``` python\n",
    "number = 40\n",
    "print(number)\n",
    "print(number+1)\n",
    "print(number**2)\n",
    "print(number*7)\n",
    "print(number-13)\n",
    "```"
   ]
  },
  {
   "cell_type": "markdown",
   "id": "7e40c5ee",
   "metadata": {},
   "source": [
    "- If you use the variable `number`, then to obtain the output for 20, you only need to make one change, as follows:\n",
    "\n",
    "``` python\n",
    "number = 20          # 1st change\n",
    "print(number)\n",
    "print(number+1)\n",
    "print(number**2)\n",
    "print(number*7)\n",
    "print(number-13)\n",
    "```"
   ]
  },
  {
   "cell_type": "markdown",
   "id": "3fa1f2c4",
   "metadata": {},
   "source": [
    "## id()\n",
    "The `id()` function is a built-in function that returns the memory location of a variable. \n",
    "- It can also be considered as the ID number of the variable."
   ]
  },
  {
   "cell_type": "code",
   "execution_count": 3,
   "id": "ae47b66a",
   "metadata": {},
   "outputs": [
    {
     "name": "stdout",
     "output_type": "stream",
     "text": [
      "4369802912\n"
     ]
    }
   ],
   "source": [
    "age = 25\n",
    "print(id(age))"
   ]
  },
  {
   "cell_type": "code",
   "execution_count": 4,
   "id": "d0f1c923",
   "metadata": {},
   "outputs": [
    {
     "name": "stdout",
     "output_type": "stream",
     "text": [
      "4565544752\n"
     ]
    }
   ],
   "source": [
    "state = 'Florida'\n",
    "print(id(state))"
   ]
  },
  {
   "cell_type": "markdown",
   "id": "507d58bd",
   "metadata": {},
   "source": [
    "## Values and Types\n",
    "In Python, the most commonly used basic data types are integers, floats, strings, and booleans.\n",
    "\n",
    "1. Integers\n",
    "    - These are numbers without a decimal point, such as $-3, -2, -1, 0, 1, 2, 3, \\dots$\n",
    "    - Their class is called *int*.\n",
    "    - Examples: 5, 9, 123.\n",
    "      \n",
    "2. Floats\n",
    "    - These are decimal numbers, including those with a decimal point, such as 4.0.\n",
    "    - Their class is called *float*.\n",
    "    - Examples: $4.89, 67.98, 5.0$\n",
    "      \n",
    "3. Strings\n",
    "    - These are ordered sequences of characters.\n",
    "    - They are enclosed in quotes.\n",
    "    - Their class is called *str*.\n",
    "    - Examples: 'USA', 'Michael', '3', '5.67', 'True'\n",
    "      \n",
    "4. Booleans\n",
    "    - There are only two boolean values: `True` and `False`.\n",
    "    - They represent the truth values of boolean expressions.\n",
    "    - They are keywords in Python and cannot be used as variable names.\n",
    "    - Their class is called *bool*.\n",
    "    - The boolean `True` and the string `'True'` are different. \n",
    "    - The boolean `False` and the string `'False'` are different. \n",
    "\n",
    "In Python, there's no need to explicitly specify the type of a variable.\n",
    "- The type is determined automatically based on the assigned value."
   ]
  },
  {
   "cell_type": "markdown",
   "id": "15593395",
   "metadata": {},
   "source": [
    "## type()\n",
    "The `type()` function is a built-in function that returns the data type of a variable or value."
   ]
  },
  {
   "cell_type": "code",
   "execution_count": 6,
   "id": "86a1a93c",
   "metadata": {},
   "outputs": [
    {
     "name": "stdout",
     "output_type": "stream",
     "text": [
      "<class 'int'>\n"
     ]
    }
   ],
   "source": [
    "# type of  2\n",
    "print(type(2))"
   ]
  },
  {
   "cell_type": "code",
   "execution_count": 4,
   "id": "7c24b5fa",
   "metadata": {},
   "outputs": [
    {
     "name": "stdout",
     "output_type": "stream",
     "text": [
      "<class 'float'>\n"
     ]
    }
   ],
   "source": [
    "# type of  2.97\n",
    "print(type(2.97))"
   ]
  },
  {
   "cell_type": "code",
   "execution_count": 3,
   "id": "cb11e391",
   "metadata": {},
   "outputs": [
    {
     "name": "stdout",
     "output_type": "stream",
     "text": [
      "<class 'float'>\n"
     ]
    }
   ],
   "source": [
    "# type of 2.0\n",
    "print(type(2.0))"
   ]
  },
  {
   "cell_type": "code",
   "execution_count": 7,
   "id": "e02df2c1",
   "metadata": {},
   "outputs": [
    {
     "data": {
      "text/plain": [
       "str"
      ]
     },
     "execution_count": 7,
     "metadata": {},
     "output_type": "execute_result"
    }
   ],
   "source": [
    "# type of 'Florida'\n",
    "print(type('Florida'))"
   ]
  },
  {
   "cell_type": "code",
   "execution_count": 1,
   "id": "405f6bf8-be9e-4b49-888f-c1ed6252fb9a",
   "metadata": {},
   "outputs": [
    {
     "name": "stdout",
     "output_type": "stream",
     "text": [
      "<class 'bool'>\n"
     ]
    }
   ],
   "source": [
    "# type of boolean True\n",
    "print(type(True))"
   ]
  },
  {
   "cell_type": "code",
   "execution_count": 2,
   "id": "26279721-7f49-4426-b2f0-20087149d0a4",
   "metadata": {},
   "outputs": [
    {
     "name": "stdout",
     "output_type": "stream",
     "text": [
      "<class 'bool'>\n"
     ]
    }
   ],
   "source": [
    "# type of boolean False\n",
    "print(type(False))"
   ]
  },
  {
   "cell_type": "code",
   "execution_count": 7,
   "id": "8af659a6-1a42-44c8-a992-b2aa1a71a4fa",
   "metadata": {},
   "outputs": [
    {
     "name": "stdout",
     "output_type": "stream",
     "text": [
      "<class 'str'>\n"
     ]
    }
   ],
   "source": [
    "# type of string 'True'\n",
    "print(type('True'))"
   ]
  },
  {
   "cell_type": "code",
   "execution_count": 1,
   "id": "f95ef7a2",
   "metadata": {},
   "outputs": [
    {
     "name": "stdout",
     "output_type": "stream",
     "text": [
      "<class 'str'>\n"
     ]
    }
   ],
   "source": [
    "# type of  string '2'\n",
    "print(type('2'))"
   ]
  },
  {
   "cell_type": "markdown",
   "id": "29e3a20e",
   "metadata": {},
   "source": [
    "Warning:\n",
    "- `2` is an integer, making it a number\n",
    "- `'2'`  is a string; it represents the character 2 and is not considered a number."
   ]
  },
  {
   "cell_type": "markdown",
   "id": "e3be4d74",
   "metadata": {},
   "source": [
    "## Variable names\n",
    "Variable names can contain lowercase and uppercase characters, digits, and underscores with the following properties:\n",
    "- Variable names are case-sensitive.\n",
    "- A variable name cannot start with a digit.\n",
    "- The underscore character `_` can be used in a name as a substitute for a space.\n",
    "- Variable names cannot be any of the keywords (reserved words) listed below:"
   ]
  },
  {
   "cell_type": "code",
   "execution_count": 10,
   "id": "589a6b13",
   "metadata": {},
   "outputs": [
    {
     "name": "stdout",
     "output_type": "stream",
     "text": [
      "\n",
      "Here is a list of the Python keywords.  Enter any keyword to get more help.\n",
      "\n",
      "False               class               from                or\n",
      "None                continue            global              pass\n",
      "True                def                 if                  raise\n",
      "and                 del                 import              return\n",
      "as                  elif                in                  try\n",
      "assert              else                is                  while\n",
      "async               except              lambda              with\n",
      "await               finally             nonlocal            yield\n",
      "break               for                 not                 \n",
      "\n"
     ]
    }
   ],
   "source": [
    "# keywords in Python\n",
    "help('keywords')"
   ]
  },
  {
   "cell_type": "code",
   "execution_count": 13,
   "id": "020d2245",
   "metadata": {},
   "outputs": [],
   "source": [
    "# case sensitive\n",
    "name = 'Jim'\n",
    "Name = 'Joe'"
   ]
  },
  {
   "cell_type": "markdown",
   "id": "85c42679-fe17-4450-9708-c566c43a64c0",
   "metadata": {},
   "source": [
    "- The value of the `Name` variable is different from that of the `name` variable."
   ]
  },
  {
   "cell_type": "code",
   "execution_count": 14,
   "id": "41872d4c",
   "metadata": {},
   "outputs": [
    {
     "name": "stdout",
     "output_type": "stream",
     "text": [
      "Jim\n"
     ]
    }
   ],
   "source": [
    "print(name)"
   ]
  },
  {
   "cell_type": "code",
   "execution_count": 16,
   "id": "53bea0cb",
   "metadata": {},
   "outputs": [
    {
     "name": "stdout",
     "output_type": "stream",
     "text": [
      "Joe\n"
     ]
    }
   ],
   "source": [
    "print(Name)"
   ]
  },
  {
   "cell_type": "markdown",
   "id": "bb71ca3e",
   "metadata": {},
   "source": [
    "``` python\n",
    "# ERROR: 5x is not a valid variable name\n",
    "5x=9\n",
    "```"
   ]
  },
  {
   "cell_type": "markdown",
   "id": "6d9428cf",
   "metadata": {},
   "source": [
    "``` python\n",
    "# ERROR: keyword error\n",
    "False = 5\n",
    "```"
   ]
  },
  {
   "cell_type": "markdown",
   "id": "046644c7",
   "metadata": {},
   "source": [
    "``` python\n",
    "# ERROR: symbol error\n",
    "@fun=4\n",
    "```"
   ]
  },
  {
   "cell_type": "markdown",
   "id": "3b9d541e-2d6e-4c7f-93aa-b5d0230130c0",
   "metadata": {},
   "source": [
    "**Remark:** Function names can be used as a  variable name but function properties will be lost.\n",
    "- Therefore, it is not recommended to use the function names as variable names"
   ]
  },
  {
   "cell_type": "markdown",
   "id": "bbb301a7-4943-47da-8ee2-cab07d559428",
   "metadata": {},
   "source": [
    "``` python\n",
    "sum = 6\n",
    "sum([7,8]) # ERROR: sum can not do addition\n",
    "```"
   ]
  },
  {
   "cell_type": "markdown",
   "id": "c1db3381-0dc7-4f4d-bcdb-42a215290269",
   "metadata": {},
   "source": [
    "-  In the first line of the code above, *sum* becomes a variable and its value is 6.\n",
    "- In the second line, *sum* is attempted to be used as a function, but it is no longer a function, resulting in an error message."
   ]
  },
  {
   "cell_type": "markdown",
   "id": "379200a2",
   "metadata": {},
   "source": [
    "## Reassignment\n",
    "- The value of a variable can be changed by assigning it a new value."
   ]
  },
  {
   "cell_type": "code",
   "execution_count": 3,
   "id": "0b5a090d",
   "metadata": {},
   "outputs": [
    {
     "name": "stdout",
     "output_type": "stream",
     "text": [
      "50\n",
      "25\n",
      "ten\n"
     ]
    }
   ],
   "source": [
    "age = 50\n",
    "print(age)\n",
    "age = 25     # The value of the age variable has been changed.\n",
    "print(age)\n",
    "age = 'ten'  # The type can also be changed.\n",
    "print(age)"
   ]
  },
  {
   "cell_type": "markdown",
   "id": "b5ee3cf0",
   "metadata": {},
   "source": [
    "## Multiple assignment\n",
    "Multiple variables can be created in a single line."
   ]
  },
  {
   "cell_type": "code",
   "execution_count": 19,
   "id": "cb67ffdb",
   "metadata": {},
   "outputs": [],
   "source": [
    "# a=1, b=10, c=100\n",
    "a, b, c = 1, 10, 100"
   ]
  },
  {
   "cell_type": "code",
   "execution_count": 20,
   "id": "cd5fae68",
   "metadata": {},
   "outputs": [
    {
     "name": "stdout",
     "output_type": "stream",
     "text": [
      "1\n",
      "10\n",
      "100\n"
     ]
    }
   ],
   "source": [
    "print(a)\n",
    "print(b)\n",
    "print(c)"
   ]
  },
  {
   "cell_type": "markdown",
   "id": "cab300f1-776a-45db-a6af-46e8796b7470",
   "metadata": {},
   "source": [
    "- In the following statement, the value 7 is assigned to both variables x and y. \n",
    "- It's a shorthand way of assigning the same value to multiple variables in a single line."
   ]
  },
  {
   "cell_type": "code",
   "execution_count": 5,
   "id": "78c0f489",
   "metadata": {},
   "outputs": [],
   "source": [
    "x = y = 7"
   ]
  },
  {
   "cell_type": "code",
   "execution_count": 8,
   "id": "c3dd23b8",
   "metadata": {},
   "outputs": [
    {
     "name": "stdout",
     "output_type": "stream",
     "text": [
      "8\n",
      "7\n"
     ]
    }
   ],
   "source": [
    "print(x)\n",
    "print(y)"
   ]
  },
  {
   "cell_type": "markdown",
   "id": "fdb537de",
   "metadata": {},
   "source": [
    "## Print variables and constants\n",
    "Variable values and constant strings can be displayed using a single *print()* function. There are several ways to do this.\n",
    "- One way is to separate variables and constant strings with commas.\n",
    "- By default, there will be a space in the output between each comma-separated item.\n"
   ]
  },
  {
   "cell_type": "code",
   "execution_count": 26,
   "id": "d05aadfe",
   "metadata": {},
   "outputs": [],
   "source": [
    "name, age = 'Michael', 25"
   ]
  },
  {
   "cell_type": "code",
   "execution_count": 24,
   "id": "58b8c978",
   "metadata": {},
   "outputs": [
    {
     "name": "stdout",
     "output_type": "stream",
     "text": [
      "My name is Michael\n"
     ]
    }
   ],
   "source": [
    "print('My name is', name)"
   ]
  },
  {
   "cell_type": "code",
   "execution_count": 25,
   "id": "d895dc7b",
   "metadata": {},
   "outputs": [
    {
     "name": "stdout",
     "output_type": "stream",
     "text": [
      "I am 25 years old.\n"
     ]
    }
   ],
   "source": [
    "print('I am', age, 'years old.')"
   ]
  },
  {
   "cell_type": "code",
   "execution_count": 57,
   "id": "d5df0095",
   "metadata": {},
   "outputs": [
    {
     "name": "stdout",
     "output_type": "stream",
     "text": [
      "My name is Michael .I am 25 years old.\n"
     ]
    }
   ],
   "source": [
    "print('My name is', name, '.I am', age, 'years old.')"
   ]
  },
  {
   "cell_type": "markdown",
   "id": "80ad1e98",
   "metadata": {},
   "source": [
    "- You can do algebraic operations in the print function"
   ]
  },
  {
   "cell_type": "code",
   "execution_count": 73,
   "id": "422d0f09",
   "metadata": {},
   "outputs": [
    {
     "name": "stdout",
     "output_type": "stream",
     "text": [
      "1999\n"
     ]
    }
   ],
   "source": [
    "print(2024-age)"
   ]
  },
  {
   "cell_type": "markdown",
   "id": "c0174cb3",
   "metadata": {},
   "source": [
    "## Changing the type of a variable\n",
    "- int(): converts appropriate floats and strings into integers\n",
    "- float(): converts appropriate integers and strings into floats\n",
    "- str(): converts appropriate integers and floats into strings"
   ]
  },
  {
   "cell_type": "code",
   "execution_count": 43,
   "id": "195dbdbd",
   "metadata": {},
   "outputs": [
    {
     "data": {
      "text/plain": [
       "3"
      ]
     },
     "execution_count": 43,
     "metadata": {},
     "output_type": "execute_result"
    }
   ],
   "source": [
    "# float to int\n",
    "print(int(3.45))"
   ]
  },
  {
   "cell_type": "code",
   "execution_count": 44,
   "id": "190f5014",
   "metadata": {},
   "outputs": [
    {
     "data": {
      "text/plain": [
       "-3"
      ]
     },
     "execution_count": 44,
     "metadata": {},
     "output_type": "execute_result"
    }
   ],
   "source": [
    "# float to int\n",
    "print(int(-3.2))"
   ]
  },
  {
   "cell_type": "code",
   "execution_count": 45,
   "id": "09f49697",
   "metadata": {},
   "outputs": [
    {
     "data": {
      "text/plain": [
       "3"
      ]
     },
     "execution_count": 45,
     "metadata": {},
     "output_type": "execute_result"
    }
   ],
   "source": [
    "# str to int\n",
    "print(int('3'))"
   ]
  },
  {
   "cell_type": "markdown",
   "id": "1cd3c228-9a8a-4f6f-b220-077ff7ad55f8",
   "metadata": {},
   "source": [
    "```python\n",
    "# ERROR: string '3.59' to int\n",
    "print(int('3.59'))\n",
    "```"
   ]
  },
  {
   "cell_type": "code",
   "execution_count": 46,
   "id": "decf50a4",
   "metadata": {},
   "outputs": [
    {
     "data": {
      "text/plain": [
       "1.0"
      ]
     },
     "execution_count": 46,
     "metadata": {},
     "output_type": "execute_result"
    }
   ],
   "source": [
    "# int to float\n",
    "print(float(1))"
   ]
  },
  {
   "cell_type": "code",
   "execution_count": 47,
   "id": "0ea9d5a6",
   "metadata": {},
   "outputs": [
    {
     "data": {
      "text/plain": [
       "3.5"
      ]
     },
     "execution_count": 47,
     "metadata": {},
     "output_type": "execute_result"
    }
   ],
   "source": [
    "# str to float\n",
    "print(float('3.5'))"
   ]
  },
  {
   "cell_type": "code",
   "execution_count": 48,
   "id": "08f79200",
   "metadata": {},
   "outputs": [
    {
     "name": "stdout",
     "output_type": "stream",
     "text": [
      "1\n"
     ]
    }
   ],
   "source": [
    "# int to str\n",
    "print(str(1))"
   ]
  },
  {
   "cell_type": "code",
   "execution_count": 10,
   "id": "bef205bd",
   "metadata": {},
   "outputs": [
    {
     "name": "stdout",
     "output_type": "stream",
     "text": [
      "3.5\n"
     ]
    }
   ],
   "source": [
    "# float to str\n",
    "print(str(3.5))"
   ]
  },
  {
   "cell_type": "code",
   "execution_count": 50,
   "id": "07a9a8c7",
   "metadata": {},
   "outputs": [
    {
     "name": "stdout",
     "output_type": "stream",
     "text": [
      "I am 25 years old.\n"
     ]
    }
   ],
   "source": [
    "age = 25\n",
    "print('I am '+str(age)+' years old.')"
   ]
  },
  {
   "cell_type": "markdown",
   "id": "451a9a40",
   "metadata": {},
   "source": [
    "## String Operations"
   ]
  },
  {
   "cell_type": "markdown",
   "id": "0f0950de",
   "metadata": {},
   "source": [
    "### Concatenation\n",
    "- Combining or joining two or more strings into a single string by using the `+` operator"
   ]
  },
  {
   "cell_type": "code",
   "execution_count": 61,
   "id": "d1c681c0",
   "metadata": {},
   "outputs": [],
   "source": [
    "first_name = 'Michael'\n",
    "last_name ='Jordan'\n",
    "age = 25"
   ]
  },
  {
   "cell_type": "markdown",
   "id": "e728f310",
   "metadata": {},
   "source": [
    "- In this example, the `+` operator concatenates (joins) the value of `first_name` and `last_name` variables to create a new string stored in the variable `name`. "
   ]
  },
  {
   "cell_type": "code",
   "execution_count": 62,
   "id": "9e8407c1",
   "metadata": {},
   "outputs": [
    {
     "name": "stdout",
     "output_type": "stream",
     "text": [
      "MichaelJordan\n"
     ]
    }
   ],
   "source": [
    "name  = first_name + last_name\n",
    "print(name)"
   ]
  },
  {
   "cell_type": "markdown",
   "id": "25e18e32",
   "metadata": {},
   "source": [
    "-  Use the string `' '` (one space) to add a space between the first and last names.\n"
   ]
  },
  {
   "cell_type": "code",
   "execution_count": 63,
   "id": "61717d58",
   "metadata": {},
   "outputs": [
    {
     "name": "stdout",
     "output_type": "stream",
     "text": [
      "Michael Jordan\n"
     ]
    }
   ],
   "source": [
    "name  = first_name + ' ' + last_name\n",
    "print(name)"
   ]
  },
  {
   "cell_type": "markdown",
   "id": "1ec2982d",
   "metadata": {},
   "source": [
    "- constant string + variable"
   ]
  },
  {
   "cell_type": "code",
   "execution_count": 59,
   "id": "af6860b0",
   "metadata": {},
   "outputs": [
    {
     "name": "stdout",
     "output_type": "stream",
     "text": [
      "My name is Michael\n"
     ]
    }
   ],
   "source": [
    "print('My name is ' + name)"
   ]
  },
  {
   "cell_type": "markdown",
   "id": "d337f91c",
   "metadata": {},
   "source": [
    "- To perform concatenation, conversion should be done in the following code."
   ]
  },
  {
   "cell_type": "code",
   "execution_count": 65,
   "id": "7fba377d",
   "metadata": {},
   "outputs": [
    {
     "name": "stdout",
     "output_type": "stream",
     "text": [
      "I am 25 years old.\n"
     ]
    }
   ],
   "source": [
    "print('I am ' + str(age) + ' years old.')"
   ]
  },
  {
   "cell_type": "markdown",
   "id": "7a430f66-03af-46b0-9179-fd92f2a382dd",
   "metadata": {},
   "source": [
    "- `+` can not be used between numbers and strings\n",
    "\n",
    "``` python\n",
    "name, age = 'Michael', 25\n",
    "\n",
    "# ERROR: str + int\n",
    "print(name+age)\n",
    "\n",
    "```"
   ]
  },
  {
   "cell_type": "markdown",
   "id": "bda77f42",
   "metadata": {},
   "source": [
    "### Repetition\n",
    "- Repeating a string using the `*` operator.\n",
    "- It takes the form of `integer*string` or `string*integer`.\n",
    "- String repetition cannot be performed using floats, even with 4.0\n"
   ]
  },
  {
   "cell_type": "markdown",
   "id": "7ca75fbc",
   "metadata": {},
   "source": [
    "- In this example, the * operator repeats the string 'U' four times."
   ]
  },
  {
   "cell_type": "code",
   "execution_count": 67,
   "id": "d0335b25",
   "metadata": {},
   "outputs": [
    {
     "name": "stdout",
     "output_type": "stream",
     "text": [
      "UUUU\n"
     ]
    }
   ],
   "source": [
    "print('U'*4)"
   ]
  },
  {
   "cell_type": "markdown",
   "id": "37e61fc2",
   "metadata": {},
   "source": [
    "- In this example, the * operator repeats the string 'Joe' five times."
   ]
  },
  {
   "cell_type": "code",
   "execution_count": 68,
   "id": "30c4b8a3",
   "metadata": {},
   "outputs": [
    {
     "name": "stdout",
     "output_type": "stream",
     "text": [
      "JoeJoeJoeJoeJoe\n"
     ]
    }
   ],
   "source": [
    "print('Joe'*5)"
   ]
  },
  {
   "cell_type": "markdown",
   "id": "b50a0cf3",
   "metadata": {},
   "source": [
    "- Since 4.0 is not an integer, you will get an error message in the following code.\n",
    "``` python\n",
    "# ERROR: 4.0 must be 4\n",
    "print('U'*4.0)\n",
    "```"
   ]
  },
  {
   "cell_type": "markdown",
   "id": "ff2e8df2-dc31-49a2-8e49-744c24dd877a",
   "metadata": {},
   "source": [
    "- The following is a triangle constructed using the $ character."
   ]
  },
  {
   "cell_type": "code",
   "execution_count": 69,
   "id": "27df9305",
   "metadata": {},
   "outputs": [
    {
     "name": "stdout",
     "output_type": "stream",
     "text": [
      "$\n",
      "$$\n",
      "$$$\n",
      "$$$$\n",
      "$$$$$\n"
     ]
    }
   ],
   "source": [
    "print('$')         # one   $ sign\n",
    "print('$'*2)       # two   $ signs\n",
    "print('$'*3)       # three $ signs\n",
    "print('$'*4)       # four  $ signs\n",
    "print('$'*5)       # five  $ signs\n"
   ]
  },
  {
   "cell_type": "markdown",
   "id": "d425ef8a-f6d3-4518-881f-4c46d6674f7b",
   "metadata": {},
   "source": [
    "- The following is a triangle constructed using the space and $ characters."
   ]
  },
  {
   "cell_type": "code",
   "execution_count": 71,
   "id": "5a2f6166",
   "metadata": {},
   "outputs": [
    {
     "name": "stdout",
     "output_type": "stream",
     "text": [
      "    $\n",
      "   $$\n",
      "  $$$\n",
      " $$$$\n",
      "$$$$$\n"
     ]
    }
   ],
   "source": [
    "# triangle by using the space and $ characters\n",
    "print(' '*4 + '$')      # four  spaces and one $ sign\n",
    "print(' '*3 +'$'*2)     # three spaces and two $ signs\n",
    "print(' '*2 +'$'*3)     # two   spaces and three $ signs\n",
    "print(' '*1 +'$'*4)     # one   space  and four $ signs\n",
    "print('$'*5)            #                  five $ signs"
   ]
  },
  {
   "cell_type": "code",
   "execution_count": null,
   "id": "c4927d68",
   "metadata": {},
   "outputs": [],
   "source": []
  }
 ],
 "metadata": {
  "hide_input": false,
  "kernelspec": {
   "display_name": "Python 3 (ipykernel)",
   "language": "python",
   "name": "python3"
  },
  "language_info": {
   "codemirror_mode": {
    "name": "ipython",
    "version": 3
   },
   "file_extension": ".py",
   "mimetype": "text/x-python",
   "name": "python",
   "nbconvert_exporter": "python",
   "pygments_lexer": "ipython3",
   "version": "3.11.7"
  },
  "toc": {
   "base_numbering": 1,
   "nav_menu": {},
   "number_sections": true,
   "sideBar": true,
   "skip_h1_title": false,
   "title_cell": "Table of Contents",
   "title_sidebar": "Contents",
   "toc_cell": false,
   "toc_position": {
    "height": "calc(100% - 180px)",
    "left": "10px",
    "top": "150px",
    "width": "282.391px"
   },
   "toc_section_display": true,
   "toc_window_display": true
  }
 },
 "nbformat": 4,
 "nbformat_minor": 5
}
