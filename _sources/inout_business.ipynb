{
 "cells": [
  {
   "cell_type": "markdown",
   "id": "83bac819-beda-40ef-a007-4d850350798e",
   "metadata": {},
   "source": [
    "# Input and Output Business\n",
    "\n",
    "![Section Title: Input and Output Business](title_pict/io_business2.png)"
   ]
  },
  {
   "cell_type": "markdown",
   "id": "8e302488-824a-4d89-a959-9666f3456a65",
   "metadata": {},
   "source": [
    "## Business Applications"
   ]
  },
  {
   "cell_type": "markdown",
   "id": "76820de8-2590-43ef-8e54-60a73316d1c9",
   "metadata": {},
   "source": [
    "### Question-1: Production Data Analysis\n",
    "\n",
    "Write a program that prompts the user for 5 numbers using five input() functions, each representing the annual production for the last five years.\n",
    "\n",
    "Calculate the total, average, and highest production using built-in functions."
   ]
  },
  {
   "cell_type": "markdown",
   "id": "c15b2644-74c4-4f02-95ea-c936d3642129",
   "metadata": {},
   "source": [
    "### Question-2: Revenue\n",
    "Revenue (R) is the product of the number (n) of items sold  and the price (p) of the item.\n",
    "- $R = p\\cdot n$\n",
    "  \n",
    "Write a program that ask the user for the price of an item and calculate the revenue using the following formula for the number of item sold.\n",
    "- $ n = -1.5p+30 $"
   ]
  },
  {
   "cell_type": "markdown",
   "id": "0ae9ba52-2872-4886-b03c-d08c7a67fcc1",
   "metadata": {},
   "source": [
    "### Question-3: Simple Interest\n",
    "*Simple Interest Formulas: $\\displaystyle I=P r t$ and $A = P + I$ where*\n",
    "- *A is the final amount*\n",
    "- *I is the interest amount*\n",
    "- *P is the initial (principal) amount*\n",
    "- *r is the annual interest rate (decimal form)*\n",
    "- *t is the number of years*\n",
    "\n",
    "  \n",
    "Write a program that asks the user for the principal, annual interest rate, and number of years using three _input()_ functions one by one, and then returns the interest and final amount.\n",
    "\n",
    "Sample Output:  \n",
    "Please enter the principal: 1500  \n",
    "Please enter the annual interest rate: 0.025  \n",
    "Please enter the year: 20  \n",
    "I = 750.0  \n",
    "A = 2250.0 "
   ]
  }
 ],
 "metadata": {
  "kernelspec": {
   "display_name": "Python 3 (ipykernel)",
   "language": "python",
   "name": "python3"
  },
  "language_info": {
   "codemirror_mode": {
    "name": "ipython",
    "version": 3
   },
   "file_extension": ".py",
   "mimetype": "text/x-python",
   "name": "python",
   "nbconvert_exporter": "python",
   "pygments_lexer": "ipython3",
   "version": "3.11.8"
  }
 },
 "nbformat": 4,
 "nbformat_minor": 5
}
