{
 "cells": [
  {
   "cell_type": "markdown",
   "id": "03bd248a-9f76-43df-aea5-61cb67cdccd5",
   "metadata": {},
   "source": [
    "# App: Statistics Module\n",
    "![](title_pict/statistics2.png)\n",
    "\n",
    "The [statistics module](https://docs.python.org/3/library/statistics.html)  provides most commonly used statistical functions.\n",
    "- First, you need to import the statistics module."
   ]
  },
  {
   "cell_type": "code",
   "execution_count": 1,
   "id": "342575b0-3976-4023-b575-4856ee30bff7",
   "metadata": {},
   "outputs": [],
   "source": [
    "import statistics"
   ]
  },
  {
   "cell_type": "markdown",
   "id": "a84bd252-3c8b-4e2d-89aa-cfcdba1f36e7",
   "metadata": {},
   "source": [
    "You can access the list of methods in the statistics module by using the *dir(statistics)* function.\n",
    "- You can execute help(statistics) for more details."
   ]
  },
  {
   "cell_type": "code",
   "execution_count": 2,
   "id": "d83d6d89-6f30-43c8-bc18-5082d8c871cc",
   "metadata": {},
   "outputs": [
    {
     "name": "stdout",
     "output_type": "stream",
     "text": [
      "['Counter', 'Decimal', 'Fraction', 'LinearRegression', 'NormalDist', 'StatisticsError', '_SQRT2', '__all__', '__annotations__', '__builtins__', '__cached__', '__doc__', '__file__', '__loader__', '__name__', '__package__', '__spec__', '_coerce', '_convert', '_decimal_sqrt_of_frac', '_exact_ratio', '_fail_neg', '_float_sqrt_of_frac', '_integer_sqrt_of_frac_rto', '_isfinite', '_mean_stdev', '_normal_dist_inv_cdf', '_sqrt_bit_width', '_ss', '_sum', 'bisect_left', 'bisect_right', 'correlation', 'covariance', 'defaultdict', 'erf', 'exp', 'fabs', 'fmean', 'fsum', 'geometric_mean', 'groupby', 'harmonic_mean', 'hypot', 'linear_regression', 'log', 'math', 'mean', 'median', 'median_grouped', 'median_high', 'median_low', 'mode', 'mul', 'multimode', 'namedtuple', 'numbers', 'pstdev', 'pvariance', 'quantiles', 'random', 'reduce', 'repeat', 'sqrt', 'stdev', 'sys', 'tau', 'variance']\n"
     ]
    }
   ],
   "source": [
    "print(dir(statistics))"
   ]
  },
  {
   "cell_type": "markdown",
   "id": "3a07aab2-f2f7-424d-871e-7e23e4628a41",
   "metadata": {},
   "source": [
    "## Methods"
   ]
  },
  {
   "cell_type": "markdown",
   "id": "81a5182e-26c9-4928-aced-883316691c4a",
   "metadata": {},
   "source": [
    "### mean()\n",
    "It returns the mean (average) of the provided data."
   ]
  },
  {
   "cell_type": "code",
   "execution_count": 3,
   "id": "52d5be92-d472-4003-a898-60f6dc13fab3",
   "metadata": {},
   "outputs": [
    {
     "name": "stdout",
     "output_type": "stream",
     "text": [
      "3.7\n"
     ]
    }
   ],
   "source": [
    "data = [1,2,3,3,4,4,4,5,5,6]\n",
    "print(statistics.mean(data))"
   ]
  },
  {
   "cell_type": "markdown",
   "id": "d61948d8-d6d3-4bfd-b85d-2a70a324f194",
   "metadata": {},
   "source": [
    "### median()\n",
    "It returns the median of the provided data."
   ]
  },
  {
   "cell_type": "code",
   "execution_count": 4,
   "id": "7e6a61bd-52d4-4cef-9722-870f5733e5be",
   "metadata": {},
   "outputs": [
    {
     "name": "stdout",
     "output_type": "stream",
     "text": [
      "4.0\n"
     ]
    }
   ],
   "source": [
    "data = [1,2,3,3,4,4,4,5,5,6]\n",
    "print(statistics.median(data))"
   ]
  },
  {
   "cell_type": "markdown",
   "id": "ee36fbb0-99ed-4fc6-8da2-010ba59dfe1a",
   "metadata": {},
   "source": [
    "### mode()\n",
    "It returns the mode (most frequent element) of the provided data."
   ]
  },
  {
   "cell_type": "code",
   "execution_count": 5,
   "id": "dcfab5bf-15e4-45e0-b28d-b904f349b597",
   "metadata": {},
   "outputs": [
    {
     "name": "stdout",
     "output_type": "stream",
     "text": [
      "3\n"
     ]
    }
   ],
   "source": [
    "data = [1,2,3,3,3,4,4,5,5,6]\n",
    "print(statistics.mode(data))"
   ]
  },
  {
   "cell_type": "markdown",
   "id": "574d9151-7bc7-41a9-aab6-65b61d77d528",
   "metadata": {},
   "source": [
    "### pstdev()\n",
    "It returns the population standard deviation of the given data."
   ]
  },
  {
   "cell_type": "code",
   "execution_count": 6,
   "id": "43e4b7f6-da53-4cb2-a3bf-3c101352c935",
   "metadata": {},
   "outputs": [
    {
     "name": "stdout",
     "output_type": "stream",
     "text": [
      "1.42828568570857\n"
     ]
    }
   ],
   "source": [
    "data = [1,2,3,3,3,4,4,5,5,6]\n",
    "print(statistics.pstdev(data))"
   ]
  },
  {
   "cell_type": "markdown",
   "id": "901817e3-9533-42cb-b914-188fecc749ea",
   "metadata": {},
   "source": [
    "### stdev()\n",
    "It returns the sample standard deviation of the given data."
   ]
  },
  {
   "cell_type": "code",
   "execution_count": 7,
   "id": "b4237140-d534-43d6-9136-72cf701dcbe7",
   "metadata": {},
   "outputs": [
    {
     "name": "stdout",
     "output_type": "stream",
     "text": [
      "1.505545305418162\n"
     ]
    }
   ],
   "source": [
    "data = [1,2,3,3,3,4,4,5,5,6]\n",
    "print(statistics.stdev(data))"
   ]
  },
  {
   "cell_type": "markdown",
   "id": "263c05b3-a984-4c4f-8a1c-fcaa2b858294",
   "metadata": {},
   "source": [
    "### pvariance()\n",
    "It returns the population variation of the given data."
   ]
  },
  {
   "cell_type": "code",
   "execution_count": 8,
   "id": "ab1b8513-6fe3-45d2-b51d-7a4ff645a0d9",
   "metadata": {},
   "outputs": [
    {
     "name": "stdout",
     "output_type": "stream",
     "text": [
      "2.04\n"
     ]
    }
   ],
   "source": [
    "data = [1,2,3,3,3,4,4,5,5,6]\n",
    "print(statistics.pvariance(data))"
   ]
  },
  {
   "cell_type": "markdown",
   "id": "b3a2eb7f-c535-4a0c-bd39-0e42a158b277",
   "metadata": {},
   "source": [
    "### variance()\n",
    "It returns the sample variation of the given data."
   ]
  },
  {
   "cell_type": "code",
   "execution_count": 9,
   "id": "e8cd40ac-8a71-4ea6-986b-cc98a6ff3ba3",
   "metadata": {},
   "outputs": [
    {
     "name": "stdout",
     "output_type": "stream",
     "text": [
      "2.2666666666666666\n"
     ]
    }
   ],
   "source": [
    "data = [1,2,3,3,3,4,4,5,5,6]\n",
    "print(statistics.variance(data))"
   ]
  },
  {
   "cell_type": "markdown",
   "id": "56fa464d-e2f9-424a-8b2c-9e276deac71d",
   "metadata": {},
   "source": [
    "### quantiles()\n",
    "It returns three points that divide the data into four intervals, each containing approximately 25 percent of the data. \n",
    "- The parameter n specifies the number of intervals, with a default value of 4."
   ]
  },
  {
   "cell_type": "code",
   "execution_count": 20,
   "id": "e0c2c3df-5ec9-4595-a04f-7314ea632b1d",
   "metadata": {},
   "outputs": [
    {
     "name": "stdout",
     "output_type": "stream",
     "text": [
      "[2.75, 3.5, 5.0]\n"
     ]
    }
   ],
   "source": [
    "data = [1,2,3,3,3,4,4,5,5,6]\n",
    "print(statistics.quantiles(data))"
   ]
  },
  {
   "cell_type": "code",
   "execution_count": 21,
   "id": "a4f75a99-fe88-4ddb-a727-86744f103348",
   "metadata": {},
   "outputs": [
    {
     "name": "stdout",
     "output_type": "stream",
     "text": [
      "[2.75, 5.5, 8.25]\n"
     ]
    }
   ],
   "source": [
    "data = [1,2,3,4,5,6,7,8,9,10]\n",
    "print(statistics.quantiles(data))"
   ]
  },
  {
   "cell_type": "markdown",
   "id": "ada49f09-0c0d-4563-90fe-7c5cf568edb0",
   "metadata": {},
   "source": [
    "### correlation()\n",
    "It returns the Pearson’s correlation coefficient of two given data.\n",
    "- By default, it computes Pearson’s correlation coefficient, a value ranging between -1 and +1, indicating the strength and direction of a linear relationship between variables."
   ]
  },
  {
   "cell_type": "code",
   "execution_count": 12,
   "id": "e4b413f4-db4e-4347-8f53-15a998646229",
   "metadata": {},
   "outputs": [
    {
     "name": "stdout",
     "output_type": "stream",
     "text": [
      "Pearson’s correlation       coefficient: -0.5776155346615539\n"
     ]
    }
   ],
   "source": [
    "data1 = [1,2,3,3,3,4,4,5,5,6]\n",
    "data2 = [4,3,3,2,2,2,3,3,3,1]\n",
    "print('Pearson’s correlation       coefficient:', statistics.correlation(data1, data2))"
   ]
  },
  {
   "cell_type": "markdown",
   "id": "ff7c954b-e3af-4164-88b5-6f22eb059bee",
   "metadata": {},
   "source": [
    "### linear_regression()\n",
    "It returns and returns the slope and intercept of the linear regression model, representing the closest line to the scatter plot of the data."
   ]
  },
  {
   "cell_type": "code",
   "execution_count": 30,
   "id": "02ba5609-783c-4617-bcaf-2f436ced7d24",
   "metadata": {},
   "outputs": [],
   "source": [
    "x = [1,2,3,4,5,6,7,8,9,10]\n",
    "y = [1,3,2,5,6,9,8,7,10,9]\n",
    "\n",
    "model = statistics.linear_regression(x, y)\n",
    "slope = model.slope\n",
    "intercept = model.intercept"
   ]
  },
  {
   "cell_type": "code",
   "execution_count": 33,
   "id": "77e8b48e-ce4a-47cf-9bee-4ec30cfa0708",
   "metadata": {},
   "outputs": [
    {
     "data": {
      "image/png": "[encoded data removed]",
      "text/plain": [
       "<Figure size 640x480 with 1 Axes>"
      ]
     },
     "metadata": {},
     "output_type": "display_data"
    }
   ],
   "source": [
    "import matplotlib.pyplot as plt\n",
    "plt.scatter(x,y, label='actual points')\n",
    "\n",
    "x1, y1 = 1, 1*slope+intercept\n",
    "x2, y2 = 10, 10*slope+intercept\n",
    "\n",
    "plt.plot([x1, x2], [y1, y2], color='r', label='linear model')\n",
    "plt.legend();"
   ]
  },
  {
   "cell_type": "markdown",
   "id": "70f37b32-545f-407d-a85d-330ce887e148",
   "metadata": {},
   "source": [
    "### sqrt()\n",
    "It is the square root function. The syntax is *statistics.sqrt()*"
   ]
  },
  {
   "cell_type": "code",
   "execution_count": 34,
   "id": "9620d708-9413-452e-8880-ab168fa7a703",
   "metadata": {},
   "outputs": [
    {
     "data": {
      "text/plain": [
       "6.0"
      ]
     },
     "execution_count": 34,
     "metadata": {},
     "output_type": "execute_result"
    }
   ],
   "source": [
    "statistics.sqrt(36)"
   ]
  },
  {
   "cell_type": "markdown",
   "id": "4867dedf-5bf8-48ad-8f00-310b0ded5ad5",
   "metadata": {},
   "source": [
    "### log()\n",
    "It returns the logarithm of the given value to the specified base, which defaults to $e$."
   ]
  },
  {
   "cell_type": "code",
   "execution_count": 39,
   "id": "4fba8ead-41d6-43d7-9957-1a5b6f022206",
   "metadata": {},
   "outputs": [
    {
     "data": {
      "text/plain": [
       "0.0"
      ]
     },
     "execution_count": 39,
     "metadata": {},
     "output_type": "execute_result"
    }
   ],
   "source": [
    "# log base e\n",
    "statistics.log(1)"
   ]
  },
  {
   "cell_type": "code",
   "execution_count": 42,
   "id": "0464903a-bfc2-4dc5-99fe-aeeb905ccdc4",
   "metadata": {},
   "outputs": [
    {
     "data": {
      "text/plain": [
       "2.9999999999999996"
      ]
     },
     "execution_count": 42,
     "metadata": {},
     "output_type": "execute_result"
    }
   ],
   "source": [
    "# log base 10\n",
    "statistics.log(1000, 10)"
   ]
  },
  {
   "cell_type": "code",
   "execution_count": 43,
   "id": "fa90122d-0cb6-4f66-b007-e8926f3b8adc",
   "metadata": {},
   "outputs": [
    {
     "data": {
      "text/plain": [
       "5.0"
      ]
     },
     "execution_count": 43,
     "metadata": {},
     "output_type": "execute_result"
    }
   ],
   "source": [
    "# log base 2\n",
    "statistics.log(32, 2)"
   ]
  },
  {
   "cell_type": "code",
   "execution_count": null,
   "id": "6aa935c2-a01c-4443-867d-bc9f8a8288ad",
   "metadata": {},
   "outputs": [],
   "source": []
  }
 ],
 "metadata": {
  "kernelspec": {
   "display_name": "Python 3 (ipykernel)",
   "language": "python",
   "name": "python3"
  },
  "language_info": {
   "codemirror_mode": {
    "name": "ipython",
    "version": 3
   },
   "file_extension": ".py",
   "mimetype": "text/x-python",
   "name": "python",
   "nbconvert_exporter": "python",
   "pygments_lexer": "ipython3",
   "version": "3.11.7"
  }
 },
 "nbformat": 4,
 "nbformat_minor": 5
}
