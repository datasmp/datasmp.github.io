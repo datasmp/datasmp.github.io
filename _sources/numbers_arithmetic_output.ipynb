{
 "cells": [
  {
   "cell_type": "markdown",
   "id": "13e18a7d",
   "metadata": {},
   "source": [
    "# Numbers Output\n",
    "![Section Title: Numbers Output](title_pict/numbers_output2.png)\n",
    "\n",
    "- Find the output of the following code. \n",
    "- Please don't run the code before giving your answer. &emsp;&emsp;&emsp;&emsp;"
   ]
  },
  {
   "cell_type": "markdown",
   "id": "03fc8d4d",
   "metadata": {},
   "source": [
    "## Question-1\n"
   ]
  },
  {
   "cell_type": "markdown",
   "id": "6b00ecda-74d4-47ce-8455-865f825433bd",
   "metadata": {
    "tags": [
     "hide-output"
    ]
   },
   "source": [
    "``` python\n",
    "print(type(10/2))"
   ]
  },
  {
   "cell_type": "markdown",
   "id": "8aaa9dfc-2dcf-497a-a81d-0184221f821e",
   "metadata": {},
   "source": [
    "```{admonition} Solution\n",
    ":class: toggle\n",
    "<class 'float'>"
   ]
  },
  {
   "cell_type": "markdown",
   "id": "c1aef79d",
   "metadata": {},
   "source": [
    "## Question-2\n"
   ]
  },
  {
   "cell_type": "markdown",
   "id": "392203df-e468-434a-86b2-27cce69365f4",
   "metadata": {
    "tags": [
     "hide-output"
    ]
   },
   "source": [
    "``` python\n",
    "print(type(10//2))"
   ]
  },
  {
   "cell_type": "markdown",
   "id": "b65558bc-8b11-4058-9a6d-c6da063067ba",
   "metadata": {},
   "source": [
    "```{admonition} Solution\n",
    ":class: toggle\n",
    "<class 'int'>"
   ]
  },
  {
   "cell_type": "markdown",
   "id": "1bc72fed",
   "metadata": {},
   "source": [
    "## Question-3\n"
   ]
  },
  {
   "cell_type": "markdown",
   "id": "14ff1315-75a3-4cf1-825b-329c76f60fa1",
   "metadata": {
    "tags": [
     "hide-output"
    ]
   },
   "source": [
    "``` python\n",
    "print(15%4)"
   ]
  },
  {
   "cell_type": "markdown",
   "id": "02ec79fe-b7e0-470c-be1e-08e7c113317f",
   "metadata": {},
   "source": [
    "```{admonition} Solution\n",
    ":class: toggle\n",
    "3"
   ]
  },
  {
   "cell_type": "markdown",
   "id": "d0e75b17",
   "metadata": {},
   "source": [
    "## Question-4\n"
   ]
  },
  {
   "cell_type": "markdown",
   "id": "081af701-f19b-410f-b68b-6d388881bacc",
   "metadata": {
    "tags": [
     "hide-output"
    ]
   },
   "source": [
    "``` python\n",
    "print(5+12/3)"
   ]
  },
  {
   "cell_type": "markdown",
   "id": "b661926a-52c6-45d1-87d0-6878e8565a6a",
   "metadata": {},
   "source": [
    "```{admonition} Solution\n",
    ":class: toggle\n",
    "9.0"
   ]
  },
  {
   "cell_type": "markdown",
   "id": "08e1e1ce",
   "metadata": {},
   "source": [
    "## Question-5\n"
   ]
  },
  {
   "cell_type": "markdown",
   "id": "057b1a7d-64b6-41a0-b47a-29d2b2724aeb",
   "metadata": {
    "tags": [
     "hide-output"
    ]
   },
   "source": [
    "``` python\n",
    "print(15//4)"
   ]
  },
  {
   "cell_type": "markdown",
   "id": "1285274a-88f8-4dc7-b4c3-bf7199fd5e85",
   "metadata": {},
   "source": [
    "```{admonition} Solution\n",
    ":class: toggle\n",
    "3"
   ]
  },
  {
   "cell_type": "markdown",
   "id": "6c41682c",
   "metadata": {},
   "source": [
    "## Question-6\n"
   ]
  },
  {
   "cell_type": "markdown",
   "id": "21de494f-bb17-413d-9c13-1cd7747b5303",
   "metadata": {
    "tags": [
     "hide-output"
    ]
   },
   "source": [
    "``` python\n",
    "print((23//3)%4)"
   ]
  },
  {
   "cell_type": "markdown",
   "id": "332b2d11-d632-439f-9c2c-ca3170f9ff30",
   "metadata": {},
   "source": [
    "```{admonition} Solution\n",
    ":class: toggle\n",
    "3"
   ]
  },
  {
   "cell_type": "markdown",
   "id": "68dab687",
   "metadata": {},
   "source": [
    "## Question-7\n"
   ]
  },
  {
   "cell_type": "markdown",
   "id": "7808f96f-5820-428c-bd60-a6d39104ae7e",
   "metadata": {
    "tags": [
     "hide-output"
    ]
   },
   "source": [
    "``` python\n",
    "print(3**4)"
   ]
  },
  {
   "cell_type": "markdown",
   "id": "6997ebbb-89b2-48bf-9b60-f5e71ee0b97c",
   "metadata": {},
   "source": [
    "```{admonition} Solution\n",
    ":class: toggle\n",
    "81"
   ]
  },
  {
   "cell_type": "markdown",
   "id": "a23ddf68",
   "metadata": {},
   "source": [
    "## Question-8\n"
   ]
  },
  {
   "cell_type": "markdown",
   "id": "cc9b7a6f-8cfc-43a6-8ce9-cdeb4359e612",
   "metadata": {
    "tags": [
     "hide-output"
    ]
   },
   "source": [
    "``` python\n",
    "import statistics\n",
    "average = statistics.mean([1,5,12])\n",
    "print(average)"
   ]
  },
  {
   "cell_type": "markdown",
   "id": "d170307c-29fe-4e93-8d26-f96db9eecff6",
   "metadata": {},
   "source": [
    "```{admonition} Solution\n",
    ":class: toggle\n",
    "6"
   ]
  },
  {
   "cell_type": "markdown",
   "id": "3cff10a4",
   "metadata": {},
   "source": [
    "## Question-9\n"
   ]
  },
  {
   "cell_type": "markdown",
   "id": "62629636-f005-47f3-ad0b-c0053e605c9e",
   "metadata": {
    "tags": [
     "hide-output"
    ]
   },
   "source": [
    "``` python\n",
    "import numpy\n",
    "average = numpy.mean([5,10,9])\n",
    "print(average)"
   ]
  },
  {
   "cell_type": "markdown",
   "id": "89180306-d52c-4668-9119-698831eb4f86",
   "metadata": {},
   "source": [
    "```{admonition} Solution\n",
    ":class: toggle\n",
    "8.0"
   ]
  },
  {
   "cell_type": "markdown",
   "id": "59a127e6-db84-4405-9afe-b0fcc7545fad",
   "metadata": {},
   "source": [
    "## Question-10\n"
   ]
  },
  {
   "cell_type": "markdown",
   "id": "06799675-dad6-49ad-b244-2378101a3b20",
   "metadata": {
    "tags": [
     "hide-output"
    ]
   },
   "source": [
    "``` python\n",
    "rd = round(12.345,2)\n",
    "print(rd)"
   ]
  },
  {
   "cell_type": "markdown",
   "id": "e46a5ac3-e06f-4f46-b4af-46aed0abfb61",
   "metadata": {},
   "source": [
    "```{admonition} Solution\n",
    ":class: toggle\n",
    "12.35"
   ]
  },
  {
   "cell_type": "markdown",
   "id": "ec108967-f356-4f6a-a76f-52dd596db8a7",
   "metadata": {},
   "source": [
    "## Question-11\n"
   ]
  },
  {
   "cell_type": "markdown",
   "id": "86abc3df-97cd-405e-b0b9-5ab8223d8983",
   "metadata": {
    "tags": [
     "hide-output"
    ]
   },
   "source": [
    "``` python\n",
    "rd = round(12.367,1)\n",
    "print(rd)"
   ]
  },
  {
   "cell_type": "markdown",
   "id": "33c5f6d7-255e-40ac-890f-9bd55c2adedd",
   "metadata": {},
   "source": [
    "```{admonition} Solution\n",
    ":class: toggle\n",
    "12.4"
   ]
  },
  {
   "cell_type": "markdown",
   "id": "1cea6145-34f1-4048-912a-fac8799e880f",
   "metadata": {},
   "source": [
    "## Question-12\n"
   ]
  },
  {
   "cell_type": "markdown",
   "id": "c696af6b-47d6-4397-a1b9-0cdf64113b37",
   "metadata": {
    "tags": [
     "hide-output"
    ]
   },
   "source": [
    "``` python\n",
    "x = 10\n",
    "x = x+1\n",
    "print(x)"
   ]
  },
  {
   "cell_type": "markdown",
   "id": "74b59956-e75a-46c9-91cc-bb54aa714a08",
   "metadata": {},
   "source": [
    "```{admonition} Solution\n",
    ":class: toggle\n",
    "11"
   ]
  },
  {
   "cell_type": "markdown",
   "id": "2b9c851d-5c2a-4e65-aa8f-b765025fb404",
   "metadata": {},
   "source": [
    "## Question-13\n"
   ]
  },
  {
   "cell_type": "markdown",
   "id": "c1bb5946-56de-41bc-88ee-df5449d7234d",
   "metadata": {
    "tags": [
     "hide-output"
    ]
   },
   "source": [
    "``` python\n",
    "x = 20\n",
    "x += 1\n",
    "print(x)"
   ]
  },
  {
   "cell_type": "markdown",
   "id": "841284d5-2064-4a66-8c24-b27fd0d7ea8f",
   "metadata": {},
   "source": [
    "```{admonition} Solution\n",
    ":class: toggle\n",
    "21"
   ]
  },
  {
   "cell_type": "markdown",
   "id": "3eebd49f-ebb3-4d11-95a8-c6ab650cfd46",
   "metadata": {},
   "source": [
    "## Question-14\n"
   ]
  },
  {
   "cell_type": "markdown",
   "id": "ff0bc4f5-dc87-4af9-b6c7-51b159b137d9",
   "metadata": {
    "tags": [
     "hide-output"
    ]
   },
   "source": [
    "``` python\n",
    "x = 10\n",
    "x = x+1\n",
    "x += 1\n",
    "print(x)"
   ]
  },
  {
   "cell_type": "markdown",
   "id": "afa7871e-3350-4fff-adf6-76169fa0a18a",
   "metadata": {},
   "source": [
    "```{admonition} Solution\n",
    ":class: toggle\n",
    "12"
   ]
  },
  {
   "cell_type": "markdown",
   "id": "78f67003-93f8-4684-a28b-b7b961602227",
   "metadata": {},
   "source": [
    "## Question-15\n"
   ]
  },
  {
   "cell_type": "markdown",
   "id": "63e6299f-8967-458b-82f6-2bcc63c39f89",
   "metadata": {
    "tags": [
     "hide-output"
    ]
   },
   "source": [
    "``` python\n",
    "x = 10\n",
    "x -= 2\n",
    "x *= 5\n",
    "x = x+1\n",
    "print(x)"
   ]
  },
  {
   "cell_type": "markdown",
   "id": "59a53b5e-7313-4fc4-9f2c-4ed417ce0ce3",
   "metadata": {},
   "source": [
    "```{admonition} Solution\n",
    ":class: toggle\n",
    "41"
   ]
  },
  {
   "cell_type": "markdown",
   "id": "016c6268-7e59-4582-80ab-a62383f699fc",
   "metadata": {},
   "source": [
    "## Question-16\n"
   ]
  },
  {
   "cell_type": "markdown",
   "id": "0b75b9ef-2df6-4ed6-b525-9741a748b11d",
   "metadata": {
    "tags": [
     "hide-output"
    ]
   },
   "source": [
    "``` python\n",
    "x = 10\n",
    "x -= 7\n",
    "print(x)\n",
    "x *= 2\n",
    "print(x)"
   ]
  },
  {
   "cell_type": "markdown",
   "id": "407216da-3295-4686-b9fb-3eb889294668",
   "metadata": {},
   "source": [
    "```{admonition} Solution\n",
    ":class: toggle\n",
    "3  \n",
    "6"
   ]
  },
  {
   "cell_type": "markdown",
   "id": "594dff89-df6c-4066-be65-49330aafbf57",
   "metadata": {},
   "source": [
    "## Question-17\n"
   ]
  },
  {
   "cell_type": "markdown",
   "id": "e2003cd5-27f5-4d9a-bdd4-9d30d70b23ee",
   "metadata": {
    "tags": [
     "hide-output"
    ]
   },
   "source": [
    "``` python\n",
    "x = 0\n",
    "print(x*'a'+'?'+x*'a')\n",
    "x += 1\n",
    "print(x*'a'+'?'+x*'a')\n",
    "x += 1\n",
    "print(x*'a'+'?'+x*'a')\n",
    "x -= 1\n",
    "print(x*'a'+'?'+x*'a')\n",
    "x -= 1\n",
    "print(x*'a'+'?'+x*'a')\n"
   ]
  },
  {
   "cell_type": "markdown",
   "id": "4ddfe949-1a04-4bfa-aae1-feeed820301b",
   "metadata": {},
   "source": [
    "```{admonition} Solution\n",
    ":class: toggle\n",
    "?  \n",
    "a?a  \n",
    "aa?aa   \n",
    "a?a  \n",
    "?"
   ]
  },
  {
   "cell_type": "markdown",
   "id": "a0a384cf-594b-4958-a71c-dda161bd9913",
   "metadata": {},
   "source": [
    "## Question-18\n"
   ]
  },
  {
   "cell_type": "markdown",
   "id": "eb6bb073-64a7-4bee-b821-7eb8144c0afc",
   "metadata": {
    "tags": [
     "hide-output"
    ]
   },
   "source": [
    "``` python\n",
    "x = '5.07'\n",
    "y = float(int(float(x)))\n",
    "print(y)"
   ]
  },
  {
   "cell_type": "markdown",
   "id": "23c09dfd-e31b-4755-910d-df220e7e45b2",
   "metadata": {},
   "source": [
    "```{admonition} Solution\n",
    ":class: toggle\n",
    "5.0"
   ]
  },
  {
   "cell_type": "markdown",
   "id": "97d1fd7b-a2de-48e7-baf2-e64843f034f5",
   "metadata": {},
   "source": [
    "## Question-19\n"
   ]
  },
  {
   "cell_type": "markdown",
   "id": "522c0b1a-74cb-4524-8cef-be323201f30f",
   "metadata": {
    "tags": [
     "hide-output"
    ]
   },
   "source": [
    "``` python\n",
    "x = 2\n",
    "y = 5\n",
    "print(str(x)+' * '+str(y)+' = '+str(x*y))"
   ]
  },
  {
   "cell_type": "markdown",
   "id": "231c1b6c-f74e-4a89-8fa2-274500a57547",
   "metadata": {},
   "source": [
    "```{admonition} Solution\n",
    ":class: toggle\n",
    "2 * 5 = 10"
   ]
  },
  {
   "cell_type": "code",
   "execution_count": null,
   "id": "2ba78842-ace5-4d64-8f70-e3f798bc2b37",
   "metadata": {},
   "outputs": [],
   "source": []
  }
 ],
 "metadata": {
  "celltoolbar": "Tags",
  "hide_input": false,
  "kernelspec": {
   "display_name": "Python 3 (ipykernel)",
   "language": "python",
   "name": "python3"
  },
  "language_info": {
   "codemirror_mode": {
    "name": "ipython",
    "version": 3
   },
   "file_extension": ".py",
   "mimetype": "text/x-python",
   "name": "python",
   "nbconvert_exporter": "python",
   "pygments_lexer": "ipython3",
   "version": "3.11.8"
  },
  "toc": {
   "base_numbering": 1,
   "nav_menu": {},
   "number_sections": true,
   "sideBar": true,
   "skip_h1_title": false,
   "title_cell": "Table of Contents",
   "title_sidebar": "Contents",
   "toc_cell": false,
   "toc_position": {},
   "toc_section_display": true,
   "toc_window_display": false
  }
 },
 "nbformat": 4,
 "nbformat_minor": 5
}
