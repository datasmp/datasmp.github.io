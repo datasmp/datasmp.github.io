{
 "cells": [
  {
   "cell_type": "markdown",
   "id": "253c6575",
   "metadata": {},
   "source": [
    "# Acknowledgments\n",
    "\n",
    "For Meryem and Sumeyra,\n",
    "\n",
    "I am deeply grateful to **Hamza Ali Danisman** for his careful review and helpful comments during the preparation of this textbook. \n",
    "I also want to thank the QCC STEM program and its director, **Anna Lee**, for her technical support during the preparation of this book."
   ]
  },
  {
   "cell_type": "code",
   "execution_count": null,
   "id": "efe0cec3",
   "metadata": {},
   "outputs": [],
   "source": []
  }
 ],
 "metadata": {
  "hide_input": false,
  "kernelspec": {
   "display_name": "Python 3 (ipykernel)",
   "language": "python",
   "name": "python3"
  },
  "language_info": {
   "codemirror_mode": {
    "name": "ipython",
    "version": 3
   },
   "file_extension": ".py",
   "mimetype": "text/x-python",
   "name": "python",
   "nbconvert_exporter": "python",
   "pygments_lexer": "ipython3",
   "version": "3.11.7"
  },
  "toc": {
   "base_numbering": 1,
   "nav_menu": {},
   "number_sections": true,
   "sideBar": true,
   "skip_h1_title": false,
   "title_cell": "Table of Contents",
   "title_sidebar": "Contents",
   "toc_cell": false,
   "toc_position": {},
   "toc_section_display": true,
   "toc_window_display": false
  }
 },
 "nbformat": 4,
 "nbformat_minor": 5
}