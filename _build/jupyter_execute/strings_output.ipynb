{
 "cells": [
  {
   "cell_type": "markdown",
   "id": "13e18a7d",
   "metadata": {},
   "source": [
    "# Strings Output\n",
    "- Find the output of the following code. \n",
    "- Please don't run the code before giving your answer. &emsp;&emsp;&emsp;&emsp;"
   ]
  },
  {
   "cell_type": "markdown",
   "id": "03fc8d4d",
   "metadata": {},
   "source": [
    "## Question-1\n"
   ]
  },
  {
   "cell_type": "markdown",
   "id": "fd4ee654-a725-4d06-998e-3a54515ee3e5",
   "metadata": {
    "tags": [
     "hide-output"
    ]
   },
   "source": [
    "``` python\n",
    "print('Mark'+'Twain')\n",
    "```"
   ]
  },
  {
   "cell_type": "markdown",
   "id": "0682e108-b51a-4303-bd3e-64ffe9b28fdb",
   "metadata": {},
   "source": [
    "```{admonition} Solution\n",
    ":class: toggle\n",
    "\n",
    "MarkTwain\n"
   ]
  },
  {
   "cell_type": "markdown",
   "id": "c1aef79d",
   "metadata": {},
   "source": [
    "## Question-2\n"
   ]
  },
  {
   "cell_type": "markdown",
   "id": "9021e95b-5861-4634-8ca3-937e0d9af1c6",
   "metadata": {
    "tags": [
     "hide-output"
    ]
   },
   "source": [
    "``` python\n",
    "print('Mark '+'Twain')"
   ]
  },
  {
   "cell_type": "markdown",
   "id": "be5914ab-8e50-44c7-8e92-21c88b5693ef",
   "metadata": {},
   "source": [
    "```{admonition} Solution\n",
    ":class: toggle\n",
    "\n",
    "Mark Twain\n"
   ]
  },
  {
   "cell_type": "markdown",
   "id": "1bc72fed",
   "metadata": {},
   "source": [
    "## Question-3\n"
   ]
  },
  {
   "cell_type": "markdown",
   "id": "090eb587-f5b8-4738-85c2-4c92692de558",
   "metadata": {
    "tags": [
     "hide-output"
    ]
   },
   "source": [
    "``` python\n",
    "print('Mark\\tTwain')"
   ]
  },
  {
   "cell_type": "markdown",
   "id": "8894f129-89ea-4cc9-9153-45a53631b03f",
   "metadata": {},
   "source": [
    "```{admonition} Solution\n",
    ":class: toggle\n",
    "\n",
    "\n",
    "Mark&ensp;&ensp;Twain\n"
   ]
  },
  {
   "cell_type": "markdown",
   "id": "d0e75b17",
   "metadata": {},
   "source": [
    "## Question-4\n"
   ]
  },
  {
   "cell_type": "markdown",
   "id": "fdb14e9a-746b-437d-8fba-0bdb74fcc2b8",
   "metadata": {
    "tags": [
     "hide-output"
    ]
   },
   "source": [
    "``` python\n",
    "print('Mark\\nTwain')"
   ]
  },
  {
   "cell_type": "markdown",
   "id": "b0ecd7e4-0077-414a-a4ea-635b8a35451a",
   "metadata": {},
   "source": [
    "```{admonition} Solution\n",
    ":class: toggle\n",
    "\n",
    "\n",
    "Mark    \n",
    "Twain"
   ]
  },
  {
   "cell_type": "markdown",
   "id": "f69a9cd1-3b07-4d29-af2e-e6b2fc5a32d1",
   "metadata": {},
   "source": [
    "## Question-5\n"
   ]
  },
  {
   "cell_type": "markdown",
   "id": "ffe9e6ab-ce00-4042-80bb-ea7325d6ee5c",
   "metadata": {
    "tags": [
     "hide-output"
    ]
   },
   "source": [
    "``` python\n",
    "print('Mark\\bTwain')\n",
    "```"
   ]
  },
  {
   "cell_type": "markdown",
   "id": "4dfe06e5-05b2-4c34-bfc8-bdabc980bb08",
   "metadata": {},
   "source": [
    "```{admonition} Solution\n",
    ":class: toggle\n",
    "MarTwain"
   ]
  },
  {
   "cell_type": "markdown",
   "id": "cace03a5-f754-4ada-b999-54235cc7ffd0",
   "metadata": {},
   "source": [
    "## Question-6\n"
   ]
  },
  {
   "cell_type": "markdown",
   "id": "0f45f3f7-9dbc-4bf4-ae77-a3c414910a97",
   "metadata": {
    "tags": [
     "hide-output"
    ]
   },
   "source": [
    "``` python\n",
    "print('Mark\\b\\bTwain')\n",
    "```"
   ]
  },
  {
   "cell_type": "markdown",
   "id": "768b43c5-5f01-4b86-be85-d10ab08d3108",
   "metadata": {},
   "source": [
    "```{admonition} Solution\n",
    ":class: toggle\n",
    "MaTwain"
   ]
  },
  {
   "cell_type": "markdown",
   "id": "682031c3-cfc4-48a9-9f8a-9f5bce5f8890",
   "metadata": {},
   "source": [
    "## Question-7\n"
   ]
  },
  {
   "cell_type": "markdown",
   "id": "96544ee4-5ac6-4e9c-b372-8b720e796ddd",
   "metadata": {
    "tags": [
     "hide-output"
    ]
   },
   "source": [
    "``` python\n",
    "print('Mark\\b\\b\\bTwain')\n",
    "```"
   ]
  },
  {
   "cell_type": "markdown",
   "id": "c4bacfb2-0fdb-4eaf-a73f-23d735ec8115",
   "metadata": {},
   "source": [
    "```{admonition} Solution\n",
    ":class: toggle\n",
    "MTwain"
   ]
  },
  {
   "cell_type": "markdown",
   "id": "08e1e1ce",
   "metadata": {},
   "source": [
    "## Question-8\n"
   ]
  },
  {
   "cell_type": "markdown",
   "id": "b9d71af3-20df-43ce-af7f-50dba3ca111a",
   "metadata": {
    "tags": [
     "hide-output"
    ]
   },
   "source": [
    "``` python\n",
    "print('Mary\\'s book.')"
   ]
  },
  {
   "cell_type": "markdown",
   "id": "42e3d322-2fbd-4f5c-a1f5-41c5bc6227d3",
   "metadata": {},
   "source": [
    "```{admonition} Solution\n",
    ":class: toggle\n",
    "\n",
    "Mary's book.\n"
   ]
  },
  {
   "cell_type": "markdown",
   "id": "6c41682c",
   "metadata": {},
   "source": [
    "## Question-9\n"
   ]
  },
  {
   "cell_type": "markdown",
   "id": "7dd0611f-06cb-4643-8e10-93f64dd7fbcd",
   "metadata": {
    "tags": [
     "hide-output"
    ]
   },
   "source": [
    "``` python\n",
    "print(r'Mary\\'s \\n book.')"
   ]
  },
  {
   "cell_type": "markdown",
   "id": "44989fb7-f010-4b9f-abb2-4b3f72b8139b",
   "metadata": {},
   "source": [
    "```{admonition} Solution\n",
    ":class: toggle\n",
    "Mary\\'s \\n book."
   ]
  },
  {
   "cell_type": "markdown",
   "id": "68dab687",
   "metadata": {},
   "source": [
    "## Question-10\n"
   ]
  },
  {
   "cell_type": "markdown",
   "id": "5843c597-ed7f-4089-bc4f-ed368111a105",
   "metadata": {
    "tags": [
     "hide-output"
    ]
   },
   "source": [
    "``` python\n",
    "text = 'Hello World.'\n",
    "len(text)"
   ]
  },
  {
   "cell_type": "markdown",
   "id": "476d1d26-c0a6-45af-aebb-9c23607d19e5",
   "metadata": {},
   "source": [
    "```{admonition} Solution\n",
    ":class: toggle\n",
    "\n",
    "12"
   ]
  },
  {
   "cell_type": "markdown",
   "id": "a23ddf68",
   "metadata": {},
   "source": [
    "## Question-11\n"
   ]
  },
  {
   "cell_type": "markdown",
   "id": "0a31c030-6dd1-4de3-bd96-691f98d9cc8c",
   "metadata": {
    "tags": [
     "hide-output"
    ]
   },
   "source": [
    "``` python\n",
    "x = 'abcdefg'\n",
    "\n",
    "print(x[:])\n",
    "print(x[:-3])\n",
    "print(x[-4:])\n",
    "print(x[2:4])\n",
    "print(x[-4:-2])"
   ]
  },
  {
   "cell_type": "markdown",
   "id": "9e4f9fd1-fd7d-4a6f-a6f2-275cc49fc58a",
   "metadata": {},
   "source": [
    "```{admonition} Solution\n",
    ":class: toggle\n",
    "\n",
    "abcdefg  \n",
    "abcd  \n",
    "defg  \n",
    "cd  \n",
    "de"
   ]
  },
  {
   "cell_type": "markdown",
   "id": "3cff10a4",
   "metadata": {},
   "source": [
    "## Question-12\n"
   ]
  },
  {
   "cell_type": "markdown",
   "id": "c438f77d-5010-48a7-a654-354c05a38985",
   "metadata": {
    "tags": [
     "hide-output"
    ]
   },
   "source": [
    "``` python\n",
    "name = 'Mary'\n",
    "print(f'My name is (name)')"
   ]
  },
  {
   "cell_type": "markdown",
   "id": "0c8a7606-7823-4d8e-a976-ea935846d37d",
   "metadata": {},
   "source": [
    "```{admonition} Solution\n",
    ":class: toggle\n",
    "\n",
    "My name is (name)"
   ]
  },
  {
   "cell_type": "markdown",
   "id": "59a127e6-db84-4405-9afe-b0fcc7545fad",
   "metadata": {},
   "source": [
    "## Question-13\n"
   ]
  },
  {
   "cell_type": "markdown",
   "id": "769499ae-df94-437c-a7c3-344a20606de1",
   "metadata": {
    "tags": [
     "hide-output"
    ]
   },
   "source": [
    "``` python\n",
    "name = 'George'\n",
    "salary = 2000\n",
    "\n",
    "print(f'My name is {name}. I earn ${salary} per month.')"
   ]
  },
  {
   "cell_type": "markdown",
   "id": "b6514cf1-7f54-4125-8139-8c0220d42f51",
   "metadata": {},
   "source": [
    "```{admonition} Solution\n",
    ":class: toggle\n",
    "\n",
    "My name is George. I earn $2000 per month.\n"
   ]
  },
  {
   "cell_type": "markdown",
   "id": "ec108967-f356-4f6a-a76f-52dd596db8a7",
   "metadata": {},
   "source": [
    "## Question-14\n"
   ]
  },
  {
   "cell_type": "markdown",
   "id": "a0c54aa1-9537-4446-87c8-6ef7817d0ec5",
   "metadata": {
    "tags": [
     "hide-output"
    ]
   },
   "source": [
    "``` python\n",
    "x = 'california'\n",
    "\n",
    "print(x.find('f'))\n",
    "print(x.find('A'))\n",
    "print(x.find('a', 4))"
   ]
  },
  {
   "cell_type": "markdown",
   "id": "7e693ae3-ac45-4528-afab-6226773908d0",
   "metadata": {},
   "source": [
    "```{admonition} Solution\n",
    ":class: toggle\n",
    "\n",
    "4  \n",
    "-1  \n",
    "9"
   ]
  },
  {
   "cell_type": "markdown",
   "id": "1cea6145-34f1-4048-912a-fac8799e880f",
   "metadata": {},
   "source": [
    "## Question-15\n"
   ]
  },
  {
   "cell_type": "markdown",
   "id": "f1ed3275-9800-41f4-b491-7172cc374499",
   "metadata": {
    "tags": [
     "hide-output"
    ]
   },
   "source": [
    "``` python\n",
    "state = 'utah'\n",
    "print(3*'utah')"
   ]
  },
  {
   "cell_type": "markdown",
   "id": "1312555b-4e67-4062-bfc3-62d87cb1506d",
   "metadata": {},
   "source": [
    "```{admonition} Solution\n",
    ":class: toggle\n",
    "\n",
    "utahutahutah"
   ]
  },
  {
   "cell_type": "markdown",
   "id": "78f67003-93f8-4684-a28b-b7b961602227",
   "metadata": {},
   "source": [
    "## Question-16\n"
   ]
  },
  {
   "cell_type": "markdown",
   "id": "fad56c56-7eee-4abd-860e-5554c7d98d18",
   "metadata": {
    "tags": [
     "hide-output"
    ]
   },
   "source": [
    "``` python\n",
    "name = 'MaRk tWAin'\n",
    "\n",
    "print(name.upper())\n",
    "print(name.lower())\n",
    "print(name.capitalize())\n",
    "print(name.title())"
   ]
  },
  {
   "cell_type": "markdown",
   "id": "667cae57-771a-4793-96d8-dfb93e85cc2b",
   "metadata": {},
   "source": [
    "```{admonition} Solution\n",
    ":class: toggle\n",
    "\n",
    "MARK TWAIN  \n",
    "mark twain  \n",
    "Mark twain  \n",
    "Mark Twain  "
   ]
  },
  {
   "cell_type": "markdown",
   "id": "016c6268-7e59-4582-80ab-a62383f699fc",
   "metadata": {},
   "source": [
    "## Question-17\n"
   ]
  },
  {
   "cell_type": "markdown",
   "id": "ddd5b3ca-cc2b-45b6-b05d-f17f3cf57584",
   "metadata": {
    "tags": [
     "hide-output"
    ]
   },
   "source": [
    "``` python\n",
    "country = 'Morocco'\n",
    "\n",
    "print(country.find('r'))\n",
    "print(country.find('o'))\n",
    "print(country.find('c'))\n",
    "print(country.find('o',4))\n",
    "print(country.find('t'))"
   ]
  },
  {
   "cell_type": "markdown",
   "id": "a838039d-eac7-4558-9dbc-db434121e5df",
   "metadata": {},
   "source": [
    "```{admonition} Solution\n",
    ":class: toggle\n",
    "\n",
    "2  \n",
    "1  \n",
    "4  \n",
    "6  \n",
    "-1  "
   ]
  },
  {
   "cell_type": "markdown",
   "id": "2dc75ee6-515e-41af-8b70-3ab58d8e43e4",
   "metadata": {},
   "source": [
    "## Question-18\n"
   ]
  },
  {
   "cell_type": "markdown",
   "id": "833cd3b0-b4fd-4f82-88a7-8c0b21d6c496",
   "metadata": {
    "tags": [
     "hide-output"
    ]
   },
   "source": [
    "``` python\n",
    "name = '   Liz   '\n",
    "print(name.strip())"
   ]
  },
  {
   "cell_type": "markdown",
   "id": "10cbd295-6cd6-48ec-8d8d-ce80d47b5af9",
   "metadata": {},
   "source": [
    "```{admonition} Solution\n",
    ":class: toggle\n",
    "\n",
    "Liz"
   ]
  },
  {
   "cell_type": "markdown",
   "id": "93a3a6f8-f1f2-4756-a9ae-d3e5486ed239",
   "metadata": {},
   "source": [
    "## Question-19\n"
   ]
  },
  {
   "cell_type": "markdown",
   "id": "d9ba8551-c45f-4400-b874-dec4b5915f3e",
   "metadata": {
    "tags": [
     "hide-output"
    ]
   },
   "source": [
    "``` python\n",
    "name = '   Liz   '\n",
    "print(name.lstrip()+'T')"
   ]
  },
  {
   "cell_type": "markdown",
   "id": "64f581fc-b8a4-456c-a248-2df9304bdbb0",
   "metadata": {},
   "source": [
    "```{admonition} Solution\n",
    ":class: toggle\n",
    "\n",
    "Liz&ensp;   T"
   ]
  },
  {
   "cell_type": "markdown",
   "id": "594dff89-df6c-4066-be65-49330aafbf57",
   "metadata": {},
   "source": [
    "## Question-20\n"
   ]
  },
  {
   "cell_type": "markdown",
   "id": "0104de84-cc2f-4e57-83b0-56c6c8625812",
   "metadata": {
    "tags": [
     "hide-output"
    ]
   },
   "source": [
    "``` python\n",
    "name = 'ryan'\n",
    "print(name.startswith('R'))"
   ]
  },
  {
   "cell_type": "markdown",
   "id": "9c8f4c58-e1bf-4b48-9b87-beacab804286",
   "metadata": {},
   "source": [
    "```{admonition} Solution\n",
    ":class: toggle\n",
    "\n",
    "False"
   ]
  },
  {
   "cell_type": "markdown",
   "id": "a8e0b9d9-c7c9-4fe0-a8c0-3bf0c4353e68",
   "metadata": {},
   "source": [
    "## Question-21\n"
   ]
  },
  {
   "cell_type": "markdown",
   "id": "067b56c8-7460-4cb2-b277-b25ab89b9e0a",
   "metadata": {
    "tags": [
     "hide-output"
    ]
   },
   "source": [
    "``` python\n",
    "word = 'ab,cde=abc,de'\n",
    "\n",
    "index1 = word.find('f')\n",
    "index2 = word.find('=')\n",
    "index3 = word.find(',',index2)\n",
    "\n",
    "print(word[index2:index3+index1])"
   ]
  },
  {
   "cell_type": "markdown",
   "id": "f32f6f8f-3e03-4ccb-83ce-ac37791b0e7a",
   "metadata": {},
   "source": [
    "```{admonition} Solution\n",
    ":class: toggle\n",
    "\n",
    "=ab"
   ]
  },
  {
   "cell_type": "markdown",
   "id": "f673c71b-cb54-4814-9998-8be2205c61ba",
   "metadata": {},
   "source": [
    "## Question-22\n"
   ]
  },
  {
   "cell_type": "markdown",
   "id": "49935bbe-abbb-4877-bb9b-35ca7cab4b55",
   "metadata": {
    "tags": [
     "hide-output"
    ]
   },
   "source": [
    "``` python\n",
    "state = 'Florida'\n",
    "\n",
    "x = state[1:4:2].upper().lower()\n",
    "y = state[-1:-5:-1].capitalize().swapcase()\n",
    "\n",
    "print(y+'_'+x)\n",
    "print(x+y)"
   ]
  },
  {
   "cell_type": "markdown",
   "id": "ecb989af-13f4-4af8-84a7-e661088b8ed0",
   "metadata": {},
   "source": [
    "```{admonition} Solution\n",
    ":class: toggle\n",
    "\n",
    "aDIR_lr  \n",
    "lraDIR"
   ]
  },
  {
   "cell_type": "code",
   "execution_count": null,
   "id": "2755af46-bd1d-4937-922e-d9b8e054bd13",
   "metadata": {},
   "outputs": [],
   "source": []
  }
 ],
 "metadata": {
  "celltoolbar": "Tags",
  "hide_input": false,
  "kernelspec": {
   "display_name": "Python 3 (ipykernel)",
   "language": "python",
   "name": "python3"
  },
  "language_info": {
   "codemirror_mode": {
    "name": "ipython",
    "version": 3
   },
   "file_extension": ".py",
   "mimetype": "text/x-python",
   "name": "python",
   "nbconvert_exporter": "python",
   "pygments_lexer": "ipython3",
   "version": "3.11.7"
  },
  "toc": {
   "base_numbering": 1,
   "nav_menu": {},
   "number_sections": true,
   "sideBar": true,
   "skip_h1_title": false,
   "title_cell": "Table of Contents",
   "title_sidebar": "Contents",
   "toc_cell": false,
   "toc_position": {},
   "toc_section_display": true,
   "toc_window_display": false
  }
 },
 "nbformat": 4,
 "nbformat_minor": 5
}