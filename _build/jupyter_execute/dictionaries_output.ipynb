{
 "cells": [
  {
   "cell_type": "markdown",
   "id": "13e18a7d",
   "metadata": {},
   "source": [
    "# Dictionaries Output\n",
    "- Find the output of the following code. \n",
    "- Please don't run the code before giving your answer. &emsp;&emsp;&emsp;&emsp;"
   ]
  },
  {
   "cell_type": "markdown",
   "id": "03fc8d4d",
   "metadata": {},
   "source": [
    "## Question\n"
   ]
  },
  {
   "cell_type": "code",
   "execution_count": 1,
   "id": "676b8223",
   "metadata": {
    "tags": [
     "hide-output"
    ]
   },
   "outputs": [
    {
     "name": "stdout",
     "output_type": "stream",
     "text": [
      "l\n",
      "i\n",
      "e\n"
     ]
    }
   ],
   "source": [
    "dict_exp = {'table':1, 'chair':2, 'washer':3}\n",
    "\n",
    "for i in dict_exp.keys():\n",
    "  print(i[-2])"
   ]
  },
  {
   "cell_type": "markdown",
   "id": "c1aef79d",
   "metadata": {},
   "source": [
    "## Question\n"
   ]
  },
  {
   "cell_type": "code",
   "execution_count": 2,
   "id": "166f0c20",
   "metadata": {
    "tags": [
     "hide-output"
    ]
   },
   "outputs": [
    {
     "name": "stdout",
     "output_type": "stream",
     "text": [
      "32\n"
     ]
    }
   ],
   "source": [
    "dict_exp = {'table':[1,5,9], 'chair':[10,20,30], 'washer':[2,7,4]}\n",
    "total = 0\n",
    "\n",
    "for i in dict_exp.values():\n",
    "  total += i[1]\n",
    "    \n",
    "print(total)"
   ]
  },
  {
   "cell_type": "markdown",
   "id": "d0e75b17",
   "metadata": {},
   "source": [
    "## Question\n"
   ]
  },
  {
   "cell_type": "code",
   "execution_count": 3,
   "id": "5ecaf019",
   "metadata": {
    "tags": [
     "hide-output"
    ]
   },
   "outputs": [
    {
     "name": "stdout",
     "output_type": "stream",
     "text": [
      "54\n"
     ]
    }
   ],
   "source": [
    "dict_exp = {'table':[1,5,9], 'chair':[4,6,8], 'washer':[2,7,4]}\n",
    "total = 0\n",
    "\n",
    "for i in dict_exp.values():\n",
    "  for j in i:\n",
    "    total += i[1]\n",
    "      \n",
    "print(total)"
   ]
  },
  {
   "cell_type": "markdown",
   "id": "1bc72fed",
   "metadata": {},
   "source": [
    "## Question\n"
   ]
  },
  {
   "cell_type": "code",
   "execution_count": 4,
   "id": "21b9956f",
   "metadata": {
    "tags": [
     "hide-output"
    ]
   },
   "outputs": [
    {
     "name": "stdout",
     "output_type": "stream",
     "text": [
      "46\n"
     ]
    }
   ],
   "source": [
    "dict_exp = {'table':[1,5,9], 'chair':[4,6,8], 'washer':[2,7,4]}\n",
    "total = 0\n",
    "\n",
    "for i in dict_exp.values():\n",
    "  for j in i:\n",
    "    total += j\n",
    "      \n",
    "print(total)"
   ]
  },
  {
   "cell_type": "markdown",
   "id": "f69a9cd1-3b07-4d29-af2e-e6b2fc5a32d1",
   "metadata": {},
   "source": [
    "## Question\n"
   ]
  },
  {
   "cell_type": "code",
   "execution_count": 5,
   "id": "8893982b-1a33-4946-b811-f2807e754b13",
   "metadata": {
    "tags": [
     "hide-output"
    ]
   },
   "outputs": [
    {
     "name": "stdout",
     "output_type": "stream",
     "text": [
      "62\n",
      "65\n"
     ]
    }
   ],
   "source": [
    "stock_dict = {'day-1':{'High': 70, 'Low':62, 'Close':65},\n",
    "              'day-2':{'High': 68, 'Low':60, 'Close':63},\n",
    "              'day-3':{'High': 71, 'Low':65, 'Close':67},\n",
    "              'day-4':{'High': 70, 'Low':62, 'Close':65},\n",
    "              'day-5':{'High': 73, 'Low':65, 'Close':70},\n",
    "              'day-6':{'High': 75, 'Low':69, 'Close':73}\n",
    "              }\n",
    "\n",
    "for i in [1,3]:\n",
    "  print(stock_dict['day-'+str(i)]['Low'])"
   ]
  },
  {
   "cell_type": "markdown",
   "id": "cace03a5-f754-4ada-b999-54235cc7ffd0",
   "metadata": {},
   "source": [
    "## Question\n"
   ]
  },
  {
   "cell_type": "code",
   "execution_count": 6,
   "id": "75c23741-8b41-4c9a-a257-50f45c5e2c4d",
   "metadata": {
    "tags": [
     "hide-output"
    ]
   },
   "outputs": [
    {
     "name": "stdout",
     "output_type": "stream",
     "text": [
      "21\n"
     ]
    }
   ],
   "source": [
    "stock_dict = {'day-1':{'High': 70, 'Low':62, 'Close':65},\n",
    "              'day-2':{'High': 68, 'Low':60, 'Close':63},\n",
    "              'day-3':{'High': 71, 'Low':65, 'Close':67},\n",
    "              'day-4':{'High': 70, 'Low':62, 'Close':65},\n",
    "              'day-5':{'High': 73, 'Low':65, 'Close':70},\n",
    "              'day-6':{'High': 75, 'Low':69, 'Close':73}\n",
    "              }\n",
    "total = 0\n",
    "\n",
    "for i,j in stock_dict.items():\n",
    "  total += int(i[-1])\n",
    "\n",
    "print(total)"
   ]
  },
  {
   "cell_type": "markdown",
   "id": "a4704f5e-7da3-4151-8b92-00454e30ba3f",
   "metadata": {},
   "source": [
    "## Question\n"
   ]
  },
  {
   "cell_type": "code",
   "execution_count": 7,
   "id": "50893197-82b1-49bd-be35-6caa738bd16d",
   "metadata": {
    "tags": [
     "hide-output"
    ]
   },
   "outputs": [
    {
     "name": "stdout",
     "output_type": "stream",
     "text": [
      "41\n"
     ]
    }
   ],
   "source": [
    "stock_dict = {'day-1':{'High': 70, 'Low':62, 'Close':65},\n",
    "              'day-2':{'High': 68, 'Low':60, 'Close':63},\n",
    "              'day-3':{'High': 71, 'Low':65, 'Close':67},\n",
    "              'day-4':{'High': 70, 'Low':62, 'Close':65},\n",
    "              'day-5':{'High': 73, 'Low':65, 'Close':70},\n",
    "              'day-6':{'High': 75, 'Low':69, 'Close':73}\n",
    "              }\n",
    "total = 0\n",
    "\n",
    "for i,j in stock_dict.items():\n",
    "  total += j['High']//10\n",
    "\n",
    "print(total)"
   ]
  },
  {
   "cell_type": "markdown",
   "id": "682031c3-cfc4-48a9-9f8a-9f5bce5f8890",
   "metadata": {},
   "source": [
    "## Question\n"
   ]
  },
  {
   "cell_type": "code",
   "execution_count": 8,
   "id": "cdcb44e3-214c-44c4-9c9e-970a60f8a65d",
   "metadata": {
    "tags": [
     "hide-output"
    ]
   },
   "outputs": [
    {
     "name": "stdout",
     "output_type": "stream",
     "text": [
      "Y\n",
      "X\n",
      "A\n"
     ]
    }
   ],
   "source": [
    "my_dict = {200:'NY', 100:'NJ', 400:'TX', 300:'CA'}\n",
    "\n",
    "for i in my_dict.keys():\n",
    "  if i>188:\n",
    "    print(my_dict[i][1])"
   ]
  },
  {
   "cell_type": "markdown",
   "id": "08e1e1ce",
   "metadata": {},
   "source": [
    "## Question\n"
   ]
  },
  {
   "cell_type": "code",
   "execution_count": 9,
   "id": "5f53bfff",
   "metadata": {
    "tags": [
     "hide-output"
    ]
   },
   "outputs": [
    {
     "name": "stdout",
     "output_type": "stream",
     "text": [
      "10 100\n",
      "20 200\n",
      "30 300\n"
     ]
    }
   ],
   "source": [
    "mydict = {'A':(10,100), 'B':(20, 200), 'C':(30,300)}\n",
    "\n",
    "for i,j in mydict.values():\n",
    "  print(i,j)"
   ]
  },
  {
   "cell_type": "code",
   "execution_count": null,
   "id": "2755af46-bd1d-4937-922e-d9b8e054bd13",
   "metadata": {},
   "outputs": [],
   "source": []
  }
 ],
 "metadata": {
  "celltoolbar": "Tags",
  "hide_input": false,
  "kernelspec": {
   "display_name": "Python 3 (ipykernel)",
   "language": "python",
   "name": "python3"
  },
  "language_info": {
   "codemirror_mode": {
    "name": "ipython",
    "version": 3
   },
   "file_extension": ".py",
   "mimetype": "text/x-python",
   "name": "python",
   "nbconvert_exporter": "python",
   "pygments_lexer": "ipython3",
   "version": "3.11.7"
  },
  "toc": {
   "base_numbering": 1,
   "nav_menu": {},
   "number_sections": true,
   "sideBar": true,
   "skip_h1_title": false,
   "title_cell": "Table of Contents",
   "title_sidebar": "Contents",
   "toc_cell": false,
   "toc_position": {},
   "toc_section_display": true,
   "toc_window_display": false
  }
 },
 "nbformat": 4,
 "nbformat_minor": 5
}