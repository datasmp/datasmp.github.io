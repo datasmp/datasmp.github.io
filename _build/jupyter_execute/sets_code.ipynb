{
 "cells": [
  {
   "cell_type": "markdown",
   "id": "13e18a7d",
   "metadata": {
    "hide_input": false
   },
   "source": [
    "# Sets Code\n",
    "- Please solve the following questions using Python code.&emsp;&emsp;"
   ]
  },
  {
   "cell_type": "markdown",
   "id": "7054f9a9",
   "metadata": {},
   "source": [
    "## Question\n",
    "Identify the unique names in the list *names* below (not case-sensitive), and store them in a new list with dictionary order and capitalized."
   ]
  },
  {
   "cell_type": "code",
   "execution_count": 1,
   "id": "c29e8150-a278-4783-b4c9-fa722ef8dc21",
   "metadata": {},
   "outputs": [],
   "source": [
    "names = ['Ben', 'ElI', 'Ben', 'Ian', 'MIa', 'Eva', 'Ana', 'Leo',  'Tim', 'liz', 'ben', 'ana', 'ben' ]"
   ]
  },
  {
   "cell_type": "markdown",
   "id": "1f85e922-9290-4568-be7e-a2e110819bbb",
   "metadata": {},
   "source": [
    "**Solution**"
   ]
  },
  {
   "cell_type": "code",
   "execution_count": 2,
   "id": "825b8e76-3781-4859-881b-27d618619e72",
   "metadata": {
    "tags": [
     "hide-cell"
    ]
   },
   "outputs": [
    {
     "name": "stdout",
     "output_type": "stream",
     "text": [
      "['Ana', 'Ben', 'Eli', 'Eva', 'Ian', 'Leo', 'Liz', 'Mia', 'Tim']\n"
     ]
    }
   ],
   "source": [
    "names_cap = [i.capitalize() for i in names]\n",
    "names_cap = set(names_cap)\n",
    "names_cap = list(names_cap)\n",
    "names_cap.sort()\n",
    "\n",
    "print(names_cap)"
   ]
  },
  {
   "cell_type": "markdown",
   "id": "9a2cdb14",
   "metadata": {},
   "source": [
    "## Question\n",
    "Remove names that start with a capital letter from the lists below. \n",
    "- Store the unique names (not case-sensitive) in a new list, ensuring they are capitalized and ordered.\n"
   ]
  },
  {
   "cell_type": "code",
   "execution_count": 3,
   "id": "a42e4aee-0769-47f0-b198-e8edaea93dc7",
   "metadata": {},
   "outputs": [],
   "source": [
    "names1 = ['Ben', 'ElI', 'Ben', 'Ian', 'MIa', 'Eva', 'Ana', 'Leo',  'Tim', 'liz', 'ben', 'ana', 'ben' ]\n",
    "names2 = ['Max', 'Eli', 'Ben', 'Ian', 'Amy', 'mia', 'Eva', 'anA', 'Leo', 'Joe', 'Liz', 'max', 'iAn' ]"
   ]
  },
  {
   "cell_type": "markdown",
   "id": "1a5c5b1c-dd9d-4658-a54a-6f3801309860",
   "metadata": {},
   "source": [
    "**Solution**"
   ]
  },
  {
   "cell_type": "code",
   "execution_count": 4,
   "id": "4823363b-f658-4852-a2b2-a03870f6a06f",
   "metadata": {
    "tags": [
     "hide-cell"
    ]
   },
   "outputs": [
    {
     "name": "stdout",
     "output_type": "stream",
     "text": [
      "['Ana', 'Ben', 'Ian', 'Liz', 'Max', 'Mia']\n"
     ]
    }
   ],
   "source": [
    "names = names1 + names2\n",
    "\n",
    "remove_list = []\n",
    "\n",
    "for name in names:\n",
    "    if name[0].isupper():\n",
    "        remove_list.append(name)\n",
    "        \n",
    "names_set = set(names) - set(remove_list)\n",
    "\n",
    "names_cap = [i.capitalize() for i in names_set]\n",
    "\n",
    "names_cap = list(set(names_cap))\n",
    "\n",
    "names_cap.sort()\n",
    "\n",
    "print(names_cap)\n"
   ]
  },
  {
   "cell_type": "code",
   "execution_count": null,
   "id": "0fc56a96-0de3-4149-82fc-b5e732da737c",
   "metadata": {},
   "outputs": [],
   "source": []
  }
 ],
 "metadata": {
  "celltoolbar": "Tags",
  "hide_input": false,
  "kernelspec": {
   "display_name": "Python 3 (ipykernel)",
   "language": "python",
   "name": "python3"
  },
  "language_info": {
   "codemirror_mode": {
    "name": "ipython",
    "version": 3
   },
   "file_extension": ".py",
   "mimetype": "text/x-python",
   "name": "python",
   "nbconvert_exporter": "python",
   "pygments_lexer": "ipython3",
   "version": "3.11.7"
  },
  "toc": {
   "base_numbering": 1,
   "nav_menu": {},
   "number_sections": true,
   "sideBar": true,
   "skip_h1_title": false,
   "title_cell": "Table of Contents",
   "title_sidebar": "Contents",
   "toc_cell": false,
   "toc_position": {},
   "toc_section_display": true,
   "toc_window_display": false
  }
 },
 "nbformat": 4,
 "nbformat_minor": 5
}