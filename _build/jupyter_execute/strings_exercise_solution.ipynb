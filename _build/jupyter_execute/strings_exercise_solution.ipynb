{
 "cells": [
  {
   "cell_type": "markdown",
   "id": "4e68494d-76ef-4888-b46d-a4d6bf6c4db3",
   "metadata": {},
   "source": [
    "# Strings Exercises and Solutions"
   ]
  },
  {
   "cell_type": "markdown",
   "id": "8dbfbd47-af8e-48b2-8302-964f7bb5eaae",
   "metadata": {},
   "source": [
    "## Question-1\n",
    "\n",
    "Write a program that prompts the user for a 6-digit positive number. Find the sum of the digits of this number without using algebraic operations other then addition.\n",
    "- Example: If the given number is 123456, then the sum of digits is 1+2+3+4+5+6=21"
   ]
  },
  {
   "cell_type": "markdown",
   "id": "f482dd41-9ff0-4196-9394-fecccd97cc21",
   "metadata": {},
   "source": [
    "**Solution**\n",
    "``` python\n",
    "number_str = input('Please enter a six digit number:')\n",
    "\n",
    "total = int(number_str[0])+int(number_str[1])+int(number_str[2])+int(number_str[3])+int(number_str[4])+int(number_str[5])\n",
    "\n",
    "print(f'The sum of digits of {number_str} is {total}.')\n",
    "```"
   ]
  },
  {
   "cell_type": "markdown",
   "id": "e0f88dae-df4b-475c-97a7-cb9a4eed6b79",
   "metadata": {},
   "source": [
    "## Question-2\n",
    "\n",
    "Write a program that prompts the user for a 4-digit positive number. Swap the first two digits of the given number with the last two digits and print it.\n",
    "- Avoid using algebraic operations and instead use string indexing.\n",
    "- Example 1: If the given number is 1234, then print 3412.\n",
    "    - Print format: 1234 ---- swap---> 3412\n",
    "- Example 2: If the given number is 6789, then print 8967.\n",
    "    - Print format: 6789 ---- swap---> 8967"
   ]
  },
  {
   "cell_type": "markdown",
   "id": "06ab057c-4cb5-47d5-ad1b-f63cdba4ac48",
   "metadata": {},
   "source": [
    "**Solution**\n",
    "``` python\n",
    "number_str = input('Please enter a four digit number:')\n",
    "\n",
    "first_two_digit = number_str[:2]\n",
    "last_two_digit  = number_str[2:]\n",
    "\n",
    "result_str = last_two_digit + first_two_digit\n",
    "\n",
    "print(number_str, '---- swap --->',result_str )\n",
    "```"
   ]
  },
  {
   "cell_type": "markdown",
   "id": "4c5d60e2-3d4b-474a-a719-c3620faa6504",
   "metadata": {},
   "source": [
    "## Question-3\n",
    "\n",
    "Use the three variables provided below to construct the string 'XFoas'\n",
    "\n",
    "```python\n",
    "x, y, z = 'fLoRida', 'tExaS', 'aRizOna'\n",
    "```\n",
    "**Solution**"
   ]
  },
  {
   "cell_type": "code",
   "execution_count": 1,
   "id": "5b228121-1b09-4a18-9e15-28954dc9bf46",
   "metadata": {},
   "outputs": [
    {
     "name": "stdout",
     "output_type": "stream",
     "text": [
      "XFoas\n"
     ]
    }
   ],
   "source": [
    "x, y, z = 'fLoRida', 'tExaS', 'aRizOna'\n",
    "result_str = y[2].upper() + x[0].upper() + x[2] + y[-2:].lower()\n",
    "print(result_str)"
   ]
  },
  {
   "cell_type": "markdown",
   "id": "da6c0414-af02-4fd3-89fc-f7b4301f6d5b",
   "metadata": {},
   "source": [
    "## Question-4\n",
    "Extract the height of the first player using the provided player information.\n",
    "\n",
    "If you change the variable name from player1_info to player2_info in your code, you should obtain the height of the second player.\n",
    "\n",
    "```python\n",
    "player1_info = 'robert_brown,Height:1.834cM,Weight:75.25kg'\n",
    "player2_info = 'richard_smith,heighT:1.92cm,Weight:98.65kg'\n",
    "```\n",
    "**Solution**"
   ]
  },
  {
   "cell_type": "code",
   "execution_count": 2,
   "id": "7c170e9d-6b50-4984-9798-96ce8512b43c",
   "metadata": {},
   "outputs": [],
   "source": [
    "player1_info = 'robert_brown,Height:1.834cM,Weight:75.25kg'\n",
    "player2_info = 'richard_smith,heighT:1.92cm,Weight:98.65kg'"
   ]
  },
  {
   "cell_type": "code",
   "execution_count": 3,
   "id": "8585fe4d-faa4-45a4-a822-fb6bff3910e6",
   "metadata": {},
   "outputs": [
    {
     "name": "stdout",
     "output_type": "stream",
     "text": [
      "1.834\n"
     ]
    }
   ],
   "source": [
    "index_col = player1_info.find(':')\n",
    "index_comma = player1_info.find(',', index_col)\n",
    "height = player1_info[index_col+1:index_comma-2]\n",
    "print(f'{height}')"
   ]
  },
  {
   "cell_type": "code",
   "execution_count": 4,
   "id": "e027366a-77c6-411b-89b3-c02475f2530d",
   "metadata": {},
   "outputs": [
    {
     "name": "stdout",
     "output_type": "stream",
     "text": [
      "1.92\n"
     ]
    }
   ],
   "source": [
    "index_col = player2_info.find(':')\n",
    "index_comma = player2_info.find(',', index_col)\n",
    "height = player2_info[index_col+1:index_comma-2]\n",
    "print(f'{height}')"
   ]
  },
  {
   "cell_type": "markdown",
   "id": "ec366dcc-33a4-4b81-941b-223fa9ecd38d",
   "metadata": {},
   "source": [
    "## Question-5\n",
    "Display the following house by using the repetition of strings.\n",
    "\n",
    "![](pict/house_star.png)\n",
    "\n",
    "**Solution**"
   ]
  },
  {
   "cell_type": "code",
   "execution_count": 5,
   "id": "c09d24f1-419f-414e-babe-d2cf8198493c",
   "metadata": {},
   "outputs": [
    {
     "name": "stdout",
     "output_type": "stream",
     "text": [
      "     *\n",
      "    * *\n",
      "   *   *\n",
      "  *     *\n",
      " *       *\n",
      "* * * * * * \n",
      "*         *\n",
      "*         *\n",
      "*         *\n",
      "*         *\n",
      "*         *\n",
      "* * * * * * \n"
     ]
    }
   ],
   "source": [
    "N = 5\n",
    "space, star = ' ', '*' \n",
    "print(     N*space + star)\n",
    "print( (N-1)*space + star + 1*space + star )\n",
    "print( (N-2)*space + star + 3*space + star )\n",
    "print( (N-3)*space + star + 5*space + star )\n",
    "print( (N-4)*space + star + 7*space + star )\n",
    "print((N+1)*(star+space))\n",
    "print( star + (2*N-1)*space +star   )\n",
    "print( star + (2*N-1)*space +star   )\n",
    "print( star + (2*N-1)*space +star   )\n",
    "print( star + (2*N-1)*space +star   )\n",
    "print( star + (2*N-1)*space +star   )\n",
    "print((N+1)*(star+space))"
   ]
  },
  {
   "cell_type": "markdown",
   "id": "957d4308-e4ab-4751-b367-dc5508698c93",
   "metadata": {},
   "source": [
    "## Question-6: Password\n",
    "Write a program that generates a password consisting of one random letter, punctuation, and non-zero digit.\n",
    "- Import letters, punctuations, and digits from the string module.\n",
    "- Choose random integers that can be an index for a letter, punctuation, or digit."
   ]
  },
  {
   "cell_type": "code",
   "execution_count": 6,
   "id": "8eae9f46-8aad-4395-91c0-9fea20102058",
   "metadata": {},
   "outputs": [
    {
     "name": "stdout",
     "output_type": "stream",
     "text": [
      "Password: P>1\n"
     ]
    }
   ],
   "source": [
    "import string\n",
    "import random\n",
    "\n",
    "letters = string.ascii_letters\n",
    "digits = string.digits\n",
    "punctuations = string.punctuation\n",
    "\n",
    "random_letter_index = random.randint(0,len(letters)-1)\n",
    "random_punctuations_index = random.randint(0,len(punctuations)-1)\n",
    "random_digit_index  = random.randint(1,len(digits)-1)\n",
    "\n",
    "password = letters[random_letter_index] + punctuations[random_punctuations_index] + digits[random_digit_index]\n",
    "\n",
    "print(f'Password: {password}')"
   ]
  },
  {
   "cell_type": "markdown",
   "id": "213cab1d-c94c-48d2-b33a-9f863c3ce000",
   "metadata": {},
   "source": [
    "```{note}\n",
    "Here is a note!\n",
    "```"
   ]
  },
  {
   "cell_type": "markdown",
   "id": "f11f8273-197f-4f58-9cfe-019902456e2d",
   "metadata": {},
   "source": [
    "```{warning}\n",
    "Hello I am a warning.\n",
    "```"
   ]
  },
  {
   "cell_type": "markdown",
   "id": "5f507302-dd58-48da-a193-45ab5542810f",
   "metadata": {},
   "source": [
    "`````{admonition} This admonition was styled...\n",
    ":class: tip\n",
    "With a tip class!\n",
    "`````"
   ]
  }
 ],
 "metadata": {
  "kernelspec": {
   "display_name": "Python 3 (ipykernel)",
   "language": "python",
   "name": "python3"
  },
  "language_info": {
   "codemirror_mode": {
    "name": "ipython",
    "version": 3
   },
   "file_extension": ".py",
   "mimetype": "text/x-python",
   "name": "python",
   "nbconvert_exporter": "python",
   "pygments_lexer": "ipython3",
   "version": "3.11.7"
  }
 },
 "nbformat": 4,
 "nbformat_minor": 5
}