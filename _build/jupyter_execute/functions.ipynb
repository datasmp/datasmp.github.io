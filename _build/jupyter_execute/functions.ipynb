{
 "cells": [
  {
   "cell_type": "markdown",
   "id": "84d9563c-e910-4b64-8d08-ce6cd372fe82",
   "metadata": {},
   "source": [
    "# Chp-9: Functions"
   ]
  },
  {
   "cell_type": "markdown",
   "id": "8f2df268-b0f0-439e-9fe5-87d1225d9294",
   "metadata": {},
   "source": [
    "![](title_pict/functions.png)"
   ]
  },
  {
   "cell_type": "markdown",
   "id": "9892061a-11ab-4e80-93e9-0c76d295a631",
   "metadata": {},
   "source": [
    "## Motivation"
   ]
  },
  {
   "cell_type": "markdown",
   "id": "b6e1c2d2-f099-4632-ae38-1caa221f0809",
   "metadata": {},
   "source": [
    "We have seen the following code related to the grading scale in the Conditionals chapter. \n",
    "- It displays the corresponding letter grades according to the following chart.\n",
    "\n",
    "|Letter Grade|Grade Range|\n",
    "|:---:|:----:|\n",
    "|A| 80 - 100|\n",
    "|B| 60 -  79|\n",
    "|C| 40 -  59|\n",
    "|D| 20 -  39|\n",
    "|F|  0 -  19|\n"
   ]
  },
  {
   "cell_type": "code",
   "execution_count": 1,
   "id": "cecd8604-5f10-40b3-9a34-374d2d179602",
   "metadata": {},
   "outputs": [
    {
     "name": "stdout",
     "output_type": "stream",
     "text": [
      "Your letter grade is A\n"
     ]
    }
   ],
   "source": [
    "grade = 90\n",
    "\n",
    "if 80 <= grade <= 100:\n",
    "    print('Your letter grade is A')\n",
    "elif 60 <= grade :\n",
    "    print('Your letter grade is B')\n",
    "elif 40 <= grade :\n",
    "    print('Your letter grade is C')\n",
    "elif 20 <= grade :\n",
    "    print('Your letter grade is D')\n",
    "elif 0 <= grade :\n",
    "    print('Your letter grade is F')\n",
    "else:\n",
    "    print(f'{grade} is not a percent grade')"
   ]
  },
  {
   "cell_type": "markdown",
   "id": "b12f042c-a982-483e-8e31-d6046b5d506d",
   "metadata": {},
   "source": [
    "If you need the letter grades of more than one students in your program then you need to copy and paste this code again and again with different grade values in your program. \n",
    "- This will make your program very lengthy and hard to read.\n",
    "- Instead of this you can use a *function* which is similar to the functions in mathematics and takes. \n",
    "    - `grade` will be the input of the function and it will print the letter grade.\n",
    "- The function version as follows and displays letter grades for three students.\n",
    "\n",
    "If you need the letter grades for more than one student in your program, copying and pasting this code multiple times with different grade values will make your program very lengthy and hard to read.\n",
    "- Instead, you can use a function, similar to functions in mathematics, which takes grade as input and prints the corresponding letter grade.\n",
    "- The function version is as follows and displays letter grades for three students."
   ]
  },
  {
   "cell_type": "code",
   "execution_count": 2,
   "id": "07960cd5-51db-46dc-a87e-b5fa3d0487d5",
   "metadata": {},
   "outputs": [
    {
     "name": "stdout",
     "output_type": "stream",
     "text": [
      "Your letter grade is A\n",
      "Your letter grade is C\n",
      "Your letter grade is D\n"
     ]
    }
   ],
   "source": [
    "# this is the function named letter_grade\n",
    "def letter_grade(grade):\n",
    "    if 80 <= grade <= 100:\n",
    "        print('Your letter grade is A')\n",
    "    elif 60 <= grade :\n",
    "        print('Your letter grade is B')\n",
    "    elif 40 <= grade :\n",
    "        print('Your letter grade is C')\n",
    "    elif 20 <= grade :\n",
    "        print('Your letter grade is D')\n",
    "    elif 0 <= grade :\n",
    "        print('Your letter grade is F')\n",
    "    else:\n",
    "        print(f'{grade} is not a percent grade')    \n",
    "\n",
    "# call function\n",
    "letter_grade(80)\n",
    "letter_grade(50)\n",
    "letter_grade(30)"
   ]
  },
  {
   "cell_type": "markdown",
   "id": "46b535be-2e38-4a1f-8ff5-12e082a0013c",
   "metadata": {},
   "source": [
    "- As you can see above, you just need to call the function by its name with the input value.\n",
    "- This makes the code short and easy to read."
   ]
  },
  {
   "cell_type": "markdown",
   "id": "bbab0d07-b3ce-48d9-a104-7ebcf26fe06c",
   "metadata": {},
   "source": [
    "## Functions\n",
    "Functions are used to avoid repetitions in a program by constructing reusable code.\n",
    "- By using functions, a long code can be split into multiple functions like Lego bricks.\n",
    "- In this way, it becomes easy to read and understand the code.\n",
    "-  A function can be called in a program with its name and parameters, and functions can include print statements.\n"
   ]
  },
  {
   "cell_type": "markdown",
   "id": "0c0b75b7-f3ef-4ae1-b18f-54ff921a00b9",
   "metadata": {},
   "source": [
    "- The structure of a function is as follows:\n",
    "\n",
    "`def function_name(parameters):`  \n",
    " &emsp;&emsp; `          `    &emsp;      \n",
    " &emsp;&emsp; `BLOCK CODE`    &emsp;      \n",
    " &emsp;&emsp; `          `    &emsp;     \n",
    " &emsp;&emsp; `return return_value`\n",
    "\n",
    "\n",
    "In the structure above:\n",
    "- `def` is a keyword that initiates the construction of the function.\n",
    "- `function_name` is the name of the function used to call it.\n",
    "    - It is a good practice to choose meaningful names for functions to remember their purpose.\n",
    "- `parameters` are the comma-separated inputs of the function.\n",
    "    - A function can have no parameters, one, or more parameters.\n",
    "- `:` comes right after the parameters, indicating that the following lines will be part of the function's code block.\n",
    "- `BLOCK CODE` is a group of code with the same indentation level that will be executed with the given parameter values.\n",
    "- `return` is a keyword that terminates the function.\n",
    "- `return_value` is the output of the function.\n",
    "    - Some functions may not have a return statement.\n",
    "\n"
   ]
  },
  {
   "cell_type": "markdown",
   "id": "867cd05b-12df-45c5-afa2-0102703b7f41",
   "metadata": {},
   "source": [
    "**Example: Square Function**\n",
    "\n",
    "The following function is named $f$.\n",
    "- Its parameter is $x$ (a number).\n",
    "- It calculates the square of $x$.\n",
    "- It returs the square as its output."
   ]
  },
  {
   "cell_type": "code",
   "execution_count": 3,
   "id": "ab65531e-1e42-485b-a776-f4124f7f69be",
   "metadata": {},
   "outputs": [],
   "source": [
    "def f(x):\n",
    "  square = x**2\n",
    "  return square"
   ]
  },
  {
   "cell_type": "code",
   "execution_count": 4,
   "id": "3b360629-771c-4570-82b7-5248cb903c5f",
   "metadata": {},
   "outputs": [
    {
     "name": "stdout",
     "output_type": "stream",
     "text": [
      "9\n"
     ]
    }
   ],
   "source": [
    "# call the function for x=3\n",
    "print(f(3))"
   ]
  },
  {
   "cell_type": "code",
   "execution_count": 5,
   "id": "0c09d2b4-9617-429d-9575-92e6e13d88c7",
   "metadata": {},
   "outputs": [
    {
     "name": "stdout",
     "output_type": "stream",
     "text": [
      "25\n"
     ]
    }
   ],
   "source": [
    "# call the function for x=5\n",
    "print(f(5))"
   ]
  },
  {
   "cell_type": "markdown",
   "id": "84368c84-27e5-4045-b950-9d9a0f50c1b4",
   "metadata": {},
   "source": [
    "**Example: Area of a Rectangle**\n",
    "\n",
    "- The following function is named area_rect.\n",
    "- It has two parameters: width and height.\n",
    "- It calculates the area using the formula $Area = Width \\times Height$.\n",
    "- It returns the area as its output."
   ]
  },
  {
   "cell_type": "code",
   "execution_count": 6,
   "id": "34d1bce2-54f3-43a2-88ee-924637c5fae8",
   "metadata": {},
   "outputs": [],
   "source": [
    "def area_rect(width, length):\n",
    "  area = width*length\n",
    "  return area"
   ]
  },
  {
   "cell_type": "code",
   "execution_count": 7,
   "id": "e5c40f82-c947-475d-b9e4-71eab98bbe83",
   "metadata": {},
   "outputs": [
    {
     "name": "stdout",
     "output_type": "stream",
     "text": [
      "50\n"
     ]
    }
   ],
   "source": [
    "# call the function for width=5, height=10\n",
    "print(area_rect(5, 10))"
   ]
  },
  {
   "cell_type": "code",
   "execution_count": 8,
   "id": "2d96999b-6dfc-4843-bb39-329560912a56",
   "metadata": {},
   "outputs": [
    {
     "name": "stdout",
     "output_type": "stream",
     "text": [
      "72\n"
     ]
    }
   ],
   "source": [
    "# call the function for width=8, height=9\n",
    "print(area_rect(8,9))"
   ]
  },
  {
   "cell_type": "markdown",
   "id": "395fd036-8af6-40ca-973e-566e9674e9b5",
   "metadata": {},
   "source": [
    "**Example: Area  and Perimeter of a Circle**\n",
    "\n",
    "- The following function is named circle_area_perimeter.\n",
    "- It has one parameter: radius.\n",
    "- It calculates the area and perimeter of a circle with radius $r$ using the formulas: $area = \\pi r^2$ and $perimeter = 2\\pi r$.\n",
    "- The calculated area and perimeter are rounded to the nearest hundredths.\n",
    "- The function returns the tuple (area, perimeter) as its output."
   ]
  },
  {
   "cell_type": "code",
   "execution_count": 9,
   "id": "ff0d4b2b-462e-4656-95ba-a0794865c043",
   "metadata": {},
   "outputs": [],
   "source": [
    "import math\n",
    "\n",
    "def circle_area_perimeter(radius):\n",
    "  area = math.pi*radius**2\n",
    "  perimeter = 2*math.pi*radius\n",
    "  area_round = round(area, 2)\n",
    "  perimeter_round = round(perimeter, 2)\n",
    "  return (area_round, perimeter_round)"
   ]
  },
  {
   "cell_type": "code",
   "execution_count": 10,
   "id": "5f2056be-32e2-4a57-8ce5-68c1cb54381c",
   "metadata": {},
   "outputs": [
    {
     "name": "stdout",
     "output_type": "stream",
     "text": [
      "(78.54, 31.42)\n"
     ]
    }
   ],
   "source": [
    "# call the function for radius=5\n",
    "print(circle_area_perimeter(5))"
   ]
  },
  {
   "cell_type": "code",
   "execution_count": 11,
   "id": "bc5132c7-c442-4f6a-b7d5-4756b7c03c85",
   "metadata": {},
   "outputs": [
    {
     "name": "stdout",
     "output_type": "stream",
     "text": [
      "(314.16, 62.83)\n"
     ]
    }
   ],
   "source": [
    "# call the function for radius=10\n",
    "print(circle_area_perimeter(10))"
   ]
  },
  {
   "cell_type": "markdown",
   "id": "ebcaa167-fa53-440a-80e1-28b497afce5d",
   "metadata": {},
   "source": [
    "**Example: Fahrenheit to Celcius Converter**\n",
    "\n",
    "- The following function is named conv_f_c.\n",
    "- It has one parameter: fahrenheit.\n",
    "- It calculates the equivalent Celsius value using the conversion formula: $celsius = \\frac{(fahrenheit - 32)}{1.8}$.\n",
    "- The Celsius value is rounded to the nearest hundredths.\n",
    "- The function returns the Celsius value"
   ]
  },
  {
   "cell_type": "code",
   "execution_count": 12,
   "id": "61779b73-2654-42ef-b2a0-4dcc3f911029",
   "metadata": {},
   "outputs": [],
   "source": [
    "def conv_f_c(fahrenheit):\n",
    "  celcius = (fahrenheit-32)/1.8\n",
    "  celcius_round = round(celcius, 2)\n",
    "  return (celcius_round)"
   ]
  },
  {
   "cell_type": "code",
   "execution_count": 13,
   "id": "eb8412ff-e90e-4d52-9e2a-0eae508ee445",
   "metadata": {},
   "outputs": [
    {
     "name": "stdout",
     "output_type": "stream",
     "text": [
      "37.78\n"
     ]
    }
   ],
   "source": [
    "# call the function for fahrenheit=100\n",
    "print(conv_f_c(100))"
   ]
  },
  {
   "cell_type": "code",
   "execution_count": 14,
   "id": "cb551327-0288-4068-b9f7-e260db816a4c",
   "metadata": {},
   "outputs": [
    {
     "name": "stdout",
     "output_type": "stream",
     "text": [
      "-6.67\n"
     ]
    }
   ],
   "source": [
    "# call the function for fahrenheit=20\n",
    "print(conv_f_c(20))"
   ]
  },
  {
   "cell_type": "markdown",
   "id": "e00548d5-34ed-4bcd-a63f-f0015db344aa",
   "metadata": {},
   "source": [
    "### No return statement\n",
    "\n",
    "- It is possible to have functions with no return statement.\n",
    "- Such functions usually include print statements."
   ]
  },
  {
   "cell_type": "markdown",
   "id": "072413ad-531c-4e32-b3e6-b8fc5dd2f574",
   "metadata": {},
   "source": [
    "- The following function takes a name as its input and then prompts for the age."
   ]
  },
  {
   "cell_type": "code",
   "execution_count": 15,
   "id": "b507a559-e188-4ad6-b7bf-1abf1d0cea5f",
   "metadata": {},
   "outputs": [],
   "source": [
    "def age(name):\n",
    "  print(f'How old are you {name}?')"
   ]
  },
  {
   "cell_type": "code",
   "execution_count": 16,
   "id": "ae8d40bb-26ce-4050-813a-7f6554f25374",
   "metadata": {},
   "outputs": [
    {
     "name": "stdout",
     "output_type": "stream",
     "text": [
      "How old are you Arthur?\n"
     ]
    }
   ],
   "source": [
    "age('Arthur')"
   ]
  },
  {
   "cell_type": "markdown",
   "id": "b3fbf79e-eba6-4cf6-9bda-9920e588df5b",
   "metadata": {},
   "source": [
    "\n",
    "- If you run the following code:\n",
    "    - The print statement will be executed.\n",
    "    - Since there is no return statement, no value will be returned, and x will be of type *NoneType*."
   ]
  },
  {
   "cell_type": "code",
   "execution_count": 17,
   "id": "aa52c553-0d4e-445a-b2a9-fd683bf57910",
   "metadata": {},
   "outputs": [
    {
     "name": "stdout",
     "output_type": "stream",
     "text": [
      "How old are you Arthur?\n"
     ]
    }
   ],
   "source": [
    "x = age('Arthur')"
   ]
  },
  {
   "cell_type": "code",
   "execution_count": 18,
   "id": "497539e6-f6b3-415c-82ab-7b8aa7fd112f",
   "metadata": {},
   "outputs": [
    {
     "name": "stdout",
     "output_type": "stream",
     "text": [
      "None\n"
     ]
    }
   ],
   "source": [
    "print(x)"
   ]
  },
  {
   "cell_type": "code",
   "execution_count": 19,
   "id": "d2bd3d3c-d79f-49e6-a894-d35c2717a4c9",
   "metadata": {},
   "outputs": [
    {
     "name": "stdout",
     "output_type": "stream",
     "text": [
      "<class 'NoneType'>\n"
     ]
    }
   ],
   "source": [
    "print(type(x))"
   ]
  },
  {
   "cell_type": "markdown",
   "id": "1e52ffbe-9a0f-4802-bdbb-a217d25b0b7a",
   "metadata": {},
   "source": [
    "### No parameters \n",
    "- It is possible for a function to have no parameters."
   ]
  },
  {
   "cell_type": "code",
   "execution_count": 20,
   "id": "b1295324-3cff-4368-8358-f4748628b489",
   "metadata": {},
   "outputs": [],
   "source": [
    "def welcome():\n",
    "    greeting = '''Good morning everyone,\n",
    "I hope you are all doing well. It's a great pleasure for me to weilcome all of you to today's meeting. \n",
    "We have a very busy schedule today. Let's start working on each subject one by one. Thank you for being here!'''\n",
    "    return greeting"
   ]
  },
  {
   "cell_type": "code",
   "execution_count": 21,
   "id": "b2680d29-339b-4c96-8d6d-9e370423344d",
   "metadata": {},
   "outputs": [
    {
     "name": "stdout",
     "output_type": "stream",
     "text": [
      "Good morning everyone,\n",
      "I hope you are all doing well. It's a great pleasure for me to weilcome all of you to today's meeting. \n",
      "We have a very busy schedule today. Let's start working on each subject one by one. Thank you for being here!\n"
     ]
    }
   ],
   "source": [
    "print(welcome())"
   ]
  },
  {
   "cell_type": "markdown",
   "id": "e779b580-65fb-4313-b8c2-d51fdc240dbc",
   "metadata": {},
   "source": [
    "### Default parameter values\n",
    "\n",
    "If no value is given to the parameter, the default value will be used. \n",
    "- Default values are typically assigned to parameters that are not frequently used or have a common default value.\n",
    "- Non-default parameters should precede default parameters."
   ]
  },
  {
   "cell_type": "code",
   "execution_count": 22,
   "id": "5db116e2-ab79-478b-b595-656e3aec3ffe",
   "metadata": {},
   "outputs": [],
   "source": [
    "# course parameter has a default value\n",
    "\n",
    "def student_report(name, grade, course='Math'):\n",
    "  print(f'{course} grade of {name} is {grade}.')"
   ]
  },
  {
   "cell_type": "code",
   "execution_count": 23,
   "id": "0f1b9b86-50d5-4e86-89d1-19618a392e68",
   "metadata": {},
   "outputs": [
    {
     "name": "stdout",
     "output_type": "stream",
     "text": [
      "CS grade of Michael is 87.\n"
     ]
    }
   ],
   "source": [
    "# call student_report of Michael for CS \n",
    "\n",
    "student_report('Michael', 87, 'CS')"
   ]
  },
  {
   "cell_type": "code",
   "execution_count": 24,
   "id": "d865cd97-9d7f-432b-804b-e6c99a198d4e",
   "metadata": {},
   "outputs": [
    {
     "name": "stdout",
     "output_type": "stream",
     "text": [
      "Math grade of Michael is 87.\n"
     ]
    }
   ],
   "source": [
    "# course value is not given so default value='Math' is used\n",
    "\n",
    "student_report('Michael', 87)"
   ]
  },
  {
   "cell_type": "markdown",
   "id": "7b15d584-b886-4c7b-8603-236c897de5e2",
   "metadata": {},
   "source": [
    "```python\n",
    "# ERROR: Default parameter course cannot come before non-default parameter grade\n",
    "\n",
    "def student_report(name, course='Math', grade):\n",
    "  print(f'{course} grade of {name} is {grade}.')\n",
    "```"
   ]
  },
  {
   "cell_type": "markdown",
   "id": "3ed544a2-ad1d-4ca4-9211-027eec16b21e",
   "metadata": {},
   "source": [
    "### Local and Global Variables\n",
    "- *Local variables* are defined inside a function and can only be accessed within that function.\n",
    "- *Global variable*s are defined outside a function and can be accessed inside a function, but they cannot be modified within the function.\n",
    "    - When a global variable is called, a new local variable is used."
   ]
  },
  {
   "cell_type": "code",
   "execution_count": 25,
   "id": "b77b35e7-c2e1-4591-8c3d-1b398f8b566a",
   "metadata": {},
   "outputs": [],
   "source": [
    "a = 4     # global variable\n",
    "\n",
    "def f(x):\n",
    "    b = 5   # local variable\n",
    "    result = a+b+x\n",
    "    return result"
   ]
  },
  {
   "cell_type": "code",
   "execution_count": 26,
   "id": "7dbd3b1e-1ec2-4bfc-a930-52a63f2c3a3b",
   "metadata": {},
   "outputs": [
    {
     "name": "stdout",
     "output_type": "stream",
     "text": [
      "19\n"
     ]
    }
   ],
   "source": [
    "# call function for x=10\n",
    "print(f(10))"
   ]
  },
  {
   "cell_type": "code",
   "execution_count": 27,
   "id": "0ea5b144-daa5-4020-8cbc-a8d9bcce018f",
   "metadata": {},
   "outputs": [
    {
     "name": "stdout",
     "output_type": "stream",
     "text": [
      "4\n"
     ]
    }
   ],
   "source": [
    "# you can acces 'a' outside the function: global variable\n",
    "print(a)"
   ]
  },
  {
   "cell_type": "markdown",
   "id": "5662ec4b-c023-47b3-98e1-27995497812a",
   "metadata": {
    "scrolled": true
   },
   "source": [
    "``` python\n",
    "# ERROR: 'b' is not defined outside the function: local variable\n",
    "print(b)\n",
    "```"
   ]
  },
  {
   "cell_type": "markdown",
   "id": "1c021603-df56-4909-8284-43286380eae7",
   "metadata": {},
   "source": [
    "``` python\n",
    "# ERROR: 'result' is not defined outside the function: local variable\n",
    "print(result)\n",
    "```"
   ]
  },
  {
   "cell_type": "code",
   "execution_count": 28,
   "id": "985ec711-0bc5-4556-b5bd-4fa6cd60c0da",
   "metadata": {},
   "outputs": [],
   "source": [
    "a = 4     # global variable\n",
    "\n",
    "def f(x):\n",
    "    a = 100       # change the value of a\n",
    "    b = 5   \n",
    "    result = a+b+x\n",
    "    return result"
   ]
  },
  {
   "cell_type": "code",
   "execution_count": 29,
   "id": "a2e84a0c-c5f3-4856-b6b9-cf70b8a366d9",
   "metadata": {},
   "outputs": [
    {
     "name": "stdout",
     "output_type": "stream",
     "text": [
      "115\n"
     ]
    }
   ],
   "source": [
    "# call function for x=10\n",
    "print(f(10))   # a=100 is used "
   ]
  },
  {
   "cell_type": "code",
   "execution_count": 30,
   "id": "6d98df47-ce6d-44b1-967c-a82e76f6b622",
   "metadata": {},
   "outputs": [
    {
     "name": "stdout",
     "output_type": "stream",
     "text": [
      "4\n"
     ]
    }
   ],
   "source": [
    "# The value of 'a' outside the function has not been changed\n",
    "print(a)"
   ]
  },
  {
   "cell_type": "markdown",
   "id": "2989c087-0157-414f-b08d-b7885444bab5",
   "metadata": {},
   "source": [
    "### Examples\n",
    "####  Calculator\n",
    "Write a function whose parameters are two numbers and a string (operation)\n",
    "- Operations are given as strings in the form of `'+', '*', '/', '-'`\n",
    "- By using the given numbers and operation find `number1 operation number2`\n",
    "- If the operation is division second parameter (denominator) can not be zero and display a warning message.\n",
    "- If the operation is not one of the four operations given above display a warning mesage."
   ]
  },
  {
   "cell_type": "code",
   "execution_count": 31,
   "id": "4f7f40ae-ea20-4e9f-b9ee-166f9cab972c",
   "metadata": {},
   "outputs": [],
   "source": [
    "def calculator(number1, number2, operation):\n",
    "    \n",
    "  if operation == '+':\n",
    "    return number1 + number2\n",
    "  elif operation == '-':\n",
    "    return number1 - number2\n",
    "  elif operation == '*':\n",
    "    return number1 * number2\n",
    "  elif operation == '/':\n",
    "    if number2 == 0:\n",
    "      print('Warning: zero division')\n",
    "    else:\n",
    "      return number1/number2\n",
    "  else:\n",
    "    print(f'{operation} is not an available operation.')"
   ]
  },
  {
   "cell_type": "code",
   "execution_count": 32,
   "id": "ebdad7d4-22c2-49ff-b441-6c933b08bf36",
   "metadata": {},
   "outputs": [
    {
     "name": "stdout",
     "output_type": "stream",
     "text": [
      "9\n"
     ]
    }
   ],
   "source": [
    "# addition\n",
    "print(calculator(7,2,'+'))"
   ]
  },
  {
   "cell_type": "code",
   "execution_count": 33,
   "id": "2d3f85c8-1268-4f64-a154-331793153925",
   "metadata": {},
   "outputs": [
    {
     "name": "stdout",
     "output_type": "stream",
     "text": [
      "5\n"
     ]
    }
   ],
   "source": [
    "# subtraction\n",
    "print(calculator(7,2,'-'))"
   ]
  },
  {
   "cell_type": "code",
   "execution_count": 34,
   "id": "1ea122df-50fb-4fac-a3f4-4ac9902a5a8d",
   "metadata": {},
   "outputs": [
    {
     "name": "stdout",
     "output_type": "stream",
     "text": [
      "14\n"
     ]
    }
   ],
   "source": [
    "# multiplication\n",
    "print(calculator(7,2,'*'))"
   ]
  },
  {
   "cell_type": "code",
   "execution_count": 35,
   "id": "c28e5b69-a4cd-4ec8-a89b-a59d7e695ff1",
   "metadata": {},
   "outputs": [
    {
     "name": "stdout",
     "output_type": "stream",
     "text": [
      "3.5\n"
     ]
    }
   ],
   "source": [
    "# division\n",
    "print(calculator(7,2,'/'))"
   ]
  },
  {
   "cell_type": "code",
   "execution_count": 36,
   "id": "36c740e3-94f8-46c8-8bf5-6407274366ad",
   "metadata": {},
   "outputs": [
    {
     "name": "stdout",
     "output_type": "stream",
     "text": [
      "Warning: zero division\n"
     ]
    }
   ],
   "source": [
    "# division by zero\n",
    "calculator(7,0,'/')"
   ]
  },
  {
   "cell_type": "code",
   "execution_count": 37,
   "id": "304eb989-6e06-4fb1-872a-32ea2a6a0c66",
   "metadata": {},
   "outputs": [
    {
     "name": "stdout",
     "output_type": "stream",
     "text": [
      "% is not an available operation.\n"
     ]
    }
   ],
   "source": [
    "# inappropriate operation\n",
    "calculator(7,3,'%')"
   ]
  },
  {
   "cell_type": "code",
   "execution_count": null,
   "id": "1b38659d-6693-4cd6-8346-ca73df36f5f3",
   "metadata": {},
   "outputs": [],
   "source": []
  },
  {
   "cell_type": "code",
   "execution_count": null,
   "id": "271c63b6-42aa-4ec7-b904-c98bcdc42b04",
   "metadata": {},
   "outputs": [],
   "source": []
  },
  {
   "cell_type": "code",
   "execution_count": null,
   "id": "6073aa0b-f44e-4408-b5b4-032554bed4ca",
   "metadata": {},
   "outputs": [],
   "source": []
  },
  {
   "cell_type": "code",
   "execution_count": null,
   "id": "c21b2ce0-4235-4b83-96c5-1c19b123305e",
   "metadata": {},
   "outputs": [],
   "source": []
  }
 ],
 "metadata": {
  "kernelspec": {
   "display_name": "Python 3 (ipykernel)",
   "language": "python",
   "name": "python3"
  },
  "language_info": {
   "codemirror_mode": {
    "name": "ipython",
    "version": 3
   },
   "file_extension": ".py",
   "mimetype": "text/x-python",
   "name": "python",
   "nbconvert_exporter": "python",
   "pygments_lexer": "ipython3",
   "version": "3.11.7"
  }
 },
 "nbformat": 4,
 "nbformat_minor": 5
}