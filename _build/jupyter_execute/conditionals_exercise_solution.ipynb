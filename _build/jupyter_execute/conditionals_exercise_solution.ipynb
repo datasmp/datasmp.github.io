{
 "cells": [
  {
   "cell_type": "markdown",
   "id": "4e78bee9-89c6-4996-bf66-cf1208e0053c",
   "metadata": {},
   "source": [
    "# Conditionals Exercises and Solutions"
   ]
  },
  {
   "cell_type": "markdown",
   "id": "dba324fe-e393-441c-8499-487d6d2c65f9",
   "metadata": {},
   "source": [
    "# Question-1\n",
    "Prompt the user to enter a five-digit number and calculate the count of even digits.\n",
    "- Do not use loops.\n",
    "\n",
    "Sample output:  \n",
    "Please enter a five digit number: 12345  \n",
    "There are 2 even digits in 12345.\n",
    "\n",
    "**Solution**"
   ]
  },
  {
   "cell_type": "markdown",
   "id": "5ec0531b-6cb0-4685-9a4d-15b220c3c56c",
   "metadata": {},
   "source": [
    "``` python\n",
    "number = input('Please enter a five digit number:')\n",
    "count_even = 0\n",
    "\n",
    "if int(number[0])%2==0: count_even += 1\n",
    "if int(number[1])%2==0: count_even += 1\n",
    "if int(number[2])%2==0: count_even += 1\n",
    "if int(number[3])%2==0: count_even += 1\n",
    "if int(number[4])%2==0: count_even += 1\n",
    "\n",
    "print(f'There are {count_even} even digits in {number}.')"
   ]
  },
  {
   "cell_type": "markdown",
   "id": "abee1681-8fb2-4567-bf27-9cdea8f426cb",
   "metadata": {},
   "source": [
    "# Question-2\n",
    "The following code returns the week day of today as a number. (0 is Monday, 1 is Tuesday, ....) \n",
    "\n",
    "``` python\n",
    "from datetime import datetime\n",
    "datetime.now().weekday()\n",
    "```\n",
    "\n",
    "- Prompt the user to enter a weekday (Monday, Tuesday,...).\n",
    "- Verify whether today is the weekday given by the user. (not case-sensitive)\n",
    "- Do not use loops or lists.\n",
    "\n",
    "Sample output:    \n",
    "Please enter a weekday: ThursdaY  \n",
    "Today is not Thursday.  \n",
    "\n",
    "Please enter a weekday: wedNESday  \n",
    "Today is Wednesday.  \n",
    "\n",
    "Please enter a weekday: wed  \n",
    "Warning!!! Please enter the day in the correct form.  \n",
    "\n",
    "**Solution**"
   ]
  },
  {
   "cell_type": "markdown",
   "id": "3f77e726-e049-4ae6-91ed-725d7f1b9315",
   "metadata": {},
   "source": [
    "``` python\n",
    "\n",
    "user_day = input('Please enter a weekday:').lower()\n",
    "\n",
    "if user_day=='monday': user_day_number = 0\n",
    "elif user_day=='tuesday': user_day_number = 1\n",
    "elif user_day=='wednesday': user_day_number = 2\n",
    "elif user_day=='thursday': user_day_number = 3\n",
    "elif user_day=='friday': user_day_number = 4\n",
    "elif user_day=='saturday': user_day_number = 5\n",
    "elif user_day=='sunday': user_day_number = 6\n",
    "else: \n",
    "    print('Warning!!! Please enter the day in the correct form.')\n",
    "    user_day_number = 'DNE'\n",
    "    \n",
    "from datetime import datetime\n",
    "weekday_number = datetime.now().weekday()\n",
    "\n",
    "if user_day_number != 'DNE':\n",
    "    if weekday_number == user_day_number :\n",
    "        print(user_day_number)\n",
    "        print(f'Today is {user_day.capitalize()}.')\n",
    "    else:\n",
    "        print(f'Today is not {user_day.capitalize()}.')"
   ]
  },
  {
   "cell_type": "markdown",
   "id": "0cd8fa1f-a165-4ebb-ae09-58ac8f056901",
   "metadata": {},
   "source": [
    "# Question-3\n",
    "\n",
    "Use a single input() function to prompt the user to enter the coordinates of a theater in the format (x,y).\n",
    "- Assume the user's house coordinates are (3,4).\n",
    "- Calculate the distance between the house and the theater using the distance formula.\n",
    "- If the distance is less than 5 units, the user will go to the theater; otherwise, the user will stay at home.\n",
    "- Display the conclusion based on the provided theater location. \n",
    "\n",
    "The distance between two points $P=(x_1,y_1)$ and $Q=(x_2,y_2)$ is given by the following distance formula:  \n",
    "- $\\displaystyle dist(P,Q) = \\sqrt{(x_2-x_1)^2+(y_2-y_1)^2}$\n",
    "\n",
    "Sample Output:  \n",
    "Enter the coordinates of the theater in the form of (x,y): (2,10)  \n",
    "The theater is too far. Stay at home."
   ]
  },
  {
   "cell_type": "markdown",
   "id": "6c22ce66-b94c-4c73-9d64-6084ec73eaaa",
   "metadata": {},
   "source": [
    "``` python\n",
    "\n",
    "import math\n",
    "\n",
    "coordinates = input('Enter the coordinates of the theather in the form of (x,y):')\n",
    "index_comma = coordinates.find(',')\n",
    "\n",
    "x = float(coordinates[1:index_comma])\n",
    "y = float(coordinates[index_comma+1:-1])\n",
    "\n",
    "distance = math.sqrt( (x-3)**2+(y-4)**2 )\n",
    "\n",
    "if distance < 5:\n",
    "    print('You can go to the theather.')\n",
    "else:\n",
    "    print('The theather is too far. Stay at home.')"
   ]
  },
  {
   "cell_type": "markdown",
   "id": "6552ff6f-2961-4757-98c5-ca2467b9fb23",
   "metadata": {},
   "source": [
    "# Question-4\n",
    "Prompt the user to enter a word.\n",
    "- If the given word has an odd length, print the middle character. Otherwise, print the middle two characters\n",
    "\n",
    "Sample output:    \n",
    "Enter a word: abcdef  \n",
    "Middle characters: cd  \n",
    "\n",
    "Enter a word: abcdefg  \n",
    "Middle character: d  \n",
    "\n",
    "\n",
    "**Solution**"
   ]
  },
  {
   "cell_type": "markdown",
   "id": "b6f6cf7b-d87d-4bfa-8c1c-e49929ea092e",
   "metadata": {},
   "source": [
    "``` python\n",
    "\n",
    "word = input('Enter a word:')\n",
    "if len(word)%2==0:\n",
    "    print('Middle characters:', word[int(len(word)/2)-1:int(len(word)/2)+1])\n",
    "else:\n",
    "    print('Middle character:', word[int(len(word)/2)])"
   ]
  },
  {
   "cell_type": "markdown",
   "id": "f62f7bf7-3f4b-45b0-a769-041cc5c831d7",
   "metadata": {},
   "source": [
    "# Question-5\n",
    "\n",
    "Prompt the user to choose a password that satisfies the following conditions:\n",
    "- The first character must be a digit.\n",
    "- The last character must be a punctuation mark.\n",
    "- The length of the password must be at least 5 characters.\n",
    "Print whether the given password is acceptable.\n",
    "\n",
    "Sample output:       \n",
    "Choose a password: 123.    \n",
    "The password 123. is NOT acceptable.    \n",
    "\n",
    "Choose a password: abcdef,  \n",
    "The password abcdef, is NOT acceptable.  \n",
    "\n",
    "Choose a password: 2werqt,  \n",
    "The password 2werqt, is acceptable.  \n",
    "\n",
    "**Solution**"
   ]
  },
  {
   "cell_type": "markdown",
   "id": "d9d11b28-2b42-4763-b00d-9c6dbbf78cf3",
   "metadata": {},
   "source": [
    "``` python\n",
    "\n",
    "import string\n",
    "\n",
    "password = input('Choose a password:')\n",
    "\n",
    "if password[0].isdigit() and (password[-1] in string.punctuation) and len(password)>=5:\n",
    "    print(f'The password {password} is acceptable.')\n",
    "else:\n",
    "    print(f'The password {password} is NOT acceptable.')"
   ]
  },
  {
   "cell_type": "markdown",
   "id": "ccb2007c-3b1f-4a40-bd0c-a21c8c6bed61",
   "metadata": {},
   "source": [
    "# Question-6\n",
    "\n",
    "Prompt the user to choose a number between 1 and 6, including these numbers.\n",
    "- Roll a die (choose a random number between 1 and 6).\n",
    "- Check whether the user's guess is correct.\n",
    "\n",
    "Sample Output:  \n",
    "Guess the number on the die: 9\n",
    "Please enter a valid number.  \n",
    "\n",
    "Guess the number on the die: 5  \n",
    "Wrong!  \n",
    "\n",
    "Guess the number on the die: 2  \n",
    "Correct!\n",
    "\n",
    "\n",
    "**Solution**"
   ]
  },
  {
   "cell_type": "markdown",
   "id": "eb0776c5-9dfa-4427-9c8e-5a425173ece8",
   "metadata": {},
   "source": [
    "``` python\n",
    "\n",
    "import random\n",
    "\n",
    "guess = int(input('Guess the number on the die:'))\n",
    "\n",
    "die = random.randint(1,6)\n",
    "if guess<1 or guess>6:\n",
    "    print('Please enter a valid number.')\n",
    "else:\n",
    "    if die == guess:\n",
    "        print('Correct!')\n",
    "    else:\n",
    "        print('Wrong!')"
   ]
  },
  {
   "cell_type": "code",
   "execution_count": null,
   "id": "456ca317-9fd7-4330-8b81-c303d925d983",
   "metadata": {},
   "outputs": [],
   "source": []
  }
 ],
 "metadata": {
  "kernelspec": {
   "display_name": "Python 3 (ipykernel)",
   "language": "python",
   "name": "python3"
  },
  "language_info": {
   "codemirror_mode": {
    "name": "ipython",
    "version": 3
   },
   "file_extension": ".py",
   "mimetype": "text/x-python",
   "name": "python",
   "nbconvert_exporter": "python",
   "pygments_lexer": "ipython3",
   "version": "3.11.7"
  }
 },
 "nbformat": 4,
 "nbformat_minor": 5
}