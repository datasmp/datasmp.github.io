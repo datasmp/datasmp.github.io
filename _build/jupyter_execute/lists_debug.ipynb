{
 "cells": [
  {
   "cell_type": "markdown",
   "id": "13e18a7d",
   "metadata": {},
   "source": [
    "# Lists Debugging\n",
    "\n",
    "- Each of the following short code contains one or more bugs. &emsp;&emsp;&emsp;&emsp;\n",
    "- Please identify and correct these bugs.\n",
    "- Provide an explanation for your answer."
   ]
  },
  {
   "cell_type": "markdown",
   "id": "854437f7",
   "metadata": {},
   "source": [
    "## Question\n",
    "\n",
    "``` python\n",
    "x = ['A'  'B'  'C' 'D' 'E']\n",
    "```"
   ]
  },
  {
   "cell_type": "markdown",
   "id": "48a8af1e",
   "metadata": {},
   "source": [
    "```{admonition} Solution\n",
    ":class: toggle\n",
    "Elements must be comma-separated."
   ]
  },
  {
   "cell_type": "markdown",
   "id": "934b3a16",
   "metadata": {},
   "source": [
    "## Question\n",
    "\n",
    "``` python\n",
    "x = ['A', 'B', 'C', 'D', 'E']\n",
    "x(2)\n",
    "```"
   ]
  },
  {
   "cell_type": "markdown",
   "id": "569b11be",
   "metadata": {},
   "source": [
    "```{admonition} Solution\n",
    ":class: toggle\n",
    "Indexes must be inside square brackets. *x(2) must be *x[2]*."
   ]
  },
  {
   "cell_type": "markdown",
   "id": "3407987f",
   "metadata": {},
   "source": [
    "## Question\n",
    "\n",
    "``` python\n",
    "x = ['A', 'B', 'C', 'D', 'E']\n",
    "x[len(x)]\n",
    "```"
   ]
  },
  {
   "cell_type": "markdown",
   "id": "eeb0c3c7",
   "metadata": {},
   "source": [
    "```{admonition} Solution\n",
    ":class: toggle\n",
    "There is no element at the index *len(x)* since indexing starts from 0. The largest index is *len(x)-1*."
   ]
  },
  {
   "cell_type": "markdown",
   "id": "8e66629f",
   "metadata": {},
   "source": [
    "## Question\n",
    "\n",
    "``` python\n",
    "mylist = [['NY', 'CA', 'FL'], ('Amy', 'John', 'Ashley', 'Michael')]\n",
    "mylist[0][3]\n",
    "```"
   ]
  },
  {
   "cell_type": "markdown",
   "id": "0a74c74e-85d7-4e1b-98e3-f8e7de857861",
   "metadata": {},
   "source": [
    "```{admonition} Solution\n",
    ":class: toggle\n",
    "- mylist[0] is the index of 0 element of mylist, which is ['NY', 'CA', 'FL'].\n",
    "- mylist[0][3] is attempting to access the index 3 of ['NY', 'CA', 'FL'], but that element does not exist."
   ]
  },
  {
   "cell_type": "markdown",
   "id": "c24eb0d1-b383-49f6-9de7-cbe867c0266e",
   "metadata": {},
   "source": [
    "## Question\n",
    "\n",
    "``` python\n",
    "mylist = [['NY', 'CA', 'FL'], ('Amy', 'John', 'Ashley', 'Michael')]\n",
    "mylist[1][5]\n",
    "```"
   ]
  },
  {
   "cell_type": "markdown",
   "id": "0ba65ee5",
   "metadata": {},
   "source": [
    "```{admonition} Solution\n",
    ":class: toggle\n",
    "- mylist[1] is the index of 1 element of mylist which is ('Amy', 'John', 'Ashley', 'Michael').\n",
    "- mylist[1][5] is the index of 5 element of ('Amy', 'John', 'Ashley', 'Michael') which does not exist.\n"
   ]
  },
  {
   "cell_type": "code",
   "execution_count": null,
   "id": "d3bbaf58-b276-4a55-b386-00295794a2f4",
   "metadata": {},
   "outputs": [],
   "source": []
  }
 ],
 "metadata": {
  "hide_input": false,
  "kernelspec": {
   "display_name": "Python 3 (ipykernel)",
   "language": "python",
   "name": "python3"
  },
  "language_info": {
   "codemirror_mode": {
    "name": "ipython",
    "version": 3
   },
   "file_extension": ".py",
   "mimetype": "text/x-python",
   "name": "python",
   "nbconvert_exporter": "python",
   "pygments_lexer": "ipython3",
   "version": "3.11.7"
  },
  "toc": {
   "base_numbering": 1,
   "nav_menu": {},
   "number_sections": true,
   "sideBar": true,
   "skip_h1_title": false,
   "title_cell": "Table of Contents",
   "title_sidebar": "Contents",
   "toc_cell": false,
   "toc_position": {},
   "toc_section_display": true,
   "toc_window_display": false
  }
 },
 "nbformat": 4,
 "nbformat_minor": 5
}