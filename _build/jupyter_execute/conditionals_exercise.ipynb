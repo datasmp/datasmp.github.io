{
 "cells": [
  {
   "cell_type": "markdown",
   "id": "4e78bee9-89c6-4996-bf66-cf1208e0053c",
   "metadata": {},
   "source": [
    "# Conditionals Exercises"
   ]
  },
  {
   "cell_type": "markdown",
   "id": "dba324fe-e393-441c-8499-487d6d2c65f9",
   "metadata": {},
   "source": [
    "# Question-1\n",
    "Prompt the user to enter a five-digit number and calculate the count of even digits.\n",
    "- Do not use loops.\n",
    "\n",
    "Sample output:  \n",
    "Please enter a five digit number: 12345  \n",
    "There are 2 even digits in 12345.\n"
   ]
  },
  {
   "cell_type": "markdown",
   "id": "abee1681-8fb2-4567-bf27-9cdea8f426cb",
   "metadata": {},
   "source": [
    "# Question-2\n",
    "The following code returns the week day of today as a number. (0 is Monday, 1 is Tuesday, ....) \n",
    "\n",
    "``` python\n",
    "from datetime import datetime\n",
    "datetime.now().weekday()\n",
    "```\n",
    "\n",
    "- Prompt the user to enter a weekday (Monday, Tuesday,...).\n",
    "- Verify whether today is the weekday given by the user. (not case-sensitive)\n",
    "- Do not use loops or lists.\n",
    "\n",
    "Sample output:    \n",
    "Please enter a weekday: ThursdaY  \n",
    "Today is not Thursday.  \n",
    "\n",
    "Please enter a weekday: wedNESday  \n",
    "Today is Wednesday.  \n",
    "\n",
    "Please enter a weekday: wed  \n",
    "Warning!!! Please enter the day in the correct form.  \n"
   ]
  },
  {
   "cell_type": "markdown",
   "id": "0cd8fa1f-a165-4ebb-ae09-58ac8f056901",
   "metadata": {},
   "source": [
    "# Question-3\n",
    "\n",
    "Use a single input() function to prompt the user to enter the coordinates of a theater in the format (x,y).\n",
    "- Assume the user's house coordinates are (3,4).\n",
    "- Calculate the distance between the house and the theater using the distance formula.\n",
    "- If the distance is less than 5 units, the user will go to the theater; otherwise, the user will stay at home.\n",
    "- Display the conclusion based on the provided theater location. \n",
    "\n",
    "The distance between two points $P=(x_1,y_1)$ and $Q=(x_2,y_2)$ is given by the following distance formula:  \n",
    "- $\\displaystyle dist(P,Q) = \\sqrt{(x_2-x_1)^2+(y_2-y_1)^2}$\n",
    "\n",
    "Sample Output:  \n",
    "Enter the coordinates of the theater in the form of (x,y): (2,10)  \n",
    "The theater is too far. Stay at home."
   ]
  },
  {
   "cell_type": "markdown",
   "id": "6552ff6f-2961-4757-98c5-ca2467b9fb23",
   "metadata": {},
   "source": [
    "# Question-4\n",
    "Prompt the user to enter a word.\n",
    "- If the given word has an odd length, print the middle character. Otherwise, print the middle two characters\n",
    "\n",
    "Sample output:    \n",
    "Enter a word: abcdef  \n",
    "Middle characters: cd  \n",
    "\n",
    "Enter a word: abcdefg  \n",
    "Middle character: d  \n"
   ]
  },
  {
   "cell_type": "markdown",
   "id": "f62f7bf7-3f4b-45b0-a769-041cc5c831d7",
   "metadata": {},
   "source": [
    "# Question-5\n",
    "\n",
    "Prompt the user to choose a password that satisfies the following conditions:\n",
    "- The first character must be a digit.\n",
    "- The last character must be a punctuation mark.\n",
    "- The length of the password must be at least 5 characters.\n",
    "Print whether the given password is acceptable.\n",
    "\n",
    "Sample output:       \n",
    "Choose a password: 123.    \n",
    "The password 123. is NOT acceptable.    \n",
    "\n",
    "Choose a password: abcdef,  \n",
    "The password abcdef, is NOT acceptable.  \n",
    "\n",
    "Choose a password: 2werqt,  \n",
    "The password 2werqt, is acceptable.  \n"
   ]
  },
  {
   "cell_type": "markdown",
   "id": "ccb2007c-3b1f-4a40-bd0c-a21c8c6bed61",
   "metadata": {},
   "source": [
    "# Question-6\n",
    "\n",
    "Prompt the user to choose a number between 1 and 6, including these numbers.\n",
    "- Roll a die (choose a random number between 1 and 6).\n",
    "- Check whether the user's guess is correct.\n",
    "\n",
    "Sample Output:  \n",
    "Guess the number on the die: 9\n",
    "Please enter a valid number.  \n",
    "\n",
    "Guess the number on the die: 5  \n",
    "Wrong!  \n",
    "\n",
    "Guess the number on the die: 2  \n",
    "Correct!\n"
   ]
  },
  {
   "cell_type": "code",
   "execution_count": null,
   "id": "2a8a5230-860f-4749-a7c7-304fb6d07cf9",
   "metadata": {},
   "outputs": [],
   "source": []
  }
 ],
 "metadata": {
  "kernelspec": {
   "display_name": "Python 3 (ipykernel)",
   "language": "python",
   "name": "python3"
  },
  "language_info": {
   "codemirror_mode": {
    "name": "ipython",
    "version": 3
   },
   "file_extension": ".py",
   "mimetype": "text/x-python",
   "name": "python",
   "nbconvert_exporter": "python",
   "pygments_lexer": "ipython3",
   "version": "3.11.7"
  }
 },
 "nbformat": 4,
 "nbformat_minor": 5
}