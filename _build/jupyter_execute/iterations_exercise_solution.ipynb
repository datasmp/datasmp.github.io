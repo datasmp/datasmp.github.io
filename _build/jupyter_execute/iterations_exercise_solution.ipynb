{
 "cells": [
  {
   "cell_type": "markdown",
   "id": "bc1e3d17-baf9-4c40-9e8b-c89c141db167",
   "metadata": {},
   "source": [
    "# Iterations Exercises and Solutions"
   ]
  },
  {
   "cell_type": "markdown",
   "id": "e3538c45-0c1d-4cc5-9184-8506051d91b0",
   "metadata": {},
   "source": [
    "## Question\n",
    "\n",
    "**Solution**"
   ]
  },
  {
   "cell_type": "code",
   "execution_count": null,
   "id": "a4d32aff-6e67-4304-b5d1-2983bb586042",
   "metadata": {},
   "outputs": [],
   "source": []
  },
  {
   "cell_type": "code",
   "execution_count": null,
   "id": "f255e9e5-db0e-43f8-9be2-ff6036a03fa7",
   "metadata": {},
   "outputs": [],
   "source": []
  }
 ],
 "metadata": {
  "kernelspec": {
   "display_name": "Python 3 (ipykernel)",
   "language": "python",
   "name": "python3"
  },
  "language_info": {
   "codemirror_mode": {
    "name": "ipython",
    "version": 3
   },
   "file_extension": ".py",
   "mimetype": "text/x-python",
   "name": "python",
   "nbconvert_exporter": "python",
   "pygments_lexer": "ipython3",
   "version": "3.11.7"
  }
 },
 "nbformat": 4,
 "nbformat_minor": 5
}