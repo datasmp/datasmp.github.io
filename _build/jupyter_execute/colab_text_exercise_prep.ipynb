{
 "cells": [
  {
   "cell_type": "markdown",
   "id": "b0df2ed5-d977-4130-95b9-c4904c19ef06",
   "metadata": {},
   "source": [
    "# My Life\n",
    "I am 25 years old. *I am from Spain. I have been to the following cities in Italy, during the following years and months*\n",
    "***\n",
    "Europe\n",
    "- Italy\n",
    "    - Milan\n",
    "        - 1993\n",
    "            - March\n",
    "            - April\n",
    "        - 1994\n",
    "            - January\n",
    "            - June\n",
    "            - July\n",
    "    - Rome\n",
    "        1. 1990\n",
    "            - September\n",
    "            - October\n",
    "        4. 1990\n",
    "            - August \n",
    "***\n",
    "I worked as an **engineer** in large companies including `Siemens`."
   ]
  },
  {
   "cell_type": "markdown",
   "id": "27daf839-657b-4c49-a137-43e86edc6193",
   "metadata": {},
   "source": [
    "<center> Education </center>\n",
    "\n",
    "<font color=red size=30> I have a BS degree in computer science. </font>\n",
    "\n",
    "> I want to have a master degree in data science soon.\n",
    "\n",
    "This table shows my graduation years and locations.\n",
    "\n",
    "|School\t| Graduation Date | Country|  \n",
    "| --- | --- | --- |  \n",
    "| Elementary | 1970 | Spain |  \n",
    "| Middle | 1973 | Spain |\n",
    "| High | 1977 | Italy | \n",
    "| College | 1981 | Germany| "
   ]
  },
  {
   "cell_type": "code",
   "execution_count": null,
   "id": "af722ef0-7942-46a7-ac3e-c5432da4c018",
   "metadata": {},
   "outputs": [],
   "source": []
  }
 ],
 "metadata": {
  "kernelspec": {
   "display_name": "Python 3 (ipykernel)",
   "language": "python",
   "name": "python3"
  },
  "language_info": {
   "codemirror_mode": {
    "name": "ipython",
    "version": 3
   },
   "file_extension": ".py",
   "mimetype": "text/x-python",
   "name": "python",
   "nbconvert_exporter": "python",
   "pygments_lexer": "ipython3",
   "version": "3.11.7"
  }
 },
 "nbformat": 4,
 "nbformat_minor": 5
}