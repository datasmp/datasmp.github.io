{
 "cells": [
  {
   "cell_type": "markdown",
   "id": "14cd5892-4039-42ca-9f0f-3011be0771bf",
   "metadata": {},
   "source": [
    "# Chp-7: Tuples and Lists\n",
    "\n",
    "-  Learning Objectives\n",
    "    - ..\n",
    "    - .."
   ]
  },
  {
   "cell_type": "markdown",
   "id": "5f2c481a-bead-40ac-aaae-c2e6306da583",
   "metadata": {},
   "source": [
    "## Data Structures\n",
    "Data structures are used to store data. We have already seen some of them including integers, floats, strings and booleans.\n",
    "- By using these structures only one value can be stored. \n",
    "    - $3$ is an integer and it is only a single value.\n",
    "    - $3.14$ is a float with a single value.\n",
    "    - A string can be very long (have many characters) but still it is single value like *'Hello'*.\n",
    "    - Boolean values are either *True* or *False* which are again single values.\n",
    "- Integers, floats, strings and booleans are examples of `Primitive Data Structures` which means they can store only one value.\n",
    "\n",
    "In Python, there are many more complicated data structures called `Imprimitive Data Structures` which can store more than one valeues with mixed types and  have variuos functionalties including indexing. In this chapter, the imprimitive data structures `Tuples` and `Lists` will be covered. "
   ]
  },
  {
   "cell_type": "markdown",
   "id": "24ffa22b-089a-4742-b9ad-a675e441c013",
   "metadata": {},
   "source": [
    "- Data structures\n",
    "    1. Primitive\n",
    "        - Integers\n",
    "        - Floats\n",
    "        - Strings\n",
    "        - Booleans\n",
    "    2. Impritive\n",
    "        - Tuples\n",
    "        - Lists\n",
    "        - Sets\n",
    "        - Arrays\n",
    "        - Dictionaries"
   ]
  },
  {
   "cell_type": "markdown",
   "id": "10b0c183-0f75-4183-8ea8-22d70bd18794",
   "metadata": {},
   "source": [
    "## Tuples\n",
    "These are ordered sequence of values of mixed types. \n",
    "- Since a `tuple` is *ordered*, which means order is important.\n",
    "    - $1,2$ and $2,1$ are different.\n",
    "    - Since there is an order indexing also works for tuples.\n",
    "        - Indexing of `tuples` is very simialr to strings. \n",
    "- Values in a `tuple` can be mixed types.\n",
    "    - integers, floats, strings, booleans, tuples, lists can be a value in a `tuple`.\n",
    "- `Tuples` are immutable (can not be modified).\n",
    "    - This is the main difference between the `tuples` and `lists`'\n",
    "    - `Lists` can be modified. \n",
    "- The built-in `tuple()` function can be used to convert an appropriate data types into a `tuple`."
   ]
  },
  {
   "cell_type": "markdown",
   "id": "b9676037-e8c2-4183-92ee-932a7ff080f4",
   "metadata": {},
   "source": [
    "### Create Tuples\n",
    "A tuple can be created by using one of the following ways: \n",
    "1. Using a comma separated sequence: `1,2,3`.\n",
    "2. Enclosed a comma separated sequence by parantheses: `(1,2,3)`.\n",
    "3. Using the built in `tuple()` function: `tuple(1,2,3)`.\n",
    "\n",
    "- `()` is an empty tuple.\n",
    "- If a tuple has only one value then a comma should be added right after that single value.\n",
    "    - Example: `1,` or `(1,)`\n",
    "    - **Warning:**\n",
    "        - `(1)` is the integer 1 and `(1,)` is the tuple with only one value.\n",
    "        - `1` is the integer 1 and `1,` is the tuple with only one value 1."
   ]
  },
  {
   "cell_type": "markdown",
   "id": "04517ea6-72c5-4acc-af8b-fe51ab72b287",
   "metadata": {},
   "source": [
    "**Examples**"
   ]
  },
  {
   "cell_type": "code",
   "execution_count": 1,
   "id": "c4cb9398-1a11-4f59-877c-e38ab115d2bd",
   "metadata": {},
   "outputs": [
    {
     "name": "stdout",
     "output_type": "stream",
     "text": [
      "<class 'tuple'>\n"
     ]
    }
   ],
   "source": [
    "# empty tuple\n",
    "empty_tuple = ()\n",
    "\n",
    "print(type(empty_tuple))"
   ]
  },
  {
   "cell_type": "code",
   "execution_count": 2,
   "id": "c68b8c7a-6019-427d-a5b6-c3ffdc1a9016",
   "metadata": {},
   "outputs": [
    {
     "name": "stdout",
     "output_type": "stream",
     "text": [
      "<class 'tuple'>\n"
     ]
    }
   ],
   "source": [
    "# tuple with only one value: 'USA'\n",
    "\n",
    "t = 'USA',        # no paranthesis\n",
    "print(type(t))"
   ]
  },
  {
   "cell_type": "code",
   "execution_count": 3,
   "id": "96fb7189-793d-45e8-85c8-0bd001dcb052",
   "metadata": {},
   "outputs": [
    {
     "name": "stdout",
     "output_type": "stream",
     "text": [
      "<class 'tuple'>\n"
     ]
    }
   ],
   "source": [
    "# tuple with only one value: 'USA'\n",
    "\n",
    "t = ('USA',)      # with paranthesis\n",
    "print(type(t))"
   ]
  },
  {
   "cell_type": "code",
   "execution_count": 4,
   "id": "fab6f81c-4188-4878-89a4-381b102b873e",
   "metadata": {},
   "outputs": [
    {
     "name": "stdout",
     "output_type": "stream",
     "text": [
      "<class 'int'>\n"
     ]
    }
   ],
   "source": [
    "# (1) is an integer not tuple\n",
    "\n",
    "t = (1)      \n",
    "print(type(t))"
   ]
  },
  {
   "cell_type": "code",
   "execution_count": 5,
   "id": "adaec132-a7da-4106-82b2-822a33018b76",
   "metadata": {},
   "outputs": [
    {
     "name": "stdout",
     "output_type": "stream",
     "text": [
      "<class 'str'>\n"
     ]
    }
   ],
   "source": [
    "# ('USA') is string not tuple\n",
    "\n",
    "t = ('USA')      \n",
    "print(type(t))"
   ]
  },
  {
   "cell_type": "code",
   "execution_count": 6,
   "id": "1cf4e1df-e932-472b-82a9-8d06c17bf8db",
   "metadata": {},
   "outputs": [
    {
     "name": "stdout",
     "output_type": "stream",
     "text": [
      "<class 'tuple'>\n"
     ]
    }
   ],
   "source": [
    "# tuple with mixed values: str, int, bool, float\n",
    "\n",
    "t = ('USA', 2, True, 9.123)       # with paranthesis\n",
    "print(type(t))"
   ]
  },
  {
   "cell_type": "code",
   "execution_count": 7,
   "id": "1ea480f1-7315-4fa5-99df-aaf937f005a9",
   "metadata": {},
   "outputs": [
    {
     "name": "stdout",
     "output_type": "stream",
     "text": [
      "<class 'tuple'>\n"
     ]
    }
   ],
   "source": [
    "# tuple in a tuple\n",
    "# tuple with mixed values: str, int, bool, float, tuple\n",
    "# (10,20,30) is a tuple in the tuple t.\n",
    "\n",
    "\n",
    "t = ('USA', 2, True, 9.123, (10,20,30))       # with paranthesis\n",
    "print(type(t))"
   ]
  },
  {
   "cell_type": "markdown",
   "id": "a9380e24-d5e2-46d4-82c3-27202d09147f",
   "metadata": {},
   "source": [
    "### tuple() function\n",
    "- The built-in `tuple()` function converts a string to a tuple which consists of the characters of the string as its values."
   ]
  },
  {
   "cell_type": "code",
   "execution_count": 8,
   "id": "c509bba4-a79d-4d1c-8d27-a4b6c381f08f",
   "metadata": {},
   "outputs": [
    {
     "name": "stdout",
     "output_type": "stream",
     "text": [
      "Type of t: <class 'tuple'>\n",
      "t        : ('H', 'e', 'l', 'l', 'o')\n"
     ]
    }
   ],
   "source": [
    "t = tuple('Hello')  # convert string to tuple\n",
    "\n",
    "print(f'Type of t: {type(t)}')\n",
    "print(f't        : {t}')"
   ]
  },
  {
   "cell_type": "markdown",
   "id": "80c9c0b5-fb5e-4e9b-92aa-ae7b0c9cddd0",
   "metadata": {},
   "source": [
    "- The built-in `tuple()` function converts a range to a tuple which hides a sequence of numbers in it."
   ]
  },
  {
   "cell_type": "code",
   "execution_count": 9,
   "id": "95aa019d-58b6-445e-b344-6a0169ef46fe",
   "metadata": {},
   "outputs": [
    {
     "name": "stdout",
     "output_type": "stream",
     "text": [
      "Type of r: <class 'range'>\n",
      "r        : range(2, 8)\n"
     ]
    }
   ],
   "source": [
    "r = range(2,8)    # 2,3,4,5,6,7 are  hidden in r\n",
    "\n",
    "print(f'Type of r: {type(r)}')\n",
    "print(f'r        : {r}')"
   ]
  },
  {
   "cell_type": "code",
   "execution_count": 10,
   "id": "ccb00b17-c0f0-4042-b7e8-caa7c77fdebb",
   "metadata": {},
   "outputs": [
    {
     "name": "stdout",
     "output_type": "stream",
     "text": [
      "Type of t: <class 'tuple'>\n",
      "t        : (2, 3, 4, 5, 6, 7)\n"
     ]
    }
   ],
   "source": [
    "t = tuple(r)     # convert range to tuple\n",
    "\n",
    "print(f'Type of t: {type(t)}')\n",
    "print(f't        : {t}')"
   ]
  },
  {
   "cell_type": "markdown",
   "id": "61b7c4c8-7f53-42e9-8649-1b26af6bfbae",
   "metadata": {},
   "source": [
    "### Functions on tuples\n",
    "The following functions can take a tuple as an input and returns:\n",
    "- len(): the number of elements in a tuple.\n",
    "- max(): the maximum value in a tuple.\n",
    "    - For strings dictionary order is used and max is the last string in the dictionary order.\n",
    "- min(): the minimum value in a tuple.\n",
    "    - For strings dictionary order is used and min is the first string in the dictionary order.\n",
    "- sum(): returns the sum of the elements (if they can be added) in a tuple.\n",
    "    - It does not work with strings\n",
    "    - It works for booleans: True is $1$, False is $0$"
   ]
  },
  {
   "cell_type": "markdown",
   "id": "50fcbdda-d58a-4f85-a154-5f5afd9eb28b",
   "metadata": {},
   "source": [
    "**Examples**"
   ]
  },
  {
   "cell_type": "code",
   "execution_count": 11,
   "id": "63f8051f-8ac8-487a-8ab8-195873ce0aa8",
   "metadata": {},
   "outputs": [
    {
     "name": "stdout",
     "output_type": "stream",
     "text": [
      "Length : 6\n",
      "Maximum: 9\n",
      "Minimum: 1\n",
      "Sum    : 30\n"
     ]
    }
   ],
   "source": [
    "numbers = (7,3,1,9,6,4)\n",
    "\n",
    "print(f'Length : {len(numbers)}')\n",
    "print(f'Maximum: {max(numbers)}')\n",
    "print(f'Minimum: {min(numbers)}')\n",
    "print(f'Sum    : {sum(numbers)}')"
   ]
  },
  {
   "cell_type": "code",
   "execution_count": 12,
   "id": "8aaf561f-d2b2-4c98-95de-e7688e43a40d",
   "metadata": {},
   "outputs": [
    {
     "name": "stdout",
     "output_type": "stream",
     "text": [
      "Length : 5\n",
      "Maximum: t\n",
      "Minimum: a\n"
     ]
    }
   ],
   "source": [
    "letters = ('r', 't', 'n', 'a', 'd')\n",
    "\n",
    "print(f'Length : {len(letters)}')\n",
    "print(f'Maximum: {max(letters)}')    # dictionary order\n",
    "print(f'Minimum: {min(letters)}')"
   ]
  },
  {
   "cell_type": "code",
   "execution_count": 13,
   "id": "1544501f-9a57-46d2-9681-5548baab2b76",
   "metadata": {},
   "outputs": [
    {
     "name": "stdout",
     "output_type": "stream",
     "text": [
      "Length : 7\n",
      "Maximum: 9\n",
      "Minimum: 1\n",
      "Sum    : 31\n"
     ]
    }
   ],
   "source": [
    "numbers = (7,3,1,9,6,4,True)      # True is considered as 1\n",
    "\n",
    "print(f'Length : {len(numbers)}')\n",
    "print(f'Maximum: {max(numbers)}')\n",
    "print(f'Minimum: {min(numbers)}')\n",
    "print(f'Sum    : {sum(numbers)}')"
   ]
  },
  {
   "cell_type": "code",
   "execution_count": 14,
   "id": "d865eea2-e1d4-4297-b98c-8fe8a3884536",
   "metadata": {},
   "outputs": [
    {
     "name": "stdout",
     "output_type": "stream",
     "text": [
      "Length : 8\n"
     ]
    }
   ],
   "source": [
    "t = (7,3,1,9,6,4,True, 'a')      \n",
    "\n",
    "print(f'Length : {len(t)}')    # only len() works for this tuuple"
   ]
  },
  {
   "cell_type": "markdown",
   "id": "f73e8446-bacf-4c86-a4af-5a7f9e4f2d0f",
   "metadata": {},
   "source": [
    "### Indexing and Slicing\n",
    "- It is similar to strings. "
   ]
  },
  {
   "cell_type": "code",
   "execution_count": 15,
   "id": "2f70e307-1536-4e85-ae9e-5893780296a5",
   "metadata": {},
   "outputs": [],
   "source": [
    "t = ('USA', 2, True, 9.123, 'NY', 'NJ', 100, False) "
   ]
  },
  {
   "cell_type": "markdown",
   "id": "d92cff14-9ffd-4a00-9240-7047f5b7194c",
   "metadata": {},
   "source": [
    "**Examples**"
   ]
  },
  {
   "cell_type": "code",
   "execution_count": 16,
   "id": "c59625b2-2144-4e03-aedf-7351ce3512dc",
   "metadata": {},
   "outputs": [
    {
     "name": "stdout",
     "output_type": "stream",
     "text": [
      "USA\n"
     ]
    }
   ],
   "source": [
    "# first element\n",
    "print(t[0])"
   ]
  },
  {
   "cell_type": "code",
   "execution_count": 17,
   "id": "f353dade-9c00-43ee-a24d-73d96fd818b7",
   "metadata": {},
   "outputs": [
    {
     "name": "stdout",
     "output_type": "stream",
     "text": [
      "False\n"
     ]
    }
   ],
   "source": [
    "# last element\n",
    "print(t[-1])"
   ]
  },
  {
   "cell_type": "code",
   "execution_count": 18,
   "id": "52539ed2-6673-49cf-b7c3-b849fdcfeb21",
   "metadata": {
    "scrolled": true
   },
   "outputs": [
    {
     "name": "stdout",
     "output_type": "stream",
     "text": [
      "9.123\n"
     ]
    }
   ],
   "source": [
    "# index 3 element (fourth element)\n",
    "print(t[3])"
   ]
  },
  {
   "cell_type": "code",
   "execution_count": 19,
   "id": "e93a7946-f402-4925-9d87-465cb0c5a92e",
   "metadata": {},
   "outputs": [
    {
     "name": "stdout",
     "output_type": "stream",
     "text": [
      "(True, 9.123, 'NY')\n"
     ]
    }
   ],
   "source": [
    "# index=2,3,4\n",
    "print(t[2:5])"
   ]
  },
  {
   "cell_type": "code",
   "execution_count": 20,
   "id": "01f78810-72f2-4285-ac53-7ffe0482117f",
   "metadata": {},
   "outputs": [
    {
     "name": "stdout",
     "output_type": "stream",
     "text": [
      "('NY', 'NJ', 100)\n"
     ]
    }
   ],
   "source": [
    "# index=-4,-3,-2\n",
    "print(t[-4:-1])"
   ]
  },
  {
   "cell_type": "code",
   "execution_count": 21,
   "id": "695e1aad-af4c-42ff-81b4-13bf9e6c06df",
   "metadata": {},
   "outputs": [
    {
     "name": "stdout",
     "output_type": "stream",
     "text": [
      "(9.123, 'NY', 'NJ', 100, False)\n"
     ]
    }
   ],
   "source": [
    "# slice starting from the index 3 element and all the way to the end\n",
    "print(t[3:])"
   ]
  },
  {
   "cell_type": "markdown",
   "id": "52f8aafa-5846-456f-a871-39362bbba662",
   "metadata": {},
   "source": [
    "**Remark**\n",
    "- There is a difference between index -1 element and  slice [-1:].\n",
    "- Both of them point to the last element of the tuple.\n",
    "- The first one returns the last element whereas later one returns a length one tuple with the last element."
   ]
  },
  {
   "cell_type": "code",
   "execution_count": 22,
   "id": "c667285e-b397-41b2-aba5-d413af00c784",
   "metadata": {},
   "outputs": [
    {
     "name": "stdout",
     "output_type": "stream",
     "text": [
      "index -1 element: False, type: <class 'bool'>\n",
      "slice [-1:]     : (False,), type: <class 'tuple'>\n"
     ]
    }
   ],
   "source": [
    "print(f'index -1 element: {t[-1]}, type: {type(t[-1])}')     # boolean\n",
    "print(f'slice [-1:]     : {t[-1:]}, type: {type(t[-1:])}')   # tuple\n"
   ]
  },
  {
   "cell_type": "markdown",
   "id": "1af98e0e-6869-497b-9887-44059f3b7b9c",
   "metadata": {},
   "source": [
    "**Remark**\n",
    "- A tuple in a super tuple is a single element of the super tuple.\n",
    "- Its elements are not elements of the super tuple."
   ]
  },
  {
   "cell_type": "code",
   "execution_count": 23,
   "id": "0dd03536-a9b8-43b6-a3b0-3e89c682a60e",
   "metadata": {},
   "outputs": [
    {
     "name": "stdout",
     "output_type": "stream",
     "text": [
      "Length of t       : 5\n",
      "10 is in t        : False\n",
      "(10,20,30) is in t: True\n"
     ]
    }
   ],
   "source": [
    "t = ('USA', 2, True, 9.123, (10,20,30))\n",
    "print(f'Length of t       : {len(t)}')            # (10,20,30) is a single element of t\n",
    "print(f'10 is in t        : {10 in t}')           # 10 is not an element of t\n",
    "print(f'(10,20,30) is in t: {(10,20,30) in t}')   # (10,20,30) is  an element of t"
   ]
  },
  {
   "cell_type": "markdown",
   "id": "4d22c118-0300-45cc-9848-2d7dc40607ab",
   "metadata": {},
   "source": [
    "**Remark**\n",
    "It is possible to access the elements of the sub tyuple by using chain indexing."
   ]
  },
  {
   "cell_type": "code",
   "execution_count": 24,
   "id": "f3551667-916b-4696-b05b-3b97cf2d4ef6",
   "metadata": {},
   "outputs": [
    {
     "name": "stdout",
     "output_type": "stream",
     "text": [
      "t[-1]: (10, 20, 30)\n",
      "t[-1][0]: 10\n",
      "t[-1][1]: 20\n",
      "t[-1][2]: 30\n"
     ]
    }
   ],
   "source": [
    "t = ('USA', 2, True, 9.123, (10,20,30))\n",
    "print(f't[-1]: {t[-1]}')          # t[-1] = (10,20,30) is a tuple\n",
    "print(f't[-1][0]: {t[-1][0]}')    # indexing of t[-1] = (10,20,30)\n",
    "print(f't[-1][1]: {t[-1][1]}')\n",
    "print(f't[-1][2]: {t[-1][2]}')"
   ]
  },
  {
   "cell_type": "markdown",
   "id": "3d152317-242c-4c5d-93ba-24d917fae53c",
   "metadata": {},
   "source": [
    "### Operators on Tuples\n",
    "Operators behave similar to strings.\n",
    "- `+`: Concatenation\n",
    "- `*`: Repetition (only integers used)\n",
    "- `in` and `not in` operators: check whether a value is an element in a tuple.\n",
    "    - Returns a boolean value\n"
   ]
  },
  {
   "cell_type": "markdown",
   "id": "e0f04292-5fb3-4a2f-a576-f4587319517c",
   "metadata": {},
   "source": [
    "**Examples**"
   ]
  },
  {
   "cell_type": "code",
   "execution_count": 25,
   "id": "96cace38-8af6-438e-9e72-ef5104eb8a10",
   "metadata": {},
   "outputs": [],
   "source": [
    "numbers = (1,2,3,4)\n",
    "letters = ('a','b','c','d')"
   ]
  },
  {
   "cell_type": "code",
   "execution_count": 26,
   "id": "c96b5672-440f-4490-9e47-85e6ca29dc12",
   "metadata": {},
   "outputs": [
    {
     "name": "stdout",
     "output_type": "stream",
     "text": [
      "numbers + letters = (1, 2, 3, 4, 'a', 'b', 'c', 'd')\n",
      "numbers           = (1, 2, 3, 4)\n",
      "letters           = ('a', 'b', 'c', 'd')\n"
     ]
    }
   ],
   "source": [
    "# Concatenation returns a new tuple\n",
    "\n",
    "print(f'numbers + letters = {numbers + letters}')\n",
    "print(f'numbers           = {numbers}')       # no change\n",
    "print(f'letters           = {letters}')       # no change"
   ]
  },
  {
   "cell_type": "code",
   "execution_count": 27,
   "id": "85d3f2b5-f2db-46e6-bd8e-188b108c7e00",
   "metadata": {},
   "outputs": [
    {
     "name": "stdout",
     "output_type": "stream",
     "text": [
      "letters*3 = ('a', 'b', 'c', 'd', 'a', 'b', 'c', 'd', 'a', 'b', 'c', 'd')\n",
      "letters   = ('a', 'b', 'c', 'd')\n"
     ]
    }
   ],
   "source": [
    "# Repetition returns a new tuple\n",
    "\n",
    "print(f'letters*3 = {letters*3}')\n",
    "print(f'letters   = {letters}')       # no change"
   ]
  },
  {
   "cell_type": "code",
   "execution_count": 28,
   "id": "1262b6ff-8de0-4b4d-86fd-3ceb66c22a54",
   "metadata": {},
   "outputs": [
    {
     "name": "stdout",
     "output_type": "stream",
     "text": [
      " 5 is in numbers tuple    : False\n",
      " 5 is not in numbers tuple: True\n"
     ]
    }
   ],
   "source": [
    "# Is 5 in  numbers?\n",
    "\n",
    "print(f' 5 is in numbers tuple    : {5  in numbers}' )\n",
    "print(f' 5 is not in numbers tuple: {5  not in numbers}' )"
   ]
  },
  {
   "cell_type": "code",
   "execution_count": 29,
   "id": "a9c9a72d-51e9-4741-b990-71fd641cf84f",
   "metadata": {},
   "outputs": [
    {
     "name": "stdout",
     "output_type": "stream",
     "text": [
      " 3 is in numbers tuple    : True\n",
      " 3 is not in numbers tuple: False\n"
     ]
    }
   ],
   "source": [
    "# Is 3 in  numbers?\n",
    "\n",
    "print(f' 3 is in numbers tuple    : {3  in numbers}' )\n",
    "print(f' 3 is not in numbers tuple: {3  not in numbers}' )"
   ]
  },
  {
   "cell_type": "markdown",
   "id": "5748bc4e-1198-4afd-8dea-9bbfba56efc7",
   "metadata": {
    "jp-MarkdownHeadingCollapsed": true
   },
   "source": [
    "### Immutable\n",
    "Like strings tuples are immutable which means they can not be modified.\n",
    "- For example, if you try to change the first element of a tuple, you will get an error message.\n",
    "\n",
    "``` python\n",
    "# ERROR:  try to change the first element, which has an index of 0.\n",
    "t = (1,2,3,4)\n",
    "t[0] = 100  \n",
    "```"
   ]
  },
  {
   "cell_type": "markdown",
   "id": "91ab38d2-9137-4174-8150-0d4e84e91801",
   "metadata": {},
   "source": [
    "### Tuple Methods\n",
    "- Except the magic methods (the ones with the underscores) there are only two methods of tuples."
   ]
  },
  {
   "cell_type": "code",
   "execution_count": 30,
   "id": "9a113538-55c0-43e5-aa8e-e8c2e5f22ffa",
   "metadata": {},
   "outputs": [
    {
     "name": "stdout",
     "output_type": "stream",
     "text": [
      "['__add__', '__class__', '__class_getitem__', '__contains__', '__delattr__', '__dir__', '__doc__', '__eq__', '__format__', '__ge__', '__getattribute__', '__getitem__', '__getnewargs__', '__getstate__', '__gt__', '__hash__', '__init__', '__init_subclass__', '__iter__', '__le__', '__len__', '__lt__', '__mul__', '__ne__', '__new__', '__reduce__', '__reduce_ex__', '__repr__', '__rmul__', '__setattr__', '__sizeof__', '__str__', '__subclasshook__', 'count', 'index']\n"
     ]
    }
   ],
   "source": [
    "# methods of tuples\n",
    "print(dir(tuple))"
   ]
  },
  {
   "cell_type": "markdown",
   "id": "63c10d02-3379-4305-a627-eeedc3ca9648",
   "metadata": {},
   "source": [
    "#### count()\n",
    "- It returns the number of occurence of a given value in a tuple. "
   ]
  },
  {
   "cell_type": "code",
   "execution_count": 31,
   "id": "e728d1f2-eb76-4058-a281-b8f410692491",
   "metadata": {},
   "outputs": [
    {
     "name": "stdout",
     "output_type": "stream",
     "text": [
      "Number of a  in t: 2\n",
      "Number of b  in t: 4\n",
      "Number of c  in t: 1\n",
      "Number of d  in t: 0\n"
     ]
    }
   ],
   "source": [
    "t = ('a','a','b','b','b','b','c')\n",
    "print(f'Number of a  in t: {t.count(\"a\")}')   # use \" instead of ' for a\n",
    "print(f'Number of b  in t: {t.count(\"b\")}')\n",
    "print(f'Number of c  in t: {t.count(\"c\")}')\n",
    "print(f'Number of d  in t: {t.count(\"d\")}')"
   ]
  },
  {
   "cell_type": "markdown",
   "id": "191ed6f5-5723-4c70-a0a9-8d292c5de910",
   "metadata": {},
   "source": [
    "#### index()\n",
    "- It returns the index of a given value in a tuple.\n",
    "- It gives an error message if value is not in the tuple.\n",
    "- If an element is repeated, the smallest index will be returned."
   ]
  },
  {
   "cell_type": "code",
   "execution_count": 32,
   "id": "13ee29ee-e7ec-4c8f-9dcb-a8abd2def69b",
   "metadata": {},
   "outputs": [
    {
     "name": "stdout",
     "output_type": "stream",
     "text": [
      "The index of a in t: 0\n",
      "The index of b in t: 1\n",
      "The index of c in t: 2\n"
     ]
    }
   ],
   "source": [
    "t = ('a','b','c', 'a')\n",
    "print(f'The index of a in t: {t.index(\"a\")}')   # index of first a\n",
    "print(f'The index of b in t: {t.index(\"b\")}') \n",
    "print(f'The index of c in t: {t.index(\"c\")}') \n",
    "# print(f'The index of d in t: {t.index(\"d\")}')  ---> ERROR"
   ]
  },
  {
   "cell_type": "markdown",
   "id": "54cbbfee-f0e3-4096-9887-728c944670f4",
   "metadata": {},
   "source": [
    "## Lists\n",
    "Lists are similar to the tuples and they are also ordered sequence of values of mixed types. \n",
    "The indexing, slicing, functions on them are all similar to tuples.\n",
    "The main difference are:\n",
    "- Lists are created by using square brackets.\n",
    "- Lists are mutable so they can be modified. This is the main difference.\n",
    "- Since lists can be modified they have a large number of methods.\n",
    "- The built-in `list()` function can be used to convert an appropriate data types into a `list`.\n",
    "- `[]` ia an empty list."
   ]
  },
  {
   "cell_type": "markdown",
   "id": "8e975891-eb32-4158-8b79-92858f1505d3",
   "metadata": {},
   "source": [
    "### Create Lists"
   ]
  },
  {
   "cell_type": "code",
   "execution_count": 33,
   "id": "da216b0d-ebc7-48db-96c9-40b03967cd7b",
   "metadata": {},
   "outputs": [
    {
     "name": "stdout",
     "output_type": "stream",
     "text": [
      "<class 'list'>\n"
     ]
    }
   ],
   "source": [
    "# empty list\n",
    "empty_list = []\n",
    "\n",
    "print(type(empty_list))"
   ]
  },
  {
   "cell_type": "code",
   "execution_count": 34,
   "id": "ca60433a-c536-4cba-80c2-7eece30002f7",
   "metadata": {},
   "outputs": [
    {
     "name": "stdout",
     "output_type": "stream",
     "text": [
      "<class 'list'>\n"
     ]
    }
   ],
   "source": [
    "# list with mixed values: str, int, bool, float\n",
    "\n",
    "mixed_list = ['USA', 2, True, 9.123]       \n",
    "print(type(mixed_list))"
   ]
  },
  {
   "cell_type": "code",
   "execution_count": 35,
   "id": "1a0ede9c-fb95-4e3d-bd5a-c95a1e30134e",
   "metadata": {},
   "outputs": [
    {
     "name": "stdout",
     "output_type": "stream",
     "text": [
      "<class 'list'>\n"
     ]
    }
   ],
   "source": [
    "# tuple and list in a list\n",
    "# list with mixed values: str, int, bool, float, tuple, list\n",
    "# (10,20,30) is a tuple and ['a','b'] is a list in the list mixed_list.\n",
    "\n",
    "mixed_list = ['USA', 2, True, 9.123, (10,20,30), ['a','b']]       \n",
    "print(type(mixed_list))"
   ]
  },
  {
   "cell_type": "markdown",
   "id": "e573f1c4-6ee6-4200-8465-d3f7c6925ec6",
   "metadata": {},
   "source": [
    "### list() function\n",
    "- The built-in `list()` function converts a string to a list which consists of the characters of the string as its values."
   ]
  },
  {
   "cell_type": "code",
   "execution_count": 36,
   "id": "904b567f-3d65-46a5-a353-70ead69b7a88",
   "metadata": {},
   "outputs": [
    {
     "name": "stdout",
     "output_type": "stream",
     "text": [
      "Type of char_list: <class 'list'>\n",
      "char_list        : ['H', 'e', 'l', 'l', 'o']\n"
     ]
    }
   ],
   "source": [
    "char_list = list('Hello')  # convert string to tuple\n",
    "\n",
    "print(f'Type of char_list: {type(char_list)}')\n",
    "print(f'char_list        : {char_list}')"
   ]
  },
  {
   "cell_type": "markdown",
   "id": "b3e9211f-7764-415a-8a26-47376b340745",
   "metadata": {},
   "source": [
    "- The built-in `list()` function converts a range to a list which hides a sequence of numbers in it."
   ]
  },
  {
   "cell_type": "code",
   "execution_count": 37,
   "id": "748c597b-d037-48d7-9340-3834ace2f190",
   "metadata": {},
   "outputs": [
    {
     "name": "stdout",
     "output_type": "stream",
     "text": [
      "Type of r: <class 'range'>\n",
      "r        : range(2, 8)\n"
     ]
    }
   ],
   "source": [
    "r = range(2,8)    # 2,3,4,5,6,7 are  hidden in r\n",
    "\n",
    "print(f'Type of r: {type(r)}')\n",
    "print(f'r        : {r}')"
   ]
  },
  {
   "cell_type": "code",
   "execution_count": 38,
   "id": "2114e575-451b-43d7-9d0a-c44846344294",
   "metadata": {},
   "outputs": [
    {
     "name": "stdout",
     "output_type": "stream",
     "text": [
      "Type of num_char: <class 'list'>\n",
      "num_char        : [2, 3, 4, 5, 6, 7]\n"
     ]
    }
   ],
   "source": [
    "num_char = list(r)     # convert range to list\n",
    "\n",
    "print(f'Type of num_char: {type(num_char)}')\n",
    "print(f'num_char        : {num_char}')"
   ]
  },
  {
   "cell_type": "markdown",
   "id": "2d719139-15a1-4c1c-8446-15ed4f452e7c",
   "metadata": {},
   "source": [
    "- The built-in `list()` function converts a tuple to a list.\n"
   ]
  },
  {
   "cell_type": "code",
   "execution_count": 39,
   "id": "3c50470d-bb69-4c01-9578-945799e6199d",
   "metadata": {},
   "outputs": [
    {
     "name": "stdout",
     "output_type": "stream",
     "text": [
      "Type of sampleList: <class 'list'>\n",
      "sample_list       : [10, 20, 30]\n"
     ]
    }
   ],
   "source": [
    "t = (10,20,30)\n",
    "\n",
    "sample_list = list(t)   # tuple ---> list\n",
    "\n",
    "print(f'Type of sampleList: {type(sample_list)}')\n",
    "print(f'sample_list       : {sample_list}')"
   ]
  },
  {
   "cell_type": "markdown",
   "id": "bfdb8c5d-b223-4fc2-8541-04c582e8a43e",
   "metadata": {},
   "source": [
    "- The built-in `tuple()` function converts a list to a tuple."
   ]
  },
  {
   "cell_type": "code",
   "execution_count": 40,
   "id": "da6504b8-922e-4197-8248-88605fe86aa5",
   "metadata": {},
   "outputs": [
    {
     "name": "stdout",
     "output_type": "stream",
     "text": [
      "Type of t: <class 'tuple'>\n",
      "t       : (10, 20, 30)\n"
     ]
    }
   ],
   "source": [
    "sample_list = [10,20,30]\n",
    "\n",
    "t = tuple(sample_list)   # list ---> tuple\n",
    "\n",
    "print(f'Type of t: {type(t)}')\n",
    "print(f't       : {t}')"
   ]
  },
  {
   "cell_type": "code",
   "execution_count": null,
   "id": "20c9bdab-adef-4d6a-a34f-be33c1318fef",
   "metadata": {},
   "outputs": [],
   "source": []
  },
  {
   "cell_type": "markdown",
   "id": "9b03bada-b0a3-4330-a0f7-51089bb812bb",
   "metadata": {},
   "source": [
    "### Functions on lists\n",
    "- len(), max(), min(), sum() functions behave similaarly for lists."
   ]
  },
  {
   "cell_type": "code",
   "execution_count": 41,
   "id": "ab77d005-0755-4b41-8fe8-eed6a7c59bd5",
   "metadata": {},
   "outputs": [
    {
     "name": "stdout",
     "output_type": "stream",
     "text": [
      "Length : 6\n",
      "Maximum: 9\n",
      "Minimum: 1\n",
      "Sum    : 30\n"
     ]
    }
   ],
   "source": [
    "numbers = [7,3,1,9,6,4]\n",
    "\n",
    "print(f'Length : {len(numbers)}')\n",
    "print(f'Maximum: {max(numbers)}')\n",
    "print(f'Minimum: {min(numbers)}')\n",
    "print(f'Sum    : {sum(numbers)}')"
   ]
  },
  {
   "cell_type": "code",
   "execution_count": 42,
   "id": "6050eed2-2f67-4605-98e6-bfe01f87c728",
   "metadata": {},
   "outputs": [
    {
     "name": "stdout",
     "output_type": "stream",
     "text": [
      "Length : 5\n",
      "Maximum: t\n",
      "Minimum: a\n"
     ]
    }
   ],
   "source": [
    "letters = ['r', 't', 'n', 'a', 'd']\n",
    "\n",
    "print(f'Length : {len(letters)}')\n",
    "print(f'Maximum: {max(letters)}')    # dictionary order\n",
    "print(f'Minimum: {min(letters)}')"
   ]
  },
  {
   "cell_type": "markdown",
   "id": "c3666c5b-9d7a-43d2-9d09-e815d47191c7",
   "metadata": {},
   "source": [
    "### Indexing and Slicing\n",
    "- It is similar to strings and tuples. "
   ]
  },
  {
   "cell_type": "code",
   "execution_count": 43,
   "id": "a94959d1-2b32-455f-b4be-d74ced9dd03a",
   "metadata": {},
   "outputs": [],
   "source": [
    "mixed_list = ['USA', 2, True, 9.123, 'NY', 'NJ', 100, False]"
   ]
  },
  {
   "cell_type": "markdown",
   "id": "81eb4095-0af8-40b3-90ee-882c7f88c0d2",
   "metadata": {},
   "source": [
    "**Examples**"
   ]
  },
  {
   "cell_type": "code",
   "execution_count": 44,
   "id": "e8735d59-2cb0-4987-87e4-f8022fccdaa6",
   "metadata": {},
   "outputs": [
    {
     "name": "stdout",
     "output_type": "stream",
     "text": [
      "USA\n"
     ]
    }
   ],
   "source": [
    "# first element\n",
    "print(mixed_list[0])"
   ]
  },
  {
   "cell_type": "code",
   "execution_count": 45,
   "id": "d3b13d95-bd7e-4c92-8544-ddfdc75e28d7",
   "metadata": {},
   "outputs": [
    {
     "name": "stdout",
     "output_type": "stream",
     "text": [
      "False\n"
     ]
    }
   ],
   "source": [
    "# last element\n",
    "print(mixed_list[-1])"
   ]
  },
  {
   "cell_type": "code",
   "execution_count": 46,
   "id": "74690e7a-7ffd-4a4c-acdf-8c07536c396b",
   "metadata": {},
   "outputs": [
    {
     "name": "stdout",
     "output_type": "stream",
     "text": [
      "9.123\n"
     ]
    }
   ],
   "source": [
    "# index 3 element (fourth element)\n",
    "print(mixed_list[3])"
   ]
  },
  {
   "cell_type": "code",
   "execution_count": 47,
   "id": "075ab727-a3f2-4631-bbad-f9c3a13d7061",
   "metadata": {},
   "outputs": [
    {
     "name": "stdout",
     "output_type": "stream",
     "text": [
      "[True, 9.123, 'NY']\n"
     ]
    }
   ],
   "source": [
    "# index=2,3,4\n",
    "print(mixed_list[2:5])"
   ]
  },
  {
   "cell_type": "code",
   "execution_count": 48,
   "id": "c53e9350-ef9a-4cff-8185-f66217107686",
   "metadata": {},
   "outputs": [
    {
     "name": "stdout",
     "output_type": "stream",
     "text": [
      "['NY', 'NJ', 100]\n"
     ]
    }
   ],
   "source": [
    "# index=-4,-3,-2\n",
    "print(mixed_list[-4:-1])"
   ]
  },
  {
   "cell_type": "code",
   "execution_count": 49,
   "id": "accbba2f-b4e6-4920-a0fc-3d3d91ce68d3",
   "metadata": {},
   "outputs": [
    {
     "name": "stdout",
     "output_type": "stream",
     "text": [
      "[9.123, 'NY', 'NJ', 100, False]\n"
     ]
    }
   ],
   "source": [
    "# slice starting from the index 3 element and all the way to the end\n",
    "print(mixed_list[3:])"
   ]
  },
  {
   "cell_type": "markdown",
   "id": "87cb8c73-580b-43e3-a3fc-d1d27ceb7787",
   "metadata": {},
   "source": [
    "**Remark**\n",
    "- There is a difference between index -1 element and  slice [-1:].\n",
    "- Both of them point to the last element of the list.\n",
    "- The first one returns the last element whereas later one returns a length one list with the last element."
   ]
  },
  {
   "cell_type": "code",
   "execution_count": 50,
   "id": "e18fe5da-3b98-44cb-83db-9d73c9b7c643",
   "metadata": {},
   "outputs": [
    {
     "name": "stdout",
     "output_type": "stream",
     "text": [
      "index -1 element: False, type: <class 'bool'>\n",
      "slice [-1:]     : [False], type: <class 'list'>\n"
     ]
    }
   ],
   "source": [
    "print(f'index -1 element: {mixed_list[-1]}, type: {type(mixed_list[-1])}')     # boolean\n",
    "print(f'slice [-1:]     : {mixed_list[-1:]}, type: {type(mixed_list[-1:])}')   # list\n"
   ]
  },
  {
   "cell_type": "markdown",
   "id": "a11c163a-543b-44e9-8622-b31015b76907",
   "metadata": {},
   "source": [
    "**Remark**\n",
    "- A tuple in a list is a single element of the list.\n",
    "- Its elements are not elements of the list."
   ]
  },
  {
   "cell_type": "code",
   "execution_count": 51,
   "id": "fe7af9b9-e70f-499f-ba96-d060b0b90f65",
   "metadata": {},
   "outputs": [
    {
     "name": "stdout",
     "output_type": "stream",
     "text": [
      "Length of mixed_list       : 5\n",
      "10 is in mixed_list        : False\n",
      "(10,20,30) is in mixed_list: True\n"
     ]
    }
   ],
   "source": [
    "mixed_list = ['USA', 2, True, 9.123, (10,20,30)]\n",
    "print(f'Length of mixed_list       : {len(mixed_list)}')            # (10,20,30) is a single element of mixed_list\n",
    "print(f'10 is in mixed_list        : {10 in mixed_list}')           # 10 is not an element of mixed_list\n",
    "print(f'(10,20,30) is in mixed_list: {(10,20,30) in mixed_list}')   # (10,20,30) is  an element of mixed_list"
   ]
  },
  {
   "cell_type": "markdown",
   "id": "35ea2336-b939-482c-b1b1-d661d12360f8",
   "metadata": {},
   "source": [
    "**Remark**\n",
    "It is possible to access the elements of the stuple by using chain indexing."
   ]
  },
  {
   "cell_type": "code",
   "execution_count": 52,
   "id": "5c7e8953-9f16-4ce5-b27d-76316300fa6c",
   "metadata": {},
   "outputs": [
    {
     "name": "stdout",
     "output_type": "stream",
     "text": [
      "mixed_list[-1]: (10, 20, 30)\n",
      "mixed_list[-1][0]: 10\n",
      "mixed_list[-1][1]: 20\n",
      "mixed_list[-1][2]: 30\n"
     ]
    }
   ],
   "source": [
    "mixed_list = ['USA', 2, True, 9.123, (10,20,30)]\n",
    "print(f'mixed_list[-1]: {mixed_list[-1]}')          # mixed_list[-1] = (10,20,30) is a tuple\n",
    "print(f'mixed_list[-1][0]: {mixed_list[-1][0]}')    # indexing of t[-1] = (10,20,30)\n",
    "print(f'mixed_list[-1][1]: {mixed_list[-1][1]}')\n",
    "print(f'mixed_list[-1][2]: {mixed_list[-1][2]}')"
   ]
  },
  {
   "cell_type": "markdown",
   "id": "904fedf3-7c4d-4c1d-b17c-2e2b8ae10e3f",
   "metadata": {},
   "source": [
    "### Operators on Lists\n",
    "The operators  `+`, `*`, `in` and `not in`  behave similar to strings and tuples.\n"
   ]
  },
  {
   "cell_type": "markdown",
   "id": "a6d29b94-ffbf-4337-874c-a21b1f0c4637",
   "metadata": {},
   "source": [
    "**Examples**"
   ]
  },
  {
   "cell_type": "code",
   "execution_count": 53,
   "id": "cfaac318-3e3e-4ed2-ae0e-9fdfb027440a",
   "metadata": {},
   "outputs": [],
   "source": [
    "numbers = [1,2,3,4]\n",
    "letters = ['a','b','c','d']"
   ]
  },
  {
   "cell_type": "code",
   "execution_count": 54,
   "id": "b9bf18c2-f347-4d42-adca-67cbcef31e26",
   "metadata": {},
   "outputs": [
    {
     "name": "stdout",
     "output_type": "stream",
     "text": [
      "numbers + letters = [1, 2, 3, 4, 'a', 'b', 'c', 'd']\n",
      "numbers           = [1, 2, 3, 4]\n",
      "letters           = ['a', 'b', 'c', 'd']\n"
     ]
    }
   ],
   "source": [
    "# Concatenation returns a new list\n",
    "\n",
    "print(f'numbers + letters = {numbers + letters}')\n",
    "print(f'numbers           = {numbers}')       # no change\n",
    "print(f'letters           = {letters}')       # no change"
   ]
  },
  {
   "cell_type": "code",
   "execution_count": 55,
   "id": "7af6f755-7bb9-4759-9b25-85e889127975",
   "metadata": {},
   "outputs": [
    {
     "name": "stdout",
     "output_type": "stream",
     "text": [
      "letters*3 = ['a', 'b', 'c', 'd', 'a', 'b', 'c', 'd', 'a', 'b', 'c', 'd']\n",
      "letters   = ['a', 'b', 'c', 'd']\n"
     ]
    }
   ],
   "source": [
    "# Repetition returns a new list\n",
    "\n",
    "print(f'letters*3 = {letters*3}')\n",
    "print(f'letters   = {letters}')       # no change"
   ]
  },
  {
   "cell_type": "code",
   "execution_count": 56,
   "id": "39f8365c-4a06-4684-80a5-9886d79279ba",
   "metadata": {},
   "outputs": [
    {
     "name": "stdout",
     "output_type": "stream",
     "text": [
      " 5 is in numbers list    : False\n",
      " 5 is not in numbers list: True\n"
     ]
    }
   ],
   "source": [
    "# Is 5 in  numbers?\n",
    "\n",
    "print(f' 5 is in numbers list    : {5  in numbers}' )\n",
    "print(f' 5 is not in numbers list: {5  not in numbers}' )"
   ]
  },
  {
   "cell_type": "code",
   "execution_count": 57,
   "id": "dd8cd252-88a2-4059-a684-23881c49ceb3",
   "metadata": {},
   "outputs": [
    {
     "name": "stdout",
     "output_type": "stream",
     "text": [
      " 3 is in numbers list    : True\n",
      " 3 is not in numbers list: False\n"
     ]
    }
   ],
   "source": [
    "# Is 3 in  numbers?\n",
    "\n",
    "print(f' 3 is in numbers list    : {3  in numbers}' )\n",
    "print(f' 3 is not in numbers list: {3  not in numbers}' )"
   ]
  },
  {
   "cell_type": "markdown",
   "id": "7680f1ea-08c8-4186-aef9-a58a8b5efc70",
   "metadata": {},
   "source": [
    "### Mutable\n",
    "Unlike strings and tuples lists are mutable which means they can  be modified.\n",
    "- By using the list methods new elements can be added, existing ones can be removed and order of the lements can be changed. \n",
    "- For example, you can change the first element of a given list as follows:"
   ]
  },
  {
   "cell_type": "code",
   "execution_count": 58,
   "id": "301c53b7-15ee-450f-afed-43fd2043c099",
   "metadata": {},
   "outputs": [
    {
     "name": "stdout",
     "output_type": "stream",
     "text": [
      "[99, 2, 3, 4]\n"
     ]
    }
   ],
   "source": [
    "numbers = [1,2,3,4]\n",
    "numbers[0] = 99   # first element is changed to 99\n",
    "print(numbers)"
   ]
  },
  {
   "cell_type": "markdown",
   "id": "b04c1b1b-a749-49c5-be32-d5a3fbb7e87f",
   "metadata": {},
   "source": [
    "### List Methods\n",
    "- Except the magic methods (the ones with the underscores) there are 11 methods of lists."
   ]
  },
  {
   "cell_type": "code",
   "execution_count": 59,
   "id": "49215cc1-6d9b-4dce-9092-bbb840317051",
   "metadata": {},
   "outputs": [
    {
     "name": "stdout",
     "output_type": "stream",
     "text": [
      "['__add__', '__class__', '__class_getitem__', '__contains__', '__delattr__', '__delitem__', '__dir__', '__doc__', '__eq__', '__format__', '__ge__', '__getattribute__', '__getitem__', '__getstate__', '__gt__', '__hash__', '__iadd__', '__imul__', '__init__', '__init_subclass__', '__iter__', '__le__', '__len__', '__lt__', '__mul__', '__ne__', '__new__', '__reduce__', '__reduce_ex__', '__repr__', '__reversed__', '__rmul__', '__setattr__', '__setitem__', '__sizeof__', '__str__', '__subclasshook__', 'append', 'clear', 'copy', 'count', 'extend', 'index', 'insert', 'pop', 'remove', 'reverse', 'sort']\n"
     ]
    }
   ],
   "source": [
    "# methods of lists\n",
    "# dir() returns a list\n",
    "\n",
    "print(dir(list))"
   ]
  },
  {
   "cell_type": "code",
   "execution_count": 60,
   "id": "84c46195-2f65-4762-85e9-189cf1476149",
   "metadata": {},
   "outputs": [
    {
     "name": "stdout",
     "output_type": "stream",
     "text": [
      "['append', 'clear', 'copy', 'count', 'extend', 'index', 'insert', 'pop', 'remove', 'reverse', 'sort']\n"
     ]
    }
   ],
   "source": [
    "# non magic methods by using slicing\n",
    "print(dir(list)[-11:])"
   ]
  },
  {
   "cell_type": "markdown",
   "id": "a9e438d8-7a06-4ff2-b1ae-5049a861326d",
   "metadata": {},
   "source": [
    "#### append()\n",
    "It adds a new element to a list. The new element will be the last element of  the list. "
   ]
  },
  {
   "cell_type": "code",
   "execution_count": 61,
   "id": "21ee403d-7aae-4d1e-a7e6-dfab430d1767",
   "metadata": {},
   "outputs": [
    {
     "name": "stdout",
     "output_type": "stream",
     "text": [
      "numbers list before using append(): [10, 20, 30]\n",
      "numbers list after using append() : [10, 20, 30, 99]\n"
     ]
    }
   ],
   "source": [
    "numbers = [10,20,30]\n",
    "print(f'numbers list before using append(): {numbers}')\n",
    "\n",
    "# add 99 to numbers list\n",
    "numbers.append(99)\n",
    "\n",
    "print(f'numbers list after using append() : {numbers}')\n"
   ]
  },
  {
   "cell_type": "markdown",
   "id": "36d77fa7-30a4-4691-b2fa-b9798fd3dad1",
   "metadata": {},
   "source": [
    "#### clear()\n",
    "It removes all elements from the list and it becomes an empty list."
   ]
  },
  {
   "cell_type": "code",
   "execution_count": 62,
   "id": "4a331ae0-e744-48e4-b5ec-8bcf745765a3",
   "metadata": {},
   "outputs": [
    {
     "name": "stdout",
     "output_type": "stream",
     "text": [
      "numbers list before using clear(): [10, 20, 30]\n",
      "numbers list after using clear() : []\n"
     ]
    }
   ],
   "source": [
    "numbers = [10,20,30]\n",
    "print(f'numbers list before using clear(): {numbers}')\n",
    "\n",
    "# remove all elemenets of numbers list\n",
    "numbers.clear()\n",
    "\n",
    "print(f'numbers list after using clear() : {numbers}')\n"
   ]
  },
  {
   "cell_type": "markdown",
   "id": "94137b0c-34a0-4e44-852f-707c3b1d5419",
   "metadata": {},
   "source": [
    "#### copy()\n",
    "It returns a new list with the same elements."
   ]
  },
  {
   "cell_type": "code",
   "execution_count": 63,
   "id": "1a25e8e4-bf29-4a88-939c-fb89c9a1fb41",
   "metadata": {},
   "outputs": [
    {
     "name": "stdout",
     "output_type": "stream",
     "text": [
      "numbers list     : [10, 20, 30]\n",
      "numbers_copy list: [10, 20, 30]\n"
     ]
    }
   ],
   "source": [
    "numbers = [10,20,30]\n",
    "print(f'numbers list     : {numbers}')\n",
    "\n",
    "# copy of numbers list\n",
    "numbers_copy = numbers.copy()\n",
    "\n",
    "print(f'numbers_copy list: {numbers}')\n"
   ]
  },
  {
   "cell_type": "markdown",
   "id": "ba2887f3-fcdd-4ca9-ad47-f85f8d14be87",
   "metadata": {},
   "source": [
    "#### count()\n",
    "- It returns the number of occurence of a given value in a list. "
   ]
  },
  {
   "cell_type": "code",
   "execution_count": 64,
   "id": "ee46827a-42b5-4751-8830-cb818e69c693",
   "metadata": {},
   "outputs": [
    {
     "name": "stdout",
     "output_type": "stream",
     "text": [
      "Number of 1  in numbers: 2\n",
      "Number of 2  in numbers: 5\n",
      "Number of 3  in numbers: 4\n",
      "Number of 4  in numbers: 1\n",
      "Number of 5  in numbers: 0\n"
     ]
    }
   ],
   "source": [
    "numbers = [1,1,2,2,2,2,2,3,3,3,3,4]\n",
    "print(f'Number of 1  in numbers: {numbers.count(1)}')   \n",
    "print(f'Number of 2  in numbers: {numbers.count(2)}')\n",
    "print(f'Number of 3  in numbers: {numbers.count(3)}')\n",
    "print(f'Number of 4  in numbers: {numbers.count(4)}')\n",
    "print(f'Number of 5  in numbers: {numbers.count(5)}')"
   ]
  },
  {
   "cell_type": "markdown",
   "id": "c35eb2d3-80bb-467c-b29f-10bc59e9fd23",
   "metadata": {},
   "source": [
    "#### extend()\n",
    "It adds all elements of a list to another list.\n",
    "- It is in the form of `list1.extend(list2)`.\n",
    "- All elements of list2 will be added to list1.\n",
    "- No change on list2.\n",
    "  "
   ]
  },
  {
   "cell_type": "code",
   "execution_count": 65,
   "id": "35548e1b-b33a-4fca-bb4d-6472e25e6137",
   "metadata": {},
   "outputs": [
    {
     "name": "stdout",
     "output_type": "stream",
     "text": [
      "letters list before extending: ['a', 'b', 'c', 'd']  ---- numbers list before extending: [10, 20, 30]\n",
      "letters list after extending : ['a', 'b', 'c', 'd']  ---- numbers list after extending : [10, 20, 30, 'a', 'b', 'c', 'd']\n"
     ]
    }
   ],
   "source": [
    "numbers = [10, 20, 30]\n",
    "letters = ['a','b','c','d']\n",
    "print(f'letters list before extending: {letters}  ---- numbers list before extending: {numbers}')\n",
    "\n",
    "numbers.extend(letters)\n",
    "\n",
    "print(f'letters list after extending : {letters}  ---- numbers list after extending : {numbers}')\n"
   ]
  },
  {
   "cell_type": "markdown",
   "id": "80f02643-589c-46ee-a565-8d1c2be4287d",
   "metadata": {},
   "source": [
    "#### index()\n",
    "- It returns the index of a given value in a list.\n",
    "- It gives an error message if value is not in the list.\n",
    "- If an element is repeated, the smallest index will be returned."
   ]
  },
  {
   "cell_type": "code",
   "execution_count": 66,
   "id": "d01a9cd4-4bb4-4625-8f53-c961bee0f943",
   "metadata": {},
   "outputs": [
    {
     "name": "stdout",
     "output_type": "stream",
     "text": [
      "The index of 10 in numbers: 0\n",
      "The index of 20 in numbers: 1\n",
      "The index of 30 in numbers: 2\n"
     ]
    }
   ],
   "source": [
    "numbers = [10, 20, 30,10]\n",
    "print(f'The index of 10 in numbers: {numbers.index(10)}')   # index of first 10\n",
    "print(f'The index of 20 in numbers: {numbers.index(20)}') \n",
    "print(f'The index of 30 in numbers: {numbers.index(30)}') \n",
    "# print(f'The index of 40 in numbers: {numbers.index(40)}')  ---> ERROR"
   ]
  },
  {
   "cell_type": "markdown",
   "id": "de629e34-4440-46c3-be52-3da564f51d16",
   "metadata": {},
   "source": [
    "#### insert()\n",
    "It adds a new value to a list. Apart from the  *append()* method the new value can be added to anywhere in the list.\n",
    "- It is in the form of `insert(index, element)` \n",
    "  - The element will be added to the index position.\n",
    "- Example: insert(3, 'USA') ---> 'USA' will be the index of 3 element in the list."
   ]
  },
  {
   "cell_type": "code",
   "execution_count": 67,
   "id": "53e26c2d-0c0a-4dee-a969-39cc8aa4b66d",
   "metadata": {},
   "outputs": [
    {
     "name": "stdout",
     "output_type": "stream",
     "text": [
      "numbers list before using insert(): [10, 20, 30]\n",
      "numbers list after using index()  : [10, 20, 99, 30]\n"
     ]
    }
   ],
   "source": [
    "numbers = [10,20,30]\n",
    "print(f'numbers list before using insert(): {numbers}')\n",
    "\n",
    "# add 99 to numbers list as index of 2 element\n",
    "numbers.insert(2, 99)   # index of 99 is 2\n",
    "\n",
    "print(f'numbers list after using index()  : {numbers}')"
   ]
  },
  {
   "cell_type": "markdown",
   "id": "a6afe6af-ac09-42fa-b694-fb54bbe59176",
   "metadata": {},
   "source": [
    "#### pop()\n",
    "It removes an element from the list by suing the index of the element. \n",
    "- pop(i): removes the element in the i th index.\n",
    "- pop() : removes the last element.\n",
    "- It also returns the removed element."
   ]
  },
  {
   "cell_type": "code",
   "execution_count": 68,
   "id": "09cb8c7c-d44f-485d-8b0e-c33f328ca160",
   "metadata": {},
   "outputs": [
    {
     "name": "stdout",
     "output_type": "stream",
     "text": [
      "numbers list before using pop(): [10, 20, 30]\n",
      "numbers list after using pop()  : [10, 20]\n"
     ]
    }
   ],
   "source": [
    "numbers = [10,20,30]\n",
    "print(f'numbers list before using pop(): {numbers}')\n",
    "\n",
    "# remove the last element\n",
    "numbers.pop()   # last element (30) is removed.\n",
    "\n",
    "print(f'numbers list after using pop()  : {numbers}')"
   ]
  },
  {
   "cell_type": "code",
   "execution_count": 69,
   "id": "5720c344-1ef2-4831-8d5d-0c492b8af39a",
   "metadata": {},
   "outputs": [
    {
     "name": "stdout",
     "output_type": "stream",
     "text": [
      "numbers list before using pop(1): [10, 20, 30]\n",
      "numbers list after using pop()  : [10, 30]\n"
     ]
    }
   ],
   "source": [
    "numbers = [10,20,30]\n",
    "print(f'numbers list before using pop(1): {numbers}')\n",
    "\n",
    "# remove the index of 1 element which is 20\n",
    "numbers.pop(1)   # 20 is removed.\n",
    "\n",
    "print(f'numbers list after using pop()  : {numbers}')"
   ]
  },
  {
   "cell_type": "markdown",
   "id": "dcb0d7ec-b5cd-4db2-a80b-fdfba50116a7",
   "metadata": {},
   "source": [
    "#### remove()\n",
    "It removes an element from the list by using the value itself not index as in pop().. \n",
    "- If there are more than one given element in the list then the first oone will be removed."
   ]
  },
  {
   "cell_type": "code",
   "execution_count": 70,
   "id": "9af120b2-c203-49d7-a044-abd54c9fd77b",
   "metadata": {},
   "outputs": [
    {
     "name": "stdout",
     "output_type": "stream",
     "text": [
      "numbers list before using remove(): [10, 20, 30]\n",
      "numbers list after using remove()  : [10, 30]\n"
     ]
    }
   ],
   "source": [
    "numbers = [10,20,30]\n",
    "print(f'numbers list before using remove(): {numbers}')\n",
    "\n",
    "# remove 20\n",
    "numbers.remove(20)  \n",
    "\n",
    "print(f'numbers list after using remove()  : {numbers}')"
   ]
  },
  {
   "cell_type": "code",
   "execution_count": 71,
   "id": "e61e33fa-98f0-46fc-9ebe-3b841019ac52",
   "metadata": {},
   "outputs": [
    {
     "name": "stdout",
     "output_type": "stream",
     "text": [
      "numbers list before using remove(): [10, 20, 30, 20]\n",
      "numbers list after using remove()  : [10, 30, 20]\n"
     ]
    }
   ],
   "source": [
    "numbers = [10,20,30,20]\n",
    "print(f'numbers list before using remove(): {numbers}')\n",
    "\n",
    "# remove the first 20\n",
    "numbers.remove(20)  \n",
    "\n",
    "print(f'numbers list after using remove()  : {numbers}')"
   ]
  },
  {
   "cell_type": "markdown",
   "id": "33654625-d108-4ff5-961a-2668873a8b9b",
   "metadata": {},
   "source": [
    "#### reverse()\n",
    "It reverses the order of the elements in a list."
   ]
  },
  {
   "cell_type": "code",
   "execution_count": 72,
   "id": "19b2a7fd-a964-4695-8287-33bfde563241",
   "metadata": {},
   "outputs": [
    {
     "name": "stdout",
     "output_type": "stream",
     "text": [
      "numbers list before using reverse(): [10, 20, 30]\n",
      "numbers list after using reverse() : [30, 20, 10]\n"
     ]
    }
   ],
   "source": [
    "numbers = [10,20,30]\n",
    "print(f'numbers list before using reverse(): {numbers}')\n",
    "\n",
    "# reverse\n",
    "numbers.reverse()  \n",
    "\n",
    "print(f'numbers list after using reverse() : {numbers}')"
   ]
  },
  {
   "cell_type": "markdown",
   "id": "6c02a8cd-4196-4c35-b584-f0b4c4819350",
   "metadata": {},
   "source": [
    "#### sort()\n",
    "It sorts the elements of a list in an ascending or descending order. \n",
    "- If the values are strings than dictionary order will be used."
   ]
  },
  {
   "cell_type": "code",
   "execution_count": 73,
   "id": "7259d3d4-2648-4f83-9327-14f6456be3a6",
   "metadata": {},
   "outputs": [
    {
     "name": "stdout",
     "output_type": "stream",
     "text": [
      "numbers list before using sort(): [10, 3, 9, 2, 5, 12, 1, 8]\n",
      "numbers list after using sort() : [1, 2, 3, 5, 8, 9, 10, 12]\n"
     ]
    }
   ],
   "source": [
    "numbers = [10,3,9,2,5,12,1,8]\n",
    "print(f'numbers list before using sort(): {numbers}')\n",
    "\n",
    "# ascending order\n",
    "numbers.sort()  \n",
    "\n",
    "print(f'numbers list after using sort() : {numbers}')"
   ]
  },
  {
   "cell_type": "code",
   "execution_count": 74,
   "id": "c512c65e-723e-4f28-89b5-8d4954d32d2e",
   "metadata": {},
   "outputs": [
    {
     "name": "stdout",
     "output_type": "stream",
     "text": [
      "numbers list before using sort(): [10, 3, 9, 2, 5, 12, 1, 8]\n",
      "numbers list after using sort() : [12, 10, 9, 8, 5, 3, 2, 1]\n"
     ]
    }
   ],
   "source": [
    "numbers = [10,3,9,2,5,12,1,8]\n",
    "print(f'numbers list before using sort(): {numbers}')\n",
    "\n",
    "# desscending order\n",
    "numbers.sort(reverse=True)  \n",
    "\n",
    "print(f'numbers list after using sort() : {numbers}')"
   ]
  },
  {
   "cell_type": "code",
   "execution_count": 75,
   "id": "8e252507-b234-49a5-b0b7-4c9b6478c3ac",
   "metadata": {},
   "outputs": [
    {
     "name": "stdout",
     "output_type": "stream",
     "text": [
      "numbers list before using sort(): ['y', 'c', 'z', 't', 'd']\n",
      "numbers list after using sort() : ['c', 'd', 't', 'y', 'z']\n"
     ]
    }
   ],
   "source": [
    "letters = ['y', 'c', 'z','t','d']\n",
    "print(f'numbers list before using sort(): {letters}')\n",
    "\n",
    "# dictionary order\n",
    "letters.sort()  \n",
    "\n",
    "print(f'numbers list after using sort() : {letters}')"
   ]
  },
  {
   "cell_type": "code",
   "execution_count": 76,
   "id": "8a787929-5a24-4e41-8039-df40dc45a17b",
   "metadata": {},
   "outputs": [
    {
     "name": "stdout",
     "output_type": "stream",
     "text": [
      "numbers list before using sort(): ['y', 'c', 'z', 't', 'd']\n",
      "numbers list after using sort() : ['z', 'y', 't', 'd', 'c']\n"
     ]
    }
   ],
   "source": [
    "letters = ['y', 'c', 'z','t','d']\n",
    "print(f'numbers list before using sort(): {letters}')\n",
    "\n",
    "# opposite dictionary order\n",
    "letters.sort(reverse=True)  \n",
    "\n",
    "print(f'numbers list after using sort() : {letters}')"
   ]
  },
  {
   "cell_type": "markdown",
   "id": "8d8e21cc-4ad6-4b57-950a-19c577e023b8",
   "metadata": {},
   "source": []
  },
  {
   "cell_type": "code",
   "execution_count": null,
   "id": "05d1df99-507a-4925-b44e-3befe3fe2941",
   "metadata": {},
   "outputs": [],
   "source": []
  },
  {
   "cell_type": "code",
   "execution_count": null,
   "id": "5ef15deb-8617-44aa-90b3-bca51cade474",
   "metadata": {},
   "outputs": [],
   "source": []
  }
 ],
 "metadata": {
  "kernelspec": {
   "display_name": "Python 3 (ipykernel)",
   "language": "python",
   "name": "python3"
  },
  "language_info": {
   "codemirror_mode": {
    "name": "ipython",
    "version": 3
   },
   "file_extension": ".py",
   "mimetype": "text/x-python",
   "name": "python",
   "nbconvert_exporter": "python",
   "pygments_lexer": "ipython3",
   "version": "3.11.7"
  }
 },
 "nbformat": 4,
 "nbformat_minor": 5
}
